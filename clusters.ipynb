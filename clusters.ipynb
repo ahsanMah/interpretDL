{
 "cells": [
  {
   "cell_type": "code",
   "execution_count": 5,
   "metadata": {},
   "outputs": [
    {
     "name": "stderr",
     "output_type": "stream",
     "text": [
      "Using TensorFlow backend.\n"
     ]
    },
    {
     "name": "stdout",
     "output_type": "stream",
     "text": [
      "1.13.1\n"
     ]
    }
   ],
   "source": [
    "from common_imports import *\n",
    "from helper import *\n",
    "\n",
    "# To plot pretty figures\n",
    "%matplotlib widget"
   ]
  },
  {
   "cell_type": "markdown",
   "metadata": {},
   "source": [
    "## Half the data will be split out as validation and 0.2 as the test set"
   ]
  },
  {
   "cell_type": "code",
   "execution_count": 6,
   "metadata": {},
   "outputs": [],
   "source": [
    "\n",
    "def get_split_index(features, labels, test_size=0.2):\n",
    "    features = np.array(features)\n",
    "    # The train set will have equal amounts of each target class\n",
    "    # Performing single split\n",
    "    split = StratifiedShuffleSplit(n_splits=1, test_size=test_size, random_state=42)\n",
    "    return [[train_index, test_index] for train_index,test_index in split.split(features, labels)]\n",
    "\n",
    "def split_valid(features, original_labels, training_labels):\n",
    "    train_index, validation_index = get_split_index(features, original_labels, test_size=0.5)[0]\n",
    "    \n",
    "    X_valid, y_valid, y_valid_original = features.iloc[validation_index],  training_labels.iloc[validation_index], original_labels.iloc[validation_index]\n",
    "    X_train, y_train, y_original = features.iloc[train_index], training_labels.iloc[train_index], original_labels.iloc[train_index]\n",
    "     \n",
    "    return X_train, y_train, y_original, X_valid, y_valid, y_valid_original\n",
    "\n",
    "def get_train_test_val(features, original_labels, training_labels):\n",
    "    \n",
    "    X, y, y_original, X_valid, y_valid, y_valid_original = split_valid(features,original_labels, training_labels)\n",
    "   \n",
    "    train_index, test_index = get_split_index(X, y_original)[0]\n",
    "    X_train = X.iloc[train_index]\n",
    "    y_train = y.iloc[train_index]\n",
    "    X_test = X.iloc[test_index]\n",
    "    y_test = y.iloc[test_index]\n",
    "\n",
    "    return X_train, y_train, X_test, y_test, y_original, X_valid, y_valid, y_valid_original"
   ]
  },
  {
   "cell_type": "markdown",
   "metadata": {},
   "source": [
    "### Train a DNN on the modified dataset"
   ]
  },
  {
   "cell_type": "code",
   "execution_count": 7,
   "metadata": {},
   "outputs": [
    {
     "name": "stdout",
     "output_type": "stream",
     "text": [
      "Creating data...\n"
     ]
    },
    {
     "data": {
      "application/vnd.jupyter.widget-view+json": {
       "model_id": "",
       "version_major": 2,
       "version_minor": 0
      },
      "text/plain": [
       "FigureCanvasNbAgg()"
      ]
     },
     "metadata": {},
     "output_type": "display_data"
    },
    {
     "name": "stdout",
     "output_type": "stream",
     "text": [
      "Train Size: (1600, 2)\n",
      "Test Size: (400,)\n",
      "Categories: [array([0, 1])]\n"
     ]
    }
   ],
   "source": [
    "# Get split returns a generator\n",
    "# List comprehension is one way to evaluate a generator\n",
    "\n",
    "original_data, modded_samples, training_labels, original_labels = helper.simulate_blobs(class_size=2000)\n",
    "\n",
    "# Separating a hold out set that will be used for validation later\n",
    "X_train, y_train, X_test, y_test, y_original, X_valid, y_valid, y_valid_original = get_train_test_val(modded_samples, original_labels, training_labels)\n",
    "\n",
    "\n",
    "print(\"Train Size:\", X_train.shape)\n",
    "print(\"Test Size:\", y_test.shape)\n",
    "\n",
    "\n",
    "hot_encoder = dfHotEncoder()\n",
    "hot_encoder.fit(training_labels)\n",
    "print(\"Categories:\", hot_encoder.categories_)"
   ]
  },
  {
   "cell_type": "code",
   "execution_count": 8,
   "metadata": {},
   "outputs": [],
   "source": [
    "NUM_FEATURES = X_train.shape[1]\n",
    "NUM_LABELS = len(hot_encoder.categories_[0])"
   ]
  },
  {
   "cell_type": "code",
   "execution_count": 9,
   "metadata": {},
   "outputs": [],
   "source": [
    "def build_dnn(num_features, num_labels=3):\n",
    "\n",
    "#     reset_graph()\n",
    "    \n",
    "    keras.backend.clear_session()\n",
    "\n",
    "    nn = keras.models.Sequential()\n",
    "    Dense = keras.layers.Dense\n",
    "    \n",
    "    # Using He initialization\n",
    "    he_init = tf.keras.initializers.he_uniform()\n",
    "    \n",
    "    nn.add(Dense(units = 16, activation=\"elu\", input_dim=num_features,\n",
    "                kernel_initializer=he_init))\n",
    "    nn.add(Dense(units = 16, activation=\"elu\",\n",
    "                kernel_initializer=he_init))\n",
    "#     nn.add(Dense(units = 16, activation=\"elu\",\n",
    "#                 kernel_initializer=he_init))\n",
    "    nn.add(Dense(units=2, activation= \"softmax\",\n",
    "                kernel_initializer=he_init))\n",
    "\n",
    "#     BCE = tf.keras.losses.BinaryCrossentropy(from_logits=True)\n",
    "    \n",
    "    nn.compile(loss=\"categorical_crossentropy\",\n",
    "                  optimizer='sgd',\n",
    "                  metrics=['accuracy'])\n",
    "    \n",
    "    return nn\n",
    "\n",
    "def train_model(model, X, y, X_test=[], y_test=[], epochs=30, batch_size=20, verbose=1, plot=True):\n",
    "    \n",
    "    ZScaler = StandardScaler().fit(X)\n",
    "    \n",
    "    X_train = ZScaler.transform(X)\n",
    "    X_test = ZScaler.transform(X_test)\n",
    "    \n",
    "    y_train = hot_encoder.transform(y)\n",
    "    y_test = hot_encoder.transform(y_test)\n",
    "    \n",
    "#     lr_scheduler = keras.callbacks.LearningRateScheduler(exp_decay)\n",
    "    callback_list = []\n",
    "    \n",
    "    history = model.fit(X_train, y_train, epochs=epochs, batch_size = batch_size,\n",
    "                        validation_data=(X_test, y_test), callbacks=callback_list, verbose=verbose)\n",
    "    \n",
    "#     if plot: plot_history(history)\n",
    "    \n",
    "    return history, ZScaler\n"
   ]
  },
  {
   "cell_type": "code",
   "execution_count": 10,
   "metadata": {},
   "outputs": [
    {
     "name": "stdout",
     "output_type": "stream",
     "text": [
      "WARNING:tensorflow:From /Users/Work/anaconda3/envs/condaflow/lib/python3.6/site-packages/tensorflow/python/framework/op_def_library.py:263: colocate_with (from tensorflow.python.framework.ops) is deprecated and will be removed in a future version.\n",
      "Instructions for updating:\n",
      "Colocations handled automatically by placer.\n",
      "WARNING:tensorflow:From /Users/Work/anaconda3/envs/condaflow/lib/python3.6/site-packages/tensorflow/python/ops/math_ops.py:3066: to_int32 (from tensorflow.python.ops.math_ops) is deprecated and will be removed in a future version.\n",
      "Instructions for updating:\n",
      "Use tf.cast instead.\n",
      "Train on 1600 samples, validate on 400 samples\n",
      "Epoch 1/50\n",
      "1600/1600 [==============================] - 0s 158us/step - loss: 0.4561 - acc: 0.8769 - val_loss: 0.3051 - val_acc: 0.9975\n",
      "Epoch 2/50\n",
      "1600/1600 [==============================] - 0s 45us/step - loss: 0.2359 - acc: 0.9994 - val_loss: 0.1743 - val_acc: 1.0000\n",
      "Epoch 3/50\n",
      "1600/1600 [==============================] - 0s 37us/step - loss: 0.1439 - acc: 1.0000 - val_loss: 0.1126 - val_acc: 1.0000\n",
      "Epoch 4/50\n",
      "1600/1600 [==============================] - 0s 40us/step - loss: 0.0978 - acc: 1.0000 - val_loss: 0.0793 - val_acc: 1.0000\n",
      "Epoch 5/50\n",
      "1600/1600 [==============================] - 0s 37us/step - loss: 0.0717 - acc: 1.0000 - val_loss: 0.0596 - val_acc: 1.0000\n",
      "Epoch 6/50\n",
      "1600/1600 [==============================] - 0s 38us/step - loss: 0.0555 - acc: 1.0000 - val_loss: 0.0468 - val_acc: 1.0000\n",
      "Epoch 7/50\n",
      "1600/1600 [==============================] - 0s 40us/step - loss: 0.0446 - acc: 1.0000 - val_loss: 0.0380 - val_acc: 1.0000\n",
      "Epoch 8/50\n",
      "1600/1600 [==============================] - 0s 38us/step - loss: 0.0370 - acc: 1.0000 - val_loss: 0.0318 - val_acc: 1.0000\n",
      "Epoch 9/50\n",
      "1600/1600 [==============================] - 0s 39us/step - loss: 0.0314 - acc: 1.0000 - val_loss: 0.0271 - val_acc: 1.0000\n",
      "Epoch 10/50\n",
      "1600/1600 [==============================] - 0s 38us/step - loss: 0.0271 - acc: 1.0000 - val_loss: 0.0235 - val_acc: 1.0000\n",
      "Epoch 11/50\n",
      "1600/1600 [==============================] - 0s 39us/step - loss: 0.0237 - acc: 1.0000 - val_loss: 0.0206 - val_acc: 1.0000\n",
      "Epoch 12/50\n",
      "1600/1600 [==============================] - 0s 38us/step - loss: 0.0210 - acc: 1.0000 - val_loss: 0.0183 - val_acc: 1.0000\n",
      "Epoch 13/50\n",
      "1600/1600 [==============================] - 0s 35us/step - loss: 0.0188 - acc: 1.0000 - val_loss: 0.0164 - val_acc: 1.0000\n",
      "Epoch 14/50\n",
      "1600/1600 [==============================] - 0s 41us/step - loss: 0.0170 - acc: 1.0000 - val_loss: 0.0149 - val_acc: 1.0000\n",
      "Epoch 15/50\n",
      "1600/1600 [==============================] - 0s 40us/step - loss: 0.0155 - acc: 1.0000 - val_loss: 0.0136 - val_acc: 1.0000\n",
      "Epoch 16/50\n",
      "1600/1600 [==============================] - 0s 39us/step - loss: 0.0142 - acc: 1.0000 - val_loss: 0.0124 - val_acc: 1.0000\n",
      "Epoch 17/50\n",
      "1600/1600 [==============================] - 0s 36us/step - loss: 0.0131 - acc: 1.0000 - val_loss: 0.0115 - val_acc: 1.0000\n",
      "Epoch 18/50\n",
      "1600/1600 [==============================] - 0s 39us/step - loss: 0.0121 - acc: 1.0000 - val_loss: 0.0106 - val_acc: 1.0000\n",
      "Epoch 19/50\n",
      "1600/1600 [==============================] - 0s 39us/step - loss: 0.0113 - acc: 1.0000 - val_loss: 0.0099 - val_acc: 1.0000\n",
      "Epoch 20/50\n",
      "1600/1600 [==============================] - 0s 39us/step - loss: 0.0105 - acc: 1.0000 - val_loss: 0.0092 - val_acc: 1.0000\n",
      "Epoch 21/50\n",
      "1600/1600 [==============================] - 0s 39us/step - loss: 0.0099 - acc: 1.0000 - val_loss: 0.0087 - val_acc: 1.0000\n",
      "Epoch 22/50\n",
      "1600/1600 [==============================] - 0s 40us/step - loss: 0.0093 - acc: 1.0000 - val_loss: 0.0081 - val_acc: 1.0000\n",
      "Epoch 23/50\n",
      "1600/1600 [==============================] - 0s 38us/step - loss: 0.0088 - acc: 1.0000 - val_loss: 0.0077 - val_acc: 1.0000\n",
      "Epoch 24/50\n",
      "1600/1600 [==============================] - 0s 39us/step - loss: 0.0083 - acc: 1.0000 - val_loss: 0.0073 - val_acc: 1.0000\n",
      "Epoch 25/50\n",
      "1600/1600 [==============================] - 0s 40us/step - loss: 0.0079 - acc: 1.0000 - val_loss: 0.0069 - val_acc: 1.0000\n",
      "Epoch 26/50\n",
      "1600/1600 [==============================] - 0s 41us/step - loss: 0.0075 - acc: 1.0000 - val_loss: 0.0065 - val_acc: 1.0000\n",
      "Epoch 27/50\n",
      "1600/1600 [==============================] - 0s 39us/step - loss: 0.0071 - acc: 1.0000 - val_loss: 0.0062 - val_acc: 1.0000\n",
      "Epoch 28/50\n",
      "1600/1600 [==============================] - 0s 37us/step - loss: 0.0068 - acc: 1.0000 - val_loss: 0.0059 - val_acc: 1.0000\n",
      "Epoch 29/50\n",
      "1600/1600 [==============================] - 0s 42us/step - loss: 0.0065 - acc: 1.0000 - val_loss: 0.0057 - val_acc: 1.0000\n",
      "Epoch 30/50\n",
      "1600/1600 [==============================] - 0s 40us/step - loss: 0.0062 - acc: 1.0000 - val_loss: 0.0054 - val_acc: 1.0000\n",
      "Epoch 31/50\n",
      "1600/1600 [==============================] - 0s 40us/step - loss: 0.0060 - acc: 1.0000 - val_loss: 0.0052 - val_acc: 1.0000\n",
      "Epoch 32/50\n",
      "1600/1600 [==============================] - 0s 38us/step - loss: 0.0057 - acc: 1.0000 - val_loss: 0.0050 - val_acc: 1.0000\n",
      "Epoch 33/50\n",
      "1600/1600 [==============================] - 0s 37us/step - loss: 0.0055 - acc: 1.0000 - val_loss: 0.0048 - val_acc: 1.0000\n",
      "Epoch 34/50\n",
      "1600/1600 [==============================] - 0s 38us/step - loss: 0.0053 - acc: 1.0000 - val_loss: 0.0046 - val_acc: 1.0000\n",
      "Epoch 35/50\n",
      "1600/1600 [==============================] - 0s 37us/step - loss: 0.0051 - acc: 1.0000 - val_loss: 0.0045 - val_acc: 1.0000\n",
      "Epoch 36/50\n",
      "1600/1600 [==============================] - 0s 39us/step - loss: 0.0049 - acc: 1.0000 - val_loss: 0.0043 - val_acc: 1.0000\n",
      "Epoch 37/50\n",
      "1600/1600 [==============================] - 0s 38us/step - loss: 0.0048 - acc: 1.0000 - val_loss: 0.0041 - val_acc: 1.0000\n",
      "Epoch 38/50\n",
      "1600/1600 [==============================] - 0s 38us/step - loss: 0.0046 - acc: 1.0000 - val_loss: 0.0040 - val_acc: 1.0000\n",
      "Epoch 39/50\n",
      "1600/1600 [==============================] - 0s 39us/step - loss: 0.0044 - acc: 1.0000 - val_loss: 0.0039 - val_acc: 1.0000\n",
      "Epoch 40/50\n",
      "1600/1600 [==============================] - 0s 37us/step - loss: 0.0043 - acc: 1.0000 - val_loss: 0.0038 - val_acc: 1.0000\n",
      "Epoch 41/50\n",
      "1600/1600 [==============================] - 0s 36us/step - loss: 0.0042 - acc: 1.0000 - val_loss: 0.0036 - val_acc: 1.0000\n",
      "Epoch 42/50\n",
      "1600/1600 [==============================] - 0s 37us/step - loss: 0.0041 - acc: 1.0000 - val_loss: 0.0035 - val_acc: 1.0000\n",
      "Epoch 43/50\n",
      "1600/1600 [==============================] - 0s 37us/step - loss: 0.0039 - acc: 1.0000 - val_loss: 0.0034 - val_acc: 1.0000\n",
      "Epoch 44/50\n",
      "1600/1600 [==============================] - 0s 40us/step - loss: 0.0038 - acc: 1.0000 - val_loss: 0.0033 - val_acc: 1.0000\n",
      "Epoch 45/50\n",
      "1600/1600 [==============================] - 0s 36us/step - loss: 0.0037 - acc: 1.0000 - val_loss: 0.0032 - val_acc: 1.0000\n",
      "Epoch 46/50\n",
      "1600/1600 [==============================] - 0s 40us/step - loss: 0.0036 - acc: 1.0000 - val_loss: 0.0031 - val_acc: 1.0000\n",
      "Epoch 47/50\n",
      "1600/1600 [==============================] - 0s 39us/step - loss: 0.0035 - acc: 1.0000 - val_loss: 0.0031 - val_acc: 1.0000\n",
      "Epoch 48/50\n",
      "1600/1600 [==============================] - 0s 36us/step - loss: 0.0034 - acc: 1.0000 - val_loss: 0.0030 - val_acc: 1.0000\n",
      "Epoch 49/50\n",
      "1600/1600 [==============================] - 0s 40us/step - loss: 0.0033 - acc: 1.0000 - val_loss: 0.0029 - val_acc: 1.0000\n",
      "Epoch 50/50\n",
      "1600/1600 [==============================] - 0s 43us/step - loss: 0.0033 - acc: 1.0000 - val_loss: 0.0028 - val_acc: 1.0000\n",
      "CPU times: user 5.41 s, sys: 1.55 s, total: 6.97 s\n",
      "Wall time: 3.46 s\n"
     ]
    }
   ],
   "source": [
    "nn = build_dnn(NUM_FEATURES)\n",
    "%time history, Zscaler = train_model(nn, X_train, y_train, X_test, y_test, epochs=50, batch_size=20)"
   ]
  },
  {
   "cell_type": "code",
   "execution_count": 11,
   "metadata": {},
   "outputs": [
    {
     "data": {
      "application/vnd.jupyter.widget-view+json": {
       "model_id": "",
       "version_major": 2,
       "version_minor": 0
      },
      "text/plain": [
       "FigureCanvasNbAgg()"
      ]
     },
     "metadata": {},
     "output_type": "display_data"
    }
   ],
   "source": [
    "# Plotting results from history\n",
    "plot_history(history)"
   ]
  },
  {
   "cell_type": "code",
   "execution_count": 12,
   "metadata": {},
   "outputs": [
    {
     "data": {
      "text/plain": [
       "([array([0.00129008, 0.9987099 ], dtype=float32),\n",
       "  array([0.9906844 , 0.00931566], dtype=float32),\n",
       "  array([0.00126072, 0.9987393 ], dtype=float32),\n",
       "  array([0.99849963, 0.00150036], dtype=float32),\n",
       "  array([0.99799335, 0.0020067 ], dtype=float32)],\n",
       " [1.0, 0.0, 1.0, 0.0, 0.0])"
      ]
     },
     "execution_count": 12,
     "metadata": {},
     "output_type": "execute_result"
    }
   ],
   "source": [
    "preds = [x for x in nn.predict(Zscaler.transform(X_test[:5]))]\n",
    "_labels = [np.float(x) for x in y_test]\n",
    "preds[:5],_labels[:5]"
   ]
  },
  {
   "cell_type": "markdown",
   "metadata": {},
   "source": [
    "## Performing LRP"
   ]
  },
  {
   "cell_type": "code",
   "execution_count": 13,
   "metadata": {},
   "outputs": [
    {
     "name": "stdout",
     "output_type": "stream",
     "text": [
      "Prediction Accuracy\n",
      "2000/2000 [==============================] - 0s 10us/step\n",
      "Scores on data set: loss=0.003 accuracy=1.0000\n",
      "WARNING:tensorflow:From /Users/Work/anaconda3/envs/condaflow/lib/python3.6/site-packages/tensorflow/python/ops/math_grad.py:102: div (from tensorflow.python.ops.math_ops) is deprecated and will be removed in a future version.\n",
      "Instructions for updating:\n",
      "Deprecated in favor of operator or tf.math.divide.\n"
     ]
    }
   ],
   "source": [
    "import innvestigate\n",
    "import innvestigate.utils as iutils\n",
    "\n",
    "def perform_analysis(model, analyzer, data, labels=[]):\n",
    "    analysis = analyzer.analyze(data)\n",
    "    prediction = model.predict(data)\n",
    "    \n",
    "    df_anal = pd.DataFrame(analysis)\n",
    "    \n",
    "    return df_anal\n",
    "\n",
    "\n",
    "scaled_samples = Zscaler.transform(X_valid)\n",
    "\n",
    "# Getting all the samples that can be correctly predicted\n",
    "all_samples, _labels, correct_idxs = getCorrectPredictions(nn, scaled_samples, y_valid, enc = hot_encoder)\n",
    "all_labels = y_valid_original[correct_idxs]\n",
    "\n",
    "\n",
    "# Stripping the softmax activation from the model\n",
    "model_w_softmax = nn\n",
    "model = iutils.keras.graph.model_wo_softmax(model_w_softmax)\n",
    "\n",
    "# Creating an analyzer\n",
    "lrp_E = innvestigate.analyzer.relevance_based.relevance_analyzer.LRPEpsilon(model=model, epsilon=1e-3)\n",
    "lrp_Z = innvestigate.analyzer.relevance_based.relevance_analyzer.LRPZPlus(model=model)\n",
    "lrp_AB   = innvestigate.analyzer.relevance_based.relevance_analyzer.LRPAlpha2Beta1(model=model)\n",
    "\n",
    "\n",
    "\n",
    "# perform_analysis(nn,gradient_analyzer,flowers,types)\n",
    "all_lrp_AB = perform_analysis(model,lrp_AB, all_samples)\n",
    "all_lrp_E = perform_analysis(model,lrp_E, all_samples)\n",
    "all_lrp_Z = perform_analysis(model,lrp_Z, all_samples)\n"
   ]
  },
  {
   "cell_type": "code",
   "execution_count": 14,
   "metadata": {},
   "outputs": [
    {
     "data": {
      "text/plain": [
       "4    1000\n",
       "8     125\n",
       "7     125\n",
       "6     125\n",
       "5     125\n",
       "3     125\n",
       "2     125\n",
       "1     125\n",
       "0     125\n",
       "Name: label, dtype: int64"
      ]
     },
     "execution_count": 14,
     "metadata": {},
     "output_type": "execute_result"
    }
   ],
   "source": [
    "all_labels.value_counts()"
   ]
  },
  {
   "cell_type": "code",
   "execution_count": 15,
   "metadata": {},
   "outputs": [
    {
     "data": {
      "application/vnd.jupyter.widget-view+json": {
       "model_id": "",
       "version_major": 2,
       "version_minor": 0
      },
      "text/plain": [
       "FigureCanvasNbAgg()"
      ]
     },
     "metadata": {},
     "output_type": "display_data"
    }
   ],
   "source": [
    "plt.close(\"Comparison\")\n",
    "fig, axs = plt.subplots(2,2, figsize=(16,10), num=\"Comparison\")\n",
    "cmap = \"Set1\" #\"Paired\"\n",
    "plot_args = {\"kind\":\"scatter\", \"x\":0,  \"y\":1, \"c\":\"label\", \"cmap\": cmap, \"s\":10, \"alpha\":0.25}\n",
    "\n",
    "original_data.plot(ax=axs[0][0],title=\"Original Distribution\", **plot_args)\n",
    "\n",
    "plot_args[\"c\"] = all_labels\n",
    "all_lrp_E.plot(ax=axs[0][1], title=\"LRP E\", **plot_args)\n",
    "\n",
    "all_lrp_AB.plot(ax=axs[1][0], title=\"LRP AB\", **plot_args)\n",
    "all_lrp_Z.plot(ax=axs[1][1], title=\"LRP Z\", **plot_args)\n",
    "\n",
    "plt.tight_layout()\n",
    "plt.show()\n",
    "# plt.savefig(figures_dir+\"multiclass_lrp.png\")"
   ]
  },
  {
   "cell_type": "code",
   "execution_count": null,
   "metadata": {},
   "outputs": [],
   "source": []
  },
  {
   "cell_type": "code",
   "execution_count": 25,
   "metadata": {},
   "outputs": [
    {
     "data": {
      "application/vnd.jupyter.widget-view+json": {
       "model_id": "4c5c702352534be395cbb2e3ff5905b8",
       "version_major": 2,
       "version_minor": 0
      },
      "text/plain": [
       "FigureCanvasNbAgg()"
      ]
     },
     "metadata": {},
     "output_type": "display_data"
    }
   ],
   "source": [
    "plt.close(\"Positive Only LRP\")\n",
    "fig, axs = plt.subplots(1,3, figsize=(18,6), num=\"Positive Only LRP\")\n",
    "\n",
    "plot_args[\"c\"] = \"label\"\n",
    "original_data.plot(ax=axs[0], title=\"Original Distribution\", **plot_args)\n",
    "\n",
    "plot_args[\"c\"] = all_labels\n",
    "all_lrp_E.plot(ax=axs[1], title=\"LRP E\", **plot_args)\n",
    "\n",
    "pos_lrp = all_lrp_E.copy()\n",
    "pos_lrp[pos_lrp<0] = 0\n",
    "pos_lrp[\"label\"] = all_labels.values\n",
    "pos_lrp.plot(ax=axs[2],title=\"LRP E\", **plot_args)\n",
    "\n",
    "plt.tight_layout()\n",
    "plt.show()"
   ]
  },
  {
   "cell_type": "code",
   "execution_count": 15,
   "metadata": {},
   "outputs": [
    {
     "data": {
      "image/png": "[encoded data removed]",
      "text/plain": [
       "<Figure size 1008x1008 with 9 Axes>"
      ]
     },
     "metadata": {
      "needs_background": "light"
     },
     "output_type": "display_data"
    }
   ],
   "source": [
    "plotSeparatedLRP(pos_lrp)"
   ]
  },
  {
   "cell_type": "markdown",
   "metadata": {},
   "source": [
    "# Beginning Clustering using accelerated HDBSCAN*"
   ]
  },
  {
   "cell_type": "code",
   "execution_count": 17,
   "metadata": {},
   "outputs": [],
   "source": [
    "import hdbscan\n",
    "import seaborn as sns\n",
    "%matplotlib widget\n",
    "# sns.set_context('poster')\n",
    "# sns.set_style('white')\n",
    "sns.set_color_codes()\n",
    "plot_kwds = {'alpha' : 0.5, 's' : 80, 'linewidths':0}"
   ]
  },
  {
   "cell_type": "code",
   "execution_count": 18,
   "metadata": {},
   "outputs": [
    {
     "data": {
      "text/plain": [
       "HDBSCAN(algorithm='best', allow_single_cluster=False, alpha=1.0,\n",
       "    approx_min_span_tree=True, cluster_selection_method='eom',\n",
       "    core_dist_n_jobs=4, gen_min_span_tree=False, leaf_size=40,\n",
       "    match_reference_implementation=False, memory=Memory(location=None),\n",
       "    metric='euclidean', min_cluster_size=25, min_samples=None, p=None,\n",
       "    prediction_data=False)"
      ]
     },
     "execution_count": 18,
     "metadata": {},
     "output_type": "execute_result"
    }
   ],
   "source": [
    "clusterer = hdbscan.HDBSCAN(min_cluster_size=25)\n",
    "clusterer.fit(pos_lrp)"
   ]
  },
  {
   "cell_type": "code",
   "execution_count": 19,
   "metadata": {},
   "outputs": [
    {
     "data": {
      "text/plain": [
       "9"
      ]
     },
     "execution_count": 19,
     "metadata": {},
     "output_type": "execute_result"
    }
   ],
   "source": [
    "clusterer.labels_.max()"
   ]
  },
  {
   "cell_type": "code",
   "execution_count": 20,
   "metadata": {},
   "outputs": [
    {
     "data": {
      "application/vnd.jupyter.widget-view+json": {
       "model_id": "6e568b72555b438b8c3162d782eb562f",
       "version_major": 2,
       "version_minor": 0
      },
      "text/plain": [
       "FigureCanvasNbAgg()"
      ]
     },
     "metadata": {},
     "output_type": "display_data"
    },
    {
     "name": "stderr",
     "output_type": "stream",
     "text": [
      "/Users/Work/anaconda3/envs/condaflow/lib/python3.6/site-packages/hdbscan/plots.py:383: UserWarning: Infinite lambda values encountered in chosen clusters. This might be due to duplicates in the data.\n",
      "  warn('Infinite lambda values encountered in chosen clusters.'\n"
     ]
    },
    {
     "data": {
      "text/plain": [
       "<matplotlib.axes._subplots.AxesSubplot at 0x138758b70>"
      ]
     },
     "execution_count": 20,
     "metadata": {},
     "output_type": "execute_result"
    }
   ],
   "source": [
    "plt.close(\"Dendogram\")\n",
    "fig, axs = plt.subplots(1, figsize=(18,8), num=\"Dendogram\")\n",
    "clusterer.condensed_tree_.plot(select_clusters=True, log_size=True,)"
   ]
  },
  {
   "cell_type": "code",
   "execution_count": 52,
   "metadata": {},
   "outputs": [
    {
     "data": {
      "text/plain": [
       "HDBSCAN(algorithm='best', allow_single_cluster=False, alpha=1.0,\n",
       "    approx_min_span_tree=True, cluster_selection_method='eom',\n",
       "    core_dist_n_jobs=4, gen_min_span_tree=False, leaf_size=40,\n",
       "    match_reference_implementation=False, memory=Memory(location=None),\n",
       "    metric='euclidean', min_cluster_size=15, min_samples=None, p=None,\n",
       "    prediction_data=False)"
      ]
     },
     "execution_count": 52,
     "metadata": {},
     "output_type": "execute_result"
    }
   ],
   "source": [
    "data = pos_lrp[[0,1]].values\n",
    "clusterer = hdbscan.HDBSCAN(min_cluster_size=15)\n",
    "clusterer.fit(data)"
   ]
  },
  {
   "cell_type": "code",
   "execution_count": 53,
   "metadata": {},
   "outputs": [
    {
     "data": {
      "text/plain": [
       " 10    529\n",
       "-1     278\n",
       " 2     248\n",
       " 8     205\n",
       " 0     125\n",
       " 1     125\n",
       " 4     124\n",
       " 3     123\n",
       " 6     119\n",
       " 5      57\n",
       " 7      44\n",
       " 9      23\n",
       "dtype: int64"
      ]
     },
     "execution_count": 53,
     "metadata": {},
     "output_type": "execute_result"
    }
   ],
   "source": [
    "num_clusters = clusterer.labels_.max()\n",
    "cluster_labels = pd.Series(clusterer.labels_)\n",
    "cluster_labels.value_counts()"
   ]
  },
  {
   "cell_type": "code",
   "execution_count": 54,
   "metadata": {},
   "outputs": [
    {
     "data": {
      "application/vnd.jupyter.widget-view+json": {
       "model_id": "ce430ace1efd4502afc97c8ed9eedbdb",
       "version_major": 2,
       "version_minor": 0
      },
      "text/plain": [
       "FigureCanvasNbAgg()"
      ]
     },
     "metadata": {},
     "output_type": "display_data"
    },
    {
     "data": {
      "text/plain": [
       "<matplotlib.collections.PathCollection at 0x14c57efd0>"
      ]
     },
     "execution_count": 54,
     "metadata": {},
     "output_type": "execute_result"
    }
   ],
   "source": [
    "plt.close(\"Clusters\")\n",
    "fig, axs = plt.subplots(1, figsize=(20,10), num=\"Clusters\")\n",
    "color_palette = sns.color_palette('deep', num_clusters+1)\n",
    "cluster_colors = [color_palette[x] if x >= 0\n",
    "                  else (0.5, 0.5, 0.5)\n",
    "                  for x in clusterer.labels_]\n",
    "cluster_member_colors = [sns.desaturate(x, p) for x, p in\n",
    "                         zip(cluster_colors, clusterer.probabilities_)]\n",
    "plt.scatter(*data.T, s=50, linewidth=0, c=cluster_member_colors, alpha=0.25)"
   ]
  },
  {
   "cell_type": "code",
   "execution_count": 33,
   "metadata": {},
   "outputs": [],
   "source": [
    "# plt.savefig(figures_dir+\"clusters_elu.png\")"
   ]
  },
  {
   "cell_type": "code",
   "execution_count": 57,
   "metadata": {},
   "outputs": [
    {
     "data": {
      "application/vnd.jupyter.widget-view+json": {
       "model_id": "433020b91e0742cfafe9e3de97fa568c",
       "version_major": 2,
       "version_minor": 0
      },
      "text/plain": [
       "FigureCanvasNbAgg()"
      ]
     },
     "metadata": {},
     "output_type": "display_data"
    },
    {
     "data": {
      "text/plain": [
       "<matplotlib.collections.PathCollection at 0x1378164a8>"
      ]
     },
     "execution_count": 57,
     "metadata": {},
     "output_type": "execute_result"
    }
   ],
   "source": [
    "plt.close(\"Colored Clusters\")\n",
    "fig, axs = plt.subplots(1, figsize=(18,10), num=\"Colored Clusters\")\n",
    "color_palette = sns.color_palette(\"bright\", num_clusters+1)\n",
    "cluster_colors = [color_palette[x] if x >= 0\n",
    "                  else (0, 0, 0)\n",
    "                  for x in clusterer.labels_]\n",
    "cluster_member_colors = [sns.desaturate(x, p) for x, p in\n",
    "                         zip(cluster_colors, clusterer.probabilities_)]\n",
    "plt.scatter(*data.T, s=50, linewidth=0, c=cluster_member_colors, alpha=0.6)"
   ]
  },
  {
   "cell_type": "code",
   "execution_count": 162,
   "metadata": {},
   "outputs": [],
   "source": [
    "# plt.savefig(figures_dir+\"clusters_desaturated.png\")"
   ]
  },
  {
   "cell_type": "markdown",
   "metadata": {},
   "source": [
    "# Scoring Clustering Performance"
   ]
  },
  {
   "cell_type": "code",
   "execution_count": 45,
   "metadata": {},
   "outputs": [],
   "source": [
    "from sklearn import metrics\n",
    "from sklearn.metrics import davies_bouldin_score"
   ]
  },
  {
   "cell_type": "code",
   "execution_count": 94,
   "metadata": {},
   "outputs": [
    {
     "name": "stdout",
     "output_type": "stream",
     "text": [
      "Noise:        13.90%\n",
      "Homogeneity:  0.879\n",
      "Completeness: 0.688\n",
      "V-Measure:    0.772\n",
      "Silhouette:   0.520\n"
     ]
    }
   ],
   "source": [
    "## Number of clusters in labels, ignoring noise if present.\n",
    "n_clusters_ = len(set(cluster_labels)) - (1 if -1 in cluster_labels else 0)\n",
    "noise = list(cluster_labels).count(-1)/len(cluster_labels) * 100\n",
    "\n",
    "hscore,cscore,vscore = metrics.homogeneity_completeness_v_measure(y_valid_original, cluster_labels)\n",
    "sil_score = metrics.silhouette_score(data, cluster_labels, metric=\"euclidean\")\n",
    "\n",
    "print(\"Noise: {:7}{:.2f}%\".format(\"\",noise))\n",
    "print(\"Homogeneity:  {:.3f}\\nCompleteness: {:.3f}\\nV-Measure:    {:.3f}\".format(hscore, cscore, vscore))\n",
    "print(\"Silhouette: {:2}{:.3f}\".format(\"\",sil_score))"
   ]
  },
  {
   "cell_type": "code",
   "execution_count": null,
   "metadata": {},
   "outputs": [],
   "source": []
  }
 ],
 "metadata": {
  "kernelspec": {
   "display_name": "condaflow",
   "language": "python",
   "name": "condaflow"
  },
  "language_info": {
   "codemirror_mode": {
    "name": "ipython",
    "version": 3
   },
   "file_extension": ".py",
   "mimetype": "text/x-python",
   "name": "python",
   "nbconvert_exporter": "python",
   "pygments_lexer": "ipython3",
   "version": "3.6.8"
  }
 },
 "nbformat": 4,
 "nbformat_minor": 2
}
