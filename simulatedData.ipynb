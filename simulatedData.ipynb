{
 "cells": [
  {
   "cell_type": "code",
   "execution_count": 1,
   "metadata": {},
   "outputs": [
    {
     "name": "stderr",
     "output_type": "stream",
     "text": [
      "Using TensorFlow backend.\n"
     ]
    },
    {
     "data": {
      "text/plain": [
       "'1.13.1'"
      ]
     },
     "execution_count": 1,
     "metadata": {},
     "output_type": "execute_result"
    }
   ],
   "source": [
    "import tensorflow as tf\n",
    "import numpy as np\n",
    "import pandas as pd\n",
    "import keras\n",
    "import umap\n",
    "\n",
    "from imblearn.over_sampling import SMOTE\n",
    "from sklearn.model_selection import StratifiedShuffleSplit\n",
    "# Converting labels to 1-Hot Vectors\n",
    "from sklearn.preprocessing import OneHotEncoder\n",
    "from mpl_toolkits.mplot3d import Axes3D\n",
    "\n",
    "\n",
    "import sys\n",
    "# sys.path.append(\"/Users/Work/Developer/interpretDL/interprettensor\")\n",
    "root_logdir = \"./tf_logs\"\n",
    "datadir = \"data/\"\n",
    "\n",
    "# To plot pretty figures\n",
    "%matplotlib widget\n",
    "import matplotlib\n",
    "import matplotlib.pyplot as plt\n",
    "plt.rcParams['axes.labelsize'] = 14\n",
    "plt.rcParams['xtick.labelsize'] = 12\n",
    "plt.rcParams['ytick.labelsize'] = 12\n",
    "\n",
    "# to make this notebook's output stable across runs\n",
    "def reset_graph(seed=42):\n",
    "    tf.reset_default_graph()\n",
    "    tf.set_random_seed(seed)\n",
    "    np.random.seed(seed)\n",
    "\n",
    "np.random.seed(seed=42) \n",
    "tf.__version__"
   ]
  },
  {
   "cell_type": "code",
   "execution_count": 2,
   "metadata": {},
   "outputs": [],
   "source": [
    "# Helper Functions\n",
    "\n",
    "from sklearn.metrics import confusion_matrix\n",
    "from sklearn.utils.multiclass import unique_labels\n",
    "\n",
    "######### Taken from sklearn #######\n",
    "def plot_confusion_matrix(y_true, y_pred, classes,\n",
    "                          normalize=False,\n",
    "                          title=None,\n",
    "                          cmap=plt.cm.Blues):\n",
    "    \"\"\"\n",
    "    This function prints and plots the confusion matrix.\n",
    "    Normalization can be applied by setting `normalize=True`.\n",
    "    \"\"\"\n",
    "    if not title:\n",
    "        if normalize:\n",
    "            title = 'Normalized confusion matrix'\n",
    "        else:\n",
    "            title = 'Confusion matrix, without normalization'\n",
    "\n",
    "    # Compute confusion matrix\n",
    "    cm = confusion_matrix(y_true, y_pred)\n",
    "    # Only use the labels that appear in the data\n",
    "    classes = classes[unique_labels(y_true, y_pred)]\n",
    "    if normalize:\n",
    "        cm = cm.astype('float') / cm.sum(axis=1)[:, np.newaxis]\n",
    "        print(\"Normalized confusion matrix\")\n",
    "    else:\n",
    "        print('Confusion matrix, without normalization')\n",
    "\n",
    "    print(cm)\n",
    "\n",
    "    fig, ax = plt.subplots(figsize=[8,8])\n",
    "    im = ax.imshow(cm, interpolation='nearest', cmap=cmap)\n",
    "    ax.figure.colorbar(im, ax=ax)\n",
    "    # We want to show all ticks...\n",
    "    ax.set(xticks=np.arange(cm.shape[1]),\n",
    "           yticks=np.arange(cm.shape[0]),\n",
    "           # ... and label them with the respective list entries\n",
    "           xticklabels=classes, yticklabels=classes,\n",
    "           title=title,\n",
    "           ylabel='True label',\n",
    "           xlabel='Predicted label')\n",
    "\n",
    "    # Rotate the tick labels and set their alignment.\n",
    "    plt.setp(ax.get_xticklabels(), rotation=45, ha=\"right\",\n",
    "             rotation_mode=\"anchor\")\n",
    "\n",
    "    # Loop over data dimensions and create text annotations.\n",
    "    fmt = '.2f' if normalize else 'd'\n",
    "    thresh = cm.max() / 2.\n",
    "    for i in range(cm.shape[0]):\n",
    "        for j in range(cm.shape[1]):\n",
    "            ax.text(j, i, format(cm[i, j], fmt),\n",
    "                    ha=\"center\", va=\"center\",\n",
    "                    color=\"white\" if cm[i, j] > thresh else \"black\")\n",
    "    fig.tight_layout()\n",
    "    return ax\n",
    "\n",
    "\n",
    "def get1hot(y_train,y_test):\n",
    "    from sklearn.preprocessing import OneHotEncoder\n",
    "\n",
    "    enc = OneHotEncoder(categories=\"auto\", sparse=False)\n",
    "    y_train_1hot = enc.fit_transform([[label] for label in y_train]) # Since the function expects an array of \"features\" per sample\n",
    "    y_test_1hot = enc.fit_transform([[label] for label in y_test])\n",
    "\n",
    "    return y_train_1hot, y_test_1hot\n",
    "\n",
    "def get_split(features, labels):\n",
    "    features = np.array(features)\n",
    "    # The train set will have equal amounts of each target class\n",
    "    split = StratifiedShuffleSplit(n_splits=1, test_size=0.2, random_state=42)\n",
    "    for train_index, test_index in split.split(features, labels):\n",
    "        X_train = features[train_index]\n",
    "        y_train = labels.iloc[train_index]\n",
    "        X_test = features[test_index]\n",
    "        y_test = labels.iloc[test_index]\n",
    "        \n",
    "        yield X_train, y_train, X_test, y_test\n",
    "\n",
    "def plot_history(history):\n",
    "    plt.close()\n",
    "    fig, axs = plt.subplots(1, 2, figsize=(12,6))\n",
    "\n",
    "    # Plot training & validation accuracy values\n",
    "    axs[0].grid(True)\n",
    "    axs[0].plot(history.history['binary_accuracy'])\n",
    "    axs[0].plot(history.history['val_binary_accuracy'])\n",
    "    axs[0].set(title='Model accuracy', ylabel='Accuracy', xlabel='Epoch')\n",
    "    axs[0].legend(['Train', 'Test'], loc='upper left')\n",
    "\n",
    "    # Plot training & validation loss values\n",
    "    axs[1].grid(True)\n",
    "    axs[1].plot(history.history['loss'])\n",
    "    axs[1].plot(history.history['val_loss'])\n",
    "    axs[1].set(title='Model loss',ylabel='Loss', xlabel='Epoch')\n",
    "    axs[1].legend(['Train', 'Test'], loc='upper left')\n",
    "\n",
    "    plt.show()\n",
    "\n",
    "\n",
    "def remove_label(features, labels, label=\"MCI\"):\n",
    "    labels = pd.Series(fused_labels)\n",
    "    non_samples = labels != label\n",
    "\n",
    "    stripped_features = features[non_samples]\n",
    "    stripped_labels = labels[non_samples]\n",
    "\n",
    "    return stripped_features, stripped_labels"
   ]
  },
  {
   "cell_type": "code",
   "execution_count": 3,
   "metadata": {},
   "outputs": [],
   "source": [
    "from sklearn.base import BaseEstimator, TransformerMixin\n",
    "from sklearn.pipeline import Pipeline\n",
    "from sklearn.preprocessing import StandardScaler\n",
    "\n",
    "class AttributeRemover(BaseEstimator, TransformerMixin):\n",
    "    \"\"\"\n",
    "    Returns a copy of matrix with attributes removed\n",
    "    \"\"\"\n",
    "    def __init__(self, attribute_names):\n",
    "        self.attribute_names = attribute_names\n",
    "    \n",
    "    def fit(self, X, y=None):\n",
    "        return # Doesn't do anything\n",
    "    \n",
    "    def transform(self, X, y=None):\n",
    "        return X.drop(columns=self.attribute_names)\n",
    "\n",
    "class OverSampler(BaseEstimator, TransformerMixin):\n",
    "    \"\"\"\n",
    "    Returns a copy of matrix with attributes removed\n",
    "    \"\"\"\n",
    "    def __init__(self, random_state=42):\n",
    "        self.smote = SMOTE(random_state=random_state)\n",
    "    \n",
    "    def fit(self, X, y=None):\n",
    "        return None\n",
    "    \n",
    "    def transform(self, X, y=None):\n",
    "        return self.smote.fit_resample(X,y)\n",
    "\n",
    "class AddNoise(BaseEstimator, TransformerMixin):\n",
    "    \"\"\"\n",
    "    Returns a copy of matrix with attributes removed\n",
    "    \"\"\"\n",
    "    def __init__(self, random_state=42):\n",
    "        self.smote = SMOTE(random_state=random_state)\n",
    "    \n",
    "    def fit(self, X, y=None):\n",
    "        return None\n",
    "    \n",
    "    def transform(self, X, y=None):\n",
    "        return self.smote.fit_resample(X,y)\n",
    "    \n",
    "# Not used\n",
    "train_pipeline = Pipeline([\n",
    "                    (\"smote\", OverSampler()),\n",
    "                    (\"normalizer\", StandardScaler()) ])"
   ]
  },
  {
   "cell_type": "code",
   "execution_count": 129,
   "metadata": {},
   "outputs": [
    {
     "ename": "SyntaxError",
     "evalue": "invalid syntax (<ipython-input-129-5570591d73b2>, line 76)",
     "output_type": "error",
     "traceback": [
      "\u001b[0;36m  File \u001b[0;32m\"<ipython-input-129-5570591d73b2>\"\u001b[0;36m, line \u001b[0;32m76\u001b[0m\n\u001b[0;31m    def make_blobs(class_size = 200)\u001b[0m\n\u001b[0m                                    ^\u001b[0m\n\u001b[0;31mSyntaxError\u001b[0m\u001b[0;31m:\u001b[0m invalid syntax\n"
     ]
    }
   ],
   "source": [
    "'''\n",
    "Returns orginal samples, labels and modded_samples,modded_labels\n",
    "'''\n",
    "def modded_iris():\n",
    "\n",
    "    from sklearn import datasets\n",
    "\n",
    "    iris = datasets.load_iris()\n",
    "\n",
    "    features = pd.DataFrame(iris[\"data\"])\n",
    "    target = pd.Series(iris[\"target\"])\n",
    "    flower_names = iris[\"target_names\"]\n",
    "    feature_names = iris[\"feature_names\"]\n",
    "    print(features.info())\n",
    "\n",
    "    ### Get the first 2 flower samples\n",
    "\n",
    "    setosa = target == 0\n",
    "    versicolor = target == 1\n",
    "    samples = features[setosa | versicolor]\n",
    "    labels = target[setosa | versicolor]\n",
    "    class_size = sum(versicolor)\n",
    "\n",
    "    versicolor_samples = features[versicolor]\n",
    "    versicolor_labels = target[versicolor]\n",
    "    setosa_samples = features[setosa]\n",
    "\n",
    "    ### Splitting *versicolor* into two sub classes\n",
    "\n",
    "    versicolor_samples.describe()\n",
    "\n",
    "    ## Constructing different noise sources\n",
    "    gauss_noise = np.random.normal(loc=1,scale=0.25, size=[class_size//2,2])\n",
    "    gauss_noise[gauss_noise < 0] = 0\n",
    "    unif_noise = np.random.uniform(low=0,high=1)\n",
    "    constant = 1\n",
    "\n",
    "\n",
    "    split_size = class_size//2\n",
    "\n",
    "    # Positive to first two features\n",
    "\n",
    "    B1 = versicolor_samples.iloc[:split_size,:2] + gauss_noise\n",
    "    B1 = np.concatenate((B1, versicolor_samples.iloc[:split_size,2:]), axis=1)\n",
    "    B1_labels = versicolor_labels.iloc[:split_size]\n",
    "\n",
    "    # Negative to last two features\n",
    "    # gauss_noise = np.random.normal(loc=0.1,scale=0.1, size=[class_size//2,2])\n",
    "    # gauss_noise[gauss_noise < 0] = 0\n",
    "    # unif_noise = np.random.uniform(low=0,high=1)\n",
    "\n",
    "    # B2 = versicolor_samples.iloc[split_size:,2:] + gauss_noise\n",
    "    # B2 = np.concatenate((versicolor_samples.iloc[split_size:,2:],B2), axis=1)\n",
    "\n",
    "    B2 = versicolor_samples.iloc[split_size:,:2] - gauss_noise\n",
    "    B2 = np.concatenate((B2,versicolor_samples.iloc[split_size:,2:]), axis=1)\n",
    "    B2_labels = versicolor_labels.iloc[split_size:] + 1\n",
    "\n",
    "    # Combining the two fake \"subclasses\"\n",
    "    noisy_samples = np.concatenate((B1, B2), axis=0)\n",
    "\n",
    "\n",
    "    modded_samples = np.concatenate((setosa_samples,noisy_samples))\n",
    "    modded_labels = labels.copy()\n",
    "    modded_labels[class_size + split_size:] += 1\n",
    "\n",
    "    return samples,labels,modded_samples, modded_labels\n",
    "\n",
    "\n",
    "'''\n",
    "Returns 8 gaussian blobs surrounding one center blob\n",
    "\n",
    "       labels: Only center vs other labels (0,1) \n",
    "modded_labels: The labels for all 9 classes\n",
    "'''\n",
    "def make_blobs(class_size = 200):\n",
    "    centers = [2*(x,y) for x in range(-1,2) for y in range(-1,2)]\n",
    "    n_samples = [class_size//(len(centers)-1)]*len(centers)\n",
    "    n_samples[len(centers)//2] = class_size\n",
    "\n",
    "    X, y = make_blobs(n_samples=n_samples, centers=centers, n_features=2, cluster_std=0.1, shuffle=False, random_state=42)\n",
    "\n",
    "    plt.close(1)\n",
    "    df = DataFrame(dict(x=X[:,0], y=X[:,1], label=y))\n",
    "    fig, ax = plt.subplots()\n",
    "    colors = {0:'red', 1:'blue'}\n",
    "    df.plot(ax=ax,kind=\"scatter\", x='x', y='y',c=\"label\", cmap= \"Paired\")\n",
    "    # plt.colorbar()\n",
    "    plt.show()\n",
    "    \n",
    "    modded_labels = y.copy()\n",
    "    modded_samples = df[[\"x\",\"y\"]].copy()\n",
    "    labels = df[\"label\"].copy()\n",
    "    labels[labels != 4] = 0\n",
    "    labels[labels == 4] = 1\n",
    "    return modded_samples,labels, modded_labels"
   ]
  },
  {
   "cell_type": "markdown",
   "metadata": {},
   "source": [
    "## Using make_moons to generate sample data"
   ]
  },
  {
   "cell_type": "code",
   "execution_count": 5,
   "metadata": {},
   "outputs": [],
   "source": [
    "from sklearn.datasets import make_circles\n",
    "from sklearn.datasets.samples_generator import make_blobs\n",
    "from matplotlib import pyplot\n",
    "from pandas import DataFrame\n"
   ]
  },
  {
   "cell_type": "code",
   "execution_count": 135,
   "metadata": {},
   "outputs": [
    {
     "data": {
      "application/vnd.jupyter.widget-view+json": {
       "model_id": "1e4779e1866a4bebb9411810a785e8d1",
       "version_major": 2,
       "version_minor": 0
      },
      "text/plain": [
       "FigureCanvasNbAgg()"
      ]
     },
     "metadata": {},
     "output_type": "display_data"
    }
   ],
   "source": [
    "# scatter plot, dots colored by class value\n",
    "\n",
    "# generate 2d classification dataset\n",
    "# X, y = make_circles(n_samples=100, noise=0)\n",
    "class_size = 200\n",
    "centers = [(0,0),(1,0),(-1,0),(0,1),(0,-1)]\n",
    "n_samples = [class_size//(len(centers)-1)]*len(centers)\n",
    "n_samples[0] = class_size\n",
    "\n",
    "X, y = make_blobs(n_samples=n_samples, centers=centers, n_features=2, cluster_std=0.1, shuffle=False, random_state=42)\n",
    "\n",
    "plt.close(1)\n",
    "df = DataFrame(dict(x=X[:,0], y=X[:,1], label=y))\n",
    "fig, ax = plt.subplots(num=1)\n",
    "colors = {0:'red', 1:'blue'}\n",
    "df.plot(ax=ax,kind=\"scatter\", x='x', y='y',c=\"label\", cmap= \"Paired\")\n",
    "# plt.colorbar()\n",
    "plt.show()\n",
    "\n",
    "modded_labels = y.copy()\n",
    "modded_samples = df[[\"x\",\"y\"]].copy()\n",
    "labels = df[\"label\"].copy()\n",
    "labels[labels > 0] = 1"
   ]
  },
  {
   "cell_type": "code",
   "execution_count": 59,
   "metadata": {},
   "outputs": [],
   "source": [
    "def get_split_index(features, labels):\n",
    "    features = np.array(features)\n",
    "    # The train set will have equal amounts of each target class\n",
    "    # Performing single split\n",
    "    split = StratifiedShuffleSplit(n_splits=1, test_size=0.2, random_state=42)\n",
    "    return [[train_index, test_index] for train_index,test_index in split.split(features, labels)]"
   ]
  },
  {
   "cell_type": "markdown",
   "metadata": {},
   "source": [
    "### Train a DNN on the modified dataset"
   ]
  },
  {
   "cell_type": "code",
   "execution_count": 98,
   "metadata": {},
   "outputs": [
    {
     "name": "stdout",
     "output_type": "stream",
     "text": [
      "Train Size: (320, 2)\n",
      "Test Size: (80,)\n",
      "Categories: [array([0, 1])]\n"
     ]
    }
   ],
   "source": [
    "# Get split returns a generator\n",
    "# List comprehension is one way to evaluate a generator\n",
    "# X_train, y_train, X_test, y_test = list(get_split(modded_samples, labels))[0]\n",
    "\n",
    "train_index, test_index = get_split_index(modded_samples, modded_labels)[0]\n",
    "features = modded_samples.copy()\n",
    "X_train = features.iloc[train_index]\n",
    "y_train = labels.iloc[train_index]\n",
    "X_test = features.iloc[test_index]\n",
    "y_test = labels.iloc[test_index]\n",
    "\n",
    "\n",
    "print(\"Train Size:\", X_train.shape)\n",
    "print(\"Test Size:\", y_test.shape)\n",
    "\n",
    "\n",
    "hot_encoder = OneHotEncoder(categories=\"auto\", sparse=False)\n",
    "hot_encoder.fit(labels.values.reshape(-1,1)) # Since the function expects an array of \"features\" per sample\n",
    "print(\"Categories:\", hot_encoder.categories_)\n",
    "# X_test, y_test.values"
   ]
  },
  {
   "cell_type": "code",
   "execution_count": 99,
   "metadata": {},
   "outputs": [],
   "source": [
    "NUM_FEATURES = X_train.shape[1]\n",
    "NUM_LABELS = len(hot_encoder.categories_[0])"
   ]
  },
  {
   "cell_type": "code",
   "execution_count": 100,
   "metadata": {},
   "outputs": [],
   "source": [
    "def build_dnn(num_features, num_labels=3):\n",
    "\n",
    "#     reset_graph()\n",
    "    \n",
    "    keras.backend.clear_session()\n",
    "\n",
    "    nn = keras.models.Sequential()\n",
    "    Dense = keras.layers.Dense\n",
    "    \n",
    "    # Using He initialization\n",
    "    he_init = tf.keras.initializers.he_uniform()\n",
    "    \n",
    "    nn.add(Dense(units = 12, activation=\"elu\", input_dim=num_features,\n",
    "                kernel_initializer=he_init))\n",
    "    nn.add(Dense(units = 12, activation=\"elu\",\n",
    "                kernel_initializer=he_init))\n",
    "    nn.add(Dense(units=1, activation= \"sigmoid\",\n",
    "                kernel_initializer=he_init))\n",
    "\n",
    "#     BCE = tf.keras.losses.BinaryCrossentropy(from_logits=True)\n",
    "    \n",
    "    nn.compile(loss=\"binary_crossentropy\",\n",
    "                  optimizer='sgd',\n",
    "                  metrics=['binary_accuracy'])\n",
    "    \n",
    "    return nn\n",
    "\n",
    "def train_model(model, X, y, X_test=[], y_test=[], epochs=30, batch_size=20, verbose=1, plot=True):\n",
    "    \n",
    "    ZScaler = StandardScaler().fit(X)\n",
    "    \n",
    "    X_train = X #ZScaler.transform(X)\n",
    "#     X_test = ZScaler.transform(X_test)\n",
    "    \n",
    "    y_train = y.values\n",
    "    y_test = y_test.values\n",
    "    \n",
    "#     lr_scheduler = keras.callbacks.LearningRateScheduler(exp_decay)\n",
    "    callback_list = []\n",
    "    \n",
    "    history = model.fit(X_train, y_train, epochs=epochs, batch_size = batch_size,\n",
    "                        validation_data=(X_test, y_test), callbacks=callback_list, verbose=verbose)\n",
    "    \n",
    "#     if plot: plot_history(history)\n",
    "    \n",
    "    return history, ZScaler\n"
   ]
  },
  {
   "cell_type": "code",
   "execution_count": 101,
   "metadata": {},
   "outputs": [
    {
     "name": "stdout",
     "output_type": "stream",
     "text": [
      "Train on 320 samples, validate on 80 samples\n",
      "Epoch 1/50\n",
      "320/320 [==============================] - 0s 612us/step - loss: 0.7537 - binary_accuracy: 0.4719 - val_loss: 0.7339 - val_binary_accuracy: 0.4375\n",
      "Epoch 2/50\n",
      "320/320 [==============================] - 0s 51us/step - loss: 0.7118 - binary_accuracy: 0.4813 - val_loss: 0.6957 - val_binary_accuracy: 0.5875\n",
      "Epoch 3/50\n",
      "320/320 [==============================] - 0s 45us/step - loss: 0.6815 - binary_accuracy: 0.7438 - val_loss: 0.6674 - val_binary_accuracy: 0.8750\n",
      "Epoch 4/50\n",
      "320/320 [==============================] - 0s 51us/step - loss: 0.6589 - binary_accuracy: 0.8531 - val_loss: 0.6450 - val_binary_accuracy: 0.8625\n",
      "Epoch 5/50\n",
      "320/320 [==============================] - 0s 46us/step - loss: 0.6395 - binary_accuracy: 0.8188 - val_loss: 0.6257 - val_binary_accuracy: 0.8000\n",
      "Epoch 6/50\n",
      "320/320 [==============================] - 0s 50us/step - loss: 0.6227 - binary_accuracy: 0.7656 - val_loss: 0.6083 - val_binary_accuracy: 0.7875\n",
      "Epoch 7/50\n",
      "320/320 [==============================] - 0s 47us/step - loss: 0.6065 - binary_accuracy: 0.7781 - val_loss: 0.5920 - val_binary_accuracy: 0.7875\n",
      "Epoch 8/50\n",
      "320/320 [==============================] - 0s 49us/step - loss: 0.5912 - binary_accuracy: 0.8281 - val_loss: 0.5765 - val_binary_accuracy: 0.8250\n",
      "Epoch 9/50\n",
      "320/320 [==============================] - 0s 50us/step - loss: 0.5764 - binary_accuracy: 0.8750 - val_loss: 0.5614 - val_binary_accuracy: 0.8750\n",
      "Epoch 10/50\n",
      "320/320 [==============================] - 0s 48us/step - loss: 0.5618 - binary_accuracy: 0.8812 - val_loss: 0.5467 - val_binary_accuracy: 0.8750\n",
      "Epoch 11/50\n",
      "320/320 [==============================] - 0s 50us/step - loss: 0.5473 - binary_accuracy: 0.8812 - val_loss: 0.5321 - val_binary_accuracy: 0.9000\n",
      "Epoch 12/50\n",
      "320/320 [==============================] - 0s 46us/step - loss: 0.5329 - binary_accuracy: 0.8875 - val_loss: 0.5177 - val_binary_accuracy: 0.9000\n",
      "Epoch 13/50\n",
      "320/320 [==============================] - 0s 49us/step - loss: 0.5186 - binary_accuracy: 0.8875 - val_loss: 0.5033 - val_binary_accuracy: 0.9000\n",
      "Epoch 14/50\n",
      "320/320 [==============================] - 0s 47us/step - loss: 0.5040 - binary_accuracy: 0.8937 - val_loss: 0.4890 - val_binary_accuracy: 0.9125\n",
      "Epoch 15/50\n",
      "320/320 [==============================] - 0s 45us/step - loss: 0.4898 - binary_accuracy: 0.9031 - val_loss: 0.4747 - val_binary_accuracy: 0.9125\n",
      "Epoch 16/50\n",
      "320/320 [==============================] - 0s 51us/step - loss: 0.4757 - binary_accuracy: 0.9031 - val_loss: 0.4605 - val_binary_accuracy: 0.9125\n",
      "Epoch 17/50\n",
      "320/320 [==============================] - 0s 43us/step - loss: 0.4613 - binary_accuracy: 0.9187 - val_loss: 0.4462 - val_binary_accuracy: 0.9125\n",
      "Epoch 18/50\n",
      "320/320 [==============================] - 0s 45us/step - loss: 0.4468 - binary_accuracy: 0.9187 - val_loss: 0.4321 - val_binary_accuracy: 0.9125\n",
      "Epoch 19/50\n",
      "320/320 [==============================] - 0s 48us/step - loss: 0.4328 - binary_accuracy: 0.9187 - val_loss: 0.4181 - val_binary_accuracy: 0.9125\n",
      "Epoch 20/50\n",
      "320/320 [==============================] - 0s 46us/step - loss: 0.4187 - binary_accuracy: 0.9312 - val_loss: 0.4042 - val_binary_accuracy: 0.9125\n",
      "Epoch 21/50\n",
      "320/320 [==============================] - 0s 50us/step - loss: 0.4047 - binary_accuracy: 0.9344 - val_loss: 0.3904 - val_binary_accuracy: 0.9250\n",
      "Epoch 22/50\n",
      "320/320 [==============================] - 0s 46us/step - loss: 0.3909 - binary_accuracy: 0.9406 - val_loss: 0.3769 - val_binary_accuracy: 0.9375\n",
      "Epoch 23/50\n",
      "320/320 [==============================] - 0s 43us/step - loss: 0.3773 - binary_accuracy: 0.9437 - val_loss: 0.3635 - val_binary_accuracy: 0.9375\n",
      "Epoch 24/50\n",
      "320/320 [==============================] - 0s 52us/step - loss: 0.3638 - binary_accuracy: 0.9625 - val_loss: 0.3503 - val_binary_accuracy: 0.9375\n",
      "Epoch 25/50\n",
      "320/320 [==============================] - 0s 46us/step - loss: 0.3506 - binary_accuracy: 0.9656 - val_loss: 0.3374 - val_binary_accuracy: 0.9375\n",
      "Epoch 26/50\n",
      "320/320 [==============================] - 0s 47us/step - loss: 0.3377 - binary_accuracy: 0.9750 - val_loss: 0.3247 - val_binary_accuracy: 0.9625\n",
      "Epoch 27/50\n",
      "320/320 [==============================] - 0s 50us/step - loss: 0.3252 - binary_accuracy: 0.9781 - val_loss: 0.3124 - val_binary_accuracy: 0.9625\n",
      "Epoch 28/50\n",
      "320/320 [==============================] - 0s 47us/step - loss: 0.3129 - binary_accuracy: 0.9781 - val_loss: 0.3003 - val_binary_accuracy: 0.9750\n",
      "Epoch 29/50\n",
      "320/320 [==============================] - 0s 43us/step - loss: 0.3010 - binary_accuracy: 0.9875 - val_loss: 0.2887 - val_binary_accuracy: 0.9875\n",
      "Epoch 30/50\n",
      "320/320 [==============================] - 0s 47us/step - loss: 0.2893 - binary_accuracy: 0.9937 - val_loss: 0.2773 - val_binary_accuracy: 0.9875\n",
      "Epoch 31/50\n",
      "320/320 [==============================] - 0s 46us/step - loss: 0.2781 - binary_accuracy: 0.9937 - val_loss: 0.2663 - val_binary_accuracy: 0.9875\n",
      "Epoch 32/50\n",
      "320/320 [==============================] - 0s 45us/step - loss: 0.2671 - binary_accuracy: 0.9937 - val_loss: 0.2557 - val_binary_accuracy: 0.9875\n",
      "Epoch 33/50\n",
      "320/320 [==============================] - 0s 48us/step - loss: 0.2565 - binary_accuracy: 0.9969 - val_loss: 0.2455 - val_binary_accuracy: 0.9875\n",
      "Epoch 34/50\n",
      "320/320 [==============================] - 0s 46us/step - loss: 0.2465 - binary_accuracy: 0.9969 - val_loss: 0.2357 - val_binary_accuracy: 0.9875\n",
      "Epoch 35/50\n",
      "320/320 [==============================] - 0s 41us/step - loss: 0.2367 - binary_accuracy: 0.9969 - val_loss: 0.2262 - val_binary_accuracy: 0.9875\n",
      "Epoch 36/50\n",
      "320/320 [==============================] - 0s 44us/step - loss: 0.2275 - binary_accuracy: 0.9969 - val_loss: 0.2171 - val_binary_accuracy: 0.9875\n",
      "Epoch 37/50\n",
      "320/320 [==============================] - 0s 46us/step - loss: 0.2185 - binary_accuracy: 0.9969 - val_loss: 0.2085 - val_binary_accuracy: 0.9875\n",
      "Epoch 38/50\n",
      "320/320 [==============================] - 0s 44us/step - loss: 0.2098 - binary_accuracy: 0.9969 - val_loss: 0.2001 - val_binary_accuracy: 1.0000\n",
      "Epoch 39/50\n",
      "320/320 [==============================] - 0s 44us/step - loss: 0.2017 - binary_accuracy: 0.9969 - val_loss: 0.1922 - val_binary_accuracy: 1.0000\n",
      "Epoch 40/50\n",
      "320/320 [==============================] - 0s 48us/step - loss: 0.1939 - binary_accuracy: 0.9969 - val_loss: 0.1846 - val_binary_accuracy: 1.0000\n",
      "Epoch 41/50\n",
      "320/320 [==============================] - 0s 44us/step - loss: 0.1863 - binary_accuracy: 0.9969 - val_loss: 0.1773 - val_binary_accuracy: 1.0000\n",
      "Epoch 42/50\n",
      "320/320 [==============================] - 0s 43us/step - loss: 0.1792 - binary_accuracy: 0.9969 - val_loss: 0.1704 - val_binary_accuracy: 1.0000\n",
      "Epoch 43/50\n",
      "320/320 [==============================] - 0s 41us/step - loss: 0.1724 - binary_accuracy: 0.9969 - val_loss: 0.1638 - val_binary_accuracy: 1.0000\n",
      "Epoch 44/50\n",
      "320/320 [==============================] - 0s 48us/step - loss: 0.1660 - binary_accuracy: 0.9969 - val_loss: 0.1575 - val_binary_accuracy: 1.0000\n",
      "Epoch 45/50\n",
      "320/320 [==============================] - 0s 45us/step - loss: 0.1597 - binary_accuracy: 0.9969 - val_loss: 0.1515 - val_binary_accuracy: 1.0000\n",
      "Epoch 46/50\n",
      "320/320 [==============================] - 0s 49us/step - loss: 0.1538 - binary_accuracy: 0.9969 - val_loss: 0.1458 - val_binary_accuracy: 1.0000\n",
      "Epoch 47/50\n",
      "320/320 [==============================] - 0s 45us/step - loss: 0.1482 - binary_accuracy: 0.9969 - val_loss: 0.1404 - val_binary_accuracy: 1.0000\n",
      "Epoch 48/50\n",
      "320/320 [==============================] - 0s 49us/step - loss: 0.1428 - binary_accuracy: 0.9969 - val_loss: 0.1352 - val_binary_accuracy: 1.0000\n",
      "Epoch 49/50\n",
      "320/320 [==============================] - 0s 46us/step - loss: 0.1377 - binary_accuracy: 0.9969 - val_loss: 0.1303 - val_binary_accuracy: 1.0000\n",
      "Epoch 50/50\n",
      "320/320 [==============================] - 0s 47us/step - loss: 0.1329 - binary_accuracy: 1.0000 - val_loss: 0.1256 - val_binary_accuracy: 1.0000\n",
      "CPU times: user 1.66 s, sys: 400 ms, total: 2.06 s\n",
      "Wall time: 1.12 s\n"
     ]
    }
   ],
   "source": [
    "nn = build_dnn(NUM_FEATURES)\n",
    "%time history, Zscaler = train_model(nn, X_train, y_train, X_test, y_test, epochs=50, batch_size=20)"
   ]
  },
  {
   "cell_type": "code",
   "execution_count": 102,
   "metadata": {},
   "outputs": [
    {
     "data": {
      "application/vnd.jupyter.widget-view+json": {
       "model_id": "",
       "version_major": 2,
       "version_minor": 0
      },
      "text/plain": [
       "FigureCanvasNbAgg()"
      ]
     },
     "metadata": {},
     "output_type": "display_data"
    }
   ],
   "source": [
    "# Plotting results from history\n",
    "plot_history(history)"
   ]
  },
  {
   "cell_type": "code",
   "execution_count": 103,
   "metadata": {},
   "outputs": [
    {
     "name": "stdout",
     "output_type": "stream",
     "text": [
      "80/80 [==============================] - 0s 36us/step\n"
     ]
    },
    {
     "data": {
      "text/plain": [
       "[0.1255749136209488, 1.0]"
      ]
     },
     "execution_count": 103,
     "metadata": {},
     "output_type": "execute_result"
    }
   ],
   "source": [
    "nn.predict(X_test)\n",
    "_labels = [np.float(x) for x in y_test]\n",
    "nn.evaluate(X_test, y_test)"
   ]
  },
  {
   "cell_type": "code",
   "execution_count": 104,
   "metadata": {},
   "outputs": [],
   "source": [
    "# sess = tf.Session()\n",
    "# predictions = nn.predict(Zscaler.transform(modded_samples))\n",
    "# predictions = nn.predict(modded_samples)\n",
    "# _labels = [np.float(x) for x in labels]\n",
    "\n",
    "# sess.run(keras.metrics.binary_accuracy(_labels,predictions.flatten()))\n",
    "# # predictions[0][0]\n",
    "# # _labels\n",
    "# # nn.evaluate(Zscaler.transform(modded_samples),labels.values)\n",
    "# # nn.evaluate(modded_samples,labels.values)\n",
    "\n"
   ]
  },
  {
   "cell_type": "markdown",
   "metadata": {},
   "source": [
    "# DONT FORGET TO RENORMALIZE WHEN EVALUATING SAMPLES"
   ]
  },
  {
   "cell_type": "code",
   "execution_count": 105,
   "metadata": {},
   "outputs": [],
   "source": [
    "# from sklearn.model_selection import StratifiedKFold as KFold\n",
    "# # keras.backend.clear_session()\n",
    "\n",
    "# def getKF(X,y, n_splits=10):\n",
    "#     kf = KFold(n_splits=n_splits, shuffle=True, random_state=42 ) #Default = 10\n",
    "\n",
    "#     for train_index, test_index in kf.split(X,y):\n",
    "#         X_train = X[train_index]\n",
    "#         y_train = y.iloc[train_index]\n",
    "#         X_test = X[test_index]\n",
    "#         y_test = y.iloc[test_index]\n",
    "        \n",
    "#         yield X_train, y_train, X_test, y_test, test_index\n",
    "\n",
    "# histories = []\n",
    "# testing_indxs =[]\n",
    "# predictions = []\n",
    "# true_labels = []\n",
    "# zoo = []\n",
    "# for X_train, y_train, X_test, y_test, test_index in getKF(modded_samples, labels):\n",
    "#     print(test_index)\n",
    "#     dnn = build_dnn(NUM_FEATURES, NUM_LABELS)\n",
    "#     history, ZScaler = train_model(dnn,X_train, y_train, X_test, y_test, verbose=0, plot=False, epochs=20, batch_size=10)\n",
    "    \n",
    "#     # Updating all information arrays\n",
    "#     histories.append(history)\n",
    "#     testing_indxs.append(test_index)\n",
    "#     zoo.append(dnn)\n",
    "    \n",
    "#     y_pred_probs = dnn.predict(ZScaler.transform(X_test))\n",
    "#     y_pred = np.argmax(y_pred_probs, axis=1)\n",
    "#     y_true = np.argmax(hot_encoder.transform(y_test.values.reshape(-1,1)), axis=1)\n",
    "    \n",
    "#     predictions.extend(y_pred)\n",
    "#     true_labels.extend(y_true)\n",
    "    \n",
    "#     print(\"Scores on test set: loss={:0.3f} accuracy={:.4f}\".format(history.history[\"binary_accuracy\"][-1], history.history[\"val_binary_accuracy\"][-1]))"
   ]
  },
  {
   "cell_type": "code",
   "execution_count": 106,
   "metadata": {},
   "outputs": [],
   "source": [
    "# # Num is the figure number and clear tells it to clear the figure if it already exists\n",
    "# plt.close()\n",
    "# fig, axs = plt.subplots(num=\"KF Eval\",\n",
    "#                         nrows=len(histories)//2, ncols=2,\n",
    "#                         figsize=(10,10), sharex=True, sharey=True)\n",
    "# axs=axs.flatten()\n",
    "# dfs = []\n",
    "\n",
    "# for i,history in enumerate(histories):\n",
    "#     df = pd.DataFrame(history.history)\n",
    "#     dfs.append(df)\n",
    "# #     axs[i].grid(True)\n",
    "#     df[[\"binary_accuracy\",\"val_binary_accuracy\"]].plot(ax=axs[i], grid=True)"
   ]
  },
  {
   "cell_type": "code",
   "execution_count": 107,
   "metadata": {},
   "outputs": [],
   "source": [
    "# sess = tf.Session()\n",
    "# idx = -1\n",
    "# best_dnn = zoo[idx]\n",
    "\n",
    "# predictions = best_dnn.predict(Zscaler.transform(modded_samples))\n",
    "# _labels = [np.float(x) for x in labels]\n",
    "# sess.run(keras.metrics.binary_accuracy(_labels,predictions.flatten()))\n",
    "\n",
    "# best_dnn.evaluate(Zscaler.transform(modded_samples),labels.values)\n",
    "# # NOT bestdnn.evaluate(modded_samples,labels.values)\n"
   ]
  },
  {
   "cell_type": "markdown",
   "metadata": {},
   "source": [
    "## Performing SVM on Modded Samples"
   ]
  },
  {
   "cell_type": "code",
   "execution_count": 108,
   "metadata": {},
   "outputs": [
    {
     "name": "stdout",
     "output_type": "stream",
     "text": [
      "CPU times: user 2.55 ms, sys: 777 µs, total: 3.33 ms\n",
      "Wall time: 2.53 ms\n"
     ]
    },
    {
     "data": {
      "text/plain": [
       "1.0"
      ]
     },
     "execution_count": 108,
     "metadata": {},
     "output_type": "execute_result"
    }
   ],
   "source": [
    "from sklearn.svm import SVC\n",
    "\n",
    "svm_clf = Pipeline([\n",
    "#     (\"scaler\", StandardScaler()),\n",
    "    (\"SVM\", SVC(kernel= \"rbf\", gamma= \"scale\", C=1))\n",
    "])\n",
    "\n",
    "%time svm_clf.fit(X_train, y_train)\n",
    "svm_clf.score(X_test, y_test)"
   ]
  },
  {
   "cell_type": "markdown",
   "metadata": {},
   "source": [
    "## Performing LRP \n",
    "\n",
    "> ###  TODO: Work with only *test set* "
   ]
  },
  {
   "cell_type": "code",
   "execution_count": 109,
   "metadata": {},
   "outputs": [
    {
     "name": "stdout",
     "output_type": "stream",
     "text": [
      "SANITY CHECK\n",
      "80/80 [==============================] - 0s 31us/step\n",
      "Scores on test set: loss=0.126 accuracy=1.0000\n"
     ]
    }
   ],
   "source": [
    "model = nn\n",
    "scaled_samples = X_test #Zscaler.transform(modded_samples)\n",
    "_labels = y_test\n",
    "mod_labels = modded_labels[test_index]\n",
    "\n",
    "predictions = model.predict(scaled_samples)\n",
    "preds = np.array([np.round(x[0]) for x in predictions])\n",
    "true_labels = [np.float(x) for x in _labels]\n",
    "\n",
    "correct = preds == true_labels\n",
    "# versicolor = true_labels == 1\n",
    "\n",
    "print(\"SANITY CHECK\")\n",
    "loss_and_metrics = model.evaluate(scaled_samples[correct], _labels[correct])\n",
    "print(\"Scores on test set: loss={:0.3f} accuracy={:.4f}\".format(*loss_and_metrics))"
   ]
  },
  {
   "cell_type": "code",
   "execution_count": 110,
   "metadata": {},
   "outputs": [
    {
     "data": {
      "text/plain": [
       "1    40\n",
       "0    40\n",
       "Name: label, dtype: int64"
      ]
     },
     "execution_count": 110,
     "metadata": {},
     "output_type": "execute_result"
    }
   ],
   "source": [
    "_labels[correct].value_counts()"
   ]
  },
  {
   "cell_type": "code",
   "execution_count": 120,
   "metadata": {},
   "outputs": [],
   "source": [
    "import innvestigate\n",
    "import innvestigate.utils as iutils\n",
    "\n",
    "def perform_analysis(model, analyzer, data, labels):\n",
    "    analysis = analyzer.analyze(data)\n",
    "    prediction = model.predict(data)\n",
    "    \n",
    "    df_anal = pd.DataFrame(analysis)\n",
    "    \n",
    "    return df_anal\n",
    "\n",
    "\n",
    "# Stripping the softmax activation from the model\n",
    "# model_wo_sm = iutils.keras.graph.model_wo_softmax(model)\n",
    "\n",
    "# Creating an analyzer\n",
    "lrp_E = innvestigate.analyzer.relevance_based.relevance_analyzer.LRPEpsilon(model=model, epsilon=1e-3)\n",
    "lrp_Z = innvestigate.analyzer.relevance_based.relevance_analyzer.LRPZPlus(model=model)\n",
    "lrp_AB   = innvestigate.analyzer.relevance_based.relevance_analyzer.LRPAlpha2Beta1(model=model)\n",
    "\n",
    "# Getting all the samples that can be correctly predicted\n",
    "test_idx = correct\n",
    "all_samples = scaled_samples[test_idx]\n",
    "all_labels = _labels[test_idx]\n",
    "\n",
    "\n",
    "# perform_analysis(nn,gradient_analyzer,flowers,types)\n",
    "all_lrp_AB = perform_analysis(model,lrp_AB, all_samples, all_labels)\n",
    "all_lrp_E = perform_analysis(model,lrp_E, all_samples, all_labels)\n",
    "all_lrp_Z = perform_analysis(model,lrp_Z, all_samples, all_labels)\n"
   ]
  },
  {
   "cell_type": "code",
   "execution_count": 112,
   "metadata": {},
   "outputs": [
    {
     "data": {
      "text/html": [
       "<div>\n",
       "<style scoped>\n",
       "    .dataframe tbody tr th:only-of-type {\n",
       "        vertical-align: middle;\n",
       "    }\n",
       "\n",
       "    .dataframe tbody tr th {\n",
       "        vertical-align: top;\n",
       "    }\n",
       "\n",
       "    .dataframe thead th {\n",
       "        text-align: right;\n",
       "    }\n",
       "</style>\n",
       "<table border=\"1\" class=\"dataframe\">\n",
       "  <thead>\n",
       "    <tr style=\"text-align: right;\">\n",
       "      <th></th>\n",
       "      <th>0</th>\n",
       "      <th>1</th>\n",
       "    </tr>\n",
       "  </thead>\n",
       "  <tbody>\n",
       "    <tr>\n",
       "      <th>count</th>\n",
       "      <td>80.000000</td>\n",
       "      <td>80.000000</td>\n",
       "    </tr>\n",
       "    <tr>\n",
       "      <th>mean</th>\n",
       "      <td>0.599642</td>\n",
       "      <td>0.245042</td>\n",
       "    </tr>\n",
       "    <tr>\n",
       "      <th>std</th>\n",
       "      <td>1.720559</td>\n",
       "      <td>8.304279</td>\n",
       "    </tr>\n",
       "    <tr>\n",
       "      <th>min</th>\n",
       "      <td>-2.178570</td>\n",
       "      <td>-65.060898</td>\n",
       "    </tr>\n",
       "    <tr>\n",
       "      <th>25%</th>\n",
       "      <td>-0.044530</td>\n",
       "      <td>-0.436565</td>\n",
       "    </tr>\n",
       "    <tr>\n",
       "      <th>50%</th>\n",
       "      <td>0.094552</td>\n",
       "      <td>-0.012988</td>\n",
       "    </tr>\n",
       "    <tr>\n",
       "      <th>75%</th>\n",
       "      <td>0.435938</td>\n",
       "      <td>0.830085</td>\n",
       "    </tr>\n",
       "    <tr>\n",
       "      <th>max</th>\n",
       "      <td>5.298864</td>\n",
       "      <td>17.074886</td>\n",
       "    </tr>\n",
       "  </tbody>\n",
       "</table>\n",
       "</div>"
      ],
      "text/plain": [
       "               0          1\n",
       "count  80.000000  80.000000\n",
       "mean    0.599642   0.245042\n",
       "std     1.720559   8.304279\n",
       "min    -2.178570 -65.060898\n",
       "25%    -0.044530  -0.436565\n",
       "50%     0.094552  -0.012988\n",
       "75%     0.435938   0.830085\n",
       "max     5.298864  17.074886"
      ]
     },
     "execution_count": 112,
     "metadata": {},
     "output_type": "execute_result"
    }
   ],
   "source": [
    "all_lrp.describe()\n",
    "# mod_labels[51:50]"
   ]
  },
  {
   "cell_type": "code",
   "execution_count": 113,
   "metadata": {},
   "outputs": [],
   "source": [
    "# plt.close()\n",
    "lrp_results = all_lrp\n",
    "# # lrp_E_results = all_lrp_E\n",
    "population = lrp_results.mean()\n",
    "sorted_features = population.sort_values(ascending=False)\n",
    "\n",
    "# sorted_features.plot(kind=\"bar\")\n",
    "# plt.xticks(rotation=65, fontsize=\"small\")\n",
    "\n",
    "# plt.show()"
   ]
  },
  {
   "cell_type": "code",
   "execution_count": 114,
   "metadata": {},
   "outputs": [],
   "source": [
    "def get_relevant_cols(df, thresh = 1e-2):\n",
    "\n",
    "    all_above_thresh = (df < thresh).all(0) #Check if all values in columns satisfy the criteria\n",
    "    max_above_thresh = (df.max() < thresh)\n",
    "    quantile_above_thresh = (df.quantile(0.8) < thresh)\n",
    "\n",
    "    criteria = quantile_above_thresh\n",
    "    irrelevant_cols = df.columns[criteria] \n",
    "    irrelevant_cols\n",
    "    \n",
    "    relevant_features_only = all_lrp.drop(columns = irrelevant_cols)\n",
    "    \n",
    "    return relevant_features_only\n",
    "\n"
   ]
  },
  {
   "cell_type": "code",
   "execution_count": 128,
   "metadata": {},
   "outputs": [
    {
     "data": {
      "application/vnd.jupyter.widget-view+json": {
       "model_id": "59e1ae9e088c4423a762e1e1169b1976",
       "version_major": 2,
       "version_minor": 0
      },
      "text/plain": [
       "FigureCanvasNbAgg()"
      ]
     },
     "metadata": {},
     "output_type": "display_data"
    }
   ],
   "source": [
    "plt.close(4)\n",
    "fig, axs = plt.subplots(2,2, figsize=(16,10))\n",
    "_labels = mod_labels\n",
    "\n",
    "df.plot(ax=axs[0][0],kind=\"scatter\", x='x', y='y',c=\"label\", cmap= \"Paired\", title=\"Original Distribution\")\n",
    "all_lrp_E.plot(ax=axs[0][1],kind=\"scatter\", x=0, y=1, c=_labels, cmap=\"Paired\", s=20, alpha=0.75, title=\"LRP E\")\n",
    "\n",
    "all_lrp_AB.plot(ax=axs[1][0],kind=\"scatter\", x=0, y=1, c=_labels, cmap=\"Paired\", s=20, alpha=0.75, title=\"LRP AB\")\n",
    "all_lrp_Z.plot(ax=axs[1][1],kind=\"scatter\", x=0, y=1, c=_labels, cmap=\"Paired\", s=20, alpha=0.75, title=\"LRP Z\")\n",
    "\n",
    "plt.tight_layout()\n",
    "plt.show()"
   ]
  },
  {
   "cell_type": "markdown",
   "metadata": {},
   "source": [
    "## Plotting 2D LRP"
   ]
  },
  {
   "cell_type": "code",
   "execution_count": 88,
   "metadata": {},
   "outputs": [
    {
     "data": {
      "application/vnd.jupyter.widget-view+json": {
       "model_id": "",
       "version_major": 2,
       "version_minor": 0
      },
      "text/plain": [
       "FigureCanvasNbAgg()"
      ]
     },
     "metadata": {},
     "output_type": "display_data"
    },
    {
     "data": {
      "text/plain": [
       "<matplotlib.axes._subplots.AxesSubplot at 0x123a24e48>"
      ]
     },
     "execution_count": 88,
     "metadata": {},
     "output_type": "execute_result"
    }
   ],
   "source": [
    "_labels = mod_labels\n",
    "plt.close()\n",
    "fig, ax = plt.subplots(figsize=(10,8))\n",
    "all_lrp_E.plot(ax=axs[1],kind=\"scatter\", x=0, y=1, c=_labels, cmap=\"Set1\", s=20, alpha=0.5)"
   ]
  },
  {
   "cell_type": "code",
   "execution_count": 89,
   "metadata": {},
   "outputs": [
    {
     "data": {
      "application/vnd.jupyter.widget-view+json": {
       "model_id": "",
       "version_major": 2,
       "version_minor": 0
      },
      "text/plain": [
       "FigureCanvasNbAgg()"
      ]
     },
     "metadata": {},
     "output_type": "display_data"
    },
    {
     "data": {
      "text/plain": [
       "<matplotlib.axes._subplots.AxesSubplot at 0x1322d2748>"
      ]
     },
     "execution_count": 89,
     "metadata": {},
     "output_type": "execute_result"
    }
   ],
   "source": [
    "plt.close()\n",
    "fig, ax = plt.subplots(figsize=(12,10))\n",
    "pos_only = all_lrp.copy()\n",
    "pos_only[pos_only < 0] = 0\n",
    "pos_only.plot(ax=ax,kind=\"scatter\", x=0, y=1, c=_labels, cmap=\"Spectral\", s=20, alpha=0.5)"
   ]
  },
  {
   "cell_type": "markdown",
   "metadata": {},
   "source": [
    "## Plotting UMAP projections"
   ]
  },
  {
   "cell_type": "code",
   "execution_count": 91,
   "metadata": {},
   "outputs": [
    {
     "data": {
      "application/vnd.jupyter.widget-view+json": {
       "model_id": "",
       "version_major": 2,
       "version_minor": 0
      },
      "text/plain": [
       "FigureCanvasNbAgg()"
      ]
     },
     "metadata": {},
     "output_type": "display_data"
    }
   ],
   "source": [
    "def plot_2d(X,labels, name=\"1\"):\n",
    "    plt.close()\n",
    "    fig = plt.figure(figsize=(10,8))\n",
    "    plt.scatter(x=X[:,0], y=X[:,1], s= 10, cmap=\"Paired\", c=labels)\n",
    "    plt.colorbar()\n",
    "\n",
    "    \n",
    "pos_only = all_lrp.copy()\n",
    "pos_only[pos_only < 0] = 0\n",
    "\n",
    "_labels = mod_labels[correct]\n",
    "\n",
    "\n",
    "# pos_only = lrp_results.copy()\n",
    "plt.close()\n",
    "# pos_only[pos_only < 0] = 0\n",
    "\n",
    "\n",
    "reducer_2d = umap.UMAP(random_state=42,\n",
    "                    n_components = 2,\n",
    "                    n_neighbors=25,\n",
    "                    min_dist=0)\n",
    "\n",
    "\n",
    "embedding_2d = reducer_2d.fit_transform(pos_only)\n",
    "\n",
    "\n",
    "plot_2d(embedding_2d, _labels, name=\"Alpha\")\n",
    "\n",
    "# %time reducer_3d = umap.UMAP(random_state=42, n_components = 3, n_neighbors=25, min_dist=0)\n",
    "# embedding_3d = reducer_3d.fit_transform(pos_only)\n",
    "# fig = plt.figure(figsize=(12,10))\n",
    "# ax = fig.add_subplot(111, projection='3d')\n",
    "# _im = ax.scatter(embedding_3d[:,0], embedding_3d[:,1], embedding_3d[:,2], c=_labels, s=20, cmap= \"Paired\")\n",
    "# plt.colorbar(_im)\n",
    "\n",
    "plt.show()\n"
   ]
  },
  {
   "cell_type": "markdown",
   "metadata": {},
   "source": [
    "## LRP-Epsilon"
   ]
  },
  {
   "cell_type": "code",
   "execution_count": null,
   "metadata": {},
   "outputs": [],
   "source": [
    "pos_only = all_lrp_E.copy()\n",
    "pos_only[pos_only < 0] = 0\n",
    "\n",
    "_labels = modded_labels[correct]\n",
    "\n",
    "\n",
    "plt.close()\n",
    "\n",
    "reducer_3d = umap.UMAP(random_state=42,\n",
    "                    n_components = 3,\n",
    "                    n_neighbors=25,\n",
    "                    min_dist=0)\n",
    "\n",
    "reducer_2d = umap.UMAP(random_state=42,\n",
    "                    n_components = 2,\n",
    "                    n_neighbors=15,\n",
    "                    min_dist=0)\n",
    "\n",
    "embedding_3d = reducer_3d.fit_transform(pos_only)\n",
    "embedding_2d = reducer_2d.fit_transform(pos_only)\n",
    "\n",
    "plot_2d(embedding_2d, labels, name=\"Alpha\")\n",
    "\n",
    "fig = plt.figure(figsize=(12,10))\n",
    "ax = fig.add_subplot(111, projection='3d')\n",
    "_im = ax.scatter(embedding_3d[:,0], embedding_3d[:,1], embedding_3d[:,2], c=modded_labels, s=40)\n",
    "plt.colorbar(_im)\n",
    "\n",
    "plt.show()\n"
   ]
  },
  {
   "cell_type": "code",
   "execution_count": null,
   "metadata": {},
   "outputs": [],
   "source": [
    "df = pd.DataFrame(pos_only)"
   ]
  },
  {
   "cell_type": "code",
   "execution_count": null,
   "metadata": {},
   "outputs": [],
   "source": [
    "fig = plt.figure(figsize=(12,10))\n",
    "ax = fig.add_subplot(111, projection='3d')\n",
    "_im = ax.scatter(df[1], df[1], df[2], c=labels, s=40)\n",
    "plt.colorbar(_im)\n",
    "\n",
    "plt.show()"
   ]
  },
  {
   "cell_type": "code",
   "execution_count": null,
   "metadata": {},
   "outputs": [],
   "source": [
    "\n",
    "\n",
    "plot_2d(df[[2,3]].values, labels)"
   ]
  },
  {
   "cell_type": "code",
   "execution_count": null,
   "metadata": {},
   "outputs": [],
   "source": []
  },
  {
   "cell_type": "code",
   "execution_count": null,
   "metadata": {},
   "outputs": [],
   "source": []
  }
 ],
 "metadata": {
  "kernelspec": {
   "display_name": "condaflow",
   "language": "python",
   "name": "condaflow"
  },
  "language_info": {
   "codemirror_mode": {
    "name": "ipython",
    "version": 3
   },
   "file_extension": ".py",
   "mimetype": "text/x-python",
   "name": "python",
   "nbconvert_exporter": "python",
   "pygments_lexer": "ipython3",
   "version": "3.6.8"
  }
 },
 "nbformat": 4,
 "nbformat_minor": 2
}
