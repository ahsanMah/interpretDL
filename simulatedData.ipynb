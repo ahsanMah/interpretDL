{
 "cells": [
  {
   "cell_type": "code",
   "execution_count": 10,
   "metadata": {},
   "outputs": [
    {
     "data": {
      "text/plain": [
       "'1.13.1'"
      ]
     },
     "execution_count": 10,
     "metadata": {},
     "output_type": "execute_result"
    }
   ],
   "source": [
    "import tensorflow as tf\n",
    "import numpy as np\n",
    "import pandas as pd\n",
    "import keras\n",
    "import umap\n",
    "\n",
    "from imblearn.over_sampling import SMOTE\n",
    "from sklearn.model_selection import StratifiedShuffleSplit\n",
    "# Converting labels to 1-Hot Vectors\n",
    "from sklearn.preprocessing import OneHotEncoder\n",
    "from mpl_toolkits.mplot3d import Axes3D\n",
    "\n",
    "\n",
    "import sys\n",
    "# sys.path.append(\"/Users/Work/Developer/interpretDL/interprettensor\")\n",
    "root_logdir = \"./tf_logs\"\n",
    "datadir = \"data/\"\n",
    "\n",
    "# To plot pretty figures\n",
    "%matplotlib widget\n",
    "import matplotlib\n",
    "import matplotlib.pyplot as plt\n",
    "plt.rcParams['axes.labelsize'] = 14\n",
    "plt.rcParams['xtick.labelsize'] = 12\n",
    "plt.rcParams['ytick.labelsize'] = 12\n",
    "\n",
    "# to make this notebook's output stable across runs\n",
    "def reset_graph(seed=42):\n",
    "    tf.reset_default_graph()\n",
    "    tf.set_random_seed(seed)\n",
    "    np.random.seed(seed)\n",
    "\n",
    "np.random.seed(seed=42) \n",
    "tf.__version__"
   ]
  },
  {
   "cell_type": "code",
   "execution_count": 11,
   "metadata": {},
   "outputs": [],
   "source": [
    "# Helper Functions\n",
    "\n",
    "from sklearn.metrics import confusion_matrix\n",
    "from sklearn.utils.multiclass import unique_labels\n",
    "\n",
    "######### Taken from sklearn #######\n",
    "def plot_confusion_matrix(y_true, y_pred, classes,\n",
    "                          normalize=False,\n",
    "                          title=None,\n",
    "                          cmap=plt.cm.Blues):\n",
    "    \"\"\"\n",
    "    This function prints and plots the confusion matrix.\n",
    "    Normalization can be applied by setting `normalize=True`.\n",
    "    \"\"\"\n",
    "    if not title:\n",
    "        if normalize:\n",
    "            title = 'Normalized confusion matrix'\n",
    "        else:\n",
    "            title = 'Confusion matrix, without normalization'\n",
    "\n",
    "    # Compute confusion matrix\n",
    "    cm = confusion_matrix(y_true, y_pred)\n",
    "    # Only use the labels that appear in the data\n",
    "    classes = classes[unique_labels(y_true, y_pred)]\n",
    "    if normalize:\n",
    "        cm = cm.astype('float') / cm.sum(axis=1)[:, np.newaxis]\n",
    "        print(\"Normalized confusion matrix\")\n",
    "    else:\n",
    "        print('Confusion matrix, without normalization')\n",
    "\n",
    "    print(cm)\n",
    "\n",
    "    fig, ax = plt.subplots(figsize=[8,8])\n",
    "    im = ax.imshow(cm, interpolation='nearest', cmap=cmap)\n",
    "    ax.figure.colorbar(im, ax=ax)\n",
    "    # We want to show all ticks...\n",
    "    ax.set(xticks=np.arange(cm.shape[1]),\n",
    "           yticks=np.arange(cm.shape[0]),\n",
    "           # ... and label them with the respective list entries\n",
    "           xticklabels=classes, yticklabels=classes,\n",
    "           title=title,\n",
    "           ylabel='True label',\n",
    "           xlabel='Predicted label')\n",
    "\n",
    "    # Rotate the tick labels and set their alignment.\n",
    "    plt.setp(ax.get_xticklabels(), rotation=45, ha=\"right\",\n",
    "             rotation_mode=\"anchor\")\n",
    "\n",
    "    # Loop over data dimensions and create text annotations.\n",
    "    fmt = '.2f' if normalize else 'd'\n",
    "    thresh = cm.max() / 2.\n",
    "    for i in range(cm.shape[0]):\n",
    "        for j in range(cm.shape[1]):\n",
    "            ax.text(j, i, format(cm[i, j], fmt),\n",
    "                    ha=\"center\", va=\"center\",\n",
    "                    color=\"white\" if cm[i, j] > thresh else \"black\")\n",
    "    fig.tight_layout()\n",
    "    return ax\n",
    "\n",
    "\n",
    "def get1hot(y_train,y_test):\n",
    "    from sklearn.preprocessing import OneHotEncoder\n",
    "\n",
    "    enc = OneHotEncoder(categories=\"auto\", sparse=False)\n",
    "    y_train_1hot = enc.fit_transform([[label] for label in y_train]) # Since the function expects an array of \"features\" per sample\n",
    "    y_test_1hot = enc.fit_transform([[label] for label in y_test])\n",
    "\n",
    "    return y_train_1hot, y_test_1hot\n",
    "\n",
    "def get_split(features, labels):\n",
    "    features = np.array(features)\n",
    "    # The train set will have equal amounts of each target class\n",
    "    split = StratifiedShuffleSplit(n_splits=1, test_size=0.2, random_state=42)\n",
    "    for train_index, test_index in split.split(features, labels):\n",
    "        X_train = features[train_index]\n",
    "        y_train = labels.iloc[train_index]\n",
    "        X_test = features[test_index]\n",
    "        y_test = labels.iloc[test_index]\n",
    "        \n",
    "        yield X_train, y_train, X_test, y_test\n",
    "\n",
    "def plot_history(history):\n",
    "    plt.close()\n",
    "    fig, axs = plt.subplots(1, 2, figsize=(12,6))\n",
    "\n",
    "    # Plot training & validation accuracy values\n",
    "    axs[0].grid(True)\n",
    "    axs[0].plot(history.history['binary_accuracy'])\n",
    "    axs[0].plot(history.history['val_binary_accuracy'])\n",
    "    axs[0].set(title='Model accuracy', ylabel='Accuracy', xlabel='Epoch')\n",
    "    axs[0].legend(['Train', 'Test'], loc='upper left')\n",
    "\n",
    "    # Plot training & validation loss values\n",
    "    axs[1].grid(True)\n",
    "    axs[1].plot(history.history['loss'])\n",
    "    axs[1].plot(history.history['val_loss'])\n",
    "    axs[1].set(title='Model loss',ylabel='Loss', xlabel='Epoch')\n",
    "    axs[1].legend(['Train', 'Test'], loc='upper left')\n",
    "\n",
    "    plt.show()\n",
    "\n",
    "\n",
    "def remove_label(features, labels, label=\"MCI\"):\n",
    "    labels = pd.Series(fused_labels)\n",
    "    non_samples = labels != label\n",
    "\n",
    "    stripped_features = features[non_samples]\n",
    "    stripped_labels = labels[non_samples]\n",
    "\n",
    "    return stripped_features, stripped_labels"
   ]
  },
  {
   "cell_type": "code",
   "execution_count": 12,
   "metadata": {},
   "outputs": [],
   "source": [
    "from sklearn.base import BaseEstimator, TransformerMixin\n",
    "from sklearn.pipeline import Pipeline\n",
    "from sklearn.preprocessing import StandardScaler\n",
    "\n",
    "class AttributeRemover(BaseEstimator, TransformerMixin):\n",
    "    \"\"\"\n",
    "    Returns a copy of matrix with attributes removed\n",
    "    \"\"\"\n",
    "    def __init__(self, attribute_names):\n",
    "        self.attribute_names = attribute_names\n",
    "    \n",
    "    def fit(self, X, y=None):\n",
    "        return # Doesn't do anything\n",
    "    \n",
    "    def transform(self, X, y=None):\n",
    "        return X.drop(columns=self.attribute_names)\n",
    "\n",
    "class OverSampler(BaseEstimator, TransformerMixin):\n",
    "    \"\"\"\n",
    "    Returns a copy of matrix with attributes removed\n",
    "    \"\"\"\n",
    "    def __init__(self, random_state=42):\n",
    "        self.smote = SMOTE(random_state=random_state)\n",
    "    \n",
    "    def fit(self, X, y=None):\n",
    "        return None\n",
    "    \n",
    "    def transform(self, X, y=None):\n",
    "        return self.smote.fit_resample(X,y)\n",
    "\n",
    "class AddNoise(BaseEstimator, TransformerMixin):\n",
    "    \"\"\"\n",
    "    Returns a copy of matrix with attributes removed\n",
    "    \"\"\"\n",
    "    def __init__(self, random_state=42):\n",
    "        self.smote = SMOTE(random_state=random_state)\n",
    "    \n",
    "    def fit(self, X, y=None):\n",
    "        return None\n",
    "    \n",
    "    def transform(self, X, y=None):\n",
    "        return self.smote.fit_resample(X,y)\n",
    "    \n",
    "# Not used\n",
    "train_pipeline = Pipeline([\n",
    "                    (\"smote\", OverSampler()),\n",
    "                    (\"normalizer\", StandardScaler()) ])"
   ]
  },
  {
   "cell_type": "code",
   "execution_count": 73,
   "metadata": {},
   "outputs": [],
   "source": [
    "'''\n",
    "Returns orginal samples, labels and modded_samples,modded_labels\n",
    "'''\n",
    "def modded_iris():\n",
    "\n",
    "    from sklearn import datasets\n",
    "\n",
    "    iris = datasets.load_iris()\n",
    "\n",
    "    features = pd.DataFrame(iris[\"data\"])\n",
    "    target = pd.Series(iris[\"target\"])\n",
    "    flower_names = iris[\"target_names\"]\n",
    "    feature_names = iris[\"feature_names\"]\n",
    "    print(features.info())\n",
    "\n",
    "    ### Get the first 2 flower samples\n",
    "\n",
    "    setosa = target == 0\n",
    "    versicolor = target == 1\n",
    "    samples = features[setosa | versicolor]\n",
    "    labels = target[setosa | versicolor]\n",
    "    class_size = sum(versicolor)\n",
    "\n",
    "    versicolor_samples = features[versicolor]\n",
    "    versicolor_labels = target[versicolor]\n",
    "    setosa_samples = features[setosa]\n",
    "\n",
    "    ### Splitting *versicolor* into two sub classes\n",
    "\n",
    "    versicolor_samples.describe()\n",
    "\n",
    "    ## Constructing different noise sources\n",
    "    gauss_noise = np.random.normal(loc=1,scale=0.25, size=[class_size//2,2])\n",
    "    gauss_noise[gauss_noise < 0] = 0\n",
    "    unif_noise = np.random.uniform(low=0,high=1)\n",
    "    constant = 1\n",
    "\n",
    "\n",
    "    split_size = class_size//2\n",
    "\n",
    "    # Positive to first two features\n",
    "\n",
    "    B1 = versicolor_samples.iloc[:split_size,:2] + gauss_noise\n",
    "    B1 = np.concatenate((B1, versicolor_samples.iloc[:split_size,2:]), axis=1)\n",
    "    B1_labels = versicolor_labels.iloc[:split_size]\n",
    "\n",
    "    # Negative to last two features\n",
    "    # gauss_noise = np.random.normal(loc=0.1,scale=0.1, size=[class_size//2,2])\n",
    "    # gauss_noise[gauss_noise < 0] = 0\n",
    "    # unif_noise = np.random.uniform(low=0,high=1)\n",
    "\n",
    "    # B2 = versicolor_samples.iloc[split_size:,2:] + gauss_noise\n",
    "    # B2 = np.concatenate((versicolor_samples.iloc[split_size:,2:],B2), axis=1)\n",
    "\n",
    "    B2 = versicolor_samples.iloc[split_size:,:2] - gauss_noise\n",
    "    B2 = np.concatenate((B2,versicolor_samples.iloc[split_size:,2:]), axis=1)\n",
    "    B2_labels = versicolor_labels.iloc[split_size:] + 1\n",
    "\n",
    "    # Combining the two fake \"subclasses\"\n",
    "    noisy_samples = np.concatenate((B1, B2), axis=0)\n",
    "\n",
    "\n",
    "    modded_samples = np.concatenate((setosa_samples,noisy_samples))\n",
    "    modded_labels = labels.copy()\n",
    "    modded_labels[class_size + split_size:] += 1\n",
    "\n",
    "    return samples,labels,modded_samples, modded_labels"
   ]
  },
  {
   "cell_type": "markdown",
   "metadata": {},
   "source": [
    "## Using make_moons to generate sample data"
   ]
  },
  {
   "cell_type": "code",
   "execution_count": 143,
   "metadata": {},
   "outputs": [],
   "source": [
    "from sklearn.datasets import make_circles\n",
    "from sklearn.datasets.samples_generator import make_blobs\n",
    "from matplotlib import pyplot\n",
    "from pandas import DataFrame\n"
   ]
  },
  {
   "cell_type": "code",
   "execution_count": 129,
   "metadata": {},
   "outputs": [
    {
     "data": {
      "application/vnd.jupyter.widget-view+json": {
       "model_id": "",
       "version_major": 2,
       "version_minor": 0
      },
      "text/plain": [
       "FigureCanvasNbAgg()"
      ]
     },
     "metadata": {},
     "output_type": "display_data"
    }
   ],
   "source": [
    "# scatter plot, dots colored by class value\n",
    "\n",
    "# generate 2d classification dataset\n",
    "# X, y = make_circles(n_samples=100, noise=0)\n",
    "X, y = make_blobs(n_samples=100, centers=1, n_features=2)\n",
    "\n",
    "plt.close()\n",
    "df = DataFrame(dict(x=X[:,0], y=X[:,1], label=y))\n",
    "colors = {0:'red', 1:'blue'}\n",
    "fig, ax = pyplot.subplots()\n",
    "grouped = df.groupby('label')\n",
    "# grouped.get_group(1).iloc[:25,:2] += 1\n",
    "# outer = grouped.get_group(0).\n",
    "# inner = grouped.get_group(1)\n",
    "# # outer.iloc[:25,:2] += 1\n",
    "\n",
    "for key,group in enumerate([inner,outer]):\n",
    "    group.plot(ax=ax, kind='scatter', x='x', y='y', label=key, color=colors[key])\n",
    "plt.show()"
   ]
  },
  {
   "cell_type": "code",
   "execution_count": 226,
   "metadata": {},
   "outputs": [
    {
     "data": {
      "application/vnd.jupyter.widget-view+json": {
       "model_id": "",
       "version_major": 2,
       "version_minor": 0
      },
      "text/plain": [
       "FigureCanvasNbAgg()"
      ]
     },
     "metadata": {},
     "output_type": "display_data"
    }
   ],
   "source": [
    "class_size = 200\n",
    "centers = [2*(x,y) for x in range(-1,2) for y in range(-1,2)]\n",
    "n_samples = [200//(len(centers)-1)]*len(centers)\n",
    "n_samples[len(centers)//2] = class_size\n",
    "\n",
    "X, y = make_blobs(n_samples=n_samples, centers=centers, n_features=2, cluster_std=0.2, shuffle=False, random_state=42)\n",
    "\n",
    "plt.close()\n",
    "df = DataFrame(dict(x=X[:,0], y=X[:,1], label=y))\n",
    "fig, ax = plt.subplots()\n",
    "colors = {0:'red', 1:'blue'}\n",
    "df.plot(ax=ax,kind=\"scatter\", x='x', y='y',c=\"label\", cmap= \"Paired\")\n",
    "# plt.colorbar()\n",
    "plt.show()"
   ]
  },
  {
   "cell_type": "code",
   "execution_count": 248,
   "metadata": {},
   "outputs": [],
   "source": [
    "modded_labels = y.copy()"
   ]
  },
  {
   "cell_type": "code",
   "execution_count": 227,
   "metadata": {},
   "outputs": [],
   "source": [
    "modded_samples = df[[\"x\",\"y\"]].copy()\n",
    "labels = df[\"label\"].copy()\n",
    "labels[labels != 4] = 0\n",
    "labels[labels == 4] = 1\n",
    "\n",
    "# labels"
   ]
  },
  {
   "cell_type": "markdown",
   "metadata": {},
   "source": [
    "### Train a DNN on the modified dataset"
   ]
  },
  {
   "cell_type": "code",
   "execution_count": 228,
   "metadata": {},
   "outputs": [
    {
     "name": "stdout",
     "output_type": "stream",
     "text": [
      "Train Size: (320, 2)\n",
      "Test Size: (80,)\n",
      "Categories: [array([0, 1])]\n"
     ]
    }
   ],
   "source": [
    "# Get split returns a generator\n",
    "# List comprehension is one way to evaluate a generator\n",
    "X_train, y_train, X_test, y_test = list(get_split(modded_samples, labels))[0]\n",
    "print(\"Train Size:\", X_train.shape)\n",
    "print(\"Test Size:\", y_test.shape)\n",
    "\n",
    "\n",
    "hot_encoder = OneHotEncoder(categories=\"auto\", sparse=False)\n",
    "hot_encoder.fit(labels.values.reshape(-1,1)) # Since the function expects an array of \"features\" per sample\n",
    "print(\"Categories:\", hot_encoder.categories_)\n",
    "# X_test, y_test.values"
   ]
  },
  {
   "cell_type": "code",
   "execution_count": 229,
   "metadata": {},
   "outputs": [],
   "source": [
    "NUM_FEATURES = X_train.shape[1]\n",
    "NUM_LABELS = len(hot_encoder.categories_[0])"
   ]
  },
  {
   "cell_type": "code",
   "execution_count": 230,
   "metadata": {},
   "outputs": [],
   "source": [
    "def build_dnn(num_features, num_labels=3):\n",
    "\n",
    "#     reset_graph()\n",
    "    \n",
    "    keras.backend.clear_session()\n",
    "\n",
    "    nn = keras.models.Sequential()\n",
    "    Dense = keras.layers.Dense\n",
    "    \n",
    "    # Using He initialization\n",
    "    he_init = tf.keras.initializers.he_uniform()\n",
    "    \n",
    "    nn.add(Dense(units = 12, activation=\"elu\", input_dim=num_features,\n",
    "                kernel_initializer=he_init))\n",
    "    nn.add(Dense(units = 12, activation=\"elu\",\n",
    "                kernel_initializer=he_init))\n",
    "    nn.add(Dense(units=1, activation= \"sigmoid\",\n",
    "                kernel_initializer=he_init))\n",
    "\n",
    "#     BCE = tf.keras.losses.BinaryCrossentropy(from_logits=True)\n",
    "    \n",
    "    nn.compile(loss=\"binary_crossentropy\",\n",
    "                  optimizer='sgd',\n",
    "                  metrics=['binary_accuracy'])\n",
    "    \n",
    "    return nn\n",
    "\n",
    "def train_model(model, X, y, X_test=[], y_test=[], epochs=30, batch_size=20, verbose=1, plot=True):\n",
    "    \n",
    "    ZScaler = StandardScaler().fit(X)\n",
    "    \n",
    "    X_train = X #ZScaler.transform(X)\n",
    "#     X_test = ZScaler.transform(X_test)\n",
    "    \n",
    "    y_train = y.values\n",
    "    y_test = y_test.values\n",
    "    \n",
    "#     lr_scheduler = keras.callbacks.LearningRateScheduler(exp_decay)\n",
    "    callback_list = []\n",
    "    \n",
    "    history = model.fit(X_train, y_train, epochs=epochs, batch_size = batch_size,\n",
    "                        validation_data=(X_test, y_test), callbacks=callback_list, verbose=verbose)\n",
    "    \n",
    "#     if plot: plot_history(history)\n",
    "    \n",
    "    return history, ZScaler\n"
   ]
  },
  {
   "cell_type": "code",
   "execution_count": 235,
   "metadata": {},
   "outputs": [
    {
     "name": "stdout",
     "output_type": "stream",
     "text": [
      "Train on 320 samples, validate on 80 samples\n",
      "Epoch 1/50\n",
      "320/320 [==============================] - 0s 647us/step - loss: 0.9687 - binary_accuracy: 0.5375 - val_loss: 0.8771 - val_binary_accuracy: 0.4750\n",
      "Epoch 2/50\n",
      "320/320 [==============================] - 0s 81us/step - loss: 0.7724 - binary_accuracy: 0.5813 - val_loss: 0.7033 - val_binary_accuracy: 0.5750\n",
      "Epoch 3/50\n",
      "320/320 [==============================] - 0s 92us/step - loss: 0.6542 - binary_accuracy: 0.6719 - val_loss: 0.6004 - val_binary_accuracy: 0.7250\n",
      "Epoch 4/50\n",
      "320/320 [==============================] - 0s 90us/step - loss: 0.5797 - binary_accuracy: 0.7937 - val_loss: 0.5372 - val_binary_accuracy: 0.8875\n",
      "Epoch 5/50\n",
      "320/320 [==============================] - 0s 89us/step - loss: 0.5277 - binary_accuracy: 0.8937 - val_loss: 0.4918 - val_binary_accuracy: 0.9500\n",
      "Epoch 6/50\n",
      "320/320 [==============================] - 0s 85us/step - loss: 0.4876 - binary_accuracy: 0.9375 - val_loss: 0.4553 - val_binary_accuracy: 0.9625\n",
      "Epoch 7/50\n",
      "320/320 [==============================] - 0s 90us/step - loss: 0.4538 - binary_accuracy: 0.9812 - val_loss: 0.4249 - val_binary_accuracy: 0.9875\n",
      "Epoch 8/50\n",
      "320/320 [==============================] - 0s 90us/step - loss: 0.4239 - binary_accuracy: 0.9844 - val_loss: 0.3969 - val_binary_accuracy: 0.9875\n",
      "Epoch 9/50\n",
      "320/320 [==============================] - 0s 86us/step - loss: 0.3966 - binary_accuracy: 0.9875 - val_loss: 0.3717 - val_binary_accuracy: 0.9875\n",
      "Epoch 10/50\n",
      "320/320 [==============================] - 0s 85us/step - loss: 0.3714 - binary_accuracy: 0.9875 - val_loss: 0.3480 - val_binary_accuracy: 0.9875\n",
      "Epoch 11/50\n",
      "320/320 [==============================] - 0s 88us/step - loss: 0.3478 - binary_accuracy: 0.9875 - val_loss: 0.3259 - val_binary_accuracy: 0.9875\n",
      "Epoch 12/50\n",
      "320/320 [==============================] - 0s 89us/step - loss: 0.3257 - binary_accuracy: 0.9844 - val_loss: 0.3058 - val_binary_accuracy: 0.9875\n",
      "Epoch 13/50\n",
      "320/320 [==============================] - 0s 87us/step - loss: 0.3056 - binary_accuracy: 0.9844 - val_loss: 0.2869 - val_binary_accuracy: 0.9875\n",
      "Epoch 14/50\n",
      "320/320 [==============================] - 0s 87us/step - loss: 0.2867 - binary_accuracy: 0.9844 - val_loss: 0.2695 - val_binary_accuracy: 0.9875\n",
      "Epoch 15/50\n",
      "320/320 [==============================] - 0s 89us/step - loss: 0.2693 - binary_accuracy: 0.9812 - val_loss: 0.2536 - val_binary_accuracy: 0.9875\n",
      "Epoch 16/50\n",
      "320/320 [==============================] - 0s 83us/step - loss: 0.2532 - binary_accuracy: 0.9812 - val_loss: 0.2386 - val_binary_accuracy: 0.9875\n",
      "Epoch 17/50\n",
      "320/320 [==============================] - 0s 86us/step - loss: 0.2382 - binary_accuracy: 0.9844 - val_loss: 0.2251 - val_binary_accuracy: 0.9875\n",
      "Epoch 18/50\n",
      "320/320 [==============================] - 0s 85us/step - loss: 0.2243 - binary_accuracy: 0.9844 - val_loss: 0.2126 - val_binary_accuracy: 0.9875\n",
      "Epoch 19/50\n",
      "320/320 [==============================] - 0s 87us/step - loss: 0.2118 - binary_accuracy: 0.9844 - val_loss: 0.2011 - val_binary_accuracy: 0.9875\n",
      "Epoch 20/50\n",
      "320/320 [==============================] - 0s 90us/step - loss: 0.1999 - binary_accuracy: 0.9844 - val_loss: 0.1905 - val_binary_accuracy: 0.9875\n",
      "Epoch 21/50\n",
      "320/320 [==============================] - 0s 93us/step - loss: 0.1890 - binary_accuracy: 0.9844 - val_loss: 0.1808 - val_binary_accuracy: 1.0000\n",
      "Epoch 22/50\n",
      "320/320 [==============================] - 0s 89us/step - loss: 0.1792 - binary_accuracy: 0.9844 - val_loss: 0.1720 - val_binary_accuracy: 1.0000\n",
      "Epoch 23/50\n",
      "320/320 [==============================] - 0s 94us/step - loss: 0.1699 - binary_accuracy: 0.9844 - val_loss: 0.1638 - val_binary_accuracy: 1.0000\n",
      "Epoch 24/50\n",
      "320/320 [==============================] - 0s 97us/step - loss: 0.1617 - binary_accuracy: 0.9844 - val_loss: 0.1563 - val_binary_accuracy: 1.0000\n",
      "Epoch 25/50\n",
      "320/320 [==============================] - 0s 94us/step - loss: 0.1537 - binary_accuracy: 0.9844 - val_loss: 0.1495 - val_binary_accuracy: 1.0000\n",
      "Epoch 26/50\n",
      "320/320 [==============================] - 0s 91us/step - loss: 0.1464 - binary_accuracy: 0.9844 - val_loss: 0.1433 - val_binary_accuracy: 1.0000\n",
      "Epoch 27/50\n",
      "320/320 [==============================] - 0s 89us/step - loss: 0.1399 - binary_accuracy: 0.9844 - val_loss: 0.1372 - val_binary_accuracy: 1.0000\n",
      "Epoch 28/50\n",
      "320/320 [==============================] - 0s 90us/step - loss: 0.1337 - binary_accuracy: 0.9844 - val_loss: 0.1319 - val_binary_accuracy: 1.0000\n",
      "Epoch 29/50\n",
      "320/320 [==============================] - 0s 84us/step - loss: 0.1280 - binary_accuracy: 0.9844 - val_loss: 0.1268 - val_binary_accuracy: 1.0000\n",
      "Epoch 30/50\n",
      "320/320 [==============================] - 0s 85us/step - loss: 0.1228 - binary_accuracy: 0.9875 - val_loss: 0.1221 - val_binary_accuracy: 1.0000\n",
      "Epoch 31/50\n",
      "320/320 [==============================] - 0s 82us/step - loss: 0.1178 - binary_accuracy: 0.9875 - val_loss: 0.1177 - val_binary_accuracy: 1.0000\n",
      "Epoch 32/50\n",
      "320/320 [==============================] - 0s 91us/step - loss: 0.1132 - binary_accuracy: 0.9844 - val_loss: 0.1138 - val_binary_accuracy: 1.0000\n",
      "Epoch 33/50\n",
      "320/320 [==============================] - 0s 90us/step - loss: 0.1091 - binary_accuracy: 0.9875 - val_loss: 0.1100 - val_binary_accuracy: 1.0000\n",
      "Epoch 34/50\n",
      "320/320 [==============================] - 0s 88us/step - loss: 0.1051 - binary_accuracy: 0.9844 - val_loss: 0.1065 - val_binary_accuracy: 1.0000\n",
      "Epoch 35/50\n",
      "320/320 [==============================] - 0s 87us/step - loss: 0.1015 - binary_accuracy: 0.9875 - val_loss: 0.1032 - val_binary_accuracy: 1.0000\n",
      "Epoch 36/50\n",
      "320/320 [==============================] - 0s 90us/step - loss: 0.0980 - binary_accuracy: 0.9875 - val_loss: 0.1002 - val_binary_accuracy: 1.0000\n",
      "Epoch 37/50\n",
      "320/320 [==============================] - 0s 92us/step - loss: 0.0948 - binary_accuracy: 0.9875 - val_loss: 0.0972 - val_binary_accuracy: 1.0000\n",
      "Epoch 38/50\n",
      "320/320 [==============================] - 0s 82us/step - loss: 0.0918 - binary_accuracy: 0.9875 - val_loss: 0.0945 - val_binary_accuracy: 1.0000\n",
      "Epoch 39/50\n",
      "320/320 [==============================] - 0s 93us/step - loss: 0.0890 - binary_accuracy: 0.9875 - val_loss: 0.0919 - val_binary_accuracy: 1.0000\n",
      "Epoch 40/50\n",
      "320/320 [==============================] - 0s 89us/step - loss: 0.0864 - binary_accuracy: 0.9875 - val_loss: 0.0896 - val_binary_accuracy: 1.0000\n",
      "Epoch 41/50\n",
      "320/320 [==============================] - 0s 80us/step - loss: 0.0838 - binary_accuracy: 0.9875 - val_loss: 0.0874 - val_binary_accuracy: 1.0000\n",
      "Epoch 42/50\n",
      "320/320 [==============================] - 0s 87us/step - loss: 0.0814 - binary_accuracy: 0.9875 - val_loss: 0.0852 - val_binary_accuracy: 1.0000\n",
      "Epoch 43/50\n",
      "320/320 [==============================] - 0s 87us/step - loss: 0.0793 - binary_accuracy: 0.9875 - val_loss: 0.0831 - val_binary_accuracy: 1.0000\n",
      "Epoch 44/50\n",
      "320/320 [==============================] - 0s 89us/step - loss: 0.0773 - binary_accuracy: 0.9875 - val_loss: 0.0812 - val_binary_accuracy: 1.0000\n",
      "Epoch 45/50\n",
      "320/320 [==============================] - 0s 89us/step - loss: 0.0753 - binary_accuracy: 0.9875 - val_loss: 0.0794 - val_binary_accuracy: 1.0000\n",
      "Epoch 46/50\n",
      "320/320 [==============================] - 0s 88us/step - loss: 0.0734 - binary_accuracy: 0.9875 - val_loss: 0.0777 - val_binary_accuracy: 1.0000\n",
      "Epoch 47/50\n",
      "320/320 [==============================] - 0s 89us/step - loss: 0.0717 - binary_accuracy: 0.9875 - val_loss: 0.0761 - val_binary_accuracy: 1.0000\n",
      "Epoch 48/50\n",
      "320/320 [==============================] - 0s 89us/step - loss: 0.0699 - binary_accuracy: 0.9875 - val_loss: 0.0744 - val_binary_accuracy: 1.0000\n",
      "Epoch 49/50\n",
      "320/320 [==============================] - 0s 81us/step - loss: 0.0684 - binary_accuracy: 0.9875 - val_loss: 0.0730 - val_binary_accuracy: 1.0000\n",
      "Epoch 50/50\n",
      "320/320 [==============================] - 0s 88us/step - loss: 0.0669 - binary_accuracy: 0.9875 - val_loss: 0.0716 - val_binary_accuracy: 1.0000\n",
      "CPU times: user 2.8 s, sys: 783 ms, total: 3.59 s\n",
      "Wall time: 1.78 s\n"
     ]
    }
   ],
   "source": [
    "nn = build_dnn(NUM_FEATURES)\n",
    "%time history, Zscaler = train_model(nn, X_train, y_train, X_test, y_test, epochs=50, batch_size=10)"
   ]
  },
  {
   "cell_type": "code",
   "execution_count": 236,
   "metadata": {},
   "outputs": [
    {
     "data": {
      "application/vnd.jupyter.widget-view+json": {
       "model_id": "",
       "version_major": 2,
       "version_minor": 0
      },
      "text/plain": [
       "FigureCanvasNbAgg()"
      ]
     },
     "metadata": {},
     "output_type": "display_data"
    }
   ],
   "source": [
    "# Plotting results from history\n",
    "plot_history(history)"
   ]
  },
  {
   "cell_type": "code",
   "execution_count": 10,
   "metadata": {},
   "outputs": [],
   "source": [
    "# sess = tf.Session()\n",
    "# predictions = nn.predict(Zscaler.transform(modded_samples))\n",
    "# predictions = nn.predict(modded_samples)\n",
    "# _labels = [np.float(x) for x in labels]\n",
    "\n",
    "# sess.run(keras.metrics.binary_accuracy(_labels,predictions.flatten()))\n",
    "# # predictions[0][0]\n",
    "# # _labels\n",
    "# # nn.evaluate(Zscaler.transform(modded_samples),labels.values)\n",
    "# # nn.evaluate(modded_samples,labels.values)\n",
    "\n"
   ]
  },
  {
   "cell_type": "markdown",
   "metadata": {},
   "source": [
    "# DONT FORGET TO RENORMALIZE WHEN EVALUATING SAMPLES"
   ]
  },
  {
   "cell_type": "code",
   "execution_count": 16,
   "metadata": {},
   "outputs": [],
   "source": [
    "# from sklearn.model_selection import StratifiedKFold as KFold\n",
    "# # keras.backend.clear_session()\n",
    "\n",
    "# def getKF(X,y, n_splits=10):\n",
    "#     kf = KFold(n_splits=n_splits, shuffle=True, random_state=42 ) #Default = 10\n",
    "\n",
    "#     for train_index, test_index in kf.split(X,y):\n",
    "#         X_train = X[train_index]\n",
    "#         y_train = y.iloc[train_index]\n",
    "#         X_test = X[test_index]\n",
    "#         y_test = y.iloc[test_index]\n",
    "        \n",
    "#         yield X_train, y_train, X_test, y_test, test_index\n",
    "\n",
    "# histories = []\n",
    "# testing_indxs =[]\n",
    "# predictions = []\n",
    "# true_labels = []\n",
    "# zoo = []\n",
    "# for X_train, y_train, X_test, y_test, test_index in getKF(modded_samples, labels):\n",
    "#     print(test_index)\n",
    "#     dnn = build_dnn(NUM_FEATURES, NUM_LABELS)\n",
    "#     history, ZScaler = train_model(dnn,X_train, y_train, X_test, y_test, verbose=0, plot=False, epochs=20, batch_size=10)\n",
    "    \n",
    "#     # Updating all information arrays\n",
    "#     histories.append(history)\n",
    "#     testing_indxs.append(test_index)\n",
    "#     zoo.append(dnn)\n",
    "    \n",
    "#     y_pred_probs = dnn.predict(ZScaler.transform(X_test))\n",
    "#     y_pred = np.argmax(y_pred_probs, axis=1)\n",
    "#     y_true = np.argmax(hot_encoder.transform(y_test.values.reshape(-1,1)), axis=1)\n",
    "    \n",
    "#     predictions.extend(y_pred)\n",
    "#     true_labels.extend(y_true)\n",
    "    \n",
    "#     print(\"Scores on test set: loss={:0.3f} accuracy={:.4f}\".format(history.history[\"binary_accuracy\"][-1], history.history[\"val_binary_accuracy\"][-1]))"
   ]
  },
  {
   "cell_type": "code",
   "execution_count": 17,
   "metadata": {},
   "outputs": [],
   "source": [
    "# # Num is the figure number and clear tells it to clear the figure if it already exists\n",
    "# plt.close()\n",
    "# fig, axs = plt.subplots(num=\"KF Eval\",\n",
    "#                         nrows=len(histories)//2, ncols=2,\n",
    "#                         figsize=(10,10), sharex=True, sharey=True)\n",
    "# axs=axs.flatten()\n",
    "# dfs = []\n",
    "\n",
    "# for i,history in enumerate(histories):\n",
    "#     df = pd.DataFrame(history.history)\n",
    "#     dfs.append(df)\n",
    "# #     axs[i].grid(True)\n",
    "#     df[[\"binary_accuracy\",\"val_binary_accuracy\"]].plot(ax=axs[i], grid=True)"
   ]
  },
  {
   "cell_type": "code",
   "execution_count": 18,
   "metadata": {},
   "outputs": [],
   "source": [
    "# sess = tf.Session()\n",
    "# idx = -1\n",
    "# best_dnn = zoo[idx]\n",
    "\n",
    "# predictions = best_dnn.predict(Zscaler.transform(modded_samples))\n",
    "# _labels = [np.float(x) for x in labels]\n",
    "# sess.run(keras.metrics.binary_accuracy(_labels,predictions.flatten()))\n",
    "\n",
    "# best_dnn.evaluate(Zscaler.transform(modded_samples),labels.values)\n",
    "# # NOT bestdnn.evaluate(modded_samples,labels.values)\n"
   ]
  },
  {
   "cell_type": "markdown",
   "metadata": {},
   "source": [
    "## Performing SVM on Modded Samples"
   ]
  },
  {
   "cell_type": "code",
   "execution_count": 237,
   "metadata": {},
   "outputs": [
    {
     "name": "stdout",
     "output_type": "stream",
     "text": [
      "CPU times: user 1.88 ms, sys: 730 µs, total: 2.61 ms\n",
      "Wall time: 1.64 ms\n"
     ]
    },
    {
     "data": {
      "text/plain": [
       "1.0"
      ]
     },
     "execution_count": 237,
     "metadata": {},
     "output_type": "execute_result"
    }
   ],
   "source": [
    "from sklearn.svm import SVC\n",
    "\n",
    "svm_clf = Pipeline([\n",
    "#     (\"scaler\", StandardScaler()),\n",
    "    (\"SVM\", SVC(kernel= \"rbf\", gamma= \"scale\", C=1))\n",
    "])\n",
    "\n",
    "%time svm_clf.fit(X_train, y_train)\n",
    "svm_clf.score(X_test, y_test)"
   ]
  },
  {
   "cell_type": "markdown",
   "metadata": {},
   "source": [
    "## Performing LRP"
   ]
  },
  {
   "cell_type": "code",
   "execution_count": 239,
   "metadata": {},
   "outputs": [
    {
     "name": "stdout",
     "output_type": "stream",
     "text": [
      "SANITY CHECK\n",
      "396/396 [==============================] - 0s 17us/step\n",
      "Scores on test set: loss=0.059 accuracy=1.0000\n"
     ]
    }
   ],
   "source": [
    "model = nn\n",
    "scaled_samples = modded_samples #Zscaler.transform(modded_samples)\n",
    "\n",
    "\n",
    "predictions = model.predict(scaled_samples)\n",
    "preds = np.array([np.round(x[0]) for x in predictions])\n",
    "true_labels = [np.float(x) for x in labels]\n",
    "\n",
    "correct = preds == true_labels\n",
    "# versicolor = true_labels == 1\n",
    "\n",
    "print(\"SANITY CHECK\")\n",
    "loss_and_metrics = model.evaluate(scaled_samples[correct], labels[correct])\n",
    "print(\"Scores on test set: loss={:0.3f} accuracy={:.4f}\".format(*loss_and_metrics))"
   ]
  },
  {
   "cell_type": "code",
   "execution_count": 246,
   "metadata": {},
   "outputs": [
    {
     "data": {
      "text/plain": [
       "1    199\n",
       "0    197\n",
       "Name: label, dtype: int64"
      ]
     },
     "execution_count": 246,
     "metadata": {},
     "output_type": "execute_result"
    }
   ],
   "source": [
    "labels[correct].value_counts()"
   ]
  },
  {
   "cell_type": "code",
   "execution_count": 249,
   "metadata": {},
   "outputs": [],
   "source": [
    "import innvestigate\n",
    "import innvestigate.utils as iutils\n",
    "\n",
    "def perform_analysis(model, analyzer, data, labels):\n",
    "    analysis = analyzer.analyze(data)\n",
    "    prediction = model.predict(data)\n",
    "    \n",
    "    df_anal = pd.DataFrame(analysis)\n",
    "    \n",
    "    return df_anal\n",
    "\n",
    "\n",
    "# Stripping the softmax activation from the model\n",
    "# model_wo_sm = iutils.keras.graph.model_wo_softmax(model)\n",
    "\n",
    "# Creating an analyzer\n",
    "lrp_E = innvestigate.analyzer.relevance_based.relevance_analyzer.LRPEpsilon(model=model, epsilon=1e-3)\n",
    "\n",
    "lrp = innvestigate.analyzer.relevance_based.relevance_analyzer.LRPAlpha2Beta1(model=model)\n",
    "\n",
    "# Getting all the samples that can be correctly predicted\n",
    "test_idx = correct\n",
    "all_samples = scaled_samples[test_idx]\n",
    "all_labels = labels[test_idx]\n",
    "mod_labels = modded_labels[test_idx]\n",
    "\n",
    "# perform_analysis(nn,gradient_analyzer,flowers,types)\n",
    "all_lrp = perform_analysis(model,lrp, all_samples, all_labels)\n",
    "\n",
    "all_lrp_E = perform_analysis(model,lrp_E, all_samples, all_labels)"
   ]
  },
  {
   "cell_type": "code",
   "execution_count": 250,
   "metadata": {},
   "outputs": [
    {
     "data": {
      "text/html": [
       "<div>\n",
       "<style scoped>\n",
       "    .dataframe tbody tr th:only-of-type {\n",
       "        vertical-align: middle;\n",
       "    }\n",
       "\n",
       "    .dataframe tbody tr th {\n",
       "        vertical-align: top;\n",
       "    }\n",
       "\n",
       "    .dataframe thead th {\n",
       "        text-align: right;\n",
       "    }\n",
       "</style>\n",
       "<table border=\"1\" class=\"dataframe\">\n",
       "  <thead>\n",
       "    <tr style=\"text-align: right;\">\n",
       "      <th></th>\n",
       "      <th>0</th>\n",
       "      <th>1</th>\n",
       "    </tr>\n",
       "  </thead>\n",
       "  <tbody>\n",
       "    <tr>\n",
       "      <th>count</th>\n",
       "      <td>396.000000</td>\n",
       "      <td>396.000000</td>\n",
       "    </tr>\n",
       "    <tr>\n",
       "      <th>mean</th>\n",
       "      <td>1.509295</td>\n",
       "      <td>7.652067</td>\n",
       "    </tr>\n",
       "    <tr>\n",
       "      <th>std</th>\n",
       "      <td>36.853889</td>\n",
       "      <td>80.222473</td>\n",
       "    </tr>\n",
       "    <tr>\n",
       "      <th>min</th>\n",
       "      <td>-230.433334</td>\n",
       "      <td>-148.245377</td>\n",
       "    </tr>\n",
       "    <tr>\n",
       "      <th>25%</th>\n",
       "      <td>-0.535058</td>\n",
       "      <td>-0.320360</td>\n",
       "    </tr>\n",
       "    <tr>\n",
       "      <th>50%</th>\n",
       "      <td>-0.002061</td>\n",
       "      <td>-0.001448</td>\n",
       "    </tr>\n",
       "    <tr>\n",
       "      <th>75%</th>\n",
       "      <td>0.164800</td>\n",
       "      <td>0.624036</td>\n",
       "    </tr>\n",
       "    <tr>\n",
       "      <th>max</th>\n",
       "      <td>502.355377</td>\n",
       "      <td>1207.276367</td>\n",
       "    </tr>\n",
       "  </tbody>\n",
       "</table>\n",
       "</div>"
      ],
      "text/plain": [
       "                0            1\n",
       "count  396.000000   396.000000\n",
       "mean     1.509295     7.652067\n",
       "std     36.853889    80.222473\n",
       "min   -230.433334  -148.245377\n",
       "25%     -0.535058    -0.320360\n",
       "50%     -0.002061    -0.001448\n",
       "75%      0.164800     0.624036\n",
       "max    502.355377  1207.276367"
      ]
     },
     "execution_count": 250,
     "metadata": {},
     "output_type": "execute_result"
    }
   ],
   "source": [
    "all_lrp.describe()\n",
    "# mod_labels[51:50]"
   ]
  },
  {
   "cell_type": "code",
   "execution_count": 49,
   "metadata": {},
   "outputs": [],
   "source": [
    "# plt.close()\n",
    "lrp_results = all_lrp\n",
    "# # lrp_E_results = all_lrp_E\n",
    "population = lrp_results.mean()\n",
    "sorted_features = population.sort_values(ascending=False)\n",
    "\n",
    "# sorted_features.plot(kind=\"bar\")\n",
    "# plt.xticks(rotation=65, fontsize=\"small\")\n",
    "\n",
    "# plt.show()"
   ]
  },
  {
   "cell_type": "code",
   "execution_count": 258,
   "metadata": {},
   "outputs": [],
   "source": [
    "# [feature_names[x] for x in sorted_features.index]\n",
    "# _samples = modded_samples[50:]\n",
    "# # _samples[:,[1,2]]"
   ]
  },
  {
   "cell_type": "markdown",
   "metadata": {},
   "source": [
    "## Plotting 2D LRP"
   ]
  },
  {
   "cell_type": "code",
   "execution_count": 268,
   "metadata": {},
   "outputs": [
    {
     "data": {
      "application/vnd.jupyter.widget-view+json": {
       "model_id": "b57c0f97e2684ed4beadc4f23b8887c6",
       "version_major": 2,
       "version_minor": 0
      },
      "text/plain": [
       "FigureCanvasNbAgg()"
      ]
     },
     "metadata": {},
     "output_type": "display_data"
    },
    {
     "data": {
      "text/plain": [
       "<matplotlib.axes._subplots.AxesSubplot at 0x13d7b6b70>"
      ]
     },
     "execution_count": 268,
     "metadata": {},
     "output_type": "execute_result"
    }
   ],
   "source": [
    "_labels = mod_labels\n",
    "fig, ax = plt.subplots(figsize=(12,10))\n",
    "all_lrp_E.plot(ax=ax,kind=\"scatter\", x=0, y=1, c=_labels, cmap=\"Set1\", s=20, alpha=0.5)"
   ]
  },
  {
   "cell_type": "code",
   "execution_count": 267,
   "metadata": {},
   "outputs": [
    {
     "data": {
      "application/vnd.jupyter.widget-view+json": {
       "model_id": "4f810f069fb64d2b8a421be5539c6d53",
       "version_major": 2,
       "version_minor": 0
      },
      "text/plain": [
       "FigureCanvasNbAgg()"
      ]
     },
     "metadata": {},
     "output_type": "display_data"
    },
    {
     "data": {
      "text/plain": [
       "<matplotlib.axes._subplots.AxesSubplot at 0x13d6f4ac8>"
      ]
     },
     "execution_count": 267,
     "metadata": {},
     "output_type": "execute_result"
    }
   ],
   "source": [
    "fig, ax = plt.subplots(figsize=(12,10))\n",
    "pos_only = all_lrp.copy()\n",
    "pos_only[pos_only < 0] = 0\n",
    "pos_only.plot(ax=ax,kind=\"scatter\", x=0, y=1, c=_labels, cmap=\"Set1\", s=20, alpha=0.5)"
   ]
  },
  {
   "cell_type": "markdown",
   "metadata": {},
   "source": [
    "## Plotting UMAP projections"
   ]
  },
  {
   "cell_type": "code",
   "execution_count": 256,
   "metadata": {},
   "outputs": [
    {
     "name": "stdout",
     "output_type": "stream",
     "text": [
      "CPU times: user 34 µs, sys: 64 µs, total: 98 µs\n",
      "Wall time: 104 µs\n"
     ]
    },
    {
     "data": {
      "application/vnd.jupyter.widget-view+json": {
       "model_id": "",
       "version_major": 2,
       "version_minor": 0
      },
      "text/plain": [
       "FigureCanvasNbAgg()"
      ]
     },
     "metadata": {},
     "output_type": "display_data"
    },
    {
     "data": {
      "application/vnd.jupyter.widget-view+json": {
       "model_id": "",
       "version_major": 2,
       "version_minor": 0
      },
      "text/plain": [
       "FigureCanvasNbAgg()"
      ]
     },
     "metadata": {},
     "output_type": "display_data"
    }
   ],
   "source": [
    "def plot_2d(X,labels, name=\"1\"):\n",
    "    plt.close()\n",
    "    fig = plt.figure(figsize=(10,8))\n",
    "    plt.scatter(x=X[:,0], y=X[:,1], s= 30, c=labels)\n",
    "    plt.colorbar()\n",
    "\n",
    "    \n",
    "pos_only = all_lrp.copy()\n",
    "pos_only[pos_only < 0] = 0\n",
    "\n",
    "_labels = modded_labels[correct]\n",
    "\n",
    "\n",
    "# pos_only = lrp_results.copy()\n",
    "plt.close()\n",
    "# pos_only[pos_only < 0] = 0\n",
    "%time reducer_3d = umap.UMAP(random_state=42, n_components = 3, n_neighbors=25, min_dist=0)\n",
    "\n",
    "reducer_2d = umap.UMAP(random_state=42,\n",
    "                    n_components = 2,\n",
    "                    n_neighbors=25,\n",
    "                    min_dist=0)\n",
    "\n",
    "embedding_3d = reducer_3d.fit_transform(pos_only)\n",
    "embedding_2d = reducer_2d.fit_transform(pos_only)\n",
    "\n",
    "plot_2d(embedding_2d, _labels, name=\"Alpha\")\n",
    "\n",
    "fig = plt.figure(figsize=(12,10))\n",
    "ax = fig.add_subplot(111, projection='3d')\n",
    "_im = ax.scatter(embedding_3d[:,0], embedding_3d[:,1], embedding_3d[:,2], c=_labels, s=20, cmap= \"Paired\")\n",
    "plt.colorbar(_im)\n",
    "\n",
    "plt.show()\n"
   ]
  },
  {
   "cell_type": "markdown",
   "metadata": {},
   "source": [
    "## LRP-Epsilon"
   ]
  },
  {
   "cell_type": "code",
   "execution_count": 257,
   "metadata": {},
   "outputs": [
    {
     "data": {
      "application/vnd.jupyter.widget-view+json": {
       "model_id": "e4ad4b29ca444b92b450b71c856cb9be",
       "version_major": 2,
       "version_minor": 0
      },
      "text/plain": [
       "FigureCanvasNbAgg()"
      ]
     },
     "metadata": {},
     "output_type": "display_data"
    },
    {
     "ename": "ValueError",
     "evalue": "'c' argument has 400 elements, which is not acceptable for use with 'x' with size 396, 'y' with size 396.",
     "output_type": "error",
     "traceback": [
      "\u001b[0;31m---------------------------------------------------------------------------\u001b[0m",
      "\u001b[0;31mKeyError\u001b[0m                                  Traceback (most recent call last)",
      "\u001b[0;32m~/anaconda3/envs/condaflow/lib/python3.6/site-packages/matplotlib/colors.py\u001b[0m in \u001b[0;36mto_rgba\u001b[0;34m(c, alpha)\u001b[0m\n\u001b[1;32m    173\u001b[0m     \u001b[0;32mtry\u001b[0m\u001b[0;34m:\u001b[0m\u001b[0;34m\u001b[0m\u001b[0;34m\u001b[0m\u001b[0m\n\u001b[0;32m--> 174\u001b[0;31m         \u001b[0mrgba\u001b[0m \u001b[0;34m=\u001b[0m \u001b[0m_colors_full_map\u001b[0m\u001b[0;34m.\u001b[0m\u001b[0mcache\u001b[0m\u001b[0;34m[\u001b[0m\u001b[0mc\u001b[0m\u001b[0;34m,\u001b[0m \u001b[0malpha\u001b[0m\u001b[0;34m]\u001b[0m\u001b[0;34m\u001b[0m\u001b[0;34m\u001b[0m\u001b[0m\n\u001b[0m\u001b[1;32m    175\u001b[0m     \u001b[0;32mexcept\u001b[0m \u001b[0;34m(\u001b[0m\u001b[0mKeyError\u001b[0m\u001b[0;34m,\u001b[0m \u001b[0mTypeError\u001b[0m\u001b[0;34m)\u001b[0m\u001b[0;34m:\u001b[0m  \u001b[0;31m# Not in cache, or unhashable.\u001b[0m\u001b[0;34m\u001b[0m\u001b[0;34m\u001b[0m\u001b[0m\n",
      "\u001b[0;31mKeyError\u001b[0m: (0, None)",
      "\nDuring handling of the above exception, another exception occurred:\n",
      "\u001b[0;31mValueError\u001b[0m                                Traceback (most recent call last)",
      "\u001b[0;32m~/anaconda3/envs/condaflow/lib/python3.6/site-packages/matplotlib/axes/_axes.py\u001b[0m in \u001b[0;36mscatter\u001b[0;34m(self, x, y, s, c, marker, cmap, norm, vmin, vmax, alpha, linewidths, verts, edgecolors, **kwargs)\u001b[0m\n\u001b[1;32m   4231\u001b[0m             \u001b[0;32mtry\u001b[0m\u001b[0;34m:\u001b[0m  \u001b[0;31m# Then is 'c' acceptable as PathCollection facecolors?\u001b[0m\u001b[0;34m\u001b[0m\u001b[0;34m\u001b[0m\u001b[0m\n\u001b[0;32m-> 4232\u001b[0;31m                 \u001b[0mcolors\u001b[0m \u001b[0;34m=\u001b[0m \u001b[0mmcolors\u001b[0m\u001b[0;34m.\u001b[0m\u001b[0mto_rgba_array\u001b[0m\u001b[0;34m(\u001b[0m\u001b[0mc\u001b[0m\u001b[0;34m)\u001b[0m\u001b[0;34m\u001b[0m\u001b[0;34m\u001b[0m\u001b[0m\n\u001b[0m\u001b[1;32m   4233\u001b[0m                 \u001b[0mn_elem\u001b[0m \u001b[0;34m=\u001b[0m \u001b[0mcolors\u001b[0m\u001b[0;34m.\u001b[0m\u001b[0mshape\u001b[0m\u001b[0;34m[\u001b[0m\u001b[0;36m0\u001b[0m\u001b[0;34m]\u001b[0m\u001b[0;34m\u001b[0m\u001b[0;34m\u001b[0m\u001b[0m\n",
      "\u001b[0;32m~/anaconda3/envs/condaflow/lib/python3.6/site-packages/matplotlib/colors.py\u001b[0m in \u001b[0;36mto_rgba_array\u001b[0;34m(c, alpha)\u001b[0m\n\u001b[1;32m    274\u001b[0m     \u001b[0;32mfor\u001b[0m \u001b[0mi\u001b[0m\u001b[0;34m,\u001b[0m \u001b[0mcc\u001b[0m \u001b[0;32min\u001b[0m \u001b[0menumerate\u001b[0m\u001b[0;34m(\u001b[0m\u001b[0mc\u001b[0m\u001b[0;34m)\u001b[0m\u001b[0;34m:\u001b[0m\u001b[0;34m\u001b[0m\u001b[0;34m\u001b[0m\u001b[0m\n\u001b[0;32m--> 275\u001b[0;31m         \u001b[0mresult\u001b[0m\u001b[0;34m[\u001b[0m\u001b[0mi\u001b[0m\u001b[0;34m]\u001b[0m \u001b[0;34m=\u001b[0m \u001b[0mto_rgba\u001b[0m\u001b[0;34m(\u001b[0m\u001b[0mcc\u001b[0m\u001b[0;34m,\u001b[0m \u001b[0malpha\u001b[0m\u001b[0;34m)\u001b[0m\u001b[0;34m\u001b[0m\u001b[0;34m\u001b[0m\u001b[0m\n\u001b[0m\u001b[1;32m    276\u001b[0m     \u001b[0;32mreturn\u001b[0m \u001b[0mresult\u001b[0m\u001b[0;34m\u001b[0m\u001b[0;34m\u001b[0m\u001b[0m\n",
      "\u001b[0;32m~/anaconda3/envs/condaflow/lib/python3.6/site-packages/matplotlib/colors.py\u001b[0m in \u001b[0;36mto_rgba\u001b[0;34m(c, alpha)\u001b[0m\n\u001b[1;32m    175\u001b[0m     \u001b[0;32mexcept\u001b[0m \u001b[0;34m(\u001b[0m\u001b[0mKeyError\u001b[0m\u001b[0;34m,\u001b[0m \u001b[0mTypeError\u001b[0m\u001b[0;34m)\u001b[0m\u001b[0;34m:\u001b[0m  \u001b[0;31m# Not in cache, or unhashable.\u001b[0m\u001b[0;34m\u001b[0m\u001b[0;34m\u001b[0m\u001b[0m\n\u001b[0;32m--> 176\u001b[0;31m         \u001b[0mrgba\u001b[0m \u001b[0;34m=\u001b[0m \u001b[0m_to_rgba_no_colorcycle\u001b[0m\u001b[0;34m(\u001b[0m\u001b[0mc\u001b[0m\u001b[0;34m,\u001b[0m \u001b[0malpha\u001b[0m\u001b[0;34m)\u001b[0m\u001b[0;34m\u001b[0m\u001b[0;34m\u001b[0m\u001b[0m\n\u001b[0m\u001b[1;32m    177\u001b[0m         \u001b[0;32mtry\u001b[0m\u001b[0;34m:\u001b[0m\u001b[0;34m\u001b[0m\u001b[0;34m\u001b[0m\u001b[0m\n",
      "\u001b[0;32m~/anaconda3/envs/condaflow/lib/python3.6/site-packages/matplotlib/colors.py\u001b[0m in \u001b[0;36m_to_rgba_no_colorcycle\u001b[0;34m(c, alpha)\u001b[0m\n\u001b[1;32m    226\u001b[0m         \u001b[0;31m# Test dimensionality to reject single floats.\u001b[0m\u001b[0;34m\u001b[0m\u001b[0;34m\u001b[0m\u001b[0;34m\u001b[0m\u001b[0m\n\u001b[0;32m--> 227\u001b[0;31m         \u001b[0;32mraise\u001b[0m \u001b[0mValueError\u001b[0m\u001b[0;34m(\u001b[0m\u001b[0;34m\"Invalid RGBA argument: {!r}\"\u001b[0m\u001b[0;34m.\u001b[0m\u001b[0mformat\u001b[0m\u001b[0;34m(\u001b[0m\u001b[0morig_c\u001b[0m\u001b[0;34m)\u001b[0m\u001b[0;34m)\u001b[0m\u001b[0;34m\u001b[0m\u001b[0;34m\u001b[0m\u001b[0m\n\u001b[0m\u001b[1;32m    228\u001b[0m     \u001b[0;31m# Return a tuple to prevent the cached value from being modified.\u001b[0m\u001b[0;34m\u001b[0m\u001b[0;34m\u001b[0m\u001b[0;34m\u001b[0m\u001b[0m\n",
      "\u001b[0;31mValueError\u001b[0m: Invalid RGBA argument: 0",
      "\nDuring handling of the above exception, another exception occurred:\n",
      "\u001b[0;31mValueError\u001b[0m                                Traceback (most recent call last)",
      "\u001b[0;32m<ipython-input-257-9a86b59b5170>\u001b[0m in \u001b[0;36m<module>\u001b[0;34m\u001b[0m\n\u001b[1;32m     21\u001b[0m \u001b[0membedding_2d\u001b[0m \u001b[0;34m=\u001b[0m \u001b[0mreducer_2d\u001b[0m\u001b[0;34m.\u001b[0m\u001b[0mfit_transform\u001b[0m\u001b[0;34m(\u001b[0m\u001b[0mpos_only\u001b[0m\u001b[0;34m)\u001b[0m\u001b[0;34m\u001b[0m\u001b[0;34m\u001b[0m\u001b[0m\n\u001b[1;32m     22\u001b[0m \u001b[0;34m\u001b[0m\u001b[0m\n\u001b[0;32m---> 23\u001b[0;31m \u001b[0mplot_2d\u001b[0m\u001b[0;34m(\u001b[0m\u001b[0membedding_2d\u001b[0m\u001b[0;34m,\u001b[0m \u001b[0mlabels\u001b[0m\u001b[0;34m,\u001b[0m \u001b[0mname\u001b[0m\u001b[0;34m=\u001b[0m\u001b[0;34m\"Alpha\"\u001b[0m\u001b[0;34m)\u001b[0m\u001b[0;34m\u001b[0m\u001b[0;34m\u001b[0m\u001b[0m\n\u001b[0m\u001b[1;32m     24\u001b[0m \u001b[0;34m\u001b[0m\u001b[0m\n\u001b[1;32m     25\u001b[0m \u001b[0mfig\u001b[0m \u001b[0;34m=\u001b[0m \u001b[0mplt\u001b[0m\u001b[0;34m.\u001b[0m\u001b[0mfigure\u001b[0m\u001b[0;34m(\u001b[0m\u001b[0mfigsize\u001b[0m\u001b[0;34m=\u001b[0m\u001b[0;34m(\u001b[0m\u001b[0;36m12\u001b[0m\u001b[0;34m,\u001b[0m\u001b[0;36m10\u001b[0m\u001b[0;34m)\u001b[0m\u001b[0;34m)\u001b[0m\u001b[0;34m\u001b[0m\u001b[0;34m\u001b[0m\u001b[0m\n",
      "\u001b[0;32m<ipython-input-256-c5dcc05e9add>\u001b[0m in \u001b[0;36mplot_2d\u001b[0;34m(X, labels, name)\u001b[0m\n\u001b[1;32m      2\u001b[0m     \u001b[0mplt\u001b[0m\u001b[0;34m.\u001b[0m\u001b[0mclose\u001b[0m\u001b[0;34m(\u001b[0m\u001b[0;34m)\u001b[0m\u001b[0;34m\u001b[0m\u001b[0;34m\u001b[0m\u001b[0m\n\u001b[1;32m      3\u001b[0m     \u001b[0mfig\u001b[0m \u001b[0;34m=\u001b[0m \u001b[0mplt\u001b[0m\u001b[0;34m.\u001b[0m\u001b[0mfigure\u001b[0m\u001b[0;34m(\u001b[0m\u001b[0mfigsize\u001b[0m\u001b[0;34m=\u001b[0m\u001b[0;34m(\u001b[0m\u001b[0;36m10\u001b[0m\u001b[0;34m,\u001b[0m\u001b[0;36m8\u001b[0m\u001b[0;34m)\u001b[0m\u001b[0;34m)\u001b[0m\u001b[0;34m\u001b[0m\u001b[0;34m\u001b[0m\u001b[0m\n\u001b[0;32m----> 4\u001b[0;31m     \u001b[0mplt\u001b[0m\u001b[0;34m.\u001b[0m\u001b[0mscatter\u001b[0m\u001b[0;34m(\u001b[0m\u001b[0mx\u001b[0m\u001b[0;34m=\u001b[0m\u001b[0mX\u001b[0m\u001b[0;34m[\u001b[0m\u001b[0;34m:\u001b[0m\u001b[0;34m,\u001b[0m\u001b[0;36m0\u001b[0m\u001b[0;34m]\u001b[0m\u001b[0;34m,\u001b[0m \u001b[0my\u001b[0m\u001b[0;34m=\u001b[0m\u001b[0mX\u001b[0m\u001b[0;34m[\u001b[0m\u001b[0;34m:\u001b[0m\u001b[0;34m,\u001b[0m\u001b[0;36m1\u001b[0m\u001b[0;34m]\u001b[0m\u001b[0;34m,\u001b[0m \u001b[0ms\u001b[0m\u001b[0;34m=\u001b[0m \u001b[0;36m30\u001b[0m\u001b[0;34m,\u001b[0m \u001b[0mc\u001b[0m\u001b[0;34m=\u001b[0m\u001b[0mlabels\u001b[0m\u001b[0;34m)\u001b[0m\u001b[0;34m\u001b[0m\u001b[0;34m\u001b[0m\u001b[0m\n\u001b[0m\u001b[1;32m      5\u001b[0m     \u001b[0mplt\u001b[0m\u001b[0;34m.\u001b[0m\u001b[0mcolorbar\u001b[0m\u001b[0;34m(\u001b[0m\u001b[0;34m)\u001b[0m\u001b[0;34m\u001b[0m\u001b[0;34m\u001b[0m\u001b[0m\n\u001b[1;32m      6\u001b[0m \u001b[0;34m\u001b[0m\u001b[0m\n",
      "\u001b[0;32m~/anaconda3/envs/condaflow/lib/python3.6/site-packages/matplotlib/pyplot.py\u001b[0m in \u001b[0;36mscatter\u001b[0;34m(x, y, s, c, marker, cmap, norm, vmin, vmax, alpha, linewidths, verts, edgecolors, data, **kwargs)\u001b[0m\n\u001b[1;32m   2860\u001b[0m         \u001b[0mvmin\u001b[0m\u001b[0;34m=\u001b[0m\u001b[0mvmin\u001b[0m\u001b[0;34m,\u001b[0m \u001b[0mvmax\u001b[0m\u001b[0;34m=\u001b[0m\u001b[0mvmax\u001b[0m\u001b[0;34m,\u001b[0m \u001b[0malpha\u001b[0m\u001b[0;34m=\u001b[0m\u001b[0malpha\u001b[0m\u001b[0;34m,\u001b[0m \u001b[0mlinewidths\u001b[0m\u001b[0;34m=\u001b[0m\u001b[0mlinewidths\u001b[0m\u001b[0;34m,\u001b[0m\u001b[0;34m\u001b[0m\u001b[0;34m\u001b[0m\u001b[0m\n\u001b[1;32m   2861\u001b[0m         verts=verts, edgecolors=edgecolors, **({\"data\": data} if data\n\u001b[0;32m-> 2862\u001b[0;31m         is not None else {}), **kwargs)\n\u001b[0m\u001b[1;32m   2863\u001b[0m     \u001b[0msci\u001b[0m\u001b[0;34m(\u001b[0m\u001b[0m__ret\u001b[0m\u001b[0;34m)\u001b[0m\u001b[0;34m\u001b[0m\u001b[0;34m\u001b[0m\u001b[0m\n\u001b[1;32m   2864\u001b[0m     \u001b[0;32mreturn\u001b[0m \u001b[0m__ret\u001b[0m\u001b[0;34m\u001b[0m\u001b[0;34m\u001b[0m\u001b[0m\n",
      "\u001b[0;32m~/anaconda3/envs/condaflow/lib/python3.6/site-packages/matplotlib/__init__.py\u001b[0m in \u001b[0;36minner\u001b[0;34m(ax, data, *args, **kwargs)\u001b[0m\n\u001b[1;32m   1808\u001b[0m                         \u001b[0;34m\"the Matplotlib list!)\"\u001b[0m \u001b[0;34m%\u001b[0m \u001b[0;34m(\u001b[0m\u001b[0mlabel_namer\u001b[0m\u001b[0;34m,\u001b[0m \u001b[0mfunc\u001b[0m\u001b[0;34m.\u001b[0m\u001b[0m__name__\u001b[0m\u001b[0;34m)\u001b[0m\u001b[0;34m,\u001b[0m\u001b[0;34m\u001b[0m\u001b[0;34m\u001b[0m\u001b[0m\n\u001b[1;32m   1809\u001b[0m                         RuntimeWarning, stacklevel=2)\n\u001b[0;32m-> 1810\u001b[0;31m             \u001b[0;32mreturn\u001b[0m \u001b[0mfunc\u001b[0m\u001b[0;34m(\u001b[0m\u001b[0max\u001b[0m\u001b[0;34m,\u001b[0m \u001b[0;34m*\u001b[0m\u001b[0margs\u001b[0m\u001b[0;34m,\u001b[0m \u001b[0;34m**\u001b[0m\u001b[0mkwargs\u001b[0m\u001b[0;34m)\u001b[0m\u001b[0;34m\u001b[0m\u001b[0;34m\u001b[0m\u001b[0m\n\u001b[0m\u001b[1;32m   1811\u001b[0m \u001b[0;34m\u001b[0m\u001b[0m\n\u001b[1;32m   1812\u001b[0m         inner.__doc__ = _add_data_doc(inner.__doc__,\n",
      "\u001b[0;32m~/anaconda3/envs/condaflow/lib/python3.6/site-packages/matplotlib/axes/_axes.py\u001b[0m in \u001b[0;36mscatter\u001b[0;34m(self, x, y, s, c, marker, cmap, norm, vmin, vmax, alpha, linewidths, verts, edgecolors, **kwargs)\u001b[0m\n\u001b[1;32m   4243\u001b[0m                         \u001b[0;34m\"acceptable for use with 'x' with size {xs}, \"\u001b[0m\u001b[0;34m\u001b[0m\u001b[0;34m\u001b[0m\u001b[0m\n\u001b[1;32m   4244\u001b[0m                         \u001b[0;34m\"'y' with size {ys}.\"\u001b[0m\u001b[0;34m\u001b[0m\u001b[0;34m\u001b[0m\u001b[0m\n\u001b[0;32m-> 4245\u001b[0;31m                         \u001b[0;34m.\u001b[0m\u001b[0mformat\u001b[0m\u001b[0;34m(\u001b[0m\u001b[0mnc\u001b[0m\u001b[0;34m=\u001b[0m\u001b[0mn_elem\u001b[0m\u001b[0;34m,\u001b[0m \u001b[0mxs\u001b[0m\u001b[0;34m=\u001b[0m\u001b[0mx\u001b[0m\u001b[0;34m.\u001b[0m\u001b[0msize\u001b[0m\u001b[0;34m,\u001b[0m \u001b[0mys\u001b[0m\u001b[0;34m=\u001b[0m\u001b[0my\u001b[0m\u001b[0;34m.\u001b[0m\u001b[0msize\u001b[0m\u001b[0;34m)\u001b[0m\u001b[0;34m\u001b[0m\u001b[0;34m\u001b[0m\u001b[0m\n\u001b[0m\u001b[1;32m   4246\u001b[0m                     )\n\u001b[1;32m   4247\u001b[0m                 \u001b[0;31m# Both the mapping *and* the RGBA conversion failed: pretty\u001b[0m\u001b[0;34m\u001b[0m\u001b[0;34m\u001b[0m\u001b[0;34m\u001b[0m\u001b[0m\n",
      "\u001b[0;31mValueError\u001b[0m: 'c' argument has 400 elements, which is not acceptable for use with 'x' with size 396, 'y' with size 396."
     ]
    }
   ],
   "source": [
    "pos_only = all_lrp_E.copy()\n",
    "pos_only[pos_only < 0] = 0\n",
    "\n",
    "_labels = modded_labels[correct]\n",
    "\n",
    "\n",
    "plt.close()\n",
    "\n",
    "reducer_3d = umap.UMAP(random_state=42,\n",
    "                    n_components = 3,\n",
    "                    n_neighbors=25,\n",
    "                    min_dist=0)\n",
    "\n",
    "reducer_2d = umap.UMAP(random_state=42,\n",
    "                    n_components = 2,\n",
    "                    n_neighbors=15,\n",
    "                    min_dist=0)\n",
    "\n",
    "embedding_3d = reducer_3d.fit_transform(pos_only)\n",
    "embedding_2d = reducer_2d.fit_transform(pos_only)\n",
    "\n",
    "plot_2d(embedding_2d, labels, name=\"Alpha\")\n",
    "\n",
    "fig = plt.figure(figsize=(12,10))\n",
    "ax = fig.add_subplot(111, projection='3d')\n",
    "_im = ax.scatter(embedding_3d[:,0], embedding_3d[:,1], embedding_3d[:,2], c=modded_labels, s=40)\n",
    "plt.colorbar(_im)\n",
    "\n",
    "plt.show()\n"
   ]
  },
  {
   "cell_type": "code",
   "execution_count": 32,
   "metadata": {},
   "outputs": [],
   "source": [
    "df = pd.DataFrame(pos_only)"
   ]
  },
  {
   "cell_type": "code",
   "execution_count": 41,
   "metadata": {},
   "outputs": [
    {
     "data": {
      "application/vnd.jupyter.widget-view+json": {
       "model_id": "",
       "version_major": 2,
       "version_minor": 0
      },
      "text/plain": [
       "FigureCanvasNbAgg()"
      ]
     },
     "metadata": {},
     "output_type": "display_data"
    }
   ],
   "source": [
    "fig = plt.figure(figsize=(12,10))\n",
    "ax = fig.add_subplot(111, projection='3d')\n",
    "_im = ax.scatter(df[1], df[1], df[2], c=labels, s=40)\n",
    "plt.colorbar(_im)\n",
    "\n",
    "plt.show()"
   ]
  },
  {
   "cell_type": "code",
   "execution_count": 48,
   "metadata": {},
   "outputs": [
    {
     "data": {
      "application/vnd.jupyter.widget-view+json": {
       "model_id": "454fa9d94412458f81b350501c0d6221",
       "version_major": 2,
       "version_minor": 0
      },
      "text/plain": [
       "FigureCanvasNbAgg()"
      ]
     },
     "metadata": {},
     "output_type": "display_data"
    }
   ],
   "source": [
    "\n",
    "\n",
    "plot_2d(df[[2,3]].values, labels)"
   ]
  },
  {
   "cell_type": "code",
   "execution_count": 46,
   "metadata": {},
   "outputs": [
    {
     "data": {
      "text/plain": [
       "array([[0.        , 0.        ],\n",
       "       [0.        , 0.        ],\n",
       "       [0.        , 0.        ],\n",
       "       [0.        , 0.        ],\n",
       "       [0.        , 0.        ],\n",
       "       [0.        , 0.        ],\n",
       "       [0.        , 0.        ],\n",
       "       [0.        , 0.        ],\n",
       "       [0.        , 0.        ],\n",
       "       [0.        , 0.        ],\n",
       "       [0.        , 0.        ],\n",
       "       [0.        , 0.        ],\n",
       "       [0.        , 0.        ],\n",
       "       [0.        , 0.        ],\n",
       "       [0.        , 0.        ],\n",
       "       [0.        , 0.        ],\n",
       "       [0.        , 0.        ],\n",
       "       [0.        , 0.        ],\n",
       "       [0.        , 0.        ],\n",
       "       [0.        , 0.        ],\n",
       "       [0.        , 0.        ],\n",
       "       [0.        , 0.        ],\n",
       "       [0.        , 0.        ],\n",
       "       [0.        , 0.        ],\n",
       "       [0.        , 0.        ],\n",
       "       [0.        , 0.        ],\n",
       "       [0.        , 0.        ],\n",
       "       [0.        , 0.        ],\n",
       "       [0.        , 0.        ],\n",
       "       [0.        , 0.        ],\n",
       "       [0.        , 0.        ],\n",
       "       [0.        , 0.        ],\n",
       "       [0.        , 0.        ],\n",
       "       [0.        , 0.        ],\n",
       "       [0.        , 0.        ],\n",
       "       [0.        , 0.        ],\n",
       "       [0.        , 0.        ],\n",
       "       [0.        , 0.        ],\n",
       "       [0.        , 0.        ],\n",
       "       [0.        , 0.        ],\n",
       "       [0.        , 0.        ],\n",
       "       [0.        , 0.        ],\n",
       "       [0.        , 0.        ],\n",
       "       [0.        , 0.        ],\n",
       "       [0.        , 0.        ],\n",
       "       [0.        , 0.        ],\n",
       "       [0.        , 0.        ],\n",
       "       [0.        , 0.        ],\n",
       "       [0.        , 0.        ],\n",
       "       [0.        , 0.        ],\n",
       "       [3.2341988 , 0.40015644],\n",
       "       [3.046534  , 0.45864302],\n",
       "       [2.8313122 , 0.36269432],\n",
       "       [3.6073656 , 0.4830174 ],\n",
       "       [2.922147  , 0.40658927],\n",
       "       [2.8258095 , 0.33863568],\n",
       "       [2.7649713 , 0.38222763],\n",
       "       [4.3817997 , 0.5706662 ],\n",
       "       [3.0519426 , 0.35633597],\n",
       "       [3.1038227 , 0.4814218 ],\n",
       "       [4.7189617 , 0.52742887],\n",
       "       [3.1504023 , 0.46760798],\n",
       "       [3.8795683 , 0.37352076],\n",
       "       [2.6625073 , 0.3431123 ],\n",
       "       [4.0095453 , 0.66652346],\n",
       "       [3.2478168 , 0.45864558],\n",
       "       [2.6911252 , 0.39135474],\n",
       "       [3.8241687 , 0.3592794 ],\n",
       "       [3.0402374 , 0.2659639 ],\n",
       "       [3.5892904 , 0.4113137 ],\n",
       "       [2.429065  , 0.4314561 ],\n",
       "       [3.7416108 , 0.5143993 ],\n",
       "       [2.5567577 , 0.27426904],\n",
       "       [2.8587954 , 0.30249736],\n",
       "       [3.4838312 , 0.39341414],\n",
       "       [2.0539353 , 0.2533825 ],\n",
       "       [2.009465  , 0.22820462],\n",
       "       [1.9541065 , 0.23865747],\n",
       "       [1.8167952 , 0.2643046 ],\n",
       "       [2.3233948 , 0.3615671 ],\n",
       "       [2.1991553 , 0.2659869 ],\n",
       "       [2.2736406 , 0.19892563],\n",
       "       [2.3180668 , 0.34378758],\n",
       "       [1.8425106 , 0.2508426 ],\n",
       "       [1.871185  , 0.2888521 ],\n",
       "       [1.7537334 , 0.29944625],\n",
       "       [2.0451522 , 0.22219095],\n",
       "       [2.2010138 , 0.21247678],\n",
       "       [1.963438  , 0.376471  ],\n",
       "       [2.0713866 , 0.28989023],\n",
       "       [1.8753899 , 0.3162305 ],\n",
       "       [1.9620641 , 0.23506565],\n",
       "       [2.093368  , 0.21197449],\n",
       "       [2.3116667 , 0.24017397],\n",
       "       [2.0252109 , 0.3262897 ],\n",
       "       [1.8947334 , 0.27891058],\n",
       "       [1.9602963 , 0.28915378],\n",
       "       [2.1946063 , 0.29479325],\n",
       "       [2.2673657 , 0.53180546],\n",
       "       [2.0549471 , 0.23327528]], dtype=float32)"
      ]
     },
     "execution_count": 46,
     "metadata": {},
     "output_type": "execute_result"
    }
   ],
   "source": []
  },
  {
   "cell_type": "code",
   "execution_count": null,
   "metadata": {},
   "outputs": [],
   "source": []
  }
 ],
 "metadata": {
  "kernelspec": {
   "display_name": "condaflow",
   "language": "python",
   "name": "condaflow"
  },
  "language_info": {
   "codemirror_mode": {
    "name": "ipython",
    "version": 3
   },
   "file_extension": ".py",
   "mimetype": "text/x-python",
   "name": "python",
   "nbconvert_exporter": "python",
   "pygments_lexer": "ipython3",
   "version": "3.6.8"
  }
 },
 "nbformat": 4,
 "nbformat_minor": 2
}
