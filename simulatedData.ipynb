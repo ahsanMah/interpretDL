{
 "cells": [
  {
   "cell_type": "code",
   "execution_count": 82,
   "metadata": {},
   "outputs": [
    {
     "data": {
      "text/plain": [
       "'1.13.1'"
      ]
     },
     "execution_count": 82,
     "metadata": {},
     "output_type": "execute_result"
    }
   ],
   "source": [
    "import tensorflow as tf\n",
    "import numpy as np\n",
    "import pandas as pd\n",
    "import keras\n",
    "\n",
    "from imblearn.over_sampling import SMOTE\n",
    "from sklearn.model_selection import StratifiedShuffleSplit\n",
    "# Converting labels to 1-Hot Vectors\n",
    "from sklearn.preprocessing import OneHotEncoder\n",
    "\n",
    "\n",
    "\n",
    "import sys\n",
    "# sys.path.append(\"/Users/Work/Developer/interpretDL/interprettensor\")\n",
    "root_logdir = \"./tf_logs\"\n",
    "\n",
    "# To plot pretty figures\n",
    "%matplotlib widget\n",
    "import matplotlib\n",
    "import matplotlib.pyplot as plt\n",
    "plt.rcParams['axes.labelsize'] = 14\n",
    "plt.rcParams['xtick.labelsize'] = 12\n",
    "plt.rcParams['ytick.labelsize'] = 12\n",
    "\n",
    "# to make this notebook's output stable across runs\n",
    "def reset_graph(seed=42):\n",
    "    tf.reset_default_graph()\n",
    "    tf.set_random_seed(seed)\n",
    "    np.random.seed(seed)\n",
    "\n",
    "np.random.seed(seed=42) \n",
    "tf.__version__"
   ]
  },
  {
   "cell_type": "code",
   "execution_count": 139,
   "metadata": {},
   "outputs": [],
   "source": [
    "# Helper Functions\n",
    "\n",
    "from sklearn.metrics import confusion_matrix\n",
    "from sklearn.utils.multiclass import unique_labels\n",
    "\n",
    "######### Taken from sklearn #######\n",
    "def plot_confusion_matrix(y_true, y_pred, classes,\n",
    "                          normalize=False,\n",
    "                          title=None,\n",
    "                          cmap=plt.cm.Blues):\n",
    "    \"\"\"\n",
    "    This function prints and plots the confusion matrix.\n",
    "    Normalization can be applied by setting `normalize=True`.\n",
    "    \"\"\"\n",
    "    if not title:\n",
    "        if normalize:\n",
    "            title = 'Normalized confusion matrix'\n",
    "        else:\n",
    "            title = 'Confusion matrix, without normalization'\n",
    "\n",
    "    # Compute confusion matrix\n",
    "    cm = confusion_matrix(y_true, y_pred)\n",
    "    # Only use the labels that appear in the data\n",
    "    classes = classes[unique_labels(y_true, y_pred)]\n",
    "    if normalize:\n",
    "        cm = cm.astype('float') / cm.sum(axis=1)[:, np.newaxis]\n",
    "        print(\"Normalized confusion matrix\")\n",
    "    else:\n",
    "        print('Confusion matrix, without normalization')\n",
    "\n",
    "    print(cm)\n",
    "\n",
    "    fig, ax = plt.subplots(figsize=[8,8])\n",
    "    im = ax.imshow(cm, interpolation='nearest', cmap=cmap)\n",
    "    ax.figure.colorbar(im, ax=ax)\n",
    "    # We want to show all ticks...\n",
    "    ax.set(xticks=np.arange(cm.shape[1]),\n",
    "           yticks=np.arange(cm.shape[0]),\n",
    "           # ... and label them with the respective list entries\n",
    "           xticklabels=classes, yticklabels=classes,\n",
    "           title=title,\n",
    "           ylabel='True label',\n",
    "           xlabel='Predicted label')\n",
    "\n",
    "    # Rotate the tick labels and set their alignment.\n",
    "    plt.setp(ax.get_xticklabels(), rotation=45, ha=\"right\",\n",
    "             rotation_mode=\"anchor\")\n",
    "\n",
    "    # Loop over data dimensions and create text annotations.\n",
    "    fmt = '.2f' if normalize else 'd'\n",
    "    thresh = cm.max() / 2.\n",
    "    for i in range(cm.shape[0]):\n",
    "        for j in range(cm.shape[1]):\n",
    "            ax.text(j, i, format(cm[i, j], fmt),\n",
    "                    ha=\"center\", va=\"center\",\n",
    "                    color=\"white\" if cm[i, j] > thresh else \"black\")\n",
    "    fig.tight_layout()\n",
    "    return ax\n",
    "\n",
    "\n",
    "def get1hot(y_train,y_test):\n",
    "    from sklearn.preprocessing import OneHotEncoder\n",
    "\n",
    "    enc = OneHotEncoder(categories=\"auto\", sparse=False)\n",
    "    y_train_1hot = enc.fit_transform([[label] for label in y_train]) # Since the function expects an array of \"features\" per sample\n",
    "    y_test_1hot = enc.fit_transform([[label] for label in y_test])\n",
    "\n",
    "    return y_train_1hot, y_test_1hot\n",
    "\n",
    "def get_split(features, labels):\n",
    "    features = np.array(features)\n",
    "    # The train set will have equal amounts of each target class\n",
    "    split = StratifiedShuffleSplit(n_splits=1, test_size=0.2, random_state=42)\n",
    "    for train_index, test_index in split.split(features, labels):\n",
    "        X_train = features[train_index]\n",
    "        y_train = labels.iloc[train_index]\n",
    "        X_test = features[test_index]\n",
    "        y_test = labels.iloc[test_index]\n",
    "        \n",
    "        yield X_train, y_train, X_test, y_test\n",
    "\n",
    "def plot_history(history):\n",
    "    plt.close()\n",
    "    fig, axs = plt.subplots(1, 2, figsize=(12,6))\n",
    "\n",
    "    # Plot training & validation accuracy values\n",
    "    axs[0].grid(True)\n",
    "    axs[0].plot(history.history['binary_accuracy'])\n",
    "    axs[0].plot(history.history['val_binary_accuracy'])\n",
    "    axs[0].set(title='Model accuracy', ylabel='Accuracy', xlabel='Epoch')\n",
    "    axs[0].legend(['Train', 'Test'], loc='upper left')\n",
    "\n",
    "    # Plot training & validation loss values\n",
    "    axs[1].grid(True)\n",
    "    axs[1].plot(history.history['loss'])\n",
    "    axs[1].plot(history.history['val_loss'])\n",
    "    axs[1].set(title='Model loss',ylabel='Loss', xlabel='Epoch')\n",
    "    axs[1].legend(['Train', 'Test'], loc='upper left')\n",
    "\n",
    "    plt.show()\n",
    "\n",
    "\n",
    "def remove_label(features, labels, label=\"MCI\"):\n",
    "    labels = pd.Series(fused_labels)\n",
    "    non_samples = labels != label\n",
    "\n",
    "    stripped_features = features[non_samples]\n",
    "    stripped_labels = labels[non_samples]\n",
    "\n",
    "    return stripped_features, stripped_labels"
   ]
  },
  {
   "cell_type": "code",
   "execution_count": 7,
   "metadata": {},
   "outputs": [],
   "source": [
    "from sklearn.base import BaseEstimator, TransformerMixin\n",
    "from sklearn.pipeline import Pipeline\n",
    "from sklearn.preprocessing import StandardScaler\n",
    "\n",
    "class AttributeRemover(BaseEstimator, TransformerMixin):\n",
    "    \"\"\"\n",
    "    Returns a copy of matrix with attributes removed\n",
    "    \"\"\"\n",
    "    def __init__(self, attribute_names):\n",
    "        self.attribute_names = attribute_names\n",
    "    \n",
    "    def fit(self, X, y=None):\n",
    "        return # Doesn't do anything\n",
    "    \n",
    "    def transform(self, X, y=None):\n",
    "        return X.drop(columns=self.attribute_names)\n",
    "\n",
    "class OverSampler(BaseEstimator, TransformerMixin):\n",
    "    \"\"\"\n",
    "    Returns a copy of matrix with attributes removed\n",
    "    \"\"\"\n",
    "    def __init__(self, random_state=42):\n",
    "        self.smote = SMOTE(random_state=random_state)\n",
    "    \n",
    "    def fit(self, X, y=None):\n",
    "        return None\n",
    "    \n",
    "    def transform(self, X, y=None):\n",
    "        return self.smote.fit_resample(X,y)\n",
    "\n",
    "class AddNoise(BaseEstimator, TransformerMixin):\n",
    "    \"\"\"\n",
    "    Returns a copy of matrix with attributes removed\n",
    "    \"\"\"\n",
    "    def __init__(self, random_state=42):\n",
    "        self.smote = SMOTE(random_state=random_state)\n",
    "    \n",
    "    def fit(self, X, y=None):\n",
    "        return None\n",
    "    \n",
    "    def transform(self, X, y=None):\n",
    "        return self.smote.fit_resample(X,y)\n",
    "    \n",
    "# Not used\n",
    "train_pipeline = Pipeline([\n",
    "                    (\"smote\", OverSampler()),\n",
    "                    (\"normalizer\", StandardScaler()) ])"
   ]
  },
  {
   "cell_type": "code",
   "execution_count": 19,
   "metadata": {},
   "outputs": [
    {
     "data": {
      "text/plain": [
       "array(['setosa', 'versicolor', 'virginica'], dtype='<U10')"
      ]
     },
     "execution_count": 19,
     "metadata": {},
     "output_type": "execute_result"
    }
   ],
   "source": [
    "from sklearn import datasets\n",
    "\n",
    "iris = datasets.load_iris()\n",
    "\n",
    "features = pd.DataFrame(iris[\"data\"])\n",
    "target = pd.Series(iris[\"target\"])\n",
    "flower_names = iris[\"target_names\"]\n",
    "feature_names = iris[\"feature_names\"]\n",
    "flower_names"
   ]
  },
  {
   "cell_type": "markdown",
   "metadata": {},
   "source": [
    "### Get the first 2 flower samples"
   ]
  },
  {
   "cell_type": "code",
   "execution_count": 65,
   "metadata": {},
   "outputs": [],
   "source": [
    "setosa = target == 0\n",
    "versicolor = target == 1\n",
    "samples = features[setosa | versicolor]\n",
    "labels = target[setosa | versicolor]\n",
    "class_size = sum(setosa)"
   ]
  },
  {
   "cell_type": "markdown",
   "metadata": {},
   "source": [
    "### Splitting *versicolor* into two sub classes"
   ]
  },
  {
   "cell_type": "code",
   "execution_count": 77,
   "metadata": {},
   "outputs": [
    {
     "name": "stdout",
     "output_type": "stream",
     "text": [
      "0    5.936\n",
      "1    2.770\n",
      "2    4.260\n",
      "3    1.326\n",
      "dtype: float64\n"
     ]
    },
    {
     "data": {
      "text/plain": [
       "0    0.510983\n",
       "1    0.310644\n",
       "2    0.465188\n",
       "3    0.195765\n",
       "dtype: float64"
      ]
     },
     "execution_count": 77,
     "metadata": {},
     "output_type": "execute_result"
    }
   ],
   "source": [
    "# Adding Gaussian Noise\n",
    "\n",
    "# Positive to first two features\n",
    "gauss_noise = np.random.normal(loc=0.1,scale=0.1, size=[class_size,2])\n",
    "gauss_noise[gauss_noise < 0] = 0\n",
    "B1 = samples.iloc[50:,:2] + gauss_noise\n",
    "\n",
    "# Negative to last two features\n",
    "gauss_noise = np.random.normal(loc=0.1,scale=0.1, size=[class_size,2])\n",
    "gauss_noise[gauss_noise < 0] = 0\n",
    "B2 = samples.iloc[50:,2:] - gauss_noise\n",
    "\n",
    "# Combining the two fake \"subclasses\"\n",
    "noisy_samples = np.concatenate((B1, B2), axis=1)\n",
    "\n",
    "# print(np.mean(samples[50:]))\n",
    "# np.std(samples[50:])"
   ]
  },
  {
   "cell_type": "code",
   "execution_count": 81,
   "metadata": {},
   "outputs": [],
   "source": [
    "modded_samples = np.concatenate((samples.iloc[:50,:],noisy_samples))\n",
    "\n",
    "# modded_samples\n",
    "# print(np.mean(modded_samples[50:], axis=0))\n",
    "# np.std(modded_samples[50:],axis=0)"
   ]
  },
  {
   "cell_type": "markdown",
   "metadata": {},
   "source": [
    "### Train a DNN on the modified dataset"
   ]
  },
  {
   "cell_type": "code",
   "execution_count": 202,
   "metadata": {},
   "outputs": [
    {
     "name": "stdout",
     "output_type": "stream",
     "text": [
      "Train Size: (80, 4)\n",
      "Test Size: (20,)\n",
      "Categories: [array([0, 1])]\n"
     ]
    },
    {
     "data": {
      "text/plain": [
       "(array([[4.99047045, 2.52790215, 3.02640362, 0.88020892],\n",
       "        [6.79178488, 3.21172958, 4.95503052, 1.66716234],\n",
       "        [6.14410782, 3.03772119, 4.59619965, 1.28799687],\n",
       "        [6.50287448, 3.42784519, 4.39403696, 1.46469368],\n",
       "        [5.        , 3.4       , 1.5       , 0.2       ],\n",
       "        [5.8       , 4.        , 1.2       , 0.2       ],\n",
       "        [5.4       , 3.4       , 1.7       , 0.2       ],\n",
       "        [6.67587639, 3.13520554, 4.36255627, 1.26041965],\n",
       "        [5.7       , 3.8       , 1.7       , 0.3       ],\n",
       "        [4.6       , 3.6       , 1.        , 0.2       ],\n",
       "        [4.4       , 3.2       , 1.3       , 0.2       ],\n",
       "        [6.76078965, 3.01866091, 4.5651418 , 1.24838858],\n",
       "        [5.        , 3.3       , 1.4       , 0.2       ],\n",
       "        [4.4       , 3.        , 1.3       , 0.2       ],\n",
       "        [5.4       , 3.7       , 1.5       , 0.2       ],\n",
       "        [5.25033983, 2.48773623, 3.09697165, 0.87612108],\n",
       "        [5.72438007, 2.54359214, 3.77755482, 0.89529017],\n",
       "        [5.2       , 3.4       , 1.4       , 0.2       ],\n",
       "        [6.42493837, 3.55774533, 4.39247391, 1.56891878],\n",
       "        [5.4959842 , 3.        , 4.44677012, 1.36534961]]),\n",
       " array([1, 1, 1, 1, 0, 0, 0, 1, 0, 0, 0, 1, 0, 0, 0, 1, 1, 0, 1, 1]))"
      ]
     },
     "execution_count": 202,
     "metadata": {},
     "output_type": "execute_result"
    }
   ],
   "source": [
    "# Get split returns a generator\n",
    "# List comprehension is one way to evaluate a generator\n",
    "X_train, y_train, X_test, y_test = list(get_split(modded_samples, labels))[0]\n",
    "print(\"Train Size:\", X_train.shape)\n",
    "print(\"Test Size:\", y_test.shape)\n",
    "\n",
    "\n",
    "hot_encoder = OneHotEncoder(categories=\"auto\", sparse=False)\n",
    "hot_encoder.fit(labels.values.reshape(-1,1)) # Since the function expects an array of \"features\" per sample\n",
    "print(\"Categories:\", hot_encoder.categories_)\n",
    "X_test, y_test.values"
   ]
  },
  {
   "cell_type": "code",
   "execution_count": 123,
   "metadata": {},
   "outputs": [],
   "source": [
    "NUM_FEATURES = X_train.shape[1]\n",
    "NUM_LABELS = len(hot_encoder.categories_[0])"
   ]
  },
  {
   "cell_type": "code",
   "execution_count": 236,
   "metadata": {},
   "outputs": [],
   "source": [
    "def build_dnn(num_features, num_labels=3):\n",
    "\n",
    "#     reset_graph()\n",
    "    \n",
    "    keras.backend.clear_session()\n",
    "\n",
    "    nn = keras.models.Sequential()\n",
    "    Dense = keras.layers.Dense\n",
    "    \n",
    "    # Using He initialization\n",
    "    he_init = tf.contrib.layers.variance_scaling_initializer()\n",
    "    \n",
    "    nn.add(Dense(units = 12, activation=\"elu\", input_dim=num_features,\n",
    "                kernel_initializer=he_init))\n",
    "    nn.add(Dense(units = 12, activation=\"elu\",\n",
    "                kernel_initializer=he_init))\n",
    "    nn.add(Dense(units=1, activation= \"sigmoid\",\n",
    "                kernel_initializer=he_init))\n",
    "\n",
    "#     BCE = tf.keras.losses.BinaryCrossentropy(from_logits=True)\n",
    "    \n",
    "    nn.compile(loss=\"binary_crossentropy\",\n",
    "                  optimizer='sgd',\n",
    "                  metrics=['binary_accuracy'])\n",
    "    \n",
    "    return nn\n",
    "\n",
    "def train_model(model, X, y, X_test=[], y_test=[], epochs=30, batch_size=20, verbose=1, plot=True):\n",
    "    \n",
    "    ZScaler = StandardScaler().fit(X)\n",
    "    \n",
    "    X_train = ZScaler.transform(X)\n",
    "    X_test = ZScaler.transform(X_test)\n",
    "    \n",
    "    y_train = y.values\n",
    "    y_test = y_test.values\n",
    "    \n",
    "#     lr_scheduler = keras.callbacks.LearningRateScheduler(exp_decay)\n",
    "    callback_list = []\n",
    "    \n",
    "    history = model.fit(X_train, y_train, epochs=epochs, batch_size = batch_size,\n",
    "                        validation_data=(X_test, y_test), callbacks=callback_list, verbose=verbose)\n",
    "    \n",
    "#     if plot: plot_history(history)\n",
    "    \n",
    "    return history, ZScaler\n"
   ]
  },
  {
   "cell_type": "code",
   "execution_count": 237,
   "metadata": {},
   "outputs": [
    {
     "name": "stdout",
     "output_type": "stream",
     "text": [
      "Train on 80 samples, validate on 20 samples\n",
      "Epoch 1/20\n",
      "80/80 [==============================] - 0s 2ms/step - loss: 2.0894 - binary_accuracy: 0.2000 - val_loss: 1.5003 - val_binary_accuracy: 0.3000\n",
      "Epoch 2/20\n",
      "80/80 [==============================] - 0s 101us/step - loss: 1.0015 - binary_accuracy: 0.4375 - val_loss: 0.7089 - val_binary_accuracy: 0.6000\n",
      "Epoch 3/20\n",
      "80/80 [==============================] - 0s 131us/step - loss: 0.4899 - binary_accuracy: 0.8125 - val_loss: 0.3802 - val_binary_accuracy: 0.9000\n",
      "Epoch 4/20\n",
      "80/80 [==============================] - 0s 116us/step - loss: 0.2896 - binary_accuracy: 0.9250 - val_loss: 0.2495 - val_binary_accuracy: 0.9500\n",
      "Epoch 5/20\n",
      "80/80 [==============================] - 0s 121us/step - loss: 0.2003 - binary_accuracy: 0.9500 - val_loss: 0.1850 - val_binary_accuracy: 1.0000\n",
      "Epoch 6/20\n",
      "80/80 [==============================] - 0s 107us/step - loss: 0.1514 - binary_accuracy: 0.9750 - val_loss: 0.1471 - val_binary_accuracy: 1.0000\n",
      "Epoch 7/20\n",
      "80/80 [==============================] - 0s 111us/step - loss: 0.1210 - binary_accuracy: 0.9875 - val_loss: 0.1222 - val_binary_accuracy: 1.0000\n",
      "Epoch 8/20\n",
      "80/80 [==============================] - 0s 102us/step - loss: 0.1003 - binary_accuracy: 0.9875 - val_loss: 0.1047 - val_binary_accuracy: 1.0000\n",
      "Epoch 9/20\n",
      "80/80 [==============================] - 0s 107us/step - loss: 0.0854 - binary_accuracy: 0.9875 - val_loss: 0.0916 - val_binary_accuracy: 1.0000\n",
      "Epoch 10/20\n",
      "80/80 [==============================] - 0s 115us/step - loss: 0.0741 - binary_accuracy: 1.0000 - val_loss: 0.0815 - val_binary_accuracy: 1.0000\n",
      "Epoch 11/20\n",
      "80/80 [==============================] - 0s 99us/step - loss: 0.0654 - binary_accuracy: 1.0000 - val_loss: 0.0735 - val_binary_accuracy: 1.0000\n",
      "Epoch 12/20\n",
      "80/80 [==============================] - 0s 104us/step - loss: 0.0584 - binary_accuracy: 1.0000 - val_loss: 0.0670 - val_binary_accuracy: 1.0000\n",
      "Epoch 13/20\n",
      "80/80 [==============================] - 0s 99us/step - loss: 0.0527 - binary_accuracy: 1.0000 - val_loss: 0.0616 - val_binary_accuracy: 1.0000\n",
      "Epoch 14/20\n",
      "80/80 [==============================] - 0s 96us/step - loss: 0.0480 - binary_accuracy: 1.0000 - val_loss: 0.0570 - val_binary_accuracy: 1.0000\n",
      "Epoch 15/20\n",
      "80/80 [==============================] - 0s 103us/step - loss: 0.0440 - binary_accuracy: 1.0000 - val_loss: 0.0532 - val_binary_accuracy: 1.0000\n",
      "Epoch 16/20\n",
      "80/80 [==============================] - 0s 104us/step - loss: 0.0406 - binary_accuracy: 1.0000 - val_loss: 0.0498 - val_binary_accuracy: 1.0000\n",
      "Epoch 17/20\n",
      "80/80 [==============================] - 0s 96us/step - loss: 0.0376 - binary_accuracy: 1.0000 - val_loss: 0.0469 - val_binary_accuracy: 1.0000\n",
      "Epoch 18/20\n",
      "80/80 [==============================] - 0s 98us/step - loss: 0.0351 - binary_accuracy: 1.0000 - val_loss: 0.0443 - val_binary_accuracy: 1.0000\n",
      "Epoch 19/20\n",
      "80/80 [==============================] - 0s 99us/step - loss: 0.0328 - binary_accuracy: 1.0000 - val_loss: 0.0420 - val_binary_accuracy: 1.0000\n",
      "Epoch 20/20\n",
      "80/80 [==============================] - 0s 110us/step - loss: 0.0308 - binary_accuracy: 1.0000 - val_loss: 0.0400 - val_binary_accuracy: 1.0000\n"
     ]
    }
   ],
   "source": [
    "nn = build_dnn(NUM_FEATURES)\n",
    "history, Zscaler = train_model(nn, X_train, y_train, X_test, y_test, epochs=20, batch_size=10)"
   ]
  },
  {
   "cell_type": "code",
   "execution_count": 238,
   "metadata": {},
   "outputs": [
    {
     "data": {
      "application/vnd.jupyter.widget-view+json": {
       "model_id": "1f436d08315d4e9e940995d9bd55f27c",
       "version_major": 2,
       "version_minor": 0
      },
      "text/plain": [
       "FigureCanvasNbAgg()"
      ]
     },
     "metadata": {},
     "output_type": "display_data"
    }
   ],
   "source": [
    "# Plotting results from history\n",
    "plot_history(history)\n"
   ]
  },
  {
   "cell_type": "code",
   "execution_count": 240,
   "metadata": {},
   "outputs": [
    {
     "data": {
      "text/plain": [
       "1.0"
      ]
     },
     "execution_count": 240,
     "metadata": {},
     "output_type": "execute_result"
    }
   ],
   "source": [
    "sess = tf.Session()\n",
    "predictions = nn.predict(Zscaler.transform(modded_samples))\n",
    "_labels = [np.float(x) for x in labels]\n",
    "\n",
    "sess.run(keras.metrics.binary_accuracy(_labels,predictions.flatten()))\n",
    "# predictions[0][0]\n",
    "# _labels\n",
    "# nn.evaluate(Zscaler.transform(modded_samples),labels.values)\n",
    "# nn.evaluate(modded_samples,labels.values)\n",
    "\n"
   ]
  },
  {
   "cell_type": "markdown",
   "metadata": {},
   "source": [
    "# DONT FORGET TO RENORMALIZE WHEN EVALUATING SAMPLES"
   ]
  },
  {
   "cell_type": "code",
   "execution_count": 128,
   "metadata": {},
   "outputs": [
    {
     "name": "stdout",
     "output_type": "stream",
     "text": [
      "[13 17 30 39 45 63 67 80 89 95]\n",
      "Scores on test set: loss=0.989 accuracy=1.0000\n",
      "[19 25 26 32 48 69 75 76 82 98]\n",
      "Scores on test set: loss=1.000 accuracy=1.0000\n",
      "[ 3  4  8 12 37 53 54 58 62 87]\n",
      "Scores on test set: loss=1.000 accuracy=1.0000\n",
      "[ 6 15 41 46 47 56 65 91 96 97]\n",
      "Scores on test set: loss=1.000 accuracy=0.9000\n",
      "[ 9 16 24 31 34 59 66 74 81 84]\n",
      "Scores on test set: loss=1.000 accuracy=1.0000\n",
      "[ 0  5 27 33 44 50 55 77 83 94]\n",
      "Scores on test set: loss=1.000 accuracy=1.0000\n",
      "[ 1 11 21 29 36 51 61 71 79 86]\n",
      "Scores on test set: loss=1.000 accuracy=1.0000\n",
      "[ 2 23 35 40 43 52 73 85 90 93]\n",
      "Scores on test set: loss=1.000 accuracy=1.0000\n",
      "[10 18 20 22 49 60 68 70 72 99]\n",
      "Scores on test set: loss=1.000 accuracy=1.0000\n",
      "[ 7 14 28 38 42 57 64 78 88 92]\n",
      "Scores on test set: loss=1.000 accuracy=1.0000\n"
     ]
    }
   ],
   "source": [
    "from sklearn.model_selection import StratifiedKFold as KFold\n",
    "# keras.backend.clear_session()\n",
    "\n",
    "def getKF(X,y, n_splits=10):\n",
    "    kf = KFold(n_splits=n_splits, shuffle=True, random_state=42 ) #Default = 10\n",
    "\n",
    "    for train_index, test_index in kf.split(X,y):\n",
    "        X_train = X[train_index]\n",
    "        y_train = y.iloc[train_index]\n",
    "        X_test = X[test_index]\n",
    "        y_test = y.iloc[test_index]\n",
    "        \n",
    "        yield X_train, y_train, X_test, y_test, test_index\n",
    "\n",
    "histories = []\n",
    "testing_indxs =[]\n",
    "predictions = []\n",
    "true_labels = []\n",
    "zoo = []\n",
    "for X_train, y_train, X_test, y_test, test_index in getKF(modded_samples, labels):\n",
    "    print(test_index)\n",
    "    dnn = build_dnn(NUM_FEATURES, NUM_LABELS)\n",
    "    history, ZScaler = train_model(dnn,X_train, y_train, X_test, y_test, verbose=0, plot=False, epochs=20, batch_size=10)\n",
    "    \n",
    "    # Updating all information arrays\n",
    "    histories.append(history)\n",
    "    testing_indxs.append(test_index)\n",
    "    zoo.append(dnn)\n",
    "    \n",
    "    y_pred_probs = dnn.predict(ZScaler.transform(X_test))\n",
    "    y_pred = np.argmax(y_pred_probs, axis=1)\n",
    "    y_true = np.argmax(hot_encoder.transform(y_test.values.reshape(-1,1)), axis=1)\n",
    "    \n",
    "    predictions.extend(y_pred)\n",
    "    true_labels.extend(y_true)\n",
    "    \n",
    "    print(\"Scores on test set: loss={:0.3f} accuracy={:.4f}\".format(history.history[\"binary_accuracy\"][-1], history.history[\"val_binary_accuracy\"][-1]))"
   ]
  },
  {
   "cell_type": "code",
   "execution_count": 131,
   "metadata": {},
   "outputs": [
    {
     "data": {
      "application/vnd.jupyter.widget-view+json": {
       "model_id": "b0ec0678677a40c992310a4695e058f5",
       "version_major": 2,
       "version_minor": 0
      },
      "text/plain": [
       "FigureCanvasNbAgg()"
      ]
     },
     "metadata": {},
     "output_type": "display_data"
    }
   ],
   "source": [
    "# Num is the figure number and clear tells it to clear the figure if it already exists\n",
    "plt.close()\n",
    "fig, axs = plt.subplots(num=\"KF Eval\",\n",
    "                        nrows=len(histories)//2, ncols=2,\n",
    "                        figsize=(10,10), sharex=True, sharey=True)\n",
    "axs=axs.flatten()\n",
    "dfs = []\n",
    "\n",
    "for i,history in enumerate(histories):\n",
    "    df = pd.DataFrame(history.history)\n",
    "    dfs.append(df)\n",
    "#     axs[i].grid(True)\n",
    "    df[[\"binary_accuracy\",\"val_binary_accuracy\"]].plot(ax=axs[i], grid=True)"
   ]
  },
  {
   "cell_type": "code",
   "execution_count": 242,
   "metadata": {},
   "outputs": [
    {
     "name": "stdout",
     "output_type": "stream",
     "text": [
      "100/100 [==============================] - 0s 382us/step\n"
     ]
    },
    {
     "data": {
      "text/plain": [
       "[0.031785084158182146, 1.0]"
      ]
     },
     "execution_count": 242,
     "metadata": {},
     "output_type": "execute_result"
    }
   ],
   "source": [
    "sess = tf.Session()\n",
    "idx = -1\n",
    "best_dnn = zoo[idx]\n",
    "\n",
    "predictions = best_dnn.predict(Zscaler.transform(modded_samples))\n",
    "_labels = [np.float(x) for x in labels]\n",
    "sess.run(keras.metrics.binary_accuracy(_labels,predictions.flatten()))\n",
    "\n",
    "best_dnn.evaluate(Zscaler.transform(modded_samples),labels.values)\n",
    "# NOT bestdnn.evaluate(modded_samples,labels.values)\n"
   ]
  },
  {
   "cell_type": "markdown",
   "metadata": {},
   "source": [
    "# NOW PERFORM LRP"
   ]
  },
  {
   "cell_type": "code",
   "execution_count": null,
   "metadata": {},
   "outputs": [],
   "source": []
  }
 ],
 "metadata": {
  "kernelspec": {
   "display_name": "condaflow",
   "language": "python",
   "name": "condaflow"
  },
  "language_info": {
   "codemirror_mode": {
    "name": "ipython",
    "version": 3
   },
   "file_extension": ".py",
   "mimetype": "text/x-python",
   "name": "python",
   "nbconvert_exporter": "python",
   "pygments_lexer": "ipython3",
   "version": "3.6.8"
  }
 },
 "nbformat": 4,
 "nbformat_minor": 2
}
