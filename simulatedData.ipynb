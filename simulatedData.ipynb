{
 "cells": [
  {
   "cell_type": "code",
   "execution_count": 82,
   "metadata": {},
   "outputs": [
    {
     "data": {
      "text/plain": [
       "'1.13.1'"
      ]
     },
     "execution_count": 82,
     "metadata": {},
     "output_type": "execute_result"
    }
   ],
   "source": [
    "import tensorflow as tf\n",
    "import numpy as np\n",
    "import pandas as pd\n",
    "import keras\n",
    "\n",
    "from imblearn.over_sampling import SMOTE\n",
    "from sklearn.model_selection import StratifiedShuffleSplit\n",
    "# Converting labels to 1-Hot Vectors\n",
    "from sklearn.preprocessing import OneHotEncoder\n",
    "\n",
    "\n",
    "\n",
    "import sys\n",
    "# sys.path.append(\"/Users/Work/Developer/interpretDL/interprettensor\")\n",
    "root_logdir = \"./tf_logs\"\n",
    "\n",
    "# To plot pretty figures\n",
    "%matplotlib widget\n",
    "import matplotlib\n",
    "import matplotlib.pyplot as plt\n",
    "plt.rcParams['axes.labelsize'] = 14\n",
    "plt.rcParams['xtick.labelsize'] = 12\n",
    "plt.rcParams['ytick.labelsize'] = 12\n",
    "\n",
    "# to make this notebook's output stable across runs\n",
    "def reset_graph(seed=42):\n",
    "    tf.reset_default_graph()\n",
    "    tf.set_random_seed(seed)\n",
    "    np.random.seed(seed)\n",
    "\n",
    "np.random.seed(seed=42) \n",
    "tf.__version__"
   ]
  },
  {
   "cell_type": "code",
   "execution_count": 6,
   "metadata": {},
   "outputs": [],
   "source": [
    "# Helper Functions\n",
    "\n",
    "from sklearn.metrics import confusion_matrix\n",
    "from sklearn.utils.multiclass import unique_labels\n",
    "\n",
    "######### Taken from sklearn #######\n",
    "def plot_confusion_matrix(y_true, y_pred, classes,\n",
    "                          normalize=False,\n",
    "                          title=None,\n",
    "                          cmap=plt.cm.Blues):\n",
    "    \"\"\"\n",
    "    This function prints and plots the confusion matrix.\n",
    "    Normalization can be applied by setting `normalize=True`.\n",
    "    \"\"\"\n",
    "    if not title:\n",
    "        if normalize:\n",
    "            title = 'Normalized confusion matrix'\n",
    "        else:\n",
    "            title = 'Confusion matrix, without normalization'\n",
    "\n",
    "    # Compute confusion matrix\n",
    "    cm = confusion_matrix(y_true, y_pred)\n",
    "    # Only use the labels that appear in the data\n",
    "    classes = classes[unique_labels(y_true, y_pred)]\n",
    "    if normalize:\n",
    "        cm = cm.astype('float') / cm.sum(axis=1)[:, np.newaxis]\n",
    "        print(\"Normalized confusion matrix\")\n",
    "    else:\n",
    "        print('Confusion matrix, without normalization')\n",
    "\n",
    "    print(cm)\n",
    "\n",
    "    fig, ax = plt.subplots(figsize=[8,8])\n",
    "    im = ax.imshow(cm, interpolation='nearest', cmap=cmap)\n",
    "    ax.figure.colorbar(im, ax=ax)\n",
    "    # We want to show all ticks...\n",
    "    ax.set(xticks=np.arange(cm.shape[1]),\n",
    "           yticks=np.arange(cm.shape[0]),\n",
    "           # ... and label them with the respective list entries\n",
    "           xticklabels=classes, yticklabels=classes,\n",
    "           title=title,\n",
    "           ylabel='True label',\n",
    "           xlabel='Predicted label')\n",
    "\n",
    "    # Rotate the tick labels and set their alignment.\n",
    "    plt.setp(ax.get_xticklabels(), rotation=45, ha=\"right\",\n",
    "             rotation_mode=\"anchor\")\n",
    "\n",
    "    # Loop over data dimensions and create text annotations.\n",
    "    fmt = '.2f' if normalize else 'd'\n",
    "    thresh = cm.max() / 2.\n",
    "    for i in range(cm.shape[0]):\n",
    "        for j in range(cm.shape[1]):\n",
    "            ax.text(j, i, format(cm[i, j], fmt),\n",
    "                    ha=\"center\", va=\"center\",\n",
    "                    color=\"white\" if cm[i, j] > thresh else \"black\")\n",
    "    fig.tight_layout()\n",
    "    return ax\n",
    "\n",
    "\n",
    "def get1hot(y_train,y_test):\n",
    "    from sklearn.preprocessing import OneHotEncoder\n",
    "\n",
    "    enc = OneHotEncoder(categories=\"auto\", sparse=False)\n",
    "    y_train_1hot = enc.fit_transform([[label] for label in y_train]) # Since the function expects an array of \"features\" per sample\n",
    "    y_test_1hot = enc.fit_transform([[label] for label in y_test])\n",
    "\n",
    "    return y_train_1hot, y_test_1hot\n",
    "\n",
    "def get_split(features, labels):\n",
    "    features = np.array(features)\n",
    "    # The train set will have equal amounts of each target class\n",
    "    split = StratifiedShuffleSplit(n_splits=1, test_size=0.2, random_state=42)\n",
    "    for train_index, test_index in split.split(features, labels):\n",
    "        X_train = features[train_index]\n",
    "        y_train = labels.iloc[train_index]\n",
    "        X_test = features[test_index]\n",
    "        y_test = labels.iloc[test_index]\n",
    "        \n",
    "        yield X_train, y_train, X_test, y_test\n",
    "\n",
    "def plot_history(history):\n",
    "    fig, axs = plt.subplots(1, 2, figsize=(18,6))\n",
    "    \n",
    "    # Plot training & validation accuracy values\n",
    "    axs[0].grid(True)\n",
    "    axs[0].plot(history.history['acc'])\n",
    "    axs[0].plot(history.history['val_acc'])\n",
    "    axs[0].set(title='Model accuracy', ylabel='Accuracy', xlabel='Epoch')\n",
    "    axs[0].legend(['Train', 'Test'], loc='upper left')\n",
    "\n",
    "    # Plot training & validation loss values\n",
    "    axs[1].grid(True)\n",
    "    axs[1].plot(history.history['loss'])\n",
    "    axs[1].plot(history.history['val_loss'])\n",
    "    axs[1].set(title='Model loss',ylabel='Loss', xlabel='Epoch')\n",
    "    axs[1].legend(['Train', 'Test'], loc='upper left')\n",
    "    \n",
    "    plt.show()\n",
    "    \n",
    "\n",
    "def remove_label(features, labels, label=\"MCI\"):\n",
    "    labels = pd.Series(fused_labels)\n",
    "    non_samples = labels != label\n",
    "\n",
    "    stripped_features = features[non_samples]\n",
    "    stripped_labels = labels[non_samples]\n",
    "\n",
    "    return stripped_features, stripped_labels"
   ]
  },
  {
   "cell_type": "code",
   "execution_count": 7,
   "metadata": {},
   "outputs": [],
   "source": [
    "from sklearn.base import BaseEstimator, TransformerMixin\n",
    "from sklearn.pipeline import Pipeline\n",
    "from sklearn.preprocessing import StandardScaler\n",
    "\n",
    "class AttributeRemover(BaseEstimator, TransformerMixin):\n",
    "    \"\"\"\n",
    "    Returns a copy of matrix with attributes removed\n",
    "    \"\"\"\n",
    "    def __init__(self, attribute_names):\n",
    "        self.attribute_names = attribute_names\n",
    "    \n",
    "    def fit(self, X, y=None):\n",
    "        return # Doesn't do anything\n",
    "    \n",
    "    def transform(self, X, y=None):\n",
    "        return X.drop(columns=self.attribute_names)\n",
    "\n",
    "class OverSampler(BaseEstimator, TransformerMixin):\n",
    "    \"\"\"\n",
    "    Returns a copy of matrix with attributes removed\n",
    "    \"\"\"\n",
    "    def __init__(self, random_state=42):\n",
    "        self.smote = SMOTE(random_state=random_state)\n",
    "    \n",
    "    def fit(self, X, y=None):\n",
    "        return None\n",
    "    \n",
    "    def transform(self, X, y=None):\n",
    "        return self.smote.fit_resample(X,y)\n",
    "\n",
    "class AddNoise(BaseEstimator, TransformerMixin):\n",
    "    \"\"\"\n",
    "    Returns a copy of matrix with attributes removed\n",
    "    \"\"\"\n",
    "    def __init__(self, random_state=42):\n",
    "        self.smote = SMOTE(random_state=random_state)\n",
    "    \n",
    "    def fit(self, X, y=None):\n",
    "        return None\n",
    "    \n",
    "    def transform(self, X, y=None):\n",
    "        return self.smote.fit_resample(X,y)\n",
    "    \n",
    "# Not used\n",
    "train_pipeline = Pipeline([\n",
    "                    (\"smote\", OverSampler()),\n",
    "                    (\"normalizer\", StandardScaler()) ])"
   ]
  },
  {
   "cell_type": "code",
   "execution_count": 19,
   "metadata": {},
   "outputs": [
    {
     "data": {
      "text/plain": [
       "array(['setosa', 'versicolor', 'virginica'], dtype='<U10')"
      ]
     },
     "execution_count": 19,
     "metadata": {},
     "output_type": "execute_result"
    }
   ],
   "source": [
    "from sklearn import datasets\n",
    "\n",
    "iris = datasets.load_iris()\n",
    "\n",
    "features = pd.DataFrame(iris[\"data\"])\n",
    "target = pd.Series(iris[\"target\"])\n",
    "flower_names = iris[\"target_names\"]\n",
    "feature_names = iris[\"feature_names\"]\n",
    "flower_names"
   ]
  },
  {
   "cell_type": "markdown",
   "metadata": {},
   "source": [
    "### Get the first 2 flower samples"
   ]
  },
  {
   "cell_type": "code",
   "execution_count": 65,
   "metadata": {},
   "outputs": [],
   "source": [
    "setosa = target == 0\n",
    "versicolor = target == 1\n",
    "samples = features[setosa | versicolor]\n",
    "labels = target[setosa | versicolor]\n",
    "class_size = sum(setosa)"
   ]
  },
  {
   "cell_type": "markdown",
   "metadata": {},
   "source": [
    "### Splitting *versicolor* into two sub classes"
   ]
  },
  {
   "cell_type": "code",
   "execution_count": 77,
   "metadata": {},
   "outputs": [
    {
     "name": "stdout",
     "output_type": "stream",
     "text": [
      "0    5.936\n",
      "1    2.770\n",
      "2    4.260\n",
      "3    1.326\n",
      "dtype: float64\n"
     ]
    },
    {
     "data": {
      "text/plain": [
       "0    0.510983\n",
       "1    0.310644\n",
       "2    0.465188\n",
       "3    0.195765\n",
       "dtype: float64"
      ]
     },
     "execution_count": 77,
     "metadata": {},
     "output_type": "execute_result"
    }
   ],
   "source": [
    "# Adding Gaussian Noise\n",
    "\n",
    "# Positive to first two features\n",
    "gauss_noise = np.random.normal(loc=0.1,scale=0.1, size=[class_size,2])\n",
    "gauss_noise[gauss_noise < 0] = 0\n",
    "B1 = samples.iloc[50:,:2] + gauss_noise\n",
    "\n",
    "# Negative to last two features\n",
    "gauss_noise = np.random.normal(loc=0.1,scale=0.1, size=[class_size,2])\n",
    "gauss_noise[gauss_noise < 0] = 0\n",
    "B2 = samples.iloc[50:,2:] - gauss_noise\n",
    "\n",
    "# Combining the two fake \"subclasses\"\n",
    "noisy_samples = np.concatenate((B1, B2), axis=1)\n",
    "\n",
    "# print(np.mean(samples[50:]))\n",
    "# np.std(samples[50:])"
   ]
  },
  {
   "cell_type": "code",
   "execution_count": 81,
   "metadata": {},
   "outputs": [],
   "source": [
    "modded_samples = np.concatenate((samples.iloc[:50,:],noisy_samples))\n",
    "\n",
    "# modded_samples\n",
    "# print(np.mean(modded_samples[50:], axis=0))\n",
    "# np.std(modded_samples[50:],axis=0)"
   ]
  },
  {
   "cell_type": "markdown",
   "metadata": {},
   "source": [
    "### Train a DNN on the modified dataset"
   ]
  },
  {
   "cell_type": "code",
   "execution_count": 93,
   "metadata": {},
   "outputs": [
    {
     "name": "stdout",
     "output_type": "stream",
     "text": [
      "Train Size: (80, 4)\n",
      "Test Size: (20,)\n",
      "Categories: [array([0, 1])]\n"
     ]
    }
   ],
   "source": [
    "# Get split returns a generator\n",
    "# List comprehension is one way to evaluate a generator\n",
    "X_train, y_train, X_test, y_test = list(get_split(modded_samples, labels))[0]\n",
    "print(\"Train Size:\", X_train.shape)\n",
    "print(\"Test Size:\", y_test.shape)\n",
    "\n",
    "\n",
    "hot_encoder = OneHotEncoder(categories=\"auto\", sparse=False)\n",
    "hot_encoder.fit(labels.values.reshape(-1,1)) # Since the function expects an array of \"features\" per sample\n",
    "print(\"Categories:\", hot_encoder.categories_)"
   ]
  },
  {
   "cell_type": "code",
   "execution_count": 103,
   "metadata": {},
   "outputs": [
    {
     "data": {
      "text/plain": [
       "57    1\n",
       "77    1\n",
       "63    1\n",
       "51    1\n",
       "7     0\n",
       "14    0\n",
       "20    0\n",
       "75    1\n",
       "18    0\n",
       "22    0\n",
       "42    0\n",
       "58    1\n",
       "49    0\n",
       "38    0\n",
       "10    0\n",
       "93    1\n",
       "69    1\n",
       "28    0\n",
       "56    1\n",
       "84    1\n",
       "dtype: int64"
      ]
     },
     "execution_count": 103,
     "metadata": {},
     "output_type": "execute_result"
    }
   ],
   "source": [
    "y_test"
   ]
  },
  {
   "cell_type": "code",
   "execution_count": 110,
   "metadata": {},
   "outputs": [],
   "source": [
    "def build_dnn(num_features, num_labels=3):\n",
    "\n",
    "#     reset_graph()\n",
    "    \n",
    "    keras.backend.clear_session()\n",
    "\n",
    "    nn = keras.models.Sequential()\n",
    "    Dense = keras.layers.Dense\n",
    "    \n",
    "    # Using He initialization\n",
    "    he_init = tf.contrib.layers.variance_scaling_initializer()\n",
    "    \n",
    "    nn.add(Dense(units = 12, activation=\"elu\", input_dim=num_features,\n",
    "                kernel_initializer=he_init))\n",
    "    nn.add(Dense(units = 12, activation=\"elu\",\n",
    "                kernel_initializer=he_init))\n",
    "    nn.add(Dense(units=1, activation= \"sigmoid\",\n",
    "                kernel_initializer=he_init))\n",
    "\n",
    "#     BCE = tf.keras.losses.BinaryCrossentropy(from_logits=True)\n",
    "    \n",
    "    nn.compile(loss=\"binary_crossentropy\",\n",
    "                  optimizer='sgd',\n",
    "                  metrics=['binary_accuracy'])\n",
    "    \n",
    "    return nn\n",
    "\n",
    "def train_model(model, X, y, X_test=[], y_test=[], epochs=30, batch_size=20, verbose=1, plot=True):\n",
    "    \n",
    "    ZScaler = StandardScaler().fit(X)\n",
    "    \n",
    "    X = ZScaler.transform(X)\n",
    "    \n",
    "    X_train,y_train = OverSampler().transform(X,y) # Both are np arrays now\n",
    "\n",
    "    X_test = ZScaler.transform(X_test)\n",
    "    \n",
    "#     y_train = hot_encoder.transform(y_train.reshape(-1,1))\n",
    "#     y_test = hot_encoder.transform(y_test.values.reshape(-1,1))\n",
    "    \n",
    "#     lr_scheduler = keras.callbacks.LearningRateScheduler(exp_decay)\n",
    "    callback_list = []\n",
    "    \n",
    "    history = model.fit(X_train, y_train, epochs=epochs, batch_size = batch_size, validation_data=(X_test, y_test),\n",
    "                       callbacks=callback_list, verbose=verbose)\n",
    "    \n",
    "#     if plot: plot_history(history)\n",
    "    \n",
    "    return history, ZScaler\n"
   ]
  },
  {
   "cell_type": "code",
   "execution_count": 116,
   "metadata": {},
   "outputs": [
    {
     "name": "stdout",
     "output_type": "stream",
     "text": [
      "Train on 80 samples, validate on 20 samples\n",
      "Epoch 1/20\n",
      "80/80 [==============================] - 0s 2ms/step - loss: 0.6708 - binary_accuracy: 0.5125 - val_loss: 0.4904 - val_binary_accuracy: 0.8000\n",
      "Epoch 2/20\n",
      "80/80 [==============================] - 0s 98us/step - loss: 0.3373 - binary_accuracy: 0.9375 - val_loss: 0.3146 - val_binary_accuracy: 0.9000\n",
      "Epoch 3/20\n",
      "80/80 [==============================] - 0s 104us/step - loss: 0.2134 - binary_accuracy: 0.9875 - val_loss: 0.2297 - val_binary_accuracy: 0.9500\n",
      "Epoch 4/20\n",
      "80/80 [==============================] - 0s 97us/step - loss: 0.1525 - binary_accuracy: 1.0000 - val_loss: 0.1805 - val_binary_accuracy: 0.9500\n",
      "Epoch 5/20\n",
      "80/80 [==============================] - 0s 114us/step - loss: 0.1174 - binary_accuracy: 1.0000 - val_loss: 0.1488 - val_binary_accuracy: 1.0000\n",
      "Epoch 6/20\n",
      "80/80 [==============================] - 0s 104us/step - loss: 0.0948 - binary_accuracy: 1.0000 - val_loss: 0.1266 - val_binary_accuracy: 1.0000\n",
      "Epoch 7/20\n",
      "80/80 [==============================] - 0s 115us/step - loss: 0.0791 - binary_accuracy: 1.0000 - val_loss: 0.1103 - val_binary_accuracy: 1.0000\n",
      "Epoch 8/20\n",
      "80/80 [==============================] - 0s 108us/step - loss: 0.0678 - binary_accuracy: 1.0000 - val_loss: 0.0978 - val_binary_accuracy: 1.0000\n",
      "Epoch 9/20\n",
      "80/80 [==============================] - 0s 120us/step - loss: 0.0591 - binary_accuracy: 1.0000 - val_loss: 0.0879 - val_binary_accuracy: 1.0000\n",
      "Epoch 10/20\n",
      "80/80 [==============================] - 0s 119us/step - loss: 0.0524 - binary_accuracy: 1.0000 - val_loss: 0.0799 - val_binary_accuracy: 1.0000\n",
      "Epoch 11/20\n",
      "80/80 [==============================] - 0s 117us/step - loss: 0.0469 - binary_accuracy: 1.0000 - val_loss: 0.0733 - val_binary_accuracy: 1.0000\n",
      "Epoch 12/20\n",
      "80/80 [==============================] - 0s 128us/step - loss: 0.0425 - binary_accuracy: 1.0000 - val_loss: 0.0677 - val_binary_accuracy: 1.0000\n",
      "Epoch 13/20\n",
      "80/80 [==============================] - 0s 110us/step - loss: 0.0387 - binary_accuracy: 1.0000 - val_loss: 0.0629 - val_binary_accuracy: 1.0000\n",
      "Epoch 14/20\n",
      "80/80 [==============================] - 0s 127us/step - loss: 0.0356 - binary_accuracy: 1.0000 - val_loss: 0.0588 - val_binary_accuracy: 1.0000\n",
      "Epoch 15/20\n",
      "80/80 [==============================] - 0s 119us/step - loss: 0.0329 - binary_accuracy: 1.0000 - val_loss: 0.0553 - val_binary_accuracy: 1.0000\n",
      "Epoch 16/20\n",
      "80/80 [==============================] - 0s 119us/step - loss: 0.0306 - binary_accuracy: 1.0000 - val_loss: 0.0521 - val_binary_accuracy: 1.0000\n",
      "Epoch 17/20\n",
      "80/80 [==============================] - 0s 106us/step - loss: 0.0286 - binary_accuracy: 1.0000 - val_loss: 0.0493 - val_binary_accuracy: 1.0000\n",
      "Epoch 18/20\n",
      "80/80 [==============================] - 0s 112us/step - loss: 0.0268 - binary_accuracy: 1.0000 - val_loss: 0.0469 - val_binary_accuracy: 1.0000\n",
      "Epoch 19/20\n",
      "80/80 [==============================] - 0s 102us/step - loss: 0.0252 - binary_accuracy: 1.0000 - val_loss: 0.0446 - val_binary_accuracy: 1.0000\n",
      "Epoch 20/20\n",
      "80/80 [==============================] - 0s 101us/step - loss: 0.0238 - binary_accuracy: 1.0000 - val_loss: 0.0426 - val_binary_accuracy: 1.0000\n"
     ]
    }
   ],
   "source": [
    "nn = build_dnn(num_features=4,num_labels=2)\n",
    "history, Zscaler = train_model(nn, X_train, y_train, X_test, y_test, epochs=20, batch_size=10)"
   ]
  },
  {
   "cell_type": "code",
   "execution_count": 121,
   "metadata": {},
   "outputs": [
    {
     "data": {
      "application/vnd.jupyter.widget-view+json": {
       "model_id": "b0f7aba3f7c04f4f9796196e7c00dc70",
       "version_major": 2,
       "version_minor": 0
      },
      "text/plain": [
       "FigureCanvasNbAgg()"
      ]
     },
     "metadata": {},
     "output_type": "display_data"
    }
   ],
   "source": [
    "# Plotting results from history\n",
    "plt.close()\n",
    "fig, axs = plt.subplots(1, 2, figsize=(12,6))\n",
    "\n",
    "# Plot training & validation accuracy values\n",
    "axs[0].grid(True)\n",
    "axs[0].plot(history.history['binary_accuracy'])\n",
    "axs[0].plot(history.history['val_binary_accuracy'])\n",
    "axs[0].set(title='Model accuracy', ylabel='Accuracy', xlabel='Epoch')\n",
    "axs[0].legend(['Train', 'Test'], loc='upper left')\n",
    "\n",
    "# Plot training & validation loss values\n",
    "axs[1].grid(True)\n",
    "axs[1].plot(history.history['loss'])\n",
    "axs[1].plot(history.history['val_loss'])\n",
    "axs[1].set(title='Model loss',ylabel='Loss', xlabel='Epoch')\n",
    "axs[1].legend(['Train', 'Test'], loc='upper left')\n",
    "\n",
    "plt.show()\n"
   ]
  },
  {
   "cell_type": "code",
   "execution_count": null,
   "metadata": {},
   "outputs": [],
   "source": [
    "from sklearn.model_selection import StratifiedKFold as KFold\n",
    "keras.backend.clear_session()\n",
    "\n",
    "def getKF(X,y, n_splits=10):\n",
    "    kf = KFold(n_splits=n_splits, shuffle=True, random_state=42 ) #Default = 10\n",
    "\n",
    "    for train_index, test_index in kf.split(X,y):\n",
    "        X_train = X.iloc[train_index]\n",
    "        y_train = y.iloc[train_index]\n",
    "        X_test = X.iloc[test_index]\n",
    "        y_test = y.iloc[test_index]\n",
    "        \n",
    "        yield X_train, y_train, X_test, y_test, test_index\n",
    "\n",
    "histories = []\n",
    "testing_indxs =[]\n",
    "predictions = []\n",
    "true_labels = []\n",
    "zoo = []\n",
    "for X_train, y_train, X_test, y_test, test_index in getKF(features, labels):\n",
    "    print(test_index)\n",
    "    dnn = build_dnn(NUM_FEATURES, NUM_LABELS)\n",
    "    history, ZScaler = train_model(dnn,X_train, y_train, X_test, y_test, verbose=0, plot=False, epochs=100, batch_size=10)\n",
    "    \n",
    "    # Updating all information arrays\n",
    "    histories.append(history)\n",
    "    testing_indxs.append(test_index)\n",
    "    zoo.append(dnn)\n",
    "    \n",
    "    y_pred_probs = dnn.predict(ZScaler.transform(X_test))\n",
    "    y_pred = np.argmax(y_pred_probs, axis=1)\n",
    "    y_true = np.argmax(hot_encoder.transform(y_test.values.reshape(-1,1)), axis=1)\n",
    "    \n",
    "    predictions.extend(y_pred)\n",
    "    true_labels.extend(y_true)\n",
    "    \n",
    "    print(\"Scores on test set: loss={:0.3f} accuracy={:.4f}\".format(history.history[\"acc\"][-1], history.history[\"val_acc\"][-1]))"
   ]
  }
 ],
 "metadata": {
  "kernelspec": {
   "display_name": "condaflow",
   "language": "python",
   "name": "condaflow"
  },
  "language_info": {
   "codemirror_mode": {
    "name": "ipython",
    "version": 3
   },
   "file_extension": ".py",
   "mimetype": "text/x-python",
   "name": "python",
   "nbconvert_exporter": "python",
   "pygments_lexer": "ipython3",
   "version": "3.6.8"
  }
 },
 "nbformat": 4,
 "nbformat_minor": 2
}
