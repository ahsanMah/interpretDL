{
 "cells": [
  {
   "cell_type": "code",
   "execution_count": 10,
   "metadata": {},
   "outputs": [
    {
     "data": {
      "text/plain": [
       "'1.13.1'"
      ]
     },
     "execution_count": 10,
     "metadata": {},
     "output_type": "execute_result"
    }
   ],
   "source": [
    "import tensorflow as tf\n",
    "import numpy as np\n",
    "import pandas as pd\n",
    "import keras\n",
    "import umap\n",
    "\n",
    "from imblearn.over_sampling import SMOTE\n",
    "from sklearn.model_selection import StratifiedShuffleSplit\n",
    "# Converting labels to 1-Hot Vectors\n",
    "from sklearn.preprocessing import OneHotEncoder\n",
    "from mpl_toolkits.mplot3d import Axes3D\n",
    "\n",
    "\n",
    "import sys\n",
    "# sys.path.append(\"/Users/Work/Developer/interpretDL/interprettensor\")\n",
    "root_logdir = \"./tf_logs\"\n",
    "datadir = \"data/\"\n",
    "\n",
    "# To plot pretty figures\n",
    "%matplotlib widget\n",
    "import matplotlib\n",
    "import matplotlib.pyplot as plt\n",
    "plt.rcParams['axes.labelsize'] = 14\n",
    "plt.rcParams['xtick.labelsize'] = 12\n",
    "plt.rcParams['ytick.labelsize'] = 12\n",
    "\n",
    "# to make this notebook's output stable across runs\n",
    "def reset_graph(seed=42):\n",
    "    tf.reset_default_graph()\n",
    "    tf.set_random_seed(seed)\n",
    "    np.random.seed(seed)\n",
    "\n",
    "np.random.seed(seed=42) \n",
    "tf.__version__"
   ]
  },
  {
   "cell_type": "code",
   "execution_count": 11,
   "metadata": {},
   "outputs": [],
   "source": [
    "# Helper Functions\n",
    "\n",
    "from sklearn.metrics import confusion_matrix\n",
    "from sklearn.utils.multiclass import unique_labels\n",
    "\n",
    "######### Taken from sklearn #######\n",
    "def plot_confusion_matrix(y_true, y_pred, classes,\n",
    "                          normalize=False,\n",
    "                          title=None,\n",
    "                          cmap=plt.cm.Blues):\n",
    "    \"\"\"\n",
    "    This function prints and plots the confusion matrix.\n",
    "    Normalization can be applied by setting `normalize=True`.\n",
    "    \"\"\"\n",
    "    if not title:\n",
    "        if normalize:\n",
    "            title = 'Normalized confusion matrix'\n",
    "        else:\n",
    "            title = 'Confusion matrix, without normalization'\n",
    "\n",
    "    # Compute confusion matrix\n",
    "    cm = confusion_matrix(y_true, y_pred)\n",
    "    # Only use the labels that appear in the data\n",
    "    classes = classes[unique_labels(y_true, y_pred)]\n",
    "    if normalize:\n",
    "        cm = cm.astype('float') / cm.sum(axis=1)[:, np.newaxis]\n",
    "        print(\"Normalized confusion matrix\")\n",
    "    else:\n",
    "        print('Confusion matrix, without normalization')\n",
    "\n",
    "    print(cm)\n",
    "\n",
    "    fig, ax = plt.subplots(figsize=[8,8])\n",
    "    im = ax.imshow(cm, interpolation='nearest', cmap=cmap)\n",
    "    ax.figure.colorbar(im, ax=ax)\n",
    "    # We want to show all ticks...\n",
    "    ax.set(xticks=np.arange(cm.shape[1]),\n",
    "           yticks=np.arange(cm.shape[0]),\n",
    "           # ... and label them with the respective list entries\n",
    "           xticklabels=classes, yticklabels=classes,\n",
    "           title=title,\n",
    "           ylabel='True label',\n",
    "           xlabel='Predicted label')\n",
    "\n",
    "    # Rotate the tick labels and set their alignment.\n",
    "    plt.setp(ax.get_xticklabels(), rotation=45, ha=\"right\",\n",
    "             rotation_mode=\"anchor\")\n",
    "\n",
    "    # Loop over data dimensions and create text annotations.\n",
    "    fmt = '.2f' if normalize else 'd'\n",
    "    thresh = cm.max() / 2.\n",
    "    for i in range(cm.shape[0]):\n",
    "        for j in range(cm.shape[1]):\n",
    "            ax.text(j, i, format(cm[i, j], fmt),\n",
    "                    ha=\"center\", va=\"center\",\n",
    "                    color=\"white\" if cm[i, j] > thresh else \"black\")\n",
    "    fig.tight_layout()\n",
    "    return ax\n",
    "\n",
    "\n",
    "def get1hot(y_train,y_test):\n",
    "    from sklearn.preprocessing import OneHotEncoder\n",
    "\n",
    "    enc = OneHotEncoder(categories=\"auto\", sparse=False)\n",
    "    y_train_1hot = enc.fit_transform([[label] for label in y_train]) # Since the function expects an array of \"features\" per sample\n",
    "    y_test_1hot = enc.fit_transform([[label] for label in y_test])\n",
    "\n",
    "    return y_train_1hot, y_test_1hot\n",
    "\n",
    "def get_split(features, labels):\n",
    "    features = np.array(features)\n",
    "    # The train set will have equal amounts of each target class\n",
    "    split = StratifiedShuffleSplit(n_splits=1, test_size=0.2, random_state=42)\n",
    "    for train_index, test_index in split.split(features, labels):\n",
    "        X_train = features[train_index]\n",
    "        y_train = labels.iloc[train_index]\n",
    "        X_test = features[test_index]\n",
    "        y_test = labels.iloc[test_index]\n",
    "        \n",
    "        yield X_train, y_train, X_test, y_test\n",
    "\n",
    "def plot_history(history):\n",
    "    plt.close()\n",
    "    fig, axs = plt.subplots(1, 2, figsize=(12,6))\n",
    "\n",
    "    # Plot training & validation accuracy values\n",
    "    axs[0].grid(True)\n",
    "    axs[0].plot(history.history['binary_accuracy'])\n",
    "    axs[0].plot(history.history['val_binary_accuracy'])\n",
    "    axs[0].set(title='Model accuracy', ylabel='Accuracy', xlabel='Epoch')\n",
    "    axs[0].legend(['Train', 'Test'], loc='upper left')\n",
    "\n",
    "    # Plot training & validation loss values\n",
    "    axs[1].grid(True)\n",
    "    axs[1].plot(history.history['loss'])\n",
    "    axs[1].plot(history.history['val_loss'])\n",
    "    axs[1].set(title='Model loss',ylabel='Loss', xlabel='Epoch')\n",
    "    axs[1].legend(['Train', 'Test'], loc='upper left')\n",
    "\n",
    "    plt.show()\n",
    "\n",
    "\n",
    "def remove_label(features, labels, label=\"MCI\"):\n",
    "    labels = pd.Series(fused_labels)\n",
    "    non_samples = labels != label\n",
    "\n",
    "    stripped_features = features[non_samples]\n",
    "    stripped_labels = labels[non_samples]\n",
    "\n",
    "    return stripped_features, stripped_labels"
   ]
  },
  {
   "cell_type": "code",
   "execution_count": 12,
   "metadata": {},
   "outputs": [],
   "source": [
    "from sklearn.base import BaseEstimator, TransformerMixin\n",
    "from sklearn.pipeline import Pipeline\n",
    "from sklearn.preprocessing import StandardScaler\n",
    "\n",
    "class AttributeRemover(BaseEstimator, TransformerMixin):\n",
    "    \"\"\"\n",
    "    Returns a copy of matrix with attributes removed\n",
    "    \"\"\"\n",
    "    def __init__(self, attribute_names):\n",
    "        self.attribute_names = attribute_names\n",
    "    \n",
    "    def fit(self, X, y=None):\n",
    "        return # Doesn't do anything\n",
    "    \n",
    "    def transform(self, X, y=None):\n",
    "        return X.drop(columns=self.attribute_names)\n",
    "\n",
    "class OverSampler(BaseEstimator, TransformerMixin):\n",
    "    \"\"\"\n",
    "    Returns a copy of matrix with attributes removed\n",
    "    \"\"\"\n",
    "    def __init__(self, random_state=42):\n",
    "        self.smote = SMOTE(random_state=random_state)\n",
    "    \n",
    "    def fit(self, X, y=None):\n",
    "        return None\n",
    "    \n",
    "    def transform(self, X, y=None):\n",
    "        return self.smote.fit_resample(X,y)\n",
    "\n",
    "class AddNoise(BaseEstimator, TransformerMixin):\n",
    "    \"\"\"\n",
    "    Returns a copy of matrix with attributes removed\n",
    "    \"\"\"\n",
    "    def __init__(self, random_state=42):\n",
    "        self.smote = SMOTE(random_state=random_state)\n",
    "    \n",
    "    def fit(self, X, y=None):\n",
    "        return None\n",
    "    \n",
    "    def transform(self, X, y=None):\n",
    "        return self.smote.fit_resample(X,y)\n",
    "    \n",
    "# Not used\n",
    "train_pipeline = Pipeline([\n",
    "                    (\"smote\", OverSampler()),\n",
    "                    (\"normalizer\", StandardScaler()) ])"
   ]
  },
  {
   "cell_type": "code",
   "execution_count": 73,
   "metadata": {},
   "outputs": [],
   "source": [
    "'''\n",
    "Returns orginal samples, labels and modded_samples,modded_labels\n",
    "'''\n",
    "def modded_iris():\n",
    "\n",
    "    from sklearn import datasets\n",
    "\n",
    "    iris = datasets.load_iris()\n",
    "\n",
    "    features = pd.DataFrame(iris[\"data\"])\n",
    "    target = pd.Series(iris[\"target\"])\n",
    "    flower_names = iris[\"target_names\"]\n",
    "    feature_names = iris[\"feature_names\"]\n",
    "    print(features.info())\n",
    "\n",
    "    ### Get the first 2 flower samples\n",
    "\n",
    "    setosa = target == 0\n",
    "    versicolor = target == 1\n",
    "    samples = features[setosa | versicolor]\n",
    "    labels = target[setosa | versicolor]\n",
    "    class_size = sum(versicolor)\n",
    "\n",
    "    versicolor_samples = features[versicolor]\n",
    "    versicolor_labels = target[versicolor]\n",
    "    setosa_samples = features[setosa]\n",
    "\n",
    "    ### Splitting *versicolor* into two sub classes\n",
    "\n",
    "    versicolor_samples.describe()\n",
    "\n",
    "    ## Constructing different noise sources\n",
    "    gauss_noise = np.random.normal(loc=1,scale=0.25, size=[class_size//2,2])\n",
    "    gauss_noise[gauss_noise < 0] = 0\n",
    "    unif_noise = np.random.uniform(low=0,high=1)\n",
    "    constant = 1\n",
    "\n",
    "\n",
    "    split_size = class_size//2\n",
    "\n",
    "    # Positive to first two features\n",
    "\n",
    "    B1 = versicolor_samples.iloc[:split_size,:2] + gauss_noise\n",
    "    B1 = np.concatenate((B1, versicolor_samples.iloc[:split_size,2:]), axis=1)\n",
    "    B1_labels = versicolor_labels.iloc[:split_size]\n",
    "\n",
    "    # Negative to last two features\n",
    "    # gauss_noise = np.random.normal(loc=0.1,scale=0.1, size=[class_size//2,2])\n",
    "    # gauss_noise[gauss_noise < 0] = 0\n",
    "    # unif_noise = np.random.uniform(low=0,high=1)\n",
    "\n",
    "    # B2 = versicolor_samples.iloc[split_size:,2:] + gauss_noise\n",
    "    # B2 = np.concatenate((versicolor_samples.iloc[split_size:,2:],B2), axis=1)\n",
    "\n",
    "    B2 = versicolor_samples.iloc[split_size:,:2] - gauss_noise\n",
    "    B2 = np.concatenate((B2,versicolor_samples.iloc[split_size:,2:]), axis=1)\n",
    "    B2_labels = versicolor_labels.iloc[split_size:] + 1\n",
    "\n",
    "    # Combining the two fake \"subclasses\"\n",
    "    noisy_samples = np.concatenate((B1, B2), axis=0)\n",
    "\n",
    "\n",
    "    modded_samples = np.concatenate((setosa_samples,noisy_samples))\n",
    "    modded_labels = labels.copy()\n",
    "    modded_labels[class_size + split_size:] += 1\n",
    "\n",
    "    return samples,labels,modded_samples, modded_labels"
   ]
  },
  {
   "cell_type": "markdown",
   "metadata": {},
   "source": [
    "## Using make_moons to generate sample data"
   ]
  },
  {
   "cell_type": "code",
   "execution_count": 143,
   "metadata": {},
   "outputs": [],
   "source": [
    "from sklearn.datasets import make_circles\n",
    "from sklearn.datasets.samples_generator import make_blobs\n",
    "from matplotlib import pyplot\n",
    "from pandas import DataFrame\n"
   ]
  },
  {
   "cell_type": "code",
   "execution_count": 129,
   "metadata": {},
   "outputs": [
    {
     "data": {
      "application/vnd.jupyter.widget-view+json": {
       "model_id": "",
       "version_major": 2,
       "version_minor": 0
      },
      "text/plain": [
       "FigureCanvasNbAgg()"
      ]
     },
     "metadata": {},
     "output_type": "display_data"
    }
   ],
   "source": [
    "# scatter plot, dots colored by class value\n",
    "\n",
    "# generate 2d classification dataset\n",
    "# X, y = make_circles(n_samples=100, noise=0)\n",
    "X, y = make_blobs(n_samples=100, centers=1, n_features=2)\n",
    "\n",
    "plt.close()\n",
    "df = DataFrame(dict(x=X[:,0], y=X[:,1], label=y))\n",
    "colors = {0:'red', 1:'blue'}\n",
    "fig, ax = pyplot.subplots()\n",
    "grouped = df.groupby('label')\n",
    "# grouped.get_group(1).iloc[:25,:2] += 1\n",
    "# outer = grouped.get_group(0).\n",
    "# inner = grouped.get_group(1)\n",
    "# # outer.iloc[:25,:2] += 1\n",
    "\n",
    "for key,group in enumerate([inner,outer]):\n",
    "    group.plot(ax=ax, kind='scatter', x='x', y='y', label=key, color=colors[key])\n",
    "plt.show()"
   ]
  },
  {
   "cell_type": "code",
   "execution_count": 198,
   "metadata": {},
   "outputs": [
    {
     "data": {
      "application/vnd.jupyter.widget-view+json": {
       "model_id": "384b83f26e68489d917145633710995b",
       "version_major": 2,
       "version_minor": 0
      },
      "text/plain": [
       "FigureCanvasNbAgg()"
      ]
     },
     "metadata": {},
     "output_type": "display_data"
    }
   ],
   "source": [
    "class_size = 200\n",
    "centers = [2*(x,y) for x in range(-1,2) for y in range(-1,2)]\n",
    "n_samples = [200//(len(centers)-1)]*len(centers)\n",
    "n_samples[len(centers)//2] = class_size\n",
    "\n",
    "X, y = make_blobs(n_samples=n_samples, centers=centers, n_features=2, cluster_std=0.2, shuffle=False)\n",
    "\n",
    "plt.close()\n",
    "df = DataFrame(dict(x=X[:,0], y=X[:,1], label=y))\n",
    "fig, ax = plt.subplots()\n",
    "colors = {0:'red', 1:'blue'}\n",
    "df.plot(ax=ax,kind=\"scatter\", x='x', y='y',c=\"label\", cmap= \"Accent\")\n",
    "# plt.colorbar()\n",
    "plt.show()"
   ]
  },
  {
   "cell_type": "code",
   "execution_count": 200,
   "metadata": {},
   "outputs": [
    {
     "data": {
      "text/plain": [
       "array([0, 0, 0, 0, 0, 0, 0, 0, 0, 0, 0, 0, 0, 0, 0, 0, 0, 0, 0, 0, 0, 0,\n",
       "       0, 0, 0, 0, 0, 0, 0, 0, 0, 0, 0, 0, 0, 0, 0, 0, 0, 0, 0, 0, 0, 0,\n",
       "       0, 0, 0, 0, 0, 0, 0, 0, 0, 0, 0, 0, 0, 0, 0, 0, 0, 0, 0, 0, 0, 0,\n",
       "       0, 0, 0, 0, 0, 0, 0, 0, 0, 0, 0, 0, 0, 0, 0, 0, 0, 0, 0, 0, 0, 0,\n",
       "       0, 0, 0, 0, 0, 0, 0, 0, 0, 0, 0, 0, 1, 1, 1, 1, 1, 1, 1, 1, 1, 1,\n",
       "       1, 1, 1, 1, 1, 1, 1, 1, 1, 1, 1, 1, 1, 1, 1, 1, 1, 1, 1, 1, 1, 1,\n",
       "       1, 1, 1, 1, 1, 1, 1, 1, 1, 1, 1, 1, 1, 1, 1, 1, 1, 1, 1, 1, 1, 1,\n",
       "       1, 1, 1, 1, 1, 1, 1, 1, 1, 1, 1, 1, 1, 1, 1, 1, 1, 1, 1, 1, 1, 1,\n",
       "       1, 1, 1, 1, 1, 1, 1, 1, 1, 1, 1, 1, 1, 1, 1, 1, 1, 1, 1, 1, 1, 1,\n",
       "       1, 1, 1, 1, 1, 1, 1, 1, 1, 1, 1, 1, 1, 1, 1, 1, 1, 1, 1, 1, 1, 1,\n",
       "       1, 1, 1, 1, 1, 1, 1, 1, 1, 1, 1, 1, 1, 1, 1, 1, 1, 1, 1, 1, 1, 1,\n",
       "       1, 1, 1, 1, 1, 1, 1, 1, 1, 1, 1, 1, 1, 1, 1, 1, 1, 1, 1, 1, 1, 1,\n",
       "       1, 1, 1, 1, 1, 1, 1, 1, 1, 1, 1, 1, 1, 1, 1, 1, 1, 1, 1, 1, 1, 1,\n",
       "       1, 1, 1, 1, 1, 1, 1, 1, 1, 1, 1, 1, 1, 1, 0, 0, 0, 0, 0, 0, 0, 0,\n",
       "       0, 0, 0, 0, 0, 0, 0, 0, 0, 0, 0, 0, 0, 0, 0, 0, 0, 0, 0, 0, 0, 0,\n",
       "       0, 0, 0, 0, 0, 0, 0, 0, 0, 0, 0, 0, 0, 0, 0, 0, 0, 0, 0, 0, 0, 0,\n",
       "       0, 0, 0, 0, 0, 0, 0, 0, 0, 0, 0, 0, 0, 0, 0, 0, 0, 0, 0, 0, 0, 0,\n",
       "       0, 0, 0, 0, 0, 0, 0, 0, 0, 0, 0, 0, 0, 0, 0, 0, 0, 0, 0, 0, 0, 0,\n",
       "       0, 0, 0, 0])"
      ]
     },
     "execution_count": 200,
     "metadata": {},
     "output_type": "execute_result"
    }
   ],
   "source": [
    "modded_samples = X\n",
    "labels = y.copy()\n",
    "labels[labels != 4] = 0\n",
    "labels[labels == 4] = 1\n",
    "labels"
   ]
  },
  {
   "cell_type": "markdown",
   "metadata": {},
   "source": [
    "12.5% => [0:25:2] = -x\n",
    "[0:25:2] = -x, -y\n",
    "\n",
    "--> just do 1000 points gauss distributed and split one half into circle around it - forget make circles\n"
   ]
  },
  {
   "cell_type": "code",
   "execution_count": 119,
   "metadata": {},
   "outputs": [
    {
     "data": {
      "application/vnd.jupyter.widget-view+json": {
       "model_id": "",
       "version_major": 2,
       "version_minor": 0
      },
      "text/plain": [
       "FigureCanvasNbAgg()"
      ]
     },
     "metadata": {},
     "output_type": "display_data"
    }
   ],
   "source": [
    "from sklearn.datasets import make_moons\n",
    "from matplotlib import pyplot\n",
    "from pandas import DataFrame\n",
    "# generate 2d classification dataset\n",
    "X, y = make_moons(n_samples=100, noise=0.01)\n",
    "# scatter plot, dots colored by class value\n",
    "df = DataFrame(dict(x=X[:,0], y=X[:,1], label=y))\n",
    "colors = {0:'red', 1:'blue'}\n",
    "fig, ax = pyplot.subplots()\n",
    "grouped = df.groupby('label')\n",
    "for key, group in grouped:\n",
    "    group.plot(ax=ax, kind='scatter', x='x', y='y', label=key, color=colors[key])\n",
    "pyplot.show()"
   ]
  },
  {
   "cell_type": "markdown",
   "metadata": {},
   "source": [
    "### Train a DNN on the modified dataset"
   ]
  },
  {
   "cell_type": "code",
   "execution_count": 23,
   "metadata": {},
   "outputs": [
    {
     "name": "stdout",
     "output_type": "stream",
     "text": [
      "Train Size: (80, 4)\n",
      "Test Size: (20,)\n",
      "Categories: [array([0, 1])]\n"
     ]
    },
    {
     "data": {
      "text/plain": [
       "(array([[6.1857057 , 3.58798326, 3.3       , 1.        ],\n",
       "        [5.6356124 , 2.01861148, 5.        , 1.7       ],\n",
       "        [6.71233414, 3.91714074, 4.7       , 1.4       ],\n",
       "        [7.87154648, 4.24364445, 4.5       , 1.5       ],\n",
       "        [5.        , 3.4       , 1.5       , 0.2       ],\n",
       "        [5.8       , 4.        , 1.2       , 0.2       ],\n",
       "        [5.4       , 3.4       , 1.7       , 0.2       ],\n",
       "        [5.64032143, 1.89898729, 4.4       , 1.4       ],\n",
       "        [5.7       , 3.8       , 1.7       , 0.3       ],\n",
       "        [4.6       , 3.6       , 1.        , 0.2       ],\n",
       "        [4.4       , 3.2       , 1.3       , 0.2       ],\n",
       "        [7.79775799, 3.67265314, 4.6       , 1.3       ],\n",
       "        [5.        , 3.3       , 1.4       , 0.2       ],\n",
       "        [4.4       , 3.        , 1.3       , 0.2       ],\n",
       "        [5.4       , 3.7       , 1.5       , 0.2       ],\n",
       "        [3.94313502, 0.97321431, 3.3       , 1.        ],\n",
       "        [6.19812919, 3.54615846, 3.9       , 1.1       ],\n",
       "        [5.2       , 3.4       , 1.4       , 0.2       ],\n",
       "        [7.29132206, 4.00783049, 4.7       , 1.6       ],\n",
       "        [4.04930142, 2.35046277, 4.5       , 1.5       ]]),\n",
       " array([1, 1, 1, 1, 0, 0, 0, 1, 0, 0, 0, 1, 0, 0, 0, 1, 1, 0, 1, 1]))"
      ]
     },
     "execution_count": 23,
     "metadata": {},
     "output_type": "execute_result"
    }
   ],
   "source": [
    "# Get split returns a generator\n",
    "# List comprehension is one way to evaluate a generator\n",
    "X_train, y_train, X_test, y_test = list(get_split(modded_samples, labels))[0]\n",
    "print(\"Train Size:\", X_train.shape)\n",
    "print(\"Test Size:\", y_test.shape)\n",
    "\n",
    "\n",
    "hot_encoder = OneHotEncoder(categories=\"auto\", sparse=False)\n",
    "hot_encoder.fit(labels.values.reshape(-1,1)) # Since the function expects an array of \"features\" per sample\n",
    "print(\"Categories:\", hot_encoder.categories_)\n",
    "X_test, y_test.values"
   ]
  },
  {
   "cell_type": "code",
   "execution_count": 24,
   "metadata": {},
   "outputs": [],
   "source": [
    "NUM_FEATURES = X_train.shape[1]\n",
    "NUM_LABELS = len(hot_encoder.categories_[0])"
   ]
  },
  {
   "cell_type": "code",
   "execution_count": 25,
   "metadata": {},
   "outputs": [],
   "source": [
    "def build_dnn(num_features, num_labels=3):\n",
    "\n",
    "#     reset_graph()\n",
    "    \n",
    "    keras.backend.clear_session()\n",
    "\n",
    "    nn = keras.models.Sequential()\n",
    "    Dense = keras.layers.Dense\n",
    "    \n",
    "    # Using He initialization\n",
    "    he_init = tf.keras.initializers.he_uniform()\n",
    "    \n",
    "    nn.add(Dense(units = 12, activation=\"elu\", input_dim=num_features,\n",
    "                kernel_initializer=he_init))\n",
    "    nn.add(Dense(units = 12, activation=\"elu\",\n",
    "                kernel_initializer=he_init))\n",
    "    nn.add(Dense(units=1, activation= \"sigmoid\",\n",
    "                kernel_initializer=he_init))\n",
    "\n",
    "#     BCE = tf.keras.losses.BinaryCrossentropy(from_logits=True)\n",
    "    \n",
    "    nn.compile(loss=\"binary_crossentropy\",\n",
    "                  optimizer='sgd',\n",
    "                  metrics=['binary_accuracy'])\n",
    "    \n",
    "    return nn\n",
    "\n",
    "def train_model(model, X, y, X_test=[], y_test=[], epochs=30, batch_size=20, verbose=1, plot=True):\n",
    "    \n",
    "    ZScaler = StandardScaler().fit(X)\n",
    "    \n",
    "    X_train = X #ZScaler.transform(X)\n",
    "#     X_test = ZScaler.transform(X_test)\n",
    "    \n",
    "    y_train = y.values\n",
    "    y_test = y_test.values\n",
    "    \n",
    "#     lr_scheduler = keras.callbacks.LearningRateScheduler(exp_decay)\n",
    "    callback_list = []\n",
    "    \n",
    "    history = model.fit(X_train, y_train, epochs=epochs, batch_size = batch_size,\n",
    "                        validation_data=(X_test, y_test), callbacks=callback_list, verbose=verbose)\n",
    "    \n",
    "#     if plot: plot_history(history)\n",
    "    \n",
    "    return history, ZScaler\n"
   ]
  },
  {
   "cell_type": "code",
   "execution_count": 26,
   "metadata": {},
   "outputs": [
    {
     "name": "stdout",
     "output_type": "stream",
     "text": [
      "WARNING:tensorflow:From /Users/Work/anaconda3/envs/condaflow/lib/python3.6/site-packages/tensorflow/python/framework/op_def_library.py:263: colocate_with (from tensorflow.python.framework.ops) is deprecated and will be removed in a future version.\n",
      "Instructions for updating:\n",
      "Colocations handled automatically by placer.\n",
      "WARNING:tensorflow:From /Users/Work/anaconda3/envs/condaflow/lib/python3.6/site-packages/tensorflow/python/ops/math_ops.py:3066: to_int32 (from tensorflow.python.ops.math_ops) is deprecated and will be removed in a future version.\n",
      "Instructions for updating:\n",
      "Use tf.cast instead.\n",
      "Train on 80 samples, validate on 20 samples\n",
      "Epoch 1/30\n",
      "80/80 [==============================] - 0s 3ms/step - loss: 0.8385 - binary_accuracy: 0.2750 - val_loss: 0.6335 - val_binary_accuracy: 0.6500\n",
      "Epoch 2/30\n",
      "80/80 [==============================] - 0s 123us/step - loss: 0.6114 - binary_accuracy: 0.6875 - val_loss: 0.4937 - val_binary_accuracy: 0.9500\n",
      "Epoch 3/30\n",
      "80/80 [==============================] - 0s 98us/step - loss: 0.4699 - binary_accuracy: 0.9750 - val_loss: 0.3945 - val_binary_accuracy: 1.0000\n",
      "Epoch 4/30\n",
      "80/80 [==============================] - 0s 96us/step - loss: 0.3841 - binary_accuracy: 1.0000 - val_loss: 0.3260 - val_binary_accuracy: 1.0000\n",
      "Epoch 5/30\n",
      "80/80 [==============================] - 0s 112us/step - loss: 0.3181 - binary_accuracy: 1.0000 - val_loss: 0.2776 - val_binary_accuracy: 1.0000\n",
      "Epoch 6/30\n",
      "80/80 [==============================] - 0s 107us/step - loss: 0.2668 - binary_accuracy: 1.0000 - val_loss: 0.2374 - val_binary_accuracy: 1.0000\n",
      "Epoch 7/30\n",
      "80/80 [==============================] - 0s 115us/step - loss: 0.2303 - binary_accuracy: 1.0000 - val_loss: 0.2077 - val_binary_accuracy: 1.0000\n",
      "Epoch 8/30\n",
      "80/80 [==============================] - 0s 102us/step - loss: 0.1996 - binary_accuracy: 1.0000 - val_loss: 0.1850 - val_binary_accuracy: 1.0000\n",
      "Epoch 9/30\n",
      "80/80 [==============================] - 0s 105us/step - loss: 0.1736 - binary_accuracy: 1.0000 - val_loss: 0.1608 - val_binary_accuracy: 1.0000\n",
      "Epoch 10/30\n",
      "80/80 [==============================] - 0s 105us/step - loss: 0.1549 - binary_accuracy: 1.0000 - val_loss: 0.1498 - val_binary_accuracy: 1.0000\n",
      "Epoch 11/30\n",
      "80/80 [==============================] - 0s 103us/step - loss: 0.1389 - binary_accuracy: 1.0000 - val_loss: 0.1377 - val_binary_accuracy: 1.0000\n",
      "Epoch 12/30\n",
      "80/80 [==============================] - 0s 107us/step - loss: 0.1262 - binary_accuracy: 1.0000 - val_loss: 0.1226 - val_binary_accuracy: 1.0000\n",
      "Epoch 13/30\n",
      "80/80 [==============================] - 0s 107us/step - loss: 0.1134 - binary_accuracy: 1.0000 - val_loss: 0.1094 - val_binary_accuracy: 1.0000\n",
      "Epoch 14/30\n",
      "80/80 [==============================] - 0s 95us/step - loss: 0.1027 - binary_accuracy: 1.0000 - val_loss: 0.0985 - val_binary_accuracy: 1.0000\n",
      "Epoch 15/30\n",
      "80/80 [==============================] - 0s 104us/step - loss: 0.0947 - binary_accuracy: 1.0000 - val_loss: 0.0930 - val_binary_accuracy: 1.0000\n",
      "Epoch 16/30\n",
      "80/80 [==============================] - 0s 109us/step - loss: 0.0878 - binary_accuracy: 1.0000 - val_loss: 0.0870 - val_binary_accuracy: 1.0000\n",
      "Epoch 17/30\n",
      "80/80 [==============================] - 0s 98us/step - loss: 0.0810 - binary_accuracy: 1.0000 - val_loss: 0.0809 - val_binary_accuracy: 1.0000\n",
      "Epoch 18/30\n",
      "80/80 [==============================] - 0s 98us/step - loss: 0.0746 - binary_accuracy: 1.0000 - val_loss: 0.0768 - val_binary_accuracy: 1.0000\n",
      "Epoch 19/30\n",
      "80/80 [==============================] - 0s 110us/step - loss: 0.0697 - binary_accuracy: 1.0000 - val_loss: 0.0726 - val_binary_accuracy: 1.0000\n",
      "Epoch 20/30\n",
      "80/80 [==============================] - 0s 100us/step - loss: 0.0660 - binary_accuracy: 1.0000 - val_loss: 0.0676 - val_binary_accuracy: 1.0000\n",
      "Epoch 21/30\n",
      "80/80 [==============================] - 0s 95us/step - loss: 0.0619 - binary_accuracy: 1.0000 - val_loss: 0.0643 - val_binary_accuracy: 1.0000\n",
      "Epoch 22/30\n",
      "80/80 [==============================] - 0s 94us/step - loss: 0.0574 - binary_accuracy: 1.0000 - val_loss: 0.0594 - val_binary_accuracy: 1.0000\n",
      "Epoch 23/30\n",
      "80/80 [==============================] - 0s 112us/step - loss: 0.0548 - binary_accuracy: 1.0000 - val_loss: 0.0562 - val_binary_accuracy: 1.0000\n",
      "Epoch 24/30\n",
      "80/80 [==============================] - 0s 100us/step - loss: 0.0517 - binary_accuracy: 1.0000 - val_loss: 0.0547 - val_binary_accuracy: 1.0000\n",
      "Epoch 25/30\n",
      "80/80 [==============================] - 0s 102us/step - loss: 0.0489 - binary_accuracy: 1.0000 - val_loss: 0.0539 - val_binary_accuracy: 1.0000\n",
      "Epoch 26/30\n",
      "80/80 [==============================] - 0s 111us/step - loss: 0.0464 - binary_accuracy: 1.0000 - val_loss: 0.0493 - val_binary_accuracy: 1.0000\n",
      "Epoch 27/30\n",
      "80/80 [==============================] - 0s 97us/step - loss: 0.0439 - binary_accuracy: 1.0000 - val_loss: 0.0484 - val_binary_accuracy: 1.0000\n",
      "Epoch 28/30\n",
      "80/80 [==============================] - 0s 105us/step - loss: 0.0419 - binary_accuracy: 1.0000 - val_loss: 0.0476 - val_binary_accuracy: 1.0000\n",
      "Epoch 29/30\n",
      "80/80 [==============================] - 0s 115us/step - loss: 0.0404 - binary_accuracy: 1.0000 - val_loss: 0.0450 - val_binary_accuracy: 1.0000\n",
      "Epoch 30/30\n",
      "80/80 [==============================] - 0s 109us/step - loss: 0.0389 - binary_accuracy: 1.0000 - val_loss: 0.0434 - val_binary_accuracy: 1.0000\n",
      "CPU times: user 775 ms, sys: 147 ms, total: 922 ms\n",
      "Wall time: 648 ms\n"
     ]
    }
   ],
   "source": [
    "nn = build_dnn(NUM_FEATURES)\n",
    "%time history, Zscaler = train_model(nn, X_train, y_train, X_test, y_test, epochs=30, batch_size=10)"
   ]
  },
  {
   "cell_type": "code",
   "execution_count": 27,
   "metadata": {},
   "outputs": [
    {
     "data": {
      "application/vnd.jupyter.widget-view+json": {
       "model_id": "",
       "version_major": 2,
       "version_minor": 0
      },
      "text/plain": [
       "FigureCanvasNbAgg()"
      ]
     },
     "metadata": {},
     "output_type": "display_data"
    }
   ],
   "source": [
    "# Plotting results from history\n",
    "plot_history(history)"
   ]
  },
  {
   "cell_type": "code",
   "execution_count": 10,
   "metadata": {},
   "outputs": [],
   "source": [
    "# sess = tf.Session()\n",
    "# predictions = nn.predict(Zscaler.transform(modded_samples))\n",
    "# predictions = nn.predict(modded_samples)\n",
    "# _labels = [np.float(x) for x in labels]\n",
    "\n",
    "# sess.run(keras.metrics.binary_accuracy(_labels,predictions.flatten()))\n",
    "# # predictions[0][0]\n",
    "# # _labels\n",
    "# # nn.evaluate(Zscaler.transform(modded_samples),labels.values)\n",
    "# # nn.evaluate(modded_samples,labels.values)\n",
    "\n"
   ]
  },
  {
   "cell_type": "markdown",
   "metadata": {},
   "source": [
    "# DONT FORGET TO RENORMALIZE WHEN EVALUATING SAMPLES"
   ]
  },
  {
   "cell_type": "code",
   "execution_count": 16,
   "metadata": {},
   "outputs": [],
   "source": [
    "# from sklearn.model_selection import StratifiedKFold as KFold\n",
    "# # keras.backend.clear_session()\n",
    "\n",
    "# def getKF(X,y, n_splits=10):\n",
    "#     kf = KFold(n_splits=n_splits, shuffle=True, random_state=42 ) #Default = 10\n",
    "\n",
    "#     for train_index, test_index in kf.split(X,y):\n",
    "#         X_train = X[train_index]\n",
    "#         y_train = y.iloc[train_index]\n",
    "#         X_test = X[test_index]\n",
    "#         y_test = y.iloc[test_index]\n",
    "        \n",
    "#         yield X_train, y_train, X_test, y_test, test_index\n",
    "\n",
    "# histories = []\n",
    "# testing_indxs =[]\n",
    "# predictions = []\n",
    "# true_labels = []\n",
    "# zoo = []\n",
    "# for X_train, y_train, X_test, y_test, test_index in getKF(modded_samples, labels):\n",
    "#     print(test_index)\n",
    "#     dnn = build_dnn(NUM_FEATURES, NUM_LABELS)\n",
    "#     history, ZScaler = train_model(dnn,X_train, y_train, X_test, y_test, verbose=0, plot=False, epochs=20, batch_size=10)\n",
    "    \n",
    "#     # Updating all information arrays\n",
    "#     histories.append(history)\n",
    "#     testing_indxs.append(test_index)\n",
    "#     zoo.append(dnn)\n",
    "    \n",
    "#     y_pred_probs = dnn.predict(ZScaler.transform(X_test))\n",
    "#     y_pred = np.argmax(y_pred_probs, axis=1)\n",
    "#     y_true = np.argmax(hot_encoder.transform(y_test.values.reshape(-1,1)), axis=1)\n",
    "    \n",
    "#     predictions.extend(y_pred)\n",
    "#     true_labels.extend(y_true)\n",
    "    \n",
    "#     print(\"Scores on test set: loss={:0.3f} accuracy={:.4f}\".format(history.history[\"binary_accuracy\"][-1], history.history[\"val_binary_accuracy\"][-1]))"
   ]
  },
  {
   "cell_type": "code",
   "execution_count": 17,
   "metadata": {},
   "outputs": [],
   "source": [
    "# # Num is the figure number and clear tells it to clear the figure if it already exists\n",
    "# plt.close()\n",
    "# fig, axs = plt.subplots(num=\"KF Eval\",\n",
    "#                         nrows=len(histories)//2, ncols=2,\n",
    "#                         figsize=(10,10), sharex=True, sharey=True)\n",
    "# axs=axs.flatten()\n",
    "# dfs = []\n",
    "\n",
    "# for i,history in enumerate(histories):\n",
    "#     df = pd.DataFrame(history.history)\n",
    "#     dfs.append(df)\n",
    "# #     axs[i].grid(True)\n",
    "#     df[[\"binary_accuracy\",\"val_binary_accuracy\"]].plot(ax=axs[i], grid=True)"
   ]
  },
  {
   "cell_type": "code",
   "execution_count": 18,
   "metadata": {},
   "outputs": [],
   "source": [
    "# sess = tf.Session()\n",
    "# idx = -1\n",
    "# best_dnn = zoo[idx]\n",
    "\n",
    "# predictions = best_dnn.predict(Zscaler.transform(modded_samples))\n",
    "# _labels = [np.float(x) for x in labels]\n",
    "# sess.run(keras.metrics.binary_accuracy(_labels,predictions.flatten()))\n",
    "\n",
    "# best_dnn.evaluate(Zscaler.transform(modded_samples),labels.values)\n",
    "# # NOT bestdnn.evaluate(modded_samples,labels.values)\n"
   ]
  },
  {
   "cell_type": "markdown",
   "metadata": {},
   "source": [
    "## Performing SVM on Modded Samples"
   ]
  },
  {
   "cell_type": "code",
   "execution_count": 71,
   "metadata": {},
   "outputs": [
    {
     "name": "stdout",
     "output_type": "stream",
     "text": [
      "CPU times: user 1.15 ms, sys: 270 µs, total: 1.42 ms\n",
      "Wall time: 1.21 ms\n"
     ]
    },
    {
     "data": {
      "text/plain": [
       "1.0"
      ]
     },
     "execution_count": 71,
     "metadata": {},
     "output_type": "execute_result"
    }
   ],
   "source": [
    "from sklearn.svm import SVC\n",
    "\n",
    "svm_clf = Pipeline([\n",
    "#     (\"scaler\", StandardScaler()),\n",
    "    (\"SVM\", SVC(kernel= \"rbf\", gamma= \"scale\", C=1))\n",
    "])\n",
    "\n",
    "%time svm_clf.fit(X_train, y_train)\n",
    "svm_clf.score(X_test, y_test)"
   ]
  },
  {
   "cell_type": "markdown",
   "metadata": {},
   "source": [
    "## Performing LRP"
   ]
  },
  {
   "cell_type": "code",
   "execution_count": 28,
   "metadata": {},
   "outputs": [
    {
     "name": "stdout",
     "output_type": "stream",
     "text": [
      "SANITY CHECK\n",
      "100/100 [==============================] - 0s 25us/step\n",
      "Scores on test set: loss=0.038 accuracy=1.0000\n"
     ]
    }
   ],
   "source": [
    "model = nn\n",
    "scaled_samples = modded_samples #Zscaler.transform(modded_samples)\n",
    "\n",
    "\n",
    "predictions = model.predict(scaled_samples)\n",
    "preds = np.array([np.round(x[0]) for x in predictions])\n",
    "true_labels = [np.float(x) for x in labels]\n",
    "\n",
    "correct = preds == true_labels\n",
    "versicolor = true_labels == 1\n",
    "\n",
    "print(\"SANITY CHECK\")\n",
    "loss_and_metrics = model.evaluate(scaled_samples[correct], labels[correct])\n",
    "print(\"Scores on test set: loss={:0.3f} accuracy={:.4f}\".format(*loss_and_metrics))"
   ]
  },
  {
   "cell_type": "code",
   "execution_count": 62,
   "metadata": {},
   "outputs": [],
   "source": [
    "import innvestigate\n",
    "import innvestigate.utils as iutils\n",
    "\n",
    "def perform_analysis(model, analyzer, data, labels):\n",
    "    analysis = analyzer.analyze(data)\n",
    "    prediction = model.predict(data)\n",
    "    \n",
    "    df_anal = pd.DataFrame(analysis)\n",
    "    \n",
    "    return df_anal\n",
    "\n",
    "\n",
    "# Stripping the softmax activation from the model\n",
    "# model_wo_sm = iutils.keras.graph.model_wo_softmax(model)\n",
    "\n",
    "# Creating an analyzer\n",
    "lrp_E = innvestigate.analyzer.relevance_based.relevance_analyzer.LRPEpsilon(model=model, epsilon=1e-3)\n",
    "\n",
    "lrp = innvestigate.analyzer.relevance_based.relevance_analyzer.LRPAlpha2Beta1(model=model)\n",
    "\n",
    "# Getting all the samples that can be correctly predicted\n",
    "test_idx = correct\n",
    "all_samples = scaled_samples[test_idx]\n",
    "all_labels = labels[test_idx]\n",
    "mod_labels = modded_labels[test_idx]\n",
    "\n",
    "# perform_analysis(nn,gradient_analyzer,flowers,types)\n",
    "all_lrp = perform_analysis(model,lrp, all_samples, all_labels)\n",
    "\n",
    "all_lrp_E = perform_analysis(model,lrp_E, all_samples, all_labels)"
   ]
  },
  {
   "cell_type": "code",
   "execution_count": 48,
   "metadata": {},
   "outputs": [
    {
     "data": {
      "text/html": [
       "<div>\n",
       "<style scoped>\n",
       "    .dataframe tbody tr th:only-of-type {\n",
       "        vertical-align: middle;\n",
       "    }\n",
       "\n",
       "    .dataframe tbody tr th {\n",
       "        vertical-align: top;\n",
       "    }\n",
       "\n",
       "    .dataframe thead th {\n",
       "        text-align: right;\n",
       "    }\n",
       "</style>\n",
       "<table border=\"1\" class=\"dataframe\">\n",
       "  <thead>\n",
       "    <tr style=\"text-align: right;\">\n",
       "      <th></th>\n",
       "      <th>0</th>\n",
       "      <th>1</th>\n",
       "      <th>2</th>\n",
       "      <th>3</th>\n",
       "    </tr>\n",
       "  </thead>\n",
       "  <tbody>\n",
       "    <tr>\n",
       "      <th>count</th>\n",
       "      <td>100.000000</td>\n",
       "      <td>100.000000</td>\n",
       "      <td>100.000000</td>\n",
       "      <td>100.000000</td>\n",
       "    </tr>\n",
       "    <tr>\n",
       "      <th>mean</th>\n",
       "      <td>1.037187</td>\n",
       "      <td>-1.268840</td>\n",
       "      <td>0.611865</td>\n",
       "      <td>0.104880</td>\n",
       "    </tr>\n",
       "    <tr>\n",
       "      <th>std</th>\n",
       "      <td>1.335004</td>\n",
       "      <td>1.247448</td>\n",
       "      <td>0.757155</td>\n",
       "      <td>0.141231</td>\n",
       "    </tr>\n",
       "    <tr>\n",
       "      <th>min</th>\n",
       "      <td>-0.025255</td>\n",
       "      <td>-2.919229</td>\n",
       "      <td>-0.150031</td>\n",
       "      <td>-0.039714</td>\n",
       "    </tr>\n",
       "    <tr>\n",
       "      <th>25%</th>\n",
       "      <td>0.028382</td>\n",
       "      <td>-2.680909</td>\n",
       "      <td>0.035108</td>\n",
       "      <td>0.007139</td>\n",
       "    </tr>\n",
       "    <tr>\n",
       "      <th>50%</th>\n",
       "      <td>0.068188</td>\n",
       "      <td>-0.830960</td>\n",
       "      <td>0.103296</td>\n",
       "      <td>0.022924</td>\n",
       "    </tr>\n",
       "    <tr>\n",
       "      <th>75%</th>\n",
       "      <td>2.474857</td>\n",
       "      <td>-0.049737</td>\n",
       "      <td>1.032784</td>\n",
       "      <td>0.145725</td>\n",
       "    </tr>\n",
       "    <tr>\n",
       "      <th>max</th>\n",
       "      <td>3.763635</td>\n",
       "      <td>-0.006226</td>\n",
       "      <td>2.339915</td>\n",
       "      <td>0.449120</td>\n",
       "    </tr>\n",
       "  </tbody>\n",
       "</table>\n",
       "</div>"
      ],
      "text/plain": [
       "                0           1           2           3\n",
       "count  100.000000  100.000000  100.000000  100.000000\n",
       "mean     1.037187   -1.268840    0.611865    0.104880\n",
       "std      1.335004    1.247448    0.757155    0.141231\n",
       "min     -0.025255   -2.919229   -0.150031   -0.039714\n",
       "25%      0.028382   -2.680909    0.035108    0.007139\n",
       "50%      0.068188   -0.830960    0.103296    0.022924\n",
       "75%      2.474857   -0.049737    1.032784    0.145725\n",
       "max      3.763635   -0.006226    2.339915    0.449120"
      ]
     },
     "execution_count": 48,
     "metadata": {},
     "output_type": "execute_result"
    }
   ],
   "source": [
    "all_lrp.describe()\n",
    "# mod_labels[51:50]"
   ]
  },
  {
   "cell_type": "code",
   "execution_count": 49,
   "metadata": {},
   "outputs": [],
   "source": [
    "# plt.close()\n",
    "lrp_results = all_lrp\n",
    "# # lrp_E_results = all_lrp_E\n",
    "population = lrp_results.mean()\n",
    "sorted_features = population.sort_values(ascending=False)\n",
    "\n",
    "# sorted_features.plot(kind=\"bar\")\n",
    "# plt.xticks(rotation=65, fontsize=\"small\")\n",
    "\n",
    "# plt.show()"
   ]
  },
  {
   "cell_type": "code",
   "execution_count": 66,
   "metadata": {},
   "outputs": [],
   "source": [
    "[feature_names[x] for x in sorted_features.index]\n",
    "_samples = modded_samples[50:]\n",
    "# _samples[:,[1,2]]"
   ]
  },
  {
   "cell_type": "markdown",
   "metadata": {},
   "source": [
    "## Plotting UMAP projections"
   ]
  },
  {
   "cell_type": "code",
   "execution_count": 51,
   "metadata": {},
   "outputs": [],
   "source": [
    "reducer_3d = umap.UMAP(random_state=42,\n",
    "                    n_components = 3,\n",
    "                    n_neighbors=50,\n",
    "                    min_dist=0)\n",
    "\n",
    "# embedding_3d = reducer_3d.fit_transform(_samples)\n",
    "\n",
    "# fig = plt.figure(figsize=(12,10))\n",
    "# ax = fig.add_subplot(111, projection='3d')\n",
    "# _im = ax.scatter(embedding_3d[:,0], embedding_3d[:,1], embedding_3d[:,2], c=mod_labels[50:], s=40)\n",
    "# plt.colorbar(_im)\n",
    "\n",
    "# plt.show()\n",
    "\n",
    "\n",
    "# versicolor_samples[[1,2]].plot(kind=\"scatter\", x=1, y=2)\n",
    "\n"
   ]
  },
  {
   "cell_type": "code",
   "execution_count": 55,
   "metadata": {},
   "outputs": [
    {
     "data": {
      "application/vnd.jupyter.widget-view+json": {
       "model_id": "",
       "version_major": 2,
       "version_minor": 0
      },
      "text/plain": [
       "FigureCanvasNbAgg()"
      ]
     },
     "metadata": {},
     "output_type": "display_data"
    }
   ],
   "source": [
    "plot_2d(modded_samples[:,[0,1]], labels=modded_labels[:])"
   ]
  },
  {
   "cell_type": "code",
   "execution_count": 157,
   "metadata": {},
   "outputs": [
    {
     "name": "stderr",
     "output_type": "stream",
     "text": [
      "/Users/Work/anaconda3/envs/condaflow/lib/python3.6/site-packages/umap/umap_.py:1364: UserWarning: n_neighbors is larger than the dataset size; truncating to X.shape[0] - 1\n",
      "  \"n_neighbors is larger than the dataset size; truncating to \"\n"
     ]
    },
    {
     "data": {
      "application/vnd.jupyter.widget-view+json": {
       "model_id": "d5702bdd071649f7a150c4d0fef539f9",
       "version_major": 2,
       "version_minor": 0
      },
      "text/plain": [
       "FigureCanvasNbAgg()"
      ]
     },
     "metadata": {},
     "output_type": "display_data"
    },
    {
     "data": {
      "application/vnd.jupyter.widget-view+json": {
       "model_id": "",
       "version_major": 2,
       "version_minor": 0
      },
      "text/plain": [
       "FigureCanvasNbAgg()"
      ]
     },
     "metadata": {},
     "output_type": "display_data"
    }
   ],
   "source": [
    "def plot_2d(X,labels, name=\"1\"):\n",
    "    plt.close()\n",
    "    fig = plt.figure(figsize=(10,8))\n",
    "    plt.scatter(x=X[:,0], y=X[:,1], s= 30, c=labels)\n",
    "    plt.colorbar()\n",
    "\n",
    "    \n",
    "pos_only = all_lrp.copy()\n",
    "pos_only[pos_only < 0] = 0\n",
    "\n",
    "# _labels = mod_labels\n",
    "\n",
    "\n",
    "# pos_only = lrp_results.copy()\n",
    "plt.close()\n",
    "# pos_only[pos_only < 0] = 0\n",
    "reducer_3d = umap.UMAP(random_state=42,\n",
    "                    n_components = 3,\n",
    "                    n_neighbors=100,\n",
    "                    min_dist=0)\n",
    "\n",
    "reducer_2d = umap.UMAP(random_state=42,\n",
    "                    n_components = 2,\n",
    "                    n_neighbors=25,\n",
    "                    min_dist=0)\n",
    "\n",
    "embedding_3d = reducer_3d.fit_transform(pos_only)\n",
    "embedding_2d = reducer_2d.fit_transform(pos_only)\n",
    "\n",
    "plot_2d(embedding_2d, labels, name=\"Alpha\")\n",
    "\n",
    "fig = plt.figure(figsize=(12,10))\n",
    "ax = fig.add_subplot(111, projection='3d')\n",
    "_im = ax.scatter(embedding_3d[:,0], embedding_3d[:,1], embedding_3d[:,2], c=mod_labels, s=40)\n",
    "plt.colorbar(_im)\n",
    "\n",
    "plt.show()\n"
   ]
  },
  {
   "cell_type": "markdown",
   "metadata": {},
   "source": [
    "## LRP-Epsilon"
   ]
  },
  {
   "cell_type": "code",
   "execution_count": 65,
   "metadata": {},
   "outputs": [
    {
     "name": "stderr",
     "output_type": "stream",
     "text": [
      "/Users/Work/anaconda3/envs/condaflow/lib/python3.6/site-packages/umap/spectral.py:229: UserWarning: Embedding a total of 2 separate connected components using meta-embedding (experimental)\n",
      "  n_components\n",
      "/Users/Work/anaconda3/envs/condaflow/lib/python3.6/site-packages/umap/spectral.py:229: UserWarning: Embedding a total of 2 separate connected components using meta-embedding (experimental)\n",
      "  n_components\n"
     ]
    },
    {
     "data": {
      "application/vnd.jupyter.widget-view+json": {
       "model_id": "8960c2dc66534965a1ca15513a4b34b1",
       "version_major": 2,
       "version_minor": 0
      },
      "text/plain": [
       "FigureCanvasNbAgg()"
      ]
     },
     "metadata": {},
     "output_type": "display_data"
    },
    {
     "data": {
      "application/vnd.jupyter.widget-view+json": {
       "model_id": "772e72909e2041799ade8bf0846bb9af",
       "version_major": 2,
       "version_minor": 0
      },
      "text/plain": [
       "FigureCanvasNbAgg()"
      ]
     },
     "metadata": {},
     "output_type": "display_data"
    }
   ],
   "source": [
    "pos_only = all_lrp_E.copy()\n",
    "pos_only[pos_only < 0] = 0\n",
    "\n",
    "# _labels = mod_labels\n",
    "\n",
    "\n",
    "# pos_only = lrp_results.copy()\n",
    "plt.close()\n",
    "# pos_only[pos_only < 0] = 0\n",
    "reducer_3d = umap.UMAP(random_state=42,\n",
    "                    n_components = 3,\n",
    "                    n_neighbors=25,\n",
    "                    min_dist=0)\n",
    "\n",
    "reducer_2d = umap.UMAP(random_state=42,\n",
    "                    n_components = 2,\n",
    "                    n_neighbors=15,\n",
    "                    min_dist=0)\n",
    "\n",
    "embedding_3d = reducer_3d.fit_transform(pos_only)\n",
    "embedding_2d = reducer_2d.fit_transform(pos_only)\n",
    "\n",
    "plot_2d(embedding_2d, labels, name=\"Alpha\")\n",
    "\n",
    "fig = plt.figure(figsize=(12,10))\n",
    "ax = fig.add_subplot(111, projection='3d')\n",
    "_im = ax.scatter(embedding_3d[:,0], embedding_3d[:,1], embedding_3d[:,2], c=modded_labels, s=40)\n",
    "plt.colorbar(_im)\n",
    "\n",
    "plt.show()\n"
   ]
  },
  {
   "cell_type": "code",
   "execution_count": 32,
   "metadata": {},
   "outputs": [],
   "source": [
    "df = pd.DataFrame(pos_only)"
   ]
  },
  {
   "cell_type": "code",
   "execution_count": 41,
   "metadata": {},
   "outputs": [
    {
     "data": {
      "application/vnd.jupyter.widget-view+json": {
       "model_id": "",
       "version_major": 2,
       "version_minor": 0
      },
      "text/plain": [
       "FigureCanvasNbAgg()"
      ]
     },
     "metadata": {},
     "output_type": "display_data"
    }
   ],
   "source": [
    "fig = plt.figure(figsize=(12,10))\n",
    "ax = fig.add_subplot(111, projection='3d')\n",
    "_im = ax.scatter(df[1], df[1], df[2], c=labels, s=40)\n",
    "plt.colorbar(_im)\n",
    "\n",
    "plt.show()"
   ]
  },
  {
   "cell_type": "code",
   "execution_count": 48,
   "metadata": {},
   "outputs": [
    {
     "data": {
      "application/vnd.jupyter.widget-view+json": {
       "model_id": "454fa9d94412458f81b350501c0d6221",
       "version_major": 2,
       "version_minor": 0
      },
      "text/plain": [
       "FigureCanvasNbAgg()"
      ]
     },
     "metadata": {},
     "output_type": "display_data"
    }
   ],
   "source": [
    "\n",
    "\n",
    "plot_2d(df[[2,3]].values, labels)"
   ]
  },
  {
   "cell_type": "code",
   "execution_count": 46,
   "metadata": {},
   "outputs": [
    {
     "data": {
      "text/plain": [
       "array([[0.        , 0.        ],\n",
       "       [0.        , 0.        ],\n",
       "       [0.        , 0.        ],\n",
       "       [0.        , 0.        ],\n",
       "       [0.        , 0.        ],\n",
       "       [0.        , 0.        ],\n",
       "       [0.        , 0.        ],\n",
       "       [0.        , 0.        ],\n",
       "       [0.        , 0.        ],\n",
       "       [0.        , 0.        ],\n",
       "       [0.        , 0.        ],\n",
       "       [0.        , 0.        ],\n",
       "       [0.        , 0.        ],\n",
       "       [0.        , 0.        ],\n",
       "       [0.        , 0.        ],\n",
       "       [0.        , 0.        ],\n",
       "       [0.        , 0.        ],\n",
       "       [0.        , 0.        ],\n",
       "       [0.        , 0.        ],\n",
       "       [0.        , 0.        ],\n",
       "       [0.        , 0.        ],\n",
       "       [0.        , 0.        ],\n",
       "       [0.        , 0.        ],\n",
       "       [0.        , 0.        ],\n",
       "       [0.        , 0.        ],\n",
       "       [0.        , 0.        ],\n",
       "       [0.        , 0.        ],\n",
       "       [0.        , 0.        ],\n",
       "       [0.        , 0.        ],\n",
       "       [0.        , 0.        ],\n",
       "       [0.        , 0.        ],\n",
       "       [0.        , 0.        ],\n",
       "       [0.        , 0.        ],\n",
       "       [0.        , 0.        ],\n",
       "       [0.        , 0.        ],\n",
       "       [0.        , 0.        ],\n",
       "       [0.        , 0.        ],\n",
       "       [0.        , 0.        ],\n",
       "       [0.        , 0.        ],\n",
       "       [0.        , 0.        ],\n",
       "       [0.        , 0.        ],\n",
       "       [0.        , 0.        ],\n",
       "       [0.        , 0.        ],\n",
       "       [0.        , 0.        ],\n",
       "       [0.        , 0.        ],\n",
       "       [0.        , 0.        ],\n",
       "       [0.        , 0.        ],\n",
       "       [0.        , 0.        ],\n",
       "       [0.        , 0.        ],\n",
       "       [0.        , 0.        ],\n",
       "       [3.2341988 , 0.40015644],\n",
       "       [3.046534  , 0.45864302],\n",
       "       [2.8313122 , 0.36269432],\n",
       "       [3.6073656 , 0.4830174 ],\n",
       "       [2.922147  , 0.40658927],\n",
       "       [2.8258095 , 0.33863568],\n",
       "       [2.7649713 , 0.38222763],\n",
       "       [4.3817997 , 0.5706662 ],\n",
       "       [3.0519426 , 0.35633597],\n",
       "       [3.1038227 , 0.4814218 ],\n",
       "       [4.7189617 , 0.52742887],\n",
       "       [3.1504023 , 0.46760798],\n",
       "       [3.8795683 , 0.37352076],\n",
       "       [2.6625073 , 0.3431123 ],\n",
       "       [4.0095453 , 0.66652346],\n",
       "       [3.2478168 , 0.45864558],\n",
       "       [2.6911252 , 0.39135474],\n",
       "       [3.8241687 , 0.3592794 ],\n",
       "       [3.0402374 , 0.2659639 ],\n",
       "       [3.5892904 , 0.4113137 ],\n",
       "       [2.429065  , 0.4314561 ],\n",
       "       [3.7416108 , 0.5143993 ],\n",
       "       [2.5567577 , 0.27426904],\n",
       "       [2.8587954 , 0.30249736],\n",
       "       [3.4838312 , 0.39341414],\n",
       "       [2.0539353 , 0.2533825 ],\n",
       "       [2.009465  , 0.22820462],\n",
       "       [1.9541065 , 0.23865747],\n",
       "       [1.8167952 , 0.2643046 ],\n",
       "       [2.3233948 , 0.3615671 ],\n",
       "       [2.1991553 , 0.2659869 ],\n",
       "       [2.2736406 , 0.19892563],\n",
       "       [2.3180668 , 0.34378758],\n",
       "       [1.8425106 , 0.2508426 ],\n",
       "       [1.871185  , 0.2888521 ],\n",
       "       [1.7537334 , 0.29944625],\n",
       "       [2.0451522 , 0.22219095],\n",
       "       [2.2010138 , 0.21247678],\n",
       "       [1.963438  , 0.376471  ],\n",
       "       [2.0713866 , 0.28989023],\n",
       "       [1.8753899 , 0.3162305 ],\n",
       "       [1.9620641 , 0.23506565],\n",
       "       [2.093368  , 0.21197449],\n",
       "       [2.3116667 , 0.24017397],\n",
       "       [2.0252109 , 0.3262897 ],\n",
       "       [1.8947334 , 0.27891058],\n",
       "       [1.9602963 , 0.28915378],\n",
       "       [2.1946063 , 0.29479325],\n",
       "       [2.2673657 , 0.53180546],\n",
       "       [2.0549471 , 0.23327528]], dtype=float32)"
      ]
     },
     "execution_count": 46,
     "metadata": {},
     "output_type": "execute_result"
    }
   ],
   "source": []
  },
  {
   "cell_type": "code",
   "execution_count": null,
   "metadata": {},
   "outputs": [],
   "source": []
  }
 ],
 "metadata": {
  "kernelspec": {
   "display_name": "condaflow",
   "language": "python",
   "name": "condaflow"
  },
  "language_info": {
   "codemirror_mode": {
    "name": "ipython",
    "version": 3
   },
   "file_extension": ".py",
   "mimetype": "text/x-python",
   "name": "python",
   "nbconvert_exporter": "python",
   "pygments_lexer": "ipython3",
   "version": "3.6.8"
  }
 },
 "nbformat": 4,
 "nbformat_minor": 2
}
