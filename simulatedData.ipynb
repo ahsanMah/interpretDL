{
 "cells": [
  {
   "cell_type": "code",
   "execution_count": 53,
   "metadata": {},
   "outputs": [
    {
     "data": {
      "text/plain": [
       "'1.13.1'"
      ]
     },
     "execution_count": 53,
     "metadata": {},
     "output_type": "execute_result"
    }
   ],
   "source": [
    "import tensorflow as tf\n",
    "import numpy as np\n",
    "import pandas as pd\n",
    "import keras\n",
    "import umap\n",
    "\n",
    "from imblearn.over_sampling import SMOTE\n",
    "from sklearn.model_selection import StratifiedShuffleSplit\n",
    "# Converting labels to 1-Hot Vectors\n",
    "from sklearn.preprocessing import OneHotEncoder\n",
    "from mpl_toolkits.mplot3d import Axes3D\n",
    "\n",
    "\n",
    "import sys\n",
    "# sys.path.append(\"/Users/Work/Developer/interpretDL/interprettensor\")\n",
    "root_logdir = \"./tf_logs\"\n",
    "\n",
    "# To plot pretty figures\n",
    "%matplotlib widget\n",
    "import matplotlib\n",
    "import matplotlib.pyplot as plt\n",
    "plt.rcParams['axes.labelsize'] = 14\n",
    "plt.rcParams['xtick.labelsize'] = 12\n",
    "plt.rcParams['ytick.labelsize'] = 12\n",
    "\n",
    "# to make this notebook's output stable across runs\n",
    "def reset_graph(seed=42):\n",
    "    tf.reset_default_graph()\n",
    "    tf.set_random_seed(seed)\n",
    "    np.random.seed(seed)\n",
    "\n",
    "np.random.seed(seed=42) \n",
    "tf.__version__"
   ]
  },
  {
   "cell_type": "code",
   "execution_count": 2,
   "metadata": {},
   "outputs": [],
   "source": [
    "# Helper Functions\n",
    "\n",
    "from sklearn.metrics import confusion_matrix\n",
    "from sklearn.utils.multiclass import unique_labels\n",
    "\n",
    "######### Taken from sklearn #######\n",
    "def plot_confusion_matrix(y_true, y_pred, classes,\n",
    "                          normalize=False,\n",
    "                          title=None,\n",
    "                          cmap=plt.cm.Blues):\n",
    "    \"\"\"\n",
    "    This function prints and plots the confusion matrix.\n",
    "    Normalization can be applied by setting `normalize=True`.\n",
    "    \"\"\"\n",
    "    if not title:\n",
    "        if normalize:\n",
    "            title = 'Normalized confusion matrix'\n",
    "        else:\n",
    "            title = 'Confusion matrix, without normalization'\n",
    "\n",
    "    # Compute confusion matrix\n",
    "    cm = confusion_matrix(y_true, y_pred)\n",
    "    # Only use the labels that appear in the data\n",
    "    classes = classes[unique_labels(y_true, y_pred)]\n",
    "    if normalize:\n",
    "        cm = cm.astype('float') / cm.sum(axis=1)[:, np.newaxis]\n",
    "        print(\"Normalized confusion matrix\")\n",
    "    else:\n",
    "        print('Confusion matrix, without normalization')\n",
    "\n",
    "    print(cm)\n",
    "\n",
    "    fig, ax = plt.subplots(figsize=[8,8])\n",
    "    im = ax.imshow(cm, interpolation='nearest', cmap=cmap)\n",
    "    ax.figure.colorbar(im, ax=ax)\n",
    "    # We want to show all ticks...\n",
    "    ax.set(xticks=np.arange(cm.shape[1]),\n",
    "           yticks=np.arange(cm.shape[0]),\n",
    "           # ... and label them with the respective list entries\n",
    "           xticklabels=classes, yticklabels=classes,\n",
    "           title=title,\n",
    "           ylabel='True label',\n",
    "           xlabel='Predicted label')\n",
    "\n",
    "    # Rotate the tick labels and set their alignment.\n",
    "    plt.setp(ax.get_xticklabels(), rotation=45, ha=\"right\",\n",
    "             rotation_mode=\"anchor\")\n",
    "\n",
    "    # Loop over data dimensions and create text annotations.\n",
    "    fmt = '.2f' if normalize else 'd'\n",
    "    thresh = cm.max() / 2.\n",
    "    for i in range(cm.shape[0]):\n",
    "        for j in range(cm.shape[1]):\n",
    "            ax.text(j, i, format(cm[i, j], fmt),\n",
    "                    ha=\"center\", va=\"center\",\n",
    "                    color=\"white\" if cm[i, j] > thresh else \"black\")\n",
    "    fig.tight_layout()\n",
    "    return ax\n",
    "\n",
    "\n",
    "def get1hot(y_train,y_test):\n",
    "    from sklearn.preprocessing import OneHotEncoder\n",
    "\n",
    "    enc = OneHotEncoder(categories=\"auto\", sparse=False)\n",
    "    y_train_1hot = enc.fit_transform([[label] for label in y_train]) # Since the function expects an array of \"features\" per sample\n",
    "    y_test_1hot = enc.fit_transform([[label] for label in y_test])\n",
    "\n",
    "    return y_train_1hot, y_test_1hot\n",
    "\n",
    "def get_split(features, labels):\n",
    "    features = np.array(features)\n",
    "    # The train set will have equal amounts of each target class\n",
    "    split = StratifiedShuffleSplit(n_splits=1, test_size=0.2, random_state=42)\n",
    "    for train_index, test_index in split.split(features, labels):\n",
    "        X_train = features[train_index]\n",
    "        y_train = labels.iloc[train_index]\n",
    "        X_test = features[test_index]\n",
    "        y_test = labels.iloc[test_index]\n",
    "        \n",
    "        yield X_train, y_train, X_test, y_test\n",
    "\n",
    "def plot_history(history):\n",
    "    plt.close()\n",
    "    fig, axs = plt.subplots(1, 2, figsize=(12,6))\n",
    "\n",
    "    # Plot training & validation accuracy values\n",
    "    axs[0].grid(True)\n",
    "    axs[0].plot(history.history['binary_accuracy'])\n",
    "    axs[0].plot(history.history['val_binary_accuracy'])\n",
    "    axs[0].set(title='Model accuracy', ylabel='Accuracy', xlabel='Epoch')\n",
    "    axs[0].legend(['Train', 'Test'], loc='upper left')\n",
    "\n",
    "    # Plot training & validation loss values\n",
    "    axs[1].grid(True)\n",
    "    axs[1].plot(history.history['loss'])\n",
    "    axs[1].plot(history.history['val_loss'])\n",
    "    axs[1].set(title='Model loss',ylabel='Loss', xlabel='Epoch')\n",
    "    axs[1].legend(['Train', 'Test'], loc='upper left')\n",
    "\n",
    "    plt.show()\n",
    "\n",
    "\n",
    "def remove_label(features, labels, label=\"MCI\"):\n",
    "    labels = pd.Series(fused_labels)\n",
    "    non_samples = labels != label\n",
    "\n",
    "    stripped_features = features[non_samples]\n",
    "    stripped_labels = labels[non_samples]\n",
    "\n",
    "    return stripped_features, stripped_labels"
   ]
  },
  {
   "cell_type": "code",
   "execution_count": 3,
   "metadata": {},
   "outputs": [],
   "source": [
    "from sklearn.base import BaseEstimator, TransformerMixin\n",
    "from sklearn.pipeline import Pipeline\n",
    "from sklearn.preprocessing import StandardScaler\n",
    "\n",
    "class AttributeRemover(BaseEstimator, TransformerMixin):\n",
    "    \"\"\"\n",
    "    Returns a copy of matrix with attributes removed\n",
    "    \"\"\"\n",
    "    def __init__(self, attribute_names):\n",
    "        self.attribute_names = attribute_names\n",
    "    \n",
    "    def fit(self, X, y=None):\n",
    "        return # Doesn't do anything\n",
    "    \n",
    "    def transform(self, X, y=None):\n",
    "        return X.drop(columns=self.attribute_names)\n",
    "\n",
    "class OverSampler(BaseEstimator, TransformerMixin):\n",
    "    \"\"\"\n",
    "    Returns a copy of matrix with attributes removed\n",
    "    \"\"\"\n",
    "    def __init__(self, random_state=42):\n",
    "        self.smote = SMOTE(random_state=random_state)\n",
    "    \n",
    "    def fit(self, X, y=None):\n",
    "        return None\n",
    "    \n",
    "    def transform(self, X, y=None):\n",
    "        return self.smote.fit_resample(X,y)\n",
    "\n",
    "class AddNoise(BaseEstimator, TransformerMixin):\n",
    "    \"\"\"\n",
    "    Returns a copy of matrix with attributes removed\n",
    "    \"\"\"\n",
    "    def __init__(self, random_state=42):\n",
    "        self.smote = SMOTE(random_state=random_state)\n",
    "    \n",
    "    def fit(self, X, y=None):\n",
    "        return None\n",
    "    \n",
    "    def transform(self, X, y=None):\n",
    "        return self.smote.fit_resample(X,y)\n",
    "    \n",
    "# Not used\n",
    "train_pipeline = Pipeline([\n",
    "                    (\"smote\", OverSampler()),\n",
    "                    (\"normalizer\", StandardScaler()) ])"
   ]
  },
  {
   "cell_type": "code",
   "execution_count": 92,
   "metadata": {},
   "outputs": [
    {
     "name": "stdout",
     "output_type": "stream",
     "text": [
      "<class 'pandas.core.frame.DataFrame'>\n",
      "RangeIndex: 150 entries, 0 to 149\n",
      "Data columns (total 4 columns):\n",
      "0    150 non-null float64\n",
      "1    150 non-null float64\n",
      "2    150 non-null float64\n",
      "3    150 non-null float64\n",
      "dtypes: float64(4)\n",
      "memory usage: 4.8 KB\n",
      "None\n"
     ]
    },
    {
     "data": {
      "text/plain": [
       "array(['setosa', 'versicolor', 'virginica'], dtype='<U10')"
      ]
     },
     "execution_count": 92,
     "metadata": {},
     "output_type": "execute_result"
    }
   ],
   "source": [
    "from sklearn import datasets\n",
    "\n",
    "iris = datasets.load_iris()\n",
    "\n",
    "features = pd.DataFrame(iris[\"data\"])\n",
    "target = pd.Series(iris[\"target\"])\n",
    "flower_names = iris[\"target_names\"]\n",
    "feature_names = iris[\"feature_names\"]\n",
    "print(features.info())\n",
    "flower_names"
   ]
  },
  {
   "cell_type": "markdown",
   "metadata": {},
   "source": [
    "### Get the first 2 flower samples"
   ]
  },
  {
   "cell_type": "code",
   "execution_count": 96,
   "metadata": {},
   "outputs": [],
   "source": [
    "setosa = target == 0\n",
    "versicolor = target == 1\n",
    "samples = features[setosa | versicolor]\n",
    "labels = target[setosa | versicolor]\n",
    "class_size = sum(setosa)\n",
    "\n",
    "versicolor_samples = features[versicolor]\n",
    "setosa_samples = features[setosa]\n",
    "\n",
    "# versicolor_samples"
   ]
  },
  {
   "cell_type": "markdown",
   "metadata": {},
   "source": [
    "### Splitting *versicolor* into two sub classes"
   ]
  },
  {
   "cell_type": "code",
   "execution_count": null,
   "metadata": {},
   "outputs": [],
   "source": []
  },
  {
   "cell_type": "code",
   "execution_count": 106,
   "metadata": {},
   "outputs": [],
   "source": [
    "# Adding Gaussian Noise\n",
    "\n",
    "# Positive to first two features\n",
    "gauss_noise = np.random.normal(loc=0.1,scale=0.1, size=[class_size//2,2])\n",
    "gauss_noise[gauss_noise < 0] = 0\n",
    "unif_noise = np.random.uniform(low=0,high=1)\n",
    "\n",
    "\n",
    "B1 = versicolor_samples.iloc[:25,:2] + gauss_noise\n",
    "B1 = np.concatenate((B1, versicolor_samples.iloc[:25,2:]), axis=1)\n",
    "\n",
    "# Negative to last two features\n",
    "gauss_noise = np.random.normal(loc=0.1,scale=0.1, size=[class_size//2,2])\n",
    "gauss_noise[gauss_noise < 0] = 0\n",
    "\n",
    "B2 = versicolor_samples.iloc[25:,2:] - gauss_noise\n",
    "B2 = np.concatenate((versicolor_samples.iloc[25:,:2],B2), axis=1)\n",
    "\n",
    "# Combining the two fake \"subclasses\"\n",
    "noisy_samples = np.concatenate((B1, B2), axis=0)\n",
    "\n",
    "# print(versicolor_samples)\n",
    "# # np.std(samples[50:])\n",
    "# noisy_samples"
   ]
  },
  {
   "cell_type": "code",
   "execution_count": 108,
   "metadata": {},
   "outputs": [
    {
     "data": {
      "text/plain": [
       "(100, 4)"
      ]
     },
     "execution_count": 108,
     "metadata": {},
     "output_type": "execute_result"
    }
   ],
   "source": [
    "modded_samples = np.concatenate((setosa_samples,noisy_samples))\n",
    "\n",
    "modded_samples.shape\n",
    "# print(np.mean(modded_samples[50:], axis=0))\n",
    "# np.std(modded_samples[50:],axis=0)"
   ]
  },
  {
   "cell_type": "markdown",
   "metadata": {},
   "source": [
    "### Train a DNN on the modified dataset"
   ]
  },
  {
   "cell_type": "code",
   "execution_count": 109,
   "metadata": {},
   "outputs": [
    {
     "name": "stdout",
     "output_type": "stream",
     "text": [
      "Train Size: (80, 4)\n",
      "Test Size: (20,)\n",
      "Categories: [array([0, 1])]\n"
     ]
    },
    {
     "data": {
      "text/plain": [
       "(array([[5.01958453, 2.40216272, 3.3       , 1.        ],\n",
       "        [6.7       , 3.        , 5.        , 1.64003814],\n",
       "        [6.13751814, 3.00260911, 4.7       , 1.4       ],\n",
       "        [6.46363878, 3.29430544, 4.5       , 1.5       ],\n",
       "        [5.        , 3.4       , 1.5       , 0.2       ],\n",
       "        [5.8       , 4.        , 1.2       , 0.2       ],\n",
       "        [5.4       , 3.4       , 1.7       , 0.2       ],\n",
       "        [6.6       , 3.        , 4.28201546, 1.33348523],\n",
       "        [5.7       , 3.8       , 1.7       , 0.3       ],\n",
       "        [4.6       , 3.6       , 1.        , 0.2       ],\n",
       "        [4.4       , 3.2       , 1.3       , 0.2       ],\n",
       "        [6.74082528, 2.9       , 4.6       , 1.3       ],\n",
       "        [5.        , 3.3       , 1.4       , 0.2       ],\n",
       "        [4.4       , 3.        , 1.3       , 0.2       ],\n",
       "        [5.4       , 3.7       , 1.5       , 0.2       ],\n",
       "        [5.        , 2.3       , 3.22610273, 0.88650153],\n",
       "        [5.60506011, 2.86323821, 3.9       , 1.1       ],\n",
       "        [5.2       , 3.4       , 1.4       , 0.2       ],\n",
       "        [6.34602403, 3.32216953, 4.7       , 1.6       ],\n",
       "        [5.4       , 3.        , 4.27137314, 1.29377901]]),\n",
       " array([1, 1, 1, 1, 0, 0, 0, 1, 0, 0, 0, 1, 0, 0, 0, 1, 1, 0, 1, 1]))"
      ]
     },
     "execution_count": 109,
     "metadata": {},
     "output_type": "execute_result"
    }
   ],
   "source": [
    "# Get split returns a generator\n",
    "# List comprehension is one way to evaluate a generator\n",
    "X_train, y_train, X_test, y_test = list(get_split(modded_samples, labels))[0]\n",
    "print(\"Train Size:\", X_train.shape)\n",
    "print(\"Test Size:\", y_test.shape)\n",
    "\n",
    "\n",
    "hot_encoder = OneHotEncoder(categories=\"auto\", sparse=False)\n",
    "hot_encoder.fit(labels.values.reshape(-1,1)) # Since the function expects an array of \"features\" per sample\n",
    "print(\"Categories:\", hot_encoder.categories_)\n",
    "X_test, y_test.values"
   ]
  },
  {
   "cell_type": "code",
   "execution_count": 110,
   "metadata": {},
   "outputs": [],
   "source": [
    "NUM_FEATURES = X_train.shape[1]\n",
    "NUM_LABELS = len(hot_encoder.categories_[0])"
   ]
  },
  {
   "cell_type": "code",
   "execution_count": 134,
   "metadata": {},
   "outputs": [],
   "source": [
    "def build_dnn(num_features, num_labels=3):\n",
    "\n",
    "#     reset_graph()\n",
    "    \n",
    "    keras.backend.clear_session()\n",
    "\n",
    "    nn = keras.models.Sequential()\n",
    "    Dense = keras.layers.Dense\n",
    "    \n",
    "    # Using He initialization\n",
    "    he_init = tf.keras.initializers.he_uniform()\n",
    "    \n",
    "    nn.add(Dense(units = 12, activation=\"elu\", input_dim=num_features,\n",
    "                kernel_initializer=he_init))\n",
    "    nn.add(Dense(units = 12, activation=\"elu\",\n",
    "                kernel_initializer=he_init))\n",
    "    nn.add(Dense(units=1, activation= \"sigmoid\",\n",
    "                kernel_initializer=he_init))\n",
    "\n",
    "#     BCE = tf.keras.losses.BinaryCrossentropy(from_logits=True)\n",
    "    \n",
    "    nn.compile(loss=\"binary_crossentropy\",\n",
    "                  optimizer='sgd',\n",
    "                  metrics=['binary_accuracy'])\n",
    "    \n",
    "    return nn\n",
    "\n",
    "def train_model(model, X, y, X_test=[], y_test=[], epochs=30, batch_size=20, verbose=1, plot=True):\n",
    "    \n",
    "    ZScaler = StandardScaler().fit(X)\n",
    "    \n",
    "    X_train = X #ZScaler.transform(X)\n",
    "#     X_test = ZScaler.transform(X_test)\n",
    "    \n",
    "    y_train = y.values\n",
    "    y_test = y_test.values\n",
    "    \n",
    "#     lr_scheduler = keras.callbacks.LearningRateScheduler(exp_decay)\n",
    "    callback_list = []\n",
    "    \n",
    "    history = model.fit(X_train, y_train, epochs=epochs, batch_size = batch_size,\n",
    "                        validation_data=(X_test, y_test), callbacks=callback_list, verbose=verbose)\n",
    "    \n",
    "#     if plot: plot_history(history)\n",
    "    \n",
    "    return history, ZScaler\n"
   ]
  },
  {
   "cell_type": "code",
   "execution_count": 135,
   "metadata": {},
   "outputs": [
    {
     "name": "stdout",
     "output_type": "stream",
     "text": [
      "Train on 80 samples, validate on 20 samples\n",
      "Epoch 1/20\n",
      "80/80 [==============================] - 0s 2ms/step - loss: 0.6261 - binary_accuracy: 0.6625 - val_loss: 0.4854 - val_binary_accuracy: 0.9500\n",
      "Epoch 2/20\n",
      "80/80 [==============================] - 0s 120us/step - loss: 0.4974 - binary_accuracy: 0.8375 - val_loss: 0.3987 - val_binary_accuracy: 1.0000\n",
      "Epoch 3/20\n",
      "80/80 [==============================] - 0s 115us/step - loss: 0.4123 - binary_accuracy: 0.9500 - val_loss: 0.3341 - val_binary_accuracy: 1.0000\n",
      "Epoch 4/20\n",
      "80/80 [==============================] - 0s 150us/step - loss: 0.3614 - binary_accuracy: 0.9750 - val_loss: 0.2854 - val_binary_accuracy: 1.0000\n",
      "Epoch 5/20\n",
      "80/80 [==============================] - 0s 118us/step - loss: 0.3113 - binary_accuracy: 0.9750 - val_loss: 0.2464 - val_binary_accuracy: 1.0000\n",
      "Epoch 6/20\n",
      "80/80 [==============================] - 0s 151us/step - loss: 0.2698 - binary_accuracy: 1.0000 - val_loss: 0.2119 - val_binary_accuracy: 1.0000\n",
      "Epoch 7/20\n",
      "80/80 [==============================] - 0s 125us/step - loss: 0.2359 - binary_accuracy: 1.0000 - val_loss: 0.1828 - val_binary_accuracy: 1.0000\n",
      "Epoch 8/20\n",
      "80/80 [==============================] - 0s 126us/step - loss: 0.2092 - binary_accuracy: 1.0000 - val_loss: 0.1596 - val_binary_accuracy: 1.0000\n",
      "Epoch 9/20\n",
      "80/80 [==============================] - 0s 163us/step - loss: 0.1887 - binary_accuracy: 1.0000 - val_loss: 0.1407 - val_binary_accuracy: 1.0000\n",
      "Epoch 10/20\n",
      "80/80 [==============================] - 0s 133us/step - loss: 0.1671 - binary_accuracy: 1.0000 - val_loss: 0.1253 - val_binary_accuracy: 1.0000\n",
      "Epoch 11/20\n",
      "80/80 [==============================] - 0s 162us/step - loss: 0.1499 - binary_accuracy: 1.0000 - val_loss: 0.1140 - val_binary_accuracy: 1.0000\n",
      "Epoch 12/20\n",
      "80/80 [==============================] - 0s 127us/step - loss: 0.1370 - binary_accuracy: 1.0000 - val_loss: 0.1021 - val_binary_accuracy: 1.0000\n",
      "Epoch 13/20\n",
      "80/80 [==============================] - 0s 154us/step - loss: 0.1245 - binary_accuracy: 1.0000 - val_loss: 0.0923 - val_binary_accuracy: 1.0000\n",
      "Epoch 14/20\n",
      "80/80 [==============================] - 0s 124us/step - loss: 0.1137 - binary_accuracy: 1.0000 - val_loss: 0.0842 - val_binary_accuracy: 1.0000\n",
      "Epoch 15/20\n",
      "80/80 [==============================] - 0s 141us/step - loss: 0.1049 - binary_accuracy: 1.0000 - val_loss: 0.0779 - val_binary_accuracy: 1.0000\n",
      "Epoch 16/20\n",
      "80/80 [==============================] - 0s 127us/step - loss: 0.0972 - binary_accuracy: 1.0000 - val_loss: 0.0713 - val_binary_accuracy: 1.0000\n",
      "Epoch 17/20\n",
      "80/80 [==============================] - 0s 119us/step - loss: 0.0918 - binary_accuracy: 1.0000 - val_loss: 0.0657 - val_binary_accuracy: 1.0000\n",
      "Epoch 18/20\n",
      "80/80 [==============================] - 0s 145us/step - loss: 0.0845 - binary_accuracy: 1.0000 - val_loss: 0.0608 - val_binary_accuracy: 1.0000\n",
      "Epoch 19/20\n",
      "80/80 [==============================] - 0s 126us/step - loss: 0.0782 - binary_accuracy: 1.0000 - val_loss: 0.0566 - val_binary_accuracy: 1.0000\n",
      "Epoch 20/20\n",
      "80/80 [==============================] - 0s 146us/step - loss: 0.0742 - binary_accuracy: 1.0000 - val_loss: 0.0527 - val_binary_accuracy: 1.0000\n"
     ]
    }
   ],
   "source": [
    "nn = build_dnn(NUM_FEATURES)\n",
    "history, Zscaler = train_model(nn, X_train, y_train, X_test, y_test, epochs=20, batch_size=10)"
   ]
  },
  {
   "cell_type": "code",
   "execution_count": 136,
   "metadata": {},
   "outputs": [
    {
     "data": {
      "application/vnd.jupyter.widget-view+json": {
       "model_id": "",
       "version_major": 2,
       "version_minor": 0
      },
      "text/plain": [
       "FigureCanvasNbAgg()"
      ]
     },
     "metadata": {},
     "output_type": "display_data"
    }
   ],
   "source": [
    "# Plotting results from history\n",
    "plot_history(history)"
   ]
  },
  {
   "cell_type": "code",
   "execution_count": 138,
   "metadata": {},
   "outputs": [
    {
     "data": {
      "text/plain": [
       "1.0"
      ]
     },
     "execution_count": 138,
     "metadata": {},
     "output_type": "execute_result"
    }
   ],
   "source": [
    "sess = tf.Session()\n",
    "predictions = nn.predict(Zscaler.transform(modded_samples))\n",
    "predictions = nn.predict(modded_samples)\n",
    "_labels = [np.float(x) for x in labels]\n",
    "\n",
    "sess.run(keras.metrics.binary_accuracy(_labels,predictions.flatten()))\n",
    "# predictions[0][0]\n",
    "# _labels\n",
    "# nn.evaluate(Zscaler.transform(modded_samples),labels.values)\n",
    "# nn.evaluate(modded_samples,labels.values)\n",
    "\n"
   ]
  },
  {
   "cell_type": "markdown",
   "metadata": {},
   "source": [
    "# DONT FORGET TO RENORMALIZE WHEN EVALUATING SAMPLES"
   ]
  },
  {
   "cell_type": "code",
   "execution_count": 139,
   "metadata": {},
   "outputs": [],
   "source": [
    "# from sklearn.model_selection import StratifiedKFold as KFold\n",
    "# # keras.backend.clear_session()\n",
    "\n",
    "# def getKF(X,y, n_splits=10):\n",
    "#     kf = KFold(n_splits=n_splits, shuffle=True, random_state=42 ) #Default = 10\n",
    "\n",
    "#     for train_index, test_index in kf.split(X,y):\n",
    "#         X_train = X[train_index]\n",
    "#         y_train = y.iloc[train_index]\n",
    "#         X_test = X[test_index]\n",
    "#         y_test = y.iloc[test_index]\n",
    "        \n",
    "#         yield X_train, y_train, X_test, y_test, test_index\n",
    "\n",
    "# histories = []\n",
    "# testing_indxs =[]\n",
    "# predictions = []\n",
    "# true_labels = []\n",
    "# zoo = []\n",
    "# for X_train, y_train, X_test, y_test, test_index in getKF(modded_samples, labels):\n",
    "#     print(test_index)\n",
    "#     dnn = build_dnn(NUM_FEATURES, NUM_LABELS)\n",
    "#     history, ZScaler = train_model(dnn,X_train, y_train, X_test, y_test, verbose=0, plot=False, epochs=20, batch_size=10)\n",
    "    \n",
    "#     # Updating all information arrays\n",
    "#     histories.append(history)\n",
    "#     testing_indxs.append(test_index)\n",
    "#     zoo.append(dnn)\n",
    "    \n",
    "#     y_pred_probs = dnn.predict(ZScaler.transform(X_test))\n",
    "#     y_pred = np.argmax(y_pred_probs, axis=1)\n",
    "#     y_true = np.argmax(hot_encoder.transform(y_test.values.reshape(-1,1)), axis=1)\n",
    "    \n",
    "#     predictions.extend(y_pred)\n",
    "#     true_labels.extend(y_true)\n",
    "    \n",
    "#     print(\"Scores on test set: loss={:0.3f} accuracy={:.4f}\".format(history.history[\"binary_accuracy\"][-1], history.history[\"val_binary_accuracy\"][-1]))"
   ]
  },
  {
   "cell_type": "code",
   "execution_count": 140,
   "metadata": {},
   "outputs": [],
   "source": [
    "# # Num is the figure number and clear tells it to clear the figure if it already exists\n",
    "# plt.close()\n",
    "# fig, axs = plt.subplots(num=\"KF Eval\",\n",
    "#                         nrows=len(histories)//2, ncols=2,\n",
    "#                         figsize=(10,10), sharex=True, sharey=True)\n",
    "# axs=axs.flatten()\n",
    "# dfs = []\n",
    "\n",
    "# for i,history in enumerate(histories):\n",
    "#     df = pd.DataFrame(history.history)\n",
    "#     dfs.append(df)\n",
    "# #     axs[i].grid(True)\n",
    "#     df[[\"binary_accuracy\",\"val_binary_accuracy\"]].plot(ax=axs[i], grid=True)"
   ]
  },
  {
   "cell_type": "code",
   "execution_count": 141,
   "metadata": {},
   "outputs": [],
   "source": [
    "# sess = tf.Session()\n",
    "# idx = -1\n",
    "# best_dnn = zoo[idx]\n",
    "\n",
    "# predictions = best_dnn.predict(Zscaler.transform(modded_samples))\n",
    "# _labels = [np.float(x) for x in labels]\n",
    "# sess.run(keras.metrics.binary_accuracy(_labels,predictions.flatten()))\n",
    "\n",
    "# best_dnn.evaluate(Zscaler.transform(modded_samples),labels.values)\n",
    "# # NOT bestdnn.evaluate(modded_samples,labels.values)\n"
   ]
  },
  {
   "cell_type": "code",
   "execution_count": 142,
   "metadata": {},
   "outputs": [],
   "source": [
    "# modded_samples\n",
    "# scaled_samples"
   ]
  },
  {
   "cell_type": "markdown",
   "metadata": {},
   "source": [
    "# NOW PERFORM LRP"
   ]
  },
  {
   "cell_type": "code",
   "execution_count": 144,
   "metadata": {},
   "outputs": [
    {
     "name": "stdout",
     "output_type": "stream",
     "text": [
      "SANITY CHECK\n",
      "100/100 [==============================] - 0s 30us/step\n",
      "Scores on test set: loss=0.067 accuracy=1.0000\n"
     ]
    }
   ],
   "source": [
    "model = nn\n",
    "scaled_samples = modded_samples #Zscaler.transform(modded_samples)\n",
    "\n",
    "\n",
    "predictions = model.predict(scaled_samples)\n",
    "preds = np.array([np.round(x[0]) for x in predictions])\n",
    "true_labels = [np.float(x) for x in labels]\n",
    "\n",
    "correct = preds == true_labels\n",
    "versicolor = true_labels == 1\n",
    "\n",
    "print(\"SANITY CHECK\")\n",
    "loss_and_metrics = model.evaluate(scaled_samples[correct], labels[correct])\n",
    "print(\"Scores on test set: loss={:0.3f} accuracy={:.4f}\".format(*loss_and_metrics))"
   ]
  },
  {
   "cell_type": "code",
   "execution_count": 145,
   "metadata": {},
   "outputs": [],
   "source": [
    "import innvestigate\n",
    "import innvestigate.utils as iutils\n",
    "\n",
    "def perform_analysis(model, analyzer, data, labels):\n",
    "    analysis = analyzer.analyze(data)\n",
    "    prediction = model.predict(data)\n",
    "    \n",
    "    df_anal = pd.DataFrame(analysis)\n",
    "    \n",
    "    return df_anal\n",
    "\n",
    "\n",
    "# Stripping the softmax activation from the model\n",
    "# model_wo_sm = iutils.keras.graph.model_wo_softmax(model)\n",
    "\n",
    "# Creating an analyzer\n",
    "lrp_E = innvestigate.analyzer.relevance_based.relevance_analyzer.LRPEpsilon(model=model)\n",
    "\n",
    "lrp = innvestigate.analyzer.relevance_based.relevance_analyzer.LRPAlpha2Beta1(model=model)\n",
    "\n",
    "# Getting all the samples that can be correctly predicted\n",
    "test_idx = correct\n",
    "all_samples = scaled_samples[test_idx]\n",
    "all_labels = labels[test_idx]\n",
    "\n",
    "# perform_analysis(nn,gradient_analyzer,flowers,types)\n",
    "all_lrp = perform_analysis(model,lrp, all_samples, all_labels)\n",
    "\n",
    "all_lrp_E = perform_analysis(model,lrp_E, all_samples, all_labels)"
   ]
  },
  {
   "cell_type": "code",
   "execution_count": 146,
   "metadata": {},
   "outputs": [
    {
     "data": {
      "text/html": [
       "<div>\n",
       "<style scoped>\n",
       "    .dataframe tbody tr th:only-of-type {\n",
       "        vertical-align: middle;\n",
       "    }\n",
       "\n",
       "    .dataframe tbody tr th {\n",
       "        vertical-align: top;\n",
       "    }\n",
       "\n",
       "    .dataframe thead th {\n",
       "        text-align: right;\n",
       "    }\n",
       "</style>\n",
       "<table border=\"1\" class=\"dataframe\">\n",
       "  <thead>\n",
       "    <tr style=\"text-align: right;\">\n",
       "      <th></th>\n",
       "      <th>0</th>\n",
       "      <th>1</th>\n",
       "      <th>2</th>\n",
       "      <th>3</th>\n",
       "    </tr>\n",
       "  </thead>\n",
       "  <tbody>\n",
       "    <tr>\n",
       "      <th>count</th>\n",
       "      <td>100.000000</td>\n",
       "      <td>100.000000</td>\n",
       "      <td>100.000000</td>\n",
       "      <td>100.000000</td>\n",
       "    </tr>\n",
       "    <tr>\n",
       "      <th>mean</th>\n",
       "      <td>-0.384273</td>\n",
       "      <td>-0.042714</td>\n",
       "      <td>1.471588</td>\n",
       "      <td>-0.468488</td>\n",
       "    </tr>\n",
       "    <tr>\n",
       "      <th>std</th>\n",
       "      <td>0.442447</td>\n",
       "      <td>0.111033</td>\n",
       "      <td>1.387854</td>\n",
       "      <td>0.463152</td>\n",
       "    </tr>\n",
       "    <tr>\n",
       "      <th>min</th>\n",
       "      <td>-1.133441</td>\n",
       "      <td>-0.481469</td>\n",
       "      <td>0.018477</td>\n",
       "      <td>-1.100590</td>\n",
       "    </tr>\n",
       "    <tr>\n",
       "      <th>25%</th>\n",
       "      <td>-0.849864</td>\n",
       "      <td>-0.079415</td>\n",
       "      <td>0.087808</td>\n",
       "      <td>-0.928550</td>\n",
       "    </tr>\n",
       "    <tr>\n",
       "      <th>50%</th>\n",
       "      <td>-0.145707</td>\n",
       "      <td>-0.026784</td>\n",
       "      <td>1.056623</td>\n",
       "      <td>-0.357943</td>\n",
       "    </tr>\n",
       "    <tr>\n",
       "      <th>75%</th>\n",
       "      <td>0.031453</td>\n",
       "      <td>-0.003915</td>\n",
       "      <td>2.894699</td>\n",
       "      <td>-0.006392</td>\n",
       "    </tr>\n",
       "    <tr>\n",
       "      <th>max</th>\n",
       "      <td>0.100893</td>\n",
       "      <td>0.260959</td>\n",
       "      <td>3.194330</td>\n",
       "      <td>0.002312</td>\n",
       "    </tr>\n",
       "  </tbody>\n",
       "</table>\n",
       "</div>"
      ],
      "text/plain": [
       "                0           1           2           3\n",
       "count  100.000000  100.000000  100.000000  100.000000\n",
       "mean    -0.384273   -0.042714    1.471588   -0.468488\n",
       "std      0.442447    0.111033    1.387854    0.463152\n",
       "min     -1.133441   -0.481469    0.018477   -1.100590\n",
       "25%     -0.849864   -0.079415    0.087808   -0.928550\n",
       "50%     -0.145707   -0.026784    1.056623   -0.357943\n",
       "75%      0.031453   -0.003915    2.894699   -0.006392\n",
       "max      0.100893    0.260959    3.194330    0.002312"
      ]
     },
     "execution_count": 146,
     "metadata": {},
     "output_type": "execute_result"
    }
   ],
   "source": [
    "all_lrp.describe()"
   ]
  },
  {
   "cell_type": "code",
   "execution_count": 126,
   "metadata": {},
   "outputs": [
    {
     "data": {
      "application/vnd.jupyter.widget-view+json": {
       "model_id": "",
       "version_major": 2,
       "version_minor": 0
      },
      "text/plain": [
       "FigureCanvasNbAgg()"
      ]
     },
     "metadata": {},
     "output_type": "display_data"
    }
   ],
   "source": [
    "plt.close()\n",
    "lrp_results = all_lrp\n",
    "# lrp_E_results = all_lrp_E\n",
    "population = lrp_results.mean()\n",
    "sorted_features = population.sort_values(ascending=False)\n",
    "\n",
    "sorted_features.plot(kind=\"bar\")\n",
    "plt.xticks(rotation=65, fontsize=\"small\")\n",
    "\n",
    "plt.show()"
   ]
  },
  {
   "cell_type": "code",
   "execution_count": 127,
   "metadata": {},
   "outputs": [
    {
     "data": {
      "text/plain": [
       "['sepal width (cm)',\n",
       " 'sepal length (cm)',\n",
       " 'petal length (cm)',\n",
       " 'petal width (cm)']"
      ]
     },
     "execution_count": 127,
     "metadata": {},
     "output_type": "execute_result"
    }
   ],
   "source": [
    "[feature_names[x] for x in sorted_features.index]"
   ]
  },
  {
   "cell_type": "markdown",
   "metadata": {},
   "source": [
    "## Plotting UMAP projections"
   ]
  },
  {
   "cell_type": "code",
   "execution_count": 148,
   "metadata": {},
   "outputs": [
    {
     "name": "stderr",
     "output_type": "stream",
     "text": [
      "/Users/Work/anaconda3/envs/condaflow/lib/python3.6/site-packages/umap/spectral.py:229: UserWarning: Embedding a total of 2 separate connected components using meta-embedding (experimental)\n",
      "  n_components\n"
     ]
    },
    {
     "data": {
      "application/vnd.jupyter.widget-view+json": {
       "model_id": "fecafa6f32034f5c8e3d95e71c390324",
       "version_major": 2,
       "version_minor": 0
      },
      "text/plain": [
       "FigureCanvasNbAgg()"
      ]
     },
     "metadata": {},
     "output_type": "display_data"
    },
    {
     "data": {
      "application/vnd.jupyter.widget-view+json": {
       "model_id": "0a5d586578e04d048a4d8f29be9414cc",
       "version_major": 2,
       "version_minor": 0
      },
      "text/plain": [
       "FigureCanvasNbAgg()"
      ]
     },
     "metadata": {},
     "output_type": "display_data"
    }
   ],
   "source": [
    "def plot_2d(X,labels, name=\"1\"):\n",
    "    plt.close()\n",
    "    fig = plt.figure(figsize=(10,8))\n",
    "    plt.scatter(x=X[:,0], y=X[:,1], s= 30, c=labels)\n",
    "    plt.colorbar()\n",
    "\n",
    "    \n",
    "pos_only = all_lrp.copy()\n",
    "pos_only[pos_only < 0] = 0\n",
    "\n",
    "modded_labels = labels.copy()\n",
    "modded_labels[75:] += 1\n",
    "\n",
    "\n",
    "# pos_only = lrp_results.copy()\n",
    "plt.close()\n",
    "# pos_only[pos_only < 0] = 0\n",
    "reducer_3d = umap.UMAP(random_state=42,\n",
    "                    n_components = 3,\n",
    "                    n_neighbors=10,\n",
    "                    min_dist=0)\n",
    "\n",
    "reducer_2d = umap.UMAP(random_state=42,\n",
    "                    n_components = 2,\n",
    "                    n_neighbors=15,\n",
    "                    min_dist=0)\n",
    "\n",
    "embedding_3d = reducer_3d.fit_transform(pos_only)\n",
    "embedding_2d = reducer_2d.fit_transform(pos_only)\n",
    "\n",
    "plot_2d(embedding_2d, modded_labels, name=\"Alpha\")\n",
    "\n",
    "fig = plt.figure(figsize=(12,10))\n",
    "ax = fig.add_subplot(111, projection='3d')\n",
    "_im = ax.scatter(embedding_3d[:,0], embedding_3d[:,1], embedding_3d[:,2], c=modded_labels, s=40)\n",
    "plt.colorbar(_im)\n",
    "\n",
    "plt.show()\n"
   ]
  },
  {
   "cell_type": "code",
   "execution_count": null,
   "metadata": {},
   "outputs": [],
   "source": []
  }
 ],
 "metadata": {
  "kernelspec": {
   "display_name": "condaflow",
   "language": "python",
   "name": "condaflow"
  },
  "language_info": {
   "codemirror_mode": {
    "name": "ipython",
    "version": 3
   },
   "file_extension": ".py",
   "mimetype": "text/x-python",
   "name": "python",
   "nbconvert_exporter": "python",
   "pygments_lexer": "ipython3",
   "version": "3.6.8"
  }
 },
 "nbformat": 4,
 "nbformat_minor": 2
}
