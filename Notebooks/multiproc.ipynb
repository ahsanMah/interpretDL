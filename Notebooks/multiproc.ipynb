{
 "cells": [
  {
   "cell_type": "code",
   "execution_count": 2,
   "metadata": {},
   "outputs": [
    {
     "name": "stdout",
     "output_type": "stream",
     "text": [
      "__name is: __main__\n",
      "[0, 1, 4, 9, 16, 25, 36, 49, 64, 81]\n",
      "For the moment, the pool remains available for more work\n",
      "Now the pool is closed and no longer available\n"
     ]
    }
   ],
   "source": [
    "from multiprocessing import Pool, TimeoutError\n",
    "import time\n",
    "import os\n",
    "\n",
    "def f(x):\n",
    "#     time.sleep(3)\n",
    "    return x*x\n",
    "print(\"__name is:\", __name__)\n",
    "if __name__ == '__main__':\n",
    "    # start 4 worker processes\n",
    "    with Pool(processes=4) as pool:\n",
    "\n",
    "        # print \"[0, 1, 4,..., 81]\"\n",
    "        print(pool.map(f, range(10)))\n",
    "\n",
    "#         # print same numbers in arbitrary order\n",
    "#         for i in pool.imap_unordered(f, range(10)):\n",
    "#             print(i)\n",
    "\n",
    "#         # evaluate \"f(20)\" asynchronously\n",
    "#         res = pool.apply_async(f, (20,))      # runs in *only* one process\n",
    "#         print(res.get(timeout=1))             # prints \"400\"\n",
    "\n",
    "#         # evaluate \"os.getpid()\" asynchronously\n",
    "#         res = pool.apply_async(os.getpid, ()) # runs in *only* one process\n",
    "#         print(res.get(timeout=1))             # prints the PID of that process\n",
    "\n",
    "#         # launching multiple evaluations asynchronously *may* use more processes\n",
    "#         multiple_results = [pool.apply_async(os.getpid, ()) for i in range(4)]\n",
    "#         print([res.get(timeout=1) for res in multiple_results])\n",
    "\n",
    "#         # make a single worker sleep for 10 secs\n",
    "#         res = pool.apply_async(time.sleep, (10,))\n",
    "#         try:\n",
    "#             print(res.get(timeout=1))\n",
    "#         except TimeoutError:\n",
    "#             print(\"We lacked patience and got a multiprocessing.TimeoutError\")\n",
    "\n",
    "        print(\"For the moment, the pool remains available for more work\")\n",
    "\n",
    "    # exiting the 'with'-block has stopped the pool\n",
    "    print(\"Now the pool is closed and no longer available\")"
   ]
  },
  {
   "cell_type": "code",
   "execution_count": 4,
   "metadata": {},
   "outputs": [],
   "source": [
    "import matplotlib\n",
    "import matplotlib.pyplot as plt\n",
    "from sklearn.datasets.samples_generator import make_blobs\n",
    "def simulate_blobs(class_size = 200):\n",
    "    centers = [2*(x,y) for x in range(-1,2) for y in range(-1,2)]\n",
    "    n_samples = [class_size//(len(centers)-1)]*len(centers)\n",
    "    n_samples[len(centers)//2] = class_size\n",
    "    \n",
    "    print(\"Creating data...\")\n",
    "    X, y = make_blobs(n_samples=n_samples, centers=centers, n_features=2, cluster_std=0.1, shuffle=False, random_state=42)\n",
    "    \n",
    "    print(\"Plotting blobs...\")\n",
    "    plt.close(\"Original Distribution\")\n",
    "    df = DataFrame(dict(x=X[:,0], y=X[:,1], label=y))\n",
    "    fig, ax = plt.subplots(num= \"Original Distribution\")\n",
    "    colors = {0:'red', 1:'blue'}\n",
    "    \n",
    "    print(\"Calling DF's plot...\")\n",
    "    \n",
    "    df.plot(ax=ax,kind=\"scatter\", x='x', y='y',c=\"label\", cmap= \"Paired\")\n",
    "    # plt.colorbar()\n",
    "    \n",
    "    print(\"Showing plot...\")\n",
    "    \n",
    "    plt.show()\n",
    "    \n",
    "    original_labels = df[\"label\"].copy()\n",
    "    modded_samples = df[[\"x\",\"y\"]].copy()\n",
    "    labels = df[\"label\"].copy()\n",
    "    labels[labels != 4] = 0\n",
    "    labels[labels == 4] = 1\n",
    "    return df, modded_samples,labels, original_labels"
   ]
  },
  {
   "cell_type": "code",
   "execution_count": 5,
   "metadata": {},
   "outputs": [],
   "source": [
    "# sizes=[2000,4000,10000,200000]\n",
    "\n",
    "# if __name__ == '__main__':\n",
    "#     # start 4 worker processes\n",
    "#     with Pool(processes=4) as pool:\n",
    "#         # print \"[0, 1, 4,..., 81]\"\n",
    "#         print(pool.map(simulate_blobs, sizes))\n",
    "\n"
   ]
  },
  {
   "cell_type": "markdown",
   "metadata": {},
   "source": [
    "## Testing pathos multiprocessing\n",
    "> Offers better pickling thanks to dill"
   ]
  },
  {
   "cell_type": "code",
   "execution_count": 6,
   "metadata": {},
   "outputs": [],
   "source": [
    "from multiprocess import Pool\n",
    "from multiprocess import get_context\n",
    "\n",
    "# from multiprocess import ProcessPool"
   ]
  },
  {
   "cell_type": "code",
   "execution_count": 7,
   "metadata": {},
   "outputs": [],
   "source": [
    "def func(x):\n",
    "    10**10**5\n",
    "    return x"
   ]
  },
  {
   "cell_type": "code",
   "execution_count": 8,
   "metadata": {},
   "outputs": [
    {
     "name": "stdout",
     "output_type": "stream",
     "text": [
      "[0, 1, 2, 3]\n"
     ]
    },
    {
     "data": {
      "text/plain": [
       "[0, 1, 2, 3]"
      ]
     },
     "execution_count": 8,
     "metadata": {},
     "output_type": "execute_result"
    }
   ],
   "source": [
    "if __name__ == '__main__':\n",
    "    with Pool(processes=4) as pool:\n",
    "        res = pool.map(func,range(4))\n",
    "\n",
    "print(res)\n",
    "if __name__ == '__main__':\n",
    "    with get_context(\"spawn\").Pool() as pool:\n",
    "        res = pool.map(func,range(4))\n",
    "res"
   ]
  },
  {
   "cell_type": "code",
   "execution_count": 40,
   "metadata": {},
   "outputs": [],
   "source": [
    "# Cant egt this to work\n",
    "if __name__ == '__main__':\n",
    "    with Pool(processes=4) as pool:\n",
    "        ares = pool.map_async(func,range(4))"
   ]
  },
  {
   "cell_type": "code",
   "execution_count": 43,
   "metadata": {},
   "outputs": [
    {
     "data": {
      "text/plain": [
       "False"
      ]
     },
     "execution_count": 43,
     "metadata": {},
     "output_type": "execute_result"
    }
   ],
   "source": [
    "ares.ready()"
   ]
  },
  {
   "cell_type": "code",
   "execution_count": 1,
   "metadata": {},
   "outputs": [
    {
     "ename": "NameError",
     "evalue": "name 'Pool' is not defined",
     "output_type": "error",
     "traceback": [
      "\u001b[0;31m---------------------------------------------------------------------------\u001b[0m",
      "\u001b[0;31mNameError\u001b[0m                                 Traceback (most recent call last)",
      "\u001b[0;32m<ipython-input-1-92d3b0c21864>\u001b[0m in \u001b[0;36m<module>\u001b[0;34m\u001b[0m\n\u001b[1;32m      4\u001b[0m \u001b[0;34m\u001b[0m\u001b[0m\n\u001b[1;32m      5\u001b[0m \u001b[0;32mif\u001b[0m \u001b[0m__name__\u001b[0m \u001b[0;34m==\u001b[0m \u001b[0;34m\"__main__\"\u001b[0m\u001b[0;34m:\u001b[0m\u001b[0;34m\u001b[0m\u001b[0;34m\u001b[0m\u001b[0m\n\u001b[0;32m----> 6\u001b[0;31m     \u001b[0;32mwith\u001b[0m \u001b[0mPool\u001b[0m\u001b[0;34m(\u001b[0m\u001b[0mprocesses\u001b[0m\u001b[0;34m=\u001b[0m\u001b[0;36m4\u001b[0m\u001b[0;34m)\u001b[0m \u001b[0;32mas\u001b[0m \u001b[0mpool\u001b[0m\u001b[0;34m:\u001b[0m\u001b[0;34m\u001b[0m\u001b[0;34m\u001b[0m\u001b[0m\n\u001b[0m\u001b[1;32m      7\u001b[0m         \u001b[0mres\u001b[0m \u001b[0;34m=\u001b[0m \u001b[0mpool\u001b[0m\u001b[0;34m.\u001b[0m\u001b[0mmap\u001b[0m\u001b[0;34m(\u001b[0m\u001b[0ma\u001b[0m\u001b[0;34m.\u001b[0m\u001b[0mfuncme\u001b[0m\u001b[0;34m,\u001b[0m\u001b[0;34m[\u001b[0m\u001b[0;36m8\u001b[0m\u001b[0;34m]\u001b[0m\u001b[0;34m*\u001b[0m\u001b[0;36m4\u001b[0m\u001b[0;34m)\u001b[0m\u001b[0;34m\u001b[0m\u001b[0;34m\u001b[0m\u001b[0m\n\u001b[1;32m      8\u001b[0m \u001b[0mres\u001b[0m\u001b[0;34m\u001b[0m\u001b[0;34m\u001b[0m\u001b[0m\n",
      "\u001b[0;31mNameError\u001b[0m: name 'Pool' is not defined"
     ]
    }
   ],
   "source": [
    "if __name__ == \"__main__\":\n",
    "    with Pool(processes=4) as pool:\n",
    "        res = pool.map(a.funcme,[8]*4)\n",
    "res"
   ]
  },
  {
   "cell_type": "code",
   "execution_count": 1,
   "metadata": {},
   "outputs": [
    {
     "name": "stdout",
     "output_type": "stream",
     "text": [
      "Running Pool...\n"
     ]
    },
    {
     "data": {
      "text/plain": [
       "[10, 10, 10, 10]"
      ]
     },
     "execution_count": 1,
     "metadata": {},
     "output_type": "execute_result"
    }
   ],
   "source": [
    "%load_ext autoreload\n",
    "%autoreload 2\n",
    "\n",
    "from pool_class import H\n",
    "\n",
    "a=H()\n",
    "\n",
    "a.run()"
   ]
  },
  {
   "cell_type": "code",
   "execution_count": 2,
   "metadata": {},
   "outputs": [
    {
     "data": {
      "text/plain": [
       "5"
      ]
     },
     "execution_count": 2,
     "metadata": {},
     "output_type": "execute_result"
    }
   ],
   "source": [
    "a.x"
   ]
  },
  {
   "cell_type": "code",
   "execution_count": 3,
   "metadata": {},
   "outputs": [
    {
     "name": "stdout",
     "output_type": "stream",
     "text": [
      "Running Pool...\n"
     ]
    },
    {
     "data": {
      "text/plain": [
       "[10, 10, 10, 10]"
      ]
     },
     "execution_count": 3,
     "metadata": {},
     "output_type": "execute_result"
    }
   ],
   "source": [
    "a.callrun()"
   ]
  },
  {
   "cell_type": "code",
   "execution_count": 7,
   "metadata": {},
   "outputs": [
    {
     "name": "stdout",
     "output_type": "stream",
     "text": [
      "Running Pool...\n"
     ]
    },
    {
     "data": {
      "text/plain": [
       "[11, 11, 11, 11]"
      ]
     },
     "execution_count": 7,
     "metadata": {},
     "output_type": "execute_result"
    }
   ],
   "source": [
    "a.callrunfunc()"
   ]
  },
  {
   "cell_type": "code",
   "execution_count": null,
   "metadata": {},
   "outputs": [],
   "source": []
  }
 ],
 "metadata": {
  "kernelspec": {
   "display_name": "Python (condatensor)",
   "language": "python",
   "name": "condatensor"
  },
  "language_info": {
   "codemirror_mode": {
    "name": "ipython",
    "version": 3
   },
   "file_extension": ".py",
   "mimetype": "text/x-python",
   "name": "python",
   "nbconvert_exporter": "python",
   "pygments_lexer": "ipython3",
   "version": "3.6.8"
  }
 },
 "nbformat": 4,
 "nbformat_minor": 4
}
