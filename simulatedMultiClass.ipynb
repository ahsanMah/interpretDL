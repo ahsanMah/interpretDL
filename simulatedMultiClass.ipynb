{
 "cells": [
  {
   "cell_type": "code",
   "execution_count": 1,
   "metadata": {},
   "outputs": [
    {
     "name": "stderr",
     "output_type": "stream",
     "text": [
      "Using TensorFlow backend.\n"
     ]
    },
    {
     "data": {
      "text/plain": [
       "'1.13.1'"
      ]
     },
     "execution_count": 1,
     "metadata": {},
     "output_type": "execute_result"
    }
   ],
   "source": [
    "import tensorflow as tf\n",
    "import numpy as np\n",
    "import pandas as pd\n",
    "import keras\n",
    "import umap\n",
    "\n",
    "from imblearn.over_sampling import SMOTE\n",
    "from sklearn.model_selection import StratifiedShuffleSplit\n",
    "from sklearn.pipeline import Pipeline\n",
    "from sklearn.preprocessing import StandardScaler\n",
    "# Converting labels to 1-Hot Vectors\n",
    "from sklearn.preprocessing import OneHotEncoder\n",
    "from mpl_toolkits.mplot3d import Axes3D\n",
    "\n",
    "\n",
    "import sys\n",
    "# sys.path.append(\"/Users/Work/Developer/interpretDL/interprettensor\")\n",
    "root_logdir = \"./tf_logs\"\n",
    "datadir = \"data/\"\n",
    "figures_dir = \"data/figures/\"\n",
    "\n",
    "# To plot pretty figures\n",
    "%matplotlib widget\n",
    "import matplotlib\n",
    "import matplotlib.pyplot as plt\n",
    "plt.rcParams['axes.labelsize'] = 14\n",
    "plt.rcParams['xtick.labelsize'] = 12\n",
    "plt.rcParams['ytick.labelsize'] = 12\n",
    "\n",
    "# to make this notebook's output stable across runs\n",
    "def reset_graph(seed=42):\n",
    "    tf.reset_default_graph()\n",
    "    tf.set_random_seed(seed)\n",
    "    np.random.seed(seed)\n",
    "\n",
    "np.random.seed(seed=42) \n",
    "tf.__version__"
   ]
  },
  {
   "cell_type": "code",
   "execution_count": 2,
   "metadata": {},
   "outputs": [],
   "source": [
    "# Helper Functions\n",
    "\n",
    "from sklearn.metrics import confusion_matrix\n",
    "from sklearn.utils.multiclass import unique_labels\n",
    "\n",
    "######### Taken from sklearn #######\n",
    "def plot_confusion_matrix(y_true, y_pred, classes,\n",
    "                          normalize=False,\n",
    "                          title=None,\n",
    "                          cmap=plt.cm.Blues):\n",
    "    \"\"\"\n",
    "    This function prints and plots the confusion matrix.\n",
    "    Normalization can be applied by setting `normalize=True`.\n",
    "    \"\"\"\n",
    "    if not title:\n",
    "        if normalize:\n",
    "            title = 'Normalized confusion matrix'\n",
    "        else:\n",
    "            title = 'Confusion matrix, without normalization'\n",
    "\n",
    "    # Compute confusion matrix\n",
    "    cm = confusion_matrix(y_true, y_pred)\n",
    "    # Only use the labels that appear in the data\n",
    "    classes = classes[unique_labels(y_true, y_pred)]\n",
    "    if normalize:\n",
    "        cm = cm.astype('float') / cm.sum(axis=1)[:, np.newaxis]\n",
    "        print(\"Normalized confusion matrix\")\n",
    "    else:\n",
    "        print('Confusion matrix, without normalization')\n",
    "\n",
    "    print(cm)\n",
    "\n",
    "    fig, ax = plt.subplots(figsize=[8,8])\n",
    "    im = ax.imshow(cm, interpolation='nearest', cmap=cmap)\n",
    "    ax.figure.colorbar(im, ax=ax)\n",
    "    # We want to show all ticks...\n",
    "    ax.set(xticks=np.arange(cm.shape[1]),\n",
    "           yticks=np.arange(cm.shape[0]),\n",
    "           # ... and label them with the respective list entries\n",
    "           xticklabels=classes, yticklabels=classes,\n",
    "           title=title,\n",
    "           ylabel='True label',\n",
    "           xlabel='Predicted label')\n",
    "\n",
    "    # Rotate the tick labels and set their alignment.\n",
    "    plt.setp(ax.get_xticklabels(), rotation=45, ha=\"right\",\n",
    "             rotation_mode=\"anchor\")\n",
    "\n",
    "    # Loop over data dimensions and create text annotations.\n",
    "    fmt = '.2f' if normalize else 'd'\n",
    "    thresh = cm.max() / 2.\n",
    "    for i in range(cm.shape[0]):\n",
    "        for j in range(cm.shape[1]):\n",
    "            ax.text(j, i, format(cm[i, j], fmt),\n",
    "                    ha=\"center\", va=\"center\",\n",
    "                    color=\"white\" if cm[i, j] > thresh else \"black\")\n",
    "    fig.tight_layout()\n",
    "    return ax\n",
    "\n",
    "\n",
    "def get1hot(y_train,y_test):\n",
    "    from sklearn.preprocessing import OneHotEncoder\n",
    "\n",
    "    enc = OneHotEncoder(categories=\"auto\", sparse=False)\n",
    "    y_train_1hot = enc.fit_transform([[label] for label in y_train]) # Since the function expects an array of \"features\" per sample\n",
    "    y_test_1hot = enc.fit_transform([[label] for label in y_test])\n",
    "\n",
    "    return y_train_1hot, y_test_1hot\n",
    "\n",
    "def get_split(features, labels):\n",
    "    features = np.array(features)\n",
    "    labels = np.array(labels)\n",
    "    # The train set will have equal amounts of each target class\n",
    "    split = StratifiedShuffleSplit(n_splits=1, test_size=0.2, random_state=42)\n",
    "    for train_index, test_index in split.split(features, labels):\n",
    "        X_train = features[train_index]\n",
    "        y_train = labels[train_index]\n",
    "        X_test = features[test_index]\n",
    "        y_test = labels[test_index]\n",
    "        \n",
    "        yield X_train, y_train, X_test, y_test\n",
    "\n",
    "def plot_history(history):\n",
    "    plt.close(\"History\")\n",
    "    fig, axs = plt.subplots(1, 2, figsize=(12,6),num=\"History\")\n",
    "\n",
    "    # Plot training & validation accuracy values\n",
    "    axs[0].grid(True)\n",
    "    axs[0].plot(history.history['acc'])\n",
    "    axs[0].plot(history.history['val_acc'])\n",
    "    axs[0].set(title='Model accuracy', ylabel='Accuracy', xlabel='Epoch')\n",
    "    axs[0].legend(['Train', 'Test'], loc='upper left')\n",
    "\n",
    "    # Plot training & validation loss values\n",
    "    axs[1].grid(True)\n",
    "    axs[1].plot(history.history['loss'])\n",
    "    axs[1].plot(history.history['val_loss'])\n",
    "    axs[1].set(title='Model loss',ylabel='Loss', xlabel='Epoch')\n",
    "    axs[1].legend(['Train', 'Test'], loc='upper left')\n",
    "\n",
    "    plt.show()\n",
    "\n",
    "\n",
    "def remove_label(features, labels, label=\"MCI\"):\n",
    "    labels = pd.Series(fused_labels)\n",
    "    non_samples = labels != label\n",
    "\n",
    "    stripped_features = features[non_samples]\n",
    "    stripped_labels = labels[non_samples]\n",
    "\n",
    "    return stripped_features, stripped_labels"
   ]
  },
  {
   "cell_type": "code",
   "execution_count": 3,
   "metadata": {},
   "outputs": [],
   "source": [
    "from sklearn.base import BaseEstimator, TransformerMixin\n",
    "from sklearn.pipeline import Pipeline\n",
    "from sklearn.preprocessing import StandardScaler\n",
    "\n",
    "class AttributeRemover(BaseEstimator, TransformerMixin):\n",
    "    \"\"\"\n",
    "    Returns a copy of matrix with attributes removed\n",
    "    \"\"\"\n",
    "    def __init__(self, attribute_names):\n",
    "        self.attribute_names = attribute_names\n",
    "    \n",
    "    def fit(self, X, y=None):\n",
    "        return # Doesn't do anything\n",
    "    \n",
    "    def transform(self, X, y=None):\n",
    "        return X.drop(columns=self.attribute_names)\n",
    "\n",
    "class OverSampler(BaseEstimator, TransformerMixin):\n",
    "    \"\"\"\n",
    "    Returns a copy of matrix with attributes removed\n",
    "    \"\"\"\n",
    "    def __init__(self, random_state=42):\n",
    "        self.smote = SMOTE(random_state=random_state)\n",
    "    \n",
    "    def fit(self, X, y=None):\n",
    "        return None\n",
    "    \n",
    "    def transform(self, X, y=None):\n",
    "        return self.smote.fit_resample(X,y)\n",
    "\n",
    "class dfHotEncoder(BaseEstimator, TransformerMixin):\n",
    "    \"\"\"\n",
    "    Builds a hot encoder froma pandas dataframe\n",
    "    Since the function expects an array of \"features\" per sample,\n",
    "    we reshape the values\n",
    "    \"\"\"\n",
    "    def __init__(self, random_state=42):\n",
    "        self.enc = OneHotEncoder(categories=\"auto\", sparse=False)\n",
    "        self.categories_ = None\n",
    "        return None\n",
    "    \n",
    "    def fit(self, labels):\n",
    "        self.enc.fit(labels.values.reshape(-1,1))\n",
    "        self.categories_ = self.enc.categories_\n",
    "        return self\n",
    "    \n",
    "    def transform(self, labels):\n",
    "        return self.enc.transform(labels.values.reshape(-1,1))\n",
    "    \n",
    "# Not used\n",
    "train_pipeline = Pipeline([\n",
    "                    (\"smote\", OverSampler()),\n",
    "                    (\"normalizer\", StandardScaler()) ])"
   ]
  },
  {
   "cell_type": "code",
   "execution_count": 4,
   "metadata": {},
   "outputs": [],
   "source": [
    "from sklearn.datasets import make_circles\n",
    "from sklearn.datasets import make_moons\n",
    "from sklearn.datasets.samples_generator import make_blobs\n",
    "from matplotlib import pyplot\n",
    "from pandas import DataFrame\n",
    "\n",
    "'''\n",
    "Returns orginal samples, labels and modded_samples,modded_labels\n",
    "'''\n",
    "def modded_iris():\n",
    "\n",
    "    from sklearn import datasets\n",
    "\n",
    "    iris = datasets.load_iris()\n",
    "\n",
    "    features = pd.DataFrame(iris[\"data\"])\n",
    "    target = pd.Series(iris[\"target\"])\n",
    "    flower_names = iris[\"target_names\"]\n",
    "    feature_names = iris[\"feature_names\"]\n",
    "    print(features.info())\n",
    "\n",
    "    ### Get the first 2 flower samples\n",
    "\n",
    "    setosa = target == 0\n",
    "    versicolor = target == 1\n",
    "    samples = features[setosa | versicolor]\n",
    "    labels = target[setosa | versicolor]\n",
    "    class_size = sum(versicolor)\n",
    "\n",
    "    versicolor_samples = features[versicolor]\n",
    "    versicolor_labels = target[versicolor]\n",
    "    setosa_samples = features[setosa]\n",
    "\n",
    "    ### Splitting *versicolor* into two sub classes\n",
    "\n",
    "    versicolor_samples.describe()\n",
    "\n",
    "    ## Constructing different noise sources\n",
    "    gauss_noise = np.random.normal(loc=1,scale=0.25, size=[class_size//2,2])\n",
    "    gauss_noise[gauss_noise < 0] = 0\n",
    "    unif_noise = np.random.uniform(low=0,high=1)\n",
    "    constant = 1\n",
    "\n",
    "\n",
    "    split_size = class_size//2\n",
    "\n",
    "    # Positive to first two features\n",
    "\n",
    "    B1 = versicolor_samples.iloc[:split_size,:2] + gauss_noise\n",
    "    B1 = np.concatenate((B1, versicolor_samples.iloc[:split_size,2:]), axis=1)\n",
    "    B1_labels = versicolor_labels.iloc[:split_size]\n",
    "\n",
    "    # Negative to last two features\n",
    "    # gauss_noise = np.random.normal(loc=0.1,scale=0.1, size=[class_size//2,2])\n",
    "    # gauss_noise[gauss_noise < 0] = 0\n",
    "    # unif_noise = np.random.uniform(low=0,high=1)\n",
    "\n",
    "    # B2 = versicolor_samples.iloc[split_size:,2:] + gauss_noise\n",
    "    # B2 = np.concatenate((versicolor_samples.iloc[split_size:,2:],B2), axis=1)\n",
    "\n",
    "    B2 = versicolor_samples.iloc[split_size:,:2] - gauss_noise\n",
    "    B2 = np.concatenate((B2,versicolor_samples.iloc[split_size:,2:]), axis=1)\n",
    "    B2_labels = versicolor_labels.iloc[split_size:] + 1\n",
    "\n",
    "    # Combining the two fake \"subclasses\"\n",
    "    noisy_samples = np.concatenate((B1, B2), axis=0)\n",
    "\n",
    "\n",
    "    modded_samples = np.concatenate((setosa_samples,noisy_samples))\n",
    "    modded_labels = labels.copy()\n",
    "    modded_labels[class_size + split_size:] += 1\n",
    "\n",
    "    return samples,labels,modded_samples, modded_labels\n",
    "\n",
    "\n",
    "'''\n",
    "Returns 8 gaussian blobs surrounding one center blob\n",
    "\n",
    "       labels: Only center vs other labels (0,1) \n",
    "modded_labels: The labels for all 9 classes\n",
    "'''\n",
    "def simulate_blobs(class_size = 200):\n",
    "    centers = [2*(x,y) for x in range(-1,2) for y in range(-1,2)]\n",
    "    n_samples = [class_size//(len(centers)-1)]*len(centers)\n",
    "    n_samples[len(centers)//2] = class_size\n",
    "\n",
    "    X, y = make_blobs(n_samples=n_samples, centers=centers, n_features=2, cluster_std=0.1, shuffle=False, random_state=42)\n",
    "\n",
    "    plt.close(\"Original Distribution\")\n",
    "    df = DataFrame(dict(x=X[:,0], y=X[:,1], label=y))\n",
    "    fig, ax = plt.subplots(num= \"Original Distribution\")\n",
    "    colors = {0:'red', 1:'blue'}\n",
    "    df.plot(ax=ax,kind=\"scatter\", x='x', y='y',c=\"label\", cmap= \"Paired\")\n",
    "    # plt.colorbar()\n",
    "    plt.show()\n",
    "    \n",
    "    original_labels = df[\"label\"].copy()\n",
    "    modded_samples = df[[\"x\",\"y\"]].copy()\n",
    "    labels = df[\"label\"].copy()\n",
    "    labels[labels != 4] = 0\n",
    "    labels[labels == 4] = 1\n",
    "    return df, modded_samples,labels, original_labels"
   ]
  },
  {
   "cell_type": "markdown",
   "metadata": {},
   "source": [
    "## Half the data will be split out as validation and 0.2 as the test set"
   ]
  },
  {
   "cell_type": "code",
   "execution_count": 6,
   "metadata": {},
   "outputs": [],
   "source": [
    "\n",
    "def get_split_index(features, labels, test_size=0.2):\n",
    "    features = np.array(features)\n",
    "    # The train set will have equal amounts of each target class\n",
    "    # Performing single split\n",
    "    split = StratifiedShuffleSplit(n_splits=1, test_size=test_size, random_state=42)\n",
    "    return [[train_index, test_index] for train_index,test_index in split.split(features, labels)]\n",
    "\n",
    "def split_valid(features, original_labels, training_labels):\n",
    "    train_index, validation_index = get_split_index(features, original_labels, test_size=0.5)[0]\n",
    "    \n",
    "    X_valid, y_valid, y_valid_original = features.iloc[validation_index],  training_labels.iloc[validation_index], original_labels.iloc[validation_index]\n",
    "    X_train, y_train, y_original = features.iloc[train_index], training_labels.iloc[train_index], original_labels.iloc[train_index]\n",
    "     \n",
    "    return X_train, y_train, y_original, X_valid, y_valid, y_valid_original\n",
    "\n",
    "def get_train_test_val(features, original_labels, training_labels):\n",
    "    \n",
    "    X, y, y_original, X_valid, y_valid, y_valid_original = split_valid(features,original_labels, training_labels)\n",
    "   \n",
    "    train_index, test_index = get_split_index(X, y_original)[0]\n",
    "    X_train = X.iloc[train_index]\n",
    "    y_train = y.iloc[train_index]\n",
    "    X_test = X.iloc[test_index]\n",
    "    y_test = y.iloc[test_index]\n",
    "\n",
    "    return X_train, y_train, X_test, y_test, y_original, X_valid, y_valid, y_valid_original"
   ]
  },
  {
   "cell_type": "markdown",
   "metadata": {},
   "source": [
    "### Train a DNN on the modified dataset"
   ]
  },
  {
   "cell_type": "code",
   "execution_count": 7,
   "metadata": {},
   "outputs": [
    {
     "data": {
      "application/vnd.jupyter.widget-view+json": {
       "model_id": "3cabc97c3cb44a1198f30a43174b8db5",
       "version_major": 2,
       "version_minor": 0
      },
      "text/plain": [
       "FigureCanvasNbAgg()"
      ]
     },
     "metadata": {},
     "output_type": "display_data"
    },
    {
     "name": "stdout",
     "output_type": "stream",
     "text": [
      "Train Size: (3200, 2)\n",
      "Test Size: (800,)\n",
      "Categories: [array([0, 1])]\n"
     ]
    }
   ],
   "source": [
    "# Get split returns a generator\n",
    "# List comprehension is one way to evaluate a generator\n",
    "\n",
    "original_data, modded_samples, training_labels, original_labels = simulate_blobs(class_size=4000)\n",
    "\n",
    "# Separating a hold out set that will be used for validation later\n",
    "X_train, y_train, X_test, y_test, y_original, X_valid, y_valid, y_valid_original = get_train_test_val(modded_samples, original_labels, training_labels)\n",
    "\n",
    "\n",
    "print(\"Train Size:\", X_train.shape)\n",
    "print(\"Test Size:\", y_test.shape)\n",
    "\n",
    "\n",
    "hot_encoder = dfHotEncoder()\n",
    "hot_encoder.fit(training_labels)\n",
    "print(\"Categories:\", hot_encoder.categories_)"
   ]
  },
  {
   "cell_type": "code",
   "execution_count": 8,
   "metadata": {},
   "outputs": [],
   "source": [
    "NUM_FEATURES = X_train.shape[1]\n",
    "NUM_LABELS = len(hot_encoder.categories_[0])"
   ]
  },
  {
   "cell_type": "code",
   "execution_count": 9,
   "metadata": {},
   "outputs": [],
   "source": [
    "def build_dnn(num_features, num_labels=3):\n",
    "\n",
    "#     reset_graph()\n",
    "    \n",
    "    keras.backend.clear_session()\n",
    "\n",
    "    nn = keras.models.Sequential()\n",
    "    Dense = keras.layers.Dense\n",
    "    \n",
    "    # Using He initialization\n",
    "    he_init = tf.keras.initializers.he_uniform()\n",
    "    \n",
    "    nn.add(Dense(units = 16, activation=\"elu\", input_dim=num_features,\n",
    "                kernel_initializer=he_init))\n",
    "    nn.add(Dense(units = 16, activation=\"elu\",\n",
    "                kernel_initializer=he_init))\n",
    "    nn.add(Dense(units = 16, activation=\"elu\",\n",
    "                kernel_initializer=he_init))\n",
    "    nn.add(Dense(units=2, activation= \"softmax\",\n",
    "                kernel_initializer=he_init))\n",
    "\n",
    "#     BCE = tf.keras.losses.BinaryCrossentropy(from_logits=True)\n",
    "    \n",
    "    nn.compile(loss=\"categorical_crossentropy\",\n",
    "                  optimizer='sgd',\n",
    "                  metrics=['accuracy'])\n",
    "    \n",
    "    return nn\n",
    "\n",
    "def train_model(model, X, y, X_test=[], y_test=[], epochs=30, batch_size=20, verbose=1, plot=True):\n",
    "    \n",
    "    ZScaler = StandardScaler().fit(X)\n",
    "    \n",
    "    X_train = ZScaler.transform(X)\n",
    "    X_test = ZScaler.transform(X_test)\n",
    "    \n",
    "    y_train = hot_encoder.transform(y)\n",
    "    y_test = hot_encoder.transform(y_test)\n",
    "    \n",
    "#     lr_scheduler = keras.callbacks.LearningRateScheduler(exp_decay)\n",
    "    callback_list = []\n",
    "    \n",
    "    history = model.fit(X_train, y_train, epochs=epochs, batch_size = batch_size,\n",
    "                        validation_data=(X_test, y_test), callbacks=callback_list, verbose=verbose)\n",
    "    \n",
    "#     if plot: plot_history(history)\n",
    "    \n",
    "    return history, ZScaler\n"
   ]
  },
  {
   "cell_type": "code",
   "execution_count": 10,
   "metadata": {},
   "outputs": [
    {
     "name": "stdout",
     "output_type": "stream",
     "text": [
      "WARNING:tensorflow:From /Users/Work/anaconda3/envs/condaflow/lib/python3.6/site-packages/tensorflow/python/framework/op_def_library.py:263: colocate_with (from tensorflow.python.framework.ops) is deprecated and will be removed in a future version.\n",
      "Instructions for updating:\n",
      "Colocations handled automatically by placer.\n",
      "WARNING:tensorflow:From /Users/Work/anaconda3/envs/condaflow/lib/python3.6/site-packages/tensorflow/python/ops/math_ops.py:3066: to_int32 (from tensorflow.python.ops.math_ops) is deprecated and will be removed in a future version.\n",
      "Instructions for updating:\n",
      "Use tf.cast instead.\n",
      "Train on 3200 samples, validate on 800 samples\n",
      "Epoch 1/30\n",
      "3200/3200 [==============================] - 0s 99us/step - loss: 0.4590 - acc: 0.8797 - val_loss: 0.1077 - val_acc: 1.0000\n",
      "Epoch 2/30\n",
      "3200/3200 [==============================] - 0s 46us/step - loss: 0.0646 - acc: 1.0000 - val_loss: 0.0372 - val_acc: 1.0000\n",
      "Epoch 3/30\n",
      "3200/3200 [==============================] - 0s 41us/step - loss: 0.0280 - acc: 1.0000 - val_loss: 0.0200 - val_acc: 1.0000\n",
      "Epoch 4/30\n",
      "3200/3200 [==============================] - 0s 43us/step - loss: 0.0167 - acc: 1.0000 - val_loss: 0.0130 - val_acc: 1.0000\n",
      "Epoch 5/30\n",
      "3200/3200 [==============================] - 0s 41us/step - loss: 0.0115 - acc: 1.0000 - val_loss: 0.0094 - val_acc: 1.0000\n",
      "Epoch 6/30\n",
      "3200/3200 [==============================] - 0s 43us/step - loss: 0.0087 - acc: 1.0000 - val_loss: 0.0073 - val_acc: 1.0000\n",
      "Epoch 7/30\n",
      "3200/3200 [==============================] - 0s 42us/step - loss: 0.0069 - acc: 1.0000 - val_loss: 0.0059 - val_acc: 1.0000\n",
      "Epoch 8/30\n",
      "3200/3200 [==============================] - 0s 43us/step - loss: 0.0056 - acc: 1.0000 - val_loss: 0.0049 - val_acc: 1.0000\n",
      "Epoch 9/30\n",
      "3200/3200 [==============================] - 0s 41us/step - loss: 0.0048 - acc: 1.0000 - val_loss: 0.0042 - val_acc: 1.0000\n",
      "Epoch 10/30\n",
      "3200/3200 [==============================] - 0s 40us/step - loss: 0.0041 - acc: 1.0000 - val_loss: 0.0036 - val_acc: 1.0000\n",
      "Epoch 11/30\n",
      "3200/3200 [==============================] - 0s 42us/step - loss: 0.0036 - acc: 1.0000 - val_loss: 0.0032 - val_acc: 1.0000\n",
      "Epoch 12/30\n",
      "3200/3200 [==============================] - 0s 42us/step - loss: 0.0032 - acc: 1.0000 - val_loss: 0.0028 - val_acc: 1.0000\n",
      "Epoch 13/30\n",
      "3200/3200 [==============================] - 0s 41us/step - loss: 0.0029 - acc: 1.0000 - val_loss: 0.0026 - val_acc: 1.0000\n",
      "Epoch 14/30\n",
      "3200/3200 [==============================] - 0s 41us/step - loss: 0.0026 - acc: 1.0000 - val_loss: 0.0023 - val_acc: 1.0000\n",
      "Epoch 15/30\n",
      "3200/3200 [==============================] - 0s 43us/step - loss: 0.0024 - acc: 1.0000 - val_loss: 0.0021 - val_acc: 1.0000\n",
      "Epoch 16/30\n",
      "3200/3200 [==============================] - 0s 41us/step - loss: 0.0022 - acc: 1.0000 - val_loss: 0.0020 - val_acc: 1.0000\n",
      "Epoch 17/30\n",
      "3200/3200 [==============================] - 0s 40us/step - loss: 0.0020 - acc: 1.0000 - val_loss: 0.0018 - val_acc: 1.0000\n",
      "Epoch 18/30\n",
      "3200/3200 [==============================] - 0s 43us/step - loss: 0.0019 - acc: 1.0000 - val_loss: 0.0017 - val_acc: 1.0000\n",
      "Epoch 19/30\n",
      "3200/3200 [==============================] - 0s 43us/step - loss: 0.0017 - acc: 1.0000 - val_loss: 0.0016 - val_acc: 1.0000\n",
      "Epoch 20/30\n",
      "3200/3200 [==============================] - 0s 40us/step - loss: 0.0016 - acc: 1.0000 - val_loss: 0.0015 - val_acc: 1.0000\n",
      "Epoch 21/30\n",
      "3200/3200 [==============================] - 0s 44us/step - loss: 0.0015 - acc: 1.0000 - val_loss: 0.0014 - val_acc: 1.0000\n",
      "Epoch 22/30\n",
      "3200/3200 [==============================] - 0s 42us/step - loss: 0.0014 - acc: 1.0000 - val_loss: 0.0013 - val_acc: 1.0000\n",
      "Epoch 23/30\n",
      "3200/3200 [==============================] - 0s 42us/step - loss: 0.0014 - acc: 1.0000 - val_loss: 0.0012 - val_acc: 1.0000\n",
      "Epoch 24/30\n",
      "3200/3200 [==============================] - 0s 42us/step - loss: 0.0013 - acc: 1.0000 - val_loss: 0.0012 - val_acc: 1.0000\n",
      "Epoch 25/30\n",
      "3200/3200 [==============================] - 0s 41us/step - loss: 0.0012 - acc: 1.0000 - val_loss: 0.0011 - val_acc: 1.0000\n",
      "Epoch 26/30\n",
      "3200/3200 [==============================] - 0s 41us/step - loss: 0.0012 - acc: 1.0000 - val_loss: 0.0011 - val_acc: 1.0000\n",
      "Epoch 27/30\n",
      "3200/3200 [==============================] - 0s 40us/step - loss: 0.0011 - acc: 1.0000 - val_loss: 0.0010 - val_acc: 1.0000\n",
      "Epoch 28/30\n",
      "3200/3200 [==============================] - 0s 41us/step - loss: 0.0011 - acc: 1.0000 - val_loss: 9.5718e-04 - val_acc: 1.0000\n",
      "Epoch 29/30\n",
      "3200/3200 [==============================] - 0s 40us/step - loss: 0.0010 - acc: 1.0000 - val_loss: 9.1585e-04 - val_acc: 1.0000\n",
      "Epoch 30/30\n",
      "3200/3200 [==============================] - 0s 39us/step - loss: 9.8097e-04 - acc: 1.0000 - val_loss: 8.7775e-04 - val_acc: 1.0000\n",
      "CPU times: user 7.4 s, sys: 2.14 s, total: 9.54 s\n",
      "Wall time: 4.36 s\n"
     ]
    }
   ],
   "source": [
    "nn = build_dnn(NUM_FEATURES)\n",
    "%time history, Zscaler = train_model(nn, X_train, y_train, X_test, y_test, epochs=30, batch_size=20)"
   ]
  },
  {
   "cell_type": "code",
   "execution_count": 11,
   "metadata": {},
   "outputs": [
    {
     "data": {
      "application/vnd.jupyter.widget-view+json": {
       "model_id": "aac7a2f6a5bf427a8ffce9e82a2fa76b",
       "version_major": 2,
       "version_minor": 0
      },
      "text/plain": [
       "FigureCanvasNbAgg()"
      ]
     },
     "metadata": {},
     "output_type": "display_data"
    }
   ],
   "source": [
    "# Plotting results from history\n",
    "plot_history(history)"
   ]
  },
  {
   "cell_type": "code",
   "execution_count": 12,
   "metadata": {},
   "outputs": [
    {
     "data": {
      "text/plain": [
       "([array([9.9999988e-01, 1.3528789e-07], dtype=float32),\n",
       "  array([6.65040e-04, 9.99335e-01], dtype=float32),\n",
       "  array([9.9982005e-01, 1.7997736e-04], dtype=float32),\n",
       "  array([0.00365059, 0.99634933], dtype=float32),\n",
       "  array([4.2840443e-04, 9.9957162e-01], dtype=float32)],\n",
       " [0.0, 1.0, 0.0, 1.0, 1.0])"
      ]
     },
     "execution_count": 12,
     "metadata": {},
     "output_type": "execute_result"
    }
   ],
   "source": [
    "preds = [x for x in nn.predict(Zscaler.transform(X_test[:5]))]\n",
    "_labels = [np.float(x) for x in y_test]\n",
    "preds[:5],_labels[:5]"
   ]
  },
  {
   "cell_type": "markdown",
   "metadata": {},
   "source": [
    "## Performing SVM on Modded Samples"
   ]
  },
  {
   "cell_type": "code",
   "execution_count": 13,
   "metadata": {},
   "outputs": [
    {
     "name": "stdout",
     "output_type": "stream",
     "text": [
      "CPU times: user 6.43 ms, sys: 1.73 ms, total: 8.16 ms\n",
      "Wall time: 7.5 ms\n",
      "Linear SVM Test Accuracy: 0.688\n"
     ]
    },
    {
     "name": "stderr",
     "output_type": "stream",
     "text": [
      "/Users/Work/anaconda3/envs/condaflow/lib/python3.6/site-packages/sklearn/svm/base.py:931: ConvergenceWarning: Liblinear failed to converge, increase the number of iterations.\n",
      "  \"the number of iterations.\", ConvergenceWarning)\n"
     ]
    }
   ],
   "source": [
    "from sklearn.svm import LinearSVC\n",
    "\n",
    "svm_clf = Pipeline([\n",
    "    (\"scaler\", StandardScaler()),\n",
    "    (\"SVM\", LinearSVC(C=1, loss=\"hinge\", max_iter=1000 ))\n",
    "])\n",
    "\n",
    "%time svm_clf.fit(X_train, y_train)\n",
    "print(\"Linear SVM Test Accuracy: {:0.3f}\".format(svm_clf.score(X_test, y_test)))"
   ]
  },
  {
   "cell_type": "markdown",
   "metadata": {},
   "source": [
    "## Performing LRP"
   ]
  },
  {
   "cell_type": "code",
   "execution_count": 14,
   "metadata": {},
   "outputs": [
    {
     "name": "stdout",
     "output_type": "stream",
     "text": [
      "Validation Accuracy\n",
      "4000/4000 [==============================] - 0s 9us/step\n",
      "Scores on validation set: loss=0.001 accuracy=1.0000\n"
     ]
    }
   ],
   "source": [
    "model = nn\n",
    "scaled_samples = Zscaler.transform(X_valid)\n",
    "_labels = y_valid\n",
    "# mod_labels = modded_labels[test_index]\n",
    "\n",
    "predictions = model.predict(scaled_samples)\n",
    "preds = np.array([np.argmax(x) for x in predictions])\n",
    "true_labels = np.array([x for x in _labels])\n",
    "\n",
    "correct = preds == true_labels\n",
    "# versicolor = true_labels == 1\n",
    "\n",
    "print(\"Validation Accuracy\")\n",
    "loss_and_metrics = model.evaluate(scaled_samples, hot_encoder.transform(y_valid))\n",
    "print(\"Scores on validation set: loss={:0.3f} accuracy={:.4f}\".format(*loss_and_metrics))"
   ]
  },
  {
   "cell_type": "code",
   "execution_count": 15,
   "metadata": {},
   "outputs": [
    {
     "data": {
      "text/plain": [
       "1    2000\n",
       "0    2000\n",
       "Name: label, dtype: int64"
      ]
     },
     "execution_count": 15,
     "metadata": {},
     "output_type": "execute_result"
    }
   ],
   "source": [
    "_labels[correct].value_counts()"
   ]
  },
  {
   "cell_type": "code",
   "execution_count": 16,
   "metadata": {},
   "outputs": [
    {
     "name": "stdout",
     "output_type": "stream",
     "text": [
      "WARNING:tensorflow:From /Users/Work/anaconda3/envs/condaflow/lib/python3.6/site-packages/tensorflow/python/ops/math_grad.py:102: div (from tensorflow.python.ops.math_ops) is deprecated and will be removed in a future version.\n",
      "Instructions for updating:\n",
      "Deprecated in favor of operator or tf.math.divide.\n"
     ]
    }
   ],
   "source": [
    "import innvestigate\n",
    "import innvestigate.utils as iutils\n",
    "\n",
    "def perform_analysis(model, analyzer, data, labels=[]):\n",
    "    analysis = analyzer.analyze(data)\n",
    "    prediction = model.predict(data)\n",
    "    \n",
    "    df_anal = pd.DataFrame(analysis)\n",
    "    \n",
    "    return df_anal\n",
    "\n",
    "\n",
    "# Stripping the softmax activation from the model\n",
    "model_w_softmax = nn\n",
    "model = iutils.keras.graph.model_wo_softmax(model_w_softmax)\n",
    "\n",
    "# Creating an analyzer\n",
    "lrp_E = innvestigate.analyzer.relevance_based.relevance_analyzer.LRPEpsilon(model=model, epsilon=1e-3)\n",
    "lrp_Z = innvestigate.analyzer.relevance_based.relevance_analyzer.LRPZPlus(model=model)\n",
    "lrp_AB   = innvestigate.analyzer.relevance_based.relevance_analyzer.LRPAlpha2Beta1(model=model)\n",
    "\n",
    "# Getting all the samples that can be correctly predicted\n",
    "test_idx = correct\n",
    "all_samples = scaled_samples[test_idx]\n",
    "all_labels = y_valid_original[test_idx]\n",
    "\n",
    "\n",
    "# perform_analysis(nn,gradient_analyzer,flowers,types)\n",
    "all_lrp_AB = perform_analysis(model,lrp_AB, all_samples)\n",
    "all_lrp_E = perform_analysis(model,lrp_E, all_samples)\n",
    "all_lrp_Z = perform_analysis(model,lrp_Z, all_samples)\n"
   ]
  },
  {
   "cell_type": "code",
   "execution_count": 17,
   "metadata": {},
   "outputs": [
    {
     "data": {
      "application/vnd.jupyter.widget-view+json": {
       "model_id": "bd20a5f780804b80851e70dc2d80781a",
       "version_major": 2,
       "version_minor": 0
      },
      "text/plain": [
       "FigureCanvasNbAgg()"
      ]
     },
     "metadata": {},
     "output_type": "display_data"
    }
   ],
   "source": [
    "plt.close(\"Comparison\")\n",
    "fig, axs = plt.subplots(2,2, figsize=(12,8), num=\"Comparison\")\n",
    "_labels = all_labels\n",
    "# df = DataFrame(modded_samples)\n",
    "\n",
    "original_data.plot(ax=axs[0][0],kind=\"scatter\", x='x', y='y',c=\"label\", cmap= \"Paired\", title=\"Original Distribution\")\n",
    "all_lrp_E.plot(ax=axs[0][1],kind=\"scatter\", x=0, y=1, c=_labels, cmap=\"Paired\", s=20, alpha=0.25, title=\"LRP E\")\n",
    "\n",
    "all_lrp_AB.plot(ax=axs[1][0],kind=\"scatter\", x=0, y=1, c=_labels, cmap=\"Paired\", s=20, alpha=0.75, title=\"LRP AB\")\n",
    "all_lrp_Z.plot(ax=axs[1][1],kind=\"scatter\", x=0, y=1, c=_labels, cmap=\"Paired\", s=20, alpha=0.75, title=\"LRP Z\")\n",
    "\n",
    "plt.tight_layout()\n",
    "plt.show()\n",
    "# plt.savefig(figures_dir+\"multiclass_lrp.png\")"
   ]
  },
  {
   "cell_type": "code",
   "execution_count": 18,
   "metadata": {},
   "outputs": [],
   "source": [
    "# import time\n",
    "# plt.show(block=False)\n",
    "# time.sleep(3)\n",
    "# plt.close('all')"
   ]
  },
  {
   "cell_type": "code",
   "execution_count": 19,
   "metadata": {},
   "outputs": [
    {
     "data": {
      "application/vnd.jupyter.widget-view+json": {
       "model_id": "7348d5d850924e16946800b6005c3072",
       "version_major": 2,
       "version_minor": 0
      },
      "text/plain": [
       "FigureCanvasNbAgg()"
      ]
     },
     "metadata": {},
     "output_type": "display_data"
    }
   ],
   "source": [
    "color_key = {0:\"teal\",1:\"blue\", 2:\"chartreuse\", 3:\"hotpink\", 4: \"tomato\", 5:\"orange\", 6:\"indigo\", 7:\"gold\", 8:\"brown\"}\n",
    "\n",
    "# lrp_norm = StandardScaler().fit_transform()\n",
    "plt.close(\"Class Level LRP\")\n",
    "fig, axs = plt.subplots(3,3, figsize=(14,14), num=\"Class Level LRP\")\n",
    "axs = axs.flatten()\n",
    "_df = all_lrp_E.copy()\n",
    "_df[\"label\"] = all_labels.values\n",
    "grouped = _df.groupby(by=\"label\")\n",
    "for key,group in grouped:\n",
    "#     lrp_norm = StandardScaler().fit_transform(group[[0,1]].values)\n",
    "#     pd.DataFrame(lrp_norm, columns=[\"x\",\"y\"]).plot(ax=axs[key],kind=\"scatter\",x=\"x\",y=\"y\", title=key, color=color_key[key])\n",
    "    group.plot(ax=axs[key],kind=\"scatter\",x=0,y=1, title=key, color=color_key[key])"
   ]
  },
  {
   "cell_type": "code",
   "execution_count": 20,
   "metadata": {},
   "outputs": [
    {
     "data": {
      "application/vnd.jupyter.widget-view+json": {
       "model_id": "bd95e88ffcc94c5599898fa3281dc1cc",
       "version_major": 2,
       "version_minor": 0
      },
      "text/plain": [
       "FigureCanvasNbAgg()"
      ]
     },
     "metadata": {},
     "output_type": "display_data"
    }
   ],
   "source": [
    "plt.close(\"Positive Only LRP\")\n",
    "fig, axs = plt.subplots(1,3, figsize=(18,6), num=\"Positive Only LRP\")\n",
    "_labels = all_labels\n",
    "\n",
    "original_data.plot(ax=axs[0],kind=\"scatter\", x='x', y='y',c=\"label\", cmap= \"Paired\", title=\"Original Distribution\", s=10, alpha=0.25,)\n",
    "all_lrp_E.plot(ax=axs[1],kind=\"scatter\", x=0, y=1, c=_labels, cmap=\"Paired\", s=10, alpha=0.25, title=\"LRP E\")\n",
    "\n",
    "\n",
    "_df = all_lrp_E.copy()\n",
    "_df[\"label\"] = all_labels.values\n",
    "_df[_df<0] = 0\n",
    "_df.plot(ax=axs[2], kind=\"scatter\", x=0, y=1, c=_labels, cmap=\"Paired\", s=10, alpha=0.25, title=\"LRP E\")\n",
    "\n",
    "plt.tight_layout()\n",
    "plt.show()"
   ]
  },
  {
   "cell_type": "code",
   "execution_count": 21,
   "metadata": {},
   "outputs": [],
   "source": [
    "# plt.savefig(figures_dir+\"multiclass_pos_lrp.png\")"
   ]
  },
  {
   "cell_type": "code",
   "execution_count": 112,
   "metadata": {},
   "outputs": [
    {
     "data": {
      "text/plain": [
       "True"
      ]
     },
     "execution_count": 112,
     "metadata": {},
     "output_type": "execute_result"
    }
   ],
   "source": [
    "all(all_lrp_E[[0]].values != all_lrp_E[[1]].values)"
   ]
  },
  {
   "cell_type": "code",
   "execution_count": 114,
   "metadata": {},
   "outputs": [
    {
     "name": "stdout",
     "output_type": "stream",
     "text": [
      "Samples [[ 0.03117242  0.00917022]\n",
      " [-1.61163405 -1.53020336]\n",
      " [-0.2467647  -0.20162362]\n",
      " [-0.0953057  -0.20666292]\n",
      " [ 1.35408182  0.05520268]]\n"
     ]
    },
    {
     "data": {
      "text/plain": [
       "array([[1.8626216e-04, 9.9981374e-01],\n",
       "       [9.9995744e-01, 4.2559550e-05],\n",
       "       [7.5972779e-04, 9.9924028e-01],\n",
       "       [5.2677403e-04, 9.9947327e-01],\n",
       "       [9.9220169e-01, 7.7982778e-03]], dtype=float32)"
      ]
     },
     "execution_count": 114,
     "metadata": {},
     "output_type": "execute_result"
    }
   ],
   "source": [
    "_sample = all_samples[:5]\n",
    "print(\"Samples\",_sample)\n",
    "nn.predict(_sample)"
   ]
  },
  {
   "cell_type": "code",
   "execution_count": 115,
   "metadata": {},
   "outputs": [
    {
     "data": {
      "text/html": [
       "<div>\n",
       "<style scoped>\n",
       "    .dataframe tbody tr th:only-of-type {\n",
       "        vertical-align: middle;\n",
       "    }\n",
       "\n",
       "    .dataframe tbody tr th {\n",
       "        vertical-align: top;\n",
       "    }\n",
       "\n",
       "    .dataframe thead th {\n",
       "        text-align: right;\n",
       "    }\n",
       "</style>\n",
       "<table border=\"1\" class=\"dataframe\">\n",
       "  <thead>\n",
       "    <tr style=\"text-align: right;\">\n",
       "      <th></th>\n",
       "      <th>0</th>\n",
       "      <th>1</th>\n",
       "    </tr>\n",
       "  </thead>\n",
       "  <tbody>\n",
       "    <tr>\n",
       "      <th>0</th>\n",
       "      <td>1.298364</td>\n",
       "      <td>2.932839</td>\n",
       "    </tr>\n",
       "    <tr>\n",
       "      <th>1</th>\n",
       "      <td>1.434336</td>\n",
       "      <td>1.111248</td>\n",
       "    </tr>\n",
       "    <tr>\n",
       "      <th>2</th>\n",
       "      <td>2.242666</td>\n",
       "      <td>1.444997</td>\n",
       "    </tr>\n",
       "    <tr>\n",
       "      <th>3</th>\n",
       "      <td>2.428062</td>\n",
       "      <td>1.561046</td>\n",
       "    </tr>\n",
       "    <tr>\n",
       "      <th>4</th>\n",
       "      <td>1.023349</td>\n",
       "      <td>0.284107</td>\n",
       "    </tr>\n",
       "  </tbody>\n",
       "</table>\n",
       "</div>"
      ],
      "text/plain": [
       "          0         1\n",
       "0  1.298364  2.932839\n",
       "1  1.434336  1.111248\n",
       "2  2.242666  1.444997\n",
       "3  2.428062  1.561046\n",
       "4  1.023349  0.284107"
      ]
     },
     "execution_count": 115,
     "metadata": {},
     "output_type": "execute_result"
    }
   ],
   "source": [
    "perform_analysis(model,lrp_Z, _sample)"
   ]
  },
  {
   "cell_type": "code",
   "execution_count": 116,
   "metadata": {},
   "outputs": [
    {
     "data": {
      "text/html": [
       "<div>\n",
       "<style scoped>\n",
       "    .dataframe tbody tr th:only-of-type {\n",
       "        vertical-align: middle;\n",
       "    }\n",
       "\n",
       "    .dataframe tbody tr th {\n",
       "        vertical-align: top;\n",
       "    }\n",
       "\n",
       "    .dataframe thead th {\n",
       "        text-align: right;\n",
       "    }\n",
       "</style>\n",
       "<table border=\"1\" class=\"dataframe\">\n",
       "  <thead>\n",
       "    <tr style=\"text-align: right;\">\n",
       "      <th></th>\n",
       "      <th>0</th>\n",
       "      <th>1</th>\n",
       "    </tr>\n",
       "  </thead>\n",
       "  <tbody>\n",
       "    <tr>\n",
       "      <th>0</th>\n",
       "      <td>-0.078283</td>\n",
       "      <td>0.006593</td>\n",
       "    </tr>\n",
       "    <tr>\n",
       "      <th>1</th>\n",
       "      <td>2.020087</td>\n",
       "      <td>2.271289</td>\n",
       "    </tr>\n",
       "    <tr>\n",
       "      <th>2</th>\n",
       "      <td>-0.336848</td>\n",
       "      <td>-0.911339</td>\n",
       "    </tr>\n",
       "    <tr>\n",
       "      <th>3</th>\n",
       "      <td>0.032239</td>\n",
       "      <td>-1.068051</td>\n",
       "    </tr>\n",
       "    <tr>\n",
       "      <th>4</th>\n",
       "      <td>4.087845</td>\n",
       "      <td>-0.051894</td>\n",
       "    </tr>\n",
       "  </tbody>\n",
       "</table>\n",
       "</div>"
      ],
      "text/plain": [
       "          0         1\n",
       "0 -0.078283  0.006593\n",
       "1  2.020087  2.271289\n",
       "2 -0.336848 -0.911339\n",
       "3  0.032239 -1.068051\n",
       "4  4.087845 -0.051894"
      ]
     },
     "execution_count": 116,
     "metadata": {},
     "output_type": "execute_result"
    }
   ],
   "source": [
    "perform_analysis(model,lrp_E, _sample)"
   ]
  },
  {
   "cell_type": "code",
   "execution_count": null,
   "metadata": {},
   "outputs": [],
   "source": []
  }
 ],
 "metadata": {
  "kernelspec": {
   "display_name": "condaflow",
   "language": "python",
   "name": "condaflow"
  },
  "language_info": {
   "codemirror_mode": {
    "name": "ipython",
    "version": 3
   },
   "file_extension": ".py",
   "mimetype": "text/x-python",
   "name": "python",
   "nbconvert_exporter": "python",
   "pygments_lexer": "ipython3",
   "version": "3.6.8"
  }
 },
 "nbformat": 4,
 "nbformat_minor": 2
}
