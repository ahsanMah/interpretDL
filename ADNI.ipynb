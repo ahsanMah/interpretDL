{
 "cells": [
  {
   "cell_type": "code",
   "execution_count": 1,
   "metadata": {},
   "outputs": [],
   "source": [
    "# Common imports\n",
    "import numpy as np, matplotlib.pyplot as plt, pandas as pd\n",
    "import os\n",
    "\n",
    "# For output stability across multiple runs of the notebook\n",
    "np.random.seed(42)\n",
    "\n",
    "# To plot pretty figures\n",
    "%matplotlib inline\n",
    "import matplotlib\n",
    "import matplotlib.pyplot as plt\n",
    "plt.rcParams['axes.labelsize'] = 14\n",
    "plt.rcParams['xtick.labelsize'] = 12\n",
    "plt.rcParams['ytick.labelsize'] = 12"
   ]
  },
  {
   "cell_type": "code",
   "execution_count": 36,
   "metadata": {},
   "outputs": [],
   "source": [
    "import csv\n",
    "\n",
    "# Might have stolen from stackoverflow\n",
    "def decomment(file):\n",
    "    for line in file:\n",
    "        raw = line.split(\"#\")[0].strip()\n",
    "        if raw: yield raw\n",
    "\n",
    "fname=\"data/ADNI_131_S_0123_20151214162609918/stats/fixedlh.stats\"\n",
    "datafile=\"data/ADNI_131_S_0123_20151214162609918/stats/lh.aparc.a2009s.stats\"\n",
    "\n",
    "BS = 0 # Brain Structure Name\n",
    "SA = 2 # Surface Area (mm^2)\n",
    "TH = 4 # Average Thickness\n",
    "\n",
    "with open(datafile) as f:\n",
    "    data = []\n",
    "    for row in decomment(f):\n",
    "        stats = row.split()\n",
    "        data.append([stats[i] for i in [BS,SA,TH]])\n",
    "    \n"
   ]
  },
  {
   "cell_type": "code",
   "execution_count": 64,
   "metadata": {},
   "outputs": [
    {
     "data": {
      "text/plain": [
       "[array(['889', '992', '736', '1116', '405', '1242', '741', '657', '324',\n",
       "        '212', '1130', '850', '148', '543', '2214', '3766', '214', '294',\n",
       "        '1218', '986', '1468', '1934', '903', '1593', '1165', '1455',\n",
       "        '1797', '1136', '1685', '1495', '621', '187', '272', '1243', '252',\n",
       "        '621', '1409', '1467', '183', '73', '677', '1149', '724', '1498',\n",
       "        '2243', '701', '254', '863', '1134', '392', '293', '1350', '862',\n",
       "        '1664', '271', '1846', '762', '924', '639', '631', '1386', '208',\n",
       "        '606', '705', '1393', '763', '1721', '1350', '728', '328', '612',\n",
       "        '539', '3429', '215', '2.044', '2.136', '1.914', '2.599', '2.477',\n",
       "        '2.537', '2.460', '2.359', '2.640', '1.901', '1.583', '2.490',\n",
       "        '2.499', '2.463', '2.196', '2.377', '3.070', '3.622', '2.344',\n",
       "        '1.778', '2.508', '1.716', '2.429', '2.474', '2.150', '2.427',\n",
       "        '2.006', '1.854', '2.388', '2.285', '2.433', '1.648', '2.566',\n",
       "        '2.872', '2.275', '2.370', '2.606', '2.638', '1.871', '2.088',\n",
       "        '1.979', '1.702', '2.752', '1.533', '1.568', '1.849', '2.543',\n",
       "        '2.195', '2.276', '2.220', '1.768', '1.891', '1.841', '1.839',\n",
       "        '1.911', '1.662', '1.754', '1.639', '1.943', '2.088', '1.877',\n",
       "        '1.579', '1.619', '2.318', '1.761', '2.365', '1.730', '2.086',\n",
       "        '1.658', '1.980', '1.905', '2.254', '2.169', '1.990'], dtype='<U25')]"
      ]
     },
     "execution_count": 64,
     "metadata": {},
     "output_type": "execute_result"
    }
   ],
   "source": [
    "data = np.array(data)\n",
    "columns = [structure+\"_SA\" for structure in data[:,0]]\n",
    "columns += [structure+\"_TH\" for structure in data[:,0]]\n",
    "\n",
    "raw_data = [data[:,1:3].flatten(order=\"F\")] # Column-wise collapse 2D array\n",
    "raw_data"
   ]
  },
  {
   "cell_type": "code",
   "execution_count": 66,
   "metadata": {},
   "outputs": [
    {
     "data": {
      "text/html": [
       "<div>\n",
       "<style scoped>\n",
       "    .dataframe tbody tr th:only-of-type {\n",
       "        vertical-align: middle;\n",
       "    }\n",
       "\n",
       "    .dataframe tbody tr th {\n",
       "        vertical-align: top;\n",
       "    }\n",
       "\n",
       "    .dataframe thead th {\n",
       "        text-align: right;\n",
       "    }\n",
       "</style>\n",
       "<table border=\"1\" class=\"dataframe\">\n",
       "  <thead>\n",
       "    <tr style=\"text-align: right;\">\n",
       "      <th></th>\n",
       "      <th>G_and_S_frontomargin_SA</th>\n",
       "      <th>G_and_S_occipital_inf_SA</th>\n",
       "      <th>G_and_S_paracentral_SA</th>\n",
       "      <th>G_and_S_subcentral_SA</th>\n",
       "      <th>G_and_S_transv_frontopol_SA</th>\n",
       "      <th>G_and_S_cingul-Ant_SA</th>\n",
       "      <th>G_and_S_cingul-Mid-Ant_SA</th>\n",
       "      <th>G_and_S_cingul-Mid-Post_SA</th>\n",
       "      <th>G_cingul-Post-dorsal_SA</th>\n",
       "      <th>G_cingul-Post-ventral_SA</th>\n",
       "      <th>...</th>\n",
       "      <th>S_parieto_occipital_TH</th>\n",
       "      <th>S_pericallosal_TH</th>\n",
       "      <th>S_postcentral_TH</th>\n",
       "      <th>S_precentral-inf-part_TH</th>\n",
       "      <th>S_precentral-sup-part_TH</th>\n",
       "      <th>S_suborbital_TH</th>\n",
       "      <th>S_subparietal_TH</th>\n",
       "      <th>S_temporal_inf_TH</th>\n",
       "      <th>S_temporal_sup_TH</th>\n",
       "      <th>S_temporal_transverse_TH</th>\n",
       "    </tr>\n",
       "  </thead>\n",
       "  <tbody>\n",
       "    <tr>\n",
       "      <th>0</th>\n",
       "      <td>889</td>\n",
       "      <td>992</td>\n",
       "      <td>736</td>\n",
       "      <td>1116</td>\n",
       "      <td>405</td>\n",
       "      <td>1242</td>\n",
       "      <td>741</td>\n",
       "      <td>657</td>\n",
       "      <td>324</td>\n",
       "      <td>212</td>\n",
       "      <td>...</td>\n",
       "      <td>1.761</td>\n",
       "      <td>2.365</td>\n",
       "      <td>1.730</td>\n",
       "      <td>2.086</td>\n",
       "      <td>1.658</td>\n",
       "      <td>1.980</td>\n",
       "      <td>1.905</td>\n",
       "      <td>2.254</td>\n",
       "      <td>2.169</td>\n",
       "      <td>1.990</td>\n",
       "    </tr>\n",
       "  </tbody>\n",
       "</table>\n",
       "<p>1 rows × 148 columns</p>\n",
       "</div>"
      ],
      "text/plain": [
       "  G_and_S_frontomargin_SA G_and_S_occipital_inf_SA G_and_S_paracentral_SA  \\\n",
       "0                     889                      992                    736   \n",
       "\n",
       "  G_and_S_subcentral_SA G_and_S_transv_frontopol_SA G_and_S_cingul-Ant_SA  \\\n",
       "0                  1116                         405                  1242   \n",
       "\n",
       "  G_and_S_cingul-Mid-Ant_SA G_and_S_cingul-Mid-Post_SA  \\\n",
       "0                       741                        657   \n",
       "\n",
       "  G_cingul-Post-dorsal_SA G_cingul-Post-ventral_SA  ...  \\\n",
       "0                     324                      212  ...   \n",
       "\n",
       "  S_parieto_occipital_TH S_pericallosal_TH S_postcentral_TH  \\\n",
       "0                  1.761             2.365            1.730   \n",
       "\n",
       "  S_precentral-inf-part_TH S_precentral-sup-part_TH S_suborbital_TH  \\\n",
       "0                    2.086                    1.658           1.980   \n",
       "\n",
       "  S_subparietal_TH S_temporal_inf_TH S_temporal_sup_TH  \\\n",
       "0            1.905             2.254             2.169   \n",
       "\n",
       "  S_temporal_transverse_TH  \n",
       "0                    1.990  \n",
       "\n",
       "[1 rows x 148 columns]"
      ]
     },
     "execution_count": 66,
     "metadata": {},
     "output_type": "execute_result"
    }
   ],
   "source": [
    "df = pd.DataFrame(raw_data, columns=columns)\n",
    "df"
   ]
  },
  {
   "cell_type": "code",
   "execution_count": null,
   "metadata": {},
   "outputs": [],
   "source": []
  }
 ],
 "metadata": {
  "kernelspec": {
   "display_name": "condaflow",
   "language": "python",
   "name": "condaflow"
  },
  "language_info": {
   "codemirror_mode": {
    "name": "ipython",
    "version": 3
   },
   "file_extension": ".py",
   "mimetype": "text/x-python",
   "name": "python",
   "nbconvert_exporter": "python",
   "pygments_lexer": "ipython3",
   "version": "3.6.8"
  }
 },
 "nbformat": 4,
 "nbformat_minor": 2
}
