{
 "cells": [
  {
   "cell_type": "code",
   "execution_count": 35,
   "metadata": {},
   "outputs": [
    {
     "data": {
      "text/plain": [
       "'1.13.1'"
      ]
     },
     "execution_count": 35,
     "metadata": {},
     "output_type": "execute_result"
    }
   ],
   "source": [
    "import tensorflow as tf\n",
    "import numpy as np\n",
    "import pandas as pd\n",
    "import keras\n",
    "import umap\n",
    "\n",
    "from imblearn.over_sampling import SMOTE\n",
    "from sklearn.model_selection import StratifiedShuffleSplit\n",
    "from sklearn.pipeline import Pipeline\n",
    "from sklearn.preprocessing import StandardScaler\n",
    "from sklearn.preprocessing import OneHotEncoder\n",
    "from mpl_toolkits.mplot3d import Axes3D\n",
    "\n",
    "\n",
    "import sys\n",
    "# sys.path.append(\"/Users/Work/Developer/interpretDL/interprettensor\")\n",
    "root_logdir = \"./tf_logs\"\n",
    "datadir = \"data/\"\n",
    "figures_dir = \"data/figures/\"\n",
    "\n",
    "# To plot pretty figures\n",
    "%matplotlib widget\n",
    "import matplotlib\n",
    "import matplotlib.pyplot as plt\n",
    "plt.rcParams['axes.labelsize'] = 14\n",
    "plt.rcParams['xtick.labelsize'] = 12\n",
    "plt.rcParams['ytick.labelsize'] = 12\n",
    "\n",
    "# to make this notebook's output stable across runs\n",
    "def reset_graph(seed=42):\n",
    "    tf.reset_default_graph()\n",
    "    tf.set_random_seed(seed)\n",
    "    np.random.seed(seed)\n",
    "\n",
    "np.random.seed(seed=42) \n",
    "tf.__version__"
   ]
  },
  {
   "cell_type": "code",
   "execution_count": 10,
   "metadata": {},
   "outputs": [],
   "source": [
    "# Helper Functions\n",
    "\n",
    "from sklearn.metrics import confusion_matrix\n",
    "from sklearn.utils.multiclass import unique_labels\n",
    "\n",
    "######### Taken from sklearn #######\n",
    "def plot_confusion_matrix(y_true, y_pred, classes,\n",
    "                          normalize=False,\n",
    "                          title=None,\n",
    "                          cmap=plt.cm.Blues):\n",
    "    \"\"\"\n",
    "    This function prints and plots the confusion matrix.\n",
    "    Normalization can be applied by setting `normalize=True`.\n",
    "    \"\"\"\n",
    "    if not title:\n",
    "        if normalize:\n",
    "            title = 'Normalized confusion matrix'\n",
    "        else:\n",
    "            title = 'Confusion matrix, without normalization'\n",
    "\n",
    "    # Compute confusion matrix\n",
    "    cm = confusion_matrix(y_true, y_pred)\n",
    "    # Only use the labels that appear in the data\n",
    "    classes = classes[unique_labels(y_true, y_pred)]\n",
    "    if normalize:\n",
    "        cm = cm.astype('float') / cm.sum(axis=1)[:, np.newaxis]\n",
    "        print(\"Normalized confusion matrix\")\n",
    "    else:\n",
    "        print('Confusion matrix, without normalization')\n",
    "\n",
    "    print(cm)\n",
    "\n",
    "    fig, ax = plt.subplots(figsize=[8,8])\n",
    "    im = ax.imshow(cm, interpolation='nearest', cmap=cmap)\n",
    "    ax.figure.colorbar(im, ax=ax)\n",
    "    # We want to show all ticks...\n",
    "    ax.set(xticks=np.arange(cm.shape[1]),\n",
    "           yticks=np.arange(cm.shape[0]),\n",
    "           # ... and label them with the respective list entries\n",
    "           xticklabels=classes, yticklabels=classes,\n",
    "           title=title,\n",
    "           ylabel='True label',\n",
    "           xlabel='Predicted label')\n",
    "\n",
    "    # Rotate the tick labels and set their alignment.\n",
    "    plt.setp(ax.get_xticklabels(), rotation=45, ha=\"right\",\n",
    "             rotation_mode=\"anchor\")\n",
    "\n",
    "    # Loop over data dimensions and create text annotations.\n",
    "    fmt = '.2f' if normalize else 'd'\n",
    "    thresh = cm.max() / 2.\n",
    "    for i in range(cm.shape[0]):\n",
    "        for j in range(cm.shape[1]):\n",
    "            ax.text(j, i, format(cm[i, j], fmt),\n",
    "                    ha=\"center\", va=\"center\",\n",
    "                    color=\"white\" if cm[i, j] > thresh else \"black\")\n",
    "    fig.tight_layout()\n",
    "    return ax\n",
    "\n",
    "\n",
    "def get1hot(y_train,y_test):\n",
    "    from sklearn.preprocessing import OneHotEncoder\n",
    "\n",
    "    enc = OneHotEncoder(categories=\"auto\", sparse=False)\n",
    "    y_train_1hot = enc.fit_transform([[label] for label in y_train]) # Since the function expects an array of \"features\" per sample\n",
    "    y_test_1hot = enc.fit_transform([[label] for label in y_test])\n",
    "\n",
    "    return y_train_1hot, y_test_1hot\n",
    "\n",
    "def get_split(features, labels):\n",
    "    features = np.array(features)\n",
    "    labels = np.array(labels)\n",
    "    # The train set will have equal amounts of each target class\n",
    "    split = StratifiedShuffleSplit(n_splits=1, test_size=0.2, random_state=42)\n",
    "    for train_index, test_index in split.split(features, labels):\n",
    "        X_train = features[train_index]\n",
    "        y_train = labels[train_index]\n",
    "        X_test = features[test_index]\n",
    "        y_test = labels[test_index]\n",
    "        \n",
    "        yield X_train, y_train, X_test, y_test\n",
    "\n",
    "def plot_history(history):\n",
    "    plt.close(\"History\")\n",
    "    fig, axs = plt.subplots(1, 2, figsize=(12,6),num=\"History\")\n",
    "\n",
    "    # Plot training & validation accuracy values\n",
    "    axs[0].grid(True)\n",
    "    axs[0].plot(history.history['binary_accuracy'])\n",
    "    axs[0].plot(history.history['val_binary_accuracy'])\n",
    "    axs[0].set(title='Model accuracy', ylabel='Accuracy', xlabel='Epoch')\n",
    "    axs[0].legend(['Train', 'Test'], loc='upper left')\n",
    "\n",
    "    # Plot training & validation loss values\n",
    "    axs[1].grid(True)\n",
    "    axs[1].plot(history.history['loss'])\n",
    "    axs[1].plot(history.history['val_loss'])\n",
    "    axs[1].set(title='Model loss',ylabel='Loss', xlabel='Epoch')\n",
    "    axs[1].legend(['Train', 'Test'], loc='upper left')\n",
    "\n",
    "    plt.show()\n",
    "\n",
    "\n",
    "def remove_label(features, labels, label=\"MCI\"):\n",
    "    labels = pd.Series(fused_labels)\n",
    "    non_samples = labels != label\n",
    "\n",
    "    stripped_features = features[non_samples]\n",
    "    stripped_labels = labels[non_samples]\n",
    "\n",
    "    return stripped_features, stripped_labels"
   ]
  },
  {
   "cell_type": "code",
   "execution_count": 11,
   "metadata": {},
   "outputs": [],
   "source": [
    "from sklearn.datasets import make_circles\n",
    "from sklearn.datasets import make_moons\n",
    "from sklearn.datasets.samples_generator import make_blobs\n",
    "from matplotlib import pyplot\n",
    "from pandas import DataFrame\n",
    "\n",
    "'''\n",
    "Returns orginal samples, labels and modded_samples,modded_labels\n",
    "'''\n",
    "def modded_iris():\n",
    "\n",
    "    from sklearn import datasets\n",
    "\n",
    "    iris = datasets.load_iris()\n",
    "\n",
    "    features = pd.DataFrame(iris[\"data\"])\n",
    "    target = pd.Series(iris[\"target\"])\n",
    "    flower_names = iris[\"target_names\"]\n",
    "    feature_names = iris[\"feature_names\"]\n",
    "    print(features.info())\n",
    "\n",
    "    ### Get the first 2 flower samples\n",
    "\n",
    "    setosa = target == 0\n",
    "    versicolor = target == 1\n",
    "    samples = features[setosa | versicolor]\n",
    "    labels = target[setosa | versicolor]\n",
    "    class_size = sum(versicolor)\n",
    "\n",
    "    versicolor_samples = features[versicolor]\n",
    "    versicolor_labels = target[versicolor]\n",
    "    setosa_samples = features[setosa]\n",
    "\n",
    "    ### Splitting *versicolor* into two sub classes\n",
    "\n",
    "    versicolor_samples.describe()\n",
    "\n",
    "    ## Constructing different noise sources\n",
    "    gauss_noise = np.random.normal(loc=1,scale=0.25, size=[class_size//2,2])\n",
    "    gauss_noise[gauss_noise < 0] = 0\n",
    "    unif_noise = np.random.uniform(low=0,high=1)\n",
    "    constant = 1\n",
    "\n",
    "\n",
    "    split_size = class_size//2\n",
    "\n",
    "    # Positive to first two features\n",
    "\n",
    "    B1 = versicolor_samples.iloc[:split_size,:2] + gauss_noise\n",
    "    B1 = np.concatenate((B1, versicolor_samples.iloc[:split_size,2:]), axis=1)\n",
    "    B1_labels = versicolor_labels.iloc[:split_size]\n",
    "\n",
    "    # Negative to last two features\n",
    "    # gauss_noise = np.random.normal(loc=0.1,scale=0.1, size=[class_size//2,2])\n",
    "    # gauss_noise[gauss_noise < 0] = 0\n",
    "    # unif_noise = np.random.uniform(low=0,high=1)\n",
    "\n",
    "    # B2 = versicolor_samples.iloc[split_size:,2:] + gauss_noise\n",
    "    # B2 = np.concatenate((versicolor_samples.iloc[split_size:,2:],B2), axis=1)\n",
    "\n",
    "    B2 = versicolor_samples.iloc[split_size:,:2] - gauss_noise\n",
    "    B2 = np.concatenate((B2,versicolor_samples.iloc[split_size:,2:]), axis=1)\n",
    "    B2_labels = versicolor_labels.iloc[split_size:] + 1\n",
    "\n",
    "    # Combining the two fake \"subclasses\"\n",
    "    noisy_samples = np.concatenate((B1, B2), axis=0)\n",
    "\n",
    "\n",
    "    modded_samples = np.concatenate((setosa_samples,noisy_samples))\n",
    "    modded_labels = labels.copy()\n",
    "    modded_labels[class_size + split_size:] += 1\n",
    "\n",
    "    return samples,labels,modded_samples, modded_labels\n",
    "\n",
    "\n",
    "'''\n",
    "Returns 8 gaussian blobs surrounding one center blob\n",
    "\n",
    "       labels: Only center vs other labels (0,1) \n",
    "modded_labels: The labels for all 9 classes\n",
    "'''\n",
    "def simulate_blobs(class_size = 200):\n",
    "    centers = [2*(x,y) for x in range(-1,2) for y in range(-1,2)]\n",
    "    n_samples = [class_size//(len(centers)-1)]*len(centers)\n",
    "    n_samples[len(centers)//2] = class_size\n",
    "\n",
    "    X, y = make_blobs(n_samples=n_samples, centers=centers, n_features=2, cluster_std=0.1, shuffle=False, random_state=42)\n",
    "\n",
    "    plt.close(1)\n",
    "    df = DataFrame(dict(x=X[:,0], y=X[:,1], label=y))\n",
    "    fig, ax = plt.subplots()\n",
    "    colors = {0:'red', 1:'blue'}\n",
    "    df.plot(ax=ax,kind=\"scatter\", x='x', y='y',c=\"label\", cmap= \"Paired\")\n",
    "    # plt.colorbar()\n",
    "    plt.show()\n",
    "    \n",
    "    original_labels = df[\"label\"].copy()\n",
    "    modded_samples = df[[\"x\",\"y\"]].copy()\n",
    "    labels = df[\"label\"].copy()\n",
    "    labels[labels != 4] = 0\n",
    "    labels[labels == 4] = 1\n",
    "    return df, modded_samples,labels, original_labels"
   ]
  },
  {
   "cell_type": "markdown",
   "metadata": {},
   "source": [
    "## Using make_moons to generate sample data"
   ]
  },
  {
   "cell_type": "code",
   "execution_count": 12,
   "metadata": {},
   "outputs": [],
   "source": [
    "def get_split_index(features, labels):\n",
    "    features = np.array(features)\n",
    "    # The train set will have equal amounts of each target class\n",
    "    # Performing single split\n",
    "    split = StratifiedShuffleSplit(n_splits=1, test_size=0.2, random_state=42)\n",
    "    return [[train_index, test_index] for train_index,test_index in split.split(features, labels)]\n",
    "\n",
    "def split_valid(features, original_labels, training_labels):\n",
    "    train_index, validation_index = get_split_index(features, original_labels)[0]\n",
    "    \n",
    "    X_valid, y_valid, y_valid_original = features.iloc[validation_index],  training_labels.iloc[validation_index], original_labels.iloc[validation_index]\n",
    "    X_train, y_train, y_original = features.iloc[train_index], training_labels.iloc[train_index], original_labels.iloc[train_index]\n",
    "     \n",
    "    return X_train, y_train, y_original, X_valid, y_valid, y_valid_original\n",
    "\n",
    "def get_train_test_val(features, original_labels, training_labels):\n",
    "    \n",
    "    X, y, y_original, X_valid, y_valid, y_valid_original = split_valid(features,original_labels, training_labels)\n",
    "   \n",
    "    train_index, test_index = get_split_index(X, y_original)[0]\n",
    "    X_train = X.iloc[train_index]\n",
    "    y_train = y.iloc[train_index]\n",
    "    X_test = X.iloc[test_index]\n",
    "    y_test = y.iloc[test_index]\n",
    "\n",
    "    return X_train, y_train, X_test, y_test, y_original, X_valid, y_valid, y_valid_original"
   ]
  },
  {
   "cell_type": "markdown",
   "metadata": {},
   "source": [
    "### Train a DNN on the modified dataset"
   ]
  },
  {
   "cell_type": "code",
   "execution_count": 13,
   "metadata": {},
   "outputs": [
    {
     "data": {
      "application/vnd.jupyter.widget-view+json": {
       "model_id": "",
       "version_major": 2,
       "version_minor": 0
      },
      "text/plain": [
       "FigureCanvasNbAgg()"
      ]
     },
     "metadata": {},
     "output_type": "display_data"
    },
    {
     "name": "stdout",
     "output_type": "stream",
     "text": [
      "Train Size: (1024, 2)\n",
      "Test Size: (256,)\n",
      "Categories: [array([0, 1])]\n"
     ]
    }
   ],
   "source": [
    "# Get split returns a generator\n",
    "# List comprehension is one way to evaluate a generator\n",
    "\n",
    "original_data, modded_samples, training_labels, original_labels = simulate_blobs(class_size=800)\n",
    "\n",
    "# Separating a hold out set that will be used for validation later\n",
    "X_train, y_train, X_test, y_test, y_original, X_valid, y_valid, y_valid_original = get_train_test_val(modded_samples, original_labels, training_labels)\n",
    "\n",
    "\n",
    "print(\"Train Size:\", X_train.shape)\n",
    "print(\"Test Size:\", y_test.shape)\n",
    "\n",
    "\n",
    "hot_encoder = OneHotEncoder(categories=\"auto\", sparse=False)\n",
    "hot_encoder.fit(training_labels.values.reshape(-1,1)) # Since the function expects an array of \"features\" per sample\n",
    "print(\"Categories:\", hot_encoder.categories_)"
   ]
  },
  {
   "cell_type": "code",
   "execution_count": 14,
   "metadata": {},
   "outputs": [],
   "source": [
    "NUM_FEATURES = X_train.shape[1]\n",
    "NUM_LABELS = len(hot_encoder.categories_[0])"
   ]
  },
  {
   "cell_type": "code",
   "execution_count": 15,
   "metadata": {},
   "outputs": [],
   "source": [
    "def build_dnn(num_features, num_labels=3):\n",
    "\n",
    "#     reset_graph()\n",
    "    \n",
    "    keras.backend.clear_session()\n",
    "\n",
    "    nn = keras.models.Sequential()\n",
    "    Dense = keras.layers.Dense\n",
    "    \n",
    "    # Using He initialization\n",
    "    he_init = tf.keras.initializers.he_uniform()\n",
    "    \n",
    "    nn.add(Dense(units = 12, activation=\"elu\", input_dim=num_features,\n",
    "                kernel_initializer=he_init))\n",
    "    nn.add(Dense(units = 12, activation=\"elu\",\n",
    "                kernel_initializer=he_init))\n",
    "    nn.add(Dense(units=1, activation= \"sigmoid\",\n",
    "                kernel_initializer=he_init))\n",
    "\n",
    "#     BCE = tf.keras.losses.BinaryCrossentropy(from_logits=True)\n",
    "    \n",
    "    nn.compile(loss=\"binary_crossentropy\",\n",
    "                  optimizer='sgd',\n",
    "                  metrics=['binary_accuracy'])\n",
    "    \n",
    "    return nn\n",
    "\n",
    "def train_model(model, X, y, X_test=[], y_test=[], epochs=30, batch_size=20, verbose=1, plot=True):\n",
    "    \n",
    "    ZScaler = StandardScaler().fit(X)\n",
    "    \n",
    "    X_train = ZScaler.transform(X)\n",
    "    X_test = ZScaler.transform(X_test)\n",
    "    \n",
    "    y_train = np.array(y)\n",
    "    y_test = np.array(y_test)\n",
    "    \n",
    "#     lr_scheduler = keras.callbacks.LearningRateScheduler(exp_decay)\n",
    "    callback_list = []\n",
    "    \n",
    "    history = model.fit(X_train, y_train, epochs=epochs, batch_size = batch_size,\n",
    "                        validation_data=(X_test, y_test), callbacks=callback_list, verbose=verbose)\n",
    "    \n",
    "#     if plot: plot_history(history)\n",
    "    \n",
    "    return history, ZScaler\n"
   ]
  },
  {
   "cell_type": "code",
   "execution_count": 16,
   "metadata": {},
   "outputs": [
    {
     "name": "stdout",
     "output_type": "stream",
     "text": [
      "WARNING:tensorflow:From /Users/Work/anaconda3/envs/condaflow/lib/python3.6/site-packages/tensorflow/python/ops/math_ops.py:3066: to_int32 (from tensorflow.python.ops.math_ops) is deprecated and will be removed in a future version.\n",
      "Instructions for updating:\n",
      "Use tf.cast instead.\n",
      "Train on 1024 samples, validate on 256 samples\n",
      "Epoch 1/50\n",
      "1024/1024 [==============================] - 0s 230us/step - loss: 0.4562 - binary_accuracy: 0.8711 - val_loss: 0.4030 - val_binary_accuracy: 0.9609\n",
      "Epoch 2/50\n",
      "1024/1024 [==============================] - 0s 42us/step - loss: 0.3725 - binary_accuracy: 0.9766 - val_loss: 0.3359 - val_binary_accuracy: 0.9922\n",
      "Epoch 3/50\n",
      "1024/1024 [==============================] - 0s 43us/step - loss: 0.3128 - binary_accuracy: 0.9932 - val_loss: 0.2827 - val_binary_accuracy: 0.9961\n",
      "Epoch 4/50\n",
      "1024/1024 [==============================] - 0s 40us/step - loss: 0.2647 - binary_accuracy: 0.9980 - val_loss: 0.2394 - val_binary_accuracy: 1.0000\n",
      "Epoch 5/50\n",
      "1024/1024 [==============================] - 0s 40us/step - loss: 0.2254 - binary_accuracy: 0.9980 - val_loss: 0.2038 - val_binary_accuracy: 1.0000\n",
      "Epoch 6/50\n",
      "1024/1024 [==============================] - 0s 41us/step - loss: 0.1930 - binary_accuracy: 0.9980 - val_loss: 0.1742 - val_binary_accuracy: 1.0000\n",
      "Epoch 7/50\n",
      "1024/1024 [==============================] - 0s 40us/step - loss: 0.1660 - binary_accuracy: 0.9990 - val_loss: 0.1501 - val_binary_accuracy: 1.0000\n",
      "Epoch 8/50\n",
      "1024/1024 [==============================] - 0s 39us/step - loss: 0.1439 - binary_accuracy: 0.9990 - val_loss: 0.1303 - val_binary_accuracy: 1.0000\n",
      "Epoch 9/50\n",
      "1024/1024 [==============================] - 0s 41us/step - loss: 0.1256 - binary_accuracy: 1.0000 - val_loss: 0.1136 - val_binary_accuracy: 1.0000\n",
      "Epoch 10/50\n",
      "1024/1024 [==============================] - 0s 39us/step - loss: 0.1102 - binary_accuracy: 1.0000 - val_loss: 0.0997 - val_binary_accuracy: 1.0000\n",
      "Epoch 11/50\n",
      "1024/1024 [==============================] - 0s 39us/step - loss: 0.0972 - binary_accuracy: 1.0000 - val_loss: 0.0881 - val_binary_accuracy: 1.0000\n",
      "Epoch 12/50\n",
      "1024/1024 [==============================] - 0s 41us/step - loss: 0.0865 - binary_accuracy: 1.0000 - val_loss: 0.0783 - val_binary_accuracy: 1.0000\n",
      "Epoch 13/50\n",
      "1024/1024 [==============================] - 0s 44us/step - loss: 0.0773 - binary_accuracy: 1.0000 - val_loss: 0.0699 - val_binary_accuracy: 1.0000\n",
      "Epoch 14/50\n",
      "1024/1024 [==============================] - 0s 39us/step - loss: 0.0695 - binary_accuracy: 1.0000 - val_loss: 0.0628 - val_binary_accuracy: 1.0000\n",
      "Epoch 15/50\n",
      "1024/1024 [==============================] - 0s 43us/step - loss: 0.0628 - binary_accuracy: 1.0000 - val_loss: 0.0568 - val_binary_accuracy: 1.0000\n",
      "Epoch 16/50\n",
      "1024/1024 [==============================] - 0s 43us/step - loss: 0.0571 - binary_accuracy: 1.0000 - val_loss: 0.0516 - val_binary_accuracy: 1.0000\n",
      "Epoch 17/50\n",
      "1024/1024 [==============================] - 0s 42us/step - loss: 0.0521 - binary_accuracy: 1.0000 - val_loss: 0.0470 - val_binary_accuracy: 1.0000\n",
      "Epoch 18/50\n",
      "1024/1024 [==============================] - 0s 43us/step - loss: 0.0478 - binary_accuracy: 1.0000 - val_loss: 0.0431 - val_binary_accuracy: 1.0000\n",
      "Epoch 19/50\n",
      "1024/1024 [==============================] - 0s 42us/step - loss: 0.0441 - binary_accuracy: 1.0000 - val_loss: 0.0397 - val_binary_accuracy: 1.0000\n",
      "Epoch 20/50\n",
      "1024/1024 [==============================] - 0s 41us/step - loss: 0.0407 - binary_accuracy: 1.0000 - val_loss: 0.0367 - val_binary_accuracy: 1.0000\n",
      "Epoch 21/50\n",
      "1024/1024 [==============================] - 0s 44us/step - loss: 0.0378 - binary_accuracy: 1.0000 - val_loss: 0.0340 - val_binary_accuracy: 1.0000\n",
      "Epoch 22/50\n",
      "1024/1024 [==============================] - 0s 46us/step - loss: 0.0352 - binary_accuracy: 1.0000 - val_loss: 0.0316 - val_binary_accuracy: 1.0000\n",
      "Epoch 23/50\n",
      "1024/1024 [==============================] - 0s 42us/step - loss: 0.0329 - binary_accuracy: 1.0000 - val_loss: 0.0295 - val_binary_accuracy: 1.0000\n",
      "Epoch 24/50\n",
      "1024/1024 [==============================] - 0s 43us/step - loss: 0.0308 - binary_accuracy: 1.0000 - val_loss: 0.0276 - val_binary_accuracy: 1.0000\n",
      "Epoch 25/50\n",
      "1024/1024 [==============================] - 0s 43us/step - loss: 0.0290 - binary_accuracy: 1.0000 - val_loss: 0.0259 - val_binary_accuracy: 1.0000\n",
      "Epoch 26/50\n",
      "1024/1024 [==============================] - 0s 40us/step - loss: 0.0273 - binary_accuracy: 1.0000 - val_loss: 0.0244 - val_binary_accuracy: 1.0000\n",
      "Epoch 27/50\n",
      "1024/1024 [==============================] - 0s 39us/step - loss: 0.0258 - binary_accuracy: 1.0000 - val_loss: 0.0230 - val_binary_accuracy: 1.0000\n",
      "Epoch 28/50\n",
      "1024/1024 [==============================] - 0s 44us/step - loss: 0.0244 - binary_accuracy: 1.0000 - val_loss: 0.0217 - val_binary_accuracy: 1.0000\n",
      "Epoch 29/50\n",
      "1024/1024 [==============================] - 0s 40us/step - loss: 0.0231 - binary_accuracy: 1.0000 - val_loss: 0.0206 - val_binary_accuracy: 1.0000\n",
      "Epoch 30/50\n",
      "1024/1024 [==============================] - 0s 40us/step - loss: 0.0220 - binary_accuracy: 1.0000 - val_loss: 0.0195 - val_binary_accuracy: 1.0000\n",
      "Epoch 31/50\n",
      "1024/1024 [==============================] - 0s 38us/step - loss: 0.0209 - binary_accuracy: 1.0000 - val_loss: 0.0186 - val_binary_accuracy: 1.0000\n",
      "Epoch 32/50\n",
      "1024/1024 [==============================] - 0s 38us/step - loss: 0.0199 - binary_accuracy: 1.0000 - val_loss: 0.0177 - val_binary_accuracy: 1.0000\n",
      "Epoch 33/50\n",
      "1024/1024 [==============================] - 0s 41us/step - loss: 0.0190 - binary_accuracy: 1.0000 - val_loss: 0.0169 - val_binary_accuracy: 1.0000\n",
      "Epoch 34/50\n",
      "1024/1024 [==============================] - 0s 37us/step - loss: 0.0182 - binary_accuracy: 1.0000 - val_loss: 0.0161 - val_binary_accuracy: 1.0000\n",
      "Epoch 35/50\n",
      "1024/1024 [==============================] - 0s 40us/step - loss: 0.0174 - binary_accuracy: 1.0000 - val_loss: 0.0154 - val_binary_accuracy: 1.0000\n",
      "Epoch 36/50\n",
      "1024/1024 [==============================] - 0s 43us/step - loss: 0.0167 - binary_accuracy: 1.0000 - val_loss: 0.0147 - val_binary_accuracy: 1.0000\n",
      "Epoch 37/50\n",
      "1024/1024 [==============================] - 0s 42us/step - loss: 0.0160 - binary_accuracy: 1.0000 - val_loss: 0.0141 - val_binary_accuracy: 1.0000\n",
      "Epoch 38/50\n",
      "1024/1024 [==============================] - 0s 42us/step - loss: 0.0154 - binary_accuracy: 1.0000 - val_loss: 0.0136 - val_binary_accuracy: 1.0000\n",
      "Epoch 39/50\n",
      "1024/1024 [==============================] - 0s 42us/step - loss: 0.0148 - binary_accuracy: 1.0000 - val_loss: 0.0130 - val_binary_accuracy: 1.0000\n",
      "Epoch 40/50\n",
      "1024/1024 [==============================] - 0s 47us/step - loss: 0.0143 - binary_accuracy: 1.0000 - val_loss: 0.0125 - val_binary_accuracy: 1.0000\n",
      "Epoch 41/50\n",
      "1024/1024 [==============================] - 0s 45us/step - loss: 0.0138 - binary_accuracy: 1.0000 - val_loss: 0.0121 - val_binary_accuracy: 1.0000\n",
      "Epoch 42/50\n",
      "1024/1024 [==============================] - 0s 44us/step - loss: 0.0133 - binary_accuracy: 1.0000 - val_loss: 0.0117 - val_binary_accuracy: 1.0000\n",
      "Epoch 43/50\n",
      "1024/1024 [==============================] - 0s 42us/step - loss: 0.0129 - binary_accuracy: 1.0000 - val_loss: 0.0112 - val_binary_accuracy: 1.0000\n",
      "Epoch 44/50\n",
      "1024/1024 [==============================] - 0s 43us/step - loss: 0.0124 - binary_accuracy: 1.0000 - val_loss: 0.0109 - val_binary_accuracy: 1.0000\n",
      "Epoch 45/50\n",
      "1024/1024 [==============================] - 0s 45us/step - loss: 0.0120 - binary_accuracy: 1.0000 - val_loss: 0.0105 - val_binary_accuracy: 1.0000\n",
      "Epoch 46/50\n",
      "1024/1024 [==============================] - 0s 41us/step - loss: 0.0117 - binary_accuracy: 1.0000 - val_loss: 0.0102 - val_binary_accuracy: 1.0000\n",
      "Epoch 47/50\n",
      "1024/1024 [==============================] - 0s 42us/step - loss: 0.0113 - binary_accuracy: 1.0000 - val_loss: 0.0098 - val_binary_accuracy: 1.0000\n",
      "Epoch 48/50\n",
      "1024/1024 [==============================] - 0s 44us/step - loss: 0.0110 - binary_accuracy: 1.0000 - val_loss: 0.0095 - val_binary_accuracy: 1.0000\n",
      "Epoch 49/50\n",
      "1024/1024 [==============================] - 0s 42us/step - loss: 0.0106 - binary_accuracy: 1.0000 - val_loss: 0.0093 - val_binary_accuracy: 1.0000\n",
      "Epoch 50/50\n",
      "1024/1024 [==============================] - 0s 44us/step - loss: 0.0103 - binary_accuracy: 1.0000 - val_loss: 0.0090 - val_binary_accuracy: 1.0000\n",
      "CPU times: user 4.17 s, sys: 1.08 s, total: 5.25 s\n",
      "Wall time: 2.62 s\n"
     ]
    }
   ],
   "source": [
    "nn = build_dnn(NUM_FEATURES)\n",
    "%time history, Zscaler = train_model(nn, X_train, y_train, X_test, y_test, epochs=50, batch_size=20)"
   ]
  },
  {
   "cell_type": "code",
   "execution_count": 17,
   "metadata": {},
   "outputs": [
    {
     "data": {
      "application/vnd.jupyter.widget-view+json": {
       "model_id": "",
       "version_major": 2,
       "version_minor": 0
      },
      "text/plain": [
       "FigureCanvasNbAgg()"
      ]
     },
     "metadata": {},
     "output_type": "display_data"
    }
   ],
   "source": [
    "# Plotting results from history\n",
    "plot_history(history)"
   ]
  },
  {
   "cell_type": "code",
   "execution_count": 18,
   "metadata": {},
   "outputs": [
    {
     "data": {
      "text/plain": [
       "([1.0, 0.0, 0.0, 1.0, 1.0], [1.0, 0.0, 0.0, 1.0, 1.0])"
      ]
     },
     "execution_count": 18,
     "metadata": {},
     "output_type": "execute_result"
    }
   ],
   "source": [
    "preds = [round(x[0]) for x in nn.predict(Zscaler.transform(X_test))]\n",
    "_labels = [np.float(x) for x in y_test]\n",
    "preds[:5],_labels[:5]"
   ]
  },
  {
   "cell_type": "markdown",
   "metadata": {},
   "source": [
    "# DONT FORGET TO RENORMALIZE WHEN EVALUATING SAMPLES"
   ]
  },
  {
   "cell_type": "code",
   "execution_count": 19,
   "metadata": {},
   "outputs": [],
   "source": [
    "# from sklearn.model_selection import StratifiedKFold as KFold\n",
    "# # keras.backend.clear_session()\n",
    "\n",
    "# def getKF(X,y, n_splits=10):\n",
    "#     kf = KFold(n_splits=n_splits, shuffle=True, random_state=42 ) #Default = 10\n",
    "\n",
    "#     for train_index, test_index in kf.split(X,y):\n",
    "#         X_train = X[train_index]\n",
    "#         y_train = y.iloc[train_index]\n",
    "#         X_test = X[test_index]\n",
    "#         y_test = y.iloc[test_index]\n",
    "        \n",
    "#         yield X_train, y_train, X_test, y_test, test_index\n",
    "\n",
    "# histories = []\n",
    "# testing_indxs =[]\n",
    "# predictions = []\n",
    "# true_labels = []\n",
    "# zoo = []\n",
    "# for X_train, y_train, X_test, y_test, test_index in getKF(modded_samples, labels):\n",
    "#     print(test_index)\n",
    "#     dnn = build_dnn(NUM_FEATURES, NUM_LABELS)\n",
    "#     history, ZScaler = train_model(dnn,X_train, y_train, X_test, y_test, verbose=0, plot=False, epochs=20, batch_size=10)\n",
    "    \n",
    "#     # Updating all information arrays\n",
    "#     histories.append(history)\n",
    "#     testing_indxs.append(test_index)\n",
    "#     zoo.append(dnn)\n",
    "    \n",
    "#     y_pred_probs = dnn.predict(ZScaler.transform(X_test))\n",
    "#     y_pred = np.argmax(y_pred_probs, axis=1)\n",
    "#     y_true = np.argmax(hot_encoder.transform(y_test.values.reshape(-1,1)), axis=1)\n",
    "    \n",
    "#     predictions.extend(y_pred)\n",
    "#     true_labels.extend(y_true)\n",
    "    \n",
    "#     print(\"Scores on test set: loss={:0.3f} accuracy={:.4f}\".format(history.history[\"binary_accuracy\"][-1], history.history[\"val_binary_accuracy\"][-1]))"
   ]
  },
  {
   "cell_type": "code",
   "execution_count": 20,
   "metadata": {},
   "outputs": [],
   "source": [
    "# # Num is the figure number and clear tells it to clear the figure if it already exists\n",
    "# plt.close()\n",
    "# fig, axs = plt.subplots(num=\"KF Eval\",\n",
    "#                         nrows=len(histories)//2, ncols=2,\n",
    "#                         figsize=(10,10), sharex=True, sharey=True)\n",
    "# axs=axs.flatten()\n",
    "# dfs = []\n",
    "\n",
    "# for i,history in enumerate(histories):\n",
    "#     df = pd.DataFrame(history.history)\n",
    "#     dfs.append(df)\n",
    "# #     axs[i].grid(True)\n",
    "#     df[[\"binary_accuracy\",\"val_binary_accuracy\"]].plot(ax=axs[i], grid=True)"
   ]
  },
  {
   "cell_type": "code",
   "execution_count": 21,
   "metadata": {},
   "outputs": [],
   "source": [
    "# sess = tf.Session()\n",
    "# idx = -1\n",
    "# best_dnn = zoo[idx]\n",
    "\n",
    "# predictions = best_dnn.predict(Zscaler.transform(modded_samples))\n",
    "# _labels = [np.float(x) for x in labels]\n",
    "# sess.run(keras.metrics.binary_accuracy(_labels,predictions.flatten()))\n",
    "\n",
    "# best_dnn.evaluate(Zscaler.transform(modded_samples),labels.values)\n",
    "# # NOT bestdnn.evaluate(modded_samples,labels.values)\n"
   ]
  },
  {
   "cell_type": "markdown",
   "metadata": {},
   "source": [
    "## Performing SVM on Modded Samples"
   ]
  },
  {
   "cell_type": "code",
   "execution_count": 22,
   "metadata": {},
   "outputs": [
    {
     "name": "stdout",
     "output_type": "stream",
     "text": [
      "CPU times: user 5.21 ms, sys: 1.67 ms, total: 6.88 ms\n",
      "Wall time: 5.37 ms\n",
      "Linear SVM Test Accuracy: 0.688\n"
     ]
    }
   ],
   "source": [
    "from sklearn.svm import LinearSVC\n",
    "\n",
    "svm_clf = Pipeline([\n",
    "    (\"scaler\", StandardScaler()),\n",
    "    (\"SVM\", LinearSVC(C=1, loss=\"hinge\", max_iter=1000 ))\n",
    "])\n",
    "\n",
    "%time svm_clf.fit(X_train, y_train)\n",
    "print(\"Linear SVM Test Accuracy: {:0.3f}\".format(svm_clf.score(X_test, y_test)))"
   ]
  },
  {
   "cell_type": "markdown",
   "metadata": {},
   "source": [
    "## Performing LRP"
   ]
  },
  {
   "cell_type": "code",
   "execution_count": 23,
   "metadata": {},
   "outputs": [
    {
     "name": "stdout",
     "output_type": "stream",
     "text": [
      "Validation Accuracy\n",
      "320/320 [==============================] - 0s 18us/step\n",
      "Scores on validation set: loss=0.011 accuracy=1.0000\n"
     ]
    }
   ],
   "source": [
    "model = nn\n",
    "scaled_samples = Zscaler.transform(X_valid)\n",
    "_labels = y_valid\n",
    "# mod_labels = modded_labels[test_index]\n",
    "\n",
    "predictions = model.predict(scaled_samples)\n",
    "preds = np.array([np.round(x[0]) for x in predictions])\n",
    "true_labels = [np.float(x) for x in _labels]\n",
    "\n",
    "correct = preds == true_labels\n",
    "# versicolor = true_labels == 1\n",
    "\n",
    "print(\"Validation Accuracy\")\n",
    "loss_and_metrics = model.evaluate(scaled_samples, y_valid)\n",
    "print(\"Scores on validation set: loss={:0.3f} accuracy={:.4f}\".format(*loss_and_metrics))"
   ]
  },
  {
   "cell_type": "code",
   "execution_count": 24,
   "metadata": {},
   "outputs": [
    {
     "data": {
      "text/plain": [
       "1    160\n",
       "0    160\n",
       "Name: label, dtype: int64"
      ]
     },
     "execution_count": 24,
     "metadata": {},
     "output_type": "execute_result"
    }
   ],
   "source": [
    "_labels[correct].value_counts()"
   ]
  },
  {
   "cell_type": "code",
   "execution_count": 25,
   "metadata": {},
   "outputs": [
    {
     "name": "stdout",
     "output_type": "stream",
     "text": [
      "WARNING:tensorflow:From /Users/Work/anaconda3/envs/condaflow/lib/python3.6/site-packages/tensorflow/python/ops/math_grad.py:102: div (from tensorflow.python.ops.math_ops) is deprecated and will be removed in a future version.\n",
      "Instructions for updating:\n",
      "Deprecated in favor of operator or tf.math.divide.\n"
     ]
    }
   ],
   "source": [
    "import innvestigate\n",
    "import innvestigate.utils as iutils\n",
    "\n",
    "def perform_analysis(model, analyzer, data, labels=[]):\n",
    "    analysis = analyzer.analyze(data)\n",
    "    prediction = model.predict(data)\n",
    "    \n",
    "    df_anal = pd.DataFrame(analysis)\n",
    "    \n",
    "    return df_anal\n",
    "\n",
    "\n",
    "# Stripping the softmax activation from the model\n",
    "# model_wo_sm = iutils.keras.graph.model_wo_softmax(model)\n",
    "\n",
    "# Creating an analyzer\n",
    "lrp_E = innvestigate.analyzer.relevance_based.relevance_analyzer.LRPEpsilon(model=model, epsilon=1e-3)\n",
    "lrp_Z = innvestigate.analyzer.relevance_based.relevance_analyzer.LRPZPlus(model=model)\n",
    "lrp_AB   = innvestigate.analyzer.relevance_based.relevance_analyzer.LRPAlpha2Beta1(model=model)\n",
    "\n",
    "# Getting all the samples that can be correctly predicted\n",
    "test_idx = correct\n",
    "all_samples = scaled_samples[test_idx]\n",
    "all_labels = y_valid_original[test_idx]\n",
    "\n",
    "\n",
    "# perform_analysis(nn,gradient_analyzer,flowers,types)\n",
    "all_lrp_AB = perform_analysis(model,lrp_AB, all_samples)\n",
    "all_lrp_E = perform_analysis(model,lrp_E, all_samples)\n",
    "all_lrp_Z = perform_analysis(model,lrp_Z, all_samples)\n"
   ]
  },
  {
   "cell_type": "code",
   "execution_count": 29,
   "metadata": {},
   "outputs": [
    {
     "data": {
      "application/vnd.jupyter.widget-view+json": {
       "model_id": "",
       "version_major": 2,
       "version_minor": 0
      },
      "text/plain": [
       "FigureCanvasNbAgg()"
      ]
     },
     "metadata": {},
     "output_type": "display_data"
    }
   ],
   "source": [
    "plt.close(\"LRP Analysis\")\n",
    "fig, axs = plt.subplots(2,2, figsize=(16,10), num=\"LRP Analysis\")\n",
    "_labels = all_labels\n",
    "# df = DataFrame(modded_samples)\n",
    "\n",
    "original_data.plot(ax=axs[0][0],kind=\"scatter\", x='x', y='y',c=\"label\", cmap= \"Paired\", title=\"Original Distribution\")\n",
    "all_lrp_E.plot(ax=axs[0][1],kind=\"scatter\", x=0, y=1, c=_labels, cmap=\"Paired\", s=20, alpha=0.75, title=\"LRP E\")\n",
    "\n",
    "all_lrp_AB.plot(ax=axs[1][0],kind=\"scatter\", x=0, y=1, c=_labels, cmap=\"Paired\", s=20, alpha=0.75, title=\"LRP AB\")\n",
    "all_lrp_Z.plot(ax=axs[1][1],kind=\"scatter\", x=0, y=1, c=_labels, cmap=\"Paired\", s=20, alpha=0.75, title=\"LRP Z\")\n",
    "\n",
    "plt.tight_layout()\n",
    "plt.show()"
   ]
  },
  {
   "cell_type": "code",
   "execution_count": 38,
   "metadata": {},
   "outputs": [
    {
     "data": {
      "application/vnd.jupyter.widget-view+json": {
       "model_id": "1ebd9ef4586344d5aa95224a5f5176a7",
       "version_major": 2,
       "version_minor": 0
      },
      "text/plain": [
       "FigureCanvasNbAgg()"
      ]
     },
     "metadata": {},
     "output_type": "display_data"
    }
   ],
   "source": [
    "all_lrp_E.plot(figsize=(16,10),kind=\"scatter\", x=0, y=1, c=_labels, cmap=\"Paired\", s=30, alpha=0.85, title=\"LRP E\")\n",
    "plt.savefig(figures_dir+\"8su_lrpE.png\")"
   ]
  },
  {
   "cell_type": "code",
   "execution_count": 39,
   "metadata": {},
   "outputs": [],
   "source": [
    "# plt.savefig(figures_dir+\"8su_lrpE_zoomed.png\")"
   ]
  }
 ],
 "metadata": {
  "kernelspec": {
   "display_name": "condaflow",
   "language": "python",
   "name": "condaflow"
  },
  "language_info": {
   "codemirror_mode": {
    "name": "ipython",
    "version": 3
   },
   "file_extension": ".py",
   "mimetype": "text/x-python",
   "name": "python",
   "nbconvert_exporter": "python",
   "pygments_lexer": "ipython3",
   "version": "3.6.8"
  }
 },
 "nbformat": 4,
 "nbformat_minor": 2
}
