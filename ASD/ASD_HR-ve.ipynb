{
 "cells": [
  {
   "cell_type": "code",
   "execution_count": 2,
   "metadata": {},
   "outputs": [],
   "source": [
    "# Magic line to force reload all modules when this cell is run multiple times\n",
    "%load_ext autoreload\n",
    "%autoreload 2\n",
    "\n",
    "import sys, os\n",
    "sys.path.insert(0, os.path.expanduser(\"~/Developer/interpretDL/Pipeline\"))"
   ]
  },
  {
   "cell_type": "code",
   "execution_count": 3,
   "metadata": {},
   "outputs": [
    {
     "data": {
      "text/html": [
       "        <script type=\"text/javascript\">\n",
       "        window.PlotlyConfig = {MathJaxConfig: 'local'};\n",
       "        if (window.MathJax) {MathJax.Hub.Config({SVG: {font: \"STIX-Web\"}});}\n",
       "        if (typeof require !== 'undefined') {\n",
       "        require.undef(\"plotly\");\n",
       "        requirejs.config({\n",
       "            paths: {\n",
       "                'plotly': ['https://cdn.plot.ly/plotly-latest.min']\n",
       "            }\n",
       "        });\n",
       "        require(['plotly'], function(Plotly) {\n",
       "            window._Plotly = Plotly;\n",
       "        });\n",
       "        }\n",
       "        </script>\n",
       "        "
      ]
     },
     "metadata": {},
     "output_type": "display_data"
    }
   ],
   "source": [
    "import plotly as py\n",
    "import plotly.graph_objs as go\n",
    "from plotly.offline import iplot\n",
    "from plotly.offline import plot\n",
    "import ipywidgets as widgets\n",
    "\n",
    "# %matplotlib widget\n",
    "py.offline.init_notebook_mode(connected=True)"
   ]
  },
  {
   "cell_type": "code",
   "execution_count": 135,
   "metadata": {},
   "outputs": [],
   "source": [
    "import numpy as np\n",
    "import pandas as pd\n",
    "import umap\n",
    "\n",
    "from datetime import datetime\n",
    "from ClusterPipeline import ClusterPipeline\n",
    "from helper import split_valid, plot_confusion_matrix, plot_history, plot_3d_lrp\n",
    "from sklearn.datasets import make_classification\n",
    "from sklearn.metrics import classification_report\n",
    "from sklearn.pipeline import Pipeline\n",
    "from sklearn.preprocessing import MinMaxScaler\n",
    "from sklearn.preprocessing import OrdinalEncoder\n",
    "\n",
    "RANDOM_STATE = 42\n",
    "np.random.seed(seed=RANDOM_STATE) "
   ]
  },
  {
   "cell_type": "code",
   "execution_count": 5,
   "metadata": {},
   "outputs": [],
   "source": [
    "import matplotlib.pyplot as plt\n",
    "\n",
    "def plot_history(history):\n",
    "    plt.close(\"History\")\n",
    "    fig, axs = plt.subplots(1, 2, figsize=(20,10),num=\"History\")\n",
    "\n",
    "    # Plot training & validation accuracy values\n",
    "    axs[0].grid(True)\n",
    "    axs[0].plot(history.history['acc'])\n",
    "    axs[0].plot(history.history['val_acc'])\n",
    "    axs[0].set(title='Model accuracy', ylabel='Accuracy', xlabel='Epoch')\n",
    "    axs[0].legend(['Train', 'Test'], loc='upper left')\n",
    "\n",
    "    # Plot training & validation loss values\n",
    "    axs[1].grid(True)\n",
    "    axs[1].plot(history.history['loss'])\n",
    "    axs[1].plot(history.history['val_loss'])\n",
    "    axs[1].set(title='Model loss',ylabel='Loss', xlabel='Epoch')\n",
    "    axs[1].legend(['Train', 'Test'], loc='upper left')\n",
    "\n",
    "    plt.show()"
   ]
  },
  {
   "cell_type": "code",
   "execution_count": 6,
   "metadata": {},
   "outputs": [
    {
     "data": {
      "text/html": [
       "<div>\n",
       "<style scoped>\n",
       "    .dataframe tbody tr th:only-of-type {\n",
       "        vertical-align: middle;\n",
       "    }\n",
       "\n",
       "    .dataframe tbody tr th {\n",
       "        vertical-align: top;\n",
       "    }\n",
       "\n",
       "    .dataframe thead th {\n",
       "        text-align: right;\n",
       "    }\n",
       "</style>\n",
       "<table border=\"1\" class=\"dataframe\">\n",
       "  <thead>\n",
       "    <tr style=\"text-align: right;\">\n",
       "      <th></th>\n",
       "      <th>ASD_DX_group</th>\n",
       "      <th>Risk</th>\n",
       "      <th>ROI01</th>\n",
       "      <th>ROI02</th>\n",
       "      <th>ROI03</th>\n",
       "      <th>ROI04</th>\n",
       "      <th>ROI05</th>\n",
       "      <th>ROI06</th>\n",
       "      <th>ROI07</th>\n",
       "      <th>ROI08</th>\n",
       "      <th>...</th>\n",
       "      <th>ROI324</th>\n",
       "      <th>ROI325</th>\n",
       "      <th>ROI326</th>\n",
       "      <th>ROI327</th>\n",
       "      <th>ROI328</th>\n",
       "      <th>ROI329</th>\n",
       "      <th>ROI330</th>\n",
       "      <th>ROI331</th>\n",
       "      <th>ROI332</th>\n",
       "      <th>ROI333</th>\n",
       "    </tr>\n",
       "    <tr>\n",
       "      <th>CandID</th>\n",
       "      <th></th>\n",
       "      <th></th>\n",
       "      <th></th>\n",
       "      <th></th>\n",
       "      <th></th>\n",
       "      <th></th>\n",
       "      <th></th>\n",
       "      <th></th>\n",
       "      <th></th>\n",
       "      <th></th>\n",
       "      <th></th>\n",
       "      <th></th>\n",
       "      <th></th>\n",
       "      <th></th>\n",
       "      <th></th>\n",
       "      <th></th>\n",
       "      <th></th>\n",
       "      <th></th>\n",
       "      <th></th>\n",
       "      <th></th>\n",
       "      <th></th>\n",
       "    </tr>\n",
       "  </thead>\n",
       "  <tbody>\n",
       "    <tr>\n",
       "      <th>103430</th>\n",
       "      <td>TYPICAL</td>\n",
       "      <td>HR</td>\n",
       "      <td>529.158386</td>\n",
       "      <td>298.568665</td>\n",
       "      <td>190.627472</td>\n",
       "      <td>134.555801</td>\n",
       "      <td>363.573608</td>\n",
       "      <td>646.810547</td>\n",
       "      <td>33.957870</td>\n",
       "      <td>172.629700</td>\n",
       "      <td>...</td>\n",
       "      <td>46.523426</td>\n",
       "      <td>88.635681</td>\n",
       "      <td>15.326110</td>\n",
       "      <td>268.573364</td>\n",
       "      <td>143.174347</td>\n",
       "      <td>1.515198</td>\n",
       "      <td>239.148468</td>\n",
       "      <td>20.107052</td>\n",
       "      <td>34.309757</td>\n",
       "      <td>10.180353</td>\n",
       "    </tr>\n",
       "    <tr>\n",
       "      <th>107524</th>\n",
       "      <td>ASD</td>\n",
       "      <td>HR</td>\n",
       "      <td>518.345703</td>\n",
       "      <td>311.013794</td>\n",
       "      <td>118.777634</td>\n",
       "      <td>198.685638</td>\n",
       "      <td>477.074524</td>\n",
       "      <td>405.450134</td>\n",
       "      <td>55.401951</td>\n",
       "      <td>126.927612</td>\n",
       "      <td>...</td>\n",
       "      <td>30.664413</td>\n",
       "      <td>76.203514</td>\n",
       "      <td>25.545485</td>\n",
       "      <td>188.544678</td>\n",
       "      <td>107.464104</td>\n",
       "      <td>1.381342</td>\n",
       "      <td>188.476715</td>\n",
       "      <td>17.961386</td>\n",
       "      <td>23.440365</td>\n",
       "      <td>14.530558</td>\n",
       "    </tr>\n",
       "    <tr>\n",
       "      <th>108372</th>\n",
       "      <td>TYPICAL</td>\n",
       "      <td>LR</td>\n",
       "      <td>443.658081</td>\n",
       "      <td>156.824844</td>\n",
       "      <td>157.223099</td>\n",
       "      <td>147.381149</td>\n",
       "      <td>492.784088</td>\n",
       "      <td>305.069519</td>\n",
       "      <td>61.638298</td>\n",
       "      <td>136.602600</td>\n",
       "      <td>...</td>\n",
       "      <td>35.009350</td>\n",
       "      <td>99.737000</td>\n",
       "      <td>23.199062</td>\n",
       "      <td>282.846497</td>\n",
       "      <td>29.161158</td>\n",
       "      <td>0.722310</td>\n",
       "      <td>200.596985</td>\n",
       "      <td>28.989164</td>\n",
       "      <td>32.400013</td>\n",
       "      <td>10.532928</td>\n",
       "    </tr>\n",
       "    <tr>\n",
       "      <th>113320</th>\n",
       "      <td>TYPICAL</td>\n",
       "      <td>LR</td>\n",
       "      <td>529.817078</td>\n",
       "      <td>301.160583</td>\n",
       "      <td>129.092483</td>\n",
       "      <td>151.090851</td>\n",
       "      <td>395.564331</td>\n",
       "      <td>597.880981</td>\n",
       "      <td>32.048248</td>\n",
       "      <td>163.701218</td>\n",
       "      <td>...</td>\n",
       "      <td>40.359753</td>\n",
       "      <td>111.341911</td>\n",
       "      <td>15.794782</td>\n",
       "      <td>214.678467</td>\n",
       "      <td>75.857338</td>\n",
       "      <td>1.767594</td>\n",
       "      <td>179.606552</td>\n",
       "      <td>16.667351</td>\n",
       "      <td>44.315159</td>\n",
       "      <td>12.016207</td>\n",
       "    </tr>\n",
       "    <tr>\n",
       "      <th>114640</th>\n",
       "      <td>TYPICAL</td>\n",
       "      <td>LR</td>\n",
       "      <td>689.399170</td>\n",
       "      <td>303.337524</td>\n",
       "      <td>154.169434</td>\n",
       "      <td>98.182709</td>\n",
       "      <td>592.248962</td>\n",
       "      <td>364.648315</td>\n",
       "      <td>10.539658</td>\n",
       "      <td>142.580795</td>\n",
       "      <td>...</td>\n",
       "      <td>49.686398</td>\n",
       "      <td>134.082794</td>\n",
       "      <td>18.534616</td>\n",
       "      <td>217.291306</td>\n",
       "      <td>36.213020</td>\n",
       "      <td>1.580427</td>\n",
       "      <td>181.796356</td>\n",
       "      <td>22.934441</td>\n",
       "      <td>63.739361</td>\n",
       "      <td>10.897783</td>\n",
       "    </tr>\n",
       "  </tbody>\n",
       "</table>\n",
       "<p>5 rows × 335 columns</p>\n",
       "</div>"
      ],
      "text/plain": [
       "       ASD_DX_group Risk       ROI01       ROI02       ROI03       ROI04  \\\n",
       "CandID                                                                     \n",
       "103430      TYPICAL   HR  529.158386  298.568665  190.627472  134.555801   \n",
       "107524          ASD   HR  518.345703  311.013794  118.777634  198.685638   \n",
       "108372      TYPICAL   LR  443.658081  156.824844  157.223099  147.381149   \n",
       "113320      TYPICAL   LR  529.817078  301.160583  129.092483  151.090851   \n",
       "114640      TYPICAL   LR  689.399170  303.337524  154.169434   98.182709   \n",
       "\n",
       "             ROI05       ROI06      ROI07       ROI08  ...     ROI324  \\\n",
       "CandID                                                 ...              \n",
       "103430  363.573608  646.810547  33.957870  172.629700  ...  46.523426   \n",
       "107524  477.074524  405.450134  55.401951  126.927612  ...  30.664413   \n",
       "108372  492.784088  305.069519  61.638298  136.602600  ...  35.009350   \n",
       "113320  395.564331  597.880981  32.048248  163.701218  ...  40.359753   \n",
       "114640  592.248962  364.648315  10.539658  142.580795  ...  49.686398   \n",
       "\n",
       "            ROI325     ROI326      ROI327      ROI328    ROI329      ROI330  \\\n",
       "CandID                                                                        \n",
       "103430   88.635681  15.326110  268.573364  143.174347  1.515198  239.148468   \n",
       "107524   76.203514  25.545485  188.544678  107.464104  1.381342  188.476715   \n",
       "108372   99.737000  23.199062  282.846497   29.161158  0.722310  200.596985   \n",
       "113320  111.341911  15.794782  214.678467   75.857338  1.767594  179.606552   \n",
       "114640  134.082794  18.534616  217.291306   36.213020  1.580427  181.796356   \n",
       "\n",
       "           ROI331     ROI332     ROI333  \n",
       "CandID                                   \n",
       "103430  20.107052  34.309757  10.180353  \n",
       "107524  17.961386  23.440365  14.530558  \n",
       "108372  28.989164  32.400013  10.532928  \n",
       "113320  16.667351  44.315159  12.016207  \n",
       "114640  22.934441  63.739361  10.897783  \n",
       "\n",
       "[5 rows x 335 columns]"
      ]
     },
     "execution_count": 6,
     "metadata": {},
     "output_type": "execute_result"
    }
   ],
   "source": [
    "fname = \"data/cleaned_SA.csv\"\n",
    "raw_data = pd.read_csv(fname, index_col=0)\n",
    "raw_data.head()"
   ]
  },
  {
   "cell_type": "code",
   "execution_count": 7,
   "metadata": {},
   "outputs": [
    {
     "data": {
      "text/plain": [
       "(325, 335)"
      ]
     },
     "execution_count": 7,
     "metadata": {},
     "output_type": "execute_result"
    }
   ],
   "source": [
    "raw_data.shape"
   ]
  },
  {
   "cell_type": "code",
   "execution_count": 8,
   "metadata": {},
   "outputs": [],
   "source": [
    "label_cols = [\"ASD_DX_group\", \"Risk\"]\n",
    "noisy_cols = []\n",
    "\n",
    "features = raw_data.drop(columns=noisy_cols+label_cols)\n",
    "labels = raw_data[label_cols].copy()"
   ]
  },
  {
   "cell_type": "code",
   "execution_count": 9,
   "metadata": {},
   "outputs": [
    {
     "data": {
      "text/plain": [
       "TYPICAL            149\n",
       "ASD                 39\n",
       "ATYPICAL_ADOS       17\n",
       "ATYPICAL_MULLEN      9\n",
       "Name: ASD_DX_group, dtype: int64"
      ]
     },
     "execution_count": 9,
     "metadata": {},
     "output_type": "execute_result"
    }
   ],
   "source": [
    "labels[\"ASD_DX_group\"][labels[\"Risk\"]==\"HR\"].value_counts()"
   ]
  },
  {
   "cell_type": "code",
   "execution_count": 10,
   "metadata": {},
   "outputs": [],
   "source": [
    "LR = labels[\"Risk\"]==\"LR\"\n",
    "HR = labels[\"Risk\"]==\"HR\"\n",
    "typical = labels[\"ASD_DX_group\"]==\"TYPICAL\"\n",
    "ASD = labels[\"ASD_DX_group\"]==\"ASD\""
   ]
  },
  {
   "cell_type": "code",
   "execution_count": 11,
   "metadata": {},
   "outputs": [],
   "source": [
    "HR_typical = labels[HR & typical]\n",
    "HR_ASD = labels[HR & ASD]"
   ]
  },
  {
   "cell_type": "code",
   "execution_count": 12,
   "metadata": {},
   "outputs": [
    {
     "data": {
      "text/plain": [
       "TYPICAL    149\n",
       "ASD         39\n",
       "Name: ASD_DX_group, dtype: int64"
      ]
     },
     "execution_count": 12,
     "metadata": {},
     "output_type": "execute_result"
    }
   ],
   "source": [
    "analysis_labels = pd.concat((HR_typical, HR_ASD))\n",
    "analysis_labels[\"ASD_DX_group\"].value_counts()"
   ]
  },
  {
   "cell_type": "code",
   "execution_count": 13,
   "metadata": {},
   "outputs": [
    {
     "data": {
      "text/plain": [
       "[array(['ASD', 'TYPICAL'], dtype=object), array(['HR'], dtype=object)]"
      ]
     },
     "execution_count": 13,
     "metadata": {},
     "output_type": "execute_result"
    }
   ],
   "source": [
    "enc = OrdinalEncoder()\n",
    "enc.fit(analysis_labels)\n",
    "enc_labels = enc.transform(analysis_labels)\n",
    "enc.categories_"
   ]
  },
  {
   "cell_type": "code",
   "execution_count": 14,
   "metadata": {},
   "outputs": [
    {
     "name": "stdout",
     "output_type": "stream",
     "text": [
      "(131, 333)\n"
     ]
    },
    {
     "data": {
      "text/plain": [
       "1    104\n",
       "0     27\n",
       "dtype: int64"
      ]
     },
     "execution_count": 14,
     "metadata": {},
     "output_type": "execute_result"
    }
   ],
   "source": [
    "risk_labels = pd.Series(enc_labels[:,0], dtype=int, index=analysis_labels.index)\n",
    "data = features.loc[analysis_labels.index].copy()\n",
    "\n",
    "# Separating a hold out set that will be used for validation of the pipeline\n",
    "train_data, train_labels, test_data, test_labels = split_valid(data, risk_labels, valid_size=0.3)\n",
    "\n",
    "print(train_data.shape)\n",
    "train_labels.value_counts()"
   ]
  },
  {
   "cell_type": "code",
   "execution_count": 15,
   "metadata": {},
   "outputs": [],
   "source": [
    "from sklearn.preprocessing import StandardScaler\n",
    "from sklearn.utils.class_weight import compute_class_weight\n",
    "import tensorflow as tf\n",
    "from tensorflow.keras.callbacks import TensorBoard\n",
    "\n",
    "ZScaler = StandardScaler().fit(train_data)\n",
    "X_train = ZScaler.transform(train_data)\n",
    "X_valid = ZScaler.transform(test_data)\n",
    "\n",
    "y_train = train_labels.values.reshape(-1,1)\n",
    "y_valid = test_labels.values.reshape(-1,1)\n",
    "\n",
    "class_weight = compute_class_weight(\"balanced\", np.unique(train_labels), train_labels)"
   ]
  },
  {
   "cell_type": "code",
   "execution_count": 16,
   "metadata": {},
   "outputs": [],
   "source": [
    "def build_dnn(num_features, num_labels, activation=\"elu\"):\n",
    "    \n",
    "    import tensorflow as tf\n",
    "    import keras\n",
    "    from keras import optimizers\n",
    "    from keras import regularizers\n",
    "    from keras.constraints import max_norm\n",
    "    keras.backend.clear_session()\n",
    "    \n",
    "#     tf.random.set_random_seed(RANDOM_STATE)\n",
    "    reg_scale = 0.01 # For L1 Reg\n",
    "#     my_reg = regularizers.l2(reg_scale) # Can change this if needed\n",
    "    \n",
    "    dnn = keras.models.Sequential()\n",
    "\n",
    "    Dense = keras.layers.Dense\n",
    "    \n",
    "    # Using He initialization\n",
    "    he_init = keras.initializers.he_normal()\n",
    "\n",
    "    dnn.add(Dense(units = 256, activation=activation, input_dim = num_features,\n",
    "                  kernel_initializer=he_init,  kernel_constraint=max_norm(4)))\n",
    "    dnn.add(keras.layers.Dropout(0.2)),\n",
    "    dnn.add(Dense(units = 50, activation=activation,\n",
    "                  kernel_initializer=he_init,  kernel_constraint=max_norm(4)))\n",
    "    dnn.add(keras.layers.Dropout(0.2))\n",
    "    \n",
    "    dnn.add(Dense(units=num_labels, activation=\"sigmoid\",\n",
    "                  kernel_initializer=he_init,  kernel_constraint=max_norm(4))) # 5 labels -> logits for now\n",
    "    \n",
    "    SGD=keras.optimizers.SGD(lr=0.001)\n",
    "#     NSGD = keras.optimizers.SGD(lr=0.001,momentum=0.9,nesterov=True)\n",
    "    \n",
    "    dnn.compile(loss='binary_crossentropy',\n",
    "                  optimizer=SGD,\n",
    "                  metrics=['accuracy']) #Internally it seems to be same as binary accuracy\n",
    "    \n",
    "    return dnn"
   ]
  },
  {
   "cell_type": "code",
   "execution_count": 47,
   "metadata": {},
   "outputs": [],
   "source": [
    "time = datetime.now().strftime(\"%Y%m%d-%H%M%S\")\n",
    "tensorboard = TensorBoard(log_dir='./logs/{}_ASDvHR_relu_10_SGD'.format(time),\n",
    "                          update_freq=\"epoch\", write_graph=False)"
   ]
  },
  {
   "cell_type": "code",
   "execution_count": 48,
   "metadata": {},
   "outputs": [
    {
     "name": "stdout",
     "output_type": "stream",
     "text": [
      "CPU times: user 18.6 s, sys: 4.42 s, total: 23 s\n",
      "Wall time: 9.7 s\n"
     ]
    }
   ],
   "source": [
    "%%time\n",
    "dnn = build_dnn(num_features=data.shape[1], num_labels=1, activation=\"relu\")\n",
    "history = dnn.fit(X_train, y_train, validation_data=(X_valid,y_valid),class_weight=class_weight,\n",
    "                  epochs=500, batch_size=10, verbose=0, callbacks=[tensorboard])"
   ]
  },
  {
   "cell_type": "code",
   "execution_count": 49,
   "metadata": {},
   "outputs": [
    {
     "data": {
      "image/png": "[encoded data removed]",
      "text/plain": [
       "<Figure size 1440x720 with 2 Axes>"
      ]
     },
     "metadata": {
      "needs_background": "light"
     },
     "output_type": "display_data"
    },
    {
     "name": "stdout",
     "output_type": "stream",
     "text": [
      "57/57 [==============================] - 0s 33us/step\n",
      "Loss:1.862, Acc:0.7719\n"
     ]
    }
   ],
   "source": [
    "plot_history(history)\n",
    "print(\"Loss:{:0.3f}, Acc:{:.4f}\".format(*dnn.evaluate(X_valid,y_valid)))"
   ]
  },
  {
   "cell_type": "code",
   "execution_count": 50,
   "metadata": {},
   "outputs": [
    {
     "name": "stdout",
     "output_type": "stream",
     "text": [
      "Confusion matrix, without normalization\n",
      "[[0.         1.        ]\n",
      " [0.02222222 0.97777778]]\n",
      "Overall Accuracy: 0.7719\n"
     ]
    },
    {
     "data": {
      "text/plain": [
       "(<matplotlib.axes._subplots.AxesSubplot at 0x1a38878a90>, array([[ 0, 12],\n",
       "        [ 1, 44]]))"
      ]
     },
     "execution_count": 50,
     "metadata": {},
     "output_type": "execute_result"
    },
    {
     "data": {
      "image/png": "[encoded data removed]",
      "text/plain": [
       "<Figure size 576x576 with 2 Axes>"
      ]
     },
     "metadata": {
      "needs_background": "light"
     },
     "output_type": "display_data"
    }
   ],
   "source": [
    "y_pred = np.round(np.ravel(dnn.predict(X_valid)))\n",
    "plot_confusion_matrix(np.ravel(y_valid), y_pred, enc.categories_[0])"
   ]
  },
  {
   "cell_type": "code",
   "execution_count": 51,
   "metadata": {},
   "outputs": [
    {
     "data": {
      "text/plain": [
       "0.0"
      ]
     },
     "execution_count": 51,
     "metadata": {},
     "output_type": "execute_result"
    }
   ],
   "source": [
    "from sklearn.metrics import precision_score, make_scorer\n",
    "prec_scorer = make_scorer(precision_score, pos_label=0)\n",
    "\n",
    "precision_score(y_true=np.ravel(y_valid), y_pred=y_pred, pos_label=0)"
   ]
  },
  {
   "cell_type": "markdown",
   "metadata": {},
   "source": [
    "## Calculate LRP"
   ]
  },
  {
   "cell_type": "code",
   "execution_count": 30,
   "metadata": {},
   "outputs": [
    {
     "data": {
      "text/html": [
       "<div>\n",
       "<style scoped>\n",
       "    .dataframe tbody tr th:only-of-type {\n",
       "        vertical-align: middle;\n",
       "    }\n",
       "\n",
       "    .dataframe tbody tr th {\n",
       "        vertical-align: top;\n",
       "    }\n",
       "\n",
       "    .dataframe thead th {\n",
       "        text-align: right;\n",
       "    }\n",
       "</style>\n",
       "<table border=\"1\" class=\"dataframe\">\n",
       "  <thead>\n",
       "    <tr style=\"text-align: right;\">\n",
       "      <th></th>\n",
       "      <th>ASD_DX_group</th>\n",
       "      <th>Risk</th>\n",
       "      <th>DNN Pred</th>\n",
       "    </tr>\n",
       "    <tr>\n",
       "      <th>CandID</th>\n",
       "      <th></th>\n",
       "      <th></th>\n",
       "      <th></th>\n",
       "    </tr>\n",
       "  </thead>\n",
       "  <tbody>\n",
       "    <tr>\n",
       "      <th>526558</th>\n",
       "      <td>ASD</td>\n",
       "      <td>HR</td>\n",
       "      <td>1.0</td>\n",
       "    </tr>\n",
       "    <tr>\n",
       "      <th>950194</th>\n",
       "      <td>ASD</td>\n",
       "      <td>HR</td>\n",
       "      <td>1.0</td>\n",
       "    </tr>\n",
       "    <tr>\n",
       "      <th>321541</th>\n",
       "      <td>ASD</td>\n",
       "      <td>HR</td>\n",
       "      <td>0.0</td>\n",
       "    </tr>\n",
       "    <tr>\n",
       "      <th>857317</th>\n",
       "      <td>ASD</td>\n",
       "      <td>HR</td>\n",
       "      <td>0.0</td>\n",
       "    </tr>\n",
       "    <tr>\n",
       "      <th>751794</th>\n",
       "      <td>ASD</td>\n",
       "      <td>HR</td>\n",
       "      <td>1.0</td>\n",
       "    </tr>\n",
       "    <tr>\n",
       "      <th>677040</th>\n",
       "      <td>ATYPICAL_MULLEN</td>\n",
       "      <td>HR</td>\n",
       "      <td>0.0</td>\n",
       "    </tr>\n",
       "    <tr>\n",
       "      <th>402809</th>\n",
       "      <td>ASD</td>\n",
       "      <td>HR</td>\n",
       "      <td>0.0</td>\n",
       "    </tr>\n",
       "    <tr>\n",
       "      <th>389521</th>\n",
       "      <td>ASD</td>\n",
       "      <td>HR</td>\n",
       "      <td>0.0</td>\n",
       "    </tr>\n",
       "    <tr>\n",
       "      <th>456823</th>\n",
       "      <td>ASD</td>\n",
       "      <td>HR</td>\n",
       "      <td>0.0</td>\n",
       "    </tr>\n",
       "    <tr>\n",
       "      <th>447346</th>\n",
       "      <td>ATYPICAL_MULLEN</td>\n",
       "      <td>HR</td>\n",
       "      <td>0.0</td>\n",
       "    </tr>\n",
       "    <tr>\n",
       "      <th>175448</th>\n",
       "      <td>ASD</td>\n",
       "      <td>HR</td>\n",
       "      <td>1.0</td>\n",
       "    </tr>\n",
       "    <tr>\n",
       "      <th>919979</th>\n",
       "      <td>ASD</td>\n",
       "      <td>HR</td>\n",
       "      <td>0.0</td>\n",
       "    </tr>\n",
       "    <tr>\n",
       "      <th>214769</th>\n",
       "      <td>ATYPICAL_ADOS</td>\n",
       "      <td>HR</td>\n",
       "      <td>1.0</td>\n",
       "    </tr>\n",
       "  </tbody>\n",
       "</table>\n",
       "</div>"
      ],
      "text/plain": [
       "           ASD_DX_group Risk  DNN Pred\n",
       "CandID                                \n",
       "526558              ASD   HR       1.0\n",
       "950194              ASD   HR       1.0\n",
       "321541              ASD   HR       0.0\n",
       "857317              ASD   HR       0.0\n",
       "751794              ASD   HR       1.0\n",
       "677040  ATYPICAL_MULLEN   HR       0.0\n",
       "402809              ASD   HR       0.0\n",
       "389521              ASD   HR       0.0\n",
       "456823              ASD   HR       0.0\n",
       "447346  ATYPICAL_MULLEN   HR       0.0\n",
       "175448              ASD   HR       1.0\n",
       "919979              ASD   HR       0.0\n",
       "214769    ATYPICAL_ADOS   HR       1.0"
      ]
     },
     "execution_count": 30,
     "metadata": {},
     "output_type": "execute_result"
    }
   ],
   "source": [
    "val_samples = analysis_labels.loc[test_labels.index]\n",
    "val_samples[\"DNN Pred\"] = y_pred\n",
    "val_samples[val_samples[\"Risk\"]==\"HR\"]"
   ]
  },
  {
   "cell_type": "code",
   "execution_count": 31,
   "metadata": {},
   "outputs": [],
   "source": [
    "_correct = np.logical_and(y_pred == np.ravel(y_valid) , (val_samples[\"Risk\"]==\"HR\").values)\n",
    "_labels = val_samples[_correct][\"ASD_DX_group\"].values"
   ]
  },
  {
   "cell_type": "code",
   "execution_count": 32,
   "metadata": {},
   "outputs": [],
   "source": [
    "correct_HR_samples = X_valid[np.logical_and(y_pred == np.ravel(y_valid) , (val_samples[\"Risk\"]==\"HR\").values)]"
   ]
  },
  {
   "cell_type": "code",
   "execution_count": 41,
   "metadata": {},
   "outputs": [
    {
     "name": "stdout",
     "output_type": "stream",
     "text": [
      "Epoch 1/1\n",
      "7/7 [==============================] - 0s 35ms/step - loss: 3.1500 - broadcast_4_loss: 1.0000 - broadcast_5_loss: 1.0000 - broadcast_6_loss: 1.0000\n"
     ]
    }
   ],
   "source": [
    "import innvestigate\n",
    "import innvestigate.utils as iutils\n",
    "\n",
    "analyzer_type = \"pattern.attribution\"\n",
    "analyzer_kwargs = {\n",
    "    \"pattern.attribution\":\n",
    "        {\"pattern_type\":\"relu\"},\n",
    "    \"lrp.epsilon\":\n",
    "        {\"epsilon\":1e-3}\n",
    " }\n",
    "\n",
    "model_wo_softmax = dnn\n",
    "# model_wo_softmax = iutils.keras.graph.model_wo_softmax(dnn)\n",
    "\n",
    "analyzer = innvestigate.create_analyzer(analyzer_type, model_wo_softmax,\n",
    "                                        **analyzer_kwargs[analyzer_type])\n",
    "analyzer.fit(X_train, batch_size=20, verbose=1, disable_no_training_warning=True)"
   ]
  },
  {
   "cell_type": "code",
   "execution_count": 38,
   "metadata": {},
   "outputs": [
    {
     "data": {
      "text/plain": [
       "(8, 333)"
      ]
     },
     "execution_count": 38,
     "metadata": {},
     "output_type": "execute_result"
    }
   ],
   "source": [
    "lrp = analyzer.analyze(correct_HR_samples)\n",
    "# pd.DataFrame(relevance_results)\n",
    "lrp.shape"
   ]
  },
  {
   "cell_type": "code",
   "execution_count": 39,
   "metadata": {},
   "outputs": [
    {
     "data": {
      "text/html": [
       "        <script type=\"text/javascript\">\n",
       "        window.PlotlyConfig = {MathJaxConfig: 'local'};\n",
       "        if (window.MathJax) {MathJax.Hub.Config({SVG: {font: \"STIX-Web\"}});}\n",
       "        if (typeof require !== 'undefined') {\n",
       "        require.undef(\"plotly\");\n",
       "        requirejs.config({\n",
       "            paths: {\n",
       "                'plotly': ['https://cdn.plot.ly/plotly-latest.min']\n",
       "            }\n",
       "        });\n",
       "        require(['plotly'], function(Plotly) {\n",
       "            window._Plotly = Plotly;\n",
       "        });\n",
       "        }\n",
       "        </script>\n",
       "        "
      ]
     },
     "metadata": {},
     "output_type": "display_data"
    },
    {
     "data": {
      "application/vnd.plotly.v1+json": {
       "config": {
        "linkText": "Export to plot.ly",
        "plotlyServerURL": "https://plot.ly",
        "showLink": false
       },
       "data": [
        {
         "marker": {
          "color": [
           0,
           0,
           2,
           0,
           0,
           0,
           2,
           0
          ],
          "colorscale": [
           [
            0,
            "rgb(150,0,90)"
           ],
           [
            0.125,
            "rgb(0,0,200)"
           ],
           [
            0.25,
            "rgb(0,25,255)"
           ],
           [
            0.375,
            "rgb(0,152,255)"
           ],
           [
            0.5,
            "rgb(44,255,150)"
           ],
           [
            0.625,
            "rgb(151,255,0)"
           ],
           [
            0.75,
            "rgb(255,234,0)"
           ],
           [
            0.875,
            "rgb(255,111,0)"
           ],
           [
            1,
            "rgb(255,0,0)"
           ]
          ],
          "opacity": 0.8,
          "showscale": true,
          "size": 5
         },
         "mode": "markers",
         "name": "Training",
         "text": [
          "ASD",
          "ASD",
          "ATYPICAL_MULLEN",
          "ASD",
          "ASD",
          "ASD",
          "ATYPICAL_MULLEN",
          "ASD"
         ],
         "type": "scatter3d",
         "x": [
          0.4202721118927002,
          1,
          0.9810347557067871,
          0.10880136489868164,
          0.23725438117980957,
          0,
          0.40837645530700684,
          0.7479770183563232
         ],
         "y": [
          0.996589183807373,
          0.6631369590759277,
          0.567023754119873,
          0.11728763580322266,
          0.9999995231628418,
          0.027087688446044922,
          0.3808894157409668,
          0
         ],
         "z": [
          0.913691520690918,
          0.3159189224243164,
          1,
          0.7576065063476562,
          0.26267337799072266,
          0.11992454528808594,
          0,
          0.8934488296508789
         ]
        }
       ],
       "layout": {
        "autosize": false,
        "height": 1000,
        "paper_bgcolor": "#F5F5F5",
        "scene": {
         "aspectmode": "auto",
         "aspectratio": {
          "x": 1.0000001589457699,
          "y": 0.9999996821085358,
          "z": 1.0000001589457699
         },
         "camera": {
          "center": {
           "x": 0,
           "y": 0,
           "z": 0
          },
          "eye": {
           "x": 2.251580578023723,
           "y": -5.482629229059446,
           "z": 1.3209289015648635
          },
          "projection": {
           "type": "perspective"
          },
          "up": {
           "x": 0.0025216309250769573,
           "y": 0.0010346766599668435,
           "z": 0.9999962854039445
          }
         }
        },
        "template": {
         "data": {
          "bar": [
           {
            "error_x": {
             "color": "#2a3f5f"
            },
            "error_y": {
             "color": "#2a3f5f"
            },
            "marker": {
             "line": {
              "color": "#E5ECF6",
              "width": 0.5
             }
            },
            "type": "bar"
           }
          ],
          "barpolar": [
           {
            "marker": {
             "line": {
              "color": "#E5ECF6",
              "width": 0.5
             }
            },
            "type": "barpolar"
           }
          ],
          "carpet": [
           {
            "aaxis": {
             "endlinecolor": "#2a3f5f",
             "gridcolor": "white",
             "linecolor": "white",
             "minorgridcolor": "white",
             "startlinecolor": "#2a3f5f"
            },
            "baxis": {
             "endlinecolor": "#2a3f5f",
             "gridcolor": "white",
             "linecolor": "white",
             "minorgridcolor": "white",
             "startlinecolor": "#2a3f5f"
            },
            "type": "carpet"
           }
          ],
          "choropleth": [
           {
            "colorbar": {
             "outlinewidth": 0,
             "ticks": ""
            },
            "type": "choropleth"
           }
          ],
          "contour": [
           {
            "colorbar": {
             "outlinewidth": 0,
             "ticks": ""
            },
            "colorscale": [
             [
              0,
              "#0d0887"
             ],
             [
              0.1111111111111111,
              "#46039f"
             ],
             [
              0.2222222222222222,
              "#7201a8"
             ],
             [
              0.3333333333333333,
              "#9c179e"
             ],
             [
              0.4444444444444444,
              "#bd3786"
             ],
             [
              0.5555555555555556,
              "#d8576b"
             ],
             [
              0.6666666666666666,
              "#ed7953"
             ],
             [
              0.7777777777777778,
              "#fb9f3a"
             ],
             [
              0.8888888888888888,
              "#fdca26"
             ],
             [
              1,
              "#f0f921"
             ]
            ],
            "type": "contour"
           }
          ],
          "contourcarpet": [
           {
            "colorbar": {
             "outlinewidth": 0,
             "ticks": ""
            },
            "type": "contourcarpet"
           }
          ],
          "heatmap": [
           {
            "colorbar": {
             "outlinewidth": 0,
             "ticks": ""
            },
            "colorscale": [
             [
              0,
              "#0d0887"
             ],
             [
              0.1111111111111111,
              "#46039f"
             ],
             [
              0.2222222222222222,
              "#7201a8"
             ],
             [
              0.3333333333333333,
              "#9c179e"
             ],
             [
              0.4444444444444444,
              "#bd3786"
             ],
             [
              0.5555555555555556,
              "#d8576b"
             ],
             [
              0.6666666666666666,
              "#ed7953"
             ],
             [
              0.7777777777777778,
              "#fb9f3a"
             ],
             [
              0.8888888888888888,
              "#fdca26"
             ],
             [
              1,
              "#f0f921"
             ]
            ],
            "type": "heatmap"
           }
          ],
          "heatmapgl": [
           {
            "colorbar": {
             "outlinewidth": 0,
             "ticks": ""
            },
            "colorscale": [
             [
              0,
              "#0d0887"
             ],
             [
              0.1111111111111111,
              "#46039f"
             ],
             [
              0.2222222222222222,
              "#7201a8"
             ],
             [
              0.3333333333333333,
              "#9c179e"
             ],
             [
              0.4444444444444444,
              "#bd3786"
             ],
             [
              0.5555555555555556,
              "#d8576b"
             ],
             [
              0.6666666666666666,
              "#ed7953"
             ],
             [
              0.7777777777777778,
              "#fb9f3a"
             ],
             [
              0.8888888888888888,
              "#fdca26"
             ],
             [
              1,
              "#f0f921"
             ]
            ],
            "type": "heatmapgl"
           }
          ],
          "histogram": [
           {
            "marker": {
             "colorbar": {
              "outlinewidth": 0,
              "ticks": ""
             }
            },
            "type": "histogram"
           }
          ],
          "histogram2d": [
           {
            "colorbar": {
             "outlinewidth": 0,
             "ticks": ""
            },
            "colorscale": [
             [
              0,
              "#0d0887"
             ],
             [
              0.1111111111111111,
              "#46039f"
             ],
             [
              0.2222222222222222,
              "#7201a8"
             ],
             [
              0.3333333333333333,
              "#9c179e"
             ],
             [
              0.4444444444444444,
              "#bd3786"
             ],
             [
              0.5555555555555556,
              "#d8576b"
             ],
             [
              0.6666666666666666,
              "#ed7953"
             ],
             [
              0.7777777777777778,
              "#fb9f3a"
             ],
             [
              0.8888888888888888,
              "#fdca26"
             ],
             [
              1,
              "#f0f921"
             ]
            ],
            "type": "histogram2d"
           }
          ],
          "histogram2dcontour": [
           {
            "colorbar": {
             "outlinewidth": 0,
             "ticks": ""
            },
            "colorscale": [
             [
              0,
              "#0d0887"
             ],
             [
              0.1111111111111111,
              "#46039f"
             ],
             [
              0.2222222222222222,
              "#7201a8"
             ],
             [
              0.3333333333333333,
              "#9c179e"
             ],
             [
              0.4444444444444444,
              "#bd3786"
             ],
             [
              0.5555555555555556,
              "#d8576b"
             ],
             [
              0.6666666666666666,
              "#ed7953"
             ],
             [
              0.7777777777777778,
              "#fb9f3a"
             ],
             [
              0.8888888888888888,
              "#fdca26"
             ],
             [
              1,
              "#f0f921"
             ]
            ],
            "type": "histogram2dcontour"
           }
          ],
          "mesh3d": [
           {
            "colorbar": {
             "outlinewidth": 0,
             "ticks": ""
            },
            "type": "mesh3d"
           }
          ],
          "parcoords": [
           {
            "line": {
             "colorbar": {
              "outlinewidth": 0,
              "ticks": ""
             }
            },
            "type": "parcoords"
           }
          ],
          "scatter": [
           {
            "marker": {
             "colorbar": {
              "outlinewidth": 0,
              "ticks": ""
             }
            },
            "type": "scatter"
           }
          ],
          "scatter3d": [
           {
            "line": {
             "colorbar": {
              "outlinewidth": 0,
              "ticks": ""
             }
            },
            "marker": {
             "colorbar": {
              "outlinewidth": 0,
              "ticks": ""
             }
            },
            "type": "scatter3d"
           }
          ],
          "scattercarpet": [
           {
            "marker": {
             "colorbar": {
              "outlinewidth": 0,
              "ticks": ""
             }
            },
            "type": "scattercarpet"
           }
          ],
          "scattergeo": [
           {
            "marker": {
             "colorbar": {
              "outlinewidth": 0,
              "ticks": ""
             }
            },
            "type": "scattergeo"
           }
          ],
          "scattergl": [
           {
            "marker": {
             "colorbar": {
              "outlinewidth": 0,
              "ticks": ""
             }
            },
            "type": "scattergl"
           }
          ],
          "scattermapbox": [
           {
            "marker": {
             "colorbar": {
              "outlinewidth": 0,
              "ticks": ""
             }
            },
            "type": "scattermapbox"
           }
          ],
          "scatterpolar": [
           {
            "marker": {
             "colorbar": {
              "outlinewidth": 0,
              "ticks": ""
             }
            },
            "type": "scatterpolar"
           }
          ],
          "scatterpolargl": [
           {
            "marker": {
             "colorbar": {
              "outlinewidth": 0,
              "ticks": ""
             }
            },
            "type": "scatterpolargl"
           }
          ],
          "scatterternary": [
           {
            "marker": {
             "colorbar": {
              "outlinewidth": 0,
              "ticks": ""
             }
            },
            "type": "scatterternary"
           }
          ],
          "surface": [
           {
            "colorbar": {
             "outlinewidth": 0,
             "ticks": ""
            },
            "colorscale": [
             [
              0,
              "#0d0887"
             ],
             [
              0.1111111111111111,
              "#46039f"
             ],
             [
              0.2222222222222222,
              "#7201a8"
             ],
             [
              0.3333333333333333,
              "#9c179e"
             ],
             [
              0.4444444444444444,
              "#bd3786"
             ],
             [
              0.5555555555555556,
              "#d8576b"
             ],
             [
              0.6666666666666666,
              "#ed7953"
             ],
             [
              0.7777777777777778,
              "#fb9f3a"
             ],
             [
              0.8888888888888888,
              "#fdca26"
             ],
             [
              1,
              "#f0f921"
             ]
            ],
            "type": "surface"
           }
          ],
          "table": [
           {
            "cells": {
             "fill": {
              "color": "#EBF0F8"
             },
             "line": {
              "color": "white"
             }
            },
            "header": {
             "fill": {
              "color": "#C8D4E3"
             },
             "line": {
              "color": "white"
             }
            },
            "type": "table"
           }
          ]
         },
         "layout": {
          "annotationdefaults": {
           "arrowcolor": "#2a3f5f",
           "arrowhead": 0,
           "arrowwidth": 1
          },
          "colorscale": {
           "diverging": [
            [
             0,
             "#8e0152"
            ],
            [
             0.1,
             "#c51b7d"
            ],
            [
             0.2,
             "#de77ae"
            ],
            [
             0.3,
             "#f1b6da"
            ],
            [
             0.4,
             "#fde0ef"
            ],
            [
             0.5,
             "#f7f7f7"
            ],
            [
             0.6,
             "#e6f5d0"
            ],
            [
             0.7,
             "#b8e186"
            ],
            [
             0.8,
             "#7fbc41"
            ],
            [
             0.9,
             "#4d9221"
            ],
            [
             1,
             "#276419"
            ]
           ],
           "sequential": [
            [
             0,
             "#0d0887"
            ],
            [
             0.1111111111111111,
             "#46039f"
            ],
            [
             0.2222222222222222,
             "#7201a8"
            ],
            [
             0.3333333333333333,
             "#9c179e"
            ],
            [
             0.4444444444444444,
             "#bd3786"
            ],
            [
             0.5555555555555556,
             "#d8576b"
            ],
            [
             0.6666666666666666,
             "#ed7953"
            ],
            [
             0.7777777777777778,
             "#fb9f3a"
            ],
            [
             0.8888888888888888,
             "#fdca26"
            ],
            [
             1,
             "#f0f921"
            ]
           ],
           "sequentialminus": [
            [
             0,
             "#0d0887"
            ],
            [
             0.1111111111111111,
             "#46039f"
            ],
            [
             0.2222222222222222,
             "#7201a8"
            ],
            [
             0.3333333333333333,
             "#9c179e"
            ],
            [
             0.4444444444444444,
             "#bd3786"
            ],
            [
             0.5555555555555556,
             "#d8576b"
            ],
            [
             0.6666666666666666,
             "#ed7953"
            ],
            [
             0.7777777777777778,
             "#fb9f3a"
            ],
            [
             0.8888888888888888,
             "#fdca26"
            ],
            [
             1,
             "#f0f921"
            ]
           ]
          },
          "colorway": [
           "#636efa",
           "#EF553B",
           "#00cc96",
           "#ab63fa",
           "#FFA15A",
           "#19d3f3",
           "#FF6692",
           "#B6E880",
           "#FF97FF",
           "#FECB52"
          ],
          "font": {
           "color": "#2a3f5f"
          },
          "geo": {
           "bgcolor": "white",
           "lakecolor": "white",
           "landcolor": "#E5ECF6",
           "showlakes": true,
           "showland": true,
           "subunitcolor": "white"
          },
          "hoverlabel": {
           "align": "left"
          },
          "hovermode": "closest",
          "mapbox": {
           "style": "light"
          },
          "paper_bgcolor": "white",
          "plot_bgcolor": "#E5ECF6",
          "polar": {
           "angularaxis": {
            "gridcolor": "white",
            "linecolor": "white",
            "ticks": ""
           },
           "bgcolor": "#E5ECF6",
           "radialaxis": {
            "gridcolor": "white",
            "linecolor": "white",
            "ticks": ""
           }
          },
          "scene": {
           "xaxis": {
            "backgroundcolor": "#E5ECF6",
            "gridcolor": "white",
            "gridwidth": 2,
            "linecolor": "white",
            "showbackground": true,
            "ticks": "",
            "zerolinecolor": "white"
           },
           "yaxis": {
            "backgroundcolor": "#E5ECF6",
            "gridcolor": "white",
            "gridwidth": 2,
            "linecolor": "white",
            "showbackground": true,
            "ticks": "",
            "zerolinecolor": "white"
           },
           "zaxis": {
            "backgroundcolor": "#E5ECF6",
            "gridcolor": "white",
            "gridwidth": 2,
            "linecolor": "white",
            "showbackground": true,
            "ticks": "",
            "zerolinecolor": "white"
           }
          },
          "shapedefaults": {
           "line": {
            "color": "#2a3f5f"
           }
          },
          "ternary": {
           "aaxis": {
            "gridcolor": "white",
            "linecolor": "white",
            "ticks": ""
           },
           "baxis": {
            "gridcolor": "white",
            "linecolor": "white",
            "ticks": ""
           },
           "bgcolor": "#E5ECF6",
           "caxis": {
            "gridcolor": "white",
            "linecolor": "white",
            "ticks": ""
           }
          },
          "title": {
           "x": 0.05
          },
          "xaxis": {
           "automargin": true,
           "gridcolor": "white",
           "linecolor": "white",
           "ticks": "",
           "zerolinecolor": "white",
           "zerolinewidth": 2
          },
          "yaxis": {
           "automargin": true,
           "gridcolor": "white",
           "linecolor": "white",
           "ticks": "",
           "zerolinecolor": "white",
           "zerolinewidth": 2
          }
         }
        },
        "title": {
         "text": "3D LRP Embedding"
        },
        "width": 1200
       }
      },
      "image/png": "[encoded data removed]",
      "text/html": [
       "<div>\n",
       "        \n",
       "        \n",
       "            <div id=\"1ca56e5e-d3d2-41e7-8da0-e80d2257c324\" class=\"plotly-graph-div\" style=\"height:1000px; width:1200px;\"></div>\n",
       "            <script type=\"text/javascript\">\n",
       "                require([\"plotly\"], function(Plotly) {\n",
       "                    window.PLOTLYENV=window.PLOTLYENV || {};\n",
       "                    \n",
       "                if (document.getElementById(\"1ca56e5e-d3d2-41e7-8da0-e80d2257c324\")) {\n",
       "                    Plotly.newPlot(\n",
       "                        '1ca56e5e-d3d2-41e7-8da0-e80d2257c324',\n",
       "                        [{\"marker\": {\"color\": [0.0, 0.0, 2.0, 0.0, 0.0, 0.0, 2.0, 0.0], \"colorscale\": [[0.0, \"rgb(150,0,90)\"], [0.125, \"rgb(0,0,200)\"], [0.25, \"rgb(0,25,255)\"], [0.375, \"rgb(0,152,255)\"], [0.5, \"rgb(44,255,150)\"], [0.625, \"rgb(151,255,0)\"], [0.75, \"rgb(255,234,0)\"], [0.875, \"rgb(255,111,0)\"], [1.0, \"rgb(255,0,0)\"]], \"opacity\": 0.8, \"showscale\": true, \"size\": 5}, \"mode\": \"markers\", \"name\": \"Training\", \"text\": [\"ASD\", \"ASD\", \"ATYPICAL_MULLEN\", \"ASD\", \"ASD\", \"ASD\", \"ATYPICAL_MULLEN\", \"ASD\"], \"type\": \"scatter3d\", \"x\": [0.4202721118927002, 1.0, 0.9810347557067871, 0.10880136489868164, 0.23725438117980957, 0.0, 0.40837645530700684, 0.7479770183563232], \"y\": [0.996589183807373, 0.6631369590759277, 0.567023754119873, 0.11728763580322266, 0.9999995231628418, 0.027087688446044922, 0.3808894157409668, 0.0], \"z\": [0.913691520690918, 0.3159189224243164, 1.0, 0.7576065063476562, 0.26267337799072266, 0.11992454528808594, 0.0, 0.8934488296508789]}],\n",
       "                        {\"autosize\": false, \"height\": 1000, \"paper_bgcolor\": \"#F5F5F5\", \"template\": {\"data\": {\"bar\": [{\"error_x\": {\"color\": \"#2a3f5f\"}, \"error_y\": {\"color\": \"#2a3f5f\"}, \"marker\": {\"line\": {\"color\": \"#E5ECF6\", \"width\": 0.5}}, \"type\": \"bar\"}], \"barpolar\": [{\"marker\": {\"line\": {\"color\": \"#E5ECF6\", \"width\": 0.5}}, \"type\": \"barpolar\"}], \"carpet\": [{\"aaxis\": {\"endlinecolor\": \"#2a3f5f\", \"gridcolor\": \"white\", \"linecolor\": \"white\", \"minorgridcolor\": \"white\", \"startlinecolor\": \"#2a3f5f\"}, \"baxis\": {\"endlinecolor\": \"#2a3f5f\", \"gridcolor\": \"white\", \"linecolor\": \"white\", \"minorgridcolor\": \"white\", \"startlinecolor\": \"#2a3f5f\"}, \"type\": \"carpet\"}], \"choropleth\": [{\"colorbar\": {\"outlinewidth\": 0, \"ticks\": \"\"}, \"type\": \"choropleth\"}], \"contour\": [{\"colorbar\": {\"outlinewidth\": 0, \"ticks\": \"\"}, \"colorscale\": [[0.0, \"#0d0887\"], [0.1111111111111111, \"#46039f\"], [0.2222222222222222, \"#7201a8\"], [0.3333333333333333, \"#9c179e\"], [0.4444444444444444, \"#bd3786\"], [0.5555555555555556, \"#d8576b\"], [0.6666666666666666, \"#ed7953\"], [0.7777777777777778, \"#fb9f3a\"], [0.8888888888888888, \"#fdca26\"], [1.0, \"#f0f921\"]], \"type\": \"contour\"}], \"contourcarpet\": [{\"colorbar\": {\"outlinewidth\": 0, \"ticks\": \"\"}, \"type\": \"contourcarpet\"}], \"heatmap\": [{\"colorbar\": {\"outlinewidth\": 0, \"ticks\": \"\"}, \"colorscale\": [[0.0, \"#0d0887\"], [0.1111111111111111, \"#46039f\"], [0.2222222222222222, \"#7201a8\"], [0.3333333333333333, \"#9c179e\"], [0.4444444444444444, \"#bd3786\"], [0.5555555555555556, \"#d8576b\"], [0.6666666666666666, \"#ed7953\"], [0.7777777777777778, \"#fb9f3a\"], [0.8888888888888888, \"#fdca26\"], [1.0, \"#f0f921\"]], \"type\": \"heatmap\"}], \"heatmapgl\": [{\"colorbar\": {\"outlinewidth\": 0, \"ticks\": \"\"}, \"colorscale\": [[0.0, \"#0d0887\"], [0.1111111111111111, \"#46039f\"], [0.2222222222222222, \"#7201a8\"], [0.3333333333333333, \"#9c179e\"], [0.4444444444444444, \"#bd3786\"], [0.5555555555555556, \"#d8576b\"], [0.6666666666666666, \"#ed7953\"], [0.7777777777777778, \"#fb9f3a\"], [0.8888888888888888, \"#fdca26\"], [1.0, \"#f0f921\"]], \"type\": \"heatmapgl\"}], \"histogram\": [{\"marker\": {\"colorbar\": {\"outlinewidth\": 0, \"ticks\": \"\"}}, \"type\": \"histogram\"}], \"histogram2d\": [{\"colorbar\": {\"outlinewidth\": 0, \"ticks\": \"\"}, \"colorscale\": [[0.0, \"#0d0887\"], [0.1111111111111111, \"#46039f\"], [0.2222222222222222, \"#7201a8\"], [0.3333333333333333, \"#9c179e\"], [0.4444444444444444, \"#bd3786\"], [0.5555555555555556, \"#d8576b\"], [0.6666666666666666, \"#ed7953\"], [0.7777777777777778, \"#fb9f3a\"], [0.8888888888888888, \"#fdca26\"], [1.0, \"#f0f921\"]], \"type\": \"histogram2d\"}], \"histogram2dcontour\": [{\"colorbar\": {\"outlinewidth\": 0, \"ticks\": \"\"}, \"colorscale\": [[0.0, \"#0d0887\"], [0.1111111111111111, \"#46039f\"], [0.2222222222222222, \"#7201a8\"], [0.3333333333333333, \"#9c179e\"], [0.4444444444444444, \"#bd3786\"], [0.5555555555555556, \"#d8576b\"], [0.6666666666666666, \"#ed7953\"], [0.7777777777777778, \"#fb9f3a\"], [0.8888888888888888, \"#fdca26\"], [1.0, \"#f0f921\"]], \"type\": \"histogram2dcontour\"}], \"mesh3d\": [{\"colorbar\": {\"outlinewidth\": 0, \"ticks\": \"\"}, \"type\": \"mesh3d\"}], \"parcoords\": [{\"line\": {\"colorbar\": {\"outlinewidth\": 0, \"ticks\": \"\"}}, \"type\": \"parcoords\"}], \"scatter\": [{\"marker\": {\"colorbar\": {\"outlinewidth\": 0, \"ticks\": \"\"}}, \"type\": \"scatter\"}], \"scatter3d\": [{\"line\": {\"colorbar\": {\"outlinewidth\": 0, \"ticks\": \"\"}}, \"marker\": {\"colorbar\": {\"outlinewidth\": 0, \"ticks\": \"\"}}, \"type\": \"scatter3d\"}], \"scattercarpet\": [{\"marker\": {\"colorbar\": {\"outlinewidth\": 0, \"ticks\": \"\"}}, \"type\": \"scattercarpet\"}], \"scattergeo\": [{\"marker\": {\"colorbar\": {\"outlinewidth\": 0, \"ticks\": \"\"}}, \"type\": \"scattergeo\"}], \"scattergl\": [{\"marker\": {\"colorbar\": {\"outlinewidth\": 0, \"ticks\": \"\"}}, \"type\": \"scattergl\"}], \"scattermapbox\": [{\"marker\": {\"colorbar\": {\"outlinewidth\": 0, \"ticks\": \"\"}}, \"type\": \"scattermapbox\"}], \"scatterpolar\": [{\"marker\": {\"colorbar\": {\"outlinewidth\": 0, \"ticks\": \"\"}}, \"type\": \"scatterpolar\"}], \"scatterpolargl\": [{\"marker\": {\"colorbar\": {\"outlinewidth\": 0, \"ticks\": \"\"}}, \"type\": \"scatterpolargl\"}], \"scatterternary\": [{\"marker\": {\"colorbar\": {\"outlinewidth\": 0, \"ticks\": \"\"}}, \"type\": \"scatterternary\"}], \"surface\": [{\"colorbar\": {\"outlinewidth\": 0, \"ticks\": \"\"}, \"colorscale\": [[0.0, \"#0d0887\"], [0.1111111111111111, \"#46039f\"], [0.2222222222222222, \"#7201a8\"], [0.3333333333333333, \"#9c179e\"], [0.4444444444444444, \"#bd3786\"], [0.5555555555555556, \"#d8576b\"], [0.6666666666666666, \"#ed7953\"], [0.7777777777777778, \"#fb9f3a\"], [0.8888888888888888, \"#fdca26\"], [1.0, \"#f0f921\"]], \"type\": \"surface\"}], \"table\": [{\"cells\": {\"fill\": {\"color\": \"#EBF0F8\"}, \"line\": {\"color\": \"white\"}}, \"header\": {\"fill\": {\"color\": \"#C8D4E3\"}, \"line\": {\"color\": \"white\"}}, \"type\": \"table\"}]}, \"layout\": {\"annotationdefaults\": {\"arrowcolor\": \"#2a3f5f\", \"arrowhead\": 0, \"arrowwidth\": 1}, \"colorscale\": {\"diverging\": [[0, \"#8e0152\"], [0.1, \"#c51b7d\"], [0.2, \"#de77ae\"], [0.3, \"#f1b6da\"], [0.4, \"#fde0ef\"], [0.5, \"#f7f7f7\"], [0.6, \"#e6f5d0\"], [0.7, \"#b8e186\"], [0.8, \"#7fbc41\"], [0.9, \"#4d9221\"], [1, \"#276419\"]], \"sequential\": [[0.0, \"#0d0887\"], [0.1111111111111111, \"#46039f\"], [0.2222222222222222, \"#7201a8\"], [0.3333333333333333, \"#9c179e\"], [0.4444444444444444, \"#bd3786\"], [0.5555555555555556, \"#d8576b\"], [0.6666666666666666, \"#ed7953\"], [0.7777777777777778, \"#fb9f3a\"], [0.8888888888888888, \"#fdca26\"], [1.0, \"#f0f921\"]], \"sequentialminus\": [[0.0, \"#0d0887\"], [0.1111111111111111, \"#46039f\"], [0.2222222222222222, \"#7201a8\"], [0.3333333333333333, \"#9c179e\"], [0.4444444444444444, \"#bd3786\"], [0.5555555555555556, \"#d8576b\"], [0.6666666666666666, \"#ed7953\"], [0.7777777777777778, \"#fb9f3a\"], [0.8888888888888888, \"#fdca26\"], [1.0, \"#f0f921\"]]}, \"colorway\": [\"#636efa\", \"#EF553B\", \"#00cc96\", \"#ab63fa\", \"#FFA15A\", \"#19d3f3\", \"#FF6692\", \"#B6E880\", \"#FF97FF\", \"#FECB52\"], \"font\": {\"color\": \"#2a3f5f\"}, \"geo\": {\"bgcolor\": \"white\", \"lakecolor\": \"white\", \"landcolor\": \"#E5ECF6\", \"showlakes\": true, \"showland\": true, \"subunitcolor\": \"white\"}, \"hoverlabel\": {\"align\": \"left\"}, \"hovermode\": \"closest\", \"mapbox\": {\"style\": \"light\"}, \"paper_bgcolor\": \"white\", \"plot_bgcolor\": \"#E5ECF6\", \"polar\": {\"angularaxis\": {\"gridcolor\": \"white\", \"linecolor\": \"white\", \"ticks\": \"\"}, \"bgcolor\": \"#E5ECF6\", \"radialaxis\": {\"gridcolor\": \"white\", \"linecolor\": \"white\", \"ticks\": \"\"}}, \"scene\": {\"xaxis\": {\"backgroundcolor\": \"#E5ECF6\", \"gridcolor\": \"white\", \"gridwidth\": 2, \"linecolor\": \"white\", \"showbackground\": true, \"ticks\": \"\", \"zerolinecolor\": \"white\"}, \"yaxis\": {\"backgroundcolor\": \"#E5ECF6\", \"gridcolor\": \"white\", \"gridwidth\": 2, \"linecolor\": \"white\", \"showbackground\": true, \"ticks\": \"\", \"zerolinecolor\": \"white\"}, \"zaxis\": {\"backgroundcolor\": \"#E5ECF6\", \"gridcolor\": \"white\", \"gridwidth\": 2, \"linecolor\": \"white\", \"showbackground\": true, \"ticks\": \"\", \"zerolinecolor\": \"white\"}}, \"shapedefaults\": {\"line\": {\"color\": \"#2a3f5f\"}}, \"ternary\": {\"aaxis\": {\"gridcolor\": \"white\", \"linecolor\": \"white\", \"ticks\": \"\"}, \"baxis\": {\"gridcolor\": \"white\", \"linecolor\": \"white\", \"ticks\": \"\"}, \"bgcolor\": \"#E5ECF6\", \"caxis\": {\"gridcolor\": \"white\", \"linecolor\": \"white\", \"ticks\": \"\"}}, \"title\": {\"x\": 0.05}, \"xaxis\": {\"automargin\": true, \"gridcolor\": \"white\", \"linecolor\": \"white\", \"ticks\": \"\", \"zerolinecolor\": \"white\", \"zerolinewidth\": 2}, \"yaxis\": {\"automargin\": true, \"gridcolor\": \"white\", \"linecolor\": \"white\", \"ticks\": \"\", \"zerolinecolor\": \"white\", \"zerolinewidth\": 2}}}, \"title\": {\"text\": \"3D LRP Embedding\"}, \"width\": 1200},\n",
       "                        {\"responsive\": true}\n",
       "                    ).then(function(){\n",
       "                            \n",
       "var gd = document.getElementById('1ca56e5e-d3d2-41e7-8da0-e80d2257c324');\n",
       "var x = new MutationObserver(function (mutations, observer) {{\n",
       "        var display = window.getComputedStyle(gd).display;\n",
       "        if (!display || display === 'none') {{\n",
       "            console.log([gd, 'removed!']);\n",
       "            Plotly.purge(gd);\n",
       "            observer.disconnect();\n",
       "        }}\n",
       "}});\n",
       "\n",
       "// Listen for the removal of the full notebook cells\n",
       "var notebookContainer = gd.closest('#notebook-container');\n",
       "if (notebookContainer) {{\n",
       "    x.observe(notebookContainer, {childList: true});\n",
       "}}\n",
       "\n",
       "// Listen for the clearing of the current output cell\n",
       "var outputEl = gd.closest('.output');\n",
       "if (outputEl) {{\n",
       "    x.observe(outputEl, {childList: true});\n",
       "}}\n",
       "\n",
       "                        })\n",
       "                };\n",
       "                });\n",
       "            </script>\n",
       "        </div>"
      ]
     },
     "metadata": {},
     "output_type": "display_data"
    }
   ],
   "source": [
    "from sklearn.preprocessing import MinMaxScaler\n",
    "from helper import plot_3d_lrp\n",
    "\n",
    "reducer = umap.UMAP(random_state=42,\n",
    "                    n_components = 3,\n",
    "                    n_neighbors=5,\n",
    "                    min_dist=0)\n",
    "\n",
    "reducer_pipeline = Pipeline([\n",
    "            (\"umap\", reducer),\n",
    "            (\"scaler\",  MinMaxScaler())\n",
    "])\n",
    "\n",
    "reducer_pipeline.fit(lrp)\n",
    "embeddings = reducer_pipeline.transform(lrp)\n",
    "plot_3d_lrp(embeddings, colors= enc.transform(_labels.reshape(-1,1))[:,0], labels=_labels )"
   ]
  },
  {
   "cell_type": "markdown",
   "metadata": {},
   "source": [
    "### Cross Validating using Class Weights"
   ]
  },
  {
   "cell_type": "code",
   "execution_count": 101,
   "metadata": {},
   "outputs": [],
   "source": [
    "# Separating a hold out set that will be used for validation of the pipeline\n",
    "# train_data, train_labels, test_data, test_labels = split_valid(data, risk_labels, valid_size=0.01)\n",
    "train_data, train_labels, test_data, test_labels = data, risk_labels, [], []"
   ]
  },
  {
   "cell_type": "code",
   "execution_count": 102,
   "metadata": {},
   "outputs": [
    {
     "data": {
      "text/plain": [
       "1    149\n",
       "0     39\n",
       "dtype: int64"
      ]
     },
     "execution_count": 102,
     "metadata": {},
     "output_type": "execute_result"
    }
   ],
   "source": [
    "risk_labels.value_counts()"
   ]
  },
  {
   "cell_type": "code",
   "execution_count": 103,
   "metadata": {},
   "outputs": [
    {
     "data": {
      "text/plain": [
       "(188, 333)"
      ]
     },
     "execution_count": 103,
     "metadata": {},
     "output_type": "execute_result"
    }
   ],
   "source": [
    "train_data.shape"
   ]
  },
  {
   "cell_type": "code",
   "execution_count": 104,
   "metadata": {},
   "outputs": [],
   "source": [
    "reducer = umap.UMAP(random_state=42,\n",
    "                    n_components = 10,\n",
    "                    n_neighbors=5,\n",
    "                    min_dist=0)"
   ]
  },
  {
   "cell_type": "code",
   "execution_count": 106,
   "metadata": {},
   "outputs": [],
   "source": [
    "dnn = build_dnn(num_features=data.shape[1], num_labels=1, activation=\"relu\")\n",
    "pipeline = ClusterPipeline(dnn, [train_data, train_labels], [test_data, test_labels],\n",
    "                           target_class=0, reducer=reducer, softmax=False)"
   ]
  },
  {
   "cell_type": "code",
   "execution_count": 107,
   "metadata": {},
   "outputs": [
    {
     "name": "stdout",
     "output_type": "stream",
     "text": [
      "Running Serial Crossvalidation\n",
      "Running worker: 0\n",
      "Fold: 0 -> Loss:0.022, Acc:1.0000\n",
      "Prediction Accuracy\n",
      "19/19 [==============================] - 0s 2ms/step\n",
      "Scores on data set: loss=0.858 accuracy=0.8421\n",
      "Fold Correct: 16\n",
      "Running worker: 1\n",
      "Fold: 1 -> Loss:0.033, Acc:1.0000\n",
      "Prediction Accuracy\n",
      "19/19 [==============================] - 0s 29us/step\n",
      "Scores on data set: loss=1.128 accuracy=0.7895\n",
      "Fold Correct: 15\n",
      "Running worker: 2\n",
      "Fold: 2 -> Loss:0.028, Acc:0.9941\n",
      "Prediction Accuracy\n",
      "19/19 [==============================] - 0s 47us/step\n",
      "Scores on data set: loss=0.578 accuracy=0.7895\n",
      "Fold Correct: 15\n",
      "Running worker: 3\n",
      "Fold: 3 -> Loss:0.027, Acc:0.9941\n",
      "Prediction Accuracy\n",
      "19/19 [==============================] - 0s 30us/step\n",
      "Scores on data set: loss=1.046 accuracy=0.7368\n",
      "Fold Correct: 14\n",
      "Running worker: 4\n",
      "Fold: 4 -> Loss:0.026, Acc:0.9941\n",
      "Prediction Accuracy\n",
      "19/19 [==============================] - 0s 27us/step\n",
      "Scores on data set: loss=1.063 accuracy=0.7368\n",
      "Fold Correct: 14\n",
      "Running worker: 5\n",
      "Fold: 5 -> Loss:0.037, Acc:1.0000\n",
      "Prediction Accuracy\n",
      "19/19 [==============================] - 0s 30us/step\n",
      "Scores on data set: loss=0.653 accuracy=0.7895\n",
      "Fold Correct: 15\n",
      "Running worker: 6\n",
      "Fold: 6 -> Loss:0.033, Acc:0.9941\n",
      "Prediction Accuracy\n",
      "19/19 [==============================] - 0s 32us/step\n",
      "Scores on data set: loss=0.810 accuracy=0.6842\n",
      "Fold Correct: 13\n",
      "Running worker: 7\n",
      "Fold: 7 -> Loss:0.031, Acc:0.9941\n",
      "Prediction Accuracy\n",
      "19/19 [==============================] - 0s 31us/step\n",
      "Scores on data set: loss=1.205 accuracy=0.6316\n",
      "Fold Correct: 12\n",
      "Running worker: 8\n",
      "Fold: 8 -> Loss:0.036, Acc:0.9941\n",
      "Prediction Accuracy\n",
      "19/19 [==============================] - 0s 25us/step\n",
      "Scores on data set: loss=1.003 accuracy=0.7895\n",
      "Fold Correct: 15\n",
      "Running worker: 9\n",
      "Fold: 9 -> Loss:0.023, Acc:1.0000\n",
      "Prediction Accuracy\n",
      "17/17 [==============================] - 0s 50us/step\n",
      "Scores on data set: loss=0.543 accuracy=0.8235\n",
      "Fold Correct: 14\n",
      "Runtime: 103.985s\n",
      "Correct: 143\n",
      "Test Size: 188\n",
      "raveled\n",
      "Confusion matrix, without normalization\n",
      "[[0.07692308 0.92307692]\n",
      " [0.06040268 0.93959732]]\n",
      "Overall Accuracy: 0.7606\n",
      "Loading LRP Analyzers...\n",
      "Done!\n"
     ]
    },
    {
     "data": {
      "image/png": "[encoded data removed]",
      "text/plain": [
       "<Figure size 576x576 with 2 Axes>"
      ]
     },
     "metadata": {
      "needs_background": "light"
     },
     "output_type": "display_data"
    }
   ],
   "source": [
    "cm = pipeline.train_model(batch_size=int(10), epochs=500,\n",
    "                          cross_validation=True, parallel=False, verbose=0)"
   ]
  },
  {
   "cell_type": "markdown",
   "metadata": {},
   "source": [
    "## Crossvalidation using SMOTE internally (after folds)"
   ]
  },
  {
   "cell_type": "code",
   "execution_count": 108,
   "metadata": {},
   "outputs": [],
   "source": [
    "dnn = build_dnn(num_features=data.shape[1], num_labels=1, activation=\"relu\")\n",
    "pipeline = ClusterPipeline(dnn, [train_data, train_labels], [test_data, test_labels],\n",
    "                           target_class=0, reducer=reducer, softmax=False)"
   ]
  },
  {
   "cell_type": "code",
   "execution_count": 109,
   "metadata": {},
   "outputs": [
    {
     "name": "stdout",
     "output_type": "stream",
     "text": [
      "Running Serial Crossvalidation\n",
      "Running worker: 0\n",
      "Fold: 0 -> Loss:0.015, Acc:0.9963\n",
      "Prediction Accuracy\n",
      "19/19 [==============================] - 0s 2ms/step\n",
      "Scores on data set: loss=0.671 accuracy=0.7368\n",
      "Fold Correct: 14\n",
      "Running worker: 1\n",
      "Fold: 1 -> Loss:0.012, Acc:1.0000\n",
      "Prediction Accuracy\n",
      "19/19 [==============================] - 0s 31us/step\n",
      "Scores on data set: loss=1.109 accuracy=0.8421\n",
      "Fold Correct: 16\n",
      "Running worker: 2\n",
      "Fold: 2 -> Loss:0.015, Acc:0.9963\n",
      "Prediction Accuracy\n",
      "19/19 [==============================] - 0s 33us/step\n",
      "Scores on data set: loss=0.580 accuracy=0.8421\n",
      "Fold Correct: 16\n",
      "Running worker: 3\n",
      "Fold: 3 -> Loss:0.010, Acc:1.0000\n",
      "Prediction Accuracy\n",
      "19/19 [==============================] - 0s 26us/step\n",
      "Scores on data set: loss=0.702 accuracy=0.7895\n",
      "Fold Correct: 15\n",
      "Running worker: 4\n",
      "Fold: 4 -> Loss:0.013, Acc:0.9963\n",
      "Prediction Accuracy\n",
      "19/19 [==============================] - 0s 34us/step\n",
      "Scores on data set: loss=1.540 accuracy=0.6316\n",
      "Fold Correct: 12\n",
      "Running worker: 5\n",
      "Fold: 5 -> Loss:0.008, Acc:1.0000\n",
      "Prediction Accuracy\n",
      "19/19 [==============================] - 0s 36us/step\n",
      "Scores on data set: loss=1.219 accuracy=0.7368\n",
      "Fold Correct: 14\n",
      "Running worker: 6\n",
      "Fold: 6 -> Loss:0.010, Acc:1.0000\n",
      "Prediction Accuracy\n",
      "19/19 [==============================] - 0s 36us/step\n",
      "Scores on data set: loss=0.737 accuracy=0.8421\n",
      "Fold Correct: 16\n",
      "Running worker: 7\n",
      "Fold: 7 -> Loss:0.010, Acc:1.0000\n",
      "Prediction Accuracy\n",
      "19/19 [==============================] - 0s 38us/step\n",
      "Scores on data set: loss=1.020 accuracy=0.6842\n",
      "Fold Correct: 13\n",
      "Running worker: 8\n",
      "Fold: 8 -> Loss:0.014, Acc:0.9963\n",
      "Prediction Accuracy\n",
      "19/19 [==============================] - 0s 34us/step\n",
      "Scores on data set: loss=1.226 accuracy=0.7895\n",
      "Fold Correct: 15\n",
      "Running worker: 9\n",
      "Fold: 9 -> Loss:0.014, Acc:0.9963\n",
      "Prediction Accuracy\n",
      "17/17 [==============================] - 0s 35us/step\n",
      "Scores on data set: loss=0.303 accuracy=0.8824\n",
      "Fold Correct: 15\n",
      "Runtime: 152.980s\n",
      "Correct: 146\n",
      "Test Size: 188\n",
      "Confusion matrix, without normalization\n",
      "[[0.23076923 0.76923077]\n",
      " [0.08053691 0.91946309]]\n",
      "Overall Accuracy: 0.7766\n",
      "Loading LRP Analyzers...\n",
      "Done!\n"
     ]
    },
    {
     "data": {
      "image/png": "[encoded data removed]",
      "text/plain": [
       "<Figure size 576x576 with 2 Axes>"
      ]
     },
     "metadata": {
      "needs_background": "light"
     },
     "output_type": "display_data"
    }
   ],
   "source": [
    "cm = pipeline.train_model(batch_size=int(10), epochs=500, smote=True,\n",
    "                          cross_validation=True, parallel=False, verbose=0)"
   ]
  },
  {
   "cell_type": "markdown",
   "metadata": {},
   "source": [
    "## SMOTE first and then classify"
   ]
  },
  {
   "cell_type": "markdown",
   "metadata": {},
   "source": [
    "> ## All ASD samples are placed at the end of the array"
   ]
  },
  {
   "cell_type": "code",
   "execution_count": 110,
   "metadata": {},
   "outputs": [
    {
     "name": "stdout",
     "output_type": "stream",
     "text": [
      "1    149\n",
      "0     39\n",
      "dtype: int64\n",
      "===== Sanity Check =====: True\n"
     ]
    }
   ],
   "source": [
    "print(risk_labels.value_counts())\n",
    "print(\"===== Sanity Check =====:\", all(risk_labels[risk_labels==0] == risk_labels[-(len(HR_ASD)):]))"
   ]
  },
  {
   "cell_type": "code",
   "execution_count": 111,
   "metadata": {},
   "outputs": [],
   "source": [
    "from imblearn.over_sampling import SMOTE\n",
    "\n",
    "synth_train, synth_y = SMOTE(random_state=RANDOM_STATE, k_neighbors=3).fit_resample(data,risk_labels) # Both are np arrays now"
   ]
  },
  {
   "cell_type": "code",
   "execution_count": 112,
   "metadata": {},
   "outputs": [
    {
     "name": "stdout",
     "output_type": "stream",
     "text": [
      "Oversampling Maintained Order: True\n"
     ]
    }
   ],
   "source": [
    "print(\"Oversampling Maintained Order:\",\n",
    "    np.array_equiv(\n",
    "        data[len(HR_typical):].values,\n",
    "       synth_train[len(HR_typical):len(HR_typical)+len(HR_ASD)]\n",
    "))"
   ]
  },
  {
   "cell_type": "code",
   "execution_count": 113,
   "metadata": {},
   "outputs": [
    {
     "data": {
      "text/plain": [
       "110"
      ]
     },
     "execution_count": 113,
     "metadata": {},
     "output_type": "execute_result"
    }
   ],
   "source": [
    "num_synths=len(synth_train)-len(data)\n",
    "num_synths"
   ]
  },
  {
   "cell_type": "code",
   "execution_count": 121,
   "metadata": {},
   "outputs": [
    {
     "data": {
      "text/html": [
       "<div>\n",
       "<style scoped>\n",
       "    .dataframe tbody tr th:only-of-type {\n",
       "        vertical-align: middle;\n",
       "    }\n",
       "\n",
       "    .dataframe tbody tr th {\n",
       "        vertical-align: top;\n",
       "    }\n",
       "\n",
       "    .dataframe thead th {\n",
       "        text-align: right;\n",
       "    }\n",
       "</style>\n",
       "<table border=\"1\" class=\"dataframe\">\n",
       "  <thead>\n",
       "    <tr style=\"text-align: right;\">\n",
       "      <th></th>\n",
       "      <th>ROI01</th>\n",
       "      <th>ROI02</th>\n",
       "      <th>ROI03</th>\n",
       "      <th>ROI04</th>\n",
       "      <th>ROI05</th>\n",
       "      <th>ROI06</th>\n",
       "      <th>ROI07</th>\n",
       "      <th>ROI08</th>\n",
       "      <th>ROI09</th>\n",
       "      <th>ROI10</th>\n",
       "      <th>...</th>\n",
       "      <th>ROI324</th>\n",
       "      <th>ROI325</th>\n",
       "      <th>ROI326</th>\n",
       "      <th>ROI327</th>\n",
       "      <th>ROI328</th>\n",
       "      <th>ROI329</th>\n",
       "      <th>ROI330</th>\n",
       "      <th>ROI331</th>\n",
       "      <th>ROI332</th>\n",
       "      <th>ROI333</th>\n",
       "    </tr>\n",
       "  </thead>\n",
       "  <tbody>\n",
       "    <tr>\n",
       "      <th>-1</th>\n",
       "      <td>681.959544</td>\n",
       "      <td>279.420115</td>\n",
       "      <td>179.296476</td>\n",
       "      <td>131.060501</td>\n",
       "      <td>424.424836</td>\n",
       "      <td>619.104182</td>\n",
       "      <td>46.671059</td>\n",
       "      <td>180.392090</td>\n",
       "      <td>28.100171</td>\n",
       "      <td>62.323375</td>\n",
       "      <td>...</td>\n",
       "      <td>80.641994</td>\n",
       "      <td>121.229494</td>\n",
       "      <td>21.736134</td>\n",
       "      <td>219.648968</td>\n",
       "      <td>46.300525</td>\n",
       "      <td>1.479926</td>\n",
       "      <td>250.823066</td>\n",
       "      <td>27.960548</td>\n",
       "      <td>32.745146</td>\n",
       "      <td>14.771461</td>\n",
       "    </tr>\n",
       "    <tr>\n",
       "      <th>-2</th>\n",
       "      <td>779.296469</td>\n",
       "      <td>279.143081</td>\n",
       "      <td>150.156493</td>\n",
       "      <td>150.339773</td>\n",
       "      <td>427.407365</td>\n",
       "      <td>544.704695</td>\n",
       "      <td>29.617299</td>\n",
       "      <td>150.984774</td>\n",
       "      <td>54.881513</td>\n",
       "      <td>56.755046</td>\n",
       "      <td>...</td>\n",
       "      <td>45.792315</td>\n",
       "      <td>99.277028</td>\n",
       "      <td>20.324129</td>\n",
       "      <td>192.068940</td>\n",
       "      <td>41.701157</td>\n",
       "      <td>0.905107</td>\n",
       "      <td>217.231994</td>\n",
       "      <td>20.103305</td>\n",
       "      <td>34.812005</td>\n",
       "      <td>17.441114</td>\n",
       "    </tr>\n",
       "    <tr>\n",
       "      <th>-3</th>\n",
       "      <td>819.465480</td>\n",
       "      <td>261.052197</td>\n",
       "      <td>149.893565</td>\n",
       "      <td>159.224046</td>\n",
       "      <td>399.038619</td>\n",
       "      <td>594.604442</td>\n",
       "      <td>24.189074</td>\n",
       "      <td>146.131577</td>\n",
       "      <td>57.393515</td>\n",
       "      <td>57.478831</td>\n",
       "      <td>...</td>\n",
       "      <td>46.745756</td>\n",
       "      <td>104.109025</td>\n",
       "      <td>20.282331</td>\n",
       "      <td>190.894814</td>\n",
       "      <td>39.546991</td>\n",
       "      <td>0.781301</td>\n",
       "      <td>233.125553</td>\n",
       "      <td>20.017632</td>\n",
       "      <td>32.474915</td>\n",
       "      <td>16.253035</td>\n",
       "    </tr>\n",
       "    <tr>\n",
       "      <th>-4</th>\n",
       "      <td>555.941037</td>\n",
       "      <td>288.541801</td>\n",
       "      <td>161.178271</td>\n",
       "      <td>146.866719</td>\n",
       "      <td>431.936390</td>\n",
       "      <td>504.977575</td>\n",
       "      <td>65.814938</td>\n",
       "      <td>178.050238</td>\n",
       "      <td>35.086963</td>\n",
       "      <td>50.797106</td>\n",
       "      <td>...</td>\n",
       "      <td>49.689160</td>\n",
       "      <td>101.441515</td>\n",
       "      <td>17.622310</td>\n",
       "      <td>159.814628</td>\n",
       "      <td>40.120537</td>\n",
       "      <td>1.202629</td>\n",
       "      <td>197.325392</td>\n",
       "      <td>25.668171</td>\n",
       "      <td>47.066586</td>\n",
       "      <td>14.810970</td>\n",
       "    </tr>\n",
       "    <tr>\n",
       "      <th>-5</th>\n",
       "      <td>593.079761</td>\n",
       "      <td>331.134046</td>\n",
       "      <td>153.296000</td>\n",
       "      <td>139.736926</td>\n",
       "      <td>479.333263</td>\n",
       "      <td>439.933027</td>\n",
       "      <td>47.448872</td>\n",
       "      <td>170.101318</td>\n",
       "      <td>45.624587</td>\n",
       "      <td>49.499738</td>\n",
       "      <td>...</td>\n",
       "      <td>45.442018</td>\n",
       "      <td>102.249051</td>\n",
       "      <td>19.392015</td>\n",
       "      <td>225.684785</td>\n",
       "      <td>51.648367</td>\n",
       "      <td>1.258223</td>\n",
       "      <td>172.676318</td>\n",
       "      <td>22.271923</td>\n",
       "      <td>43.125403</td>\n",
       "      <td>14.024455</td>\n",
       "    </tr>\n",
       "  </tbody>\n",
       "</table>\n",
       "<p>5 rows × 333 columns</p>\n",
       "</div>"
      ],
      "text/plain": [
       "         ROI01       ROI02       ROI03       ROI04       ROI05       ROI06  \\\n",
       "-1  681.959544  279.420115  179.296476  131.060501  424.424836  619.104182   \n",
       "-2  779.296469  279.143081  150.156493  150.339773  427.407365  544.704695   \n",
       "-3  819.465480  261.052197  149.893565  159.224046  399.038619  594.604442   \n",
       "-4  555.941037  288.541801  161.178271  146.866719  431.936390  504.977575   \n",
       "-5  593.079761  331.134046  153.296000  139.736926  479.333263  439.933027   \n",
       "\n",
       "        ROI07       ROI08      ROI09      ROI10  ...     ROI324      ROI325  \\\n",
       "-1  46.671059  180.392090  28.100171  62.323375  ...  80.641994  121.229494   \n",
       "-2  29.617299  150.984774  54.881513  56.755046  ...  45.792315   99.277028   \n",
       "-3  24.189074  146.131577  57.393515  57.478831  ...  46.745756  104.109025   \n",
       "-4  65.814938  178.050238  35.086963  50.797106  ...  49.689160  101.441515   \n",
       "-5  47.448872  170.101318  45.624587  49.499738  ...  45.442018  102.249051   \n",
       "\n",
       "       ROI326      ROI327     ROI328    ROI329      ROI330     ROI331  \\\n",
       "-1  21.736134  219.648968  46.300525  1.479926  250.823066  27.960548   \n",
       "-2  20.324129  192.068940  41.701157  0.905107  217.231994  20.103305   \n",
       "-3  20.282331  190.894814  39.546991  0.781301  233.125553  20.017632   \n",
       "-4  17.622310  159.814628  40.120537  1.202629  197.325392  25.668171   \n",
       "-5  19.392015  225.684785  51.648367  1.258223  172.676318  22.271923   \n",
       "\n",
       "       ROI332     ROI333  \n",
       "-1  32.745146  14.771461  \n",
       "-2  34.812005  17.441114  \n",
       "-3  32.474915  16.253035  \n",
       "-4  47.066586  14.810970  \n",
       "-5  43.125403  14.024455  \n",
       "\n",
       "[5 rows x 333 columns]"
      ]
     },
     "execution_count": 121,
     "metadata": {},
     "output_type": "execute_result"
    }
   ],
   "source": [
    "synth_samples = pd.DataFrame(synth_train[-num_synths:],\n",
    "                             index=range(-1,-num_synths-1,-1),\n",
    "                             columns=data.columns)\n",
    "synth_labels = pd.Series(synth_y[-num_synths:],\n",
    "                             index=range(-1,-num_synths-1,-1))\n",
    "synth_samples.head()"
   ]
  },
  {
   "cell_type": "code",
   "execution_count": 157,
   "metadata": {},
   "outputs": [],
   "source": [
    "synth_data = pd.concat([data, synth_samples],axis=0)\n",
    "combined_labels = pd.concat([risk_labels, synth_labels],axis=0)\n",
    "\n",
    "synth_train_data, synth_train_labels, test_data, test_labels = synth_data, combined_labels, [], []"
   ]
  },
  {
   "cell_type": "code",
   "execution_count": 158,
   "metadata": {},
   "outputs": [],
   "source": [
    "dnn = build_dnn(num_features=synth_data.shape[1], num_labels=1, activation=\"relu\")\n",
    "smote_pipeline = ClusterPipeline(dnn, [synth_train_data, synth_train_labels],[test_data, test_labels],\n",
    "                                 target_class=0, reducer=reducer, softmax=False,\n",
    "                                 analyzer_type=\"pattern.attribution\")"
   ]
  },
  {
   "cell_type": "code",
   "execution_count": 159,
   "metadata": {},
   "outputs": [
    {
     "name": "stdout",
     "output_type": "stream",
     "text": [
      "Running Serial Crossvalidation\n",
      "Running worker: 0\n",
      "Fold: 0 -> Loss:0.011, Acc:1.0000\n",
      "Prediction Accuracy\n",
      "30/30 [==============================] - 0s 1ms/step\n",
      "Scores on data set: loss=0.253 accuracy=0.9000\n",
      "Fold Correct: 27\n",
      "Epoch 1/1\n",
      "14/14 [==============================] - 0s 14ms/step - loss: 3.0000 - broadcast_1_loss: 1.0000 - broadcast_2_loss: 1.0000 - broadcast_3_loss: 1.0000\n",
      "Running worker: 1\n",
      "Fold: 1 -> Loss:0.015, Acc:1.0000\n",
      "Prediction Accuracy\n",
      "30/30 [==============================] - 0s 23us/step\n",
      "Scores on data set: loss=0.149 accuracy=0.9333\n",
      "Fold Correct: 28\n",
      "Epoch 1/1\n",
      "14/14 [==============================] - 1s 36ms/step - loss: 3.0000 - broadcast_4_loss: 1.0000 - broadcast_5_loss: 1.0000 - broadcast_6_loss: 1.0000\n",
      "Running worker: 2\n",
      "Fold: 2 -> Loss:0.013, Acc:1.0000\n",
      "Prediction Accuracy\n",
      "30/30 [==============================] - 0s 25us/step\n",
      "Scores on data set: loss=0.598 accuracy=0.8667\n",
      "Fold Correct: 26\n",
      "Epoch 1/1\n",
      "14/14 [==============================] - 0s 22ms/step - loss: 3.0000 - broadcast_7_loss: 1.0000 - broadcast_8_loss: 1.0000 - broadcast_9_loss: 1.0000\n",
      "Running worker: 3\n",
      "Fold: 3 -> Loss:0.012, Acc:1.0000\n",
      "Prediction Accuracy\n",
      "30/30 [==============================] - 0s 24us/step\n",
      "Scores on data set: loss=0.059 accuracy=0.9667\n",
      "Fold Correct: 29\n",
      "Epoch 1/1\n",
      "14/14 [==============================] - 0s 22ms/step - loss: 3.0000 - broadcast_10_loss: 1.0000 - broadcast_11_loss: 1.0000 - broadcast_12_loss: 1.0000\n",
      "Running worker: 4\n",
      "Fold: 4 -> Loss:0.009, Acc:1.0000\n",
      "Prediction Accuracy\n",
      "30/30 [==============================] - 0s 22us/step\n",
      "Scores on data set: loss=0.353 accuracy=0.9000\n",
      "Fold Correct: 27\n",
      "Epoch 1/1\n",
      "14/14 [==============================] - 0s 25ms/step - loss: 3.0000 - broadcast_13_loss: 1.0000 - broadcast_14_loss: 1.0000 - broadcast_15_loss: 1.0000\n",
      "Running worker: 5\n",
      "Fold: 5 -> Loss:0.009, Acc:1.0000\n",
      "Prediction Accuracy\n",
      "30/30 [==============================] - 0s 21us/step\n",
      "Scores on data set: loss=0.199 accuracy=0.9333\n",
      "Fold Correct: 28\n",
      "Epoch 1/1\n",
      "14/14 [==============================] - 0s 28ms/step - loss: 3.0000 - broadcast_16_loss: 1.0000 - broadcast_17_loss: 1.0000 - broadcast_18_loss: 1.0000\n",
      "Running worker: 6\n",
      "Fold: 6 -> Loss:0.019, Acc:0.9963\n",
      "Prediction Accuracy\n",
      "30/30 [==============================] - 0s 19us/step\n",
      "Scores on data set: loss=0.122 accuracy=0.9000\n",
      "Fold Correct: 27\n",
      "Epoch 1/1\n",
      "14/14 [==============================] - 0s 31ms/step - loss: 3.0000 - broadcast_19_loss: 1.0000 - broadcast_20_loss: 1.0000 - broadcast_21_loss: 1.0000\n",
      "Running worker: 7\n",
      "Fold: 7 -> Loss:0.007, Acc:1.0000\n",
      "Prediction Accuracy\n",
      "30/30 [==============================] - 0s 26us/step\n",
      "Scores on data set: loss=0.082 accuracy=0.9667\n",
      "Fold Correct: 29\n",
      "Epoch 1/1\n",
      "14/14 [==============================] - 0s 34ms/step - loss: 3.0000 - broadcast_22_loss: 1.0000 - broadcast_23_loss: 1.0000 - broadcast_24_loss: 1.0000\n",
      "Running worker: 8\n",
      "Fold: 8 -> Loss:0.021, Acc:0.9963\n",
      "Prediction Accuracy\n",
      "30/30 [==============================] - 0s 28us/step\n",
      "Scores on data set: loss=0.070 accuracy=0.9333\n",
      "Fold Correct: 28\n",
      "Epoch 1/1\n",
      "14/14 [==============================] - 1s 38ms/step - loss: 3.0000 - broadcast_25_loss: 1.0000 - broadcast_26_loss: 1.0000 - broadcast_27_loss: 1.0000\n",
      "Running worker: 9\n",
      "Fold: 9 -> Loss:0.012, Acc:1.0000\n",
      "Prediction Accuracy\n",
      "28/28 [==============================] - 0s 28us/step\n",
      "Scores on data set: loss=0.269 accuracy=0.8929\n",
      "Fold Correct: 25\n",
      "Epoch 1/1\n",
      "14/14 [==============================] - 1s 41ms/step - loss: 3.0000 - broadcast_28_loss: 1.0000 - broadcast_29_loss: 1.0000 - broadcast_30_loss: 1.0000\n",
      "Runtime: 224.497s\n",
      "Correct: 274\n",
      "Test Size: 298\n",
      "Confusion matrix, without normalization\n",
      "[[0.95973154 0.04026846]\n",
      " [0.12080537 0.87919463]]\n",
      "Overall Accuracy: 0.9195\n",
      "Loading LRP Analyzers...\n",
      "Epoch 1/1\n",
      "14/14 [==============================] - 1s 42ms/step - loss: 3.0000 - broadcast_31_loss: 1.0000 - broadcast_32_loss: 1.0000 - broadcast_33_loss: 1.0000\n",
      "Epoch 1/1\n",
      "14/14 [==============================] - 1s 44ms/step - loss: 3.0000 - broadcast_34_loss: 1.0000 - broadcast_35_loss: 1.0000 - broadcast_36_loss: 1.0000\n",
      "Epoch 1/1\n",
      "14/14 [==============================] - 1s 46ms/step - loss: 3.0000 - broadcast_37_loss: 1.0000 - broadcast_38_loss: 1.0000 - broadcast_39_loss: 1.0000\n",
      "Epoch 1/1\n",
      "14/14 [==============================] - 1s 47ms/step - loss: 3.0000 - broadcast_40_loss: 1.0000 - broadcast_41_loss: 1.0000 - broadcast_42_loss: 1.0000\n",
      "Epoch 1/1\n",
      "14/14 [==============================] - 1s 48ms/step - loss: 3.0000 - broadcast_43_loss: 1.0000 - broadcast_44_loss: 1.0000 - broadcast_45_loss: 1.0000\n",
      "Epoch 1/1\n",
      "14/14 [==============================] - 1s 51ms/step - loss: 3.0000 - broadcast_46_loss: 1.0000 - broadcast_47_loss: 1.0000 - broadcast_48_loss: 1.0000\n",
      "Epoch 1/1\n",
      "14/14 [==============================] - 1s 52ms/step - loss: 3.0000 - broadcast_49_loss: 1.0000 - broadcast_50_loss: 1.0000 - broadcast_51_loss: 1.0000\n",
      "Epoch 1/1\n",
      "14/14 [==============================] - 1s 54ms/step - loss: 3.0000 - broadcast_52_loss: 1.0000 - broadcast_53_loss: 1.0000 - broadcast_54_loss: 1.0000\n",
      "Epoch 1/1\n",
      "14/14 [==============================] - 1s 57ms/step - loss: 3.0000 - broadcast_55_loss: 1.0000 - broadcast_56_loss: 1.0000 - broadcast_57_loss: 1.0000\n",
      "Epoch 1/1\n",
      "14/14 [==============================] - 1s 59ms/step - loss: 3.0000 - broadcast_58_loss: 1.0000 - broadcast_59_loss: 1.0000 - broadcast_60_loss: 1.0000\n",
      "Done!\n"
     ]
    },
    {
     "data": {
      "image/png": "[encoded data removed]",
      "text/plain": [
       "<Figure size 576x576 with 2 Axes>"
      ]
     },
     "metadata": {
      "needs_background": "light"
     },
     "output_type": "display_data"
    }
   ],
   "source": [
    "cm = smote_pipeline.train_model(batch_size=int(10), epochs=500, cross_validation=True,\n",
    "                                parallel=False, verbose=0)"
   ]
  },
  {
   "cell_type": "code",
   "execution_count": 187,
   "metadata": {},
   "outputs": [],
   "source": [
    "reindexed_labels = synth_train_labels.iloc[smote_pipeline.testing_idxs]\n",
    "preds = pd.DataFrame(smote_pipeline.predictions, index = reindexed_labels.index, dtype=int)\n",
    "correct_idxs = smote_pipeline.correct_preds_bool_arr\n",
    "# preds = reindexed_labels[correct_idxs]\n",
    "\n",
    "# All negative indices correspond to synthetic samples\n",
    "real_sample_preds = preds[preds.index > 0]"
   ]
  },
  {
   "cell_type": "code",
   "execution_count": 163,
   "metadata": {},
   "outputs": [
    {
     "name": "stdout",
     "output_type": "stream",
     "text": [
      "Confusion matrix, without normalization\n",
      "[[0.84615385 0.15384615]\n",
      " [0.12080537 0.87919463]]\n",
      "Overall Accuracy: 0.8723\n"
     ]
    },
    {
     "data": {
      "text/plain": [
       "(<matplotlib.axes._subplots.AxesSubplot at 0x1a47c0f240>, array([[ 33,   6],\n",
       "        [ 18, 131]]))"
      ]
     },
     "execution_count": 163,
     "metadata": {},
     "output_type": "execute_result"
    },
    {
     "data": {
      "image/png": "[encoded data removed]",
      "text/plain": [
       "<Figure size 576x576 with 2 Axes>"
      ]
     },
     "metadata": {
      "needs_background": "light"
     },
     "output_type": "display_data"
    }
   ],
   "source": [
    "y_pred = real_sample_preds\n",
    "y_true = risk_labels.loc[real_sample_preds.index]\n",
    "plot_confusion_matrix(y_true, y_pred, enc.categories_[0])"
   ]
  },
  {
   "cell_type": "markdown",
   "metadata": {},
   "source": [
    "## Plotting LRP on pre-SMOTE N/W"
   ]
  },
  {
   "cell_type": "code",
   "execution_count": 225,
   "metadata": {},
   "outputs": [],
   "source": [
    "correct_preds = preds[correct_idxs]\n",
    "ASD_preds = correct_preds[correct_preds.values == 0]\n",
    "real_ASD_preds = ASD_preds.index > 0\n",
    "# real_ASD_preds"
   ]
  },
  {
   "cell_type": "code",
   "execution_count": 211,
   "metadata": {},
   "outputs": [
    {
     "name": "stdout",
     "output_type": "stream",
     "text": [
      "LRP Shape:  (143, 333)\n",
      "Cluster Search Space: range(12, 18)\n",
      "Minimum Size:\n",
      "Clusters                  (14, 14)\n",
      "Noise                     (12, 12)\n",
      "Halkidi                   (12, 12)\n",
      "Halkidi-Filtered Noise    (12, 12)\n",
      "dtype: object\n",
      "Clusters Found: 3\n"
     ]
    }
   ],
   "source": [
    "from sklearn.preprocessing import MinMaxScaler\n",
    "reducer = umap.UMAP(random_state=42,\n",
    "                    n_components = 100,\n",
    "                    n_neighbors=15,\n",
    "                    min_dist=0)\n",
    "\n",
    "smote_pipeline.reducer_pipeline = Pipeline([\n",
    "            (\"umap\", reducer),\n",
    "            (\"scaler\",  MinMaxScaler())\n",
    "        ])\n",
    "\n",
    "_, correct_pred_idxs = smote_pipeline.train_clusterer(plot=False, class_label=0)\n",
    "print(\"Clusters Found:\", max(smote_pipeline.clusterer.labels_)+1)"
   ]
  },
  {
   "cell_type": "code",
   "execution_count": 216,
   "metadata": {},
   "outputs": [
    {
     "data": {
      "text/html": [
       "        <script type=\"text/javascript\">\n",
       "        window.PlotlyConfig = {MathJaxConfig: 'local'};\n",
       "        if (window.MathJax) {MathJax.Hub.Config({SVG: {font: \"STIX-Web\"}});}\n",
       "        if (typeof require !== 'undefined') {\n",
       "        require.undef(\"plotly\");\n",
       "        requirejs.config({\n",
       "            paths: {\n",
       "                'plotly': ['https://cdn.plot.ly/plotly-latest.min']\n",
       "            }\n",
       "        });\n",
       "        require(['plotly'], function(Plotly) {\n",
       "            window._Plotly = Plotly;\n",
       "        });\n",
       "        }\n",
       "        </script>\n",
       "        "
      ]
     },
     "metadata": {},
     "output_type": "display_data"
    },
    {
     "data": {
      "application/vnd.plotly.v1+json": {
       "config": {
        "linkText": "Export to plot.ly",
        "plotlyServerURL": "https://plot.ly",
        "showLink": false
       },
       "data": [
        {
         "marker": {
          "color": [
           1,
           -1,
           0,
           -1,
           1,
           0,
           -1,
           -1,
           2,
           1,
           0,
           -1,
           -1,
           -1,
           -1,
           2,
           1,
           -1,
           0,
           0,
           1,
           -1,
           -1,
           1,
           0,
           1,
           -1,
           2,
           0,
           -1,
           -1,
           1,
           2
          ],
          "colorscale": [
           [
            0,
            "rgb(150,0,90)"
           ],
           [
            0.125,
            "rgb(0,0,200)"
           ],
           [
            0.25,
            "rgb(0,25,255)"
           ],
           [
            0.375,
            "rgb(0,152,255)"
           ],
           [
            0.5,
            "rgb(44,255,150)"
           ],
           [
            0.625,
            "rgb(151,255,0)"
           ],
           [
            0.75,
            "rgb(255,234,0)"
           ],
           [
            0.875,
            "rgb(255,111,0)"
           ],
           [
            1,
            "rgb(255,0,0)"
           ]
          ],
          "opacity": 0.8,
          "showscale": true,
          "size": 5
         },
         "mode": "markers",
         "name": "Training",
         "text": [],
         "type": "scatter3d",
         "x": [
          0.49031007289886475,
          0.9544124603271484,
          0.9992042779922485,
          0.22855627536773682,
          0.7998007535934448,
          0.8615453243255615,
          0.0008603930473327637,
          0.5327622890472412,
          0.33137598633766174,
          0.49755990505218506,
          0.856055736541748,
          0.8739673495292664,
          0.028793394565582275,
          0,
          0.7795563340187073,
          0.28196460008621216,
          0.6048911213874817,
          0.05123049020767212,
          0.9140077233314514,
          1,
          0.37022632360458374,
          0.6901835203170776,
          0.012250900268554688,
          0.6028384566307068,
          0.919488251209259,
          0.570113480091095,
          0.04945904016494751,
          0.17319023609161377,
          0.9357748031616211,
          0.8696565628051758,
          0.2778155207633972,
          0.6607860922813416,
          0.18001139163970947
         ],
         "y": [
          0.594474196434021,
          0.87174391746521,
          0.8624687194824219,
          0.4919205904006958,
          0.7515331506729126,
          0.7674396634101868,
          0,
          0.7433762550354004,
          0.6025285720825195,
          0.6582452058792114,
          0.9999999403953552,
          0.9458081126213074,
          0.09360814094543457,
          0.04380679130554199,
          0.8242253661155701,
          0.5384964942932129,
          0.7717425227165222,
          0.20517146587371826,
          0.9858793020248413,
          0.9148234724998474,
          0.6136013269424438,
          0.7396063804626465,
          0.15378105640411377,
          0.6378716230392456,
          0.8366444110870361,
          0.6547132730484009,
          0.11832916736602783,
          0.3670567274093628,
          0.8686028718948364,
          0.76169753074646,
          0.46613752841949463,
          0.649910569190979,
          0.4611344337463379
         ],
         "z": [
          0.5794445872306824,
          0.1891685128211975,
          0.07958251237869263,
          0.87810879945755,
          0.29401731491088867,
          0.411648154258728,
          0.7822093963623047,
          0.5716843008995056,
          0.8695604801177979,
          0.7286932468414307,
          0.22407352924346924,
          0.2833801507949829,
          0.8404901623725891,
          0.7778478860855103,
          0.3504522442817688,
          0.9086765646934509,
          0.5542229413986206,
          0.922247052192688,
          0.1627522110939026,
          0,
          0.7649174928665161,
          0.4610140919685364,
          0.8258068561553955,
          0.48835933208465576,
          0.4159563183784485,
          0.6649196147918701,
          0.8962888121604919,
          0.8880966305732727,
          0.05335932970046997,
          0.25891029834747314,
          1,
          0.5596664547920227,
          0.9676113724708557
         ]
        }
       ],
       "layout": {
        "autosize": false,
        "height": 1000,
        "paper_bgcolor": "#F5F5F5",
        "scene": {
         "aspectmode": "auto",
         "aspectratio": {
          "x": 1.0000000198682157,
          "y": 0.9999999602635697,
          "z": 1.0000000198682157
         },
         "camera": {
          "center": {
           "x": 0,
           "y": 0,
           "z": 0
          },
          "eye": {
           "x": 3.697388296720369,
           "y": -1.11515934467224,
           "z": 1.0540585462769576
          },
          "projection": {
           "type": "perspective"
          },
          "up": {
           "x": 0,
           "y": 0,
           "z": 1
          }
         }
        },
        "template": {
         "data": {
          "bar": [
           {
            "error_x": {
             "color": "#2a3f5f"
            },
            "error_y": {
             "color": "#2a3f5f"
            },
            "marker": {
             "line": {
              "color": "#E5ECF6",
              "width": 0.5
             }
            },
            "type": "bar"
           }
          ],
          "barpolar": [
           {
            "marker": {
             "line": {
              "color": "#E5ECF6",
              "width": 0.5
             }
            },
            "type": "barpolar"
           }
          ],
          "carpet": [
           {
            "aaxis": {
             "endlinecolor": "#2a3f5f",
             "gridcolor": "white",
             "linecolor": "white",
             "minorgridcolor": "white",
             "startlinecolor": "#2a3f5f"
            },
            "baxis": {
             "endlinecolor": "#2a3f5f",
             "gridcolor": "white",
             "linecolor": "white",
             "minorgridcolor": "white",
             "startlinecolor": "#2a3f5f"
            },
            "type": "carpet"
           }
          ],
          "choropleth": [
           {
            "colorbar": {
             "outlinewidth": 0,
             "ticks": ""
            },
            "type": "choropleth"
           }
          ],
          "contour": [
           {
            "colorbar": {
             "outlinewidth": 0,
             "ticks": ""
            },
            "colorscale": [
             [
              0,
              "#0d0887"
             ],
             [
              0.1111111111111111,
              "#46039f"
             ],
             [
              0.2222222222222222,
              "#7201a8"
             ],
             [
              0.3333333333333333,
              "#9c179e"
             ],
             [
              0.4444444444444444,
              "#bd3786"
             ],
             [
              0.5555555555555556,
              "#d8576b"
             ],
             [
              0.6666666666666666,
              "#ed7953"
             ],
             [
              0.7777777777777778,
              "#fb9f3a"
             ],
             [
              0.8888888888888888,
              "#fdca26"
             ],
             [
              1,
              "#f0f921"
             ]
            ],
            "type": "contour"
           }
          ],
          "contourcarpet": [
           {
            "colorbar": {
             "outlinewidth": 0,
             "ticks": ""
            },
            "type": "contourcarpet"
           }
          ],
          "heatmap": [
           {
            "colorbar": {
             "outlinewidth": 0,
             "ticks": ""
            },
            "colorscale": [
             [
              0,
              "#0d0887"
             ],
             [
              0.1111111111111111,
              "#46039f"
             ],
             [
              0.2222222222222222,
              "#7201a8"
             ],
             [
              0.3333333333333333,
              "#9c179e"
             ],
             [
              0.4444444444444444,
              "#bd3786"
             ],
             [
              0.5555555555555556,
              "#d8576b"
             ],
             [
              0.6666666666666666,
              "#ed7953"
             ],
             [
              0.7777777777777778,
              "#fb9f3a"
             ],
             [
              0.8888888888888888,
              "#fdca26"
             ],
             [
              1,
              "#f0f921"
             ]
            ],
            "type": "heatmap"
           }
          ],
          "heatmapgl": [
           {
            "colorbar": {
             "outlinewidth": 0,
             "ticks": ""
            },
            "colorscale": [
             [
              0,
              "#0d0887"
             ],
             [
              0.1111111111111111,
              "#46039f"
             ],
             [
              0.2222222222222222,
              "#7201a8"
             ],
             [
              0.3333333333333333,
              "#9c179e"
             ],
             [
              0.4444444444444444,
              "#bd3786"
             ],
             [
              0.5555555555555556,
              "#d8576b"
             ],
             [
              0.6666666666666666,
              "#ed7953"
             ],
             [
              0.7777777777777778,
              "#fb9f3a"
             ],
             [
              0.8888888888888888,
              "#fdca26"
             ],
             [
              1,
              "#f0f921"
             ]
            ],
            "type": "heatmapgl"
           }
          ],
          "histogram": [
           {
            "marker": {
             "colorbar": {
              "outlinewidth": 0,
              "ticks": ""
             }
            },
            "type": "histogram"
           }
          ],
          "histogram2d": [
           {
            "colorbar": {
             "outlinewidth": 0,
             "ticks": ""
            },
            "colorscale": [
             [
              0,
              "#0d0887"
             ],
             [
              0.1111111111111111,
              "#46039f"
             ],
             [
              0.2222222222222222,
              "#7201a8"
             ],
             [
              0.3333333333333333,
              "#9c179e"
             ],
             [
              0.4444444444444444,
              "#bd3786"
             ],
             [
              0.5555555555555556,
              "#d8576b"
             ],
             [
              0.6666666666666666,
              "#ed7953"
             ],
             [
              0.7777777777777778,
              "#fb9f3a"
             ],
             [
              0.8888888888888888,
              "#fdca26"
             ],
             [
              1,
              "#f0f921"
             ]
            ],
            "type": "histogram2d"
           }
          ],
          "histogram2dcontour": [
           {
            "colorbar": {
             "outlinewidth": 0,
             "ticks": ""
            },
            "colorscale": [
             [
              0,
              "#0d0887"
             ],
             [
              0.1111111111111111,
              "#46039f"
             ],
             [
              0.2222222222222222,
              "#7201a8"
             ],
             [
              0.3333333333333333,
              "#9c179e"
             ],
             [
              0.4444444444444444,
              "#bd3786"
             ],
             [
              0.5555555555555556,
              "#d8576b"
             ],
             [
              0.6666666666666666,
              "#ed7953"
             ],
             [
              0.7777777777777778,
              "#fb9f3a"
             ],
             [
              0.8888888888888888,
              "#fdca26"
             ],
             [
              1,
              "#f0f921"
             ]
            ],
            "type": "histogram2dcontour"
           }
          ],
          "mesh3d": [
           {
            "colorbar": {
             "outlinewidth": 0,
             "ticks": ""
            },
            "type": "mesh3d"
           }
          ],
          "parcoords": [
           {
            "line": {
             "colorbar": {
              "outlinewidth": 0,
              "ticks": ""
             }
            },
            "type": "parcoords"
           }
          ],
          "scatter": [
           {
            "marker": {
             "colorbar": {
              "outlinewidth": 0,
              "ticks": ""
             }
            },
            "type": "scatter"
           }
          ],
          "scatter3d": [
           {
            "line": {
             "colorbar": {
              "outlinewidth": 0,
              "ticks": ""
             }
            },
            "marker": {
             "colorbar": {
              "outlinewidth": 0,
              "ticks": ""
             }
            },
            "type": "scatter3d"
           }
          ],
          "scattercarpet": [
           {
            "marker": {
             "colorbar": {
              "outlinewidth": 0,
              "ticks": ""
             }
            },
            "type": "scattercarpet"
           }
          ],
          "scattergeo": [
           {
            "marker": {
             "colorbar": {
              "outlinewidth": 0,
              "ticks": ""
             }
            },
            "type": "scattergeo"
           }
          ],
          "scattergl": [
           {
            "marker": {
             "colorbar": {
              "outlinewidth": 0,
              "ticks": ""
             }
            },
            "type": "scattergl"
           }
          ],
          "scattermapbox": [
           {
            "marker": {
             "colorbar": {
              "outlinewidth": 0,
              "ticks": ""
             }
            },
            "type": "scattermapbox"
           }
          ],
          "scatterpolar": [
           {
            "marker": {
             "colorbar": {
              "outlinewidth": 0,
              "ticks": ""
             }
            },
            "type": "scatterpolar"
           }
          ],
          "scatterpolargl": [
           {
            "marker": {
             "colorbar": {
              "outlinewidth": 0,
              "ticks": ""
             }
            },
            "type": "scatterpolargl"
           }
          ],
          "scatterternary": [
           {
            "marker": {
             "colorbar": {
              "outlinewidth": 0,
              "ticks": ""
             }
            },
            "type": "scatterternary"
           }
          ],
          "surface": [
           {
            "colorbar": {
             "outlinewidth": 0,
             "ticks": ""
            },
            "colorscale": [
             [
              0,
              "#0d0887"
             ],
             [
              0.1111111111111111,
              "#46039f"
             ],
             [
              0.2222222222222222,
              "#7201a8"
             ],
             [
              0.3333333333333333,
              "#9c179e"
             ],
             [
              0.4444444444444444,
              "#bd3786"
             ],
             [
              0.5555555555555556,
              "#d8576b"
             ],
             [
              0.6666666666666666,
              "#ed7953"
             ],
             [
              0.7777777777777778,
              "#fb9f3a"
             ],
             [
              0.8888888888888888,
              "#fdca26"
             ],
             [
              1,
              "#f0f921"
             ]
            ],
            "type": "surface"
           }
          ],
          "table": [
           {
            "cells": {
             "fill": {
              "color": "#EBF0F8"
             },
             "line": {
              "color": "white"
             }
            },
            "header": {
             "fill": {
              "color": "#C8D4E3"
             },
             "line": {
              "color": "white"
             }
            },
            "type": "table"
           }
          ]
         },
         "layout": {
          "annotationdefaults": {
           "arrowcolor": "#2a3f5f",
           "arrowhead": 0,
           "arrowwidth": 1
          },
          "colorscale": {
           "diverging": [
            [
             0,
             "#8e0152"
            ],
            [
             0.1,
             "#c51b7d"
            ],
            [
             0.2,
             "#de77ae"
            ],
            [
             0.3,
             "#f1b6da"
            ],
            [
             0.4,
             "#fde0ef"
            ],
            [
             0.5,
             "#f7f7f7"
            ],
            [
             0.6,
             "#e6f5d0"
            ],
            [
             0.7,
             "#b8e186"
            ],
            [
             0.8,
             "#7fbc41"
            ],
            [
             0.9,
             "#4d9221"
            ],
            [
             1,
             "#276419"
            ]
           ],
           "sequential": [
            [
             0,
             "#0d0887"
            ],
            [
             0.1111111111111111,
             "#46039f"
            ],
            [
             0.2222222222222222,
             "#7201a8"
            ],
            [
             0.3333333333333333,
             "#9c179e"
            ],
            [
             0.4444444444444444,
             "#bd3786"
            ],
            [
             0.5555555555555556,
             "#d8576b"
            ],
            [
             0.6666666666666666,
             "#ed7953"
            ],
            [
             0.7777777777777778,
             "#fb9f3a"
            ],
            [
             0.8888888888888888,
             "#fdca26"
            ],
            [
             1,
             "#f0f921"
            ]
           ],
           "sequentialminus": [
            [
             0,
             "#0d0887"
            ],
            [
             0.1111111111111111,
             "#46039f"
            ],
            [
             0.2222222222222222,
             "#7201a8"
            ],
            [
             0.3333333333333333,
             "#9c179e"
            ],
            [
             0.4444444444444444,
             "#bd3786"
            ],
            [
             0.5555555555555556,
             "#d8576b"
            ],
            [
             0.6666666666666666,
             "#ed7953"
            ],
            [
             0.7777777777777778,
             "#fb9f3a"
            ],
            [
             0.8888888888888888,
             "#fdca26"
            ],
            [
             1,
             "#f0f921"
            ]
           ]
          },
          "colorway": [
           "#636efa",
           "#EF553B",
           "#00cc96",
           "#ab63fa",
           "#FFA15A",
           "#19d3f3",
           "#FF6692",
           "#B6E880",
           "#FF97FF",
           "#FECB52"
          ],
          "font": {
           "color": "#2a3f5f"
          },
          "geo": {
           "bgcolor": "white",
           "lakecolor": "white",
           "landcolor": "#E5ECF6",
           "showlakes": true,
           "showland": true,
           "subunitcolor": "white"
          },
          "hoverlabel": {
           "align": "left"
          },
          "hovermode": "closest",
          "mapbox": {
           "style": "light"
          },
          "paper_bgcolor": "white",
          "plot_bgcolor": "#E5ECF6",
          "polar": {
           "angularaxis": {
            "gridcolor": "white",
            "linecolor": "white",
            "ticks": ""
           },
           "bgcolor": "#E5ECF6",
           "radialaxis": {
            "gridcolor": "white",
            "linecolor": "white",
            "ticks": ""
           }
          },
          "scene": {
           "xaxis": {
            "backgroundcolor": "#E5ECF6",
            "gridcolor": "white",
            "gridwidth": 2,
            "linecolor": "white",
            "showbackground": true,
            "ticks": "",
            "zerolinecolor": "white"
           },
           "yaxis": {
            "backgroundcolor": "#E5ECF6",
            "gridcolor": "white",
            "gridwidth": 2,
            "linecolor": "white",
            "showbackground": true,
            "ticks": "",
            "zerolinecolor": "white"
           },
           "zaxis": {
            "backgroundcolor": "#E5ECF6",
            "gridcolor": "white",
            "gridwidth": 2,
            "linecolor": "white",
            "showbackground": true,
            "ticks": "",
            "zerolinecolor": "white"
           }
          },
          "shapedefaults": {
           "line": {
            "color": "#2a3f5f"
           }
          },
          "ternary": {
           "aaxis": {
            "gridcolor": "white",
            "linecolor": "white",
            "ticks": ""
           },
           "baxis": {
            "gridcolor": "white",
            "linecolor": "white",
            "ticks": ""
           },
           "bgcolor": "#E5ECF6",
           "caxis": {
            "gridcolor": "white",
            "linecolor": "white",
            "ticks": ""
           }
          },
          "title": {
           "x": 0.05
          },
          "xaxis": {
           "automargin": true,
           "gridcolor": "white",
           "linecolor": "white",
           "ticks": "",
           "zerolinecolor": "white",
           "zerolinewidth": 2
          },
          "yaxis": {
           "automargin": true,
           "gridcolor": "white",
           "linecolor": "white",
           "ticks": "",
           "zerolinecolor": "white",
           "zerolinewidth": 2
          }
         }
        },
        "title": {
         "text": "3D LRP Embedding"
        },
        "width": 1200
       }
      },
      "text/html": [
       "<div>\n",
       "        \n",
       "        \n",
       "            <div id=\"d2841306-c5ff-4fc6-b391-06a40152ec77\" class=\"plotly-graph-div\" style=\"height:1000px; width:1200px;\"></div>\n",
       "            <script type=\"text/javascript\">\n",
       "                require([\"plotly\"], function(Plotly) {\n",
       "                    window.PLOTLYENV=window.PLOTLYENV || {};\n",
       "                    \n",
       "                if (document.getElementById(\"d2841306-c5ff-4fc6-b391-06a40152ec77\")) {\n",
       "                    Plotly.newPlot(\n",
       "                        'd2841306-c5ff-4fc6-b391-06a40152ec77',\n",
       "                        [{\"marker\": {\"color\": [1, -1, 0, -1, 1, 0, -1, -1, 2, 1, 0, -1, -1, -1, -1, 2, 1, -1, 0, 0, 1, -1, -1, 1, 0, 1, -1, 2, 0, -1, -1, 1, 2], \"colorscale\": [[0.0, \"rgb(150,0,90)\"], [0.125, \"rgb(0,0,200)\"], [0.25, \"rgb(0,25,255)\"], [0.375, \"rgb(0,152,255)\"], [0.5, \"rgb(44,255,150)\"], [0.625, \"rgb(151,255,0)\"], [0.75, \"rgb(255,234,0)\"], [0.875, \"rgb(255,111,0)\"], [1.0, \"rgb(255,0,0)\"]], \"opacity\": 0.8, \"showscale\": true, \"size\": 5}, \"mode\": \"markers\", \"name\": \"Training\", \"text\": [], \"type\": \"scatter3d\", \"x\": [0.49031007289886475, 0.9544124603271484, 0.9992042779922485, 0.22855627536773682, 0.7998007535934448, 0.8615453243255615, 0.0008603930473327637, 0.5327622890472412, 0.33137598633766174, 0.49755990505218506, 0.856055736541748, 0.8739673495292664, 0.028793394565582275, 0.0, 0.7795563340187073, 0.28196460008621216, 0.6048911213874817, 0.05123049020767212, 0.9140077233314514, 1.0, 0.37022632360458374, 0.6901835203170776, 0.012250900268554688, 0.6028384566307068, 0.919488251209259, 0.570113480091095, 0.04945904016494751, 0.17319023609161377, 0.9357748031616211, 0.8696565628051758, 0.2778155207633972, 0.6607860922813416, 0.18001139163970947], \"y\": [0.594474196434021, 0.87174391746521, 0.8624687194824219, 0.4919205904006958, 0.7515331506729126, 0.7674396634101868, 0.0, 0.7433762550354004, 0.6025285720825195, 0.6582452058792114, 0.9999999403953552, 0.9458081126213074, 0.09360814094543457, 0.04380679130554199, 0.8242253661155701, 0.5384964942932129, 0.7717425227165222, 0.20517146587371826, 0.9858793020248413, 0.9148234724998474, 0.6136013269424438, 0.7396063804626465, 0.15378105640411377, 0.6378716230392456, 0.8366444110870361, 0.6547132730484009, 0.11832916736602783, 0.3670567274093628, 0.8686028718948364, 0.76169753074646, 0.46613752841949463, 0.649910569190979, 0.4611344337463379], \"z\": [0.5794445872306824, 0.1891685128211975, 0.07958251237869263, 0.87810879945755, 0.29401731491088867, 0.411648154258728, 0.7822093963623047, 0.5716843008995056, 0.8695604801177979, 0.7286932468414307, 0.22407352924346924, 0.2833801507949829, 0.8404901623725891, 0.7778478860855103, 0.3504522442817688, 0.9086765646934509, 0.5542229413986206, 0.922247052192688, 0.1627522110939026, 0.0, 0.7649174928665161, 0.4610140919685364, 0.8258068561553955, 0.48835933208465576, 0.4159563183784485, 0.6649196147918701, 0.8962888121604919, 0.8880966305732727, 0.05335932970046997, 0.25891029834747314, 1.0, 0.5596664547920227, 0.9676113724708557]}],\n",
       "                        {\"autosize\": false, \"height\": 1000, \"paper_bgcolor\": \"#F5F5F5\", \"template\": {\"data\": {\"bar\": [{\"error_x\": {\"color\": \"#2a3f5f\"}, \"error_y\": {\"color\": \"#2a3f5f\"}, \"marker\": {\"line\": {\"color\": \"#E5ECF6\", \"width\": 0.5}}, \"type\": \"bar\"}], \"barpolar\": [{\"marker\": {\"line\": {\"color\": \"#E5ECF6\", \"width\": 0.5}}, \"type\": \"barpolar\"}], \"carpet\": [{\"aaxis\": {\"endlinecolor\": \"#2a3f5f\", \"gridcolor\": \"white\", \"linecolor\": \"white\", \"minorgridcolor\": \"white\", \"startlinecolor\": \"#2a3f5f\"}, \"baxis\": {\"endlinecolor\": \"#2a3f5f\", \"gridcolor\": \"white\", \"linecolor\": \"white\", \"minorgridcolor\": \"white\", \"startlinecolor\": \"#2a3f5f\"}, \"type\": \"carpet\"}], \"choropleth\": [{\"colorbar\": {\"outlinewidth\": 0, \"ticks\": \"\"}, \"type\": \"choropleth\"}], \"contour\": [{\"colorbar\": {\"outlinewidth\": 0, \"ticks\": \"\"}, \"colorscale\": [[0.0, \"#0d0887\"], [0.1111111111111111, \"#46039f\"], [0.2222222222222222, \"#7201a8\"], [0.3333333333333333, \"#9c179e\"], [0.4444444444444444, \"#bd3786\"], [0.5555555555555556, \"#d8576b\"], [0.6666666666666666, \"#ed7953\"], [0.7777777777777778, \"#fb9f3a\"], [0.8888888888888888, \"#fdca26\"], [1.0, \"#f0f921\"]], \"type\": \"contour\"}], \"contourcarpet\": [{\"colorbar\": {\"outlinewidth\": 0, \"ticks\": \"\"}, \"type\": \"contourcarpet\"}], \"heatmap\": [{\"colorbar\": {\"outlinewidth\": 0, \"ticks\": \"\"}, \"colorscale\": [[0.0, \"#0d0887\"], [0.1111111111111111, \"#46039f\"], [0.2222222222222222, \"#7201a8\"], [0.3333333333333333, \"#9c179e\"], [0.4444444444444444, \"#bd3786\"], [0.5555555555555556, \"#d8576b\"], [0.6666666666666666, \"#ed7953\"], [0.7777777777777778, \"#fb9f3a\"], [0.8888888888888888, \"#fdca26\"], [1.0, \"#f0f921\"]], \"type\": \"heatmap\"}], \"heatmapgl\": [{\"colorbar\": {\"outlinewidth\": 0, \"ticks\": \"\"}, \"colorscale\": [[0.0, \"#0d0887\"], [0.1111111111111111, \"#46039f\"], [0.2222222222222222, \"#7201a8\"], [0.3333333333333333, \"#9c179e\"], [0.4444444444444444, \"#bd3786\"], [0.5555555555555556, \"#d8576b\"], [0.6666666666666666, \"#ed7953\"], [0.7777777777777778, \"#fb9f3a\"], [0.8888888888888888, \"#fdca26\"], [1.0, \"#f0f921\"]], \"type\": \"heatmapgl\"}], \"histogram\": [{\"marker\": {\"colorbar\": {\"outlinewidth\": 0, \"ticks\": \"\"}}, \"type\": \"histogram\"}], \"histogram2d\": [{\"colorbar\": {\"outlinewidth\": 0, \"ticks\": \"\"}, \"colorscale\": [[0.0, \"#0d0887\"], [0.1111111111111111, \"#46039f\"], [0.2222222222222222, \"#7201a8\"], [0.3333333333333333, \"#9c179e\"], [0.4444444444444444, \"#bd3786\"], [0.5555555555555556, \"#d8576b\"], [0.6666666666666666, \"#ed7953\"], [0.7777777777777778, \"#fb9f3a\"], [0.8888888888888888, \"#fdca26\"], [1.0, \"#f0f921\"]], \"type\": \"histogram2d\"}], \"histogram2dcontour\": [{\"colorbar\": {\"outlinewidth\": 0, \"ticks\": \"\"}, \"colorscale\": [[0.0, \"#0d0887\"], [0.1111111111111111, \"#46039f\"], [0.2222222222222222, \"#7201a8\"], [0.3333333333333333, \"#9c179e\"], [0.4444444444444444, \"#bd3786\"], [0.5555555555555556, \"#d8576b\"], [0.6666666666666666, \"#ed7953\"], [0.7777777777777778, \"#fb9f3a\"], [0.8888888888888888, \"#fdca26\"], [1.0, \"#f0f921\"]], \"type\": \"histogram2dcontour\"}], \"mesh3d\": [{\"colorbar\": {\"outlinewidth\": 0, \"ticks\": \"\"}, \"type\": \"mesh3d\"}], \"parcoords\": [{\"line\": {\"colorbar\": {\"outlinewidth\": 0, \"ticks\": \"\"}}, \"type\": \"parcoords\"}], \"scatter\": [{\"marker\": {\"colorbar\": {\"outlinewidth\": 0, \"ticks\": \"\"}}, \"type\": \"scatter\"}], \"scatter3d\": [{\"line\": {\"colorbar\": {\"outlinewidth\": 0, \"ticks\": \"\"}}, \"marker\": {\"colorbar\": {\"outlinewidth\": 0, \"ticks\": \"\"}}, \"type\": \"scatter3d\"}], \"scattercarpet\": [{\"marker\": {\"colorbar\": {\"outlinewidth\": 0, \"ticks\": \"\"}}, \"type\": \"scattercarpet\"}], \"scattergeo\": [{\"marker\": {\"colorbar\": {\"outlinewidth\": 0, \"ticks\": \"\"}}, \"type\": \"scattergeo\"}], \"scattergl\": [{\"marker\": {\"colorbar\": {\"outlinewidth\": 0, \"ticks\": \"\"}}, \"type\": \"scattergl\"}], \"scattermapbox\": [{\"marker\": {\"colorbar\": {\"outlinewidth\": 0, \"ticks\": \"\"}}, \"type\": \"scattermapbox\"}], \"scatterpolar\": [{\"marker\": {\"colorbar\": {\"outlinewidth\": 0, \"ticks\": \"\"}}, \"type\": \"scatterpolar\"}], \"scatterpolargl\": [{\"marker\": {\"colorbar\": {\"outlinewidth\": 0, \"ticks\": \"\"}}, \"type\": \"scatterpolargl\"}], \"scatterternary\": [{\"marker\": {\"colorbar\": {\"outlinewidth\": 0, \"ticks\": \"\"}}, \"type\": \"scatterternary\"}], \"surface\": [{\"colorbar\": {\"outlinewidth\": 0, \"ticks\": \"\"}, \"colorscale\": [[0.0, \"#0d0887\"], [0.1111111111111111, \"#46039f\"], [0.2222222222222222, \"#7201a8\"], [0.3333333333333333, \"#9c179e\"], [0.4444444444444444, \"#bd3786\"], [0.5555555555555556, \"#d8576b\"], [0.6666666666666666, \"#ed7953\"], [0.7777777777777778, \"#fb9f3a\"], [0.8888888888888888, \"#fdca26\"], [1.0, \"#f0f921\"]], \"type\": \"surface\"}], \"table\": [{\"cells\": {\"fill\": {\"color\": \"#EBF0F8\"}, \"line\": {\"color\": \"white\"}}, \"header\": {\"fill\": {\"color\": \"#C8D4E3\"}, \"line\": {\"color\": \"white\"}}, \"type\": \"table\"}]}, \"layout\": {\"annotationdefaults\": {\"arrowcolor\": \"#2a3f5f\", \"arrowhead\": 0, \"arrowwidth\": 1}, \"colorscale\": {\"diverging\": [[0, \"#8e0152\"], [0.1, \"#c51b7d\"], [0.2, \"#de77ae\"], [0.3, \"#f1b6da\"], [0.4, \"#fde0ef\"], [0.5, \"#f7f7f7\"], [0.6, \"#e6f5d0\"], [0.7, \"#b8e186\"], [0.8, \"#7fbc41\"], [0.9, \"#4d9221\"], [1, \"#276419\"]], \"sequential\": [[0.0, \"#0d0887\"], [0.1111111111111111, \"#46039f\"], [0.2222222222222222, \"#7201a8\"], [0.3333333333333333, \"#9c179e\"], [0.4444444444444444, \"#bd3786\"], [0.5555555555555556, \"#d8576b\"], [0.6666666666666666, \"#ed7953\"], [0.7777777777777778, \"#fb9f3a\"], [0.8888888888888888, \"#fdca26\"], [1.0, \"#f0f921\"]], \"sequentialminus\": [[0.0, \"#0d0887\"], [0.1111111111111111, \"#46039f\"], [0.2222222222222222, \"#7201a8\"], [0.3333333333333333, \"#9c179e\"], [0.4444444444444444, \"#bd3786\"], [0.5555555555555556, \"#d8576b\"], [0.6666666666666666, \"#ed7953\"], [0.7777777777777778, \"#fb9f3a\"], [0.8888888888888888, \"#fdca26\"], [1.0, \"#f0f921\"]]}, \"colorway\": [\"#636efa\", \"#EF553B\", \"#00cc96\", \"#ab63fa\", \"#FFA15A\", \"#19d3f3\", \"#FF6692\", \"#B6E880\", \"#FF97FF\", \"#FECB52\"], \"font\": {\"color\": \"#2a3f5f\"}, \"geo\": {\"bgcolor\": \"white\", \"lakecolor\": \"white\", \"landcolor\": \"#E5ECF6\", \"showlakes\": true, \"showland\": true, \"subunitcolor\": \"white\"}, \"hoverlabel\": {\"align\": \"left\"}, \"hovermode\": \"closest\", \"mapbox\": {\"style\": \"light\"}, \"paper_bgcolor\": \"white\", \"plot_bgcolor\": \"#E5ECF6\", \"polar\": {\"angularaxis\": {\"gridcolor\": \"white\", \"linecolor\": \"white\", \"ticks\": \"\"}, \"bgcolor\": \"#E5ECF6\", \"radialaxis\": {\"gridcolor\": \"white\", \"linecolor\": \"white\", \"ticks\": \"\"}}, \"scene\": {\"xaxis\": {\"backgroundcolor\": \"#E5ECF6\", \"gridcolor\": \"white\", \"gridwidth\": 2, \"linecolor\": \"white\", \"showbackground\": true, \"ticks\": \"\", \"zerolinecolor\": \"white\"}, \"yaxis\": {\"backgroundcolor\": \"#E5ECF6\", \"gridcolor\": \"white\", \"gridwidth\": 2, \"linecolor\": \"white\", \"showbackground\": true, \"ticks\": \"\", \"zerolinecolor\": \"white\"}, \"zaxis\": {\"backgroundcolor\": \"#E5ECF6\", \"gridcolor\": \"white\", \"gridwidth\": 2, \"linecolor\": \"white\", \"showbackground\": true, \"ticks\": \"\", \"zerolinecolor\": \"white\"}}, \"shapedefaults\": {\"line\": {\"color\": \"#2a3f5f\"}}, \"ternary\": {\"aaxis\": {\"gridcolor\": \"white\", \"linecolor\": \"white\", \"ticks\": \"\"}, \"baxis\": {\"gridcolor\": \"white\", \"linecolor\": \"white\", \"ticks\": \"\"}, \"bgcolor\": \"#E5ECF6\", \"caxis\": {\"gridcolor\": \"white\", \"linecolor\": \"white\", \"ticks\": \"\"}}, \"title\": {\"x\": 0.05}, \"xaxis\": {\"automargin\": true, \"gridcolor\": \"white\", \"linecolor\": \"white\", \"ticks\": \"\", \"zerolinecolor\": \"white\", \"zerolinewidth\": 2}, \"yaxis\": {\"automargin\": true, \"gridcolor\": \"white\", \"linecolor\": \"white\", \"ticks\": \"\", \"zerolinecolor\": \"white\", \"zerolinewidth\": 2}}}, \"title\": {\"text\": \"3D LRP Embedding\"}, \"width\": 1200},\n",
       "                        {\"responsive\": true}\n",
       "                    ).then(function(){\n",
       "                            \n",
       "var gd = document.getElementById('d2841306-c5ff-4fc6-b391-06a40152ec77');\n",
       "var x = new MutationObserver(function (mutations, observer) {{\n",
       "        var display = window.getComputedStyle(gd).display;\n",
       "        if (!display || display === 'none') {{\n",
       "            console.log([gd, 'removed!']);\n",
       "            Plotly.purge(gd);\n",
       "            observer.disconnect();\n",
       "        }}\n",
       "}});\n",
       "\n",
       "// Listen for the removal of the full notebook cells\n",
       "var notebookContainer = gd.closest('#notebook-container');\n",
       "if (notebookContainer) {{\n",
       "    x.observe(notebookContainer, {childList: true});\n",
       "}}\n",
       "\n",
       "// Listen for the clearing of the current output cell\n",
       "var outputEl = gd.closest('.output');\n",
       "if (outputEl) {{\n",
       "    x.observe(outputEl, {childList: true});\n",
       "}}\n",
       "\n",
       "                        })\n",
       "                };\n",
       "                });\n",
       "            </script>\n",
       "        </div>"
      ]
     },
     "metadata": {},
     "output_type": "display_data"
    }
   ],
   "source": [
    "plot_3d_lrp(smote_pipeline.training_lrp[real_ASD_preds], colors=smote_pipeline.clusterer.labels_[real_ASD_preds])"
   ]
  },
  {
   "cell_type": "code",
   "execution_count": 194,
   "metadata": {},
   "outputs": [],
   "source": [
    "_pipeline_lrp = smote_pipeline.training_lrp.copy()"
   ]
  },
  {
   "cell_type": "code",
   "execution_count": 210,
   "metadata": {},
   "outputs": [],
   "source": [
    "smote_pipeline.training_lrp = _pipeline_lrp.copy()"
   ]
  },
  {
   "cell_type": "code",
   "execution_count": 208,
   "metadata": {},
   "outputs": [
    {
     "data": {
      "text/plain": [
       "(143, 333)"
      ]
     },
     "execution_count": 208,
     "metadata": {},
     "output_type": "execute_result"
    }
   ],
   "source": [
    "_pipeline_lrp.shape"
   ]
  },
  {
   "cell_type": "code",
   "execution_count": 194,
   "metadata": {},
   "outputs": [
    {
     "data": {
      "text/plain": [
       "(33, 333)"
      ]
     },
     "execution_count": 194,
     "metadata": {},
     "output_type": "execute_result"
    }
   ],
   "source": [
    "smote_pipeline.training_lrp[real_ASD_preds].shape"
   ]
  },
  {
   "cell_type": "code",
   "execution_count": 222,
   "metadata": {},
   "outputs": [
    {
     "name": "stdout",
     "output_type": "stream",
     "text": [
      "LRP Shape:  (33, 333)\n",
      "Cluster Search Space: range(4, 10)\n",
      "Minimum Size:\n",
      "Clusters                  (6, 6)\n",
      "Noise                     (4, 4)\n",
      "Halkidi                   (4, 4)\n",
      "Halkidi-Filtered Noise    (4, 4)\n",
      "dtype: object\n",
      "Clusters Found: 3\n"
     ]
    }
   ],
   "source": [
    "from sklearn.preprocessing import MinMaxScaler\n",
    "import hdbscan\n",
    "\n",
    "reducer = umap.UMAP(random_state=42,\n",
    "                    n_components = 25,\n",
    "                    n_neighbors=7,\n",
    "                    min_dist=0)\n",
    "\n",
    "smote_pipeline.reducer_pipeline = Pipeline([\n",
    "            (\"umap\", reducer),\n",
    "            (\"scaler\",  MinMaxScaler())\n",
    "        ])\n",
    "\n",
    "ASD_lrp = smote_pipeline.training_lrp[real_ASD_preds]\n",
    "\n",
    "print(\"LRP Shape: \", ASD_lrp.shape)\n",
    "reducer_pipeline = smote_pipeline.reducer_pipeline.fit(ASD_lrp)\n",
    "embeddings = smote_pipeline.reducer_pipeline.transform(ASD_lrp)\n",
    "min_cluster_sizes=[]\n",
    "if not min_cluster_sizes:\n",
    "    n_neighbours = reducer_pipeline[\"umap\"].n_neighbors\n",
    "    min_cluster_sizes = range(n_neighbours-3, n_neighbours+3)\n",
    "\n",
    "print(\"Cluster Search Space:\", min_cluster_sizes)\n",
    "scores = smote_pipeline.clusterPerf(embeddings, labels, min_cluster_sizes, plot=False)\n",
    "print(\"Minimum Size:\")\n",
    "print(scores.idxmin())\n",
    "\n",
    "minsize, minsamp = scores[\"Halkidi-Filtered Noise\"].idxmin()\n",
    "ASD_clusterer = hdbscan.HDBSCAN(min_cluster_size=minsize,\n",
    "                                 min_samples=minsamp, prediction_data=True)\n",
    "ASD_clusterer.fit(embeddings)\n",
    "print(\"Clusters Found:\", max(ASD_clusterer.labels_)+1)"
   ]
  },
  {
   "cell_type": "code",
   "execution_count": 223,
   "metadata": {},
   "outputs": [
    {
     "data": {
      "text/html": [
       "        <script type=\"text/javascript\">\n",
       "        window.PlotlyConfig = {MathJaxConfig: 'local'};\n",
       "        if (window.MathJax) {MathJax.Hub.Config({SVG: {font: \"STIX-Web\"}});}\n",
       "        if (typeof require !== 'undefined') {\n",
       "        require.undef(\"plotly\");\n",
       "        requirejs.config({\n",
       "            paths: {\n",
       "                'plotly': ['https://cdn.plot.ly/plotly-latest.min']\n",
       "            }\n",
       "        });\n",
       "        require(['plotly'], function(Plotly) {\n",
       "            window._Plotly = Plotly;\n",
       "        });\n",
       "        }\n",
       "        </script>\n",
       "        "
      ]
     },
     "metadata": {},
     "output_type": "display_data"
    },
    {
     "data": {
      "application/vnd.plotly.v1+json": {
       "config": {
        "linkText": "Export to plot.ly",
        "plotlyServerURL": "https://plot.ly",
        "showLink": false
       },
       "data": [
        {
         "marker": {
          "color": [
           1,
           2,
           2,
           1,
           2,
           2,
           0,
           1,
           1,
           1,
           2,
           2,
           0,
           0,
           2,
           1,
           1,
           0,
           2,
           2,
           1,
           1,
           0,
           1,
           2,
           1,
           0,
           1,
           2,
           2,
           1,
           1,
           1
          ],
          "colorscale": [
           [
            0,
            "rgb(150,0,90)"
           ],
           [
            0.125,
            "rgb(0,0,200)"
           ],
           [
            0.25,
            "rgb(0,25,255)"
           ],
           [
            0.375,
            "rgb(0,152,255)"
           ],
           [
            0.5,
            "rgb(44,255,150)"
           ],
           [
            0.625,
            "rgb(151,255,0)"
           ],
           [
            0.75,
            "rgb(255,234,0)"
           ],
           [
            0.875,
            "rgb(255,111,0)"
           ],
           [
            1,
            "rgb(255,0,0)"
           ]
          ],
          "opacity": 0.8,
          "showscale": true,
          "size": 5
         },
         "mode": "markers",
         "name": "Training",
         "text": [],
         "type": "scatter3d",
         "x": [
          0.49031007289886475,
          0.9544124603271484,
          0.9992042779922485,
          0.22855627536773682,
          0.7998007535934448,
          0.8615453243255615,
          0.0008603930473327637,
          0.5327622890472412,
          0.33137598633766174,
          0.49755990505218506,
          0.856055736541748,
          0.8739673495292664,
          0.028793394565582275,
          0,
          0.7795563340187073,
          0.28196460008621216,
          0.6048911213874817,
          0.05123049020767212,
          0.9140077233314514,
          1,
          0.37022632360458374,
          0.6901835203170776,
          0.012250900268554688,
          0.6028384566307068,
          0.919488251209259,
          0.570113480091095,
          0.04945904016494751,
          0.17319023609161377,
          0.9357748031616211,
          0.8696565628051758,
          0.2778155207633972,
          0.6607860922813416,
          0.18001139163970947
         ],
         "y": [
          0.594474196434021,
          0.87174391746521,
          0.8624687194824219,
          0.4919205904006958,
          0.7515331506729126,
          0.7674396634101868,
          0,
          0.7433762550354004,
          0.6025285720825195,
          0.6582452058792114,
          0.9999999403953552,
          0.9458081126213074,
          0.09360814094543457,
          0.04380679130554199,
          0.8242253661155701,
          0.5384964942932129,
          0.7717425227165222,
          0.20517146587371826,
          0.9858793020248413,
          0.9148234724998474,
          0.6136013269424438,
          0.7396063804626465,
          0.15378105640411377,
          0.6378716230392456,
          0.8366444110870361,
          0.6547132730484009,
          0.11832916736602783,
          0.3670567274093628,
          0.8686028718948364,
          0.76169753074646,
          0.46613752841949463,
          0.649910569190979,
          0.4611344337463379
         ],
         "z": [
          0.5794445872306824,
          0.1891685128211975,
          0.07958251237869263,
          0.87810879945755,
          0.29401731491088867,
          0.411648154258728,
          0.7822093963623047,
          0.5716843008995056,
          0.8695604801177979,
          0.7286932468414307,
          0.22407352924346924,
          0.2833801507949829,
          0.8404901623725891,
          0.7778478860855103,
          0.3504522442817688,
          0.9086765646934509,
          0.5542229413986206,
          0.922247052192688,
          0.1627522110939026,
          0,
          0.7649174928665161,
          0.4610140919685364,
          0.8258068561553955,
          0.48835933208465576,
          0.4159563183784485,
          0.6649196147918701,
          0.8962888121604919,
          0.8880966305732727,
          0.05335932970046997,
          0.25891029834747314,
          1,
          0.5596664547920227,
          0.9676113724708557
         ]
        }
       ],
       "layout": {
        "autosize": false,
        "height": 1000,
        "paper_bgcolor": "#F5F5F5",
        "scene": {
         "aspectmode": "auto",
         "aspectratio": {
          "x": 1.0000000198682157,
          "y": 0.9999999602635697,
          "z": 1.0000000198682157
         },
         "camera": {
          "center": {
           "x": 0,
           "y": 0,
           "z": 0
          },
          "eye": {
           "x": 1.6478939328605566,
           "y": -1.052443167684153,
           "z": 0.9296821848547563
          },
          "projection": {
           "type": "perspective"
          },
          "up": {
           "x": 0,
           "y": 0,
           "z": 1
          }
         }
        },
        "template": {
         "data": {
          "bar": [
           {
            "error_x": {
             "color": "#2a3f5f"
            },
            "error_y": {
             "color": "#2a3f5f"
            },
            "marker": {
             "line": {
              "color": "#E5ECF6",
              "width": 0.5
             }
            },
            "type": "bar"
           }
          ],
          "barpolar": [
           {
            "marker": {
             "line": {
              "color": "#E5ECF6",
              "width": 0.5
             }
            },
            "type": "barpolar"
           }
          ],
          "carpet": [
           {
            "aaxis": {
             "endlinecolor": "#2a3f5f",
             "gridcolor": "white",
             "linecolor": "white",
             "minorgridcolor": "white",
             "startlinecolor": "#2a3f5f"
            },
            "baxis": {
             "endlinecolor": "#2a3f5f",
             "gridcolor": "white",
             "linecolor": "white",
             "minorgridcolor": "white",
             "startlinecolor": "#2a3f5f"
            },
            "type": "carpet"
           }
          ],
          "choropleth": [
           {
            "colorbar": {
             "outlinewidth": 0,
             "ticks": ""
            },
            "type": "choropleth"
           }
          ],
          "contour": [
           {
            "colorbar": {
             "outlinewidth": 0,
             "ticks": ""
            },
            "colorscale": [
             [
              0,
              "#0d0887"
             ],
             [
              0.1111111111111111,
              "#46039f"
             ],
             [
              0.2222222222222222,
              "#7201a8"
             ],
             [
              0.3333333333333333,
              "#9c179e"
             ],
             [
              0.4444444444444444,
              "#bd3786"
             ],
             [
              0.5555555555555556,
              "#d8576b"
             ],
             [
              0.6666666666666666,
              "#ed7953"
             ],
             [
              0.7777777777777778,
              "#fb9f3a"
             ],
             [
              0.8888888888888888,
              "#fdca26"
             ],
             [
              1,
              "#f0f921"
             ]
            ],
            "type": "contour"
           }
          ],
          "contourcarpet": [
           {
            "colorbar": {
             "outlinewidth": 0,
             "ticks": ""
            },
            "type": "contourcarpet"
           }
          ],
          "heatmap": [
           {
            "colorbar": {
             "outlinewidth": 0,
             "ticks": ""
            },
            "colorscale": [
             [
              0,
              "#0d0887"
             ],
             [
              0.1111111111111111,
              "#46039f"
             ],
             [
              0.2222222222222222,
              "#7201a8"
             ],
             [
              0.3333333333333333,
              "#9c179e"
             ],
             [
              0.4444444444444444,
              "#bd3786"
             ],
             [
              0.5555555555555556,
              "#d8576b"
             ],
             [
              0.6666666666666666,
              "#ed7953"
             ],
             [
              0.7777777777777778,
              "#fb9f3a"
             ],
             [
              0.8888888888888888,
              "#fdca26"
             ],
             [
              1,
              "#f0f921"
             ]
            ],
            "type": "heatmap"
           }
          ],
          "heatmapgl": [
           {
            "colorbar": {
             "outlinewidth": 0,
             "ticks": ""
            },
            "colorscale": [
             [
              0,
              "#0d0887"
             ],
             [
              0.1111111111111111,
              "#46039f"
             ],
             [
              0.2222222222222222,
              "#7201a8"
             ],
             [
              0.3333333333333333,
              "#9c179e"
             ],
             [
              0.4444444444444444,
              "#bd3786"
             ],
             [
              0.5555555555555556,
              "#d8576b"
             ],
             [
              0.6666666666666666,
              "#ed7953"
             ],
             [
              0.7777777777777778,
              "#fb9f3a"
             ],
             [
              0.8888888888888888,
              "#fdca26"
             ],
             [
              1,
              "#f0f921"
             ]
            ],
            "type": "heatmapgl"
           }
          ],
          "histogram": [
           {
            "marker": {
             "colorbar": {
              "outlinewidth": 0,
              "ticks": ""
             }
            },
            "type": "histogram"
           }
          ],
          "histogram2d": [
           {
            "colorbar": {
             "outlinewidth": 0,
             "ticks": ""
            },
            "colorscale": [
             [
              0,
              "#0d0887"
             ],
             [
              0.1111111111111111,
              "#46039f"
             ],
             [
              0.2222222222222222,
              "#7201a8"
             ],
             [
              0.3333333333333333,
              "#9c179e"
             ],
             [
              0.4444444444444444,
              "#bd3786"
             ],
             [
              0.5555555555555556,
              "#d8576b"
             ],
             [
              0.6666666666666666,
              "#ed7953"
             ],
             [
              0.7777777777777778,
              "#fb9f3a"
             ],
             [
              0.8888888888888888,
              "#fdca26"
             ],
             [
              1,
              "#f0f921"
             ]
            ],
            "type": "histogram2d"
           }
          ],
          "histogram2dcontour": [
           {
            "colorbar": {
             "outlinewidth": 0,
             "ticks": ""
            },
            "colorscale": [
             [
              0,
              "#0d0887"
             ],
             [
              0.1111111111111111,
              "#46039f"
             ],
             [
              0.2222222222222222,
              "#7201a8"
             ],
             [
              0.3333333333333333,
              "#9c179e"
             ],
             [
              0.4444444444444444,
              "#bd3786"
             ],
             [
              0.5555555555555556,
              "#d8576b"
             ],
             [
              0.6666666666666666,
              "#ed7953"
             ],
             [
              0.7777777777777778,
              "#fb9f3a"
             ],
             [
              0.8888888888888888,
              "#fdca26"
             ],
             [
              1,
              "#f0f921"
             ]
            ],
            "type": "histogram2dcontour"
           }
          ],
          "mesh3d": [
           {
            "colorbar": {
             "outlinewidth": 0,
             "ticks": ""
            },
            "type": "mesh3d"
           }
          ],
          "parcoords": [
           {
            "line": {
             "colorbar": {
              "outlinewidth": 0,
              "ticks": ""
             }
            },
            "type": "parcoords"
           }
          ],
          "scatter": [
           {
            "marker": {
             "colorbar": {
              "outlinewidth": 0,
              "ticks": ""
             }
            },
            "type": "scatter"
           }
          ],
          "scatter3d": [
           {
            "line": {
             "colorbar": {
              "outlinewidth": 0,
              "ticks": ""
             }
            },
            "marker": {
             "colorbar": {
              "outlinewidth": 0,
              "ticks": ""
             }
            },
            "type": "scatter3d"
           }
          ],
          "scattercarpet": [
           {
            "marker": {
             "colorbar": {
              "outlinewidth": 0,
              "ticks": ""
             }
            },
            "type": "scattercarpet"
           }
          ],
          "scattergeo": [
           {
            "marker": {
             "colorbar": {
              "outlinewidth": 0,
              "ticks": ""
             }
            },
            "type": "scattergeo"
           }
          ],
          "scattergl": [
           {
            "marker": {
             "colorbar": {
              "outlinewidth": 0,
              "ticks": ""
             }
            },
            "type": "scattergl"
           }
          ],
          "scattermapbox": [
           {
            "marker": {
             "colorbar": {
              "outlinewidth": 0,
              "ticks": ""
             }
            },
            "type": "scattermapbox"
           }
          ],
          "scatterpolar": [
           {
            "marker": {
             "colorbar": {
              "outlinewidth": 0,
              "ticks": ""
             }
            },
            "type": "scatterpolar"
           }
          ],
          "scatterpolargl": [
           {
            "marker": {
             "colorbar": {
              "outlinewidth": 0,
              "ticks": ""
             }
            },
            "type": "scatterpolargl"
           }
          ],
          "scatterternary": [
           {
            "marker": {
             "colorbar": {
              "outlinewidth": 0,
              "ticks": ""
             }
            },
            "type": "scatterternary"
           }
          ],
          "surface": [
           {
            "colorbar": {
             "outlinewidth": 0,
             "ticks": ""
            },
            "colorscale": [
             [
              0,
              "#0d0887"
             ],
             [
              0.1111111111111111,
              "#46039f"
             ],
             [
              0.2222222222222222,
              "#7201a8"
             ],
             [
              0.3333333333333333,
              "#9c179e"
             ],
             [
              0.4444444444444444,
              "#bd3786"
             ],
             [
              0.5555555555555556,
              "#d8576b"
             ],
             [
              0.6666666666666666,
              "#ed7953"
             ],
             [
              0.7777777777777778,
              "#fb9f3a"
             ],
             [
              0.8888888888888888,
              "#fdca26"
             ],
             [
              1,
              "#f0f921"
             ]
            ],
            "type": "surface"
           }
          ],
          "table": [
           {
            "cells": {
             "fill": {
              "color": "#EBF0F8"
             },
             "line": {
              "color": "white"
             }
            },
            "header": {
             "fill": {
              "color": "#C8D4E3"
             },
             "line": {
              "color": "white"
             }
            },
            "type": "table"
           }
          ]
         },
         "layout": {
          "annotationdefaults": {
           "arrowcolor": "#2a3f5f",
           "arrowhead": 0,
           "arrowwidth": 1
          },
          "colorscale": {
           "diverging": [
            [
             0,
             "#8e0152"
            ],
            [
             0.1,
             "#c51b7d"
            ],
            [
             0.2,
             "#de77ae"
            ],
            [
             0.3,
             "#f1b6da"
            ],
            [
             0.4,
             "#fde0ef"
            ],
            [
             0.5,
             "#f7f7f7"
            ],
            [
             0.6,
             "#e6f5d0"
            ],
            [
             0.7,
             "#b8e186"
            ],
            [
             0.8,
             "#7fbc41"
            ],
            [
             0.9,
             "#4d9221"
            ],
            [
             1,
             "#276419"
            ]
           ],
           "sequential": [
            [
             0,
             "#0d0887"
            ],
            [
             0.1111111111111111,
             "#46039f"
            ],
            [
             0.2222222222222222,
             "#7201a8"
            ],
            [
             0.3333333333333333,
             "#9c179e"
            ],
            [
             0.4444444444444444,
             "#bd3786"
            ],
            [
             0.5555555555555556,
             "#d8576b"
            ],
            [
             0.6666666666666666,
             "#ed7953"
            ],
            [
             0.7777777777777778,
             "#fb9f3a"
            ],
            [
             0.8888888888888888,
             "#fdca26"
            ],
            [
             1,
             "#f0f921"
            ]
           ],
           "sequentialminus": [
            [
             0,
             "#0d0887"
            ],
            [
             0.1111111111111111,
             "#46039f"
            ],
            [
             0.2222222222222222,
             "#7201a8"
            ],
            [
             0.3333333333333333,
             "#9c179e"
            ],
            [
             0.4444444444444444,
             "#bd3786"
            ],
            [
             0.5555555555555556,
             "#d8576b"
            ],
            [
             0.6666666666666666,
             "#ed7953"
            ],
            [
             0.7777777777777778,
             "#fb9f3a"
            ],
            [
             0.8888888888888888,
             "#fdca26"
            ],
            [
             1,
             "#f0f921"
            ]
           ]
          },
          "colorway": [
           "#636efa",
           "#EF553B",
           "#00cc96",
           "#ab63fa",
           "#FFA15A",
           "#19d3f3",
           "#FF6692",
           "#B6E880",
           "#FF97FF",
           "#FECB52"
          ],
          "font": {
           "color": "#2a3f5f"
          },
          "geo": {
           "bgcolor": "white",
           "lakecolor": "white",
           "landcolor": "#E5ECF6",
           "showlakes": true,
           "showland": true,
           "subunitcolor": "white"
          },
          "hoverlabel": {
           "align": "left"
          },
          "hovermode": "closest",
          "mapbox": {
           "style": "light"
          },
          "paper_bgcolor": "white",
          "plot_bgcolor": "#E5ECF6",
          "polar": {
           "angularaxis": {
            "gridcolor": "white",
            "linecolor": "white",
            "ticks": ""
           },
           "bgcolor": "#E5ECF6",
           "radialaxis": {
            "gridcolor": "white",
            "linecolor": "white",
            "ticks": ""
           }
          },
          "scene": {
           "xaxis": {
            "backgroundcolor": "#E5ECF6",
            "gridcolor": "white",
            "gridwidth": 2,
            "linecolor": "white",
            "showbackground": true,
            "ticks": "",
            "zerolinecolor": "white"
           },
           "yaxis": {
            "backgroundcolor": "#E5ECF6",
            "gridcolor": "white",
            "gridwidth": 2,
            "linecolor": "white",
            "showbackground": true,
            "ticks": "",
            "zerolinecolor": "white"
           },
           "zaxis": {
            "backgroundcolor": "#E5ECF6",
            "gridcolor": "white",
            "gridwidth": 2,
            "linecolor": "white",
            "showbackground": true,
            "ticks": "",
            "zerolinecolor": "white"
           }
          },
          "shapedefaults": {
           "line": {
            "color": "#2a3f5f"
           }
          },
          "ternary": {
           "aaxis": {
            "gridcolor": "white",
            "linecolor": "white",
            "ticks": ""
           },
           "baxis": {
            "gridcolor": "white",
            "linecolor": "white",
            "ticks": ""
           },
           "bgcolor": "#E5ECF6",
           "caxis": {
            "gridcolor": "white",
            "linecolor": "white",
            "ticks": ""
           }
          },
          "title": {
           "x": 0.05
          },
          "xaxis": {
           "automargin": true,
           "gridcolor": "white",
           "linecolor": "white",
           "ticks": "",
           "zerolinecolor": "white",
           "zerolinewidth": 2
          },
          "yaxis": {
           "automargin": true,
           "gridcolor": "white",
           "linecolor": "white",
           "ticks": "",
           "zerolinecolor": "white",
           "zerolinewidth": 2
          }
         }
        },
        "title": {
         "text": "3D LRP Embedding"
        },
        "width": 1200
       }
      },
      "text/html": [
       "<div>\n",
       "        \n",
       "        \n",
       "            <div id=\"8f0a4915-3535-4d07-a772-3e93afeccebb\" class=\"plotly-graph-div\" style=\"height:1000px; width:1200px;\"></div>\n",
       "            <script type=\"text/javascript\">\n",
       "                require([\"plotly\"], function(Plotly) {\n",
       "                    window.PLOTLYENV=window.PLOTLYENV || {};\n",
       "                    \n",
       "                if (document.getElementById(\"8f0a4915-3535-4d07-a772-3e93afeccebb\")) {\n",
       "                    Plotly.newPlot(\n",
       "                        '8f0a4915-3535-4d07-a772-3e93afeccebb',\n",
       "                        [{\"marker\": {\"color\": [1, 2, 2, 1, 2, 2, 0, 1, 1, 1, 2, 2, 0, 0, 2, 1, 1, 0, 2, 2, 1, 1, 0, 1, 2, 1, 0, 1, 2, 2, 1, 1, 1], \"colorscale\": [[0.0, \"rgb(150,0,90)\"], [0.125, \"rgb(0,0,200)\"], [0.25, \"rgb(0,25,255)\"], [0.375, \"rgb(0,152,255)\"], [0.5, \"rgb(44,255,150)\"], [0.625, \"rgb(151,255,0)\"], [0.75, \"rgb(255,234,0)\"], [0.875, \"rgb(255,111,0)\"], [1.0, \"rgb(255,0,0)\"]], \"opacity\": 0.8, \"showscale\": true, \"size\": 5}, \"mode\": \"markers\", \"name\": \"Training\", \"text\": [], \"type\": \"scatter3d\", \"x\": [0.49031007289886475, 0.9544124603271484, 0.9992042779922485, 0.22855627536773682, 0.7998007535934448, 0.8615453243255615, 0.0008603930473327637, 0.5327622890472412, 0.33137598633766174, 0.49755990505218506, 0.856055736541748, 0.8739673495292664, 0.028793394565582275, 0.0, 0.7795563340187073, 0.28196460008621216, 0.6048911213874817, 0.05123049020767212, 0.9140077233314514, 1.0, 0.37022632360458374, 0.6901835203170776, 0.012250900268554688, 0.6028384566307068, 0.919488251209259, 0.570113480091095, 0.04945904016494751, 0.17319023609161377, 0.9357748031616211, 0.8696565628051758, 0.2778155207633972, 0.6607860922813416, 0.18001139163970947], \"y\": [0.594474196434021, 0.87174391746521, 0.8624687194824219, 0.4919205904006958, 0.7515331506729126, 0.7674396634101868, 0.0, 0.7433762550354004, 0.6025285720825195, 0.6582452058792114, 0.9999999403953552, 0.9458081126213074, 0.09360814094543457, 0.04380679130554199, 0.8242253661155701, 0.5384964942932129, 0.7717425227165222, 0.20517146587371826, 0.9858793020248413, 0.9148234724998474, 0.6136013269424438, 0.7396063804626465, 0.15378105640411377, 0.6378716230392456, 0.8366444110870361, 0.6547132730484009, 0.11832916736602783, 0.3670567274093628, 0.8686028718948364, 0.76169753074646, 0.46613752841949463, 0.649910569190979, 0.4611344337463379], \"z\": [0.5794445872306824, 0.1891685128211975, 0.07958251237869263, 0.87810879945755, 0.29401731491088867, 0.411648154258728, 0.7822093963623047, 0.5716843008995056, 0.8695604801177979, 0.7286932468414307, 0.22407352924346924, 0.2833801507949829, 0.8404901623725891, 0.7778478860855103, 0.3504522442817688, 0.9086765646934509, 0.5542229413986206, 0.922247052192688, 0.1627522110939026, 0.0, 0.7649174928665161, 0.4610140919685364, 0.8258068561553955, 0.48835933208465576, 0.4159563183784485, 0.6649196147918701, 0.8962888121604919, 0.8880966305732727, 0.05335932970046997, 0.25891029834747314, 1.0, 0.5596664547920227, 0.9676113724708557]}],\n",
       "                        {\"autosize\": false, \"height\": 1000, \"paper_bgcolor\": \"#F5F5F5\", \"template\": {\"data\": {\"bar\": [{\"error_x\": {\"color\": \"#2a3f5f\"}, \"error_y\": {\"color\": \"#2a3f5f\"}, \"marker\": {\"line\": {\"color\": \"#E5ECF6\", \"width\": 0.5}}, \"type\": \"bar\"}], \"barpolar\": [{\"marker\": {\"line\": {\"color\": \"#E5ECF6\", \"width\": 0.5}}, \"type\": \"barpolar\"}], \"carpet\": [{\"aaxis\": {\"endlinecolor\": \"#2a3f5f\", \"gridcolor\": \"white\", \"linecolor\": \"white\", \"minorgridcolor\": \"white\", \"startlinecolor\": \"#2a3f5f\"}, \"baxis\": {\"endlinecolor\": \"#2a3f5f\", \"gridcolor\": \"white\", \"linecolor\": \"white\", \"minorgridcolor\": \"white\", \"startlinecolor\": \"#2a3f5f\"}, \"type\": \"carpet\"}], \"choropleth\": [{\"colorbar\": {\"outlinewidth\": 0, \"ticks\": \"\"}, \"type\": \"choropleth\"}], \"contour\": [{\"colorbar\": {\"outlinewidth\": 0, \"ticks\": \"\"}, \"colorscale\": [[0.0, \"#0d0887\"], [0.1111111111111111, \"#46039f\"], [0.2222222222222222, \"#7201a8\"], [0.3333333333333333, \"#9c179e\"], [0.4444444444444444, \"#bd3786\"], [0.5555555555555556, \"#d8576b\"], [0.6666666666666666, \"#ed7953\"], [0.7777777777777778, \"#fb9f3a\"], [0.8888888888888888, \"#fdca26\"], [1.0, \"#f0f921\"]], \"type\": \"contour\"}], \"contourcarpet\": [{\"colorbar\": {\"outlinewidth\": 0, \"ticks\": \"\"}, \"type\": \"contourcarpet\"}], \"heatmap\": [{\"colorbar\": {\"outlinewidth\": 0, \"ticks\": \"\"}, \"colorscale\": [[0.0, \"#0d0887\"], [0.1111111111111111, \"#46039f\"], [0.2222222222222222, \"#7201a8\"], [0.3333333333333333, \"#9c179e\"], [0.4444444444444444, \"#bd3786\"], [0.5555555555555556, \"#d8576b\"], [0.6666666666666666, \"#ed7953\"], [0.7777777777777778, \"#fb9f3a\"], [0.8888888888888888, \"#fdca26\"], [1.0, \"#f0f921\"]], \"type\": \"heatmap\"}], \"heatmapgl\": [{\"colorbar\": {\"outlinewidth\": 0, \"ticks\": \"\"}, \"colorscale\": [[0.0, \"#0d0887\"], [0.1111111111111111, \"#46039f\"], [0.2222222222222222, \"#7201a8\"], [0.3333333333333333, \"#9c179e\"], [0.4444444444444444, \"#bd3786\"], [0.5555555555555556, \"#d8576b\"], [0.6666666666666666, \"#ed7953\"], [0.7777777777777778, \"#fb9f3a\"], [0.8888888888888888, \"#fdca26\"], [1.0, \"#f0f921\"]], \"type\": \"heatmapgl\"}], \"histogram\": [{\"marker\": {\"colorbar\": {\"outlinewidth\": 0, \"ticks\": \"\"}}, \"type\": \"histogram\"}], \"histogram2d\": [{\"colorbar\": {\"outlinewidth\": 0, \"ticks\": \"\"}, \"colorscale\": [[0.0, \"#0d0887\"], [0.1111111111111111, \"#46039f\"], [0.2222222222222222, \"#7201a8\"], [0.3333333333333333, \"#9c179e\"], [0.4444444444444444, \"#bd3786\"], [0.5555555555555556, \"#d8576b\"], [0.6666666666666666, \"#ed7953\"], [0.7777777777777778, \"#fb9f3a\"], [0.8888888888888888, \"#fdca26\"], [1.0, \"#f0f921\"]], \"type\": \"histogram2d\"}], \"histogram2dcontour\": [{\"colorbar\": {\"outlinewidth\": 0, \"ticks\": \"\"}, \"colorscale\": [[0.0, \"#0d0887\"], [0.1111111111111111, \"#46039f\"], [0.2222222222222222, \"#7201a8\"], [0.3333333333333333, \"#9c179e\"], [0.4444444444444444, \"#bd3786\"], [0.5555555555555556, \"#d8576b\"], [0.6666666666666666, \"#ed7953\"], [0.7777777777777778, \"#fb9f3a\"], [0.8888888888888888, \"#fdca26\"], [1.0, \"#f0f921\"]], \"type\": \"histogram2dcontour\"}], \"mesh3d\": [{\"colorbar\": {\"outlinewidth\": 0, \"ticks\": \"\"}, \"type\": \"mesh3d\"}], \"parcoords\": [{\"line\": {\"colorbar\": {\"outlinewidth\": 0, \"ticks\": \"\"}}, \"type\": \"parcoords\"}], \"scatter\": [{\"marker\": {\"colorbar\": {\"outlinewidth\": 0, \"ticks\": \"\"}}, \"type\": \"scatter\"}], \"scatter3d\": [{\"line\": {\"colorbar\": {\"outlinewidth\": 0, \"ticks\": \"\"}}, \"marker\": {\"colorbar\": {\"outlinewidth\": 0, \"ticks\": \"\"}}, \"type\": \"scatter3d\"}], \"scattercarpet\": [{\"marker\": {\"colorbar\": {\"outlinewidth\": 0, \"ticks\": \"\"}}, \"type\": \"scattercarpet\"}], \"scattergeo\": [{\"marker\": {\"colorbar\": {\"outlinewidth\": 0, \"ticks\": \"\"}}, \"type\": \"scattergeo\"}], \"scattergl\": [{\"marker\": {\"colorbar\": {\"outlinewidth\": 0, \"ticks\": \"\"}}, \"type\": \"scattergl\"}], \"scattermapbox\": [{\"marker\": {\"colorbar\": {\"outlinewidth\": 0, \"ticks\": \"\"}}, \"type\": \"scattermapbox\"}], \"scatterpolar\": [{\"marker\": {\"colorbar\": {\"outlinewidth\": 0, \"ticks\": \"\"}}, \"type\": \"scatterpolar\"}], \"scatterpolargl\": [{\"marker\": {\"colorbar\": {\"outlinewidth\": 0, \"ticks\": \"\"}}, \"type\": \"scatterpolargl\"}], \"scatterternary\": [{\"marker\": {\"colorbar\": {\"outlinewidth\": 0, \"ticks\": \"\"}}, \"type\": \"scatterternary\"}], \"surface\": [{\"colorbar\": {\"outlinewidth\": 0, \"ticks\": \"\"}, \"colorscale\": [[0.0, \"#0d0887\"], [0.1111111111111111, \"#46039f\"], [0.2222222222222222, \"#7201a8\"], [0.3333333333333333, \"#9c179e\"], [0.4444444444444444, \"#bd3786\"], [0.5555555555555556, \"#d8576b\"], [0.6666666666666666, \"#ed7953\"], [0.7777777777777778, \"#fb9f3a\"], [0.8888888888888888, \"#fdca26\"], [1.0, \"#f0f921\"]], \"type\": \"surface\"}], \"table\": [{\"cells\": {\"fill\": {\"color\": \"#EBF0F8\"}, \"line\": {\"color\": \"white\"}}, \"header\": {\"fill\": {\"color\": \"#C8D4E3\"}, \"line\": {\"color\": \"white\"}}, \"type\": \"table\"}]}, \"layout\": {\"annotationdefaults\": {\"arrowcolor\": \"#2a3f5f\", \"arrowhead\": 0, \"arrowwidth\": 1}, \"colorscale\": {\"diverging\": [[0, \"#8e0152\"], [0.1, \"#c51b7d\"], [0.2, \"#de77ae\"], [0.3, \"#f1b6da\"], [0.4, \"#fde0ef\"], [0.5, \"#f7f7f7\"], [0.6, \"#e6f5d0\"], [0.7, \"#b8e186\"], [0.8, \"#7fbc41\"], [0.9, \"#4d9221\"], [1, \"#276419\"]], \"sequential\": [[0.0, \"#0d0887\"], [0.1111111111111111, \"#46039f\"], [0.2222222222222222, \"#7201a8\"], [0.3333333333333333, \"#9c179e\"], [0.4444444444444444, \"#bd3786\"], [0.5555555555555556, \"#d8576b\"], [0.6666666666666666, \"#ed7953\"], [0.7777777777777778, \"#fb9f3a\"], [0.8888888888888888, \"#fdca26\"], [1.0, \"#f0f921\"]], \"sequentialminus\": [[0.0, \"#0d0887\"], [0.1111111111111111, \"#46039f\"], [0.2222222222222222, \"#7201a8\"], [0.3333333333333333, \"#9c179e\"], [0.4444444444444444, \"#bd3786\"], [0.5555555555555556, \"#d8576b\"], [0.6666666666666666, \"#ed7953\"], [0.7777777777777778, \"#fb9f3a\"], [0.8888888888888888, \"#fdca26\"], [1.0, \"#f0f921\"]]}, \"colorway\": [\"#636efa\", \"#EF553B\", \"#00cc96\", \"#ab63fa\", \"#FFA15A\", \"#19d3f3\", \"#FF6692\", \"#B6E880\", \"#FF97FF\", \"#FECB52\"], \"font\": {\"color\": \"#2a3f5f\"}, \"geo\": {\"bgcolor\": \"white\", \"lakecolor\": \"white\", \"landcolor\": \"#E5ECF6\", \"showlakes\": true, \"showland\": true, \"subunitcolor\": \"white\"}, \"hoverlabel\": {\"align\": \"left\"}, \"hovermode\": \"closest\", \"mapbox\": {\"style\": \"light\"}, \"paper_bgcolor\": \"white\", \"plot_bgcolor\": \"#E5ECF6\", \"polar\": {\"angularaxis\": {\"gridcolor\": \"white\", \"linecolor\": \"white\", \"ticks\": \"\"}, \"bgcolor\": \"#E5ECF6\", \"radialaxis\": {\"gridcolor\": \"white\", \"linecolor\": \"white\", \"ticks\": \"\"}}, \"scene\": {\"xaxis\": {\"backgroundcolor\": \"#E5ECF6\", \"gridcolor\": \"white\", \"gridwidth\": 2, \"linecolor\": \"white\", \"showbackground\": true, \"ticks\": \"\", \"zerolinecolor\": \"white\"}, \"yaxis\": {\"backgroundcolor\": \"#E5ECF6\", \"gridcolor\": \"white\", \"gridwidth\": 2, \"linecolor\": \"white\", \"showbackground\": true, \"ticks\": \"\", \"zerolinecolor\": \"white\"}, \"zaxis\": {\"backgroundcolor\": \"#E5ECF6\", \"gridcolor\": \"white\", \"gridwidth\": 2, \"linecolor\": \"white\", \"showbackground\": true, \"ticks\": \"\", \"zerolinecolor\": \"white\"}}, \"shapedefaults\": {\"line\": {\"color\": \"#2a3f5f\"}}, \"ternary\": {\"aaxis\": {\"gridcolor\": \"white\", \"linecolor\": \"white\", \"ticks\": \"\"}, \"baxis\": {\"gridcolor\": \"white\", \"linecolor\": \"white\", \"ticks\": \"\"}, \"bgcolor\": \"#E5ECF6\", \"caxis\": {\"gridcolor\": \"white\", \"linecolor\": \"white\", \"ticks\": \"\"}}, \"title\": {\"x\": 0.05}, \"xaxis\": {\"automargin\": true, \"gridcolor\": \"white\", \"linecolor\": \"white\", \"ticks\": \"\", \"zerolinecolor\": \"white\", \"zerolinewidth\": 2}, \"yaxis\": {\"automargin\": true, \"gridcolor\": \"white\", \"linecolor\": \"white\", \"ticks\": \"\", \"zerolinecolor\": \"white\", \"zerolinewidth\": 2}}}, \"title\": {\"text\": \"3D LRP Embedding\"}, \"width\": 1200},\n",
       "                        {\"responsive\": true}\n",
       "                    ).then(function(){\n",
       "                            \n",
       "var gd = document.getElementById('8f0a4915-3535-4d07-a772-3e93afeccebb');\n",
       "var x = new MutationObserver(function (mutations, observer) {{\n",
       "        var display = window.getComputedStyle(gd).display;\n",
       "        if (!display || display === 'none') {{\n",
       "            console.log([gd, 'removed!']);\n",
       "            Plotly.purge(gd);\n",
       "            observer.disconnect();\n",
       "        }}\n",
       "}});\n",
       "\n",
       "// Listen for the removal of the full notebook cells\n",
       "var notebookContainer = gd.closest('#notebook-container');\n",
       "if (notebookContainer) {{\n",
       "    x.observe(notebookContainer, {childList: true});\n",
       "}}\n",
       "\n",
       "// Listen for the clearing of the current output cell\n",
       "var outputEl = gd.closest('.output');\n",
       "if (outputEl) {{\n",
       "    x.observe(outputEl, {childList: true});\n",
       "}}\n",
       "\n",
       "                        })\n",
       "                };\n",
       "                });\n",
       "            </script>\n",
       "        </div>"
      ]
     },
     "metadata": {},
     "output_type": "display_data"
    }
   ],
   "source": [
    "plot_3d_lrp(ASD_lrp, colors=ASD_clusterer.labels_)"
   ]
  },
  {
   "cell_type": "code",
   "execution_count": null,
   "metadata": {},
   "outputs": [],
   "source": []
  }
 ],
 "metadata": {
  "kernelspec": {
   "display_name": "Python (condatensor)",
   "language": "python",
   "name": "condatensor"
  },
  "language_info": {
   "codemirror_mode": {
    "name": "ipython",
    "version": 3
   },
   "file_extension": ".py",
   "mimetype": "text/x-python",
   "name": "python",
   "nbconvert_exporter": "python",
   "pygments_lexer": "ipython3",
   "version": "3.6.8"
  }
 },
 "nbformat": 4,
 "nbformat_minor": 4
}
