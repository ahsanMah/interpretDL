{
 "cells": [
  {
   "cell_type": "code",
   "execution_count": 2,
   "metadata": {},
   "outputs": [],
   "source": [
    "# Magic line to force reload all modules when this cell is run multiple times\n",
    "%load_ext autoreload\n",
    "%autoreload 2\n",
    "\n",
    "import sys, os\n",
    "sys.path.insert(0, os.path.expanduser(\"~/Developer/interpretDL/Pipeline\"))"
   ]
  },
  {
   "cell_type": "code",
   "execution_count": 3,
   "metadata": {},
   "outputs": [
    {
     "data": {
      "text/html": [
       "        <script type=\"text/javascript\">\n",
       "        window.PlotlyConfig = {MathJaxConfig: 'local'};\n",
       "        if (window.MathJax) {MathJax.Hub.Config({SVG: {font: \"STIX-Web\"}});}\n",
       "        if (typeof require !== 'undefined') {\n",
       "        require.undef(\"plotly\");\n",
       "        requirejs.config({\n",
       "            paths: {\n",
       "                'plotly': ['https://cdn.plot.ly/plotly-latest.min']\n",
       "            }\n",
       "        });\n",
       "        require(['plotly'], function(Plotly) {\n",
       "            window._Plotly = Plotly;\n",
       "        });\n",
       "        }\n",
       "        </script>\n",
       "        "
      ]
     },
     "metadata": {},
     "output_type": "display_data"
    }
   ],
   "source": [
    "import plotly as py\n",
    "import plotly.graph_objs as go\n",
    "from plotly.offline import iplot\n",
    "from plotly.offline import plot\n",
    "import ipywidgets as widgets\n",
    "\n",
    "# %matplotlib widget\n",
    "py.offline.init_notebook_mode(connected=True)"
   ]
  },
  {
   "cell_type": "code",
   "execution_count": 27,
   "metadata": {},
   "outputs": [],
   "source": [
    "import numpy as np\n",
    "import pandas as pd\n",
    "import umap\n",
    "\n",
    "from datetime import datetime\n",
    "from ClusterPipeline import ClusterPipeline\n",
    "from helper import split_valid, plot_confusion_matrix, plot_history, plot_3d_lrp\n",
    "from sklearn.datasets import make_classification\n",
    "from sklearn.metrics import classification_report\n",
    "from sklearn.pipeline import Pipeline\n",
    "from sklearn.preprocessing import MinMaxScaler\n",
    "from sklearn.preprocessing import OrdinalEncoder\n",
    "\n",
    "RANDOM_STATE = 42\n",
    "np.random.seed(seed=RANDOM_STATE) "
   ]
  },
  {
   "cell_type": "code",
   "execution_count": 5,
   "metadata": {},
   "outputs": [],
   "source": [
    "import matplotlib.pyplot as plt\n",
    "\n",
    "def plot_history(history):\n",
    "    plt.close(\"History\")\n",
    "    fig, axs = plt.subplots(1, 2, figsize=(20,10),num=\"History\")\n",
    "\n",
    "    # Plot training & validation accuracy values\n",
    "    axs[0].grid(True)\n",
    "    axs[0].plot(history.history['acc'])\n",
    "    axs[0].plot(history.history['val_acc'])\n",
    "    axs[0].set(title='Model accuracy', ylabel='Accuracy', xlabel='Epoch')\n",
    "    axs[0].legend(['Train', 'Test'], loc='upper left')\n",
    "\n",
    "    # Plot training & validation loss values\n",
    "    axs[1].grid(True)\n",
    "    axs[1].plot(history.history['loss'])\n",
    "    axs[1].plot(history.history['val_loss'])\n",
    "    axs[1].set(title='Model loss',ylabel='Loss', xlabel='Epoch')\n",
    "    axs[1].legend(['Train', 'Test'], loc='upper left')\n",
    "\n",
    "    plt.show()"
   ]
  },
  {
   "cell_type": "code",
   "execution_count": 6,
   "metadata": {},
   "outputs": [
    {
     "data": {
      "text/html": [
       "<div>\n",
       "<style scoped>\n",
       "    .dataframe tbody tr th:only-of-type {\n",
       "        vertical-align: middle;\n",
       "    }\n",
       "\n",
       "    .dataframe tbody tr th {\n",
       "        vertical-align: top;\n",
       "    }\n",
       "\n",
       "    .dataframe thead th {\n",
       "        text-align: right;\n",
       "    }\n",
       "</style>\n",
       "<table border=\"1\" class=\"dataframe\">\n",
       "  <thead>\n",
       "    <tr style=\"text-align: right;\">\n",
       "      <th></th>\n",
       "      <th>ASD_DX_group</th>\n",
       "      <th>Risk</th>\n",
       "      <th>ROI01</th>\n",
       "      <th>ROI02</th>\n",
       "      <th>ROI03</th>\n",
       "      <th>ROI04</th>\n",
       "      <th>ROI05</th>\n",
       "      <th>ROI06</th>\n",
       "      <th>ROI07</th>\n",
       "      <th>ROI08</th>\n",
       "      <th>...</th>\n",
       "      <th>ROI324</th>\n",
       "      <th>ROI325</th>\n",
       "      <th>ROI326</th>\n",
       "      <th>ROI327</th>\n",
       "      <th>ROI328</th>\n",
       "      <th>ROI329</th>\n",
       "      <th>ROI330</th>\n",
       "      <th>ROI331</th>\n",
       "      <th>ROI332</th>\n",
       "      <th>ROI333</th>\n",
       "    </tr>\n",
       "    <tr>\n",
       "      <th>CandID</th>\n",
       "      <th></th>\n",
       "      <th></th>\n",
       "      <th></th>\n",
       "      <th></th>\n",
       "      <th></th>\n",
       "      <th></th>\n",
       "      <th></th>\n",
       "      <th></th>\n",
       "      <th></th>\n",
       "      <th></th>\n",
       "      <th></th>\n",
       "      <th></th>\n",
       "      <th></th>\n",
       "      <th></th>\n",
       "      <th></th>\n",
       "      <th></th>\n",
       "      <th></th>\n",
       "      <th></th>\n",
       "      <th></th>\n",
       "      <th></th>\n",
       "      <th></th>\n",
       "    </tr>\n",
       "  </thead>\n",
       "  <tbody>\n",
       "    <tr>\n",
       "      <th>103430</th>\n",
       "      <td>TYPICAL</td>\n",
       "      <td>HR</td>\n",
       "      <td>529.158386</td>\n",
       "      <td>298.568665</td>\n",
       "      <td>190.627472</td>\n",
       "      <td>134.555801</td>\n",
       "      <td>363.573608</td>\n",
       "      <td>646.810547</td>\n",
       "      <td>33.957870</td>\n",
       "      <td>172.629700</td>\n",
       "      <td>...</td>\n",
       "      <td>46.523426</td>\n",
       "      <td>88.635681</td>\n",
       "      <td>15.326110</td>\n",
       "      <td>268.573364</td>\n",
       "      <td>143.174347</td>\n",
       "      <td>1.515198</td>\n",
       "      <td>239.148468</td>\n",
       "      <td>20.107052</td>\n",
       "      <td>34.309757</td>\n",
       "      <td>10.180353</td>\n",
       "    </tr>\n",
       "    <tr>\n",
       "      <th>107524</th>\n",
       "      <td>ASD</td>\n",
       "      <td>HR</td>\n",
       "      <td>518.345703</td>\n",
       "      <td>311.013794</td>\n",
       "      <td>118.777634</td>\n",
       "      <td>198.685638</td>\n",
       "      <td>477.074524</td>\n",
       "      <td>405.450134</td>\n",
       "      <td>55.401951</td>\n",
       "      <td>126.927612</td>\n",
       "      <td>...</td>\n",
       "      <td>30.664413</td>\n",
       "      <td>76.203514</td>\n",
       "      <td>25.545485</td>\n",
       "      <td>188.544678</td>\n",
       "      <td>107.464104</td>\n",
       "      <td>1.381342</td>\n",
       "      <td>188.476715</td>\n",
       "      <td>17.961386</td>\n",
       "      <td>23.440365</td>\n",
       "      <td>14.530558</td>\n",
       "    </tr>\n",
       "    <tr>\n",
       "      <th>108372</th>\n",
       "      <td>TYPICAL</td>\n",
       "      <td>LR</td>\n",
       "      <td>443.658081</td>\n",
       "      <td>156.824844</td>\n",
       "      <td>157.223099</td>\n",
       "      <td>147.381149</td>\n",
       "      <td>492.784088</td>\n",
       "      <td>305.069519</td>\n",
       "      <td>61.638298</td>\n",
       "      <td>136.602600</td>\n",
       "      <td>...</td>\n",
       "      <td>35.009350</td>\n",
       "      <td>99.737000</td>\n",
       "      <td>23.199062</td>\n",
       "      <td>282.846497</td>\n",
       "      <td>29.161158</td>\n",
       "      <td>0.722310</td>\n",
       "      <td>200.596985</td>\n",
       "      <td>28.989164</td>\n",
       "      <td>32.400013</td>\n",
       "      <td>10.532928</td>\n",
       "    </tr>\n",
       "    <tr>\n",
       "      <th>113320</th>\n",
       "      <td>TYPICAL</td>\n",
       "      <td>LR</td>\n",
       "      <td>529.817078</td>\n",
       "      <td>301.160583</td>\n",
       "      <td>129.092483</td>\n",
       "      <td>151.090851</td>\n",
       "      <td>395.564331</td>\n",
       "      <td>597.880981</td>\n",
       "      <td>32.048248</td>\n",
       "      <td>163.701218</td>\n",
       "      <td>...</td>\n",
       "      <td>40.359753</td>\n",
       "      <td>111.341911</td>\n",
       "      <td>15.794782</td>\n",
       "      <td>214.678467</td>\n",
       "      <td>75.857338</td>\n",
       "      <td>1.767594</td>\n",
       "      <td>179.606552</td>\n",
       "      <td>16.667351</td>\n",
       "      <td>44.315159</td>\n",
       "      <td>12.016207</td>\n",
       "    </tr>\n",
       "    <tr>\n",
       "      <th>114640</th>\n",
       "      <td>TYPICAL</td>\n",
       "      <td>LR</td>\n",
       "      <td>689.399170</td>\n",
       "      <td>303.337524</td>\n",
       "      <td>154.169434</td>\n",
       "      <td>98.182709</td>\n",
       "      <td>592.248962</td>\n",
       "      <td>364.648315</td>\n",
       "      <td>10.539658</td>\n",
       "      <td>142.580795</td>\n",
       "      <td>...</td>\n",
       "      <td>49.686398</td>\n",
       "      <td>134.082794</td>\n",
       "      <td>18.534616</td>\n",
       "      <td>217.291306</td>\n",
       "      <td>36.213020</td>\n",
       "      <td>1.580427</td>\n",
       "      <td>181.796356</td>\n",
       "      <td>22.934441</td>\n",
       "      <td>63.739361</td>\n",
       "      <td>10.897783</td>\n",
       "    </tr>\n",
       "  </tbody>\n",
       "</table>\n",
       "<p>5 rows × 335 columns</p>\n",
       "</div>"
      ],
      "text/plain": [
       "       ASD_DX_group Risk       ROI01       ROI02       ROI03       ROI04  \\\n",
       "CandID                                                                     \n",
       "103430      TYPICAL   HR  529.158386  298.568665  190.627472  134.555801   \n",
       "107524          ASD   HR  518.345703  311.013794  118.777634  198.685638   \n",
       "108372      TYPICAL   LR  443.658081  156.824844  157.223099  147.381149   \n",
       "113320      TYPICAL   LR  529.817078  301.160583  129.092483  151.090851   \n",
       "114640      TYPICAL   LR  689.399170  303.337524  154.169434   98.182709   \n",
       "\n",
       "             ROI05       ROI06      ROI07       ROI08  ...     ROI324  \\\n",
       "CandID                                                 ...              \n",
       "103430  363.573608  646.810547  33.957870  172.629700  ...  46.523426   \n",
       "107524  477.074524  405.450134  55.401951  126.927612  ...  30.664413   \n",
       "108372  492.784088  305.069519  61.638298  136.602600  ...  35.009350   \n",
       "113320  395.564331  597.880981  32.048248  163.701218  ...  40.359753   \n",
       "114640  592.248962  364.648315  10.539658  142.580795  ...  49.686398   \n",
       "\n",
       "            ROI325     ROI326      ROI327      ROI328    ROI329      ROI330  \\\n",
       "CandID                                                                        \n",
       "103430   88.635681  15.326110  268.573364  143.174347  1.515198  239.148468   \n",
       "107524   76.203514  25.545485  188.544678  107.464104  1.381342  188.476715   \n",
       "108372   99.737000  23.199062  282.846497   29.161158  0.722310  200.596985   \n",
       "113320  111.341911  15.794782  214.678467   75.857338  1.767594  179.606552   \n",
       "114640  134.082794  18.534616  217.291306   36.213020  1.580427  181.796356   \n",
       "\n",
       "           ROI331     ROI332     ROI333  \n",
       "CandID                                   \n",
       "103430  20.107052  34.309757  10.180353  \n",
       "107524  17.961386  23.440365  14.530558  \n",
       "108372  28.989164  32.400013  10.532928  \n",
       "113320  16.667351  44.315159  12.016207  \n",
       "114640  22.934441  63.739361  10.897783  \n",
       "\n",
       "[5 rows x 335 columns]"
      ]
     },
     "execution_count": 6,
     "metadata": {},
     "output_type": "execute_result"
    }
   ],
   "source": [
    "fname = \"data/cleaned_SA.csv\"\n",
    "raw_data = pd.read_csv(fname, index_col=0)\n",
    "raw_data.head()"
   ]
  },
  {
   "cell_type": "code",
   "execution_count": 7,
   "metadata": {},
   "outputs": [
    {
     "data": {
      "text/plain": [
       "(325, 335)"
      ]
     },
     "execution_count": 7,
     "metadata": {},
     "output_type": "execute_result"
    }
   ],
   "source": [
    "raw_data.shape"
   ]
  },
  {
   "cell_type": "code",
   "execution_count": 8,
   "metadata": {},
   "outputs": [],
   "source": [
    "label_cols = [\"ASD_DX_group\", \"Risk\"]\n",
    "noisy_cols = []\n",
    "\n",
    "features = raw_data.drop(columns=noisy_cols+label_cols)\n",
    "labels = raw_data[label_cols].copy()"
   ]
  },
  {
   "cell_type": "code",
   "execution_count": 9,
   "metadata": {},
   "outputs": [
    {
     "data": {
      "text/plain": [
       "HR    214\n",
       "Name: Risk, dtype: int64"
      ]
     },
     "execution_count": 9,
     "metadata": {},
     "output_type": "execute_result"
    }
   ],
   "source": [
    "labels[\"Risk\"][labels[\"Risk\"]==\"HR\"].value_counts()"
   ]
  },
  {
   "cell_type": "code",
   "execution_count": 10,
   "metadata": {},
   "outputs": [
    {
     "data": {
      "text/plain": [
       "TYPICAL            149\n",
       "ASD                 39\n",
       "ATYPICAL_ADOS       17\n",
       "ATYPICAL_MULLEN      9\n",
       "Name: ASD_DX_group, dtype: int64"
      ]
     },
     "execution_count": 10,
     "metadata": {},
     "output_type": "execute_result"
    }
   ],
   "source": [
    "labels[\"ASD_DX_group\"][labels[\"Risk\"]==\"HR\"].value_counts()"
   ]
  },
  {
   "cell_type": "code",
   "execution_count": 11,
   "metadata": {},
   "outputs": [],
   "source": [
    "LR = labels[\"Risk\"]==\"LR\"\n",
    "typical = labels[\"ASD_DX_group\"]==\"TYPICAL\"\n",
    "ASD = labels[\"ASD_DX_group\"]==\"ASD\"\n",
    "LR_typical = labels[LR & typical]"
   ]
  },
  {
   "cell_type": "code",
   "execution_count": 12,
   "metadata": {},
   "outputs": [],
   "source": [
    "HR = labels[\"Risk\"]==\"HR\"\n",
    "HR_nontypical = labels[HR & ~typical]"
   ]
  },
  {
   "cell_type": "code",
   "execution_count": 13,
   "metadata": {},
   "outputs": [
    {
     "data": {
      "text/plain": [
       "LR    99\n",
       "HR    65\n",
       "Name: Risk, dtype: int64"
      ]
     },
     "execution_count": 13,
     "metadata": {},
     "output_type": "execute_result"
    }
   ],
   "source": [
    "analysis_labels = pd.concat((LR_typical, HR_nontypical))\n",
    "analysis_labels[\"Risk\"].value_counts()"
   ]
  },
  {
   "cell_type": "code",
   "execution_count": 14,
   "metadata": {},
   "outputs": [
    {
     "data": {
      "text/plain": [
       "[array(['ASD', 'ATYPICAL_ADOS', 'ATYPICAL_MULLEN', 'TYPICAL'], dtype=object),\n",
       " array(['HR', 'LR'], dtype=object)]"
      ]
     },
     "execution_count": 14,
     "metadata": {},
     "output_type": "execute_result"
    }
   ],
   "source": [
    "enc = OrdinalEncoder()\n",
    "enc.fit(analysis_labels)\n",
    "enc_labels = enc.transform(analysis_labels)\n",
    "enc.categories_"
   ]
  },
  {
   "cell_type": "code",
   "execution_count": 15,
   "metadata": {},
   "outputs": [
    {
     "name": "stdout",
     "output_type": "stream",
     "text": [
      "(131, 333)\n"
     ]
    },
    {
     "data": {
      "text/plain": [
       "1    79\n",
       "0    52\n",
       "dtype: int64"
      ]
     },
     "execution_count": 15,
     "metadata": {},
     "output_type": "execute_result"
    }
   ],
   "source": [
    "risk_labels = pd.Series(enc_labels[:,1], dtype=int, index=analysis_labels.index)\n",
    "data = features.loc[analysis_labels.index].copy()\n",
    "\n",
    "# Separating a hold out set that will be used for validation of the pipeline\n",
    "train_data, train_labels, test_data, test_labels = split_valid(data, risk_labels, valid_size=0.2)\n",
    "\n",
    "print(train_data.shape)\n",
    "train_labels.value_counts()"
   ]
  },
  {
   "cell_type": "code",
   "execution_count": 16,
   "metadata": {},
   "outputs": [],
   "source": [
    "from sklearn.preprocessing import StandardScaler\n",
    "from sklearn.utils.class_weight import compute_class_weight\n",
    "import tensorflow as tf\n",
    "from tensorflow.keras.callbacks import TensorBoard\n",
    "\n",
    "ZScaler = StandardScaler().fit(train_data)\n",
    "X_train = ZScaler.transform(train_data)\n",
    "X_valid = ZScaler.transform(test_data)\n",
    "\n",
    "early_stop = tf.keras.callbacks.EarlyStopping(monitor='val_acc', min_delta=0, patience=20,\n",
    "                                           verbose=2, mode='max', baseline=None, restore_best_weights=True)\n",
    "\n",
    "y_train = train_labels.values.reshape(-1,1)\n",
    "y_valid = test_labels.values.reshape(-1,1)\n",
    "\n",
    "class_weight = compute_class_weight(\"balanced\", np.unique(train_labels), train_labels)"
   ]
  },
  {
   "cell_type": "code",
   "execution_count": 17,
   "metadata": {},
   "outputs": [],
   "source": [
    "def build_dnn(num_features, num_labels, activation=\"elu\"):\n",
    "    \n",
    "    import tensorflow as tf\n",
    "    import keras\n",
    "    from keras import optimizers\n",
    "    from keras import regularizers\n",
    "    from keras.constraints import max_norm\n",
    "    keras.backend.clear_session()\n",
    "    \n",
    "    tf.random.set_random_seed(RANDOM_STATE)\n",
    "    reg_scale = 0.01 # For L1 Reg\n",
    "    my_reg = regularizers.l2(reg_scale) # Can change this if needed\n",
    "    \n",
    "    dnn = keras.models.Sequential()\n",
    "\n",
    "    Dense = keras.layers.Dense\n",
    "    \n",
    "    # Using He initialization\n",
    "    he_init = keras.initializers.he_normal(seed=RANDOM_STATE)\n",
    "\n",
    "    dnn.add(Dense(units = 64, activation=activation, input_dim = num_features,\n",
    "                  kernel_initializer=he_init,  kernel_regularizer=my_reg))\n",
    "    dnn.add(keras.layers.Dropout(0.2)),\n",
    "    dnn.add(Dense(units = 64, activation=activation,\n",
    "                  kernel_initializer=he_init,  kernel_regularizer=my_reg))\n",
    "    dnn.add(keras.layers.Dropout(0.2))\n",
    "    \n",
    "    dnn.add(Dense(units=num_labels, activation=\"sigmoid\",\n",
    "                  kernel_initializer=he_init,  kernel_regularizer=my_reg)) # 5 labels -> logits for now\n",
    "    \n",
    "#     SGD=keras.optimizers.SGD(lr=0.001)\n",
    "    NSGD = keras.optimizers.SGD(lr=0.001,momentum=0.9,nesterov=True)\n",
    "    \n",
    "    dnn.compile(loss='binary_crossentropy',\n",
    "                  optimizer=NSGD,\n",
    "                  metrics=['accuracy']) #Internally it seems to be same as binary accuracy\n",
    "    \n",
    "    return dnn"
   ]
  },
  {
   "cell_type": "code",
   "execution_count": 79,
   "metadata": {},
   "outputs": [
    {
     "name": "stdout",
     "output_type": "stream",
     "text": [
      "_________________________________________________________________\n",
      "Layer (type)                 Output Shape              Param #   \n",
      "=================================================================\n",
      "dense_1 (Dense)              (None, 64)                21376     \n",
      "_________________________________________________________________\n",
      "dropout_1 (Dropout)          (None, 64)                0         \n",
      "_________________________________________________________________\n",
      "dense_2 (Dense)              (None, 64)                4160      \n",
      "_________________________________________________________________\n",
      "dropout_2 (Dropout)          (None, 64)                0         \n",
      "_________________________________________________________________\n",
      "dense_3 (Dense)              (None, 1)                 65        \n",
      "=================================================================\n",
      "Total params: 25,601\n",
      "Trainable params: 25,601\n",
      "Non-trainable params: 0\n",
      "_________________________________________________________________\n"
     ]
    }
   ],
   "source": [
    "dnn = build_dnn(num_features=data.shape[1], num_labels=1, activation=\"relu\")\n",
    "dnn.summary()"
   ]
  },
  {
   "cell_type": "code",
   "execution_count": 41,
   "metadata": {},
   "outputs": [],
   "source": [
    "time = datetime.now().strftime(\"%Y%m%d-%H%M%S\")\n",
    "tensorboard = TensorBoard(log_dir='./logs/{}_dp_02_l2_relu_all-hlr'.format(time),\n",
    "                          update_freq=\"epoch\", write_graph=False)"
   ]
  },
  {
   "cell_type": "code",
   "execution_count": 42,
   "metadata": {},
   "outputs": [
    {
     "name": "stdout",
     "output_type": "stream",
     "text": [
      "CPU times: user 39.2 s, sys: 8.77 s, total: 47.9 s\n",
      "Wall time: 22.6 s\n"
     ]
    }
   ],
   "source": [
    "%%time\n",
    "dnn = build_dnn(num_features=data.shape[1], num_labels=1, activation=\"elu\")\n",
    "history = dnn.fit(X_train, y_train, validation_data=(X_valid,y_valid),class_weight=class_weight,\n",
    "                  epochs=10000, batch_size=X_train.shape[0], verbose=0, callbacks=[tensorboard])"
   ]
  },
  {
   "cell_type": "code",
   "execution_count": 43,
   "metadata": {},
   "outputs": [
    {
     "data": {
      "image/png": "[encoded data removed]",
      "text/plain": [
       "<Figure size 1440x720 with 2 Axes>"
      ]
     },
     "metadata": {
      "needs_background": "light"
     },
     "output_type": "display_data"
    },
    {
     "name": "stdout",
     "output_type": "stream",
     "text": [
      "33/33 [==============================] - 0s 80us/step\n",
      "Loss:0.923, Acc:0.6970\n"
     ]
    }
   ],
   "source": [
    "plot_history(history)\n",
    "print(\"Loss:{:0.3f}, Acc:{:.4f}\".format(*dnn.evaluate(X_valid,y_valid)))"
   ]
  },
  {
   "cell_type": "code",
   "execution_count": 44,
   "metadata": {},
   "outputs": [
    {
     "name": "stdout",
     "output_type": "stream",
     "text": [
      "Confusion matrix, without normalization\n",
      "[[0.61538462 0.38461538]\n",
      " [0.25       0.75      ]]\n",
      "Overall Accuracy: 0.6970\n"
     ]
    },
    {
     "data": {
      "text/plain": [
       "(<matplotlib.axes._subplots.AxesSubplot at 0x1a3e3c7eb8>, array([[ 8,  5],\n",
       "        [ 5, 15]]))"
      ]
     },
     "execution_count": 44,
     "metadata": {},
     "output_type": "execute_result"
    },
    {
     "data": {
      "image/png": "[encoded data removed]",
      "text/plain": [
       "<Figure size 576x576 with 2 Axes>"
      ]
     },
     "metadata": {
      "needs_background": "light"
     },
     "output_type": "display_data"
    }
   ],
   "source": [
    "y_pred = np.round(np.ravel(dnn.predict(X_valid)))\n",
    "plot_confusion_matrix(np.ravel(y_valid), y_pred, enc.categories_[1])"
   ]
  },
  {
   "cell_type": "code",
   "execution_count": 45,
   "metadata": {},
   "outputs": [
    {
     "data": {
      "text/plain": [
       "0.6153846153846154"
      ]
     },
     "execution_count": 45,
     "metadata": {},
     "output_type": "execute_result"
    }
   ],
   "source": [
    "from sklearn.metrics import precision_score, make_scorer\n",
    "prec_scorer = make_scorer(precision_score, pos_label=0)\n",
    "\n",
    "precision_score(y_true=np.ravel(y_valid), y_pred=y_pred, pos_label=0)"
   ]
  },
  {
   "cell_type": "markdown",
   "metadata": {},
   "source": [
    "## Calculate LRP"
   ]
  },
  {
   "cell_type": "code",
   "execution_count": 50,
   "metadata": {},
   "outputs": [
    {
     "data": {
      "text/html": [
       "<div>\n",
       "<style scoped>\n",
       "    .dataframe tbody tr th:only-of-type {\n",
       "        vertical-align: middle;\n",
       "    }\n",
       "\n",
       "    .dataframe tbody tr th {\n",
       "        vertical-align: top;\n",
       "    }\n",
       "\n",
       "    .dataframe thead th {\n",
       "        text-align: right;\n",
       "    }\n",
       "</style>\n",
       "<table border=\"1\" class=\"dataframe\">\n",
       "  <thead>\n",
       "    <tr style=\"text-align: right;\">\n",
       "      <th></th>\n",
       "      <th>ASD_DX_group</th>\n",
       "      <th>Risk</th>\n",
       "      <th>DNN Pred</th>\n",
       "    </tr>\n",
       "    <tr>\n",
       "      <th>CandID</th>\n",
       "      <th></th>\n",
       "      <th></th>\n",
       "      <th></th>\n",
       "    </tr>\n",
       "  </thead>\n",
       "  <tbody>\n",
       "    <tr>\n",
       "      <th>526558</th>\n",
       "      <td>ASD</td>\n",
       "      <td>HR</td>\n",
       "      <td>1.0</td>\n",
       "    </tr>\n",
       "    <tr>\n",
       "      <th>950194</th>\n",
       "      <td>ASD</td>\n",
       "      <td>HR</td>\n",
       "      <td>1.0</td>\n",
       "    </tr>\n",
       "    <tr>\n",
       "      <th>321541</th>\n",
       "      <td>ASD</td>\n",
       "      <td>HR</td>\n",
       "      <td>0.0</td>\n",
       "    </tr>\n",
       "    <tr>\n",
       "      <th>857317</th>\n",
       "      <td>ASD</td>\n",
       "      <td>HR</td>\n",
       "      <td>0.0</td>\n",
       "    </tr>\n",
       "    <tr>\n",
       "      <th>751794</th>\n",
       "      <td>ASD</td>\n",
       "      <td>HR</td>\n",
       "      <td>1.0</td>\n",
       "    </tr>\n",
       "    <tr>\n",
       "      <th>677040</th>\n",
       "      <td>ATYPICAL_MULLEN</td>\n",
       "      <td>HR</td>\n",
       "      <td>0.0</td>\n",
       "    </tr>\n",
       "    <tr>\n",
       "      <th>402809</th>\n",
       "      <td>ASD</td>\n",
       "      <td>HR</td>\n",
       "      <td>0.0</td>\n",
       "    </tr>\n",
       "    <tr>\n",
       "      <th>389521</th>\n",
       "      <td>ASD</td>\n",
       "      <td>HR</td>\n",
       "      <td>0.0</td>\n",
       "    </tr>\n",
       "    <tr>\n",
       "      <th>456823</th>\n",
       "      <td>ASD</td>\n",
       "      <td>HR</td>\n",
       "      <td>0.0</td>\n",
       "    </tr>\n",
       "    <tr>\n",
       "      <th>447346</th>\n",
       "      <td>ATYPICAL_MULLEN</td>\n",
       "      <td>HR</td>\n",
       "      <td>0.0</td>\n",
       "    </tr>\n",
       "    <tr>\n",
       "      <th>175448</th>\n",
       "      <td>ASD</td>\n",
       "      <td>HR</td>\n",
       "      <td>1.0</td>\n",
       "    </tr>\n",
       "    <tr>\n",
       "      <th>919979</th>\n",
       "      <td>ASD</td>\n",
       "      <td>HR</td>\n",
       "      <td>0.0</td>\n",
       "    </tr>\n",
       "    <tr>\n",
       "      <th>214769</th>\n",
       "      <td>ATYPICAL_ADOS</td>\n",
       "      <td>HR</td>\n",
       "      <td>1.0</td>\n",
       "    </tr>\n",
       "  </tbody>\n",
       "</table>\n",
       "</div>"
      ],
      "text/plain": [
       "           ASD_DX_group Risk  DNN Pred\n",
       "CandID                                \n",
       "526558              ASD   HR       1.0\n",
       "950194              ASD   HR       1.0\n",
       "321541              ASD   HR       0.0\n",
       "857317              ASD   HR       0.0\n",
       "751794              ASD   HR       1.0\n",
       "677040  ATYPICAL_MULLEN   HR       0.0\n",
       "402809              ASD   HR       0.0\n",
       "389521              ASD   HR       0.0\n",
       "456823              ASD   HR       0.0\n",
       "447346  ATYPICAL_MULLEN   HR       0.0\n",
       "175448              ASD   HR       1.0\n",
       "919979              ASD   HR       0.0\n",
       "214769    ATYPICAL_ADOS   HR       1.0"
      ]
     },
     "execution_count": 50,
     "metadata": {},
     "output_type": "execute_result"
    }
   ],
   "source": [
    "val_samples = analysis_labels.loc[test_labels.index]\n",
    "val_samples[\"DNN Pred\"] = y_pred\n",
    "val_samples[val_samples[\"Risk\"]==\"HR\"]"
   ]
  },
  {
   "cell_type": "code",
   "execution_count": 51,
   "metadata": {},
   "outputs": [],
   "source": [
    "_correct = np.logical_and(y_pred == np.ravel(y_valid) , (val_samples[\"Risk\"]==\"HR\").values)\n",
    "_labels = val_samples[_correct][\"ASD_DX_group\"].values"
   ]
  },
  {
   "cell_type": "code",
   "execution_count": 52,
   "metadata": {},
   "outputs": [],
   "source": [
    "correct_HR_samples = X_valid[np.logical_and(y_pred == np.ravel(y_valid) , (val_samples[\"Risk\"]==\"HR\").values)]"
   ]
  },
  {
   "cell_type": "code",
   "execution_count": 53,
   "metadata": {},
   "outputs": [
    {
     "name": "stdout",
     "output_type": "stream",
     "text": [
      "Epoch 1/1\n",
      "7/7 [==============================] - 0s 27ms/step - loss: 3.1432 - broadcast_1_loss: 1.0000 - broadcast_2_loss: 1.0000 - broadcast_3_loss: 1.0000\n"
     ]
    }
   ],
   "source": [
    "import innvestigate\n",
    "import innvestigate.utils as iutils\n",
    "\n",
    "analyzer_type = \"pattern.attribution\"\n",
    "analyzer_kwargs = {\n",
    "    \"pattern.attribution\":\n",
    "        {\"pattern_type\":\"relu\"},\n",
    "    \"lrp.epsilon\":\n",
    "        {\"epsilon\":1e-3}\n",
    " }\n",
    "\n",
    "model_wo_softmax = dnn\n",
    "# model_wo_softmax = iutils.keras.graph.model_wo_softmax(dnn)\n",
    "\n",
    "analyzer = innvestigate.create_analyzer(analyzer_type, model_wo_softmax,\n",
    "                                        **analyzer_kwargs[analyzer_type])\n",
    "analyzer.fit(X_train, batch_size=20, verbose=1, disable_no_training_warning=True)"
   ]
  },
  {
   "cell_type": "code",
   "execution_count": 54,
   "metadata": {},
   "outputs": [
    {
     "data": {
      "text/plain": [
       "(8, 333)"
      ]
     },
     "execution_count": 54,
     "metadata": {},
     "output_type": "execute_result"
    }
   ],
   "source": [
    "lrp = analyzer.analyze(correct_HR_samples)\n",
    "# pd.DataFrame(relevance_results)\n",
    "lrp.shape"
   ]
  },
  {
   "cell_type": "code",
   "execution_count": 59,
   "metadata": {},
   "outputs": [
    {
     "data": {
      "text/html": [
       "        <script type=\"text/javascript\">\n",
       "        window.PlotlyConfig = {MathJaxConfig: 'local'};\n",
       "        if (window.MathJax) {MathJax.Hub.Config({SVG: {font: \"STIX-Web\"}});}\n",
       "        if (typeof require !== 'undefined') {\n",
       "        require.undef(\"plotly\");\n",
       "        requirejs.config({\n",
       "            paths: {\n",
       "                'plotly': ['https://cdn.plot.ly/plotly-latest.min']\n",
       "            }\n",
       "        });\n",
       "        require(['plotly'], function(Plotly) {\n",
       "            window._Plotly = Plotly;\n",
       "        });\n",
       "        }\n",
       "        </script>\n",
       "        "
      ]
     },
     "metadata": {},
     "output_type": "display_data"
    },
    {
     "data": {
      "application/vnd.plotly.v1+json": {
       "config": {
        "linkText": "Export to plot.ly",
        "plotlyServerURL": "https://plot.ly",
        "showLink": false
       },
       "data": [
        {
         "marker": {
          "color": [
           0,
           0,
           2,
           0,
           0,
           0,
           2,
           0
          ],
          "colorscale": [
           [
            0,
            "rgb(150,0,90)"
           ],
           [
            0.125,
            "rgb(0,0,200)"
           ],
           [
            0.25,
            "rgb(0,25,255)"
           ],
           [
            0.375,
            "rgb(0,152,255)"
           ],
           [
            0.5,
            "rgb(44,255,150)"
           ],
           [
            0.625,
            "rgb(151,255,0)"
           ],
           [
            0.75,
            "rgb(255,234,0)"
           ],
           [
            0.875,
            "rgb(255,111,0)"
           ],
           [
            1,
            "rgb(255,0,0)"
           ]
          ],
          "opacity": 0.8,
          "showscale": true,
          "size": 5
         },
         "mode": "markers",
         "name": "Training",
         "text": [
          "ASD",
          "ASD",
          "ATYPICAL_MULLEN",
          "ASD",
          "ASD",
          "ASD",
          "ATYPICAL_MULLEN",
          "ASD"
         ],
         "type": "scatter3d",
         "x": [
          -8.784817695617676,
          -8.720450401306152,
          -8.870670318603516,
          -9.169198989868164,
          -9.228909492492676,
          -9.223434448242188,
          -8.518290519714355,
          -9.38132381439209
         ],
         "y": [
          -8.696080207824707,
          -6.728479862213135,
          -8.878089904785156,
          -9.337653160095215,
          -6.341676235198975,
          -6.9782609939575195,
          -9.329156875610352,
          -6.986237049102783
         ],
         "z": [
          8.756440162658691,
          9.262170791625977,
          8.09168529510498,
          8.576160430908203,
          9.385619163513184,
          9.822052001953125,
          8.689498901367188,
          9.178065299987793
         ]
        }
       ],
       "layout": {
        "autosize": false,
        "height": 1000,
        "paper_bgcolor": "#F5F5F5",
        "scene": {
         "aspectmode": "auto",
         "aspectratio": {
          "x": 0.5237525641627128,
          "y": 1.8181808352743356,
          "z": 1.0501147583094355
         },
         "camera": {
          "center": {
           "x": 0,
           "y": 0,
           "z": 0
          },
          "eye": {
           "x": 1.4677763823992935,
           "y": 1.4677763823992933,
           "z": 1.4677763823992933
          },
          "projection": {
           "type": "perspective"
          },
          "up": {
           "x": 0,
           "y": 0,
           "z": 1
          }
         }
        },
        "template": {
         "data": {
          "bar": [
           {
            "error_x": {
             "color": "#2a3f5f"
            },
            "error_y": {
             "color": "#2a3f5f"
            },
            "marker": {
             "line": {
              "color": "#E5ECF6",
              "width": 0.5
             }
            },
            "type": "bar"
           }
          ],
          "barpolar": [
           {
            "marker": {
             "line": {
              "color": "#E5ECF6",
              "width": 0.5
             }
            },
            "type": "barpolar"
           }
          ],
          "carpet": [
           {
            "aaxis": {
             "endlinecolor": "#2a3f5f",
             "gridcolor": "white",
             "linecolor": "white",
             "minorgridcolor": "white",
             "startlinecolor": "#2a3f5f"
            },
            "baxis": {
             "endlinecolor": "#2a3f5f",
             "gridcolor": "white",
             "linecolor": "white",
             "minorgridcolor": "white",
             "startlinecolor": "#2a3f5f"
            },
            "type": "carpet"
           }
          ],
          "choropleth": [
           {
            "colorbar": {
             "outlinewidth": 0,
             "ticks": ""
            },
            "type": "choropleth"
           }
          ],
          "contour": [
           {
            "colorbar": {
             "outlinewidth": 0,
             "ticks": ""
            },
            "colorscale": [
             [
              0,
              "#0d0887"
             ],
             [
              0.1111111111111111,
              "#46039f"
             ],
             [
              0.2222222222222222,
              "#7201a8"
             ],
             [
              0.3333333333333333,
              "#9c179e"
             ],
             [
              0.4444444444444444,
              "#bd3786"
             ],
             [
              0.5555555555555556,
              "#d8576b"
             ],
             [
              0.6666666666666666,
              "#ed7953"
             ],
             [
              0.7777777777777778,
              "#fb9f3a"
             ],
             [
              0.8888888888888888,
              "#fdca26"
             ],
             [
              1,
              "#f0f921"
             ]
            ],
            "type": "contour"
           }
          ],
          "contourcarpet": [
           {
            "colorbar": {
             "outlinewidth": 0,
             "ticks": ""
            },
            "type": "contourcarpet"
           }
          ],
          "heatmap": [
           {
            "colorbar": {
             "outlinewidth": 0,
             "ticks": ""
            },
            "colorscale": [
             [
              0,
              "#0d0887"
             ],
             [
              0.1111111111111111,
              "#46039f"
             ],
             [
              0.2222222222222222,
              "#7201a8"
             ],
             [
              0.3333333333333333,
              "#9c179e"
             ],
             [
              0.4444444444444444,
              "#bd3786"
             ],
             [
              0.5555555555555556,
              "#d8576b"
             ],
             [
              0.6666666666666666,
              "#ed7953"
             ],
             [
              0.7777777777777778,
              "#fb9f3a"
             ],
             [
              0.8888888888888888,
              "#fdca26"
             ],
             [
              1,
              "#f0f921"
             ]
            ],
            "type": "heatmap"
           }
          ],
          "heatmapgl": [
           {
            "colorbar": {
             "outlinewidth": 0,
             "ticks": ""
            },
            "colorscale": [
             [
              0,
              "#0d0887"
             ],
             [
              0.1111111111111111,
              "#46039f"
             ],
             [
              0.2222222222222222,
              "#7201a8"
             ],
             [
              0.3333333333333333,
              "#9c179e"
             ],
             [
              0.4444444444444444,
              "#bd3786"
             ],
             [
              0.5555555555555556,
              "#d8576b"
             ],
             [
              0.6666666666666666,
              "#ed7953"
             ],
             [
              0.7777777777777778,
              "#fb9f3a"
             ],
             [
              0.8888888888888888,
              "#fdca26"
             ],
             [
              1,
              "#f0f921"
             ]
            ],
            "type": "heatmapgl"
           }
          ],
          "histogram": [
           {
            "marker": {
             "colorbar": {
              "outlinewidth": 0,
              "ticks": ""
             }
            },
            "type": "histogram"
           }
          ],
          "histogram2d": [
           {
            "colorbar": {
             "outlinewidth": 0,
             "ticks": ""
            },
            "colorscale": [
             [
              0,
              "#0d0887"
             ],
             [
              0.1111111111111111,
              "#46039f"
             ],
             [
              0.2222222222222222,
              "#7201a8"
             ],
             [
              0.3333333333333333,
              "#9c179e"
             ],
             [
              0.4444444444444444,
              "#bd3786"
             ],
             [
              0.5555555555555556,
              "#d8576b"
             ],
             [
              0.6666666666666666,
              "#ed7953"
             ],
             [
              0.7777777777777778,
              "#fb9f3a"
             ],
             [
              0.8888888888888888,
              "#fdca26"
             ],
             [
              1,
              "#f0f921"
             ]
            ],
            "type": "histogram2d"
           }
          ],
          "histogram2dcontour": [
           {
            "colorbar": {
             "outlinewidth": 0,
             "ticks": ""
            },
            "colorscale": [
             [
              0,
              "#0d0887"
             ],
             [
              0.1111111111111111,
              "#46039f"
             ],
             [
              0.2222222222222222,
              "#7201a8"
             ],
             [
              0.3333333333333333,
              "#9c179e"
             ],
             [
              0.4444444444444444,
              "#bd3786"
             ],
             [
              0.5555555555555556,
              "#d8576b"
             ],
             [
              0.6666666666666666,
              "#ed7953"
             ],
             [
              0.7777777777777778,
              "#fb9f3a"
             ],
             [
              0.8888888888888888,
              "#fdca26"
             ],
             [
              1,
              "#f0f921"
             ]
            ],
            "type": "histogram2dcontour"
           }
          ],
          "mesh3d": [
           {
            "colorbar": {
             "outlinewidth": 0,
             "ticks": ""
            },
            "type": "mesh3d"
           }
          ],
          "parcoords": [
           {
            "line": {
             "colorbar": {
              "outlinewidth": 0,
              "ticks": ""
             }
            },
            "type": "parcoords"
           }
          ],
          "scatter": [
           {
            "marker": {
             "colorbar": {
              "outlinewidth": 0,
              "ticks": ""
             }
            },
            "type": "scatter"
           }
          ],
          "scatter3d": [
           {
            "line": {
             "colorbar": {
              "outlinewidth": 0,
              "ticks": ""
             }
            },
            "marker": {
             "colorbar": {
              "outlinewidth": 0,
              "ticks": ""
             }
            },
            "type": "scatter3d"
           }
          ],
          "scattercarpet": [
           {
            "marker": {
             "colorbar": {
              "outlinewidth": 0,
              "ticks": ""
             }
            },
            "type": "scattercarpet"
           }
          ],
          "scattergeo": [
           {
            "marker": {
             "colorbar": {
              "outlinewidth": 0,
              "ticks": ""
             }
            },
            "type": "scattergeo"
           }
          ],
          "scattergl": [
           {
            "marker": {
             "colorbar": {
              "outlinewidth": 0,
              "ticks": ""
             }
            },
            "type": "scattergl"
           }
          ],
          "scattermapbox": [
           {
            "marker": {
             "colorbar": {
              "outlinewidth": 0,
              "ticks": ""
             }
            },
            "type": "scattermapbox"
           }
          ],
          "scatterpolar": [
           {
            "marker": {
             "colorbar": {
              "outlinewidth": 0,
              "ticks": ""
             }
            },
            "type": "scatterpolar"
           }
          ],
          "scatterpolargl": [
           {
            "marker": {
             "colorbar": {
              "outlinewidth": 0,
              "ticks": ""
             }
            },
            "type": "scatterpolargl"
           }
          ],
          "scatterternary": [
           {
            "marker": {
             "colorbar": {
              "outlinewidth": 0,
              "ticks": ""
             }
            },
            "type": "scatterternary"
           }
          ],
          "surface": [
           {
            "colorbar": {
             "outlinewidth": 0,
             "ticks": ""
            },
            "colorscale": [
             [
              0,
              "#0d0887"
             ],
             [
              0.1111111111111111,
              "#46039f"
             ],
             [
              0.2222222222222222,
              "#7201a8"
             ],
             [
              0.3333333333333333,
              "#9c179e"
             ],
             [
              0.4444444444444444,
              "#bd3786"
             ],
             [
              0.5555555555555556,
              "#d8576b"
             ],
             [
              0.6666666666666666,
              "#ed7953"
             ],
             [
              0.7777777777777778,
              "#fb9f3a"
             ],
             [
              0.8888888888888888,
              "#fdca26"
             ],
             [
              1,
              "#f0f921"
             ]
            ],
            "type": "surface"
           }
          ],
          "table": [
           {
            "cells": {
             "fill": {
              "color": "#EBF0F8"
             },
             "line": {
              "color": "white"
             }
            },
            "header": {
             "fill": {
              "color": "#C8D4E3"
             },
             "line": {
              "color": "white"
             }
            },
            "type": "table"
           }
          ]
         },
         "layout": {
          "annotationdefaults": {
           "arrowcolor": "#2a3f5f",
           "arrowhead": 0,
           "arrowwidth": 1
          },
          "colorscale": {
           "diverging": [
            [
             0,
             "#8e0152"
            ],
            [
             0.1,
             "#c51b7d"
            ],
            [
             0.2,
             "#de77ae"
            ],
            [
             0.3,
             "#f1b6da"
            ],
            [
             0.4,
             "#fde0ef"
            ],
            [
             0.5,
             "#f7f7f7"
            ],
            [
             0.6,
             "#e6f5d0"
            ],
            [
             0.7,
             "#b8e186"
            ],
            [
             0.8,
             "#7fbc41"
            ],
            [
             0.9,
             "#4d9221"
            ],
            [
             1,
             "#276419"
            ]
           ],
           "sequential": [
            [
             0,
             "#0d0887"
            ],
            [
             0.1111111111111111,
             "#46039f"
            ],
            [
             0.2222222222222222,
             "#7201a8"
            ],
            [
             0.3333333333333333,
             "#9c179e"
            ],
            [
             0.4444444444444444,
             "#bd3786"
            ],
            [
             0.5555555555555556,
             "#d8576b"
            ],
            [
             0.6666666666666666,
             "#ed7953"
            ],
            [
             0.7777777777777778,
             "#fb9f3a"
            ],
            [
             0.8888888888888888,
             "#fdca26"
            ],
            [
             1,
             "#f0f921"
            ]
           ],
           "sequentialminus": [
            [
             0,
             "#0d0887"
            ],
            [
             0.1111111111111111,
             "#46039f"
            ],
            [
             0.2222222222222222,
             "#7201a8"
            ],
            [
             0.3333333333333333,
             "#9c179e"
            ],
            [
             0.4444444444444444,
             "#bd3786"
            ],
            [
             0.5555555555555556,
             "#d8576b"
            ],
            [
             0.6666666666666666,
             "#ed7953"
            ],
            [
             0.7777777777777778,
             "#fb9f3a"
            ],
            [
             0.8888888888888888,
             "#fdca26"
            ],
            [
             1,
             "#f0f921"
            ]
           ]
          },
          "colorway": [
           "#636efa",
           "#EF553B",
           "#00cc96",
           "#ab63fa",
           "#FFA15A",
           "#19d3f3",
           "#FF6692",
           "#B6E880",
           "#FF97FF",
           "#FECB52"
          ],
          "font": {
           "color": "#2a3f5f"
          },
          "geo": {
           "bgcolor": "white",
           "lakecolor": "white",
           "landcolor": "#E5ECF6",
           "showlakes": true,
           "showland": true,
           "subunitcolor": "white"
          },
          "hoverlabel": {
           "align": "left"
          },
          "hovermode": "closest",
          "mapbox": {
           "style": "light"
          },
          "paper_bgcolor": "white",
          "plot_bgcolor": "#E5ECF6",
          "polar": {
           "angularaxis": {
            "gridcolor": "white",
            "linecolor": "white",
            "ticks": ""
           },
           "bgcolor": "#E5ECF6",
           "radialaxis": {
            "gridcolor": "white",
            "linecolor": "white",
            "ticks": ""
           }
          },
          "scene": {
           "xaxis": {
            "backgroundcolor": "#E5ECF6",
            "gridcolor": "white",
            "gridwidth": 2,
            "linecolor": "white",
            "showbackground": true,
            "ticks": "",
            "zerolinecolor": "white"
           },
           "yaxis": {
            "backgroundcolor": "#E5ECF6",
            "gridcolor": "white",
            "gridwidth": 2,
            "linecolor": "white",
            "showbackground": true,
            "ticks": "",
            "zerolinecolor": "white"
           },
           "zaxis": {
            "backgroundcolor": "#E5ECF6",
            "gridcolor": "white",
            "gridwidth": 2,
            "linecolor": "white",
            "showbackground": true,
            "ticks": "",
            "zerolinecolor": "white"
           }
          },
          "shapedefaults": {
           "line": {
            "color": "#2a3f5f"
           }
          },
          "ternary": {
           "aaxis": {
            "gridcolor": "white",
            "linecolor": "white",
            "ticks": ""
           },
           "baxis": {
            "gridcolor": "white",
            "linecolor": "white",
            "ticks": ""
           },
           "bgcolor": "#E5ECF6",
           "caxis": {
            "gridcolor": "white",
            "linecolor": "white",
            "ticks": ""
           }
          },
          "title": {
           "x": 0.05
          },
          "xaxis": {
           "automargin": true,
           "gridcolor": "white",
           "linecolor": "white",
           "ticks": "",
           "zerolinecolor": "white",
           "zerolinewidth": 2
          },
          "yaxis": {
           "automargin": true,
           "gridcolor": "white",
           "linecolor": "white",
           "ticks": "",
           "zerolinecolor": "white",
           "zerolinewidth": 2
          }
         }
        },
        "title": {
         "text": "3D LRP Embedding"
        },
        "width": 1200
       }
      },
      "image/png": "[encoded data removed]",
      "text/html": [
       "<div>\n",
       "        \n",
       "        \n",
       "            <div id=\"021769ce-3851-4c3a-90e4-188c8a1a8f42\" class=\"plotly-graph-div\" style=\"height:1000px; width:1200px;\"></div>\n",
       "            <script type=\"text/javascript\">\n",
       "                require([\"plotly\"], function(Plotly) {\n",
       "                    window.PLOTLYENV=window.PLOTLYENV || {};\n",
       "                    \n",
       "                if (document.getElementById(\"021769ce-3851-4c3a-90e4-188c8a1a8f42\")) {\n",
       "                    Plotly.newPlot(\n",
       "                        '021769ce-3851-4c3a-90e4-188c8a1a8f42',\n",
       "                        [{\"marker\": {\"color\": [0.0, 0.0, 2.0, 0.0, 0.0, 0.0, 2.0, 0.0], \"colorscale\": [[0.0, \"rgb(150,0,90)\"], [0.125, \"rgb(0,0,200)\"], [0.25, \"rgb(0,25,255)\"], [0.375, \"rgb(0,152,255)\"], [0.5, \"rgb(44,255,150)\"], [0.625, \"rgb(151,255,0)\"], [0.75, \"rgb(255,234,0)\"], [0.875, \"rgb(255,111,0)\"], [1.0, \"rgb(255,0,0)\"]], \"opacity\": 0.8, \"showscale\": true, \"size\": 5}, \"mode\": \"markers\", \"name\": \"Training\", \"text\": [\"ASD\", \"ASD\", \"ATYPICAL_MULLEN\", \"ASD\", \"ASD\", \"ASD\", \"ATYPICAL_MULLEN\", \"ASD\"], \"type\": \"scatter3d\", \"x\": [-8.784817695617676, -8.720450401306152, -8.870670318603516, -9.169198989868164, -9.228909492492676, -9.223434448242188, -8.518290519714355, -9.38132381439209], \"y\": [-8.696080207824707, -6.728479862213135, -8.878089904785156, -9.337653160095215, -6.341676235198975, -6.9782609939575195, -9.329156875610352, -6.986237049102783], \"z\": [8.756440162658691, 9.262170791625977, 8.09168529510498, 8.576160430908203, 9.385619163513184, 9.822052001953125, 8.689498901367188, 9.178065299987793]}],\n",
       "                        {\"autosize\": false, \"height\": 1000, \"paper_bgcolor\": \"#F5F5F5\", \"template\": {\"data\": {\"bar\": [{\"error_x\": {\"color\": \"#2a3f5f\"}, \"error_y\": {\"color\": \"#2a3f5f\"}, \"marker\": {\"line\": {\"color\": \"#E5ECF6\", \"width\": 0.5}}, \"type\": \"bar\"}], \"barpolar\": [{\"marker\": {\"line\": {\"color\": \"#E5ECF6\", \"width\": 0.5}}, \"type\": \"barpolar\"}], \"carpet\": [{\"aaxis\": {\"endlinecolor\": \"#2a3f5f\", \"gridcolor\": \"white\", \"linecolor\": \"white\", \"minorgridcolor\": \"white\", \"startlinecolor\": \"#2a3f5f\"}, \"baxis\": {\"endlinecolor\": \"#2a3f5f\", \"gridcolor\": \"white\", \"linecolor\": \"white\", \"minorgridcolor\": \"white\", \"startlinecolor\": \"#2a3f5f\"}, \"type\": \"carpet\"}], \"choropleth\": [{\"colorbar\": {\"outlinewidth\": 0, \"ticks\": \"\"}, \"type\": \"choropleth\"}], \"contour\": [{\"colorbar\": {\"outlinewidth\": 0, \"ticks\": \"\"}, \"colorscale\": [[0.0, \"#0d0887\"], [0.1111111111111111, \"#46039f\"], [0.2222222222222222, \"#7201a8\"], [0.3333333333333333, \"#9c179e\"], [0.4444444444444444, \"#bd3786\"], [0.5555555555555556, \"#d8576b\"], [0.6666666666666666, \"#ed7953\"], [0.7777777777777778, \"#fb9f3a\"], [0.8888888888888888, \"#fdca26\"], [1.0, \"#f0f921\"]], \"type\": \"contour\"}], \"contourcarpet\": [{\"colorbar\": {\"outlinewidth\": 0, \"ticks\": \"\"}, \"type\": \"contourcarpet\"}], \"heatmap\": [{\"colorbar\": {\"outlinewidth\": 0, \"ticks\": \"\"}, \"colorscale\": [[0.0, \"#0d0887\"], [0.1111111111111111, \"#46039f\"], [0.2222222222222222, \"#7201a8\"], [0.3333333333333333, \"#9c179e\"], [0.4444444444444444, \"#bd3786\"], [0.5555555555555556, \"#d8576b\"], [0.6666666666666666, \"#ed7953\"], [0.7777777777777778, \"#fb9f3a\"], [0.8888888888888888, \"#fdca26\"], [1.0, \"#f0f921\"]], \"type\": \"heatmap\"}], \"heatmapgl\": [{\"colorbar\": {\"outlinewidth\": 0, \"ticks\": \"\"}, \"colorscale\": [[0.0, \"#0d0887\"], [0.1111111111111111, \"#46039f\"], [0.2222222222222222, \"#7201a8\"], [0.3333333333333333, \"#9c179e\"], [0.4444444444444444, \"#bd3786\"], [0.5555555555555556, \"#d8576b\"], [0.6666666666666666, \"#ed7953\"], [0.7777777777777778, \"#fb9f3a\"], [0.8888888888888888, \"#fdca26\"], [1.0, \"#f0f921\"]], \"type\": \"heatmapgl\"}], \"histogram\": [{\"marker\": {\"colorbar\": {\"outlinewidth\": 0, \"ticks\": \"\"}}, \"type\": \"histogram\"}], \"histogram2d\": [{\"colorbar\": {\"outlinewidth\": 0, \"ticks\": \"\"}, \"colorscale\": [[0.0, \"#0d0887\"], [0.1111111111111111, \"#46039f\"], [0.2222222222222222, \"#7201a8\"], [0.3333333333333333, \"#9c179e\"], [0.4444444444444444, \"#bd3786\"], [0.5555555555555556, \"#d8576b\"], [0.6666666666666666, \"#ed7953\"], [0.7777777777777778, \"#fb9f3a\"], [0.8888888888888888, \"#fdca26\"], [1.0, \"#f0f921\"]], \"type\": \"histogram2d\"}], \"histogram2dcontour\": [{\"colorbar\": {\"outlinewidth\": 0, \"ticks\": \"\"}, \"colorscale\": [[0.0, \"#0d0887\"], [0.1111111111111111, \"#46039f\"], [0.2222222222222222, \"#7201a8\"], [0.3333333333333333, \"#9c179e\"], [0.4444444444444444, \"#bd3786\"], [0.5555555555555556, \"#d8576b\"], [0.6666666666666666, \"#ed7953\"], [0.7777777777777778, \"#fb9f3a\"], [0.8888888888888888, \"#fdca26\"], [1.0, \"#f0f921\"]], \"type\": \"histogram2dcontour\"}], \"mesh3d\": [{\"colorbar\": {\"outlinewidth\": 0, \"ticks\": \"\"}, \"type\": \"mesh3d\"}], \"parcoords\": [{\"line\": {\"colorbar\": {\"outlinewidth\": 0, \"ticks\": \"\"}}, \"type\": \"parcoords\"}], \"scatter\": [{\"marker\": {\"colorbar\": {\"outlinewidth\": 0, \"ticks\": \"\"}}, \"type\": \"scatter\"}], \"scatter3d\": [{\"line\": {\"colorbar\": {\"outlinewidth\": 0, \"ticks\": \"\"}}, \"marker\": {\"colorbar\": {\"outlinewidth\": 0, \"ticks\": \"\"}}, \"type\": \"scatter3d\"}], \"scattercarpet\": [{\"marker\": {\"colorbar\": {\"outlinewidth\": 0, \"ticks\": \"\"}}, \"type\": \"scattercarpet\"}], \"scattergeo\": [{\"marker\": {\"colorbar\": {\"outlinewidth\": 0, \"ticks\": \"\"}}, \"type\": \"scattergeo\"}], \"scattergl\": [{\"marker\": {\"colorbar\": {\"outlinewidth\": 0, \"ticks\": \"\"}}, \"type\": \"scattergl\"}], \"scattermapbox\": [{\"marker\": {\"colorbar\": {\"outlinewidth\": 0, \"ticks\": \"\"}}, \"type\": \"scattermapbox\"}], \"scatterpolar\": [{\"marker\": {\"colorbar\": {\"outlinewidth\": 0, \"ticks\": \"\"}}, \"type\": \"scatterpolar\"}], \"scatterpolargl\": [{\"marker\": {\"colorbar\": {\"outlinewidth\": 0, \"ticks\": \"\"}}, \"type\": \"scatterpolargl\"}], \"scatterternary\": [{\"marker\": {\"colorbar\": {\"outlinewidth\": 0, \"ticks\": \"\"}}, \"type\": \"scatterternary\"}], \"surface\": [{\"colorbar\": {\"outlinewidth\": 0, \"ticks\": \"\"}, \"colorscale\": [[0.0, \"#0d0887\"], [0.1111111111111111, \"#46039f\"], [0.2222222222222222, \"#7201a8\"], [0.3333333333333333, \"#9c179e\"], [0.4444444444444444, \"#bd3786\"], [0.5555555555555556, \"#d8576b\"], [0.6666666666666666, \"#ed7953\"], [0.7777777777777778, \"#fb9f3a\"], [0.8888888888888888, \"#fdca26\"], [1.0, \"#f0f921\"]], \"type\": \"surface\"}], \"table\": [{\"cells\": {\"fill\": {\"color\": \"#EBF0F8\"}, \"line\": {\"color\": \"white\"}}, \"header\": {\"fill\": {\"color\": \"#C8D4E3\"}, \"line\": {\"color\": \"white\"}}, \"type\": \"table\"}]}, \"layout\": {\"annotationdefaults\": {\"arrowcolor\": \"#2a3f5f\", \"arrowhead\": 0, \"arrowwidth\": 1}, \"colorscale\": {\"diverging\": [[0, \"#8e0152\"], [0.1, \"#c51b7d\"], [0.2, \"#de77ae\"], [0.3, \"#f1b6da\"], [0.4, \"#fde0ef\"], [0.5, \"#f7f7f7\"], [0.6, \"#e6f5d0\"], [0.7, \"#b8e186\"], [0.8, \"#7fbc41\"], [0.9, \"#4d9221\"], [1, \"#276419\"]], \"sequential\": [[0.0, \"#0d0887\"], [0.1111111111111111, \"#46039f\"], [0.2222222222222222, \"#7201a8\"], [0.3333333333333333, \"#9c179e\"], [0.4444444444444444, \"#bd3786\"], [0.5555555555555556, \"#d8576b\"], [0.6666666666666666, \"#ed7953\"], [0.7777777777777778, \"#fb9f3a\"], [0.8888888888888888, \"#fdca26\"], [1.0, \"#f0f921\"]], \"sequentialminus\": [[0.0, \"#0d0887\"], [0.1111111111111111, \"#46039f\"], [0.2222222222222222, \"#7201a8\"], [0.3333333333333333, \"#9c179e\"], [0.4444444444444444, \"#bd3786\"], [0.5555555555555556, \"#d8576b\"], [0.6666666666666666, \"#ed7953\"], [0.7777777777777778, \"#fb9f3a\"], [0.8888888888888888, \"#fdca26\"], [1.0, \"#f0f921\"]]}, \"colorway\": [\"#636efa\", \"#EF553B\", \"#00cc96\", \"#ab63fa\", \"#FFA15A\", \"#19d3f3\", \"#FF6692\", \"#B6E880\", \"#FF97FF\", \"#FECB52\"], \"font\": {\"color\": \"#2a3f5f\"}, \"geo\": {\"bgcolor\": \"white\", \"lakecolor\": \"white\", \"landcolor\": \"#E5ECF6\", \"showlakes\": true, \"showland\": true, \"subunitcolor\": \"white\"}, \"hoverlabel\": {\"align\": \"left\"}, \"hovermode\": \"closest\", \"mapbox\": {\"style\": \"light\"}, \"paper_bgcolor\": \"white\", \"plot_bgcolor\": \"#E5ECF6\", \"polar\": {\"angularaxis\": {\"gridcolor\": \"white\", \"linecolor\": \"white\", \"ticks\": \"\"}, \"bgcolor\": \"#E5ECF6\", \"radialaxis\": {\"gridcolor\": \"white\", \"linecolor\": \"white\", \"ticks\": \"\"}}, \"scene\": {\"xaxis\": {\"backgroundcolor\": \"#E5ECF6\", \"gridcolor\": \"white\", \"gridwidth\": 2, \"linecolor\": \"white\", \"showbackground\": true, \"ticks\": \"\", \"zerolinecolor\": \"white\"}, \"yaxis\": {\"backgroundcolor\": \"#E5ECF6\", \"gridcolor\": \"white\", \"gridwidth\": 2, \"linecolor\": \"white\", \"showbackground\": true, \"ticks\": \"\", \"zerolinecolor\": \"white\"}, \"zaxis\": {\"backgroundcolor\": \"#E5ECF6\", \"gridcolor\": \"white\", \"gridwidth\": 2, \"linecolor\": \"white\", \"showbackground\": true, \"ticks\": \"\", \"zerolinecolor\": \"white\"}}, \"shapedefaults\": {\"line\": {\"color\": \"#2a3f5f\"}}, \"ternary\": {\"aaxis\": {\"gridcolor\": \"white\", \"linecolor\": \"white\", \"ticks\": \"\"}, \"baxis\": {\"gridcolor\": \"white\", \"linecolor\": \"white\", \"ticks\": \"\"}, \"bgcolor\": \"#E5ECF6\", \"caxis\": {\"gridcolor\": \"white\", \"linecolor\": \"white\", \"ticks\": \"\"}}, \"title\": {\"x\": 0.05}, \"xaxis\": {\"automargin\": true, \"gridcolor\": \"white\", \"linecolor\": \"white\", \"ticks\": \"\", \"zerolinecolor\": \"white\", \"zerolinewidth\": 2}, \"yaxis\": {\"automargin\": true, \"gridcolor\": \"white\", \"linecolor\": \"white\", \"ticks\": \"\", \"zerolinecolor\": \"white\", \"zerolinewidth\": 2}}}, \"title\": {\"text\": \"3D LRP Embedding\"}, \"width\": 1200},\n",
       "                        {\"responsive\": true}\n",
       "                    ).then(function(){\n",
       "                            \n",
       "var gd = document.getElementById('021769ce-3851-4c3a-90e4-188c8a1a8f42');\n",
       "var x = new MutationObserver(function (mutations, observer) {{\n",
       "        var display = window.getComputedStyle(gd).display;\n",
       "        if (!display || display === 'none') {{\n",
       "            console.log([gd, 'removed!']);\n",
       "            Plotly.purge(gd);\n",
       "            observer.disconnect();\n",
       "        }}\n",
       "}});\n",
       "\n",
       "// Listen for the removal of the full notebook cells\n",
       "var notebookContainer = gd.closest('#notebook-container');\n",
       "if (notebookContainer) {{\n",
       "    x.observe(notebookContainer, {childList: true});\n",
       "}}\n",
       "\n",
       "// Listen for the clearing of the current output cell\n",
       "var outputEl = gd.closest('.output');\n",
       "if (outputEl) {{\n",
       "    x.observe(outputEl, {childList: true});\n",
       "}}\n",
       "\n",
       "                        })\n",
       "                };\n",
       "                });\n",
       "            </script>\n",
       "        </div>"
      ]
     },
     "metadata": {},
     "output_type": "display_data"
    }
   ],
   "source": [
    "from sklearn.preprocessing import MinMaxScaler\n",
    "from helper import plot_3d_lrp\n",
    "\n",
    "reducer = umap.UMAP(random_state=42,\n",
    "                    n_components = 3,\n",
    "                    n_neighbors=6,\n",
    "                    min_dist=0)\n",
    "\n",
    "reducer_pipeline = Pipeline([\n",
    "            (\"umap\", reducer),\n",
    "#             (\"scaler\",  MinMaxScaler())\n",
    "])\n",
    "\n",
    "reducer_pipeline.fit(lrp)\n",
    "embeddings = reducer_pipeline.transform(lrp)\n",
    "plot_3d_lrp(embeddings, colors= enc.transform(_labels.reshape(-1,1))[:,0], labels=_labels )"
   ]
  },
  {
   "cell_type": "markdown",
   "metadata": {},
   "source": [
    "### Cross Validating"
   ]
  },
  {
   "cell_type": "code",
   "execution_count": 18,
   "metadata": {},
   "outputs": [],
   "source": [
    "# Separating a hold out set that will be used for validation of the pipeline\n",
    "# train_data, train_labels, test_data, test_labels = split_valid(data, risk_labels, valid_size=0.01)\n",
    "train_data, train_labels, test_data, test_labels = data, risk_labels, [], []"
   ]
  },
  {
   "cell_type": "code",
   "execution_count": 19,
   "metadata": {},
   "outputs": [],
   "source": [
    "reducer = umap.UMAP(random_state=42,\n",
    "                    n_components = 10,\n",
    "                    n_neighbors=5,\n",
    "                    min_dist=0)"
   ]
  },
  {
   "cell_type": "code",
   "execution_count": 20,
   "metadata": {},
   "outputs": [
    {
     "name": "stdout",
     "output_type": "stream",
     "text": [
      "WARNING:tensorflow:From /Users/Work/anaconda3/envs/condatensor/lib/python3.6/site-packages/tensorflow/python/framework/op_def_library.py:263: colocate_with (from tensorflow.python.framework.ops) is deprecated and will be removed in a future version.\n",
      "Instructions for updating:\n",
      "Colocations handled automatically by placer.\n",
      "WARNING:tensorflow:From /Users/Work/anaconda3/envs/condatensor/lib/python3.6/site-packages/keras/backend/tensorflow_backend.py:3445: calling dropout (from tensorflow.python.ops.nn_ops) with keep_prob is deprecated and will be removed in a future version.\n",
      "Instructions for updating:\n",
      "Please use `rate` instead of `keep_prob`. Rate should be set to `rate = 1 - keep_prob`.\n"
     ]
    },
    {
     "name": "stderr",
     "output_type": "stream",
     "text": [
      "Using TensorFlow backend.\n"
     ]
    }
   ],
   "source": [
    "dnn = build_dnn(num_features=data.shape[1], num_labels=1, activation=\"relu\")\n",
    "pipeline = ClusterPipeline(dnn, [train_data, train_labels], [test_data, test_labels],\n",
    "                           target_class=0, reducer=reducer, softmax=False, analyzer_type=\"pattern.attribution\")"
   ]
  },
  {
   "cell_type": "code",
   "execution_count": 21,
   "metadata": {},
   "outputs": [
    {
     "name": "stdout",
     "output_type": "stream",
     "text": [
      "Running Serial Crossvalidation\n",
      "Running worker: 0\n",
      "WARNING:tensorflow:From /Users/Work/anaconda3/envs/condatensor/lib/python3.6/site-packages/tensorflow/python/ops/math_ops.py:3066: to_int32 (from tensorflow.python.ops.math_ops) is deprecated and will be removed in a future version.\n",
      "Instructions for updating:\n",
      "Use tf.cast instead.\n",
      "Fold: 0 -> Loss:0.162, Acc:1.0000\n",
      "Prediction Accuracy\n",
      "17/17 [==============================] - 0s 3ms/step\n",
      "Scores on data set: loss=0.964 accuracy=0.7059\n",
      "Fold Correct: 12\n",
      "Epoch 1/1\n",
      "8/8 [==============================] - 0s 26ms/step - loss: 3.2808 - broadcast_1_loss: 1.0000 - broadcast_2_loss: 1.0000 - broadcast_3_loss: 1.0000\n",
      "WARNING:tensorflow:From /Users/Work/anaconda3/envs/condatensor/lib/python3.6/site-packages/tensorflow/python/ops/math_grad.py:102: div (from tensorflow.python.ops.math_ops) is deprecated and will be removed in a future version.\n",
      "Instructions for updating:\n",
      "Deprecated in favor of operator or tf.math.divide.\n",
      "Running worker: 1\n",
      "Fold: 1 -> Loss:0.161, Acc:1.0000\n",
      "Prediction Accuracy\n",
      "17/17 [==============================] - 0s 31us/step\n",
      "Scores on data set: loss=1.433 accuracy=0.5294\n",
      "Fold Correct: 9\n",
      "Epoch 1/1\n",
      "8/8 [==============================] - 0s 30ms/step - loss: 3.2812 - broadcast_4_loss: 1.0000 - broadcast_5_loss: 1.0000 - broadcast_6_loss: 1.0000\n",
      "Running worker: 2\n",
      "Fold: 2 -> Loss:0.163, Acc:1.0000\n",
      "Prediction Accuracy\n",
      "17/17 [==============================] - 0s 36us/step\n",
      "Scores on data set: loss=0.971 accuracy=0.5882\n",
      "Fold Correct: 10\n",
      "Epoch 1/1\n",
      "8/8 [==============================] - 0s 34ms/step - loss: 3.2837 - broadcast_7_loss: 1.0000 - broadcast_8_loss: 1.0000 - broadcast_9_loss: 1.0000\n",
      "Running worker: 3\n",
      "Fold: 3 -> Loss:0.159, Acc:1.0000\n",
      "Prediction Accuracy\n",
      "17/17 [==============================] - 0s 31us/step\n",
      "Scores on data set: loss=2.057 accuracy=0.4118\n",
      "Fold Correct: 7\n",
      "Epoch 1/1\n",
      "8/8 [==============================] - 0s 42ms/step - loss: 3.2777 - broadcast_10_loss: 1.0000 - broadcast_11_loss: 1.0000 - broadcast_12_loss: 1.0000\n",
      "Running worker: 4\n",
      "Fold: 4 -> Loss:0.162, Acc:1.0000\n",
      "Prediction Accuracy\n",
      "17/17 [==============================] - 0s 26us/step\n",
      "Scores on data set: loss=1.010 accuracy=0.6471\n",
      "Fold Correct: 11\n",
      "Epoch 1/1\n",
      "8/8 [==============================] - 0s 46ms/step - loss: 3.2823 - broadcast_13_loss: 1.0000 - broadcast_14_loss: 1.0000 - broadcast_15_loss: 1.0000\n",
      "Running worker: 5\n",
      "Fold: 5 -> Loss:0.160, Acc:1.0000\n",
      "Prediction Accuracy\n",
      "16/16 [==============================] - 0s 40us/step\n",
      "Scores on data set: loss=0.820 accuracy=0.7500\n",
      "Fold Correct: 12\n",
      "Epoch 1/1\n",
      "8/8 [==============================] - 0s 52ms/step - loss: 3.2826 - broadcast_16_loss: 1.0000 - broadcast_17_loss: 1.0000 - broadcast_18_loss: 1.0000\n",
      "Running worker: 6\n",
      "Fold: 6 -> Loss:0.164, Acc:1.0000\n",
      "Prediction Accuracy\n",
      "16/16 [==============================] - 0s 31us/step\n",
      "Scores on data set: loss=0.494 accuracy=0.8750\n",
      "Fold Correct: 14\n",
      "Epoch 1/1\n",
      "8/8 [==============================] - 0s 57ms/step - loss: 3.2862 - broadcast_19_loss: 1.0000 - broadcast_20_loss: 1.0000 - broadcast_21_loss: 1.0000\n",
      "Running worker: 7\n",
      "Fold: 7 -> Loss:0.161, Acc:1.0000\n",
      "Prediction Accuracy\n",
      "16/16 [==============================] - 0s 44us/step\n",
      "Scores on data set: loss=1.333 accuracy=0.5000\n",
      "Fold Correct: 8\n",
      "Epoch 1/1\n",
      "8/8 [==============================] - 1s 77ms/step - loss: 3.2806 - broadcast_22_loss: 1.0000 - broadcast_23_loss: 1.0000 - broadcast_24_loss: 1.0000\n",
      "Running worker: 8\n",
      "Fold: 8 -> Loss:0.165, Acc:1.0000\n",
      "Prediction Accuracy\n",
      "16/16 [==============================] - 0s 42us/step\n",
      "Scores on data set: loss=0.836 accuracy=0.6250\n",
      "Fold Correct: 10\n",
      "Epoch 1/1\n",
      "8/8 [==============================] - 1s 70ms/step - loss: 3.2833 - broadcast_25_loss: 1.0000 - broadcast_26_loss: 1.0000 - broadcast_27_loss: 1.0000\n",
      "Running worker: 9\n",
      "Fold: 9 -> Loss:0.164, Acc:1.0000\n",
      "Prediction Accuracy\n",
      "15/15 [==============================] - 0s 43us/step\n",
      "Scores on data set: loss=0.700 accuracy=0.7333\n",
      "Fold Correct: 11\n",
      "Epoch 1/1\n",
      "8/8 [==============================] - 1s 72ms/step - loss: 3.2839 - broadcast_28_loss: 1.0000 - broadcast_29_loss: 1.0000 - broadcast_30_loss: 1.0000\n",
      "Runtime: 198.479s\n",
      "Correct: 104\n",
      "Test Size: 164\n",
      "Confusion matrix, without normalization\n",
      "[[0.44615385 0.55384615]\n",
      " [0.24242424 0.75757576]]\n",
      "Overall Accuracy: 0.6341\n",
      "Loading LRP Analyzers...\n",
      "Epoch 1/1\n",
      "9/9 [==============================] - 1s 78ms/step - loss: 3.2808 - broadcast_31_loss: 1.0000 - broadcast_32_loss: 1.0000 - broadcast_33_loss: 1.0000\n",
      "Epoch 1/1\n",
      "9/9 [==============================] - 1s 80ms/step - loss: 3.2812 - broadcast_34_loss: 1.0000 - broadcast_35_loss: 1.0000 - broadcast_36_loss: 1.0000\n",
      "Epoch 1/1\n",
      "9/9 [==============================] - 1s 88ms/step - loss: 3.2837 - broadcast_37_loss: 1.0000 - broadcast_38_loss: 1.0000 - broadcast_39_loss: 1.0000\n",
      "Epoch 1/1\n",
      "9/9 [==============================] - 1s 87ms/step - loss: 3.2777 - broadcast_40_loss: 1.0000 - broadcast_41_loss: 1.0000 - broadcast_42_loss: 1.0000\n",
      "Epoch 1/1\n",
      "9/9 [==============================] - 1s 86ms/step - loss: 3.2823 - broadcast_43_loss: 1.0000 - broadcast_44_loss: 1.0000 - broadcast_45_loss: 1.0000\n",
      "Epoch 1/1\n",
      "9/9 [==============================] - 1s 86ms/step - loss: 3.2826 - broadcast_46_loss: 1.0000 - broadcast_47_loss: 1.0000 - broadcast_48_loss: 1.0000\n",
      "Epoch 1/1\n",
      "9/9 [==============================] - 1s 91ms/step - loss: 3.2862 - broadcast_49_loss: 1.0000 - broadcast_50_loss: 1.0000 - broadcast_51_loss: 1.0000\n",
      "Epoch 1/1\n",
      "9/9 [==============================] - 1s 96ms/step - loss: 3.2806 - broadcast_52_loss: 1.0000 - broadcast_53_loss: 1.0000 - broadcast_54_loss: 1.0000\n",
      "Epoch 1/1\n",
      "9/9 [==============================] - 1s 97ms/step - loss: 3.2833 - broadcast_55_loss: 1.0000 - broadcast_56_loss: 1.0000 - broadcast_57_loss: 1.0000\n",
      "Epoch 1/1\n",
      "9/9 [==============================] - 1s 101ms/step - loss: 3.2839 - broadcast_58_loss: 1.0000 - broadcast_59_loss: 1.0000 - broadcast_60_loss: 1.0000\n",
      "Done!\n"
     ]
    },
    {
     "data": {
      "image/png": "[encoded data removed]",
      "text/plain": [
       "<Figure size 576x576 with 2 Axes>"
      ]
     },
     "metadata": {
      "needs_background": "light"
     },
     "output_type": "display_data"
    }
   ],
   "source": [
    "cm = pipeline.train_model(batch_size=int(0.9*train_data.shape[0]), epochs=5000,\n",
    "                          cross_validation=True, smote=True)"
   ]
  },
  {
   "cell_type": "code",
   "execution_count": 84,
   "metadata": {},
   "outputs": [
    {
     "data": {
      "text/plain": [
       "27"
      ]
     },
     "execution_count": 84,
     "metadata": {},
     "output_type": "execute_result"
    }
   ],
   "source": [
    "cm[0][0]"
   ]
  },
  {
   "cell_type": "code",
   "execution_count": 22,
   "metadata": {},
   "outputs": [
    {
     "name": "stdout",
     "output_type": "stream",
     "text": [
      "LRP Shape:  (29, 333)\n",
      "Cluster Search Space: range(3, 9)\n",
      "Minimum Size:\n",
      "Clusters                  (6, 6)\n",
      "Noise                     (3, 3)\n",
      "Halkidi                   (3, 3)\n",
      "Halkidi-Filtered Noise    (3, 3)\n",
      "dtype: object\n",
      "Clusters Found: 2\n"
     ]
    }
   ],
   "source": [
    "from sklearn.preprocessing import MinMaxScaler\n",
    "reducer = umap.UMAP(random_state=42,\n",
    "                    n_components = 20,\n",
    "                    n_neighbors=6,\n",
    "                    min_dist=0)\n",
    "\n",
    "pipeline.reducer_pipeline = Pipeline([\n",
    "            (\"umap\", reducer),\n",
    "            (\"scaler\",  MinMaxScaler())\n",
    "        ])\n",
    "\n",
    "_, correct_pred_idxs = pipeline.train_clusterer(plot=False, class_label=0, clip=True)\n",
    "print(\"Clusters Found:\", max(pipeline.clusterer.labels_)+1)"
   ]
  },
  {
   "cell_type": "code",
   "execution_count": 23,
   "metadata": {},
   "outputs": [
    {
     "data": {
      "text/plain": [
       "0.0033582007"
      ]
     },
     "execution_count": 23,
     "metadata": {},
     "output_type": "execute_result"
    }
   ],
   "source": [
    "np.max(pipeline.training_lrp)"
   ]
  },
  {
   "cell_type": "code",
   "execution_count": 24,
   "metadata": {},
   "outputs": [
    {
     "data": {
      "text/plain": [
       "(164,)"
      ]
     },
     "execution_count": 24,
     "metadata": {},
     "output_type": "execute_result"
    }
   ],
   "source": [
    "reindexed_labels = train_labels.iloc[pipeline.testing_idxs]\n",
    "correct_idxs = pipeline.correct_preds_bool_arr\n",
    "reindexed_labels.shape"
   ]
  },
  {
   "cell_type": "code",
   "execution_count": 25,
   "metadata": {},
   "outputs": [],
   "source": [
    "_correct=analysis_labels.loc[reindexed_labels[correct_idxs].index]\n",
    "correct_HR = _correct[_correct[\"Risk\"]==\"HR\"]\n",
    "# enc.transform(correct_HR)[:,0]"
   ]
  },
  {
   "cell_type": "code",
   "execution_count": 28,
   "metadata": {},
   "outputs": [
    {
     "data": {
      "text/html": [
       "        <script type=\"text/javascript\">\n",
       "        window.PlotlyConfig = {MathJaxConfig: 'local'};\n",
       "        if (window.MathJax) {MathJax.Hub.Config({SVG: {font: \"STIX-Web\"}});}\n",
       "        if (typeof require !== 'undefined') {\n",
       "        require.undef(\"plotly\");\n",
       "        requirejs.config({\n",
       "            paths: {\n",
       "                'plotly': ['https://cdn.plot.ly/plotly-latest.min']\n",
       "            }\n",
       "        });\n",
       "        require(['plotly'], function(Plotly) {\n",
       "            window._Plotly = Plotly;\n",
       "        });\n",
       "        }\n",
       "        </script>\n",
       "        "
      ]
     },
     "metadata": {},
     "output_type": "display_data"
    },
    {
     "data": {
      "application/vnd.plotly.v1+json": {
       "config": {
        "linkText": "Export to plot.ly",
        "plotlyServerURL": "https://plot.ly",
        "showLink": false
       },
       "data": [
        {
         "marker": {
          "color": [
           1,
           1,
           1,
           1,
           1,
           0,
           0,
           0,
           1,
           1,
           1,
           0,
           1,
           1,
           1,
           1,
           1,
           1,
           1,
           1,
           1,
           0,
           1,
           1,
           0,
           1,
           1,
           1,
           1
          ],
          "colorscale": [
           [
            0,
            "rgb(150,0,90)"
           ],
           [
            0.125,
            "rgb(0,0,200)"
           ],
           [
            0.25,
            "rgb(0,25,255)"
           ],
           [
            0.375,
            "rgb(0,152,255)"
           ],
           [
            0.5,
            "rgb(44,255,150)"
           ],
           [
            0.625,
            "rgb(151,255,0)"
           ],
           [
            0.75,
            "rgb(255,234,0)"
           ],
           [
            0.875,
            "rgb(255,111,0)"
           ],
           [
            1,
            "rgb(255,0,0)"
           ]
          ],
          "opacity": 0.8,
          "showscale": true,
          "size": 5
         },
         "mode": "markers",
         "name": "Training",
         "text": [
          "ASD",
          "ATYPICAL_ADOS",
          "ASD",
          "ATYPICAL_ADOS",
          "ASD",
          "ASD",
          "ASD",
          "ATYPICAL_ADOS",
          "ASD",
          "ATYPICAL_ADOS",
          "ASD",
          "ASD",
          "ASD",
          "ASD",
          "ASD",
          "ATYPICAL_ADOS",
          "ATYPICAL_MULLEN",
          "ASD",
          "ATYPICAL_MULLEN",
          "ASD",
          "ATYPICAL_ADOS",
          "ASD",
          "ATYPICAL_MULLEN",
          "ATYPICAL_MULLEN",
          "ASD",
          "ASD",
          "ASD",
          "ASD",
          "ASD"
         ],
         "type": "scatter3d",
         "x": [
          0.08249473571777344,
          0.21395397186279297,
          0.09219551086425781,
          0.8467586040496826,
          0.29624104499816895,
          0.25156569480895996,
          0.23603177070617676,
          0,
          0.24193263053894043,
          0.426527738571167,
          0.47804832458496094,
          0.11645102500915527,
          0.4212028980255127,
          0.0842905044555664,
          0.3765394687652588,
          0.05264997482299805,
          0.03509378433227539,
          0.2416834831237793,
          0.4614436626434326,
          0.0019469261169433594,
          0.3559684753417969,
          0.1277773380279541,
          0.7366702556610107,
          0.5473077297210693,
          0.11745405197143555,
          0.9440028667449951,
          1.000000238418579,
          0.9523670673370361,
          0.8959212303161621
         ],
         "y": [
          0.38608935475349426,
          0.5180627107620239,
          0.6047291159629822,
          0.6767294406890869,
          0.6406129002571106,
          0,
          0.08136492967605591,
          0.030894756317138672,
          0.9073008894920349,
          1,
          0.8632115125656128,
          0.07998108863830566,
          0.8252500891685486,
          0.8084971308708191,
          0.8075016736984253,
          0.7973272800445557,
          0.6341484785079956,
          0.7675350904464722,
          0.5401830673217773,
          0.7648605108261108,
          0.6229013800621033,
          0.16065800189971924,
          0.5590819120407104,
          0.6319419145584106,
          0.3136298656463623,
          0.8126767873764038,
          0.7387916445732117,
          0.6237230896949768,
          0.8402369618415833
         ],
         "z": [
          0.5337434411048889,
          0.5058000087738037,
          0.39352184534072876,
          0.012706756591796875,
          0.27082401514053345,
          0.9386654496192932,
          1.0000001192092896,
          0.8966190218925476,
          0.48577290773391724,
          0.3409968614578247,
          0.43908244371414185,
          0.9330040812492371,
          0.09382450580596924,
          0.29697614908218384,
          0.22385120391845703,
          0.7001219987869263,
          0.6691603064537048,
          0.585161030292511,
          0,
          0.6064134836196899,
          0.03262436389923096,
          0.8705697059631348,
          0.08795571327209473,
          0.452203631401062,
          0.7928686141967773,
          0.24322080612182617,
          0.08230841159820557,
          0.15106618404388428,
          0.15370333194732666
         ]
        }
       ],
       "layout": {
        "autosize": false,
        "height": 1000,
        "paper_bgcolor": "#F5F5F5",
        "scene": {
         "aspectmode": "auto",
         "aspectratio": {
          "x": 1.00000011920928,
          "y": 0.9999998807907294,
          "z": 1.0000000000000049
         },
         "camera": {
          "center": {
           "x": 0,
           "y": 0,
           "z": 0
          },
          "eye": {
           "x": 1.7620404951831303,
           "y": 1.7620404951831308,
           "z": 1.7620404951831303
          },
          "projection": {
           "type": "perspective"
          },
          "up": {
           "x": -0.0034719734750504492,
           "y": 0.003484070220773505,
           "z": 0.999987903254277
          }
         }
        },
        "template": {
         "data": {
          "bar": [
           {
            "error_x": {
             "color": "#2a3f5f"
            },
            "error_y": {
             "color": "#2a3f5f"
            },
            "marker": {
             "line": {
              "color": "#E5ECF6",
              "width": 0.5
             }
            },
            "type": "bar"
           }
          ],
          "barpolar": [
           {
            "marker": {
             "line": {
              "color": "#E5ECF6",
              "width": 0.5
             }
            },
            "type": "barpolar"
           }
          ],
          "carpet": [
           {
            "aaxis": {
             "endlinecolor": "#2a3f5f",
             "gridcolor": "white",
             "linecolor": "white",
             "minorgridcolor": "white",
             "startlinecolor": "#2a3f5f"
            },
            "baxis": {
             "endlinecolor": "#2a3f5f",
             "gridcolor": "white",
             "linecolor": "white",
             "minorgridcolor": "white",
             "startlinecolor": "#2a3f5f"
            },
            "type": "carpet"
           }
          ],
          "choropleth": [
           {
            "colorbar": {
             "outlinewidth": 0,
             "ticks": ""
            },
            "type": "choropleth"
           }
          ],
          "contour": [
           {
            "colorbar": {
             "outlinewidth": 0,
             "ticks": ""
            },
            "colorscale": [
             [
              0,
              "#0d0887"
             ],
             [
              0.1111111111111111,
              "#46039f"
             ],
             [
              0.2222222222222222,
              "#7201a8"
             ],
             [
              0.3333333333333333,
              "#9c179e"
             ],
             [
              0.4444444444444444,
              "#bd3786"
             ],
             [
              0.5555555555555556,
              "#d8576b"
             ],
             [
              0.6666666666666666,
              "#ed7953"
             ],
             [
              0.7777777777777778,
              "#fb9f3a"
             ],
             [
              0.8888888888888888,
              "#fdca26"
             ],
             [
              1,
              "#f0f921"
             ]
            ],
            "type": "contour"
           }
          ],
          "contourcarpet": [
           {
            "colorbar": {
             "outlinewidth": 0,
             "ticks": ""
            },
            "type": "contourcarpet"
           }
          ],
          "heatmap": [
           {
            "colorbar": {
             "outlinewidth": 0,
             "ticks": ""
            },
            "colorscale": [
             [
              0,
              "#0d0887"
             ],
             [
              0.1111111111111111,
              "#46039f"
             ],
             [
              0.2222222222222222,
              "#7201a8"
             ],
             [
              0.3333333333333333,
              "#9c179e"
             ],
             [
              0.4444444444444444,
              "#bd3786"
             ],
             [
              0.5555555555555556,
              "#d8576b"
             ],
             [
              0.6666666666666666,
              "#ed7953"
             ],
             [
              0.7777777777777778,
              "#fb9f3a"
             ],
             [
              0.8888888888888888,
              "#fdca26"
             ],
             [
              1,
              "#f0f921"
             ]
            ],
            "type": "heatmap"
           }
          ],
          "heatmapgl": [
           {
            "colorbar": {
             "outlinewidth": 0,
             "ticks": ""
            },
            "colorscale": [
             [
              0,
              "#0d0887"
             ],
             [
              0.1111111111111111,
              "#46039f"
             ],
             [
              0.2222222222222222,
              "#7201a8"
             ],
             [
              0.3333333333333333,
              "#9c179e"
             ],
             [
              0.4444444444444444,
              "#bd3786"
             ],
             [
              0.5555555555555556,
              "#d8576b"
             ],
             [
              0.6666666666666666,
              "#ed7953"
             ],
             [
              0.7777777777777778,
              "#fb9f3a"
             ],
             [
              0.8888888888888888,
              "#fdca26"
             ],
             [
              1,
              "#f0f921"
             ]
            ],
            "type": "heatmapgl"
           }
          ],
          "histogram": [
           {
            "marker": {
             "colorbar": {
              "outlinewidth": 0,
              "ticks": ""
             }
            },
            "type": "histogram"
           }
          ],
          "histogram2d": [
           {
            "colorbar": {
             "outlinewidth": 0,
             "ticks": ""
            },
            "colorscale": [
             [
              0,
              "#0d0887"
             ],
             [
              0.1111111111111111,
              "#46039f"
             ],
             [
              0.2222222222222222,
              "#7201a8"
             ],
             [
              0.3333333333333333,
              "#9c179e"
             ],
             [
              0.4444444444444444,
              "#bd3786"
             ],
             [
              0.5555555555555556,
              "#d8576b"
             ],
             [
              0.6666666666666666,
              "#ed7953"
             ],
             [
              0.7777777777777778,
              "#fb9f3a"
             ],
             [
              0.8888888888888888,
              "#fdca26"
             ],
             [
              1,
              "#f0f921"
             ]
            ],
            "type": "histogram2d"
           }
          ],
          "histogram2dcontour": [
           {
            "colorbar": {
             "outlinewidth": 0,
             "ticks": ""
            },
            "colorscale": [
             [
              0,
              "#0d0887"
             ],
             [
              0.1111111111111111,
              "#46039f"
             ],
             [
              0.2222222222222222,
              "#7201a8"
             ],
             [
              0.3333333333333333,
              "#9c179e"
             ],
             [
              0.4444444444444444,
              "#bd3786"
             ],
             [
              0.5555555555555556,
              "#d8576b"
             ],
             [
              0.6666666666666666,
              "#ed7953"
             ],
             [
              0.7777777777777778,
              "#fb9f3a"
             ],
             [
              0.8888888888888888,
              "#fdca26"
             ],
             [
              1,
              "#f0f921"
             ]
            ],
            "type": "histogram2dcontour"
           }
          ],
          "mesh3d": [
           {
            "colorbar": {
             "outlinewidth": 0,
             "ticks": ""
            },
            "type": "mesh3d"
           }
          ],
          "parcoords": [
           {
            "line": {
             "colorbar": {
              "outlinewidth": 0,
              "ticks": ""
             }
            },
            "type": "parcoords"
           }
          ],
          "scatter": [
           {
            "marker": {
             "colorbar": {
              "outlinewidth": 0,
              "ticks": ""
             }
            },
            "type": "scatter"
           }
          ],
          "scatter3d": [
           {
            "line": {
             "colorbar": {
              "outlinewidth": 0,
              "ticks": ""
             }
            },
            "marker": {
             "colorbar": {
              "outlinewidth": 0,
              "ticks": ""
             }
            },
            "type": "scatter3d"
           }
          ],
          "scattercarpet": [
           {
            "marker": {
             "colorbar": {
              "outlinewidth": 0,
              "ticks": ""
             }
            },
            "type": "scattercarpet"
           }
          ],
          "scattergeo": [
           {
            "marker": {
             "colorbar": {
              "outlinewidth": 0,
              "ticks": ""
             }
            },
            "type": "scattergeo"
           }
          ],
          "scattergl": [
           {
            "marker": {
             "colorbar": {
              "outlinewidth": 0,
              "ticks": ""
             }
            },
            "type": "scattergl"
           }
          ],
          "scattermapbox": [
           {
            "marker": {
             "colorbar": {
              "outlinewidth": 0,
              "ticks": ""
             }
            },
            "type": "scattermapbox"
           }
          ],
          "scatterpolar": [
           {
            "marker": {
             "colorbar": {
              "outlinewidth": 0,
              "ticks": ""
             }
            },
            "type": "scatterpolar"
           }
          ],
          "scatterpolargl": [
           {
            "marker": {
             "colorbar": {
              "outlinewidth": 0,
              "ticks": ""
             }
            },
            "type": "scatterpolargl"
           }
          ],
          "scatterternary": [
           {
            "marker": {
             "colorbar": {
              "outlinewidth": 0,
              "ticks": ""
             }
            },
            "type": "scatterternary"
           }
          ],
          "surface": [
           {
            "colorbar": {
             "outlinewidth": 0,
             "ticks": ""
            },
            "colorscale": [
             [
              0,
              "#0d0887"
             ],
             [
              0.1111111111111111,
              "#46039f"
             ],
             [
              0.2222222222222222,
              "#7201a8"
             ],
             [
              0.3333333333333333,
              "#9c179e"
             ],
             [
              0.4444444444444444,
              "#bd3786"
             ],
             [
              0.5555555555555556,
              "#d8576b"
             ],
             [
              0.6666666666666666,
              "#ed7953"
             ],
             [
              0.7777777777777778,
              "#fb9f3a"
             ],
             [
              0.8888888888888888,
              "#fdca26"
             ],
             [
              1,
              "#f0f921"
             ]
            ],
            "type": "surface"
           }
          ],
          "table": [
           {
            "cells": {
             "fill": {
              "color": "#EBF0F8"
             },
             "line": {
              "color": "white"
             }
            },
            "header": {
             "fill": {
              "color": "#C8D4E3"
             },
             "line": {
              "color": "white"
             }
            },
            "type": "table"
           }
          ]
         },
         "layout": {
          "annotationdefaults": {
           "arrowcolor": "#2a3f5f",
           "arrowhead": 0,
           "arrowwidth": 1
          },
          "colorscale": {
           "diverging": [
            [
             0,
             "#8e0152"
            ],
            [
             0.1,
             "#c51b7d"
            ],
            [
             0.2,
             "#de77ae"
            ],
            [
             0.3,
             "#f1b6da"
            ],
            [
             0.4,
             "#fde0ef"
            ],
            [
             0.5,
             "#f7f7f7"
            ],
            [
             0.6,
             "#e6f5d0"
            ],
            [
             0.7,
             "#b8e186"
            ],
            [
             0.8,
             "#7fbc41"
            ],
            [
             0.9,
             "#4d9221"
            ],
            [
             1,
             "#276419"
            ]
           ],
           "sequential": [
            [
             0,
             "#0d0887"
            ],
            [
             0.1111111111111111,
             "#46039f"
            ],
            [
             0.2222222222222222,
             "#7201a8"
            ],
            [
             0.3333333333333333,
             "#9c179e"
            ],
            [
             0.4444444444444444,
             "#bd3786"
            ],
            [
             0.5555555555555556,
             "#d8576b"
            ],
            [
             0.6666666666666666,
             "#ed7953"
            ],
            [
             0.7777777777777778,
             "#fb9f3a"
            ],
            [
             0.8888888888888888,
             "#fdca26"
            ],
            [
             1,
             "#f0f921"
            ]
           ],
           "sequentialminus": [
            [
             0,
             "#0d0887"
            ],
            [
             0.1111111111111111,
             "#46039f"
            ],
            [
             0.2222222222222222,
             "#7201a8"
            ],
            [
             0.3333333333333333,
             "#9c179e"
            ],
            [
             0.4444444444444444,
             "#bd3786"
            ],
            [
             0.5555555555555556,
             "#d8576b"
            ],
            [
             0.6666666666666666,
             "#ed7953"
            ],
            [
             0.7777777777777778,
             "#fb9f3a"
            ],
            [
             0.8888888888888888,
             "#fdca26"
            ],
            [
             1,
             "#f0f921"
            ]
           ]
          },
          "colorway": [
           "#636efa",
           "#EF553B",
           "#00cc96",
           "#ab63fa",
           "#FFA15A",
           "#19d3f3",
           "#FF6692",
           "#B6E880",
           "#FF97FF",
           "#FECB52"
          ],
          "font": {
           "color": "#2a3f5f"
          },
          "geo": {
           "bgcolor": "white",
           "lakecolor": "white",
           "landcolor": "#E5ECF6",
           "showlakes": true,
           "showland": true,
           "subunitcolor": "white"
          },
          "hoverlabel": {
           "align": "left"
          },
          "hovermode": "closest",
          "mapbox": {
           "style": "light"
          },
          "paper_bgcolor": "white",
          "plot_bgcolor": "#E5ECF6",
          "polar": {
           "angularaxis": {
            "gridcolor": "white",
            "linecolor": "white",
            "ticks": ""
           },
           "bgcolor": "#E5ECF6",
           "radialaxis": {
            "gridcolor": "white",
            "linecolor": "white",
            "ticks": ""
           }
          },
          "scene": {
           "xaxis": {
            "backgroundcolor": "#E5ECF6",
            "gridcolor": "white",
            "gridwidth": 2,
            "linecolor": "white",
            "showbackground": true,
            "ticks": "",
            "zerolinecolor": "white"
           },
           "yaxis": {
            "backgroundcolor": "#E5ECF6",
            "gridcolor": "white",
            "gridwidth": 2,
            "linecolor": "white",
            "showbackground": true,
            "ticks": "",
            "zerolinecolor": "white"
           },
           "zaxis": {
            "backgroundcolor": "#E5ECF6",
            "gridcolor": "white",
            "gridwidth": 2,
            "linecolor": "white",
            "showbackground": true,
            "ticks": "",
            "zerolinecolor": "white"
           }
          },
          "shapedefaults": {
           "line": {
            "color": "#2a3f5f"
           }
          },
          "ternary": {
           "aaxis": {
            "gridcolor": "white",
            "linecolor": "white",
            "ticks": ""
           },
           "baxis": {
            "gridcolor": "white",
            "linecolor": "white",
            "ticks": ""
           },
           "bgcolor": "#E5ECF6",
           "caxis": {
            "gridcolor": "white",
            "linecolor": "white",
            "ticks": ""
           }
          },
          "title": {
           "x": 0.05
          },
          "xaxis": {
           "automargin": true,
           "gridcolor": "white",
           "linecolor": "white",
           "ticks": "",
           "zerolinecolor": "white",
           "zerolinewidth": 2
          },
          "yaxis": {
           "automargin": true,
           "gridcolor": "white",
           "linecolor": "white",
           "ticks": "",
           "zerolinecolor": "white",
           "zerolinewidth": 2
          }
         }
        },
        "title": {
         "text": "3D LRP Embedding"
        },
        "width": 1200
       }
      },
      "text/html": [
       "<div>\n",
       "        \n",
       "        \n",
       "            <div id=\"f561f2ce-d3ee-425e-b4ee-2a54641f5467\" class=\"plotly-graph-div\" style=\"height:1000px; width:1200px;\"></div>\n",
       "            <script type=\"text/javascript\">\n",
       "                require([\"plotly\"], function(Plotly) {\n",
       "                    window.PLOTLYENV=window.PLOTLYENV || {};\n",
       "                    \n",
       "                if (document.getElementById(\"f561f2ce-d3ee-425e-b4ee-2a54641f5467\")) {\n",
       "                    Plotly.newPlot(\n",
       "                        'f561f2ce-d3ee-425e-b4ee-2a54641f5467',\n",
       "                        [{\"marker\": {\"color\": [1, 1, 1, 1, 1, 0, 0, 0, 1, 1, 1, 0, 1, 1, 1, 1, 1, 1, 1, 1, 1, 0, 1, 1, 0, 1, 1, 1, 1], \"colorscale\": [[0.0, \"rgb(150,0,90)\"], [0.125, \"rgb(0,0,200)\"], [0.25, \"rgb(0,25,255)\"], [0.375, \"rgb(0,152,255)\"], [0.5, \"rgb(44,255,150)\"], [0.625, \"rgb(151,255,0)\"], [0.75, \"rgb(255,234,0)\"], [0.875, \"rgb(255,111,0)\"], [1.0, \"rgb(255,0,0)\"]], \"opacity\": 0.8, \"showscale\": true, \"size\": 5}, \"mode\": \"markers\", \"name\": \"Training\", \"text\": [\"ASD\", \"ATYPICAL_ADOS\", \"ASD\", \"ATYPICAL_ADOS\", \"ASD\", \"ASD\", \"ASD\", \"ATYPICAL_ADOS\", \"ASD\", \"ATYPICAL_ADOS\", \"ASD\", \"ASD\", \"ASD\", \"ASD\", \"ASD\", \"ATYPICAL_ADOS\", \"ATYPICAL_MULLEN\", \"ASD\", \"ATYPICAL_MULLEN\", \"ASD\", \"ATYPICAL_ADOS\", \"ASD\", \"ATYPICAL_MULLEN\", \"ATYPICAL_MULLEN\", \"ASD\", \"ASD\", \"ASD\", \"ASD\", \"ASD\"], \"type\": \"scatter3d\", \"x\": [0.08249473571777344, 0.21395397186279297, 0.09219551086425781, 0.8467586040496826, 0.29624104499816895, 0.25156569480895996, 0.23603177070617676, 0.0, 0.24193263053894043, 0.426527738571167, 0.47804832458496094, 0.11645102500915527, 0.4212028980255127, 0.0842905044555664, 0.3765394687652588, 0.05264997482299805, 0.03509378433227539, 0.2416834831237793, 0.4614436626434326, 0.0019469261169433594, 0.3559684753417969, 0.1277773380279541, 0.7366702556610107, 0.5473077297210693, 0.11745405197143555, 0.9440028667449951, 1.000000238418579, 0.9523670673370361, 0.8959212303161621], \"y\": [0.38608935475349426, 0.5180627107620239, 0.6047291159629822, 0.6767294406890869, 0.6406129002571106, 0.0, 0.08136492967605591, 0.030894756317138672, 0.9073008894920349, 1.0, 0.8632115125656128, 0.07998108863830566, 0.8252500891685486, 0.8084971308708191, 0.8075016736984253, 0.7973272800445557, 0.6341484785079956, 0.7675350904464722, 0.5401830673217773, 0.7648605108261108, 0.6229013800621033, 0.16065800189971924, 0.5590819120407104, 0.6319419145584106, 0.3136298656463623, 0.8126767873764038, 0.7387916445732117, 0.6237230896949768, 0.8402369618415833], \"z\": [0.5337434411048889, 0.5058000087738037, 0.39352184534072876, 0.012706756591796875, 0.27082401514053345, 0.9386654496192932, 1.0000001192092896, 0.8966190218925476, 0.48577290773391724, 0.3409968614578247, 0.43908244371414185, 0.9330040812492371, 0.09382450580596924, 0.29697614908218384, 0.22385120391845703, 0.7001219987869263, 0.6691603064537048, 0.585161030292511, 0.0, 0.6064134836196899, 0.03262436389923096, 0.8705697059631348, 0.08795571327209473, 0.452203631401062, 0.7928686141967773, 0.24322080612182617, 0.08230841159820557, 0.15106618404388428, 0.15370333194732666]}],\n",
       "                        {\"autosize\": false, \"height\": 1000, \"paper_bgcolor\": \"#F5F5F5\", \"template\": {\"data\": {\"bar\": [{\"error_x\": {\"color\": \"#2a3f5f\"}, \"error_y\": {\"color\": \"#2a3f5f\"}, \"marker\": {\"line\": {\"color\": \"#E5ECF6\", \"width\": 0.5}}, \"type\": \"bar\"}], \"barpolar\": [{\"marker\": {\"line\": {\"color\": \"#E5ECF6\", \"width\": 0.5}}, \"type\": \"barpolar\"}], \"carpet\": [{\"aaxis\": {\"endlinecolor\": \"#2a3f5f\", \"gridcolor\": \"white\", \"linecolor\": \"white\", \"minorgridcolor\": \"white\", \"startlinecolor\": \"#2a3f5f\"}, \"baxis\": {\"endlinecolor\": \"#2a3f5f\", \"gridcolor\": \"white\", \"linecolor\": \"white\", \"minorgridcolor\": \"white\", \"startlinecolor\": \"#2a3f5f\"}, \"type\": \"carpet\"}], \"choropleth\": [{\"colorbar\": {\"outlinewidth\": 0, \"ticks\": \"\"}, \"type\": \"choropleth\"}], \"contour\": [{\"colorbar\": {\"outlinewidth\": 0, \"ticks\": \"\"}, \"colorscale\": [[0.0, \"#0d0887\"], [0.1111111111111111, \"#46039f\"], [0.2222222222222222, \"#7201a8\"], [0.3333333333333333, \"#9c179e\"], [0.4444444444444444, \"#bd3786\"], [0.5555555555555556, \"#d8576b\"], [0.6666666666666666, \"#ed7953\"], [0.7777777777777778, \"#fb9f3a\"], [0.8888888888888888, \"#fdca26\"], [1.0, \"#f0f921\"]], \"type\": \"contour\"}], \"contourcarpet\": [{\"colorbar\": {\"outlinewidth\": 0, \"ticks\": \"\"}, \"type\": \"contourcarpet\"}], \"heatmap\": [{\"colorbar\": {\"outlinewidth\": 0, \"ticks\": \"\"}, \"colorscale\": [[0.0, \"#0d0887\"], [0.1111111111111111, \"#46039f\"], [0.2222222222222222, \"#7201a8\"], [0.3333333333333333, \"#9c179e\"], [0.4444444444444444, \"#bd3786\"], [0.5555555555555556, \"#d8576b\"], [0.6666666666666666, \"#ed7953\"], [0.7777777777777778, \"#fb9f3a\"], [0.8888888888888888, \"#fdca26\"], [1.0, \"#f0f921\"]], \"type\": \"heatmap\"}], \"heatmapgl\": [{\"colorbar\": {\"outlinewidth\": 0, \"ticks\": \"\"}, \"colorscale\": [[0.0, \"#0d0887\"], [0.1111111111111111, \"#46039f\"], [0.2222222222222222, \"#7201a8\"], [0.3333333333333333, \"#9c179e\"], [0.4444444444444444, \"#bd3786\"], [0.5555555555555556, \"#d8576b\"], [0.6666666666666666, \"#ed7953\"], [0.7777777777777778, \"#fb9f3a\"], [0.8888888888888888, \"#fdca26\"], [1.0, \"#f0f921\"]], \"type\": \"heatmapgl\"}], \"histogram\": [{\"marker\": {\"colorbar\": {\"outlinewidth\": 0, \"ticks\": \"\"}}, \"type\": \"histogram\"}], \"histogram2d\": [{\"colorbar\": {\"outlinewidth\": 0, \"ticks\": \"\"}, \"colorscale\": [[0.0, \"#0d0887\"], [0.1111111111111111, \"#46039f\"], [0.2222222222222222, \"#7201a8\"], [0.3333333333333333, \"#9c179e\"], [0.4444444444444444, \"#bd3786\"], [0.5555555555555556, \"#d8576b\"], [0.6666666666666666, \"#ed7953\"], [0.7777777777777778, \"#fb9f3a\"], [0.8888888888888888, \"#fdca26\"], [1.0, \"#f0f921\"]], \"type\": \"histogram2d\"}], \"histogram2dcontour\": [{\"colorbar\": {\"outlinewidth\": 0, \"ticks\": \"\"}, \"colorscale\": [[0.0, \"#0d0887\"], [0.1111111111111111, \"#46039f\"], [0.2222222222222222, \"#7201a8\"], [0.3333333333333333, \"#9c179e\"], [0.4444444444444444, \"#bd3786\"], [0.5555555555555556, \"#d8576b\"], [0.6666666666666666, \"#ed7953\"], [0.7777777777777778, \"#fb9f3a\"], [0.8888888888888888, \"#fdca26\"], [1.0, \"#f0f921\"]], \"type\": \"histogram2dcontour\"}], \"mesh3d\": [{\"colorbar\": {\"outlinewidth\": 0, \"ticks\": \"\"}, \"type\": \"mesh3d\"}], \"parcoords\": [{\"line\": {\"colorbar\": {\"outlinewidth\": 0, \"ticks\": \"\"}}, \"type\": \"parcoords\"}], \"scatter\": [{\"marker\": {\"colorbar\": {\"outlinewidth\": 0, \"ticks\": \"\"}}, \"type\": \"scatter\"}], \"scatter3d\": [{\"line\": {\"colorbar\": {\"outlinewidth\": 0, \"ticks\": \"\"}}, \"marker\": {\"colorbar\": {\"outlinewidth\": 0, \"ticks\": \"\"}}, \"type\": \"scatter3d\"}], \"scattercarpet\": [{\"marker\": {\"colorbar\": {\"outlinewidth\": 0, \"ticks\": \"\"}}, \"type\": \"scattercarpet\"}], \"scattergeo\": [{\"marker\": {\"colorbar\": {\"outlinewidth\": 0, \"ticks\": \"\"}}, \"type\": \"scattergeo\"}], \"scattergl\": [{\"marker\": {\"colorbar\": {\"outlinewidth\": 0, \"ticks\": \"\"}}, \"type\": \"scattergl\"}], \"scattermapbox\": [{\"marker\": {\"colorbar\": {\"outlinewidth\": 0, \"ticks\": \"\"}}, \"type\": \"scattermapbox\"}], \"scatterpolar\": [{\"marker\": {\"colorbar\": {\"outlinewidth\": 0, \"ticks\": \"\"}}, \"type\": \"scatterpolar\"}], \"scatterpolargl\": [{\"marker\": {\"colorbar\": {\"outlinewidth\": 0, \"ticks\": \"\"}}, \"type\": \"scatterpolargl\"}], \"scatterternary\": [{\"marker\": {\"colorbar\": {\"outlinewidth\": 0, \"ticks\": \"\"}}, \"type\": \"scatterternary\"}], \"surface\": [{\"colorbar\": {\"outlinewidth\": 0, \"ticks\": \"\"}, \"colorscale\": [[0.0, \"#0d0887\"], [0.1111111111111111, \"#46039f\"], [0.2222222222222222, \"#7201a8\"], [0.3333333333333333, \"#9c179e\"], [0.4444444444444444, \"#bd3786\"], [0.5555555555555556, \"#d8576b\"], [0.6666666666666666, \"#ed7953\"], [0.7777777777777778, \"#fb9f3a\"], [0.8888888888888888, \"#fdca26\"], [1.0, \"#f0f921\"]], \"type\": \"surface\"}], \"table\": [{\"cells\": {\"fill\": {\"color\": \"#EBF0F8\"}, \"line\": {\"color\": \"white\"}}, \"header\": {\"fill\": {\"color\": \"#C8D4E3\"}, \"line\": {\"color\": \"white\"}}, \"type\": \"table\"}]}, \"layout\": {\"annotationdefaults\": {\"arrowcolor\": \"#2a3f5f\", \"arrowhead\": 0, \"arrowwidth\": 1}, \"colorscale\": {\"diverging\": [[0, \"#8e0152\"], [0.1, \"#c51b7d\"], [0.2, \"#de77ae\"], [0.3, \"#f1b6da\"], [0.4, \"#fde0ef\"], [0.5, \"#f7f7f7\"], [0.6, \"#e6f5d0\"], [0.7, \"#b8e186\"], [0.8, \"#7fbc41\"], [0.9, \"#4d9221\"], [1, \"#276419\"]], \"sequential\": [[0.0, \"#0d0887\"], [0.1111111111111111, \"#46039f\"], [0.2222222222222222, \"#7201a8\"], [0.3333333333333333, \"#9c179e\"], [0.4444444444444444, \"#bd3786\"], [0.5555555555555556, \"#d8576b\"], [0.6666666666666666, \"#ed7953\"], [0.7777777777777778, \"#fb9f3a\"], [0.8888888888888888, \"#fdca26\"], [1.0, \"#f0f921\"]], \"sequentialminus\": [[0.0, \"#0d0887\"], [0.1111111111111111, \"#46039f\"], [0.2222222222222222, \"#7201a8\"], [0.3333333333333333, \"#9c179e\"], [0.4444444444444444, \"#bd3786\"], [0.5555555555555556, \"#d8576b\"], [0.6666666666666666, \"#ed7953\"], [0.7777777777777778, \"#fb9f3a\"], [0.8888888888888888, \"#fdca26\"], [1.0, \"#f0f921\"]]}, \"colorway\": [\"#636efa\", \"#EF553B\", \"#00cc96\", \"#ab63fa\", \"#FFA15A\", \"#19d3f3\", \"#FF6692\", \"#B6E880\", \"#FF97FF\", \"#FECB52\"], \"font\": {\"color\": \"#2a3f5f\"}, \"geo\": {\"bgcolor\": \"white\", \"lakecolor\": \"white\", \"landcolor\": \"#E5ECF6\", \"showlakes\": true, \"showland\": true, \"subunitcolor\": \"white\"}, \"hoverlabel\": {\"align\": \"left\"}, \"hovermode\": \"closest\", \"mapbox\": {\"style\": \"light\"}, \"paper_bgcolor\": \"white\", \"plot_bgcolor\": \"#E5ECF6\", \"polar\": {\"angularaxis\": {\"gridcolor\": \"white\", \"linecolor\": \"white\", \"ticks\": \"\"}, \"bgcolor\": \"#E5ECF6\", \"radialaxis\": {\"gridcolor\": \"white\", \"linecolor\": \"white\", \"ticks\": \"\"}}, \"scene\": {\"xaxis\": {\"backgroundcolor\": \"#E5ECF6\", \"gridcolor\": \"white\", \"gridwidth\": 2, \"linecolor\": \"white\", \"showbackground\": true, \"ticks\": \"\", \"zerolinecolor\": \"white\"}, \"yaxis\": {\"backgroundcolor\": \"#E5ECF6\", \"gridcolor\": \"white\", \"gridwidth\": 2, \"linecolor\": \"white\", \"showbackground\": true, \"ticks\": \"\", \"zerolinecolor\": \"white\"}, \"zaxis\": {\"backgroundcolor\": \"#E5ECF6\", \"gridcolor\": \"white\", \"gridwidth\": 2, \"linecolor\": \"white\", \"showbackground\": true, \"ticks\": \"\", \"zerolinecolor\": \"white\"}}, \"shapedefaults\": {\"line\": {\"color\": \"#2a3f5f\"}}, \"ternary\": {\"aaxis\": {\"gridcolor\": \"white\", \"linecolor\": \"white\", \"ticks\": \"\"}, \"baxis\": {\"gridcolor\": \"white\", \"linecolor\": \"white\", \"ticks\": \"\"}, \"bgcolor\": \"#E5ECF6\", \"caxis\": {\"gridcolor\": \"white\", \"linecolor\": \"white\", \"ticks\": \"\"}}, \"title\": {\"x\": 0.05}, \"xaxis\": {\"automargin\": true, \"gridcolor\": \"white\", \"linecolor\": \"white\", \"ticks\": \"\", \"zerolinecolor\": \"white\", \"zerolinewidth\": 2}, \"yaxis\": {\"automargin\": true, \"gridcolor\": \"white\", \"linecolor\": \"white\", \"ticks\": \"\", \"zerolinecolor\": \"white\", \"zerolinewidth\": 2}}}, \"title\": {\"text\": \"3D LRP Embedding\"}, \"width\": 1200},\n",
       "                        {\"responsive\": true}\n",
       "                    ).then(function(){\n",
       "                            \n",
       "var gd = document.getElementById('f561f2ce-d3ee-425e-b4ee-2a54641f5467');\n",
       "var x = new MutationObserver(function (mutations, observer) {{\n",
       "        var display = window.getComputedStyle(gd).display;\n",
       "        if (!display || display === 'none') {{\n",
       "            console.log([gd, 'removed!']);\n",
       "            Plotly.purge(gd);\n",
       "            observer.disconnect();\n",
       "        }}\n",
       "}});\n",
       "\n",
       "// Listen for the removal of the full notebook cells\n",
       "var notebookContainer = gd.closest('#notebook-container');\n",
       "if (notebookContainer) {{\n",
       "    x.observe(notebookContainer, {childList: true});\n",
       "}}\n",
       "\n",
       "// Listen for the clearing of the current output cell\n",
       "var outputEl = gd.closest('.output');\n",
       "if (outputEl) {{\n",
       "    x.observe(outputEl, {childList: true});\n",
       "}}\n",
       "\n",
       "                        })\n",
       "                };\n",
       "                });\n",
       "            </script>\n",
       "        </div>"
      ]
     },
     "metadata": {},
     "output_type": "display_data"
    }
   ],
   "source": [
    "plot_3d_lrp(pipeline.training_lrp, colors=pipeline.clusterer.labels_, labels=correct_HR[\"ASD_DX_group\"])"
   ]
  },
  {
   "cell_type": "code",
   "execution_count": 106,
   "metadata": {},
   "outputs": [
    {
     "name": "stderr",
     "output_type": "stream",
     "text": [
      "/Users/Work/anaconda3/envs/condatensor/lib/python3.6/site-packages/ipykernel_launcher.py:1: SettingWithCopyWarning:\n",
      "\n",
      "\n",
      "A value is trying to be set on a copy of a slice from a DataFrame.\n",
      "Try using .loc[row_indexer,col_indexer] = value instead\n",
      "\n",
      "See the caveats in the documentation: http://pandas.pydata.org/pandas-docs/stable/indexing.html#indexing-view-versus-copy\n",
      "\n"
     ]
    },
    {
     "data": {
      "text/plain": [
       "Index(['ASD_DX_group', 'Risk', 'DNN Clusters'], dtype='object')"
      ]
     },
     "execution_count": 106,
     "metadata": {},
     "output_type": "execute_result"
    }
   ],
   "source": [
    "correct_HR[\"DNN Clusters\"] = pipeline.clusterer.labels_\n",
    "correct_HR.columns"
   ]
  },
  {
   "cell_type": "code",
   "execution_count": 107,
   "metadata": {},
   "outputs": [
    {
     "name": "stdout",
     "output_type": "stream",
     "text": [
      "Cluster 0\n",
      "Int64Index([983222, 174982, 490878, 963368, 930203, 638999, 443584], dtype='int64', name='CandID')\n",
      "Cluster 1\n",
      "Int64Index([792210, 550654, 155712, 336576, 516442, 553295, 569748, 812857,\n",
      "            973338, 121007, 549587, 783552, 809318, 456823, 447346, 677040,\n",
      "            919979, 321541, 402809, 751794],\n",
      "           dtype='int64', name='CandID')\n"
     ]
    }
   ],
   "source": [
    "for cluster,samples in correct_HR.groupby(by=[\"DNN Clusters\"]):\n",
    "    print(\"Cluster\", cluster)\n",
    "    print(samples.index)\n",
    "\n",
    "# for cluster in range(0, max(pipeline.clusterer.labels_)):\n",
    "#     print(i)\n",
    "\n",
    "# pipeline.training_lrp[]"
   ]
  },
  {
   "cell_type": "code",
   "execution_count": 108,
   "metadata": {},
   "outputs": [],
   "source": [
    "orig_labels = analysis_labels.loc[reindexed_labels.index]\n",
    "orig_labels[\"DNN Pred\"] = pipeline.predictions\n",
    "orig_HR = orig_labels[orig_labels[\"Risk\"]==\"HR\"]"
   ]
  },
  {
   "cell_type": "code",
   "execution_count": 109,
   "metadata": {},
   "outputs": [
    {
     "data": {
      "text/html": [
       "<div>\n",
       "<style scoped>\n",
       "    .dataframe tbody tr th:only-of-type {\n",
       "        vertical-align: middle;\n",
       "    }\n",
       "\n",
       "    .dataframe tbody tr th {\n",
       "        vertical-align: top;\n",
       "    }\n",
       "\n",
       "    .dataframe thead th {\n",
       "        text-align: right;\n",
       "    }\n",
       "</style>\n",
       "<table border=\"1\" class=\"dataframe\">\n",
       "  <thead>\n",
       "    <tr style=\"text-align: right;\">\n",
       "      <th></th>\n",
       "      <th>ASD_DX_group</th>\n",
       "      <th>Risk</th>\n",
       "      <th>DNN Pred</th>\n",
       "    </tr>\n",
       "    <tr>\n",
       "      <th>CandID</th>\n",
       "      <th></th>\n",
       "      <th></th>\n",
       "      <th></th>\n",
       "    </tr>\n",
       "  </thead>\n",
       "  <tbody>\n",
       "    <tr>\n",
       "      <th>107524</th>\n",
       "      <td>ASD</td>\n",
       "      <td>HR</td>\n",
       "      <td>1.0</td>\n",
       "    </tr>\n",
       "    <tr>\n",
       "      <th>172993</th>\n",
       "      <td>ASD</td>\n",
       "      <td>HR</td>\n",
       "      <td>1.0</td>\n",
       "    </tr>\n",
       "    <tr>\n",
       "      <th>364612</th>\n",
       "      <td>ASD</td>\n",
       "      <td>HR</td>\n",
       "      <td>1.0</td>\n",
       "    </tr>\n",
       "    <tr>\n",
       "      <th>792210</th>\n",
       "      <td>ATYPICAL_ADOS</td>\n",
       "      <td>HR</td>\n",
       "      <td>0.0</td>\n",
       "    </tr>\n",
       "    <tr>\n",
       "      <th>916595</th>\n",
       "      <td>ASD</td>\n",
       "      <td>HR</td>\n",
       "      <td>1.0</td>\n",
       "    </tr>\n",
       "  </tbody>\n",
       "</table>\n",
       "</div>"
      ],
      "text/plain": [
       "         ASD_DX_group Risk  DNN Pred\n",
       "CandID                              \n",
       "107524            ASD   HR       1.0\n",
       "172993            ASD   HR       1.0\n",
       "364612            ASD   HR       1.0\n",
       "792210  ATYPICAL_ADOS   HR       0.0\n",
       "916595            ASD   HR       1.0"
      ]
     },
     "execution_count": 109,
     "metadata": {},
     "output_type": "execute_result"
    }
   ],
   "source": [
    "orig_HR.head()"
   ]
  },
  {
   "cell_type": "code",
   "execution_count": 110,
   "metadata": {},
   "outputs": [
    {
     "data": {
      "text/html": [
       "<div>\n",
       "<style scoped>\n",
       "    .dataframe tbody tr th:only-of-type {\n",
       "        vertical-align: middle;\n",
       "    }\n",
       "\n",
       "    .dataframe tbody tr th {\n",
       "        vertical-align: top;\n",
       "    }\n",
       "\n",
       "    .dataframe thead th {\n",
       "        text-align: right;\n",
       "    }\n",
       "</style>\n",
       "<table border=\"1\" class=\"dataframe\">\n",
       "  <thead>\n",
       "    <tr style=\"text-align: right;\">\n",
       "      <th></th>\n",
       "      <th>Correct</th>\n",
       "      <th>Incorrect</th>\n",
       "    </tr>\n",
       "  </thead>\n",
       "  <tbody>\n",
       "    <tr>\n",
       "      <th>ASD</th>\n",
       "      <td>18</td>\n",
       "      <td>21</td>\n",
       "    </tr>\n",
       "    <tr>\n",
       "      <th>ATYPICAL_ADOS</th>\n",
       "      <td>5</td>\n",
       "      <td>12</td>\n",
       "    </tr>\n",
       "    <tr>\n",
       "      <th>ATYPICAL_MULLEN</th>\n",
       "      <td>4</td>\n",
       "      <td>5</td>\n",
       "    </tr>\n",
       "  </tbody>\n",
       "</table>\n",
       "</div>"
      ],
      "text/plain": [
       "                 Correct  Incorrect\n",
       "ASD                   18         21\n",
       "ATYPICAL_ADOS          5         12\n",
       "ATYPICAL_MULLEN        4          5"
      ]
     },
     "execution_count": 110,
     "metadata": {},
     "output_type": "execute_result"
    }
   ],
   "source": [
    "_counts=[]\n",
    "names=[]\n",
    "for name, subgroup in orig_HR.groupby(by=\"ASD_DX_group\"):\n",
    "    names.append(name)\n",
    "    _cnt = subgroup[\"DNN Pred\"].value_counts()\n",
    "    _counts.append([_cnt[0.0], _cnt[1.0]])\n",
    "#     print(name, subgroup[\"DNN Pred\"].value_counts(), sep=\"\\n\")\n",
    "\n",
    "dnn_predictions = pd.DataFrame(_counts, columns=[\"Correct\",\"Incorrect\"], index=names)\n",
    "dnn_predictions"
   ]
  },
  {
   "cell_type": "code",
   "execution_count": 111,
   "metadata": {},
   "outputs": [],
   "source": [
    "norm_pred = dnn_predictions.div(dnn_predictions.sum(axis=1), axis=\"index\")"
   ]
  },
  {
   "cell_type": "code",
   "execution_count": 112,
   "metadata": {},
   "outputs": [
    {
     "data": {
      "text/plain": [
       "<matplotlib.axes._subplots.AxesSubplot at 0x1a35f315f8>"
      ]
     },
     "execution_count": 112,
     "metadata": {},
     "output_type": "execute_result"
    },
    {
     "data": {
      "image/png": "[encoded data removed]",
      "text/plain": [
       "<Figure size 1152x576 with 1 Axes>"
      ]
     },
     "metadata": {
      "needs_background": "light"
     },
     "output_type": "display_data"
    }
   ],
   "source": [
    "dnn_predictions.T.plot(kind=\"bar\", figsize=(16,8), grid=True, title=\"Predictions\")"
   ]
  },
  {
   "cell_type": "markdown",
   "metadata": {},
   "source": [
    "# Performing Feature Reduction"
   ]
  },
  {
   "cell_type": "markdown",
   "metadata": {},
   "source": [
    "## Getting correctly predictied samples form target class"
   ]
  },
  {
   "cell_type": "code",
   "execution_count": 114,
   "metadata": {},
   "outputs": [
    {
     "data": {
      "text/html": [
       "<div>\n",
       "<style scoped>\n",
       "    .dataframe tbody tr th:only-of-type {\n",
       "        vertical-align: middle;\n",
       "    }\n",
       "\n",
       "    .dataframe tbody tr th {\n",
       "        vertical-align: top;\n",
       "    }\n",
       "\n",
       "    .dataframe thead th {\n",
       "        text-align: right;\n",
       "    }\n",
       "</style>\n",
       "<table border=\"1\" class=\"dataframe\">\n",
       "  <thead>\n",
       "    <tr style=\"text-align: right;\">\n",
       "      <th></th>\n",
       "      <th>ROI01</th>\n",
       "      <th>ROI02</th>\n",
       "      <th>ROI03</th>\n",
       "      <th>ROI04</th>\n",
       "      <th>ROI05</th>\n",
       "      <th>ROI06</th>\n",
       "      <th>ROI07</th>\n",
       "      <th>ROI08</th>\n",
       "      <th>ROI09</th>\n",
       "      <th>ROI10</th>\n",
       "      <th>...</th>\n",
       "      <th>ROI324</th>\n",
       "      <th>ROI325</th>\n",
       "      <th>ROI326</th>\n",
       "      <th>ROI327</th>\n",
       "      <th>ROI328</th>\n",
       "      <th>ROI329</th>\n",
       "      <th>ROI330</th>\n",
       "      <th>ROI331</th>\n",
       "      <th>ROI332</th>\n",
       "      <th>ROI333</th>\n",
       "    </tr>\n",
       "    <tr>\n",
       "      <th>CandID</th>\n",
       "      <th></th>\n",
       "      <th></th>\n",
       "      <th></th>\n",
       "      <th></th>\n",
       "      <th></th>\n",
       "      <th></th>\n",
       "      <th></th>\n",
       "      <th></th>\n",
       "      <th></th>\n",
       "      <th></th>\n",
       "      <th></th>\n",
       "      <th></th>\n",
       "      <th></th>\n",
       "      <th></th>\n",
       "      <th></th>\n",
       "      <th></th>\n",
       "      <th></th>\n",
       "      <th></th>\n",
       "      <th></th>\n",
       "      <th></th>\n",
       "      <th></th>\n",
       "    </tr>\n",
       "  </thead>\n",
       "  <tbody>\n",
       "    <tr>\n",
       "      <th>792210</th>\n",
       "      <td>544.747375</td>\n",
       "      <td>282.156830</td>\n",
       "      <td>123.827805</td>\n",
       "      <td>114.922913</td>\n",
       "      <td>484.121674</td>\n",
       "      <td>582.419495</td>\n",
       "      <td>36.052818</td>\n",
       "      <td>157.572250</td>\n",
       "      <td>40.588688</td>\n",
       "      <td>47.223228</td>\n",
       "      <td>...</td>\n",
       "      <td>24.159775</td>\n",
       "      <td>112.068031</td>\n",
       "      <td>20.559933</td>\n",
       "      <td>214.147858</td>\n",
       "      <td>32.863773</td>\n",
       "      <td>1.123717</td>\n",
       "      <td>182.320999</td>\n",
       "      <td>30.593807</td>\n",
       "      <td>33.158493</td>\n",
       "      <td>13.562756</td>\n",
       "    </tr>\n",
       "    <tr>\n",
       "      <th>983222</th>\n",
       "      <td>933.468018</td>\n",
       "      <td>271.414246</td>\n",
       "      <td>148.111389</td>\n",
       "      <td>231.123978</td>\n",
       "      <td>479.046448</td>\n",
       "      <td>742.643127</td>\n",
       "      <td>48.516346</td>\n",
       "      <td>193.973755</td>\n",
       "      <td>76.143867</td>\n",
       "      <td>45.378262</td>\n",
       "      <td>...</td>\n",
       "      <td>102.482948</td>\n",
       "      <td>145.021393</td>\n",
       "      <td>27.981968</td>\n",
       "      <td>322.337891</td>\n",
       "      <td>185.100433</td>\n",
       "      <td>0.629175</td>\n",
       "      <td>214.278763</td>\n",
       "      <td>34.624138</td>\n",
       "      <td>52.946640</td>\n",
       "      <td>12.853605</td>\n",
       "    </tr>\n",
       "    <tr>\n",
       "      <th>550654</th>\n",
       "      <td>582.426941</td>\n",
       "      <td>282.628998</td>\n",
       "      <td>143.263550</td>\n",
       "      <td>168.284164</td>\n",
       "      <td>543.989014</td>\n",
       "      <td>741.479309</td>\n",
       "      <td>58.402592</td>\n",
       "      <td>178.831131</td>\n",
       "      <td>49.908901</td>\n",
       "      <td>73.196205</td>\n",
       "      <td>...</td>\n",
       "      <td>48.900711</td>\n",
       "      <td>115.665932</td>\n",
       "      <td>17.808430</td>\n",
       "      <td>172.590988</td>\n",
       "      <td>34.885277</td>\n",
       "      <td>1.625393</td>\n",
       "      <td>238.876267</td>\n",
       "      <td>42.057350</td>\n",
       "      <td>60.726261</td>\n",
       "      <td>18.062176</td>\n",
       "    </tr>\n",
       "    <tr>\n",
       "      <th>155712</th>\n",
       "      <td>795.377502</td>\n",
       "      <td>240.952698</td>\n",
       "      <td>196.493393</td>\n",
       "      <td>213.986206</td>\n",
       "      <td>314.419800</td>\n",
       "      <td>643.238892</td>\n",
       "      <td>52.760525</td>\n",
       "      <td>264.902863</td>\n",
       "      <td>28.139593</td>\n",
       "      <td>62.430672</td>\n",
       "      <td>...</td>\n",
       "      <td>60.877457</td>\n",
       "      <td>129.604446</td>\n",
       "      <td>29.433756</td>\n",
       "      <td>386.182373</td>\n",
       "      <td>91.552742</td>\n",
       "      <td>1.184271</td>\n",
       "      <td>243.952545</td>\n",
       "      <td>52.167412</td>\n",
       "      <td>52.148006</td>\n",
       "      <td>10.509195</td>\n",
       "    </tr>\n",
       "    <tr>\n",
       "      <th>174982</th>\n",
       "      <td>758.816345</td>\n",
       "      <td>442.528809</td>\n",
       "      <td>108.128662</td>\n",
       "      <td>151.116302</td>\n",
       "      <td>274.373566</td>\n",
       "      <td>619.112549</td>\n",
       "      <td>51.928787</td>\n",
       "      <td>238.683517</td>\n",
       "      <td>74.471985</td>\n",
       "      <td>67.038094</td>\n",
       "      <td>...</td>\n",
       "      <td>48.867573</td>\n",
       "      <td>141.627060</td>\n",
       "      <td>38.049244</td>\n",
       "      <td>346.767426</td>\n",
       "      <td>78.453850</td>\n",
       "      <td>1.226628</td>\n",
       "      <td>233.008820</td>\n",
       "      <td>18.408936</td>\n",
       "      <td>34.896164</td>\n",
       "      <td>19.120090</td>\n",
       "    </tr>\n",
       "  </tbody>\n",
       "</table>\n",
       "<p>5 rows × 333 columns</p>\n",
       "</div>"
      ],
      "text/plain": [
       "             ROI01       ROI02       ROI03       ROI04       ROI05  \\\n",
       "CandID                                                               \n",
       "792210  544.747375  282.156830  123.827805  114.922913  484.121674   \n",
       "983222  933.468018  271.414246  148.111389  231.123978  479.046448   \n",
       "550654  582.426941  282.628998  143.263550  168.284164  543.989014   \n",
       "155712  795.377502  240.952698  196.493393  213.986206  314.419800   \n",
       "174982  758.816345  442.528809  108.128662  151.116302  274.373566   \n",
       "\n",
       "             ROI06      ROI07       ROI08      ROI09      ROI10  ...  \\\n",
       "CandID                                                           ...   \n",
       "792210  582.419495  36.052818  157.572250  40.588688  47.223228  ...   \n",
       "983222  742.643127  48.516346  193.973755  76.143867  45.378262  ...   \n",
       "550654  741.479309  58.402592  178.831131  49.908901  73.196205  ...   \n",
       "155712  643.238892  52.760525  264.902863  28.139593  62.430672  ...   \n",
       "174982  619.112549  51.928787  238.683517  74.471985  67.038094  ...   \n",
       "\n",
       "            ROI324      ROI325     ROI326      ROI327      ROI328    ROI329  \\\n",
       "CandID                                                                        \n",
       "792210   24.159775  112.068031  20.559933  214.147858   32.863773  1.123717   \n",
       "983222  102.482948  145.021393  27.981968  322.337891  185.100433  0.629175   \n",
       "550654   48.900711  115.665932  17.808430  172.590988   34.885277  1.625393   \n",
       "155712   60.877457  129.604446  29.433756  386.182373   91.552742  1.184271   \n",
       "174982   48.867573  141.627060  38.049244  346.767426   78.453850  1.226628   \n",
       "\n",
       "            ROI330     ROI331     ROI332     ROI333  \n",
       "CandID                                               \n",
       "792210  182.320999  30.593807  33.158493  13.562756  \n",
       "983222  214.278763  34.624138  52.946640  12.853605  \n",
       "550654  238.876267  42.057350  60.726261  18.062176  \n",
       "155712  243.952545  52.167412  52.148006  10.509195  \n",
       "174982  233.008820  18.408936  34.896164  19.120090  \n",
       "\n",
       "[5 rows x 333 columns]"
      ]
     },
     "execution_count": 114,
     "metadata": {},
     "output_type": "execute_result"
    }
   ],
   "source": [
    "subcluster_labels = range(0,max(pipeline.clusterer.labels_)+1)\n",
    "\n",
    "# Get testing samples from cross validation\n",
    "reindexer = pipeline.testing_idxs\n",
    "\n",
    "# That were correctly predicted\n",
    "correct_preds = pipeline.correct_preds_bool_arr\n",
    "\n",
    "# Separating Control from Target\n",
    "target_samples  = train_labels.iloc[reindexer][correct_preds] == pipeline.target_class\n",
    "control_samples = ~target_samples\n",
    "\n",
    "target_class_features = train_data.iloc[reindexer][correct_preds][target_samples]\n",
    "target_class_labels   = train_labels.iloc[reindexer][correct_preds][target_samples]\n",
    "target_class_features.head()"
   ]
  },
  {
   "cell_type": "code",
   "execution_count": 115,
   "metadata": {},
   "outputs": [
    {
     "data": {
      "text/plain": [
       "(27, 333)"
      ]
     },
     "execution_count": 115,
     "metadata": {},
     "output_type": "execute_result"
    }
   ],
   "source": [
    "target_class_features.shape"
   ]
  },
  {
   "cell_type": "code",
   "execution_count": 159,
   "metadata": {},
   "outputs": [
    {
     "name": "stdout",
     "output_type": "stream",
     "text": [
      "Cluster: 0\n",
      "Size: 7\n",
      "Cluster: 1\n",
      "Size: 20\n"
     ]
    },
    {
     "data": {
      "image/png": "[encoded data removed]",
      "text/plain": [
       "<Figure size 1728x576 with 1 Axes>"
      ]
     },
     "metadata": {
      "needs_background": "light"
     },
     "output_type": "display_data"
    },
    {
     "data": {
      "image/png": "[encoded data removed]",
      "text/plain": [
       "<Figure size 1728x576 with 1 Axes>"
      ]
     },
     "metadata": {
      "needs_background": "light"
     },
     "output_type": "display_data"
    }
   ],
   "source": [
    "cluster_rels = {}\n",
    "cluster_metrics = {}\n",
    "\n",
    "for cluster_label in subcluster_labels:\n",
    "    \n",
    "    print(\"Cluster:\", cluster_label)\n",
    "    tsamples = target_class_features[(pipeline.clusterer.labels_ == cluster_label)]\n",
    "    tlabels  = target_class_labels[(pipeline.clusterer.labels_ == cluster_label)]\n",
    "    print(\"Size:\", tlabels.shape[0])\n",
    "    \n",
    "    _clustered = pd.DataFrame(pipeline.training_lrp[(pipeline.clusterer.labels_ == cluster_label)],\n",
    "                              columns = train_data.columns)\n",
    "#   \n",
    "    _metrics = _clustered.describe().loc[[\"mean\",\"75%\",\"max\"]]\n",
    "    srtd_metrics = _metrics.sort_values(by=[\"mean\", \"75%\", \"max\"], axis=1)\n",
    "    srtd_metrics.plot(kind=\"bar\", figsize=(24,8), legend=False, grid=True)\n",
    "    \n",
    "    cluster_metrics[cluster_label] = _metrics.T\n",
    "    cluster_rels[cluster_label] = _clustered"
   ]
  },
  {
   "cell_type": "markdown",
   "metadata": {},
   "source": [
    "## Individual metric histograms for each cluster"
   ]
  },
  {
   "cell_type": "code",
   "execution_count": 160,
   "metadata": {},
   "outputs": [
    {
     "data": {
      "text/plain": [
       "7.125993152312914e-05"
      ]
     },
     "execution_count": 160,
     "metadata": {},
     "output_type": "execute_result"
    }
   ],
   "source": [
    "cluster_metrics[0][\"mean\"].std()"
   ]
  },
  {
   "cell_type": "code",
   "execution_count": 161,
   "metadata": {},
   "outputs": [
    {
     "data": {
      "text/plain": [
       "Text(0.5, 0, 'Relevances')"
      ]
     },
     "execution_count": 161,
     "metadata": {},
     "output_type": "execute_result"
    },
    {
     "data": {
      "image/png": "[encoded data removed]",
      "text/plain": [
       "<Figure size 1440x576 with 1 Axes>"
      ]
     },
     "metadata": {
      "needs_background": "light"
     },
     "output_type": "display_data"
    }
   ],
   "source": [
    "# Looks like (exponential) pareto...\n",
    "\n",
    "ax = cluster_metrics[0][\"mean\"].plot(kind=\"hist\", figsize=(20,8), bins=15, grid=True, title=\"Distribution of Means\") \n",
    "ax.set_xlabel(\"Relevances\")"
   ]
  },
  {
   "cell_type": "code",
   "execution_count": 151,
   "metadata": {},
   "outputs": [
    {
     "data": {
      "text/plain": [
       "Text(0.5, 0, 'Relevances')"
      ]
     },
     "execution_count": 151,
     "metadata": {},
     "output_type": "execute_result"
    },
    {
     "data": {
      "image/png": "[encoded data removed]",
      "text/plain": [
       "<Figure size 1440x576 with 1 Axes>"
      ]
     },
     "metadata": {
      "needs_background": "light"
     },
     "output_type": "display_data"
    }
   ],
   "source": [
    "ax = cluster_metrics[1][\"mean\"].plot(kind=\"hist\", figsize=(20,8), bins=15, grid=True, title=\"Distribution of Means\") \n",
    "ax.set_xlabel(\"Relevances\")"
   ]
  },
  {
   "cell_type": "code",
   "execution_count": 170,
   "metadata": {},
   "outputs": [],
   "source": [
    "def get_relevant_cols(df, thresh = 1e-2):\n",
    "\n",
    "    all_above_thresh = (df < thresh).all(0) #Check if all values in columns satisfy the criteria\n",
    "    max_above_thresh = (df.max() < thresh)\n",
    "    quantile_above_thresh = (df.quantile(0.7) <= thresh)\n",
    "\n",
    "    criteria = max_above_thresh\n",
    "    irrelevant_cols = df.columns[criteria] \n",
    "    irrelevant_cols\n",
    "    \n",
    "    relevant_features_only = df.drop(columns = irrelevant_cols)\n",
    "    \n",
    "    return relevant_features_only"
   ]
  },
  {
   "cell_type": "code",
   "execution_count": 182,
   "metadata": {},
   "outputs": [
    {
     "name": "stdout",
     "output_type": "stream",
     "text": [
      "Thresh: 0.0003168120023466077\n",
      "Index(['ROI14', 'ROI15', 'ROI38', 'ROI44', 'ROI45', 'ROI48', 'ROI49', 'ROI50',\n",
      "       'ROI56', 'ROI63', 'ROI79', 'ROI80', 'ROI87', 'ROI90', 'ROI93', 'ROI120',\n",
      "       'ROI127', 'ROI131', 'ROI139', 'ROI150', 'ROI154', 'ROI166', 'ROI171',\n",
      "       'ROI175', 'ROI178', 'ROI185', 'ROI196', 'ROI197', 'ROI198', 'ROI200',\n",
      "       'ROI202', 'ROI208', 'ROI224', 'ROI230', 'ROI233', 'ROI239', 'ROI251',\n",
      "       'ROI252', 'ROI262', 'ROI268', 'ROI270', 'ROI271', 'ROI273', 'ROI274',\n",
      "       'ROI277', 'ROI280', 'ROI281', 'ROI283', 'ROI284', 'ROI285', 'ROI288',\n",
      "       'ROI306', 'ROI332', 'ROI333'],\n",
      "      dtype='object') 54\n",
      "Thresh: 0.0006104652520604642\n",
      "Index(['ROI05', 'ROI06', 'ROI07', 'ROI08', 'ROI11', 'ROI12', 'ROI13', 'ROI14',\n",
      "       'ROI15', 'ROI17',\n",
      "       ...\n",
      "       'ROI319', 'ROI321', 'ROI322', 'ROI325', 'ROI326', 'ROI327', 'ROI328',\n",
      "       'ROI330', 'ROI332', 'ROI333'],\n",
      "      dtype='object', length=166) 166\n"
     ]
    }
   ],
   "source": [
    "for cluster_label in subcluster_labels:\n",
    "\n",
    "    thresh = cluster_metrics[cluster_label][\"mean\"].mean() + 3*cluster_metrics[0][\"mean\"].std()\n",
    "#     thresh = _clustered.quantile(0.8).quantile(0.5)\n",
    "    print(\"Thresh:\", thresh)\n",
    "    reduced_cols = get_relevant_cols(cluster_rels[cluster_label], thresh=thresh).columns\n",
    "    print(reduced_cols, len(reduced_cols))"
   ]
  },
  {
   "cell_type": "code",
   "execution_count": null,
   "metadata": {},
   "outputs": [],
   "source": []
  }
 ],
 "metadata": {
  "kernelspec": {
   "display_name": "Python (condatensor)",
   "language": "python",
   "name": "condatensor"
  },
  "language_info": {
   "codemirror_mode": {
    "name": "ipython",
    "version": 3
   },
   "file_extension": ".py",
   "mimetype": "text/x-python",
   "name": "python",
   "nbconvert_exporter": "python",
   "pygments_lexer": "ipython3",
   "version": "3.6.8"
  }
 },
 "nbformat": 4,
 "nbformat_minor": 4
}
