{
 "cells": [
  {
   "cell_type": "code",
   "execution_count": 156,
   "metadata": {},
   "outputs": [],
   "source": [
    "# # Magic line to force reload all modules when this cell is run multiple times\n",
    "# %load_ext autoreload\n",
    "# %autoreload 2\n",
    "\n",
    "import sys, os\n",
    "sys.path.insert(0, os.path.expanduser(\"~/Developer/interpretDL/Pipeline\"))"
   ]
  },
  {
   "cell_type": "code",
   "execution_count": 157,
   "metadata": {},
   "outputs": [
    {
     "data": {
      "text/html": [
       "        <script type=\"text/javascript\">\n",
       "        window.PlotlyConfig = {MathJaxConfig: 'local'};\n",
       "        if (window.MathJax) {MathJax.Hub.Config({SVG: {font: \"STIX-Web\"}});}\n",
       "        if (typeof require !== 'undefined') {\n",
       "        require.undef(\"plotly\");\n",
       "        requirejs.config({\n",
       "            paths: {\n",
       "                'plotly': ['https://cdn.plot.ly/plotly-latest.min']\n",
       "            }\n",
       "        });\n",
       "        require(['plotly'], function(Plotly) {\n",
       "            window._Plotly = Plotly;\n",
       "        });\n",
       "        }\n",
       "        </script>\n",
       "        "
      ]
     },
     "metadata": {},
     "output_type": "display_data"
    }
   ],
   "source": [
    "import plotly as py\n",
    "import plotly.graph_objs as go\n",
    "from plotly.offline import iplot\n",
    "from plotly.offline import plot\n",
    "import ipywidgets as widgets\n",
    "\n",
    "# %matplotlib widget\n",
    "py.offline.init_notebook_mode(connected=True)"
   ]
  },
  {
   "cell_type": "code",
   "execution_count": 158,
   "metadata": {},
   "outputs": [],
   "source": [
    "import numpy as np\n",
    "import pandas as pd\n",
    "import umap\n",
    "\n",
    "from datetime import datetime\n",
    "from ClusterPipeline import ClusterPipeline\n",
    "from helper import split_valid, plot_confusion_matrix, plot_history, plot_3d_lrp\n",
    "from sklearn.datasets import make_classification\n",
    "from sklearn.metrics import classification_report\n",
    "from sklearn.pipeline import Pipeline\n",
    "from sklearn.preprocessing import MinMaxScaler\n",
    "from sklearn.preprocessing import OrdinalEncoder\n",
    "\n",
    "RANDOM_STATE = 42\n",
    "np.random.seed(seed=RANDOM_STATE) "
   ]
  },
  {
   "cell_type": "code",
   "execution_count": 159,
   "metadata": {},
   "outputs": [],
   "source": [
    "import matplotlib.pyplot as plt\n",
    "\n",
    "def plot_history(history):\n",
    "    plt.close(\"History\")\n",
    "    fig, axs = plt.subplots(1, 2, figsize=(20,10),num=\"History\")\n",
    "\n",
    "    # Plot training & validation accuracy values\n",
    "    axs[0].grid(True)\n",
    "    axs[0].plot(history.history['acc'])\n",
    "    axs[0].plot(history.history['val_acc'])\n",
    "    axs[0].set(title='Model accuracy', ylabel='Accuracy', xlabel='Epoch')\n",
    "    axs[0].legend(['Train', 'Test'], loc='upper left')\n",
    "\n",
    "    # Plot training & validation loss values\n",
    "    axs[1].grid(True)\n",
    "    axs[1].plot(history.history['loss'])\n",
    "    axs[1].plot(history.history['val_loss'])\n",
    "    axs[1].set(title='Model loss',ylabel='Loss', xlabel='Epoch')\n",
    "    axs[1].legend(['Train', 'Test'], loc='upper left')\n",
    "\n",
    "    plt.show()"
   ]
  },
  {
   "cell_type": "code",
   "execution_count": 160,
   "metadata": {},
   "outputs": [
    {
     "data": {
      "text/html": [
       "<div>\n",
       "<style scoped>\n",
       "    .dataframe tbody tr th:only-of-type {\n",
       "        vertical-align: middle;\n",
       "    }\n",
       "\n",
       "    .dataframe tbody tr th {\n",
       "        vertical-align: top;\n",
       "    }\n",
       "\n",
       "    .dataframe thead th {\n",
       "        text-align: right;\n",
       "    }\n",
       "</style>\n",
       "<table border=\"1\" class=\"dataframe\">\n",
       "  <thead>\n",
       "    <tr style=\"text-align: right;\">\n",
       "      <th></th>\n",
       "      <th>ASD_DX_group</th>\n",
       "      <th>Risk</th>\n",
       "      <th>Hippocampus right</th>\n",
       "      <th>Hippocampus left</th>\n",
       "      <th>Amygdala right</th>\n",
       "      <th>Amygdala left</th>\n",
       "      <th>Anterior temporal lobe - medial right</th>\n",
       "      <th>Anterior temporal lobe - medial part left</th>\n",
       "      <th>Anterior temporal lobe - lateral right</th>\n",
       "      <th>Anterior temporal lobe - lateral left</th>\n",
       "      <th>...</th>\n",
       "      <th>Substantial nigra left</th>\n",
       "      <th>Substantial nigra right</th>\n",
       "      <th>Subgenual frontal cortex left</th>\n",
       "      <th>Subgenual frontal cortex right</th>\n",
       "      <th>Subcallosal area left</th>\n",
       "      <th>Subcallosal area right</th>\n",
       "      <th>Pre-subgenual frontal cortex left</th>\n",
       "      <th>Pre-subgenual frontal cortex left right</th>\n",
       "      <th>Superior temporal gyrus - anterior left</th>\n",
       "      <th>Superior temporal gyrus - anterior left right</th>\n",
       "    </tr>\n",
       "    <tr>\n",
       "      <th>CandID</th>\n",
       "      <th></th>\n",
       "      <th></th>\n",
       "      <th></th>\n",
       "      <th></th>\n",
       "      <th></th>\n",
       "      <th></th>\n",
       "      <th></th>\n",
       "      <th></th>\n",
       "      <th></th>\n",
       "      <th></th>\n",
       "      <th></th>\n",
       "      <th></th>\n",
       "      <th></th>\n",
       "      <th></th>\n",
       "      <th></th>\n",
       "      <th></th>\n",
       "      <th></th>\n",
       "      <th></th>\n",
       "      <th></th>\n",
       "      <th></th>\n",
       "      <th></th>\n",
       "    </tr>\n",
       "  </thead>\n",
       "  <tbody>\n",
       "    <tr>\n",
       "      <th>103430</th>\n",
       "      <td>TYPICAL</td>\n",
       "      <td>HR</td>\n",
       "      <td>327</td>\n",
       "      <td>124</td>\n",
       "      <td>138</td>\n",
       "      <td>178</td>\n",
       "      <td>794</td>\n",
       "      <td>691</td>\n",
       "      <td>663</td>\n",
       "      <td>637</td>\n",
       "      <td>...</td>\n",
       "      <td>5</td>\n",
       "      <td>1</td>\n",
       "      <td>22</td>\n",
       "      <td>12</td>\n",
       "      <td>9</td>\n",
       "      <td>4</td>\n",
       "      <td>6</td>\n",
       "      <td>3</td>\n",
       "      <td>864</td>\n",
       "      <td>603</td>\n",
       "    </tr>\n",
       "    <tr>\n",
       "      <th>107524</th>\n",
       "      <td>ASD</td>\n",
       "      <td>HR</td>\n",
       "      <td>136</td>\n",
       "      <td>61</td>\n",
       "      <td>37</td>\n",
       "      <td>41</td>\n",
       "      <td>1183</td>\n",
       "      <td>1000</td>\n",
       "      <td>670</td>\n",
       "      <td>711</td>\n",
       "      <td>...</td>\n",
       "      <td>6</td>\n",
       "      <td>2</td>\n",
       "      <td>35</td>\n",
       "      <td>14</td>\n",
       "      <td>15</td>\n",
       "      <td>2</td>\n",
       "      <td>48</td>\n",
       "      <td>1</td>\n",
       "      <td>1264</td>\n",
       "      <td>1200</td>\n",
       "    </tr>\n",
       "    <tr>\n",
       "      <th>108001</th>\n",
       "      <td>ASD</td>\n",
       "      <td>HR</td>\n",
       "      <td>283</td>\n",
       "      <td>142</td>\n",
       "      <td>56</td>\n",
       "      <td>81</td>\n",
       "      <td>1250</td>\n",
       "      <td>1261</td>\n",
       "      <td>851</td>\n",
       "      <td>876</td>\n",
       "      <td>...</td>\n",
       "      <td>17</td>\n",
       "      <td>0</td>\n",
       "      <td>36</td>\n",
       "      <td>28</td>\n",
       "      <td>14</td>\n",
       "      <td>1</td>\n",
       "      <td>46</td>\n",
       "      <td>18</td>\n",
       "      <td>1059</td>\n",
       "      <td>1203</td>\n",
       "    </tr>\n",
       "    <tr>\n",
       "      <th>108372</th>\n",
       "      <td>TYPICAL</td>\n",
       "      <td>LR</td>\n",
       "      <td>183</td>\n",
       "      <td>137</td>\n",
       "      <td>63</td>\n",
       "      <td>62</td>\n",
       "      <td>1265</td>\n",
       "      <td>1237</td>\n",
       "      <td>789</td>\n",
       "      <td>826</td>\n",
       "      <td>...</td>\n",
       "      <td>4</td>\n",
       "      <td>1</td>\n",
       "      <td>39</td>\n",
       "      <td>15</td>\n",
       "      <td>19</td>\n",
       "      <td>1</td>\n",
       "      <td>10</td>\n",
       "      <td>0</td>\n",
       "      <td>949</td>\n",
       "      <td>953</td>\n",
       "    </tr>\n",
       "    <tr>\n",
       "      <th>113320</th>\n",
       "      <td>TYPICAL</td>\n",
       "      <td>LR</td>\n",
       "      <td>262</td>\n",
       "      <td>92</td>\n",
       "      <td>57</td>\n",
       "      <td>78</td>\n",
       "      <td>1335</td>\n",
       "      <td>885</td>\n",
       "      <td>881</td>\n",
       "      <td>493</td>\n",
       "      <td>...</td>\n",
       "      <td>11</td>\n",
       "      <td>0</td>\n",
       "      <td>25</td>\n",
       "      <td>24</td>\n",
       "      <td>10</td>\n",
       "      <td>1</td>\n",
       "      <td>30</td>\n",
       "      <td>6</td>\n",
       "      <td>654</td>\n",
       "      <td>1195</td>\n",
       "    </tr>\n",
       "  </tbody>\n",
       "</table>\n",
       "<p>5 rows × 85 columns</p>\n",
       "</div>"
      ],
      "text/plain": [
       "       ASD_DX_group Risk  Hippocampus right   Hippocampus left  \\\n",
       "CandID                                                           \n",
       "103430      TYPICAL   HR                327                124   \n",
       "107524          ASD   HR                136                 61   \n",
       "108001          ASD   HR                283                142   \n",
       "108372      TYPICAL   LR                183                137   \n",
       "113320      TYPICAL   LR                262                 92   \n",
       "\n",
       "        Amygdala right   Amygdala left  Anterior temporal lobe - medial right  \\\n",
       "CandID                                                                          \n",
       "103430             138             178                                    794   \n",
       "107524              37              41                                   1183   \n",
       "108001              56              81                                   1250   \n",
       "108372              63              62                                   1265   \n",
       "113320              57              78                                   1335   \n",
       "\n",
       "        Anterior temporal lobe - medial part left  \\\n",
       "CandID                                              \n",
       "103430                                        691   \n",
       "107524                                       1000   \n",
       "108001                                       1261   \n",
       "108372                                       1237   \n",
       "113320                                        885   \n",
       "\n",
       "        Anterior temporal lobe - lateral right  \\\n",
       "CandID                                           \n",
       "103430                                     663   \n",
       "107524                                     670   \n",
       "108001                                     851   \n",
       "108372                                     789   \n",
       "113320                                     881   \n",
       "\n",
       "        Anterior temporal lobe - lateral left  ...  Substantial nigra left  \\\n",
       "CandID                                         ...                           \n",
       "103430                                    637  ...                       5   \n",
       "107524                                    711  ...                       6   \n",
       "108001                                    876  ...                      17   \n",
       "108372                                    826  ...                       4   \n",
       "113320                                    493  ...                      11   \n",
       "\n",
       "        Substantial nigra right  Subgenual frontal cortex left  \\\n",
       "CandID                                                           \n",
       "103430                        1                             22   \n",
       "107524                        2                             35   \n",
       "108001                        0                             36   \n",
       "108372                        1                             39   \n",
       "113320                        0                             25   \n",
       "\n",
       "        Subgenual frontal cortex right  Subcallosal area left  \\\n",
       "CandID                                                          \n",
       "103430                              12                      9   \n",
       "107524                              14                     15   \n",
       "108001                              28                     14   \n",
       "108372                              15                     19   \n",
       "113320                              24                     10   \n",
       "\n",
       "        Subcallosal area right  Pre-subgenual frontal cortex left  \\\n",
       "CandID                                                              \n",
       "103430                       4                                  6   \n",
       "107524                       2                                 48   \n",
       "108001                       1                                 46   \n",
       "108372                       1                                 10   \n",
       "113320                       1                                 30   \n",
       "\n",
       "         Pre-subgenual frontal cortex left right  \\\n",
       "CandID                                             \n",
       "103430                                         3   \n",
       "107524                                         1   \n",
       "108001                                        18   \n",
       "108372                                         0   \n",
       "113320                                         6   \n",
       "\n",
       "        Superior temporal gyrus - anterior left  \\\n",
       "CandID                                            \n",
       "103430                                      864   \n",
       "107524                                     1264   \n",
       "108001                                     1059   \n",
       "108372                                      949   \n",
       "113320                                      654   \n",
       "\n",
       "        Superior temporal gyrus - anterior left right  \n",
       "CandID                                                 \n",
       "103430                                            603  \n",
       "107524                                           1200  \n",
       "108001                                           1203  \n",
       "108372                                            953  \n",
       "113320                                           1195  \n",
       "\n",
       "[5 rows x 85 columns]"
      ]
     },
     "execution_count": 160,
     "metadata": {},
     "output_type": "execute_result"
    }
   ],
   "source": [
    "fname = \"data/cleaned_CSF.csv\"\n",
    "raw_data = pd.read_csv(fname, index_col=0)\n",
    "raw_data.head()"
   ]
  },
  {
   "cell_type": "code",
   "execution_count": 161,
   "metadata": {},
   "outputs": [
    {
     "data": {
      "text/plain": [
       "(392, 85)"
      ]
     },
     "execution_count": 161,
     "metadata": {},
     "output_type": "execute_result"
    }
   ],
   "source": [
    "raw_data.shape"
   ]
  },
  {
   "cell_type": "code",
   "execution_count": 7,
   "metadata": {},
   "outputs": [],
   "source": [
    "label_cols = [\"ASD_DX_group\", \"Risk\"]\n",
    "noisy_cols = []\n",
    "\n",
    "features = raw_data.drop(columns=noisy_cols+label_cols)\n",
    "labels = raw_data[label_cols].copy()"
   ]
  },
  {
   "cell_type": "code",
   "execution_count": 8,
   "metadata": {},
   "outputs": [
    {
     "data": {
      "text/plain": [
       "TYPICAL            282\n",
       "ASD                 58\n",
       "ATYPICAL_ADOS       29\n",
       "ATYPICAL_MULLEN     12\n",
       "FXS_NO               6\n",
       "FXS_TYP              2\n",
       "FXS_ASD              2\n",
       "FXS_ATYP_MULLEN      1\n",
       "Name: ASD_DX_group, dtype: int64"
      ]
     },
     "execution_count": 8,
     "metadata": {},
     "output_type": "execute_result"
    }
   ],
   "source": [
    "labels[\"ASD_DX_group\"].value_counts()"
   ]
  },
  {
   "cell_type": "code",
   "execution_count": 9,
   "metadata": {},
   "outputs": [
    {
     "data": {
      "text/plain": [
       "TYPICAL            168\n",
       "ASD                 55\n",
       "ATYPICAL_ADOS       20\n",
       "ATYPICAL_MULLEN     10\n",
       "FXS_NO               6\n",
       "FXS_ASD              2\n",
       "FXS_TYP              2\n",
       "FXS_ATYP_MULLEN      1\n",
       "Name: ASD_DX_group, dtype: int64"
      ]
     },
     "execution_count": 9,
     "metadata": {},
     "output_type": "execute_result"
    }
   ],
   "source": [
    "labels[\"ASD_DX_group\"][labels[\"Risk\"]==\"HR\"].value_counts()"
   ]
  },
  {
   "cell_type": "code",
   "execution_count": 10,
   "metadata": {},
   "outputs": [],
   "source": [
    "LR = labels[\"Risk\"]==\"LR\"\n",
    "typical = labels[\"ASD_DX_group\"]==\"TYPICAL\"\n",
    "ASD = labels[\"ASD_DX_group\"]==\"ASD\"\n",
    "HR = labels[\"Risk\"]==\"HR\""
   ]
  },
  {
   "cell_type": "code",
   "execution_count": 11,
   "metadata": {},
   "outputs": [],
   "source": [
    "LR_typical = labels[LR & typical]\n",
    "HR_ASD = labels[HR & ASD]"
   ]
  },
  {
   "cell_type": "code",
   "execution_count": 12,
   "metadata": {},
   "outputs": [
    {
     "data": {
      "text/plain": [
       "LR    114\n",
       "HR     55\n",
       "Name: Risk, dtype: int64"
      ]
     },
     "execution_count": 12,
     "metadata": {},
     "output_type": "execute_result"
    }
   ],
   "source": [
    "analysis_labels = pd.concat((LR_typical, HR_ASD))\n",
    "analysis_labels[\"Risk\"].value_counts()"
   ]
  },
  {
   "cell_type": "code",
   "execution_count": 13,
   "metadata": {},
   "outputs": [
    {
     "data": {
      "text/plain": [
       "[array(['ASD', 'TYPICAL'], dtype=object), array(['HR', 'LR'], dtype=object)]"
      ]
     },
     "execution_count": 13,
     "metadata": {},
     "output_type": "execute_result"
    }
   ],
   "source": [
    "enc = OrdinalEncoder()\n",
    "enc.fit(analysis_labels)\n",
    "enc_labels = enc.transform(analysis_labels)\n",
    "enc.categories_"
   ]
  },
  {
   "cell_type": "code",
   "execution_count": 14,
   "metadata": {},
   "outputs": [],
   "source": [
    "risk_labels = pd.Series(enc_labels[:,1], dtype=int, index=analysis_labels.index)\n",
    "data = features.loc[analysis_labels.index].copy()"
   ]
  },
  {
   "cell_type": "code",
   "execution_count": 15,
   "metadata": {},
   "outputs": [],
   "source": [
    "# Save to csv\n",
    "# pd.concat([data, risk_labels], axis=1).to_csv(\"data/asd_lr_csf.csv\")"
   ]
  },
  {
   "cell_type": "code",
   "execution_count": 16,
   "metadata": {},
   "outputs": [
    {
     "name": "stdout",
     "output_type": "stream",
     "text": [
      "(152, 83)\n"
     ]
    },
    {
     "data": {
      "text/plain": [
       "1    103\n",
       "0     49\n",
       "dtype: int64"
      ]
     },
     "execution_count": 16,
     "metadata": {},
     "output_type": "execute_result"
    }
   ],
   "source": [
    "# Separating a hold out set that will be used for validation of the pipeline\n",
    "train_data, train_labels, test_data, test_labels = split_valid(data, risk_labels, valid_size=0.1)\n",
    "\n",
    "print(train_data.shape)\n",
    "train_labels.value_counts()"
   ]
  },
  {
   "cell_type": "code",
   "execution_count": 17,
   "metadata": {},
   "outputs": [
    {
     "data": {
      "text/plain": [
       "array([3.10204082, 0.73786408])"
      ]
     },
     "execution_count": 17,
     "metadata": {},
     "output_type": "execute_result"
    }
   ],
   "source": [
    "from sklearn.preprocessing import StandardScaler\n",
    "from sklearn.utils.class_weight import compute_class_weight\n",
    "from tensorflow.keras.callbacks import TensorBoard\n",
    "\n",
    "ZScaler = StandardScaler().fit(train_data)\n",
    "X_train = ZScaler.transform(train_data)\n",
    "X_valid = ZScaler.transform(test_data)\n",
    "\n",
    "y_train = train_labels.values.reshape(-1,1)\n",
    "y_valid = test_labels.values.reshape(-1,1)\n",
    "\n",
    "class_weight = compute_class_weight(\"balanced\", np.unique(train_labels), train_labels)\n",
    "class_weight[0] *= 2\n",
    "class_weight"
   ]
  },
  {
   "cell_type": "code",
   "execution_count": 132,
   "metadata": {},
   "outputs": [],
   "source": [
    "def exp_decay(epoch, curr_lr):\n",
    "    \n",
    "    if epoch < 50: return curr_lr\n",
    "    \n",
    "    decay_steps = 200\n",
    "    decay_rate = 0.1\n",
    "    initial_lr = 0.001\n",
    "    decayed_lr =  initial_lr * np.power(decay_rate, (epoch/decay_steps))\n",
    "#     print(\"New Learning Rate:\", decayed_lr)\n",
    "    return decayed_lr\n",
    "\n",
    "\n",
    "def build_dnn(num_features, num_labels, activation=\"elu\"):\n",
    "    \n",
    "    import tensorflow as tf\n",
    "    import keras\n",
    "    from keras import optimizers\n",
    "    from keras import regularizers\n",
    "    from keras.constraints import max_norm\n",
    "    keras.backend.clear_session()\n",
    "    \n",
    "    tf.random.set_random_seed(RANDOM_STATE)\n",
    "    reg_scale = 0.01 # For L1 Reg\n",
    "    my_reg = regularizers.l2(reg_scale) # Can change this if needed\n",
    "    \n",
    "    dnn = keras.models.Sequential()\n",
    "\n",
    "    Dense = keras.layers.Dense\n",
    "    \n",
    "    # Using He initialization\n",
    "    he_init = keras.initializers.he_normal(seed=RANDOM_STATE)\n",
    "\n",
    "    dnn.add(Dense(units = 64, activation=activation, input_dim = num_features,\n",
    "                  kernel_initializer=he_init,  kernel_regularizer=my_reg))\n",
    "    dnn.add(keras.layers.Dropout(0.6)),\n",
    "    dnn.add(Dense(units = 64, activation=activation,\n",
    "                  kernel_initializer=he_init,  kernel_regularizer=my_reg))\n",
    "    dnn.add(keras.layers.Dropout(0.4))\n",
    "    \n",
    "    dnn.add(Dense(units=num_labels, activation=\"sigmoid\",\n",
    "                  kernel_initializer=he_init,  kernel_regularizer=my_reg)) # 5 labels -> logits for now\n",
    "    \n",
    "#     SGD=keras.optimizers.SGD(lr=0.001)\n",
    "    NSGD = keras.optimizers.SGD(lr=0.0001,momentum=0.9,nesterov=True)\n",
    "    \n",
    "    dnn.compile(loss='binary_crossentropy',\n",
    "                  optimizer=NSGD,\n",
    "                  metrics=['accuracy']) #Internally it seems to be same as binary accuracy\n",
    "    \n",
    "    return dnn"
   ]
  },
  {
   "cell_type": "code",
   "execution_count": 133,
   "metadata": {},
   "outputs": [],
   "source": [
    "time = datetime.now().strftime(\"%Y%m%d-%H%M%S\")\n",
    "tensorboard = TensorBoard(log_dir='./logs/{}_csf_64_GS'.format(time),\n",
    "                          update_freq=\"epoch\", write_graph=False)"
   ]
  },
  {
   "cell_type": "code",
   "execution_count": 134,
   "metadata": {},
   "outputs": [
    {
     "name": "stdout",
     "output_type": "stream",
     "text": [
      "CPU times: user 13.1 s, sys: 3.79 s, total: 16.9 s\n",
      "Wall time: 7.59 s\n"
     ]
    }
   ],
   "source": [
    "%%time\n",
    "from keras.callbacks import LearningRateScheduler\n",
    "lr_scheduler = LearningRateScheduler(exp_decay)\n",
    "dnn = build_dnn(num_features=data.shape[1], num_labels=1, activation=\"relu\")\n",
    "history = dnn.fit(X_train, y_train, validation_data=(X_valid,y_valid),class_weight=class_weight,\n",
    "                  epochs=500, batch_size=10, verbose=0, callbacks=[])"
   ]
  },
  {
   "cell_type": "code",
   "execution_count": 135,
   "metadata": {},
   "outputs": [
    {
     "data": {
      "image/png": "[encoded data removed]",
      "text/plain": [
       "<Figure size 1440x720 with 2 Axes>"
      ]
     },
     "metadata": {
      "needs_background": "light"
     },
     "output_type": "display_data"
    },
    {
     "name": "stdout",
     "output_type": "stream",
     "text": [
      "17/17 [==============================] - 0s 189us/step\n",
      "Loss:2.588, Acc:0.7059\n"
     ]
    }
   ],
   "source": [
    "plot_history(history)\n",
    "print(\"Loss:{:0.3f}, Acc:{:.4f}\".format(*dnn.evaluate(X_valid,y_valid)))"
   ]
  },
  {
   "cell_type": "code",
   "execution_count": 136,
   "metadata": {},
   "outputs": [
    {
     "name": "stdout",
     "output_type": "stream",
     "text": [
      "Confusion matrix, without normalization\n",
      "[[0.33333333 0.66666667]\n",
      " [0.09090909 0.90909091]]\n",
      "Overall Accuracy: 0.7059\n"
     ]
    },
    {
     "data": {
      "text/plain": [
       "(<matplotlib.axes._subplots.AxesSubplot at 0x1a36070c18>, array([[ 2,  4],\n",
       "        [ 1, 10]]))"
      ]
     },
     "execution_count": 136,
     "metadata": {},
     "output_type": "execute_result"
    },
    {
     "data": {
      "image/png": "[encoded data removed]",
      "text/plain": [
       "<Figure size 576x576 with 2 Axes>"
      ]
     },
     "metadata": {
      "needs_background": "light"
     },
     "output_type": "display_data"
    }
   ],
   "source": [
    "y_pred = np.round(np.ravel(dnn.predict(X_valid)))\n",
    "plot_confusion_matrix(np.ravel(y_valid), y_pred, enc.categories_[1])"
   ]
  },
  {
   "cell_type": "code",
   "execution_count": 137,
   "metadata": {},
   "outputs": [
    {
     "data": {
      "text/plain": [
       "0.6666666666666666"
      ]
     },
     "execution_count": 137,
     "metadata": {},
     "output_type": "execute_result"
    }
   ],
   "source": [
    "from sklearn.metrics import precision_score, make_scorer\n",
    "prec_scorer = make_scorer(precision_score, pos_label=0)\n",
    "\n",
    "precision_score(y_true=np.ravel(y_valid), y_pred=y_pred, pos_label=0)"
   ]
  },
  {
   "cell_type": "markdown",
   "metadata": {},
   "source": [
    "### Cross Validating"
   ]
  },
  {
   "cell_type": "code",
   "execution_count": 138,
   "metadata": {},
   "outputs": [],
   "source": [
    "# Separating a hold out set that will be used for validation of the pipeline\n",
    "# train_data, train_labels, test_data, test_labels = split_valid(data, risk_labels, valid_size=0.01)\n",
    "train_data, train_labels, test_data, test_labels = data, risk_labels, [], []"
   ]
  },
  {
   "cell_type": "code",
   "execution_count": 139,
   "metadata": {},
   "outputs": [
    {
     "data": {
      "text/plain": [
       "1    114\n",
       "0     55\n",
       "dtype: int64"
      ]
     },
     "execution_count": 139,
     "metadata": {},
     "output_type": "execute_result"
    }
   ],
   "source": [
    "risk_labels.value_counts()"
   ]
  },
  {
   "cell_type": "code",
   "execution_count": 140,
   "metadata": {},
   "outputs": [
    {
     "data": {
      "text/plain": [
       "(169, 83)"
      ]
     },
     "execution_count": 140,
     "metadata": {},
     "output_type": "execute_result"
    }
   ],
   "source": [
    "train_data.shape"
   ]
  },
  {
   "cell_type": "code",
   "execution_count": 141,
   "metadata": {},
   "outputs": [],
   "source": [
    "reducer = umap.UMAP(random_state=42,\n",
    "                    n_components = 10,\n",
    "                    n_neighbors=5,\n",
    "                    min_dist=0)"
   ]
  },
  {
   "cell_type": "code",
   "execution_count": 142,
   "metadata": {},
   "outputs": [],
   "source": [
    "dnn = build_dnn(num_features=data.shape[1], num_labels=1, activation=\"relu\")\n",
    "pipeline = ClusterPipeline(dnn, [train_data, train_labels], [test_data, test_labels],\n",
    "                           target_class=0, reducer=reducer, softmax=False, analyzer_type=\"lrp.epsilon\")"
   ]
  },
  {
   "cell_type": "code",
   "execution_count": 143,
   "metadata": {},
   "outputs": [
    {
     "name": "stdout",
     "output_type": "stream",
     "text": [
      "Running Serial Crossvalidation\n",
      "Running worker: 0\n",
      "Fold: 0 -> Loss:2.443, Acc:0.6373\n",
      "Prediction Accuracy\n",
      "18/18 [==============================] - 0s 3ms/step\n",
      "Scores on data set: loss=2.427 accuracy=0.7778\n",
      "Fold Correct: 14\n",
      "Running worker: 1\n",
      "Fold: 1 -> Loss:2.428, Acc:0.7402\n",
      "Prediction Accuracy\n",
      "18/18 [==============================] - 0s 42us/step\n",
      "Scores on data set: loss=2.599 accuracy=0.3333\n",
      "Fold Correct: 6\n",
      "Running worker: 2\n",
      "Fold: 2 -> Loss:2.464, Acc:0.6373\n",
      "Prediction Accuracy\n",
      "18/18 [==============================] - 0s 32us/step\n",
      "Scores on data set: loss=2.471 accuracy=0.7778\n",
      "Fold Correct: 14\n",
      "Running worker: 3\n",
      "Fold: 3 -> Loss:2.441, Acc:0.7304\n",
      "Prediction Accuracy\n",
      "18/18 [==============================] - 0s 31us/step\n",
      "Scores on data set: loss=2.562 accuracy=0.4444\n",
      "Fold Correct: 8\n",
      "Running worker: 4\n",
      "Fold: 4 -> Loss:2.376, Acc:0.7621\n",
      "Prediction Accuracy\n",
      "17/17 [==============================] - 0s 47us/step\n",
      "Scores on data set: loss=2.597 accuracy=0.4118\n",
      "Fold Correct: 7\n",
      "Running worker: 5\n",
      "Fold: 5 -> Loss:2.468, Acc:0.6553\n",
      "Prediction Accuracy\n",
      "16/16 [==============================] - 0s 41us/step\n",
      "Scores on data set: loss=2.422 accuracy=0.8750\n",
      "Fold Correct: 14\n",
      "Running worker: 6\n",
      "Fold: 6 -> Loss:2.447, Acc:0.6602\n",
      "Prediction Accuracy\n",
      "16/16 [==============================] - 0s 42us/step\n",
      "Scores on data set: loss=2.439 accuracy=0.8750\n",
      "Fold Correct: 14\n",
      "Running worker: 7\n",
      "Fold: 7 -> Loss:2.430, Acc:0.7136\n",
      "Prediction Accuracy\n",
      "16/16 [==============================] - 0s 51us/step\n",
      "Scores on data set: loss=2.435 accuracy=0.6875\n",
      "Fold Correct: 11\n",
      "Running worker: 8\n",
      "Fold: 8 -> Loss:2.409, Acc:0.7913\n",
      "Prediction Accuracy\n",
      "16/16 [==============================] - 0s 39us/step\n",
      "Scores on data set: loss=2.431 accuracy=0.6875\n",
      "Fold Correct: 11\n",
      "Running worker: 9\n",
      "Fold: 9 -> Loss:2.428, Acc:0.7039\n",
      "Prediction Accuracy\n",
      "16/16 [==============================] - 0s 47us/step\n",
      "Scores on data set: loss=2.634 accuracy=0.5625\n",
      "Fold Correct: 9\n",
      "Runtime: 74.000s\n",
      "Correct: 108\n",
      "Test Size: 169\n",
      "Confusion matrix, without normalization\n",
      "[[0.45454545 0.54545455]\n",
      " [0.27192982 0.72807018]]\n",
      "Overall Accuracy: 0.6391\n",
      "Loading LRP Analyzers...\n",
      "Done!\n"
     ]
    },
    {
     "data": {
      "image/png": "[encoded data removed]",
      "text/plain": [
       "<Figure size 576x576 with 2 Axes>"
      ]
     },
     "metadata": {
      "needs_background": "light"
     },
     "output_type": "display_data"
    }
   ],
   "source": [
    "cm = pipeline.train_model(batch_size=int(10), epochs=400, smote=True,\n",
    "                          cross_validation=True, parallel=False, verbose=0)"
   ]
  },
  {
   "cell_type": "code",
   "execution_count": 162,
   "metadata": {},
   "outputs": [
    {
     "name": "stdout",
     "output_type": "stream",
     "text": [
      "Sensitivity: 0.4545\n",
      "PPV: 0.4464\n"
     ]
    }
   ],
   "source": [
    "correct_ASD = cm[0][0]\n",
    "print(\"Sensitivity: {:.4f}\".format(correct_ASD/ np.sum(cm,axis=1)[0]))\n",
    "print(\"PPV: {:.4f}\".format(correct_ASD/ np.sum(cm,axis=0)[0]))"
   ]
  },
  {
   "cell_type": "code",
   "execution_count": null,
   "metadata": {},
   "outputs": [],
   "source": [
    "Sensitivity: 0.4000\n",
    "PPV: 0.4783"
   ]
  },
  {
   "cell_type": "code",
   "execution_count": 150,
   "metadata": {},
   "outputs": [
    {
     "name": "stdout",
     "output_type": "stream",
     "text": [
      "LRP Shape:  (25, 83)\n",
      "Cluster Search Space: range(3, 8)\n",
      "Minimum Size:\n",
      "Clusters                  (4, 4)\n",
      "Noise                     (3, 3)\n",
      "Halkidi                   (3, 3)\n",
      "Halkidi-Filtered Noise    (3, 3)\n",
      "dtype: object\n",
      "Clusters Found: 2\n"
     ]
    }
   ],
   "source": [
    "from sklearn.preprocessing import MinMaxScaler\n",
    "reducer = umap.UMAP(random_state=42,\n",
    "                    n_components = 20,\n",
    "                    n_neighbors=5,\n",
    "                    min_dist=0)\n",
    "\n",
    "pipeline.reducer_pipeline = Pipeline([\n",
    "            (\"umap\", reducer),\n",
    "            (\"scaler\",  MinMaxScaler())\n",
    "        ])\n",
    "\n",
    "_, correct_pred_idxs = pipeline.train_clusterer(plot=False, class_label = 0)\n",
    "print(\"Clusters Found:\", max(pipeline.clusterer.labels_)+1)"
   ]
  },
  {
   "cell_type": "code",
   "execution_count": 151,
   "metadata": {},
   "outputs": [
    {
     "data": {
      "text/plain": [
       "(169,)"
      ]
     },
     "execution_count": 151,
     "metadata": {},
     "output_type": "execute_result"
    }
   ],
   "source": [
    "reindexed_labels = train_labels.iloc[pipeline.testing_idxs]\n",
    "correct_idxs = pipeline.correct_preds_bool_arr\n",
    "reindexed_labels.shape"
   ]
  },
  {
   "cell_type": "code",
   "execution_count": 152,
   "metadata": {},
   "outputs": [],
   "source": [
    "_correct=analysis_labels.loc[reindexed_labels[correct_idxs].index]\n",
    "correct_HR = _correct[_correct[\"Risk\"]==\"HR\"]\n",
    "# enc.transform(correct_HR)[:,0]"
   ]
  },
  {
   "cell_type": "code",
   "execution_count": 153,
   "metadata": {},
   "outputs": [
    {
     "data": {
      "text/html": [
       "        <script type=\"text/javascript\">\n",
       "        window.PlotlyConfig = {MathJaxConfig: 'local'};\n",
       "        if (window.MathJax) {MathJax.Hub.Config({SVG: {font: \"STIX-Web\"}});}\n",
       "        if (typeof require !== 'undefined') {\n",
       "        require.undef(\"plotly\");\n",
       "        requirejs.config({\n",
       "            paths: {\n",
       "                'plotly': ['https://cdn.plot.ly/plotly-latest.min']\n",
       "            }\n",
       "        });\n",
       "        require(['plotly'], function(Plotly) {\n",
       "            window._Plotly = Plotly;\n",
       "        });\n",
       "        }\n",
       "        </script>\n",
       "        "
      ]
     },
     "metadata": {},
     "output_type": "display_data"
    },
    {
     "data": {
      "application/vnd.plotly.v1+json": {
       "config": {
        "linkText": "Export to plot.ly",
        "plotlyServerURL": "https://plot.ly",
        "showLink": false
       },
       "data": [
        {
         "marker": {
          "color": [
           1,
           1,
           1,
           0,
           -1,
           1,
           0,
           1,
           1,
           1,
           -1,
           1,
           1,
           1,
           1,
           1,
           1,
           0,
           1,
           1,
           -1,
           1,
           1,
           -1,
           1
          ],
          "colorscale": [
           [
            0,
            "rgb(150,0,90)"
           ],
           [
            0.125,
            "rgb(0,0,200)"
           ],
           [
            0.25,
            "rgb(0,25,255)"
           ],
           [
            0.375,
            "rgb(0,152,255)"
           ],
           [
            0.5,
            "rgb(44,255,150)"
           ],
           [
            0.625,
            "rgb(151,255,0)"
           ],
           [
            0.75,
            "rgb(255,234,0)"
           ],
           [
            0.875,
            "rgb(255,111,0)"
           ],
           [
            1,
            "rgb(255,0,0)"
           ]
          ],
          "opacity": 0.8,
          "showscale": true,
          "size": 5
         },
         "mode": "markers",
         "name": "Training",
         "text": [
          "ASD",
          "ASD",
          "ASD",
          "ASD",
          "ASD",
          "ASD",
          "ASD",
          "ASD",
          "ASD",
          "ASD",
          "ASD",
          "ASD",
          "ASD",
          "ASD",
          "ASD",
          "ASD",
          "ASD",
          "ASD",
          "ASD",
          "ASD",
          "ASD",
          "ASD",
          "ASD",
          "ASD",
          "ASD"
         ],
         "type": "scatter3d",
         "x": [
          0.7336616516113281,
          0.1060793399810791,
          0.04981851577758789,
          0.8809428215026855,
          0.75834059715271,
          0.1303858757019043,
          1,
          0.15016508102416992,
          0.7394301891326904,
          0.364804744720459,
          0.1508653163909912,
          0.4912586212158203,
          0.5902612209320068,
          0.4000225067138672,
          0.4882621765136719,
          0,
          0.7353277206420898,
          0.9257268905639648,
          0.028606653213500977,
          0.35879993438720703,
          0.44883084297180176,
          0.6273579597473145,
          0.2762486934661865,
          0.5616960525512695,
          0.10698270797729492
         ],
         "y": [
          0.14602771401405334,
          0.576168954372406,
          0.3408504128456116,
          0.4138839840888977,
          0.5835604071617126,
          0.7768722772598267,
          0.6875063180923462,
          0.3121545910835266,
          0.0671786442399025,
          0.07919570803642273,
          0.9292870163917542,
          0.8496198654174805,
          0.0037214308977127075,
          0.7613320350646973,
          0.03425677865743637,
          0.5653725862503052,
          0.24044263362884521,
          0.5897716283798218,
          0.8072729110717773,
          0.22110967338085175,
          1,
          0,
          0.6612581014633179,
          0.9501504898071289,
          0.5885065197944641
         ],
         "z": [
          0.5164747834205627,
          1,
          0.2707480192184448,
          0.7319338917732239,
          0.8999031186103821,
          0.2747992277145386,
          0.6667144894599915,
          0.14583289623260498,
          0.04589664936065674,
          0.31063520908355713,
          0.7663719058036804,
          0.10129845142364502,
          0.034815311431884766,
          0.13287770748138428,
          0.19118547439575195,
          0.7249847650527954,
          0.22559714317321777,
          0.4491201639175415,
          0.6738563776016235,
          0.1001739501953125,
          0.8623958826065063,
          0.4946048855781555,
          0,
          0.2631009817123413,
          0.300348162651062
         ]
        }
       ],
       "layout": {
        "autosize": false,
        "height": 1000,
        "paper_bgcolor": "#F5F5F5",
        "scene": {
         "aspectmode": "auto",
         "aspectratio": {
          "x": 1,
          "y": 1,
          "z": 1
         },
         "camera": {
          "center": {
           "x": 0,
           "y": 0,
           "z": 0
          },
          "eye": {
           "x": 1.2808917260250672,
           "y": 1.3948565687714218,
           "z": 1.0493767382383412
          },
          "projection": {
           "type": "perspective"
          },
          "up": {
           "x": 0,
           "y": 0,
           "z": 1
          }
         }
        },
        "template": {
         "data": {
          "bar": [
           {
            "error_x": {
             "color": "#2a3f5f"
            },
            "error_y": {
             "color": "#2a3f5f"
            },
            "marker": {
             "line": {
              "color": "#E5ECF6",
              "width": 0.5
             }
            },
            "type": "bar"
           }
          ],
          "barpolar": [
           {
            "marker": {
             "line": {
              "color": "#E5ECF6",
              "width": 0.5
             }
            },
            "type": "barpolar"
           }
          ],
          "carpet": [
           {
            "aaxis": {
             "endlinecolor": "#2a3f5f",
             "gridcolor": "white",
             "linecolor": "white",
             "minorgridcolor": "white",
             "startlinecolor": "#2a3f5f"
            },
            "baxis": {
             "endlinecolor": "#2a3f5f",
             "gridcolor": "white",
             "linecolor": "white",
             "minorgridcolor": "white",
             "startlinecolor": "#2a3f5f"
            },
            "type": "carpet"
           }
          ],
          "choropleth": [
           {
            "colorbar": {
             "outlinewidth": 0,
             "ticks": ""
            },
            "type": "choropleth"
           }
          ],
          "contour": [
           {
            "colorbar": {
             "outlinewidth": 0,
             "ticks": ""
            },
            "colorscale": [
             [
              0,
              "#0d0887"
             ],
             [
              0.1111111111111111,
              "#46039f"
             ],
             [
              0.2222222222222222,
              "#7201a8"
             ],
             [
              0.3333333333333333,
              "#9c179e"
             ],
             [
              0.4444444444444444,
              "#bd3786"
             ],
             [
              0.5555555555555556,
              "#d8576b"
             ],
             [
              0.6666666666666666,
              "#ed7953"
             ],
             [
              0.7777777777777778,
              "#fb9f3a"
             ],
             [
              0.8888888888888888,
              "#fdca26"
             ],
             [
              1,
              "#f0f921"
             ]
            ],
            "type": "contour"
           }
          ],
          "contourcarpet": [
           {
            "colorbar": {
             "outlinewidth": 0,
             "ticks": ""
            },
            "type": "contourcarpet"
           }
          ],
          "heatmap": [
           {
            "colorbar": {
             "outlinewidth": 0,
             "ticks": ""
            },
            "colorscale": [
             [
              0,
              "#0d0887"
             ],
             [
              0.1111111111111111,
              "#46039f"
             ],
             [
              0.2222222222222222,
              "#7201a8"
             ],
             [
              0.3333333333333333,
              "#9c179e"
             ],
             [
              0.4444444444444444,
              "#bd3786"
             ],
             [
              0.5555555555555556,
              "#d8576b"
             ],
             [
              0.6666666666666666,
              "#ed7953"
             ],
             [
              0.7777777777777778,
              "#fb9f3a"
             ],
             [
              0.8888888888888888,
              "#fdca26"
             ],
             [
              1,
              "#f0f921"
             ]
            ],
            "type": "heatmap"
           }
          ],
          "heatmapgl": [
           {
            "colorbar": {
             "outlinewidth": 0,
             "ticks": ""
            },
            "colorscale": [
             [
              0,
              "#0d0887"
             ],
             [
              0.1111111111111111,
              "#46039f"
             ],
             [
              0.2222222222222222,
              "#7201a8"
             ],
             [
              0.3333333333333333,
              "#9c179e"
             ],
             [
              0.4444444444444444,
              "#bd3786"
             ],
             [
              0.5555555555555556,
              "#d8576b"
             ],
             [
              0.6666666666666666,
              "#ed7953"
             ],
             [
              0.7777777777777778,
              "#fb9f3a"
             ],
             [
              0.8888888888888888,
              "#fdca26"
             ],
             [
              1,
              "#f0f921"
             ]
            ],
            "type": "heatmapgl"
           }
          ],
          "histogram": [
           {
            "marker": {
             "colorbar": {
              "outlinewidth": 0,
              "ticks": ""
             }
            },
            "type": "histogram"
           }
          ],
          "histogram2d": [
           {
            "colorbar": {
             "outlinewidth": 0,
             "ticks": ""
            },
            "colorscale": [
             [
              0,
              "#0d0887"
             ],
             [
              0.1111111111111111,
              "#46039f"
             ],
             [
              0.2222222222222222,
              "#7201a8"
             ],
             [
              0.3333333333333333,
              "#9c179e"
             ],
             [
              0.4444444444444444,
              "#bd3786"
             ],
             [
              0.5555555555555556,
              "#d8576b"
             ],
             [
              0.6666666666666666,
              "#ed7953"
             ],
             [
              0.7777777777777778,
              "#fb9f3a"
             ],
             [
              0.8888888888888888,
              "#fdca26"
             ],
             [
              1,
              "#f0f921"
             ]
            ],
            "type": "histogram2d"
           }
          ],
          "histogram2dcontour": [
           {
            "colorbar": {
             "outlinewidth": 0,
             "ticks": ""
            },
            "colorscale": [
             [
              0,
              "#0d0887"
             ],
             [
              0.1111111111111111,
              "#46039f"
             ],
             [
              0.2222222222222222,
              "#7201a8"
             ],
             [
              0.3333333333333333,
              "#9c179e"
             ],
             [
              0.4444444444444444,
              "#bd3786"
             ],
             [
              0.5555555555555556,
              "#d8576b"
             ],
             [
              0.6666666666666666,
              "#ed7953"
             ],
             [
              0.7777777777777778,
              "#fb9f3a"
             ],
             [
              0.8888888888888888,
              "#fdca26"
             ],
             [
              1,
              "#f0f921"
             ]
            ],
            "type": "histogram2dcontour"
           }
          ],
          "mesh3d": [
           {
            "colorbar": {
             "outlinewidth": 0,
             "ticks": ""
            },
            "type": "mesh3d"
           }
          ],
          "parcoords": [
           {
            "line": {
             "colorbar": {
              "outlinewidth": 0,
              "ticks": ""
             }
            },
            "type": "parcoords"
           }
          ],
          "scatter": [
           {
            "marker": {
             "colorbar": {
              "outlinewidth": 0,
              "ticks": ""
             }
            },
            "type": "scatter"
           }
          ],
          "scatter3d": [
           {
            "line": {
             "colorbar": {
              "outlinewidth": 0,
              "ticks": ""
             }
            },
            "marker": {
             "colorbar": {
              "outlinewidth": 0,
              "ticks": ""
             }
            },
            "type": "scatter3d"
           }
          ],
          "scattercarpet": [
           {
            "marker": {
             "colorbar": {
              "outlinewidth": 0,
              "ticks": ""
             }
            },
            "type": "scattercarpet"
           }
          ],
          "scattergeo": [
           {
            "marker": {
             "colorbar": {
              "outlinewidth": 0,
              "ticks": ""
             }
            },
            "type": "scattergeo"
           }
          ],
          "scattergl": [
           {
            "marker": {
             "colorbar": {
              "outlinewidth": 0,
              "ticks": ""
             }
            },
            "type": "scattergl"
           }
          ],
          "scattermapbox": [
           {
            "marker": {
             "colorbar": {
              "outlinewidth": 0,
              "ticks": ""
             }
            },
            "type": "scattermapbox"
           }
          ],
          "scatterpolar": [
           {
            "marker": {
             "colorbar": {
              "outlinewidth": 0,
              "ticks": ""
             }
            },
            "type": "scatterpolar"
           }
          ],
          "scatterpolargl": [
           {
            "marker": {
             "colorbar": {
              "outlinewidth": 0,
              "ticks": ""
             }
            },
            "type": "scatterpolargl"
           }
          ],
          "scatterternary": [
           {
            "marker": {
             "colorbar": {
              "outlinewidth": 0,
              "ticks": ""
             }
            },
            "type": "scatterternary"
           }
          ],
          "surface": [
           {
            "colorbar": {
             "outlinewidth": 0,
             "ticks": ""
            },
            "colorscale": [
             [
              0,
              "#0d0887"
             ],
             [
              0.1111111111111111,
              "#46039f"
             ],
             [
              0.2222222222222222,
              "#7201a8"
             ],
             [
              0.3333333333333333,
              "#9c179e"
             ],
             [
              0.4444444444444444,
              "#bd3786"
             ],
             [
              0.5555555555555556,
              "#d8576b"
             ],
             [
              0.6666666666666666,
              "#ed7953"
             ],
             [
              0.7777777777777778,
              "#fb9f3a"
             ],
             [
              0.8888888888888888,
              "#fdca26"
             ],
             [
              1,
              "#f0f921"
             ]
            ],
            "type": "surface"
           }
          ],
          "table": [
           {
            "cells": {
             "fill": {
              "color": "#EBF0F8"
             },
             "line": {
              "color": "white"
             }
            },
            "header": {
             "fill": {
              "color": "#C8D4E3"
             },
             "line": {
              "color": "white"
             }
            },
            "type": "table"
           }
          ]
         },
         "layout": {
          "annotationdefaults": {
           "arrowcolor": "#2a3f5f",
           "arrowhead": 0,
           "arrowwidth": 1
          },
          "colorscale": {
           "diverging": [
            [
             0,
             "#8e0152"
            ],
            [
             0.1,
             "#c51b7d"
            ],
            [
             0.2,
             "#de77ae"
            ],
            [
             0.3,
             "#f1b6da"
            ],
            [
             0.4,
             "#fde0ef"
            ],
            [
             0.5,
             "#f7f7f7"
            ],
            [
             0.6,
             "#e6f5d0"
            ],
            [
             0.7,
             "#b8e186"
            ],
            [
             0.8,
             "#7fbc41"
            ],
            [
             0.9,
             "#4d9221"
            ],
            [
             1,
             "#276419"
            ]
           ],
           "sequential": [
            [
             0,
             "#0d0887"
            ],
            [
             0.1111111111111111,
             "#46039f"
            ],
            [
             0.2222222222222222,
             "#7201a8"
            ],
            [
             0.3333333333333333,
             "#9c179e"
            ],
            [
             0.4444444444444444,
             "#bd3786"
            ],
            [
             0.5555555555555556,
             "#d8576b"
            ],
            [
             0.6666666666666666,
             "#ed7953"
            ],
            [
             0.7777777777777778,
             "#fb9f3a"
            ],
            [
             0.8888888888888888,
             "#fdca26"
            ],
            [
             1,
             "#f0f921"
            ]
           ],
           "sequentialminus": [
            [
             0,
             "#0d0887"
            ],
            [
             0.1111111111111111,
             "#46039f"
            ],
            [
             0.2222222222222222,
             "#7201a8"
            ],
            [
             0.3333333333333333,
             "#9c179e"
            ],
            [
             0.4444444444444444,
             "#bd3786"
            ],
            [
             0.5555555555555556,
             "#d8576b"
            ],
            [
             0.6666666666666666,
             "#ed7953"
            ],
            [
             0.7777777777777778,
             "#fb9f3a"
            ],
            [
             0.8888888888888888,
             "#fdca26"
            ],
            [
             1,
             "#f0f921"
            ]
           ]
          },
          "colorway": [
           "#636efa",
           "#EF553B",
           "#00cc96",
           "#ab63fa",
           "#FFA15A",
           "#19d3f3",
           "#FF6692",
           "#B6E880",
           "#FF97FF",
           "#FECB52"
          ],
          "font": {
           "color": "#2a3f5f"
          },
          "geo": {
           "bgcolor": "white",
           "lakecolor": "white",
           "landcolor": "#E5ECF6",
           "showlakes": true,
           "showland": true,
           "subunitcolor": "white"
          },
          "hoverlabel": {
           "align": "left"
          },
          "hovermode": "closest",
          "mapbox": {
           "style": "light"
          },
          "paper_bgcolor": "white",
          "plot_bgcolor": "#E5ECF6",
          "polar": {
           "angularaxis": {
            "gridcolor": "white",
            "linecolor": "white",
            "ticks": ""
           },
           "bgcolor": "#E5ECF6",
           "radialaxis": {
            "gridcolor": "white",
            "linecolor": "white",
            "ticks": ""
           }
          },
          "scene": {
           "xaxis": {
            "backgroundcolor": "#E5ECF6",
            "gridcolor": "white",
            "gridwidth": 2,
            "linecolor": "white",
            "showbackground": true,
            "ticks": "",
            "zerolinecolor": "white"
           },
           "yaxis": {
            "backgroundcolor": "#E5ECF6",
            "gridcolor": "white",
            "gridwidth": 2,
            "linecolor": "white",
            "showbackground": true,
            "ticks": "",
            "zerolinecolor": "white"
           },
           "zaxis": {
            "backgroundcolor": "#E5ECF6",
            "gridcolor": "white",
            "gridwidth": 2,
            "linecolor": "white",
            "showbackground": true,
            "ticks": "",
            "zerolinecolor": "white"
           }
          },
          "shapedefaults": {
           "line": {
            "color": "#2a3f5f"
           }
          },
          "ternary": {
           "aaxis": {
            "gridcolor": "white",
            "linecolor": "white",
            "ticks": ""
           },
           "baxis": {
            "gridcolor": "white",
            "linecolor": "white",
            "ticks": ""
           },
           "bgcolor": "#E5ECF6",
           "caxis": {
            "gridcolor": "white",
            "linecolor": "white",
            "ticks": ""
           }
          },
          "title": {
           "x": 0.05
          },
          "xaxis": {
           "automargin": true,
           "gridcolor": "white",
           "linecolor": "white",
           "ticks": "",
           "zerolinecolor": "white",
           "zerolinewidth": 2
          },
          "yaxis": {
           "automargin": true,
           "gridcolor": "white",
           "linecolor": "white",
           "ticks": "",
           "zerolinecolor": "white",
           "zerolinewidth": 2
          }
         }
        },
        "title": {
         "text": "3D LRP Embedding"
        },
        "width": 1200
       }
      },
      "image/png": "[encoded data removed]",
      "text/html": [
       "<div>\n",
       "        \n",
       "        \n",
       "            <div id=\"6dc22273-1008-4b3b-ac27-50c77130a395\" class=\"plotly-graph-div\" style=\"height:1000px; width:1200px;\"></div>\n",
       "            <script type=\"text/javascript\">\n",
       "                require([\"plotly\"], function(Plotly) {\n",
       "                    window.PLOTLYENV=window.PLOTLYENV || {};\n",
       "                    \n",
       "                if (document.getElementById(\"6dc22273-1008-4b3b-ac27-50c77130a395\")) {\n",
       "                    Plotly.newPlot(\n",
       "                        '6dc22273-1008-4b3b-ac27-50c77130a395',\n",
       "                        [{\"marker\": {\"color\": [1, 1, 1, 0, -1, 1, 0, 1, 1, 1, -1, 1, 1, 1, 1, 1, 1, 0, 1, 1, -1, 1, 1, -1, 1], \"colorscale\": [[0.0, \"rgb(150,0,90)\"], [0.125, \"rgb(0,0,200)\"], [0.25, \"rgb(0,25,255)\"], [0.375, \"rgb(0,152,255)\"], [0.5, \"rgb(44,255,150)\"], [0.625, \"rgb(151,255,0)\"], [0.75, \"rgb(255,234,0)\"], [0.875, \"rgb(255,111,0)\"], [1.0, \"rgb(255,0,0)\"]], \"opacity\": 0.8, \"showscale\": true, \"size\": 5}, \"mode\": \"markers\", \"name\": \"Training\", \"text\": [\"ASD\", \"ASD\", \"ASD\", \"ASD\", \"ASD\", \"ASD\", \"ASD\", \"ASD\", \"ASD\", \"ASD\", \"ASD\", \"ASD\", \"ASD\", \"ASD\", \"ASD\", \"ASD\", \"ASD\", \"ASD\", \"ASD\", \"ASD\", \"ASD\", \"ASD\", \"ASD\", \"ASD\", \"ASD\"], \"type\": \"scatter3d\", \"x\": [0.7336616516113281, 0.1060793399810791, 0.04981851577758789, 0.8809428215026855, 0.75834059715271, 0.1303858757019043, 1.0, 0.15016508102416992, 0.7394301891326904, 0.364804744720459, 0.1508653163909912, 0.4912586212158203, 0.5902612209320068, 0.4000225067138672, 0.4882621765136719, 0.0, 0.7353277206420898, 0.9257268905639648, 0.028606653213500977, 0.35879993438720703, 0.44883084297180176, 0.6273579597473145, 0.2762486934661865, 0.5616960525512695, 0.10698270797729492], \"y\": [0.14602771401405334, 0.576168954372406, 0.3408504128456116, 0.4138839840888977, 0.5835604071617126, 0.7768722772598267, 0.6875063180923462, 0.3121545910835266, 0.0671786442399025, 0.07919570803642273, 0.9292870163917542, 0.8496198654174805, 0.0037214308977127075, 0.7613320350646973, 0.03425677865743637, 0.5653725862503052, 0.24044263362884521, 0.5897716283798218, 0.8072729110717773, 0.22110967338085175, 1.0, 0.0, 0.6612581014633179, 0.9501504898071289, 0.5885065197944641], \"z\": [0.5164747834205627, 1.0, 0.2707480192184448, 0.7319338917732239, 0.8999031186103821, 0.2747992277145386, 0.6667144894599915, 0.14583289623260498, 0.04589664936065674, 0.31063520908355713, 0.7663719058036804, 0.10129845142364502, 0.034815311431884766, 0.13287770748138428, 0.19118547439575195, 0.7249847650527954, 0.22559714317321777, 0.4491201639175415, 0.6738563776016235, 0.1001739501953125, 0.8623958826065063, 0.4946048855781555, 0.0, 0.2631009817123413, 0.300348162651062]}],\n",
       "                        {\"autosize\": false, \"height\": 1000, \"paper_bgcolor\": \"#F5F5F5\", \"template\": {\"data\": {\"bar\": [{\"error_x\": {\"color\": \"#2a3f5f\"}, \"error_y\": {\"color\": \"#2a3f5f\"}, \"marker\": {\"line\": {\"color\": \"#E5ECF6\", \"width\": 0.5}}, \"type\": \"bar\"}], \"barpolar\": [{\"marker\": {\"line\": {\"color\": \"#E5ECF6\", \"width\": 0.5}}, \"type\": \"barpolar\"}], \"carpet\": [{\"aaxis\": {\"endlinecolor\": \"#2a3f5f\", \"gridcolor\": \"white\", \"linecolor\": \"white\", \"minorgridcolor\": \"white\", \"startlinecolor\": \"#2a3f5f\"}, \"baxis\": {\"endlinecolor\": \"#2a3f5f\", \"gridcolor\": \"white\", \"linecolor\": \"white\", \"minorgridcolor\": \"white\", \"startlinecolor\": \"#2a3f5f\"}, \"type\": \"carpet\"}], \"choropleth\": [{\"colorbar\": {\"outlinewidth\": 0, \"ticks\": \"\"}, \"type\": \"choropleth\"}], \"contour\": [{\"colorbar\": {\"outlinewidth\": 0, \"ticks\": \"\"}, \"colorscale\": [[0.0, \"#0d0887\"], [0.1111111111111111, \"#46039f\"], [0.2222222222222222, \"#7201a8\"], [0.3333333333333333, \"#9c179e\"], [0.4444444444444444, \"#bd3786\"], [0.5555555555555556, \"#d8576b\"], [0.6666666666666666, \"#ed7953\"], [0.7777777777777778, \"#fb9f3a\"], [0.8888888888888888, \"#fdca26\"], [1.0, \"#f0f921\"]], \"type\": \"contour\"}], \"contourcarpet\": [{\"colorbar\": {\"outlinewidth\": 0, \"ticks\": \"\"}, \"type\": \"contourcarpet\"}], \"heatmap\": [{\"colorbar\": {\"outlinewidth\": 0, \"ticks\": \"\"}, \"colorscale\": [[0.0, \"#0d0887\"], [0.1111111111111111, \"#46039f\"], [0.2222222222222222, \"#7201a8\"], [0.3333333333333333, \"#9c179e\"], [0.4444444444444444, \"#bd3786\"], [0.5555555555555556, \"#d8576b\"], [0.6666666666666666, \"#ed7953\"], [0.7777777777777778, \"#fb9f3a\"], [0.8888888888888888, \"#fdca26\"], [1.0, \"#f0f921\"]], \"type\": \"heatmap\"}], \"heatmapgl\": [{\"colorbar\": {\"outlinewidth\": 0, \"ticks\": \"\"}, \"colorscale\": [[0.0, \"#0d0887\"], [0.1111111111111111, \"#46039f\"], [0.2222222222222222, \"#7201a8\"], [0.3333333333333333, \"#9c179e\"], [0.4444444444444444, \"#bd3786\"], [0.5555555555555556, \"#d8576b\"], [0.6666666666666666, \"#ed7953\"], [0.7777777777777778, \"#fb9f3a\"], [0.8888888888888888, \"#fdca26\"], [1.0, \"#f0f921\"]], \"type\": \"heatmapgl\"}], \"histogram\": [{\"marker\": {\"colorbar\": {\"outlinewidth\": 0, \"ticks\": \"\"}}, \"type\": \"histogram\"}], \"histogram2d\": [{\"colorbar\": {\"outlinewidth\": 0, \"ticks\": \"\"}, \"colorscale\": [[0.0, \"#0d0887\"], [0.1111111111111111, \"#46039f\"], [0.2222222222222222, \"#7201a8\"], [0.3333333333333333, \"#9c179e\"], [0.4444444444444444, \"#bd3786\"], [0.5555555555555556, \"#d8576b\"], [0.6666666666666666, \"#ed7953\"], [0.7777777777777778, \"#fb9f3a\"], [0.8888888888888888, \"#fdca26\"], [1.0, \"#f0f921\"]], \"type\": \"histogram2d\"}], \"histogram2dcontour\": [{\"colorbar\": {\"outlinewidth\": 0, \"ticks\": \"\"}, \"colorscale\": [[0.0, \"#0d0887\"], [0.1111111111111111, \"#46039f\"], [0.2222222222222222, \"#7201a8\"], [0.3333333333333333, \"#9c179e\"], [0.4444444444444444, \"#bd3786\"], [0.5555555555555556, \"#d8576b\"], [0.6666666666666666, \"#ed7953\"], [0.7777777777777778, \"#fb9f3a\"], [0.8888888888888888, \"#fdca26\"], [1.0, \"#f0f921\"]], \"type\": \"histogram2dcontour\"}], \"mesh3d\": [{\"colorbar\": {\"outlinewidth\": 0, \"ticks\": \"\"}, \"type\": \"mesh3d\"}], \"parcoords\": [{\"line\": {\"colorbar\": {\"outlinewidth\": 0, \"ticks\": \"\"}}, \"type\": \"parcoords\"}], \"scatter\": [{\"marker\": {\"colorbar\": {\"outlinewidth\": 0, \"ticks\": \"\"}}, \"type\": \"scatter\"}], \"scatter3d\": [{\"line\": {\"colorbar\": {\"outlinewidth\": 0, \"ticks\": \"\"}}, \"marker\": {\"colorbar\": {\"outlinewidth\": 0, \"ticks\": \"\"}}, \"type\": \"scatter3d\"}], \"scattercarpet\": [{\"marker\": {\"colorbar\": {\"outlinewidth\": 0, \"ticks\": \"\"}}, \"type\": \"scattercarpet\"}], \"scattergeo\": [{\"marker\": {\"colorbar\": {\"outlinewidth\": 0, \"ticks\": \"\"}}, \"type\": \"scattergeo\"}], \"scattergl\": [{\"marker\": {\"colorbar\": {\"outlinewidth\": 0, \"ticks\": \"\"}}, \"type\": \"scattergl\"}], \"scattermapbox\": [{\"marker\": {\"colorbar\": {\"outlinewidth\": 0, \"ticks\": \"\"}}, \"type\": \"scattermapbox\"}], \"scatterpolar\": [{\"marker\": {\"colorbar\": {\"outlinewidth\": 0, \"ticks\": \"\"}}, \"type\": \"scatterpolar\"}], \"scatterpolargl\": [{\"marker\": {\"colorbar\": {\"outlinewidth\": 0, \"ticks\": \"\"}}, \"type\": \"scatterpolargl\"}], \"scatterternary\": [{\"marker\": {\"colorbar\": {\"outlinewidth\": 0, \"ticks\": \"\"}}, \"type\": \"scatterternary\"}], \"surface\": [{\"colorbar\": {\"outlinewidth\": 0, \"ticks\": \"\"}, \"colorscale\": [[0.0, \"#0d0887\"], [0.1111111111111111, \"#46039f\"], [0.2222222222222222, \"#7201a8\"], [0.3333333333333333, \"#9c179e\"], [0.4444444444444444, \"#bd3786\"], [0.5555555555555556, \"#d8576b\"], [0.6666666666666666, \"#ed7953\"], [0.7777777777777778, \"#fb9f3a\"], [0.8888888888888888, \"#fdca26\"], [1.0, \"#f0f921\"]], \"type\": \"surface\"}], \"table\": [{\"cells\": {\"fill\": {\"color\": \"#EBF0F8\"}, \"line\": {\"color\": \"white\"}}, \"header\": {\"fill\": {\"color\": \"#C8D4E3\"}, \"line\": {\"color\": \"white\"}}, \"type\": \"table\"}]}, \"layout\": {\"annotationdefaults\": {\"arrowcolor\": \"#2a3f5f\", \"arrowhead\": 0, \"arrowwidth\": 1}, \"colorscale\": {\"diverging\": [[0, \"#8e0152\"], [0.1, \"#c51b7d\"], [0.2, \"#de77ae\"], [0.3, \"#f1b6da\"], [0.4, \"#fde0ef\"], [0.5, \"#f7f7f7\"], [0.6, \"#e6f5d0\"], [0.7, \"#b8e186\"], [0.8, \"#7fbc41\"], [0.9, \"#4d9221\"], [1, \"#276419\"]], \"sequential\": [[0.0, \"#0d0887\"], [0.1111111111111111, \"#46039f\"], [0.2222222222222222, \"#7201a8\"], [0.3333333333333333, \"#9c179e\"], [0.4444444444444444, \"#bd3786\"], [0.5555555555555556, \"#d8576b\"], [0.6666666666666666, \"#ed7953\"], [0.7777777777777778, \"#fb9f3a\"], [0.8888888888888888, \"#fdca26\"], [1.0, \"#f0f921\"]], \"sequentialminus\": [[0.0, \"#0d0887\"], [0.1111111111111111, \"#46039f\"], [0.2222222222222222, \"#7201a8\"], [0.3333333333333333, \"#9c179e\"], [0.4444444444444444, \"#bd3786\"], [0.5555555555555556, \"#d8576b\"], [0.6666666666666666, \"#ed7953\"], [0.7777777777777778, \"#fb9f3a\"], [0.8888888888888888, \"#fdca26\"], [1.0, \"#f0f921\"]]}, \"colorway\": [\"#636efa\", \"#EF553B\", \"#00cc96\", \"#ab63fa\", \"#FFA15A\", \"#19d3f3\", \"#FF6692\", \"#B6E880\", \"#FF97FF\", \"#FECB52\"], \"font\": {\"color\": \"#2a3f5f\"}, \"geo\": {\"bgcolor\": \"white\", \"lakecolor\": \"white\", \"landcolor\": \"#E5ECF6\", \"showlakes\": true, \"showland\": true, \"subunitcolor\": \"white\"}, \"hoverlabel\": {\"align\": \"left\"}, \"hovermode\": \"closest\", \"mapbox\": {\"style\": \"light\"}, \"paper_bgcolor\": \"white\", \"plot_bgcolor\": \"#E5ECF6\", \"polar\": {\"angularaxis\": {\"gridcolor\": \"white\", \"linecolor\": \"white\", \"ticks\": \"\"}, \"bgcolor\": \"#E5ECF6\", \"radialaxis\": {\"gridcolor\": \"white\", \"linecolor\": \"white\", \"ticks\": \"\"}}, \"scene\": {\"xaxis\": {\"backgroundcolor\": \"#E5ECF6\", \"gridcolor\": \"white\", \"gridwidth\": 2, \"linecolor\": \"white\", \"showbackground\": true, \"ticks\": \"\", \"zerolinecolor\": \"white\"}, \"yaxis\": {\"backgroundcolor\": \"#E5ECF6\", \"gridcolor\": \"white\", \"gridwidth\": 2, \"linecolor\": \"white\", \"showbackground\": true, \"ticks\": \"\", \"zerolinecolor\": \"white\"}, \"zaxis\": {\"backgroundcolor\": \"#E5ECF6\", \"gridcolor\": \"white\", \"gridwidth\": 2, \"linecolor\": \"white\", \"showbackground\": true, \"ticks\": \"\", \"zerolinecolor\": \"white\"}}, \"shapedefaults\": {\"line\": {\"color\": \"#2a3f5f\"}}, \"ternary\": {\"aaxis\": {\"gridcolor\": \"white\", \"linecolor\": \"white\", \"ticks\": \"\"}, \"baxis\": {\"gridcolor\": \"white\", \"linecolor\": \"white\", \"ticks\": \"\"}, \"bgcolor\": \"#E5ECF6\", \"caxis\": {\"gridcolor\": \"white\", \"linecolor\": \"white\", \"ticks\": \"\"}}, \"title\": {\"x\": 0.05}, \"xaxis\": {\"automargin\": true, \"gridcolor\": \"white\", \"linecolor\": \"white\", \"ticks\": \"\", \"zerolinecolor\": \"white\", \"zerolinewidth\": 2}, \"yaxis\": {\"automargin\": true, \"gridcolor\": \"white\", \"linecolor\": \"white\", \"ticks\": \"\", \"zerolinecolor\": \"white\", \"zerolinewidth\": 2}}}, \"title\": {\"text\": \"3D LRP Embedding\"}, \"width\": 1200},\n",
       "                        {\"responsive\": true}\n",
       "                    ).then(function(){\n",
       "                            \n",
       "var gd = document.getElementById('6dc22273-1008-4b3b-ac27-50c77130a395');\n",
       "var x = new MutationObserver(function (mutations, observer) {{\n",
       "        var display = window.getComputedStyle(gd).display;\n",
       "        if (!display || display === 'none') {{\n",
       "            console.log([gd, 'removed!']);\n",
       "            Plotly.purge(gd);\n",
       "            observer.disconnect();\n",
       "        }}\n",
       "}});\n",
       "\n",
       "// Listen for the removal of the full notebook cells\n",
       "var notebookContainer = gd.closest('#notebook-container');\n",
       "if (notebookContainer) {{\n",
       "    x.observe(notebookContainer, {childList: true});\n",
       "}}\n",
       "\n",
       "// Listen for the clearing of the current output cell\n",
       "var outputEl = gd.closest('.output');\n",
       "if (outputEl) {{\n",
       "    x.observe(outputEl, {childList: true});\n",
       "}}\n",
       "\n",
       "                        })\n",
       "                };\n",
       "                });\n",
       "            </script>\n",
       "        </div>"
      ]
     },
     "metadata": {},
     "output_type": "display_data"
    }
   ],
   "source": [
    "plot_3d_lrp(pipeline.training_lrp, colors=pipeline.clusterer.labels_, labels=correct_HR[\"ASD_DX_group\"])"
   ]
  },
  {
   "cell_type": "code",
   "execution_count": 154,
   "metadata": {},
   "outputs": [
    {
     "name": "stderr",
     "output_type": "stream",
     "text": [
      "/Users/Work/anaconda3/envs/condatensor/lib/python3.6/site-packages/ipykernel_launcher.py:1: SettingWithCopyWarning:\n",
      "\n",
      "\n",
      "A value is trying to be set on a copy of a slice from a DataFrame.\n",
      "Try using .loc[row_indexer,col_indexer] = value instead\n",
      "\n",
      "See the caveats in the documentation: http://pandas.pydata.org/pandas-docs/stable/indexing.html#indexing-view-versus-copy\n",
      "\n"
     ]
    },
    {
     "data": {
      "text/html": [
       "<div>\n",
       "<style scoped>\n",
       "    .dataframe tbody tr th:only-of-type {\n",
       "        vertical-align: middle;\n",
       "    }\n",
       "\n",
       "    .dataframe tbody tr th {\n",
       "        vertical-align: top;\n",
       "    }\n",
       "\n",
       "    .dataframe thead th {\n",
       "        text-align: right;\n",
       "    }\n",
       "</style>\n",
       "<table border=\"1\" class=\"dataframe\">\n",
       "  <thead>\n",
       "    <tr style=\"text-align: right;\">\n",
       "      <th></th>\n",
       "      <th>ASD_DX_group</th>\n",
       "      <th>Risk</th>\n",
       "      <th>DNN Clusters</th>\n",
       "    </tr>\n",
       "    <tr>\n",
       "      <th>CandID</th>\n",
       "      <th></th>\n",
       "      <th></th>\n",
       "      <th></th>\n",
       "    </tr>\n",
       "  </thead>\n",
       "  <tbody>\n",
       "    <tr>\n",
       "      <th>172993</th>\n",
       "      <td>ASD</td>\n",
       "      <td>HR</td>\n",
       "      <td>1</td>\n",
       "    </tr>\n",
       "    <tr>\n",
       "      <th>336576</th>\n",
       "      <td>ASD</td>\n",
       "      <td>HR</td>\n",
       "      <td>1</td>\n",
       "    </tr>\n",
       "    <tr>\n",
       "      <th>417879</th>\n",
       "      <td>ASD</td>\n",
       "      <td>HR</td>\n",
       "      <td>1</td>\n",
       "    </tr>\n",
       "    <tr>\n",
       "      <th>638999</th>\n",
       "      <td>ASD</td>\n",
       "      <td>HR</td>\n",
       "      <td>0</td>\n",
       "    </tr>\n",
       "    <tr>\n",
       "      <th>552855</th>\n",
       "      <td>ASD</td>\n",
       "      <td>HR</td>\n",
       "      <td>-1</td>\n",
       "    </tr>\n",
       "    <tr>\n",
       "      <th>160209</th>\n",
       "      <td>ASD</td>\n",
       "      <td>HR</td>\n",
       "      <td>1</td>\n",
       "    </tr>\n",
       "    <tr>\n",
       "      <th>174982</th>\n",
       "      <td>ASD</td>\n",
       "      <td>HR</td>\n",
       "      <td>0</td>\n",
       "    </tr>\n",
       "    <tr>\n",
       "      <th>241033</th>\n",
       "      <td>ASD</td>\n",
       "      <td>HR</td>\n",
       "      <td>1</td>\n",
       "    </tr>\n",
       "    <tr>\n",
       "      <th>747349</th>\n",
       "      <td>ASD</td>\n",
       "      <td>HR</td>\n",
       "      <td>1</td>\n",
       "    </tr>\n",
       "    <tr>\n",
       "      <th>553295</th>\n",
       "      <td>ASD</td>\n",
       "      <td>HR</td>\n",
       "      <td>1</td>\n",
       "    </tr>\n",
       "    <tr>\n",
       "      <th>526558</th>\n",
       "      <td>ASD</td>\n",
       "      <td>HR</td>\n",
       "      <td>-1</td>\n",
       "    </tr>\n",
       "    <tr>\n",
       "      <th>107524</th>\n",
       "      <td>ASD</td>\n",
       "      <td>HR</td>\n",
       "      <td>1</td>\n",
       "    </tr>\n",
       "    <tr>\n",
       "      <th>298555</th>\n",
       "      <td>ASD</td>\n",
       "      <td>HR</td>\n",
       "      <td>1</td>\n",
       "    </tr>\n",
       "    <tr>\n",
       "      <th>569748</th>\n",
       "      <td>ASD</td>\n",
       "      <td>HR</td>\n",
       "      <td>1</td>\n",
       "    </tr>\n",
       "    <tr>\n",
       "      <th>950194</th>\n",
       "      <td>ASD</td>\n",
       "      <td>HR</td>\n",
       "      <td>1</td>\n",
       "    </tr>\n",
       "    <tr>\n",
       "      <th>138494</th>\n",
       "      <td>ASD</td>\n",
       "      <td>HR</td>\n",
       "      <td>1</td>\n",
       "    </tr>\n",
       "    <tr>\n",
       "      <th>456823</th>\n",
       "      <td>ASD</td>\n",
       "      <td>HR</td>\n",
       "      <td>1</td>\n",
       "    </tr>\n",
       "    <tr>\n",
       "      <th>841812</th>\n",
       "      <td>ASD</td>\n",
       "      <td>HR</td>\n",
       "      <td>0</td>\n",
       "    </tr>\n",
       "    <tr>\n",
       "      <th>983222</th>\n",
       "      <td>ASD</td>\n",
       "      <td>HR</td>\n",
       "      <td>1</td>\n",
       "    </tr>\n",
       "    <tr>\n",
       "      <th>490878</th>\n",
       "      <td>ASD</td>\n",
       "      <td>HR</td>\n",
       "      <td>1</td>\n",
       "    </tr>\n",
       "    <tr>\n",
       "      <th>751794</th>\n",
       "      <td>ASD</td>\n",
       "      <td>HR</td>\n",
       "      <td>-1</td>\n",
       "    </tr>\n",
       "    <tr>\n",
       "      <th>175448</th>\n",
       "      <td>ASD</td>\n",
       "      <td>HR</td>\n",
       "      <td>1</td>\n",
       "    </tr>\n",
       "    <tr>\n",
       "      <th>443584</th>\n",
       "      <td>ASD</td>\n",
       "      <td>HR</td>\n",
       "      <td>1</td>\n",
       "    </tr>\n",
       "    <tr>\n",
       "      <th>998384</th>\n",
       "      <td>ASD</td>\n",
       "      <td>HR</td>\n",
       "      <td>-1</td>\n",
       "    </tr>\n",
       "    <tr>\n",
       "      <th>859176</th>\n",
       "      <td>ASD</td>\n",
       "      <td>HR</td>\n",
       "      <td>1</td>\n",
       "    </tr>\n",
       "  </tbody>\n",
       "</table>\n",
       "</div>"
      ],
      "text/plain": [
       "       ASD_DX_group Risk  DNN Clusters\n",
       "CandID                                \n",
       "172993          ASD   HR             1\n",
       "336576          ASD   HR             1\n",
       "417879          ASD   HR             1\n",
       "638999          ASD   HR             0\n",
       "552855          ASD   HR            -1\n",
       "160209          ASD   HR             1\n",
       "174982          ASD   HR             0\n",
       "241033          ASD   HR             1\n",
       "747349          ASD   HR             1\n",
       "553295          ASD   HR             1\n",
       "526558          ASD   HR            -1\n",
       "107524          ASD   HR             1\n",
       "298555          ASD   HR             1\n",
       "569748          ASD   HR             1\n",
       "950194          ASD   HR             1\n",
       "138494          ASD   HR             1\n",
       "456823          ASD   HR             1\n",
       "841812          ASD   HR             0\n",
       "983222          ASD   HR             1\n",
       "490878          ASD   HR             1\n",
       "751794          ASD   HR            -1\n",
       "175448          ASD   HR             1\n",
       "443584          ASD   HR             1\n",
       "998384          ASD   HR            -1\n",
       "859176          ASD   HR             1"
      ]
     },
     "execution_count": 154,
     "metadata": {},
     "output_type": "execute_result"
    }
   ],
   "source": [
    "correct_HR[\"DNN Clusters\"] = pipeline.clusterer.labels_\n",
    "correct_HR"
   ]
  },
  {
   "cell_type": "code",
   "execution_count": 155,
   "metadata": {},
   "outputs": [],
   "source": [
    "correct_HR.to_csv(\"csf_only_correct.csv\")"
   ]
  },
  {
   "cell_type": "code",
   "execution_count": 30,
   "metadata": {},
   "outputs": [],
   "source": [
    "orig_labels = analysis_labels.loc[reindexed_labels.index]\n",
    "orig_labels[\"DNN Pred\"] = pipeline.predictions\n",
    "orig_HR = orig_labels[orig_labels[\"Risk\"]==\"HR\"]"
   ]
  },
  {
   "cell_type": "code",
   "execution_count": 31,
   "metadata": {},
   "outputs": [
    {
     "data": {
      "text/html": [
       "<div>\n",
       "<style scoped>\n",
       "    .dataframe tbody tr th:only-of-type {\n",
       "        vertical-align: middle;\n",
       "    }\n",
       "\n",
       "    .dataframe tbody tr th {\n",
       "        vertical-align: top;\n",
       "    }\n",
       "\n",
       "    .dataframe thead th {\n",
       "        text-align: right;\n",
       "    }\n",
       "</style>\n",
       "<table border=\"1\" class=\"dataframe\">\n",
       "  <thead>\n",
       "    <tr style=\"text-align: right;\">\n",
       "      <th></th>\n",
       "      <th>ASD_DX_group</th>\n",
       "      <th>Risk</th>\n",
       "      <th>DNN Pred</th>\n",
       "    </tr>\n",
       "    <tr>\n",
       "      <th>CandID</th>\n",
       "      <th></th>\n",
       "      <th></th>\n",
       "      <th></th>\n",
       "    </tr>\n",
       "  </thead>\n",
       "  <tbody>\n",
       "    <tr>\n",
       "      <th>172993</th>\n",
       "      <td>ASD</td>\n",
       "      <td>HR</td>\n",
       "      <td>0.0</td>\n",
       "    </tr>\n",
       "    <tr>\n",
       "      <th>336576</th>\n",
       "      <td>ASD</td>\n",
       "      <td>HR</td>\n",
       "      <td>0.0</td>\n",
       "    </tr>\n",
       "    <tr>\n",
       "      <th>417879</th>\n",
       "      <td>ASD</td>\n",
       "      <td>HR</td>\n",
       "      <td>0.0</td>\n",
       "    </tr>\n",
       "    <tr>\n",
       "      <th>597653</th>\n",
       "      <td>ASD</td>\n",
       "      <td>HR</td>\n",
       "      <td>0.0</td>\n",
       "    </tr>\n",
       "    <tr>\n",
       "      <th>638999</th>\n",
       "      <td>ASD</td>\n",
       "      <td>HR</td>\n",
       "      <td>0.0</td>\n",
       "    </tr>\n",
       "  </tbody>\n",
       "</table>\n",
       "</div>"
      ],
      "text/plain": [
       "       ASD_DX_group Risk  DNN Pred\n",
       "CandID                            \n",
       "172993          ASD   HR       0.0\n",
       "336576          ASD   HR       0.0\n",
       "417879          ASD   HR       0.0\n",
       "597653          ASD   HR       0.0\n",
       "638999          ASD   HR       0.0"
      ]
     },
     "execution_count": 31,
     "metadata": {},
     "output_type": "execute_result"
    }
   ],
   "source": [
    "orig_HR.head()"
   ]
  },
  {
   "cell_type": "code",
   "execution_count": 32,
   "metadata": {},
   "outputs": [
    {
     "data": {
      "text/html": [
       "<div>\n",
       "<style scoped>\n",
       "    .dataframe tbody tr th:only-of-type {\n",
       "        vertical-align: middle;\n",
       "    }\n",
       "\n",
       "    .dataframe tbody tr th {\n",
       "        vertical-align: top;\n",
       "    }\n",
       "\n",
       "    .dataframe thead th {\n",
       "        text-align: right;\n",
       "    }\n",
       "</style>\n",
       "<table border=\"1\" class=\"dataframe\">\n",
       "  <thead>\n",
       "    <tr style=\"text-align: right;\">\n",
       "      <th></th>\n",
       "      <th>Correct</th>\n",
       "      <th>Incorrect</th>\n",
       "    </tr>\n",
       "  </thead>\n",
       "  <tbody>\n",
       "    <tr>\n",
       "      <th>ASD</th>\n",
       "      <td>22</td>\n",
       "      <td>33</td>\n",
       "    </tr>\n",
       "  </tbody>\n",
       "</table>\n",
       "</div>"
      ],
      "text/plain": [
       "     Correct  Incorrect\n",
       "ASD       22         33"
      ]
     },
     "execution_count": 32,
     "metadata": {},
     "output_type": "execute_result"
    }
   ],
   "source": [
    "_counts=[]\n",
    "names=[]\n",
    "for name, subgroup in orig_HR.groupby(by=\"ASD_DX_group\"):\n",
    "    names.append(name)\n",
    "    _cnt = subgroup[\"DNN Pred\"].value_counts()\n",
    "    _counts.append([_cnt[0.0], _cnt[1.0]])\n",
    "#     print(name, subgroup[\"DNN Pred\"].value_counts(), sep=\"\\n\")\n",
    "\n",
    "dnn_predictions = pd.DataFrame(_counts, columns=[\"Correct\",\"Incorrect\"], index=names)\n",
    "dnn_predictions"
   ]
  },
  {
   "cell_type": "code",
   "execution_count": 33,
   "metadata": {},
   "outputs": [],
   "source": [
    "norm_pred = dnn_predictions.div(dnn_predictions.sum(axis=1), axis=\"index\")"
   ]
  },
  {
   "cell_type": "code",
   "execution_count": 34,
   "metadata": {},
   "outputs": [
    {
     "data": {
      "text/plain": [
       "<matplotlib.axes._subplots.AxesSubplot at 0x1a3789d208>"
      ]
     },
     "execution_count": 34,
     "metadata": {},
     "output_type": "execute_result"
    },
    {
     "data": {
      "image/png": "[encoded data removed]",
      "text/plain": [
       "<Figure size 1152x576 with 1 Axes>"
      ]
     },
     "metadata": {
      "needs_background": "light"
     },
     "output_type": "display_data"
    }
   ],
   "source": [
    "dnn_predictions.T.plot(kind=\"bar\", figsize=(16,8), grid=True, title=\"Predictions\")"
   ]
  },
  {
   "cell_type": "code",
   "execution_count": null,
   "metadata": {},
   "outputs": [],
   "source": [
    "## "
   ]
  },
  {
   "cell_type": "markdown",
   "metadata": {},
   "source": [
    "# Performing Feature Reduction"
   ]
  },
  {
   "cell_type": "code",
   "execution_count": 49,
   "metadata": {},
   "outputs": [],
   "source": [
    "def get_relevant_cols(df, thresh = 1e-2):\n",
    "\n",
    "    all_above_thresh = (df < thresh).all(0) #Check if all values in columns satisfy the criteria\n",
    "    max_above_thresh = (df.max() < thresh)\n",
    "    quantile_above_thresh = (df.quantile(0.7) <= thresh) #IF most of the lrps are below thresh\n",
    "\n",
    "    criteria = quantile_above_thresh\n",
    "    irrelevant_cols = df.columns[criteria] \n",
    "    irrelevant_cols\n",
    "    \n",
    "    relevant_features_only = df.drop(columns = irrelevant_cols)\n",
    "    \n",
    "    return relevant_features_only"
   ]
  },
  {
   "cell_type": "code",
   "execution_count": 42,
   "metadata": {},
   "outputs": [
    {
     "data": {
      "text/plain": [
       "<matplotlib.axes._subplots.AxesSubplot at 0x1a3a254cf8>"
      ]
     },
     "execution_count": 42,
     "metadata": {},
     "output_type": "execute_result"
    },
    {
     "data": {
      "image/png": "[encoded data removed]",
      "text/plain": [
       "<Figure size 1728x576 with 1 Axes>"
      ]
     },
     "metadata": {
      "needs_background": "light"
     },
     "output_type": "display_data"
    }
   ],
   "source": [
    "lrp_ = pd.DataFrame(pipeline.training_lrp)\n",
    "metrics_ = lrp_.describe().loc[[\"mean\",\"75%\",\"max\"]]\n",
    "\n",
    "srtd_metrics = metrics_.sort_values(by=[\"mean\"], axis=1)\n",
    "srtd_metrics.plot(kind=\"bar\", figsize=(24,8), legend=False, grid=True)"
   ]
  },
  {
   "cell_type": "code",
   "execution_count": 37,
   "metadata": {},
   "outputs": [
    {
     "data": {
      "text/plain": [
       "<matplotlib.axes._subplots.AxesSubplot at 0x1a3b9cdb70>"
      ]
     },
     "execution_count": 37,
     "metadata": {},
     "output_type": "execute_result"
    },
    {
     "data": {
      "image/png": "[encoded data removed]",
      "text/plain": [
       "<Figure size 1152x432 with 1 Axes>"
      ]
     },
     "metadata": {
      "needs_background": "light"
     },
     "output_type": "display_data"
    }
   ],
   "source": [
    "# Get top-K features for the given metric\n",
    "K = 10\n",
    "metric_fn = lambda x: x.quantile(0.5).sort_values(ascending=False)[:K]\n",
    "\n",
    "lrp_metric = metric_fn(lrp_)\n",
    "lrp_metric.plot(kind=\"bar\", figsize=(16,6), legend=False, grid=True)"
   ]
  },
  {
   "cell_type": "code",
   "execution_count": 45,
   "metadata": {},
   "outputs": [],
   "source": [
    "# metrics_.loc[\"mean\"]"
   ]
  },
  {
   "cell_type": "code",
   "execution_count": 66,
   "metadata": {},
   "outputs": [
    {
     "name": "stdout",
     "output_type": "stream",
     "text": [
      "Thresh: 0.001976322047052846\n",
      "Int64Index([4, 30, 56, 68], dtype='int64') 4\n"
     ]
    }
   ],
   "source": [
    "global_thresh = metrics_.loc[\"mean\"].mean() + 3*metrics_.loc[\"mean\"].std()\n",
    "#     thresh = _clustered.quantile(0.8).quantile(0.5)\n",
    "print(\"Thresh:\", global_thresh)\n",
    "reduced_cols = get_relevant_cols(lrp_, thresh=global_thresh).columns\n",
    "print(reduced_cols, len(reduced_cols))"
   ]
  },
  {
   "cell_type": "markdown",
   "metadata": {},
   "source": [
    "## Getting correctly predictied samples form target class"
   ]
  },
  {
   "cell_type": "code",
   "execution_count": 54,
   "metadata": {},
   "outputs": [
    {
     "data": {
      "text/html": [
       "<div>\n",
       "<style scoped>\n",
       "    .dataframe tbody tr th:only-of-type {\n",
       "        vertical-align: middle;\n",
       "    }\n",
       "\n",
       "    .dataframe tbody tr th {\n",
       "        vertical-align: top;\n",
       "    }\n",
       "\n",
       "    .dataframe thead th {\n",
       "        text-align: right;\n",
       "    }\n",
       "</style>\n",
       "<table border=\"1\" class=\"dataframe\">\n",
       "  <thead>\n",
       "    <tr style=\"text-align: right;\">\n",
       "      <th></th>\n",
       "      <th>Hippocampus right</th>\n",
       "      <th>Hippocampus left</th>\n",
       "      <th>Amygdala right</th>\n",
       "      <th>Amygdala left</th>\n",
       "      <th>Anterior temporal lobe - medial right</th>\n",
       "      <th>Anterior temporal lobe - medial part left</th>\n",
       "      <th>Anterior temporal lobe - lateral right</th>\n",
       "      <th>Anterior temporal lobe - lateral left</th>\n",
       "      <th>Gyri parahippocampalis et ambiens right</th>\n",
       "      <th>Gyri parahippocampalis et ambiens left</th>\n",
       "      <th>...</th>\n",
       "      <th>Substantial nigra left</th>\n",
       "      <th>Substantial nigra right</th>\n",
       "      <th>Subgenual frontal cortex left</th>\n",
       "      <th>Subgenual frontal cortex right</th>\n",
       "      <th>Subcallosal area left</th>\n",
       "      <th>Subcallosal area right</th>\n",
       "      <th>Pre-subgenual frontal cortex left</th>\n",
       "      <th>Pre-subgenual frontal cortex left right</th>\n",
       "      <th>Superior temporal gyrus - anterior left</th>\n",
       "      <th>Superior temporal gyrus - anterior left right</th>\n",
       "    </tr>\n",
       "    <tr>\n",
       "      <th>CandID</th>\n",
       "      <th></th>\n",
       "      <th></th>\n",
       "      <th></th>\n",
       "      <th></th>\n",
       "      <th></th>\n",
       "      <th></th>\n",
       "      <th></th>\n",
       "      <th></th>\n",
       "      <th></th>\n",
       "      <th></th>\n",
       "      <th></th>\n",
       "      <th></th>\n",
       "      <th></th>\n",
       "      <th></th>\n",
       "      <th></th>\n",
       "      <th></th>\n",
       "      <th></th>\n",
       "      <th></th>\n",
       "      <th></th>\n",
       "      <th></th>\n",
       "      <th></th>\n",
       "    </tr>\n",
       "  </thead>\n",
       "  <tbody>\n",
       "    <tr>\n",
       "      <th>172993</th>\n",
       "      <td>235</td>\n",
       "      <td>62</td>\n",
       "      <td>124</td>\n",
       "      <td>72</td>\n",
       "      <td>1041</td>\n",
       "      <td>723</td>\n",
       "      <td>714</td>\n",
       "      <td>725</td>\n",
       "      <td>199</td>\n",
       "      <td>157</td>\n",
       "      <td>...</td>\n",
       "      <td>11</td>\n",
       "      <td>0</td>\n",
       "      <td>37</td>\n",
       "      <td>20</td>\n",
       "      <td>10</td>\n",
       "      <td>0</td>\n",
       "      <td>49</td>\n",
       "      <td>2</td>\n",
       "      <td>641</td>\n",
       "      <td>547</td>\n",
       "    </tr>\n",
       "    <tr>\n",
       "      <th>336576</th>\n",
       "      <td>127</td>\n",
       "      <td>73</td>\n",
       "      <td>66</td>\n",
       "      <td>22</td>\n",
       "      <td>984</td>\n",
       "      <td>1364</td>\n",
       "      <td>766</td>\n",
       "      <td>670</td>\n",
       "      <td>160</td>\n",
       "      <td>257</td>\n",
       "      <td>...</td>\n",
       "      <td>11</td>\n",
       "      <td>0</td>\n",
       "      <td>65</td>\n",
       "      <td>12</td>\n",
       "      <td>9</td>\n",
       "      <td>1</td>\n",
       "      <td>33</td>\n",
       "      <td>5</td>\n",
       "      <td>1238</td>\n",
       "      <td>1213</td>\n",
       "    </tr>\n",
       "    <tr>\n",
       "      <th>417879</th>\n",
       "      <td>139</td>\n",
       "      <td>114</td>\n",
       "      <td>35</td>\n",
       "      <td>49</td>\n",
       "      <td>1187</td>\n",
       "      <td>1734</td>\n",
       "      <td>661</td>\n",
       "      <td>672</td>\n",
       "      <td>172</td>\n",
       "      <td>241</td>\n",
       "      <td>...</td>\n",
       "      <td>7</td>\n",
       "      <td>0</td>\n",
       "      <td>84</td>\n",
       "      <td>31</td>\n",
       "      <td>36</td>\n",
       "      <td>3</td>\n",
       "      <td>53</td>\n",
       "      <td>5</td>\n",
       "      <td>1531</td>\n",
       "      <td>1196</td>\n",
       "    </tr>\n",
       "    <tr>\n",
       "      <th>597653</th>\n",
       "      <td>193</td>\n",
       "      <td>166</td>\n",
       "      <td>49</td>\n",
       "      <td>126</td>\n",
       "      <td>1207</td>\n",
       "      <td>712</td>\n",
       "      <td>635</td>\n",
       "      <td>489</td>\n",
       "      <td>212</td>\n",
       "      <td>229</td>\n",
       "      <td>...</td>\n",
       "      <td>4</td>\n",
       "      <td>1</td>\n",
       "      <td>35</td>\n",
       "      <td>32</td>\n",
       "      <td>14</td>\n",
       "      <td>4</td>\n",
       "      <td>56</td>\n",
       "      <td>2</td>\n",
       "      <td>744</td>\n",
       "      <td>814</td>\n",
       "    </tr>\n",
       "    <tr>\n",
       "      <th>638999</th>\n",
       "      <td>235</td>\n",
       "      <td>108</td>\n",
       "      <td>49</td>\n",
       "      <td>60</td>\n",
       "      <td>993</td>\n",
       "      <td>1179</td>\n",
       "      <td>877</td>\n",
       "      <td>719</td>\n",
       "      <td>162</td>\n",
       "      <td>198</td>\n",
       "      <td>...</td>\n",
       "      <td>18</td>\n",
       "      <td>1</td>\n",
       "      <td>98</td>\n",
       "      <td>27</td>\n",
       "      <td>28</td>\n",
       "      <td>4</td>\n",
       "      <td>70</td>\n",
       "      <td>10</td>\n",
       "      <td>1062</td>\n",
       "      <td>680</td>\n",
       "    </tr>\n",
       "  </tbody>\n",
       "</table>\n",
       "<p>5 rows × 83 columns</p>\n",
       "</div>"
      ],
      "text/plain": [
       "        Hippocampus right   Hippocampus left  Amygdala right   Amygdala left  \\\n",
       "CandID                                                                         \n",
       "172993                235                 62             124              72   \n",
       "336576                127                 73              66              22   \n",
       "417879                139                114              35              49   \n",
       "597653                193                166              49             126   \n",
       "638999                235                108              49              60   \n",
       "\n",
       "        Anterior temporal lobe - medial right  \\\n",
       "CandID                                          \n",
       "172993                                   1041   \n",
       "336576                                    984   \n",
       "417879                                   1187   \n",
       "597653                                   1207   \n",
       "638999                                    993   \n",
       "\n",
       "        Anterior temporal lobe - medial part left  \\\n",
       "CandID                                              \n",
       "172993                                        723   \n",
       "336576                                       1364   \n",
       "417879                                       1734   \n",
       "597653                                        712   \n",
       "638999                                       1179   \n",
       "\n",
       "        Anterior temporal lobe - lateral right  \\\n",
       "CandID                                           \n",
       "172993                                     714   \n",
       "336576                                     766   \n",
       "417879                                     661   \n",
       "597653                                     635   \n",
       "638999                                     877   \n",
       "\n",
       "        Anterior temporal lobe - lateral left  \\\n",
       "CandID                                          \n",
       "172993                                    725   \n",
       "336576                                    670   \n",
       "417879                                    672   \n",
       "597653                                    489   \n",
       "638999                                    719   \n",
       "\n",
       "        Gyri parahippocampalis et ambiens right  \\\n",
       "CandID                                            \n",
       "172993                                      199   \n",
       "336576                                      160   \n",
       "417879                                      172   \n",
       "597653                                      212   \n",
       "638999                                      162   \n",
       "\n",
       "        Gyri parahippocampalis et ambiens left  ...  Substantial nigra left  \\\n",
       "CandID                                          ...                           \n",
       "172993                                     157  ...                      11   \n",
       "336576                                     257  ...                      11   \n",
       "417879                                     241  ...                       7   \n",
       "597653                                     229  ...                       4   \n",
       "638999                                     198  ...                      18   \n",
       "\n",
       "        Substantial nigra right  Subgenual frontal cortex left  \\\n",
       "CandID                                                           \n",
       "172993                        0                             37   \n",
       "336576                        0                             65   \n",
       "417879                        0                             84   \n",
       "597653                        1                             35   \n",
       "638999                        1                             98   \n",
       "\n",
       "        Subgenual frontal cortex right  Subcallosal area left  \\\n",
       "CandID                                                          \n",
       "172993                              20                     10   \n",
       "336576                              12                      9   \n",
       "417879                              31                     36   \n",
       "597653                              32                     14   \n",
       "638999                              27                     28   \n",
       "\n",
       "        Subcallosal area right  Pre-subgenual frontal cortex left  \\\n",
       "CandID                                                              \n",
       "172993                       0                                 49   \n",
       "336576                       1                                 33   \n",
       "417879                       3                                 53   \n",
       "597653                       4                                 56   \n",
       "638999                       4                                 70   \n",
       "\n",
       "         Pre-subgenual frontal cortex left right  \\\n",
       "CandID                                             \n",
       "172993                                         2   \n",
       "336576                                         5   \n",
       "417879                                         5   \n",
       "597653                                         2   \n",
       "638999                                        10   \n",
       "\n",
       "        Superior temporal gyrus - anterior left  \\\n",
       "CandID                                            \n",
       "172993                                      641   \n",
       "336576                                     1238   \n",
       "417879                                     1531   \n",
       "597653                                      744   \n",
       "638999                                     1062   \n",
       "\n",
       "        Superior temporal gyrus - anterior left right  \n",
       "CandID                                                 \n",
       "172993                                            547  \n",
       "336576                                           1213  \n",
       "417879                                           1196  \n",
       "597653                                            814  \n",
       "638999                                            680  \n",
       "\n",
       "[5 rows x 83 columns]"
      ]
     },
     "execution_count": 54,
     "metadata": {},
     "output_type": "execute_result"
    }
   ],
   "source": [
    "subcluster_labels = range(0,max(pipeline.clusterer.labels_)+1)\n",
    "\n",
    "# Get testing samples from cross validation\n",
    "reindexer = pipeline.testing_idxs\n",
    "\n",
    "# That were correctly predicted\n",
    "correct_preds = pipeline.correct_preds_bool_arr\n",
    "\n",
    "# Separating Control from Target\n",
    "target_samples  = train_labels.iloc[reindexer][correct_preds] == pipeline.target_class\n",
    "control_samples = ~target_samples\n",
    "\n",
    "target_class_features = train_data.iloc[reindexer][correct_preds][target_samples]\n",
    "target_class_labels   = train_labels.iloc[reindexer][correct_preds][target_samples]\n",
    "target_class_features.head()"
   ]
  },
  {
   "cell_type": "code",
   "execution_count": 55,
   "metadata": {},
   "outputs": [
    {
     "data": {
      "text/plain": [
       "(22, 83)"
      ]
     },
     "execution_count": 55,
     "metadata": {},
     "output_type": "execute_result"
    }
   ],
   "source": [
    "target_class_features.shape"
   ]
  },
  {
   "cell_type": "code",
   "execution_count": 59,
   "metadata": {},
   "outputs": [
    {
     "name": "stdout",
     "output_type": "stream",
     "text": [
      "Cluster: 0\n",
      "Size: 4\n",
      "Cluster: 1\n",
      "Size: 5\n",
      "Cluster: 2\n",
      "Size: 12\n"
     ]
    },
    {
     "data": {
      "image/png": "[encoded data removed]",
      "text/plain": [
       "<Figure size 1728x576 with 1 Axes>"
      ]
     },
     "metadata": {
      "needs_background": "light"
     },
     "output_type": "display_data"
    },
    {
     "data": {
      "image/png": "[encoded data removed]",
      "text/plain": [
       "<Figure size 1728x576 with 1 Axes>"
      ]
     },
     "metadata": {
      "needs_background": "light"
     },
     "output_type": "display_data"
    },
    {
     "data": {
      "image/png": "[encoded data removed]",
      "text/plain": [
       "<Figure size 1728x576 with 1 Axes>"
      ]
     },
     "metadata": {
      "needs_background": "light"
     },
     "output_type": "display_data"
    }
   ],
   "source": [
    "cluster_rels = {}\n",
    "cluster_metrics = {}\n",
    "\n",
    "for cluster_label in subcluster_labels:\n",
    "    \n",
    "    print(\"Cluster:\", cluster_label)\n",
    "#     tsamples = target_class_features[(pipeline.clusterer.labels_ == cluster_label)]\n",
    "    tlabels  = target_class_labels[(pipeline.clusterer.labels_ == cluster_label)]\n",
    "    print(\"Size:\", tlabels.shape[0])\n",
    "    \n",
    "    _clustered = pd.DataFrame(pipeline.training_lrp[(pipeline.clusterer.labels_ == cluster_label)],\n",
    "                              columns = train_data.columns)\n",
    "#   \n",
    "    _metrics = _clustered.describe().loc[[\"mean\",\"75%\",\"max\"]]\n",
    "    srtd_metrics = _metrics.sort_values(by=[\"mean\", \"75%\", \"max\"], axis=1)\n",
    "    srtd_metrics.plot(kind=\"bar\", figsize=(24,8), legend=False, grid=True)\n",
    "    \n",
    "    cluster_metrics[cluster_label] = _metrics.T\n",
    "    cluster_rels[cluster_label] = _clustered"
   ]
  },
  {
   "cell_type": "markdown",
   "metadata": {},
   "source": [
    "## Individual metric histograms for each cluster"
   ]
  },
  {
   "cell_type": "code",
   "execution_count": 57,
   "metadata": {},
   "outputs": [
    {
     "data": {
      "text/plain": [
       "0.000705046666465234"
      ]
     },
     "execution_count": 57,
     "metadata": {},
     "output_type": "execute_result"
    }
   ],
   "source": [
    "cluster_metrics[0][\"mean\"].std()"
   ]
  },
  {
   "cell_type": "code",
   "execution_count": 58,
   "metadata": {},
   "outputs": [
    {
     "data": {
      "text/plain": [
       "Text(0.5, 0, 'Relevances')"
      ]
     },
     "execution_count": 58,
     "metadata": {},
     "output_type": "execute_result"
    },
    {
     "data": {
      "image/png": "[encoded data removed]",
      "text/plain": [
       "<Figure size 1440x576 with 1 Axes>"
      ]
     },
     "metadata": {
      "needs_background": "light"
     },
     "output_type": "display_data"
    }
   ],
   "source": [
    "# Looks like (exponential) pareto...\n",
    "\n",
    "ax = cluster_metrics[0][\"mean\"].plot(kind=\"hist\", figsize=(20,8), bins=15, grid=True, title=\"Distribution of Means\") \n",
    "ax.set_xlabel(\"Relevances\")"
   ]
  },
  {
   "cell_type": "code",
   "execution_count": 60,
   "metadata": {},
   "outputs": [
    {
     "data": {
      "text/plain": [
       "Text(0.5, 0, 'Relevances')"
      ]
     },
     "execution_count": 60,
     "metadata": {},
     "output_type": "execute_result"
    },
    {
     "data": {
      "image/png": "[encoded data removed]",
      "text/plain": [
       "<Figure size 1440x576 with 1 Axes>"
      ]
     },
     "metadata": {
      "needs_background": "light"
     },
     "output_type": "display_data"
    }
   ],
   "source": [
    "ax = cluster_metrics[2][\"mean\"].plot(kind=\"hist\", figsize=(20,8), bins=15, grid=True, title=\"Distribution of Means\") \n",
    "ax.set_xlabel(\"Relevances\")"
   ]
  },
  {
   "cell_type": "markdown",
   "metadata": {},
   "source": [
    "## Grabbing columns that were significantly more importnat than the global average LRP"
   ]
  },
  {
   "cell_type": "code",
   "execution_count": 65,
   "metadata": {},
   "outputs": [
    {
     "name": "stdout",
     "output_type": "stream",
     "text": [
      "Index([' Amygdala left', 'Anterior temporal lobe - medial right',\n",
      "       'Anterior temporal lobe - lateral right',\n",
      "       'Gyri parahippocampalis et ambiens right',\n",
      "       'Gyri parahippocampalis et ambiens left',\n",
      "       'Lateral occipitotemporal gyrus fusiformis left', 'Cerebellum left',\n",
      "       'Brainstem', 'Occipital lobe left', 'Occipital lobe right',\n",
      "       'Cingulate gyrus - anterior right', 'Frontal lobe left',\n",
      "       'Posterior temporal lobe right', 'Nucleus accumbens left',\n",
      "       'Lateral ventricle frontal-central-occipital right',\n",
      "       'Lateral ventricle frontal-central-occipital left',\n",
      "       'Lateral ventricle temporal right', 'Third ventricle',\n",
      "       'Precentral gyrus left', 'Straight gyrus rectus right',\n",
      "       'Inferior frontal gyrus left', 'Inferior frontal right',\n",
      "       'Superior parietal gyrus left', 'Lingual gyrus left',\n",
      "       'Lingual gyrus right', 'Medial orbital gyrus left',\n",
      "       'Medial orbital gyrus right', 'Lateral orbital gyrus left',\n",
      "       'Lateral orbital gyrus right', 'Posterior orbital gyrus right',\n",
      "       'Substantial nigra right', 'Subcallosal area left',\n",
      "       'Subcallosal area right', ' Pre-subgenual frontal cortex left right'],\n",
      "      dtype='object') 34\n",
      "Index(['Anterior temporal lobe - lateral right',\n",
      "       'Anterior temporal lobe - lateral left',\n",
      "       'Superior temporal gyrus - posterior left',\n",
      "       'Medial and inferior temporal gyri left', 'Third ventricle',\n",
      "       'Precentral gyrus left', 'Anterior orbital gyrus left',\n",
      "       'Inferior frontal gyrus left', 'Superior frontal right',\n",
      "       'Superior parietal gyrus left', 'Lingual gyrus right',\n",
      "       'Medial orbital gyrus right', 'Posterior orbital gyrus right',\n",
      "       'Subcallosal area left'],\n",
      "      dtype='object') 14\n",
      "Index(['Anterior temporal lobe - medial right',\n",
      "       'Posterior temporal lobe right', 'Medial orbital gyrus right'],\n",
      "      dtype='object') 3\n"
     ]
    }
   ],
   "source": [
    "for cluster_label in subcluster_labels:\n",
    "\n",
    "#     thresh = cluster_metrics[cluster_label][\"mean\"].mean() + 2*cluster_metrics[0][\"mean\"].std()\n",
    "# #     thresh = _clustered.quantile(0.8).quantile(0.5)\n",
    "#     print(\"Thresh:\", thresh)\n",
    "    \n",
    "    reduced_cols = get_relevant_cols(cluster_rels[cluster_label], thresh=global_thresh).columns\n",
    "    print(reduced_cols, len(reduced_cols))"
   ]
  },
  {
   "cell_type": "code",
   "execution_count": null,
   "metadata": {},
   "outputs": [],
   "source": []
  }
 ],
 "metadata": {
  "kernelspec": {
   "display_name": "Python (condatensor)",
   "language": "python",
   "name": "condatensor"
  },
  "language_info": {
   "codemirror_mode": {
    "name": "ipython",
    "version": 3
   },
   "file_extension": ".py",
   "mimetype": "text/x-python",
   "name": "python",
   "nbconvert_exporter": "python",
   "pygments_lexer": "ipython3",
   "version": "3.6.8"
  }
 },
 "nbformat": 4,
 "nbformat_minor": 4
}
