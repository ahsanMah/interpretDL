{
 "cells": [
  {
   "cell_type": "code",
   "execution_count": 1,
   "metadata": {},
   "outputs": [],
   "source": [
    "# Magic line to force reload all modules when this cell is run multiple times\n",
    "# %load_ext autoreload\n",
    "# %autoreload 2\n",
    "\n",
    "import sys, os\n",
    "sys.path.insert(0, os.path.expanduser(\"~/Developer/interpretDL/Pipeline\"))"
   ]
  },
  {
   "cell_type": "code",
   "execution_count": 2,
   "metadata": {},
   "outputs": [
    {
     "data": {
      "text/html": [
       "        <script type=\"text/javascript\">\n",
       "        window.PlotlyConfig = {MathJaxConfig: 'local'};\n",
       "        if (window.MathJax) {MathJax.Hub.Config({SVG: {font: \"STIX-Web\"}});}\n",
       "        if (typeof require !== 'undefined') {\n",
       "        require.undef(\"plotly\");\n",
       "        requirejs.config({\n",
       "            paths: {\n",
       "                'plotly': ['https://cdn.plot.ly/plotly-latest.min']\n",
       "            }\n",
       "        });\n",
       "        require(['plotly'], function(Plotly) {\n",
       "            window._Plotly = Plotly;\n",
       "        });\n",
       "        }\n",
       "        </script>\n",
       "        "
      ]
     },
     "metadata": {},
     "output_type": "display_data"
    }
   ],
   "source": [
    "import plotly as py\n",
    "import plotly.graph_objs as go\n",
    "from plotly.offline import iplot\n",
    "from plotly.offline import plot\n",
    "import ipywidgets as widgets\n",
    "\n",
    "# %matplotlib widget\n",
    "py.offline.init_notebook_mode(connected=True)"
   ]
  },
  {
   "cell_type": "code",
   "execution_count": 3,
   "metadata": {},
   "outputs": [
    {
     "name": "stderr",
     "output_type": "stream",
     "text": [
      "/Users/Work/anaconda3/envs/condatensor/lib/python3.6/site-packages/sklearn/externals/six.py:31: DeprecationWarning:\n",
      "\n",
      "The module is deprecated in version 0.21 and will be removed in version 0.23 since we've dropped support for Python 2.7. Please rely on the official version of six (https://pypi.org/project/six/).\n",
      "\n",
      "/Users/Work/anaconda3/envs/condatensor/lib/python3.6/site-packages/sklearn/externals/joblib/__init__.py:15: DeprecationWarning:\n",
      "\n",
      "sklearn.externals.joblib is deprecated in 0.21 and will be removed in 0.23. Please import this functionality directly from joblib, which can be installed with: pip install joblib. If this warning is raised when loading pickled models, you may need to re-serialize those models with scikit-learn 0.21+.\n",
      "\n"
     ]
    }
   ],
   "source": [
    "import numpy as np\n",
    "import pandas as pd\n",
    "import umap\n",
    "\n",
    "from datetime import datetime\n",
    "from ClusterPipeline import ClusterPipeline\n",
    "from helper import split_valid, plot_confusion_matrix, plot_history, plot_3d_lrp\n",
    "from sklearn.datasets import make_classification\n",
    "from sklearn.metrics import classification_report\n",
    "from sklearn.pipeline import Pipeline\n",
    "from sklearn.preprocessing import MinMaxScaler\n",
    "from sklearn.preprocessing import OrdinalEncoder\n",
    "\n",
    "RANDOM_STATE = 42\n",
    "np.random.seed(seed=RANDOM_STATE) "
   ]
  },
  {
   "cell_type": "code",
   "execution_count": 4,
   "metadata": {},
   "outputs": [],
   "source": [
    "import matplotlib.pyplot as plt\n",
    "\n",
    "def plot_history(history):\n",
    "    plt.close(\"History\")\n",
    "    fig, axs = plt.subplots(1, 2, figsize=(20,10),num=\"History\")\n",
    "\n",
    "    # Plot training & validation accuracy values\n",
    "    axs[0].grid(True)\n",
    "    axs[0].plot(history.history['acc'])\n",
    "    axs[0].plot(history.history['val_acc'])\n",
    "    axs[0].set(title='Model accuracy', ylabel='Accuracy', xlabel='Epoch')\n",
    "    axs[0].legend(['Train', 'Test'], loc='upper left')\n",
    "\n",
    "    # Plot training & validation loss values\n",
    "    axs[1].grid(True)\n",
    "    axs[1].plot(history.history['loss'])\n",
    "    axs[1].plot(history.history['val_loss'])\n",
    "    axs[1].set(title='Model loss',ylabel='Loss', xlabel='Epoch')\n",
    "    axs[1].legend(['Train', 'Test'], loc='upper left')\n",
    "\n",
    "    plt.show()"
   ]
  },
  {
   "cell_type": "code",
   "execution_count": 5,
   "metadata": {},
   "outputs": [
    {
     "data": {
      "text/html": [
       "<div>\n",
       "<style scoped>\n",
       "    .dataframe tbody tr th:only-of-type {\n",
       "        vertical-align: middle;\n",
       "    }\n",
       "\n",
       "    .dataframe tbody tr th {\n",
       "        vertical-align: top;\n",
       "    }\n",
       "\n",
       "    .dataframe thead th {\n",
       "        text-align: right;\n",
       "    }\n",
       "</style>\n",
       "<table border=\"1\" class=\"dataframe\">\n",
       "  <thead>\n",
       "    <tr style=\"text-align: right;\">\n",
       "      <th></th>\n",
       "      <th>ASD_DX_group</th>\n",
       "      <th>Risk</th>\n",
       "      <th>ROI01</th>\n",
       "      <th>ROI02</th>\n",
       "      <th>ROI03</th>\n",
       "      <th>ROI04</th>\n",
       "      <th>ROI05</th>\n",
       "      <th>ROI06</th>\n",
       "      <th>ROI07</th>\n",
       "      <th>ROI08</th>\n",
       "      <th>...</th>\n",
       "      <th>ROI324</th>\n",
       "      <th>ROI325</th>\n",
       "      <th>ROI326</th>\n",
       "      <th>ROI327</th>\n",
       "      <th>ROI328</th>\n",
       "      <th>ROI329</th>\n",
       "      <th>ROI330</th>\n",
       "      <th>ROI331</th>\n",
       "      <th>ROI332</th>\n",
       "      <th>ROI333</th>\n",
       "    </tr>\n",
       "    <tr>\n",
       "      <th>CandID</th>\n",
       "      <th></th>\n",
       "      <th></th>\n",
       "      <th></th>\n",
       "      <th></th>\n",
       "      <th></th>\n",
       "      <th></th>\n",
       "      <th></th>\n",
       "      <th></th>\n",
       "      <th></th>\n",
       "      <th></th>\n",
       "      <th></th>\n",
       "      <th></th>\n",
       "      <th></th>\n",
       "      <th></th>\n",
       "      <th></th>\n",
       "      <th></th>\n",
       "      <th></th>\n",
       "      <th></th>\n",
       "      <th></th>\n",
       "      <th></th>\n",
       "      <th></th>\n",
       "    </tr>\n",
       "  </thead>\n",
       "  <tbody>\n",
       "    <tr>\n",
       "      <th>103430</th>\n",
       "      <td>TYPICAL</td>\n",
       "      <td>HR</td>\n",
       "      <td>529.158386</td>\n",
       "      <td>298.568665</td>\n",
       "      <td>190.627472</td>\n",
       "      <td>134.555801</td>\n",
       "      <td>363.573608</td>\n",
       "      <td>646.810547</td>\n",
       "      <td>33.957870</td>\n",
       "      <td>172.629700</td>\n",
       "      <td>...</td>\n",
       "      <td>46.523426</td>\n",
       "      <td>88.635681</td>\n",
       "      <td>15.326110</td>\n",
       "      <td>268.573364</td>\n",
       "      <td>143.174347</td>\n",
       "      <td>1.515198</td>\n",
       "      <td>239.148468</td>\n",
       "      <td>20.107052</td>\n",
       "      <td>34.309757</td>\n",
       "      <td>10.180353</td>\n",
       "    </tr>\n",
       "    <tr>\n",
       "      <th>107524</th>\n",
       "      <td>ASD</td>\n",
       "      <td>HR</td>\n",
       "      <td>518.345703</td>\n",
       "      <td>311.013794</td>\n",
       "      <td>118.777634</td>\n",
       "      <td>198.685638</td>\n",
       "      <td>477.074524</td>\n",
       "      <td>405.450134</td>\n",
       "      <td>55.401951</td>\n",
       "      <td>126.927612</td>\n",
       "      <td>...</td>\n",
       "      <td>30.664413</td>\n",
       "      <td>76.203514</td>\n",
       "      <td>25.545485</td>\n",
       "      <td>188.544678</td>\n",
       "      <td>107.464104</td>\n",
       "      <td>1.381342</td>\n",
       "      <td>188.476715</td>\n",
       "      <td>17.961386</td>\n",
       "      <td>23.440365</td>\n",
       "      <td>14.530558</td>\n",
       "    </tr>\n",
       "    <tr>\n",
       "      <th>108372</th>\n",
       "      <td>TYPICAL</td>\n",
       "      <td>LR</td>\n",
       "      <td>443.658081</td>\n",
       "      <td>156.824844</td>\n",
       "      <td>157.223099</td>\n",
       "      <td>147.381149</td>\n",
       "      <td>492.784088</td>\n",
       "      <td>305.069519</td>\n",
       "      <td>61.638298</td>\n",
       "      <td>136.602600</td>\n",
       "      <td>...</td>\n",
       "      <td>35.009350</td>\n",
       "      <td>99.737000</td>\n",
       "      <td>23.199062</td>\n",
       "      <td>282.846497</td>\n",
       "      <td>29.161158</td>\n",
       "      <td>0.722310</td>\n",
       "      <td>200.596985</td>\n",
       "      <td>28.989164</td>\n",
       "      <td>32.400013</td>\n",
       "      <td>10.532928</td>\n",
       "    </tr>\n",
       "    <tr>\n",
       "      <th>113320</th>\n",
       "      <td>TYPICAL</td>\n",
       "      <td>LR</td>\n",
       "      <td>529.817078</td>\n",
       "      <td>301.160583</td>\n",
       "      <td>129.092483</td>\n",
       "      <td>151.090851</td>\n",
       "      <td>395.564331</td>\n",
       "      <td>597.880981</td>\n",
       "      <td>32.048248</td>\n",
       "      <td>163.701218</td>\n",
       "      <td>...</td>\n",
       "      <td>40.359753</td>\n",
       "      <td>111.341911</td>\n",
       "      <td>15.794782</td>\n",
       "      <td>214.678467</td>\n",
       "      <td>75.857338</td>\n",
       "      <td>1.767594</td>\n",
       "      <td>179.606552</td>\n",
       "      <td>16.667351</td>\n",
       "      <td>44.315159</td>\n",
       "      <td>12.016207</td>\n",
       "    </tr>\n",
       "    <tr>\n",
       "      <th>114640</th>\n",
       "      <td>TYPICAL</td>\n",
       "      <td>LR</td>\n",
       "      <td>689.399170</td>\n",
       "      <td>303.337524</td>\n",
       "      <td>154.169434</td>\n",
       "      <td>98.182709</td>\n",
       "      <td>592.248962</td>\n",
       "      <td>364.648315</td>\n",
       "      <td>10.539658</td>\n",
       "      <td>142.580795</td>\n",
       "      <td>...</td>\n",
       "      <td>49.686398</td>\n",
       "      <td>134.082794</td>\n",
       "      <td>18.534616</td>\n",
       "      <td>217.291306</td>\n",
       "      <td>36.213020</td>\n",
       "      <td>1.580427</td>\n",
       "      <td>181.796356</td>\n",
       "      <td>22.934441</td>\n",
       "      <td>63.739361</td>\n",
       "      <td>10.897783</td>\n",
       "    </tr>\n",
       "  </tbody>\n",
       "</table>\n",
       "<p>5 rows × 335 columns</p>\n",
       "</div>"
      ],
      "text/plain": [
       "       ASD_DX_group Risk       ROI01       ROI02       ROI03       ROI04  \\\n",
       "CandID                                                                     \n",
       "103430      TYPICAL   HR  529.158386  298.568665  190.627472  134.555801   \n",
       "107524          ASD   HR  518.345703  311.013794  118.777634  198.685638   \n",
       "108372      TYPICAL   LR  443.658081  156.824844  157.223099  147.381149   \n",
       "113320      TYPICAL   LR  529.817078  301.160583  129.092483  151.090851   \n",
       "114640      TYPICAL   LR  689.399170  303.337524  154.169434   98.182709   \n",
       "\n",
       "             ROI05       ROI06      ROI07       ROI08  ...     ROI324  \\\n",
       "CandID                                                 ...              \n",
       "103430  363.573608  646.810547  33.957870  172.629700  ...  46.523426   \n",
       "107524  477.074524  405.450134  55.401951  126.927612  ...  30.664413   \n",
       "108372  492.784088  305.069519  61.638298  136.602600  ...  35.009350   \n",
       "113320  395.564331  597.880981  32.048248  163.701218  ...  40.359753   \n",
       "114640  592.248962  364.648315  10.539658  142.580795  ...  49.686398   \n",
       "\n",
       "            ROI325     ROI326      ROI327      ROI328    ROI329      ROI330  \\\n",
       "CandID                                                                        \n",
       "103430   88.635681  15.326110  268.573364  143.174347  1.515198  239.148468   \n",
       "107524   76.203514  25.545485  188.544678  107.464104  1.381342  188.476715   \n",
       "108372   99.737000  23.199062  282.846497   29.161158  0.722310  200.596985   \n",
       "113320  111.341911  15.794782  214.678467   75.857338  1.767594  179.606552   \n",
       "114640  134.082794  18.534616  217.291306   36.213020  1.580427  181.796356   \n",
       "\n",
       "           ROI331     ROI332     ROI333  \n",
       "CandID                                   \n",
       "103430  20.107052  34.309757  10.180353  \n",
       "107524  17.961386  23.440365  14.530558  \n",
       "108372  28.989164  32.400013  10.532928  \n",
       "113320  16.667351  44.315159  12.016207  \n",
       "114640  22.934441  63.739361  10.897783  \n",
       "\n",
       "[5 rows x 335 columns]"
      ]
     },
     "execution_count": 5,
     "metadata": {},
     "output_type": "execute_result"
    }
   ],
   "source": [
    "fname = \"data/cleaned_SA.csv\"\n",
    "raw_data = pd.read_csv(fname, index_col=0)\n",
    "raw_data.head()"
   ]
  },
  {
   "cell_type": "code",
   "execution_count": 6,
   "metadata": {},
   "outputs": [
    {
     "data": {
      "text/plain": [
       "(325, 335)"
      ]
     },
     "execution_count": 6,
     "metadata": {},
     "output_type": "execute_result"
    }
   ],
   "source": [
    "raw_data.shape"
   ]
  },
  {
   "cell_type": "code",
   "execution_count": 7,
   "metadata": {},
   "outputs": [],
   "source": [
    "label_cols = [\"ASD_DX_group\", \"Risk\"]\n",
    "noisy_cols = []\n",
    "\n",
    "features = raw_data.drop(columns=noisy_cols+label_cols)\n",
    "labels = raw_data[label_cols].copy()"
   ]
  },
  {
   "cell_type": "code",
   "execution_count": 8,
   "metadata": {},
   "outputs": [
    {
     "data": {
      "text/plain": [
       "TYPICAL            149\n",
       "ASD                 39\n",
       "ATYPICAL_ADOS       17\n",
       "ATYPICAL_MULLEN      9\n",
       "Name: ASD_DX_group, dtype: int64"
      ]
     },
     "execution_count": 8,
     "metadata": {},
     "output_type": "execute_result"
    }
   ],
   "source": [
    "labels[\"ASD_DX_group\"][labels[\"Risk\"]==\"HR\"].value_counts()"
   ]
  },
  {
   "cell_type": "code",
   "execution_count": 9,
   "metadata": {},
   "outputs": [],
   "source": [
    "LR = labels[\"Risk\"]==\"LR\"\n",
    "typical = labels[\"ASD_DX_group\"]==\"TYPICAL\"\n",
    "ASD = labels[\"ASD_DX_group\"]==\"ASD\"\n",
    "HR = labels[\"Risk\"]==\"HR\""
   ]
  },
  {
   "cell_type": "code",
   "execution_count": 23,
   "metadata": {},
   "outputs": [],
   "source": [
    "LR_typical = labels[LR & typical]\n",
    "HR_typical = labels[HR & typical]\n",
    "HR_ASD = labels[HR & ASD]"
   ]
  },
  {
   "cell_type": "code",
   "execution_count": 106,
   "metadata": {},
   "outputs": [],
   "source": [
    "def build_dnn(num_features, num_labels, activation=\"elu\"):\n",
    "    \n",
    "    import tensorflow as tf\n",
    "    import keras\n",
    "    from keras import optimizers\n",
    "    from keras import regularizers\n",
    "    from keras.constraints import max_norm\n",
    "    keras.backend.clear_session()\n",
    "    \n",
    "    tf.random.set_random_seed(RANDOM_STATE)\n",
    "    reg_scale = 0.001 # For L1 Reg\n",
    "    my_reg = regularizers.l2(reg_scale) # Can change this if needed\n",
    "    \n",
    "    dnn = keras.models.Sequential()\n",
    "\n",
    "    Dense = keras.layers.Dense\n",
    "    \n",
    "    # Using He initialization\n",
    "    he_init = keras.initializers.he_normal(seed=RANDOM_STATE)\n",
    "\n",
    "    dnn.add(Dense(units = 64, activation=activation, input_dim = num_features,\n",
    "                  kernel_initializer=he_init,  kernel_regularizer=my_reg))\n",
    "    dnn.add(keras.layers.Dropout(0.2)),\n",
    "    dnn.add(Dense(units = 64, activation=activation,\n",
    "                  kernel_initializer=he_init,  kernel_regularizer=my_reg))\n",
    "    dnn.add(keras.layers.Dropout(0.2))\n",
    "    \n",
    "    dnn.add(Dense(units=num_labels, activation=\"sigmoid\",\n",
    "                  kernel_initializer=he_init,  kernel_regularizer=my_reg)) # 5 labels -> logits for now\n",
    "    \n",
    "#     SGD=keras.optimizers.SGD(lr=0.001)\n",
    "    NSGD = keras.optimizers.SGD(lr=0.001,momentum=0.9,nesterov=True)\n",
    "    \n",
    "    dnn.compile(loss='binary_crossentropy',\n",
    "                  optimizer=NSGD,\n",
    "                  metrics=['accuracy']) #Internally it seems to be same as binary accuracy\n",
    "    \n",
    "    return dnn"
   ]
  },
  {
   "cell_type": "markdown",
   "metadata": {},
   "source": [
    "# ASD vs LR_Typical"
   ]
  },
  {
   "cell_type": "code",
   "execution_count": 107,
   "metadata": {},
   "outputs": [
    {
     "data": {
      "text/plain": [
       "LR    99\n",
       "HR    39\n",
       "Name: Risk, dtype: int64"
      ]
     },
     "execution_count": 107,
     "metadata": {},
     "output_type": "execute_result"
    }
   ],
   "source": [
    "LR_analysis_labels = pd.concat((LR_typical, HR_ASD))\n",
    "LR_analysis_labels[\"Risk\"].value_counts()"
   ]
  },
  {
   "cell_type": "code",
   "execution_count": 108,
   "metadata": {},
   "outputs": [
    {
     "data": {
      "text/plain": [
       "[array(['ASD', 'TYPICAL'], dtype=object), array(['HR', 'LR'], dtype=object)]"
      ]
     },
     "execution_count": 108,
     "metadata": {},
     "output_type": "execute_result"
    }
   ],
   "source": [
    "enc = OrdinalEncoder()\n",
    "enc.fit(LR_analysis_labels)\n",
    "enc_labels = enc.transform(LR_analysis_labels)\n",
    "enc.categories_"
   ]
  },
  {
   "cell_type": "code",
   "execution_count": 110,
   "metadata": {},
   "outputs": [],
   "source": [
    "risk_labels = pd.Series(enc_labels[:,1], dtype=int, index=LR_analysis_labels.index)\n",
    "data = features.loc[LR_analysis_labels.index].copy()\n",
    "\n",
    "# Separating a hold out set that will be used for validation of the pipeline\n",
    "# train_data, train_labels, test_data, test_labels = split_valid(data, risk_labels, valid_size=0.01)\n",
    "train_data, train_labels, test_data, test_labels = data, risk_labels, [], []"
   ]
  },
  {
   "cell_type": "code",
   "execution_count": 111,
   "metadata": {},
   "outputs": [
    {
     "data": {
      "text/plain": [
       "1    99\n",
       "0    39\n",
       "dtype: int64"
      ]
     },
     "execution_count": 111,
     "metadata": {},
     "output_type": "execute_result"
    }
   ],
   "source": [
    "risk_labels.value_counts()"
   ]
  },
  {
   "cell_type": "code",
   "execution_count": 112,
   "metadata": {},
   "outputs": [],
   "source": [
    "reducer = umap.UMAP(random_state=42,\n",
    "                    n_components = 10,\n",
    "                    n_neighbors=5,\n",
    "                    min_dist=0)"
   ]
  },
  {
   "cell_type": "code",
   "execution_count": 115,
   "metadata": {},
   "outputs": [],
   "source": [
    "dnn = build_dnn(num_features=data.shape[1], num_labels=1, activation=\"elu\")\n",
    "LR_pipeline = ClusterPipeline(dnn, [train_data, train_labels], [test_data, test_labels],\n",
    "                           target_class=0, reducer=reducer, softmax=False)"
   ]
  },
  {
   "cell_type": "code",
   "execution_count": 116,
   "metadata": {},
   "outputs": [
    {
     "name": "stdout",
     "output_type": "stream",
     "text": [
      "Running Serial Crossvalidation\n",
      "Running worker: 0\n",
      "WARNING:tensorflow:From /Users/Work/anaconda3/envs/condatensor/lib/python3.6/site-packages/tensorflow/python/ops/math_ops.py:3066: to_int32 (from tensorflow.python.ops.math_ops) is deprecated and will be removed in a future version.\n",
      "Instructions for updating:\n",
      "Use tf.cast instead.\n",
      "Fold: 0 -> Loss:0.018, Acc:1.0000\n",
      "Prediction Accuracy\n",
      "14/14 [==============================] - 0s 3ms/step\n",
      "Scores on data set: loss=1.384 accuracy=0.6429\n",
      "Fold Correct: 9\n",
      "WARNING:tensorflow:From /Users/Work/anaconda3/envs/condatensor/lib/python3.6/site-packages/tensorflow/python/ops/math_grad.py:102: div (from tensorflow.python.ops.math_ops) is deprecated and will be removed in a future version.\n",
      "Instructions for updating:\n",
      "Deprecated in favor of operator or tf.math.divide.\n",
      "Running worker: 1\n",
      "Fold: 1 -> Loss:0.018, Acc:1.0000\n",
      "Prediction Accuracy\n",
      "14/14 [==============================] - 0s 59us/step\n",
      "Scores on data set: loss=1.214 accuracy=0.8571\n",
      "Fold Correct: 12\n",
      "Running worker: 2\n",
      "Fold: 2 -> Loss:0.018, Acc:1.0000\n",
      "Prediction Accuracy\n",
      "14/14 [==============================] - 0s 36us/step\n",
      "Scores on data set: loss=0.776 accuracy=0.7857\n",
      "Fold Correct: 11\n",
      "Running worker: 3\n",
      "Fold: 3 -> Loss:0.018, Acc:1.0000\n",
      "Prediction Accuracy\n",
      "14/14 [==============================] - 0s 39us/step\n",
      "Scores on data set: loss=1.295 accuracy=0.7143\n",
      "Fold Correct: 10\n",
      "Running worker: 4\n",
      "Fold: 4 -> Loss:0.017, Acc:1.0000\n",
      "Prediction Accuracy\n",
      "14/14 [==============================] - 0s 68us/step\n",
      "Scores on data set: loss=1.918 accuracy=0.7143\n",
      "Fold Correct: 10\n",
      "Running worker: 5\n",
      "Fold: 5 -> Loss:0.017, Acc:1.0000\n",
      "Prediction Accuracy\n",
      "14/14 [==============================] - 0s 38us/step\n",
      "Scores on data set: loss=2.043 accuracy=0.4286\n",
      "Fold Correct: 6\n",
      "Running worker: 6\n",
      "Fold: 6 -> Loss:0.017, Acc:1.0000\n",
      "Prediction Accuracy\n",
      "14/14 [==============================] - 0s 42us/step\n",
      "Scores on data set: loss=1.280 accuracy=0.6429\n",
      "Fold Correct: 9\n",
      "Running worker: 7\n",
      "Fold: 7 -> Loss:0.018, Acc:1.0000\n",
      "Prediction Accuracy\n",
      "14/14 [==============================] - 0s 36us/step\n",
      "Scores on data set: loss=1.575 accuracy=0.6429\n",
      "Fold Correct: 9\n",
      "Running worker: 8\n",
      "Fold: 8 -> Loss:0.017, Acc:1.0000\n",
      "Prediction Accuracy\n",
      "14/14 [==============================] - 0s 48us/step\n",
      "Scores on data set: loss=1.626 accuracy=0.7143\n",
      "Fold Correct: 10\n",
      "Running worker: 9\n",
      "Fold: 9 -> Loss:0.018, Acc:1.0000\n",
      "Prediction Accuracy\n",
      "12/12 [==============================] - 0s 53us/step\n",
      "Scores on data set: loss=0.193 accuracy=0.9167\n",
      "Fold Correct: 11\n",
      "Runtime: 817.064s\n",
      "Correct: 97\n",
      "Test Size: 138\n",
      "Confusion matrix, without normalization\n",
      "[[0.46153846 0.53846154]\n",
      " [0.2020202  0.7979798 ]]\n",
      "Overall Accuracy: 0.7029\n",
      "Loading LRP Analyzers...\n",
      "Done!\n"
     ]
    },
    {
     "data": {
      "image/png": "[encoded data removed]",
      "text/plain": [
       "<Figure size 576x576 with 2 Axes>"
      ]
     },
     "metadata": {
      "needs_background": "light"
     },
     "output_type": "display_data"
    }
   ],
   "source": [
    "cm = LR_pipeline.train_model(batch_size=int(10), epochs=5000, cross_validation=True,\n",
    "                          parallel=True, verbose=0, smote=True)"
   ]
  },
  {
   "cell_type": "code",
   "execution_count": 120,
   "metadata": {},
   "outputs": [
    {
     "name": "stdout",
     "output_type": "stream",
     "text": [
      "Sensitivity: 0.4615\n",
      "PPV: 0.4737\n"
     ]
    }
   ],
   "source": [
    "correct_ASD = cm[0][0]\n",
    "print(\"Sensitivity: {:.4f}\".format(correct_ASD/ np.sum(cm,axis=1)[0]))\n",
    "print(\"PPV: {:.4f}\".format(correct_ASD/ np.sum(cm,axis=0)[0]))"
   ]
  },
  {
   "cell_type": "code",
   "execution_count": 127,
   "metadata": {},
   "outputs": [
    {
     "name": "stdout",
     "output_type": "stream",
     "text": [
      "LRP Shape:  (18, 333)\n",
      "Cluster Search Space: range(2, 8)\n",
      "Minimum Size:\n",
      "Clusters                  (5, 5)\n",
      "Noise                     (2, 2)\n",
      "Halkidi                   (2, 2)\n",
      "Halkidi-Filtered Noise    (2, 2)\n",
      "dtype: object\n",
      "Clusters Found: 3\n"
     ]
    }
   ],
   "source": [
    "LR_pipeline.train_clusterer()\n",
    "print(\"Clusters Found:\", max(LR_pipeline.clusterer.labels_)+1)"
   ]
  },
  {
   "cell_type": "code",
   "execution_count": 155,
   "metadata": {},
   "outputs": [
    {
     "data": {
      "text/html": [
       "<div>\n",
       "<style scoped>\n",
       "    .dataframe tbody tr th:only-of-type {\n",
       "        vertical-align: middle;\n",
       "    }\n",
       "\n",
       "    .dataframe tbody tr th {\n",
       "        vertical-align: top;\n",
       "    }\n",
       "\n",
       "    .dataframe thead th {\n",
       "        text-align: right;\n",
       "    }\n",
       "</style>\n",
       "<table border=\"1\" class=\"dataframe\">\n",
       "  <thead>\n",
       "    <tr style=\"text-align: right;\">\n",
       "      <th></th>\n",
       "      <th>ASD_DX_group</th>\n",
       "      <th>Risk</th>\n",
       "    </tr>\n",
       "    <tr>\n",
       "      <th>CandID</th>\n",
       "      <th></th>\n",
       "      <th></th>\n",
       "    </tr>\n",
       "  </thead>\n",
       "  <tbody>\n",
       "    <tr>\n",
       "      <th>172993</th>\n",
       "      <td>ASD</td>\n",
       "      <td>HR</td>\n",
       "    </tr>\n",
       "    <tr>\n",
       "      <th>402809</th>\n",
       "      <td>ASD</td>\n",
       "      <td>HR</td>\n",
       "    </tr>\n",
       "    <tr>\n",
       "      <th>930203</th>\n",
       "      <td>ASD</td>\n",
       "      <td>HR</td>\n",
       "    </tr>\n",
       "    <tr>\n",
       "      <th>983222</th>\n",
       "      <td>ASD</td>\n",
       "      <td>HR</td>\n",
       "    </tr>\n",
       "    <tr>\n",
       "      <th>809318</th>\n",
       "      <td>ASD</td>\n",
       "      <td>HR</td>\n",
       "    </tr>\n",
       "    <tr>\n",
       "      <th>812857</th>\n",
       "      <td>ASD</td>\n",
       "      <td>HR</td>\n",
       "    </tr>\n",
       "    <tr>\n",
       "      <th>456823</th>\n",
       "      <td>ASD</td>\n",
       "      <td>HR</td>\n",
       "    </tr>\n",
       "    <tr>\n",
       "      <th>490878</th>\n",
       "      <td>ASD</td>\n",
       "      <td>HR</td>\n",
       "    </tr>\n",
       "    <tr>\n",
       "      <th>751794</th>\n",
       "      <td>ASD</td>\n",
       "      <td>HR</td>\n",
       "    </tr>\n",
       "    <tr>\n",
       "      <th>336576</th>\n",
       "      <td>ASD</td>\n",
       "      <td>HR</td>\n",
       "    </tr>\n",
       "    <tr>\n",
       "      <th>174982</th>\n",
       "      <td>ASD</td>\n",
       "      <td>HR</td>\n",
       "    </tr>\n",
       "    <tr>\n",
       "      <th>389521</th>\n",
       "      <td>ASD</td>\n",
       "      <td>HR</td>\n",
       "    </tr>\n",
       "    <tr>\n",
       "      <th>589344</th>\n",
       "      <td>ASD</td>\n",
       "      <td>HR</td>\n",
       "    </tr>\n",
       "    <tr>\n",
       "      <th>155712</th>\n",
       "      <td>ASD</td>\n",
       "      <td>HR</td>\n",
       "    </tr>\n",
       "    <tr>\n",
       "      <th>973338</th>\n",
       "      <td>ASD</td>\n",
       "      <td>HR</td>\n",
       "    </tr>\n",
       "    <tr>\n",
       "      <th>443584</th>\n",
       "      <td>ASD</td>\n",
       "      <td>HR</td>\n",
       "    </tr>\n",
       "    <tr>\n",
       "      <th>841812</th>\n",
       "      <td>ASD</td>\n",
       "      <td>HR</td>\n",
       "    </tr>\n",
       "    <tr>\n",
       "      <th>996243</th>\n",
       "      <td>ASD</td>\n",
       "      <td>HR</td>\n",
       "    </tr>\n",
       "  </tbody>\n",
       "</table>\n",
       "</div>"
      ],
      "text/plain": [
       "       ASD_DX_group Risk\n",
       "CandID                  \n",
       "172993          ASD   HR\n",
       "402809          ASD   HR\n",
       "930203          ASD   HR\n",
       "983222          ASD   HR\n",
       "809318          ASD   HR\n",
       "812857          ASD   HR\n",
       "456823          ASD   HR\n",
       "490878          ASD   HR\n",
       "751794          ASD   HR\n",
       "336576          ASD   HR\n",
       "174982          ASD   HR\n",
       "389521          ASD   HR\n",
       "589344          ASD   HR\n",
       "155712          ASD   HR\n",
       "973338          ASD   HR\n",
       "443584          ASD   HR\n",
       "841812          ASD   HR\n",
       "996243          ASD   HR"
      ]
     },
     "execution_count": 155,
     "metadata": {},
     "output_type": "execute_result"
    }
   ],
   "source": [
    "reindexed_labels = train_labels.iloc[LR_pipeline.testing_idxs]\n",
    "correct_idxs = LR_pipeline.correct_preds_bool_arr\n",
    "_correct = LR_analysis_labels.loc[reindexed_labels[correct_idxs].index]\n",
    "LR_correct = _correct[_correct[\"ASD_DX_group\"]==\"ASD\"]\n",
    "LR_correct"
   ]
  },
  {
   "cell_type": "code",
   "execution_count": 154,
   "metadata": {},
   "outputs": [],
   "source": [
    "# plot_3d_lrp(LR_pipeline.training_lrp, colors=LR_pipeline.clusterer.labels_)"
   ]
  },
  {
   "cell_type": "markdown",
   "metadata": {},
   "source": [
    "# ASD vs HR_Typical"
   ]
  },
  {
   "cell_type": "code",
   "execution_count": 45,
   "metadata": {},
   "outputs": [
    {
     "data": {
      "text/plain": [
       "TYPICAL    149\n",
       "ASD         39\n",
       "Name: ASD_DX_group, dtype: int64"
      ]
     },
     "execution_count": 45,
     "metadata": {},
     "output_type": "execute_result"
    }
   ],
   "source": [
    "HR_analysis_labels = pd.concat((HR_typical, HR_ASD))\n",
    "HR_analysis_labels[\"ASD_DX_group\"].value_counts()"
   ]
  },
  {
   "cell_type": "code",
   "execution_count": 137,
   "metadata": {},
   "outputs": [
    {
     "data": {
      "text/plain": [
       "[array(['ASD', 'TYPICAL'], dtype=object), array(['HR'], dtype=object)]"
      ]
     },
     "execution_count": 137,
     "metadata": {},
     "output_type": "execute_result"
    }
   ],
   "source": [
    "HR_enc = OrdinalEncoder()\n",
    "HR_enc_labels = HR_enc.fit_transform(HR_analysis_labels)\n",
    "HR_enc.categories_"
   ]
  },
  {
   "cell_type": "code",
   "execution_count": 34,
   "metadata": {},
   "outputs": [
    {
     "name": "stdout",
     "output_type": "stream",
     "text": [
      "(188,)\n"
     ]
    }
   ],
   "source": [
    "HR_risk_labels = pd.Series(enc_labels[:,0], dtype=int, index=analysis_labels.index)\n",
    "data = features.loc[analysis_labels.index].copy()\n",
    "train_data, train_labels, test_data, test_labels = data, HR_risk_labels, [], []\n",
    "print(train_labels.shape)"
   ]
  },
  {
   "cell_type": "code",
   "execution_count": 35,
   "metadata": {},
   "outputs": [],
   "source": [
    "reducer = umap.UMAP(random_state=42,\n",
    "                    n_components = 10,\n",
    "                    n_neighbors=5,\n",
    "                    min_dist=0)"
   ]
  },
  {
   "cell_type": "code",
   "execution_count": 36,
   "metadata": {},
   "outputs": [],
   "source": [
    "dnn = build_dnn(num_features=data.shape[1], num_labels=1, activation=\"elu\")\n",
    "HR_pipeline = ClusterPipeline(dnn, [train_data, train_labels], [test_data, test_labels],\n",
    "                           target_class=0, reducer=reducer, softmax=False)"
   ]
  },
  {
   "cell_type": "code",
   "execution_count": 37,
   "metadata": {},
   "outputs": [
    {
     "name": "stdout",
     "output_type": "stream",
     "text": [
      "Running Pool...\n",
      "Initialized Pool...\n",
      "Runtime: 571.279s\n",
      "Correct: 139\n",
      "Test Size: 188\n",
      "Confusion matrix, without normalization\n",
      "[[0.33333333 0.66666667]\n",
      " [0.15436242 0.84563758]]\n",
      "Overall Accuracy: 0.7394\n",
      "Loading LRP Analyzers...\n",
      "Done!\n"
     ]
    },
    {
     "data": {
      "image/png": "[encoded data removed]",
      "text/plain": [
       "<Figure size 576x576 with 2 Axes>"
      ]
     },
     "metadata": {
      "needs_background": "light"
     },
     "output_type": "display_data"
    }
   ],
   "source": [
    "cm = pipeline.train_model(batch_size=int(10), epochs=5000, cross_validation=True,\n",
    "                          parallel=True, verbose=0, smote=True)"
   ]
  },
  {
   "cell_type": "code",
   "execution_count": 38,
   "metadata": {},
   "outputs": [
    {
     "name": "stdout",
     "output_type": "stream",
     "text": [
      "Sensitivity: 0.3333\n",
      "PPV: 0.3611\n"
     ]
    }
   ],
   "source": [
    "correct_ASD = cm[0][0]\n",
    "print(\"Sensitivity: {:.4f}\".format(correct_ASD/ np.sum(cm,axis=1)[0]))\n",
    "print(\"PPV: {:.4f}\".format(correct_ASD/ np.sum(cm,axis=0)[0]))"
   ]
  },
  {
   "cell_type": "code",
   "execution_count": 39,
   "metadata": {},
   "outputs": [],
   "source": [
    "HR_pipeline=pipeline"
   ]
  },
  {
   "cell_type": "code",
   "execution_count": 40,
   "metadata": {},
   "outputs": [
    {
     "name": "stdout",
     "output_type": "stream",
     "text": [
      "LRP Shape:  (13, 333)\n",
      "Cluster Search Space: range(2, 8)\n",
      "Minimum Size:\n",
      "Clusters                  (5, 5)\n",
      "Noise                     (2, 2)\n",
      "Halkidi                   (3, 3)\n",
      "Halkidi-Filtered Noise    (3, 3)\n",
      "dtype: object\n"
     ]
    },
    {
     "data": {
      "text/plain": [
       "(        Clusters     Noise       Halkidi  Halkidi-Filtered Noise\n",
       " (2, 2)         2  0.000000  1.097732e+00            1.097732e+00\n",
       " (3, 2)         2  0.000000  1.097732e+00            1.097732e+00\n",
       " (3, 3)         2  0.076923  3.710028e-01            1.053684e+00\n",
       " (4, 2)         2  0.000000  1.097732e+00            1.097732e+00\n",
       " (4, 3)         2  0.076923  3.710028e-01            1.053684e+00\n",
       " (4, 4)         2  0.076923  3.710028e-01            1.053684e+00\n",
       " (5, 2)         2  0.000000  1.097732e+00            1.097732e+00\n",
       " (5, 3)         2  0.076923  3.710028e-01            1.053684e+00\n",
       " (5, 4)         2  0.076923  3.710028e-01            1.053684e+00\n",
       " (5, 5)         0  1.000000  2.147484e+09            2.147484e+09\n",
       " (6, 2)         2  0.000000  1.097732e+00            1.097732e+00\n",
       " (6, 3)         2  0.076923  3.710028e-01            1.053684e+00\n",
       " (6, 4)         2  0.076923  3.710028e-01            1.053684e+00\n",
       " (6, 5)         0  1.000000  2.147484e+09            2.147484e+09\n",
       " (6, 6)         0  1.000000  2.147484e+09            2.147484e+09\n",
       " (7, 2)         0  1.000000  2.147484e+09            2.147484e+09\n",
       " (7, 3)         0  1.000000  2.147484e+09            2.147484e+09\n",
       " (7, 4)         0  1.000000  2.147484e+09            2.147484e+09\n",
       " (7, 5)         0  1.000000  2.147484e+09            2.147484e+09\n",
       " (7, 6)         0  1.000000  2.147484e+09            2.147484e+09\n",
       " (7, 7)         0  1.000000  2.147484e+09            2.147484e+09,\n",
       " Int64Index([172993, 983222, 809318, 321541, 490878, 751794, 174982, 589344,\n",
       "             155712, 857317, 973338, 443584, 996243],\n",
       "            dtype='int64', name='CandID'))"
      ]
     },
     "execution_count": 40,
     "metadata": {},
     "output_type": "execute_result"
    }
   ],
   "source": [
    "HR_pipeline.train_clusterer()"
   ]
  },
  {
   "cell_type": "code",
   "execution_count": 138,
   "metadata": {},
   "outputs": [
    {
     "data": {
      "text/html": [
       "<div>\n",
       "<style scoped>\n",
       "    .dataframe tbody tr th:only-of-type {\n",
       "        vertical-align: middle;\n",
       "    }\n",
       "\n",
       "    .dataframe tbody tr th {\n",
       "        vertical-align: top;\n",
       "    }\n",
       "\n",
       "    .dataframe thead th {\n",
       "        text-align: right;\n",
       "    }\n",
       "</style>\n",
       "<table border=\"1\" class=\"dataframe\">\n",
       "  <thead>\n",
       "    <tr style=\"text-align: right;\">\n",
       "      <th></th>\n",
       "      <th>ASD_DX_group</th>\n",
       "      <th>Risk</th>\n",
       "    </tr>\n",
       "    <tr>\n",
       "      <th>CandID</th>\n",
       "      <th></th>\n",
       "      <th></th>\n",
       "    </tr>\n",
       "  </thead>\n",
       "  <tbody>\n",
       "    <tr>\n",
       "      <th>172993</th>\n",
       "      <td>ASD</td>\n",
       "      <td>HR</td>\n",
       "    </tr>\n",
       "    <tr>\n",
       "      <th>983222</th>\n",
       "      <td>ASD</td>\n",
       "      <td>HR</td>\n",
       "    </tr>\n",
       "    <tr>\n",
       "      <th>809318</th>\n",
       "      <td>ASD</td>\n",
       "      <td>HR</td>\n",
       "    </tr>\n",
       "    <tr>\n",
       "      <th>321541</th>\n",
       "      <td>ASD</td>\n",
       "      <td>HR</td>\n",
       "    </tr>\n",
       "    <tr>\n",
       "      <th>490878</th>\n",
       "      <td>ASD</td>\n",
       "      <td>HR</td>\n",
       "    </tr>\n",
       "    <tr>\n",
       "      <th>751794</th>\n",
       "      <td>ASD</td>\n",
       "      <td>HR</td>\n",
       "    </tr>\n",
       "    <tr>\n",
       "      <th>174982</th>\n",
       "      <td>ASD</td>\n",
       "      <td>HR</td>\n",
       "    </tr>\n",
       "    <tr>\n",
       "      <th>589344</th>\n",
       "      <td>ASD</td>\n",
       "      <td>HR</td>\n",
       "    </tr>\n",
       "    <tr>\n",
       "      <th>155712</th>\n",
       "      <td>ASD</td>\n",
       "      <td>HR</td>\n",
       "    </tr>\n",
       "    <tr>\n",
       "      <th>857317</th>\n",
       "      <td>ASD</td>\n",
       "      <td>HR</td>\n",
       "    </tr>\n",
       "    <tr>\n",
       "      <th>973338</th>\n",
       "      <td>ASD</td>\n",
       "      <td>HR</td>\n",
       "    </tr>\n",
       "    <tr>\n",
       "      <th>443584</th>\n",
       "      <td>ASD</td>\n",
       "      <td>HR</td>\n",
       "    </tr>\n",
       "    <tr>\n",
       "      <th>996243</th>\n",
       "      <td>ASD</td>\n",
       "      <td>HR</td>\n",
       "    </tr>\n",
       "  </tbody>\n",
       "</table>\n",
       "</div>"
      ],
      "text/plain": [
       "       ASD_DX_group Risk\n",
       "CandID                  \n",
       "172993          ASD   HR\n",
       "983222          ASD   HR\n",
       "809318          ASD   HR\n",
       "321541          ASD   HR\n",
       "490878          ASD   HR\n",
       "751794          ASD   HR\n",
       "174982          ASD   HR\n",
       "589344          ASD   HR\n",
       "155712          ASD   HR\n",
       "857317          ASD   HR\n",
       "973338          ASD   HR\n",
       "443584          ASD   HR\n",
       "996243          ASD   HR"
      ]
     },
     "execution_count": 138,
     "metadata": {},
     "output_type": "execute_result"
    }
   ],
   "source": [
    "HR_risk_labels = pd.Series(HR_enc_labels[:,0], dtype=int, index=HR_analysis_labels.index)\n",
    "\n",
    "reindexed_labels = HR_risk_labels.iloc[HR_pipeline.testing_idxs]\n",
    "correct_idxs = HR_pipeline.correct_preds_bool_arr\n",
    "_correct = HR_analysis_labels.loc[reindexed_labels[correct_idxs].index]\n",
    "HR_correct = _correct[_correct[\"ASD_DX_group\"]==\"ASD\"]\n",
    "HR_correct"
   ]
  },
  {
   "cell_type": "code",
   "execution_count": 153,
   "metadata": {},
   "outputs": [],
   "source": [
    "# plot_3d_lrp(pipeline.training_lrp, colors=HR_pipeline.clusterer.labels_)"
   ]
  },
  {
   "cell_type": "code",
   "execution_count": 159,
   "metadata": {},
   "outputs": [
    {
     "name": "stdout",
     "output_type": "stream",
     "text": [
      "Cluster: 0\n",
      "Size: 7\n",
      "Cluster: 1\n",
      "Size: 20\n"
     ]
    },
    {
     "data": {
      "image/png": "[encoded data removed]",
      "text/plain": [
       "<Figure size 1728x576 with 1 Axes>"
      ]
     },
     "metadata": {
      "needs_background": "light"
     },
     "output_type": "display_data"
    },
    {
     "data": {
      "image/png": "[encoded data removed]",
      "text/plain": [
       "<Figure size 1728x576 with 1 Axes>"
      ]
     },
     "metadata": {
      "needs_background": "light"
     },
     "output_type": "display_data"
    }
   ],
   "source": [
    "cluster_rels = {}\n",
    "cluster_metrics = {}\n",
    "\n",
    "for cluster_label in subcluster_labels:\n",
    "    \n",
    "    print(\"Cluster:\", cluster_label)\n",
    "    tsamples = target_class_features[(pipeline.clusterer.labels_ == cluster_label)]\n",
    "    tlabels  = target_class_labels[(pipeline.clusterer.labels_ == cluster_label)]\n",
    "    print(\"Size:\", tlabels.shape[0])\n",
    "    \n",
    "    _clustered = pd.DataFrame(pipeline.training_lrp[(pipeline.clusterer.labels_ == cluster_label)],\n",
    "                              columns = train_data.columns)\n",
    "#   \n",
    "    _metrics = _clustered.describe().loc[[\"mean\",\"75%\",\"max\"]]\n",
    "    srtd_metrics = _metrics.sort_values(by=[\"mean\", \"75%\", \"max\"], axis=1)\n",
    "    srtd_metrics.plot(kind=\"bar\", figsize=(24,8), legend=False, grid=True)\n",
    "    \n",
    "    cluster_metrics[cluster_label] = _metrics.T\n",
    "    cluster_rels[cluster_label] = _clustered"
   ]
  },
  {
   "cell_type": "markdown",
   "metadata": {},
   "source": [
    "# Check sample IDs"
   ]
  },
  {
   "cell_type": "code",
   "execution_count": 232,
   "metadata": {},
   "outputs": [
    {
     "name": "stdout",
     "output_type": "stream",
     "text": [
      "(11,)\n"
     ]
    },
    {
     "data": {
      "text/plain": [
       "Int64Index([172993, 983222, 809318, 490878, 751794, 174982, 589344, 155712,\n",
       "            973338, 443584, 996243],\n",
       "           dtype='int64', name='CandID')"
      ]
     },
     "execution_count": 232,
     "metadata": {},
     "output_type": "execute_result"
    }
   ],
   "source": [
    "HR_idx = HR_correct.index\n",
    "LR_idx = LR_correct.index\n",
    "\n",
    "common_idxs = HR_idx.intersection(LR_idx)\n",
    "LR_lrp = pd.DataFrame(LR_pipeline.training_lrp[LR_correct.index.isin(common_idxs)], columns=train_data.columns)\n",
    "HR_lrp = pd.DataFrame(HR_pipeline.training_lrp[HR_correct.index.isin(common_idxs)], columns=train_data.columns)\n",
    "\n",
    "print(common_idxs.shape)\n",
    "common_idxs"
   ]
  },
  {
   "cell_type": "markdown",
   "metadata": {},
   "source": [
    "> # Compare LRPs of patients common to BOTH n/ws"
   ]
  },
  {
   "cell_type": "code",
   "execution_count": 233,
   "metadata": {},
   "outputs": [
    {
     "data": {
      "text/plain": [
       "<matplotlib.axes._subplots.AxesSubplot at 0x1a49763be0>"
      ]
     },
     "execution_count": 233,
     "metadata": {},
     "output_type": "execute_result"
    },
    {
     "data": {
      "image/png": "[encoded data removed]",
      "text/plain": [
       "<Figure size 1728x576 with 1 Axes>"
      ]
     },
     "metadata": {
      "needs_background": "light"
     },
     "output_type": "display_data"
    }
   ],
   "source": [
    "metrics_ = LR_lrp.describe().loc[[\"mean\",\"75%\",\"max\"]]\n",
    "\n",
    "srtd_metrics = metrics_.sort_values(by=[\"mean\"], axis=1)\n",
    "srtd_metrics.plot(kind=\"bar\", figsize=(24,8), legend=False, grid=True)"
   ]
  },
  {
   "cell_type": "code",
   "execution_count": 234,
   "metadata": {},
   "outputs": [
    {
     "data": {
      "text/plain": [
       "<matplotlib.axes._subplots.AxesSubplot at 0x1a49bde3c8>"
      ]
     },
     "execution_count": 234,
     "metadata": {},
     "output_type": "execute_result"
    },
    {
     "data": {
      "image/png": "[encoded data removed]",
      "text/plain": [
       "<Figure size 1728x432 with 1 Axes>"
      ]
     },
     "metadata": {
      "needs_background": "light"
     },
     "output_type": "display_data"
    }
   ],
   "source": [
    "metrics_ = HR_lrp.describe().loc[[\"mean\",\"75%\",\"max\"]]\n",
    "\n",
    "srtd_metrics = metrics_.sort_values(by=[\"mean\"], axis=1)\n",
    "srtd_metrics.plot(kind=\"bar\", figsize=(24,6), legend=False, grid=True)"
   ]
  },
  {
   "cell_type": "code",
   "execution_count": 235,
   "metadata": {},
   "outputs": [],
   "source": [
    "# the most important features for at least (1-x)% of the samples\n",
    "def plot_metrics(lrp_):\n",
    "    thresh = 0.2\n",
    "\n",
    "    metrics = [lrp_.mean(), lrp_.median(), lrp_.quantile(thresh)]\n",
    "\n",
    "    for metric in metrics:\n",
    "        _m = metric.sort_values(ascending=False)[:20]\n",
    "        _m.plot(kind=\"bar\", figsize=(24,8), legend=False, grid=True)\n",
    "        plt.show()"
   ]
  },
  {
   "cell_type": "code",
   "execution_count": 236,
   "metadata": {},
   "outputs": [
    {
     "name": "stdout",
     "output_type": "stream",
     "text": [
      "Size: 5\n"
     ]
    },
    {
     "data": {
      "text/plain": [
       "Index(['ROI274', 'ROI197', 'ROI101', 'ROI38', 'ROI140'], dtype='object')"
      ]
     },
     "execution_count": 236,
     "metadata": {},
     "output_type": "execute_result"
    }
   ],
   "source": [
    "# Get top-K features for the given metric\n",
    "K = 10\n",
    "metric_fn = lambda x: x.quantile(0.5).sort_values(ascending=False)[:K]\n",
    "\n",
    "LR_lrp_metric = metric_fn(LR_lrp)\n",
    "HR_lrp_metric = metric_fn(HR_lrp)\n",
    "\n",
    "lrp_intersect = HR_lrp_metric.index.intersection(LR_lrp_metric.index)\n",
    "\n",
    "print(\"Size:\", lrp_intersect.shape[0])\n",
    "lrp_intersect"
   ]
  },
  {
   "cell_type": "code",
   "execution_count": 237,
   "metadata": {},
   "outputs": [
    {
     "data": {
      "text/plain": [
       "<matplotlib.axes._subplots.AxesSubplot at 0x1a4ab61f28>"
      ]
     },
     "execution_count": 237,
     "metadata": {},
     "output_type": "execute_result"
    },
    {
     "data": {
      "image/png": "[encoded data removed]",
      "text/plain": [
       "<Figure size 1152x432 with 1 Axes>"
      ]
     },
     "metadata": {
      "needs_background": "light"
     },
     "output_type": "display_data"
    }
   ],
   "source": [
    "LR_lrp_metric.plot(kind=\"bar\", figsize=(16,6), legend=False, grid=True)"
   ]
  },
  {
   "cell_type": "code",
   "execution_count": 238,
   "metadata": {},
   "outputs": [
    {
     "data": {
      "text/plain": [
       "<matplotlib.axes._subplots.AxesSubplot at 0x1a4aff4fd0>"
      ]
     },
     "execution_count": 238,
     "metadata": {},
     "output_type": "execute_result"
    },
    {
     "data": {
      "image/png": "[encoded data removed]",
      "text/plain": [
       "<Figure size 1152x432 with 1 Axes>"
      ]
     },
     "metadata": {
      "needs_background": "light"
     },
     "output_type": "display_data"
    }
   ],
   "source": [
    "HR_lrp_metric.plot(kind=\"bar\", figsize=(16,6), legend=False, grid=True)"
   ]
  },
  {
   "cell_type": "markdown",
   "metadata": {},
   "source": [
    "# Other forms of aggregation??"
   ]
  }
 ],
 "metadata": {
  "kernelspec": {
   "display_name": "Python (condatensor)",
   "language": "python",
   "name": "condatensor"
  },
  "language_info": {
   "codemirror_mode": {
    "name": "ipython",
    "version": 3
   },
   "file_extension": ".py",
   "mimetype": "text/x-python",
   "name": "python",
   "nbconvert_exporter": "python",
   "pygments_lexer": "ipython3",
   "version": "3.6.8"
  }
 },
 "nbformat": 4,
 "nbformat_minor": 4
}
