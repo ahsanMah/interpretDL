{
 "cells": [
  {
   "cell_type": "code",
   "execution_count": 1,
   "metadata": {},
   "outputs": [],
   "source": [
    "# Magic line to force reload all modules when this cell is run multiple times\n",
    "%load_ext autoreload\n",
    "%autoreload 2\n",
    "\n",
    "import sys\n",
    "import os\n",
    "sys.path.insert(0, os.path.expanduser(\"~/Developer/interpretDL/Pipeline\"))"
   ]
  },
  {
   "cell_type": "code",
   "execution_count": 2,
   "metadata": {},
   "outputs": [],
   "source": [
    "# import plotly as py\n",
    "# import plotly.graph_objs as go\n",
    "# from plotly.offline import iplot\n",
    "# from plotly.offline import plot\n",
    "# import ipywidgets as widgets\n",
    "\n",
    "# # %matplotlib widget\n",
    "# py.offline.init_notebook_mode(connected=True)"
   ]
  },
  {
   "cell_type": "code",
   "execution_count": 3,
   "metadata": {},
   "outputs": [],
   "source": [
    "import numpy as np\n",
    "import pandas as pd\n",
    "# import umap\n",
    "\n",
    "from datetime import datetime\n",
    "# from ClusterPipeline import ClusterPipeline\n",
    "from helper import split_valid, plot_confusion_matrix, plot_history\n",
    "from sklearn.datasets import make_classification\n",
    "from sklearn.metrics import classification_report\n",
    "from sklearn.pipeline import Pipeline\n",
    "from sklearn.preprocessing import MinMaxScaler\n",
    "from sklearn.preprocessing import OrdinalEncoder\n",
    "from sklearn.preprocessing import StandardScaler\n",
    "from sklearn.utils.class_weight import compute_class_weight\n",
    "from sklearn.model_selection import GridSearchCV\n",
    "\n",
    "RANDOM_STATE = 42\n",
    "np.random.seed(seed=RANDOM_STATE) "
   ]
  },
  {
   "cell_type": "code",
   "execution_count": 4,
   "metadata": {},
   "outputs": [
    {
     "name": "stderr",
     "output_type": "stream",
     "text": [
      "Using TensorFlow backend.\n",
      "/home/smaug/anaconda3/envs/condatensor/lib/python3.7/site-packages/tensorboard/compat/tensorflow_stub/dtypes.py:541: FutureWarning: Passing (type, 1) or '1type' as a synonym of type is deprecated; in a future version of numpy, it will be understood as (type, (1,)) / '(1,)type'.\n",
      "  _np_qint8 = np.dtype([(\"qint8\", np.int8, 1)])\n",
      "/home/smaug/anaconda3/envs/condatensor/lib/python3.7/site-packages/tensorboard/compat/tensorflow_stub/dtypes.py:542: FutureWarning: Passing (type, 1) or '1type' as a synonym of type is deprecated; in a future version of numpy, it will be understood as (type, (1,)) / '(1,)type'.\n",
      "  _np_quint8 = np.dtype([(\"quint8\", np.uint8, 1)])\n",
      "/home/smaug/anaconda3/envs/condatensor/lib/python3.7/site-packages/tensorboard/compat/tensorflow_stub/dtypes.py:543: FutureWarning: Passing (type, 1) or '1type' as a synonym of type is deprecated; in a future version of numpy, it will be understood as (type, (1,)) / '(1,)type'.\n",
      "  _np_qint16 = np.dtype([(\"qint16\", np.int16, 1)])\n",
      "/home/smaug/anaconda3/envs/condatensor/lib/python3.7/site-packages/tensorboard/compat/tensorflow_stub/dtypes.py:544: FutureWarning: Passing (type, 1) or '1type' as a synonym of type is deprecated; in a future version of numpy, it will be understood as (type, (1,)) / '(1,)type'.\n",
      "  _np_quint16 = np.dtype([(\"quint16\", np.uint16, 1)])\n",
      "/home/smaug/anaconda3/envs/condatensor/lib/python3.7/site-packages/tensorboard/compat/tensorflow_stub/dtypes.py:545: FutureWarning: Passing (type, 1) or '1type' as a synonym of type is deprecated; in a future version of numpy, it will be understood as (type, (1,)) / '(1,)type'.\n",
      "  _np_qint32 = np.dtype([(\"qint32\", np.int32, 1)])\n",
      "/home/smaug/anaconda3/envs/condatensor/lib/python3.7/site-packages/tensorboard/compat/tensorflow_stub/dtypes.py:550: FutureWarning: Passing (type, 1) or '1type' as a synonym of type is deprecated; in a future version of numpy, it will be understood as (type, (1,)) / '(1,)type'.\n",
      "  np_resource = np.dtype([(\"resource\", np.ubyte, 1)])\n"
     ]
    }
   ],
   "source": [
    "from keras.models import Sequential\n",
    "from keras.layers import Dense\n",
    "from keras.wrappers.scikit_learn import KerasClassifier\n",
    "from tensorflow.keras.callbacks import TensorBoard"
   ]
  },
  {
   "cell_type": "code",
   "execution_count": 5,
   "metadata": {},
   "outputs": [
    {
     "data": {
      "text/plain": [
       "array([[443.6580811 , 156.8248444 , 157.2230988 , ...,  32.40001297,\n",
       "         10.53292751,   1.        ],\n",
       "       [529.8170776 , 301.1605835 , 129.0924835 , ...,  44.31515884,\n",
       "         12.01620674,   1.        ],\n",
       "       [689.3991699 , 303.3375244 , 154.1694336 , ...,  63.73936081,\n",
       "         10.89778328,   1.        ],\n",
       "       ...,\n",
       "       [630.8562622 , 303.7183533 , 210.3960266 , ...,  40.54899216,\n",
       "         17.80297661,   0.        ],\n",
       "       [479.3210144 , 263.7200623 , 136.6897278 , ...,  42.96739197,\n",
       "         12.05090141,   0.        ],\n",
       "       [767.0294189 , 488.8855896 , 134.025528  , ...,  36.10884857,\n",
       "         15.40684414,   0.        ]])"
      ]
     },
     "execution_count": 5,
     "metadata": {},
     "output_type": "execute_result"
    }
   ],
   "source": [
    "fname = \"data/hr_lr.csv\"\n",
    "raw_data = pd.read_csv(fname, index_col=0).values\n",
    "raw_data"
   ]
  },
  {
   "cell_type": "code",
   "execution_count": 6,
   "metadata": {},
   "outputs": [
    {
     "data": {
      "text/plain": [
       "(164, 333)"
      ]
     },
     "execution_count": 6,
     "metadata": {},
     "output_type": "execute_result"
    }
   ],
   "source": [
    "X = raw_data[:, :-1]\n",
    "Y = raw_data[:,-1].reshape(-1,1)\n",
    "X.shape"
   ]
  },
  {
   "cell_type": "code",
   "execution_count": 7,
   "metadata": {},
   "outputs": [],
   "source": [
    "ZScaler = StandardScaler().fit(X)\n",
    "X = ZScaler.transform(X)"
   ]
  },
  {
   "cell_type": "markdown",
   "metadata": {},
   "source": [
    "## Example run using Grid Search"
   ]
  },
  {
   "cell_type": "code",
   "execution_count": 8,
   "metadata": {},
   "outputs": [],
   "source": [
    "# Function to create model, required for KerasClassifier\n",
    "def create_model(nodes=12):\n",
    "    # create model\n",
    "    model = Sequential()\n",
    "    model.add(Dense(nodes, input_dim=333, activation='relu'))\n",
    "    model.add(Dense(1, activation='sigmoid'))\n",
    "    # Compile model\n",
    "    model.compile(loss='binary_crossentropy', optimizer='sgd',\n",
    "                  metrics=['accuracy'])\n",
    "    return model"
   ]
  },
  {
   "cell_type": "code",
   "execution_count": 15,
   "metadata": {},
   "outputs": [
    {
     "name": "stderr",
     "output_type": "stream",
     "text": [
      "/home/smaug/anaconda3/envs/condatensor/lib/python3.7/site-packages/sklearn/model_selection/_search.py:813: DeprecationWarning: The default of the `iid` parameter will change from True to False in version 0.22 and will be removed in 0.24. This will change numeric results when test-set sizes are unequal.\n",
      "  DeprecationWarning)\n"
     ]
    },
    {
     "name": "stdout",
     "output_type": "stream",
     "text": [
      "CPU times: user 4.53 s, sys: 162 ms, total: 4.7 s\n",
      "Wall time: 32.4 s\n"
     ]
    }
   ],
   "source": [
    "%%time\n",
    "# create model\n",
    "model = KerasClassifier(build_fn=create_model, verbose=0)\n",
    "# define the grid search parameters\n",
    "batch_size = [20]\n",
    "num_nodes = [64,100,128]   #np.logspace(3, 8, num=6, base=2, dtype=int)\n",
    "epochs = [500]\n",
    "param_grid = dict(batch_size=batch_size, epochs=epochs, nodes=num_nodes)\n",
    "grid = GridSearchCV(estimator=model, param_grid=param_grid, n_jobs=4, cv=10)\n",
    "grid_result = grid.fit(X, Y)"
   ]
  },
  {
   "cell_type": "code",
   "execution_count": 16,
   "metadata": {},
   "outputs": [
    {
     "name": "stdout",
     "output_type": "stream",
     "text": [
      "Best: 0.512195 using {'batch_size': 20, 'epochs': 500, 'nodes': 100}\n",
      "0.481707 (0.165652) with: {'batch_size': 20, 'epochs': 500, 'nodes': 64}\n",
      "0.512195 (0.213239) with: {'batch_size': 20, 'epochs': 500, 'nodes': 100}\n",
      "0.500000 (0.220914) with: {'batch_size': 20, 'epochs': 500, 'nodes': 128}\n"
     ]
    }
   ],
   "source": [
    "# summarize results\n",
    "print(\"Best: %f using %s\" % (grid_result.best_score_, grid_result.best_params_))\n",
    "means = grid_result.cv_results_['mean_test_score']\n",
    "stds = grid_result.cv_results_['std_test_score']\n",
    "params = grid_result.cv_results_['params']\n",
    "for mean, stdev, param in zip(means, stds, params):\n",
    "    print(\"%f (%f) with: %r\" % (mean, stdev, param))"
   ]
  },
  {
   "cell_type": "markdown",
   "metadata": {},
   "source": [
    "## DNN Search"
   ]
  },
  {
   "cell_type": "code",
   "execution_count": 8,
   "metadata": {},
   "outputs": [],
   "source": [
    "def build_dnn(nodes=(150,25), activation=\"elu\", dropout_rate=0.0):\n",
    "    \n",
    "    import tensorflow as tf\n",
    "    import keras\n",
    "    from keras import optimizers\n",
    "    from keras import regularizers\n",
    "    keras.backend.clear_session()\n",
    "    \n",
    "    tf.random.set_random_seed(RANDOM_STATE)\n",
    "    \n",
    "    reg_scale = 0.01 # For L1 Reg\n",
    "    my_reg = regularizers.l1(reg_scale) # Can change this if needed\n",
    "    \n",
    "    dnn = keras.models.Sequential()\n",
    "\n",
    "    Dense = keras.layers.Dense\n",
    "\n",
    "    # Using He initialization\n",
    "    he_init = keras.initializers.he_normal(seed=RANDOM_STATE)\n",
    "    \n",
    "    dnn.add(Dense(units = nodes[0], activation=activation, input_dim=333,\n",
    "                  kernel_initializer=he_init, kernel_regularizer = regularizers.l1(reg_scale)))\n",
    "    dnn.add(keras.layers.Dropout(dropout_rate))\n",
    "    dnn.add(Dense(units = nodes[1], activation=activation,\n",
    "                  kernel_initializer=he_init, kernel_regularizer = regularizers.l1(reg_scale)))\n",
    "    dnn.add(keras.layers.Dropout(dropout_rate))\n",
    "    \n",
    "    dnn.add(Dense(units=1, activation=\"sigmoid\",\n",
    "                  kernel_initializer=he_init, kernel_regularizer = my_reg)) # 5 labels -> logits for now\n",
    "    \n",
    "    SGD=keras.optimizers.SGD(lr=0.001)\n",
    "    \n",
    "    dnn.compile(loss='binary_crossentropy',\n",
    "                  optimizer=SGD,\n",
    "                  metrics=['accuracy']) #Internally it seems to be same as binary accuracy\n",
    "    \n",
    "    return dnn"
   ]
  },
  {
   "cell_type": "code",
   "execution_count": 38,
   "metadata": {
    "collapsed": true,
    "jupyter": {
     "outputs_hidden": true,
     "source_hidden": true
    }
   },
   "outputs": [
    {
     "name": "stdout",
     "output_type": "stream",
     "text": [
      "(131, 333)\n"
     ]
    },
    {
     "data": {
      "text/plain": [
       "1.0    79\n",
       "0.0    52\n",
       "dtype: int64"
      ]
     },
     "execution_count": 38,
     "metadata": {},
     "output_type": "execute_result"
    }
   ],
   "source": [
    "# Separating a hold out set that will be used for validation of the pipeline\n",
    "data_df = pd.DataFrame(X)\n",
    "labels_df = pd.Series(np.ravel(Y))\n",
    "X_train, y_train, X_valid, y_valid = split_valid(data_df, labels_df, valid_size=0.2)\n",
    "class_weight = compute_class_weight(\"balanced\", np.unique(y_train), y_train)\n",
    "print(X_train.shape)\n",
    "y_train.value_counts()"
   ]
  },
  {
   "cell_type": "code",
   "execution_count": 43,
   "metadata": {
    "collapsed": true,
    "jupyter": {
     "outputs_hidden": true,
     "source_hidden": true
    }
   },
   "outputs": [
    {
     "name": "stdout",
     "output_type": "stream",
     "text": [
      "CPU times: user 13 s, sys: 606 ms, total: 13.6 s\n",
      "Wall time: 7.12 s\n"
     ]
    }
   ],
   "source": [
    "%%time\n",
    "dnn = build_dnn()\n",
    "time = datetime.now().strftime(\"%Y%m%d-%H%M%S\")\n",
    "tensorboard = TensorBoard(log_dir='./logs/{}'.format(time),\n",
    "                          update_freq=\"epoch\", write_graph=False)  # Very weird bug where TB will stop writing after some epochs...\n",
    "\n",
    "history = dnn.fit(X_train, y_train, validation_data=(X_valid,y_valid),class_weight=class_weight,\n",
    "                  epochs=1000, batch_size=20, verbose=0, callbacks=[])"
   ]
  },
  {
   "cell_type": "code",
   "execution_count": 44,
   "metadata": {
    "collapsed": true,
    "jupyter": {
     "outputs_hidden": true,
     "source_hidden": true
    }
   },
   "outputs": [
    {
     "data": {
      "image/png": "[encoded data removed]",
      "text/plain": [
       "<Figure size 864x432 with 2 Axes>"
      ]
     },
     "metadata": {
      "needs_background": "light"
     },
     "output_type": "display_data"
    },
    {
     "name": "stdout",
     "output_type": "stream",
     "text": [
      "33/33 [==============================] - 0s 40us/step\n",
      "Loss:10.404, Acc:0.6061\n"
     ]
    }
   ],
   "source": [
    "plot_history(history)\n",
    "print(\"Loss:{:0.3f}, Acc:{:.4f}\".format(*dnn.evaluate(X_valid,y_valid)))"
   ]
  },
  {
   "cell_type": "markdown",
   "metadata": {},
   "source": [
    "## Architecture Search"
   ]
  },
  {
   "cell_type": "code",
   "execution_count": 9,
   "metadata": {},
   "outputs": [
    {
     "data": {
      "text/plain": [
       "[(32, 16),\n",
       " (64, 16),\n",
       " (64, 32),\n",
       " (128, 16),\n",
       " (128, 32),\n",
       " (128, 64),\n",
       " (256, 16),\n",
       " (256, 32),\n",
       " (256, 64),\n",
       " (256, 128)]"
      ]
     },
     "execution_count": 9,
     "metadata": {},
     "output_type": "execute_result"
    }
   ],
   "source": [
    "exp_2 = np.logspace(4, 8, num=5, base=2, dtype=int)\n",
    "exp_2_combs = []\n",
    "for i,x in enumerate(exp_2):\n",
    "    for j in range(0,i):\n",
    "        exp_2_combs.append((x,exp_2[j]))\n",
    "exp_2_combs"
   ]
  },
  {
   "cell_type": "markdown",
   "metadata": {},
   "source": [
    "### Only searching powers of 2"
   ]
  },
  {
   "cell_type": "code",
   "execution_count": 10,
   "metadata": {},
   "outputs": [
    {
     "name": "stdout",
     "output_type": "stream",
     "text": [
      "WARNING:tensorflow:From /home/smaug/anaconda3/envs/condatensor/lib/python3.7/site-packages/tensorflow/python/ops/nn_impl.py:180: add_dispatch_support.<locals>.wrapper (from tensorflow.python.ops.array_ops) is deprecated and will be removed in a future version.\n",
      "Instructions for updating:\n",
      "Use tf.where in 2.0, which has the same broadcast rule as np.where\n"
     ]
    },
    {
     "name": "stderr",
     "output_type": "stream",
     "text": [
      "/home/smaug/anaconda3/envs/condatensor/lib/python3.7/site-packages/sklearn/model_selection/_search.py:813: DeprecationWarning: The default of the `iid` parameter will change from True to False in version 0.22 and will be removed in 0.24. This will change numeric results when test-set sizes are unequal.\n",
      "  DeprecationWarning)\n"
     ]
    },
    {
     "name": "stdout",
     "output_type": "stream",
     "text": [
      "WARNING:tensorflow:From /home/smaug/anaconda3/envs/condatensor/lib/python3.7/site-packages/keras/backend/tensorflow_backend.py:422: The name tf.global_variables is deprecated. Please use tf.compat.v1.global_variables instead.\n",
      "\n",
      "CPU times: user 1min 21s, sys: 6.09 s, total: 1min 27s\n",
      "Wall time: 4h 27min 29s\n"
     ]
    }
   ],
   "source": [
    "%%time\n",
    "# create model\n",
    "model = KerasClassifier(build_fn=build_dnn, verbose=0)\n",
    "# define the grid search parameters\n",
    "batch_size = [1,10,15,20,25]\n",
    "num_nodes = exp_2_combs   #np.logspace(3, 8, num=6, base=2, dtype=int)\n",
    "epochs = [100, 150, 200, 250, 300, 400, 500, 1000]\n",
    "param_grid = dict(batch_size=batch_size, epochs=epochs, nodes=num_nodes)\n",
    "grid = GridSearchCV(estimator=model, param_grid=param_grid, n_jobs=8, cv=10)\n",
    "# grid_result = grid.fit(X, Y)"
   ]
  },
  {
   "cell_type": "code",
   "execution_count": 11,
   "metadata": {},
   "outputs": [
    {
     "name": "stdout",
     "output_type": "stream",
     "text": [
      "Best: 0.670732 using {'batch_size': 1, 'epochs': 300, 'nodes': (256, 32)}\n"
     ]
    }
   ],
   "source": [
    "# summarize results\n",
    "print(\"Best: %f using %s\" % (grid_result.best_score_, grid_result.best_params_))\n",
    "means = grid_result.cv_results_['mean_test_score']\n",
    "stds = grid_result.cv_results_['std_test_score']\n",
    "params = grid_result.cv_results_['params']\n",
    "# for mean, stdev, param in zip(means, stds, params):\n",
    "#     print(\"%.4f +/- %.3f with: %r\" % (mean, stdev, param))"
   ]
  },
  {
   "cell_type": "code",
   "execution_count": 13,
   "metadata": {},
   "outputs": [],
   "source": [
    "# for mean, stdev, param in zip(means, stds, params):\n",
    "#     print(\"%.4f +/- %.3f with: %r\" % (mean, stdev, param))"
   ]
  },
  {
   "cell_type": "code",
   "execution_count": 22,
   "metadata": {},
   "outputs": [
    {
     "data": {
      "text/html": [
       "<div>\n",
       "<style scoped>\n",
       "    .dataframe tbody tr th:only-of-type {\n",
       "        vertical-align: middle;\n",
       "    }\n",
       "\n",
       "    .dataframe tbody tr th {\n",
       "        vertical-align: top;\n",
       "    }\n",
       "\n",
       "    .dataframe thead th {\n",
       "        text-align: right;\n",
       "    }\n",
       "</style>\n",
       "<table border=\"1\" class=\"dataframe\">\n",
       "  <thead>\n",
       "    <tr style=\"text-align: right;\">\n",
       "      <th></th>\n",
       "      <th>mean_fit_time</th>\n",
       "      <th>std_fit_time</th>\n",
       "      <th>mean_score_time</th>\n",
       "      <th>std_score_time</th>\n",
       "      <th>param_batch_size</th>\n",
       "      <th>param_epochs</th>\n",
       "      <th>param_nodes</th>\n",
       "      <th>params</th>\n",
       "      <th>split0_test_score</th>\n",
       "      <th>split1_test_score</th>\n",
       "      <th>...</th>\n",
       "      <th>split3_test_score</th>\n",
       "      <th>split4_test_score</th>\n",
       "      <th>split5_test_score</th>\n",
       "      <th>split6_test_score</th>\n",
       "      <th>split7_test_score</th>\n",
       "      <th>split8_test_score</th>\n",
       "      <th>split9_test_score</th>\n",
       "      <th>mean_test_score</th>\n",
       "      <th>std_test_score</th>\n",
       "      <th>rank_test_score</th>\n",
       "    </tr>\n",
       "  </thead>\n",
       "  <tbody>\n",
       "    <tr>\n",
       "      <td>0</td>\n",
       "      <td>11.779642</td>\n",
       "      <td>0.603672</td>\n",
       "      <td>0.037981</td>\n",
       "      <td>0.006318</td>\n",
       "      <td>1</td>\n",
       "      <td>100</td>\n",
       "      <td>(32, 16)</td>\n",
       "      <td>{'batch_size': 1, 'epochs': 100, 'nodes': (32,...</td>\n",
       "      <td>0.882353</td>\n",
       "      <td>0.529412</td>\n",
       "      <td>...</td>\n",
       "      <td>0.705882</td>\n",
       "      <td>0.7500</td>\n",
       "      <td>0.6250</td>\n",
       "      <td>0.4375</td>\n",
       "      <td>0.3750</td>\n",
       "      <td>0.3125</td>\n",
       "      <td>0.3750</td>\n",
       "      <td>0.585366</td>\n",
       "      <td>0.194119</td>\n",
       "      <td>94</td>\n",
       "    </tr>\n",
       "    <tr>\n",
       "      <td>1</td>\n",
       "      <td>14.276489</td>\n",
       "      <td>0.339280</td>\n",
       "      <td>0.039377</td>\n",
       "      <td>0.002844</td>\n",
       "      <td>1</td>\n",
       "      <td>100</td>\n",
       "      <td>(64, 16)</td>\n",
       "      <td>{'batch_size': 1, 'epochs': 100, 'nodes': (64,...</td>\n",
       "      <td>0.823529</td>\n",
       "      <td>0.529412</td>\n",
       "      <td>...</td>\n",
       "      <td>0.823529</td>\n",
       "      <td>0.8125</td>\n",
       "      <td>0.8125</td>\n",
       "      <td>0.3125</td>\n",
       "      <td>0.3125</td>\n",
       "      <td>0.3125</td>\n",
       "      <td>0.4375</td>\n",
       "      <td>0.579268</td>\n",
       "      <td>0.214567</td>\n",
       "      <td>100</td>\n",
       "    </tr>\n",
       "    <tr>\n",
       "      <td>2</td>\n",
       "      <td>15.590874</td>\n",
       "      <td>0.863209</td>\n",
       "      <td>0.043693</td>\n",
       "      <td>0.005187</td>\n",
       "      <td>1</td>\n",
       "      <td>100</td>\n",
       "      <td>(64, 32)</td>\n",
       "      <td>{'batch_size': 1, 'epochs': 100, 'nodes': (64,...</td>\n",
       "      <td>0.823529</td>\n",
       "      <td>0.529412</td>\n",
       "      <td>...</td>\n",
       "      <td>0.823529</td>\n",
       "      <td>0.8125</td>\n",
       "      <td>0.6875</td>\n",
       "      <td>0.3125</td>\n",
       "      <td>0.2500</td>\n",
       "      <td>0.3125</td>\n",
       "      <td>0.3750</td>\n",
       "      <td>0.554878</td>\n",
       "      <td>0.216851</td>\n",
       "      <td>125</td>\n",
       "    </tr>\n",
       "    <tr>\n",
       "      <td>3</td>\n",
       "      <td>23.637362</td>\n",
       "      <td>2.155645</td>\n",
       "      <td>0.057084</td>\n",
       "      <td>0.006718</td>\n",
       "      <td>1</td>\n",
       "      <td>100</td>\n",
       "      <td>(128, 16)</td>\n",
       "      <td>{'batch_size': 1, 'epochs': 100, 'nodes': (128...</td>\n",
       "      <td>0.941176</td>\n",
       "      <td>0.470588</td>\n",
       "      <td>...</td>\n",
       "      <td>0.764706</td>\n",
       "      <td>0.8125</td>\n",
       "      <td>0.6875</td>\n",
       "      <td>0.3750</td>\n",
       "      <td>0.3125</td>\n",
       "      <td>0.3125</td>\n",
       "      <td>0.3125</td>\n",
       "      <td>0.560976</td>\n",
       "      <td>0.222236</td>\n",
       "      <td>121</td>\n",
       "    </tr>\n",
       "    <tr>\n",
       "      <td>4</td>\n",
       "      <td>24.477040</td>\n",
       "      <td>0.625858</td>\n",
       "      <td>0.056899</td>\n",
       "      <td>0.005089</td>\n",
       "      <td>1</td>\n",
       "      <td>100</td>\n",
       "      <td>(128, 32)</td>\n",
       "      <td>{'batch_size': 1, 'epochs': 100, 'nodes': (128...</td>\n",
       "      <td>0.823529</td>\n",
       "      <td>0.470588</td>\n",
       "      <td>...</td>\n",
       "      <td>0.764706</td>\n",
       "      <td>0.7500</td>\n",
       "      <td>0.6875</td>\n",
       "      <td>0.3125</td>\n",
       "      <td>0.3125</td>\n",
       "      <td>0.3125</td>\n",
       "      <td>0.3750</td>\n",
       "      <td>0.548780</td>\n",
       "      <td>0.198511</td>\n",
       "      <td>143</td>\n",
       "    </tr>\n",
       "    <tr>\n",
       "      <td>...</td>\n",
       "      <td>...</td>\n",
       "      <td>...</td>\n",
       "      <td>...</td>\n",
       "      <td>...</td>\n",
       "      <td>...</td>\n",
       "      <td>...</td>\n",
       "      <td>...</td>\n",
       "      <td>...</td>\n",
       "      <td>...</td>\n",
       "      <td>...</td>\n",
       "      <td>...</td>\n",
       "      <td>...</td>\n",
       "      <td>...</td>\n",
       "      <td>...</td>\n",
       "      <td>...</td>\n",
       "      <td>...</td>\n",
       "      <td>...</td>\n",
       "      <td>...</td>\n",
       "      <td>...</td>\n",
       "      <td>...</td>\n",
       "      <td>...</td>\n",
       "    </tr>\n",
       "    <tr>\n",
       "      <td>75</td>\n",
       "      <td>288.504443</td>\n",
       "      <td>14.621016</td>\n",
       "      <td>0.069117</td>\n",
       "      <td>0.009607</td>\n",
       "      <td>1</td>\n",
       "      <td>1000</td>\n",
       "      <td>(128, 64)</td>\n",
       "      <td>{'batch_size': 1, 'epochs': 1000, 'nodes': (12...</td>\n",
       "      <td>0.823529</td>\n",
       "      <td>0.529412</td>\n",
       "      <td>...</td>\n",
       "      <td>0.823529</td>\n",
       "      <td>0.8125</td>\n",
       "      <td>0.8750</td>\n",
       "      <td>0.3750</td>\n",
       "      <td>0.6250</td>\n",
       "      <td>0.3125</td>\n",
       "      <td>0.4375</td>\n",
       "      <td>0.628049</td>\n",
       "      <td>0.194272</td>\n",
       "      <td>33</td>\n",
       "    </tr>\n",
       "    <tr>\n",
       "      <td>76</td>\n",
       "      <td>449.889537</td>\n",
       "      <td>24.643113</td>\n",
       "      <td>0.090726</td>\n",
       "      <td>0.010643</td>\n",
       "      <td>1</td>\n",
       "      <td>1000</td>\n",
       "      <td>(256, 16)</td>\n",
       "      <td>{'batch_size': 1, 'epochs': 1000, 'nodes': (25...</td>\n",
       "      <td>0.823529</td>\n",
       "      <td>0.470588</td>\n",
       "      <td>...</td>\n",
       "      <td>0.823529</td>\n",
       "      <td>0.8125</td>\n",
       "      <td>0.8125</td>\n",
       "      <td>0.3125</td>\n",
       "      <td>0.5625</td>\n",
       "      <td>0.3125</td>\n",
       "      <td>0.3750</td>\n",
       "      <td>0.597561</td>\n",
       "      <td>0.205751</td>\n",
       "      <td>83</td>\n",
       "    </tr>\n",
       "    <tr>\n",
       "      <td>77</td>\n",
       "      <td>483.043682</td>\n",
       "      <td>8.366899</td>\n",
       "      <td>0.101175</td>\n",
       "      <td>0.029537</td>\n",
       "      <td>1</td>\n",
       "      <td>1000</td>\n",
       "      <td>(256, 32)</td>\n",
       "      <td>{'batch_size': 1, 'epochs': 1000, 'nodes': (25...</td>\n",
       "      <td>0.823529</td>\n",
       "      <td>0.470588</td>\n",
       "      <td>...</td>\n",
       "      <td>0.823529</td>\n",
       "      <td>0.8125</td>\n",
       "      <td>0.8750</td>\n",
       "      <td>0.3125</td>\n",
       "      <td>0.6250</td>\n",
       "      <td>0.3125</td>\n",
       "      <td>0.4375</td>\n",
       "      <td>0.615854</td>\n",
       "      <td>0.206450</td>\n",
       "      <td>53</td>\n",
       "    </tr>\n",
       "    <tr>\n",
       "      <td>78</td>\n",
       "      <td>525.688910</td>\n",
       "      <td>13.427406</td>\n",
       "      <td>0.102637</td>\n",
       "      <td>0.012288</td>\n",
       "      <td>1</td>\n",
       "      <td>1000</td>\n",
       "      <td>(256, 64)</td>\n",
       "      <td>{'batch_size': 1, 'epochs': 1000, 'nodes': (25...</td>\n",
       "      <td>0.764706</td>\n",
       "      <td>0.470588</td>\n",
       "      <td>...</td>\n",
       "      <td>0.823529</td>\n",
       "      <td>0.8125</td>\n",
       "      <td>0.8750</td>\n",
       "      <td>0.3125</td>\n",
       "      <td>0.6875</td>\n",
       "      <td>0.3125</td>\n",
       "      <td>0.3750</td>\n",
       "      <td>0.609756</td>\n",
       "      <td>0.208469</td>\n",
       "      <td>65</td>\n",
       "    </tr>\n",
       "    <tr>\n",
       "      <td>79</td>\n",
       "      <td>552.919392</td>\n",
       "      <td>28.697897</td>\n",
       "      <td>0.086270</td>\n",
       "      <td>0.018844</td>\n",
       "      <td>1</td>\n",
       "      <td>1000</td>\n",
       "      <td>(256, 128)</td>\n",
       "      <td>{'batch_size': 1, 'epochs': 1000, 'nodes': (25...</td>\n",
       "      <td>0.823529</td>\n",
       "      <td>0.529412</td>\n",
       "      <td>...</td>\n",
       "      <td>0.823529</td>\n",
       "      <td>0.8125</td>\n",
       "      <td>0.8125</td>\n",
       "      <td>0.3125</td>\n",
       "      <td>0.5625</td>\n",
       "      <td>0.3125</td>\n",
       "      <td>0.4375</td>\n",
       "      <td>0.609756</td>\n",
       "      <td>0.196627</td>\n",
       "      <td>55</td>\n",
       "    </tr>\n",
       "  </tbody>\n",
       "</table>\n",
       "<p>80 rows × 21 columns</p>\n",
       "</div>"
      ],
      "text/plain": [
       "    mean_fit_time  std_fit_time  mean_score_time  std_score_time  \\\n",
       "0       11.779642      0.603672         0.037981        0.006318   \n",
       "1       14.276489      0.339280         0.039377        0.002844   \n",
       "2       15.590874      0.863209         0.043693        0.005187   \n",
       "3       23.637362      2.155645         0.057084        0.006718   \n",
       "4       24.477040      0.625858         0.056899        0.005089   \n",
       "..            ...           ...              ...             ...   \n",
       "75     288.504443     14.621016         0.069117        0.009607   \n",
       "76     449.889537     24.643113         0.090726        0.010643   \n",
       "77     483.043682      8.366899         0.101175        0.029537   \n",
       "78     525.688910     13.427406         0.102637        0.012288   \n",
       "79     552.919392     28.697897         0.086270        0.018844   \n",
       "\n",
       "   param_batch_size param_epochs param_nodes  \\\n",
       "0                 1          100    (32, 16)   \n",
       "1                 1          100    (64, 16)   \n",
       "2                 1          100    (64, 32)   \n",
       "3                 1          100   (128, 16)   \n",
       "4                 1          100   (128, 32)   \n",
       "..              ...          ...         ...   \n",
       "75                1         1000   (128, 64)   \n",
       "76                1         1000   (256, 16)   \n",
       "77                1         1000   (256, 32)   \n",
       "78                1         1000   (256, 64)   \n",
       "79                1         1000  (256, 128)   \n",
       "\n",
       "                                               params  split0_test_score  \\\n",
       "0   {'batch_size': 1, 'epochs': 100, 'nodes': (32,...           0.882353   \n",
       "1   {'batch_size': 1, 'epochs': 100, 'nodes': (64,...           0.823529   \n",
       "2   {'batch_size': 1, 'epochs': 100, 'nodes': (64,...           0.823529   \n",
       "3   {'batch_size': 1, 'epochs': 100, 'nodes': (128...           0.941176   \n",
       "4   {'batch_size': 1, 'epochs': 100, 'nodes': (128...           0.823529   \n",
       "..                                                ...                ...   \n",
       "75  {'batch_size': 1, 'epochs': 1000, 'nodes': (12...           0.823529   \n",
       "76  {'batch_size': 1, 'epochs': 1000, 'nodes': (25...           0.823529   \n",
       "77  {'batch_size': 1, 'epochs': 1000, 'nodes': (25...           0.823529   \n",
       "78  {'batch_size': 1, 'epochs': 1000, 'nodes': (25...           0.764706   \n",
       "79  {'batch_size': 1, 'epochs': 1000, 'nodes': (25...           0.823529   \n",
       "\n",
       "    split1_test_score  ...  split3_test_score  split4_test_score  \\\n",
       "0            0.529412  ...           0.705882             0.7500   \n",
       "1            0.529412  ...           0.823529             0.8125   \n",
       "2            0.529412  ...           0.823529             0.8125   \n",
       "3            0.470588  ...           0.764706             0.8125   \n",
       "4            0.470588  ...           0.764706             0.7500   \n",
       "..                ...  ...                ...                ...   \n",
       "75           0.529412  ...           0.823529             0.8125   \n",
       "76           0.470588  ...           0.823529             0.8125   \n",
       "77           0.470588  ...           0.823529             0.8125   \n",
       "78           0.470588  ...           0.823529             0.8125   \n",
       "79           0.529412  ...           0.823529             0.8125   \n",
       "\n",
       "    split5_test_score  split6_test_score  split7_test_score  \\\n",
       "0              0.6250             0.4375             0.3750   \n",
       "1              0.8125             0.3125             0.3125   \n",
       "2              0.6875             0.3125             0.2500   \n",
       "3              0.6875             0.3750             0.3125   \n",
       "4              0.6875             0.3125             0.3125   \n",
       "..                ...                ...                ...   \n",
       "75             0.8750             0.3750             0.6250   \n",
       "76             0.8125             0.3125             0.5625   \n",
       "77             0.8750             0.3125             0.6250   \n",
       "78             0.8750             0.3125             0.6875   \n",
       "79             0.8125             0.3125             0.5625   \n",
       "\n",
       "    split8_test_score  split9_test_score  mean_test_score  std_test_score  \\\n",
       "0              0.3125             0.3750         0.585366        0.194119   \n",
       "1              0.3125             0.4375         0.579268        0.214567   \n",
       "2              0.3125             0.3750         0.554878        0.216851   \n",
       "3              0.3125             0.3125         0.560976        0.222236   \n",
       "4              0.3125             0.3750         0.548780        0.198511   \n",
       "..                ...                ...              ...             ...   \n",
       "75             0.3125             0.4375         0.628049        0.194272   \n",
       "76             0.3125             0.3750         0.597561        0.205751   \n",
       "77             0.3125             0.4375         0.615854        0.206450   \n",
       "78             0.3125             0.3750         0.609756        0.208469   \n",
       "79             0.3125             0.4375         0.609756        0.196627   \n",
       "\n",
       "    rank_test_score  \n",
       "0                94  \n",
       "1               100  \n",
       "2               125  \n",
       "3               121  \n",
       "4               143  \n",
       "..              ...  \n",
       "75               33  \n",
       "76               83  \n",
       "77               53  \n",
       "78               65  \n",
       "79               55  \n",
       "\n",
       "[80 rows x 21 columns]"
      ]
     },
     "execution_count": 22,
     "metadata": {},
     "output_type": "execute_result"
    }
   ],
   "source": [
    "results = pd.DataFrame(grid_result.cv_results_)\n",
    "batch_1 = results[results[\"param_batch_size\"]==1]\n",
    "batch_1"
   ]
  },
  {
   "cell_type": "code",
   "execution_count": 24,
   "metadata": {},
   "outputs": [
    {
     "data": {
      "text/plain": [
       "<matplotlib.axes._subplots.AxesSubplot at 0x7f88642fde10>"
      ]
     },
     "execution_count": 24,
     "metadata": {},
     "output_type": "execute_result"
    },
    {
     "data": {
      "image/png": "[encoded data removed]",
      "text/plain": [
       "<Figure size 1728x864 with 1 Axes>"
      ]
     },
     "metadata": {
      "needs_background": "light"
     },
     "output_type": "display_data"
    }
   ],
   "source": [
    "batch_1[\"mean_test_score\"].plot(kind=\"bar\", figsize=(24,12), grid=True)"
   ]
  },
  {
   "cell_type": "code",
   "execution_count": 25,
   "metadata": {},
   "outputs": [
    {
     "data": {
      "text/plain": [
       "<matplotlib.axes._subplots.AxesSubplot at 0x7f88642108d0>"
      ]
     },
     "execution_count": 25,
     "metadata": {},
     "output_type": "execute_result"
    },
    {
     "data": {
      "image/png": "[encoded data removed]",
      "text/plain": [
       "<Figure size 432x288 with 1 Axes>"
      ]
     },
     "metadata": {
      "needs_background": "light"
     },
     "output_type": "display_data"
    }
   ],
   "source": [
    "batch_1[\"mean_test_score\"].hist()"
   ]
  },
  {
   "cell_type": "code",
   "execution_count": 27,
   "metadata": {},
   "outputs": [
    {
     "data": {
      "text/plain": [
       "<matplotlib.axes._subplots.AxesSubplot at 0x7f8845855c10>"
      ]
     },
     "execution_count": 27,
     "metadata": {},
     "output_type": "execute_result"
    },
    {
     "data": {
      "image/png": "[encoded data removed]",
      "text/plain": [
       "<Figure size 432x288 with 1 Axes>"
      ]
     },
     "metadata": {
      "needs_background": "light"
     },
     "output_type": "display_data"
    }
   ],
   "source": [
    "results[\"mean_fit_time\"].hist()"
   ]
  },
  {
   "cell_type": "code",
   "execution_count": 32,
   "metadata": {},
   "outputs": [],
   "source": [
    "ranked_results = results.sort_values(by=\"rank_test_score\")\n",
    "batches = {}"
   ]
  },
  {
   "cell_type": "code",
   "execution_count": 33,
   "metadata": {},
   "outputs": [],
   "source": [
    "for b,_df in ranked_results.groupby(by=\"param_batch_size\"):\n",
    "    batches[b] = _df"
   ]
  },
  {
   "cell_type": "code",
   "execution_count": 44,
   "metadata": {},
   "outputs": [
    {
     "data": {
      "text/plain": [
       "<matplotlib.axes._subplots.AxesSubplot at 0x7f880f9dae90>"
      ]
     },
     "execution_count": 44,
     "metadata": {},
     "output_type": "execute_result"
    },
    {
     "data": {
      "image/png": "[encoded data removed]",
      "text/plain": [
       "<Figure size 1728x864 with 1 Axes>"
      ]
     },
     "metadata": {
      "needs_background": "light"
     },
     "output_type": "display_data"
    }
   ],
   "source": [
    "batches[20][\"mean_test_score\"].plot(kind=\"bar\", figsize=(24,12), grid=True)"
   ]
  },
  {
   "cell_type": "code",
   "execution_count": 38,
   "metadata": {},
   "outputs": [
    {
     "name": "stdout",
     "output_type": "stream",
     "text": [
      "mean_test_score                                             0.670732\n",
      "std_test_score                                               0.17625\n",
      "mean_fit_time                                                146.572\n",
      "params             {'batch_size': 1, 'epochs': 300, 'nodes': (256...\n",
      "Name: 47, dtype: object\n",
      "mean_test_score                                             0.609756\n",
      "std_test_score                                              0.148871\n",
      "mean_fit_time                                                8.89974\n",
      "params             {'batch_size': 10, 'epochs': 300, 'nodes': (12...\n",
      "Name: 123, dtype: object\n",
      "mean_test_score                                             0.615854\n",
      "std_test_score                                              0.146184\n",
      "mean_fit_time                                                7.88975\n",
      "params             {'batch_size': 15, 'epochs': 400, 'nodes': (12...\n",
      "Name: 213, dtype: object\n",
      "mean_test_score                                             0.615854\n",
      "std_test_score                                              0.146184\n",
      "mean_fit_time                                                8.24373\n",
      "params             {'batch_size': 20, 'epochs': 500, 'nodes': (12...\n",
      "Name: 303, dtype: object\n",
      "mean_test_score                                             0.603659\n",
      "std_test_score                                              0.151487\n",
      "mean_fit_time                                                 6.8252\n",
      "params             {'batch_size': 25, 'epochs': 500, 'nodes': (12...\n",
      "Name: 383, dtype: object\n"
     ]
    }
   ],
   "source": [
    "for b in batches.keys():\n",
    "    print(batches[b].iloc[0][[\"mean_test_score\",\"std_test_score\", \"mean_fit_time\", \"params\"]])"
   ]
  },
  {
   "cell_type": "code",
   "execution_count": 45,
   "metadata": {},
   "outputs": [],
   "source": [
    "results.to_csv(\"gs_exp_2_nodes.csv\", )"
   ]
  },
  {
   "cell_type": "markdown",
   "metadata": {},
   "source": [
    "%%time\n",
    "# create model\n",
    "model = KerasClassifier(build_fn=build_dnn, verbose=0)\n",
    "# define the grid search parameters\n",
    "num_nodes = exp_2_combs   #np.logspace(3, 8, num=6, base=2, dtype=int)\n",
    "\n",
    "param_grid = dict(batch_size=batch_size, epochs=epochs, nodes=num_nodes)\n",
    "grid = GridSearchCV(estimator=model, param_grid=param_grid, n_jobs=8, cv=10)\n",
    "grid_result = grid.fit(X, Y)"
   ]
  },
  {
   "cell_type": "code",
   "execution_count": 254,
   "metadata": {},
   "outputs": [],
   "source": [
    "# dnn = build_dnn(num_features=data.shape[1], num_labels=1)\n",
    "# dnn.summary()"
   ]
  },
  {
   "cell_type": "code",
   "execution_count": 278,
   "metadata": {},
   "outputs": [],
   "source": [
    "from sklearn.preprocessing import StandardScaler\n",
    "from sklearn.utils.class_weight import compute_class_weight\n",
    "import tensorflow as tf\n",
    "\n",
    "ZScaler = StandardScaler().fit(train_data)\n",
    "X_train = ZScaler.transform(train_data)\n",
    "X_valid = ZScaler.transform(test_data)\n",
    "\n",
    "early_stop = tf.keras.callbacks.EarlyStopping(monitor='val_acc', min_delta=0, patience=100,\n",
    "                                           verbose=2, mode='max', baseline=None, restore_best_weights=True)\n",
    "\n",
    "y_train = train_labels.values.reshape(-1,1)\n",
    "y_valid = test_labels.values.reshape(-1,1)\n",
    "\n",
    "class_weight = compute_class_weight(\"balanced\", np.unique(train_labels), train_labels)"
   ]
  },
  {
   "cell_type": "markdown",
   "metadata": {},
   "source": [
    "## Batch size: 10"
   ]
  }
 ],
 "metadata": {
  "kernelspec": {
   "display_name": "condatensor-kernel",
   "language": "python",
   "name": "condatensor"
  },
  "language_info": {
   "codemirror_mode": {
    "name": "ipython",
    "version": 3
   },
   "file_extension": ".py",
   "mimetype": "text/x-python",
   "name": "python",
   "nbconvert_exporter": "python",
   "pygments_lexer": "ipython3",
   "version": "3.7.4"
  }
 },
 "nbformat": 4,
 "nbformat_minor": 4
}
