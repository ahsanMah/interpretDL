{
 "cells": [
  {
   "cell_type": "code",
   "execution_count": 1,
   "metadata": {},
   "outputs": [],
   "source": [
    "# Magic line to force reload all modules when this cell is run multiple times\n",
    "%load_ext autoreload\n",
    "%autoreload 2\n",
    "\n",
    "import sys\n",
    "import os\n",
    "sys.path.insert(0, os.path.expanduser(\"~/Developer/interpretDL/Pipeline\"))"
   ]
  },
  {
   "cell_type": "code",
   "execution_count": 2,
   "metadata": {},
   "outputs": [],
   "source": [
    "# import plotly as py\n",
    "# import plotly.graph_objs as go\n",
    "# from plotly.offline import iplot\n",
    "# from plotly.offline import plot\n",
    "# import ipywidgets as widgets\n",
    "\n",
    "# # %matplotlib widget\n",
    "# py.offline.init_notebook_mode(connected=True)"
   ]
  },
  {
   "cell_type": "code",
   "execution_count": 3,
   "metadata": {},
   "outputs": [],
   "source": [
    "import numpy as np\n",
    "import pandas as pd\n",
    "# import umap\n",
    "\n",
    "from datetime import datetime\n",
    "# from ClusterPipeline import ClusterPipeline\n",
    "from helper import split_valid, plot_confusion_matrix, plot_history\n",
    "from sklearn.datasets import make_classification\n",
    "from sklearn.metrics import classification_report\n",
    "from sklearn.pipeline import Pipeline\n",
    "from sklearn.preprocessing import MinMaxScaler\n",
    "from sklearn.preprocessing import OrdinalEncoder\n",
    "from sklearn.preprocessing import StandardScaler\n",
    "from sklearn.utils.class_weight import compute_class_weight\n",
    "from sklearn.model_selection import GridSearchCV\n",
    "\n",
    "RANDOM_STATE = 42\n",
    "np.random.seed(seed=RANDOM_STATE) "
   ]
  },
  {
   "cell_type": "code",
   "execution_count": 4,
   "metadata": {},
   "outputs": [
    {
     "name": "stderr",
     "output_type": "stream",
     "text": [
      "Using TensorFlow backend.\n",
      "/home/smaug/anaconda3/envs/condatensor/lib/python3.7/site-packages/tensorboard/compat/tensorflow_stub/dtypes.py:541: FutureWarning: Passing (type, 1) or '1type' as a synonym of type is deprecated; in a future version of numpy, it will be understood as (type, (1,)) / '(1,)type'.\n",
      "  _np_qint8 = np.dtype([(\"qint8\", np.int8, 1)])\n",
      "/home/smaug/anaconda3/envs/condatensor/lib/python3.7/site-packages/tensorboard/compat/tensorflow_stub/dtypes.py:542: FutureWarning: Passing (type, 1) or '1type' as a synonym of type is deprecated; in a future version of numpy, it will be understood as (type, (1,)) / '(1,)type'.\n",
      "  _np_quint8 = np.dtype([(\"quint8\", np.uint8, 1)])\n",
      "/home/smaug/anaconda3/envs/condatensor/lib/python3.7/site-packages/tensorboard/compat/tensorflow_stub/dtypes.py:543: FutureWarning: Passing (type, 1) or '1type' as a synonym of type is deprecated; in a future version of numpy, it will be understood as (type, (1,)) / '(1,)type'.\n",
      "  _np_qint16 = np.dtype([(\"qint16\", np.int16, 1)])\n",
      "/home/smaug/anaconda3/envs/condatensor/lib/python3.7/site-packages/tensorboard/compat/tensorflow_stub/dtypes.py:544: FutureWarning: Passing (type, 1) or '1type' as a synonym of type is deprecated; in a future version of numpy, it will be understood as (type, (1,)) / '(1,)type'.\n",
      "  _np_quint16 = np.dtype([(\"quint16\", np.uint16, 1)])\n",
      "/home/smaug/anaconda3/envs/condatensor/lib/python3.7/site-packages/tensorboard/compat/tensorflow_stub/dtypes.py:545: FutureWarning: Passing (type, 1) or '1type' as a synonym of type is deprecated; in a future version of numpy, it will be understood as (type, (1,)) / '(1,)type'.\n",
      "  _np_qint32 = np.dtype([(\"qint32\", np.int32, 1)])\n",
      "/home/smaug/anaconda3/envs/condatensor/lib/python3.7/site-packages/tensorboard/compat/tensorflow_stub/dtypes.py:550: FutureWarning: Passing (type, 1) or '1type' as a synonym of type is deprecated; in a future version of numpy, it will be understood as (type, (1,)) / '(1,)type'.\n",
      "  np_resource = np.dtype([(\"resource\", np.ubyte, 1)])\n"
     ]
    }
   ],
   "source": [
    "from keras.models import Sequential\n",
    "from keras.layers import Dense\n",
    "from keras.wrappers.scikit_learn import KerasClassifier\n",
    "from tensorflow.keras.callbacks import TensorBoard"
   ]
  },
  {
   "cell_type": "code",
   "execution_count": 5,
   "metadata": {},
   "outputs": [
    {
     "data": {
      "text/plain": [
       "array([[443.6580811 , 156.8248444 , 157.2230988 , ...,  32.40001297,\n",
       "         10.53292751,   1.        ],\n",
       "       [529.8170776 , 301.1605835 , 129.0924835 , ...,  44.31515884,\n",
       "         12.01620674,   1.        ],\n",
       "       [689.3991699 , 303.3375244 , 154.1694336 , ...,  63.73936081,\n",
       "         10.89778328,   1.        ],\n",
       "       ...,\n",
       "       [630.8562622 , 303.7183533 , 210.3960266 , ...,  40.54899216,\n",
       "         17.80297661,   0.        ],\n",
       "       [479.3210144 , 263.7200623 , 136.6897278 , ...,  42.96739197,\n",
       "         12.05090141,   0.        ],\n",
       "       [767.0294189 , 488.8855896 , 134.025528  , ...,  36.10884857,\n",
       "         15.40684414,   0.        ]])"
      ]
     },
     "execution_count": 5,
     "metadata": {},
     "output_type": "execute_result"
    }
   ],
   "source": [
    "fname = \"data/hr_lr.csv\"\n",
    "raw_data = pd.read_csv(fname, index_col=0).values\n",
    "raw_data"
   ]
  },
  {
   "cell_type": "code",
   "execution_count": 6,
   "metadata": {},
   "outputs": [
    {
     "data": {
      "text/plain": [
       "(164, 333)"
      ]
     },
     "execution_count": 6,
     "metadata": {},
     "output_type": "execute_result"
    }
   ],
   "source": [
    "X = raw_data[:, :-1]\n",
    "Y = raw_data[:,-1].reshape(-1,1)\n",
    "X.shape"
   ]
  },
  {
   "cell_type": "code",
   "execution_count": 7,
   "metadata": {},
   "outputs": [],
   "source": [
    "ZScaler = StandardScaler().fit(X)\n",
    "X = ZScaler.transform(X)"
   ]
  },
  {
   "cell_type": "markdown",
   "metadata": {},
   "source": [
    "## Example run using Grid Search"
   ]
  },
  {
   "cell_type": "code",
   "execution_count": 8,
   "metadata": {},
   "outputs": [],
   "source": [
    "# Function to create model, required for KerasClassifier\n",
    "def create_model(nodes=12):\n",
    "    # create model\n",
    "    model = Sequential()\n",
    "    model.add(Dense(nodes, input_dim=333, activation='relu'))\n",
    "    model.add(Dense(1, activation='sigmoid'))\n",
    "    # Compile model\n",
    "    model.compile(loss='binary_crossentropy', optimizer='sgd',\n",
    "                  metrics=['accuracy'])\n",
    "    return model"
   ]
  },
  {
   "cell_type": "code",
   "execution_count": 15,
   "metadata": {},
   "outputs": [
    {
     "name": "stderr",
     "output_type": "stream",
     "text": [
      "/home/smaug/anaconda3/envs/condatensor/lib/python3.7/site-packages/sklearn/model_selection/_search.py:813: DeprecationWarning: The default of the `iid` parameter will change from True to False in version 0.22 and will be removed in 0.24. This will change numeric results when test-set sizes are unequal.\n",
      "  DeprecationWarning)\n"
     ]
    },
    {
     "name": "stdout",
     "output_type": "stream",
     "text": [
      "CPU times: user 4.53 s, sys: 162 ms, total: 4.7 s\n",
      "Wall time: 32.4 s\n"
     ]
    }
   ],
   "source": [
    "%%time\n",
    "# create model\n",
    "model = KerasClassifier(build_fn=create_model, verbose=0)\n",
    "# define the grid search parameters\n",
    "batch_size = [20]\n",
    "num_nodes = [64,100,128]   #np.logspace(3, 8, num=6, base=2, dtype=int)\n",
    "epochs = [500]\n",
    "param_grid = dict(batch_size=batch_size, epochs=epochs, nodes=num_nodes)\n",
    "grid = GridSearchCV(estimator=model, param_grid=param_grid, n_jobs=4, cv=10)\n",
    "grid_result = grid.fit(X, Y)"
   ]
  },
  {
   "cell_type": "code",
   "execution_count": 16,
   "metadata": {},
   "outputs": [
    {
     "name": "stdout",
     "output_type": "stream",
     "text": [
      "Best: 0.512195 using {'batch_size': 20, 'epochs': 500, 'nodes': 100}\n",
      "0.481707 (0.165652) with: {'batch_size': 20, 'epochs': 500, 'nodes': 64}\n",
      "0.512195 (0.213239) with: {'batch_size': 20, 'epochs': 500, 'nodes': 100}\n",
      "0.500000 (0.220914) with: {'batch_size': 20, 'epochs': 500, 'nodes': 128}\n"
     ]
    }
   ],
   "source": [
    "# summarize results\n",
    "print(\"Best: %f using %s\" % (grid_result.best_score_, grid_result.best_params_))\n",
    "means = grid_result.cv_results_['mean_test_score']\n",
    "stds = grid_result.cv_results_['std_test_score']\n",
    "params = grid_result.cv_results_['params']\n",
    "for mean, stdev, param in zip(means, stds, params):\n",
    "    print(\"%f (%f) with: %r\" % (mean, stdev, param))"
   ]
  },
  {
   "cell_type": "markdown",
   "metadata": {},
   "source": [
    "## DNN Search"
   ]
  },
  {
   "cell_type": "code",
   "execution_count": 8,
   "metadata": {},
   "outputs": [],
   "source": [
    "def build_dnn(input_dim=333, nodes=(150,25), activation=\"elu\",\n",
    "              dropout_rate=(0.0,0.0,0.0), learning_rate = 0.001, reg_scale=0.01,\n",
    "              momentum=0.0, nesterov=False):\n",
    "    \n",
    "    import tensorflow as tf\n",
    "    import keras\n",
    "    from keras import optimizers\n",
    "    from keras import regularizers\n",
    "    keras.backend.clear_session()\n",
    "    \n",
    "    tf.random.set_random_seed(RANDOM_STATE)\n",
    "    my_reg = regularizers.l1(reg_scale) # Can change this if needed\n",
    "    \n",
    "    dnn = keras.models.Sequential()\n",
    "\n",
    "    Dense = keras.layers.Dense\n",
    "\n",
    "    # Using He initialization\n",
    "    he_init = keras.initializers.he_normal(seed=RANDOM_STATE)\n",
    "    dnn.add(keras.layers.Dropout(rate=dropout_rate[0], input_shape=(input_dim,)))\n",
    "    dnn.add(Dense(units = nodes[0], activation=activation,\n",
    "                  kernel_initializer=he_init, kernel_regularizer = regularizers.l1(reg_scale)))\n",
    "    dnn.add(keras.layers.Dropout(dropout_rate[1]))\n",
    "    dnn.add(Dense(units = nodes[1], activation=activation,\n",
    "                  kernel_initializer=he_init, kernel_regularizer = regularizers.l1(reg_scale)))\n",
    "    dnn.add(keras.layers.Dropout(dropout_rate[2]))\n",
    "    \n",
    "    dnn.add(Dense(units=1, activation=\"sigmoid\",\n",
    "                  kernel_initializer=he_init, kernel_regularizer = my_reg)) # 5 labels -> logits for now\n",
    "    \n",
    "    SGD=keras.optimizers.SGD(lr=learning_rate, momentum=momentum, nesterov=nesterov)\n",
    "    \n",
    "    dnn.compile(loss='binary_crossentropy',\n",
    "                  optimizer=SGD,\n",
    "                  metrics=['accuracy']) #Internally it seems to be same as binary accuracy\n",
    "    \n",
    "    return dnn"
   ]
  },
  {
   "cell_type": "code",
   "execution_count": 38,
   "metadata": {},
   "outputs": [
    {
     "name": "stdout",
     "output_type": "stream",
     "text": [
      "(131, 333)\n"
     ]
    },
    {
     "data": {
      "text/plain": [
       "1.0    79\n",
       "0.0    52\n",
       "dtype: int64"
      ]
     },
     "execution_count": 38,
     "metadata": {},
     "output_type": "execute_result"
    }
   ],
   "source": [
    "# Separating a hold out set that will be used for validation of the pipeline\n",
    "data_df = pd.DataFrame(X)\n",
    "labels_df = pd.Series(np.ravel(Y))\n",
    "X_train, y_train, X_valid, y_valid = split_valid(data_df, labels_df, valid_size=0.2)\n",
    "class_weight = compute_class_weight(\"balanced\", np.unique(y_train), y_train)\n",
    "print(X_train.shape)\n",
    "y_train.value_counts()"
   ]
  },
  {
   "cell_type": "code",
   "execution_count": 43,
   "metadata": {},
   "outputs": [
    {
     "name": "stdout",
     "output_type": "stream",
     "text": [
      "CPU times: user 13 s, sys: 606 ms, total: 13.6 s\n",
      "Wall time: 7.12 s\n"
     ]
    }
   ],
   "source": [
    "%%time\n",
    "dnn = build_dnn()\n",
    "time = datetime.now().strftime(\"%Y%m%d-%H%M%S\")\n",
    "tensorboard = TensorBoard(log_dir='./logs/{}'.format(time),\n",
    "                          update_freq=\"epoch\", write_graph=False)  # Very weird bug where TB will stop writing after some epochs...\n",
    "\n",
    "history = dnn.fit(X_train, y_train, validation_data=(X_valid,y_valid),class_weight=class_weight,\n",
    "                  epochs=1000, batch_size=20, verbose=0, callbacks=[])"
   ]
  },
  {
   "cell_type": "code",
   "execution_count": 44,
   "metadata": {
    "collapsed": true,
    "jupyter": {
     "outputs_hidden": true,
     "source_hidden": true
    }
   },
   "outputs": [
    {
     "data": {
      "image/png": "[encoded data removed]",
      "text/plain": [
       "<Figure size 864x432 with 2 Axes>"
      ]
     },
     "metadata": {
      "needs_background": "light"
     },
     "output_type": "display_data"
    },
    {
     "name": "stdout",
     "output_type": "stream",
     "text": [
      "33/33 [==============================] - 0s 40us/step\n",
      "Loss:10.404, Acc:0.6061\n"
     ]
    }
   ],
   "source": [
    "plot_history(history)\n",
    "print(\"Loss:{:0.3f}, Acc:{:.4f}\".format(*dnn.evaluate(X_valid,y_valid)))"
   ]
  },
  {
   "cell_type": "markdown",
   "metadata": {},
   "source": [
    "## Architecture Search"
   ]
  },
  {
   "cell_type": "code",
   "execution_count": 9,
   "metadata": {},
   "outputs": [
    {
     "data": {
      "text/plain": [
       "[(64, 64), (128, 64), (128, 128), (256, 64), (256, 128), (256, 256)]"
      ]
     },
     "execution_count": 9,
     "metadata": {},
     "output_type": "execute_result"
    }
   ],
   "source": [
    "exp_2 = np.logspace(6,8, num=3, base=2, dtype=int)\n",
    "exp_2_combs = []\n",
    "for i,x in enumerate(exp_2):\n",
    "    for j in range(0,i+1):\n",
    "        exp_2_combs.append((x,exp_2[j]))\n",
    "exp_2_combs"
   ]
  },
  {
   "cell_type": "markdown",
   "metadata": {},
   "source": [
    "### Only searching powers of 2"
   ]
  },
  {
   "cell_type": "code",
   "execution_count": 10,
   "metadata": {},
   "outputs": [],
   "source": [
    "from sklearn.metrics import precision_score, make_scorer\n",
    "from sklearn.model_selection import StratifiedKFold\n",
    "\n",
    "prec_scorer = make_scorer(precision_score, pos_label=0)\n",
    "\n",
    "# def prec_scorer(y_true, y_pred):\n",
    "#     return precision_score(np.ravel(y_true), np.ravel(y_pred), pos_label=0)\n",
    "\n",
    "# Performing 10-Fold split\n",
    "splitter = StratifiedKFold(n_splits=10, shuffle=True, random_state=42)\n",
    "scoring={\"acc\":\"accuracy\",\"prec\": prec_scorer}"
   ]
  },
  {
   "cell_type": "code",
   "execution_count": 12,
   "metadata": {},
   "outputs": [
    {
     "data": {
      "text/plain": [
       "GridSearchCV(cv=StratifiedKFold(n_splits=10, random_state=42, shuffle=True),\n",
       "             error_score='raise-deprecating',\n",
       "             estimator=<keras.wrappers.scikit_learn.KerasClassifier object at 0x7f169f1d3590>,\n",
       "             iid='warn', n_jobs=6,\n",
       "             param_grid={'batch_size': [10, 20],\n",
       "                         'class_weight': [array([1.26153846, 0.82828283])],\n",
       "                         'dropout_rate': [(0, 0, 0), (0, 0.2, 0.2)],\n",
       "                         'epochs': [200, 300, 400, 500, 600, 700, 800, 900,\n",
       "                                    1000],\n",
       "                         'nodes': [(64, 64), (128, 64), (128, 128), (256, 64),\n",
       "                                   (256, 128), (256, 256)]},\n",
       "             pre_dispatch='2*n_jobs', refit='prec', return_train_score=False,\n",
       "             scoring={'acc': 'accuracy',\n",
       "                      'prec': make_scorer(precision_score, pos_label=0)},\n",
       "             verbose=2)"
      ]
     },
     "execution_count": 12,
     "metadata": {},
     "output_type": "execute_result"
    }
   ],
   "source": [
    "# create model\n",
    "model = KerasClassifier(build_fn=build_dnn, verbose=0)\n",
    "# define the grid search parameters\n",
    "batch_size = [10,20]\n",
    "num_nodes = exp_2_combs\n",
    "epochs = [x for x in range(200,1100,100)]\n",
    "class_weights = [compute_class_weight(\"balanced\", np.unique(np.ravel(Y)), np.ravel(Y))]\n",
    "rates = [(0,0,0),(0,0.2,0.2)]\n",
    "\n",
    "param_grid = dict(batch_size=batch_size, epochs=epochs, nodes=num_nodes, class_weight=class_weights, dropout_rate=rates)\n",
    "grid = GridSearchCV(estimator=model, param_grid=param_grid, n_jobs=6,\n",
    "                    cv=splitter, scoring=scoring, refit=\"prec\", verbose=2)\n",
    "grid"
   ]
  },
  {
   "cell_type": "code",
   "execution_count": null,
   "metadata": {},
   "outputs": [
    {
     "name": "stdout",
     "output_type": "stream",
     "text": [
      "Fitting 10 folds for each of 216 candidates, totalling 2160 fits\n"
     ]
    },
    {
     "name": "stderr",
     "output_type": "stream",
     "text": [
      "[Parallel(n_jobs=6)]: Using backend LokyBackend with 6 concurrent workers.\n",
      "[Parallel(n_jobs=6)]: Done  29 tasks      | elapsed:   23.3s\n",
      "[Parallel(n_jobs=6)]: Done 150 tasks      | elapsed:  3.8min\n"
     ]
    }
   ],
   "source": [
    "%%time\n",
    "grid_result = grid.fit(X, Y)"
   ]
  },
  {
   "cell_type": "code",
   "execution_count": 114,
   "metadata": {},
   "outputs": [
    {
     "data": {
      "text/plain": [
       "{'mean_fit_time': array([4.36234384]),\n",
       " 'std_fit_time': array([0.21250163]),\n",
       " 'mean_score_time': array([0.07706952]),\n",
       " 'std_score_time': array([0.04474658]),\n",
       " 'param_batch_size': masked_array(data=[20],\n",
       "              mask=[False],\n",
       "        fill_value='?',\n",
       "             dtype=object),\n",
       " 'param_epochs': masked_array(data=[100],\n",
       "              mask=[False],\n",
       "        fill_value='?',\n",
       "             dtype=object),\n",
       " 'param_nodes': masked_array(data=[(150, 25)],\n",
       "              mask=[False],\n",
       "        fill_value='?',\n",
       "             dtype=object),\n",
       " 'params': [{'batch_size': 20, 'epochs': 100, 'nodes': (150, 25)}],\n",
       " 'split0_test_acc': array([0.52941176]),\n",
       " 'split1_test_acc': array([0.52941176]),\n",
       " 'split2_test_acc': array([0.58823529]),\n",
       " 'split3_test_acc': array([0.29411765]),\n",
       " 'split4_test_acc': array([0.52941176]),\n",
       " 'split5_test_acc': array([0.4375]),\n",
       " 'split6_test_acc': array([0.75]),\n",
       " 'split7_test_acc': array([0.6875]),\n",
       " 'split8_test_acc': array([0.6875]),\n",
       " 'split9_test_acc': array([0.53333333]),\n",
       " 'mean_test_acc': array([0.55487805]),\n",
       " 'std_test_acc': array([0.12608851]),\n",
       " 'rank_test_acc': array([1], dtype=int32),\n",
       " 'split0_test_prec': array([0.4]),\n",
       " 'split1_test_prec': array([0.4]),\n",
       " 'split2_test_prec': array([0.5]),\n",
       " 'split3_test_prec': array([0.]),\n",
       " 'split4_test_prec': array([0.44444444]),\n",
       " 'split5_test_prec': array([0.28571429]),\n",
       " 'split6_test_prec': array([0.66666667]),\n",
       " 'split7_test_prec': array([0.6]),\n",
       " 'split8_test_prec': array([0.55555556]),\n",
       " 'split9_test_prec': array([0.4]),\n",
       " 'mean_test_prec': array([0.42306427]),\n",
       " 'std_test_prec': array([0.17824101]),\n",
       " 'rank_test_prec': array([1], dtype=int32)}"
      ]
     },
     "execution_count": 114,
     "metadata": {},
     "output_type": "execute_result"
    }
   ],
   "source": [
    "grid_result.cv_results_"
   ]
  },
  {
   "cell_type": "code",
   "execution_count": 116,
   "metadata": {},
   "outputs": [
    {
     "name": "stdout",
     "output_type": "stream",
     "text": [
      "Best: 0.423064 using {'batch_size': 20, 'epochs': 100, 'nodes': (150, 25)}\n",
      "0.5549 +/- 0.126 with: {'batch_size': 20, 'epochs': 100, 'nodes': (150, 25)}\n"
     ]
    }
   ],
   "source": [
    "# summarize results\n",
    "print(\"Best: %f using %s\" % (grid_result.best_score_, grid_result.best_params_))\n",
    "means = grid_result.cv_results_['mean_test_acc']\n",
    "stds = grid_result.cv_results_['std_test_acc']\n",
    "params = grid_result.cv_results_['params']\n",
    "for mean, stdev, param in zip(means, stds, params):\n",
    "    print(\"%.4f +/- %.3f with: %r\" % (mean, stdev, param))"
   ]
  },
  {
   "cell_type": "code",
   "execution_count": 117,
   "metadata": {},
   "outputs": [],
   "source": [
    "results = pd.DataFrame(grid_result.cv_results_)\n",
    "batch_1 = results[results[\"param_batch_size\"]==1]"
   ]
  },
  {
   "cell_type": "code",
   "execution_count": 119,
   "metadata": {},
   "outputs": [],
   "source": [
    "ranked_results = results.sort_values(by=\"rank_test_prec\")\n",
    "batches = {}"
   ]
  },
  {
   "cell_type": "code",
   "execution_count": 33,
   "metadata": {},
   "outputs": [],
   "source": [
    "for b,_df in ranked_results.groupby(by=\"param_batch_size\"):\n",
    "    batches[b] = _df"
   ]
  },
  {
   "cell_type": "code",
   "execution_count": 120,
   "metadata": {},
   "outputs": [],
   "source": [
    "# batches[20][\"mean_test_score\"].plot(kind=\"bar\", figsize=(24,12), grid=True)"
   ]
  },
  {
   "cell_type": "code",
   "execution_count": 38,
   "metadata": {},
   "outputs": [
    {
     "name": "stdout",
     "output_type": "stream",
     "text": [
      "mean_test_score                                             0.670732\n",
      "std_test_score                                               0.17625\n",
      "mean_fit_time                                                146.572\n",
      "params             {'batch_size': 1, 'epochs': 300, 'nodes': (256...\n",
      "Name: 47, dtype: object\n",
      "mean_test_score                                             0.609756\n",
      "std_test_score                                              0.148871\n",
      "mean_fit_time                                                8.89974\n",
      "params             {'batch_size': 10, 'epochs': 300, 'nodes': (12...\n",
      "Name: 123, dtype: object\n",
      "mean_test_score                                             0.615854\n",
      "std_test_score                                              0.146184\n",
      "mean_fit_time                                                7.88975\n",
      "params             {'batch_size': 15, 'epochs': 400, 'nodes': (12...\n",
      "Name: 213, dtype: object\n",
      "mean_test_score                                             0.615854\n",
      "std_test_score                                              0.146184\n",
      "mean_fit_time                                                8.24373\n",
      "params             {'batch_size': 20, 'epochs': 500, 'nodes': (12...\n",
      "Name: 303, dtype: object\n",
      "mean_test_score                                             0.603659\n",
      "std_test_score                                              0.151487\n",
      "mean_fit_time                                                 6.8252\n",
      "params             {'batch_size': 25, 'epochs': 500, 'nodes': (12...\n",
      "Name: 383, dtype: object\n"
     ]
    }
   ],
   "source": [
    "for b in batches.keys():\n",
    "    print(batches[b].iloc[0][[\"mean_test_score\",\"std_test_score\", \"mean_fit_time\", \"params\"]])"
   ]
  },
  {
   "cell_type": "code",
   "execution_count": 45,
   "metadata": {},
   "outputs": [],
   "source": [
    "results.to_csv(\"gs_exp_2_nodes.csv\")"
   ]
  },
  {
   "cell_type": "code",
   "execution_count": null,
   "metadata": {},
   "outputs": [],
   "source": [
    "exp_2 = np.logspace(4, 8, num=5, base=, dtype=int)\n",
    "exp_2_combs = []\n",
    "for i,x in enumerate(exp_2):\n",
    "    for j in range(0,i):\n",
    "        exp_2_combs.append((x,exp_2[j]))\n",
    "exp_2_combs"
   ]
  },
  {
   "cell_type": "code",
   "execution_count": 17,
   "metadata": {},
   "outputs": [
    {
     "name": "stdout",
     "output_type": "stream",
     "text": [
      "55\n"
     ]
    }
   ],
   "source": [
    "mult_25 = [x for x in range(25,251,25)]\n",
    "node_combs = []\n",
    "for i,x in enumerate(mult_25):\n",
    "    for j in range(0,i+1):\n",
    "        node_combs.append((x,mult_25[j]))\n",
    "print(len(node_combs))\n",
    "# node_combs"
   ]
  },
  {
   "cell_type": "code",
   "execution_count": 55,
   "metadata": {},
   "outputs": [
    {
     "data": {
      "text/plain": [
       "[100, 200, 300, 400, 500, 600, 700, 800, 900, 1000, 1100, 1200]"
      ]
     },
     "execution_count": 55,
     "metadata": {},
     "output_type": "execute_result"
    }
   ],
   "source": [
    "[x for x in range(100,1300,100)]"
   ]
  },
  {
   "cell_type": "code",
   "execution_count": 57,
   "metadata": {},
   "outputs": [
    {
     "data": {
      "text/plain": [
       "GridSearchCV(cv=10, error_score='raise-deprecating',\n",
       "             estimator=<keras.wrappers.scikit_learn.KerasClassifier object at 0x1a2cad2a90>,\n",
       "             iid='warn', n_jobs=4,\n",
       "             param_grid={'batch_size': [20],\n",
       "                         'class_weight': [array([1.26153846, 0.82828283])],\n",
       "                         'dropout_rate': [0.1, 0.2, 0.3, 0.4, 0.5, 0.6],\n",
       "                         'epochs': [300, 400, 500, 600, 700, 800, 900, 1000,\n",
       "                                    1100, 1200],\n",
       "                         'nodes': [(200, 200)]},\n",
       "             pre_dispatch='2*n_jobs', refit=False, return_train_score=False,\n",
       "             scoring=None, verbose=2)"
      ]
     },
     "execution_count": 57,
     "metadata": {},
     "output_type": "execute_result"
    }
   ],
   "source": [
    "# create model\n",
    "model = KerasClassifier(build_fn=build_dnn, verbose=0)\n",
    "\n",
    "# define the grid search parameters\n",
    "batch_size = [20]\n",
    "drop_rates = [0.1, 0.2, 0.3, 0.4, 0.5, 0.6]\n",
    "num_nodes = [(200,200)] #node_combs\n",
    "epochs = [x for x in range(300,1300,100)]\n",
    "class_weights = [compute_class_weight(\"balanced\", np.unique(np.ravel(Y)), np.ravel(Y))]\n",
    "\n",
    "\n",
    "param_grid = dict(batch_size=batch_size, epochs=epochs, nodes=num_nodes,\n",
    "                  dropout_rate=drop_rates, class_weight=class_weights)\n",
    "grid = GridSearchCV(estimator=model, param_grid=param_grid, n_jobs=4, cv=10, refit=False, verbose=2)\n",
    "grid"
   ]
  },
  {
   "cell_type": "markdown",
   "metadata": {},
   "source": [
    "## Start with coarse settings\n",
    "> ## Then do an \"axis\" search"
   ]
  },
  {
   "cell_type": "markdown",
   "metadata": {},
   "source": [
    "## Learning rate, regularizer scale, more architectures+dropout combos ..?"
   ]
  },
  {
   "cell_type": "markdown",
   "metadata": {},
   "source": [
    "> ## Shortlist (200,200), (175,175), (125,75), (125,25), (256,32)\n",
    "> ## LR: 0.0001, 0.0003,0.0005\n",
    "> ## Dropout 0.1 to 0.5 - Maybe combinations of (high,low)\n",
    "> ## Epochs: [100 - 1000, 50 incs]"
   ]
  },
  {
   "cell_type": "markdown",
   "metadata": {},
   "source": [
    "use group by to figure out trends"
   ]
  },
  {
   "cell_type": "code",
   "execution_count": null,
   "metadata": {},
   "outputs": [],
   "source": []
  }
 ],
 "metadata": {
  "kernelspec": {
   "display_name": "condatensor-kernel",
   "language": "python",
   "name": "condatensor"
  },
  "language_info": {
   "codemirror_mode": {
    "name": "ipython",
    "version": 3
   },
   "file_extension": ".py",
   "mimetype": "text/x-python",
   "name": "python",
   "nbconvert_exporter": "python",
   "pygments_lexer": "ipython3",
   "version": "3.7.4"
  }
 },
 "nbformat": 4,
 "nbformat_minor": 4
}
