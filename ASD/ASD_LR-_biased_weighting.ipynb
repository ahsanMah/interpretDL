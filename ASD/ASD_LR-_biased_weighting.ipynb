{
 "cells": [
  {
   "cell_type": "code",
   "execution_count": 8,
   "metadata": {},
   "outputs": [
    {
     "name": "stdout",
     "output_type": "stream",
     "text": [
      "The autoreload extension is already loaded. To reload it, use:\n",
      "  %reload_ext autoreload\n"
     ]
    }
   ],
   "source": [
    "# Magic line to force reload all modules when this cell is run multiple times\n",
    "%load_ext autoreload\n",
    "%autoreload 2\n",
    "\n",
    "import sys, os\n",
    "sys.path.insert(0, os.path.expanduser(\"~/Developer/interpretDL/Pipeline\"))"
   ]
  },
  {
   "cell_type": "code",
   "execution_count": 9,
   "metadata": {},
   "outputs": [
    {
     "data": {
      "text/html": [
       "        <script type=\"text/javascript\">\n",
       "        window.PlotlyConfig = {MathJaxConfig: 'local'};\n",
       "        if (window.MathJax) {MathJax.Hub.Config({SVG: {font: \"STIX-Web\"}});}\n",
       "        if (typeof require !== 'undefined') {\n",
       "        require.undef(\"plotly\");\n",
       "        requirejs.config({\n",
       "            paths: {\n",
       "                'plotly': ['https://cdn.plot.ly/plotly-latest.min']\n",
       "            }\n",
       "        });\n",
       "        require(['plotly'], function(Plotly) {\n",
       "            window._Plotly = Plotly;\n",
       "        });\n",
       "        }\n",
       "        </script>\n",
       "        "
      ]
     },
     "metadata": {},
     "output_type": "display_data"
    }
   ],
   "source": [
    "import plotly as py\n",
    "import plotly.graph_objs as go\n",
    "from plotly.offline import iplot\n",
    "from plotly.offline import plot\n",
    "import ipywidgets as widgets\n",
    "\n",
    "# %matplotlib widget\n",
    "py.offline.init_notebook_mode(connected=True)"
   ]
  },
  {
   "cell_type": "code",
   "execution_count": 104,
   "metadata": {},
   "outputs": [],
   "source": [
    "import numpy as np\n",
    "import pandas as pd\n",
    "import umap\n",
    "\n",
    "from datetime import datetime\n",
    "from ClusterPipeline import ClusterPipeline\n",
    "from helper import split_valid, plot_confusion_matrix, plot_history, plot_3d_lrp\n",
    "from sklearn.datasets import make_classification\n",
    "from sklearn.metrics import classification_report\n",
    "from sklearn.pipeline import Pipeline\n",
    "from sklearn.preprocessing import MinMaxScaler\n",
    "from sklearn.preprocessing import OrdinalEncoder\n",
    "\n",
    "RANDOM_STATE = 42\n",
    "np.random.seed(seed=RANDOM_STATE) "
   ]
  },
  {
   "cell_type": "code",
   "execution_count": 11,
   "metadata": {},
   "outputs": [],
   "source": [
    "import matplotlib.pyplot as plt\n",
    "\n",
    "def plot_history(history):\n",
    "    plt.close(\"History\")\n",
    "    fig, axs = plt.subplots(1, 2, figsize=(20,10),num=\"History\")\n",
    "\n",
    "    # Plot training & validation accuracy values\n",
    "    axs[0].grid(True)\n",
    "    axs[0].plot(history.history['acc'])\n",
    "    axs[0].plot(history.history['val_acc'])\n",
    "    axs[0].set(title='Model accuracy', ylabel='Accuracy', xlabel='Epoch')\n",
    "    axs[0].legend(['Train', 'Test'], loc='upper left')\n",
    "\n",
    "    # Plot training & validation loss values\n",
    "    axs[1].grid(True)\n",
    "    axs[1].plot(history.history['loss'])\n",
    "    axs[1].plot(history.history['val_loss'])\n",
    "    axs[1].set(title='Model loss',ylabel='Loss', xlabel='Epoch')\n",
    "    axs[1].legend(['Train', 'Test'], loc='upper left')\n",
    "\n",
    "    plt.show()"
   ]
  },
  {
   "cell_type": "code",
   "execution_count": 12,
   "metadata": {},
   "outputs": [
    {
     "data": {
      "text/plain": [
       "211"
      ]
     },
     "execution_count": 12,
     "metadata": {},
     "output_type": "execute_result"
    }
   ],
   "source": [
    "np.round(211)"
   ]
  },
  {
   "cell_type": "code",
   "execution_count": 13,
   "metadata": {},
   "outputs": [
    {
     "data": {
      "text/html": [
       "<div>\n",
       "<style scoped>\n",
       "    .dataframe tbody tr th:only-of-type {\n",
       "        vertical-align: middle;\n",
       "    }\n",
       "\n",
       "    .dataframe tbody tr th {\n",
       "        vertical-align: top;\n",
       "    }\n",
       "\n",
       "    .dataframe thead th {\n",
       "        text-align: right;\n",
       "    }\n",
       "</style>\n",
       "<table border=\"1\" class=\"dataframe\">\n",
       "  <thead>\n",
       "    <tr style=\"text-align: right;\">\n",
       "      <th></th>\n",
       "      <th>ASD_DX_group</th>\n",
       "      <th>Risk</th>\n",
       "      <th>ROI01</th>\n",
       "      <th>ROI02</th>\n",
       "      <th>ROI03</th>\n",
       "      <th>ROI04</th>\n",
       "      <th>ROI05</th>\n",
       "      <th>ROI06</th>\n",
       "      <th>ROI07</th>\n",
       "      <th>ROI08</th>\n",
       "      <th>...</th>\n",
       "      <th>ROI324</th>\n",
       "      <th>ROI325</th>\n",
       "      <th>ROI326</th>\n",
       "      <th>ROI327</th>\n",
       "      <th>ROI328</th>\n",
       "      <th>ROI329</th>\n",
       "      <th>ROI330</th>\n",
       "      <th>ROI331</th>\n",
       "      <th>ROI332</th>\n",
       "      <th>ROI333</th>\n",
       "    </tr>\n",
       "    <tr>\n",
       "      <th>CandID</th>\n",
       "      <th></th>\n",
       "      <th></th>\n",
       "      <th></th>\n",
       "      <th></th>\n",
       "      <th></th>\n",
       "      <th></th>\n",
       "      <th></th>\n",
       "      <th></th>\n",
       "      <th></th>\n",
       "      <th></th>\n",
       "      <th></th>\n",
       "      <th></th>\n",
       "      <th></th>\n",
       "      <th></th>\n",
       "      <th></th>\n",
       "      <th></th>\n",
       "      <th></th>\n",
       "      <th></th>\n",
       "      <th></th>\n",
       "      <th></th>\n",
       "      <th></th>\n",
       "    </tr>\n",
       "  </thead>\n",
       "  <tbody>\n",
       "    <tr>\n",
       "      <th>103430</th>\n",
       "      <td>TYPICAL</td>\n",
       "      <td>HR</td>\n",
       "      <td>529.158386</td>\n",
       "      <td>298.568665</td>\n",
       "      <td>190.627472</td>\n",
       "      <td>134.555801</td>\n",
       "      <td>363.573608</td>\n",
       "      <td>646.810547</td>\n",
       "      <td>33.957870</td>\n",
       "      <td>172.629700</td>\n",
       "      <td>...</td>\n",
       "      <td>46.523426</td>\n",
       "      <td>88.635681</td>\n",
       "      <td>15.326110</td>\n",
       "      <td>268.573364</td>\n",
       "      <td>143.174347</td>\n",
       "      <td>1.515198</td>\n",
       "      <td>239.148468</td>\n",
       "      <td>20.107052</td>\n",
       "      <td>34.309757</td>\n",
       "      <td>10.180353</td>\n",
       "    </tr>\n",
       "    <tr>\n",
       "      <th>107524</th>\n",
       "      <td>ASD</td>\n",
       "      <td>HR</td>\n",
       "      <td>518.345703</td>\n",
       "      <td>311.013794</td>\n",
       "      <td>118.777634</td>\n",
       "      <td>198.685638</td>\n",
       "      <td>477.074524</td>\n",
       "      <td>405.450134</td>\n",
       "      <td>55.401951</td>\n",
       "      <td>126.927612</td>\n",
       "      <td>...</td>\n",
       "      <td>30.664413</td>\n",
       "      <td>76.203514</td>\n",
       "      <td>25.545485</td>\n",
       "      <td>188.544678</td>\n",
       "      <td>107.464104</td>\n",
       "      <td>1.381342</td>\n",
       "      <td>188.476715</td>\n",
       "      <td>17.961386</td>\n",
       "      <td>23.440365</td>\n",
       "      <td>14.530558</td>\n",
       "    </tr>\n",
       "    <tr>\n",
       "      <th>108372</th>\n",
       "      <td>TYPICAL</td>\n",
       "      <td>LR</td>\n",
       "      <td>443.658081</td>\n",
       "      <td>156.824844</td>\n",
       "      <td>157.223099</td>\n",
       "      <td>147.381149</td>\n",
       "      <td>492.784088</td>\n",
       "      <td>305.069519</td>\n",
       "      <td>61.638298</td>\n",
       "      <td>136.602600</td>\n",
       "      <td>...</td>\n",
       "      <td>35.009350</td>\n",
       "      <td>99.737000</td>\n",
       "      <td>23.199062</td>\n",
       "      <td>282.846497</td>\n",
       "      <td>29.161158</td>\n",
       "      <td>0.722310</td>\n",
       "      <td>200.596985</td>\n",
       "      <td>28.989164</td>\n",
       "      <td>32.400013</td>\n",
       "      <td>10.532928</td>\n",
       "    </tr>\n",
       "    <tr>\n",
       "      <th>113320</th>\n",
       "      <td>TYPICAL</td>\n",
       "      <td>LR</td>\n",
       "      <td>529.817078</td>\n",
       "      <td>301.160583</td>\n",
       "      <td>129.092483</td>\n",
       "      <td>151.090851</td>\n",
       "      <td>395.564331</td>\n",
       "      <td>597.880981</td>\n",
       "      <td>32.048248</td>\n",
       "      <td>163.701218</td>\n",
       "      <td>...</td>\n",
       "      <td>40.359753</td>\n",
       "      <td>111.341911</td>\n",
       "      <td>15.794782</td>\n",
       "      <td>214.678467</td>\n",
       "      <td>75.857338</td>\n",
       "      <td>1.767594</td>\n",
       "      <td>179.606552</td>\n",
       "      <td>16.667351</td>\n",
       "      <td>44.315159</td>\n",
       "      <td>12.016207</td>\n",
       "    </tr>\n",
       "    <tr>\n",
       "      <th>114640</th>\n",
       "      <td>TYPICAL</td>\n",
       "      <td>LR</td>\n",
       "      <td>689.399170</td>\n",
       "      <td>303.337524</td>\n",
       "      <td>154.169434</td>\n",
       "      <td>98.182709</td>\n",
       "      <td>592.248962</td>\n",
       "      <td>364.648315</td>\n",
       "      <td>10.539658</td>\n",
       "      <td>142.580795</td>\n",
       "      <td>...</td>\n",
       "      <td>49.686398</td>\n",
       "      <td>134.082794</td>\n",
       "      <td>18.534616</td>\n",
       "      <td>217.291306</td>\n",
       "      <td>36.213020</td>\n",
       "      <td>1.580427</td>\n",
       "      <td>181.796356</td>\n",
       "      <td>22.934441</td>\n",
       "      <td>63.739361</td>\n",
       "      <td>10.897783</td>\n",
       "    </tr>\n",
       "  </tbody>\n",
       "</table>\n",
       "<p>5 rows × 335 columns</p>\n",
       "</div>"
      ],
      "text/plain": [
       "       ASD_DX_group Risk       ROI01       ROI02       ROI03       ROI04  \\\n",
       "CandID                                                                     \n",
       "103430      TYPICAL   HR  529.158386  298.568665  190.627472  134.555801   \n",
       "107524          ASD   HR  518.345703  311.013794  118.777634  198.685638   \n",
       "108372      TYPICAL   LR  443.658081  156.824844  157.223099  147.381149   \n",
       "113320      TYPICAL   LR  529.817078  301.160583  129.092483  151.090851   \n",
       "114640      TYPICAL   LR  689.399170  303.337524  154.169434   98.182709   \n",
       "\n",
       "             ROI05       ROI06      ROI07       ROI08  ...     ROI324  \\\n",
       "CandID                                                 ...              \n",
       "103430  363.573608  646.810547  33.957870  172.629700  ...  46.523426   \n",
       "107524  477.074524  405.450134  55.401951  126.927612  ...  30.664413   \n",
       "108372  492.784088  305.069519  61.638298  136.602600  ...  35.009350   \n",
       "113320  395.564331  597.880981  32.048248  163.701218  ...  40.359753   \n",
       "114640  592.248962  364.648315  10.539658  142.580795  ...  49.686398   \n",
       "\n",
       "            ROI325     ROI326      ROI327      ROI328    ROI329      ROI330  \\\n",
       "CandID                                                                        \n",
       "103430   88.635681  15.326110  268.573364  143.174347  1.515198  239.148468   \n",
       "107524   76.203514  25.545485  188.544678  107.464104  1.381342  188.476715   \n",
       "108372   99.737000  23.199062  282.846497   29.161158  0.722310  200.596985   \n",
       "113320  111.341911  15.794782  214.678467   75.857338  1.767594  179.606552   \n",
       "114640  134.082794  18.534616  217.291306   36.213020  1.580427  181.796356   \n",
       "\n",
       "           ROI331     ROI332     ROI333  \n",
       "CandID                                   \n",
       "103430  20.107052  34.309757  10.180353  \n",
       "107524  17.961386  23.440365  14.530558  \n",
       "108372  28.989164  32.400013  10.532928  \n",
       "113320  16.667351  44.315159  12.016207  \n",
       "114640  22.934441  63.739361  10.897783  \n",
       "\n",
       "[5 rows x 335 columns]"
      ]
     },
     "execution_count": 13,
     "metadata": {},
     "output_type": "execute_result"
    }
   ],
   "source": [
    "fname = \"data/cleaned_SA.csv\"\n",
    "raw_data = pd.read_csv(fname, index_col=0)\n",
    "raw_data.head()"
   ]
  },
  {
   "cell_type": "code",
   "execution_count": 14,
   "metadata": {},
   "outputs": [
    {
     "data": {
      "text/plain": [
       "(325, 335)"
      ]
     },
     "execution_count": 14,
     "metadata": {},
     "output_type": "execute_result"
    }
   ],
   "source": [
    "raw_data.shape"
   ]
  },
  {
   "cell_type": "code",
   "execution_count": 15,
   "metadata": {},
   "outputs": [],
   "source": [
    "label_cols = [\"ASD_DX_group\", \"Risk\"]\n",
    "noisy_cols = []\n",
    "\n",
    "features = raw_data.drop(columns=noisy_cols+label_cols)\n",
    "labels = raw_data[label_cols].copy()"
   ]
  },
  {
   "cell_type": "code",
   "execution_count": 16,
   "metadata": {},
   "outputs": [
    {
     "data": {
      "text/plain": [
       "TYPICAL            149\n",
       "ASD                 39\n",
       "ATYPICAL_ADOS       17\n",
       "ATYPICAL_MULLEN      9\n",
       "Name: ASD_DX_group, dtype: int64"
      ]
     },
     "execution_count": 16,
     "metadata": {},
     "output_type": "execute_result"
    }
   ],
   "source": [
    "labels[\"ASD_DX_group\"][labels[\"Risk\"]==\"HR\"].value_counts()"
   ]
  },
  {
   "cell_type": "code",
   "execution_count": 17,
   "metadata": {},
   "outputs": [],
   "source": [
    "LR = labels[\"Risk\"]==\"LR\"\n",
    "typical = labels[\"ASD_DX_group\"]==\"TYPICAL\"\n",
    "ASD = labels[\"ASD_DX_group\"]==\"ASD\"\n",
    "HR = labels[\"Risk\"]==\"HR\""
   ]
  },
  {
   "cell_type": "code",
   "execution_count": 18,
   "metadata": {},
   "outputs": [],
   "source": [
    "LR_typical = labels[LR & typical]\n",
    "HR_ASD = labels[HR & ASD]"
   ]
  },
  {
   "cell_type": "code",
   "execution_count": 19,
   "metadata": {},
   "outputs": [
    {
     "data": {
      "text/plain": [
       "LR    99\n",
       "HR    39\n",
       "Name: Risk, dtype: int64"
      ]
     },
     "execution_count": 19,
     "metadata": {},
     "output_type": "execute_result"
    }
   ],
   "source": [
    "analysis_labels = pd.concat((LR_typical, HR_ASD))\n",
    "analysis_labels[\"Risk\"].value_counts()"
   ]
  },
  {
   "cell_type": "code",
   "execution_count": 20,
   "metadata": {},
   "outputs": [
    {
     "data": {
      "text/plain": [
       "[array(['ASD', 'TYPICAL'], dtype=object), array(['HR', 'LR'], dtype=object)]"
      ]
     },
     "execution_count": 20,
     "metadata": {},
     "output_type": "execute_result"
    }
   ],
   "source": [
    "enc = OrdinalEncoder()\n",
    "enc.fit(analysis_labels)\n",
    "enc_labels = enc.transform(analysis_labels)\n",
    "enc.categories_"
   ]
  },
  {
   "cell_type": "code",
   "execution_count": 59,
   "metadata": {},
   "outputs": [
    {
     "name": "stdout",
     "output_type": "stream",
     "text": [
      "(110, 333)\n"
     ]
    },
    {
     "data": {
      "text/plain": [
       "1    79\n",
       "0    31\n",
       "dtype: int64"
      ]
     },
     "execution_count": 59,
     "metadata": {},
     "output_type": "execute_result"
    }
   ],
   "source": [
    "risk_labels = pd.Series(enc_labels[:,1], dtype=int, index=analysis_labels.index)\n",
    "data = features.loc[analysis_labels.index].copy()\n",
    "\n",
    "# Separating a hold out set that will be used for validation of the pipeline\n",
    "train_data, train_labels, test_data, test_labels = split_valid(data, risk_labels, valid_size=0.2)\n",
    "\n",
    "print(train_data.shape)\n",
    "train_labels.value_counts()"
   ]
  },
  {
   "cell_type": "code",
   "execution_count": 66,
   "metadata": {},
   "outputs": [
    {
     "data": {
      "text/plain": [
       "array([1.77419355, 0.69620253])"
      ]
     },
     "execution_count": 66,
     "metadata": {},
     "output_type": "execute_result"
    }
   ],
   "source": [
    "from sklearn.preprocessing import StandardScaler\n",
    "from sklearn.utils.class_weight import compute_class_weight\n",
    "import tensorflow as tf\n",
    "from tensorflow.keras.callbacks import TensorBoard\n",
    "\n",
    "ZScaler = StandardScaler().fit(train_data)\n",
    "X_train = ZScaler.transform(train_data)\n",
    "X_valid = ZScaler.transform(test_data)\n",
    "\n",
    "y_train = train_labels.values.reshape(-1,1)\n",
    "y_valid = test_labels.values.reshape(-1,1)\n",
    "\n",
    "class_weight = compute_class_weight(\"balanced\", np.unique(train_labels), train_labels)\n",
    "class_weight"
   ]
  },
  {
   "cell_type": "code",
   "execution_count": 63,
   "metadata": {},
   "outputs": [],
   "source": [
    "def build_dnn(num_features, num_labels, activation=\"elu\"):\n",
    "    \n",
    "    import tensorflow as tf\n",
    "    import keras\n",
    "    from keras import optimizers\n",
    "    from keras import regularizers\n",
    "    from keras.constraints import max_norm\n",
    "    keras.backend.clear_session()\n",
    "    \n",
    "    tf.random.set_random_seed(RANDOM_STATE)\n",
    "    reg_scale = 0.01 # For L1 Reg\n",
    "    my_reg = regularizers.l2(reg_scale) # Can change this if needed\n",
    "    \n",
    "    dnn = keras.models.Sequential()\n",
    "\n",
    "    Dense = keras.layers.Dense\n",
    "    \n",
    "    # Using He initialization\n",
    "    he_init = keras.initializers.he_normal(seed=RANDOM_STATE)\n",
    "\n",
    "    dnn.add(Dense(units = 64, activation=activation, input_dim = num_features,\n",
    "                  kernel_initializer=he_init,  kernel_regularizer=my_reg))\n",
    "    dnn.add(keras.layers.Dropout(0.2)),\n",
    "    dnn.add(Dense(units = 64, activation=activation,\n",
    "                  kernel_initializer=he_init,  kernel_regularizer=my_reg))\n",
    "    dnn.add(keras.layers.Dropout(0.2))\n",
    "    \n",
    "    dnn.add(Dense(units=num_labels, activation=\"sigmoid\",\n",
    "                  kernel_initializer=he_init,  kernel_regularizer=my_reg)) # 5 labels -> logits for now\n",
    "    \n",
    "#     SGD=keras.optimizers.SGD(lr=0.001)\n",
    "    NSGD = keras.optimizers.SGD(lr=0.001,momentum=0.9,nesterov=True)\n",
    "    \n",
    "    dnn.compile(loss='binary_crossentropy',\n",
    "                  optimizer=NSGD,\n",
    "                  metrics=['accuracy']) #Internally it seems to be same as binary accuracy\n",
    "    \n",
    "    return dnn"
   ]
  },
  {
   "cell_type": "code",
   "execution_count": 83,
   "metadata": {},
   "outputs": [],
   "source": [
    "time = datetime.now().strftime(\"%Y%m%d-%H%M%S\")\n",
    "tensorboard = TensorBoard(log_dir='./logs/{}_baseline_10'.format(time),\n",
    "                          update_freq=\"epoch\", write_graph=False)"
   ]
  },
  {
   "cell_type": "code",
   "execution_count": 84,
   "metadata": {},
   "outputs": [
    {
     "name": "stdout",
     "output_type": "stream",
     "text": [
      "CPU times: user 1min 45s, sys: 27.2 s, total: 2min 12s\n",
      "Wall time: 56.5 s\n"
     ]
    }
   ],
   "source": [
    "%%time\n",
    "dnn = build_dnn(num_features=data.shape[1], num_labels=1, activation=\"elu\")\n",
    "history = dnn.fit(X_train, y_train, validation_data=(X_valid,y_valid),class_weight=class_weight,\n",
    "                  epochs=5000, batch_size=10, verbose=0, callbacks=[tensorboard])"
   ]
  },
  {
   "cell_type": "code",
   "execution_count": 85,
   "metadata": {},
   "outputs": [
    {
     "data": {
      "image/png": "[encoded data removed]",
      "text/plain": [
       "<Figure size 1440x720 with 2 Axes>"
      ]
     },
     "metadata": {
      "needs_background": "light"
     },
     "output_type": "display_data"
    },
    {
     "name": "stdout",
     "output_type": "stream",
     "text": [
      "28/28 [==============================] - 0s 27us/step\n",
      "Loss:0.989, Acc:0.7500\n"
     ]
    }
   ],
   "source": [
    "plot_history(history)\n",
    "print(\"Loss:{:0.3f}, Acc:{:.4f}\".format(*dnn.evaluate(X_valid,y_valid)))"
   ]
  },
  {
   "cell_type": "code",
   "execution_count": 86,
   "metadata": {},
   "outputs": [
    {
     "name": "stdout",
     "output_type": "stream",
     "text": [
      "Confusion matrix, without normalization\n",
      "[[0.25 0.75]\n",
      " [0.05 0.95]]\n",
      "Overall Accuracy: 0.7500\n"
     ]
    },
    {
     "data": {
      "text/plain": [
       "(<matplotlib.axes._subplots.AxesSubplot at 0x1a3f11d668>, array([[ 2,  6],\n",
       "        [ 1, 19]]))"
      ]
     },
     "execution_count": 86,
     "metadata": {},
     "output_type": "execute_result"
    },
    {
     "data": {
      "image/png": "[encoded data removed]",
      "text/plain": [
       "<Figure size 576x576 with 2 Axes>"
      ]
     },
     "metadata": {
      "needs_background": "light"
     },
     "output_type": "display_data"
    }
   ],
   "source": [
    "y_pred = np.round(np.ravel(dnn.predict(X_valid)))\n",
    "plot_confusion_matrix(np.ravel(y_valid), y_pred, enc.categories_[1])"
   ]
  },
  {
   "cell_type": "code",
   "execution_count": 87,
   "metadata": {},
   "outputs": [
    {
     "data": {
      "text/plain": [
       "0.6666666666666666"
      ]
     },
     "execution_count": 87,
     "metadata": {},
     "output_type": "execute_result"
    }
   ],
   "source": [
    "from sklearn.metrics import precision_score, make_scorer\n",
    "prec_scorer = make_scorer(precision_score, pos_label=0)\n",
    "\n",
    "precision_score(y_true=np.ravel(y_valid), y_pred=y_pred, pos_label=0)"
   ]
  },
  {
   "cell_type": "markdown",
   "metadata": {},
   "source": [
    "## Doubled Class Weights"
   ]
  },
  {
   "cell_type": "code",
   "execution_count": 73,
   "metadata": {},
   "outputs": [
    {
     "data": {
      "text/plain": [
       "array([3.5483871 , 0.69620253])"
      ]
     },
     "execution_count": 73,
     "metadata": {},
     "output_type": "execute_result"
    }
   ],
   "source": [
    "doubled_weights = class_weight.copy()\n",
    "doubled_weights[0] *= 2\n",
    "doubled_weights"
   ]
  },
  {
   "cell_type": "code",
   "execution_count": 74,
   "metadata": {},
   "outputs": [],
   "source": [
    "time = datetime.now().strftime(\"%Y%m%d-%H%M%S\")\n",
    "tensorboard = TensorBoard(log_dir='./logs/{}_dbcw_20'.format(time),\n",
    "                          update_freq=\"epoch\", write_graph=False)"
   ]
  },
  {
   "cell_type": "code",
   "execution_count": 75,
   "metadata": {},
   "outputs": [
    {
     "name": "stdout",
     "output_type": "stream",
     "text": [
      "CPU times: user 1min 10s, sys: 18.1 s, total: 1min 28s\n",
      "Wall time: 38.8 s\n"
     ]
    }
   ],
   "source": [
    "%%time\n",
    "dnn = build_dnn(num_features=data.shape[1], num_labels=1, activation=\"elu\")\n",
    "history = dnn.fit(X_train, y_train, validation_data=(X_valid,y_valid),class_weight=doubled_weights,\n",
    "                  epochs=5000, batch_size=20, verbose=0, callbacks=[tensorboard])"
   ]
  },
  {
   "cell_type": "code",
   "execution_count": 76,
   "metadata": {},
   "outputs": [
    {
     "data": {
      "image/png": "[encoded data removed]",
      "text/plain": [
       "<Figure size 1440x720 with 2 Axes>"
      ]
     },
     "metadata": {
      "needs_background": "light"
     },
     "output_type": "display_data"
    },
    {
     "name": "stdout",
     "output_type": "stream",
     "text": [
      "28/28 [==============================] - 0s 36us/step\n",
      "Loss:0.982, Acc:0.7500\n"
     ]
    }
   ],
   "source": [
    "plot_history(history)\n",
    "print(\"Loss:{:0.3f}, Acc:{:.4f}\".format(*dnn.evaluate(X_valid,y_valid)))"
   ]
  },
  {
   "cell_type": "code",
   "execution_count": 77,
   "metadata": {},
   "outputs": [
    {
     "name": "stdout",
     "output_type": "stream",
     "text": [
      "Confusion matrix, without normalization\n",
      "[[0.25 0.75]\n",
      " [0.05 0.95]]\n",
      "Overall Accuracy: 0.7500\n"
     ]
    },
    {
     "data": {
      "text/plain": [
       "(<matplotlib.axes._subplots.AxesSubplot at 0x1a3d14b710>, array([[ 2,  6],\n",
       "        [ 1, 19]]))"
      ]
     },
     "execution_count": 77,
     "metadata": {},
     "output_type": "execute_result"
    },
    {
     "data": {
      "image/png": "[encoded data removed]",
      "text/plain": [
       "<Figure size 576x576 with 2 Axes>"
      ]
     },
     "metadata": {
      "needs_background": "light"
     },
     "output_type": "display_data"
    }
   ],
   "source": [
    "y_pred = np.round(np.ravel(dnn.predict(X_valid)))\n",
    "plot_confusion_matrix(np.ravel(y_valid), y_pred, enc.categories_[1])"
   ]
  },
  {
   "cell_type": "code",
   "execution_count": 78,
   "metadata": {},
   "outputs": [
    {
     "data": {
      "text/plain": [
       "0.6666666666666666"
      ]
     },
     "execution_count": 78,
     "metadata": {},
     "output_type": "execute_result"
    }
   ],
   "source": [
    "from sklearn.metrics import precision_score, make_scorer\n",
    "prec_scorer = make_scorer(precision_score, pos_label=0)\n",
    "\n",
    "precision_score(y_true=np.ravel(y_valid), y_pred=y_pred, pos_label=0)"
   ]
  },
  {
   "cell_type": "markdown",
   "metadata": {},
   "source": [
    "### Cross Validating"
   ]
  },
  {
   "cell_type": "code",
   "execution_count": 131,
   "metadata": {},
   "outputs": [],
   "source": [
    "# Separating a hold out set that will be used for validation of the pipeline\n",
    "# train_data, train_labels, test_data, test_labels = split_valid(data, risk_labels, valid_size=0.01)\n",
    "train_data, train_labels, test_data, test_labels = data, risk_labels, [], []"
   ]
  },
  {
   "cell_type": "code",
   "execution_count": 132,
   "metadata": {},
   "outputs": [
    {
     "data": {
      "text/plain": [
       "1    99\n",
       "0    39\n",
       "dtype: int64"
      ]
     },
     "execution_count": 132,
     "metadata": {},
     "output_type": "execute_result"
    }
   ],
   "source": [
    "risk_labels.value_counts()"
   ]
  },
  {
   "cell_type": "code",
   "execution_count": 133,
   "metadata": {},
   "outputs": [
    {
     "data": {
      "text/plain": [
       "(138, 333)"
      ]
     },
     "execution_count": 133,
     "metadata": {},
     "output_type": "execute_result"
    }
   ],
   "source": [
    "train_data.shape"
   ]
  },
  {
   "cell_type": "code",
   "execution_count": 134,
   "metadata": {},
   "outputs": [],
   "source": [
    "reducer = umap.UMAP(random_state=42,\n",
    "                    n_components = 10,\n",
    "                    n_neighbors=5,\n",
    "                    min_dist=0)"
   ]
  },
  {
   "cell_type": "code",
   "execution_count": 135,
   "metadata": {},
   "outputs": [],
   "source": [
    "dnn = build_dnn(num_features=data.shape[1], num_labels=1, activation=\"elu\")\n",
    "pipeline = ClusterPipeline(dnn, [train_data, train_labels], [test_data, test_labels],\n",
    "                           target_class=0, reducer=reducer, softmax=False)"
   ]
  },
  {
   "cell_type": "code",
   "execution_count": 136,
   "metadata": {},
   "outputs": [
    {
     "name": "stdout",
     "output_type": "stream",
     "text": [
      "Running Serial Crossvalidation\n",
      "Running worker: 0\n",
      "[3.54285714 0.69662921]\n",
      "Fold: 0 -> Loss:0.075, Acc:1.0000\n",
      "Prediction Accuracy\n",
      "14/14 [==============================] - 0s 3ms/step\n",
      "Scores on data set: loss=1.001 accuracy=0.7143\n",
      "Fold Correct: 10\n",
      "Running worker: 1\n",
      "[3.54285714 0.69662921]\n",
      "Fold: 1 -> Loss:0.077, Acc:1.0000\n",
      "Prediction Accuracy\n",
      "14/14 [==============================] - 0s 52us/step\n",
      "Scores on data set: loss=0.848 accuracy=0.8571\n",
      "Fold Correct: 12\n",
      "Running worker: 2\n",
      "[3.54285714 0.69662921]\n",
      "Fold: 2 -> Loss:0.078, Acc:1.0000\n",
      "Prediction Accuracy\n",
      "14/14 [==============================] - 0s 30us/step\n",
      "Scores on data set: loss=0.620 accuracy=0.7143\n",
      "Fold Correct: 10\n",
      "Running worker: 3\n",
      "[3.54285714 0.69662921]\n",
      "Fold: 3 -> Loss:0.076, Acc:1.0000\n",
      "Prediction Accuracy\n",
      "14/14 [==============================] - 0s 44us/step\n",
      "Scores on data set: loss=0.931 accuracy=0.7857\n",
      "Fold Correct: 11\n",
      "Running worker: 4\n",
      "[3.54285714 0.69662921]\n",
      "Fold: 4 -> Loss:0.075, Acc:1.0000\n",
      "Prediction Accuracy\n",
      "14/14 [==============================] - 0s 70us/step\n",
      "Scores on data set: loss=1.288 accuracy=0.7143\n",
      "Fold Correct: 10\n",
      "Running worker: 5\n",
      "[3.54285714 0.69662921]\n",
      "Fold: 5 -> Loss:0.075, Acc:1.0000\n",
      "Prediction Accuracy\n",
      "14/14 [==============================] - 0s 38us/step\n",
      "Scores on data set: loss=1.468 accuracy=0.4286\n",
      "Fold Correct: 6\n",
      "Running worker: 6\n",
      "[3.54285714 0.69662921]\n",
      "Fold: 6 -> Loss:0.076, Acc:1.0000\n",
      "Prediction Accuracy\n",
      "14/14 [==============================] - 0s 33us/step\n",
      "Scores on data set: loss=0.941 accuracy=0.7143\n",
      "Fold Correct: 10\n",
      "Running worker: 7\n",
      "[3.54285714 0.69662921]\n",
      "Fold: 7 -> Loss:0.076, Acc:1.0000\n",
      "Prediction Accuracy\n",
      "14/14 [==============================] - 0s 43us/step\n",
      "Scores on data set: loss=1.169 accuracy=0.6429\n",
      "Fold Correct: 9\n",
      "Running worker: 8\n",
      "[3.54285714 0.69662921]\n",
      "Fold: 8 -> Loss:0.076, Acc:1.0000\n",
      "Prediction Accuracy\n",
      "14/14 [==============================] - 0s 33us/step\n",
      "Scores on data set: loss=1.119 accuracy=0.7143\n",
      "Fold Correct: 10\n",
      "Running worker: 9\n",
      "[3.5 0.7]\n",
      "Fold: 9 -> Loss:0.078, Acc:1.0000\n",
      "Prediction Accuracy\n",
      "12/12 [==============================] - 0s 38us/step\n",
      "Scores on data set: loss=0.261 accuracy=0.9167\n",
      "Fold Correct: 11\n",
      "Runtime: 359.161s\n",
      "Correct: 99\n",
      "Test Size: 138\n",
      "Confusion matrix, without normalization\n",
      "[[0.46153846 0.53846154]\n",
      " [0.18181818 0.81818182]]\n",
      "Overall Accuracy: 0.7174\n",
      "Loading LRP Analyzers...\n",
      "Done!\n"
     ]
    },
    {
     "data": {
      "image/png": "[encoded data removed]",
      "text/plain": [
       "<Figure size 576x576 with 2 Axes>"
      ]
     },
     "metadata": {
      "needs_background": "light"
     },
     "output_type": "display_data"
    }
   ],
   "source": [
    "cm = pipeline.train_model(batch_size=int(20), epochs=3000, cross_validation=True,\n",
    "                          parallel=False, verbose=0, smote=True)"
   ]
  },
  {
   "cell_type": "code",
   "execution_count": 138,
   "metadata": {},
   "outputs": [
    {
     "name": "stdout",
     "output_type": "stream",
     "text": [
      "Sensitivity: 0.4615\n",
      "PPV: 0.5000\n"
     ]
    }
   ],
   "source": [
    "correct_ASD = cm[0][0]\n",
    "print(\"Sensitivity: {:.4f}\".format(correct_ASD/ np.sum(cm,axis=1)[0]))\n",
    "print(\"PPV: {:.4f}\".format(correct_ASD/ np.sum(cm,axis=0)[0]))"
   ]
  },
  {
   "cell_type": "code",
   "execution_count": null,
   "metadata": {},
   "outputs": [],
   "source": []
  },
  {
   "cell_type": "code",
   "execution_count": 140,
   "metadata": {},
   "outputs": [
    {
     "name": "stdout",
     "output_type": "stream",
     "text": [
      "[[18 21]\n",
      " [18 81]]\n",
      "Sensitivity: 0.4615\n",
      "PPV: 0.5000\n"
     ]
    }
   ],
   "source": [
    "# smote_dbl_cws = cm.copy()\n",
    "print(smote_dbl_cws)\n",
    "correct_ASD = smote_dbl_cws[0][0]\n",
    "print(\"Sensitivity: {:.4f}\".format(correct_ASD/ np.sum(smote_dbl_cws,axis=1)[0]))\n",
    "print(\"PPV: {:.4f}\".format(correct_ASD/ np.sum(smote_dbl_cws,axis=0)[0]))"
   ]
  },
  {
   "cell_type": "markdown",
   "metadata": {},
   "source": [
    "## SMOTE + Class Weights"
   ]
  },
  {
   "cell_type": "code",
   "execution_count": 130,
   "metadata": {},
   "outputs": [
    {
     "name": "stdout",
     "output_type": "stream",
     "text": [
      "[[18 21]\n",
      " [18 81]]\n",
      "Sensitivity: 0.4615\n",
      "PPV: 0.5000\n"
     ]
    }
   ],
   "source": [
    "# smote_cws_cm = cm.copy()\n",
    "print(smote_cws_cm)\n",
    "correct_ASD = smote_cws_cm[0][0]\n",
    "print(\"Sensitivity: {:.4f}\".format(correct_ASD/ np.sum(smote_cws_cm,axis=1)[0]))\n",
    "print(\"PPV: {:.4f}\".format(correct_ASD/ np.sum(smote_cws_cm,axis=0)[0]))"
   ]
  },
  {
   "cell_type": "markdown",
   "metadata": {},
   "source": [
    "## Double Class Weight for ASD"
   ]
  },
  {
   "cell_type": "code",
   "execution_count": 127,
   "metadata": {},
   "outputs": [
    {
     "name": "stdout",
     "output_type": "stream",
     "text": [
      "[[16 23]\n",
      " [16 83]]\n",
      "Sensitivity: 0.4103\n",
      "PPV: 0.5000\n"
     ]
    }
   ],
   "source": [
    "# elu_cm = cm.copy()\n",
    "print(elu_cm)\n",
    "correct_ASD = elu_cm[0][0]\n",
    "print(\"Sensitivity: {:.4f}\".format(correct_ASD/ np.sum(elu_cm,axis=1)[0]))\n",
    "print(\"PPV: {:.4f}\".format(correct_ASD/ np.sum(elu_cm,axis=0)[0]))"
   ]
  },
  {
   "cell_type": "code",
   "execution_count": 128,
   "metadata": {},
   "outputs": [
    {
     "name": "stdout",
     "output_type": "stream",
     "text": [
      "[[14 25]\n",
      " [15 84]]\n",
      "Sensitivity: 0.3590\n",
      "PPV: 0.4828\n"
     ]
    }
   ],
   "source": [
    "# relu_cm = cm.copy()\n",
    "print(relu_cm)\n",
    "correct_ASD = relu_cm[0][0]\n",
    "print(\"Sensitivity: {:.4f}\".format(correct_ASD/ np.sum(relu_cm,axis=1)[0]))\n",
    "print(\"PPV: {:.4f}\".format(correct_ASD/ np.sum(relu_cm,axis=0)[0]))"
   ]
  },
  {
   "cell_type": "code",
   "execution_count": null,
   "metadata": {},
   "outputs": [],
   "source": []
  }
 ],
 "metadata": {
  "kernelspec": {
   "display_name": "Python (condatensor)",
   "language": "python",
   "name": "condatensor"
  },
  "language_info": {
   "codemirror_mode": {
    "name": "ipython",
    "version": 3
   },
   "file_extension": ".py",
   "mimetype": "text/x-python",
   "name": "python",
   "nbconvert_exporter": "python",
   "pygments_lexer": "ipython3",
   "version": "3.6.8"
  }
 },
 "nbformat": 4,
 "nbformat_minor": 4
}
