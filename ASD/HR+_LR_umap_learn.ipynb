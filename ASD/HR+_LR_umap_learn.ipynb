{
 "cells": [
  {
   "cell_type": "code",
   "execution_count": 1,
   "metadata": {},
   "outputs": [],
   "source": [
    "# Magic line to force reload all modules when this cell is run multiple times\n",
    "%load_ext autoreload\n",
    "%autoreload 2\n",
    "\n",
    "import sys, os\n",
    "sys.path.insert(0, os.path.expanduser(\"~/Developer/interpretDL/Pipeline\"))"
   ]
  },
  {
   "cell_type": "code",
   "execution_count": 2,
   "metadata": {},
   "outputs": [
    {
     "data": {
      "text/html": [
       "        <script type=\"text/javascript\">\n",
       "        window.PlotlyConfig = {MathJaxConfig: 'local'};\n",
       "        if (window.MathJax) {MathJax.Hub.Config({SVG: {font: \"STIX-Web\"}});}\n",
       "        if (typeof require !== 'undefined') {\n",
       "        require.undef(\"plotly\");\n",
       "        requirejs.config({\n",
       "            paths: {\n",
       "                'plotly': ['https://cdn.plot.ly/plotly-latest.min']\n",
       "            }\n",
       "        });\n",
       "        require(['plotly'], function(Plotly) {\n",
       "            window._Plotly = Plotly;\n",
       "        });\n",
       "        }\n",
       "        </script>\n",
       "        "
      ]
     },
     "metadata": {},
     "output_type": "display_data"
    }
   ],
   "source": [
    "import plotly as py\n",
    "import plotly.graph_objs as go\n",
    "from plotly.offline import iplot\n",
    "from plotly.offline import plot\n",
    "import ipywidgets as widgets\n",
    "\n",
    "# %matplotlib widget\n",
    "py.offline.init_notebook_mode(connected=True)"
   ]
  },
  {
   "cell_type": "code",
   "execution_count": 3,
   "metadata": {},
   "outputs": [
    {
     "name": "stderr",
     "output_type": "stream",
     "text": [
      "/Users/Work/anaconda3/envs/condatensor/lib/python3.6/site-packages/sklearn/externals/six.py:31: DeprecationWarning:\n",
      "\n",
      "The module is deprecated in version 0.21 and will be removed in version 0.23 since we've dropped support for Python 2.7. Please rely on the official version of six (https://pypi.org/project/six/).\n",
      "\n",
      "/Users/Work/anaconda3/envs/condatensor/lib/python3.6/site-packages/sklearn/externals/joblib/__init__.py:15: DeprecationWarning:\n",
      "\n",
      "sklearn.externals.joblib is deprecated in 0.21 and will be removed in 0.23. Please import this functionality directly from joblib, which can be installed with: pip install joblib. If this warning is raised when loading pickled models, you may need to re-serialize those models with scikit-learn 0.21+.\n",
      "\n"
     ]
    }
   ],
   "source": [
    "import numpy as np\n",
    "import pandas as pd\n",
    "import umap\n",
    "\n",
    "from datetime import datetime\n",
    "from ClusterPipeline import ClusterPipeline\n",
    "from helper import split_valid, plot_confusion_matrix, plot_history, plot_3d_lrp\n",
    "from sklearn.datasets import make_classification\n",
    "from sklearn.metrics import classification_report\n",
    "from sklearn.pipeline import Pipeline\n",
    "from sklearn.preprocessing import MinMaxScaler\n",
    "from sklearn.preprocessing import OrdinalEncoder\n",
    "\n",
    "RANDOM_STATE = 42\n",
    "np.random.seed(seed=RANDOM_STATE) "
   ]
  },
  {
   "cell_type": "code",
   "execution_count": 4,
   "metadata": {},
   "outputs": [],
   "source": [
    "import matplotlib.pyplot as plt\n",
    "\n",
    "def plot_history(history):\n",
    "    plt.close(\"History\")\n",
    "    fig, axs = plt.subplots(1, 2, figsize=(20,10),num=\"History\")\n",
    "\n",
    "    # Plot training & validation accuracy values\n",
    "    axs[0].grid(True)\n",
    "    axs[0].plot(history.history['acc'])\n",
    "    axs[0].plot(history.history['val_acc'])\n",
    "    axs[0].set(title='Model accuracy', ylabel='Accuracy', xlabel='Epoch')\n",
    "    axs[0].legend(['Train', 'Test'], loc='upper left')\n",
    "\n",
    "    # Plot training & validation loss values\n",
    "    axs[1].grid(True)\n",
    "    axs[1].plot(history.history['loss'])\n",
    "    axs[1].plot(history.history['val_loss'])\n",
    "    axs[1].set(title='Model loss',ylabel='Loss', xlabel='Epoch')\n",
    "    axs[1].legend(['Train', 'Test'], loc='upper left')\n",
    "\n",
    "    plt.show()"
   ]
  },
  {
   "cell_type": "code",
   "execution_count": 5,
   "metadata": {},
   "outputs": [
    {
     "data": {
      "text/html": [
       "<div>\n",
       "<style scoped>\n",
       "    .dataframe tbody tr th:only-of-type {\n",
       "        vertical-align: middle;\n",
       "    }\n",
       "\n",
       "    .dataframe tbody tr th {\n",
       "        vertical-align: top;\n",
       "    }\n",
       "\n",
       "    .dataframe thead th {\n",
       "        text-align: right;\n",
       "    }\n",
       "</style>\n",
       "<table border=\"1\" class=\"dataframe\">\n",
       "  <thead>\n",
       "    <tr style=\"text-align: right;\">\n",
       "      <th></th>\n",
       "      <th>ASD_DX_group</th>\n",
       "      <th>Risk</th>\n",
       "      <th>ROI01</th>\n",
       "      <th>ROI02</th>\n",
       "      <th>ROI03</th>\n",
       "      <th>ROI04</th>\n",
       "      <th>ROI05</th>\n",
       "      <th>ROI06</th>\n",
       "      <th>ROI07</th>\n",
       "      <th>ROI08</th>\n",
       "      <th>...</th>\n",
       "      <th>ROI324</th>\n",
       "      <th>ROI325</th>\n",
       "      <th>ROI326</th>\n",
       "      <th>ROI327</th>\n",
       "      <th>ROI328</th>\n",
       "      <th>ROI329</th>\n",
       "      <th>ROI330</th>\n",
       "      <th>ROI331</th>\n",
       "      <th>ROI332</th>\n",
       "      <th>ROI333</th>\n",
       "    </tr>\n",
       "    <tr>\n",
       "      <th>CandID</th>\n",
       "      <th></th>\n",
       "      <th></th>\n",
       "      <th></th>\n",
       "      <th></th>\n",
       "      <th></th>\n",
       "      <th></th>\n",
       "      <th></th>\n",
       "      <th></th>\n",
       "      <th></th>\n",
       "      <th></th>\n",
       "      <th></th>\n",
       "      <th></th>\n",
       "      <th></th>\n",
       "      <th></th>\n",
       "      <th></th>\n",
       "      <th></th>\n",
       "      <th></th>\n",
       "      <th></th>\n",
       "      <th></th>\n",
       "      <th></th>\n",
       "      <th></th>\n",
       "    </tr>\n",
       "  </thead>\n",
       "  <tbody>\n",
       "    <tr>\n",
       "      <th>103430</th>\n",
       "      <td>TYPICAL</td>\n",
       "      <td>HR</td>\n",
       "      <td>529.158386</td>\n",
       "      <td>298.568665</td>\n",
       "      <td>190.627472</td>\n",
       "      <td>134.555801</td>\n",
       "      <td>363.573608</td>\n",
       "      <td>646.810547</td>\n",
       "      <td>33.957870</td>\n",
       "      <td>172.629700</td>\n",
       "      <td>...</td>\n",
       "      <td>46.523426</td>\n",
       "      <td>88.635681</td>\n",
       "      <td>15.326110</td>\n",
       "      <td>268.573364</td>\n",
       "      <td>143.174347</td>\n",
       "      <td>1.515198</td>\n",
       "      <td>239.148468</td>\n",
       "      <td>20.107052</td>\n",
       "      <td>34.309757</td>\n",
       "      <td>10.180353</td>\n",
       "    </tr>\n",
       "    <tr>\n",
       "      <th>107524</th>\n",
       "      <td>ASD</td>\n",
       "      <td>HR</td>\n",
       "      <td>518.345703</td>\n",
       "      <td>311.013794</td>\n",
       "      <td>118.777634</td>\n",
       "      <td>198.685638</td>\n",
       "      <td>477.074524</td>\n",
       "      <td>405.450134</td>\n",
       "      <td>55.401951</td>\n",
       "      <td>126.927612</td>\n",
       "      <td>...</td>\n",
       "      <td>30.664413</td>\n",
       "      <td>76.203514</td>\n",
       "      <td>25.545485</td>\n",
       "      <td>188.544678</td>\n",
       "      <td>107.464104</td>\n",
       "      <td>1.381342</td>\n",
       "      <td>188.476715</td>\n",
       "      <td>17.961386</td>\n",
       "      <td>23.440365</td>\n",
       "      <td>14.530558</td>\n",
       "    </tr>\n",
       "    <tr>\n",
       "      <th>108372</th>\n",
       "      <td>TYPICAL</td>\n",
       "      <td>LR</td>\n",
       "      <td>443.658081</td>\n",
       "      <td>156.824844</td>\n",
       "      <td>157.223099</td>\n",
       "      <td>147.381149</td>\n",
       "      <td>492.784088</td>\n",
       "      <td>305.069519</td>\n",
       "      <td>61.638298</td>\n",
       "      <td>136.602600</td>\n",
       "      <td>...</td>\n",
       "      <td>35.009350</td>\n",
       "      <td>99.737000</td>\n",
       "      <td>23.199062</td>\n",
       "      <td>282.846497</td>\n",
       "      <td>29.161158</td>\n",
       "      <td>0.722310</td>\n",
       "      <td>200.596985</td>\n",
       "      <td>28.989164</td>\n",
       "      <td>32.400013</td>\n",
       "      <td>10.532928</td>\n",
       "    </tr>\n",
       "    <tr>\n",
       "      <th>113320</th>\n",
       "      <td>TYPICAL</td>\n",
       "      <td>LR</td>\n",
       "      <td>529.817078</td>\n",
       "      <td>301.160583</td>\n",
       "      <td>129.092483</td>\n",
       "      <td>151.090851</td>\n",
       "      <td>395.564331</td>\n",
       "      <td>597.880981</td>\n",
       "      <td>32.048248</td>\n",
       "      <td>163.701218</td>\n",
       "      <td>...</td>\n",
       "      <td>40.359753</td>\n",
       "      <td>111.341911</td>\n",
       "      <td>15.794782</td>\n",
       "      <td>214.678467</td>\n",
       "      <td>75.857338</td>\n",
       "      <td>1.767594</td>\n",
       "      <td>179.606552</td>\n",
       "      <td>16.667351</td>\n",
       "      <td>44.315159</td>\n",
       "      <td>12.016207</td>\n",
       "    </tr>\n",
       "    <tr>\n",
       "      <th>114640</th>\n",
       "      <td>TYPICAL</td>\n",
       "      <td>LR</td>\n",
       "      <td>689.399170</td>\n",
       "      <td>303.337524</td>\n",
       "      <td>154.169434</td>\n",
       "      <td>98.182709</td>\n",
       "      <td>592.248962</td>\n",
       "      <td>364.648315</td>\n",
       "      <td>10.539658</td>\n",
       "      <td>142.580795</td>\n",
       "      <td>...</td>\n",
       "      <td>49.686398</td>\n",
       "      <td>134.082794</td>\n",
       "      <td>18.534616</td>\n",
       "      <td>217.291306</td>\n",
       "      <td>36.213020</td>\n",
       "      <td>1.580427</td>\n",
       "      <td>181.796356</td>\n",
       "      <td>22.934441</td>\n",
       "      <td>63.739361</td>\n",
       "      <td>10.897783</td>\n",
       "    </tr>\n",
       "  </tbody>\n",
       "</table>\n",
       "<p>5 rows × 335 columns</p>\n",
       "</div>"
      ],
      "text/plain": [
       "       ASD_DX_group Risk       ROI01       ROI02       ROI03       ROI04  \\\n",
       "CandID                                                                     \n",
       "103430      TYPICAL   HR  529.158386  298.568665  190.627472  134.555801   \n",
       "107524          ASD   HR  518.345703  311.013794  118.777634  198.685638   \n",
       "108372      TYPICAL   LR  443.658081  156.824844  157.223099  147.381149   \n",
       "113320      TYPICAL   LR  529.817078  301.160583  129.092483  151.090851   \n",
       "114640      TYPICAL   LR  689.399170  303.337524  154.169434   98.182709   \n",
       "\n",
       "             ROI05       ROI06      ROI07       ROI08  ...     ROI324  \\\n",
       "CandID                                                 ...              \n",
       "103430  363.573608  646.810547  33.957870  172.629700  ...  46.523426   \n",
       "107524  477.074524  405.450134  55.401951  126.927612  ...  30.664413   \n",
       "108372  492.784088  305.069519  61.638298  136.602600  ...  35.009350   \n",
       "113320  395.564331  597.880981  32.048248  163.701218  ...  40.359753   \n",
       "114640  592.248962  364.648315  10.539658  142.580795  ...  49.686398   \n",
       "\n",
       "            ROI325     ROI326      ROI327      ROI328    ROI329      ROI330  \\\n",
       "CandID                                                                        \n",
       "103430   88.635681  15.326110  268.573364  143.174347  1.515198  239.148468   \n",
       "107524   76.203514  25.545485  188.544678  107.464104  1.381342  188.476715   \n",
       "108372   99.737000  23.199062  282.846497   29.161158  0.722310  200.596985   \n",
       "113320  111.341911  15.794782  214.678467   75.857338  1.767594  179.606552   \n",
       "114640  134.082794  18.534616  217.291306   36.213020  1.580427  181.796356   \n",
       "\n",
       "           ROI331     ROI332     ROI333  \n",
       "CandID                                   \n",
       "103430  20.107052  34.309757  10.180353  \n",
       "107524  17.961386  23.440365  14.530558  \n",
       "108372  28.989164  32.400013  10.532928  \n",
       "113320  16.667351  44.315159  12.016207  \n",
       "114640  22.934441  63.739361  10.897783  \n",
       "\n",
       "[5 rows x 335 columns]"
      ]
     },
     "execution_count": 5,
     "metadata": {},
     "output_type": "execute_result"
    }
   ],
   "source": [
    "fname = \"data/cleaned_SA.csv\"\n",
    "raw_data = pd.read_csv(fname, index_col=0)\n",
    "raw_data.head()"
   ]
  },
  {
   "cell_type": "code",
   "execution_count": 6,
   "metadata": {},
   "outputs": [
    {
     "data": {
      "text/plain": [
       "(325, 335)"
      ]
     },
     "execution_count": 6,
     "metadata": {},
     "output_type": "execute_result"
    }
   ],
   "source": [
    "raw_data.shape"
   ]
  },
  {
   "cell_type": "code",
   "execution_count": 7,
   "metadata": {},
   "outputs": [],
   "source": [
    "label_cols = [\"ASD_DX_group\", \"Risk\"]\n",
    "noisy_cols = []\n",
    "\n",
    "features = raw_data.drop(columns=noisy_cols+label_cols)\n",
    "labels = raw_data[label_cols].copy()"
   ]
  },
  {
   "cell_type": "code",
   "execution_count": 8,
   "metadata": {},
   "outputs": [
    {
     "data": {
      "text/plain": [
       "HR    214\n",
       "Name: Risk, dtype: int64"
      ]
     },
     "execution_count": 8,
     "metadata": {},
     "output_type": "execute_result"
    }
   ],
   "source": [
    "labels[\"Risk\"][labels[\"Risk\"]==\"HR\"].value_counts()"
   ]
  },
  {
   "cell_type": "code",
   "execution_count": 9,
   "metadata": {},
   "outputs": [
    {
     "data": {
      "text/plain": [
       "TYPICAL            149\n",
       "ASD                 39\n",
       "ATYPICAL_ADOS       17\n",
       "ATYPICAL_MULLEN      9\n",
       "Name: ASD_DX_group, dtype: int64"
      ]
     },
     "execution_count": 9,
     "metadata": {},
     "output_type": "execute_result"
    }
   ],
   "source": [
    "labels[\"ASD_DX_group\"][labels[\"Risk\"]==\"HR\"].value_counts()"
   ]
  },
  {
   "cell_type": "code",
   "execution_count": 10,
   "metadata": {},
   "outputs": [],
   "source": [
    "LR = labels[\"Risk\"]==\"LR\"\n",
    "typical = labels[\"ASD_DX_group\"]==\"TYPICAL\"\n",
    "ASD = labels[\"ASD_DX_group\"]==\"ASD\"\n",
    "LR_typical = labels[LR & typical]"
   ]
  },
  {
   "cell_type": "code",
   "execution_count": 20,
   "metadata": {},
   "outputs": [],
   "source": [
    "HR = labels[\"Risk\"]==\"HR\"\n",
    "HR_nontypical = labels[HR & ~typical]\n",
    "HR_ASD = labels[HR & ASD]"
   ]
  },
  {
   "cell_type": "code",
   "execution_count": 21,
   "metadata": {},
   "outputs": [
    {
     "data": {
      "text/plain": [
       "LR    99\n",
       "HR    39\n",
       "Name: Risk, dtype: int64"
      ]
     },
     "execution_count": 21,
     "metadata": {},
     "output_type": "execute_result"
    }
   ],
   "source": [
    "analysis_labels = pd.concat((LR_typical, HR_ASD))\n",
    "analysis_labels[\"Risk\"].value_counts()"
   ]
  },
  {
   "cell_type": "code",
   "execution_count": 23,
   "metadata": {},
   "outputs": [
    {
     "data": {
      "text/plain": [
       "[array(['ASD', 'TYPICAL'], dtype=object), array(['HR', 'LR'], dtype=object)]"
      ]
     },
     "execution_count": 23,
     "metadata": {},
     "output_type": "execute_result"
    }
   ],
   "source": [
    "enc = OrdinalEncoder()\n",
    "enc.fit(analysis_labels)\n",
    "enc_labels = enc.transform(analysis_labels)\n",
    "enc.categories_"
   ]
  },
  {
   "cell_type": "code",
   "execution_count": 24,
   "metadata": {},
   "outputs": [
    {
     "name": "stdout",
     "output_type": "stream",
     "text": [
      "(110, 333)\n"
     ]
    },
    {
     "data": {
      "text/plain": [
       "1    79\n",
       "0    31\n",
       "dtype: int64"
      ]
     },
     "execution_count": 24,
     "metadata": {},
     "output_type": "execute_result"
    }
   ],
   "source": [
    "risk_labels = pd.Series(enc_labels[:,1], dtype=int, index=analysis_labels.index)\n",
    "data = features.loc[analysis_labels.index].copy()"
   ]
  },
  {
   "cell_type": "markdown",
   "metadata": {},
   "source": [
    "## Plotting UMAP embeddings of original data"
   ]
  },
  {
   "cell_type": "code",
   "execution_count": 87,
   "metadata": {},
   "outputs": [
    {
     "name": "stdout",
     "output_type": "stream",
     "text": [
      "CPU times: user 768 ms, sys: 9.01 ms, total: 777 ms\n",
      "Wall time: 314 ms\n"
     ]
    }
   ],
   "source": [
    "%%time\n",
    "reducer = umap.UMAP(random_state=42,\n",
    "                    n_components = 3,\n",
    "                    n_neighbors=25,\n",
    "                    min_dist=0.1)\n",
    "\n",
    "reducer_pipeline = Pipeline([\n",
    "            (\"umap\", reducer),\n",
    "#             (\"scaler\",  MinMaxScaler())\n",
    "])\n",
    "\n",
    "embedding = reducer.fit_transform(data, y=risk_labels)"
   ]
  },
  {
   "cell_type": "code",
   "execution_count": 88,
   "metadata": {},
   "outputs": [
    {
     "data": {
      "text/html": [
       "        <script type=\"text/javascript\">\n",
       "        window.PlotlyConfig = {MathJaxConfig: 'local'};\n",
       "        if (window.MathJax) {MathJax.Hub.Config({SVG: {font: \"STIX-Web\"}});}\n",
       "        if (typeof require !== 'undefined') {\n",
       "        require.undef(\"plotly\");\n",
       "        requirejs.config({\n",
       "            paths: {\n",
       "                'plotly': ['https://cdn.plot.ly/plotly-latest.min']\n",
       "            }\n",
       "        });\n",
       "        require(['plotly'], function(Plotly) {\n",
       "            window._Plotly = Plotly;\n",
       "        });\n",
       "        }\n",
       "        </script>\n",
       "        "
      ]
     },
     "metadata": {},
     "output_type": "display_data"
    },
    {
     "data": {
      "application/vnd.plotly.v1+json": {
       "config": {
        "linkText": "Export to plot.ly",
        "plotlyServerURL": "https://plot.ly",
        "showLink": false
       },
       "data": [
        {
         "marker": {
          "color": [
           1,
           1,
           1,
           1,
           1,
           1,
           1,
           1,
           1,
           1,
           1,
           1,
           1,
           1,
           1,
           1,
           1,
           1,
           1,
           1,
           1,
           1,
           1,
           1,
           1,
           1,
           1,
           1,
           1,
           1,
           1,
           1,
           1,
           1,
           1,
           1,
           1,
           1,
           1,
           1,
           1,
           1,
           1,
           1,
           1,
           1,
           1,
           1,
           1,
           1,
           1,
           1,
           1,
           1,
           1,
           1,
           1,
           1,
           1,
           1,
           1,
           1,
           1,
           1,
           1,
           1,
           1,
           1,
           1,
           1,
           1,
           1,
           1,
           1,
           1,
           1,
           1,
           1,
           1,
           1,
           1,
           1,
           1,
           1,
           1,
           1,
           1,
           1,
           1,
           1,
           1,
           1,
           1,
           1,
           1,
           1,
           1,
           1,
           1,
           0,
           0,
           0,
           0,
           0,
           0,
           0,
           0,
           0,
           0,
           0,
           0,
           0,
           0,
           0,
           0,
           0,
           0,
           0,
           0,
           0,
           0,
           0,
           0,
           0,
           0,
           0,
           0,
           0,
           0,
           0,
           0,
           0,
           0,
           0,
           0,
           0,
           0,
           0
          ],
          "colorscale": [
           [
            0,
            "rgb(150,0,90)"
           ],
           [
            0.125,
            "rgb(0,0,200)"
           ],
           [
            0.25,
            "rgb(0,25,255)"
           ],
           [
            0.375,
            "rgb(0,152,255)"
           ],
           [
            0.5,
            "rgb(44,255,150)"
           ],
           [
            0.625,
            "rgb(151,255,0)"
           ],
           [
            0.75,
            "rgb(255,234,0)"
           ],
           [
            0.875,
            "rgb(255,111,0)"
           ],
           [
            1,
            "rgb(255,0,0)"
           ]
          ],
          "opacity": 0.8,
          "showscale": true,
          "size": 5
         },
         "mode": "markers",
         "name": "Training",
         "text": [
          "TYPICAL",
          "TYPICAL",
          "TYPICAL",
          "TYPICAL",
          "TYPICAL",
          "TYPICAL",
          "TYPICAL",
          "TYPICAL",
          "TYPICAL",
          "TYPICAL",
          "TYPICAL",
          "TYPICAL",
          "TYPICAL",
          "TYPICAL",
          "TYPICAL",
          "TYPICAL",
          "TYPICAL",
          "TYPICAL",
          "TYPICAL",
          "TYPICAL",
          "TYPICAL",
          "TYPICAL",
          "TYPICAL",
          "TYPICAL",
          "TYPICAL",
          "TYPICAL",
          "TYPICAL",
          "TYPICAL",
          "TYPICAL",
          "TYPICAL",
          "TYPICAL",
          "TYPICAL",
          "TYPICAL",
          "TYPICAL",
          "TYPICAL",
          "TYPICAL",
          "TYPICAL",
          "TYPICAL",
          "TYPICAL",
          "TYPICAL",
          "TYPICAL",
          "TYPICAL",
          "TYPICAL",
          "TYPICAL",
          "TYPICAL",
          "TYPICAL",
          "TYPICAL",
          "TYPICAL",
          "TYPICAL",
          "TYPICAL",
          "TYPICAL",
          "TYPICAL",
          "TYPICAL",
          "TYPICAL",
          "TYPICAL",
          "TYPICAL",
          "TYPICAL",
          "TYPICAL",
          "TYPICAL",
          "TYPICAL",
          "TYPICAL",
          "TYPICAL",
          "TYPICAL",
          "TYPICAL",
          "TYPICAL",
          "TYPICAL",
          "TYPICAL",
          "TYPICAL",
          "TYPICAL",
          "TYPICAL",
          "TYPICAL",
          "TYPICAL",
          "TYPICAL",
          "TYPICAL",
          "TYPICAL",
          "TYPICAL",
          "TYPICAL",
          "TYPICAL",
          "TYPICAL",
          "TYPICAL",
          "TYPICAL",
          "TYPICAL",
          "TYPICAL",
          "TYPICAL",
          "TYPICAL",
          "TYPICAL",
          "TYPICAL",
          "TYPICAL",
          "TYPICAL",
          "TYPICAL",
          "TYPICAL",
          "TYPICAL",
          "TYPICAL",
          "TYPICAL",
          "TYPICAL",
          "TYPICAL",
          "TYPICAL",
          "TYPICAL",
          "TYPICAL",
          "ASD",
          "ASD",
          "ASD",
          "ASD",
          "ASD",
          "ASD",
          "ASD",
          "ASD",
          "ASD",
          "ASD",
          "ASD",
          "ASD",
          "ASD",
          "ASD",
          "ASD",
          "ASD",
          "ASD",
          "ASD",
          "ASD",
          "ASD",
          "ASD",
          "ASD",
          "ASD",
          "ASD",
          "ASD",
          "ASD",
          "ASD",
          "ASD",
          "ASD",
          "ASD",
          "ASD",
          "ASD",
          "ASD",
          "ASD",
          "ASD",
          "ASD",
          "ASD",
          "ASD",
          "ASD"
         ],
         "type": "scatter3d",
         "x": [
          17.68661880493164,
          17.096954345703125,
          16.77111053466797,
          15.238651275634766,
          15.404534339904785,
          16.287405014038086,
          16.461639404296875,
          17.973222732543945,
          16.207523345947266,
          15.873639106750488,
          16.190326690673828,
          15.918402671813965,
          17.113948822021484,
          15.341012954711914,
          16.196792602539062,
          16.578706741333008,
          17.787967681884766,
          17.271697998046875,
          15.180027961730957,
          16.091106414794922,
          17.726810455322266,
          16.222888946533203,
          15.501145362854004,
          15.970809936523438,
          15.774794578552246,
          16.371440887451172,
          17.79155158996582,
          15.821615219116211,
          17.06331443786621,
          15.38812255859375,
          14.99195384979248,
          16.923128128051758,
          16.973661422729492,
          16.799108505249023,
          16.7152042388916,
          17.86823081970215,
          17.7528018951416,
          17.498186111450195,
          16.577342987060547,
          17.70071792602539,
          15.3126220703125,
          15.088736534118652,
          15.632393836975098,
          17.728654861450195,
          15.845182418823242,
          17.374114990234375,
          17.354732513427734,
          15.549520492553711,
          16.668428421020508,
          16.224224090576172,
          15.810585021972656,
          16.689613342285156,
          15.621630668640137,
          17.078237533569336,
          15.228564262390137,
          15.119173049926758,
          16.56887435913086,
          15.58120346069336,
          16.028379440307617,
          16.29287338256836,
          16.995323181152344,
          17.549331665039062,
          15.641916275024414,
          15.536505699157715,
          17.272415161132812,
          16.44982147216797,
          15.942839622497559,
          17.114273071289062,
          17.23873519897461,
          16.5223331451416,
          16.427217483520508,
          16.715017318725586,
          16.787811279296875,
          16.664825439453125,
          17.436233520507812,
          17.679506301879883,
          17.371360778808594,
          17.104923248291016,
          15.643216133117676,
          16.54588508605957,
          16.877904891967773,
          16.253862380981445,
          15.62071418762207,
          16.857942581176758,
          16.601701736450195,
          16.105804443359375,
          17.349781036376953,
          17.41903305053711,
          16.92522621154785,
          17.2408390045166,
          16.76515007019043,
          16.427446365356445,
          17.01796531677246,
          15.721583366394043,
          16.734676361083984,
          17.09280776977539,
          16.017353057861328,
          15.949886322021484,
          16.175209045410156,
          -5.23798131942749,
          -4.16838264465332,
          -3.9343667030334473,
          -3.759645462036133,
          -4.532668590545654,
          -4.295300483703613,
          -4.030116081237793,
          -5.087676525115967,
          -4.565194606781006,
          -3.846691370010376,
          -4.442686080932617,
          -4.799612045288086,
          -5.044515609741211,
          -4.5952229499816895,
          -3.938755750656128,
          -4.511765003204346,
          -4.530084609985352,
          -4.401627540588379,
          -5.120439052581787,
          -4.0877838134765625,
          -4.261731147766113,
          -4.664453029632568,
          -3.915590286254883,
          -4.152578830718994,
          -4.825115203857422,
          -3.8930680751800537,
          -4.507997989654541,
          -4.482248306274414,
          -4.94654655456543,
          -5.116211414337158,
          -3.897989273071289,
          -4.321967601776123,
          -4.046952724456787,
          -4.78104829788208,
          -3.9259541034698486,
          -4.530001163482666,
          -4.0792927742004395,
          -3.8059933185577393,
          -4.256584167480469
         ],
         "y": [
          -6.559454917907715,
          -7.664330005645752,
          -7.073516368865967,
          -6.48105001449585,
          -7.040892601013184,
          -7.035111904144287,
          -7.672269344329834,
          -7.147846698760986,
          -6.5099711418151855,
          -7.412929534912109,
          -5.373726844787598,
          -6.030560493469238,
          -7.658595085144043,
          -5.994796276092529,
          -6.215273380279541,
          -6.04618501663208,
          -7.474249839782715,
          -6.658912181854248,
          -6.954901218414307,
          -5.377946376800537,
          -6.928335189819336,
          -7.2454681396484375,
          -7.247966289520264,
          -6.9807515144348145,
          -7.288495063781738,
          -5.700296878814697,
          -7.014221668243408,
          -6.31096887588501,
          -7.187508583068848,
          -6.437791347503662,
          -6.737955093383789,
          -7.534267425537109,
          -6.413555145263672,
          -5.920841693878174,
          -6.624443054199219,
          -6.6652302742004395,
          -7.458628177642822,
          -7.120022773742676,
          -6.402894496917725,
          -7.354385852813721,
          -6.115878105163574,
          -6.494833469390869,
          -7.281905174255371,
          -6.892144203186035,
          -6.2707319259643555,
          -7.402787208557129,
          -7.550756454467773,
          -6.722356796264648,
          -7.144755840301514,
          -6.705237865447998,
          -6.5425801277160645,
          -5.492800235748291,
          -6.7492499351501465,
          -6.372402667999268,
          -6.8787970542907715,
          -6.885683536529541,
          -5.654059886932373,
          -6.510014057159424,
          -6.243941783905029,
          -7.486360549926758,
          -7.112252712249756,
          -6.685233116149902,
          -6.908219337463379,
          -5.80579137802124,
          -6.851853370666504,
          -6.921929359436035,
          -6.493948459625244,
          -6.191408157348633,
          -7.840351104736328,
          -7.540963649749756,
          -7.347845554351807,
          -7.344749450683594,
          -7.707147121429443,
          -6.383154392242432,
          -6.242541790008545,
          -6.347584247589111,
          -6.9768829345703125,
          -7.528212070465088,
          -6.81615686416626,
          -5.4306206703186035,
          -5.999873161315918,
          -6.221261501312256,
          -5.926158905029297,
          -6.302609920501709,
          -6.628633499145508,
          -5.600287437438965,
          -6.776212215423584,
          -6.762356758117676,
          -6.757784366607666,
          -7.1880388259887695,
          -5.5749969482421875,
          -6.696557521820068,
          -7.356769561767578,
          -6.550593376159668,
          -5.963902950286865,
          -6.810272216796875,
          -5.728463172912598,
          -6.165092945098877,
          -7.127241134643555,
          -2.829389810562134,
          -1.181360125541687,
          -1.131827473640442,
          -0.8029181957244873,
          -2.1902551651000977,
          -1.8160735368728638,
          -1.1788605451583862,
          -2.9699716567993164,
          -2.825448513031006,
          -1.8068095445632935,
          -2.6615102291107178,
          -1.9660195112228394,
          -2.837754249572754,
          -2.0253610610961914,
          -2.237051248550415,
          -1.4671164751052856,
          -1.6021320819854736,
          -1.540380597114563,
          -2.401723861694336,
          -2.2940144538879395,
          -2.1700730323791504,
          -1.7618144750595093,
          -0.9831708073616028,
          -1.1592607498168945,
          -2.2352466583251953,
          -2.212862730026245,
          -2.3632423877716064,
          -2.343926429748535,
          -2.7890419960021973,
          -2.678769111633301,
          -0.9172651767730713,
          -2.3664231300354004,
          -2.214848756790161,
          -2.0697503089904785,
          -2.097914457321167,
          -1.8938251733779907,
          -1.2366505861282349,
          -2.0508501529693604,
          -1.4559048414230347
         ],
         "z": [
          2.3036887645721436,
          1.6136852502822876,
          2.3327159881591797,
          0.5939083695411682,
          0.6278514266014099,
          0.44421863555908203,
          0.9804261922836304,
          2.0550568103790283,
          2.4020795822143555,
          1.1086324453353882,
          1.392348289489746,
          0.5071943402290344,
          2.2892918586730957,
          0.7718057036399841,
          1.7631148099899292,
          0.6703904867172241,
          1.6389009952545166,
          2.545828104019165,
          1.124391794204712,
          1.0452830791473389,
          1.9697022438049316,
          1.6036930084228516,
          1.218755841255188,
          0.6435892581939697,
          1.5596411228179932,
          0.894572377204895,
          2.401197910308838,
          1.939764380455017,
          1.6987016201019287,
          1.1329927444458008,
          1.320831060409546,
          2.124358892440796,
          2.16363263130188,
          1.1043065786361694,
          0.6636734008789062,
          2.2211687564849854,
          1.7985403537750244,
          1.509874939918518,
          1.331721544265747,
          2.322627067565918,
          1.1579396724700928,
          1.4918369054794312,
          1.7777369022369385,
          2.3955066204071045,
          0.37300750613212585,
          2.0764992237091064,
          1.3683907985687256,
          1.9346182346343994,
          1.6211135387420654,
          1.4644100666046143,
          0.8974981307983398,
          1.1663639545440674,
          0.9269852638244629,
          0.9842326641082764,
          1.4270422458648682,
          1.601405143737793,
          1.8084542751312256,
          1.6096370220184326,
          0.7858443856239319,
          1.15886652469635,
          2.18137788772583,
          1.868362307548523,
          1.5467090606689453,
          0.8358465433120728,
          0.9278451800346375,
          0.5357685089111328,
          0.4920923709869385,
          1.492051362991333,
          1.919594407081604,
          1.8287231922149658,
          2.203608512878418,
          1.1586936712265015,
          1.9455491304397583,
          0.8742944598197937,
          1.5374637842178345,
          1.9789150953292847,
          2.3012993335723877,
          1.1981078386306763,
          1.9489803314208984,
          1.2680549621582031,
          1.917075514793396,
          1.2760241031646729,
          0.7449584603309631,
          1.1227495670318604,
          1.7317919731140137,
          1.2518736124038696,
          2.0278544425964355,
          1.3672943115234375,
          1.1544896364212036,
          2.5355091094970703,
          1.4202457666397095,
          1.1109987497329712,
          2.2585718631744385,
          0.9912179708480835,
          1.7367031574249268,
          1.4714548587799072,
          1.2396653890609741,
          1.4365425109863281,
          1.0071536302566528,
          2.5477967262268066,
          1.6127249002456665,
          2.3556058406829834,
          1.915705680847168,
          2.321504831314087,
          1.9850571155548096,
          2.262284517288208,
          2.307765245437622,
          2.5000853538513184,
          2.531723976135254,
          2.6047613620758057,
          2.2667858600616455,
          2.336829662322998,
          1.972343921661377,
          2.799165964126587,
          1.5850796699523926,
          1.9065117835998535,
          2.501666784286499,
          2.6582448482513428,
          2.161872148513794,
          2.1086018085479736,
          2.4105560779571533,
          2.1034598350524902,
          1.4616340398788452,
          2.707357883453369,
          2.7493066787719727,
          2.7279915809631348,
          2.570817232131958,
          2.2478275299072266,
          2.3359930515289307,
          1.8103256225585938,
          2.6546578407287598,
          2.207401990890503,
          2.7947499752044678,
          2.828876495361328,
          2.1212027072906494,
          2.2562785148620605,
          2.4031150341033936,
          2.275268316268921
         ]
        }
       ],
       "layout": {
        "autosize": false,
        "height": 1000,
        "paper_bgcolor": "#F5F5F5",
        "scene": {
         "aspectmode": "auto",
         "aspectratio": {
          "x": 1,
          "y": 1,
          "z": 1
         }
        },
        "template": {
         "data": {
          "bar": [
           {
            "error_x": {
             "color": "#2a3f5f"
            },
            "error_y": {
             "color": "#2a3f5f"
            },
            "marker": {
             "line": {
              "color": "#E5ECF6",
              "width": 0.5
             }
            },
            "type": "bar"
           }
          ],
          "barpolar": [
           {
            "marker": {
             "line": {
              "color": "#E5ECF6",
              "width": 0.5
             }
            },
            "type": "barpolar"
           }
          ],
          "carpet": [
           {
            "aaxis": {
             "endlinecolor": "#2a3f5f",
             "gridcolor": "white",
             "linecolor": "white",
             "minorgridcolor": "white",
             "startlinecolor": "#2a3f5f"
            },
            "baxis": {
             "endlinecolor": "#2a3f5f",
             "gridcolor": "white",
             "linecolor": "white",
             "minorgridcolor": "white",
             "startlinecolor": "#2a3f5f"
            },
            "type": "carpet"
           }
          ],
          "choropleth": [
           {
            "colorbar": {
             "outlinewidth": 0,
             "ticks": ""
            },
            "type": "choropleth"
           }
          ],
          "contour": [
           {
            "colorbar": {
             "outlinewidth": 0,
             "ticks": ""
            },
            "colorscale": [
             [
              0,
              "#0d0887"
             ],
             [
              0.1111111111111111,
              "#46039f"
             ],
             [
              0.2222222222222222,
              "#7201a8"
             ],
             [
              0.3333333333333333,
              "#9c179e"
             ],
             [
              0.4444444444444444,
              "#bd3786"
             ],
             [
              0.5555555555555556,
              "#d8576b"
             ],
             [
              0.6666666666666666,
              "#ed7953"
             ],
             [
              0.7777777777777778,
              "#fb9f3a"
             ],
             [
              0.8888888888888888,
              "#fdca26"
             ],
             [
              1,
              "#f0f921"
             ]
            ],
            "type": "contour"
           }
          ],
          "contourcarpet": [
           {
            "colorbar": {
             "outlinewidth": 0,
             "ticks": ""
            },
            "type": "contourcarpet"
           }
          ],
          "heatmap": [
           {
            "colorbar": {
             "outlinewidth": 0,
             "ticks": ""
            },
            "colorscale": [
             [
              0,
              "#0d0887"
             ],
             [
              0.1111111111111111,
              "#46039f"
             ],
             [
              0.2222222222222222,
              "#7201a8"
             ],
             [
              0.3333333333333333,
              "#9c179e"
             ],
             [
              0.4444444444444444,
              "#bd3786"
             ],
             [
              0.5555555555555556,
              "#d8576b"
             ],
             [
              0.6666666666666666,
              "#ed7953"
             ],
             [
              0.7777777777777778,
              "#fb9f3a"
             ],
             [
              0.8888888888888888,
              "#fdca26"
             ],
             [
              1,
              "#f0f921"
             ]
            ],
            "type": "heatmap"
           }
          ],
          "heatmapgl": [
           {
            "colorbar": {
             "outlinewidth": 0,
             "ticks": ""
            },
            "colorscale": [
             [
              0,
              "#0d0887"
             ],
             [
              0.1111111111111111,
              "#46039f"
             ],
             [
              0.2222222222222222,
              "#7201a8"
             ],
             [
              0.3333333333333333,
              "#9c179e"
             ],
             [
              0.4444444444444444,
              "#bd3786"
             ],
             [
              0.5555555555555556,
              "#d8576b"
             ],
             [
              0.6666666666666666,
              "#ed7953"
             ],
             [
              0.7777777777777778,
              "#fb9f3a"
             ],
             [
              0.8888888888888888,
              "#fdca26"
             ],
             [
              1,
              "#f0f921"
             ]
            ],
            "type": "heatmapgl"
           }
          ],
          "histogram": [
           {
            "marker": {
             "colorbar": {
              "outlinewidth": 0,
              "ticks": ""
             }
            },
            "type": "histogram"
           }
          ],
          "histogram2d": [
           {
            "colorbar": {
             "outlinewidth": 0,
             "ticks": ""
            },
            "colorscale": [
             [
              0,
              "#0d0887"
             ],
             [
              0.1111111111111111,
              "#46039f"
             ],
             [
              0.2222222222222222,
              "#7201a8"
             ],
             [
              0.3333333333333333,
              "#9c179e"
             ],
             [
              0.4444444444444444,
              "#bd3786"
             ],
             [
              0.5555555555555556,
              "#d8576b"
             ],
             [
              0.6666666666666666,
              "#ed7953"
             ],
             [
              0.7777777777777778,
              "#fb9f3a"
             ],
             [
              0.8888888888888888,
              "#fdca26"
             ],
             [
              1,
              "#f0f921"
             ]
            ],
            "type": "histogram2d"
           }
          ],
          "histogram2dcontour": [
           {
            "colorbar": {
             "outlinewidth": 0,
             "ticks": ""
            },
            "colorscale": [
             [
              0,
              "#0d0887"
             ],
             [
              0.1111111111111111,
              "#46039f"
             ],
             [
              0.2222222222222222,
              "#7201a8"
             ],
             [
              0.3333333333333333,
              "#9c179e"
             ],
             [
              0.4444444444444444,
              "#bd3786"
             ],
             [
              0.5555555555555556,
              "#d8576b"
             ],
             [
              0.6666666666666666,
              "#ed7953"
             ],
             [
              0.7777777777777778,
              "#fb9f3a"
             ],
             [
              0.8888888888888888,
              "#fdca26"
             ],
             [
              1,
              "#f0f921"
             ]
            ],
            "type": "histogram2dcontour"
           }
          ],
          "mesh3d": [
           {
            "colorbar": {
             "outlinewidth": 0,
             "ticks": ""
            },
            "type": "mesh3d"
           }
          ],
          "parcoords": [
           {
            "line": {
             "colorbar": {
              "outlinewidth": 0,
              "ticks": ""
             }
            },
            "type": "parcoords"
           }
          ],
          "scatter": [
           {
            "marker": {
             "colorbar": {
              "outlinewidth": 0,
              "ticks": ""
             }
            },
            "type": "scatter"
           }
          ],
          "scatter3d": [
           {
            "line": {
             "colorbar": {
              "outlinewidth": 0,
              "ticks": ""
             }
            },
            "marker": {
             "colorbar": {
              "outlinewidth": 0,
              "ticks": ""
             }
            },
            "type": "scatter3d"
           }
          ],
          "scattercarpet": [
           {
            "marker": {
             "colorbar": {
              "outlinewidth": 0,
              "ticks": ""
             }
            },
            "type": "scattercarpet"
           }
          ],
          "scattergeo": [
           {
            "marker": {
             "colorbar": {
              "outlinewidth": 0,
              "ticks": ""
             }
            },
            "type": "scattergeo"
           }
          ],
          "scattergl": [
           {
            "marker": {
             "colorbar": {
              "outlinewidth": 0,
              "ticks": ""
             }
            },
            "type": "scattergl"
           }
          ],
          "scattermapbox": [
           {
            "marker": {
             "colorbar": {
              "outlinewidth": 0,
              "ticks": ""
             }
            },
            "type": "scattermapbox"
           }
          ],
          "scatterpolar": [
           {
            "marker": {
             "colorbar": {
              "outlinewidth": 0,
              "ticks": ""
             }
            },
            "type": "scatterpolar"
           }
          ],
          "scatterpolargl": [
           {
            "marker": {
             "colorbar": {
              "outlinewidth": 0,
              "ticks": ""
             }
            },
            "type": "scatterpolargl"
           }
          ],
          "scatterternary": [
           {
            "marker": {
             "colorbar": {
              "outlinewidth": 0,
              "ticks": ""
             }
            },
            "type": "scatterternary"
           }
          ],
          "surface": [
           {
            "colorbar": {
             "outlinewidth": 0,
             "ticks": ""
            },
            "colorscale": [
             [
              0,
              "#0d0887"
             ],
             [
              0.1111111111111111,
              "#46039f"
             ],
             [
              0.2222222222222222,
              "#7201a8"
             ],
             [
              0.3333333333333333,
              "#9c179e"
             ],
             [
              0.4444444444444444,
              "#bd3786"
             ],
             [
              0.5555555555555556,
              "#d8576b"
             ],
             [
              0.6666666666666666,
              "#ed7953"
             ],
             [
              0.7777777777777778,
              "#fb9f3a"
             ],
             [
              0.8888888888888888,
              "#fdca26"
             ],
             [
              1,
              "#f0f921"
             ]
            ],
            "type": "surface"
           }
          ],
          "table": [
           {
            "cells": {
             "fill": {
              "color": "#EBF0F8"
             },
             "line": {
              "color": "white"
             }
            },
            "header": {
             "fill": {
              "color": "#C8D4E3"
             },
             "line": {
              "color": "white"
             }
            },
            "type": "table"
           }
          ]
         },
         "layout": {
          "annotationdefaults": {
           "arrowcolor": "#2a3f5f",
           "arrowhead": 0,
           "arrowwidth": 1
          },
          "colorscale": {
           "diverging": [
            [
             0,
             "#8e0152"
            ],
            [
             0.1,
             "#c51b7d"
            ],
            [
             0.2,
             "#de77ae"
            ],
            [
             0.3,
             "#f1b6da"
            ],
            [
             0.4,
             "#fde0ef"
            ],
            [
             0.5,
             "#f7f7f7"
            ],
            [
             0.6,
             "#e6f5d0"
            ],
            [
             0.7,
             "#b8e186"
            ],
            [
             0.8,
             "#7fbc41"
            ],
            [
             0.9,
             "#4d9221"
            ],
            [
             1,
             "#276419"
            ]
           ],
           "sequential": [
            [
             0,
             "#0d0887"
            ],
            [
             0.1111111111111111,
             "#46039f"
            ],
            [
             0.2222222222222222,
             "#7201a8"
            ],
            [
             0.3333333333333333,
             "#9c179e"
            ],
            [
             0.4444444444444444,
             "#bd3786"
            ],
            [
             0.5555555555555556,
             "#d8576b"
            ],
            [
             0.6666666666666666,
             "#ed7953"
            ],
            [
             0.7777777777777778,
             "#fb9f3a"
            ],
            [
             0.8888888888888888,
             "#fdca26"
            ],
            [
             1,
             "#f0f921"
            ]
           ],
           "sequentialminus": [
            [
             0,
             "#0d0887"
            ],
            [
             0.1111111111111111,
             "#46039f"
            ],
            [
             0.2222222222222222,
             "#7201a8"
            ],
            [
             0.3333333333333333,
             "#9c179e"
            ],
            [
             0.4444444444444444,
             "#bd3786"
            ],
            [
             0.5555555555555556,
             "#d8576b"
            ],
            [
             0.6666666666666666,
             "#ed7953"
            ],
            [
             0.7777777777777778,
             "#fb9f3a"
            ],
            [
             0.8888888888888888,
             "#fdca26"
            ],
            [
             1,
             "#f0f921"
            ]
           ]
          },
          "colorway": [
           "#636efa",
           "#EF553B",
           "#00cc96",
           "#ab63fa",
           "#FFA15A",
           "#19d3f3",
           "#FF6692",
           "#B6E880",
           "#FF97FF",
           "#FECB52"
          ],
          "font": {
           "color": "#2a3f5f"
          },
          "geo": {
           "bgcolor": "white",
           "lakecolor": "white",
           "landcolor": "#E5ECF6",
           "showlakes": true,
           "showland": true,
           "subunitcolor": "white"
          },
          "hoverlabel": {
           "align": "left"
          },
          "hovermode": "closest",
          "mapbox": {
           "style": "light"
          },
          "paper_bgcolor": "white",
          "plot_bgcolor": "#E5ECF6",
          "polar": {
           "angularaxis": {
            "gridcolor": "white",
            "linecolor": "white",
            "ticks": ""
           },
           "bgcolor": "#E5ECF6",
           "radialaxis": {
            "gridcolor": "white",
            "linecolor": "white",
            "ticks": ""
           }
          },
          "scene": {
           "xaxis": {
            "backgroundcolor": "#E5ECF6",
            "gridcolor": "white",
            "gridwidth": 2,
            "linecolor": "white",
            "showbackground": true,
            "ticks": "",
            "zerolinecolor": "white"
           },
           "yaxis": {
            "backgroundcolor": "#E5ECF6",
            "gridcolor": "white",
            "gridwidth": 2,
            "linecolor": "white",
            "showbackground": true,
            "ticks": "",
            "zerolinecolor": "white"
           },
           "zaxis": {
            "backgroundcolor": "#E5ECF6",
            "gridcolor": "white",
            "gridwidth": 2,
            "linecolor": "white",
            "showbackground": true,
            "ticks": "",
            "zerolinecolor": "white"
           }
          },
          "shapedefaults": {
           "line": {
            "color": "#2a3f5f"
           }
          },
          "ternary": {
           "aaxis": {
            "gridcolor": "white",
            "linecolor": "white",
            "ticks": ""
           },
           "baxis": {
            "gridcolor": "white",
            "linecolor": "white",
            "ticks": ""
           },
           "bgcolor": "#E5ECF6",
           "caxis": {
            "gridcolor": "white",
            "linecolor": "white",
            "ticks": ""
           }
          },
          "title": {
           "x": 0.05
          },
          "xaxis": {
           "automargin": true,
           "gridcolor": "white",
           "linecolor": "white",
           "ticks": "",
           "zerolinecolor": "white",
           "zerolinewidth": 2
          },
          "yaxis": {
           "automargin": true,
           "gridcolor": "white",
           "linecolor": "white",
           "ticks": "",
           "zerolinecolor": "white",
           "zerolinewidth": 2
          }
         }
        },
        "title": {
         "text": "3D LRP Embedding"
        },
        "width": 1200
       }
      },
      "text/html": [
       "<div>\n",
       "        \n",
       "        \n",
       "            <div id=\"03f6d3df-f9c0-4ee4-b4ab-5413061cfe53\" class=\"plotly-graph-div\" style=\"height:1000px; width:1200px;\"></div>\n",
       "            <script type=\"text/javascript\">\n",
       "                require([\"plotly\"], function(Plotly) {\n",
       "                    window.PLOTLYENV=window.PLOTLYENV || {};\n",
       "                    \n",
       "                if (document.getElementById(\"03f6d3df-f9c0-4ee4-b4ab-5413061cfe53\")) {\n",
       "                    Plotly.newPlot(\n",
       "                        '03f6d3df-f9c0-4ee4-b4ab-5413061cfe53',\n",
       "                        [{\"marker\": {\"color\": [1, 1, 1, 1, 1, 1, 1, 1, 1, 1, 1, 1, 1, 1, 1, 1, 1, 1, 1, 1, 1, 1, 1, 1, 1, 1, 1, 1, 1, 1, 1, 1, 1, 1, 1, 1, 1, 1, 1, 1, 1, 1, 1, 1, 1, 1, 1, 1, 1, 1, 1, 1, 1, 1, 1, 1, 1, 1, 1, 1, 1, 1, 1, 1, 1, 1, 1, 1, 1, 1, 1, 1, 1, 1, 1, 1, 1, 1, 1, 1, 1, 1, 1, 1, 1, 1, 1, 1, 1, 1, 1, 1, 1, 1, 1, 1, 1, 1, 1, 0, 0, 0, 0, 0, 0, 0, 0, 0, 0, 0, 0, 0, 0, 0, 0, 0, 0, 0, 0, 0, 0, 0, 0, 0, 0, 0, 0, 0, 0, 0, 0, 0, 0, 0, 0, 0, 0, 0], \"colorscale\": [[0.0, \"rgb(150,0,90)\"], [0.125, \"rgb(0,0,200)\"], [0.25, \"rgb(0,25,255)\"], [0.375, \"rgb(0,152,255)\"], [0.5, \"rgb(44,255,150)\"], [0.625, \"rgb(151,255,0)\"], [0.75, \"rgb(255,234,0)\"], [0.875, \"rgb(255,111,0)\"], [1.0, \"rgb(255,0,0)\"]], \"opacity\": 0.8, \"showscale\": true, \"size\": 5}, \"mode\": \"markers\", \"name\": \"Training\", \"text\": [\"TYPICAL\", \"TYPICAL\", \"TYPICAL\", \"TYPICAL\", \"TYPICAL\", \"TYPICAL\", \"TYPICAL\", \"TYPICAL\", \"TYPICAL\", \"TYPICAL\", \"TYPICAL\", \"TYPICAL\", \"TYPICAL\", \"TYPICAL\", \"TYPICAL\", \"TYPICAL\", \"TYPICAL\", \"TYPICAL\", \"TYPICAL\", \"TYPICAL\", \"TYPICAL\", \"TYPICAL\", \"TYPICAL\", \"TYPICAL\", \"TYPICAL\", \"TYPICAL\", \"TYPICAL\", \"TYPICAL\", \"TYPICAL\", \"TYPICAL\", \"TYPICAL\", \"TYPICAL\", \"TYPICAL\", \"TYPICAL\", \"TYPICAL\", \"TYPICAL\", \"TYPICAL\", \"TYPICAL\", \"TYPICAL\", \"TYPICAL\", \"TYPICAL\", \"TYPICAL\", \"TYPICAL\", \"TYPICAL\", \"TYPICAL\", \"TYPICAL\", \"TYPICAL\", \"TYPICAL\", \"TYPICAL\", \"TYPICAL\", \"TYPICAL\", \"TYPICAL\", \"TYPICAL\", \"TYPICAL\", \"TYPICAL\", \"TYPICAL\", \"TYPICAL\", \"TYPICAL\", \"TYPICAL\", \"TYPICAL\", \"TYPICAL\", \"TYPICAL\", \"TYPICAL\", \"TYPICAL\", \"TYPICAL\", \"TYPICAL\", \"TYPICAL\", \"TYPICAL\", \"TYPICAL\", \"TYPICAL\", \"TYPICAL\", \"TYPICAL\", \"TYPICAL\", \"TYPICAL\", \"TYPICAL\", \"TYPICAL\", \"TYPICAL\", \"TYPICAL\", \"TYPICAL\", \"TYPICAL\", \"TYPICAL\", \"TYPICAL\", \"TYPICAL\", \"TYPICAL\", \"TYPICAL\", \"TYPICAL\", \"TYPICAL\", \"TYPICAL\", \"TYPICAL\", \"TYPICAL\", \"TYPICAL\", \"TYPICAL\", \"TYPICAL\", \"TYPICAL\", \"TYPICAL\", \"TYPICAL\", \"TYPICAL\", \"TYPICAL\", \"TYPICAL\", \"ASD\", \"ASD\", \"ASD\", \"ASD\", \"ASD\", \"ASD\", \"ASD\", \"ASD\", \"ASD\", \"ASD\", \"ASD\", \"ASD\", \"ASD\", \"ASD\", \"ASD\", \"ASD\", \"ASD\", \"ASD\", \"ASD\", \"ASD\", \"ASD\", \"ASD\", \"ASD\", \"ASD\", \"ASD\", \"ASD\", \"ASD\", \"ASD\", \"ASD\", \"ASD\", \"ASD\", \"ASD\", \"ASD\", \"ASD\", \"ASD\", \"ASD\", \"ASD\", \"ASD\", \"ASD\"], \"type\": \"scatter3d\", \"x\": [17.68661880493164, 17.096954345703125, 16.77111053466797, 15.238651275634766, 15.404534339904785, 16.287405014038086, 16.461639404296875, 17.973222732543945, 16.207523345947266, 15.873639106750488, 16.190326690673828, 15.918402671813965, 17.113948822021484, 15.341012954711914, 16.196792602539062, 16.578706741333008, 17.787967681884766, 17.271697998046875, 15.180027961730957, 16.091106414794922, 17.726810455322266, 16.222888946533203, 15.501145362854004, 15.970809936523438, 15.774794578552246, 16.371440887451172, 17.79155158996582, 15.821615219116211, 17.06331443786621, 15.38812255859375, 14.99195384979248, 16.923128128051758, 16.973661422729492, 16.799108505249023, 16.7152042388916, 17.86823081970215, 17.7528018951416, 17.498186111450195, 16.577342987060547, 17.70071792602539, 15.3126220703125, 15.088736534118652, 15.632393836975098, 17.728654861450195, 15.845182418823242, 17.374114990234375, 17.354732513427734, 15.549520492553711, 16.668428421020508, 16.224224090576172, 15.810585021972656, 16.689613342285156, 15.621630668640137, 17.078237533569336, 15.228564262390137, 15.119173049926758, 16.56887435913086, 15.58120346069336, 16.028379440307617, 16.29287338256836, 16.995323181152344, 17.549331665039062, 15.641916275024414, 15.536505699157715, 17.272415161132812, 16.44982147216797, 15.942839622497559, 17.114273071289062, 17.23873519897461, 16.5223331451416, 16.427217483520508, 16.715017318725586, 16.787811279296875, 16.664825439453125, 17.436233520507812, 17.679506301879883, 17.371360778808594, 17.104923248291016, 15.643216133117676, 16.54588508605957, 16.877904891967773, 16.253862380981445, 15.62071418762207, 16.857942581176758, 16.601701736450195, 16.105804443359375, 17.349781036376953, 17.41903305053711, 16.92522621154785, 17.2408390045166, 16.76515007019043, 16.427446365356445, 17.01796531677246, 15.721583366394043, 16.734676361083984, 17.09280776977539, 16.017353057861328, 15.949886322021484, 16.175209045410156, -5.23798131942749, -4.16838264465332, -3.9343667030334473, -3.759645462036133, -4.532668590545654, -4.295300483703613, -4.030116081237793, -5.087676525115967, -4.565194606781006, -3.846691370010376, -4.442686080932617, -4.799612045288086, -5.044515609741211, -4.5952229499816895, -3.938755750656128, -4.511765003204346, -4.530084609985352, -4.401627540588379, -5.120439052581787, -4.0877838134765625, -4.261731147766113, -4.664453029632568, -3.915590286254883, -4.152578830718994, -4.825115203857422, -3.8930680751800537, -4.507997989654541, -4.482248306274414, -4.94654655456543, -5.116211414337158, -3.897989273071289, -4.321967601776123, -4.046952724456787, -4.78104829788208, -3.9259541034698486, -4.530001163482666, -4.0792927742004395, -3.8059933185577393, -4.256584167480469], \"y\": [-6.559454917907715, -7.664330005645752, -7.073516368865967, -6.48105001449585, -7.040892601013184, -7.035111904144287, -7.672269344329834, -7.147846698760986, -6.5099711418151855, -7.412929534912109, -5.373726844787598, -6.030560493469238, -7.658595085144043, -5.994796276092529, -6.215273380279541, -6.04618501663208, -7.474249839782715, -6.658912181854248, -6.954901218414307, -5.377946376800537, -6.928335189819336, -7.2454681396484375, -7.247966289520264, -6.9807515144348145, -7.288495063781738, -5.700296878814697, -7.014221668243408, -6.31096887588501, -7.187508583068848, -6.437791347503662, -6.737955093383789, -7.534267425537109, -6.413555145263672, -5.920841693878174, -6.624443054199219, -6.6652302742004395, -7.458628177642822, -7.120022773742676, -6.402894496917725, -7.354385852813721, -6.115878105163574, -6.494833469390869, -7.281905174255371, -6.892144203186035, -6.2707319259643555, -7.402787208557129, -7.550756454467773, -6.722356796264648, -7.144755840301514, -6.705237865447998, -6.5425801277160645, -5.492800235748291, -6.7492499351501465, -6.372402667999268, -6.8787970542907715, -6.885683536529541, -5.654059886932373, -6.510014057159424, -6.243941783905029, -7.486360549926758, -7.112252712249756, -6.685233116149902, -6.908219337463379, -5.80579137802124, -6.851853370666504, -6.921929359436035, -6.493948459625244, -6.191408157348633, -7.840351104736328, -7.540963649749756, -7.347845554351807, -7.344749450683594, -7.707147121429443, -6.383154392242432, -6.242541790008545, -6.347584247589111, -6.9768829345703125, -7.528212070465088, -6.81615686416626, -5.4306206703186035, -5.999873161315918, -6.221261501312256, -5.926158905029297, -6.302609920501709, -6.628633499145508, -5.600287437438965, -6.776212215423584, -6.762356758117676, -6.757784366607666, -7.1880388259887695, -5.5749969482421875, -6.696557521820068, -7.356769561767578, -6.550593376159668, -5.963902950286865, -6.810272216796875, -5.728463172912598, -6.165092945098877, -7.127241134643555, -2.829389810562134, -1.181360125541687, -1.131827473640442, -0.8029181957244873, -2.1902551651000977, -1.8160735368728638, -1.1788605451583862, -2.9699716567993164, -2.825448513031006, -1.8068095445632935, -2.6615102291107178, -1.9660195112228394, -2.837754249572754, -2.0253610610961914, -2.237051248550415, -1.4671164751052856, -1.6021320819854736, -1.540380597114563, -2.401723861694336, -2.2940144538879395, -2.1700730323791504, -1.7618144750595093, -0.9831708073616028, -1.1592607498168945, -2.2352466583251953, -2.212862730026245, -2.3632423877716064, -2.343926429748535, -2.7890419960021973, -2.678769111633301, -0.9172651767730713, -2.3664231300354004, -2.214848756790161, -2.0697503089904785, -2.097914457321167, -1.8938251733779907, -1.2366505861282349, -2.0508501529693604, -1.4559048414230347], \"z\": [2.3036887645721436, 1.6136852502822876, 2.3327159881591797, 0.5939083695411682, 0.6278514266014099, 0.44421863555908203, 0.9804261922836304, 2.0550568103790283, 2.4020795822143555, 1.1086324453353882, 1.392348289489746, 0.5071943402290344, 2.2892918586730957, 0.7718057036399841, 1.7631148099899292, 0.6703904867172241, 1.6389009952545166, 2.545828104019165, 1.124391794204712, 1.0452830791473389, 1.9697022438049316, 1.6036930084228516, 1.218755841255188, 0.6435892581939697, 1.5596411228179932, 0.894572377204895, 2.401197910308838, 1.939764380455017, 1.6987016201019287, 1.1329927444458008, 1.320831060409546, 2.124358892440796, 2.16363263130188, 1.1043065786361694, 0.6636734008789062, 2.2211687564849854, 1.7985403537750244, 1.509874939918518, 1.331721544265747, 2.322627067565918, 1.1579396724700928, 1.4918369054794312, 1.7777369022369385, 2.3955066204071045, 0.37300750613212585, 2.0764992237091064, 1.3683907985687256, 1.9346182346343994, 1.6211135387420654, 1.4644100666046143, 0.8974981307983398, 1.1663639545440674, 0.9269852638244629, 0.9842326641082764, 1.4270422458648682, 1.601405143737793, 1.8084542751312256, 1.6096370220184326, 0.7858443856239319, 1.15886652469635, 2.18137788772583, 1.868362307548523, 1.5467090606689453, 0.8358465433120728, 0.9278451800346375, 0.5357685089111328, 0.4920923709869385, 1.492051362991333, 1.919594407081604, 1.8287231922149658, 2.203608512878418, 1.1586936712265015, 1.9455491304397583, 0.8742944598197937, 1.5374637842178345, 1.9789150953292847, 2.3012993335723877, 1.1981078386306763, 1.9489803314208984, 1.2680549621582031, 1.917075514793396, 1.2760241031646729, 0.7449584603309631, 1.1227495670318604, 1.7317919731140137, 1.2518736124038696, 2.0278544425964355, 1.3672943115234375, 1.1544896364212036, 2.5355091094970703, 1.4202457666397095, 1.1109987497329712, 2.2585718631744385, 0.9912179708480835, 1.7367031574249268, 1.4714548587799072, 1.2396653890609741, 1.4365425109863281, 1.0071536302566528, 2.5477967262268066, 1.6127249002456665, 2.3556058406829834, 1.915705680847168, 2.321504831314087, 1.9850571155548096, 2.262284517288208, 2.307765245437622, 2.5000853538513184, 2.531723976135254, 2.6047613620758057, 2.2667858600616455, 2.336829662322998, 1.972343921661377, 2.799165964126587, 1.5850796699523926, 1.9065117835998535, 2.501666784286499, 2.6582448482513428, 2.161872148513794, 2.1086018085479736, 2.4105560779571533, 2.1034598350524902, 1.4616340398788452, 2.707357883453369, 2.7493066787719727, 2.7279915809631348, 2.570817232131958, 2.2478275299072266, 2.3359930515289307, 1.8103256225585938, 2.6546578407287598, 2.207401990890503, 2.7947499752044678, 2.828876495361328, 2.1212027072906494, 2.2562785148620605, 2.4031150341033936, 2.275268316268921]}],\n",
       "                        {\"autosize\": false, \"height\": 1000, \"paper_bgcolor\": \"#F5F5F5\", \"template\": {\"data\": {\"bar\": [{\"error_x\": {\"color\": \"#2a3f5f\"}, \"error_y\": {\"color\": \"#2a3f5f\"}, \"marker\": {\"line\": {\"color\": \"#E5ECF6\", \"width\": 0.5}}, \"type\": \"bar\"}], \"barpolar\": [{\"marker\": {\"line\": {\"color\": \"#E5ECF6\", \"width\": 0.5}}, \"type\": \"barpolar\"}], \"carpet\": [{\"aaxis\": {\"endlinecolor\": \"#2a3f5f\", \"gridcolor\": \"white\", \"linecolor\": \"white\", \"minorgridcolor\": \"white\", \"startlinecolor\": \"#2a3f5f\"}, \"baxis\": {\"endlinecolor\": \"#2a3f5f\", \"gridcolor\": \"white\", \"linecolor\": \"white\", \"minorgridcolor\": \"white\", \"startlinecolor\": \"#2a3f5f\"}, \"type\": \"carpet\"}], \"choropleth\": [{\"colorbar\": {\"outlinewidth\": 0, \"ticks\": \"\"}, \"type\": \"choropleth\"}], \"contour\": [{\"colorbar\": {\"outlinewidth\": 0, \"ticks\": \"\"}, \"colorscale\": [[0.0, \"#0d0887\"], [0.1111111111111111, \"#46039f\"], [0.2222222222222222, \"#7201a8\"], [0.3333333333333333, \"#9c179e\"], [0.4444444444444444, \"#bd3786\"], [0.5555555555555556, \"#d8576b\"], [0.6666666666666666, \"#ed7953\"], [0.7777777777777778, \"#fb9f3a\"], [0.8888888888888888, \"#fdca26\"], [1.0, \"#f0f921\"]], \"type\": \"contour\"}], \"contourcarpet\": [{\"colorbar\": {\"outlinewidth\": 0, \"ticks\": \"\"}, \"type\": \"contourcarpet\"}], \"heatmap\": [{\"colorbar\": {\"outlinewidth\": 0, \"ticks\": \"\"}, \"colorscale\": [[0.0, \"#0d0887\"], [0.1111111111111111, \"#46039f\"], [0.2222222222222222, \"#7201a8\"], [0.3333333333333333, \"#9c179e\"], [0.4444444444444444, \"#bd3786\"], [0.5555555555555556, \"#d8576b\"], [0.6666666666666666, \"#ed7953\"], [0.7777777777777778, \"#fb9f3a\"], [0.8888888888888888, \"#fdca26\"], [1.0, \"#f0f921\"]], \"type\": \"heatmap\"}], \"heatmapgl\": [{\"colorbar\": {\"outlinewidth\": 0, \"ticks\": \"\"}, \"colorscale\": [[0.0, \"#0d0887\"], [0.1111111111111111, \"#46039f\"], [0.2222222222222222, \"#7201a8\"], [0.3333333333333333, \"#9c179e\"], [0.4444444444444444, \"#bd3786\"], [0.5555555555555556, \"#d8576b\"], [0.6666666666666666, \"#ed7953\"], [0.7777777777777778, \"#fb9f3a\"], [0.8888888888888888, \"#fdca26\"], [1.0, \"#f0f921\"]], \"type\": \"heatmapgl\"}], \"histogram\": [{\"marker\": {\"colorbar\": {\"outlinewidth\": 0, \"ticks\": \"\"}}, \"type\": \"histogram\"}], \"histogram2d\": [{\"colorbar\": {\"outlinewidth\": 0, \"ticks\": \"\"}, \"colorscale\": [[0.0, \"#0d0887\"], [0.1111111111111111, \"#46039f\"], [0.2222222222222222, \"#7201a8\"], [0.3333333333333333, \"#9c179e\"], [0.4444444444444444, \"#bd3786\"], [0.5555555555555556, \"#d8576b\"], [0.6666666666666666, \"#ed7953\"], [0.7777777777777778, \"#fb9f3a\"], [0.8888888888888888, \"#fdca26\"], [1.0, \"#f0f921\"]], \"type\": \"histogram2d\"}], \"histogram2dcontour\": [{\"colorbar\": {\"outlinewidth\": 0, \"ticks\": \"\"}, \"colorscale\": [[0.0, \"#0d0887\"], [0.1111111111111111, \"#46039f\"], [0.2222222222222222, \"#7201a8\"], [0.3333333333333333, \"#9c179e\"], [0.4444444444444444, \"#bd3786\"], [0.5555555555555556, \"#d8576b\"], [0.6666666666666666, \"#ed7953\"], [0.7777777777777778, \"#fb9f3a\"], [0.8888888888888888, \"#fdca26\"], [1.0, \"#f0f921\"]], \"type\": \"histogram2dcontour\"}], \"mesh3d\": [{\"colorbar\": {\"outlinewidth\": 0, \"ticks\": \"\"}, \"type\": \"mesh3d\"}], \"parcoords\": [{\"line\": {\"colorbar\": {\"outlinewidth\": 0, \"ticks\": \"\"}}, \"type\": \"parcoords\"}], \"scatter\": [{\"marker\": {\"colorbar\": {\"outlinewidth\": 0, \"ticks\": \"\"}}, \"type\": \"scatter\"}], \"scatter3d\": [{\"line\": {\"colorbar\": {\"outlinewidth\": 0, \"ticks\": \"\"}}, \"marker\": {\"colorbar\": {\"outlinewidth\": 0, \"ticks\": \"\"}}, \"type\": \"scatter3d\"}], \"scattercarpet\": [{\"marker\": {\"colorbar\": {\"outlinewidth\": 0, \"ticks\": \"\"}}, \"type\": \"scattercarpet\"}], \"scattergeo\": [{\"marker\": {\"colorbar\": {\"outlinewidth\": 0, \"ticks\": \"\"}}, \"type\": \"scattergeo\"}], \"scattergl\": [{\"marker\": {\"colorbar\": {\"outlinewidth\": 0, \"ticks\": \"\"}}, \"type\": \"scattergl\"}], \"scattermapbox\": [{\"marker\": {\"colorbar\": {\"outlinewidth\": 0, \"ticks\": \"\"}}, \"type\": \"scattermapbox\"}], \"scatterpolar\": [{\"marker\": {\"colorbar\": {\"outlinewidth\": 0, \"ticks\": \"\"}}, \"type\": \"scatterpolar\"}], \"scatterpolargl\": [{\"marker\": {\"colorbar\": {\"outlinewidth\": 0, \"ticks\": \"\"}}, \"type\": \"scatterpolargl\"}], \"scatterternary\": [{\"marker\": {\"colorbar\": {\"outlinewidth\": 0, \"ticks\": \"\"}}, \"type\": \"scatterternary\"}], \"surface\": [{\"colorbar\": {\"outlinewidth\": 0, \"ticks\": \"\"}, \"colorscale\": [[0.0, \"#0d0887\"], [0.1111111111111111, \"#46039f\"], [0.2222222222222222, \"#7201a8\"], [0.3333333333333333, \"#9c179e\"], [0.4444444444444444, \"#bd3786\"], [0.5555555555555556, \"#d8576b\"], [0.6666666666666666, \"#ed7953\"], [0.7777777777777778, \"#fb9f3a\"], [0.8888888888888888, \"#fdca26\"], [1.0, \"#f0f921\"]], \"type\": \"surface\"}], \"table\": [{\"cells\": {\"fill\": {\"color\": \"#EBF0F8\"}, \"line\": {\"color\": \"white\"}}, \"header\": {\"fill\": {\"color\": \"#C8D4E3\"}, \"line\": {\"color\": \"white\"}}, \"type\": \"table\"}]}, \"layout\": {\"annotationdefaults\": {\"arrowcolor\": \"#2a3f5f\", \"arrowhead\": 0, \"arrowwidth\": 1}, \"colorscale\": {\"diverging\": [[0, \"#8e0152\"], [0.1, \"#c51b7d\"], [0.2, \"#de77ae\"], [0.3, \"#f1b6da\"], [0.4, \"#fde0ef\"], [0.5, \"#f7f7f7\"], [0.6, \"#e6f5d0\"], [0.7, \"#b8e186\"], [0.8, \"#7fbc41\"], [0.9, \"#4d9221\"], [1, \"#276419\"]], \"sequential\": [[0.0, \"#0d0887\"], [0.1111111111111111, \"#46039f\"], [0.2222222222222222, \"#7201a8\"], [0.3333333333333333, \"#9c179e\"], [0.4444444444444444, \"#bd3786\"], [0.5555555555555556, \"#d8576b\"], [0.6666666666666666, \"#ed7953\"], [0.7777777777777778, \"#fb9f3a\"], [0.8888888888888888, \"#fdca26\"], [1.0, \"#f0f921\"]], \"sequentialminus\": [[0.0, \"#0d0887\"], [0.1111111111111111, \"#46039f\"], [0.2222222222222222, \"#7201a8\"], [0.3333333333333333, \"#9c179e\"], [0.4444444444444444, \"#bd3786\"], [0.5555555555555556, \"#d8576b\"], [0.6666666666666666, \"#ed7953\"], [0.7777777777777778, \"#fb9f3a\"], [0.8888888888888888, \"#fdca26\"], [1.0, \"#f0f921\"]]}, \"colorway\": [\"#636efa\", \"#EF553B\", \"#00cc96\", \"#ab63fa\", \"#FFA15A\", \"#19d3f3\", \"#FF6692\", \"#B6E880\", \"#FF97FF\", \"#FECB52\"], \"font\": {\"color\": \"#2a3f5f\"}, \"geo\": {\"bgcolor\": \"white\", \"lakecolor\": \"white\", \"landcolor\": \"#E5ECF6\", \"showlakes\": true, \"showland\": true, \"subunitcolor\": \"white\"}, \"hoverlabel\": {\"align\": \"left\"}, \"hovermode\": \"closest\", \"mapbox\": {\"style\": \"light\"}, \"paper_bgcolor\": \"white\", \"plot_bgcolor\": \"#E5ECF6\", \"polar\": {\"angularaxis\": {\"gridcolor\": \"white\", \"linecolor\": \"white\", \"ticks\": \"\"}, \"bgcolor\": \"#E5ECF6\", \"radialaxis\": {\"gridcolor\": \"white\", \"linecolor\": \"white\", \"ticks\": \"\"}}, \"scene\": {\"xaxis\": {\"backgroundcolor\": \"#E5ECF6\", \"gridcolor\": \"white\", \"gridwidth\": 2, \"linecolor\": \"white\", \"showbackground\": true, \"ticks\": \"\", \"zerolinecolor\": \"white\"}, \"yaxis\": {\"backgroundcolor\": \"#E5ECF6\", \"gridcolor\": \"white\", \"gridwidth\": 2, \"linecolor\": \"white\", \"showbackground\": true, \"ticks\": \"\", \"zerolinecolor\": \"white\"}, \"zaxis\": {\"backgroundcolor\": \"#E5ECF6\", \"gridcolor\": \"white\", \"gridwidth\": 2, \"linecolor\": \"white\", \"showbackground\": true, \"ticks\": \"\", \"zerolinecolor\": \"white\"}}, \"shapedefaults\": {\"line\": {\"color\": \"#2a3f5f\"}}, \"ternary\": {\"aaxis\": {\"gridcolor\": \"white\", \"linecolor\": \"white\", \"ticks\": \"\"}, \"baxis\": {\"gridcolor\": \"white\", \"linecolor\": \"white\", \"ticks\": \"\"}, \"bgcolor\": \"#E5ECF6\", \"caxis\": {\"gridcolor\": \"white\", \"linecolor\": \"white\", \"ticks\": \"\"}}, \"title\": {\"x\": 0.05}, \"xaxis\": {\"automargin\": true, \"gridcolor\": \"white\", \"linecolor\": \"white\", \"ticks\": \"\", \"zerolinecolor\": \"white\", \"zerolinewidth\": 2}, \"yaxis\": {\"automargin\": true, \"gridcolor\": \"white\", \"linecolor\": \"white\", \"ticks\": \"\", \"zerolinecolor\": \"white\", \"zerolinewidth\": 2}}}, \"title\": {\"text\": \"3D LRP Embedding\"}, \"width\": 1200},\n",
       "                        {\"responsive\": true}\n",
       "                    ).then(function(){\n",
       "                            \n",
       "var gd = document.getElementById('03f6d3df-f9c0-4ee4-b4ab-5413061cfe53');\n",
       "var x = new MutationObserver(function (mutations, observer) {{\n",
       "        var display = window.getComputedStyle(gd).display;\n",
       "        if (!display || display === 'none') {{\n",
       "            console.log([gd, 'removed!']);\n",
       "            Plotly.purge(gd);\n",
       "            observer.disconnect();\n",
       "        }}\n",
       "}});\n",
       "\n",
       "// Listen for the removal of the full notebook cells\n",
       "var notebookContainer = gd.closest('#notebook-container');\n",
       "if (notebookContainer) {{\n",
       "    x.observe(notebookContainer, {childList: true});\n",
       "}}\n",
       "\n",
       "// Listen for the clearing of the current output cell\n",
       "var outputEl = gd.closest('.output');\n",
       "if (outputEl) {{\n",
       "    x.observe(outputEl, {childList: true});\n",
       "}}\n",
       "\n",
       "                        })\n",
       "                };\n",
       "                });\n",
       "            </script>\n",
       "        </div>"
      ]
     },
     "metadata": {},
     "output_type": "display_data"
    }
   ],
   "source": [
    "plot_3d_lrp(embedding, colors=risk_labels, labels=analysis_labels[\"ASD_DX_group\"])"
   ]
  },
  {
   "cell_type": "markdown",
   "metadata": {},
   "source": [
    "## Embedding ASD Only"
   ]
  },
  {
   "cell_type": "code",
   "execution_count": 40,
   "metadata": {},
   "outputs": [
    {
     "data": {
      "text/html": [
       "        <script type=\"text/javascript\">\n",
       "        window.PlotlyConfig = {MathJaxConfig: 'local'};\n",
       "        if (window.MathJax) {MathJax.Hub.Config({SVG: {font: \"STIX-Web\"}});}\n",
       "        if (typeof require !== 'undefined') {\n",
       "        require.undef(\"plotly\");\n",
       "        requirejs.config({\n",
       "            paths: {\n",
       "                'plotly': ['https://cdn.plot.ly/plotly-latest.min']\n",
       "            }\n",
       "        });\n",
       "        require(['plotly'], function(Plotly) {\n",
       "            window._Plotly = Plotly;\n",
       "        });\n",
       "        }\n",
       "        </script>\n",
       "        "
      ]
     },
     "metadata": {},
     "output_type": "display_data"
    },
    {
     "data": {
      "application/vnd.plotly.v1+json": {
       "config": {
        "linkText": "Export to plot.ly",
        "plotlyServerURL": "https://plot.ly",
        "showLink": false
       },
       "data": [
        {
         "marker": {
          "color": [],
          "colorscale": [
           [
            0,
            "rgb(150,0,90)"
           ],
           [
            0.125,
            "rgb(0,0,200)"
           ],
           [
            0.25,
            "rgb(0,25,255)"
           ],
           [
            0.375,
            "rgb(0,152,255)"
           ],
           [
            0.5,
            "rgb(44,255,150)"
           ],
           [
            0.625,
            "rgb(151,255,0)"
           ],
           [
            0.75,
            "rgb(255,234,0)"
           ],
           [
            0.875,
            "rgb(255,111,0)"
           ],
           [
            1,
            "rgb(255,0,0)"
           ]
          ],
          "opacity": 0.8,
          "showscale": true,
          "size": 5
         },
         "mode": "markers",
         "name": "Training",
         "text": [],
         "type": "scatter3d",
         "x": [
          3.4337706565856934,
          3.05391263961792,
          4.5055694580078125,
          3.675283670425415,
          2.1467013359069824,
          3.2319254875183105,
          4.236183166503906,
          2.7291436195373535,
          3.3937182426452637,
          3.5132784843444824,
          3.2435946464538574,
          2.617706537246704,
          3.159085512161255,
          2.5502188205718994,
          3.2651424407958984,
          2.9214589595794678,
          2.995091676712036,
          3.935835838317871,
          2.540855646133423,
          2.4108593463897705,
          2.3853094577789307,
          3.590458393096924,
          4.087825298309326,
          3.2631728649139404,
          2.4024362564086914,
          3.0056793689727783,
          3.535377025604248,
          3.192732334136963,
          2.9049489498138428,
          3.4053492546081543,
          3.743041753768921,
          3.1633260250091553,
          2.093529462814331,
          3.5990803241729736,
          3.4438793659210205,
          3.294661045074463,
          4.296669960021973,
          2.7647109031677246,
          3.8360581398010254
         ],
         "y": [
          2.2896625995635986,
          2.4683384895324707,
          1.1731570959091187,
          2.9341349601745605,
          1.4961031675338745,
          1.5564790964126587,
          1.4835243225097656,
          2.283425807952881,
          1.071494460105896,
          0.4324115514755249,
          0.905276894569397,
          1.9194061756134033,
          2.1195011138916016,
          1.4734187126159668,
          0.06398601084947586,
          2.023352861404419,
          2.0054264068603516,
          1.4711066484451294,
          2.2781825065612793,
          1.0645649433135986,
          1.2816472053527832,
          1.5830587148666382,
          2.500675916671753,
          2.778895139694214,
          1.8457820415496826,
          0.14769868552684784,
          1.0433318614959717,
          1.1874921321868896,
          1.7804815769195557,
          1.9506664276123047,
          2.7568838596343994,
          0.7161047458648682,
          0.9253636598587036,
          1.3373475074768066,
          0.24509672820568085,
          1.6727983951568604,
          1.3725035190582275,
          0.3921555280685425,
          1.5049469470977783
         ],
         "z": [
          3.8018524646759033,
          1.6354798078536987,
          1.6382501125335693,
          2.0071308612823486,
          3.0328829288482666,
          2.060012102127075,
          1.4162136316299438,
          3.9487826824188232,
          4.083041667938232,
          2.2203855514526367,
          3.9141101837158203,
          2.2185490131378174,
          3.997837543487549,
          2.2921276092529297,
          2.8697569370269775,
          1.821743130683899,
          2.01994252204895,
          2.385322093963623,
          2.8865089416503906,
          3.2778258323669434,
          3.688805341720581,
          2.59511137008667,
          1.4558829069137573,
          1.610000729560852,
          2.936537265777588,
          3.0241401195526123,
          3.5081520080566406,
          3.3946168422698975,
          3.9132113456726074,
          3.8826475143432617,
          1.6299656629562378,
          3.3667914867401123,
          3.2962419986724854,
          3.211686849594116,
          2.49691104888916,
          2.326411008834839,
          1.5126125812530518,
          2.8244564533233643,
          1.8292834758758545
         ]
        }
       ],
       "layout": {
        "autosize": false,
        "height": 1000,
        "paper_bgcolor": "#F5F5F5",
        "scene": {
         "aspectmode": "auto",
         "aspectratio": {
          "x": 0.912619730774635,
          "y": 1.0859498874959777,
          "z": 1.009021363396875
         },
         "camera": {
          "center": {
           "x": 0,
           "y": 0,
           "z": 0
          },
          "eye": {
           "x": 5.03316742050395,
           "y": -1.0036185258705153,
           "z": 2.311286950649554
          },
          "projection": {
           "type": "perspective"
          },
          "up": {
           "x": 0.0004510958774998562,
           "y": 0.002256159415520619,
           "z": 0.9999973531250976
          }
         }
        },
        "template": {
         "data": {
          "bar": [
           {
            "error_x": {
             "color": "#2a3f5f"
            },
            "error_y": {
             "color": "#2a3f5f"
            },
            "marker": {
             "line": {
              "color": "#E5ECF6",
              "width": 0.5
             }
            },
            "type": "bar"
           }
          ],
          "barpolar": [
           {
            "marker": {
             "line": {
              "color": "#E5ECF6",
              "width": 0.5
             }
            },
            "type": "barpolar"
           }
          ],
          "carpet": [
           {
            "aaxis": {
             "endlinecolor": "#2a3f5f",
             "gridcolor": "white",
             "linecolor": "white",
             "minorgridcolor": "white",
             "startlinecolor": "#2a3f5f"
            },
            "baxis": {
             "endlinecolor": "#2a3f5f",
             "gridcolor": "white",
             "linecolor": "white",
             "minorgridcolor": "white",
             "startlinecolor": "#2a3f5f"
            },
            "type": "carpet"
           }
          ],
          "choropleth": [
           {
            "colorbar": {
             "outlinewidth": 0,
             "ticks": ""
            },
            "type": "choropleth"
           }
          ],
          "contour": [
           {
            "colorbar": {
             "outlinewidth": 0,
             "ticks": ""
            },
            "colorscale": [
             [
              0,
              "#0d0887"
             ],
             [
              0.1111111111111111,
              "#46039f"
             ],
             [
              0.2222222222222222,
              "#7201a8"
             ],
             [
              0.3333333333333333,
              "#9c179e"
             ],
             [
              0.4444444444444444,
              "#bd3786"
             ],
             [
              0.5555555555555556,
              "#d8576b"
             ],
             [
              0.6666666666666666,
              "#ed7953"
             ],
             [
              0.7777777777777778,
              "#fb9f3a"
             ],
             [
              0.8888888888888888,
              "#fdca26"
             ],
             [
              1,
              "#f0f921"
             ]
            ],
            "type": "contour"
           }
          ],
          "contourcarpet": [
           {
            "colorbar": {
             "outlinewidth": 0,
             "ticks": ""
            },
            "type": "contourcarpet"
           }
          ],
          "heatmap": [
           {
            "colorbar": {
             "outlinewidth": 0,
             "ticks": ""
            },
            "colorscale": [
             [
              0,
              "#0d0887"
             ],
             [
              0.1111111111111111,
              "#46039f"
             ],
             [
              0.2222222222222222,
              "#7201a8"
             ],
             [
              0.3333333333333333,
              "#9c179e"
             ],
             [
              0.4444444444444444,
              "#bd3786"
             ],
             [
              0.5555555555555556,
              "#d8576b"
             ],
             [
              0.6666666666666666,
              "#ed7953"
             ],
             [
              0.7777777777777778,
              "#fb9f3a"
             ],
             [
              0.8888888888888888,
              "#fdca26"
             ],
             [
              1,
              "#f0f921"
             ]
            ],
            "type": "heatmap"
           }
          ],
          "heatmapgl": [
           {
            "colorbar": {
             "outlinewidth": 0,
             "ticks": ""
            },
            "colorscale": [
             [
              0,
              "#0d0887"
             ],
             [
              0.1111111111111111,
              "#46039f"
             ],
             [
              0.2222222222222222,
              "#7201a8"
             ],
             [
              0.3333333333333333,
              "#9c179e"
             ],
             [
              0.4444444444444444,
              "#bd3786"
             ],
             [
              0.5555555555555556,
              "#d8576b"
             ],
             [
              0.6666666666666666,
              "#ed7953"
             ],
             [
              0.7777777777777778,
              "#fb9f3a"
             ],
             [
              0.8888888888888888,
              "#fdca26"
             ],
             [
              1,
              "#f0f921"
             ]
            ],
            "type": "heatmapgl"
           }
          ],
          "histogram": [
           {
            "marker": {
             "colorbar": {
              "outlinewidth": 0,
              "ticks": ""
             }
            },
            "type": "histogram"
           }
          ],
          "histogram2d": [
           {
            "colorbar": {
             "outlinewidth": 0,
             "ticks": ""
            },
            "colorscale": [
             [
              0,
              "#0d0887"
             ],
             [
              0.1111111111111111,
              "#46039f"
             ],
             [
              0.2222222222222222,
              "#7201a8"
             ],
             [
              0.3333333333333333,
              "#9c179e"
             ],
             [
              0.4444444444444444,
              "#bd3786"
             ],
             [
              0.5555555555555556,
              "#d8576b"
             ],
             [
              0.6666666666666666,
              "#ed7953"
             ],
             [
              0.7777777777777778,
              "#fb9f3a"
             ],
             [
              0.8888888888888888,
              "#fdca26"
             ],
             [
              1,
              "#f0f921"
             ]
            ],
            "type": "histogram2d"
           }
          ],
          "histogram2dcontour": [
           {
            "colorbar": {
             "outlinewidth": 0,
             "ticks": ""
            },
            "colorscale": [
             [
              0,
              "#0d0887"
             ],
             [
              0.1111111111111111,
              "#46039f"
             ],
             [
              0.2222222222222222,
              "#7201a8"
             ],
             [
              0.3333333333333333,
              "#9c179e"
             ],
             [
              0.4444444444444444,
              "#bd3786"
             ],
             [
              0.5555555555555556,
              "#d8576b"
             ],
             [
              0.6666666666666666,
              "#ed7953"
             ],
             [
              0.7777777777777778,
              "#fb9f3a"
             ],
             [
              0.8888888888888888,
              "#fdca26"
             ],
             [
              1,
              "#f0f921"
             ]
            ],
            "type": "histogram2dcontour"
           }
          ],
          "mesh3d": [
           {
            "colorbar": {
             "outlinewidth": 0,
             "ticks": ""
            },
            "type": "mesh3d"
           }
          ],
          "parcoords": [
           {
            "line": {
             "colorbar": {
              "outlinewidth": 0,
              "ticks": ""
             }
            },
            "type": "parcoords"
           }
          ],
          "scatter": [
           {
            "marker": {
             "colorbar": {
              "outlinewidth": 0,
              "ticks": ""
             }
            },
            "type": "scatter"
           }
          ],
          "scatter3d": [
           {
            "line": {
             "colorbar": {
              "outlinewidth": 0,
              "ticks": ""
             }
            },
            "marker": {
             "colorbar": {
              "outlinewidth": 0,
              "ticks": ""
             }
            },
            "type": "scatter3d"
           }
          ],
          "scattercarpet": [
           {
            "marker": {
             "colorbar": {
              "outlinewidth": 0,
              "ticks": ""
             }
            },
            "type": "scattercarpet"
           }
          ],
          "scattergeo": [
           {
            "marker": {
             "colorbar": {
              "outlinewidth": 0,
              "ticks": ""
             }
            },
            "type": "scattergeo"
           }
          ],
          "scattergl": [
           {
            "marker": {
             "colorbar": {
              "outlinewidth": 0,
              "ticks": ""
             }
            },
            "type": "scattergl"
           }
          ],
          "scattermapbox": [
           {
            "marker": {
             "colorbar": {
              "outlinewidth": 0,
              "ticks": ""
             }
            },
            "type": "scattermapbox"
           }
          ],
          "scatterpolar": [
           {
            "marker": {
             "colorbar": {
              "outlinewidth": 0,
              "ticks": ""
             }
            },
            "type": "scatterpolar"
           }
          ],
          "scatterpolargl": [
           {
            "marker": {
             "colorbar": {
              "outlinewidth": 0,
              "ticks": ""
             }
            },
            "type": "scatterpolargl"
           }
          ],
          "scatterternary": [
           {
            "marker": {
             "colorbar": {
              "outlinewidth": 0,
              "ticks": ""
             }
            },
            "type": "scatterternary"
           }
          ],
          "surface": [
           {
            "colorbar": {
             "outlinewidth": 0,
             "ticks": ""
            },
            "colorscale": [
             [
              0,
              "#0d0887"
             ],
             [
              0.1111111111111111,
              "#46039f"
             ],
             [
              0.2222222222222222,
              "#7201a8"
             ],
             [
              0.3333333333333333,
              "#9c179e"
             ],
             [
              0.4444444444444444,
              "#bd3786"
             ],
             [
              0.5555555555555556,
              "#d8576b"
             ],
             [
              0.6666666666666666,
              "#ed7953"
             ],
             [
              0.7777777777777778,
              "#fb9f3a"
             ],
             [
              0.8888888888888888,
              "#fdca26"
             ],
             [
              1,
              "#f0f921"
             ]
            ],
            "type": "surface"
           }
          ],
          "table": [
           {
            "cells": {
             "fill": {
              "color": "#EBF0F8"
             },
             "line": {
              "color": "white"
             }
            },
            "header": {
             "fill": {
              "color": "#C8D4E3"
             },
             "line": {
              "color": "white"
             }
            },
            "type": "table"
           }
          ]
         },
         "layout": {
          "annotationdefaults": {
           "arrowcolor": "#2a3f5f",
           "arrowhead": 0,
           "arrowwidth": 1
          },
          "colorscale": {
           "diverging": [
            [
             0,
             "#8e0152"
            ],
            [
             0.1,
             "#c51b7d"
            ],
            [
             0.2,
             "#de77ae"
            ],
            [
             0.3,
             "#f1b6da"
            ],
            [
             0.4,
             "#fde0ef"
            ],
            [
             0.5,
             "#f7f7f7"
            ],
            [
             0.6,
             "#e6f5d0"
            ],
            [
             0.7,
             "#b8e186"
            ],
            [
             0.8,
             "#7fbc41"
            ],
            [
             0.9,
             "#4d9221"
            ],
            [
             1,
             "#276419"
            ]
           ],
           "sequential": [
            [
             0,
             "#0d0887"
            ],
            [
             0.1111111111111111,
             "#46039f"
            ],
            [
             0.2222222222222222,
             "#7201a8"
            ],
            [
             0.3333333333333333,
             "#9c179e"
            ],
            [
             0.4444444444444444,
             "#bd3786"
            ],
            [
             0.5555555555555556,
             "#d8576b"
            ],
            [
             0.6666666666666666,
             "#ed7953"
            ],
            [
             0.7777777777777778,
             "#fb9f3a"
            ],
            [
             0.8888888888888888,
             "#fdca26"
            ],
            [
             1,
             "#f0f921"
            ]
           ],
           "sequentialminus": [
            [
             0,
             "#0d0887"
            ],
            [
             0.1111111111111111,
             "#46039f"
            ],
            [
             0.2222222222222222,
             "#7201a8"
            ],
            [
             0.3333333333333333,
             "#9c179e"
            ],
            [
             0.4444444444444444,
             "#bd3786"
            ],
            [
             0.5555555555555556,
             "#d8576b"
            ],
            [
             0.6666666666666666,
             "#ed7953"
            ],
            [
             0.7777777777777778,
             "#fb9f3a"
            ],
            [
             0.8888888888888888,
             "#fdca26"
            ],
            [
             1,
             "#f0f921"
            ]
           ]
          },
          "colorway": [
           "#636efa",
           "#EF553B",
           "#00cc96",
           "#ab63fa",
           "#FFA15A",
           "#19d3f3",
           "#FF6692",
           "#B6E880",
           "#FF97FF",
           "#FECB52"
          ],
          "font": {
           "color": "#2a3f5f"
          },
          "geo": {
           "bgcolor": "white",
           "lakecolor": "white",
           "landcolor": "#E5ECF6",
           "showlakes": true,
           "showland": true,
           "subunitcolor": "white"
          },
          "hoverlabel": {
           "align": "left"
          },
          "hovermode": "closest",
          "mapbox": {
           "style": "light"
          },
          "paper_bgcolor": "white",
          "plot_bgcolor": "#E5ECF6",
          "polar": {
           "angularaxis": {
            "gridcolor": "white",
            "linecolor": "white",
            "ticks": ""
           },
           "bgcolor": "#E5ECF6",
           "radialaxis": {
            "gridcolor": "white",
            "linecolor": "white",
            "ticks": ""
           }
          },
          "scene": {
           "xaxis": {
            "backgroundcolor": "#E5ECF6",
            "gridcolor": "white",
            "gridwidth": 2,
            "linecolor": "white",
            "showbackground": true,
            "ticks": "",
            "zerolinecolor": "white"
           },
           "yaxis": {
            "backgroundcolor": "#E5ECF6",
            "gridcolor": "white",
            "gridwidth": 2,
            "linecolor": "white",
            "showbackground": true,
            "ticks": "",
            "zerolinecolor": "white"
           },
           "zaxis": {
            "backgroundcolor": "#E5ECF6",
            "gridcolor": "white",
            "gridwidth": 2,
            "linecolor": "white",
            "showbackground": true,
            "ticks": "",
            "zerolinecolor": "white"
           }
          },
          "shapedefaults": {
           "line": {
            "color": "#2a3f5f"
           }
          },
          "ternary": {
           "aaxis": {
            "gridcolor": "white",
            "linecolor": "white",
            "ticks": ""
           },
           "baxis": {
            "gridcolor": "white",
            "linecolor": "white",
            "ticks": ""
           },
           "bgcolor": "#E5ECF6",
           "caxis": {
            "gridcolor": "white",
            "linecolor": "white",
            "ticks": ""
           }
          },
          "title": {
           "x": 0.05
          },
          "xaxis": {
           "automargin": true,
           "gridcolor": "white",
           "linecolor": "white",
           "ticks": "",
           "zerolinecolor": "white",
           "zerolinewidth": 2
          },
          "yaxis": {
           "automargin": true,
           "gridcolor": "white",
           "linecolor": "white",
           "ticks": "",
           "zerolinecolor": "white",
           "zerolinewidth": 2
          }
         }
        },
        "title": {
         "text": "3D LRP Embedding"
        },
        "width": 1200
       }
      },
      "text/html": [
       "<div>\n",
       "        \n",
       "        \n",
       "            <div id=\"4614b343-f0eb-4758-8873-06ad3311cee3\" class=\"plotly-graph-div\" style=\"height:1000px; width:1200px;\"></div>\n",
       "            <script type=\"text/javascript\">\n",
       "                require([\"plotly\"], function(Plotly) {\n",
       "                    window.PLOTLYENV=window.PLOTLYENV || {};\n",
       "                    \n",
       "                if (document.getElementById(\"4614b343-f0eb-4758-8873-06ad3311cee3\")) {\n",
       "                    Plotly.newPlot(\n",
       "                        '4614b343-f0eb-4758-8873-06ad3311cee3',\n",
       "                        [{\"marker\": {\"color\": [], \"colorscale\": [[0.0, \"rgb(150,0,90)\"], [0.125, \"rgb(0,0,200)\"], [0.25, \"rgb(0,25,255)\"], [0.375, \"rgb(0,152,255)\"], [0.5, \"rgb(44,255,150)\"], [0.625, \"rgb(151,255,0)\"], [0.75, \"rgb(255,234,0)\"], [0.875, \"rgb(255,111,0)\"], [1.0, \"rgb(255,0,0)\"]], \"opacity\": 0.8, \"showscale\": true, \"size\": 5}, \"mode\": \"markers\", \"name\": \"Training\", \"text\": [], \"type\": \"scatter3d\", \"x\": [3.4337706565856934, 3.05391263961792, 4.5055694580078125, 3.675283670425415, 2.1467013359069824, 3.2319254875183105, 4.236183166503906, 2.7291436195373535, 3.3937182426452637, 3.5132784843444824, 3.2435946464538574, 2.617706537246704, 3.159085512161255, 2.5502188205718994, 3.2651424407958984, 2.9214589595794678, 2.995091676712036, 3.935835838317871, 2.540855646133423, 2.4108593463897705, 2.3853094577789307, 3.590458393096924, 4.087825298309326, 3.2631728649139404, 2.4024362564086914, 3.0056793689727783, 3.535377025604248, 3.192732334136963, 2.9049489498138428, 3.4053492546081543, 3.743041753768921, 3.1633260250091553, 2.093529462814331, 3.5990803241729736, 3.4438793659210205, 3.294661045074463, 4.296669960021973, 2.7647109031677246, 3.8360581398010254], \"y\": [2.2896625995635986, 2.4683384895324707, 1.1731570959091187, 2.9341349601745605, 1.4961031675338745, 1.5564790964126587, 1.4835243225097656, 2.283425807952881, 1.071494460105896, 0.4324115514755249, 0.905276894569397, 1.9194061756134033, 2.1195011138916016, 1.4734187126159668, 0.06398601084947586, 2.023352861404419, 2.0054264068603516, 1.4711066484451294, 2.2781825065612793, 1.0645649433135986, 1.2816472053527832, 1.5830587148666382, 2.500675916671753, 2.778895139694214, 1.8457820415496826, 0.14769868552684784, 1.0433318614959717, 1.1874921321868896, 1.7804815769195557, 1.9506664276123047, 2.7568838596343994, 0.7161047458648682, 0.9253636598587036, 1.3373475074768066, 0.24509672820568085, 1.6727983951568604, 1.3725035190582275, 0.3921555280685425, 1.5049469470977783], \"z\": [3.8018524646759033, 1.6354798078536987, 1.6382501125335693, 2.0071308612823486, 3.0328829288482666, 2.060012102127075, 1.4162136316299438, 3.9487826824188232, 4.083041667938232, 2.2203855514526367, 3.9141101837158203, 2.2185490131378174, 3.997837543487549, 2.2921276092529297, 2.8697569370269775, 1.821743130683899, 2.01994252204895, 2.385322093963623, 2.8865089416503906, 3.2778258323669434, 3.688805341720581, 2.59511137008667, 1.4558829069137573, 1.610000729560852, 2.936537265777588, 3.0241401195526123, 3.5081520080566406, 3.3946168422698975, 3.9132113456726074, 3.8826475143432617, 1.6299656629562378, 3.3667914867401123, 3.2962419986724854, 3.211686849594116, 2.49691104888916, 2.326411008834839, 1.5126125812530518, 2.8244564533233643, 1.8292834758758545]}],\n",
       "                        {\"autosize\": false, \"height\": 1000, \"paper_bgcolor\": \"#F5F5F5\", \"template\": {\"data\": {\"bar\": [{\"error_x\": {\"color\": \"#2a3f5f\"}, \"error_y\": {\"color\": \"#2a3f5f\"}, \"marker\": {\"line\": {\"color\": \"#E5ECF6\", \"width\": 0.5}}, \"type\": \"bar\"}], \"barpolar\": [{\"marker\": {\"line\": {\"color\": \"#E5ECF6\", \"width\": 0.5}}, \"type\": \"barpolar\"}], \"carpet\": [{\"aaxis\": {\"endlinecolor\": \"#2a3f5f\", \"gridcolor\": \"white\", \"linecolor\": \"white\", \"minorgridcolor\": \"white\", \"startlinecolor\": \"#2a3f5f\"}, \"baxis\": {\"endlinecolor\": \"#2a3f5f\", \"gridcolor\": \"white\", \"linecolor\": \"white\", \"minorgridcolor\": \"white\", \"startlinecolor\": \"#2a3f5f\"}, \"type\": \"carpet\"}], \"choropleth\": [{\"colorbar\": {\"outlinewidth\": 0, \"ticks\": \"\"}, \"type\": \"choropleth\"}], \"contour\": [{\"colorbar\": {\"outlinewidth\": 0, \"ticks\": \"\"}, \"colorscale\": [[0.0, \"#0d0887\"], [0.1111111111111111, \"#46039f\"], [0.2222222222222222, \"#7201a8\"], [0.3333333333333333, \"#9c179e\"], [0.4444444444444444, \"#bd3786\"], [0.5555555555555556, \"#d8576b\"], [0.6666666666666666, \"#ed7953\"], [0.7777777777777778, \"#fb9f3a\"], [0.8888888888888888, \"#fdca26\"], [1.0, \"#f0f921\"]], \"type\": \"contour\"}], \"contourcarpet\": [{\"colorbar\": {\"outlinewidth\": 0, \"ticks\": \"\"}, \"type\": \"contourcarpet\"}], \"heatmap\": [{\"colorbar\": {\"outlinewidth\": 0, \"ticks\": \"\"}, \"colorscale\": [[0.0, \"#0d0887\"], [0.1111111111111111, \"#46039f\"], [0.2222222222222222, \"#7201a8\"], [0.3333333333333333, \"#9c179e\"], [0.4444444444444444, \"#bd3786\"], [0.5555555555555556, \"#d8576b\"], [0.6666666666666666, \"#ed7953\"], [0.7777777777777778, \"#fb9f3a\"], [0.8888888888888888, \"#fdca26\"], [1.0, \"#f0f921\"]], \"type\": \"heatmap\"}], \"heatmapgl\": [{\"colorbar\": {\"outlinewidth\": 0, \"ticks\": \"\"}, \"colorscale\": [[0.0, \"#0d0887\"], [0.1111111111111111, \"#46039f\"], [0.2222222222222222, \"#7201a8\"], [0.3333333333333333, \"#9c179e\"], [0.4444444444444444, \"#bd3786\"], [0.5555555555555556, \"#d8576b\"], [0.6666666666666666, \"#ed7953\"], [0.7777777777777778, \"#fb9f3a\"], [0.8888888888888888, \"#fdca26\"], [1.0, \"#f0f921\"]], \"type\": \"heatmapgl\"}], \"histogram\": [{\"marker\": {\"colorbar\": {\"outlinewidth\": 0, \"ticks\": \"\"}}, \"type\": \"histogram\"}], \"histogram2d\": [{\"colorbar\": {\"outlinewidth\": 0, \"ticks\": \"\"}, \"colorscale\": [[0.0, \"#0d0887\"], [0.1111111111111111, \"#46039f\"], [0.2222222222222222, \"#7201a8\"], [0.3333333333333333, \"#9c179e\"], [0.4444444444444444, \"#bd3786\"], [0.5555555555555556, \"#d8576b\"], [0.6666666666666666, \"#ed7953\"], [0.7777777777777778, \"#fb9f3a\"], [0.8888888888888888, \"#fdca26\"], [1.0, \"#f0f921\"]], \"type\": \"histogram2d\"}], \"histogram2dcontour\": [{\"colorbar\": {\"outlinewidth\": 0, \"ticks\": \"\"}, \"colorscale\": [[0.0, \"#0d0887\"], [0.1111111111111111, \"#46039f\"], [0.2222222222222222, \"#7201a8\"], [0.3333333333333333, \"#9c179e\"], [0.4444444444444444, \"#bd3786\"], [0.5555555555555556, \"#d8576b\"], [0.6666666666666666, \"#ed7953\"], [0.7777777777777778, \"#fb9f3a\"], [0.8888888888888888, \"#fdca26\"], [1.0, \"#f0f921\"]], \"type\": \"histogram2dcontour\"}], \"mesh3d\": [{\"colorbar\": {\"outlinewidth\": 0, \"ticks\": \"\"}, \"type\": \"mesh3d\"}], \"parcoords\": [{\"line\": {\"colorbar\": {\"outlinewidth\": 0, \"ticks\": \"\"}}, \"type\": \"parcoords\"}], \"scatter\": [{\"marker\": {\"colorbar\": {\"outlinewidth\": 0, \"ticks\": \"\"}}, \"type\": \"scatter\"}], \"scatter3d\": [{\"line\": {\"colorbar\": {\"outlinewidth\": 0, \"ticks\": \"\"}}, \"marker\": {\"colorbar\": {\"outlinewidth\": 0, \"ticks\": \"\"}}, \"type\": \"scatter3d\"}], \"scattercarpet\": [{\"marker\": {\"colorbar\": {\"outlinewidth\": 0, \"ticks\": \"\"}}, \"type\": \"scattercarpet\"}], \"scattergeo\": [{\"marker\": {\"colorbar\": {\"outlinewidth\": 0, \"ticks\": \"\"}}, \"type\": \"scattergeo\"}], \"scattergl\": [{\"marker\": {\"colorbar\": {\"outlinewidth\": 0, \"ticks\": \"\"}}, \"type\": \"scattergl\"}], \"scattermapbox\": [{\"marker\": {\"colorbar\": {\"outlinewidth\": 0, \"ticks\": \"\"}}, \"type\": \"scattermapbox\"}], \"scatterpolar\": [{\"marker\": {\"colorbar\": {\"outlinewidth\": 0, \"ticks\": \"\"}}, \"type\": \"scatterpolar\"}], \"scatterpolargl\": [{\"marker\": {\"colorbar\": {\"outlinewidth\": 0, \"ticks\": \"\"}}, \"type\": \"scatterpolargl\"}], \"scatterternary\": [{\"marker\": {\"colorbar\": {\"outlinewidth\": 0, \"ticks\": \"\"}}, \"type\": \"scatterternary\"}], \"surface\": [{\"colorbar\": {\"outlinewidth\": 0, \"ticks\": \"\"}, \"colorscale\": [[0.0, \"#0d0887\"], [0.1111111111111111, \"#46039f\"], [0.2222222222222222, \"#7201a8\"], [0.3333333333333333, \"#9c179e\"], [0.4444444444444444, \"#bd3786\"], [0.5555555555555556, \"#d8576b\"], [0.6666666666666666, \"#ed7953\"], [0.7777777777777778, \"#fb9f3a\"], [0.8888888888888888, \"#fdca26\"], [1.0, \"#f0f921\"]], \"type\": \"surface\"}], \"table\": [{\"cells\": {\"fill\": {\"color\": \"#EBF0F8\"}, \"line\": {\"color\": \"white\"}}, \"header\": {\"fill\": {\"color\": \"#C8D4E3\"}, \"line\": {\"color\": \"white\"}}, \"type\": \"table\"}]}, \"layout\": {\"annotationdefaults\": {\"arrowcolor\": \"#2a3f5f\", \"arrowhead\": 0, \"arrowwidth\": 1}, \"colorscale\": {\"diverging\": [[0, \"#8e0152\"], [0.1, \"#c51b7d\"], [0.2, \"#de77ae\"], [0.3, \"#f1b6da\"], [0.4, \"#fde0ef\"], [0.5, \"#f7f7f7\"], [0.6, \"#e6f5d0\"], [0.7, \"#b8e186\"], [0.8, \"#7fbc41\"], [0.9, \"#4d9221\"], [1, \"#276419\"]], \"sequential\": [[0.0, \"#0d0887\"], [0.1111111111111111, \"#46039f\"], [0.2222222222222222, \"#7201a8\"], [0.3333333333333333, \"#9c179e\"], [0.4444444444444444, \"#bd3786\"], [0.5555555555555556, \"#d8576b\"], [0.6666666666666666, \"#ed7953\"], [0.7777777777777778, \"#fb9f3a\"], [0.8888888888888888, \"#fdca26\"], [1.0, \"#f0f921\"]], \"sequentialminus\": [[0.0, \"#0d0887\"], [0.1111111111111111, \"#46039f\"], [0.2222222222222222, \"#7201a8\"], [0.3333333333333333, \"#9c179e\"], [0.4444444444444444, \"#bd3786\"], [0.5555555555555556, \"#d8576b\"], [0.6666666666666666, \"#ed7953\"], [0.7777777777777778, \"#fb9f3a\"], [0.8888888888888888, \"#fdca26\"], [1.0, \"#f0f921\"]]}, \"colorway\": [\"#636efa\", \"#EF553B\", \"#00cc96\", \"#ab63fa\", \"#FFA15A\", \"#19d3f3\", \"#FF6692\", \"#B6E880\", \"#FF97FF\", \"#FECB52\"], \"font\": {\"color\": \"#2a3f5f\"}, \"geo\": {\"bgcolor\": \"white\", \"lakecolor\": \"white\", \"landcolor\": \"#E5ECF6\", \"showlakes\": true, \"showland\": true, \"subunitcolor\": \"white\"}, \"hoverlabel\": {\"align\": \"left\"}, \"hovermode\": \"closest\", \"mapbox\": {\"style\": \"light\"}, \"paper_bgcolor\": \"white\", \"plot_bgcolor\": \"#E5ECF6\", \"polar\": {\"angularaxis\": {\"gridcolor\": \"white\", \"linecolor\": \"white\", \"ticks\": \"\"}, \"bgcolor\": \"#E5ECF6\", \"radialaxis\": {\"gridcolor\": \"white\", \"linecolor\": \"white\", \"ticks\": \"\"}}, \"scene\": {\"xaxis\": {\"backgroundcolor\": \"#E5ECF6\", \"gridcolor\": \"white\", \"gridwidth\": 2, \"linecolor\": \"white\", \"showbackground\": true, \"ticks\": \"\", \"zerolinecolor\": \"white\"}, \"yaxis\": {\"backgroundcolor\": \"#E5ECF6\", \"gridcolor\": \"white\", \"gridwidth\": 2, \"linecolor\": \"white\", \"showbackground\": true, \"ticks\": \"\", \"zerolinecolor\": \"white\"}, \"zaxis\": {\"backgroundcolor\": \"#E5ECF6\", \"gridcolor\": \"white\", \"gridwidth\": 2, \"linecolor\": \"white\", \"showbackground\": true, \"ticks\": \"\", \"zerolinecolor\": \"white\"}}, \"shapedefaults\": {\"line\": {\"color\": \"#2a3f5f\"}}, \"ternary\": {\"aaxis\": {\"gridcolor\": \"white\", \"linecolor\": \"white\", \"ticks\": \"\"}, \"baxis\": {\"gridcolor\": \"white\", \"linecolor\": \"white\", \"ticks\": \"\"}, \"bgcolor\": \"#E5ECF6\", \"caxis\": {\"gridcolor\": \"white\", \"linecolor\": \"white\", \"ticks\": \"\"}}, \"title\": {\"x\": 0.05}, \"xaxis\": {\"automargin\": true, \"gridcolor\": \"white\", \"linecolor\": \"white\", \"ticks\": \"\", \"zerolinecolor\": \"white\", \"zerolinewidth\": 2}, \"yaxis\": {\"automargin\": true, \"gridcolor\": \"white\", \"linecolor\": \"white\", \"ticks\": \"\", \"zerolinecolor\": \"white\", \"zerolinewidth\": 2}}}, \"title\": {\"text\": \"3D LRP Embedding\"}, \"width\": 1200},\n",
       "                        {\"responsive\": true}\n",
       "                    ).then(function(){\n",
       "                            \n",
       "var gd = document.getElementById('4614b343-f0eb-4758-8873-06ad3311cee3');\n",
       "var x = new MutationObserver(function (mutations, observer) {{\n",
       "        var display = window.getComputedStyle(gd).display;\n",
       "        if (!display || display === 'none') {{\n",
       "            console.log([gd, 'removed!']);\n",
       "            Plotly.purge(gd);\n",
       "            observer.disconnect();\n",
       "        }}\n",
       "}});\n",
       "\n",
       "// Listen for the removal of the full notebook cells\n",
       "var notebookContainer = gd.closest('#notebook-container');\n",
       "if (notebookContainer) {{\n",
       "    x.observe(notebookContainer, {childList: true});\n",
       "}}\n",
       "\n",
       "// Listen for the clearing of the current output cell\n",
       "var outputEl = gd.closest('.output');\n",
       "if (outputEl) {{\n",
       "    x.observe(outputEl, {childList: true});\n",
       "}}\n",
       "\n",
       "                        })\n",
       "                };\n",
       "                });\n",
       "            </script>\n",
       "        </div>"
      ]
     },
     "metadata": {},
     "output_type": "display_data"
    },
    {
     "name": "stdout",
     "output_type": "stream",
     "text": [
      "CPU times: user 770 ms, sys: 12.4 ms, total: 783 ms\n",
      "Wall time: 331 ms\n"
     ]
    }
   ],
   "source": [
    "%%time\n",
    "reducer = umap.UMAP(random_state=42,\n",
    "                    n_components = 3,\n",
    "                    n_neighbors=5,\n",
    "                    min_dist=0)\n",
    "\n",
    "ASD_embedding = reducer.fit_transform(data[risk_labels==0])\n",
    "plot_3d_lrp(ASD_embedding)"
   ]
  },
  {
   "cell_type": "code",
   "execution_count": 114,
   "metadata": {},
   "outputs": [
    {
     "name": "stdout",
     "output_type": "stream",
     "text": [
      "(110, 333)\n"
     ]
    },
    {
     "data": {
      "text/plain": [
       "1    79\n",
       "0    31\n",
       "dtype: int64"
      ]
     },
     "execution_count": 114,
     "metadata": {},
     "output_type": "execute_result"
    }
   ],
   "source": [
    "# Separating a hold out set that will be used for validation of the pipeline\n",
    "\n",
    "umapper = umap.UMAP(random_state=42,\n",
    "                    n_components = 100,\n",
    "                    n_neighbors=25,\n",
    "                    min_dist=0)\n",
    "\n",
    "red_data = pd.DataFrame(umapper.fit_transform(data, y=risk_labels), index=data.index)\n",
    "\n",
    "train_data, train_labels, test_data, test_labels = split_valid(data, risk_labels, valid_size=0.2)\n",
    "\n",
    "print(train_data.shape)\n",
    "train_labels.value_counts()"
   ]
  },
  {
   "cell_type": "code",
   "execution_count": 111,
   "metadata": {},
   "outputs": [
    {
     "data": {
      "text/html": [
       "        <script type=\"text/javascript\">\n",
       "        window.PlotlyConfig = {MathJaxConfig: 'local'};\n",
       "        if (window.MathJax) {MathJax.Hub.Config({SVG: {font: \"STIX-Web\"}});}\n",
       "        if (typeof require !== 'undefined') {\n",
       "        require.undef(\"plotly\");\n",
       "        requirejs.config({\n",
       "            paths: {\n",
       "                'plotly': ['https://cdn.plot.ly/plotly-latest.min']\n",
       "            }\n",
       "        });\n",
       "        require(['plotly'], function(Plotly) {\n",
       "            window._Plotly = Plotly;\n",
       "        });\n",
       "        }\n",
       "        </script>\n",
       "        "
      ]
     },
     "metadata": {},
     "output_type": "display_data"
    },
    {
     "data": {
      "application/vnd.plotly.v1+json": {
       "config": {
        "linkText": "Export to plot.ly",
        "plotlyServerURL": "https://plot.ly",
        "showLink": false
       },
       "data": [
        {
         "marker": {
          "color": [
           1,
           0,
           1,
           1,
           0,
           0,
           0,
           1,
           0,
           0,
           1,
           0,
           1,
           1,
           1,
           1,
           0,
           0,
           1,
           0,
           1,
           0,
           0,
           1,
           1,
           1,
           1,
           1,
           0,
           1,
           1,
           1,
           1,
           1,
           1,
           0,
           1,
           0,
           1,
           1,
           1,
           1,
           1,
           1,
           1,
           1,
           0,
           1,
           1,
           0,
           1,
           0,
           1,
           1,
           1,
           1,
           1,
           1,
           1,
           1,
           1,
           1,
           1,
           0,
           1,
           1,
           1,
           1,
           0,
           1,
           1,
           0,
           1,
           0,
           0,
           1,
           1,
           1,
           0,
           1,
           1,
           1,
           0,
           1,
           1,
           1,
           1,
           1,
           0,
           1,
           1,
           1,
           1,
           0,
           1,
           0,
           1,
           0,
           0,
           1,
           0,
           1,
           1,
           1,
           1,
           1,
           1,
           1,
           1,
           1
          ],
          "colorscale": [
           [
            0,
            "rgb(150,0,90)"
           ],
           [
            0.125,
            "rgb(0,0,200)"
           ],
           [
            0.25,
            "rgb(0,25,255)"
           ],
           [
            0.375,
            "rgb(0,152,255)"
           ],
           [
            0.5,
            "rgb(44,255,150)"
           ],
           [
            0.625,
            "rgb(151,255,0)"
           ],
           [
            0.75,
            "rgb(255,234,0)"
           ],
           [
            0.875,
            "rgb(255,111,0)"
           ],
           [
            1,
            "rgb(255,0,0)"
           ]
          ],
          "opacity": 0.8,
          "showscale": true,
          "size": 5
         },
         "mode": "markers",
         "name": "Training",
         "text": [
          1,
          0,
          1,
          1,
          0,
          0,
          0,
          1,
          0,
          0,
          1,
          0,
          1,
          1,
          1,
          1,
          0,
          0,
          1,
          0,
          1,
          0,
          0,
          1,
          1,
          1,
          1,
          1,
          0,
          1,
          1,
          1,
          1,
          1,
          1,
          0,
          1,
          0,
          1,
          1,
          1,
          1,
          1,
          1,
          1,
          1,
          0,
          1,
          1,
          0,
          1,
          0,
          1,
          1,
          1,
          1,
          1,
          1,
          1,
          1,
          1,
          1,
          1,
          0,
          1,
          1,
          1,
          1,
          0,
          1,
          1,
          0,
          1,
          0,
          0,
          1,
          1,
          1,
          0,
          1,
          1,
          1,
          0,
          1,
          1,
          1,
          1,
          1,
          0,
          1,
          1,
          1,
          1,
          0,
          1,
          0,
          1,
          0,
          0,
          1,
          0,
          1,
          1,
          1,
          1,
          1,
          1,
          1,
          1,
          1
         ],
         "type": "scatter3d",
         "x": [
          5.442758560180664,
          0.6162860989570618,
          4.970359802246094,
          4.499935150146484,
          0.9416748881340027,
          1.9095128774642944,
          2.2281582355499268,
          5.108893394470215,
          2.2481541633605957,
          1.9155869483947754,
          4.832319736480713,
          1.9004876613616943,
          4.4096150398254395,
          5.7732744216918945,
          5.6001081466674805,
          4.802983283996582,
          1.082013726234436,
          1.12079656124115,
          4.1521406173706055,
          0.7367080450057983,
          4.756221294403076,
          2.062162160873413,
          1.3900752067565918,
          5.2617621421813965,
          3.7233805656433105,
          5.245396614074707,
          3.808785915374756,
          5.31967306137085,
          1.0314207077026367,
          3.9120521545410156,
          5.783668518066406,
          5.332945346832275,
          4.897890090942383,
          4.169095993041992,
          4.496158123016357,
          1.1409951448440552,
          5.807858467102051,
          1.714788556098938,
          3.429047107696533,
          4.534549713134766,
          3.6626336574554443,
          5.101482391357422,
          5.0660014152526855,
          4.307420253753662,
          5.264035701751709,
          3.7589237689971924,
          1.7478564977645874,
          5.325558662414551,
          5.722804069519043,
          0.8138963580131531,
          5.767848014831543,
          0.8683553338050842,
          5.543485164642334,
          5.1595540046691895,
          5.391334056854248,
          5.567222595214844,
          3.772308588027954,
          5.800861835479736,
          3.923915386199951,
          4.991297245025635,
          4.576941013336182,
          4.628293037414551,
          5.516965866088867,
          1.3663311004638672,
          4.0572829246521,
          4.9806623458862305,
          4.99623441696167,
          4.699835300445557,
          1.8706187009811401,
          5.183515548706055,
          5.714540004730225,
          2.1143558025360107,
          4.964419841766357,
          2.002349615097046,
          1.3519022464752197,
          5.184378623962402,
          5.5726318359375,
          4.894429683685303,
          1.9152945280075073,
          4.556136131286621,
          5.282736778259277,
          5.972523212432861,
          1.544638991355896,
          5.14799690246582,
          4.1558051109313965,
          3.8084969520568848,
          5.2866411209106445,
          5.522610664367676,
          1.2352471351623535,
          4.4627814292907715,
          3.939164400100708,
          5.365257740020752,
          5.021081924438477,
          2.2457053661346436,
          3.823312997817993,
          1.1309014558792114,
          4.209073543548584,
          2.061497688293457,
          2.132171869277954,
          4.867110252380371,
          2.11669921875,
          4.783061981201172,
          5.688419818878174,
          4.917480945587158,
          3.5793616771698,
          5.923452854156494,
          3.823284864425659,
          4.978486061096191,
          5.5965704917907715,
          5.6849894523620605
         ],
         "y": [
          -0.44527992606163025,
          -5.713311672210693,
          -0.03147035464644432,
          -0.8124631643295288,
          -4.663980007171631,
          -5.164394378662109,
          -4.776251792907715,
          -2.01133131980896,
          -4.694295406341553,
          -5.006163120269775,
          -0.37848666310310364,
          -4.671065807342529,
          0.011700548231601715,
          -1.7411181926727295,
          -1.0653140544891357,
          0.02578797936439514,
          -4.618075370788574,
          -5.755417346954346,
          -0.12672583758831024,
          -5.65455961227417,
          -0.8450934886932373,
          -5.176733493804932,
          -4.645440101623535,
          -2.430990219116211,
          -0.7661198973655701,
          -2.4177041053771973,
          -0.43761029839515686,
          -1.2600092887878418,
          -5.279742240905762,
          -1.0192099809646606,
          -0.7738291621208191,
          -0.4360015392303467,
          0.14549729228019714,
          -0.8720768094062805,
          -0.8477956056594849,
          -4.761831760406494,
          -2.1386218070983887,
          -4.93792200088501,
          -0.3251717984676361,
          -0.09997815638780594,
          -0.7081037759780884,
          -1.8752188682556152,
          -0.8786695003509521,
          -0.43916356563568115,
          -1.8102818727493286,
          -0.06057429313659668,
          -5.78702974319458,
          0.020030980929732323,
          -1.6362138986587524,
          -5.6833577156066895,
          -0.7517392039299011,
          -4.87945032119751,
          -2.056727886199951,
          -1.1343202590942383,
          -1.4269418716430664,
          -1.9635318517684937,
          -0.15928950905799866,
          -1.1081873178482056,
          0.2584570348262787,
          -0.45421475172042847,
          -0.20214353501796722,
          -0.16459400951862335,
          -1.5983891487121582,
          -5.163341045379639,
          0.27565863728523254,
          -1.7249813079833984,
          -1.128321647644043,
          -0.8080653548240662,
          -4.974469184875488,
          -0.501705527305603,
          -1.9942905902862549,
          -5.227380752563477,
          -1.5299493074417114,
          -5.0942158699035645,
          -5.055634498596191,
          -1.9385415315628052,
          -1.9175981283187866,
          -0.8774147629737854,
          -4.683176040649414,
          -1.5333056449890137,
          -0.1201980859041214,
          -2.00425386428833,
          -5.0023579597473145,
          -1.7638888359069824,
          -0.3153162896633148,
          -0.8422228693962097,
          -0.6679151654243469,
          -2.3357136249542236,
          -4.5579514503479,
          -0.48151400685310364,
          -0.49782949686050415,
          -0.2311917245388031,
          -2.1602120399475098,
          -4.804931163787842,
          -0.75714111328125,
          -5.6367950439453125,
          -1.259764313697815,
          -5.4019694328308105,
          -5.555144309997559,
          0.11487673223018646,
          -5.158363342285156,
          -1.5191760063171387,
          -1.4194837808609009,
          -1.0914283990859985,
          -0.5834953188896179,
          -1.8894253969192505,
          0.17927253246307373,
          0.01921243965625763,
          -2.108252763748169,
          -0.4199709892272949
         ],
         "z": [
          7.719420433044434,
          -0.39438396692276,
          7.539429187774658,
          8.126291275024414,
          -0.3612653911113739,
          -0.032430101186037064,
          -0.5402820110321045,
          8.45426082611084,
          -1.044938325881958,
          -0.24467773735523224,
          7.26936149597168,
          -1.2444723844528198,
          7.6369781494140625,
          8.806827545166016,
          7.8442206382751465,
          7.675073623657227,
          -0.08458569645881653,
          -0.07138849794864655,
          7.185401916503906,
          -0.33087101578712463,
          8.740384101867676,
          -0.6045597195625305,
          -1.173303484916687,
          7.9507832527160645,
          7.994756698608398,
          8.04537582397461,
          7.228575706481934,
          8.707133293151855,
          -0.4326309263706207,
          8.169790267944336,
          8.54902172088623,
          9.01231861114502,
          8.933862686157227,
          8.157096862792969,
          8.534639358520508,
          -0.2950783967971802,
          8.420409202575684,
          0.35730570554733276,
          7.5789289474487305,
          8.857914924621582,
          7.631285190582275,
          7.52954626083374,
          9.030610084533691,
          7.10762882232666,
          8.743880271911621,
          7.740983486175537,
          -0.22752639651298523,
          8.461712837219238,
          7.512253761291504,
          -0.27961498498916626,
          8.193979263305664,
          -0.5224897861480713,
          7.360231876373291,
          8.620190620422363,
          7.5007147789001465,
          8.0419340133667,
          7.317563533782959,
          8.189414024353027,
          7.823000907897949,
          7.809116840362549,
          8.329333305358887,
          8.943282127380371,
          8.358075141906738,
          -0.510098934173584,
          7.238958835601807,
          8.278912544250488,
          7.373595237731934,
          7.674396991729736,
          0.28899019956588745,
          8.880695343017578,
          7.479816436767578,
          0.1104355975985527,
          7.660303592681885,
          -0.5533943772315979,
          -0.020736917853355408,
          8.008142471313477,
          8.371637344360352,
          7.057913303375244,
          -1.2980259656906128,
          7.846162796020508,
          8.72060775756836,
          8.046113967895508,
          0.13532987236976624,
          7.312771797180176,
          8.063835144042969,
          7.311967849731445,
          7.586246967315674,
          8.10033130645752,
          -1.1081466674804688,
          8.415667533874512,
          8.023690223693848,
          8.953611373901367,
          7.912237644195557,
          -0.7799179553985596,
          7.401939868927002,
          0.03729164972901344,
          8.063366889953613,
          -0.2717874050140381,
          -0.2880747318267822,
          8.227167129516602,
          -0.6900466680526733,
          8.526863098144531,
          8.586824417114258,
          8.310903549194336,
          7.531850337982178,
          8.031229972839355,
          7.445938587188721,
          8.15247631072998,
          7.545665740966797,
          8.36296272277832
         ]
        }
       ],
       "layout": {
        "autosize": false,
        "height": 1000,
        "paper_bgcolor": "#F5F5F5",
        "scene": {
         "aspectmode": "auto",
         "aspectratio": {
          "x": 0.7709101954693839,
          "y": 0.872588010098887,
          "z": 1.4865754946467453
         },
         "camera": {
          "center": {
           "x": 0,
           "y": 0,
           "z": 0
          },
          "eye": {
           "x": 1.0539922019343844,
           "y": 2.977018062791001,
           "z": 1.3715784180612625
          },
          "projection": {
           "type": "perspective"
          },
          "up": {
           "x": 0,
           "y": 0,
           "z": 1
          }
         }
        },
        "template": {
         "data": {
          "bar": [
           {
            "error_x": {
             "color": "#2a3f5f"
            },
            "error_y": {
             "color": "#2a3f5f"
            },
            "marker": {
             "line": {
              "color": "#E5ECF6",
              "width": 0.5
             }
            },
            "type": "bar"
           }
          ],
          "barpolar": [
           {
            "marker": {
             "line": {
              "color": "#E5ECF6",
              "width": 0.5
             }
            },
            "type": "barpolar"
           }
          ],
          "carpet": [
           {
            "aaxis": {
             "endlinecolor": "#2a3f5f",
             "gridcolor": "white",
             "linecolor": "white",
             "minorgridcolor": "white",
             "startlinecolor": "#2a3f5f"
            },
            "baxis": {
             "endlinecolor": "#2a3f5f",
             "gridcolor": "white",
             "linecolor": "white",
             "minorgridcolor": "white",
             "startlinecolor": "#2a3f5f"
            },
            "type": "carpet"
           }
          ],
          "choropleth": [
           {
            "colorbar": {
             "outlinewidth": 0,
             "ticks": ""
            },
            "type": "choropleth"
           }
          ],
          "contour": [
           {
            "colorbar": {
             "outlinewidth": 0,
             "ticks": ""
            },
            "colorscale": [
             [
              0,
              "#0d0887"
             ],
             [
              0.1111111111111111,
              "#46039f"
             ],
             [
              0.2222222222222222,
              "#7201a8"
             ],
             [
              0.3333333333333333,
              "#9c179e"
             ],
             [
              0.4444444444444444,
              "#bd3786"
             ],
             [
              0.5555555555555556,
              "#d8576b"
             ],
             [
              0.6666666666666666,
              "#ed7953"
             ],
             [
              0.7777777777777778,
              "#fb9f3a"
             ],
             [
              0.8888888888888888,
              "#fdca26"
             ],
             [
              1,
              "#f0f921"
             ]
            ],
            "type": "contour"
           }
          ],
          "contourcarpet": [
           {
            "colorbar": {
             "outlinewidth": 0,
             "ticks": ""
            },
            "type": "contourcarpet"
           }
          ],
          "heatmap": [
           {
            "colorbar": {
             "outlinewidth": 0,
             "ticks": ""
            },
            "colorscale": [
             [
              0,
              "#0d0887"
             ],
             [
              0.1111111111111111,
              "#46039f"
             ],
             [
              0.2222222222222222,
              "#7201a8"
             ],
             [
              0.3333333333333333,
              "#9c179e"
             ],
             [
              0.4444444444444444,
              "#bd3786"
             ],
             [
              0.5555555555555556,
              "#d8576b"
             ],
             [
              0.6666666666666666,
              "#ed7953"
             ],
             [
              0.7777777777777778,
              "#fb9f3a"
             ],
             [
              0.8888888888888888,
              "#fdca26"
             ],
             [
              1,
              "#f0f921"
             ]
            ],
            "type": "heatmap"
           }
          ],
          "heatmapgl": [
           {
            "colorbar": {
             "outlinewidth": 0,
             "ticks": ""
            },
            "colorscale": [
             [
              0,
              "#0d0887"
             ],
             [
              0.1111111111111111,
              "#46039f"
             ],
             [
              0.2222222222222222,
              "#7201a8"
             ],
             [
              0.3333333333333333,
              "#9c179e"
             ],
             [
              0.4444444444444444,
              "#bd3786"
             ],
             [
              0.5555555555555556,
              "#d8576b"
             ],
             [
              0.6666666666666666,
              "#ed7953"
             ],
             [
              0.7777777777777778,
              "#fb9f3a"
             ],
             [
              0.8888888888888888,
              "#fdca26"
             ],
             [
              1,
              "#f0f921"
             ]
            ],
            "type": "heatmapgl"
           }
          ],
          "histogram": [
           {
            "marker": {
             "colorbar": {
              "outlinewidth": 0,
              "ticks": ""
             }
            },
            "type": "histogram"
           }
          ],
          "histogram2d": [
           {
            "colorbar": {
             "outlinewidth": 0,
             "ticks": ""
            },
            "colorscale": [
             [
              0,
              "#0d0887"
             ],
             [
              0.1111111111111111,
              "#46039f"
             ],
             [
              0.2222222222222222,
              "#7201a8"
             ],
             [
              0.3333333333333333,
              "#9c179e"
             ],
             [
              0.4444444444444444,
              "#bd3786"
             ],
             [
              0.5555555555555556,
              "#d8576b"
             ],
             [
              0.6666666666666666,
              "#ed7953"
             ],
             [
              0.7777777777777778,
              "#fb9f3a"
             ],
             [
              0.8888888888888888,
              "#fdca26"
             ],
             [
              1,
              "#f0f921"
             ]
            ],
            "type": "histogram2d"
           }
          ],
          "histogram2dcontour": [
           {
            "colorbar": {
             "outlinewidth": 0,
             "ticks": ""
            },
            "colorscale": [
             [
              0,
              "#0d0887"
             ],
             [
              0.1111111111111111,
              "#46039f"
             ],
             [
              0.2222222222222222,
              "#7201a8"
             ],
             [
              0.3333333333333333,
              "#9c179e"
             ],
             [
              0.4444444444444444,
              "#bd3786"
             ],
             [
              0.5555555555555556,
              "#d8576b"
             ],
             [
              0.6666666666666666,
              "#ed7953"
             ],
             [
              0.7777777777777778,
              "#fb9f3a"
             ],
             [
              0.8888888888888888,
              "#fdca26"
             ],
             [
              1,
              "#f0f921"
             ]
            ],
            "type": "histogram2dcontour"
           }
          ],
          "mesh3d": [
           {
            "colorbar": {
             "outlinewidth": 0,
             "ticks": ""
            },
            "type": "mesh3d"
           }
          ],
          "parcoords": [
           {
            "line": {
             "colorbar": {
              "outlinewidth": 0,
              "ticks": ""
             }
            },
            "type": "parcoords"
           }
          ],
          "scatter": [
           {
            "marker": {
             "colorbar": {
              "outlinewidth": 0,
              "ticks": ""
             }
            },
            "type": "scatter"
           }
          ],
          "scatter3d": [
           {
            "line": {
             "colorbar": {
              "outlinewidth": 0,
              "ticks": ""
             }
            },
            "marker": {
             "colorbar": {
              "outlinewidth": 0,
              "ticks": ""
             }
            },
            "type": "scatter3d"
           }
          ],
          "scattercarpet": [
           {
            "marker": {
             "colorbar": {
              "outlinewidth": 0,
              "ticks": ""
             }
            },
            "type": "scattercarpet"
           }
          ],
          "scattergeo": [
           {
            "marker": {
             "colorbar": {
              "outlinewidth": 0,
              "ticks": ""
             }
            },
            "type": "scattergeo"
           }
          ],
          "scattergl": [
           {
            "marker": {
             "colorbar": {
              "outlinewidth": 0,
              "ticks": ""
             }
            },
            "type": "scattergl"
           }
          ],
          "scattermapbox": [
           {
            "marker": {
             "colorbar": {
              "outlinewidth": 0,
              "ticks": ""
             }
            },
            "type": "scattermapbox"
           }
          ],
          "scatterpolar": [
           {
            "marker": {
             "colorbar": {
              "outlinewidth": 0,
              "ticks": ""
             }
            },
            "type": "scatterpolar"
           }
          ],
          "scatterpolargl": [
           {
            "marker": {
             "colorbar": {
              "outlinewidth": 0,
              "ticks": ""
             }
            },
            "type": "scatterpolargl"
           }
          ],
          "scatterternary": [
           {
            "marker": {
             "colorbar": {
              "outlinewidth": 0,
              "ticks": ""
             }
            },
            "type": "scatterternary"
           }
          ],
          "surface": [
           {
            "colorbar": {
             "outlinewidth": 0,
             "ticks": ""
            },
            "colorscale": [
             [
              0,
              "#0d0887"
             ],
             [
              0.1111111111111111,
              "#46039f"
             ],
             [
              0.2222222222222222,
              "#7201a8"
             ],
             [
              0.3333333333333333,
              "#9c179e"
             ],
             [
              0.4444444444444444,
              "#bd3786"
             ],
             [
              0.5555555555555556,
              "#d8576b"
             ],
             [
              0.6666666666666666,
              "#ed7953"
             ],
             [
              0.7777777777777778,
              "#fb9f3a"
             ],
             [
              0.8888888888888888,
              "#fdca26"
             ],
             [
              1,
              "#f0f921"
             ]
            ],
            "type": "surface"
           }
          ],
          "table": [
           {
            "cells": {
             "fill": {
              "color": "#EBF0F8"
             },
             "line": {
              "color": "white"
             }
            },
            "header": {
             "fill": {
              "color": "#C8D4E3"
             },
             "line": {
              "color": "white"
             }
            },
            "type": "table"
           }
          ]
         },
         "layout": {
          "annotationdefaults": {
           "arrowcolor": "#2a3f5f",
           "arrowhead": 0,
           "arrowwidth": 1
          },
          "colorscale": {
           "diverging": [
            [
             0,
             "#8e0152"
            ],
            [
             0.1,
             "#c51b7d"
            ],
            [
             0.2,
             "#de77ae"
            ],
            [
             0.3,
             "#f1b6da"
            ],
            [
             0.4,
             "#fde0ef"
            ],
            [
             0.5,
             "#f7f7f7"
            ],
            [
             0.6,
             "#e6f5d0"
            ],
            [
             0.7,
             "#b8e186"
            ],
            [
             0.8,
             "#7fbc41"
            ],
            [
             0.9,
             "#4d9221"
            ],
            [
             1,
             "#276419"
            ]
           ],
           "sequential": [
            [
             0,
             "#0d0887"
            ],
            [
             0.1111111111111111,
             "#46039f"
            ],
            [
             0.2222222222222222,
             "#7201a8"
            ],
            [
             0.3333333333333333,
             "#9c179e"
            ],
            [
             0.4444444444444444,
             "#bd3786"
            ],
            [
             0.5555555555555556,
             "#d8576b"
            ],
            [
             0.6666666666666666,
             "#ed7953"
            ],
            [
             0.7777777777777778,
             "#fb9f3a"
            ],
            [
             0.8888888888888888,
             "#fdca26"
            ],
            [
             1,
             "#f0f921"
            ]
           ],
           "sequentialminus": [
            [
             0,
             "#0d0887"
            ],
            [
             0.1111111111111111,
             "#46039f"
            ],
            [
             0.2222222222222222,
             "#7201a8"
            ],
            [
             0.3333333333333333,
             "#9c179e"
            ],
            [
             0.4444444444444444,
             "#bd3786"
            ],
            [
             0.5555555555555556,
             "#d8576b"
            ],
            [
             0.6666666666666666,
             "#ed7953"
            ],
            [
             0.7777777777777778,
             "#fb9f3a"
            ],
            [
             0.8888888888888888,
             "#fdca26"
            ],
            [
             1,
             "#f0f921"
            ]
           ]
          },
          "colorway": [
           "#636efa",
           "#EF553B",
           "#00cc96",
           "#ab63fa",
           "#FFA15A",
           "#19d3f3",
           "#FF6692",
           "#B6E880",
           "#FF97FF",
           "#FECB52"
          ],
          "font": {
           "color": "#2a3f5f"
          },
          "geo": {
           "bgcolor": "white",
           "lakecolor": "white",
           "landcolor": "#E5ECF6",
           "showlakes": true,
           "showland": true,
           "subunitcolor": "white"
          },
          "hoverlabel": {
           "align": "left"
          },
          "hovermode": "closest",
          "mapbox": {
           "style": "light"
          },
          "paper_bgcolor": "white",
          "plot_bgcolor": "#E5ECF6",
          "polar": {
           "angularaxis": {
            "gridcolor": "white",
            "linecolor": "white",
            "ticks": ""
           },
           "bgcolor": "#E5ECF6",
           "radialaxis": {
            "gridcolor": "white",
            "linecolor": "white",
            "ticks": ""
           }
          },
          "scene": {
           "xaxis": {
            "backgroundcolor": "#E5ECF6",
            "gridcolor": "white",
            "gridwidth": 2,
            "linecolor": "white",
            "showbackground": true,
            "ticks": "",
            "zerolinecolor": "white"
           },
           "yaxis": {
            "backgroundcolor": "#E5ECF6",
            "gridcolor": "white",
            "gridwidth": 2,
            "linecolor": "white",
            "showbackground": true,
            "ticks": "",
            "zerolinecolor": "white"
           },
           "zaxis": {
            "backgroundcolor": "#E5ECF6",
            "gridcolor": "white",
            "gridwidth": 2,
            "linecolor": "white",
            "showbackground": true,
            "ticks": "",
            "zerolinecolor": "white"
           }
          },
          "shapedefaults": {
           "line": {
            "color": "#2a3f5f"
           }
          },
          "ternary": {
           "aaxis": {
            "gridcolor": "white",
            "linecolor": "white",
            "ticks": ""
           },
           "baxis": {
            "gridcolor": "white",
            "linecolor": "white",
            "ticks": ""
           },
           "bgcolor": "#E5ECF6",
           "caxis": {
            "gridcolor": "white",
            "linecolor": "white",
            "ticks": ""
           }
          },
          "title": {
           "x": 0.05
          },
          "xaxis": {
           "automargin": true,
           "gridcolor": "white",
           "linecolor": "white",
           "ticks": "",
           "zerolinecolor": "white",
           "zerolinewidth": 2
          },
          "yaxis": {
           "automargin": true,
           "gridcolor": "white",
           "linecolor": "white",
           "ticks": "",
           "zerolinecolor": "white",
           "zerolinewidth": 2
          }
         }
        },
        "title": {
         "text": "3D LRP Embedding"
        },
        "width": 1200
       }
      },
      "text/html": [
       "<div>\n",
       "        \n",
       "        \n",
       "            <div id=\"df3c1b4a-8249-49a7-a5f4-3abe946af675\" class=\"plotly-graph-div\" style=\"height:1000px; width:1200px;\"></div>\n",
       "            <script type=\"text/javascript\">\n",
       "                require([\"plotly\"], function(Plotly) {\n",
       "                    window.PLOTLYENV=window.PLOTLYENV || {};\n",
       "                    \n",
       "                if (document.getElementById(\"df3c1b4a-8249-49a7-a5f4-3abe946af675\")) {\n",
       "                    Plotly.newPlot(\n",
       "                        'df3c1b4a-8249-49a7-a5f4-3abe946af675',\n",
       "                        [{\"marker\": {\"color\": [1, 0, 1, 1, 0, 0, 0, 1, 0, 0, 1, 0, 1, 1, 1, 1, 0, 0, 1, 0, 1, 0, 0, 1, 1, 1, 1, 1, 0, 1, 1, 1, 1, 1, 1, 0, 1, 0, 1, 1, 1, 1, 1, 1, 1, 1, 0, 1, 1, 0, 1, 0, 1, 1, 1, 1, 1, 1, 1, 1, 1, 1, 1, 0, 1, 1, 1, 1, 0, 1, 1, 0, 1, 0, 0, 1, 1, 1, 0, 1, 1, 1, 0, 1, 1, 1, 1, 1, 0, 1, 1, 1, 1, 0, 1, 0, 1, 0, 0, 1, 0, 1, 1, 1, 1, 1, 1, 1, 1, 1], \"colorscale\": [[0.0, \"rgb(150,0,90)\"], [0.125, \"rgb(0,0,200)\"], [0.25, \"rgb(0,25,255)\"], [0.375, \"rgb(0,152,255)\"], [0.5, \"rgb(44,255,150)\"], [0.625, \"rgb(151,255,0)\"], [0.75, \"rgb(255,234,0)\"], [0.875, \"rgb(255,111,0)\"], [1.0, \"rgb(255,0,0)\"]], \"opacity\": 0.8, \"showscale\": true, \"size\": 5}, \"mode\": \"markers\", \"name\": \"Training\", \"text\": [1.0, 0.0, 1.0, 1.0, 0.0, 0.0, 0.0, 1.0, 0.0, 0.0, 1.0, 0.0, 1.0, 1.0, 1.0, 1.0, 0.0, 0.0, 1.0, 0.0, 1.0, 0.0, 0.0, 1.0, 1.0, 1.0, 1.0, 1.0, 0.0, 1.0, 1.0, 1.0, 1.0, 1.0, 1.0, 0.0, 1.0, 0.0, 1.0, 1.0, 1.0, 1.0, 1.0, 1.0, 1.0, 1.0, 0.0, 1.0, 1.0, 0.0, 1.0, 0.0, 1.0, 1.0, 1.0, 1.0, 1.0, 1.0, 1.0, 1.0, 1.0, 1.0, 1.0, 0.0, 1.0, 1.0, 1.0, 1.0, 0.0, 1.0, 1.0, 0.0, 1.0, 0.0, 0.0, 1.0, 1.0, 1.0, 0.0, 1.0, 1.0, 1.0, 0.0, 1.0, 1.0, 1.0, 1.0, 1.0, 0.0, 1.0, 1.0, 1.0, 1.0, 0.0, 1.0, 0.0, 1.0, 0.0, 0.0, 1.0, 0.0, 1.0, 1.0, 1.0, 1.0, 1.0, 1.0, 1.0, 1.0, 1.0], \"type\": \"scatter3d\", \"x\": [5.442758560180664, 0.6162860989570618, 4.970359802246094, 4.499935150146484, 0.9416748881340027, 1.9095128774642944, 2.2281582355499268, 5.108893394470215, 2.2481541633605957, 1.9155869483947754, 4.832319736480713, 1.9004876613616943, 4.4096150398254395, 5.7732744216918945, 5.6001081466674805, 4.802983283996582, 1.082013726234436, 1.12079656124115, 4.1521406173706055, 0.7367080450057983, 4.756221294403076, 2.062162160873413, 1.3900752067565918, 5.2617621421813965, 3.7233805656433105, 5.245396614074707, 3.808785915374756, 5.31967306137085, 1.0314207077026367, 3.9120521545410156, 5.783668518066406, 5.332945346832275, 4.897890090942383, 4.169095993041992, 4.496158123016357, 1.1409951448440552, 5.807858467102051, 1.714788556098938, 3.429047107696533, 4.534549713134766, 3.6626336574554443, 5.101482391357422, 5.0660014152526855, 4.307420253753662, 5.264035701751709, 3.7589237689971924, 1.7478564977645874, 5.325558662414551, 5.722804069519043, 0.8138963580131531, 5.767848014831543, 0.8683553338050842, 5.543485164642334, 5.1595540046691895, 5.391334056854248, 5.567222595214844, 3.772308588027954, 5.800861835479736, 3.923915386199951, 4.991297245025635, 4.576941013336182, 4.628293037414551, 5.516965866088867, 1.3663311004638672, 4.0572829246521, 4.9806623458862305, 4.99623441696167, 4.699835300445557, 1.8706187009811401, 5.183515548706055, 5.714540004730225, 2.1143558025360107, 4.964419841766357, 2.002349615097046, 1.3519022464752197, 5.184378623962402, 5.5726318359375, 4.894429683685303, 1.9152945280075073, 4.556136131286621, 5.282736778259277, 5.972523212432861, 1.544638991355896, 5.14799690246582, 4.1558051109313965, 3.8084969520568848, 5.2866411209106445, 5.522610664367676, 1.2352471351623535, 4.4627814292907715, 3.939164400100708, 5.365257740020752, 5.021081924438477, 2.2457053661346436, 3.823312997817993, 1.1309014558792114, 4.209073543548584, 2.061497688293457, 2.132171869277954, 4.867110252380371, 2.11669921875, 4.783061981201172, 5.688419818878174, 4.917480945587158, 3.5793616771698, 5.923452854156494, 3.823284864425659, 4.978486061096191, 5.5965704917907715, 5.6849894523620605], \"y\": [-0.44527992606163025, -5.713311672210693, -0.03147035464644432, -0.8124631643295288, -4.663980007171631, -5.164394378662109, -4.776251792907715, -2.01133131980896, -4.694295406341553, -5.006163120269775, -0.37848666310310364, -4.671065807342529, 0.011700548231601715, -1.7411181926727295, -1.0653140544891357, 0.02578797936439514, -4.618075370788574, -5.755417346954346, -0.12672583758831024, -5.65455961227417, -0.8450934886932373, -5.176733493804932, -4.645440101623535, -2.430990219116211, -0.7661198973655701, -2.4177041053771973, -0.43761029839515686, -1.2600092887878418, -5.279742240905762, -1.0192099809646606, -0.7738291621208191, -0.4360015392303467, 0.14549729228019714, -0.8720768094062805, -0.8477956056594849, -4.761831760406494, -2.1386218070983887, -4.93792200088501, -0.3251717984676361, -0.09997815638780594, -0.7081037759780884, -1.8752188682556152, -0.8786695003509521, -0.43916356563568115, -1.8102818727493286, -0.06057429313659668, -5.78702974319458, 0.020030980929732323, -1.6362138986587524, -5.6833577156066895, -0.7517392039299011, -4.87945032119751, -2.056727886199951, -1.1343202590942383, -1.4269418716430664, -1.9635318517684937, -0.15928950905799866, -1.1081873178482056, 0.2584570348262787, -0.45421475172042847, -0.20214353501796722, -0.16459400951862335, -1.5983891487121582, -5.163341045379639, 0.27565863728523254, -1.7249813079833984, -1.128321647644043, -0.8080653548240662, -4.974469184875488, -0.501705527305603, -1.9942905902862549, -5.227380752563477, -1.5299493074417114, -5.0942158699035645, -5.055634498596191, -1.9385415315628052, -1.9175981283187866, -0.8774147629737854, -4.683176040649414, -1.5333056449890137, -0.1201980859041214, -2.00425386428833, -5.0023579597473145, -1.7638888359069824, -0.3153162896633148, -0.8422228693962097, -0.6679151654243469, -2.3357136249542236, -4.5579514503479, -0.48151400685310364, -0.49782949686050415, -0.2311917245388031, -2.1602120399475098, -4.804931163787842, -0.75714111328125, -5.6367950439453125, -1.259764313697815, -5.4019694328308105, -5.555144309997559, 0.11487673223018646, -5.158363342285156, -1.5191760063171387, -1.4194837808609009, -1.0914283990859985, -0.5834953188896179, -1.8894253969192505, 0.17927253246307373, 0.01921243965625763, -2.108252763748169, -0.4199709892272949], \"z\": [7.719420433044434, -0.39438396692276, 7.539429187774658, 8.126291275024414, -0.3612653911113739, -0.032430101186037064, -0.5402820110321045, 8.45426082611084, -1.044938325881958, -0.24467773735523224, 7.26936149597168, -1.2444723844528198, 7.6369781494140625, 8.806827545166016, 7.8442206382751465, 7.675073623657227, -0.08458569645881653, -0.07138849794864655, 7.185401916503906, -0.33087101578712463, 8.740384101867676, -0.6045597195625305, -1.173303484916687, 7.9507832527160645, 7.994756698608398, 8.04537582397461, 7.228575706481934, 8.707133293151855, -0.4326309263706207, 8.169790267944336, 8.54902172088623, 9.01231861114502, 8.933862686157227, 8.157096862792969, 8.534639358520508, -0.2950783967971802, 8.420409202575684, 0.35730570554733276, 7.5789289474487305, 8.857914924621582, 7.631285190582275, 7.52954626083374, 9.030610084533691, 7.10762882232666, 8.743880271911621, 7.740983486175537, -0.22752639651298523, 8.461712837219238, 7.512253761291504, -0.27961498498916626, 8.193979263305664, -0.5224897861480713, 7.360231876373291, 8.620190620422363, 7.5007147789001465, 8.0419340133667, 7.317563533782959, 8.189414024353027, 7.823000907897949, 7.809116840362549, 8.329333305358887, 8.943282127380371, 8.358075141906738, -0.510098934173584, 7.238958835601807, 8.278912544250488, 7.373595237731934, 7.674396991729736, 0.28899019956588745, 8.880695343017578, 7.479816436767578, 0.1104355975985527, 7.660303592681885, -0.5533943772315979, -0.020736917853355408, 8.008142471313477, 8.371637344360352, 7.057913303375244, -1.2980259656906128, 7.846162796020508, 8.72060775756836, 8.046113967895508, 0.13532987236976624, 7.312771797180176, 8.063835144042969, 7.311967849731445, 7.586246967315674, 8.10033130645752, -1.1081466674804688, 8.415667533874512, 8.023690223693848, 8.953611373901367, 7.912237644195557, -0.7799179553985596, 7.401939868927002, 0.03729164972901344, 8.063366889953613, -0.2717874050140381, -0.2880747318267822, 8.227167129516602, -0.6900466680526733, 8.526863098144531, 8.586824417114258, 8.310903549194336, 7.531850337982178, 8.031229972839355, 7.445938587188721, 8.15247631072998, 7.545665740966797, 8.36296272277832]}],\n",
       "                        {\"autosize\": false, \"height\": 1000, \"paper_bgcolor\": \"#F5F5F5\", \"template\": {\"data\": {\"bar\": [{\"error_x\": {\"color\": \"#2a3f5f\"}, \"error_y\": {\"color\": \"#2a3f5f\"}, \"marker\": {\"line\": {\"color\": \"#E5ECF6\", \"width\": 0.5}}, \"type\": \"bar\"}], \"barpolar\": [{\"marker\": {\"line\": {\"color\": \"#E5ECF6\", \"width\": 0.5}}, \"type\": \"barpolar\"}], \"carpet\": [{\"aaxis\": {\"endlinecolor\": \"#2a3f5f\", \"gridcolor\": \"white\", \"linecolor\": \"white\", \"minorgridcolor\": \"white\", \"startlinecolor\": \"#2a3f5f\"}, \"baxis\": {\"endlinecolor\": \"#2a3f5f\", \"gridcolor\": \"white\", \"linecolor\": \"white\", \"minorgridcolor\": \"white\", \"startlinecolor\": \"#2a3f5f\"}, \"type\": \"carpet\"}], \"choropleth\": [{\"colorbar\": {\"outlinewidth\": 0, \"ticks\": \"\"}, \"type\": \"choropleth\"}], \"contour\": [{\"colorbar\": {\"outlinewidth\": 0, \"ticks\": \"\"}, \"colorscale\": [[0.0, \"#0d0887\"], [0.1111111111111111, \"#46039f\"], [0.2222222222222222, \"#7201a8\"], [0.3333333333333333, \"#9c179e\"], [0.4444444444444444, \"#bd3786\"], [0.5555555555555556, \"#d8576b\"], [0.6666666666666666, \"#ed7953\"], [0.7777777777777778, \"#fb9f3a\"], [0.8888888888888888, \"#fdca26\"], [1.0, \"#f0f921\"]], \"type\": \"contour\"}], \"contourcarpet\": [{\"colorbar\": {\"outlinewidth\": 0, \"ticks\": \"\"}, \"type\": \"contourcarpet\"}], \"heatmap\": [{\"colorbar\": {\"outlinewidth\": 0, \"ticks\": \"\"}, \"colorscale\": [[0.0, \"#0d0887\"], [0.1111111111111111, \"#46039f\"], [0.2222222222222222, \"#7201a8\"], [0.3333333333333333, \"#9c179e\"], [0.4444444444444444, \"#bd3786\"], [0.5555555555555556, \"#d8576b\"], [0.6666666666666666, \"#ed7953\"], [0.7777777777777778, \"#fb9f3a\"], [0.8888888888888888, \"#fdca26\"], [1.0, \"#f0f921\"]], \"type\": \"heatmap\"}], \"heatmapgl\": [{\"colorbar\": {\"outlinewidth\": 0, \"ticks\": \"\"}, \"colorscale\": [[0.0, \"#0d0887\"], [0.1111111111111111, \"#46039f\"], [0.2222222222222222, \"#7201a8\"], [0.3333333333333333, \"#9c179e\"], [0.4444444444444444, \"#bd3786\"], [0.5555555555555556, \"#d8576b\"], [0.6666666666666666, \"#ed7953\"], [0.7777777777777778, \"#fb9f3a\"], [0.8888888888888888, \"#fdca26\"], [1.0, \"#f0f921\"]], \"type\": \"heatmapgl\"}], \"histogram\": [{\"marker\": {\"colorbar\": {\"outlinewidth\": 0, \"ticks\": \"\"}}, \"type\": \"histogram\"}], \"histogram2d\": [{\"colorbar\": {\"outlinewidth\": 0, \"ticks\": \"\"}, \"colorscale\": [[0.0, \"#0d0887\"], [0.1111111111111111, \"#46039f\"], [0.2222222222222222, \"#7201a8\"], [0.3333333333333333, \"#9c179e\"], [0.4444444444444444, \"#bd3786\"], [0.5555555555555556, \"#d8576b\"], [0.6666666666666666, \"#ed7953\"], [0.7777777777777778, \"#fb9f3a\"], [0.8888888888888888, \"#fdca26\"], [1.0, \"#f0f921\"]], \"type\": \"histogram2d\"}], \"histogram2dcontour\": [{\"colorbar\": {\"outlinewidth\": 0, \"ticks\": \"\"}, \"colorscale\": [[0.0, \"#0d0887\"], [0.1111111111111111, \"#46039f\"], [0.2222222222222222, \"#7201a8\"], [0.3333333333333333, \"#9c179e\"], [0.4444444444444444, \"#bd3786\"], [0.5555555555555556, \"#d8576b\"], [0.6666666666666666, \"#ed7953\"], [0.7777777777777778, \"#fb9f3a\"], [0.8888888888888888, \"#fdca26\"], [1.0, \"#f0f921\"]], \"type\": \"histogram2dcontour\"}], \"mesh3d\": [{\"colorbar\": {\"outlinewidth\": 0, \"ticks\": \"\"}, \"type\": \"mesh3d\"}], \"parcoords\": [{\"line\": {\"colorbar\": {\"outlinewidth\": 0, \"ticks\": \"\"}}, \"type\": \"parcoords\"}], \"scatter\": [{\"marker\": {\"colorbar\": {\"outlinewidth\": 0, \"ticks\": \"\"}}, \"type\": \"scatter\"}], \"scatter3d\": [{\"line\": {\"colorbar\": {\"outlinewidth\": 0, \"ticks\": \"\"}}, \"marker\": {\"colorbar\": {\"outlinewidth\": 0, \"ticks\": \"\"}}, \"type\": \"scatter3d\"}], \"scattercarpet\": [{\"marker\": {\"colorbar\": {\"outlinewidth\": 0, \"ticks\": \"\"}}, \"type\": \"scattercarpet\"}], \"scattergeo\": [{\"marker\": {\"colorbar\": {\"outlinewidth\": 0, \"ticks\": \"\"}}, \"type\": \"scattergeo\"}], \"scattergl\": [{\"marker\": {\"colorbar\": {\"outlinewidth\": 0, \"ticks\": \"\"}}, \"type\": \"scattergl\"}], \"scattermapbox\": [{\"marker\": {\"colorbar\": {\"outlinewidth\": 0, \"ticks\": \"\"}}, \"type\": \"scattermapbox\"}], \"scatterpolar\": [{\"marker\": {\"colorbar\": {\"outlinewidth\": 0, \"ticks\": \"\"}}, \"type\": \"scatterpolar\"}], \"scatterpolargl\": [{\"marker\": {\"colorbar\": {\"outlinewidth\": 0, \"ticks\": \"\"}}, \"type\": \"scatterpolargl\"}], \"scatterternary\": [{\"marker\": {\"colorbar\": {\"outlinewidth\": 0, \"ticks\": \"\"}}, \"type\": \"scatterternary\"}], \"surface\": [{\"colorbar\": {\"outlinewidth\": 0, \"ticks\": \"\"}, \"colorscale\": [[0.0, \"#0d0887\"], [0.1111111111111111, \"#46039f\"], [0.2222222222222222, \"#7201a8\"], [0.3333333333333333, \"#9c179e\"], [0.4444444444444444, \"#bd3786\"], [0.5555555555555556, \"#d8576b\"], [0.6666666666666666, \"#ed7953\"], [0.7777777777777778, \"#fb9f3a\"], [0.8888888888888888, \"#fdca26\"], [1.0, \"#f0f921\"]], \"type\": \"surface\"}], \"table\": [{\"cells\": {\"fill\": {\"color\": \"#EBF0F8\"}, \"line\": {\"color\": \"white\"}}, \"header\": {\"fill\": {\"color\": \"#C8D4E3\"}, \"line\": {\"color\": \"white\"}}, \"type\": \"table\"}]}, \"layout\": {\"annotationdefaults\": {\"arrowcolor\": \"#2a3f5f\", \"arrowhead\": 0, \"arrowwidth\": 1}, \"colorscale\": {\"diverging\": [[0, \"#8e0152\"], [0.1, \"#c51b7d\"], [0.2, \"#de77ae\"], [0.3, \"#f1b6da\"], [0.4, \"#fde0ef\"], [0.5, \"#f7f7f7\"], [0.6, \"#e6f5d0\"], [0.7, \"#b8e186\"], [0.8, \"#7fbc41\"], [0.9, \"#4d9221\"], [1, \"#276419\"]], \"sequential\": [[0.0, \"#0d0887\"], [0.1111111111111111, \"#46039f\"], [0.2222222222222222, \"#7201a8\"], [0.3333333333333333, \"#9c179e\"], [0.4444444444444444, \"#bd3786\"], [0.5555555555555556, \"#d8576b\"], [0.6666666666666666, \"#ed7953\"], [0.7777777777777778, \"#fb9f3a\"], [0.8888888888888888, \"#fdca26\"], [1.0, \"#f0f921\"]], \"sequentialminus\": [[0.0, \"#0d0887\"], [0.1111111111111111, \"#46039f\"], [0.2222222222222222, \"#7201a8\"], [0.3333333333333333, \"#9c179e\"], [0.4444444444444444, \"#bd3786\"], [0.5555555555555556, \"#d8576b\"], [0.6666666666666666, \"#ed7953\"], [0.7777777777777778, \"#fb9f3a\"], [0.8888888888888888, \"#fdca26\"], [1.0, \"#f0f921\"]]}, \"colorway\": [\"#636efa\", \"#EF553B\", \"#00cc96\", \"#ab63fa\", \"#FFA15A\", \"#19d3f3\", \"#FF6692\", \"#B6E880\", \"#FF97FF\", \"#FECB52\"], \"font\": {\"color\": \"#2a3f5f\"}, \"geo\": {\"bgcolor\": \"white\", \"lakecolor\": \"white\", \"landcolor\": \"#E5ECF6\", \"showlakes\": true, \"showland\": true, \"subunitcolor\": \"white\"}, \"hoverlabel\": {\"align\": \"left\"}, \"hovermode\": \"closest\", \"mapbox\": {\"style\": \"light\"}, \"paper_bgcolor\": \"white\", \"plot_bgcolor\": \"#E5ECF6\", \"polar\": {\"angularaxis\": {\"gridcolor\": \"white\", \"linecolor\": \"white\", \"ticks\": \"\"}, \"bgcolor\": \"#E5ECF6\", \"radialaxis\": {\"gridcolor\": \"white\", \"linecolor\": \"white\", \"ticks\": \"\"}}, \"scene\": {\"xaxis\": {\"backgroundcolor\": \"#E5ECF6\", \"gridcolor\": \"white\", \"gridwidth\": 2, \"linecolor\": \"white\", \"showbackground\": true, \"ticks\": \"\", \"zerolinecolor\": \"white\"}, \"yaxis\": {\"backgroundcolor\": \"#E5ECF6\", \"gridcolor\": \"white\", \"gridwidth\": 2, \"linecolor\": \"white\", \"showbackground\": true, \"ticks\": \"\", \"zerolinecolor\": \"white\"}, \"zaxis\": {\"backgroundcolor\": \"#E5ECF6\", \"gridcolor\": \"white\", \"gridwidth\": 2, \"linecolor\": \"white\", \"showbackground\": true, \"ticks\": \"\", \"zerolinecolor\": \"white\"}}, \"shapedefaults\": {\"line\": {\"color\": \"#2a3f5f\"}}, \"ternary\": {\"aaxis\": {\"gridcolor\": \"white\", \"linecolor\": \"white\", \"ticks\": \"\"}, \"baxis\": {\"gridcolor\": \"white\", \"linecolor\": \"white\", \"ticks\": \"\"}, \"bgcolor\": \"#E5ECF6\", \"caxis\": {\"gridcolor\": \"white\", \"linecolor\": \"white\", \"ticks\": \"\"}}, \"title\": {\"x\": 0.05}, \"xaxis\": {\"automargin\": true, \"gridcolor\": \"white\", \"linecolor\": \"white\", \"ticks\": \"\", \"zerolinecolor\": \"white\", \"zerolinewidth\": 2}, \"yaxis\": {\"automargin\": true, \"gridcolor\": \"white\", \"linecolor\": \"white\", \"ticks\": \"\", \"zerolinecolor\": \"white\", \"zerolinewidth\": 2}}}, \"title\": {\"text\": \"3D LRP Embedding\"}, \"width\": 1200},\n",
       "                        {\"responsive\": true}\n",
       "                    ).then(function(){\n",
       "                            \n",
       "var gd = document.getElementById('df3c1b4a-8249-49a7-a5f4-3abe946af675');\n",
       "var x = new MutationObserver(function (mutations, observer) {{\n",
       "        var display = window.getComputedStyle(gd).display;\n",
       "        if (!display || display === 'none') {{\n",
       "            console.log([gd, 'removed!']);\n",
       "            Plotly.purge(gd);\n",
       "            observer.disconnect();\n",
       "        }}\n",
       "}});\n",
       "\n",
       "// Listen for the removal of the full notebook cells\n",
       "var notebookContainer = gd.closest('#notebook-container');\n",
       "if (notebookContainer) {{\n",
       "    x.observe(notebookContainer, {childList: true});\n",
       "}}\n",
       "\n",
       "// Listen for the clearing of the current output cell\n",
       "var outputEl = gd.closest('.output');\n",
       "if (outputEl) {{\n",
       "    x.observe(outputEl, {childList: true});\n",
       "}}\n",
       "\n",
       "                        })\n",
       "                };\n",
       "                });\n",
       "            </script>\n",
       "        </div>"
      ]
     },
     "metadata": {},
     "output_type": "display_data"
    }
   ],
   "source": [
    "reducer = umap.UMAP(random_state=42,\n",
    "                    n_components = 3,\n",
    "                    n_neighbors=15,\n",
    "                    min_dist=0.1)\n",
    "\n",
    "train_embedding = reducer.fit(train_data, train_labels)\n",
    "plot_3d_lrp(train_embedding.embedding_, colors=train_labels, labels=train_labels)"
   ]
  },
  {
   "cell_type": "code",
   "execution_count": 113,
   "metadata": {},
   "outputs": [
    {
     "data": {
      "text/html": [
       "        <script type=\"text/javascript\">\n",
       "        window.PlotlyConfig = {MathJaxConfig: 'local'};\n",
       "        if (window.MathJax) {MathJax.Hub.Config({SVG: {font: \"STIX-Web\"}});}\n",
       "        if (typeof require !== 'undefined') {\n",
       "        require.undef(\"plotly\");\n",
       "        requirejs.config({\n",
       "            paths: {\n",
       "                'plotly': ['https://cdn.plot.ly/plotly-latest.min']\n",
       "            }\n",
       "        });\n",
       "        require(['plotly'], function(Plotly) {\n",
       "            window._Plotly = Plotly;\n",
       "        });\n",
       "        }\n",
       "        </script>\n",
       "        "
      ]
     },
     "metadata": {},
     "output_type": "display_data"
    },
    {
     "data": {
      "application/vnd.plotly.v1+json": {
       "config": {
        "linkText": "Export to plot.ly",
        "plotlyServerURL": "https://plot.ly",
        "showLink": false
       },
       "data": [
        {
         "marker": {
          "color": [
           1,
           0,
           1,
           1,
           0,
           0,
           0,
           1,
           0,
           0,
           1,
           0,
           1,
           1,
           1,
           1,
           0,
           0,
           1,
           0,
           1,
           0,
           0,
           1,
           1,
           1,
           1,
           1,
           0,
           1,
           1,
           1,
           1,
           1,
           1,
           0,
           1,
           0,
           1,
           1,
           1,
           1,
           1,
           1,
           1,
           1,
           0,
           1,
           1,
           0,
           1,
           0,
           1,
           1,
           1,
           1,
           1,
           1,
           1,
           1,
           1,
           1,
           1,
           0,
           1,
           1,
           1,
           1,
           0,
           1,
           1,
           0,
           1,
           0,
           0,
           1,
           1,
           1,
           0,
           1,
           1,
           1,
           0,
           1,
           1,
           1,
           1,
           1,
           0,
           1,
           1,
           1,
           1,
           0,
           1,
           0,
           1,
           0,
           0,
           1,
           0,
           1,
           1,
           1,
           1,
           1,
           1,
           1,
           1,
           1,
           17,
           17,
           17,
           17,
           7,
           17,
           7,
           17,
           17,
           7,
           17,
           17,
           7,
           17,
           17,
           17,
           17,
           7,
           17,
           17,
           17,
           17,
           17,
           17,
           7,
           7,
           7,
           17
          ],
          "colorscale": [
           [
            0,
            "rgb(150,0,90)"
           ],
           [
            0.125,
            "rgb(0,0,200)"
           ],
           [
            0.25,
            "rgb(0,25,255)"
           ],
           [
            0.375,
            "rgb(0,152,255)"
           ],
           [
            0.5,
            "rgb(44,255,150)"
           ],
           [
            0.625,
            "rgb(151,255,0)"
           ],
           [
            0.75,
            "rgb(255,234,0)"
           ],
           [
            0.875,
            "rgb(255,111,0)"
           ],
           [
            1,
            "rgb(255,0,0)"
           ]
          ],
          "opacity": 0.8,
          "showscale": true,
          "size": 5
         },
         "mode": "markers",
         "name": "Training",
         "text": [
          1,
          0,
          1,
          1,
          0,
          0,
          0,
          1,
          0,
          0,
          1,
          0,
          1,
          1,
          1,
          1,
          0,
          0,
          1,
          0,
          1,
          0,
          0,
          1,
          1,
          1,
          1,
          1,
          0,
          1,
          1,
          1,
          1,
          1,
          1,
          0,
          1,
          0,
          1,
          1,
          1,
          1,
          1,
          1,
          1,
          1,
          0,
          1,
          1,
          0,
          1,
          0,
          1,
          1,
          1,
          1,
          1,
          1,
          1,
          1,
          1,
          1,
          1,
          0,
          1,
          1,
          1,
          1,
          0,
          1,
          1,
          0,
          1,
          0,
          0,
          1,
          1,
          1,
          0,
          1,
          1,
          1,
          0,
          1,
          1,
          1,
          1,
          1,
          0,
          1,
          1,
          1,
          1,
          0,
          1,
          0,
          1,
          0,
          0,
          1,
          0,
          1,
          1,
          1,
          1,
          1,
          1,
          1,
          1,
          1,
          17,
          17,
          17,
          17,
          7,
          17,
          7,
          17,
          17,
          7,
          17,
          17,
          7,
          17,
          17,
          17,
          17,
          7,
          17,
          17,
          17,
          17,
          17,
          17,
          7,
          7,
          7,
          17
         ],
         "type": "scatter3d",
         "x": [
          5.442758560180664,
          0.6162860989570618,
          4.970359802246094,
          4.499935150146484,
          0.9416748881340027,
          1.9095128774642944,
          2.2281582355499268,
          5.108893394470215,
          2.2481541633605957,
          1.9155869483947754,
          4.832319736480713,
          1.9004876613616943,
          4.4096150398254395,
          5.7732744216918945,
          5.6001081466674805,
          4.802983283996582,
          1.082013726234436,
          1.12079656124115,
          4.1521406173706055,
          0.7367080450057983,
          4.756221294403076,
          2.062162160873413,
          1.3900752067565918,
          5.2617621421813965,
          3.7233805656433105,
          5.245396614074707,
          3.808785915374756,
          5.31967306137085,
          1.0314207077026367,
          3.9120521545410156,
          5.783668518066406,
          5.332945346832275,
          4.897890090942383,
          4.169095993041992,
          4.496158123016357,
          1.1409951448440552,
          5.807858467102051,
          1.714788556098938,
          3.429047107696533,
          4.534549713134766,
          3.6626336574554443,
          5.101482391357422,
          5.0660014152526855,
          4.307420253753662,
          5.264035701751709,
          3.7589237689971924,
          1.7478564977645874,
          5.325558662414551,
          5.722804069519043,
          0.8138963580131531,
          5.767848014831543,
          0.8683553338050842,
          5.543485164642334,
          5.1595540046691895,
          5.391334056854248,
          5.567222595214844,
          3.772308588027954,
          5.800861835479736,
          3.923915386199951,
          4.991297245025635,
          4.576941013336182,
          4.628293037414551,
          5.516965866088867,
          1.3663311004638672,
          4.0572829246521,
          4.9806623458862305,
          4.99623441696167,
          4.699835300445557,
          1.8706187009811401,
          5.183515548706055,
          5.714540004730225,
          2.1143558025360107,
          4.964419841766357,
          2.002349615097046,
          1.3519022464752197,
          5.184378623962402,
          5.5726318359375,
          4.894429683685303,
          1.9152945280075073,
          4.556136131286621,
          5.282736778259277,
          5.972523212432861,
          1.544638991355896,
          5.14799690246582,
          4.1558051109313965,
          3.8084969520568848,
          5.2866411209106445,
          5.522610664367676,
          1.2352471351623535,
          4.4627814292907715,
          3.939164400100708,
          5.365257740020752,
          5.021081924438477,
          2.2457053661346436,
          3.823312997817993,
          1.1309014558792114,
          4.209073543548584,
          2.061497688293457,
          2.132171869277954,
          4.867110252380371,
          2.11669921875,
          4.783061981201172,
          5.688419818878174,
          4.917480945587158,
          3.5793616771698,
          5.923452854156494,
          3.823284864425659,
          4.978486061096191,
          5.5965704917907715,
          5.6849894523620605,
          4.212281703948975,
          6.261232376098633,
          5.352850914001465,
          5.278457164764404,
          4.85867977142334,
          6.515987873077393,
          4.187018871307373,
          3.2647323608398438,
          4.604208469390869,
          3.766031265258789,
          3.9268980026245117,
          4.143043518066406,
          5.766538143157959,
          4.370591640472412,
          4.543607234954834,
          6.137580394744873,
          6.069777011871338,
          5.810552597045898,
          3.8966495990753174,
          6.516751289367676,
          5.821374416351318,
          5.840898513793945,
          5.347463130950928,
          5.278436660766602,
          3.4103684425354004,
          5.300652503967285,
          4.173514366149902,
          5.884963035583496
         ],
         "y": [
          -0.44527992606163025,
          -5.713311672210693,
          -0.03147035464644432,
          -0.8124631643295288,
          -4.663980007171631,
          -5.164394378662109,
          -4.776251792907715,
          -2.01133131980896,
          -4.694295406341553,
          -5.006163120269775,
          -0.37848666310310364,
          -4.671065807342529,
          0.011700548231601715,
          -1.7411181926727295,
          -1.0653140544891357,
          0.02578797936439514,
          -4.618075370788574,
          -5.755417346954346,
          -0.12672583758831024,
          -5.65455961227417,
          -0.8450934886932373,
          -5.176733493804932,
          -4.645440101623535,
          -2.430990219116211,
          -0.7661198973655701,
          -2.4177041053771973,
          -0.43761029839515686,
          -1.2600092887878418,
          -5.279742240905762,
          -1.0192099809646606,
          -0.7738291621208191,
          -0.4360015392303467,
          0.14549729228019714,
          -0.8720768094062805,
          -0.8477956056594849,
          -4.761831760406494,
          -2.1386218070983887,
          -4.93792200088501,
          -0.3251717984676361,
          -0.09997815638780594,
          -0.7081037759780884,
          -1.8752188682556152,
          -0.8786695003509521,
          -0.43916356563568115,
          -1.8102818727493286,
          -0.06057429313659668,
          -5.78702974319458,
          0.020030980929732323,
          -1.6362138986587524,
          -5.6833577156066895,
          -0.7517392039299011,
          -4.87945032119751,
          -2.056727886199951,
          -1.1343202590942383,
          -1.4269418716430664,
          -1.9635318517684937,
          -0.15928950905799866,
          -1.1081873178482056,
          0.2584570348262787,
          -0.45421475172042847,
          -0.20214353501796722,
          -0.16459400951862335,
          -1.5983891487121582,
          -5.163341045379639,
          0.27565863728523254,
          -1.7249813079833984,
          -1.128321647644043,
          -0.8080653548240662,
          -4.974469184875488,
          -0.501705527305603,
          -1.9942905902862549,
          -5.227380752563477,
          -1.5299493074417114,
          -5.0942158699035645,
          -5.055634498596191,
          -1.9385415315628052,
          -1.9175981283187866,
          -0.8774147629737854,
          -4.683176040649414,
          -1.5333056449890137,
          -0.1201980859041214,
          -2.00425386428833,
          -5.0023579597473145,
          -1.7638888359069824,
          -0.3153162896633148,
          -0.8422228693962097,
          -0.6679151654243469,
          -2.3357136249542236,
          -4.5579514503479,
          -0.48151400685310364,
          -0.49782949686050415,
          -0.2311917245388031,
          -2.1602120399475098,
          -4.804931163787842,
          -0.75714111328125,
          -5.6367950439453125,
          -1.259764313697815,
          -5.4019694328308105,
          -5.555144309997559,
          0.11487673223018646,
          -5.158363342285156,
          -1.5191760063171387,
          -1.4194837808609009,
          -1.0914283990859985,
          -0.5834953188896179,
          -1.8894253969192505,
          0.17927253246307373,
          0.01921243965625763,
          -2.108252763748169,
          -0.4199709892272949,
          -1.420988917350769,
          -2.2404963970184326,
          0.6769105792045593,
          -1.9862807989120483,
          -2.5690174102783203,
          -2.2124648094177246,
          -0.35012680292129517,
          -0.2194955199956894,
          -1.5606920719146729,
          -0.2361537665128708,
          -1.845314860343933,
          -2.419907808303833,
          0.2508217990398407,
          -1.9751052856445312,
          -2.0293374061584473,
          -2.4808473587036133,
          0.052225738763809204,
          -2.7735071182250977,
          -2.084155559539795,
          -1.5455368757247925,
          -2.850074291229248,
          -2.8191540241241455,
          -2.4981300830841064,
          0.5305325984954834,
          -0.4025903344154358,
          0.3873008191585541,
          -2.448284149169922,
          -2.358062982559204
         ],
         "z": [
          7.719420433044434,
          -0.39438396692276,
          7.539429187774658,
          8.126291275024414,
          -0.3612653911113739,
          -0.032430101186037064,
          -0.5402820110321045,
          8.45426082611084,
          -1.044938325881958,
          -0.24467773735523224,
          7.26936149597168,
          -1.2444723844528198,
          7.6369781494140625,
          8.806827545166016,
          7.8442206382751465,
          7.675073623657227,
          -0.08458569645881653,
          -0.07138849794864655,
          7.185401916503906,
          -0.33087101578712463,
          8.740384101867676,
          -0.6045597195625305,
          -1.173303484916687,
          7.9507832527160645,
          7.994756698608398,
          8.04537582397461,
          7.228575706481934,
          8.707133293151855,
          -0.4326309263706207,
          8.169790267944336,
          8.54902172088623,
          9.01231861114502,
          8.933862686157227,
          8.157096862792969,
          8.534639358520508,
          -0.2950783967971802,
          8.420409202575684,
          0.35730570554733276,
          7.5789289474487305,
          8.857914924621582,
          7.631285190582275,
          7.52954626083374,
          9.030610084533691,
          7.10762882232666,
          8.743880271911621,
          7.740983486175537,
          -0.22752639651298523,
          8.461712837219238,
          7.512253761291504,
          -0.27961498498916626,
          8.193979263305664,
          -0.5224897861480713,
          7.360231876373291,
          8.620190620422363,
          7.5007147789001465,
          8.0419340133667,
          7.317563533782959,
          8.189414024353027,
          7.823000907897949,
          7.809116840362549,
          8.329333305358887,
          8.943282127380371,
          8.358075141906738,
          -0.510098934173584,
          7.238958835601807,
          8.278912544250488,
          7.373595237731934,
          7.674396991729736,
          0.28899019956588745,
          8.880695343017578,
          7.479816436767578,
          0.1104355975985527,
          7.660303592681885,
          -0.5533943772315979,
          -0.020736917853355408,
          8.008142471313477,
          8.371637344360352,
          7.057913303375244,
          -1.2980259656906128,
          7.846162796020508,
          8.72060775756836,
          8.046113967895508,
          0.13532987236976624,
          7.312771797180176,
          8.063835144042969,
          7.311967849731445,
          7.586246967315674,
          8.10033130645752,
          -1.1081466674804688,
          8.415667533874512,
          8.023690223693848,
          8.953611373901367,
          7.912237644195557,
          -0.7799179553985596,
          7.401939868927002,
          0.03729164972901344,
          8.063366889953613,
          -0.2717874050140381,
          -0.2880747318267822,
          8.227167129516602,
          -0.6900466680526733,
          8.526863098144531,
          8.586824417114258,
          8.310903549194336,
          7.531850337982178,
          8.031229972839355,
          7.445938587188721,
          8.15247631072998,
          7.545665740966797,
          8.36296272277832,
          6.1504807472229,
          7.611116409301758,
          6.895052433013916,
          6.584545135498047,
          8.880483627319336,
          8.13257884979248,
          9.665553092956543,
          8.603483200073242,
          6.5823469161987305,
          6.404542446136475,
          8.378829956054688,
          7.50253438949585,
          7.703786849975586,
          6.975050449371338,
          6.192150115966797,
          8.044872283935547,
          7.416808605194092,
          8.315949440002441,
          8.409330368041992,
          7.721689224243164,
          8.246301651000977,
          8.197025299072266,
          6.7958903312683105,
          7.49801778793335,
          8.520015716552734,
          6.656398296356201,
          7.676133155822754,
          8.925870895385742
         ]
        }
       ],
       "layout": {
        "autosize": false,
        "height": 1000,
        "paper_bgcolor": "#F5F5F5",
        "scene": {
         "aspectmode": "auto",
         "aspectratio": {
          "x": 0.7890555970417977,
          "y": 0.8644078264578773,
          "z": 1.4661341336095175
         },
         "camera": {
          "center": {
           "x": 0,
           "y": 0,
           "z": 0
          },
          "eye": {
           "x": -0.9690379315745696,
           "y": 1.7289241014160763,
           "z": 1.318922551090655
          },
          "projection": {
           "type": "perspective"
          },
          "up": {
           "x": 0.3932935808940118,
           "y": 0.9150506824610669,
           "z": 0.08945617784759954
          }
         }
        },
        "template": {
         "data": {
          "bar": [
           {
            "error_x": {
             "color": "#2a3f5f"
            },
            "error_y": {
             "color": "#2a3f5f"
            },
            "marker": {
             "line": {
              "color": "#E5ECF6",
              "width": 0.5
             }
            },
            "type": "bar"
           }
          ],
          "barpolar": [
           {
            "marker": {
             "line": {
              "color": "#E5ECF6",
              "width": 0.5
             }
            },
            "type": "barpolar"
           }
          ],
          "carpet": [
           {
            "aaxis": {
             "endlinecolor": "#2a3f5f",
             "gridcolor": "white",
             "linecolor": "white",
             "minorgridcolor": "white",
             "startlinecolor": "#2a3f5f"
            },
            "baxis": {
             "endlinecolor": "#2a3f5f",
             "gridcolor": "white",
             "linecolor": "white",
             "minorgridcolor": "white",
             "startlinecolor": "#2a3f5f"
            },
            "type": "carpet"
           }
          ],
          "choropleth": [
           {
            "colorbar": {
             "outlinewidth": 0,
             "ticks": ""
            },
            "type": "choropleth"
           }
          ],
          "contour": [
           {
            "colorbar": {
             "outlinewidth": 0,
             "ticks": ""
            },
            "colorscale": [
             [
              0,
              "#0d0887"
             ],
             [
              0.1111111111111111,
              "#46039f"
             ],
             [
              0.2222222222222222,
              "#7201a8"
             ],
             [
              0.3333333333333333,
              "#9c179e"
             ],
             [
              0.4444444444444444,
              "#bd3786"
             ],
             [
              0.5555555555555556,
              "#d8576b"
             ],
             [
              0.6666666666666666,
              "#ed7953"
             ],
             [
              0.7777777777777778,
              "#fb9f3a"
             ],
             [
              0.8888888888888888,
              "#fdca26"
             ],
             [
              1,
              "#f0f921"
             ]
            ],
            "type": "contour"
           }
          ],
          "contourcarpet": [
           {
            "colorbar": {
             "outlinewidth": 0,
             "ticks": ""
            },
            "type": "contourcarpet"
           }
          ],
          "heatmap": [
           {
            "colorbar": {
             "outlinewidth": 0,
             "ticks": ""
            },
            "colorscale": [
             [
              0,
              "#0d0887"
             ],
             [
              0.1111111111111111,
              "#46039f"
             ],
             [
              0.2222222222222222,
              "#7201a8"
             ],
             [
              0.3333333333333333,
              "#9c179e"
             ],
             [
              0.4444444444444444,
              "#bd3786"
             ],
             [
              0.5555555555555556,
              "#d8576b"
             ],
             [
              0.6666666666666666,
              "#ed7953"
             ],
             [
              0.7777777777777778,
              "#fb9f3a"
             ],
             [
              0.8888888888888888,
              "#fdca26"
             ],
             [
              1,
              "#f0f921"
             ]
            ],
            "type": "heatmap"
           }
          ],
          "heatmapgl": [
           {
            "colorbar": {
             "outlinewidth": 0,
             "ticks": ""
            },
            "colorscale": [
             [
              0,
              "#0d0887"
             ],
             [
              0.1111111111111111,
              "#46039f"
             ],
             [
              0.2222222222222222,
              "#7201a8"
             ],
             [
              0.3333333333333333,
              "#9c179e"
             ],
             [
              0.4444444444444444,
              "#bd3786"
             ],
             [
              0.5555555555555556,
              "#d8576b"
             ],
             [
              0.6666666666666666,
              "#ed7953"
             ],
             [
              0.7777777777777778,
              "#fb9f3a"
             ],
             [
              0.8888888888888888,
              "#fdca26"
             ],
             [
              1,
              "#f0f921"
             ]
            ],
            "type": "heatmapgl"
           }
          ],
          "histogram": [
           {
            "marker": {
             "colorbar": {
              "outlinewidth": 0,
              "ticks": ""
             }
            },
            "type": "histogram"
           }
          ],
          "histogram2d": [
           {
            "colorbar": {
             "outlinewidth": 0,
             "ticks": ""
            },
            "colorscale": [
             [
              0,
              "#0d0887"
             ],
             [
              0.1111111111111111,
              "#46039f"
             ],
             [
              0.2222222222222222,
              "#7201a8"
             ],
             [
              0.3333333333333333,
              "#9c179e"
             ],
             [
              0.4444444444444444,
              "#bd3786"
             ],
             [
              0.5555555555555556,
              "#d8576b"
             ],
             [
              0.6666666666666666,
              "#ed7953"
             ],
             [
              0.7777777777777778,
              "#fb9f3a"
             ],
             [
              0.8888888888888888,
              "#fdca26"
             ],
             [
              1,
              "#f0f921"
             ]
            ],
            "type": "histogram2d"
           }
          ],
          "histogram2dcontour": [
           {
            "colorbar": {
             "outlinewidth": 0,
             "ticks": ""
            },
            "colorscale": [
             [
              0,
              "#0d0887"
             ],
             [
              0.1111111111111111,
              "#46039f"
             ],
             [
              0.2222222222222222,
              "#7201a8"
             ],
             [
              0.3333333333333333,
              "#9c179e"
             ],
             [
              0.4444444444444444,
              "#bd3786"
             ],
             [
              0.5555555555555556,
              "#d8576b"
             ],
             [
              0.6666666666666666,
              "#ed7953"
             ],
             [
              0.7777777777777778,
              "#fb9f3a"
             ],
             [
              0.8888888888888888,
              "#fdca26"
             ],
             [
              1,
              "#f0f921"
             ]
            ],
            "type": "histogram2dcontour"
           }
          ],
          "mesh3d": [
           {
            "colorbar": {
             "outlinewidth": 0,
             "ticks": ""
            },
            "type": "mesh3d"
           }
          ],
          "parcoords": [
           {
            "line": {
             "colorbar": {
              "outlinewidth": 0,
              "ticks": ""
             }
            },
            "type": "parcoords"
           }
          ],
          "scatter": [
           {
            "marker": {
             "colorbar": {
              "outlinewidth": 0,
              "ticks": ""
             }
            },
            "type": "scatter"
           }
          ],
          "scatter3d": [
           {
            "line": {
             "colorbar": {
              "outlinewidth": 0,
              "ticks": ""
             }
            },
            "marker": {
             "colorbar": {
              "outlinewidth": 0,
              "ticks": ""
             }
            },
            "type": "scatter3d"
           }
          ],
          "scattercarpet": [
           {
            "marker": {
             "colorbar": {
              "outlinewidth": 0,
              "ticks": ""
             }
            },
            "type": "scattercarpet"
           }
          ],
          "scattergeo": [
           {
            "marker": {
             "colorbar": {
              "outlinewidth": 0,
              "ticks": ""
             }
            },
            "type": "scattergeo"
           }
          ],
          "scattergl": [
           {
            "marker": {
             "colorbar": {
              "outlinewidth": 0,
              "ticks": ""
             }
            },
            "type": "scattergl"
           }
          ],
          "scattermapbox": [
           {
            "marker": {
             "colorbar": {
              "outlinewidth": 0,
              "ticks": ""
             }
            },
            "type": "scattermapbox"
           }
          ],
          "scatterpolar": [
           {
            "marker": {
             "colorbar": {
              "outlinewidth": 0,
              "ticks": ""
             }
            },
            "type": "scatterpolar"
           }
          ],
          "scatterpolargl": [
           {
            "marker": {
             "colorbar": {
              "outlinewidth": 0,
              "ticks": ""
             }
            },
            "type": "scatterpolargl"
           }
          ],
          "scatterternary": [
           {
            "marker": {
             "colorbar": {
              "outlinewidth": 0,
              "ticks": ""
             }
            },
            "type": "scatterternary"
           }
          ],
          "surface": [
           {
            "colorbar": {
             "outlinewidth": 0,
             "ticks": ""
            },
            "colorscale": [
             [
              0,
              "#0d0887"
             ],
             [
              0.1111111111111111,
              "#46039f"
             ],
             [
              0.2222222222222222,
              "#7201a8"
             ],
             [
              0.3333333333333333,
              "#9c179e"
             ],
             [
              0.4444444444444444,
              "#bd3786"
             ],
             [
              0.5555555555555556,
              "#d8576b"
             ],
             [
              0.6666666666666666,
              "#ed7953"
             ],
             [
              0.7777777777777778,
              "#fb9f3a"
             ],
             [
              0.8888888888888888,
              "#fdca26"
             ],
             [
              1,
              "#f0f921"
             ]
            ],
            "type": "surface"
           }
          ],
          "table": [
           {
            "cells": {
             "fill": {
              "color": "#EBF0F8"
             },
             "line": {
              "color": "white"
             }
            },
            "header": {
             "fill": {
              "color": "#C8D4E3"
             },
             "line": {
              "color": "white"
             }
            },
            "type": "table"
           }
          ]
         },
         "layout": {
          "annotationdefaults": {
           "arrowcolor": "#2a3f5f",
           "arrowhead": 0,
           "arrowwidth": 1
          },
          "colorscale": {
           "diverging": [
            [
             0,
             "#8e0152"
            ],
            [
             0.1,
             "#c51b7d"
            ],
            [
             0.2,
             "#de77ae"
            ],
            [
             0.3,
             "#f1b6da"
            ],
            [
             0.4,
             "#fde0ef"
            ],
            [
             0.5,
             "#f7f7f7"
            ],
            [
             0.6,
             "#e6f5d0"
            ],
            [
             0.7,
             "#b8e186"
            ],
            [
             0.8,
             "#7fbc41"
            ],
            [
             0.9,
             "#4d9221"
            ],
            [
             1,
             "#276419"
            ]
           ],
           "sequential": [
            [
             0,
             "#0d0887"
            ],
            [
             0.1111111111111111,
             "#46039f"
            ],
            [
             0.2222222222222222,
             "#7201a8"
            ],
            [
             0.3333333333333333,
             "#9c179e"
            ],
            [
             0.4444444444444444,
             "#bd3786"
            ],
            [
             0.5555555555555556,
             "#d8576b"
            ],
            [
             0.6666666666666666,
             "#ed7953"
            ],
            [
             0.7777777777777778,
             "#fb9f3a"
            ],
            [
             0.8888888888888888,
             "#fdca26"
            ],
            [
             1,
             "#f0f921"
            ]
           ],
           "sequentialminus": [
            [
             0,
             "#0d0887"
            ],
            [
             0.1111111111111111,
             "#46039f"
            ],
            [
             0.2222222222222222,
             "#7201a8"
            ],
            [
             0.3333333333333333,
             "#9c179e"
            ],
            [
             0.4444444444444444,
             "#bd3786"
            ],
            [
             0.5555555555555556,
             "#d8576b"
            ],
            [
             0.6666666666666666,
             "#ed7953"
            ],
            [
             0.7777777777777778,
             "#fb9f3a"
            ],
            [
             0.8888888888888888,
             "#fdca26"
            ],
            [
             1,
             "#f0f921"
            ]
           ]
          },
          "colorway": [
           "#636efa",
           "#EF553B",
           "#00cc96",
           "#ab63fa",
           "#FFA15A",
           "#19d3f3",
           "#FF6692",
           "#B6E880",
           "#FF97FF",
           "#FECB52"
          ],
          "font": {
           "color": "#2a3f5f"
          },
          "geo": {
           "bgcolor": "white",
           "lakecolor": "white",
           "landcolor": "#E5ECF6",
           "showlakes": true,
           "showland": true,
           "subunitcolor": "white"
          },
          "hoverlabel": {
           "align": "left"
          },
          "hovermode": "closest",
          "mapbox": {
           "style": "light"
          },
          "paper_bgcolor": "white",
          "plot_bgcolor": "#E5ECF6",
          "polar": {
           "angularaxis": {
            "gridcolor": "white",
            "linecolor": "white",
            "ticks": ""
           },
           "bgcolor": "#E5ECF6",
           "radialaxis": {
            "gridcolor": "white",
            "linecolor": "white",
            "ticks": ""
           }
          },
          "scene": {
           "xaxis": {
            "backgroundcolor": "#E5ECF6",
            "gridcolor": "white",
            "gridwidth": 2,
            "linecolor": "white",
            "showbackground": true,
            "ticks": "",
            "zerolinecolor": "white"
           },
           "yaxis": {
            "backgroundcolor": "#E5ECF6",
            "gridcolor": "white",
            "gridwidth": 2,
            "linecolor": "white",
            "showbackground": true,
            "ticks": "",
            "zerolinecolor": "white"
           },
           "zaxis": {
            "backgroundcolor": "#E5ECF6",
            "gridcolor": "white",
            "gridwidth": 2,
            "linecolor": "white",
            "showbackground": true,
            "ticks": "",
            "zerolinecolor": "white"
           }
          },
          "shapedefaults": {
           "line": {
            "color": "#2a3f5f"
           }
          },
          "ternary": {
           "aaxis": {
            "gridcolor": "white",
            "linecolor": "white",
            "ticks": ""
           },
           "baxis": {
            "gridcolor": "white",
            "linecolor": "white",
            "ticks": ""
           },
           "bgcolor": "#E5ECF6",
           "caxis": {
            "gridcolor": "white",
            "linecolor": "white",
            "ticks": ""
           }
          },
          "title": {
           "x": 0.05
          },
          "xaxis": {
           "automargin": true,
           "gridcolor": "white",
           "linecolor": "white",
           "ticks": "",
           "zerolinecolor": "white",
           "zerolinewidth": 2
          },
          "yaxis": {
           "automargin": true,
           "gridcolor": "white",
           "linecolor": "white",
           "ticks": "",
           "zerolinecolor": "white",
           "zerolinewidth": 2
          }
         }
        },
        "title": {
         "text": "3D LRP Embedding"
        },
        "width": 1200
       }
      },
      "text/html": [
       "<div>\n",
       "        \n",
       "        \n",
       "            <div id=\"d04ba036-4a96-4129-a129-c6c84794decd\" class=\"plotly-graph-div\" style=\"height:1000px; width:1200px;\"></div>\n",
       "            <script type=\"text/javascript\">\n",
       "                require([\"plotly\"], function(Plotly) {\n",
       "                    window.PLOTLYENV=window.PLOTLYENV || {};\n",
       "                    \n",
       "                if (document.getElementById(\"d04ba036-4a96-4129-a129-c6c84794decd\")) {\n",
       "                    Plotly.newPlot(\n",
       "                        'd04ba036-4a96-4129-a129-c6c84794decd',\n",
       "                        [{\"marker\": {\"color\": [1, 0, 1, 1, 0, 0, 0, 1, 0, 0, 1, 0, 1, 1, 1, 1, 0, 0, 1, 0, 1, 0, 0, 1, 1, 1, 1, 1, 0, 1, 1, 1, 1, 1, 1, 0, 1, 0, 1, 1, 1, 1, 1, 1, 1, 1, 0, 1, 1, 0, 1, 0, 1, 1, 1, 1, 1, 1, 1, 1, 1, 1, 1, 0, 1, 1, 1, 1, 0, 1, 1, 0, 1, 0, 0, 1, 1, 1, 0, 1, 1, 1, 0, 1, 1, 1, 1, 1, 0, 1, 1, 1, 1, 0, 1, 0, 1, 0, 0, 1, 0, 1, 1, 1, 1, 1, 1, 1, 1, 1, 17, 17, 17, 17, 7, 17, 7, 17, 17, 7, 17, 17, 7, 17, 17, 17, 17, 7, 17, 17, 17, 17, 17, 17, 7, 7, 7, 17], \"colorscale\": [[0.0, \"rgb(150,0,90)\"], [0.125, \"rgb(0,0,200)\"], [0.25, \"rgb(0,25,255)\"], [0.375, \"rgb(0,152,255)\"], [0.5, \"rgb(44,255,150)\"], [0.625, \"rgb(151,255,0)\"], [0.75, \"rgb(255,234,0)\"], [0.875, \"rgb(255,111,0)\"], [1.0, \"rgb(255,0,0)\"]], \"opacity\": 0.8, \"showscale\": true, \"size\": 5}, \"mode\": \"markers\", \"name\": \"Training\", \"text\": [1.0, 0.0, 1.0, 1.0, 0.0, 0.0, 0.0, 1.0, 0.0, 0.0, 1.0, 0.0, 1.0, 1.0, 1.0, 1.0, 0.0, 0.0, 1.0, 0.0, 1.0, 0.0, 0.0, 1.0, 1.0, 1.0, 1.0, 1.0, 0.0, 1.0, 1.0, 1.0, 1.0, 1.0, 1.0, 0.0, 1.0, 0.0, 1.0, 1.0, 1.0, 1.0, 1.0, 1.0, 1.0, 1.0, 0.0, 1.0, 1.0, 0.0, 1.0, 0.0, 1.0, 1.0, 1.0, 1.0, 1.0, 1.0, 1.0, 1.0, 1.0, 1.0, 1.0, 0.0, 1.0, 1.0, 1.0, 1.0, 0.0, 1.0, 1.0, 0.0, 1.0, 0.0, 0.0, 1.0, 1.0, 1.0, 0.0, 1.0, 1.0, 1.0, 0.0, 1.0, 1.0, 1.0, 1.0, 1.0, 0.0, 1.0, 1.0, 1.0, 1.0, 0.0, 1.0, 0.0, 1.0, 0.0, 0.0, 1.0, 0.0, 1.0, 1.0, 1.0, 1.0, 1.0, 1.0, 1.0, 1.0, 1.0, 17.0, 17.0, 17.0, 17.0, 7.0, 17.0, 7.0, 17.0, 17.0, 7.0, 17.0, 17.0, 7.0, 17.0, 17.0, 17.0, 17.0, 7.0, 17.0, 17.0, 17.0, 17.0, 17.0, 17.0, 7.0, 7.0, 7.0, 17.0], \"type\": \"scatter3d\", \"x\": [5.442758560180664, 0.6162860989570618, 4.970359802246094, 4.499935150146484, 0.9416748881340027, 1.9095128774642944, 2.2281582355499268, 5.108893394470215, 2.2481541633605957, 1.9155869483947754, 4.832319736480713, 1.9004876613616943, 4.4096150398254395, 5.7732744216918945, 5.6001081466674805, 4.802983283996582, 1.082013726234436, 1.12079656124115, 4.1521406173706055, 0.7367080450057983, 4.756221294403076, 2.062162160873413, 1.3900752067565918, 5.2617621421813965, 3.7233805656433105, 5.245396614074707, 3.808785915374756, 5.31967306137085, 1.0314207077026367, 3.9120521545410156, 5.783668518066406, 5.332945346832275, 4.897890090942383, 4.169095993041992, 4.496158123016357, 1.1409951448440552, 5.807858467102051, 1.714788556098938, 3.429047107696533, 4.534549713134766, 3.6626336574554443, 5.101482391357422, 5.0660014152526855, 4.307420253753662, 5.264035701751709, 3.7589237689971924, 1.7478564977645874, 5.325558662414551, 5.722804069519043, 0.8138963580131531, 5.767848014831543, 0.8683553338050842, 5.543485164642334, 5.1595540046691895, 5.391334056854248, 5.567222595214844, 3.772308588027954, 5.800861835479736, 3.923915386199951, 4.991297245025635, 4.576941013336182, 4.628293037414551, 5.516965866088867, 1.3663311004638672, 4.0572829246521, 4.9806623458862305, 4.99623441696167, 4.699835300445557, 1.8706187009811401, 5.183515548706055, 5.714540004730225, 2.1143558025360107, 4.964419841766357, 2.002349615097046, 1.3519022464752197, 5.184378623962402, 5.5726318359375, 4.894429683685303, 1.9152945280075073, 4.556136131286621, 5.282736778259277, 5.972523212432861, 1.544638991355896, 5.14799690246582, 4.1558051109313965, 3.8084969520568848, 5.2866411209106445, 5.522610664367676, 1.2352471351623535, 4.4627814292907715, 3.939164400100708, 5.365257740020752, 5.021081924438477, 2.2457053661346436, 3.823312997817993, 1.1309014558792114, 4.209073543548584, 2.061497688293457, 2.132171869277954, 4.867110252380371, 2.11669921875, 4.783061981201172, 5.688419818878174, 4.917480945587158, 3.5793616771698, 5.923452854156494, 3.823284864425659, 4.978486061096191, 5.5965704917907715, 5.6849894523620605, 4.212281703948975, 6.261232376098633, 5.352850914001465, 5.278457164764404, 4.85867977142334, 6.515987873077393, 4.187018871307373, 3.2647323608398438, 4.604208469390869, 3.766031265258789, 3.9268980026245117, 4.143043518066406, 5.766538143157959, 4.370591640472412, 4.543607234954834, 6.137580394744873, 6.069777011871338, 5.810552597045898, 3.8966495990753174, 6.516751289367676, 5.821374416351318, 5.840898513793945, 5.347463130950928, 5.278436660766602, 3.4103684425354004, 5.300652503967285, 4.173514366149902, 5.884963035583496], \"y\": [-0.44527992606163025, -5.713311672210693, -0.03147035464644432, -0.8124631643295288, -4.663980007171631, -5.164394378662109, -4.776251792907715, -2.01133131980896, -4.694295406341553, -5.006163120269775, -0.37848666310310364, -4.671065807342529, 0.011700548231601715, -1.7411181926727295, -1.0653140544891357, 0.02578797936439514, -4.618075370788574, -5.755417346954346, -0.12672583758831024, -5.65455961227417, -0.8450934886932373, -5.176733493804932, -4.645440101623535, -2.430990219116211, -0.7661198973655701, -2.4177041053771973, -0.43761029839515686, -1.2600092887878418, -5.279742240905762, -1.0192099809646606, -0.7738291621208191, -0.4360015392303467, 0.14549729228019714, -0.8720768094062805, -0.8477956056594849, -4.761831760406494, -2.1386218070983887, -4.93792200088501, -0.3251717984676361, -0.09997815638780594, -0.7081037759780884, -1.8752188682556152, -0.8786695003509521, -0.43916356563568115, -1.8102818727493286, -0.06057429313659668, -5.78702974319458, 0.020030980929732323, -1.6362138986587524, -5.6833577156066895, -0.7517392039299011, -4.87945032119751, -2.056727886199951, -1.1343202590942383, -1.4269418716430664, -1.9635318517684937, -0.15928950905799866, -1.1081873178482056, 0.2584570348262787, -0.45421475172042847, -0.20214353501796722, -0.16459400951862335, -1.5983891487121582, -5.163341045379639, 0.27565863728523254, -1.7249813079833984, -1.128321647644043, -0.8080653548240662, -4.974469184875488, -0.501705527305603, -1.9942905902862549, -5.227380752563477, -1.5299493074417114, -5.0942158699035645, -5.055634498596191, -1.9385415315628052, -1.9175981283187866, -0.8774147629737854, -4.683176040649414, -1.5333056449890137, -0.1201980859041214, -2.00425386428833, -5.0023579597473145, -1.7638888359069824, -0.3153162896633148, -0.8422228693962097, -0.6679151654243469, -2.3357136249542236, -4.5579514503479, -0.48151400685310364, -0.49782949686050415, -0.2311917245388031, -2.1602120399475098, -4.804931163787842, -0.75714111328125, -5.6367950439453125, -1.259764313697815, -5.4019694328308105, -5.555144309997559, 0.11487673223018646, -5.158363342285156, -1.5191760063171387, -1.4194837808609009, -1.0914283990859985, -0.5834953188896179, -1.8894253969192505, 0.17927253246307373, 0.01921243965625763, -2.108252763748169, -0.4199709892272949, -1.420988917350769, -2.2404963970184326, 0.6769105792045593, -1.9862807989120483, -2.5690174102783203, -2.2124648094177246, -0.35012680292129517, -0.2194955199956894, -1.5606920719146729, -0.2361537665128708, -1.845314860343933, -2.419907808303833, 0.2508217990398407, -1.9751052856445312, -2.0293374061584473, -2.4808473587036133, 0.052225738763809204, -2.7735071182250977, -2.084155559539795, -1.5455368757247925, -2.850074291229248, -2.8191540241241455, -2.4981300830841064, 0.5305325984954834, -0.4025903344154358, 0.3873008191585541, -2.448284149169922, -2.358062982559204], \"z\": [7.719420433044434, -0.39438396692276, 7.539429187774658, 8.126291275024414, -0.3612653911113739, -0.032430101186037064, -0.5402820110321045, 8.45426082611084, -1.044938325881958, -0.24467773735523224, 7.26936149597168, -1.2444723844528198, 7.6369781494140625, 8.806827545166016, 7.8442206382751465, 7.675073623657227, -0.08458569645881653, -0.07138849794864655, 7.185401916503906, -0.33087101578712463, 8.740384101867676, -0.6045597195625305, -1.173303484916687, 7.9507832527160645, 7.994756698608398, 8.04537582397461, 7.228575706481934, 8.707133293151855, -0.4326309263706207, 8.169790267944336, 8.54902172088623, 9.01231861114502, 8.933862686157227, 8.157096862792969, 8.534639358520508, -0.2950783967971802, 8.420409202575684, 0.35730570554733276, 7.5789289474487305, 8.857914924621582, 7.631285190582275, 7.52954626083374, 9.030610084533691, 7.10762882232666, 8.743880271911621, 7.740983486175537, -0.22752639651298523, 8.461712837219238, 7.512253761291504, -0.27961498498916626, 8.193979263305664, -0.5224897861480713, 7.360231876373291, 8.620190620422363, 7.5007147789001465, 8.0419340133667, 7.317563533782959, 8.189414024353027, 7.823000907897949, 7.809116840362549, 8.329333305358887, 8.943282127380371, 8.358075141906738, -0.510098934173584, 7.238958835601807, 8.278912544250488, 7.373595237731934, 7.674396991729736, 0.28899019956588745, 8.880695343017578, 7.479816436767578, 0.1104355975985527, 7.660303592681885, -0.5533943772315979, -0.020736917853355408, 8.008142471313477, 8.371637344360352, 7.057913303375244, -1.2980259656906128, 7.846162796020508, 8.72060775756836, 8.046113967895508, 0.13532987236976624, 7.312771797180176, 8.063835144042969, 7.311967849731445, 7.586246967315674, 8.10033130645752, -1.1081466674804688, 8.415667533874512, 8.023690223693848, 8.953611373901367, 7.912237644195557, -0.7799179553985596, 7.401939868927002, 0.03729164972901344, 8.063366889953613, -0.2717874050140381, -0.2880747318267822, 8.227167129516602, -0.6900466680526733, 8.526863098144531, 8.586824417114258, 8.310903549194336, 7.531850337982178, 8.031229972839355, 7.445938587188721, 8.15247631072998, 7.545665740966797, 8.36296272277832, 6.1504807472229, 7.611116409301758, 6.895052433013916, 6.584545135498047, 8.880483627319336, 8.13257884979248, 9.665553092956543, 8.603483200073242, 6.5823469161987305, 6.404542446136475, 8.378829956054688, 7.50253438949585, 7.703786849975586, 6.975050449371338, 6.192150115966797, 8.044872283935547, 7.416808605194092, 8.315949440002441, 8.409330368041992, 7.721689224243164, 8.246301651000977, 8.197025299072266, 6.7958903312683105, 7.49801778793335, 8.520015716552734, 6.656398296356201, 7.676133155822754, 8.925870895385742]}],\n",
       "                        {\"autosize\": false, \"height\": 1000, \"paper_bgcolor\": \"#F5F5F5\", \"template\": {\"data\": {\"bar\": [{\"error_x\": {\"color\": \"#2a3f5f\"}, \"error_y\": {\"color\": \"#2a3f5f\"}, \"marker\": {\"line\": {\"color\": \"#E5ECF6\", \"width\": 0.5}}, \"type\": \"bar\"}], \"barpolar\": [{\"marker\": {\"line\": {\"color\": \"#E5ECF6\", \"width\": 0.5}}, \"type\": \"barpolar\"}], \"carpet\": [{\"aaxis\": {\"endlinecolor\": \"#2a3f5f\", \"gridcolor\": \"white\", \"linecolor\": \"white\", \"minorgridcolor\": \"white\", \"startlinecolor\": \"#2a3f5f\"}, \"baxis\": {\"endlinecolor\": \"#2a3f5f\", \"gridcolor\": \"white\", \"linecolor\": \"white\", \"minorgridcolor\": \"white\", \"startlinecolor\": \"#2a3f5f\"}, \"type\": \"carpet\"}], \"choropleth\": [{\"colorbar\": {\"outlinewidth\": 0, \"ticks\": \"\"}, \"type\": \"choropleth\"}], \"contour\": [{\"colorbar\": {\"outlinewidth\": 0, \"ticks\": \"\"}, \"colorscale\": [[0.0, \"#0d0887\"], [0.1111111111111111, \"#46039f\"], [0.2222222222222222, \"#7201a8\"], [0.3333333333333333, \"#9c179e\"], [0.4444444444444444, \"#bd3786\"], [0.5555555555555556, \"#d8576b\"], [0.6666666666666666, \"#ed7953\"], [0.7777777777777778, \"#fb9f3a\"], [0.8888888888888888, \"#fdca26\"], [1.0, \"#f0f921\"]], \"type\": \"contour\"}], \"contourcarpet\": [{\"colorbar\": {\"outlinewidth\": 0, \"ticks\": \"\"}, \"type\": \"contourcarpet\"}], \"heatmap\": [{\"colorbar\": {\"outlinewidth\": 0, \"ticks\": \"\"}, \"colorscale\": [[0.0, \"#0d0887\"], [0.1111111111111111, \"#46039f\"], [0.2222222222222222, \"#7201a8\"], [0.3333333333333333, \"#9c179e\"], [0.4444444444444444, \"#bd3786\"], [0.5555555555555556, \"#d8576b\"], [0.6666666666666666, \"#ed7953\"], [0.7777777777777778, \"#fb9f3a\"], [0.8888888888888888, \"#fdca26\"], [1.0, \"#f0f921\"]], \"type\": \"heatmap\"}], \"heatmapgl\": [{\"colorbar\": {\"outlinewidth\": 0, \"ticks\": \"\"}, \"colorscale\": [[0.0, \"#0d0887\"], [0.1111111111111111, \"#46039f\"], [0.2222222222222222, \"#7201a8\"], [0.3333333333333333, \"#9c179e\"], [0.4444444444444444, \"#bd3786\"], [0.5555555555555556, \"#d8576b\"], [0.6666666666666666, \"#ed7953\"], [0.7777777777777778, \"#fb9f3a\"], [0.8888888888888888, \"#fdca26\"], [1.0, \"#f0f921\"]], \"type\": \"heatmapgl\"}], \"histogram\": [{\"marker\": {\"colorbar\": {\"outlinewidth\": 0, \"ticks\": \"\"}}, \"type\": \"histogram\"}], \"histogram2d\": [{\"colorbar\": {\"outlinewidth\": 0, \"ticks\": \"\"}, \"colorscale\": [[0.0, \"#0d0887\"], [0.1111111111111111, \"#46039f\"], [0.2222222222222222, \"#7201a8\"], [0.3333333333333333, \"#9c179e\"], [0.4444444444444444, \"#bd3786\"], [0.5555555555555556, \"#d8576b\"], [0.6666666666666666, \"#ed7953\"], [0.7777777777777778, \"#fb9f3a\"], [0.8888888888888888, \"#fdca26\"], [1.0, \"#f0f921\"]], \"type\": \"histogram2d\"}], \"histogram2dcontour\": [{\"colorbar\": {\"outlinewidth\": 0, \"ticks\": \"\"}, \"colorscale\": [[0.0, \"#0d0887\"], [0.1111111111111111, \"#46039f\"], [0.2222222222222222, \"#7201a8\"], [0.3333333333333333, \"#9c179e\"], [0.4444444444444444, \"#bd3786\"], [0.5555555555555556, \"#d8576b\"], [0.6666666666666666, \"#ed7953\"], [0.7777777777777778, \"#fb9f3a\"], [0.8888888888888888, \"#fdca26\"], [1.0, \"#f0f921\"]], \"type\": \"histogram2dcontour\"}], \"mesh3d\": [{\"colorbar\": {\"outlinewidth\": 0, \"ticks\": \"\"}, \"type\": \"mesh3d\"}], \"parcoords\": [{\"line\": {\"colorbar\": {\"outlinewidth\": 0, \"ticks\": \"\"}}, \"type\": \"parcoords\"}], \"scatter\": [{\"marker\": {\"colorbar\": {\"outlinewidth\": 0, \"ticks\": \"\"}}, \"type\": \"scatter\"}], \"scatter3d\": [{\"line\": {\"colorbar\": {\"outlinewidth\": 0, \"ticks\": \"\"}}, \"marker\": {\"colorbar\": {\"outlinewidth\": 0, \"ticks\": \"\"}}, \"type\": \"scatter3d\"}], \"scattercarpet\": [{\"marker\": {\"colorbar\": {\"outlinewidth\": 0, \"ticks\": \"\"}}, \"type\": \"scattercarpet\"}], \"scattergeo\": [{\"marker\": {\"colorbar\": {\"outlinewidth\": 0, \"ticks\": \"\"}}, \"type\": \"scattergeo\"}], \"scattergl\": [{\"marker\": {\"colorbar\": {\"outlinewidth\": 0, \"ticks\": \"\"}}, \"type\": \"scattergl\"}], \"scattermapbox\": [{\"marker\": {\"colorbar\": {\"outlinewidth\": 0, \"ticks\": \"\"}}, \"type\": \"scattermapbox\"}], \"scatterpolar\": [{\"marker\": {\"colorbar\": {\"outlinewidth\": 0, \"ticks\": \"\"}}, \"type\": \"scatterpolar\"}], \"scatterpolargl\": [{\"marker\": {\"colorbar\": {\"outlinewidth\": 0, \"ticks\": \"\"}}, \"type\": \"scatterpolargl\"}], \"scatterternary\": [{\"marker\": {\"colorbar\": {\"outlinewidth\": 0, \"ticks\": \"\"}}, \"type\": \"scatterternary\"}], \"surface\": [{\"colorbar\": {\"outlinewidth\": 0, \"ticks\": \"\"}, \"colorscale\": [[0.0, \"#0d0887\"], [0.1111111111111111, \"#46039f\"], [0.2222222222222222, \"#7201a8\"], [0.3333333333333333, \"#9c179e\"], [0.4444444444444444, \"#bd3786\"], [0.5555555555555556, \"#d8576b\"], [0.6666666666666666, \"#ed7953\"], [0.7777777777777778, \"#fb9f3a\"], [0.8888888888888888, \"#fdca26\"], [1.0, \"#f0f921\"]], \"type\": \"surface\"}], \"table\": [{\"cells\": {\"fill\": {\"color\": \"#EBF0F8\"}, \"line\": {\"color\": \"white\"}}, \"header\": {\"fill\": {\"color\": \"#C8D4E3\"}, \"line\": {\"color\": \"white\"}}, \"type\": \"table\"}]}, \"layout\": {\"annotationdefaults\": {\"arrowcolor\": \"#2a3f5f\", \"arrowhead\": 0, \"arrowwidth\": 1}, \"colorscale\": {\"diverging\": [[0, \"#8e0152\"], [0.1, \"#c51b7d\"], [0.2, \"#de77ae\"], [0.3, \"#f1b6da\"], [0.4, \"#fde0ef\"], [0.5, \"#f7f7f7\"], [0.6, \"#e6f5d0\"], [0.7, \"#b8e186\"], [0.8, \"#7fbc41\"], [0.9, \"#4d9221\"], [1, \"#276419\"]], \"sequential\": [[0.0, \"#0d0887\"], [0.1111111111111111, \"#46039f\"], [0.2222222222222222, \"#7201a8\"], [0.3333333333333333, \"#9c179e\"], [0.4444444444444444, \"#bd3786\"], [0.5555555555555556, \"#d8576b\"], [0.6666666666666666, \"#ed7953\"], [0.7777777777777778, \"#fb9f3a\"], [0.8888888888888888, \"#fdca26\"], [1.0, \"#f0f921\"]], \"sequentialminus\": [[0.0, \"#0d0887\"], [0.1111111111111111, \"#46039f\"], [0.2222222222222222, \"#7201a8\"], [0.3333333333333333, \"#9c179e\"], [0.4444444444444444, \"#bd3786\"], [0.5555555555555556, \"#d8576b\"], [0.6666666666666666, \"#ed7953\"], [0.7777777777777778, \"#fb9f3a\"], [0.8888888888888888, \"#fdca26\"], [1.0, \"#f0f921\"]]}, \"colorway\": [\"#636efa\", \"#EF553B\", \"#00cc96\", \"#ab63fa\", \"#FFA15A\", \"#19d3f3\", \"#FF6692\", \"#B6E880\", \"#FF97FF\", \"#FECB52\"], \"font\": {\"color\": \"#2a3f5f\"}, \"geo\": {\"bgcolor\": \"white\", \"lakecolor\": \"white\", \"landcolor\": \"#E5ECF6\", \"showlakes\": true, \"showland\": true, \"subunitcolor\": \"white\"}, \"hoverlabel\": {\"align\": \"left\"}, \"hovermode\": \"closest\", \"mapbox\": {\"style\": \"light\"}, \"paper_bgcolor\": \"white\", \"plot_bgcolor\": \"#E5ECF6\", \"polar\": {\"angularaxis\": {\"gridcolor\": \"white\", \"linecolor\": \"white\", \"ticks\": \"\"}, \"bgcolor\": \"#E5ECF6\", \"radialaxis\": {\"gridcolor\": \"white\", \"linecolor\": \"white\", \"ticks\": \"\"}}, \"scene\": {\"xaxis\": {\"backgroundcolor\": \"#E5ECF6\", \"gridcolor\": \"white\", \"gridwidth\": 2, \"linecolor\": \"white\", \"showbackground\": true, \"ticks\": \"\", \"zerolinecolor\": \"white\"}, \"yaxis\": {\"backgroundcolor\": \"#E5ECF6\", \"gridcolor\": \"white\", \"gridwidth\": 2, \"linecolor\": \"white\", \"showbackground\": true, \"ticks\": \"\", \"zerolinecolor\": \"white\"}, \"zaxis\": {\"backgroundcolor\": \"#E5ECF6\", \"gridcolor\": \"white\", \"gridwidth\": 2, \"linecolor\": \"white\", \"showbackground\": true, \"ticks\": \"\", \"zerolinecolor\": \"white\"}}, \"shapedefaults\": {\"line\": {\"color\": \"#2a3f5f\"}}, \"ternary\": {\"aaxis\": {\"gridcolor\": \"white\", \"linecolor\": \"white\", \"ticks\": \"\"}, \"baxis\": {\"gridcolor\": \"white\", \"linecolor\": \"white\", \"ticks\": \"\"}, \"bgcolor\": \"#E5ECF6\", \"caxis\": {\"gridcolor\": \"white\", \"linecolor\": \"white\", \"ticks\": \"\"}}, \"title\": {\"x\": 0.05}, \"xaxis\": {\"automargin\": true, \"gridcolor\": \"white\", \"linecolor\": \"white\", \"ticks\": \"\", \"zerolinecolor\": \"white\", \"zerolinewidth\": 2}, \"yaxis\": {\"automargin\": true, \"gridcolor\": \"white\", \"linecolor\": \"white\", \"ticks\": \"\", \"zerolinecolor\": \"white\", \"zerolinewidth\": 2}}}, \"title\": {\"text\": \"3D LRP Embedding\"}, \"width\": 1200},\n",
       "                        {\"responsive\": true}\n",
       "                    ).then(function(){\n",
       "                            \n",
       "var gd = document.getElementById('d04ba036-4a96-4129-a129-c6c84794decd');\n",
       "var x = new MutationObserver(function (mutations, observer) {{\n",
       "        var display = window.getComputedStyle(gd).display;\n",
       "        if (!display || display === 'none') {{\n",
       "            console.log([gd, 'removed!']);\n",
       "            Plotly.purge(gd);\n",
       "            observer.disconnect();\n",
       "        }}\n",
       "}});\n",
       "\n",
       "// Listen for the removal of the full notebook cells\n",
       "var notebookContainer = gd.closest('#notebook-container');\n",
       "if (notebookContainer) {{\n",
       "    x.observe(notebookContainer, {childList: true});\n",
       "}}\n",
       "\n",
       "// Listen for the clearing of the current output cell\n",
       "var outputEl = gd.closest('.output');\n",
       "if (outputEl) {{\n",
       "    x.observe(outputEl, {childList: true});\n",
       "}}\n",
       "\n",
       "                        })\n",
       "                };\n",
       "                });\n",
       "            </script>\n",
       "        </div>"
      ]
     },
     "metadata": {},
     "output_type": "display_data"
    }
   ],
   "source": [
    "test_embedding = reducer.transform(test_data)\n",
    "plot_3d_lrp(np.concatenate([train_embedding.embedding_, test_embedding]),\n",
    "            colors=np.concatenate([train_labels, test_labels*10+7]),\n",
    "            labels=np.concatenate([train_labels, test_labels*10+7])\n",
    "           )"
   ]
  },
  {
   "cell_type": "code",
   "execution_count": null,
   "metadata": {},
   "outputs": [],
   "source": [
    "## UMAPing train_set "
   ]
  },
  {
   "cell_type": "code",
   "execution_count": 115,
   "metadata": {},
   "outputs": [],
   "source": [
    "from sklearn.preprocessing import StandardScaler\n",
    "from sklearn.utils.class_weight import compute_class_weight\n",
    "import tensorflow as tf\n",
    "from tensorflow.keras.callbacks import TensorBoard\n",
    "\n",
    "reducer_pipeline = Pipeline([\n",
    "            (\"umap\", umapper),\n",
    "            (\"scaler\",  StandardScaler())\n",
    "])\n",
    "\n",
    "reducer = reducer_pipeline.fit(train_data)\n",
    "X_train = reducer.transform(train_data)\n",
    "X_valid = reducer.transform(test_data)\n",
    "\n",
    "y_train = train_labels.values.reshape(-1,1)\n",
    "y_valid = test_labels.values.reshape(-1,1)\n",
    "\n",
    "class_weight = compute_class_weight(\"balanced\", np.unique(train_labels), train_labels)"
   ]
  },
  {
   "cell_type": "code",
   "execution_count": 143,
   "metadata": {},
   "outputs": [],
   "source": [
    "def build_dnn(num_features, num_labels, activation=\"elu\"):\n",
    "    \n",
    "    import tensorflow as tf\n",
    "    import keras\n",
    "    from keras import optimizers\n",
    "    from keras import regularizers\n",
    "    from keras.constraints import max_norm\n",
    "    keras.backend.clear_session()\n",
    "    \n",
    "    tf.random.set_random_seed(RANDOM_STATE)\n",
    "    reg_scale = 0.01 # For L1 Reg\n",
    "    my_reg = regularizers.l1(reg_scale) # Can change this if needed\n",
    "    \n",
    "    dnn = keras.models.Sequential()\n",
    "\n",
    "    Dense = keras.layers.Dense\n",
    "    \n",
    "    # Using He initialization\n",
    "    he_init = keras.initializers.he_normal(seed=RANDOM_STATE)\n",
    "\n",
    "    dnn.add(Dense(units = 64, activation=activation, input_dim = num_features,\n",
    "                  kernel_initializer=he_init,  kernel_regularizer=my_reg))\n",
    "    dnn.add(keras.layers.Dropout(0.2)),\n",
    "    dnn.add(Dense(units = 64, activation=activation,\n",
    "                  kernel_initializer=he_init,  kernel_regularizer=my_reg))\n",
    "    dnn.add(keras.layers.Dropout(0.2))\n",
    "    \n",
    "    dnn.add(Dense(units=num_labels, activation=\"sigmoid\",\n",
    "                  kernel_initializer=he_init,  kernel_regularizer=my_reg)) # 5 labels -> logits for now\n",
    "    \n",
    "#     SGD=keras.optimizers.SGD(lr=0.001)\n",
    "    NSGD = keras.optimizers.SGD(lr=0.001,momentum=0.9,nesterov=True)\n",
    "    \n",
    "    dnn.compile(loss='binary_crossentropy',\n",
    "                  optimizer=NSGD,\n",
    "                  metrics=['accuracy']) #Internally it seems to be same as binary accuracy\n",
    "    \n",
    "    return dnn"
   ]
  },
  {
   "cell_type": "code",
   "execution_count": 144,
   "metadata": {},
   "outputs": [
    {
     "name": "stdout",
     "output_type": "stream",
     "text": [
      "_________________________________________________________________\n",
      "Layer (type)                 Output Shape              Param #   \n",
      "=================================================================\n",
      "dense_1 (Dense)              (None, 64)                6464      \n",
      "_________________________________________________________________\n",
      "dropout_1 (Dropout)          (None, 64)                0         \n",
      "_________________________________________________________________\n",
      "dense_2 (Dense)              (None, 64)                4160      \n",
      "_________________________________________________________________\n",
      "dropout_2 (Dropout)          (None, 64)                0         \n",
      "_________________________________________________________________\n",
      "dense_3 (Dense)              (None, 1)                 65        \n",
      "=================================================================\n",
      "Total params: 10,689\n",
      "Trainable params: 10,689\n",
      "Non-trainable params: 0\n",
      "_________________________________________________________________\n"
     ]
    }
   ],
   "source": [
    "dnn = build_dnn(num_features=X_train.shape[1], num_labels=1, activation=\"relu\")\n",
    "dnn.summary()"
   ]
  },
  {
   "cell_type": "code",
   "execution_count": 145,
   "metadata": {},
   "outputs": [],
   "source": [
    "time = datetime.now().strftime(\"%Y%m%d-%H%M%S\")\n",
    "tensorboard = TensorBoard(log_dir='./logs/{}_umap_wo_labels_'.format(time),\n",
    "                          update_freq=\"epoch\", write_graph=False)"
   ]
  },
  {
   "cell_type": "code",
   "execution_count": 146,
   "metadata": {},
   "outputs": [
    {
     "name": "stdout",
     "output_type": "stream",
     "text": [
      "CPU times: user 57.8 s, sys: 12.8 s, total: 1min 10s\n",
      "Wall time: 37.3 s\n"
     ]
    }
   ],
   "source": [
    "%%time\n",
    "dnn = build_dnn(num_features=X_train.shape[1], num_labels=1, activation=\"elu\")\n",
    "history = dnn.fit(X_train, y_train, validation_data=(X_valid,y_valid),class_weight=class_weight,\n",
    "                  epochs=1000, 10, verbose=0, callbacks=[tensorboard])"
   ]
  },
  {
   "cell_type": "code",
   "execution_count": 147,
   "metadata": {},
   "outputs": [
    {
     "data": {
      "image/png": "[encoded data removed]",
      "text/plain": [
       "<Figure size 1440x720 with 2 Axes>"
      ]
     },
     "metadata": {
      "needs_background": "light"
     },
     "output_type": "display_data"
    },
    {
     "name": "stdout",
     "output_type": "stream",
     "text": [
      "28/28 [==============================] - 0s 22us/step\n",
      "Loss:0.599, Acc:0.7143\n"
     ]
    }
   ],
   "source": [
    "plot_history(history)\n",
    "print(\"Loss:{:0.3f}, Acc:{:.4f}\".format(*dnn.evaluate(X_valid,y_valid)))"
   ]
  },
  {
   "cell_type": "code",
   "execution_count": 150,
   "metadata": {},
   "outputs": [
    {
     "name": "stdout",
     "output_type": "stream",
     "text": [
      "Confusion matrix, without normalization\n",
      "[[0. 1.]\n",
      " [0. 1.]]\n",
      "Overall Accuracy: 0.7143\n"
     ]
    },
    {
     "data": {
      "text/plain": [
       "(<matplotlib.axes._subplots.AxesSubplot at 0x1a2b37cb38>, array([[ 0,  8],\n",
       "        [ 0, 20]]))"
      ]
     },
     "execution_count": 150,
     "metadata": {},
     "output_type": "execute_result"
    },
    {
     "data": {
      "image/png": "[encoded data removed]",
      "text/plain": [
       "<Figure size 576x576 with 2 Axes>"
      ]
     },
     "metadata": {
      "needs_background": "light"
     },
     "output_type": "display_data"
    }
   ],
   "source": [
    "y_pred = np.round(np.ravel(dnn.predict(X_valid)))\n",
    "plot_confusion_matrix(np.ravel(y_valid), y_pred, enc.categories_[1])"
   ]
  },
  {
   "cell_type": "code",
   "execution_count": 149,
   "metadata": {},
   "outputs": [
    {
     "name": "stderr",
     "output_type": "stream",
     "text": [
      "/Users/Work/anaconda3/envs/condatensor/lib/python3.6/site-packages/sklearn/metrics/classification.py:1437: UndefinedMetricWarning:\n",
      "\n",
      "Precision is ill-defined and being set to 0.0 due to no predicted samples.\n",
      "\n"
     ]
    },
    {
     "data": {
      "text/plain": [
       "0.0"
      ]
     },
     "execution_count": 149,
     "metadata": {},
     "output_type": "execute_result"
    }
   ],
   "source": [
    "from sklearn.metrics import precision_score, make_scorer\n",
    "prec_scorer = make_scorer(precision_score, pos_label=0)\n",
    "\n",
    "precision_score(y_true=np.ravel(y_valid), y_pred=y_pred, pos_label=0)"
   ]
  },
  {
   "cell_type": "markdown",
   "metadata": {},
   "source": [
    "## Calculate LRP"
   ]
  },
  {
   "cell_type": "code",
   "execution_count": 50,
   "metadata": {},
   "outputs": [
    {
     "data": {
      "text/html": [
       "<div>\n",
       "<style scoped>\n",
       "    .dataframe tbody tr th:only-of-type {\n",
       "        vertical-align: middle;\n",
       "    }\n",
       "\n",
       "    .dataframe tbody tr th {\n",
       "        vertical-align: top;\n",
       "    }\n",
       "\n",
       "    .dataframe thead th {\n",
       "        text-align: right;\n",
       "    }\n",
       "</style>\n",
       "<table border=\"1\" class=\"dataframe\">\n",
       "  <thead>\n",
       "    <tr style=\"text-align: right;\">\n",
       "      <th></th>\n",
       "      <th>ASD_DX_group</th>\n",
       "      <th>Risk</th>\n",
       "      <th>DNN Pred</th>\n",
       "    </tr>\n",
       "    <tr>\n",
       "      <th>CandID</th>\n",
       "      <th></th>\n",
       "      <th></th>\n",
       "      <th></th>\n",
       "    </tr>\n",
       "  </thead>\n",
       "  <tbody>\n",
       "    <tr>\n",
       "      <th>526558</th>\n",
       "      <td>ASD</td>\n",
       "      <td>HR</td>\n",
       "      <td>1.0</td>\n",
       "    </tr>\n",
       "    <tr>\n",
       "      <th>950194</th>\n",
       "      <td>ASD</td>\n",
       "      <td>HR</td>\n",
       "      <td>1.0</td>\n",
       "    </tr>\n",
       "    <tr>\n",
       "      <th>321541</th>\n",
       "      <td>ASD</td>\n",
       "      <td>HR</td>\n",
       "      <td>0.0</td>\n",
       "    </tr>\n",
       "    <tr>\n",
       "      <th>857317</th>\n",
       "      <td>ASD</td>\n",
       "      <td>HR</td>\n",
       "      <td>0.0</td>\n",
       "    </tr>\n",
       "    <tr>\n",
       "      <th>751794</th>\n",
       "      <td>ASD</td>\n",
       "      <td>HR</td>\n",
       "      <td>1.0</td>\n",
       "    </tr>\n",
       "    <tr>\n",
       "      <th>677040</th>\n",
       "      <td>ATYPICAL_MULLEN</td>\n",
       "      <td>HR</td>\n",
       "      <td>0.0</td>\n",
       "    </tr>\n",
       "    <tr>\n",
       "      <th>402809</th>\n",
       "      <td>ASD</td>\n",
       "      <td>HR</td>\n",
       "      <td>0.0</td>\n",
       "    </tr>\n",
       "    <tr>\n",
       "      <th>389521</th>\n",
       "      <td>ASD</td>\n",
       "      <td>HR</td>\n",
       "      <td>0.0</td>\n",
       "    </tr>\n",
       "    <tr>\n",
       "      <th>456823</th>\n",
       "      <td>ASD</td>\n",
       "      <td>HR</td>\n",
       "      <td>0.0</td>\n",
       "    </tr>\n",
       "    <tr>\n",
       "      <th>447346</th>\n",
       "      <td>ATYPICAL_MULLEN</td>\n",
       "      <td>HR</td>\n",
       "      <td>0.0</td>\n",
       "    </tr>\n",
       "    <tr>\n",
       "      <th>175448</th>\n",
       "      <td>ASD</td>\n",
       "      <td>HR</td>\n",
       "      <td>1.0</td>\n",
       "    </tr>\n",
       "    <tr>\n",
       "      <th>919979</th>\n",
       "      <td>ASD</td>\n",
       "      <td>HR</td>\n",
       "      <td>0.0</td>\n",
       "    </tr>\n",
       "    <tr>\n",
       "      <th>214769</th>\n",
       "      <td>ATYPICAL_ADOS</td>\n",
       "      <td>HR</td>\n",
       "      <td>1.0</td>\n",
       "    </tr>\n",
       "  </tbody>\n",
       "</table>\n",
       "</div>"
      ],
      "text/plain": [
       "           ASD_DX_group Risk  DNN Pred\n",
       "CandID                                \n",
       "526558              ASD   HR       1.0\n",
       "950194              ASD   HR       1.0\n",
       "321541              ASD   HR       0.0\n",
       "857317              ASD   HR       0.0\n",
       "751794              ASD   HR       1.0\n",
       "677040  ATYPICAL_MULLEN   HR       0.0\n",
       "402809              ASD   HR       0.0\n",
       "389521              ASD   HR       0.0\n",
       "456823              ASD   HR       0.0\n",
       "447346  ATYPICAL_MULLEN   HR       0.0\n",
       "175448              ASD   HR       1.0\n",
       "919979              ASD   HR       0.0\n",
       "214769    ATYPICAL_ADOS   HR       1.0"
      ]
     },
     "execution_count": 50,
     "metadata": {},
     "output_type": "execute_result"
    }
   ],
   "source": [
    "val_samples = analysis_labels.loc[test_labels.index]\n",
    "val_samples[\"DNN Pred\"] = y_pred\n",
    "val_samples[val_samples[\"Risk\"]==\"HR\"]"
   ]
  },
  {
   "cell_type": "code",
   "execution_count": 51,
   "metadata": {},
   "outputs": [],
   "source": [
    "_correct = np.logical_and(y_pred == np.ravel(y_valid) , (val_samples[\"Risk\"]==\"HR\").values)\n",
    "_labels = val_samples[_correct][\"ASD_DX_group\"].values"
   ]
  },
  {
   "cell_type": "code",
   "execution_count": 52,
   "metadata": {},
   "outputs": [],
   "source": [
    "correct_HR_samples = X_valid[np.logical_and(y_pred == np.ravel(y_valid) , (val_samples[\"Risk\"]==\"HR\").values)]"
   ]
  },
  {
   "cell_type": "code",
   "execution_count": 53,
   "metadata": {},
   "outputs": [
    {
     "name": "stdout",
     "output_type": "stream",
     "text": [
      "Epoch 1/1\n",
      "7/7 [==============================] - 0s 27ms/step - loss: 3.1432 - broadcast_1_loss: 1.0000 - broadcast_2_loss: 1.0000 - broadcast_3_loss: 1.0000\n"
     ]
    }
   ],
   "source": [
    "import innvestigate\n",
    "import innvestigate.utils as iutils\n",
    "\n",
    "analyzer_type = \"pattern.attribution\"\n",
    "analyzer_kwargs = {\n",
    "    \"pattern.attribution\":\n",
    "        {\"pattern_type\":\"relu\"},\n",
    "    \"lrp.epsilon\":\n",
    "        {\"epsilon\":1e-3}\n",
    " }\n",
    "\n",
    "model_wo_softmax = dnn\n",
    "# model_wo_softmax = iutils.keras.graph.model_wo_softmax(dnn)\n",
    "\n",
    "analyzer = innvestigate.create_analyzer(analyzer_type, model_wo_softmax,\n",
    "                                        **analyzer_kwargs[analyzer_type])\n",
    "analyzer.fit(X_train, batch_size=20, verbose=1, disable_no_training_warning=True)"
   ]
  },
  {
   "cell_type": "code",
   "execution_count": 54,
   "metadata": {},
   "outputs": [
    {
     "data": {
      "text/plain": [
       "(8, 333)"
      ]
     },
     "execution_count": 54,
     "metadata": {},
     "output_type": "execute_result"
    }
   ],
   "source": [
    "lrp = analyzer.analyze(correct_HR_samples)\n",
    "# pd.DataFrame(relevance_results)\n",
    "lrp.shape"
   ]
  },
  {
   "cell_type": "code",
   "execution_count": 59,
   "metadata": {},
   "outputs": [
    {
     "data": {
      "text/html": [
       "        <script type=\"text/javascript\">\n",
       "        window.PlotlyConfig = {MathJaxConfig: 'local'};\n",
       "        if (window.MathJax) {MathJax.Hub.Config({SVG: {font: \"STIX-Web\"}});}\n",
       "        if (typeof require !== 'undefined') {\n",
       "        require.undef(\"plotly\");\n",
       "        requirejs.config({\n",
       "            paths: {\n",
       "                'plotly': ['https://cdn.plot.ly/plotly-latest.min']\n",
       "            }\n",
       "        });\n",
       "        require(['plotly'], function(Plotly) {\n",
       "            window._Plotly = Plotly;\n",
       "        });\n",
       "        }\n",
       "        </script>\n",
       "        "
      ]
     },
     "metadata": {},
     "output_type": "display_data"
    },
    {
     "data": {
      "application/vnd.plotly.v1+json": {
       "config": {
        "linkText": "Export to plot.ly",
        "plotlyServerURL": "https://plot.ly",
        "showLink": false
       },
       "data": [
        {
         "marker": {
          "color": [
           0,
           0,
           2,
           0,
           0,
           0,
           2,
           0
          ],
          "colorscale": [
           [
            0,
            "rgb(150,0,90)"
           ],
           [
            0.125,
            "rgb(0,0,200)"
           ],
           [
            0.25,
            "rgb(0,25,255)"
           ],
           [
            0.375,
            "rgb(0,152,255)"
           ],
           [
            0.5,
            "rgb(44,255,150)"
           ],
           [
            0.625,
            "rgb(151,255,0)"
           ],
           [
            0.75,
            "rgb(255,234,0)"
           ],
           [
            0.875,
            "rgb(255,111,0)"
           ],
           [
            1,
            "rgb(255,0,0)"
           ]
          ],
          "opacity": 0.8,
          "showscale": true,
          "size": 5
         },
         "mode": "markers",
         "name": "Training",
         "text": [
          "ASD",
          "ASD",
          "ATYPICAL_MULLEN",
          "ASD",
          "ASD",
          "ASD",
          "ATYPICAL_MULLEN",
          "ASD"
         ],
         "type": "scatter3d",
         "x": [
          -8.784817695617676,
          -8.720450401306152,
          -8.870670318603516,
          -9.169198989868164,
          -9.228909492492676,
          -9.223434448242188,
          -8.518290519714355,
          -9.38132381439209
         ],
         "y": [
          -8.696080207824707,
          -6.728479862213135,
          -8.878089904785156,
          -9.337653160095215,
          -6.341676235198975,
          -6.9782609939575195,
          -9.329156875610352,
          -6.986237049102783
         ],
         "z": [
          8.756440162658691,
          9.262170791625977,
          8.09168529510498,
          8.576160430908203,
          9.385619163513184,
          9.822052001953125,
          8.689498901367188,
          9.178065299987793
         ]
        }
       ],
       "layout": {
        "autosize": false,
        "height": 1000,
        "paper_bgcolor": "#F5F5F5",
        "scene": {
         "aspectmode": "auto",
         "aspectratio": {
          "x": 0.5237525641627128,
          "y": 1.8181808352743356,
          "z": 1.0501147583094355
         },
         "camera": {
          "center": {
           "x": 0,
           "y": 0,
           "z": 0
          },
          "eye": {
           "x": 1.4677763823992935,
           "y": 1.4677763823992933,
           "z": 1.4677763823992933
          },
          "projection": {
           "type": "perspective"
          },
          "up": {
           "x": 0,
           "y": 0,
           "z": 1
          }
         }
        },
        "template": {
         "data": {
          "bar": [
           {
            "error_x": {
             "color": "#2a3f5f"
            },
            "error_y": {
             "color": "#2a3f5f"
            },
            "marker": {
             "line": {
              "color": "#E5ECF6",
              "width": 0.5
             }
            },
            "type": "bar"
           }
          ],
          "barpolar": [
           {
            "marker": {
             "line": {
              "color": "#E5ECF6",
              "width": 0.5
             }
            },
            "type": "barpolar"
           }
          ],
          "carpet": [
           {
            "aaxis": {
             "endlinecolor": "#2a3f5f",
             "gridcolor": "white",
             "linecolor": "white",
             "minorgridcolor": "white",
             "startlinecolor": "#2a3f5f"
            },
            "baxis": {
             "endlinecolor": "#2a3f5f",
             "gridcolor": "white",
             "linecolor": "white",
             "minorgridcolor": "white",
             "startlinecolor": "#2a3f5f"
            },
            "type": "carpet"
           }
          ],
          "choropleth": [
           {
            "colorbar": {
             "outlinewidth": 0,
             "ticks": ""
            },
            "type": "choropleth"
           }
          ],
          "contour": [
           {
            "colorbar": {
             "outlinewidth": 0,
             "ticks": ""
            },
            "colorscale": [
             [
              0,
              "#0d0887"
             ],
             [
              0.1111111111111111,
              "#46039f"
             ],
             [
              0.2222222222222222,
              "#7201a8"
             ],
             [
              0.3333333333333333,
              "#9c179e"
             ],
             [
              0.4444444444444444,
              "#bd3786"
             ],
             [
              0.5555555555555556,
              "#d8576b"
             ],
             [
              0.6666666666666666,
              "#ed7953"
             ],
             [
              0.7777777777777778,
              "#fb9f3a"
             ],
             [
              0.8888888888888888,
              "#fdca26"
             ],
             [
              1,
              "#f0f921"
             ]
            ],
            "type": "contour"
           }
          ],
          "contourcarpet": [
           {
            "colorbar": {
             "outlinewidth": 0,
             "ticks": ""
            },
            "type": "contourcarpet"
           }
          ],
          "heatmap": [
           {
            "colorbar": {
             "outlinewidth": 0,
             "ticks": ""
            },
            "colorscale": [
             [
              0,
              "#0d0887"
             ],
             [
              0.1111111111111111,
              "#46039f"
             ],
             [
              0.2222222222222222,
              "#7201a8"
             ],
             [
              0.3333333333333333,
              "#9c179e"
             ],
             [
              0.4444444444444444,
              "#bd3786"
             ],
             [
              0.5555555555555556,
              "#d8576b"
             ],
             [
              0.6666666666666666,
              "#ed7953"
             ],
             [
              0.7777777777777778,
              "#fb9f3a"
             ],
             [
              0.8888888888888888,
              "#fdca26"
             ],
             [
              1,
              "#f0f921"
             ]
            ],
            "type": "heatmap"
           }
          ],
          "heatmapgl": [
           {
            "colorbar": {
             "outlinewidth": 0,
             "ticks": ""
            },
            "colorscale": [
             [
              0,
              "#0d0887"
             ],
             [
              0.1111111111111111,
              "#46039f"
             ],
             [
              0.2222222222222222,
              "#7201a8"
             ],
             [
              0.3333333333333333,
              "#9c179e"
             ],
             [
              0.4444444444444444,
              "#bd3786"
             ],
             [
              0.5555555555555556,
              "#d8576b"
             ],
             [
              0.6666666666666666,
              "#ed7953"
             ],
             [
              0.7777777777777778,
              "#fb9f3a"
             ],
             [
              0.8888888888888888,
              "#fdca26"
             ],
             [
              1,
              "#f0f921"
             ]
            ],
            "type": "heatmapgl"
           }
          ],
          "histogram": [
           {
            "marker": {
             "colorbar": {
              "outlinewidth": 0,
              "ticks": ""
             }
            },
            "type": "histogram"
           }
          ],
          "histogram2d": [
           {
            "colorbar": {
             "outlinewidth": 0,
             "ticks": ""
            },
            "colorscale": [
             [
              0,
              "#0d0887"
             ],
             [
              0.1111111111111111,
              "#46039f"
             ],
             [
              0.2222222222222222,
              "#7201a8"
             ],
             [
              0.3333333333333333,
              "#9c179e"
             ],
             [
              0.4444444444444444,
              "#bd3786"
             ],
             [
              0.5555555555555556,
              "#d8576b"
             ],
             [
              0.6666666666666666,
              "#ed7953"
             ],
             [
              0.7777777777777778,
              "#fb9f3a"
             ],
             [
              0.8888888888888888,
              "#fdca26"
             ],
             [
              1,
              "#f0f921"
             ]
            ],
            "type": "histogram2d"
           }
          ],
          "histogram2dcontour": [
           {
            "colorbar": {
             "outlinewidth": 0,
             "ticks": ""
            },
            "colorscale": [
             [
              0,
              "#0d0887"
             ],
             [
              0.1111111111111111,
              "#46039f"
             ],
             [
              0.2222222222222222,
              "#7201a8"
             ],
             [
              0.3333333333333333,
              "#9c179e"
             ],
             [
              0.4444444444444444,
              "#bd3786"
             ],
             [
              0.5555555555555556,
              "#d8576b"
             ],
             [
              0.6666666666666666,
              "#ed7953"
             ],
             [
              0.7777777777777778,
              "#fb9f3a"
             ],
             [
              0.8888888888888888,
              "#fdca26"
             ],
             [
              1,
              "#f0f921"
             ]
            ],
            "type": "histogram2dcontour"
           }
          ],
          "mesh3d": [
           {
            "colorbar": {
             "outlinewidth": 0,
             "ticks": ""
            },
            "type": "mesh3d"
           }
          ],
          "parcoords": [
           {
            "line": {
             "colorbar": {
              "outlinewidth": 0,
              "ticks": ""
             }
            },
            "type": "parcoords"
           }
          ],
          "scatter": [
           {
            "marker": {
             "colorbar": {
              "outlinewidth": 0,
              "ticks": ""
             }
            },
            "type": "scatter"
           }
          ],
          "scatter3d": [
           {
            "line": {
             "colorbar": {
              "outlinewidth": 0,
              "ticks": ""
             }
            },
            "marker": {
             "colorbar": {
              "outlinewidth": 0,
              "ticks": ""
             }
            },
            "type": "scatter3d"
           }
          ],
          "scattercarpet": [
           {
            "marker": {
             "colorbar": {
              "outlinewidth": 0,
              "ticks": ""
             }
            },
            "type": "scattercarpet"
           }
          ],
          "scattergeo": [
           {
            "marker": {
             "colorbar": {
              "outlinewidth": 0,
              "ticks": ""
             }
            },
            "type": "scattergeo"
           }
          ],
          "scattergl": [
           {
            "marker": {
             "colorbar": {
              "outlinewidth": 0,
              "ticks": ""
             }
            },
            "type": "scattergl"
           }
          ],
          "scattermapbox": [
           {
            "marker": {
             "colorbar": {
              "outlinewidth": 0,
              "ticks": ""
             }
            },
            "type": "scattermapbox"
           }
          ],
          "scatterpolar": [
           {
            "marker": {
             "colorbar": {
              "outlinewidth": 0,
              "ticks": ""
             }
            },
            "type": "scatterpolar"
           }
          ],
          "scatterpolargl": [
           {
            "marker": {
             "colorbar": {
              "outlinewidth": 0,
              "ticks": ""
             }
            },
            "type": "scatterpolargl"
           }
          ],
          "scatterternary": [
           {
            "marker": {
             "colorbar": {
              "outlinewidth": 0,
              "ticks": ""
             }
            },
            "type": "scatterternary"
           }
          ],
          "surface": [
           {
            "colorbar": {
             "outlinewidth": 0,
             "ticks": ""
            },
            "colorscale": [
             [
              0,
              "#0d0887"
             ],
             [
              0.1111111111111111,
              "#46039f"
             ],
             [
              0.2222222222222222,
              "#7201a8"
             ],
             [
              0.3333333333333333,
              "#9c179e"
             ],
             [
              0.4444444444444444,
              "#bd3786"
             ],
             [
              0.5555555555555556,
              "#d8576b"
             ],
             [
              0.6666666666666666,
              "#ed7953"
             ],
             [
              0.7777777777777778,
              "#fb9f3a"
             ],
             [
              0.8888888888888888,
              "#fdca26"
             ],
             [
              1,
              "#f0f921"
             ]
            ],
            "type": "surface"
           }
          ],
          "table": [
           {
            "cells": {
             "fill": {
              "color": "#EBF0F8"
             },
             "line": {
              "color": "white"
             }
            },
            "header": {
             "fill": {
              "color": "#C8D4E3"
             },
             "line": {
              "color": "white"
             }
            },
            "type": "table"
           }
          ]
         },
         "layout": {
          "annotationdefaults": {
           "arrowcolor": "#2a3f5f",
           "arrowhead": 0,
           "arrowwidth": 1
          },
          "colorscale": {
           "diverging": [
            [
             0,
             "#8e0152"
            ],
            [
             0.1,
             "#c51b7d"
            ],
            [
             0.2,
             "#de77ae"
            ],
            [
             0.3,
             "#f1b6da"
            ],
            [
             0.4,
             "#fde0ef"
            ],
            [
             0.5,
             "#f7f7f7"
            ],
            [
             0.6,
             "#e6f5d0"
            ],
            [
             0.7,
             "#b8e186"
            ],
            [
             0.8,
             "#7fbc41"
            ],
            [
             0.9,
             "#4d9221"
            ],
            [
             1,
             "#276419"
            ]
           ],
           "sequential": [
            [
             0,
             "#0d0887"
            ],
            [
             0.1111111111111111,
             "#46039f"
            ],
            [
             0.2222222222222222,
             "#7201a8"
            ],
            [
             0.3333333333333333,
             "#9c179e"
            ],
            [
             0.4444444444444444,
             "#bd3786"
            ],
            [
             0.5555555555555556,
             "#d8576b"
            ],
            [
             0.6666666666666666,
             "#ed7953"
            ],
            [
             0.7777777777777778,
             "#fb9f3a"
            ],
            [
             0.8888888888888888,
             "#fdca26"
            ],
            [
             1,
             "#f0f921"
            ]
           ],
           "sequentialminus": [
            [
             0,
             "#0d0887"
            ],
            [
             0.1111111111111111,
             "#46039f"
            ],
            [
             0.2222222222222222,
             "#7201a8"
            ],
            [
             0.3333333333333333,
             "#9c179e"
            ],
            [
             0.4444444444444444,
             "#bd3786"
            ],
            [
             0.5555555555555556,
             "#d8576b"
            ],
            [
             0.6666666666666666,
             "#ed7953"
            ],
            [
             0.7777777777777778,
             "#fb9f3a"
            ],
            [
             0.8888888888888888,
             "#fdca26"
            ],
            [
             1,
             "#f0f921"
            ]
           ]
          },
          "colorway": [
           "#636efa",
           "#EF553B",
           "#00cc96",
           "#ab63fa",
           "#FFA15A",
           "#19d3f3",
           "#FF6692",
           "#B6E880",
           "#FF97FF",
           "#FECB52"
          ],
          "font": {
           "color": "#2a3f5f"
          },
          "geo": {
           "bgcolor": "white",
           "lakecolor": "white",
           "landcolor": "#E5ECF6",
           "showlakes": true,
           "showland": true,
           "subunitcolor": "white"
          },
          "hoverlabel": {
           "align": "left"
          },
          "hovermode": "closest",
          "mapbox": {
           "style": "light"
          },
          "paper_bgcolor": "white",
          "plot_bgcolor": "#E5ECF6",
          "polar": {
           "angularaxis": {
            "gridcolor": "white",
            "linecolor": "white",
            "ticks": ""
           },
           "bgcolor": "#E5ECF6",
           "radialaxis": {
            "gridcolor": "white",
            "linecolor": "white",
            "ticks": ""
           }
          },
          "scene": {
           "xaxis": {
            "backgroundcolor": "#E5ECF6",
            "gridcolor": "white",
            "gridwidth": 2,
            "linecolor": "white",
            "showbackground": true,
            "ticks": "",
            "zerolinecolor": "white"
           },
           "yaxis": {
            "backgroundcolor": "#E5ECF6",
            "gridcolor": "white",
            "gridwidth": 2,
            "linecolor": "white",
            "showbackground": true,
            "ticks": "",
            "zerolinecolor": "white"
           },
           "zaxis": {
            "backgroundcolor": "#E5ECF6",
            "gridcolor": "white",
            "gridwidth": 2,
            "linecolor": "white",
            "showbackground": true,
            "ticks": "",
            "zerolinecolor": "white"
           }
          },
          "shapedefaults": {
           "line": {
            "color": "#2a3f5f"
           }
          },
          "ternary": {
           "aaxis": {
            "gridcolor": "white",
            "linecolor": "white",
            "ticks": ""
           },
           "baxis": {
            "gridcolor": "white",
            "linecolor": "white",
            "ticks": ""
           },
           "bgcolor": "#E5ECF6",
           "caxis": {
            "gridcolor": "white",
            "linecolor": "white",
            "ticks": ""
           }
          },
          "title": {
           "x": 0.05
          },
          "xaxis": {
           "automargin": true,
           "gridcolor": "white",
           "linecolor": "white",
           "ticks": "",
           "zerolinecolor": "white",
           "zerolinewidth": 2
          },
          "yaxis": {
           "automargin": true,
           "gridcolor": "white",
           "linecolor": "white",
           "ticks": "",
           "zerolinecolor": "white",
           "zerolinewidth": 2
          }
         }
        },
        "title": {
         "text": "3D LRP Embedding"
        },
        "width": 1200
       }
      },
      "image/png": "[encoded data removed]",
      "text/html": [
       "<div>\n",
       "        \n",
       "        \n",
       "            <div id=\"021769ce-3851-4c3a-90e4-188c8a1a8f42\" class=\"plotly-graph-div\" style=\"height:1000px; width:1200px;\"></div>\n",
       "            <script type=\"text/javascript\">\n",
       "                require([\"plotly\"], function(Plotly) {\n",
       "                    window.PLOTLYENV=window.PLOTLYENV || {};\n",
       "                    \n",
       "                if (document.getElementById(\"021769ce-3851-4c3a-90e4-188c8a1a8f42\")) {\n",
       "                    Plotly.newPlot(\n",
       "                        '021769ce-3851-4c3a-90e4-188c8a1a8f42',\n",
       "                        [{\"marker\": {\"color\": [0.0, 0.0, 2.0, 0.0, 0.0, 0.0, 2.0, 0.0], \"colorscale\": [[0.0, \"rgb(150,0,90)\"], [0.125, \"rgb(0,0,200)\"], [0.25, \"rgb(0,25,255)\"], [0.375, \"rgb(0,152,255)\"], [0.5, \"rgb(44,255,150)\"], [0.625, \"rgb(151,255,0)\"], [0.75, \"rgb(255,234,0)\"], [0.875, \"rgb(255,111,0)\"], [1.0, \"rgb(255,0,0)\"]], \"opacity\": 0.8, \"showscale\": true, \"size\": 5}, \"mode\": \"markers\", \"name\": \"Training\", \"text\": [\"ASD\", \"ASD\", \"ATYPICAL_MULLEN\", \"ASD\", \"ASD\", \"ASD\", \"ATYPICAL_MULLEN\", \"ASD\"], \"type\": \"scatter3d\", \"x\": [-8.784817695617676, -8.720450401306152, -8.870670318603516, -9.169198989868164, -9.228909492492676, -9.223434448242188, -8.518290519714355, -9.38132381439209], \"y\": [-8.696080207824707, -6.728479862213135, -8.878089904785156, -9.337653160095215, -6.341676235198975, -6.9782609939575195, -9.329156875610352, -6.986237049102783], \"z\": [8.756440162658691, 9.262170791625977, 8.09168529510498, 8.576160430908203, 9.385619163513184, 9.822052001953125, 8.689498901367188, 9.178065299987793]}],\n",
       "                        {\"autosize\": false, \"height\": 1000, \"paper_bgcolor\": \"#F5F5F5\", \"template\": {\"data\": {\"bar\": [{\"error_x\": {\"color\": \"#2a3f5f\"}, \"error_y\": {\"color\": \"#2a3f5f\"}, \"marker\": {\"line\": {\"color\": \"#E5ECF6\", \"width\": 0.5}}, \"type\": \"bar\"}], \"barpolar\": [{\"marker\": {\"line\": {\"color\": \"#E5ECF6\", \"width\": 0.5}}, \"type\": \"barpolar\"}], \"carpet\": [{\"aaxis\": {\"endlinecolor\": \"#2a3f5f\", \"gridcolor\": \"white\", \"linecolor\": \"white\", \"minorgridcolor\": \"white\", \"startlinecolor\": \"#2a3f5f\"}, \"baxis\": {\"endlinecolor\": \"#2a3f5f\", \"gridcolor\": \"white\", \"linecolor\": \"white\", \"minorgridcolor\": \"white\", \"startlinecolor\": \"#2a3f5f\"}, \"type\": \"carpet\"}], \"choropleth\": [{\"colorbar\": {\"outlinewidth\": 0, \"ticks\": \"\"}, \"type\": \"choropleth\"}], \"contour\": [{\"colorbar\": {\"outlinewidth\": 0, \"ticks\": \"\"}, \"colorscale\": [[0.0, \"#0d0887\"], [0.1111111111111111, \"#46039f\"], [0.2222222222222222, \"#7201a8\"], [0.3333333333333333, \"#9c179e\"], [0.4444444444444444, \"#bd3786\"], [0.5555555555555556, \"#d8576b\"], [0.6666666666666666, \"#ed7953\"], [0.7777777777777778, \"#fb9f3a\"], [0.8888888888888888, \"#fdca26\"], [1.0, \"#f0f921\"]], \"type\": \"contour\"}], \"contourcarpet\": [{\"colorbar\": {\"outlinewidth\": 0, \"ticks\": \"\"}, \"type\": \"contourcarpet\"}], \"heatmap\": [{\"colorbar\": {\"outlinewidth\": 0, \"ticks\": \"\"}, \"colorscale\": [[0.0, \"#0d0887\"], [0.1111111111111111, \"#46039f\"], [0.2222222222222222, \"#7201a8\"], [0.3333333333333333, \"#9c179e\"], [0.4444444444444444, \"#bd3786\"], [0.5555555555555556, \"#d8576b\"], [0.6666666666666666, \"#ed7953\"], [0.7777777777777778, \"#fb9f3a\"], [0.8888888888888888, \"#fdca26\"], [1.0, \"#f0f921\"]], \"type\": \"heatmap\"}], \"heatmapgl\": [{\"colorbar\": {\"outlinewidth\": 0, \"ticks\": \"\"}, \"colorscale\": [[0.0, \"#0d0887\"], [0.1111111111111111, \"#46039f\"], [0.2222222222222222, \"#7201a8\"], [0.3333333333333333, \"#9c179e\"], [0.4444444444444444, \"#bd3786\"], [0.5555555555555556, \"#d8576b\"], [0.6666666666666666, \"#ed7953\"], [0.7777777777777778, \"#fb9f3a\"], [0.8888888888888888, \"#fdca26\"], [1.0, \"#f0f921\"]], \"type\": \"heatmapgl\"}], \"histogram\": [{\"marker\": {\"colorbar\": {\"outlinewidth\": 0, \"ticks\": \"\"}}, \"type\": \"histogram\"}], \"histogram2d\": [{\"colorbar\": {\"outlinewidth\": 0, \"ticks\": \"\"}, \"colorscale\": [[0.0, \"#0d0887\"], [0.1111111111111111, \"#46039f\"], [0.2222222222222222, \"#7201a8\"], [0.3333333333333333, \"#9c179e\"], [0.4444444444444444, \"#bd3786\"], [0.5555555555555556, \"#d8576b\"], [0.6666666666666666, \"#ed7953\"], [0.7777777777777778, \"#fb9f3a\"], [0.8888888888888888, \"#fdca26\"], [1.0, \"#f0f921\"]], \"type\": \"histogram2d\"}], \"histogram2dcontour\": [{\"colorbar\": {\"outlinewidth\": 0, \"ticks\": \"\"}, \"colorscale\": [[0.0, \"#0d0887\"], [0.1111111111111111, \"#46039f\"], [0.2222222222222222, \"#7201a8\"], [0.3333333333333333, \"#9c179e\"], [0.4444444444444444, \"#bd3786\"], [0.5555555555555556, \"#d8576b\"], [0.6666666666666666, \"#ed7953\"], [0.7777777777777778, \"#fb9f3a\"], [0.8888888888888888, \"#fdca26\"], [1.0, \"#f0f921\"]], \"type\": \"histogram2dcontour\"}], \"mesh3d\": [{\"colorbar\": {\"outlinewidth\": 0, \"ticks\": \"\"}, \"type\": \"mesh3d\"}], \"parcoords\": [{\"line\": {\"colorbar\": {\"outlinewidth\": 0, \"ticks\": \"\"}}, \"type\": \"parcoords\"}], \"scatter\": [{\"marker\": {\"colorbar\": {\"outlinewidth\": 0, \"ticks\": \"\"}}, \"type\": \"scatter\"}], \"scatter3d\": [{\"line\": {\"colorbar\": {\"outlinewidth\": 0, \"ticks\": \"\"}}, \"marker\": {\"colorbar\": {\"outlinewidth\": 0, \"ticks\": \"\"}}, \"type\": \"scatter3d\"}], \"scattercarpet\": [{\"marker\": {\"colorbar\": {\"outlinewidth\": 0, \"ticks\": \"\"}}, \"type\": \"scattercarpet\"}], \"scattergeo\": [{\"marker\": {\"colorbar\": {\"outlinewidth\": 0, \"ticks\": \"\"}}, \"type\": \"scattergeo\"}], \"scattergl\": [{\"marker\": {\"colorbar\": {\"outlinewidth\": 0, \"ticks\": \"\"}}, \"type\": \"scattergl\"}], \"scattermapbox\": [{\"marker\": {\"colorbar\": {\"outlinewidth\": 0, \"ticks\": \"\"}}, \"type\": \"scattermapbox\"}], \"scatterpolar\": [{\"marker\": {\"colorbar\": {\"outlinewidth\": 0, \"ticks\": \"\"}}, \"type\": \"scatterpolar\"}], \"scatterpolargl\": [{\"marker\": {\"colorbar\": {\"outlinewidth\": 0, \"ticks\": \"\"}}, \"type\": \"scatterpolargl\"}], \"scatterternary\": [{\"marker\": {\"colorbar\": {\"outlinewidth\": 0, \"ticks\": \"\"}}, \"type\": \"scatterternary\"}], \"surface\": [{\"colorbar\": {\"outlinewidth\": 0, \"ticks\": \"\"}, \"colorscale\": [[0.0, \"#0d0887\"], [0.1111111111111111, \"#46039f\"], [0.2222222222222222, \"#7201a8\"], [0.3333333333333333, \"#9c179e\"], [0.4444444444444444, \"#bd3786\"], [0.5555555555555556, \"#d8576b\"], [0.6666666666666666, \"#ed7953\"], [0.7777777777777778, \"#fb9f3a\"], [0.8888888888888888, \"#fdca26\"], [1.0, \"#f0f921\"]], \"type\": \"surface\"}], \"table\": [{\"cells\": {\"fill\": {\"color\": \"#EBF0F8\"}, \"line\": {\"color\": \"white\"}}, \"header\": {\"fill\": {\"color\": \"#C8D4E3\"}, \"line\": {\"color\": \"white\"}}, \"type\": \"table\"}]}, \"layout\": {\"annotationdefaults\": {\"arrowcolor\": \"#2a3f5f\", \"arrowhead\": 0, \"arrowwidth\": 1}, \"colorscale\": {\"diverging\": [[0, \"#8e0152\"], [0.1, \"#c51b7d\"], [0.2, \"#de77ae\"], [0.3, \"#f1b6da\"], [0.4, \"#fde0ef\"], [0.5, \"#f7f7f7\"], [0.6, \"#e6f5d0\"], [0.7, \"#b8e186\"], [0.8, \"#7fbc41\"], [0.9, \"#4d9221\"], [1, \"#276419\"]], \"sequential\": [[0.0, \"#0d0887\"], [0.1111111111111111, \"#46039f\"], [0.2222222222222222, \"#7201a8\"], [0.3333333333333333, \"#9c179e\"], [0.4444444444444444, \"#bd3786\"], [0.5555555555555556, \"#d8576b\"], [0.6666666666666666, \"#ed7953\"], [0.7777777777777778, \"#fb9f3a\"], [0.8888888888888888, \"#fdca26\"], [1.0, \"#f0f921\"]], \"sequentialminus\": [[0.0, \"#0d0887\"], [0.1111111111111111, \"#46039f\"], [0.2222222222222222, \"#7201a8\"], [0.3333333333333333, \"#9c179e\"], [0.4444444444444444, \"#bd3786\"], [0.5555555555555556, \"#d8576b\"], [0.6666666666666666, \"#ed7953\"], [0.7777777777777778, \"#fb9f3a\"], [0.8888888888888888, \"#fdca26\"], [1.0, \"#f0f921\"]]}, \"colorway\": [\"#636efa\", \"#EF553B\", \"#00cc96\", \"#ab63fa\", \"#FFA15A\", \"#19d3f3\", \"#FF6692\", \"#B6E880\", \"#FF97FF\", \"#FECB52\"], \"font\": {\"color\": \"#2a3f5f\"}, \"geo\": {\"bgcolor\": \"white\", \"lakecolor\": \"white\", \"landcolor\": \"#E5ECF6\", \"showlakes\": true, \"showland\": true, \"subunitcolor\": \"white\"}, \"hoverlabel\": {\"align\": \"left\"}, \"hovermode\": \"closest\", \"mapbox\": {\"style\": \"light\"}, \"paper_bgcolor\": \"white\", \"plot_bgcolor\": \"#E5ECF6\", \"polar\": {\"angularaxis\": {\"gridcolor\": \"white\", \"linecolor\": \"white\", \"ticks\": \"\"}, \"bgcolor\": \"#E5ECF6\", \"radialaxis\": {\"gridcolor\": \"white\", \"linecolor\": \"white\", \"ticks\": \"\"}}, \"scene\": {\"xaxis\": {\"backgroundcolor\": \"#E5ECF6\", \"gridcolor\": \"white\", \"gridwidth\": 2, \"linecolor\": \"white\", \"showbackground\": true, \"ticks\": \"\", \"zerolinecolor\": \"white\"}, \"yaxis\": {\"backgroundcolor\": \"#E5ECF6\", \"gridcolor\": \"white\", \"gridwidth\": 2, \"linecolor\": \"white\", \"showbackground\": true, \"ticks\": \"\", \"zerolinecolor\": \"white\"}, \"zaxis\": {\"backgroundcolor\": \"#E5ECF6\", \"gridcolor\": \"white\", \"gridwidth\": 2, \"linecolor\": \"white\", \"showbackground\": true, \"ticks\": \"\", \"zerolinecolor\": \"white\"}}, \"shapedefaults\": {\"line\": {\"color\": \"#2a3f5f\"}}, \"ternary\": {\"aaxis\": {\"gridcolor\": \"white\", \"linecolor\": \"white\", \"ticks\": \"\"}, \"baxis\": {\"gridcolor\": \"white\", \"linecolor\": \"white\", \"ticks\": \"\"}, \"bgcolor\": \"#E5ECF6\", \"caxis\": {\"gridcolor\": \"white\", \"linecolor\": \"white\", \"ticks\": \"\"}}, \"title\": {\"x\": 0.05}, \"xaxis\": {\"automargin\": true, \"gridcolor\": \"white\", \"linecolor\": \"white\", \"ticks\": \"\", \"zerolinecolor\": \"white\", \"zerolinewidth\": 2}, \"yaxis\": {\"automargin\": true, \"gridcolor\": \"white\", \"linecolor\": \"white\", \"ticks\": \"\", \"zerolinecolor\": \"white\", \"zerolinewidth\": 2}}}, \"title\": {\"text\": \"3D LRP Embedding\"}, \"width\": 1200},\n",
       "                        {\"responsive\": true}\n",
       "                    ).then(function(){\n",
       "                            \n",
       "var gd = document.getElementById('021769ce-3851-4c3a-90e4-188c8a1a8f42');\n",
       "var x = new MutationObserver(function (mutations, observer) {{\n",
       "        var display = window.getComputedStyle(gd).display;\n",
       "        if (!display || display === 'none') {{\n",
       "            console.log([gd, 'removed!']);\n",
       "            Plotly.purge(gd);\n",
       "            observer.disconnect();\n",
       "        }}\n",
       "}});\n",
       "\n",
       "// Listen for the removal of the full notebook cells\n",
       "var notebookContainer = gd.closest('#notebook-container');\n",
       "if (notebookContainer) {{\n",
       "    x.observe(notebookContainer, {childList: true});\n",
       "}}\n",
       "\n",
       "// Listen for the clearing of the current output cell\n",
       "var outputEl = gd.closest('.output');\n",
       "if (outputEl) {{\n",
       "    x.observe(outputEl, {childList: true});\n",
       "}}\n",
       "\n",
       "                        })\n",
       "                };\n",
       "                });\n",
       "            </script>\n",
       "        </div>"
      ]
     },
     "metadata": {},
     "output_type": "display_data"
    }
   ],
   "source": [
    "from sklearn.preprocessing import MinMaxScaler\n",
    "from helper import plot_3d_lrp\n",
    "\n",
    "reducer = umap.UMAP(random_state=42,\n",
    "                    n_components = 3,\n",
    "                    n_neighbors=6,\n",
    "                    min_dist=0)\n",
    "\n",
    "reducer_pipeline = Pipeline([\n",
    "            (\"umap\", reducer),\n",
    "#             (\"scaler\",  MinMaxScaler())\n",
    "])\n",
    "\n",
    "reducer_pipeline.fit(lrp)\n",
    "embeddings = reducer_pipeline.transform(lrp)\n",
    "plot_3d_lrp(embeddings, colors= enc.transform(_labels.reshape(-1,1))[:,0], labels=_labels )"
   ]
  },
  {
   "cell_type": "markdown",
   "metadata": {},
   "source": [
    "### Cross Validating"
   ]
  },
  {
   "cell_type": "code",
   "execution_count": 18,
   "metadata": {},
   "outputs": [],
   "source": [
    "# Separating a hold out set that will be used for validation of the pipeline\n",
    "# train_data, train_labels, test_data, test_labels = split_valid(data, risk_labels, valid_size=0.01)\n",
    "train_data, train_labels, test_data, test_labels = data, risk_labels, [], []"
   ]
  },
  {
   "cell_type": "code",
   "execution_count": 19,
   "metadata": {},
   "outputs": [],
   "source": [
    "reducer = umap.UMAP(random_state=42,\n",
    "                    n_components = 10,\n",
    "                    n_neighbors=5,\n",
    "                    min_dist=0)"
   ]
  },
  {
   "cell_type": "code",
   "execution_count": 20,
   "metadata": {},
   "outputs": [
    {
     "name": "stdout",
     "output_type": "stream",
     "text": [
      "WARNING:tensorflow:From /Users/Work/anaconda3/envs/condatensor/lib/python3.6/site-packages/tensorflow/python/framework/op_def_library.py:263: colocate_with (from tensorflow.python.framework.ops) is deprecated and will be removed in a future version.\n",
      "Instructions for updating:\n",
      "Colocations handled automatically by placer.\n",
      "WARNING:tensorflow:From /Users/Work/anaconda3/envs/condatensor/lib/python3.6/site-packages/keras/backend/tensorflow_backend.py:3445: calling dropout (from tensorflow.python.ops.nn_ops) with keep_prob is deprecated and will be removed in a future version.\n",
      "Instructions for updating:\n",
      "Please use `rate` instead of `keep_prob`. Rate should be set to `rate = 1 - keep_prob`.\n"
     ]
    },
    {
     "name": "stderr",
     "output_type": "stream",
     "text": [
      "Using TensorFlow backend.\n"
     ]
    }
   ],
   "source": [
    "dnn = build_dnn(num_features=data.shape[1], num_labels=1, activation=\"relu\")\n",
    "pipeline = ClusterPipeline(dnn, [train_data, train_labels], [test_data, test_labels],\n",
    "                           target_class=0, reducer=reducer, softmax=False, analyzer_type=\"pattern.attribution\")"
   ]
  },
  {
   "cell_type": "code",
   "execution_count": 21,
   "metadata": {},
   "outputs": [
    {
     "name": "stdout",
     "output_type": "stream",
     "text": [
      "Running Serial Crossvalidation\n",
      "Running worker: 0\n",
      "WARNING:tensorflow:From /Users/Work/anaconda3/envs/condatensor/lib/python3.6/site-packages/tensorflow/python/ops/math_ops.py:3066: to_int32 (from tensorflow.python.ops.math_ops) is deprecated and will be removed in a future version.\n",
      "Instructions for updating:\n",
      "Use tf.cast instead.\n",
      "Fold: 0 -> Loss:0.162, Acc:1.0000\n",
      "Prediction Accuracy\n",
      "17/17 [==============================] - 0s 3ms/step\n",
      "Scores on data set: loss=0.964 accuracy=0.7059\n",
      "Fold Correct: 12\n",
      "Epoch 1/1\n",
      "8/8 [==============================] - 0s 26ms/step - loss: 3.2808 - broadcast_1_loss: 1.0000 - broadcast_2_loss: 1.0000 - broadcast_3_loss: 1.0000\n",
      "WARNING:tensorflow:From /Users/Work/anaconda3/envs/condatensor/lib/python3.6/site-packages/tensorflow/python/ops/math_grad.py:102: div (from tensorflow.python.ops.math_ops) is deprecated and will be removed in a future version.\n",
      "Instructions for updating:\n",
      "Deprecated in favor of operator or tf.math.divide.\n",
      "Running worker: 1\n",
      "Fold: 1 -> Loss:0.161, Acc:1.0000\n",
      "Prediction Accuracy\n",
      "17/17 [==============================] - 0s 31us/step\n",
      "Scores on data set: loss=1.433 accuracy=0.5294\n",
      "Fold Correct: 9\n",
      "Epoch 1/1\n",
      "8/8 [==============================] - 0s 30ms/step - loss: 3.2812 - broadcast_4_loss: 1.0000 - broadcast_5_loss: 1.0000 - broadcast_6_loss: 1.0000\n",
      "Running worker: 2\n",
      "Fold: 2 -> Loss:0.163, Acc:1.0000\n",
      "Prediction Accuracy\n",
      "17/17 [==============================] - 0s 36us/step\n",
      "Scores on data set: loss=0.971 accuracy=0.5882\n",
      "Fold Correct: 10\n",
      "Epoch 1/1\n",
      "8/8 [==============================] - 0s 34ms/step - loss: 3.2837 - broadcast_7_loss: 1.0000 - broadcast_8_loss: 1.0000 - broadcast_9_loss: 1.0000\n",
      "Running worker: 3\n",
      "Fold: 3 -> Loss:0.159, Acc:1.0000\n",
      "Prediction Accuracy\n",
      "17/17 [==============================] - 0s 31us/step\n",
      "Scores on data set: loss=2.057 accuracy=0.4118\n",
      "Fold Correct: 7\n",
      "Epoch 1/1\n",
      "8/8 [==============================] - 0s 42ms/step - loss: 3.2777 - broadcast_10_loss: 1.0000 - broadcast_11_loss: 1.0000 - broadcast_12_loss: 1.0000\n",
      "Running worker: 4\n",
      "Fold: 4 -> Loss:0.162, Acc:1.0000\n",
      "Prediction Accuracy\n",
      "17/17 [==============================] - 0s 26us/step\n",
      "Scores on data set: loss=1.010 accuracy=0.6471\n",
      "Fold Correct: 11\n",
      "Epoch 1/1\n",
      "8/8 [==============================] - 0s 46ms/step - loss: 3.2823 - broadcast_13_loss: 1.0000 - broadcast_14_loss: 1.0000 - broadcast_15_loss: 1.0000\n",
      "Running worker: 5\n",
      "Fold: 5 -> Loss:0.160, Acc:1.0000\n",
      "Prediction Accuracy\n",
      "16/16 [==============================] - 0s 40us/step\n",
      "Scores on data set: loss=0.820 accuracy=0.7500\n",
      "Fold Correct: 12\n",
      "Epoch 1/1\n",
      "8/8 [==============================] - 0s 52ms/step - loss: 3.2826 - broadcast_16_loss: 1.0000 - broadcast_17_loss: 1.0000 - broadcast_18_loss: 1.0000\n",
      "Running worker: 6\n",
      "Fold: 6 -> Loss:0.164, Acc:1.0000\n",
      "Prediction Accuracy\n",
      "16/16 [==============================] - 0s 31us/step\n",
      "Scores on data set: loss=0.494 accuracy=0.8750\n",
      "Fold Correct: 14\n",
      "Epoch 1/1\n",
      "8/8 [==============================] - 0s 57ms/step - loss: 3.2862 - broadcast_19_loss: 1.0000 - broadcast_20_loss: 1.0000 - broadcast_21_loss: 1.0000\n",
      "Running worker: 7\n",
      "Fold: 7 -> Loss:0.161, Acc:1.0000\n",
      "Prediction Accuracy\n",
      "16/16 [==============================] - 0s 44us/step\n",
      "Scores on data set: loss=1.333 accuracy=0.5000\n",
      "Fold Correct: 8\n",
      "Epoch 1/1\n",
      "8/8 [==============================] - 1s 77ms/step - loss: 3.2806 - broadcast_22_loss: 1.0000 - broadcast_23_loss: 1.0000 - broadcast_24_loss: 1.0000\n",
      "Running worker: 8\n",
      "Fold: 8 -> Loss:0.165, Acc:1.0000\n",
      "Prediction Accuracy\n",
      "16/16 [==============================] - 0s 42us/step\n",
      "Scores on data set: loss=0.836 accuracy=0.6250\n",
      "Fold Correct: 10\n",
      "Epoch 1/1\n",
      "8/8 [==============================] - 1s 70ms/step - loss: 3.2833 - broadcast_25_loss: 1.0000 - broadcast_26_loss: 1.0000 - broadcast_27_loss: 1.0000\n",
      "Running worker: 9\n",
      "Fold: 9 -> Loss:0.164, Acc:1.0000\n",
      "Prediction Accuracy\n",
      "15/15 [==============================] - 0s 43us/step\n",
      "Scores on data set: loss=0.700 accuracy=0.7333\n",
      "Fold Correct: 11\n",
      "Epoch 1/1\n",
      "8/8 [==============================] - 1s 72ms/step - loss: 3.2839 - broadcast_28_loss: 1.0000 - broadcast_29_loss: 1.0000 - broadcast_30_loss: 1.0000\n",
      "Runtime: 198.479s\n",
      "Correct: 104\n",
      "Test Size: 164\n",
      "Confusion matrix, without normalization\n",
      "[[0.44615385 0.55384615]\n",
      " [0.24242424 0.75757576]]\n",
      "Overall Accuracy: 0.6341\n",
      "Loading LRP Analyzers...\n",
      "Epoch 1/1\n",
      "9/9 [==============================] - 1s 78ms/step - loss: 3.2808 - broadcast_31_loss: 1.0000 - broadcast_32_loss: 1.0000 - broadcast_33_loss: 1.0000\n",
      "Epoch 1/1\n",
      "9/9 [==============================] - 1s 80ms/step - loss: 3.2812 - broadcast_34_loss: 1.0000 - broadcast_35_loss: 1.0000 - broadcast_36_loss: 1.0000\n",
      "Epoch 1/1\n",
      "9/9 [==============================] - 1s 88ms/step - loss: 3.2837 - broadcast_37_loss: 1.0000 - broadcast_38_loss: 1.0000 - broadcast_39_loss: 1.0000\n",
      "Epoch 1/1\n",
      "9/9 [==============================] - 1s 87ms/step - loss: 3.2777 - broadcast_40_loss: 1.0000 - broadcast_41_loss: 1.0000 - broadcast_42_loss: 1.0000\n",
      "Epoch 1/1\n",
      "9/9 [==============================] - 1s 86ms/step - loss: 3.2823 - broadcast_43_loss: 1.0000 - broadcast_44_loss: 1.0000 - broadcast_45_loss: 1.0000\n",
      "Epoch 1/1\n",
      "9/9 [==============================] - 1s 86ms/step - loss: 3.2826 - broadcast_46_loss: 1.0000 - broadcast_47_loss: 1.0000 - broadcast_48_loss: 1.0000\n",
      "Epoch 1/1\n",
      "9/9 [==============================] - 1s 91ms/step - loss: 3.2862 - broadcast_49_loss: 1.0000 - broadcast_50_loss: 1.0000 - broadcast_51_loss: 1.0000\n",
      "Epoch 1/1\n",
      "9/9 [==============================] - 1s 96ms/step - loss: 3.2806 - broadcast_52_loss: 1.0000 - broadcast_53_loss: 1.0000 - broadcast_54_loss: 1.0000\n",
      "Epoch 1/1\n",
      "9/9 [==============================] - 1s 97ms/step - loss: 3.2833 - broadcast_55_loss: 1.0000 - broadcast_56_loss: 1.0000 - broadcast_57_loss: 1.0000\n",
      "Epoch 1/1\n",
      "9/9 [==============================] - 1s 101ms/step - loss: 3.2839 - broadcast_58_loss: 1.0000 - broadcast_59_loss: 1.0000 - broadcast_60_loss: 1.0000\n",
      "Done!\n"
     ]
    },
    {
     "data": {
      "image/png": "[encoded data removed]",
      "text/plain": [
       "<Figure size 576x576 with 2 Axes>"
      ]
     },
     "metadata": {
      "needs_background": "light"
     },
     "output_type": "display_data"
    }
   ],
   "source": [
    "cm = pipeline.train_model(batch_size=int(0.9*train_data.shape[0]), epochs=5000,\n",
    "                          cross_validation=True, smote=True)"
   ]
  },
  {
   "cell_type": "code",
   "execution_count": 84,
   "metadata": {},
   "outputs": [
    {
     "data": {
      "text/plain": [
       "27"
      ]
     },
     "execution_count": 84,
     "metadata": {},
     "output_type": "execute_result"
    }
   ],
   "source": [
    "cm[0][0]"
   ]
  },
  {
   "cell_type": "code",
   "execution_count": 22,
   "metadata": {},
   "outputs": [
    {
     "name": "stdout",
     "output_type": "stream",
     "text": [
      "LRP Shape:  (29, 333)\n",
      "Cluster Search Space: range(3, 9)\n",
      "Minimum Size:\n",
      "Clusters                  (6, 6)\n",
      "Noise                     (3, 3)\n",
      "Halkidi                   (3, 3)\n",
      "Halkidi-Filtered Noise    (3, 3)\n",
      "dtype: object\n",
      "Clusters Found: 2\n"
     ]
    }
   ],
   "source": [
    "from sklearn.preprocessing import MinMaxScaler\n",
    "reducer = umap.UMAP(random_state=42,\n",
    "                    n_components = 20,\n",
    "                    n_neighbors=6,\n",
    "                    min_dist=0)\n",
    "\n",
    "pipeline.reducer_pipeline = Pipeline([\n",
    "            (\"umap\", reducer),\n",
    "            (\"scaler\",  MinMaxScaler())\n",
    "        ])\n",
    "\n",
    "_, correct_pred_idxs = pipeline.train_clusterer(plot=False, class_label=0, clip=True)\n",
    "print(\"Clusters Found:\", max(pipeline.clusterer.labels_)+1)"
   ]
  },
  {
   "cell_type": "code",
   "execution_count": 23,
   "metadata": {},
   "outputs": [
    {
     "data": {
      "text/plain": [
       "0.0033582007"
      ]
     },
     "execution_count": 23,
     "metadata": {},
     "output_type": "execute_result"
    }
   ],
   "source": [
    "np.max(pipeline.training_lrp)"
   ]
  },
  {
   "cell_type": "code",
   "execution_count": 24,
   "metadata": {},
   "outputs": [
    {
     "data": {
      "text/plain": [
       "(164,)"
      ]
     },
     "execution_count": 24,
     "metadata": {},
     "output_type": "execute_result"
    }
   ],
   "source": [
    "reindexed_labels = train_labels.iloc[pipeline.testing_idxs]\n",
    "correct_idxs = pipeline.correct_preds_bool_arr\n",
    "reindexed_labels.shape"
   ]
  },
  {
   "cell_type": "code",
   "execution_count": 25,
   "metadata": {},
   "outputs": [],
   "source": [
    "_correct=analysis_labels.loc[reindexed_labels[correct_idxs].index]\n",
    "correct_HR = _correct[_correct[\"Risk\"]==\"HR\"]\n",
    "# enc.transform(correct_HR)[:,0]"
   ]
  },
  {
   "cell_type": "code",
   "execution_count": 28,
   "metadata": {},
   "outputs": [
    {
     "data": {
      "text/html": [
       "        <script type=\"text/javascript\">\n",
       "        window.PlotlyConfig = {MathJaxConfig: 'local'};\n",
       "        if (window.MathJax) {MathJax.Hub.Config({SVG: {font: \"STIX-Web\"}});}\n",
       "        if (typeof require !== 'undefined') {\n",
       "        require.undef(\"plotly\");\n",
       "        requirejs.config({\n",
       "            paths: {\n",
       "                'plotly': ['https://cdn.plot.ly/plotly-latest.min']\n",
       "            }\n",
       "        });\n",
       "        require(['plotly'], function(Plotly) {\n",
       "            window._Plotly = Plotly;\n",
       "        });\n",
       "        }\n",
       "        </script>\n",
       "        "
      ]
     },
     "metadata": {},
     "output_type": "display_data"
    },
    {
     "data": {
      "application/vnd.plotly.v1+json": {
       "config": {
        "linkText": "Export to plot.ly",
        "plotlyServerURL": "https://plot.ly",
        "showLink": false
       },
       "data": [
        {
         "marker": {
          "color": [
           1,
           1,
           1,
           1,
           1,
           0,
           0,
           0,
           1,
           1,
           1,
           0,
           1,
           1,
           1,
           1,
           1,
           1,
           1,
           1,
           1,
           0,
           1,
           1,
           0,
           1,
           1,
           1,
           1
          ],
          "colorscale": [
           [
            0,
            "rgb(150,0,90)"
           ],
           [
            0.125,
            "rgb(0,0,200)"
           ],
           [
            0.25,
            "rgb(0,25,255)"
           ],
           [
            0.375,
            "rgb(0,152,255)"
           ],
           [
            0.5,
            "rgb(44,255,150)"
           ],
           [
            0.625,
            "rgb(151,255,0)"
           ],
           [
            0.75,
            "rgb(255,234,0)"
           ],
           [
            0.875,
            "rgb(255,111,0)"
           ],
           [
            1,
            "rgb(255,0,0)"
           ]
          ],
          "opacity": 0.8,
          "showscale": true,
          "size": 5
         },
         "mode": "markers",
         "name": "Training",
         "text": [
          "ASD",
          "ATYPICAL_ADOS",
          "ASD",
          "ATYPICAL_ADOS",
          "ASD",
          "ASD",
          "ASD",
          "ATYPICAL_ADOS",
          "ASD",
          "ATYPICAL_ADOS",
          "ASD",
          "ASD",
          "ASD",
          "ASD",
          "ASD",
          "ATYPICAL_ADOS",
          "ATYPICAL_MULLEN",
          "ASD",
          "ATYPICAL_MULLEN",
          "ASD",
          "ATYPICAL_ADOS",
          "ASD",
          "ATYPICAL_MULLEN",
          "ATYPICAL_MULLEN",
          "ASD",
          "ASD",
          "ASD",
          "ASD",
          "ASD"
         ],
         "type": "scatter3d",
         "x": [
          0.08249473571777344,
          0.21395397186279297,
          0.09219551086425781,
          0.8467586040496826,
          0.29624104499816895,
          0.25156569480895996,
          0.23603177070617676,
          0,
          0.24193263053894043,
          0.426527738571167,
          0.47804832458496094,
          0.11645102500915527,
          0.4212028980255127,
          0.0842905044555664,
          0.3765394687652588,
          0.05264997482299805,
          0.03509378433227539,
          0.2416834831237793,
          0.4614436626434326,
          0.0019469261169433594,
          0.3559684753417969,
          0.1277773380279541,
          0.7366702556610107,
          0.5473077297210693,
          0.11745405197143555,
          0.9440028667449951,
          1.000000238418579,
          0.9523670673370361,
          0.8959212303161621
         ],
         "y": [
          0.38608935475349426,
          0.5180627107620239,
          0.6047291159629822,
          0.6767294406890869,
          0.6406129002571106,
          0,
          0.08136492967605591,
          0.030894756317138672,
          0.9073008894920349,
          1,
          0.8632115125656128,
          0.07998108863830566,
          0.8252500891685486,
          0.8084971308708191,
          0.8075016736984253,
          0.7973272800445557,
          0.6341484785079956,
          0.7675350904464722,
          0.5401830673217773,
          0.7648605108261108,
          0.6229013800621033,
          0.16065800189971924,
          0.5590819120407104,
          0.6319419145584106,
          0.3136298656463623,
          0.8126767873764038,
          0.7387916445732117,
          0.6237230896949768,
          0.8402369618415833
         ],
         "z": [
          0.5337434411048889,
          0.5058000087738037,
          0.39352184534072876,
          0.012706756591796875,
          0.27082401514053345,
          0.9386654496192932,
          1.0000001192092896,
          0.8966190218925476,
          0.48577290773391724,
          0.3409968614578247,
          0.43908244371414185,
          0.9330040812492371,
          0.09382450580596924,
          0.29697614908218384,
          0.22385120391845703,
          0.7001219987869263,
          0.6691603064537048,
          0.585161030292511,
          0,
          0.6064134836196899,
          0.03262436389923096,
          0.8705697059631348,
          0.08795571327209473,
          0.452203631401062,
          0.7928686141967773,
          0.24322080612182617,
          0.08230841159820557,
          0.15106618404388428,
          0.15370333194732666
         ]
        }
       ],
       "layout": {
        "autosize": false,
        "height": 1000,
        "paper_bgcolor": "#F5F5F5",
        "scene": {
         "aspectmode": "auto",
         "aspectratio": {
          "x": 1.00000011920928,
          "y": 0.9999998807907294,
          "z": 1.0000000000000049
         },
         "camera": {
          "center": {
           "x": 0,
           "y": 0,
           "z": 0
          },
          "eye": {
           "x": 1.7620404951831303,
           "y": 1.7620404951831308,
           "z": 1.7620404951831303
          },
          "projection": {
           "type": "perspective"
          },
          "up": {
           "x": -0.0034719734750504492,
           "y": 0.003484070220773505,
           "z": 0.999987903254277
          }
         }
        },
        "template": {
         "data": {
          "bar": [
           {
            "error_x": {
             "color": "#2a3f5f"
            },
            "error_y": {
             "color": "#2a3f5f"
            },
            "marker": {
             "line": {
              "color": "#E5ECF6",
              "width": 0.5
             }
            },
            "type": "bar"
           }
          ],
          "barpolar": [
           {
            "marker": {
             "line": {
              "color": "#E5ECF6",
              "width": 0.5
             }
            },
            "type": "barpolar"
           }
          ],
          "carpet": [
           {
            "aaxis": {
             "endlinecolor": "#2a3f5f",
             "gridcolor": "white",
             "linecolor": "white",
             "minorgridcolor": "white",
             "startlinecolor": "#2a3f5f"
            },
            "baxis": {
             "endlinecolor": "#2a3f5f",
             "gridcolor": "white",
             "linecolor": "white",
             "minorgridcolor": "white",
             "startlinecolor": "#2a3f5f"
            },
            "type": "carpet"
           }
          ],
          "choropleth": [
           {
            "colorbar": {
             "outlinewidth": 0,
             "ticks": ""
            },
            "type": "choropleth"
           }
          ],
          "contour": [
           {
            "colorbar": {
             "outlinewidth": 0,
             "ticks": ""
            },
            "colorscale": [
             [
              0,
              "#0d0887"
             ],
             [
              0.1111111111111111,
              "#46039f"
             ],
             [
              0.2222222222222222,
              "#7201a8"
             ],
             [
              0.3333333333333333,
              "#9c179e"
             ],
             [
              0.4444444444444444,
              "#bd3786"
             ],
             [
              0.5555555555555556,
              "#d8576b"
             ],
             [
              0.6666666666666666,
              "#ed7953"
             ],
             [
              0.7777777777777778,
              "#fb9f3a"
             ],
             [
              0.8888888888888888,
              "#fdca26"
             ],
             [
              1,
              "#f0f921"
             ]
            ],
            "type": "contour"
           }
          ],
          "contourcarpet": [
           {
            "colorbar": {
             "outlinewidth": 0,
             "ticks": ""
            },
            "type": "contourcarpet"
           }
          ],
          "heatmap": [
           {
            "colorbar": {
             "outlinewidth": 0,
             "ticks": ""
            },
            "colorscale": [
             [
              0,
              "#0d0887"
             ],
             [
              0.1111111111111111,
              "#46039f"
             ],
             [
              0.2222222222222222,
              "#7201a8"
             ],
             [
              0.3333333333333333,
              "#9c179e"
             ],
             [
              0.4444444444444444,
              "#bd3786"
             ],
             [
              0.5555555555555556,
              "#d8576b"
             ],
             [
              0.6666666666666666,
              "#ed7953"
             ],
             [
              0.7777777777777778,
              "#fb9f3a"
             ],
             [
              0.8888888888888888,
              "#fdca26"
             ],
             [
              1,
              "#f0f921"
             ]
            ],
            "type": "heatmap"
           }
          ],
          "heatmapgl": [
           {
            "colorbar": {
             "outlinewidth": 0,
             "ticks": ""
            },
            "colorscale": [
             [
              0,
              "#0d0887"
             ],
             [
              0.1111111111111111,
              "#46039f"
             ],
             [
              0.2222222222222222,
              "#7201a8"
             ],
             [
              0.3333333333333333,
              "#9c179e"
             ],
             [
              0.4444444444444444,
              "#bd3786"
             ],
             [
              0.5555555555555556,
              "#d8576b"
             ],
             [
              0.6666666666666666,
              "#ed7953"
             ],
             [
              0.7777777777777778,
              "#fb9f3a"
             ],
             [
              0.8888888888888888,
              "#fdca26"
             ],
             [
              1,
              "#f0f921"
             ]
            ],
            "type": "heatmapgl"
           }
          ],
          "histogram": [
           {
            "marker": {
             "colorbar": {
              "outlinewidth": 0,
              "ticks": ""
             }
            },
            "type": "histogram"
           }
          ],
          "histogram2d": [
           {
            "colorbar": {
             "outlinewidth": 0,
             "ticks": ""
            },
            "colorscale": [
             [
              0,
              "#0d0887"
             ],
             [
              0.1111111111111111,
              "#46039f"
             ],
             [
              0.2222222222222222,
              "#7201a8"
             ],
             [
              0.3333333333333333,
              "#9c179e"
             ],
             [
              0.4444444444444444,
              "#bd3786"
             ],
             [
              0.5555555555555556,
              "#d8576b"
             ],
             [
              0.6666666666666666,
              "#ed7953"
             ],
             [
              0.7777777777777778,
              "#fb9f3a"
             ],
             [
              0.8888888888888888,
              "#fdca26"
             ],
             [
              1,
              "#f0f921"
             ]
            ],
            "type": "histogram2d"
           }
          ],
          "histogram2dcontour": [
           {
            "colorbar": {
             "outlinewidth": 0,
             "ticks": ""
            },
            "colorscale": [
             [
              0,
              "#0d0887"
             ],
             [
              0.1111111111111111,
              "#46039f"
             ],
             [
              0.2222222222222222,
              "#7201a8"
             ],
             [
              0.3333333333333333,
              "#9c179e"
             ],
             [
              0.4444444444444444,
              "#bd3786"
             ],
             [
              0.5555555555555556,
              "#d8576b"
             ],
             [
              0.6666666666666666,
              "#ed7953"
             ],
             [
              0.7777777777777778,
              "#fb9f3a"
             ],
             [
              0.8888888888888888,
              "#fdca26"
             ],
             [
              1,
              "#f0f921"
             ]
            ],
            "type": "histogram2dcontour"
           }
          ],
          "mesh3d": [
           {
            "colorbar": {
             "outlinewidth": 0,
             "ticks": ""
            },
            "type": "mesh3d"
           }
          ],
          "parcoords": [
           {
            "line": {
             "colorbar": {
              "outlinewidth": 0,
              "ticks": ""
             }
            },
            "type": "parcoords"
           }
          ],
          "scatter": [
           {
            "marker": {
             "colorbar": {
              "outlinewidth": 0,
              "ticks": ""
             }
            },
            "type": "scatter"
           }
          ],
          "scatter3d": [
           {
            "line": {
             "colorbar": {
              "outlinewidth": 0,
              "ticks": ""
             }
            },
            "marker": {
             "colorbar": {
              "outlinewidth": 0,
              "ticks": ""
             }
            },
            "type": "scatter3d"
           }
          ],
          "scattercarpet": [
           {
            "marker": {
             "colorbar": {
              "outlinewidth": 0,
              "ticks": ""
             }
            },
            "type": "scattercarpet"
           }
          ],
          "scattergeo": [
           {
            "marker": {
             "colorbar": {
              "outlinewidth": 0,
              "ticks": ""
             }
            },
            "type": "scattergeo"
           }
          ],
          "scattergl": [
           {
            "marker": {
             "colorbar": {
              "outlinewidth": 0,
              "ticks": ""
             }
            },
            "type": "scattergl"
           }
          ],
          "scattermapbox": [
           {
            "marker": {
             "colorbar": {
              "outlinewidth": 0,
              "ticks": ""
             }
            },
            "type": "scattermapbox"
           }
          ],
          "scatterpolar": [
           {
            "marker": {
             "colorbar": {
              "outlinewidth": 0,
              "ticks": ""
             }
            },
            "type": "scatterpolar"
           }
          ],
          "scatterpolargl": [
           {
            "marker": {
             "colorbar": {
              "outlinewidth": 0,
              "ticks": ""
             }
            },
            "type": "scatterpolargl"
           }
          ],
          "scatterternary": [
           {
            "marker": {
             "colorbar": {
              "outlinewidth": 0,
              "ticks": ""
             }
            },
            "type": "scatterternary"
           }
          ],
          "surface": [
           {
            "colorbar": {
             "outlinewidth": 0,
             "ticks": ""
            },
            "colorscale": [
             [
              0,
              "#0d0887"
             ],
             [
              0.1111111111111111,
              "#46039f"
             ],
             [
              0.2222222222222222,
              "#7201a8"
             ],
             [
              0.3333333333333333,
              "#9c179e"
             ],
             [
              0.4444444444444444,
              "#bd3786"
             ],
             [
              0.5555555555555556,
              "#d8576b"
             ],
             [
              0.6666666666666666,
              "#ed7953"
             ],
             [
              0.7777777777777778,
              "#fb9f3a"
             ],
             [
              0.8888888888888888,
              "#fdca26"
             ],
             [
              1,
              "#f0f921"
             ]
            ],
            "type": "surface"
           }
          ],
          "table": [
           {
            "cells": {
             "fill": {
              "color": "#EBF0F8"
             },
             "line": {
              "color": "white"
             }
            },
            "header": {
             "fill": {
              "color": "#C8D4E3"
             },
             "line": {
              "color": "white"
             }
            },
            "type": "table"
           }
          ]
         },
         "layout": {
          "annotationdefaults": {
           "arrowcolor": "#2a3f5f",
           "arrowhead": 0,
           "arrowwidth": 1
          },
          "colorscale": {
           "diverging": [
            [
             0,
             "#8e0152"
            ],
            [
             0.1,
             "#c51b7d"
            ],
            [
             0.2,
             "#de77ae"
            ],
            [
             0.3,
             "#f1b6da"
            ],
            [
             0.4,
             "#fde0ef"
            ],
            [
             0.5,
             "#f7f7f7"
            ],
            [
             0.6,
             "#e6f5d0"
            ],
            [
             0.7,
             "#b8e186"
            ],
            [
             0.8,
             "#7fbc41"
            ],
            [
             0.9,
             "#4d9221"
            ],
            [
             1,
             "#276419"
            ]
           ],
           "sequential": [
            [
             0,
             "#0d0887"
            ],
            [
             0.1111111111111111,
             "#46039f"
            ],
            [
             0.2222222222222222,
             "#7201a8"
            ],
            [
             0.3333333333333333,
             "#9c179e"
            ],
            [
             0.4444444444444444,
             "#bd3786"
            ],
            [
             0.5555555555555556,
             "#d8576b"
            ],
            [
             0.6666666666666666,
             "#ed7953"
            ],
            [
             0.7777777777777778,
             "#fb9f3a"
            ],
            [
             0.8888888888888888,
             "#fdca26"
            ],
            [
             1,
             "#f0f921"
            ]
           ],
           "sequentialminus": [
            [
             0,
             "#0d0887"
            ],
            [
             0.1111111111111111,
             "#46039f"
            ],
            [
             0.2222222222222222,
             "#7201a8"
            ],
            [
             0.3333333333333333,
             "#9c179e"
            ],
            [
             0.4444444444444444,
             "#bd3786"
            ],
            [
             0.5555555555555556,
             "#d8576b"
            ],
            [
             0.6666666666666666,
             "#ed7953"
            ],
            [
             0.7777777777777778,
             "#fb9f3a"
            ],
            [
             0.8888888888888888,
             "#fdca26"
            ],
            [
             1,
             "#f0f921"
            ]
           ]
          },
          "colorway": [
           "#636efa",
           "#EF553B",
           "#00cc96",
           "#ab63fa",
           "#FFA15A",
           "#19d3f3",
           "#FF6692",
           "#B6E880",
           "#FF97FF",
           "#FECB52"
          ],
          "font": {
           "color": "#2a3f5f"
          },
          "geo": {
           "bgcolor": "white",
           "lakecolor": "white",
           "landcolor": "#E5ECF6",
           "showlakes": true,
           "showland": true,
           "subunitcolor": "white"
          },
          "hoverlabel": {
           "align": "left"
          },
          "hovermode": "closest",
          "mapbox": {
           "style": "light"
          },
          "paper_bgcolor": "white",
          "plot_bgcolor": "#E5ECF6",
          "polar": {
           "angularaxis": {
            "gridcolor": "white",
            "linecolor": "white",
            "ticks": ""
           },
           "bgcolor": "#E5ECF6",
           "radialaxis": {
            "gridcolor": "white",
            "linecolor": "white",
            "ticks": ""
           }
          },
          "scene": {
           "xaxis": {
            "backgroundcolor": "#E5ECF6",
            "gridcolor": "white",
            "gridwidth": 2,
            "linecolor": "white",
            "showbackground": true,
            "ticks": "",
            "zerolinecolor": "white"
           },
           "yaxis": {
            "backgroundcolor": "#E5ECF6",
            "gridcolor": "white",
            "gridwidth": 2,
            "linecolor": "white",
            "showbackground": true,
            "ticks": "",
            "zerolinecolor": "white"
           },
           "zaxis": {
            "backgroundcolor": "#E5ECF6",
            "gridcolor": "white",
            "gridwidth": 2,
            "linecolor": "white",
            "showbackground": true,
            "ticks": "",
            "zerolinecolor": "white"
           }
          },
          "shapedefaults": {
           "line": {
            "color": "#2a3f5f"
           }
          },
          "ternary": {
           "aaxis": {
            "gridcolor": "white",
            "linecolor": "white",
            "ticks": ""
           },
           "baxis": {
            "gridcolor": "white",
            "linecolor": "white",
            "ticks": ""
           },
           "bgcolor": "#E5ECF6",
           "caxis": {
            "gridcolor": "white",
            "linecolor": "white",
            "ticks": ""
           }
          },
          "title": {
           "x": 0.05
          },
          "xaxis": {
           "automargin": true,
           "gridcolor": "white",
           "linecolor": "white",
           "ticks": "",
           "zerolinecolor": "white",
           "zerolinewidth": 2
          },
          "yaxis": {
           "automargin": true,
           "gridcolor": "white",
           "linecolor": "white",
           "ticks": "",
           "zerolinecolor": "white",
           "zerolinewidth": 2
          }
         }
        },
        "title": {
         "text": "3D LRP Embedding"
        },
        "width": 1200
       }
      },
      "text/html": [
       "<div>\n",
       "        \n",
       "        \n",
       "            <div id=\"f561f2ce-d3ee-425e-b4ee-2a54641f5467\" class=\"plotly-graph-div\" style=\"height:1000px; width:1200px;\"></div>\n",
       "            <script type=\"text/javascript\">\n",
       "                require([\"plotly\"], function(Plotly) {\n",
       "                    window.PLOTLYENV=window.PLOTLYENV || {};\n",
       "                    \n",
       "                if (document.getElementById(\"f561f2ce-d3ee-425e-b4ee-2a54641f5467\")) {\n",
       "                    Plotly.newPlot(\n",
       "                        'f561f2ce-d3ee-425e-b4ee-2a54641f5467',\n",
       "                        [{\"marker\": {\"color\": [1, 1, 1, 1, 1, 0, 0, 0, 1, 1, 1, 0, 1, 1, 1, 1, 1, 1, 1, 1, 1, 0, 1, 1, 0, 1, 1, 1, 1], \"colorscale\": [[0.0, \"rgb(150,0,90)\"], [0.125, \"rgb(0,0,200)\"], [0.25, \"rgb(0,25,255)\"], [0.375, \"rgb(0,152,255)\"], [0.5, \"rgb(44,255,150)\"], [0.625, \"rgb(151,255,0)\"], [0.75, \"rgb(255,234,0)\"], [0.875, \"rgb(255,111,0)\"], [1.0, \"rgb(255,0,0)\"]], \"opacity\": 0.8, \"showscale\": true, \"size\": 5}, \"mode\": \"markers\", \"name\": \"Training\", \"text\": [\"ASD\", \"ATYPICAL_ADOS\", \"ASD\", \"ATYPICAL_ADOS\", \"ASD\", \"ASD\", \"ASD\", \"ATYPICAL_ADOS\", \"ASD\", \"ATYPICAL_ADOS\", \"ASD\", \"ASD\", \"ASD\", \"ASD\", \"ASD\", \"ATYPICAL_ADOS\", \"ATYPICAL_MULLEN\", \"ASD\", \"ATYPICAL_MULLEN\", \"ASD\", \"ATYPICAL_ADOS\", \"ASD\", \"ATYPICAL_MULLEN\", \"ATYPICAL_MULLEN\", \"ASD\", \"ASD\", \"ASD\", \"ASD\", \"ASD\"], \"type\": \"scatter3d\", \"x\": [0.08249473571777344, 0.21395397186279297, 0.09219551086425781, 0.8467586040496826, 0.29624104499816895, 0.25156569480895996, 0.23603177070617676, 0.0, 0.24193263053894043, 0.426527738571167, 0.47804832458496094, 0.11645102500915527, 0.4212028980255127, 0.0842905044555664, 0.3765394687652588, 0.05264997482299805, 0.03509378433227539, 0.2416834831237793, 0.4614436626434326, 0.0019469261169433594, 0.3559684753417969, 0.1277773380279541, 0.7366702556610107, 0.5473077297210693, 0.11745405197143555, 0.9440028667449951, 1.000000238418579, 0.9523670673370361, 0.8959212303161621], \"y\": [0.38608935475349426, 0.5180627107620239, 0.6047291159629822, 0.6767294406890869, 0.6406129002571106, 0.0, 0.08136492967605591, 0.030894756317138672, 0.9073008894920349, 1.0, 0.8632115125656128, 0.07998108863830566, 0.8252500891685486, 0.8084971308708191, 0.8075016736984253, 0.7973272800445557, 0.6341484785079956, 0.7675350904464722, 0.5401830673217773, 0.7648605108261108, 0.6229013800621033, 0.16065800189971924, 0.5590819120407104, 0.6319419145584106, 0.3136298656463623, 0.8126767873764038, 0.7387916445732117, 0.6237230896949768, 0.8402369618415833], \"z\": [0.5337434411048889, 0.5058000087738037, 0.39352184534072876, 0.012706756591796875, 0.27082401514053345, 0.9386654496192932, 1.0000001192092896, 0.8966190218925476, 0.48577290773391724, 0.3409968614578247, 0.43908244371414185, 0.9330040812492371, 0.09382450580596924, 0.29697614908218384, 0.22385120391845703, 0.7001219987869263, 0.6691603064537048, 0.585161030292511, 0.0, 0.6064134836196899, 0.03262436389923096, 0.8705697059631348, 0.08795571327209473, 0.452203631401062, 0.7928686141967773, 0.24322080612182617, 0.08230841159820557, 0.15106618404388428, 0.15370333194732666]}],\n",
       "                        {\"autosize\": false, \"height\": 1000, \"paper_bgcolor\": \"#F5F5F5\", \"template\": {\"data\": {\"bar\": [{\"error_x\": {\"color\": \"#2a3f5f\"}, \"error_y\": {\"color\": \"#2a3f5f\"}, \"marker\": {\"line\": {\"color\": \"#E5ECF6\", \"width\": 0.5}}, \"type\": \"bar\"}], \"barpolar\": [{\"marker\": {\"line\": {\"color\": \"#E5ECF6\", \"width\": 0.5}}, \"type\": \"barpolar\"}], \"carpet\": [{\"aaxis\": {\"endlinecolor\": \"#2a3f5f\", \"gridcolor\": \"white\", \"linecolor\": \"white\", \"minorgridcolor\": \"white\", \"startlinecolor\": \"#2a3f5f\"}, \"baxis\": {\"endlinecolor\": \"#2a3f5f\", \"gridcolor\": \"white\", \"linecolor\": \"white\", \"minorgridcolor\": \"white\", \"startlinecolor\": \"#2a3f5f\"}, \"type\": \"carpet\"}], \"choropleth\": [{\"colorbar\": {\"outlinewidth\": 0, \"ticks\": \"\"}, \"type\": \"choropleth\"}], \"contour\": [{\"colorbar\": {\"outlinewidth\": 0, \"ticks\": \"\"}, \"colorscale\": [[0.0, \"#0d0887\"], [0.1111111111111111, \"#46039f\"], [0.2222222222222222, \"#7201a8\"], [0.3333333333333333, \"#9c179e\"], [0.4444444444444444, \"#bd3786\"], [0.5555555555555556, \"#d8576b\"], [0.6666666666666666, \"#ed7953\"], [0.7777777777777778, \"#fb9f3a\"], [0.8888888888888888, \"#fdca26\"], [1.0, \"#f0f921\"]], \"type\": \"contour\"}], \"contourcarpet\": [{\"colorbar\": {\"outlinewidth\": 0, \"ticks\": \"\"}, \"type\": \"contourcarpet\"}], \"heatmap\": [{\"colorbar\": {\"outlinewidth\": 0, \"ticks\": \"\"}, \"colorscale\": [[0.0, \"#0d0887\"], [0.1111111111111111, \"#46039f\"], [0.2222222222222222, \"#7201a8\"], [0.3333333333333333, \"#9c179e\"], [0.4444444444444444, \"#bd3786\"], [0.5555555555555556, \"#d8576b\"], [0.6666666666666666, \"#ed7953\"], [0.7777777777777778, \"#fb9f3a\"], [0.8888888888888888, \"#fdca26\"], [1.0, \"#f0f921\"]], \"type\": \"heatmap\"}], \"heatmapgl\": [{\"colorbar\": {\"outlinewidth\": 0, \"ticks\": \"\"}, \"colorscale\": [[0.0, \"#0d0887\"], [0.1111111111111111, \"#46039f\"], [0.2222222222222222, \"#7201a8\"], [0.3333333333333333, \"#9c179e\"], [0.4444444444444444, \"#bd3786\"], [0.5555555555555556, \"#d8576b\"], [0.6666666666666666, \"#ed7953\"], [0.7777777777777778, \"#fb9f3a\"], [0.8888888888888888, \"#fdca26\"], [1.0, \"#f0f921\"]], \"type\": \"heatmapgl\"}], \"histogram\": [{\"marker\": {\"colorbar\": {\"outlinewidth\": 0, \"ticks\": \"\"}}, \"type\": \"histogram\"}], \"histogram2d\": [{\"colorbar\": {\"outlinewidth\": 0, \"ticks\": \"\"}, \"colorscale\": [[0.0, \"#0d0887\"], [0.1111111111111111, \"#46039f\"], [0.2222222222222222, \"#7201a8\"], [0.3333333333333333, \"#9c179e\"], [0.4444444444444444, \"#bd3786\"], [0.5555555555555556, \"#d8576b\"], [0.6666666666666666, \"#ed7953\"], [0.7777777777777778, \"#fb9f3a\"], [0.8888888888888888, \"#fdca26\"], [1.0, \"#f0f921\"]], \"type\": \"histogram2d\"}], \"histogram2dcontour\": [{\"colorbar\": {\"outlinewidth\": 0, \"ticks\": \"\"}, \"colorscale\": [[0.0, \"#0d0887\"], [0.1111111111111111, \"#46039f\"], [0.2222222222222222, \"#7201a8\"], [0.3333333333333333, \"#9c179e\"], [0.4444444444444444, \"#bd3786\"], [0.5555555555555556, \"#d8576b\"], [0.6666666666666666, \"#ed7953\"], [0.7777777777777778, \"#fb9f3a\"], [0.8888888888888888, \"#fdca26\"], [1.0, \"#f0f921\"]], \"type\": \"histogram2dcontour\"}], \"mesh3d\": [{\"colorbar\": {\"outlinewidth\": 0, \"ticks\": \"\"}, \"type\": \"mesh3d\"}], \"parcoords\": [{\"line\": {\"colorbar\": {\"outlinewidth\": 0, \"ticks\": \"\"}}, \"type\": \"parcoords\"}], \"scatter\": [{\"marker\": {\"colorbar\": {\"outlinewidth\": 0, \"ticks\": \"\"}}, \"type\": \"scatter\"}], \"scatter3d\": [{\"line\": {\"colorbar\": {\"outlinewidth\": 0, \"ticks\": \"\"}}, \"marker\": {\"colorbar\": {\"outlinewidth\": 0, \"ticks\": \"\"}}, \"type\": \"scatter3d\"}], \"scattercarpet\": [{\"marker\": {\"colorbar\": {\"outlinewidth\": 0, \"ticks\": \"\"}}, \"type\": \"scattercarpet\"}], \"scattergeo\": [{\"marker\": {\"colorbar\": {\"outlinewidth\": 0, \"ticks\": \"\"}}, \"type\": \"scattergeo\"}], \"scattergl\": [{\"marker\": {\"colorbar\": {\"outlinewidth\": 0, \"ticks\": \"\"}}, \"type\": \"scattergl\"}], \"scattermapbox\": [{\"marker\": {\"colorbar\": {\"outlinewidth\": 0, \"ticks\": \"\"}}, \"type\": \"scattermapbox\"}], \"scatterpolar\": [{\"marker\": {\"colorbar\": {\"outlinewidth\": 0, \"ticks\": \"\"}}, \"type\": \"scatterpolar\"}], \"scatterpolargl\": [{\"marker\": {\"colorbar\": {\"outlinewidth\": 0, \"ticks\": \"\"}}, \"type\": \"scatterpolargl\"}], \"scatterternary\": [{\"marker\": {\"colorbar\": {\"outlinewidth\": 0, \"ticks\": \"\"}}, \"type\": \"scatterternary\"}], \"surface\": [{\"colorbar\": {\"outlinewidth\": 0, \"ticks\": \"\"}, \"colorscale\": [[0.0, \"#0d0887\"], [0.1111111111111111, \"#46039f\"], [0.2222222222222222, \"#7201a8\"], [0.3333333333333333, \"#9c179e\"], [0.4444444444444444, \"#bd3786\"], [0.5555555555555556, \"#d8576b\"], [0.6666666666666666, \"#ed7953\"], [0.7777777777777778, \"#fb9f3a\"], [0.8888888888888888, \"#fdca26\"], [1.0, \"#f0f921\"]], \"type\": \"surface\"}], \"table\": [{\"cells\": {\"fill\": {\"color\": \"#EBF0F8\"}, \"line\": {\"color\": \"white\"}}, \"header\": {\"fill\": {\"color\": \"#C8D4E3\"}, \"line\": {\"color\": \"white\"}}, \"type\": \"table\"}]}, \"layout\": {\"annotationdefaults\": {\"arrowcolor\": \"#2a3f5f\", \"arrowhead\": 0, \"arrowwidth\": 1}, \"colorscale\": {\"diverging\": [[0, \"#8e0152\"], [0.1, \"#c51b7d\"], [0.2, \"#de77ae\"], [0.3, \"#f1b6da\"], [0.4, \"#fde0ef\"], [0.5, \"#f7f7f7\"], [0.6, \"#e6f5d0\"], [0.7, \"#b8e186\"], [0.8, \"#7fbc41\"], [0.9, \"#4d9221\"], [1, \"#276419\"]], \"sequential\": [[0.0, \"#0d0887\"], [0.1111111111111111, \"#46039f\"], [0.2222222222222222, \"#7201a8\"], [0.3333333333333333, \"#9c179e\"], [0.4444444444444444, \"#bd3786\"], [0.5555555555555556, \"#d8576b\"], [0.6666666666666666, \"#ed7953\"], [0.7777777777777778, \"#fb9f3a\"], [0.8888888888888888, \"#fdca26\"], [1.0, \"#f0f921\"]], \"sequentialminus\": [[0.0, \"#0d0887\"], [0.1111111111111111, \"#46039f\"], [0.2222222222222222, \"#7201a8\"], [0.3333333333333333, \"#9c179e\"], [0.4444444444444444, \"#bd3786\"], [0.5555555555555556, \"#d8576b\"], [0.6666666666666666, \"#ed7953\"], [0.7777777777777778, \"#fb9f3a\"], [0.8888888888888888, \"#fdca26\"], [1.0, \"#f0f921\"]]}, \"colorway\": [\"#636efa\", \"#EF553B\", \"#00cc96\", \"#ab63fa\", \"#FFA15A\", \"#19d3f3\", \"#FF6692\", \"#B6E880\", \"#FF97FF\", \"#FECB52\"], \"font\": {\"color\": \"#2a3f5f\"}, \"geo\": {\"bgcolor\": \"white\", \"lakecolor\": \"white\", \"landcolor\": \"#E5ECF6\", \"showlakes\": true, \"showland\": true, \"subunitcolor\": \"white\"}, \"hoverlabel\": {\"align\": \"left\"}, \"hovermode\": \"closest\", \"mapbox\": {\"style\": \"light\"}, \"paper_bgcolor\": \"white\", \"plot_bgcolor\": \"#E5ECF6\", \"polar\": {\"angularaxis\": {\"gridcolor\": \"white\", \"linecolor\": \"white\", \"ticks\": \"\"}, \"bgcolor\": \"#E5ECF6\", \"radialaxis\": {\"gridcolor\": \"white\", \"linecolor\": \"white\", \"ticks\": \"\"}}, \"scene\": {\"xaxis\": {\"backgroundcolor\": \"#E5ECF6\", \"gridcolor\": \"white\", \"gridwidth\": 2, \"linecolor\": \"white\", \"showbackground\": true, \"ticks\": \"\", \"zerolinecolor\": \"white\"}, \"yaxis\": {\"backgroundcolor\": \"#E5ECF6\", \"gridcolor\": \"white\", \"gridwidth\": 2, \"linecolor\": \"white\", \"showbackground\": true, \"ticks\": \"\", \"zerolinecolor\": \"white\"}, \"zaxis\": {\"backgroundcolor\": \"#E5ECF6\", \"gridcolor\": \"white\", \"gridwidth\": 2, \"linecolor\": \"white\", \"showbackground\": true, \"ticks\": \"\", \"zerolinecolor\": \"white\"}}, \"shapedefaults\": {\"line\": {\"color\": \"#2a3f5f\"}}, \"ternary\": {\"aaxis\": {\"gridcolor\": \"white\", \"linecolor\": \"white\", \"ticks\": \"\"}, \"baxis\": {\"gridcolor\": \"white\", \"linecolor\": \"white\", \"ticks\": \"\"}, \"bgcolor\": \"#E5ECF6\", \"caxis\": {\"gridcolor\": \"white\", \"linecolor\": \"white\", \"ticks\": \"\"}}, \"title\": {\"x\": 0.05}, \"xaxis\": {\"automargin\": true, \"gridcolor\": \"white\", \"linecolor\": \"white\", \"ticks\": \"\", \"zerolinecolor\": \"white\", \"zerolinewidth\": 2}, \"yaxis\": {\"automargin\": true, \"gridcolor\": \"white\", \"linecolor\": \"white\", \"ticks\": \"\", \"zerolinecolor\": \"white\", \"zerolinewidth\": 2}}}, \"title\": {\"text\": \"3D LRP Embedding\"}, \"width\": 1200},\n",
       "                        {\"responsive\": true}\n",
       "                    ).then(function(){\n",
       "                            \n",
       "var gd = document.getElementById('f561f2ce-d3ee-425e-b4ee-2a54641f5467');\n",
       "var x = new MutationObserver(function (mutations, observer) {{\n",
       "        var display = window.getComputedStyle(gd).display;\n",
       "        if (!display || display === 'none') {{\n",
       "            console.log([gd, 'removed!']);\n",
       "            Plotly.purge(gd);\n",
       "            observer.disconnect();\n",
       "        }}\n",
       "}});\n",
       "\n",
       "// Listen for the removal of the full notebook cells\n",
       "var notebookContainer = gd.closest('#notebook-container');\n",
       "if (notebookContainer) {{\n",
       "    x.observe(notebookContainer, {childList: true});\n",
       "}}\n",
       "\n",
       "// Listen for the clearing of the current output cell\n",
       "var outputEl = gd.closest('.output');\n",
       "if (outputEl) {{\n",
       "    x.observe(outputEl, {childList: true});\n",
       "}}\n",
       "\n",
       "                        })\n",
       "                };\n",
       "                });\n",
       "            </script>\n",
       "        </div>"
      ]
     },
     "metadata": {},
     "output_type": "display_data"
    }
   ],
   "source": [
    "plot_3d_lrp(pipeline.training_lrp, colors=pipeline.clusterer.labels_, labels=correct_HR[\"ASD_DX_group\"])"
   ]
  },
  {
   "cell_type": "code",
   "execution_count": 106,
   "metadata": {},
   "outputs": [
    {
     "name": "stderr",
     "output_type": "stream",
     "text": [
      "/Users/Work/anaconda3/envs/condatensor/lib/python3.6/site-packages/ipykernel_launcher.py:1: SettingWithCopyWarning:\n",
      "\n",
      "\n",
      "A value is trying to be set on a copy of a slice from a DataFrame.\n",
      "Try using .loc[row_indexer,col_indexer] = value instead\n",
      "\n",
      "See the caveats in the documentation: http://pandas.pydata.org/pandas-docs/stable/indexing.html#indexing-view-versus-copy\n",
      "\n"
     ]
    },
    {
     "data": {
      "text/plain": [
       "Index(['ASD_DX_group', 'Risk', 'DNN Clusters'], dtype='object')"
      ]
     },
     "execution_count": 106,
     "metadata": {},
     "output_type": "execute_result"
    }
   ],
   "source": [
    "correct_HR[\"DNN Clusters\"] = pipeline.clusterer.labels_\n",
    "correct_HR.columns"
   ]
  },
  {
   "cell_type": "code",
   "execution_count": 107,
   "metadata": {},
   "outputs": [
    {
     "name": "stdout",
     "output_type": "stream",
     "text": [
      "Cluster 0\n",
      "Int64Index([983222, 174982, 490878, 963368, 930203, 638999, 443584], dtype='int64', name='CandID')\n",
      "Cluster 1\n",
      "Int64Index([792210, 550654, 155712, 336576, 516442, 553295, 569748, 812857,\n",
      "            973338, 121007, 549587, 783552, 809318, 456823, 447346, 677040,\n",
      "            919979, 321541, 402809, 751794],\n",
      "           dtype='int64', name='CandID')\n"
     ]
    }
   ],
   "source": [
    "for cluster,samples in correct_HR.groupby(by=[\"DNN Clusters\"]):\n",
    "    print(\"Cluster\", cluster)\n",
    "    print(samples.index)\n",
    "\n",
    "# for cluster in range(0, max(pipeline.clusterer.labels_)):\n",
    "#     print(i)\n",
    "\n",
    "# pipeline.training_lrp[]"
   ]
  },
  {
   "cell_type": "code",
   "execution_count": 108,
   "metadata": {},
   "outputs": [],
   "source": [
    "orig_labels = analysis_labels.loc[reindexed_labels.index]\n",
    "orig_labels[\"DNN Pred\"] = pipeline.predictions\n",
    "orig_HR = orig_labels[orig_labels[\"Risk\"]==\"HR\"]"
   ]
  },
  {
   "cell_type": "code",
   "execution_count": 109,
   "metadata": {},
   "outputs": [
    {
     "data": {
      "text/html": [
       "<div>\n",
       "<style scoped>\n",
       "    .dataframe tbody tr th:only-of-type {\n",
       "        vertical-align: middle;\n",
       "    }\n",
       "\n",
       "    .dataframe tbody tr th {\n",
       "        vertical-align: top;\n",
       "    }\n",
       "\n",
       "    .dataframe thead th {\n",
       "        text-align: right;\n",
       "    }\n",
       "</style>\n",
       "<table border=\"1\" class=\"dataframe\">\n",
       "  <thead>\n",
       "    <tr style=\"text-align: right;\">\n",
       "      <th></th>\n",
       "      <th>ASD_DX_group</th>\n",
       "      <th>Risk</th>\n",
       "      <th>DNN Pred</th>\n",
       "    </tr>\n",
       "    <tr>\n",
       "      <th>CandID</th>\n",
       "      <th></th>\n",
       "      <th></th>\n",
       "      <th></th>\n",
       "    </tr>\n",
       "  </thead>\n",
       "  <tbody>\n",
       "    <tr>\n",
       "      <th>107524</th>\n",
       "      <td>ASD</td>\n",
       "      <td>HR</td>\n",
       "      <td>1.0</td>\n",
       "    </tr>\n",
       "    <tr>\n",
       "      <th>172993</th>\n",
       "      <td>ASD</td>\n",
       "      <td>HR</td>\n",
       "      <td>1.0</td>\n",
       "    </tr>\n",
       "    <tr>\n",
       "      <th>364612</th>\n",
       "      <td>ASD</td>\n",
       "      <td>HR</td>\n",
       "      <td>1.0</td>\n",
       "    </tr>\n",
       "    <tr>\n",
       "      <th>792210</th>\n",
       "      <td>ATYPICAL_ADOS</td>\n",
       "      <td>HR</td>\n",
       "      <td>0.0</td>\n",
       "    </tr>\n",
       "    <tr>\n",
       "      <th>916595</th>\n",
       "      <td>ASD</td>\n",
       "      <td>HR</td>\n",
       "      <td>1.0</td>\n",
       "    </tr>\n",
       "  </tbody>\n",
       "</table>\n",
       "</div>"
      ],
      "text/plain": [
       "         ASD_DX_group Risk  DNN Pred\n",
       "CandID                              \n",
       "107524            ASD   HR       1.0\n",
       "172993            ASD   HR       1.0\n",
       "364612            ASD   HR       1.0\n",
       "792210  ATYPICAL_ADOS   HR       0.0\n",
       "916595            ASD   HR       1.0"
      ]
     },
     "execution_count": 109,
     "metadata": {},
     "output_type": "execute_result"
    }
   ],
   "source": [
    "orig_HR.head()"
   ]
  },
  {
   "cell_type": "code",
   "execution_count": 110,
   "metadata": {},
   "outputs": [
    {
     "data": {
      "text/html": [
       "<div>\n",
       "<style scoped>\n",
       "    .dataframe tbody tr th:only-of-type {\n",
       "        vertical-align: middle;\n",
       "    }\n",
       "\n",
       "    .dataframe tbody tr th {\n",
       "        vertical-align: top;\n",
       "    }\n",
       "\n",
       "    .dataframe thead th {\n",
       "        text-align: right;\n",
       "    }\n",
       "</style>\n",
       "<table border=\"1\" class=\"dataframe\">\n",
       "  <thead>\n",
       "    <tr style=\"text-align: right;\">\n",
       "      <th></th>\n",
       "      <th>Correct</th>\n",
       "      <th>Incorrect</th>\n",
       "    </tr>\n",
       "  </thead>\n",
       "  <tbody>\n",
       "    <tr>\n",
       "      <th>ASD</th>\n",
       "      <td>18</td>\n",
       "      <td>21</td>\n",
       "    </tr>\n",
       "    <tr>\n",
       "      <th>ATYPICAL_ADOS</th>\n",
       "      <td>5</td>\n",
       "      <td>12</td>\n",
       "    </tr>\n",
       "    <tr>\n",
       "      <th>ATYPICAL_MULLEN</th>\n",
       "      <td>4</td>\n",
       "      <td>5</td>\n",
       "    </tr>\n",
       "  </tbody>\n",
       "</table>\n",
       "</div>"
      ],
      "text/plain": [
       "                 Correct  Incorrect\n",
       "ASD                   18         21\n",
       "ATYPICAL_ADOS          5         12\n",
       "ATYPICAL_MULLEN        4          5"
      ]
     },
     "execution_count": 110,
     "metadata": {},
     "output_type": "execute_result"
    }
   ],
   "source": [
    "_counts=[]\n",
    "names=[]\n",
    "for name, subgroup in orig_HR.groupby(by=\"ASD_DX_group\"):\n",
    "    names.append(name)\n",
    "    _cnt = subgroup[\"DNN Pred\"].value_counts()\n",
    "    _counts.append([_cnt[0.0], _cnt[1.0]])\n",
    "#     print(name, subgroup[\"DNN Pred\"].value_counts(), sep=\"\\n\")\n",
    "\n",
    "dnn_predictions = pd.DataFrame(_counts, columns=[\"Correct\",\"Incorrect\"], index=names)\n",
    "dnn_predictions"
   ]
  },
  {
   "cell_type": "code",
   "execution_count": 111,
   "metadata": {},
   "outputs": [],
   "source": [
    "norm_pred = dnn_predictions.div(dnn_predictions.sum(axis=1), axis=\"index\")"
   ]
  },
  {
   "cell_type": "code",
   "execution_count": 112,
   "metadata": {},
   "outputs": [
    {
     "data": {
      "text/plain": [
       "<matplotlib.axes._subplots.AxesSubplot at 0x1a35f315f8>"
      ]
     },
     "execution_count": 112,
     "metadata": {},
     "output_type": "execute_result"
    },
    {
     "data": {
      "image/png": "[encoded data removed]",
      "text/plain": [
       "<Figure size 1152x576 with 1 Axes>"
      ]
     },
     "metadata": {
      "needs_background": "light"
     },
     "output_type": "display_data"
    }
   ],
   "source": [
    "dnn_predictions.T.plot(kind=\"bar\", figsize=(16,8), grid=True, title=\"Predictions\")"
   ]
  },
  {
   "cell_type": "markdown",
   "metadata": {},
   "source": [
    "# Performing Feature Reduction"
   ]
  },
  {
   "cell_type": "markdown",
   "metadata": {},
   "source": [
    "## Getting correctly predictied samples form target class"
   ]
  },
  {
   "cell_type": "code",
   "execution_count": 114,
   "metadata": {},
   "outputs": [
    {
     "data": {
      "text/html": [
       "<div>\n",
       "<style scoped>\n",
       "    .dataframe tbody tr th:only-of-type {\n",
       "        vertical-align: middle;\n",
       "    }\n",
       "\n",
       "    .dataframe tbody tr th {\n",
       "        vertical-align: top;\n",
       "    }\n",
       "\n",
       "    .dataframe thead th {\n",
       "        text-align: right;\n",
       "    }\n",
       "</style>\n",
       "<table border=\"1\" class=\"dataframe\">\n",
       "  <thead>\n",
       "    <tr style=\"text-align: right;\">\n",
       "      <th></th>\n",
       "      <th>ROI01</th>\n",
       "      <th>ROI02</th>\n",
       "      <th>ROI03</th>\n",
       "      <th>ROI04</th>\n",
       "      <th>ROI05</th>\n",
       "      <th>ROI06</th>\n",
       "      <th>ROI07</th>\n",
       "      <th>ROI08</th>\n",
       "      <th>ROI09</th>\n",
       "      <th>ROI10</th>\n",
       "      <th>...</th>\n",
       "      <th>ROI324</th>\n",
       "      <th>ROI325</th>\n",
       "      <th>ROI326</th>\n",
       "      <th>ROI327</th>\n",
       "      <th>ROI328</th>\n",
       "      <th>ROI329</th>\n",
       "      <th>ROI330</th>\n",
       "      <th>ROI331</th>\n",
       "      <th>ROI332</th>\n",
       "      <th>ROI333</th>\n",
       "    </tr>\n",
       "    <tr>\n",
       "      <th>CandID</th>\n",
       "      <th></th>\n",
       "      <th></th>\n",
       "      <th></th>\n",
       "      <th></th>\n",
       "      <th></th>\n",
       "      <th></th>\n",
       "      <th></th>\n",
       "      <th></th>\n",
       "      <th></th>\n",
       "      <th></th>\n",
       "      <th></th>\n",
       "      <th></th>\n",
       "      <th></th>\n",
       "      <th></th>\n",
       "      <th></th>\n",
       "      <th></th>\n",
       "      <th></th>\n",
       "      <th></th>\n",
       "      <th></th>\n",
       "      <th></th>\n",
       "      <th></th>\n",
       "    </tr>\n",
       "  </thead>\n",
       "  <tbody>\n",
       "    <tr>\n",
       "      <th>792210</th>\n",
       "      <td>544.747375</td>\n",
       "      <td>282.156830</td>\n",
       "      <td>123.827805</td>\n",
       "      <td>114.922913</td>\n",
       "      <td>484.121674</td>\n",
       "      <td>582.419495</td>\n",
       "      <td>36.052818</td>\n",
       "      <td>157.572250</td>\n",
       "      <td>40.588688</td>\n",
       "      <td>47.223228</td>\n",
       "      <td>...</td>\n",
       "      <td>24.159775</td>\n",
       "      <td>112.068031</td>\n",
       "      <td>20.559933</td>\n",
       "      <td>214.147858</td>\n",
       "      <td>32.863773</td>\n",
       "      <td>1.123717</td>\n",
       "      <td>182.320999</td>\n",
       "      <td>30.593807</td>\n",
       "      <td>33.158493</td>\n",
       "      <td>13.562756</td>\n",
       "    </tr>\n",
       "    <tr>\n",
       "      <th>983222</th>\n",
       "      <td>933.468018</td>\n",
       "      <td>271.414246</td>\n",
       "      <td>148.111389</td>\n",
       "      <td>231.123978</td>\n",
       "      <td>479.046448</td>\n",
       "      <td>742.643127</td>\n",
       "      <td>48.516346</td>\n",
       "      <td>193.973755</td>\n",
       "      <td>76.143867</td>\n",
       "      <td>45.378262</td>\n",
       "      <td>...</td>\n",
       "      <td>102.482948</td>\n",
       "      <td>145.021393</td>\n",
       "      <td>27.981968</td>\n",
       "      <td>322.337891</td>\n",
       "      <td>185.100433</td>\n",
       "      <td>0.629175</td>\n",
       "      <td>214.278763</td>\n",
       "      <td>34.624138</td>\n",
       "      <td>52.946640</td>\n",
       "      <td>12.853605</td>\n",
       "    </tr>\n",
       "    <tr>\n",
       "      <th>550654</th>\n",
       "      <td>582.426941</td>\n",
       "      <td>282.628998</td>\n",
       "      <td>143.263550</td>\n",
       "      <td>168.284164</td>\n",
       "      <td>543.989014</td>\n",
       "      <td>741.479309</td>\n",
       "      <td>58.402592</td>\n",
       "      <td>178.831131</td>\n",
       "      <td>49.908901</td>\n",
       "      <td>73.196205</td>\n",
       "      <td>...</td>\n",
       "      <td>48.900711</td>\n",
       "      <td>115.665932</td>\n",
       "      <td>17.808430</td>\n",
       "      <td>172.590988</td>\n",
       "      <td>34.885277</td>\n",
       "      <td>1.625393</td>\n",
       "      <td>238.876267</td>\n",
       "      <td>42.057350</td>\n",
       "      <td>60.726261</td>\n",
       "      <td>18.062176</td>\n",
       "    </tr>\n",
       "    <tr>\n",
       "      <th>155712</th>\n",
       "      <td>795.377502</td>\n",
       "      <td>240.952698</td>\n",
       "      <td>196.493393</td>\n",
       "      <td>213.986206</td>\n",
       "      <td>314.419800</td>\n",
       "      <td>643.238892</td>\n",
       "      <td>52.760525</td>\n",
       "      <td>264.902863</td>\n",
       "      <td>28.139593</td>\n",
       "      <td>62.430672</td>\n",
       "      <td>...</td>\n",
       "      <td>60.877457</td>\n",
       "      <td>129.604446</td>\n",
       "      <td>29.433756</td>\n",
       "      <td>386.182373</td>\n",
       "      <td>91.552742</td>\n",
       "      <td>1.184271</td>\n",
       "      <td>243.952545</td>\n",
       "      <td>52.167412</td>\n",
       "      <td>52.148006</td>\n",
       "      <td>10.509195</td>\n",
       "    </tr>\n",
       "    <tr>\n",
       "      <th>174982</th>\n",
       "      <td>758.816345</td>\n",
       "      <td>442.528809</td>\n",
       "      <td>108.128662</td>\n",
       "      <td>151.116302</td>\n",
       "      <td>274.373566</td>\n",
       "      <td>619.112549</td>\n",
       "      <td>51.928787</td>\n",
       "      <td>238.683517</td>\n",
       "      <td>74.471985</td>\n",
       "      <td>67.038094</td>\n",
       "      <td>...</td>\n",
       "      <td>48.867573</td>\n",
       "      <td>141.627060</td>\n",
       "      <td>38.049244</td>\n",
       "      <td>346.767426</td>\n",
       "      <td>78.453850</td>\n",
       "      <td>1.226628</td>\n",
       "      <td>233.008820</td>\n",
       "      <td>18.408936</td>\n",
       "      <td>34.896164</td>\n",
       "      <td>19.120090</td>\n",
       "    </tr>\n",
       "  </tbody>\n",
       "</table>\n",
       "<p>5 rows × 333 columns</p>\n",
       "</div>"
      ],
      "text/plain": [
       "             ROI01       ROI02       ROI03       ROI04       ROI05  \\\n",
       "CandID                                                               \n",
       "792210  544.747375  282.156830  123.827805  114.922913  484.121674   \n",
       "983222  933.468018  271.414246  148.111389  231.123978  479.046448   \n",
       "550654  582.426941  282.628998  143.263550  168.284164  543.989014   \n",
       "155712  795.377502  240.952698  196.493393  213.986206  314.419800   \n",
       "174982  758.816345  442.528809  108.128662  151.116302  274.373566   \n",
       "\n",
       "             ROI06      ROI07       ROI08      ROI09      ROI10  ...  \\\n",
       "CandID                                                           ...   \n",
       "792210  582.419495  36.052818  157.572250  40.588688  47.223228  ...   \n",
       "983222  742.643127  48.516346  193.973755  76.143867  45.378262  ...   \n",
       "550654  741.479309  58.402592  178.831131  49.908901  73.196205  ...   \n",
       "155712  643.238892  52.760525  264.902863  28.139593  62.430672  ...   \n",
       "174982  619.112549  51.928787  238.683517  74.471985  67.038094  ...   \n",
       "\n",
       "            ROI324      ROI325     ROI326      ROI327      ROI328    ROI329  \\\n",
       "CandID                                                                        \n",
       "792210   24.159775  112.068031  20.559933  214.147858   32.863773  1.123717   \n",
       "983222  102.482948  145.021393  27.981968  322.337891  185.100433  0.629175   \n",
       "550654   48.900711  115.665932  17.808430  172.590988   34.885277  1.625393   \n",
       "155712   60.877457  129.604446  29.433756  386.182373   91.552742  1.184271   \n",
       "174982   48.867573  141.627060  38.049244  346.767426   78.453850  1.226628   \n",
       "\n",
       "            ROI330     ROI331     ROI332     ROI333  \n",
       "CandID                                               \n",
       "792210  182.320999  30.593807  33.158493  13.562756  \n",
       "983222  214.278763  34.624138  52.946640  12.853605  \n",
       "550654  238.876267  42.057350  60.726261  18.062176  \n",
       "155712  243.952545  52.167412  52.148006  10.509195  \n",
       "174982  233.008820  18.408936  34.896164  19.120090  \n",
       "\n",
       "[5 rows x 333 columns]"
      ]
     },
     "execution_count": 114,
     "metadata": {},
     "output_type": "execute_result"
    }
   ],
   "source": [
    "subcluster_labels = range(0,max(pipeline.clusterer.labels_)+1)\n",
    "\n",
    "# Get testing samples from cross validation\n",
    "reindexer = pipeline.testing_idxs\n",
    "\n",
    "# That were correctly predicted\n",
    "correct_preds = pipeline.correct_preds_bool_arr\n",
    "\n",
    "# Separating Control from Target\n",
    "target_samples  = train_labels.iloc[reindexer][correct_preds] == pipeline.target_class\n",
    "control_samples = ~target_samples\n",
    "\n",
    "target_class_features = train_data.iloc[reindexer][correct_preds][target_samples]\n",
    "target_class_labels   = train_labels.iloc[reindexer][correct_preds][target_samples]\n",
    "target_class_features.head()"
   ]
  },
  {
   "cell_type": "code",
   "execution_count": 115,
   "metadata": {},
   "outputs": [
    {
     "data": {
      "text/plain": [
       "(27, 333)"
      ]
     },
     "execution_count": 115,
     "metadata": {},
     "output_type": "execute_result"
    }
   ],
   "source": [
    "target_class_features.shape"
   ]
  },
  {
   "cell_type": "code",
   "execution_count": 159,
   "metadata": {},
   "outputs": [
    {
     "name": "stdout",
     "output_type": "stream",
     "text": [
      "Cluster: 0\n",
      "Size: 7\n",
      "Cluster: 1\n",
      "Size: 20\n"
     ]
    },
    {
     "data": {
      "image/png": "[encoded data removed]",
      "text/plain": [
       "<Figure size 1728x576 with 1 Axes>"
      ]
     },
     "metadata": {
      "needs_background": "light"
     },
     "output_type": "display_data"
    },
    {
     "data": {
      "image/png": "[encoded data removed]",
      "text/plain": [
       "<Figure size 1728x576 with 1 Axes>"
      ]
     },
     "metadata": {
      "needs_background": "light"
     },
     "output_type": "display_data"
    }
   ],
   "source": [
    "cluster_rels = {}\n",
    "cluster_metrics = {}\n",
    "\n",
    "for cluster_label in subcluster_labels:\n",
    "    \n",
    "    print(\"Cluster:\", cluster_label)\n",
    "    tsamples = target_class_features[(pipeline.clusterer.labels_ == cluster_label)]\n",
    "    tlabels  = target_class_labels[(pipeline.clusterer.labels_ == cluster_label)]\n",
    "    print(\"Size:\", tlabels.shape[0])\n",
    "    \n",
    "    _clustered = pd.DataFrame(pipeline.training_lrp[(pipeline.clusterer.labels_ == cluster_label)],\n",
    "                              columns = train_data.columns)\n",
    "#   \n",
    "    _metrics = _clustered.describe().loc[[\"mean\",\"75%\",\"max\"]]\n",
    "    srtd_metrics = _metrics.sort_values(by=[\"mean\", \"75%\", \"max\"], axis=1)\n",
    "    srtd_metrics.plot(kind=\"bar\", figsize=(24,8), legend=False, grid=True)\n",
    "    \n",
    "    cluster_metrics[cluster_label] = _metrics.T\n",
    "    cluster_rels[cluster_label] = _clustered"
   ]
  },
  {
   "cell_type": "markdown",
   "metadata": {},
   "source": [
    "## Individual metric histograms for each cluster"
   ]
  },
  {
   "cell_type": "code",
   "execution_count": 160,
   "metadata": {},
   "outputs": [
    {
     "data": {
      "text/plain": [
       "7.125993152312914e-05"
      ]
     },
     "execution_count": 160,
     "metadata": {},
     "output_type": "execute_result"
    }
   ],
   "source": [
    "cluster_metrics[0][\"mean\"].std()"
   ]
  },
  {
   "cell_type": "code",
   "execution_count": 161,
   "metadata": {},
   "outputs": [
    {
     "data": {
      "text/plain": [
       "Text(0.5, 0, 'Relevances')"
      ]
     },
     "execution_count": 161,
     "metadata": {},
     "output_type": "execute_result"
    },
    {
     "data": {
      "image/png": "[encoded data removed]",
      "text/plain": [
       "<Figure size 1440x576 with 1 Axes>"
      ]
     },
     "metadata": {
      "needs_background": "light"
     },
     "output_type": "display_data"
    }
   ],
   "source": [
    "# Looks like (exponential) pareto...\n",
    "\n",
    "ax = cluster_metrics[0][\"mean\"].plot(kind=\"hist\", figsize=(20,8), bins=15, grid=True, title=\"Distribution of Means\") \n",
    "ax.set_xlabel(\"Relevances\")"
   ]
  },
  {
   "cell_type": "code",
   "execution_count": 151,
   "metadata": {},
   "outputs": [
    {
     "data": {
      "text/plain": [
       "Text(0.5, 0, 'Relevances')"
      ]
     },
     "execution_count": 151,
     "metadata": {},
     "output_type": "execute_result"
    },
    {
     "data": {
      "image/png": "[encoded data removed]",
      "text/plain": [
       "<Figure size 1440x576 with 1 Axes>"
      ]
     },
     "metadata": {
      "needs_background": "light"
     },
     "output_type": "display_data"
    }
   ],
   "source": [
    "ax = cluster_metrics[1][\"mean\"].plot(kind=\"hist\", figsize=(20,8), bins=15, grid=True, title=\"Distribution of Means\") \n",
    "ax.set_xlabel(\"Relevances\")"
   ]
  },
  {
   "cell_type": "code",
   "execution_count": 170,
   "metadata": {},
   "outputs": [],
   "source": [
    "def get_relevant_cols(df, thresh = 1e-2):\n",
    "\n",
    "    all_above_thresh = (df < thresh).all(0) #Check if all values in columns satisfy the criteria\n",
    "    max_above_thresh = (df.max() < thresh)\n",
    "    quantile_above_thresh = (df.quantile(0.7) <= thresh)\n",
    "\n",
    "    criteria = max_above_thresh\n",
    "    irrelevant_cols = df.columns[criteria] \n",
    "    irrelevant_cols\n",
    "    \n",
    "    relevant_features_only = df.drop(columns = irrelevant_cols)\n",
    "    \n",
    "    return relevant_features_only"
   ]
  },
  {
   "cell_type": "code",
   "execution_count": 182,
   "metadata": {},
   "outputs": [
    {
     "name": "stdout",
     "output_type": "stream",
     "text": [
      "Thresh: 0.0003168120023466077\n",
      "Index(['ROI14', 'ROI15', 'ROI38', 'ROI44', 'ROI45', 'ROI48', 'ROI49', 'ROI50',\n",
      "       'ROI56', 'ROI63', 'ROI79', 'ROI80', 'ROI87', 'ROI90', 'ROI93', 'ROI120',\n",
      "       'ROI127', 'ROI131', 'ROI139', 'ROI150', 'ROI154', 'ROI166', 'ROI171',\n",
      "       'ROI175', 'ROI178', 'ROI185', 'ROI196', 'ROI197', 'ROI198', 'ROI200',\n",
      "       'ROI202', 'ROI208', 'ROI224', 'ROI230', 'ROI233', 'ROI239', 'ROI251',\n",
      "       'ROI252', 'ROI262', 'ROI268', 'ROI270', 'ROI271', 'ROI273', 'ROI274',\n",
      "       'ROI277', 'ROI280', 'ROI281', 'ROI283', 'ROI284', 'ROI285', 'ROI288',\n",
      "       'ROI306', 'ROI332', 'ROI333'],\n",
      "      dtype='object') 54\n",
      "Thresh: 0.0006104652520604642\n",
      "Index(['ROI05', 'ROI06', 'ROI07', 'ROI08', 'ROI11', 'ROI12', 'ROI13', 'ROI14',\n",
      "       'ROI15', 'ROI17',\n",
      "       ...\n",
      "       'ROI319', 'ROI321', 'ROI322', 'ROI325', 'ROI326', 'ROI327', 'ROI328',\n",
      "       'ROI330', 'ROI332', 'ROI333'],\n",
      "      dtype='object', length=166) 166\n"
     ]
    }
   ],
   "source": [
    "for cluster_label in subcluster_labels:\n",
    "\n",
    "    thresh = cluster_metrics[cluster_label][\"mean\"].mean() + 3*cluster_metrics[0][\"mean\"].std()\n",
    "#     thresh = _clustered.quantile(0.8).quantile(0.5)\n",
    "    print(\"Thresh:\", thresh)\n",
    "    reduced_cols = get_relevant_cols(cluster_rels[cluster_label], thresh=thresh).columns\n",
    "    print(reduced_cols, len(reduced_cols))"
   ]
  },
  {
   "cell_type": "code",
   "execution_count": null,
   "metadata": {},
   "outputs": [],
   "source": []
  }
 ],
 "metadata": {
  "kernelspec": {
   "display_name": "Python (condatensor)",
   "language": "python",
   "name": "condatensor"
  },
  "language_info": {
   "codemirror_mode": {
    "name": "ipython",
    "version": 3
   },
   "file_extension": ".py",
   "mimetype": "text/x-python",
   "name": "python",
   "nbconvert_exporter": "python",
   "pygments_lexer": "ipython3",
   "version": "3.6.8"
  }
 },
 "nbformat": 4,
 "nbformat_minor": 4
}
