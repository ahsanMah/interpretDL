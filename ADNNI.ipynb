{
 "cells": [
  {
   "cell_type": "code",
   "execution_count": 6,
   "metadata": {},
   "outputs": [
    {
     "data": {
      "text/plain": [
       "'1.13.1'"
      ]
     },
     "execution_count": 6,
     "metadata": {},
     "output_type": "execute_result"
    }
   ],
   "source": [
    "import tensorflow as tf\n",
    "import numpy as np\n",
    "import pandas as pd\n",
    "import keras\n",
    "\n",
    "import sys\n",
    "# sys.path.append(\"/Users/Work/Developer/interpretDL/interprettensor\")\n",
    "root_logdir = \"./tf_logs\"\n",
    "\n",
    "# To plot pretty figures\n",
    "%matplotlib inline\n",
    "import matplotlib\n",
    "import matplotlib.pyplot as plt\n",
    "plt.rcParams['axes.labelsize'] = 14\n",
    "plt.rcParams['xtick.labelsize'] = 12\n",
    "plt.rcParams['ytick.labelsize'] = 12\n",
    "\n",
    "# to make this notebook's output stable across runs\n",
    "def reset_graph(seed=42):\n",
    "    tf.reset_default_graph()\n",
    "    tf.set_random_seed(seed)\n",
    "    np.random.seed(seed)\n",
    "\n",
    "    \n",
    "def get1hot(y_train,y_test):\n",
    "    from sklearn.preprocessing import OneHotEncoder\n",
    "\n",
    "    enc = OneHotEncoder(categories=\"auto\", sparse=False)\n",
    "    y_train_1hot = enc.fit_transform([[label] for label in y_train]) # Since the function expects an array of \"features\" per sample\n",
    "    y_test_1hot = enc.fit_transform([[label] for label in y_test])\n",
    "\n",
    "    return y_train_1hot, y_test_1hot\n",
    "    \n",
    "tf.__version__"
   ]
  },
  {
   "cell_type": "markdown",
   "metadata": {},
   "source": [
    "### Getting data from csv"
   ]
  },
  {
   "cell_type": "code",
   "execution_count": 7,
   "metadata": {},
   "outputs": [
    {
     "name": "stdout",
     "output_type": "stream",
     "text": [
      "<class 'pandas.core.frame.DataFrame'>\n",
      "RangeIndex: 143 entries, 0 to 142\n",
      "Columns: 300 entries, PTID to DX_bl\n",
      "dtypes: float64(149), int64(148), object(3)\n",
      "memory usage: 335.2+ KB\n",
      "None\n"
     ]
    },
    {
     "data": {
      "text/html": [
       "<div>\n",
       "<style scoped>\n",
       "    .dataframe tbody tr th:only-of-type {\n",
       "        vertical-align: middle;\n",
       "    }\n",
       "\n",
       "    .dataframe tbody tr th {\n",
       "        vertical-align: top;\n",
       "    }\n",
       "\n",
       "    .dataframe thead th {\n",
       "        text-align: right;\n",
       "    }\n",
       "</style>\n",
       "<table border=\"1\" class=\"dataframe\">\n",
       "  <thead>\n",
       "    <tr style=\"text-align: right;\">\n",
       "      <th></th>\n",
       "      <th>PTID</th>\n",
       "      <th>scandate</th>\n",
       "      <th>ICV</th>\n",
       "      <th>G_and_S_frontomargin_SA_lh</th>\n",
       "      <th>G_and_S_frontomargin_TH_lh</th>\n",
       "      <th>G_and_S_occipital_inf_SA_lh</th>\n",
       "      <th>G_and_S_occipital_inf_TH_lh</th>\n",
       "      <th>G_and_S_paracentral_SA_lh</th>\n",
       "      <th>G_and_S_paracentral_TH_lh</th>\n",
       "      <th>G_and_S_subcentral_SA_lh</th>\n",
       "      <th>...</th>\n",
       "      <th>S_suborbital_TH_rh</th>\n",
       "      <th>S_subparietal_SA_rh</th>\n",
       "      <th>S_subparietal_TH_rh</th>\n",
       "      <th>S_temporal_inf_SA_rh</th>\n",
       "      <th>S_temporal_inf_TH_rh</th>\n",
       "      <th>S_temporal_sup_SA_rh</th>\n",
       "      <th>S_temporal_sup_TH_rh</th>\n",
       "      <th>S_temporal_transverse_SA_rh</th>\n",
       "      <th>S_temporal_transverse_TH_rh</th>\n",
       "      <th>DX_bl</th>\n",
       "    </tr>\n",
       "  </thead>\n",
       "  <tbody>\n",
       "    <tr>\n",
       "      <th>0</th>\n",
       "      <td>094_S_2216</td>\n",
       "      <td>2011-05-04 08:35:04.461</td>\n",
       "      <td>307244.6</td>\n",
       "      <td>936</td>\n",
       "      <td>1.984</td>\n",
       "      <td>1158</td>\n",
       "      <td>2.107</td>\n",
       "      <td>993</td>\n",
       "      <td>2.306</td>\n",
       "      <td>1226</td>\n",
       "      <td>...</td>\n",
       "      <td>1.421</td>\n",
       "      <td>1007</td>\n",
       "      <td>1.937</td>\n",
       "      <td>763</td>\n",
       "      <td>1.759</td>\n",
       "      <td>4349</td>\n",
       "      <td>2.025</td>\n",
       "      <td>249</td>\n",
       "      <td>1.579</td>\n",
       "      <td>EMCI</td>\n",
       "    </tr>\n",
       "    <tr>\n",
       "      <th>1</th>\n",
       "      <td>029_S_2376</td>\n",
       "      <td>2011-07-05 18:17:58.518</td>\n",
       "      <td>303135.8</td>\n",
       "      <td>855</td>\n",
       "      <td>2.160</td>\n",
       "      <td>1291</td>\n",
       "      <td>2.287</td>\n",
       "      <td>1137</td>\n",
       "      <td>1.961</td>\n",
       "      <td>1451</td>\n",
       "      <td>...</td>\n",
       "      <td>2.457</td>\n",
       "      <td>1195</td>\n",
       "      <td>1.804</td>\n",
       "      <td>635</td>\n",
       "      <td>1.970</td>\n",
       "      <td>4895</td>\n",
       "      <td>2.071</td>\n",
       "      <td>344</td>\n",
       "      <td>1.642</td>\n",
       "      <td>EMCI</td>\n",
       "    </tr>\n",
       "    <tr>\n",
       "      <th>2</th>\n",
       "      <td>098_S_4003</td>\n",
       "      <td>2016-05-04 15:44:47.525</td>\n",
       "      <td>234729.1</td>\n",
       "      <td>849</td>\n",
       "      <td>2.122</td>\n",
       "      <td>909</td>\n",
       "      <td>2.272</td>\n",
       "      <td>788</td>\n",
       "      <td>2.430</td>\n",
       "      <td>717</td>\n",
       "      <td>...</td>\n",
       "      <td>2.222</td>\n",
       "      <td>626</td>\n",
       "      <td>1.870</td>\n",
       "      <td>784</td>\n",
       "      <td>1.826</td>\n",
       "      <td>3182</td>\n",
       "      <td>2.056</td>\n",
       "      <td>195</td>\n",
       "      <td>2.179</td>\n",
       "      <td>CN</td>\n",
       "    </tr>\n",
       "    <tr>\n",
       "      <th>3</th>\n",
       "      <td>021_S_2077</td>\n",
       "      <td>2014-10-21 15:26:50.834</td>\n",
       "      <td>278496.2</td>\n",
       "      <td>762</td>\n",
       "      <td>2.237</td>\n",
       "      <td>969</td>\n",
       "      <td>2.141</td>\n",
       "      <td>1153</td>\n",
       "      <td>2.130</td>\n",
       "      <td>1156</td>\n",
       "      <td>...</td>\n",
       "      <td>2.880</td>\n",
       "      <td>1127</td>\n",
       "      <td>2.245</td>\n",
       "      <td>789</td>\n",
       "      <td>1.924</td>\n",
       "      <td>4399</td>\n",
       "      <td>2.014</td>\n",
       "      <td>243</td>\n",
       "      <td>1.826</td>\n",
       "      <td>EMCI</td>\n",
       "    </tr>\n",
       "    <tr>\n",
       "      <th>4</th>\n",
       "      <td>021_S_5099</td>\n",
       "      <td>2013-06-11 14:47:47.885</td>\n",
       "      <td>221848.6</td>\n",
       "      <td>752</td>\n",
       "      <td>2.073</td>\n",
       "      <td>960</td>\n",
       "      <td>2.521</td>\n",
       "      <td>873</td>\n",
       "      <td>2.374</td>\n",
       "      <td>810</td>\n",
       "      <td>...</td>\n",
       "      <td>3.412</td>\n",
       "      <td>790</td>\n",
       "      <td>2.276</td>\n",
       "      <td>665</td>\n",
       "      <td>2.535</td>\n",
       "      <td>2914</td>\n",
       "      <td>2.168</td>\n",
       "      <td>183</td>\n",
       "      <td>2.166</td>\n",
       "      <td>EMCI</td>\n",
       "    </tr>\n",
       "  </tbody>\n",
       "</table>\n",
       "<p>5 rows × 300 columns</p>\n",
       "</div>"
      ],
      "text/plain": [
       "         PTID                 scandate       ICV  G_and_S_frontomargin_SA_lh  \\\n",
       "0  094_S_2216  2011-05-04 08:35:04.461  307244.6                         936   \n",
       "1  029_S_2376  2011-07-05 18:17:58.518  303135.8                         855   \n",
       "2  098_S_4003  2016-05-04 15:44:47.525  234729.1                         849   \n",
       "3  021_S_2077  2014-10-21 15:26:50.834  278496.2                         762   \n",
       "4  021_S_5099  2013-06-11 14:47:47.885  221848.6                         752   \n",
       "\n",
       "   G_and_S_frontomargin_TH_lh  G_and_S_occipital_inf_SA_lh  \\\n",
       "0                       1.984                         1158   \n",
       "1                       2.160                         1291   \n",
       "2                       2.122                          909   \n",
       "3                       2.237                          969   \n",
       "4                       2.073                          960   \n",
       "\n",
       "   G_and_S_occipital_inf_TH_lh  G_and_S_paracentral_SA_lh  \\\n",
       "0                        2.107                        993   \n",
       "1                        2.287                       1137   \n",
       "2                        2.272                        788   \n",
       "3                        2.141                       1153   \n",
       "4                        2.521                        873   \n",
       "\n",
       "   G_and_S_paracentral_TH_lh  G_and_S_subcentral_SA_lh  ...  \\\n",
       "0                      2.306                      1226  ...   \n",
       "1                      1.961                      1451  ...   \n",
       "2                      2.430                       717  ...   \n",
       "3                      2.130                      1156  ...   \n",
       "4                      2.374                       810  ...   \n",
       "\n",
       "   S_suborbital_TH_rh  S_subparietal_SA_rh  S_subparietal_TH_rh  \\\n",
       "0               1.421                 1007                1.937   \n",
       "1               2.457                 1195                1.804   \n",
       "2               2.222                  626                1.870   \n",
       "3               2.880                 1127                2.245   \n",
       "4               3.412                  790                2.276   \n",
       "\n",
       "   S_temporal_inf_SA_rh  S_temporal_inf_TH_rh  S_temporal_sup_SA_rh  \\\n",
       "0                   763                 1.759                  4349   \n",
       "1                   635                 1.970                  4895   \n",
       "2                   784                 1.826                  3182   \n",
       "3                   789                 1.924                  4399   \n",
       "4                   665                 2.535                  2914   \n",
       "\n",
       "   S_temporal_sup_TH_rh  S_temporal_transverse_SA_rh  \\\n",
       "0                 2.025                          249   \n",
       "1                 2.071                          344   \n",
       "2                 2.056                          195   \n",
       "3                 2.014                          243   \n",
       "4                 2.168                          183   \n",
       "\n",
       "   S_temporal_transverse_TH_rh  DX_bl  \n",
       "0                        1.579   EMCI  \n",
       "1                        1.642   EMCI  \n",
       "2                        2.179     CN  \n",
       "3                        1.826   EMCI  \n",
       "4                        2.166   EMCI  \n",
       "\n",
       "[5 rows x 300 columns]"
      ]
     },
     "execution_count": 7,
     "metadata": {},
     "output_type": "execute_result"
    }
   ],
   "source": [
    "filename = \"ICV_ADNI.csv\"\n",
    "raw_data = pd.read_csv(filename)\n",
    "print(raw_data.info())\n",
    "raw_data.head()"
   ]
  },
  {
   "cell_type": "code",
   "execution_count": 8,
   "metadata": {},
   "outputs": [],
   "source": [
    "# np.power(ICVs, 1/3)"
   ]
  },
  {
   "cell_type": "markdown",
   "metadata": {},
   "source": [
    "**Should do some form of test train split**\n",
    "\n",
    "We'll start with a (stratified) shuffle split for now. Startified sampling ensures that **test** set has the correct representation of each category.\n",
    "\n",
    "Later move on to K-Folds to really test out the network...\n",
    "\n",
    "# IDEAS\n",
    "\n",
    "## How about make it CN vs AD only\n",
    "\n",
    "\n",
    "### How about we fuse some of the classes - wont reduce samples\n",
    "> NC = NC + SMC -> just fuse them \n",
    "\n",
    "> MCI = EMCI + LMCI\n",
    "\n",
    "> AD\n",
    "\n",
    "### Try removing SA from the features\n",
    "> Just keep Thickness\n",
    "\n",
    "#### Add hippocampus volumes L and R\n",
    "> from aseg.stat\n",
    "\n",
    "> Also add up all volumes in aseg.stat and add up to get ICV intra cranial volume\n",
    "\n",
    "### Instead could normalize the thickness by ICV (divide them by ICV value)\n",
    "> Note that ICV = mm^3 and thickness = mm, so divide by ICV^(1/3)\n",
    "\n",
    "\n",
    "### > Balancing the training set -> SMOTE\n",
    "- look at scikit learn, scipy\n",
    "- just do it in feature space\n",
    "- will interpolate samples to balance the classes\n",
    "\n",
    "\n",
    "### ANOTHER approach is to ** pretrain ** if nothing else works\n",
    "- Pretrain on all 600 samples\n",
    "- Freeze all but the last two layers and retrain on 143 dataset\n",
    "- Make sure that test set is never seen, eevn in pretraining"
   ]
  },
  {
   "cell_type": "code",
   "execution_count": 71,
   "metadata": {},
   "outputs": [
    {
     "data": {
      "text/html": [
       "<div>\n",
       "<style scoped>\n",
       "    .dataframe tbody tr th:only-of-type {\n",
       "        vertical-align: middle;\n",
       "    }\n",
       "\n",
       "    .dataframe tbody tr th {\n",
       "        vertical-align: top;\n",
       "    }\n",
       "\n",
       "    .dataframe thead th {\n",
       "        text-align: right;\n",
       "    }\n",
       "</style>\n",
       "<table border=\"1\" class=\"dataframe\">\n",
       "  <thead>\n",
       "    <tr style=\"text-align: right;\">\n",
       "      <th></th>\n",
       "      <th>G_and_S_frontomargin_SA_lh</th>\n",
       "      <th>G_and_S_frontomargin_TH_lh</th>\n",
       "      <th>G_and_S_occipital_inf_SA_lh</th>\n",
       "      <th>G_and_S_occipital_inf_TH_lh</th>\n",
       "      <th>G_and_S_paracentral_SA_lh</th>\n",
       "      <th>G_and_S_paracentral_TH_lh</th>\n",
       "      <th>G_and_S_subcentral_SA_lh</th>\n",
       "      <th>G_and_S_subcentral_TH_lh</th>\n",
       "      <th>G_and_S_transv_frontopol_SA_lh</th>\n",
       "      <th>G_and_S_transv_frontopol_TH_lh</th>\n",
       "      <th>...</th>\n",
       "      <th>S_suborbital_SA_rh</th>\n",
       "      <th>S_suborbital_TH_rh</th>\n",
       "      <th>S_subparietal_SA_rh</th>\n",
       "      <th>S_subparietal_TH_rh</th>\n",
       "      <th>S_temporal_inf_SA_rh</th>\n",
       "      <th>S_temporal_inf_TH_rh</th>\n",
       "      <th>S_temporal_sup_SA_rh</th>\n",
       "      <th>S_temporal_sup_TH_rh</th>\n",
       "      <th>S_temporal_transverse_SA_rh</th>\n",
       "      <th>S_temporal_transverse_TH_rh</th>\n",
       "    </tr>\n",
       "  </thead>\n",
       "  <tbody>\n",
       "    <tr>\n",
       "      <th>0</th>\n",
       "      <td>936</td>\n",
       "      <td>1.984</td>\n",
       "      <td>1158</td>\n",
       "      <td>2.107</td>\n",
       "      <td>993</td>\n",
       "      <td>2.306</td>\n",
       "      <td>1226</td>\n",
       "      <td>2.359</td>\n",
       "      <td>443</td>\n",
       "      <td>2.338</td>\n",
       "      <td>...</td>\n",
       "      <td>254</td>\n",
       "      <td>1.421</td>\n",
       "      <td>1007</td>\n",
       "      <td>1.937</td>\n",
       "      <td>763</td>\n",
       "      <td>1.759</td>\n",
       "      <td>4349</td>\n",
       "      <td>2.025</td>\n",
       "      <td>249</td>\n",
       "      <td>1.579</td>\n",
       "    </tr>\n",
       "    <tr>\n",
       "      <th>1</th>\n",
       "      <td>855</td>\n",
       "      <td>2.160</td>\n",
       "      <td>1291</td>\n",
       "      <td>2.287</td>\n",
       "      <td>1137</td>\n",
       "      <td>1.961</td>\n",
       "      <td>1451</td>\n",
       "      <td>2.059</td>\n",
       "      <td>685</td>\n",
       "      <td>2.207</td>\n",
       "      <td>...</td>\n",
       "      <td>309</td>\n",
       "      <td>2.457</td>\n",
       "      <td>1195</td>\n",
       "      <td>1.804</td>\n",
       "      <td>635</td>\n",
       "      <td>1.970</td>\n",
       "      <td>4895</td>\n",
       "      <td>2.071</td>\n",
       "      <td>344</td>\n",
       "      <td>1.642</td>\n",
       "    </tr>\n",
       "    <tr>\n",
       "      <th>2</th>\n",
       "      <td>849</td>\n",
       "      <td>2.122</td>\n",
       "      <td>909</td>\n",
       "      <td>2.272</td>\n",
       "      <td>788</td>\n",
       "      <td>2.430</td>\n",
       "      <td>717</td>\n",
       "      <td>2.606</td>\n",
       "      <td>474</td>\n",
       "      <td>2.456</td>\n",
       "      <td>...</td>\n",
       "      <td>250</td>\n",
       "      <td>2.222</td>\n",
       "      <td>626</td>\n",
       "      <td>1.870</td>\n",
       "      <td>784</td>\n",
       "      <td>1.826</td>\n",
       "      <td>3182</td>\n",
       "      <td>2.056</td>\n",
       "      <td>195</td>\n",
       "      <td>2.179</td>\n",
       "    </tr>\n",
       "    <tr>\n",
       "      <th>3</th>\n",
       "      <td>762</td>\n",
       "      <td>2.237</td>\n",
       "      <td>969</td>\n",
       "      <td>2.141</td>\n",
       "      <td>1153</td>\n",
       "      <td>2.130</td>\n",
       "      <td>1156</td>\n",
       "      <td>2.135</td>\n",
       "      <td>421</td>\n",
       "      <td>2.282</td>\n",
       "      <td>...</td>\n",
       "      <td>180</td>\n",
       "      <td>2.880</td>\n",
       "      <td>1127</td>\n",
       "      <td>2.245</td>\n",
       "      <td>789</td>\n",
       "      <td>1.924</td>\n",
       "      <td>4399</td>\n",
       "      <td>2.014</td>\n",
       "      <td>243</td>\n",
       "      <td>1.826</td>\n",
       "    </tr>\n",
       "    <tr>\n",
       "      <th>4</th>\n",
       "      <td>752</td>\n",
       "      <td>2.073</td>\n",
       "      <td>960</td>\n",
       "      <td>2.521</td>\n",
       "      <td>873</td>\n",
       "      <td>2.374</td>\n",
       "      <td>810</td>\n",
       "      <td>2.481</td>\n",
       "      <td>460</td>\n",
       "      <td>2.331</td>\n",
       "      <td>...</td>\n",
       "      <td>197</td>\n",
       "      <td>3.412</td>\n",
       "      <td>790</td>\n",
       "      <td>2.276</td>\n",
       "      <td>665</td>\n",
       "      <td>2.535</td>\n",
       "      <td>2914</td>\n",
       "      <td>2.168</td>\n",
       "      <td>183</td>\n",
       "      <td>2.166</td>\n",
       "    </tr>\n",
       "  </tbody>\n",
       "</table>\n",
       "<p>5 rows × 296 columns</p>\n",
       "</div>"
      ],
      "text/plain": [
       "   G_and_S_frontomargin_SA_lh  G_and_S_frontomargin_TH_lh  \\\n",
       "0                         936                       1.984   \n",
       "1                         855                       2.160   \n",
       "2                         849                       2.122   \n",
       "3                         762                       2.237   \n",
       "4                         752                       2.073   \n",
       "\n",
       "   G_and_S_occipital_inf_SA_lh  G_and_S_occipital_inf_TH_lh  \\\n",
       "0                         1158                        2.107   \n",
       "1                         1291                        2.287   \n",
       "2                          909                        2.272   \n",
       "3                          969                        2.141   \n",
       "4                          960                        2.521   \n",
       "\n",
       "   G_and_S_paracentral_SA_lh  G_and_S_paracentral_TH_lh  \\\n",
       "0                        993                      2.306   \n",
       "1                       1137                      1.961   \n",
       "2                        788                      2.430   \n",
       "3                       1153                      2.130   \n",
       "4                        873                      2.374   \n",
       "\n",
       "   G_and_S_subcentral_SA_lh  G_and_S_subcentral_TH_lh  \\\n",
       "0                      1226                     2.359   \n",
       "1                      1451                     2.059   \n",
       "2                       717                     2.606   \n",
       "3                      1156                     2.135   \n",
       "4                       810                     2.481   \n",
       "\n",
       "   G_and_S_transv_frontopol_SA_lh  G_and_S_transv_frontopol_TH_lh  ...  \\\n",
       "0                             443                           2.338  ...   \n",
       "1                             685                           2.207  ...   \n",
       "2                             474                           2.456  ...   \n",
       "3                             421                           2.282  ...   \n",
       "4                             460                           2.331  ...   \n",
       "\n",
       "   S_suborbital_SA_rh  S_suborbital_TH_rh  S_subparietal_SA_rh  \\\n",
       "0                 254               1.421                 1007   \n",
       "1                 309               2.457                 1195   \n",
       "2                 250               2.222                  626   \n",
       "3                 180               2.880                 1127   \n",
       "4                 197               3.412                  790   \n",
       "\n",
       "   S_subparietal_TH_rh  S_temporal_inf_SA_rh  S_temporal_inf_TH_rh  \\\n",
       "0                1.937                   763                 1.759   \n",
       "1                1.804                   635                 1.970   \n",
       "2                1.870                   784                 1.826   \n",
       "3                2.245                   789                 1.924   \n",
       "4                2.276                   665                 2.535   \n",
       "\n",
       "   S_temporal_sup_SA_rh  S_temporal_sup_TH_rh  S_temporal_transverse_SA_rh  \\\n",
       "0                  4349                 2.025                          249   \n",
       "1                  4895                 2.071                          344   \n",
       "2                  3182                 2.056                          195   \n",
       "3                  4399                 2.014                          243   \n",
       "4                  2914                 2.168                          183   \n",
       "\n",
       "   S_temporal_transverse_TH_rh  \n",
       "0                        1.579  \n",
       "1                        1.642  \n",
       "2                        2.179  \n",
       "3                        1.826  \n",
       "4                        2.166  \n",
       "\n",
       "[5 rows x 296 columns]"
      ]
     },
     "execution_count": 71,
     "metadata": {},
     "output_type": "execute_result"
    }
   ],
   "source": [
    "label_col = \"DX_bl\"\n",
    "features = raw_data.drop(columns=[\"PTID\", \"scandate\", \"ICV\",label_col])\n",
    "raw_labels = raw_data[label_col].copy()\n",
    "ICVs = raw_data[\"ICV\"].copy()\n",
    "features.head()"
   ]
  },
  {
   "cell_type": "code",
   "execution_count": 72,
   "metadata": {},
   "outputs": [
    {
     "data": {
      "text/html": [
       "<div>\n",
       "<style scoped>\n",
       "    .dataframe tbody tr th:only-of-type {\n",
       "        vertical-align: middle;\n",
       "    }\n",
       "\n",
       "    .dataframe tbody tr th {\n",
       "        vertical-align: top;\n",
       "    }\n",
       "\n",
       "    .dataframe thead th {\n",
       "        text-align: right;\n",
       "    }\n",
       "</style>\n",
       "<table border=\"1\" class=\"dataframe\">\n",
       "  <thead>\n",
       "    <tr style=\"text-align: right;\">\n",
       "      <th></th>\n",
       "      <th>G_and_S_frontomargin_TH_lh</th>\n",
       "      <th>G_and_S_occipital_inf_TH_lh</th>\n",
       "      <th>G_and_S_paracentral_TH_lh</th>\n",
       "      <th>G_and_S_subcentral_TH_lh</th>\n",
       "      <th>G_and_S_transv_frontopol_TH_lh</th>\n",
       "      <th>G_and_S_cingul-Ant_TH_lh</th>\n",
       "      <th>G_and_S_cingul-Mid-Ant_TH_lh</th>\n",
       "      <th>G_and_S_cingul-Mid-Post_TH_lh</th>\n",
       "      <th>G_cingul-Post-dorsal_TH_lh</th>\n",
       "      <th>G_cingul-Post-ventral_TH_lh</th>\n",
       "      <th>...</th>\n",
       "      <th>S_parieto_occipital_TH_rh</th>\n",
       "      <th>S_pericallosal_TH_rh</th>\n",
       "      <th>S_postcentral_TH_rh</th>\n",
       "      <th>S_precentral-inf-part_TH_rh</th>\n",
       "      <th>S_precentral-sup-part_TH_rh</th>\n",
       "      <th>S_suborbital_TH_rh</th>\n",
       "      <th>S_subparietal_TH_rh</th>\n",
       "      <th>S_temporal_inf_TH_rh</th>\n",
       "      <th>S_temporal_sup_TH_rh</th>\n",
       "      <th>S_temporal_transverse_TH_rh</th>\n",
       "    </tr>\n",
       "  </thead>\n",
       "  <tbody>\n",
       "    <tr>\n",
       "      <th>0</th>\n",
       "      <td>1.984</td>\n",
       "      <td>2.107</td>\n",
       "      <td>2.306</td>\n",
       "      <td>2.359</td>\n",
       "      <td>2.338</td>\n",
       "      <td>2.185</td>\n",
       "      <td>2.351</td>\n",
       "      <td>2.294</td>\n",
       "      <td>2.656</td>\n",
       "      <td>2.034</td>\n",
       "      <td>...</td>\n",
       "      <td>1.836</td>\n",
       "      <td>2.148</td>\n",
       "      <td>1.731</td>\n",
       "      <td>2.309</td>\n",
       "      <td>1.984</td>\n",
       "      <td>1.421</td>\n",
       "      <td>1.937</td>\n",
       "      <td>1.759</td>\n",
       "      <td>2.025</td>\n",
       "      <td>1.579</td>\n",
       "    </tr>\n",
       "    <tr>\n",
       "      <th>1</th>\n",
       "      <td>2.160</td>\n",
       "      <td>2.287</td>\n",
       "      <td>1.961</td>\n",
       "      <td>2.059</td>\n",
       "      <td>2.207</td>\n",
       "      <td>2.371</td>\n",
       "      <td>2.121</td>\n",
       "      <td>1.987</td>\n",
       "      <td>2.289</td>\n",
       "      <td>2.060</td>\n",
       "      <td>...</td>\n",
       "      <td>1.692</td>\n",
       "      <td>1.832</td>\n",
       "      <td>1.589</td>\n",
       "      <td>2.189</td>\n",
       "      <td>1.861</td>\n",
       "      <td>2.457</td>\n",
       "      <td>1.804</td>\n",
       "      <td>1.970</td>\n",
       "      <td>2.071</td>\n",
       "      <td>1.642</td>\n",
       "    </tr>\n",
       "    <tr>\n",
       "      <th>2</th>\n",
       "      <td>2.122</td>\n",
       "      <td>2.272</td>\n",
       "      <td>2.430</td>\n",
       "      <td>2.606</td>\n",
       "      <td>2.456</td>\n",
       "      <td>2.541</td>\n",
       "      <td>2.580</td>\n",
       "      <td>2.276</td>\n",
       "      <td>2.578</td>\n",
       "      <td>2.291</td>\n",
       "      <td>...</td>\n",
       "      <td>1.977</td>\n",
       "      <td>2.623</td>\n",
       "      <td>1.882</td>\n",
       "      <td>2.192</td>\n",
       "      <td>2.071</td>\n",
       "      <td>2.222</td>\n",
       "      <td>1.870</td>\n",
       "      <td>1.826</td>\n",
       "      <td>2.056</td>\n",
       "      <td>2.179</td>\n",
       "    </tr>\n",
       "    <tr>\n",
       "      <th>3</th>\n",
       "      <td>2.237</td>\n",
       "      <td>2.141</td>\n",
       "      <td>2.130</td>\n",
       "      <td>2.135</td>\n",
       "      <td>2.282</td>\n",
       "      <td>2.218</td>\n",
       "      <td>2.213</td>\n",
       "      <td>2.332</td>\n",
       "      <td>2.985</td>\n",
       "      <td>2.224</td>\n",
       "      <td>...</td>\n",
       "      <td>1.749</td>\n",
       "      <td>2.065</td>\n",
       "      <td>1.882</td>\n",
       "      <td>2.071</td>\n",
       "      <td>2.104</td>\n",
       "      <td>2.880</td>\n",
       "      <td>2.245</td>\n",
       "      <td>1.924</td>\n",
       "      <td>2.014</td>\n",
       "      <td>1.826</td>\n",
       "    </tr>\n",
       "    <tr>\n",
       "      <th>4</th>\n",
       "      <td>2.073</td>\n",
       "      <td>2.521</td>\n",
       "      <td>2.374</td>\n",
       "      <td>2.481</td>\n",
       "      <td>2.331</td>\n",
       "      <td>2.854</td>\n",
       "      <td>2.854</td>\n",
       "      <td>2.533</td>\n",
       "      <td>3.032</td>\n",
       "      <td>2.412</td>\n",
       "      <td>...</td>\n",
       "      <td>2.118</td>\n",
       "      <td>2.887</td>\n",
       "      <td>1.862</td>\n",
       "      <td>2.146</td>\n",
       "      <td>2.238</td>\n",
       "      <td>3.412</td>\n",
       "      <td>2.276</td>\n",
       "      <td>2.535</td>\n",
       "      <td>2.168</td>\n",
       "      <td>2.166</td>\n",
       "    </tr>\n",
       "  </tbody>\n",
       "</table>\n",
       "<p>5 rows × 148 columns</p>\n",
       "</div>"
      ],
      "text/plain": [
       "   G_and_S_frontomargin_TH_lh  G_and_S_occipital_inf_TH_lh  \\\n",
       "0                       1.984                        2.107   \n",
       "1                       2.160                        2.287   \n",
       "2                       2.122                        2.272   \n",
       "3                       2.237                        2.141   \n",
       "4                       2.073                        2.521   \n",
       "\n",
       "   G_and_S_paracentral_TH_lh  G_and_S_subcentral_TH_lh  \\\n",
       "0                      2.306                     2.359   \n",
       "1                      1.961                     2.059   \n",
       "2                      2.430                     2.606   \n",
       "3                      2.130                     2.135   \n",
       "4                      2.374                     2.481   \n",
       "\n",
       "   G_and_S_transv_frontopol_TH_lh  G_and_S_cingul-Ant_TH_lh  \\\n",
       "0                           2.338                     2.185   \n",
       "1                           2.207                     2.371   \n",
       "2                           2.456                     2.541   \n",
       "3                           2.282                     2.218   \n",
       "4                           2.331                     2.854   \n",
       "\n",
       "   G_and_S_cingul-Mid-Ant_TH_lh  G_and_S_cingul-Mid-Post_TH_lh  \\\n",
       "0                         2.351                          2.294   \n",
       "1                         2.121                          1.987   \n",
       "2                         2.580                          2.276   \n",
       "3                         2.213                          2.332   \n",
       "4                         2.854                          2.533   \n",
       "\n",
       "   G_cingul-Post-dorsal_TH_lh  G_cingul-Post-ventral_TH_lh  ...  \\\n",
       "0                       2.656                        2.034  ...   \n",
       "1                       2.289                        2.060  ...   \n",
       "2                       2.578                        2.291  ...   \n",
       "3                       2.985                        2.224  ...   \n",
       "4                       3.032                        2.412  ...   \n",
       "\n",
       "   S_parieto_occipital_TH_rh  S_pericallosal_TH_rh  S_postcentral_TH_rh  \\\n",
       "0                      1.836                 2.148                1.731   \n",
       "1                      1.692                 1.832                1.589   \n",
       "2                      1.977                 2.623                1.882   \n",
       "3                      1.749                 2.065                1.882   \n",
       "4                      2.118                 2.887                1.862   \n",
       "\n",
       "   S_precentral-inf-part_TH_rh  S_precentral-sup-part_TH_rh  \\\n",
       "0                        2.309                        1.984   \n",
       "1                        2.189                        1.861   \n",
       "2                        2.192                        2.071   \n",
       "3                        2.071                        2.104   \n",
       "4                        2.146                        2.238   \n",
       "\n",
       "   S_suborbital_TH_rh  S_subparietal_TH_rh  S_temporal_inf_TH_rh  \\\n",
       "0               1.421                1.937                 1.759   \n",
       "1               2.457                1.804                 1.970   \n",
       "2               2.222                1.870                 1.826   \n",
       "3               2.880                2.245                 1.924   \n",
       "4               3.412                2.276                 2.535   \n",
       "\n",
       "   S_temporal_sup_TH_rh  S_temporal_transverse_TH_rh  \n",
       "0                 2.025                        1.579  \n",
       "1                 2.071                        1.642  \n",
       "2                 2.056                        2.179  \n",
       "3                 2.014                        1.826  \n",
       "4                 2.168                        2.166  \n",
       "\n",
       "[5 rows x 148 columns]"
      ]
     },
     "execution_count": 72,
     "metadata": {},
     "output_type": "execute_result"
    }
   ],
   "source": [
    "# Getting all the columns related to surface area\n",
    "thickness_features = [x for x in features.columns if \"SA\" in x ]\n",
    "\n",
    "# Removing SA to reduce feature dimensions\n",
    "raw_features = features.drop(columns=thickness_features)\n",
    "\n",
    "raw_features.head()\n",
    "\n",
    "# sub_col_feats = [x for x in raw_features.columns if \"G_subcallosal\" in x ] \n"
   ]
  },
  {
   "cell_type": "code",
   "execution_count": 73,
   "metadata": {},
   "outputs": [
    {
     "data": {
      "text/html": [
       "<div>\n",
       "<style scoped>\n",
       "    .dataframe tbody tr th:only-of-type {\n",
       "        vertical-align: middle;\n",
       "    }\n",
       "\n",
       "    .dataframe tbody tr th {\n",
       "        vertical-align: top;\n",
       "    }\n",
       "\n",
       "    .dataframe thead th {\n",
       "        text-align: right;\n",
       "    }\n",
       "</style>\n",
       "<table border=\"1\" class=\"dataframe\">\n",
       "  <thead>\n",
       "    <tr style=\"text-align: right;\">\n",
       "      <th></th>\n",
       "      <th>G_subcallosal_TH_rh</th>\n",
       "    </tr>\n",
       "  </thead>\n",
       "  <tbody>\n",
       "    <tr>\n",
       "      <th>0</th>\n",
       "      <td>2.732</td>\n",
       "    </tr>\n",
       "    <tr>\n",
       "      <th>1</th>\n",
       "      <td>2.575</td>\n",
       "    </tr>\n",
       "    <tr>\n",
       "      <th>2</th>\n",
       "      <td>1.981</td>\n",
       "    </tr>\n",
       "    <tr>\n",
       "      <th>3</th>\n",
       "      <td>1.973</td>\n",
       "    </tr>\n",
       "    <tr>\n",
       "      <th>4</th>\n",
       "      <td>2.529</td>\n",
       "    </tr>\n",
       "  </tbody>\n",
       "</table>\n",
       "</div>"
      ],
      "text/plain": [
       "   G_subcallosal_TH_rh\n",
       "0                2.732\n",
       "1                2.575\n",
       "2                1.981\n",
       "3                1.973\n",
       "4                2.529"
      ]
     },
     "execution_count": 73,
     "metadata": {},
     "output_type": "execute_result"
    }
   ],
   "source": [
    "raw_features[[\"G_subcallosal_TH_rh\"]].head()"
   ]
  },
  {
   "cell_type": "code",
   "execution_count": 11,
   "metadata": {},
   "outputs": [
    {
     "data": {
      "text/html": [
       "<div>\n",
       "<style scoped>\n",
       "    .dataframe tbody tr th:only-of-type {\n",
       "        vertical-align: middle;\n",
       "    }\n",
       "\n",
       "    .dataframe tbody tr th {\n",
       "        vertical-align: top;\n",
       "    }\n",
       "\n",
       "    .dataframe thead th {\n",
       "        text-align: right;\n",
       "    }\n",
       "</style>\n",
       "<table border=\"1\" class=\"dataframe\">\n",
       "  <thead>\n",
       "    <tr style=\"text-align: right;\">\n",
       "      <th></th>\n",
       "      <th>G_and_S_frontomargin_TH_lh</th>\n",
       "      <th>G_and_S_occipital_inf_TH_lh</th>\n",
       "      <th>G_and_S_paracentral_TH_lh</th>\n",
       "      <th>G_and_S_subcentral_TH_lh</th>\n",
       "      <th>G_and_S_transv_frontopol_TH_lh</th>\n",
       "      <th>G_and_S_cingul-Ant_TH_lh</th>\n",
       "      <th>G_and_S_cingul-Mid-Ant_TH_lh</th>\n",
       "      <th>G_and_S_cingul-Mid-Post_TH_lh</th>\n",
       "      <th>G_cingul-Post-dorsal_TH_lh</th>\n",
       "      <th>G_cingul-Post-ventral_TH_lh</th>\n",
       "      <th>...</th>\n",
       "      <th>S_parieto_occipital_TH_rh</th>\n",
       "      <th>S_pericallosal_TH_rh</th>\n",
       "      <th>S_postcentral_TH_rh</th>\n",
       "      <th>S_precentral-inf-part_TH_rh</th>\n",
       "      <th>S_precentral-sup-part_TH_rh</th>\n",
       "      <th>S_suborbital_TH_rh</th>\n",
       "      <th>S_subparietal_TH_rh</th>\n",
       "      <th>S_temporal_inf_TH_rh</th>\n",
       "      <th>S_temporal_sup_TH_rh</th>\n",
       "      <th>S_temporal_transverse_TH_rh</th>\n",
       "    </tr>\n",
       "  </thead>\n",
       "  <tbody>\n",
       "    <tr>\n",
       "      <th>0</th>\n",
       "      <td>0.029402</td>\n",
       "      <td>0.031225</td>\n",
       "      <td>0.034174</td>\n",
       "      <td>0.034960</td>\n",
       "      <td>0.034648</td>\n",
       "      <td>0.032381</td>\n",
       "      <td>0.034841</td>\n",
       "      <td>0.033996</td>\n",
       "      <td>0.039361</td>\n",
       "      <td>0.030143</td>\n",
       "      <td>...</td>\n",
       "      <td>0.027209</td>\n",
       "      <td>0.031833</td>\n",
       "      <td>0.025653</td>\n",
       "      <td>0.034219</td>\n",
       "      <td>0.029402</td>\n",
       "      <td>0.021059</td>\n",
       "      <td>0.028706</td>\n",
       "      <td>0.026068</td>\n",
       "      <td>0.030010</td>\n",
       "      <td>0.023400</td>\n",
       "    </tr>\n",
       "    <tr>\n",
       "      <th>1</th>\n",
       "      <td>0.032154</td>\n",
       "      <td>0.034045</td>\n",
       "      <td>0.029192</td>\n",
       "      <td>0.030651</td>\n",
       "      <td>0.032854</td>\n",
       "      <td>0.035295</td>\n",
       "      <td>0.031574</td>\n",
       "      <td>0.029579</td>\n",
       "      <td>0.034075</td>\n",
       "      <td>0.030666</td>\n",
       "      <td>...</td>\n",
       "      <td>0.025188</td>\n",
       "      <td>0.027272</td>\n",
       "      <td>0.023654</td>\n",
       "      <td>0.032586</td>\n",
       "      <td>0.027703</td>\n",
       "      <td>0.036576</td>\n",
       "      <td>0.026855</td>\n",
       "      <td>0.029326</td>\n",
       "      <td>0.030830</td>\n",
       "      <td>0.024443</td>\n",
       "    </tr>\n",
       "    <tr>\n",
       "      <th>2</th>\n",
       "      <td>0.034400</td>\n",
       "      <td>0.036831</td>\n",
       "      <td>0.039393</td>\n",
       "      <td>0.042246</td>\n",
       "      <td>0.039814</td>\n",
       "      <td>0.041192</td>\n",
       "      <td>0.041824</td>\n",
       "      <td>0.036896</td>\n",
       "      <td>0.041792</td>\n",
       "      <td>0.037140</td>\n",
       "      <td>...</td>\n",
       "      <td>0.032049</td>\n",
       "      <td>0.042522</td>\n",
       "      <td>0.030509</td>\n",
       "      <td>0.035535</td>\n",
       "      <td>0.033573</td>\n",
       "      <td>0.036021</td>\n",
       "      <td>0.030315</td>\n",
       "      <td>0.029601</td>\n",
       "      <td>0.033330</td>\n",
       "      <td>0.035324</td>\n",
       "    </tr>\n",
       "    <tr>\n",
       "      <th>3</th>\n",
       "      <td>0.034255</td>\n",
       "      <td>0.032785</td>\n",
       "      <td>0.032617</td>\n",
       "      <td>0.032693</td>\n",
       "      <td>0.034944</td>\n",
       "      <td>0.033964</td>\n",
       "      <td>0.033888</td>\n",
       "      <td>0.035710</td>\n",
       "      <td>0.045709</td>\n",
       "      <td>0.034056</td>\n",
       "      <td>...</td>\n",
       "      <td>0.026782</td>\n",
       "      <td>0.031621</td>\n",
       "      <td>0.028819</td>\n",
       "      <td>0.031713</td>\n",
       "      <td>0.032219</td>\n",
       "      <td>0.044101</td>\n",
       "      <td>0.034378</td>\n",
       "      <td>0.029462</td>\n",
       "      <td>0.030840</td>\n",
       "      <td>0.027962</td>\n",
       "    </tr>\n",
       "    <tr>\n",
       "      <th>4</th>\n",
       "      <td>0.034244</td>\n",
       "      <td>0.041644</td>\n",
       "      <td>0.039216</td>\n",
       "      <td>0.040983</td>\n",
       "      <td>0.038506</td>\n",
       "      <td>0.047145</td>\n",
       "      <td>0.047145</td>\n",
       "      <td>0.041842</td>\n",
       "      <td>0.050085</td>\n",
       "      <td>0.039844</td>\n",
       "      <td>...</td>\n",
       "      <td>0.034987</td>\n",
       "      <td>0.047690</td>\n",
       "      <td>0.030758</td>\n",
       "      <td>0.035450</td>\n",
       "      <td>0.036969</td>\n",
       "      <td>0.056362</td>\n",
       "      <td>0.037597</td>\n",
       "      <td>0.041875</td>\n",
       "      <td>0.035813</td>\n",
       "      <td>0.035780</td>\n",
       "    </tr>\n",
       "  </tbody>\n",
       "</table>\n",
       "<p>5 rows × 148 columns</p>\n",
       "</div>"
      ],
      "text/plain": [
       "   G_and_S_frontomargin_TH_lh  G_and_S_occipital_inf_TH_lh  \\\n",
       "0                    0.029402                     0.031225   \n",
       "1                    0.032154                     0.034045   \n",
       "2                    0.034400                     0.036831   \n",
       "3                    0.034255                     0.032785   \n",
       "4                    0.034244                     0.041644   \n",
       "\n",
       "   G_and_S_paracentral_TH_lh  G_and_S_subcentral_TH_lh  \\\n",
       "0                   0.034174                  0.034960   \n",
       "1                   0.029192                  0.030651   \n",
       "2                   0.039393                  0.042246   \n",
       "3                   0.032617                  0.032693   \n",
       "4                   0.039216                  0.040983   \n",
       "\n",
       "   G_and_S_transv_frontopol_TH_lh  G_and_S_cingul-Ant_TH_lh  \\\n",
       "0                        0.034648                  0.032381   \n",
       "1                        0.032854                  0.035295   \n",
       "2                        0.039814                  0.041192   \n",
       "3                        0.034944                  0.033964   \n",
       "4                        0.038506                  0.047145   \n",
       "\n",
       "   G_and_S_cingul-Mid-Ant_TH_lh  G_and_S_cingul-Mid-Post_TH_lh  \\\n",
       "0                      0.034841                       0.033996   \n",
       "1                      0.031574                       0.029579   \n",
       "2                      0.041824                       0.036896   \n",
       "3                      0.033888                       0.035710   \n",
       "4                      0.047145                       0.041842   \n",
       "\n",
       "   G_cingul-Post-dorsal_TH_lh  G_cingul-Post-ventral_TH_lh  ...  \\\n",
       "0                    0.039361                     0.030143  ...   \n",
       "1                    0.034075                     0.030666  ...   \n",
       "2                    0.041792                     0.037140  ...   \n",
       "3                    0.045709                     0.034056  ...   \n",
       "4                    0.050085                     0.039844  ...   \n",
       "\n",
       "   S_parieto_occipital_TH_rh  S_pericallosal_TH_rh  S_postcentral_TH_rh  \\\n",
       "0                   0.027209              0.031833             0.025653   \n",
       "1                   0.025188              0.027272             0.023654   \n",
       "2                   0.032049              0.042522             0.030509   \n",
       "3                   0.026782              0.031621             0.028819   \n",
       "4                   0.034987              0.047690             0.030758   \n",
       "\n",
       "   S_precentral-inf-part_TH_rh  S_precentral-sup-part_TH_rh  \\\n",
       "0                     0.034219                     0.029402   \n",
       "1                     0.032586                     0.027703   \n",
       "2                     0.035535                     0.033573   \n",
       "3                     0.031713                     0.032219   \n",
       "4                     0.035450                     0.036969   \n",
       "\n",
       "   S_suborbital_TH_rh  S_subparietal_TH_rh  S_temporal_inf_TH_rh  \\\n",
       "0            0.021059             0.028706              0.026068   \n",
       "1            0.036576             0.026855              0.029326   \n",
       "2            0.036021             0.030315              0.029601   \n",
       "3            0.044101             0.034378              0.029462   \n",
       "4            0.056362             0.037597              0.041875   \n",
       "\n",
       "   S_temporal_sup_TH_rh  S_temporal_transverse_TH_rh  \n",
       "0              0.030010                     0.023400  \n",
       "1              0.030830                     0.024443  \n",
       "2              0.033330                     0.035324  \n",
       "3              0.030840                     0.027962  \n",
       "4              0.035813                     0.035780  \n",
       "\n",
       "[5 rows x 148 columns]"
      ]
     },
     "execution_count": 11,
     "metadata": {},
     "output_type": "execute_result"
    }
   ],
   "source": [
    "# Normalize by ICV\n",
    "features_icv_normed = raw_features.div(np.power(ICVs, 1/3), axis = \"rows\")\n",
    "features_icv_normed.head()"
   ]
  },
  {
   "cell_type": "code",
   "execution_count": 12,
   "metadata": {},
   "outputs": [
    {
     "data": {
      "text/plain": [
       "EMCI    0.321678\n",
       "CN      0.209790\n",
       "AD      0.181818\n",
       "LMCI    0.146853\n",
       "SMC     0.139860\n",
       "Name: DX_bl, dtype: float64"
      ]
     },
     "execution_count": 12,
     "metadata": {},
     "output_type": "execute_result"
    }
   ],
   "source": [
    "raw_labels.value_counts()/len(raw_labels)"
   ]
  },
  {
   "cell_type": "markdown",
   "metadata": {},
   "source": [
    "## Fusing all the columns"
   ]
  },
  {
   "cell_type": "code",
   "execution_count": 13,
   "metadata": {},
   "outputs": [],
   "source": [
    "# Mapping to convert labels\n",
    "fuse_maps = {\"SMC\": \"CN\", \"EMCI\":\"MCI\", \"LMCI\":\"MCI\"}\n",
    "\n",
    "# Lambda fucntion to be used with Map func\n",
    "fuse = lambda x: fuse_maps[x] if x in fuse_maps else x\n",
    "dist = lambda x: pd.Series(x).value_counts()/len(x)\n",
    "\n",
    "fused_labels = list(map(fuse, raw_labels))"
   ]
  },
  {
   "cell_type": "code",
   "execution_count": 14,
   "metadata": {},
   "outputs": [
    {
     "name": "stdout",
     "output_type": "stream",
     "text": [
      "Sample Size: 143\n"
     ]
    },
    {
     "data": {
      "text/plain": [
       "MCI    0.468531\n",
       "CN     0.349650\n",
       "AD     0.181818\n",
       "dtype: float64"
      ]
     },
     "execution_count": 14,
     "metadata": {},
     "output_type": "execute_result"
    }
   ],
   "source": [
    "print(\"Sample Size:\", len(fused_labels))\n",
    "dist(fused_labels)"
   ]
  },
  {
   "cell_type": "markdown",
   "metadata": {},
   "source": [
    "## Getting rid of MCI samples\n",
    "> Only learning CN vs AD"
   ]
  },
  {
   "cell_type": "code",
   "execution_count": 24,
   "metadata": {},
   "outputs": [
    {
     "data": {
      "text/plain": [
       "CN    0.657895\n",
       "AD    0.342105\n",
       "dtype: float64"
      ]
     },
     "execution_count": 24,
     "metadata": {},
     "output_type": "execute_result"
    }
   ],
   "source": [
    "labels = pd.Series(fused_labels)\n",
    "non_MCI_samples = labels != \"MCI\"\n",
    "\n",
    "stripped_features = features_icv_normed[non_MCI_samples]\n",
    "stripped_labels = labels[non_MCI_samples]\n",
    "\n",
    "dist(stripped_labels)"
   ]
  },
  {
   "cell_type": "markdown",
   "metadata": {},
   "source": [
    "## Using SMOTE\n",
    "\n",
    "> Generates interpolated samples to balance training data "
   ]
  },
  {
   "cell_type": "code",
   "execution_count": 30,
   "metadata": {},
   "outputs": [
    {
     "name": "stdout",
     "output_type": "stream",
     "text": [
      "(100, 148)\n",
      "AD    0.5\n",
      "CN    0.5\n",
      "dtype: float64\n"
     ]
    },
    {
     "data": {
      "text/plain": [
       "100"
      ]
     },
     "execution_count": 30,
     "metadata": {},
     "output_type": "execute_result"
    }
   ],
   "source": [
    "from imblearn.over_sampling import SMOTE\n",
    "sm = SMOTE(random_state=42)\n",
    "\n",
    "features, labels = sm.fit_resample(stripped_features, stripped_labels)\n",
    "\n",
    "print(features.shape)\n",
    "print(pd.Series(labels).value_counts()/len(labels))\n",
    "len(labels)"
   ]
  },
  {
   "cell_type": "markdown",
   "metadata": {},
   "source": [
    "### Get 1 Hot Vector representation of the *fused* categorical labels"
   ]
  },
  {
   "cell_type": "code",
   "execution_count": 31,
   "metadata": {},
   "outputs": [
    {
     "name": "stdout",
     "output_type": "stream",
     "text": [
      "Categories: [array(['AD', 'CN'], dtype=object)]\n",
      "['CN' 'CN' 'AD' 'AD' 'CN']\n",
      "100\n"
     ]
    },
    {
     "data": {
      "text/plain": [
       "array([[0., 1.],\n",
       "       [0., 1.],\n",
       "       [1., 0.],\n",
       "       [1., 0.],\n",
       "       [0., 1.]])"
      ]
     },
     "execution_count": 31,
     "metadata": {},
     "output_type": "execute_result"
    }
   ],
   "source": [
    "# Converting labels to 1-Hot Vectors\n",
    "from sklearn.preprocessing import OneHotEncoder\n",
    "\n",
    "enc = OneHotEncoder(categories=\"auto\", sparse=False)\n",
    "labels_1hot = enc.fit_transform([[label] for label in labels]) # Since the function expects an array of \"features\" per sample\n",
    "\n",
    "print(\"Categories:\", enc.categories_)\n",
    "\n",
    "print(labels[:5])\n",
    "print(len(labels))\n",
    "labels_1hot[:5]"
   ]
  },
  {
   "cell_type": "markdown",
   "metadata": {},
   "source": [
    "# Normalizing training inputs\n",
    "\n",
    "Does not work at all without normalization. The ranges for surface area and thickness are vastly different."
   ]
  },
  {
   "cell_type": "code",
   "execution_count": 32,
   "metadata": {},
   "outputs": [],
   "source": [
    "from sklearn.preprocessing import StandardScaler\n",
    "\n",
    "scaler = StandardScaler() #x-u/sd\n",
    "features = scaler.fit_transform(features) # Note that features is no longer a dataframe"
   ]
  },
  {
   "cell_type": "code",
   "execution_count": 33,
   "metadata": {},
   "outputs": [],
   "source": [
    "from sklearn.model_selection import StratifiedShuffleSplit\n",
    "\n",
    "# The train set will have equal amounts of each target class\n",
    "split = StratifiedShuffleSplit(n_splits=1, test_size=0.2, random_state=42)\n",
    "for train_index, test_index in split.split(features, labels):\n",
    "    X_train = features[train_index]\n",
    "    y_train_1hot = labels_1hot[train_index]\n",
    "    X_test = features[test_index]\n",
    "    y_test_1hot = labels_1hot[test_index]"
   ]
  },
  {
   "cell_type": "code",
   "execution_count": 42,
   "metadata": {},
   "outputs": [
    {
     "name": "stdout",
     "output_type": "stream",
     "text": [
      "Train Size: (90, 148)\n",
      "[[0. 1.]\n",
      " [0. 1.]\n",
      " [1. 0.]\n",
      " [1. 0.]\n",
      " [0. 1.]\n",
      " [0. 1.]\n",
      " [0. 1.]\n",
      " [0. 1.]\n",
      " [0. 1.]\n",
      " [0. 1.]\n",
      " [0. 1.]\n",
      " [0. 1.]\n",
      " [0. 1.]\n",
      " [1. 0.]\n",
      " [1. 0.]\n",
      " [1. 0.]\n",
      " [0. 1.]\n",
      " [0. 1.]\n",
      " [1. 0.]\n",
      " [0. 1.]\n",
      " [0. 1.]\n",
      " [0. 1.]\n",
      " [0. 1.]\n",
      " [0. 1.]\n",
      " [0. 1.]\n",
      " [0. 1.]\n",
      " [1. 0.]\n",
      " [0. 1.]\n",
      " [0. 1.]\n",
      " [1. 0.]\n",
      " [0. 1.]\n",
      " [0. 1.]\n",
      " [0. 1.]\n",
      " [0. 1.]\n",
      " [1. 0.]\n",
      " [1. 0.]\n",
      " [0. 1.]\n",
      " [1. 0.]\n",
      " [0. 1.]\n",
      " [0. 1.]\n",
      " [1. 0.]\n",
      " [0. 1.]\n",
      " [0. 1.]\n",
      " [1. 0.]\n",
      " [0. 1.]\n",
      " [1. 0.]\n",
      " [1. 0.]\n",
      " [0. 1.]\n",
      " [1. 0.]\n",
      " [1. 0.]\n",
      " [1. 0.]\n",
      " [1. 0.]\n",
      " [1. 0.]\n",
      " [1. 0.]\n",
      " [0. 1.]\n",
      " [1. 0.]\n",
      " [1. 0.]\n",
      " [0. 1.]\n",
      " [1. 0.]\n",
      " [0. 1.]\n",
      " [0. 1.]\n",
      " [0. 1.]\n",
      " [0. 1.]\n",
      " [1. 0.]\n",
      " [0. 1.]\n",
      " [0. 1.]\n",
      " [1. 0.]\n",
      " [0. 1.]\n",
      " [0. 1.]\n",
      " [0. 1.]\n",
      " [0. 1.]\n",
      " [0. 1.]\n",
      " [0. 1.]\n",
      " [0. 1.]\n",
      " [0. 1.]\n",
      " [0. 1.]\n",
      " [1. 0.]\n",
      " [1. 0.]\n",
      " [1. 0.]\n",
      " [1. 0.]\n",
      " [1. 0.]\n",
      " [1. 0.]\n",
      " [1. 0.]\n",
      " [1. 0.]\n",
      " [1. 0.]\n",
      " [1. 0.]\n",
      " [1. 0.]\n",
      " [1. 0.]\n",
      " [1. 0.]\n",
      " [1. 0.]]\n"
     ]
    }
   ],
   "source": [
    "print(\"Train Size:\", X_train.shape)\n",
    "print(y_train_1hot)"
   ]
  },
  {
   "cell_type": "markdown",
   "metadata": {},
   "source": [
    "### Building the network\n",
    "\n",
    "We will build a fully connected (slightly) deep network with no drop outs or batch normalization for now"
   ]
  },
  {
   "cell_type": "code",
   "execution_count": 35,
   "metadata": {},
   "outputs": [
    {
     "name": "stdout",
     "output_type": "stream",
     "text": [
      "_________________________________________________________________\n",
      "Layer (type)                 Output Shape              Param #   \n",
      "=================================================================\n",
      "dense_1 (Dense)              (None, 150)               22350     \n",
      "_________________________________________________________________\n",
      "dropout_1 (Dropout)          (None, 150)               0         \n",
      "_________________________________________________________________\n",
      "dense_2 (Dense)              (None, 100)               15100     \n",
      "_________________________________________________________________\n",
      "dropout_2 (Dropout)          (None, 100)               0         \n",
      "_________________________________________________________________\n",
      "dense_3 (Dense)              (None, 50)                5050      \n",
      "_________________________________________________________________\n",
      "dropout_3 (Dropout)          (None, 50)                0         \n",
      "_________________________________________________________________\n",
      "dense_4 (Dense)              (None, 2)                 102       \n",
      "=================================================================\n",
      "Total params: 42,602\n",
      "Trainable params: 42,602\n",
      "Non-trainable params: 0\n",
      "_________________________________________________________________\n"
     ]
    }
   ],
   "source": [
    "from keras import optimizers\n",
    "from keras import regularizers\n",
    "\n",
    "def build_dnn(num_features, num_labels=2):\n",
    "    keras.backend.clear_session()\n",
    "    reset_graph()\n",
    "    \n",
    "    reg_scale = 0.001 # For L1 Reg\n",
    "    my_reg = regularizers.l1_l2(reg_scale) # Can change this if needed\n",
    "    \n",
    "    dnn = keras.models.Sequential()\n",
    "\n",
    "    Dense = keras.layers.Dense\n",
    "\n",
    "    # Using He initialization\n",
    "    he_init = keras.initializers.he_normal()\n",
    "    \n",
    "\n",
    "    dnn.add(Dense(units = 150, activation=\"elu\", input_dim=num_features,\n",
    "                  kernel_initializer=he_init, kernel_regularizer = my_reg))\n",
    "    dnn.add(keras.layers.Dropout(0.5))\n",
    "    dnn.add(Dense(units = 100, activation=\"elu\",\n",
    "                  kernel_initializer=he_init, kernel_regularizer = my_reg))\n",
    "    dnn.add(keras.layers.Dropout(0.5))\n",
    "    dnn.add(Dense(units=50, activation='elu',\n",
    "                  kernel_initializer=he_init, kernel_regularizer = my_reg))\n",
    "    dnn.add(keras.layers.Dropout(0.5))\n",
    "    \n",
    "    dnn.add(Dense(units=num_labels, activation=\"softmax\")) # 5 labels -> logits for now\n",
    "\n",
    "    dnn.compile(loss='categorical_crossentropy',\n",
    "                  optimizer=\"adam\",\n",
    "                  metrics=['accuracy'])\n",
    "    \n",
    "    return dnn\n",
    "\n",
    "dnn = build_dnn(X_train.shape[1])\n",
    "dnn.summary()"
   ]
  },
  {
   "cell_type": "code",
   "execution_count": 37,
   "metadata": {},
   "outputs": [
    {
     "name": "stdout",
     "output_type": "stream",
     "text": [
      "Train on 80 samples, validate on 20 samples\n",
      "Epoch 1/50\n",
      "80/80 [==============================] - 0s 5ms/step - loss: 11.8303 - acc: 0.6125 - val_loss: 10.4147 - val_acc: 0.9000\n",
      "Epoch 2/50\n",
      "80/80 [==============================] - 0s 97us/step - loss: 11.5483 - acc: 0.6250 - val_loss: 10.3701 - val_acc: 0.9000\n",
      "Epoch 3/50\n",
      "80/80 [==============================] - 0s 93us/step - loss: 11.7380 - acc: 0.6125 - val_loss: 10.3263 - val_acc: 0.9000\n",
      "Epoch 4/50\n",
      "80/80 [==============================] - 0s 102us/step - loss: 11.2781 - acc: 0.6875 - val_loss: 10.2582 - val_acc: 0.9000\n",
      "Epoch 5/50\n",
      "80/80 [==============================] - 0s 100us/step - loss: 11.0945 - acc: 0.6625 - val_loss: 10.1902 - val_acc: 0.9000\n",
      "Epoch 6/50\n",
      "80/80 [==============================] - 0s 117us/step - loss: 11.2813 - acc: 0.6000 - val_loss: 10.1153 - val_acc: 0.9000\n",
      "Epoch 7/50\n",
      "80/80 [==============================] - 0s 115us/step - loss: 11.1658 - acc: 0.7250 - val_loss: 10.0312 - val_acc: 0.9000\n",
      "Epoch 8/50\n",
      "80/80 [==============================] - 0s 113us/step - loss: 10.2142 - acc: 0.8500 - val_loss: 9.9468 - val_acc: 0.9000\n",
      "Epoch 9/50\n",
      "80/80 [==============================] - 0s 134us/step - loss: 10.3453 - acc: 0.7500 - val_loss: 9.8715 - val_acc: 0.9000\n",
      "Epoch 10/50\n",
      "80/80 [==============================] - 0s 113us/step - loss: 10.8069 - acc: 0.7125 - val_loss: 9.7905 - val_acc: 0.9500\n",
      "Epoch 11/50\n",
      "80/80 [==============================] - 0s 128us/step - loss: 10.5099 - acc: 0.7250 - val_loss: 9.7120 - val_acc: 0.9500\n",
      "Epoch 12/50\n",
      "80/80 [==============================] - 0s 127us/step - loss: 10.3184 - acc: 0.7875 - val_loss: 9.6366 - val_acc: 0.9500\n",
      "Epoch 13/50\n",
      "80/80 [==============================] - 0s 115us/step - loss: 10.1566 - acc: 0.8000 - val_loss: 9.5711 - val_acc: 0.9500\n",
      "Epoch 14/50\n",
      "80/80 [==============================] - 0s 132us/step - loss: 10.1448 - acc: 0.8750 - val_loss: 9.5104 - val_acc: 0.9500\n",
      "Epoch 15/50\n",
      "80/80 [==============================] - 0s 116us/step - loss: 10.2883 - acc: 0.7250 - val_loss: 9.4456 - val_acc: 0.9500\n",
      "Epoch 16/50\n",
      "80/80 [==============================] - 0s 108us/step - loss: 9.9619 - acc: 0.8375 - val_loss: 9.3804 - val_acc: 0.9500\n",
      "Epoch 17/50\n",
      "80/80 [==============================] - 0s 140us/step - loss: 9.6966 - acc: 0.8625 - val_loss: 9.3146 - val_acc: 1.0000\n",
      "Epoch 18/50\n",
      "80/80 [==============================] - 0s 112us/step - loss: 9.7540 - acc: 0.8125 - val_loss: 9.2606 - val_acc: 1.0000\n",
      "Epoch 19/50\n",
      "80/80 [==============================] - 0s 114us/step - loss: 9.7168 - acc: 0.8250 - val_loss: 9.2107 - val_acc: 0.9500\n",
      "Epoch 20/50\n",
      "80/80 [==============================] - 0s 131us/step - loss: 9.4496 - acc: 0.8750 - val_loss: 9.1615 - val_acc: 0.9500\n",
      "Epoch 21/50\n",
      "80/80 [==============================] - 0s 110us/step - loss: 9.5518 - acc: 0.8375 - val_loss: 9.1106 - val_acc: 0.9500\n",
      "Epoch 22/50\n",
      "80/80 [==============================] - 0s 119us/step - loss: 9.6036 - acc: 0.8250 - val_loss: 9.0623 - val_acc: 0.9500\n",
      "Epoch 23/50\n",
      "80/80 [==============================] - 0s 123us/step - loss: 9.3009 - acc: 0.8750 - val_loss: 9.0077 - val_acc: 0.9500\n",
      "Epoch 24/50\n",
      "80/80 [==============================] - 0s 109us/step - loss: 9.2621 - acc: 0.8625 - val_loss: 8.9486 - val_acc: 0.9500\n",
      "Epoch 25/50\n",
      "80/80 [==============================] - 0s 122us/step - loss: 9.3341 - acc: 0.8375 - val_loss: 8.8865 - val_acc: 0.9500\n",
      "Epoch 26/50\n",
      "80/80 [==============================] - 0s 130us/step - loss: 9.1960 - acc: 0.9000 - val_loss: 8.8250 - val_acc: 1.0000\n",
      "Epoch 27/50\n",
      "80/80 [==============================] - 0s 105us/step - loss: 9.1003 - acc: 0.8500 - val_loss: 8.7669 - val_acc: 1.0000\n",
      "Epoch 28/50\n",
      "80/80 [==============================] - 0s 121us/step - loss: 9.0989 - acc: 0.8500 - val_loss: 8.7050 - val_acc: 1.0000\n",
      "Epoch 29/50\n",
      "80/80 [==============================] - 0s 124us/step - loss: 9.0725 - acc: 0.8625 - val_loss: 8.6472 - val_acc: 1.0000\n",
      "Epoch 30/50\n",
      "80/80 [==============================] - 0s 104us/step - loss: 8.9518 - acc: 0.8750 - val_loss: 8.5915 - val_acc: 1.0000\n",
      "Epoch 31/50\n",
      "80/80 [==============================] - 0s 111us/step - loss: 8.8517 - acc: 0.9250 - val_loss: 8.5378 - val_acc: 1.0000\n",
      "Epoch 32/50\n",
      "80/80 [==============================] - 0s 141us/step - loss: 8.8680 - acc: 0.8875 - val_loss: 8.4865 - val_acc: 1.0000\n",
      "Epoch 33/50\n",
      "80/80 [==============================] - 0s 108us/step - loss: 8.5744 - acc: 0.9250 - val_loss: 8.4341 - val_acc: 1.0000\n",
      "Epoch 34/50\n",
      "80/80 [==============================] - 0s 108us/step - loss: 8.6470 - acc: 0.8875 - val_loss: 8.3782 - val_acc: 1.0000\n",
      "Epoch 35/50\n",
      "80/80 [==============================] - 0s 127us/step - loss: 8.5277 - acc: 0.9250 - val_loss: 8.3214 - val_acc: 1.0000\n",
      "Epoch 36/50\n",
      "80/80 [==============================] - 0s 120us/step - loss: 8.4538 - acc: 0.9125 - val_loss: 8.2658 - val_acc: 1.0000\n",
      "Epoch 37/50\n",
      "80/80 [==============================] - 0s 121us/step - loss: 8.4861 - acc: 0.9000 - val_loss: 8.2105 - val_acc: 1.0000\n",
      "Epoch 38/50\n",
      "80/80 [==============================] - 0s 116us/step - loss: 8.3862 - acc: 0.9125 - val_loss: 8.1531 - val_acc: 1.0000\n",
      "Epoch 39/50\n",
      "80/80 [==============================] - 0s 148us/step - loss: 8.2591 - acc: 0.9625 - val_loss: 8.0949 - val_acc: 1.0000\n",
      "Epoch 40/50\n",
      "80/80 [==============================] - 0s 114us/step - loss: 8.3621 - acc: 0.8750 - val_loss: 8.0360 - val_acc: 1.0000\n",
      "Epoch 41/50\n",
      "80/80 [==============================] - 0s 112us/step - loss: 8.1325 - acc: 0.9000 - val_loss: 7.9777 - val_acc: 1.0000\n",
      "Epoch 42/50\n",
      "80/80 [==============================] - 0s 122us/step - loss: 8.1703 - acc: 0.9125 - val_loss: 7.9216 - val_acc: 1.0000\n",
      "Epoch 43/50\n",
      "80/80 [==============================] - 0s 122us/step - loss: 8.1518 - acc: 0.8750 - val_loss: 7.8642 - val_acc: 1.0000\n",
      "Epoch 44/50\n",
      "80/80 [==============================] - 0s 111us/step - loss: 8.0056 - acc: 0.9500 - val_loss: 7.8093 - val_acc: 1.0000\n",
      "Epoch 45/50\n",
      "80/80 [==============================] - 0s 115us/step - loss: 7.9631 - acc: 0.9500 - val_loss: 7.7544 - val_acc: 1.0000\n",
      "Epoch 46/50\n",
      "80/80 [==============================] - 0s 134us/step - loss: 7.9119 - acc: 0.9250 - val_loss: 7.6980 - val_acc: 1.0000\n",
      "Epoch 47/50\n",
      "80/80 [==============================] - 0s 109us/step - loss: 7.8312 - acc: 0.9375 - val_loss: 7.6417 - val_acc: 1.0000\n",
      "Epoch 48/50\n",
      "80/80 [==============================] - 0s 107us/step - loss: 7.7264 - acc: 0.9250 - val_loss: 7.5850 - val_acc: 1.0000\n",
      "Epoch 49/50\n",
      "80/80 [==============================] - 0s 116us/step - loss: 7.6466 - acc: 0.9750 - val_loss: 7.5290 - val_acc: 1.0000\n",
      "Epoch 50/50\n",
      "80/80 [==============================] - 0s 125us/step - loss: 7.5695 - acc: 0.9750 - val_loss: 7.4732 - val_acc: 1.0000\n"
     ]
    }
   ],
   "source": [
    "dnn = build_dnn(X_train.shape[1])\n",
    "history = dnn.fit(X_train, y_train_1hot, epochs=50, batch_size = 20, validation_data=(X_test, y_test_1hot))"
   ]
  },
  {
   "cell_type": "code",
   "execution_count": 55,
   "metadata": {},
   "outputs": [],
   "source": [
    "# df = pd.DataFrame(history.history)\n",
    "# print(max(df[\"val_acc\"]))\n",
    "# df[[\"acc\",\"val_acc\"]].plot(figsize=(12,8))"
   ]
  },
  {
   "cell_type": "code",
   "execution_count": 38,
   "metadata": {},
   "outputs": [
    {
     "data": {
      "image/png": "[encoded data removed]",
      "text/plain": [
       "<Figure size 1296x432 with 2 Axes>"
      ]
     },
     "metadata": {
      "needs_background": "light"
     },
     "output_type": "display_data"
    }
   ],
   "source": [
    "def plot_history(history):\n",
    "    fig, axs = plt.subplots(1, 2, figsize=(18,6))\n",
    "    \n",
    "    # Plot training & validation accuracy values\n",
    "    axs[0].grid(True)\n",
    "    axs[0].plot(history.history['acc'])\n",
    "    axs[0].plot(history.history['val_acc'])\n",
    "    axs[0].set(title='Model accuracy', ylabel='Accuracy', xlabel='Epoch')\n",
    "    axs[0].legend(['Train', 'Test'], loc='upper left')\n",
    "\n",
    "    # Plot training & validation loss values\n",
    "    axs[1].grid(True)\n",
    "    axs[1].plot(history.history['loss'])\n",
    "    axs[1].plot(history.history['val_loss'])\n",
    "    axs[1].set(title='Model loss',ylabel='Loss', xlabel='Epoch')\n",
    "    axs[1].legend(['Train', 'Test'], loc='upper left')\n",
    "    \n",
    "    plt.show()\n",
    "\n",
    "plot_history(history)"
   ]
  },
  {
   "cell_type": "code",
   "execution_count": 96,
   "metadata": {},
   "outputs": [
    {
     "name": "stdout",
     "output_type": "stream",
     "text": [
      "41/41 [==============================] - 0s 83us/step\n",
      "Scores on test set: loss=1.418 accuracy=0.7317\n"
     ]
    }
   ],
   "source": [
    "loss_and_metrics = dnn.evaluate(X_test, y_test_1hot)\n",
    "print(\"Scores on test set: loss={:0.3f} accuracy={:.4f}\".format(*loss_and_metrics))"
   ]
  },
  {
   "cell_type": "code",
   "execution_count": 97,
   "metadata": {},
   "outputs": [
    {
     "name": "stdout",
     "output_type": "stream",
     "text": [
      "201/201 [==============================] - 0s 36us/step\n",
      "Scores on test set: loss=4.067 accuracy=0.3433\n"
     ]
    }
   ],
   "source": [
    "loss_and_metrics = dnn.evaluate(features, labels_1hot)\n",
    "print(\"Scores on test set: loss={:0.3f} accuracy={:.4f}\".format(*loss_and_metrics))"
   ]
  },
  {
   "cell_type": "code",
   "execution_count": 87,
   "metadata": {},
   "outputs": [
    {
     "data": {
      "text/plain": [
       "(100, 148)"
      ]
     },
     "execution_count": 87,
     "metadata": {},
     "output_type": "execute_result"
    }
   ],
   "source": [
    "features.shape"
   ]
  },
  {
   "cell_type": "markdown",
   "metadata": {},
   "source": [
    "## Using K=10 Fold Cross Validation"
   ]
  },
  {
   "cell_type": "code",
   "execution_count": 39,
   "metadata": {},
   "outputs": [
    {
     "name": "stdout",
     "output_type": "stream",
     "text": [
      "0.9555555449591743 1.0\n",
      "0.9222222169240316 0.800000011920929\n",
      "0.9444444311989678 0.8999999761581421\n",
      "0.9777777724795871 0.699999988079071\n",
      "0.9666666587193807 0.699999988079071\n",
      "0.9333333174387614 0.8999999761581421\n",
      "0.9555555449591743 1.0\n",
      "0.9666666587193807 0.800000011920929\n",
      "0.9333333174387614 1.0\n",
      "0.933333330684238 1.0\n"
     ]
    }
   ],
   "source": [
    "def getKF(X,y, n_splits=10):\n",
    "    from sklearn.model_selection import KFold\n",
    "    kf = KFold(n_splits=n_splits) #Default = 10\n",
    "\n",
    "    for train_index, test_index in kf.split(X):\n",
    "        X_train = X[train_index]\n",
    "        y_train = y[train_index]\n",
    "        X_test = X[test_index]\n",
    "        y_test = y[test_index]\n",
    "        \n",
    "        yield X_train, y_train, X_test, y_test, test_index\n",
    "\n",
    "histories = []\n",
    "testing_indxs =[]\n",
    "zoo = []\n",
    "for X_train, y_train_1hot, X_test, y_test_1hot, test_index in getKF(features, labels_1hot):\n",
    "    dnn = build_dnn(X_train.shape[1])\n",
    "    history = dnn.fit(X_train, y_train_1hot, epochs=50, batch_size = 20, validation_data=(X_test, y_test_1hot), verbose=0)\n",
    "    histories.append(history)\n",
    "    testing_indxs.append(test_index)\n",
    "    zoo.append(dnn)\n",
    "    print(history.history[\"acc\"][-1], history.history[\"val_acc\"][-1])"
   ]
  },
  {
   "cell_type": "code",
   "execution_count": 40,
   "metadata": {},
   "outputs": [
    {
     "data": {
      "text/plain": [
       "[array([0, 1, 2, 3, 4, 5, 6, 7, 8, 9]),\n",
       " array([10, 11, 12, 13, 14, 15, 16, 17, 18, 19]),\n",
       " array([20, 21, 22, 23, 24, 25, 26, 27, 28, 29]),\n",
       " array([30, 31, 32, 33, 34, 35, 36, 37, 38, 39]),\n",
       " array([40, 41, 42, 43, 44, 45, 46, 47, 48, 49]),\n",
       " array([50, 51, 52, 53, 54, 55, 56, 57, 58, 59]),\n",
       " array([60, 61, 62, 63, 64, 65, 66, 67, 68, 69]),\n",
       " array([70, 71, 72, 73, 74, 75, 76, 77, 78, 79]),\n",
       " array([80, 81, 82, 83, 84, 85, 86, 87, 88, 89]),\n",
       " array([90, 91, 92, 93, 94, 95, 96, 97, 98, 99])]"
      ]
     },
     "execution_count": 40,
     "metadata": {},
     "output_type": "execute_result"
    }
   ],
   "source": [
    "len(histories)\n",
    "testing_indxs"
   ]
  },
  {
   "cell_type": "code",
   "execution_count": 44,
   "metadata": {},
   "outputs": [
    {
     "data": {
      "image/png": "[encoded data removed]",
      "text/plain": [
       "<Figure size 1440x1440 with 10 Axes>"
      ]
     },
     "metadata": {
      "needs_background": "light"
     },
     "output_type": "display_data"
    }
   ],
   "source": [
    "fig, axs = plt.subplots(len(histories)//2,2, figsize=(20,20))\n",
    "axs=axs.flatten()\n",
    "dfs = []\n",
    "\n",
    "for i,history in enumerate(histories):\n",
    "    df = pd.DataFrame(history.history)\n",
    "    dfs.append(df)\n",
    "    df[[\"acc\",\"val_acc\"]].plot(ax=axs[i])"
   ]
  },
  {
   "cell_type": "code",
   "execution_count": 45,
   "metadata": {},
   "outputs": [
    {
     "name": "stdout",
     "output_type": "stream",
     "text": [
      "Average: 0.8799999952316284\n"
     ]
    },
    {
     "data": {
      "text/plain": [
       "[1.0,\n",
       " 0.800000011920929,\n",
       " 0.8999999761581421,\n",
       " 0.699999988079071,\n",
       " 0.699999988079071,\n",
       " 0.8999999761581421,\n",
       " 1.0,\n",
       " 0.800000011920929,\n",
       " 1.0,\n",
       " 1.0]"
      ]
     },
     "execution_count": 45,
     "metadata": {},
     "output_type": "execute_result"
    },
    {
     "data": {
      "image/png": "[encoded data removed]",
      "text/plain": [
       "<Figure size 432x288 with 1 Axes>"
      ]
     },
     "metadata": {
      "needs_background": "light"
     },
     "output_type": "display_data"
    }
   ],
   "source": [
    "val_accs = [df[\"val_acc\"].iloc[-1] for df in dfs]\n",
    "\n",
    "print(\"Average:\",np.mean(val_accs))\n",
    "plt.bar(x=range(10),height=val_accs)\n",
    "# plt.scatter(x=range(10), y=np.mean(val_accs))\n",
    "plt.xlabel(\"Fold Number\")\n",
    "plt.ylabel(\"Acc\")\n",
    "plt.title(\"Accuracies for Each Fold\")\n",
    "val_accs"
   ]
  },
  {
   "cell_type": "code",
   "execution_count": 44,
   "metadata": {},
   "outputs": [
    {
     "data": {
      "text/plain": [
       "[array([0, 1, 2, 3, 4, 5, 6, 7, 8, 9]),\n",
       " array([10, 11, 12, 13, 14, 15, 16, 17, 18, 19]),\n",
       " array([20, 21, 22, 23, 24, 25, 26, 27, 28, 29]),\n",
       " array([30, 31, 32, 33, 34, 35, 36, 37, 38, 39]),\n",
       " array([40, 41, 42, 43, 44, 45, 46, 47, 48, 49]),\n",
       " array([50, 51, 52, 53, 54, 55, 56, 57, 58, 59]),\n",
       " array([60, 61, 62, 63, 64, 65, 66, 67, 68, 69]),\n",
       " array([70, 71, 72, 73, 74, 75, 76, 77, 78, 79]),\n",
       " array([80, 81, 82, 83, 84, 85, 86, 87, 88, 89]),\n",
       " array([90, 91, 92, 93, 94, 95, 96, 97, 98, 99])]"
      ]
     },
     "execution_count": 44,
     "metadata": {},
     "output_type": "execute_result"
    }
   ],
   "source": [
    "testing_indxs"
   ]
  },
  {
   "cell_type": "markdown",
   "metadata": {},
   "source": [
    "# Evaluating on non SMOTE Samples"
   ]
  },
  {
   "cell_type": "code",
   "execution_count": 46,
   "metadata": {},
   "outputs": [
    {
     "name": "stdout",
     "output_type": "stream",
     "text": [
      "Categories: [array(['AD', 'CN'], dtype=object)]\n"
     ]
    },
    {
     "data": {
      "text/plain": [
       "array([False, False,  True,  True, False, False, False, False, False,\n",
       "       False, False, False, False,  True,  True,  True, False, False,\n",
       "        True, False, False, False, False, False, False, False,  True,\n",
       "       False, False,  True, False, False, False, False,  True,  True,\n",
       "       False,  True, False, False,  True, False, False,  True, False,\n",
       "        True,  True, False,  True,  True,  True,  True,  True,  True,\n",
       "       False,  True,  True, False,  True, False, False, False, False,\n",
       "        True, False, False,  True, False, False, False, False, False,\n",
       "       False, False, False, False])"
      ]
     },
     "execution_count": 46,
     "metadata": {},
     "output_type": "execute_result"
    }
   ],
   "source": [
    "# def get_correct_predictions(model,X,y):\n",
    "\n",
    "model = dnn\n",
    "\n",
    "samples = scaler.fit_transform(stripped_features) # Note that features is no longer a dataframe\n",
    "\n",
    "hot_enc = OneHotEncoder(categories=\"auto\", sparse=False)\n",
    "sample_labels = hot_enc.fit_transform([[label] for label in stripped_labels])\n",
    "print(\"Categories:\", enc.categories_)\n",
    "\n",
    "predictions = model.predict(samples)\n",
    "preds = np.array([np.argmax(x) for x in predictions])\n",
    "correct = np.array([np.argmax(x) for x in sample_labels])\n",
    "test_idxs = preds == correct\n",
    "correct == 0"
   ]
  },
  {
   "cell_type": "code",
   "execution_count": 58,
   "metadata": {},
   "outputs": [
    {
     "name": "stdout",
     "output_type": "stream",
     "text": [
      "76/76 [==============================] - 0s 55us/step\n",
      "Scores on test set: loss=7.494 accuracy=1.0000\n"
     ]
    }
   ],
   "source": [
    "loss_and_metrics = model.evaluate(samples, sample_labels)\n",
    "print(\"Scores on test set: loss={:0.3f} accuracy={:.4f}\".format(*loss_and_metrics))"
   ]
  },
  {
   "cell_type": "markdown",
   "metadata": {},
   "source": [
    "# LRP"
   ]
  },
  {
   "cell_type": "code",
   "execution_count": 97,
   "metadata": {},
   "outputs": [],
   "source": [
    "import innvestigate\n",
    "import innvestigate.utils as iutils\n",
    "\n",
    "\n",
    "def perform_analysis(model, analyzer, data, labels):\n",
    "    analysis = analyzer.analyze(data)\n",
    "    prediction = model.predict(data)\n",
    "    \n",
    "#     header = \"{:^30} {} {}\".format(\"Relevances\",\"Pred\", \"Actual\")\n",
    "#     print(header)\n",
    "    \n",
    "#     for rel,pred,actual in zip(analysis,prediction, labels):\n",
    "# #         print(np.argmax(pred), actual)\n",
    "#         result = \"{} {:d} {:d}\".format(np.around(rel,4), np.argmax(pred), np.argmax(actual))\n",
    "#         print(result)\n",
    "    df_anal = pd.DataFrame(analysis)\n",
    "#     print()\n",
    "#     print(df_anal.describe())\n",
    "    return df_anal\n",
    "\n",
    "# Selecting a DNN\n",
    "test_dnn = dnn#zoo[2]\n",
    "\n",
    "# Getting population to analyze\n",
    "# Select samples with correct prediction\n",
    "test_idx = correct == 1    #get_correct_predictions() \n",
    "test_samples = samples[test_idx] #features[test_idx]\n",
    "test_labels = sample_labels[test_idx] #labels_1hot[test_idx]\n",
    "\n",
    "# Stripping the softmax activation from the model\n",
    "model_wo_sm = iutils.keras.graph.model_wo_softmax(test_dnn)\n",
    "\n",
    "# Creating an analyzer\n",
    "gradient_analyzer = innvestigate.analyzer.Gradient(model_wo_sm)\n",
    "lrp = innvestigate.create_analyzer(\"lrp.z\", model_wo_sm)\n",
    "\n",
    "\n",
    "# perform_analysis(nn,gradient_analyzer,flowers,types)\n",
    "lrp_results = perform_analysis(dnn,lrp,test_samples, test_labels)"
   ]
  },
  {
   "cell_type": "code",
   "execution_count": 98,
   "metadata": {},
   "outputs": [
    {
     "data": {
      "text/plain": [
       "(50, 148)"
      ]
     },
     "execution_count": 98,
     "metadata": {},
     "output_type": "execute_result"
    }
   ],
   "source": [
    "lrp_results.shape"
   ]
  },
  {
   "cell_type": "code",
   "execution_count": 99,
   "metadata": {},
   "outputs": [
    {
     "data": {
      "text/plain": [
       "<matplotlib.axes._subplots.AxesSubplot at 0x14450aef0>"
      ]
     },
     "execution_count": 99,
     "metadata": {},
     "output_type": "execute_result"
    },
    {
     "data": {
      "image/png": "[encoded data removed]",
      "text/plain": [
       "<Figure size 432x288 with 1 Axes>"
      ]
     },
     "metadata": {
      "needs_background": "light"
     },
     "output_type": "display_data"
    }
   ],
   "source": [
    "population = abs(lrp_results).mean()\n",
    "population.plot()"
   ]
  },
  {
   "cell_type": "code",
   "execution_count": 100,
   "metadata": {},
   "outputs": [],
   "source": [
    "sorted_features = population.sort_values(ascending=False)\n",
    "best_features = sorted_features[:6]"
   ]
  },
  {
   "cell_type": "code",
   "execution_count": 101,
   "metadata": {},
   "outputs": [
    {
     "data": {
      "text/plain": [
       "Int64Index([96, 32, 46, 44, 22, 12], dtype='int64')"
      ]
     },
     "execution_count": 101,
     "metadata": {},
     "output_type": "execute_result"
    }
   ],
   "source": [
    "best_features.index"
   ]
  },
  {
   "cell_type": "code",
   "execution_count": 104,
   "metadata": {},
   "outputs": [
    {
     "data": {
      "text/plain": [
       "array([[<matplotlib.axes._subplots.AxesSubplot object at 0x145205048>,\n",
       "        <matplotlib.axes._subplots.AxesSubplot object at 0x145440da0>],\n",
       "       [<matplotlib.axes._subplots.AxesSubplot object at 0x1454652e8>,\n",
       "        <matplotlib.axes._subplots.AxesSubplot object at 0x145a26860>],\n",
       "       [<matplotlib.axes._subplots.AxesSubplot object at 0x145a4edd8>,\n",
       "        <matplotlib.axes._subplots.AxesSubplot object at 0x145a7e390>]],\n",
       "      dtype=object)"
      ]
     },
     "execution_count": 104,
     "metadata": {},
     "output_type": "execute_result"
    },
    {
     "data": {
      "image/png": "[encoded data removed]",
      "text/plain": [
       "<Figure size 1440x1440 with 6 Axes>"
      ]
     },
     "metadata": {
      "needs_background": "light"
     },
     "output_type": "display_data"
    }
   ],
   "source": [
    "abs(lrp_results)[best_features.index].hist(figsize=(20,20))"
   ]
  },
  {
   "cell_type": "code",
   "execution_count": 102,
   "metadata": {},
   "outputs": [
    {
     "data": {
      "text/plain": [
       "Index(['G_oc-temp_med-Parahip_TH_rh', 'G_temp_sup-G_T_transv_TH_lh',\n",
       "       'S_circular_insula_ant_TH_lh', 'S_central_TH_lh',\n",
       "       'G_oc-temp_med-Parahip_TH_lh', 'G_front_inf-Orbital_TH_lh'],\n",
       "      dtype='object')"
      ]
     },
     "execution_count": 102,
     "metadata": {},
     "output_type": "execute_result"
    }
   ],
   "source": [
    "raw_features.columns[best_features.index]"
   ]
  },
  {
   "cell_type": "code",
   "execution_count": 103,
   "metadata": {},
   "outputs": [
    {
     "data": {
      "text/plain": [
       "(array([  0,   1,   2,   3,   4,   5,   6,   7,   8,   9,  10,  11,  12,\n",
       "         13,  14,  15,  16,  17,  18,  19,  20,  21,  22,  23,  24,  25,\n",
       "         26,  27,  28,  29,  30,  31,  32,  33,  34,  35,  36,  37,  38,\n",
       "         39,  40,  41,  42,  43,  44,  45,  46,  47,  48,  49,  50,  51,\n",
       "         52,  53,  54,  55,  56,  57,  58,  59,  60,  61,  62,  63,  64,\n",
       "         65,  66,  67,  68,  69,  70,  71,  72,  73,  74,  75,  76,  77,\n",
       "         78,  79,  80,  81,  82,  83,  84,  85,  86,  87,  88,  89,  90,\n",
       "         91,  92,  93,  94,  95,  96,  97,  98,  99, 100, 101, 102, 103,\n",
       "        104, 105, 106, 107, 108, 109, 110, 111, 112, 113, 114, 115, 116,\n",
       "        117, 118, 119, 120, 121, 122, 123, 124, 125, 126, 127, 128, 129,\n",
       "        130, 131, 132, 133, 134, 135, 136, 137, 138, 139, 140, 141, 142,\n",
       "        143, 144, 145, 146, 147]), <a list of 148 Text xticklabel objects>)"
      ]
     },
     "execution_count": 103,
     "metadata": {},
     "output_type": "execute_result"
    },
    {
     "data": {
      "image/png": "[encoded data removed]",
      "text/plain": [
       "<Figure size 2160x1080 with 1 Axes>"
      ]
     },
     "metadata": {
      "needs_background": "light"
     },
     "output_type": "display_data"
    }
   ],
   "source": [
    "sorted_features.plot(kind=\"bar\", figsize=[30,15])\n",
    "plt.xticks(rotation=65, fontsize=\"small\")"
   ]
  },
  {
   "cell_type": "code",
   "execution_count": null,
   "metadata": {},
   "outputs": [],
   "source": []
  }
 ],
 "metadata": {
  "kernelspec": {
   "display_name": "condaflow",
   "language": "python",
   "name": "condaflow"
  },
  "language_info": {
   "codemirror_mode": {
    "name": "ipython",
    "version": 3
   },
   "file_extension": ".py",
   "mimetype": "text/x-python",
   "name": "python",
   "nbconvert_exporter": "python",
   "pygments_lexer": "ipython3",
   "version": "3.6.8"
  }
 },
 "nbformat": 4,
 "nbformat_minor": 2
}
