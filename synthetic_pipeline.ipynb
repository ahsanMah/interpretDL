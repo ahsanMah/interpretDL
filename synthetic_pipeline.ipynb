{
 "cells": [
  {
   "cell_type": "code",
   "execution_count": 1,
   "metadata": {},
   "outputs": [
    {
     "data": {
      "text/html": [
       "        <script type=\"text/javascript\">\n",
       "        window.PlotlyConfig = {MathJaxConfig: 'local'};\n",
       "        if (window.MathJax) {MathJax.Hub.Config({SVG: {font: \"STIX-Web\"}});}\n",
       "        if (typeof require !== 'undefined') {\n",
       "        require.undef(\"plotly\");\n",
       "        requirejs.config({\n",
       "            paths: {\n",
       "                'plotly': ['https://cdn.plot.ly/plotly-latest.min']\n",
       "            }\n",
       "        });\n",
       "        require(['plotly'], function(Plotly) {\n",
       "            window._Plotly = Plotly;\n",
       "        });\n",
       "        }\n",
       "        </script>\n",
       "        "
      ]
     },
     "metadata": {},
     "output_type": "display_data"
    }
   ],
   "source": [
    "# Magic line to force reload all modules when this cell is run multiple times\n",
    "%load_ext autoreload\n",
    "%autoreload 2\n",
    "\n",
    "import plotly as py\n",
    "import plotly.graph_objs as go\n",
    "from plotly.offline import iplot\n",
    "from plotly.offline import plot\n",
    "import ipywidgets as widgets\n",
    "\n",
    "# %matplotlib widget\n",
    "py.offline.init_notebook_mode(connected=True)"
   ]
  },
  {
   "cell_type": "code",
   "execution_count": 2,
   "metadata": {},
   "outputs": [
    {
     "name": "stderr",
     "output_type": "stream",
     "text": [
      "/Users/Work/anaconda3/envs/condatensor/lib/python3.6/site-packages/sklearn/externals/six.py:31: DeprecationWarning:\n",
      "\n",
      "The module is deprecated in version 0.21 and will be removed in version 0.23 since we've dropped support for Python 2.7. Please rely on the official version of six (https://pypi.org/project/six/).\n",
      "\n",
      "/Users/Work/anaconda3/envs/condatensor/lib/python3.6/site-packages/sklearn/externals/joblib/__init__.py:15: DeprecationWarning:\n",
      "\n",
      "sklearn.externals.joblib is deprecated in 0.21 and will be removed in 0.23. Please import this functionality directly from joblib, which can be installed with: pip install joblib. If this warning is raised when loading pickled models, you may need to re-serialize those models with scikit-learn 0.21+.\n",
      "\n"
     ]
    }
   ],
   "source": [
    "import numpy as np\n",
    "import pandas as pd\n",
    "import umap\n",
    "\n",
    "from ClusterPipeline import ClusterPipeline\n",
    "from helper import split_valid, plot_confusion_matrix\n",
    "from sklearn.datasets import make_classification\n",
    "from sklearn.metrics import classification_report\n",
    "from sklearn.pipeline import Pipeline\n",
    "from sklearn.preprocessing import MinMaxScaler\n",
    "\n",
    "\n",
    "np.random.seed(seed=42) "
   ]
  },
  {
   "cell_type": "code",
   "execution_count": 3,
   "metadata": {},
   "outputs": [],
   "source": [
    "X,y = make_classification(n_samples=15000, n_classes=3, weights=[0.5,0.25,0.25], n_features=10,\n",
    "                          n_informative=5, n_redundant=5, class_sep=0.7, n_clusters_per_class=1,\n",
    "                          hypercube=True, shuffle=True, random_state=42)"
   ]
  },
  {
   "cell_type": "code",
   "execution_count": 4,
   "metadata": {},
   "outputs": [],
   "source": [
    "data = pd.DataFrame(X)\n",
    "labels = pd.Series(y)\n",
    "# data.hist(figsize=(20,12))"
   ]
  },
  {
   "cell_type": "code",
   "execution_count": 5,
   "metadata": {},
   "outputs": [
    {
     "data": {
      "text/plain": [
       "1    5271\n",
       "0    5229\n",
       "dtype: int64"
      ]
     },
     "execution_count": 5,
     "metadata": {},
     "output_type": "execute_result"
    }
   ],
   "source": [
    "# Separating a hold out set that will be used for validation of the pipeline\n",
    "train_data, train_labels, test_data, test_labels = split_valid(data, labels, valid_size=0.3)\n",
    "\n",
    "\n",
    "original_labels = train_labels.copy()\n",
    "train_labels[train_labels > 0] = 1\n",
    "train_labels.value_counts()"
   ]
  },
  {
   "cell_type": "code",
   "execution_count": 6,
   "metadata": {},
   "outputs": [],
   "source": [
    "X_train, y_train, X_valid, y_valid = split_valid(train_data, train_labels, valid_size=0.5)"
   ]
  },
  {
   "cell_type": "code",
   "execution_count": 32,
   "metadata": {},
   "outputs": [],
   "source": [
    "def build_dnn(num_features, num_nodes = 16, depth = 2, num_labels=2, activation = \"elu\"):\n",
    "    \n",
    "    import tensorflow as tf\n",
    "    import keras\n",
    "    from keras import optimizers\n",
    "    from keras import regularizers\n",
    "    keras.backend.clear_session()\n",
    "    \n",
    "    reg_scale = 0.001 # For L1 Reg\n",
    "    my_reg = regularizers.l1(reg_scale) # Can change this if needed\n",
    "    \n",
    "    dnn = keras.models.Sequential()\n",
    "\n",
    "    Dense = keras.layers.Dense\n",
    "\n",
    "    # Using He initialization\n",
    "    he_init = keras.initializers.he_normal()\n",
    "    \n",
    "    dnn.add(Dense(units = 20, activation=\"elu\", input_dim=num_features,\n",
    "                  kernel_initializer=he_init, kernel_regularizer = my_reg))\n",
    "    dnn.add(keras.layers.Dropout(0.5))\n",
    "    dnn.add(Dense(units = 20, activation=\"elu\",\n",
    "                  kernel_initializer=he_init, kernel_regularizer = my_reg))\n",
    "    dnn.add(keras.layers.Dropout(0.5))\n",
    "\n",
    "    \n",
    "    dnn.add(Dense(units=num_labels, activation=\"softmax\",\n",
    "                  kernel_initializer=he_init, kernel_regularizer = my_reg)) # 5 labels -> logits for now\n",
    "    \n",
    "#     nadam = keras.optimizers.Nadam()\n",
    "    NSGD = keras.optimizers.SGD(lr=0.01,momentum=0.9,nesterov=True)\n",
    "    \n",
    "    dnn.compile(loss='categorical_crossentropy',\n",
    "                  optimizer=NSGD,\n",
    "                  metrics=['accuracy'])\n",
    "    \n",
    "    return dnn"
   ]
  },
  {
   "cell_type": "code",
   "execution_count": 33,
   "metadata": {},
   "outputs": [],
   "source": [
    "reducer = umap.UMAP(random_state=42,\n",
    "                    n_components = 10,\n",
    "                    n_neighbors=15,\n",
    "                    min_dist=0)"
   ]
  },
  {
   "cell_type": "code",
   "execution_count": 37,
   "metadata": {},
   "outputs": [
    {
     "name": "stdout",
     "output_type": "stream",
     "text": [
      "Running Serial Crossvalidation\n",
      "Running worker: 0\n",
      "Fold: 0 -> Loss:0.912, Acc:0.5925\n",
      "Prediction Accuracy\n",
      "526/526 [==============================] - 0s 90us/step\n",
      "Scores on data set: loss=0.776 accuracy=0.6958\n",
      "Fold Correct: 366\n",
      "Running worker: 1\n",
      "Fold: 1 -> Loss:0.905, Acc:0.6010\n",
      "Prediction Accuracy\n",
      "526/526 [==============================] - 0s 14us/step\n",
      "Scores on data set: loss=0.788 accuracy=0.6445\n",
      "Fold Correct: 339\n",
      "Running worker: 2\n",
      "Fold: 2 -> Loss:0.921, Acc:0.5900\n",
      "Prediction Accuracy\n",
      "526/526 [==============================] - 0s 17us/step\n",
      "Scores on data set: loss=0.775 accuracy=0.6540\n",
      "Fold Correct: 344\n",
      "Running worker: 3\n",
      "Fold: 3 -> Loss:0.910, Acc:0.5938\n",
      "Prediction Accuracy\n",
      "526/526 [==============================] - 0s 13us/step\n",
      "Scores on data set: loss=0.778 accuracy=0.6654\n",
      "Fold Correct: 350\n",
      "Running worker: 4\n",
      "Fold: 4 -> Loss:0.917, Acc:0.5885\n",
      "Prediction Accuracy\n",
      "525/525 [==============================] - 0s 12us/step\n",
      "Scores on data set: loss=0.774 accuracy=0.6781\n",
      "Fold Correct: 356\n",
      "Running worker: 5\n",
      "Fold: 5 -> Loss:0.914, Acc:0.6003\n",
      "Prediction Accuracy\n",
      "525/525 [==============================] - 0s 12us/step\n",
      "Scores on data set: loss=0.762 accuracy=0.7010\n",
      "Fold Correct: 368\n",
      "Running worker: 6\n",
      "Fold: 6 -> Loss:0.916, Acc:0.6011\n",
      "Prediction Accuracy\n",
      "524/524 [==============================] - 0s 14us/step\n",
      "Scores on data set: loss=0.780 accuracy=0.6622\n",
      "Fold Correct: 347\n",
      "Running worker: 7\n",
      "Fold: 7 -> Loss:0.914, Acc:0.5925\n",
      "Prediction Accuracy\n",
      "524/524 [==============================] - 0s 13us/step\n",
      "Scores on data set: loss=0.783 accuracy=0.6966\n",
      "Fold Correct: 365\n",
      "Running worker: 8\n",
      "Fold: 8 -> Loss:0.909, Acc:0.5931\n",
      "Prediction Accuracy\n",
      "524/524 [==============================] - 0s 13us/step\n",
      "Scores on data set: loss=0.768 accuracy=0.6985\n",
      "Fold Correct: 366\n",
      "Running worker: 9\n",
      "Fold: 9 -> Loss:0.905, Acc:0.6058\n",
      "Prediction Accuracy\n",
      "524/524 [==============================] - 0s 12us/step\n",
      "Scores on data set: loss=0.783 accuracy=0.6737\n",
      "Fold Correct: 353\n",
      "Runtime: 5.390s\n",
      "Correct: 3554\n",
      "Test Size: 5250\n",
      "Confusion matrix, without normalization\n",
      "[[0.8006886  0.1993114 ]\n",
      " [0.44575114 0.55424886]]\n",
      "Overall Accuracy: 0.6770\n",
      "Loading LRP Analyzers...\n",
      "Done!\n"
     ]
    },
    {
     "data": {
      "image/png": "[encoded data removed]",
      "text/plain": [
       "<Figure size 576x576 with 2 Axes>"
      ]
     },
     "metadata": {
      "needs_background": "light"
     },
     "output_type": "display_data"
    }
   ],
   "source": [
    "nn = build_dnn(num_features=train_data.shape[1])\n",
    "pipeline = ClusterPipeline(nn, [X_train, y_train], [X_valid,y_valid], target_class=1, reducer=reducer)\n",
    "\n",
    "cm = pipeline.train_model(batch_size=100,epochs=1, cross_validation=True, parallel=False, verbose=0)"
   ]
  },
  {
   "cell_type": "code",
   "execution_count": 13,
   "metadata": {},
   "outputs": [
    {
     "name": "stderr",
     "output_type": "stream",
     "text": [
      "/Users/Work/anaconda3/envs/condatensor/lib/python3.6/site-packages/umap/umap_.py:349: NumbaWarning:\n",
      "\n",
      "\u001b[1m\n",
      "Compilation is falling back to object mode WITH looplifting enabled because Function \"fuzzy_simplicial_set\" failed type inference due to: \u001b[1mUntyped global name 'nearest_neighbors':\u001b[0m \u001b[1m\u001b[1mcannot determine Numba type of <class 'function'>\u001b[0m\n",
      "\u001b[1m\n",
      "File \"../../anaconda3/envs/condatensor/lib/python3.6/site-packages/umap/umap_.py\", line 467:\u001b[0m\n",
      "\u001b[1mdef fuzzy_simplicial_set(\n",
      "    <source elided>\n",
      "    if knn_indices is None or knn_dists is None:\n",
      "\u001b[1m        knn_indices, knn_dists, _ = nearest_neighbors(\n",
      "\u001b[0m        \u001b[1m^\u001b[0m\u001b[0m\n",
      "\u001b[0m\u001b[0m\n",
      "\n",
      "/Users/Work/anaconda3/envs/condatensor/lib/python3.6/site-packages/numba/compiler.py:742: NumbaWarning:\n",
      "\n",
      "\u001b[1mFunction \"fuzzy_simplicial_set\" was compiled in object mode without forceobj=True.\n",
      "\u001b[1m\n",
      "File \"../../anaconda3/envs/condatensor/lib/python3.6/site-packages/umap/umap_.py\", line 350:\u001b[0m\n",
      "\u001b[1m@numba.jit()\n",
      "\u001b[1mdef fuzzy_simplicial_set(\n",
      "\u001b[0m\u001b[1m^\u001b[0m\u001b[0m\n",
      "\u001b[0m\n",
      "\n",
      "/Users/Work/anaconda3/envs/condatensor/lib/python3.6/site-packages/numba/compiler.py:751: NumbaDeprecationWarning:\n",
      "\n",
      "\u001b[1m\n",
      "Fall-back from the nopython compilation path to the object mode compilation path has been detected, this is deprecated behaviour.\n",
      "\n",
      "For more information visit http://numba.pydata.org/numba-doc/latest/reference/deprecation.html#deprecation-of-object-mode-fall-back-behaviour-when-using-jit\n",
      "\u001b[1m\n",
      "File \"../../anaconda3/envs/condatensor/lib/python3.6/site-packages/umap/umap_.py\", line 350:\u001b[0m\n",
      "\u001b[1m@numba.jit()\n",
      "\u001b[1mdef fuzzy_simplicial_set(\n",
      "\u001b[0m\u001b[1m^\u001b[0m\u001b[0m\n",
      "\u001b[0m\n",
      "\n"
     ]
    },
    {
     "name": "stdout",
     "output_type": "stream",
     "text": [
      "Minimum Size:\n",
      "Clusters                  (12, 12)\n",
      "Noise                     (12, 12)\n",
      "Halkidi                   (17, 17)\n",
      "Halkidi-Filtered Noise    (12, 12)\n",
      "dtype: object\n"
     ]
    }
   ],
   "source": [
    "_, correct_pred_idxs = pipeline.train_clusterer(plot=False)"
   ]
  },
  {
   "cell_type": "code",
   "execution_count": 22,
   "metadata": {},
   "outputs": [],
   "source": [
    "def plot_clusters(pipeline):\n",
    "    \n",
    "    training_lrp = pipeline.training_lrp\n",
    "    \n",
    "    # Internally populates self.val_set_lrp\n",
    "    samples, cluster_labels = pipeline.get_validation_clusters()\n",
    "    \n",
    "    val_lrp = pipeline.val_set_lrp\n",
    "    # pipeline.reducer_pipeline[0].n_neighbors\n",
    "    embedding_pipeline = Pipeline([\n",
    "        (\"reducer\", umap.UMAP(random_state=42,\n",
    "                        n_components = 3,\n",
    "                        n_neighbors=25,\n",
    "                        min_dist=0)),\n",
    "       (\"scaler\", MinMaxScaler())\n",
    "    ])\n",
    "    embedding_pipeline.fit(training_lrp)\n",
    "\n",
    "    embedding = embedding_pipeline.transform(training_lrp)\n",
    "\n",
    "    emb3d = go.Scatter3d(\n",
    "        x=embedding[:,0],\n",
    "        y=embedding[:,1],\n",
    "        z=embedding[:,2],\n",
    "        mode=\"markers\",\n",
    "        name=\"Training\",\n",
    "        marker=dict(\n",
    "            size=5,\n",
    "            color=pipeline.clusterer.labels_,\n",
    "            colorscale=\"Rainbow\",\n",
    "            opacity=0.8\n",
    "        ),\n",
    "        text=pipeline.clusterer.labels_\n",
    "    )\n",
    "\n",
    "    val_3d_embedding = embedding_pipeline.transform(val_lrp)\n",
    "\n",
    "    val_emb3d = go.Scatter3d(\n",
    "        x=val_3d_embedding[:,0],\n",
    "        y=val_3d_embedding[:,1],\n",
    "        z=val_3d_embedding[:,2],\n",
    "        name=\"Validation\",\n",
    "        mode=\"markers\",\n",
    "        marker=dict(\n",
    "            size=5,\n",
    "            color=cluster_labels,\n",
    "            colorscale='Viridis',\n",
    "            opacity=0.8\n",
    "    #         showscale=True\n",
    "        ),\n",
    "        text = cluster_labels\n",
    "    )\n",
    "\n",
    "    layout = go.Layout(\n",
    "        title=\"3D LRP Embedding\",\n",
    "        autosize=False,\n",
    "        width=1200,\n",
    "        height=1000,\n",
    "        paper_bgcolor='#F5F5F5',\n",
    "    #     template=\"plotly\"\n",
    "    )\n",
    "\n",
    "\n",
    "    data=[emb3d, val_emb3d]\n",
    "\n",
    "    fig = go.Figure(data=data, layout=layout)\n",
    "    # fig.update_layout(template=\"plotly\")  /\n",
    "\n",
    "    iplot(fig, filename='lrp-3d-scatter.html')"
   ]
  },
  {
   "cell_type": "code",
   "execution_count": 38,
   "metadata": {},
   "outputs": [],
   "source": [
    "# plot_clusters(pipeline)"
   ]
  },
  {
   "cell_type": "code",
   "execution_count": null,
   "metadata": {},
   "outputs": [],
   "source": []
  }
 ],
 "metadata": {
  "kernelspec": {
   "display_name": "Python (condatensor)",
   "language": "python",
   "name": "condatensor"
  },
  "language_info": {
   "codemirror_mode": {
    "name": "ipython",
    "version": 3
   },
   "file_extension": ".py",
   "mimetype": "text/x-python",
   "name": "python",
   "nbconvert_exporter": "python",
   "pygments_lexer": "ipython3",
   "version": "3.6.8"
  }
 },
 "nbformat": 4,
 "nbformat_minor": 4
}
