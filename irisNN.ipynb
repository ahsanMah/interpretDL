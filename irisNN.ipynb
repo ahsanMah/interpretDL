{
 "cells": [
  {
   "cell_type": "code",
   "execution_count": 1,
   "metadata": {},
   "outputs": [
    {
     "data": {
      "text/plain": [
       "'1.12.0'"
      ]
     },
     "execution_count": 1,
     "metadata": {},
     "output_type": "execute_result"
    }
   ],
   "source": [
    "import tensorflow as tf\n",
    "import numpy as np\n",
    "import pandas as pd\n",
    "\n",
    "import sys\n",
    "# sys.path.append(\"/Users/Work/Developer/interpretDL/interprettensor\")\n",
    "root_logdir = \"./tf_logs\"\n",
    "\n",
    "# To plot pretty figures\n",
    "%matplotlib inline\n",
    "import matplotlib\n",
    "import matplotlib.pyplot as plt\n",
    "plt.rcParams['axes.labelsize'] = 14\n",
    "plt.rcParams['xtick.labelsize'] = 12\n",
    "plt.rcParams['ytick.labelsize'] = 12\n",
    "\n",
    "# to make this notebook's output stable across runs\n",
    "def reset_graph(seed=42):\n",
    "    tf.reset_default_graph()\n",
    "    tf.set_random_seed(seed)\n",
    "    np.random.seed(seed)\n",
    "\n",
    "tf.__version__"
   ]
  },
  {
   "cell_type": "code",
   "execution_count": 2,
   "metadata": {},
   "outputs": [
    {
     "data": {
      "text/plain": [
       "list"
      ]
     },
     "execution_count": 2,
     "metadata": {},
     "output_type": "execute_result"
    }
   ],
   "source": [
    "from sklearn import datasets\n",
    "from sklearn.model_selection import StratifiedShuffleSplit\n",
    "\n",
    "iris = datasets.load_iris()\n",
    "type(iris[\"feature_names\"])"
   ]
  },
  {
   "cell_type": "code",
   "execution_count": 3,
   "metadata": {},
   "outputs": [],
   "source": [
    "features = pd.DataFrame(iris[\"data\"])\n",
    "target = pd.Series(iris[\"target\"])\n",
    "flower_names = iris[\"target_names\"]\n",
    "feature_names = iris[\"feature_names\"]\n",
    "\n",
    "# The train set will have equal amounts of each target class\n",
    "split = StratifiedShuffleSplit(n_splits=1, test_size=0.2, random_state=42)\n",
    "for train_index, test_index in split.split(features, target):\n",
    "    X_train = features.loc[train_index]\n",
    "    y_train = target.loc[train_index]\n",
    "    X_test = features.loc[test_index]\n",
    "    y_test = target.loc[test_index]"
   ]
  },
  {
   "cell_type": "code",
   "execution_count": 4,
   "metadata": {},
   "outputs": [
    {
     "data": {
      "text/html": [
       "<div>\n",
       "<style scoped>\n",
       "    .dataframe tbody tr th:only-of-type {\n",
       "        vertical-align: middle;\n",
       "    }\n",
       "\n",
       "    .dataframe tbody tr th {\n",
       "        vertical-align: top;\n",
       "    }\n",
       "\n",
       "    .dataframe thead th {\n",
       "        text-align: right;\n",
       "    }\n",
       "</style>\n",
       "<table border=\"1\" class=\"dataframe\">\n",
       "  <thead>\n",
       "    <tr style=\"text-align: right;\">\n",
       "      <th></th>\n",
       "      <th>0</th>\n",
       "      <th>1</th>\n",
       "      <th>2</th>\n",
       "      <th>3</th>\n",
       "    </tr>\n",
       "  </thead>\n",
       "  <tbody>\n",
       "    <tr>\n",
       "      <th>count</th>\n",
       "      <td>120.000000</td>\n",
       "      <td>120.000000</td>\n",
       "      <td>120.00000</td>\n",
       "      <td>120.000000</td>\n",
       "    </tr>\n",
       "    <tr>\n",
       "      <th>mean</th>\n",
       "      <td>5.841667</td>\n",
       "      <td>3.048333</td>\n",
       "      <td>3.77000</td>\n",
       "      <td>1.205000</td>\n",
       "    </tr>\n",
       "    <tr>\n",
       "      <th>std</th>\n",
       "      <td>0.840926</td>\n",
       "      <td>0.448524</td>\n",
       "      <td>1.76852</td>\n",
       "      <td>0.762663</td>\n",
       "    </tr>\n",
       "    <tr>\n",
       "      <th>min</th>\n",
       "      <td>4.300000</td>\n",
       "      <td>2.000000</td>\n",
       "      <td>1.10000</td>\n",
       "      <td>0.100000</td>\n",
       "    </tr>\n",
       "    <tr>\n",
       "      <th>25%</th>\n",
       "      <td>5.100000</td>\n",
       "      <td>2.800000</td>\n",
       "      <td>1.60000</td>\n",
       "      <td>0.300000</td>\n",
       "    </tr>\n",
       "    <tr>\n",
       "      <th>50%</th>\n",
       "      <td>5.750000</td>\n",
       "      <td>3.000000</td>\n",
       "      <td>4.25000</td>\n",
       "      <td>1.300000</td>\n",
       "    </tr>\n",
       "    <tr>\n",
       "      <th>75%</th>\n",
       "      <td>6.400000</td>\n",
       "      <td>3.325000</td>\n",
       "      <td>5.10000</td>\n",
       "      <td>1.800000</td>\n",
       "    </tr>\n",
       "    <tr>\n",
       "      <th>max</th>\n",
       "      <td>7.900000</td>\n",
       "      <td>4.400000</td>\n",
       "      <td>6.90000</td>\n",
       "      <td>2.500000</td>\n",
       "    </tr>\n",
       "  </tbody>\n",
       "</table>\n",
       "</div>"
      ],
      "text/plain": [
       "                0           1          2           3\n",
       "count  120.000000  120.000000  120.00000  120.000000\n",
       "mean     5.841667    3.048333    3.77000    1.205000\n",
       "std      0.840926    0.448524    1.76852    0.762663\n",
       "min      4.300000    2.000000    1.10000    0.100000\n",
       "25%      5.100000    2.800000    1.60000    0.300000\n",
       "50%      5.750000    3.000000    4.25000    1.300000\n",
       "75%      6.400000    3.325000    5.10000    1.800000\n",
       "max      7.900000    4.400000    6.90000    2.500000"
      ]
     },
     "execution_count": 4,
     "metadata": {},
     "output_type": "execute_result"
    }
   ],
   "source": [
    "# y_train.hist() # Just to confirm the stratification\n",
    "features.head()\n",
    "X_train.describe()"
   ]
  },
  {
   "cell_type": "code",
   "execution_count": 17,
   "metadata": {},
   "outputs": [
    {
     "data": {
      "text/html": [
       "<div>\n",
       "<style scoped>\n",
       "    .dataframe tbody tr th:only-of-type {\n",
       "        vertical-align: middle;\n",
       "    }\n",
       "\n",
       "    .dataframe tbody tr th {\n",
       "        vertical-align: top;\n",
       "    }\n",
       "\n",
       "    .dataframe thead th {\n",
       "        text-align: right;\n",
       "    }\n",
       "</style>\n",
       "<table border=\"1\" class=\"dataframe\">\n",
       "  <thead>\n",
       "    <tr style=\"text-align: right;\">\n",
       "      <th></th>\n",
       "      <th>0</th>\n",
       "      <th>1</th>\n",
       "      <th>2</th>\n",
       "      <th>3</th>\n",
       "      <th>4</th>\n",
       "    </tr>\n",
       "  </thead>\n",
       "  <tbody>\n",
       "    <tr>\n",
       "      <th>0</th>\n",
       "      <td>5.1</td>\n",
       "      <td>3.5</td>\n",
       "      <td>1.4</td>\n",
       "      <td>0.2</td>\n",
       "      <td>3.5</td>\n",
       "    </tr>\n",
       "    <tr>\n",
       "      <th>1</th>\n",
       "      <td>4.9</td>\n",
       "      <td>3.0</td>\n",
       "      <td>1.4</td>\n",
       "      <td>0.2</td>\n",
       "      <td>3.0</td>\n",
       "    </tr>\n",
       "    <tr>\n",
       "      <th>2</th>\n",
       "      <td>4.7</td>\n",
       "      <td>3.2</td>\n",
       "      <td>1.3</td>\n",
       "      <td>0.2</td>\n",
       "      <td>3.2</td>\n",
       "    </tr>\n",
       "    <tr>\n",
       "      <th>3</th>\n",
       "      <td>4.6</td>\n",
       "      <td>3.1</td>\n",
       "      <td>1.5</td>\n",
       "      <td>0.2</td>\n",
       "      <td>3.1</td>\n",
       "    </tr>\n",
       "    <tr>\n",
       "      <th>4</th>\n",
       "      <td>5.0</td>\n",
       "      <td>3.6</td>\n",
       "      <td>1.4</td>\n",
       "      <td>0.2</td>\n",
       "      <td>3.6</td>\n",
       "    </tr>\n",
       "  </tbody>\n",
       "</table>\n",
       "</div>"
      ],
      "text/plain": [
       "     0    1    2    3    4\n",
       "0  5.1  3.5  1.4  0.2  3.5\n",
       "1  4.9  3.0  1.4  0.2  3.0\n",
       "2  4.7  3.2  1.3  0.2  3.2\n",
       "3  4.6  3.1  1.5  0.2  3.1\n",
       "4  5.0  3.6  1.4  0.2  3.6"
      ]
     },
     "execution_count": 17,
     "metadata": {},
     "output_type": "execute_result"
    }
   ],
   "source": [
    "features[4]=features[1]\n",
    "features.head()"
   ]
  },
  {
   "cell_type": "markdown",
   "metadata": {},
   "source": [
    "We will use One-Hot encoding for our labels as it makes it more reasonable to pass into a neural network model"
   ]
  },
  {
   "cell_type": "code",
   "execution_count": 5,
   "metadata": {},
   "outputs": [
    {
     "data": {
      "text/plain": [
       "array([[1., 0., 0.],\n",
       "       [0., 0., 1.],\n",
       "       [0., 1., 0.]])"
      ]
     },
     "execution_count": 5,
     "metadata": {},
     "output_type": "execute_result"
    }
   ],
   "source": [
    "from sklearn.preprocessing import OneHotEncoder\n",
    "\n",
    "enc = OneHotEncoder(categories=\"auto\", sparse=False)\n",
    "y_train_1hot = enc.fit_transform([[label] for label in y_train]) # Since the function expects an array of \"features\" per sample\n",
    "y_test_1hot = enc.fit_transform([[label] for label in y_test])\n",
    "\n",
    "y_train_1hot[:3]"
   ]
  },
  {
   "cell_type": "markdown",
   "metadata": {},
   "source": [
    "## Constructing the model\n",
    "\n",
    "We'll try building a Keras neural network for this data set"
   ]
  },
  {
   "cell_type": "code",
   "execution_count": 6,
   "metadata": {},
   "outputs": [
    {
     "name": "stdout",
     "output_type": "stream",
     "text": [
      "_________________________________________________________________\n",
      "Layer (type)                 Output Shape              Param #   \n",
      "=================================================================\n",
      "dense_1 (Dense)              (None, 16)                80        \n",
      "_________________________________________________________________\n",
      "dense_2 (Dense)              (None, 16)                272       \n",
      "_________________________________________________________________\n",
      "dense_3 (Dense)              (None, 3)                 51        \n",
      "=================================================================\n",
      "Total params: 403\n",
      "Trainable params: 403\n",
      "Non-trainable params: 0\n",
      "_________________________________________________________________\n"
     ]
    },
    {
     "name": "stderr",
     "output_type": "stream",
     "text": [
      "Using TensorFlow backend.\n"
     ]
    }
   ],
   "source": [
    "import keras\n",
    "\n",
    "keras.backend.clear_session()\n",
    "\n",
    "nn = keras.models.Sequential()\n",
    "\n",
    "Dense = keras.layers.Dense\n",
    "\n",
    "nn.add(Dense(units = 16, activation=\"relu\", input_dim=4))\n",
    "# nn.add(tf.keras.layers.Dropout(0.1))\n",
    "nn.add(Dense(units = 16, activation=\"relu\"))\n",
    "# nn.add(tf.keras.layers.Dropout(0.2))\n",
    "# nn.add(Dense(units = 16, activation=\"relu\"))\n",
    "nn.add(Dense(units=3, activation='softmax'))\n",
    "# nn.add(Dense(units=3))\n",
    "\n",
    "nn.summary()"
   ]
  },
  {
   "cell_type": "markdown",
   "metadata": {},
   "source": [
    "## Training"
   ]
  },
  {
   "cell_type": "code",
   "execution_count": 7,
   "metadata": {},
   "outputs": [],
   "source": [
    "nn.compile(loss='categorical_crossentropy',\n",
    "              optimizer='sgd',\n",
    "              metrics=['accuracy'])"
   ]
  },
  {
   "cell_type": "code",
   "execution_count": 8,
   "metadata": {},
   "outputs": [
    {
     "name": "stdout",
     "output_type": "stream",
     "text": [
      "Epoch 1/10\n",
      "120/120 [==============================] - 0s 652us/step - loss: 1.1510 - acc: 0.3333\n",
      "Epoch 2/10\n",
      "120/120 [==============================] - 0s 43us/step - loss: 0.9990 - acc: 0.3333\n",
      "Epoch 3/10\n",
      "120/120 [==============================] - 0s 54us/step - loss: 0.9300 - acc: 0.3333\n",
      "Epoch 4/10\n",
      "120/120 [==============================] - 0s 52us/step - loss: 0.8844 - acc: 0.6417\n",
      "Epoch 5/10\n",
      "120/120 [==============================] - 0s 48us/step - loss: 0.8513 - acc: 0.8750\n",
      "Epoch 6/10\n",
      "120/120 [==============================] - 0s 45us/step - loss: 0.8332 - acc: 0.8500\n",
      "Epoch 7/10\n",
      "120/120 [==============================] - 0s 51us/step - loss: 0.8153 - acc: 0.9083\n",
      "Epoch 8/10\n",
      "120/120 [==============================] - 0s 63us/step - loss: 0.7973 - acc: 0.8583\n",
      "Epoch 9/10\n",
      "120/120 [==============================] - 0s 45us/step - loss: 0.7797 - acc: 0.8583\n",
      "Epoch 10/10\n",
      "120/120 [==============================] - 0s 62us/step - loss: 0.7627 - acc: 0.8750\n"
     ]
    }
   ],
   "source": [
    "tb_callback = keras.callbacks.TensorBoard(log_dir=root_logdir, histogram_freq=0, batch_size=32,\n",
    "                                             write_graph=True, write_grads=False, write_images=False,\n",
    "                                             embeddings_freq=0, embeddings_layer_names=None, embeddings_metadata=None,\n",
    "                                             embeddings_data=None)\n",
    "\n",
    "history = nn.fit(X_train.values, y_train_1hot, epochs=10, batch_size = 20, callbacks=[tb_callback])"
   ]
  },
  {
   "cell_type": "code",
   "execution_count": 9,
   "metadata": {},
   "outputs": [
    {
     "data": {
      "image/png": "[encoded data removed]",
      "text/plain": [
       "<Figure size 1152x288 with 2 Axes>"
      ]
     },
     "metadata": {
      "needs_background": "light"
     },
     "output_type": "display_data"
    }
   ],
   "source": [
    "fig, axs = plt.subplots(1, 2, figsize=(16,4))\n",
    "\n",
    "# Plot training & validation accuracy values\n",
    "axs[0].plot(history.history['acc'])\n",
    "# plt.plot(history.history['val_acc'])\n",
    "axs[0].set(title='Model accuracy', ylabel='Accuracy', xlabel='Epoch')\n",
    "axs[0].legend(['Train', 'Test'], loc='upper left')\n",
    "\n",
    "# Plot training & validation loss values\n",
    "axs[1].plot(history.history['loss'])\n",
    "# plt.plot(history.history['val_loss'])\n",
    "axs[1].set(title='Model loss',ylabel='Loss', xlabel='Epoch')\n",
    "axs[1].legend(['Train', 'Test'], loc='upper left')\n",
    "plt.show()"
   ]
  },
  {
   "cell_type": "code",
   "execution_count": 21,
   "metadata": {},
   "outputs": [
    {
     "name": "stdout",
     "output_type": "stream",
     "text": [
      "30/30 [==============================] - 0s 827us/step\n",
      "Scores on test set: loss=0.149 accuracy=1.0000\n"
     ]
    }
   ],
   "source": [
    "loss_and_metrics = nn.evaluate(X_test, y_test_1hot)\n",
    "print(\"Scores on test set: loss={:0.3f} accuracy={:.4f}\".format(*loss_and_metrics))"
   ]
  },
  {
   "cell_type": "markdown",
   "metadata": {},
   "source": [
    "## LRP\n",
    "\n",
    "Now we try using LRP to generate relevances"
   ]
  },
  {
   "cell_type": "code",
   "execution_count": 22,
   "metadata": {},
   "outputs": [
    {
     "name": "stdout",
     "output_type": "stream",
     "text": [
      "          Relevances           Pred Actual\n",
      "[ 2.9993  5.32   -2.6544 -0.2467] 0 0\n",
      "[-8.3307 -3.5668 10.5158  3.1784] 2 2\n",
      "[ 3.0942 -0.1102 -1.0574 -0.4929] 1 1\n",
      "[ 3.1574 -0.1056 -1.0574 -0.4929] 1 1\n",
      "[ 4.1046  3.8124 -1.9288 -0.2307] 0 0\n",
      "[ 5.4798  2.2207 -5.0478 -1.4338] 1 1\n",
      "[ 4.2911  4.289  -1.4837 -0.2307] 0 0\n",
      "[ 3.6809  6.0293 -3.4711 -0.2467] 0 0\n",
      "[-8.877  -3.5668 11.1596  3.5315] 2 2\n",
      "[ 4.6969  2.0188 -4.833  -1.3442] 1 1\n",
      "[-9.9696 -3.4479 13.5203  3.1784] 2 2\n",
      "[-9.4233 -3.6857 10.945   4.0612] 2 2\n",
      "[-1.4993 -0.8643  4.3214  1.5372] 2 2\n",
      "[ 5.5667  2.1534 -4.833  -1.3442] 1 1\n",
      "[ 3.4083  6.0293 -3.0627 -0.2467] 0 0\n",
      "[ 3.4083  5.852  -2.8585 -0.2467] 0 0\n",
      "[ 5.4106  4.7655 -1.7804 -0.2307] 0 0\n",
      "[ 4.1572  1.3178 -3.2409 -0.8104] 1 1\n",
      "[ 5.3058  1.9515 -5.0478 -1.2546] 1 1\n",
      "[-8.1942 -3.5668 10.3012  3.1784] 2 2\n",
      "[ 3.7543  6.0131 -2.643  -0.1991] 0 0\n",
      "[-9.1501 -3.6857 12.0181  4.2378] 2 2\n",
      "[ 5.7407  1.9515 -4.9404 -1.165 ] 1 1\n",
      "[-8.0439 -2.7777 11.1171  2.7384] 2 2\n",
      "[-1.4762 -0.8067  4.1724  1.5372] 2 2\n",
      "[ 5.8277  2.0188 -5.37   -1.5235] 1 1\n",
      "[ 4.8996  1.5813 -3.6565 -1.0314] 1 1\n",
      "[ 3.8854  6.7386 -3.4711 -0.3701] 0 0\n",
      "[-8.877  -3.5668 11.8035  3.1784] 2 2\n",
      "[ 3.5446  6.0293 -2.8585 -0.2467] 0 0\n",
      "\n"
     ]
    }
   ],
   "source": [
    "\n",
    "import innvestigate\n",
    "import innvestigate.utils as iutils\n",
    "\n",
    "\n",
    "def perform_analysis(model, analyzer, data, labels):\n",
    "    analysis = analyzer.analyze(data)\n",
    "    prediction = model.predict(data)\n",
    "    \n",
    "    header = \"{:^30} {} {}\".format(\"Relevances\",\"Pred\", \"Actual\")\n",
    "    print(header)\n",
    "    \n",
    "    for rel,pred,actual in zip(analysis,prediction, labels):\n",
    "        result = \"{} {:d} {:d}\".format(np.around(rel,4), np.argmax(pred), actual)\n",
    "        print(result)\n",
    "    df_anal = pd.DataFrame(analysis)\n",
    "    print()\n",
    "#     print(df_anal.describe())\n",
    "    return df_anal\n",
    "\n",
    "# Stripping the softmax activation from the model\n",
    "model_wo_sm = iutils.keras.graph.model_wo_softmax(nn)\n",
    "\n",
    "# Creating an analyzer\n",
    "gradient_analyzer = innvestigate.analyzer.Gradient(model_wo_sm)\n",
    "lrp = innvestigate.create_analyzer(\"lrp.z\", model_wo_sm)\n",
    "\n",
    "flowers=X_test.values\n",
    "types=y_test.values\n",
    "\n",
    "# perform_analysis(nn,gradient_analyzer,flowers,types)\n",
    "lrp_results = perform_analysis(nn,lrp,flowers,types)"
   ]
  },
  {
   "cell_type": "code",
   "execution_count": 23,
   "metadata": {},
   "outputs": [
    {
     "name": "stdout",
     "output_type": "stream",
     "text": [
      "          Relevances           Pred Actual\n",
      "[ 2.9993  5.32   -2.6544 -0.2467] 0 0\n",
      "[ 4.1046  3.8124 -1.9288 -0.2307] 0 0\n",
      "[ 4.2911  4.289  -1.4837 -0.2307] 0 0\n",
      "[ 3.6809  6.0293 -3.4711 -0.2467] 0 0\n",
      "[ 3.4083  6.0293 -3.0627 -0.2467] 0 0\n",
      "[ 3.4083  5.852  -2.8585 -0.2467] 0 0\n",
      "[ 5.4106  4.7655 -1.7804 -0.2307] 0 0\n",
      "[ 3.7543  6.0131 -2.643  -0.1991] 0 0\n",
      "[ 3.8854  6.7386 -3.4711 -0.3701] 0 0\n",
      "[ 3.5446  6.0293 -2.8585 -0.2467] 0 0\n",
      "\n",
      "          Relevances           Pred Actual\n",
      "[ 3.0942 -0.1102 -1.0574 -0.4929] 1 1\n",
      "[ 3.1574 -0.1056 -1.0574 -0.4929] 1 1\n",
      "[ 5.4798  2.2207 -5.0478 -1.4338] 1 1\n",
      "[ 4.6969  2.0188 -4.833  -1.3442] 1 1\n",
      "[ 5.5667  2.1534 -4.833  -1.3442] 1 1\n",
      "[ 4.1572  1.3178 -3.2409 -0.8104] 1 1\n",
      "[ 5.3058  1.9515 -5.0478 -1.2546] 1 1\n",
      "[ 5.7407  1.9515 -4.9404 -1.165 ] 1 1\n",
      "[ 5.8277  2.0188 -5.37   -1.5235] 1 1\n",
      "[ 4.8996  1.5813 -3.6565 -1.0314] 1 1\n",
      "\n",
      "          Relevances           Pred Actual\n",
      "[-8.3307 -3.5668 10.5158  3.1784] 2 2\n",
      "[-8.877  -3.5668 11.1596  3.5315] 2 2\n",
      "[-9.9696 -3.4479 13.5203  3.1784] 2 2\n",
      "[-9.4233 -3.6857 10.945   4.0612] 2 2\n",
      "[-1.4993 -0.8643  4.3214  1.5372] 2 2\n",
      "[-8.1942 -3.5668 10.3012  3.1784] 2 2\n",
      "[-9.1501 -3.6857 12.0181  4.2378] 2 2\n",
      "[-8.0439 -2.7777 11.1171  2.7384] 2 2\n",
      "[-1.4762 -0.8067  4.1724  1.5372] 2 2\n",
      "[-8.877  -3.5668 11.8035  3.1784] 2 2\n",
      "\n"
     ]
    },
    {
     "data": {
      "image/png": "[encoded data removed]",
      "text/plain": [
       "<Figure size 1440x576 with 3 Axes>"
      ]
     },
     "metadata": {
      "needs_background": "light"
     },
     "output_type": "display_data"
    }
   ],
   "source": [
    "# # Applying the analyzer for all flowers\n",
    "\n",
    "fig, axs = plt.subplots(1, 3, figsize=(20,8))\n",
    "\n",
    "for label in range(0,3):\n",
    "#     label =  # Just looking at first flower type\n",
    "    label_idxs = (y_test == label)\n",
    "\n",
    "    flowers = X_test[label_idxs].values\n",
    "    types = y_test[label_idxs].values\n",
    "    lrp_results = perform_analysis(nn,lrp,flowers,types)\n",
    "    \n",
    "    avgs = lrp_results.mean()\n",
    "    errs = lrp_results.std()\n",
    "    \n",
    "    ax=avgs.plot(kind=\"bar\",ax=axs[label],yerr=errs, capsize=3, title=flower_names[label])\n",
    "    ax.set_xticklabels(feature_names, rotation=65)"
   ]
  },
  {
   "cell_type": "markdown",
   "metadata": {},
   "source": [
    "### Negative features can be thought of as discriminating features\n",
    "If its \"confusing\" for one class -> it should be important for some other class in a multi class setup\n",
    "thus should not see this for two classes only\n",
    "\n",
    "Maybe for brain stuff \n",
    "- get top 3 features for one sample patient\n",
    "- plot other samples using these features as dimensions\n",
    "    - to see if OTHER samples can cluster around this guy\n",
    "    - plot relevance or values?\n",
    "    - do they have a relevance profile?\n",
    "    \n",
    "Compute distance from the relevance vector?\n",
    "\n",
    "Add another feature manually..?\n",
    "\n",
    "#### Use cross validation\n",
    "10 fold\n",
    "\n",
    "Leave one out is over optimistic\n",
    "\n",
    "do a fold analysis\n",
    "\n",
    "Run SVM"
   ]
  },
  {
   "cell_type": "code",
   "execution_count": 14,
   "metadata": {},
   "outputs": [
    {
     "data": {
      "text/plain": [
       "<matplotlib.axes._subplots.AxesSubplot at 0x1336394e0>"
      ]
     },
     "execution_count": 14,
     "metadata": {},
     "output_type": "execute_result"
    },
    {
     "data": {
      "image/png": "[encoded data removed]",
      "text/plain": [
       "<Figure size 864x576 with 2 Axes>"
      ]
     },
     "metadata": {
      "needs_background": "light"
     },
     "output_type": "display_data"
    },
    {
     "data": {
      "image/png": "[encoded data removed]",
      "text/plain": [
       "<Figure size 864x576 with 2 Axes>"
      ]
     },
     "metadata": {
      "needs_background": "light"
     },
     "output_type": "display_data"
    }
   ],
   "source": [
    "# predictions = nn.predict(X_train)\n",
    "ax=X_train.plot.scatter(figsize=[12,8],x=0,y=1,c=y_train, colormap=\"viridis\")\n",
    "ax.set(ylabel=\"sepal width\")\n",
    "# plt.show()\n",
    "X_train.plot.scatter(figsize=[12,8],x=2,y=3,c=y_train, colormap=\"viridis\")"
   ]
  },
  {
   "cell_type": "code",
   "execution_count": null,
   "metadata": {},
   "outputs": [],
   "source": []
  },
  {
   "cell_type": "code",
   "execution_count": null,
   "metadata": {},
   "outputs": [],
   "source": []
  }
 ],
 "metadata": {
  "kernelspec": {
   "display_name": "condaflow",
   "language": "python",
   "name": "condaflow"
  },
  "language_info": {
   "codemirror_mode": {
    "name": "ipython",
    "version": 3
   },
   "file_extension": ".py",
   "mimetype": "text/x-python",
   "name": "python",
   "nbconvert_exporter": "python",
   "pygments_lexer": "ipython3",
   "version": "3.6.8"
  }
 },
 "nbformat": 4,
 "nbformat_minor": 2
}
