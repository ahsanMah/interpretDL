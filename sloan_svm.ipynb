{
 "cells": [
  {
   "cell_type": "code",
   "execution_count": 37,
   "metadata": {},
   "outputs": [
    {
     "data": {
      "text/html": [
       "        <script type=\"text/javascript\">\n",
       "        window.PlotlyConfig = {MathJaxConfig: 'local'};\n",
       "        if (window.MathJax) {MathJax.Hub.Config({SVG: {font: \"STIX-Web\"}});}\n",
       "        if (typeof require !== 'undefined') {\n",
       "        require.undef(\"plotly\");\n",
       "        requirejs.config({\n",
       "            paths: {\n",
       "                'plotly': ['https://cdn.plot.ly/plotly-latest.min']\n",
       "            }\n",
       "        });\n",
       "        require(['plotly'], function(Plotly) {\n",
       "            window._Plotly = Plotly;\n",
       "        });\n",
       "        }\n",
       "        </script>\n",
       "        "
      ]
     },
     "metadata": {},
     "output_type": "display_data"
    },
    {
     "data": {
      "text/html": [
       "        <script type=\"text/javascript\">\n",
       "        window.PlotlyConfig = {MathJaxConfig: 'local'};\n",
       "        if (window.MathJax) {MathJax.Hub.Config({SVG: {font: \"STIX-Web\"}});}\n",
       "        if (typeof require !== 'undefined') {\n",
       "        require.undef(\"plotly\");\n",
       "        requirejs.config({\n",
       "            paths: {\n",
       "                'plotly': ['https://cdn.plot.ly/plotly-latest.min']\n",
       "            }\n",
       "        });\n",
       "        require(['plotly'], function(Plotly) {\n",
       "            window._Plotly = Plotly;\n",
       "        });\n",
       "        }\n",
       "        </script>\n",
       "        "
      ]
     },
     "metadata": {},
     "output_type": "display_data"
    }
   ],
   "source": [
    "import plotly as py\n",
    "import plotly.graph_objs as go\n",
    "from plotly.offline import iplot\n",
    "from plotly.offline import plot\n",
    "import ipywidgets as widgets\n",
    "\n",
    "import cufflinks as cf\n",
    "import pandas as pd\n",
    "import numpy as np\n",
    "py.offline.init_notebook_mode(connected=True)\n",
    "cf.set_config_file(offline=True, world_readable=True, theme='ggplot')\n",
    "# print(cf.__version__)\n",
    "\n",
    "np.random.seed(seed=42) "
   ]
  },
  {
   "cell_type": "code",
   "execution_count": 52,
   "metadata": {},
   "outputs": [],
   "source": [
    "raw = pd.read_csv(\"data/sloan14.csv\", sep=',')\n",
    "raw_data = raw.drop(columns=[\"objid\", \"rerun\", \"fiberid\", \"specobjid\"])"
   ]
  },
  {
   "cell_type": "code",
   "execution_count": 53,
   "metadata": {},
   "outputs": [
    {
     "data": {
      "text/html": [
       "<div>\n",
       "<style scoped>\n",
       "    .dataframe tbody tr th:only-of-type {\n",
       "        vertical-align: middle;\n",
       "    }\n",
       "\n",
       "    .dataframe tbody tr th {\n",
       "        vertical-align: top;\n",
       "    }\n",
       "\n",
       "    .dataframe thead th {\n",
       "        text-align: right;\n",
       "    }\n",
       "</style>\n",
       "<table border=\"1\" class=\"dataframe\">\n",
       "  <thead>\n",
       "    <tr style=\"text-align: right;\">\n",
       "      <th></th>\n",
       "      <th>ra</th>\n",
       "      <th>dec</th>\n",
       "      <th>u</th>\n",
       "      <th>g</th>\n",
       "      <th>r</th>\n",
       "      <th>i</th>\n",
       "      <th>z</th>\n",
       "      <th>run</th>\n",
       "      <th>camcol</th>\n",
       "      <th>field</th>\n",
       "      <th>class</th>\n",
       "      <th>redshift</th>\n",
       "      <th>plate</th>\n",
       "      <th>mjd</th>\n",
       "    </tr>\n",
       "  </thead>\n",
       "  <tbody>\n",
       "    <tr>\n",
       "      <th>0</th>\n",
       "      <td>183.531326</td>\n",
       "      <td>0.089693</td>\n",
       "      <td>19.47406</td>\n",
       "      <td>17.04240</td>\n",
       "      <td>15.94699</td>\n",
       "      <td>15.50342</td>\n",
       "      <td>15.22531</td>\n",
       "      <td>752</td>\n",
       "      <td>4</td>\n",
       "      <td>267</td>\n",
       "      <td>STAR</td>\n",
       "      <td>-0.000009</td>\n",
       "      <td>3306</td>\n",
       "      <td>54922</td>\n",
       "    </tr>\n",
       "    <tr>\n",
       "      <th>1</th>\n",
       "      <td>183.598371</td>\n",
       "      <td>0.135285</td>\n",
       "      <td>18.66280</td>\n",
       "      <td>17.21449</td>\n",
       "      <td>16.67637</td>\n",
       "      <td>16.48922</td>\n",
       "      <td>16.39150</td>\n",
       "      <td>752</td>\n",
       "      <td>4</td>\n",
       "      <td>267</td>\n",
       "      <td>STAR</td>\n",
       "      <td>-0.000055</td>\n",
       "      <td>323</td>\n",
       "      <td>51615</td>\n",
       "    </tr>\n",
       "    <tr>\n",
       "      <th>2</th>\n",
       "      <td>183.680207</td>\n",
       "      <td>0.126185</td>\n",
       "      <td>19.38298</td>\n",
       "      <td>18.19169</td>\n",
       "      <td>17.47428</td>\n",
       "      <td>17.08732</td>\n",
       "      <td>16.80125</td>\n",
       "      <td>752</td>\n",
       "      <td>4</td>\n",
       "      <td>268</td>\n",
       "      <td>GALAXY</td>\n",
       "      <td>0.123111</td>\n",
       "      <td>287</td>\n",
       "      <td>52023</td>\n",
       "    </tr>\n",
       "    <tr>\n",
       "      <th>3</th>\n",
       "      <td>183.870529</td>\n",
       "      <td>0.049911</td>\n",
       "      <td>17.76536</td>\n",
       "      <td>16.60272</td>\n",
       "      <td>16.16116</td>\n",
       "      <td>15.98233</td>\n",
       "      <td>15.90438</td>\n",
       "      <td>752</td>\n",
       "      <td>4</td>\n",
       "      <td>269</td>\n",
       "      <td>STAR</td>\n",
       "      <td>-0.000111</td>\n",
       "      <td>3306</td>\n",
       "      <td>54922</td>\n",
       "    </tr>\n",
       "    <tr>\n",
       "      <th>4</th>\n",
       "      <td>183.883288</td>\n",
       "      <td>0.102557</td>\n",
       "      <td>17.55025</td>\n",
       "      <td>16.26342</td>\n",
       "      <td>16.43869</td>\n",
       "      <td>16.55492</td>\n",
       "      <td>16.61326</td>\n",
       "      <td>752</td>\n",
       "      <td>4</td>\n",
       "      <td>269</td>\n",
       "      <td>STAR</td>\n",
       "      <td>0.000590</td>\n",
       "      <td>3306</td>\n",
       "      <td>54922</td>\n",
       "    </tr>\n",
       "  </tbody>\n",
       "</table>\n",
       "</div>"
      ],
      "text/plain": [
       "           ra       dec         u         g         r         i         z  \\\n",
       "0  183.531326  0.089693  19.47406  17.04240  15.94699  15.50342  15.22531   \n",
       "1  183.598371  0.135285  18.66280  17.21449  16.67637  16.48922  16.39150   \n",
       "2  183.680207  0.126185  19.38298  18.19169  17.47428  17.08732  16.80125   \n",
       "3  183.870529  0.049911  17.76536  16.60272  16.16116  15.98233  15.90438   \n",
       "4  183.883288  0.102557  17.55025  16.26342  16.43869  16.55492  16.61326   \n",
       "\n",
       "   run  camcol  field   class  redshift  plate    mjd  \n",
       "0  752       4    267    STAR -0.000009   3306  54922  \n",
       "1  752       4    267    STAR -0.000055    323  51615  \n",
       "2  752       4    268  GALAXY  0.123111    287  52023  \n",
       "3  752       4    269    STAR -0.000111   3306  54922  \n",
       "4  752       4    269    STAR  0.000590   3306  54922  "
      ]
     },
     "execution_count": 53,
     "metadata": {},
     "output_type": "execute_result"
    }
   ],
   "source": [
    "raw_data.head()"
   ]
  },
  {
   "cell_type": "code",
   "execution_count": 54,
   "metadata": {},
   "outputs": [
    {
     "data": {
      "text/html": [
       "<div>\n",
       "<style scoped>\n",
       "    .dataframe tbody tr th:only-of-type {\n",
       "        vertical-align: middle;\n",
       "    }\n",
       "\n",
       "    .dataframe tbody tr th {\n",
       "        vertical-align: top;\n",
       "    }\n",
       "\n",
       "    .dataframe thead th {\n",
       "        text-align: right;\n",
       "    }\n",
       "</style>\n",
       "<table border=\"1\" class=\"dataframe\">\n",
       "  <thead>\n",
       "    <tr style=\"text-align: right;\">\n",
       "      <th></th>\n",
       "      <th>ra</th>\n",
       "      <th>dec</th>\n",
       "      <th>u</th>\n",
       "      <th>g</th>\n",
       "      <th>r</th>\n",
       "      <th>i</th>\n",
       "      <th>z</th>\n",
       "      <th>run</th>\n",
       "      <th>camcol</th>\n",
       "      <th>field</th>\n",
       "      <th>redshift</th>\n",
       "      <th>plate</th>\n",
       "      <th>mjd</th>\n",
       "    </tr>\n",
       "  </thead>\n",
       "  <tbody>\n",
       "    <tr>\n",
       "      <th>count</th>\n",
       "      <td>10000.000000</td>\n",
       "      <td>10000.000000</td>\n",
       "      <td>10000.000000</td>\n",
       "      <td>10000.000000</td>\n",
       "      <td>10000.000000</td>\n",
       "      <td>10000.000000</td>\n",
       "      <td>10000.000000</td>\n",
       "      <td>10000.000000</td>\n",
       "      <td>10000.000000</td>\n",
       "      <td>10000.000000</td>\n",
       "      <td>10000.000000</td>\n",
       "      <td>10000.000000</td>\n",
       "      <td>10000.000000</td>\n",
       "    </tr>\n",
       "    <tr>\n",
       "      <th>mean</th>\n",
       "      <td>175.529987</td>\n",
       "      <td>14.836148</td>\n",
       "      <td>18.619355</td>\n",
       "      <td>17.371931</td>\n",
       "      <td>16.840963</td>\n",
       "      <td>16.583579</td>\n",
       "      <td>16.422833</td>\n",
       "      <td>981.034800</td>\n",
       "      <td>3.648700</td>\n",
       "      <td>302.380100</td>\n",
       "      <td>0.143726</td>\n",
       "      <td>1460.986400</td>\n",
       "      <td>52943.533300</td>\n",
       "    </tr>\n",
       "    <tr>\n",
       "      <th>std</th>\n",
       "      <td>47.783439</td>\n",
       "      <td>25.212207</td>\n",
       "      <td>0.828656</td>\n",
       "      <td>0.945457</td>\n",
       "      <td>1.067764</td>\n",
       "      <td>1.141805</td>\n",
       "      <td>1.203188</td>\n",
       "      <td>273.305024</td>\n",
       "      <td>1.666183</td>\n",
       "      <td>162.577763</td>\n",
       "      <td>0.388774</td>\n",
       "      <td>1788.778371</td>\n",
       "      <td>1511.150651</td>\n",
       "    </tr>\n",
       "    <tr>\n",
       "      <th>min</th>\n",
       "      <td>8.235100</td>\n",
       "      <td>-5.382632</td>\n",
       "      <td>12.988970</td>\n",
       "      <td>12.799550</td>\n",
       "      <td>12.431600</td>\n",
       "      <td>11.947210</td>\n",
       "      <td>11.610410</td>\n",
       "      <td>308.000000</td>\n",
       "      <td>1.000000</td>\n",
       "      <td>11.000000</td>\n",
       "      <td>-0.004136</td>\n",
       "      <td>266.000000</td>\n",
       "      <td>51578.000000</td>\n",
       "    </tr>\n",
       "    <tr>\n",
       "      <th>25%</th>\n",
       "      <td>157.370946</td>\n",
       "      <td>-0.539035</td>\n",
       "      <td>18.178035</td>\n",
       "      <td>16.815100</td>\n",
       "      <td>16.173333</td>\n",
       "      <td>15.853705</td>\n",
       "      <td>15.618285</td>\n",
       "      <td>752.000000</td>\n",
       "      <td>2.000000</td>\n",
       "      <td>184.000000</td>\n",
       "      <td>0.000081</td>\n",
       "      <td>301.000000</td>\n",
       "      <td>51900.000000</td>\n",
       "    </tr>\n",
       "    <tr>\n",
       "      <th>50%</th>\n",
       "      <td>180.394514</td>\n",
       "      <td>0.404166</td>\n",
       "      <td>18.853095</td>\n",
       "      <td>17.495135</td>\n",
       "      <td>16.858770</td>\n",
       "      <td>16.554985</td>\n",
       "      <td>16.389945</td>\n",
       "      <td>756.000000</td>\n",
       "      <td>4.000000</td>\n",
       "      <td>299.000000</td>\n",
       "      <td>0.042591</td>\n",
       "      <td>441.000000</td>\n",
       "      <td>51997.000000</td>\n",
       "    </tr>\n",
       "    <tr>\n",
       "      <th>75%</th>\n",
       "      <td>201.547279</td>\n",
       "      <td>35.649397</td>\n",
       "      <td>19.259232</td>\n",
       "      <td>18.010145</td>\n",
       "      <td>17.512675</td>\n",
       "      <td>17.258550</td>\n",
       "      <td>17.141447</td>\n",
       "      <td>1331.000000</td>\n",
       "      <td>5.000000</td>\n",
       "      <td>414.000000</td>\n",
       "      <td>0.092579</td>\n",
       "      <td>2559.000000</td>\n",
       "      <td>54468.000000</td>\n",
       "    </tr>\n",
       "    <tr>\n",
       "      <th>max</th>\n",
       "      <td>260.884382</td>\n",
       "      <td>68.542265</td>\n",
       "      <td>19.599900</td>\n",
       "      <td>19.918970</td>\n",
       "      <td>24.802040</td>\n",
       "      <td>28.179630</td>\n",
       "      <td>22.833060</td>\n",
       "      <td>1412.000000</td>\n",
       "      <td>6.000000</td>\n",
       "      <td>768.000000</td>\n",
       "      <td>5.353854</td>\n",
       "      <td>8410.000000</td>\n",
       "      <td>57481.000000</td>\n",
       "    </tr>\n",
       "  </tbody>\n",
       "</table>\n",
       "</div>"
      ],
      "text/plain": [
       "                 ra           dec             u             g             r  \\\n",
       "count  10000.000000  10000.000000  10000.000000  10000.000000  10000.000000   \n",
       "mean     175.529987     14.836148     18.619355     17.371931     16.840963   \n",
       "std       47.783439     25.212207      0.828656      0.945457      1.067764   \n",
       "min        8.235100     -5.382632     12.988970     12.799550     12.431600   \n",
       "25%      157.370946     -0.539035     18.178035     16.815100     16.173333   \n",
       "50%      180.394514      0.404166     18.853095     17.495135     16.858770   \n",
       "75%      201.547279     35.649397     19.259232     18.010145     17.512675   \n",
       "max      260.884382     68.542265     19.599900     19.918970     24.802040   \n",
       "\n",
       "                  i             z           run        camcol         field  \\\n",
       "count  10000.000000  10000.000000  10000.000000  10000.000000  10000.000000   \n",
       "mean      16.583579     16.422833    981.034800      3.648700    302.380100   \n",
       "std        1.141805      1.203188    273.305024      1.666183    162.577763   \n",
       "min       11.947210     11.610410    308.000000      1.000000     11.000000   \n",
       "25%       15.853705     15.618285    752.000000      2.000000    184.000000   \n",
       "50%       16.554985     16.389945    756.000000      4.000000    299.000000   \n",
       "75%       17.258550     17.141447   1331.000000      5.000000    414.000000   \n",
       "max       28.179630     22.833060   1412.000000      6.000000    768.000000   \n",
       "\n",
       "           redshift         plate           mjd  \n",
       "count  10000.000000  10000.000000  10000.000000  \n",
       "mean       0.143726   1460.986400  52943.533300  \n",
       "std        0.388774   1788.778371   1511.150651  \n",
       "min       -0.004136    266.000000  51578.000000  \n",
       "25%        0.000081    301.000000  51900.000000  \n",
       "50%        0.042591    441.000000  51997.000000  \n",
       "75%        0.092579   2559.000000  54468.000000  \n",
       "max        5.353854   8410.000000  57481.000000  "
      ]
     },
     "execution_count": 54,
     "metadata": {},
     "output_type": "execute_result"
    }
   ],
   "source": [
    "raw_data.describe()"
   ]
  },
  {
   "cell_type": "code",
   "execution_count": 55,
   "metadata": {},
   "outputs": [
    {
     "data": {
      "text/plain": [
       "array([[<matplotlib.axes._subplots.AxesSubplot object at 0x1c2a060550>,\n",
       "        <matplotlib.axes._subplots.AxesSubplot object at 0x1c29d6fbe0>,\n",
       "        <matplotlib.axes._subplots.AxesSubplot object at 0x1c29f46cf8>,\n",
       "        <matplotlib.axes._subplots.AxesSubplot object at 0x1c2a13ae48>],\n",
       "       [<matplotlib.axes._subplots.AxesSubplot object at 0x1c2a49bf98>,\n",
       "        <matplotlib.axes._subplots.AxesSubplot object at 0x1c2a54e128>,\n",
       "        <matplotlib.axes._subplots.AxesSubplot object at 0x1c2a5f1278>,\n",
       "        <matplotlib.axes._subplots.AxesSubplot object at 0x1c2a88e400>],\n",
       "       [<matplotlib.axes._subplots.AxesSubplot object at 0x1c2a88e438>,\n",
       "        <matplotlib.axes._subplots.AxesSubplot object at 0x1c29c85668>,\n",
       "        <matplotlib.axes._subplots.AxesSubplot object at 0x1c29be27b8>,\n",
       "        <matplotlib.axes._subplots.AxesSubplot object at 0x1c29ebf908>],\n",
       "       [<matplotlib.axes._subplots.AxesSubplot object at 0x1c29f9aa58>,\n",
       "        <matplotlib.axes._subplots.AxesSubplot object at 0x1c2a0faba8>,\n",
       "        <matplotlib.axes._subplots.AxesSubplot object at 0x1c24e75c18>,\n",
       "        <matplotlib.axes._subplots.AxesSubplot object at 0x1c2a1787f0>]],\n",
       "      dtype=object)"
      ]
     },
     "execution_count": 55,
     "metadata": {},
     "output_type": "execute_result"
    },
    {
     "data": {
      "image/png": "[encoded data removed]",
      "text/plain": [
       "<Figure size 1440x1152 with 16 Axes>"
      ]
     },
     "metadata": {
      "needs_background": "light"
     },
     "output_type": "display_data"
    }
   ],
   "source": [
    "raw_data.hist(figsize=(20,16))"
   ]
  },
  {
   "cell_type": "code",
   "execution_count": 64,
   "metadata": {},
   "outputs": [],
   "source": [
    "raw_labels = raw_data[\"class\"]\n",
    "min_class_size = len(raw_labels[raw_labels==\"QSO\"])"
   ]
  },
  {
   "cell_type": "code",
   "execution_count": 90,
   "metadata": {},
   "outputs": [],
   "source": [
    "# data[\"i\"].astype(int)"
   ]
  },
  {
   "cell_type": "code",
   "execution_count": 127,
   "metadata": {},
   "outputs": [
    {
     "data": {
      "text/html": [
       "<div>\n",
       "<style scoped>\n",
       "    .dataframe tbody tr th:only-of-type {\n",
       "        vertical-align: middle;\n",
       "    }\n",
       "\n",
       "    .dataframe tbody tr th {\n",
       "        vertical-align: top;\n",
       "    }\n",
       "\n",
       "    .dataframe thead th {\n",
       "        text-align: right;\n",
       "    }\n",
       "</style>\n",
       "<table border=\"1\" class=\"dataframe\">\n",
       "  <thead>\n",
       "    <tr style=\"text-align: right;\">\n",
       "      <th></th>\n",
       "      <th>ra</th>\n",
       "      <th>dec</th>\n",
       "      <th>u</th>\n",
       "      <th>g</th>\n",
       "      <th>r</th>\n",
       "      <th>i</th>\n",
       "      <th>z</th>\n",
       "      <th>run</th>\n",
       "      <th>camcol</th>\n",
       "      <th>field</th>\n",
       "      <th>redshift</th>\n",
       "      <th>plate</th>\n",
       "      <th>mjd</th>\n",
       "    </tr>\n",
       "  </thead>\n",
       "  <tbody>\n",
       "    <tr>\n",
       "      <th>257</th>\n",
       "      <td>206.044712</td>\n",
       "      <td>-0.761242</td>\n",
       "      <td>19.17263</td>\n",
       "      <td>18.06068</td>\n",
       "      <td>17.63050</td>\n",
       "      <td>17.33272</td>\n",
       "      <td>17.22040</td>\n",
       "      <td>752</td>\n",
       "      <td>2</td>\n",
       "      <td>417</td>\n",
       "      <td>0.086853</td>\n",
       "      <td>299</td>\n",
       "      <td>51671</td>\n",
       "    </tr>\n",
       "    <tr>\n",
       "      <th>5010</th>\n",
       "      <td>172.448139</td>\n",
       "      <td>67.894859</td>\n",
       "      <td>18.84141</td>\n",
       "      <td>17.57142</td>\n",
       "      <td>17.09964</td>\n",
       "      <td>16.85146</td>\n",
       "      <td>16.57346</td>\n",
       "      <td>1350</td>\n",
       "      <td>6</td>\n",
       "      <td>338</td>\n",
       "      <td>0.052329</td>\n",
       "      <td>491</td>\n",
       "      <td>51942</td>\n",
       "    </tr>\n",
       "    <tr>\n",
       "      <th>5671</th>\n",
       "      <td>201.600564</td>\n",
       "      <td>1.208363</td>\n",
       "      <td>18.62920</td>\n",
       "      <td>17.75404</td>\n",
       "      <td>17.36377</td>\n",
       "      <td>17.02357</td>\n",
       "      <td>16.94105</td>\n",
       "      <td>1404</td>\n",
       "      <td>6</td>\n",
       "      <td>18</td>\n",
       "      <td>0.111805</td>\n",
       "      <td>527</td>\n",
       "      <td>52342</td>\n",
       "    </tr>\n",
       "    <tr>\n",
       "      <th>9985</th>\n",
       "      <td>130.766303</td>\n",
       "      <td>51.325652</td>\n",
       "      <td>17.12925</td>\n",
       "      <td>15.53226</td>\n",
       "      <td>14.74467</td>\n",
       "      <td>14.31073</td>\n",
       "      <td>13.90751</td>\n",
       "      <td>1345</td>\n",
       "      <td>3</td>\n",
       "      <td>159</td>\n",
       "      <td>0.030481</td>\n",
       "      <td>445</td>\n",
       "      <td>51873</td>\n",
       "    </tr>\n",
       "    <tr>\n",
       "      <th>9878</th>\n",
       "      <td>208.100622</td>\n",
       "      <td>66.739331</td>\n",
       "      <td>18.32993</td>\n",
       "      <td>16.41507</td>\n",
       "      <td>15.47913</td>\n",
       "      <td>15.02539</td>\n",
       "      <td>14.70058</td>\n",
       "      <td>1350</td>\n",
       "      <td>6</td>\n",
       "      <td>429</td>\n",
       "      <td>0.067526</td>\n",
       "      <td>497</td>\n",
       "      <td>51989</td>\n",
       "    </tr>\n",
       "  </tbody>\n",
       "</table>\n",
       "</div>"
      ],
      "text/plain": [
       "              ra        dec         u         g         r         i         z  \\\n",
       "257   206.044712  -0.761242  19.17263  18.06068  17.63050  17.33272  17.22040   \n",
       "5010  172.448139  67.894859  18.84141  17.57142  17.09964  16.85146  16.57346   \n",
       "5671  201.600564   1.208363  18.62920  17.75404  17.36377  17.02357  16.94105   \n",
       "9985  130.766303  51.325652  17.12925  15.53226  14.74467  14.31073  13.90751   \n",
       "9878  208.100622  66.739331  18.32993  16.41507  15.47913  15.02539  14.70058   \n",
       "\n",
       "       run camcol field  redshift plate    mjd  \n",
       "257    752      2   417  0.086853   299  51671  \n",
       "5010  1350      6   338  0.052329   491  51942  \n",
       "5671  1404      6    18  0.111805   527  52342  \n",
       "9985  1345      3   159  0.030481   445  51873  \n",
       "9878  1350      6   429  0.067526   497  51989  "
      ]
     },
     "execution_count": 127,
     "metadata": {},
     "output_type": "execute_result"
    }
   ],
   "source": [
    "new_data = pd.DataFrame(columns=raw_data.columns)\n",
    "\n",
    "for labl in [\"GALAXY\", \"STAR\", \"QSO\"]:\n",
    "    _labels = raw_labels[ raw_labels == labl]\n",
    "    \n",
    "    size = min_class_size\n",
    "    if labl == \"STAR\": size *=2 # To balance final binary classes \n",
    "    \n",
    "    rand_selected = _labels.sample(n=size, replace=False, random_state=42).index\n",
    "    _data = raw_data.reindex(rand_selected)\n",
    "    new_data = new_data.append(_data)\n",
    "\n",
    "    \n",
    "labels = new_data[\"class\"].copy()\n",
    "labels[labels == \"GALAXY\"] = 1\n",
    "labels[labels == \"STAR\"] = 0\n",
    "labels[labels == \"QSO\"] = 1\n",
    "labels = labels.astype(np.int8)\n",
    "\n",
    "data = new_data.drop(columns=[\"class\"])\n",
    "data.head()"
   ]
  },
  {
   "cell_type": "code",
   "execution_count": 128,
   "metadata": {},
   "outputs": [],
   "source": [
    "def get_split_index(features, labels, test_size=0.1):\n",
    "    import numpy as np\n",
    "    from sklearn.model_selection import StratifiedShuffleSplit\n",
    "    \n",
    "    features = np.array(features)\n",
    "    # The train set will have equal amounts of each target class\n",
    "    # Performing single split\n",
    "    split = StratifiedShuffleSplit(n_splits=1, test_size=test_size, random_state=42)\n",
    "    return [[train_index, test_index] for train_index,test_index in split.split(features, labels)]\n",
    "\n",
    "def split_valid(features, training_labels, valid_size=0.5):\n",
    "    train_index, validation_index = get_split_index(features, training_labels, test_size=valid_size)[0]\n",
    "    \n",
    "    X_valid, y_valid = features.iloc[validation_index], training_labels.iloc[validation_index]\n",
    "    X_train, y_train = features.iloc[train_index], training_labels.iloc[train_index]\n",
    "     \n",
    "    return X_train, y_train, X_valid, y_valid"
   ]
  },
  {
   "cell_type": "code",
   "execution_count": 129,
   "metadata": {},
   "outputs": [
    {
     "data": {
      "text/plain": [
       "Int64Index([ 435, 6023, 2206, 4041,  628, 1225, 8423, 4587, 1637, 2474,\n",
       "            ...\n",
       "            7891, 7576,  616, 6825, 9426, 9021, 4152, 7496, 5423, 5063],\n",
       "           dtype='int64', length=2720)"
      ]
     },
     "execution_count": 129,
     "metadata": {},
     "output_type": "execute_result"
    }
   ],
   "source": [
    "X_train, y_train, X_valid, y_valid = split_valid(data, labels, valid_size=0.2)\n",
    "\n",
    "X_train.index"
   ]
  },
  {
   "cell_type": "markdown",
   "metadata": {},
   "source": [
    "## Training an SVM"
   ]
  },
  {
   "cell_type": "code",
   "execution_count": 107,
   "metadata": {},
   "outputs": [],
   "source": [
    "from sklearn.svm import LinearSVC\n",
    "from sklearn.model_selection import GridSearchCV\n",
    "from sklearn.model_selection import cross_val_score\n",
    "from sklearn.preprocessing import StandardScaler\n",
    "from sklearn.pipeline import Pipeline\n",
    "\n",
    "\n",
    "param_grid = [\n",
    "    {\"dual\":[False],\"max_iter\":[10000000], \"penalty\":[\"l1\",\"l2\"], \"tol\":[1e-4,1e-5,1e-6], \"C\":[1,10,100]},\n",
    "    { \"max_iter\":[10000000], \"loss\":[\"squared_hinge\"], \"tol\":[1e-4,1e-5,1e-6], \"C\":[1,10,100]},\n",
    "    { \"max_iter\":[10000000], \"loss\":[\"hinge\"], \"tol\":[1e-4,1e-5,1e-6], \"C\":[1,10,100]}\n",
    "]\n",
    "\n",
    "clf = Pipeline([\n",
    "    (\"scaler\", StandardScaler()),\n",
    "    (\"SVM\",LinearSVC())\n",
    "])\n",
    "\n",
    "def runSVM(X,y, X_valid,y_valid):\n",
    "    \n",
    "    clf_grid = Pipeline([\n",
    "        (\"scaler\", StandardScaler()),\n",
    "        (\"SVMGrid\",GridSearchCV(lsvc, param_grid, cv=10, iid=False, scoring=\"neg_mean_squared_error\", n_jobs=4))\n",
    "    ])\n",
    "    \n",
    "    clf_grid.fit(X, y)\n",
    "    grid = clf_grid.steps[1][1]\n",
    "    print(grid.best_params_)\n",
    "\n",
    "    svm_clf = Pipeline([\n",
    "        (\"scaler\", StandardScaler()),\n",
    "        (\"SVM\", LinearSVC(**grid.best_params_))\n",
    "    ])\n",
    "    \n",
    "    svm_clf.fit(X, y)\n",
    "    print(\"SVM Test Accuracy: {:0.3f}\".format(svm_clf.score(X_valid, y_valid)))\n",
    "\n",
    "    _score = cross_val_score(svm_clf, X=X, y=y, cv=10)\n",
    "    print(\"SVM CV Accuracy: {:0.3f}(+/- {:.3f})\".format(_score.mean(), _score.std()*2))\n",
    "    \n",
    "    return svm_clf, grid.best_params_"
   ]
  },
  {
   "cell_type": "code",
   "execution_count": 130,
   "metadata": {},
   "outputs": [
    {
     "name": "stdout",
     "output_type": "stream",
     "text": [
      "CPU times: user 64.8 ms, sys: 2.4 ms, total: 67.2 ms\n",
      "Wall time: 65.4 ms\n",
      "SVM Test Accuracy: 0.991\n"
     ]
    },
    {
     "name": "stderr",
     "output_type": "stream",
     "text": [
      "/Users/Work/anaconda3/envs/condatensor/lib/python3.6/site-packages/sklearn/svm/base.py:929: ConvergenceWarning:\n",
      "\n",
      "Liblinear failed to converge, increase the number of iterations.\n",
      "\n"
     ]
    }
   ],
   "source": [
    "%time clf.fit(X_train, y_train)\n",
    "print(\"SVM Test Accuracy: {:0.3f}\".format(clf.score(X_valid, y_valid)))"
   ]
  },
  {
   "cell_type": "code",
   "execution_count": 103,
   "metadata": {},
   "outputs": [
    {
     "name": "stderr",
     "output_type": "stream",
     "text": [
      "/Users/Work/anaconda3/envs/condatensor/lib/python3.6/site-packages/sklearn/svm/base.py:929: ConvergenceWarning:\n",
      "\n",
      "Liblinear failed to converge, increase the number of iterations.\n",
      "\n",
      "/Users/Work/anaconda3/envs/condatensor/lib/python3.6/site-packages/sklearn/svm/base.py:929: ConvergenceWarning:\n",
      "\n",
      "Liblinear failed to converge, increase the number of iterations.\n",
      "\n",
      "/Users/Work/anaconda3/envs/condatensor/lib/python3.6/site-packages/sklearn/svm/base.py:929: ConvergenceWarning:\n",
      "\n",
      "Liblinear failed to converge, increase the number of iterations.\n",
      "\n",
      "/Users/Work/anaconda3/envs/condatensor/lib/python3.6/site-packages/sklearn/svm/base.py:929: ConvergenceWarning:\n",
      "\n",
      "Liblinear failed to converge, increase the number of iterations.\n",
      "\n",
      "/Users/Work/anaconda3/envs/condatensor/lib/python3.6/site-packages/sklearn/svm/base.py:929: ConvergenceWarning:\n",
      "\n",
      "Liblinear failed to converge, increase the number of iterations.\n",
      "\n",
      "/Users/Work/anaconda3/envs/condatensor/lib/python3.6/site-packages/sklearn/svm/base.py:929: ConvergenceWarning:\n",
      "\n",
      "Liblinear failed to converge, increase the number of iterations.\n",
      "\n",
      "/Users/Work/anaconda3/envs/condatensor/lib/python3.6/site-packages/sklearn/svm/base.py:929: ConvergenceWarning:\n",
      "\n",
      "Liblinear failed to converge, increase the number of iterations.\n",
      "\n",
      "/Users/Work/anaconda3/envs/condatensor/lib/python3.6/site-packages/sklearn/svm/base.py:929: ConvergenceWarning:\n",
      "\n",
      "Liblinear failed to converge, increase the number of iterations.\n",
      "\n",
      "/Users/Work/anaconda3/envs/condatensor/lib/python3.6/site-packages/sklearn/svm/base.py:929: ConvergenceWarning:\n",
      "\n",
      "Liblinear failed to converge, increase the number of iterations.\n",
      "\n"
     ]
    },
    {
     "name": "stdout",
     "output_type": "stream",
     "text": [
      "CPU times: user 843 ms, sys: 7.73 ms, total: 850 ms\n",
      "Wall time: 849 ms\n",
      "SVM CV Accuracy: 0.914(+/- 0.021)\n"
     ]
    },
    {
     "name": "stderr",
     "output_type": "stream",
     "text": [
      "/Users/Work/anaconda3/envs/condatensor/lib/python3.6/site-packages/sklearn/svm/base.py:929: ConvergenceWarning:\n",
      "\n",
      "Liblinear failed to converge, increase the number of iterations.\n",
      "\n"
     ]
    }
   ],
   "source": [
    "%time _score = cross_val_score(clf, X=X_train, y=y_train, cv=10)\n",
    "print(\"SVM CV Accuracy: {:0.3f}(+/- {:.3f})\".format(_score.mean(), _score.std()*2))"
   ]
  },
  {
   "cell_type": "code",
   "execution_count": 106,
   "metadata": {},
   "outputs": [
    {
     "name": "stdout",
     "output_type": "stream",
     "text": [
      "{'C': 10, 'loss': 'hinge', 'max_iter': 10000000, 'tol': 0.0001}\n",
      "SVM Test Accuracy: 0.940\n",
      "SVM CV Accuracy: 0.937(+/- 0.023)\n"
     ]
    }
   ],
   "source": [
    "original_svm, orig_best_params = runSVM(X_train, y_train, X_valid, y_valid)"
   ]
  },
  {
   "cell_type": "code",
   "execution_count": 108,
   "metadata": {},
   "outputs": [],
   "source": [
    "orig_best_params = {'C': 10, 'loss': 'hinge', 'max_iter': 10000000, 'tol': 0.0001}"
   ]
  },
  {
   "cell_type": "code",
   "execution_count": 131,
   "metadata": {},
   "outputs": [],
   "source": [
    "labels = new_data[\"class\"].copy()\n",
    "labels[labels == \"GALAXY\"] = 0\n",
    "labels[labels == \"STAR\"] = 1\n",
    "labels[labels == \"QSO\"] = 2\n",
    "labels = labels.astype(np.int8)"
   ]
  },
  {
   "cell_type": "code",
   "execution_count": 132,
   "metadata": {},
   "outputs": [
    {
     "data": {
      "text/plain": [
       "<matplotlib.axes._subplots.AxesSubplot at 0x1c2bf95a58>"
      ]
     },
     "execution_count": 132,
     "metadata": {},
     "output_type": "execute_result"
    },
    {
     "data": {
      "image/png": "[encoded data removed]",
      "text/plain": [
       "<Figure size 432x288 with 1 Axes>"
      ]
     },
     "metadata": {
      "needs_background": "light"
     },
     "output_type": "display_data"
    }
   ],
   "source": [
    "labels.hist()"
   ]
  },
  {
   "cell_type": "code",
   "execution_count": 125,
   "metadata": {},
   "outputs": [
    {
     "data": {
      "text/plain": [
       "Int64Index([3485, 2434, 8783,  482,  655, 6668, 1593, 6550, 6736, 6185,\n",
       "            ...\n",
       "            2007, 6005, 3432, 1564,  987, 4504,  917, 4712, 4602, 1736],\n",
       "           dtype='int64', length=2720)"
      ]
     },
     "execution_count": 125,
     "metadata": {},
     "output_type": "execute_result"
    }
   ],
   "source": [
    "X_train, y_train, X_valid, y_valid = split_valid(data, labels, valid_size=0.2)\n",
    "\n",
    "X_train.index"
   ]
  },
  {
   "cell_type": "code",
   "execution_count": 126,
   "metadata": {},
   "outputs": [
    {
     "name": "stdout",
     "output_type": "stream",
     "text": [
      "CPU times: user 169 ms, sys: 1.84 ms, total: 171 ms\n",
      "Wall time: 170 ms\n",
      "SVM Test Accuracy: 0.960\n"
     ]
    },
    {
     "name": "stderr",
     "output_type": "stream",
     "text": [
      "/Users/Work/anaconda3/envs/condatensor/lib/python3.6/site-packages/sklearn/svm/base.py:929: ConvergenceWarning:\n",
      "\n",
      "Liblinear failed to converge, increase the number of iterations.\n",
      "\n"
     ]
    }
   ],
   "source": [
    "%time clf.fit(X_train, y_train)\n",
    "print(\"SVM Test Accuracy: {:0.3f}\".format(clf.score(X_valid, y_valid)))"
   ]
  },
  {
   "cell_type": "code",
   "execution_count": null,
   "metadata": {},
   "outputs": [],
   "source": []
  }
 ],
 "metadata": {
  "kernelspec": {
   "display_name": "Python (condatensor)",
   "language": "python",
   "name": "condatensor"
  },
  "language_info": {
   "codemirror_mode": {
    "name": "ipython",
    "version": 3
   },
   "file_extension": ".py",
   "mimetype": "text/x-python",
   "name": "python",
   "nbconvert_exporter": "python",
   "pygments_lexer": "ipython3",
   "version": "3.6.8"
  }
 },
 "nbformat": 4,
 "nbformat_minor": 4
}
