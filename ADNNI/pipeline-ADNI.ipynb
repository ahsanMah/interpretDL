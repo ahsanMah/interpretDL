{
 "cells": [
  {
   "cell_type": "code",
   "execution_count": 57,
   "metadata": {},
   "outputs": [
    {
     "name": "stdout",
     "output_type": "stream",
     "text": [
      "The autoreload extension is already loaded. To reload it, use:\n",
      "  %reload_ext autoreload\n"
     ]
    }
   ],
   "source": [
    "# Magic line to force reload all modules when this cell is run multiple times\n",
    "%load_ext autoreload\n",
    "%autoreload 2\n",
    "\n",
    "from ClusterPipeline import ClusterPipeline\n",
    "# from common_imports import *\n",
    "from helper import simulate_blobs\n",
    "from helper import plot_confusion_matrix\n",
    "\n",
    "import numpy as np\n",
    "import pandas as pd"
   ]
  },
  {
   "cell_type": "code",
   "execution_count": 58,
   "metadata": {},
   "outputs": [],
   "source": [
    "def get_split_index(features, labels, test_size=0.1):\n",
    "    import numpy as np\n",
    "    from sklearn.model_selection import StratifiedShuffleSplit\n",
    "    \n",
    "    features = np.array(features)\n",
    "    # The train set will have equal amounts of each target class\n",
    "    # Performing single split\n",
    "    split = StratifiedShuffleSplit(n_splits=1, test_size=test_size, random_state=42)\n",
    "    return [[train_index, test_index] for train_index,test_index in split.split(features, labels)]\n",
    "\n",
    "def split_valid(features, training_labels, valid_size=0.5):\n",
    "    train_index, validation_index = get_split_index(features, training_labels, test_size=valid_size)[0]\n",
    "    \n",
    "    X_valid, y_valid = features.iloc[validation_index], training_labels.iloc[validation_index]\n",
    "    X_train, y_train = features.iloc[train_index], training_labels.iloc[train_index]\n",
    "     \n",
    "    return X_train, y_train, X_valid, y_valid"
   ]
  },
  {
   "cell_type": "code",
   "execution_count": 59,
   "metadata": {},
   "outputs": [],
   "source": [
    "def exp_decay(epoch):\n",
    "    initial_lr = 0.1\n",
    "    decay_steps = 50\n",
    "    decay_rate = 0.1\n",
    "    \n",
    "    decayed_lr =  initial_lr * np.power(decay_rate, (epoch/decay_steps))\n",
    "#     print(\"New Learning Rate:\", decayed_lr)\n",
    "    return decayed_lr\n",
    "\n",
    "def build_dnn(num_features, num_nodes = 16, depth = 2, num_labels=2, activation = \"elu\"):\n",
    "    \n",
    "    import tensorflow as tf\n",
    "    import keras\n",
    "    from keras import optimizers\n",
    "    from keras import regularizers\n",
    "    keras.backend.clear_session()\n",
    "    \n",
    "    reg_scale = 0.001 # For L1 Reg\n",
    "    my_reg = regularizers.l1_l2(reg_scale) # Can change this if needed\n",
    "    \n",
    "    dnn = keras.models.Sequential()\n",
    "\n",
    "    Dense = keras.layers.Dense\n",
    "\n",
    "    # Using He initialization\n",
    "    he_init = keras.initializers.he_normal()\n",
    "    \n",
    "\n",
    "    dnn.add(Dense(units = 100, activation=\"elu\", input_dim=num_features,\n",
    "                  kernel_initializer=he_init, kernel_regularizer = my_reg))\n",
    "    dnn.add(keras.layers.Dropout(0.5))\n",
    "    dnn.add(Dense(units = 50, activation=\"elu\",\n",
    "                  kernel_initializer=he_init, kernel_regularizer = my_reg))\n",
    "    dnn.add(keras.layers.Dropout(0.5))\n",
    "    dnn.add(Dense(units=25, activation='elu',\n",
    "                  kernel_initializer=he_init, kernel_regularizer = my_reg))\n",
    "    dnn.add(keras.layers.Dropout(0.5))\n",
    "    \n",
    "    dnn.add(Dense(units=num_labels, activation=\"softmax\",\n",
    "                  kernel_initializer=he_init, kernel_regularizer = my_reg)) # 5 labels -> logits for now\n",
    "    \n",
    "#     nadam = keras.optimizers.Nadam()\n",
    "    NSGD = keras.optimizers.SGD(lr=0.01,momentum=0.9,nesterov=True)\n",
    "    \n",
    "    dnn.compile(loss='categorical_crossentropy',\n",
    "                  optimizer=NSGD,\n",
    "                  metrics=['accuracy'])\n",
    "    \n",
    "    return dnn"
   ]
  },
  {
   "cell_type": "code",
   "execution_count": 60,
   "metadata": {},
   "outputs": [
    {
     "name": "stdout",
     "output_type": "stream",
     "text": [
      "<class 'pandas.core.frame.DataFrame'>\n",
      "Int64Index: 76 entries, 2 to 142\n",
      "Columns: 149 entries, G_and_S_frontomargin_TH_lh to label\n",
      "dtypes: float64(148), object(1)\n",
      "memory usage: 89.1+ KB\n"
     ]
    }
   ],
   "source": [
    "raw_data = pd.read_csv(\"data/ADNI_CN_AD.csv\", index_col=0)\n",
    "original_data = raw_data.drop(columns=[\"label\"])\n",
    "raw_labels = raw_data[\"label\"]\n",
    "raw_data.info()"
   ]
  },
  {
   "cell_type": "code",
   "execution_count": 61,
   "metadata": {},
   "outputs": [
    {
     "data": {
      "text/plain": [
       "[array(['AD', 'CN'], dtype=object)]"
      ]
     },
     "execution_count": 61,
     "metadata": {},
     "output_type": "execute_result"
    }
   ],
   "source": [
    "from sklearn.preprocessing import OrdinalEncoder\n",
    "oe = OrdinalEncoder(dtype=int)\n",
    "training_labels = np.ravel(oe.fit_transform(raw_labels.values.reshape(-1,1)))\n",
    "training_labels = pd.Series(training_labels)\n",
    "oe.categories_"
   ]
  },
  {
   "cell_type": "code",
   "execution_count": 62,
   "metadata": {},
   "outputs": [
    {
     "data": {
      "text/plain": [
       "CN    50\n",
       "AD    26\n",
       "Name: label, dtype: int64"
      ]
     },
     "execution_count": 62,
     "metadata": {},
     "output_type": "execute_result"
    }
   ],
   "source": [
    "raw_labels.value_counts()"
   ]
  },
  {
   "cell_type": "code",
   "execution_count": 63,
   "metadata": {},
   "outputs": [
    {
     "name": "stdout",
     "output_type": "stream",
     "text": [
      "_________________________________________________________________\n",
      "Layer (type)                 Output Shape              Param #   \n",
      "=================================================================\n",
      "dense_1 (Dense)              (None, 100)               14900     \n",
      "_________________________________________________________________\n",
      "dropout_1 (Dropout)          (None, 100)               0         \n",
      "_________________________________________________________________\n",
      "dense_2 (Dense)              (None, 50)                5050      \n",
      "_________________________________________________________________\n",
      "dropout_2 (Dropout)          (None, 50)                0         \n",
      "_________________________________________________________________\n",
      "dense_3 (Dense)              (None, 25)                1275      \n",
      "_________________________________________________________________\n",
      "dropout_3 (Dropout)          (None, 25)                0         \n",
      "_________________________________________________________________\n",
      "dense_4 (Dense)              (None, 2)                 52        \n",
      "=================================================================\n",
      "Total params: 21,277\n",
      "Trainable params: 21,277\n",
      "Non-trainable params: 0\n",
      "_________________________________________________________________\n"
     ]
    }
   ],
   "source": [
    "# pd.DataFrame(training_labels)\n",
    "nn = build_dnn(num_features=original_data.shape[1])\n",
    "nn.summary()"
   ]
  },
  {
   "cell_type": "code",
   "execution_count": 84,
   "metadata": {},
   "outputs": [
    {
     "data": {
      "text/plain": [
       "UMAP(a=None, angular_rp_forest=False, b=None, init='spectral',\n",
       "     learning_rate=1.0, local_connectivity=1.0, metric='euclidean',\n",
       "     metric_kwds=None, min_dist=0.1, n_components=2, n_epochs=None,\n",
       "     n_neighbors=15, negative_sample_rate=5, random_state=42,\n",
       "     repulsion_strength=1.0, set_op_mix_ratio=1.0, spread=1.0,\n",
       "     target_metric='categorical', target_metric_kwds=None,\n",
       "     target_n_neighbors=-1, target_weight=0.5, transform_queue_size=4.0,\n",
       "     transform_seed=42, verbose=False)"
      ]
     },
     "execution_count": 84,
     "metadata": {},
     "output_type": "execute_result"
    }
   ],
   "source": [
    "umap.UMAP(random_state=42)"
   ]
  },
  {
   "cell_type": "code",
   "execution_count": 64,
   "metadata": {},
   "outputs": [],
   "source": [
    "import umap\n",
    "reducer = umap.UMAP(random_state=42,\n",
    "                    n_components = 10,\n",
    "                    n_neighbors=3,\n",
    "                    min_dist=0)"
   ]
  },
  {
   "cell_type": "code",
   "execution_count": 96,
   "metadata": {},
   "outputs": [
    {
     "name": "stdout",
     "output_type": "stream",
     "text": [
      "Running Serial Crossvalidation\n",
      "Running worker: 0\n",
      "Prediction Accuracy\n",
      "8/8 [==============================] - 0s 81us/step\n",
      "Scores on data set: loss=0.300 accuracy=0.8750\n",
      "Fold Correct: 7\n",
      "Finished training Fold: 0 -> Loss:0.300, Acc:0.8750\n",
      "Running worker: 1\n",
      "Prediction Accuracy\n",
      "8/8 [==============================] - 0s 83us/step\n",
      "Scores on data set: loss=1.086 accuracy=0.7500\n",
      "Fold Correct: 6\n",
      "Finished training Fold: 1 -> Loss:1.086, Acc:0.7500\n",
      "Running worker: 2\n",
      "Prediction Accuracy\n",
      "8/8 [==============================] - 0s 87us/step\n",
      "Scores on data set: loss=0.964 accuracy=0.7500\n",
      "Fold Correct: 6\n",
      "Finished training Fold: 2 -> Loss:0.964, Acc:0.7500\n",
      "Running worker: 3\n",
      "Prediction Accuracy\n",
      "7/7 [==============================] - 0s 107us/step\n",
      "Scores on data set: loss=0.493 accuracy=0.8571\n",
      "Fold Correct: 6\n",
      "Finished training Fold: 3 -> Loss:0.493, Acc:0.8571\n",
      "Running worker: 4\n",
      "Prediction Accuracy\n",
      "7/7 [==============================] - 0s 128us/step\n",
      "Scores on data set: loss=0.996 accuracy=0.8571\n",
      "Fold Correct: 6\n",
      "Finished training Fold: 4 -> Loss:0.996, Acc:0.8571\n",
      "Running worker: 5\n",
      "Prediction Accuracy\n",
      "6/6 [==============================] - 0s 104us/step\n",
      "Scores on data set: loss=0.442 accuracy=0.8333\n",
      "Fold Correct: 5\n",
      "Finished training Fold: 5 -> Loss:0.442, Acc:0.8333\n",
      "Running worker: 6\n",
      "Prediction Accuracy\n",
      "6/6 [==============================] - 0s 86us/step\n",
      "Scores on data set: loss=0.176 accuracy=1.0000\n",
      "Fold Correct: 6\n",
      "Finished training Fold: 6 -> Loss:0.176, Acc:1.0000\n",
      "Running worker: 7\n",
      "Prediction Accuracy\n",
      "6/6 [==============================] - 0s 151us/step\n",
      "Scores on data set: loss=1.026 accuracy=0.6667\n",
      "Fold Correct: 4\n",
      "Finished training Fold: 7 -> Loss:1.026, Acc:0.6667\n",
      "Running worker: 8\n",
      "Prediction Accuracy\n",
      "6/6 [==============================] - 0s 98us/step\n",
      "Scores on data set: loss=0.518 accuracy=0.6667\n",
      "Fold Correct: 4\n",
      "Finished training Fold: 8 -> Loss:0.518, Acc:0.6667\n",
      "Running worker: 9\n",
      "Prediction Accuracy\n",
      "6/6 [==============================] - 0s 112us/step\n",
      "Scores on data set: loss=0.599 accuracy=0.6667\n",
      "Fold Correct: 4\n",
      "Finished training Fold: 9 -> Loss:0.599, Acc:0.6667\n",
      "Runtime: 22.002s\n",
      "Correct: 54\n",
      "Test Size: 68\n"
     ]
    }
   ],
   "source": [
    "if __name__ == \"__main__\":\n",
    "\n",
    "    # Separating a hold out set that will be used for validation later\n",
    "    X_train, y_train, X_valid, y_valid = split_valid(original_data, training_labels, valid_size=0.1)    \n",
    "\n",
    "    pipeline = ClusterPipeline(nn, [X_train, y_train], [X_valid,y_valid], target_class=0, reducer=reducer)\n",
    "    \n",
    "    pipeline.train_model(batch_size=10,epochs=150, cross_validation=True, parallel=False)"
   ]
  },
  {
   "cell_type": "code",
   "execution_count": 103,
   "metadata": {},
   "outputs": [
    {
     "name": "stdout",
     "output_type": "stream",
     "text": [
      "Confusion matrix, without normalization\n",
      "[[15  8]\n",
      " [ 6 39]]\n"
     ]
    },
    {
     "data": {
      "text/plain": [
       "<matplotlib.axes._subplots.AxesSubplot at 0x1a5087b278>"
      ]
     },
     "execution_count": 103,
     "metadata": {},
     "output_type": "execute_result"
    },
    {
     "data": {
      "image/png": "[encoded data removed]",
      "text/plain": [
       "<Figure size 576x576 with 2 Axes>"
      ]
     },
     "metadata": {
      "needs_background": "light"
     },
     "output_type": "display_data"
    }
   ],
   "source": [
    "# [True,True,False].count(True)\n",
    "# np.array([True,True,False, True, False]).sum()\n",
    "plot_confusion_matrix(y_train.values[pipeline.testing_idxs], pipeline.predictions, oe.categories_[0])"
   ]
  },
  {
   "cell_type": "code",
   "execution_count": 98,
   "metadata": {},
   "outputs": [],
   "source": [
    "# pd.DataFrame(pipeline.lrp_results)a"
   ]
  },
  {
   "cell_type": "code",
   "execution_count": 99,
   "metadata": {},
   "outputs": [],
   "source": [
    "# # %matplotlib notebook\n",
    "# import umap\n",
    "# import matplotlib.pyplot as plt\n",
    "\n",
    "# from mpl_toolkits.mplot3d import Axes3D\n",
    "\n",
    "# reducer = umap.UMAP(random_state=42,\n",
    "#                     n_components = 3,\n",
    "#                     n_neighbors=3,\n",
    "#                     min_dist=0)\n",
    "# embedding = reducer.fit_transform(pipeline.lrp_results)"
   ]
  },
  {
   "cell_type": "code",
   "execution_count": 104,
   "metadata": {},
   "outputs": [],
   "source": [
    "predictions, DNNs = pipeline.get_predictions()"
   ]
  },
  {
   "cell_type": "code",
   "execution_count": 105,
   "metadata": {},
   "outputs": [
    {
     "name": "stdout",
     "output_type": "stream",
     "text": [
      "Minimum Size:\n",
      "Clusters                  4\n",
      "Noise                     3\n",
      "Silhouette                3\n",
      "Halkidi                   3\n",
      "Halkidi-Filtered Noise    3\n",
      "Halkidi-Bounded Noise     3\n",
      "dtype: int64\n"
     ]
    },
    {
     "data": {
      "text/html": [
       "<div>\n",
       "<style scoped>\n",
       "    .dataframe tbody tr th:only-of-type {\n",
       "        vertical-align: middle;\n",
       "    }\n",
       "\n",
       "    .dataframe tbody tr th {\n",
       "        vertical-align: top;\n",
       "    }\n",
       "\n",
       "    .dataframe thead th {\n",
       "        text-align: right;\n",
       "    }\n",
       "</style>\n",
       "<table border=\"1\" class=\"dataframe\">\n",
       "  <thead>\n",
       "    <tr style=\"text-align: right;\">\n",
       "      <th></th>\n",
       "      <th>Clusters</th>\n",
       "      <th>Noise</th>\n",
       "      <th>Silhouette</th>\n",
       "      <th>Halkidi</th>\n",
       "      <th>Halkidi-Filtered Noise</th>\n",
       "      <th>Halkidi-Bounded Noise</th>\n",
       "    </tr>\n",
       "  </thead>\n",
       "  <tbody>\n",
       "    <tr>\n",
       "      <th>3</th>\n",
       "      <td>2</td>\n",
       "      <td>0.066667</td>\n",
       "      <td>2.852515e-01</td>\n",
       "      <td>1.016481e+00</td>\n",
       "      <td>5.598180e-01</td>\n",
       "      <td>5.261967e-01</td>\n",
       "    </tr>\n",
       "    <tr>\n",
       "      <th>4</th>\n",
       "      <td>0</td>\n",
       "      <td>1.000000</td>\n",
       "      <td>2.147484e+09</td>\n",
       "      <td>2.147484e+09</td>\n",
       "      <td>2.147484e+09</td>\n",
       "      <td>2.147484e+09</td>\n",
       "    </tr>\n",
       "    <tr>\n",
       "      <th>5</th>\n",
       "      <td>0</td>\n",
       "      <td>1.000000</td>\n",
       "      <td>2.147484e+09</td>\n",
       "      <td>2.147484e+09</td>\n",
       "      <td>2.147484e+09</td>\n",
       "      <td>2.147484e+09</td>\n",
       "    </tr>\n",
       "    <tr>\n",
       "      <th>6</th>\n",
       "      <td>0</td>\n",
       "      <td>1.000000</td>\n",
       "      <td>2.147484e+09</td>\n",
       "      <td>2.147484e+09</td>\n",
       "      <td>2.147484e+09</td>\n",
       "      <td>2.147484e+09</td>\n",
       "    </tr>\n",
       "    <tr>\n",
       "      <th>7</th>\n",
       "      <td>0</td>\n",
       "      <td>1.000000</td>\n",
       "      <td>2.147484e+09</td>\n",
       "      <td>2.147484e+09</td>\n",
       "      <td>2.147484e+09</td>\n",
       "      <td>2.147484e+09</td>\n",
       "    </tr>\n",
       "    <tr>\n",
       "      <th>8</th>\n",
       "      <td>0</td>\n",
       "      <td>1.000000</td>\n",
       "      <td>2.147484e+09</td>\n",
       "      <td>2.147484e+09</td>\n",
       "      <td>2.147484e+09</td>\n",
       "      <td>2.147484e+09</td>\n",
       "    </tr>\n",
       "    <tr>\n",
       "      <th>9</th>\n",
       "      <td>0</td>\n",
       "      <td>1.000000</td>\n",
       "      <td>2.147484e+09</td>\n",
       "      <td>2.147484e+09</td>\n",
       "      <td>2.147484e+09</td>\n",
       "      <td>2.147484e+09</td>\n",
       "    </tr>\n",
       "    <tr>\n",
       "      <th>10</th>\n",
       "      <td>0</td>\n",
       "      <td>1.000000</td>\n",
       "      <td>2.147484e+09</td>\n",
       "      <td>2.147484e+09</td>\n",
       "      <td>2.147484e+09</td>\n",
       "      <td>2.147484e+09</td>\n",
       "    </tr>\n",
       "    <tr>\n",
       "      <th>11</th>\n",
       "      <td>0</td>\n",
       "      <td>1.000000</td>\n",
       "      <td>2.147484e+09</td>\n",
       "      <td>2.147484e+09</td>\n",
       "      <td>2.147484e+09</td>\n",
       "      <td>2.147484e+09</td>\n",
       "    </tr>\n",
       "    <tr>\n",
       "      <th>12</th>\n",
       "      <td>0</td>\n",
       "      <td>1.000000</td>\n",
       "      <td>2.147484e+09</td>\n",
       "      <td>2.147484e+09</td>\n",
       "      <td>2.147484e+09</td>\n",
       "      <td>2.147484e+09</td>\n",
       "    </tr>\n",
       "    <tr>\n",
       "      <th>13</th>\n",
       "      <td>0</td>\n",
       "      <td>1.000000</td>\n",
       "      <td>2.147484e+09</td>\n",
       "      <td>2.147484e+09</td>\n",
       "      <td>2.147484e+09</td>\n",
       "      <td>2.147484e+09</td>\n",
       "    </tr>\n",
       "    <tr>\n",
       "      <th>14</th>\n",
       "      <td>0</td>\n",
       "      <td>1.000000</td>\n",
       "      <td>2.147484e+09</td>\n",
       "      <td>2.147484e+09</td>\n",
       "      <td>2.147484e+09</td>\n",
       "      <td>2.147484e+09</td>\n",
       "    </tr>\n",
       "    <tr>\n",
       "      <th>15</th>\n",
       "      <td>0</td>\n",
       "      <td>1.000000</td>\n",
       "      <td>2.147484e+09</td>\n",
       "      <td>2.147484e+09</td>\n",
       "      <td>2.147484e+09</td>\n",
       "      <td>2.147484e+09</td>\n",
       "    </tr>\n",
       "    <tr>\n",
       "      <th>16</th>\n",
       "      <td>0</td>\n",
       "      <td>1.000000</td>\n",
       "      <td>2.147484e+09</td>\n",
       "      <td>2.147484e+09</td>\n",
       "      <td>2.147484e+09</td>\n",
       "      <td>2.147484e+09</td>\n",
       "    </tr>\n",
       "    <tr>\n",
       "      <th>17</th>\n",
       "      <td>0</td>\n",
       "      <td>1.000000</td>\n",
       "      <td>2.147484e+09</td>\n",
       "      <td>2.147484e+09</td>\n",
       "      <td>2.147484e+09</td>\n",
       "      <td>2.147484e+09</td>\n",
       "    </tr>\n",
       "    <tr>\n",
       "      <th>18</th>\n",
       "      <td>0</td>\n",
       "      <td>1.000000</td>\n",
       "      <td>2.147484e+09</td>\n",
       "      <td>2.147484e+09</td>\n",
       "      <td>2.147484e+09</td>\n",
       "      <td>2.147484e+09</td>\n",
       "    </tr>\n",
       "    <tr>\n",
       "      <th>19</th>\n",
       "      <td>0</td>\n",
       "      <td>1.000000</td>\n",
       "      <td>2.147484e+09</td>\n",
       "      <td>2.147484e+09</td>\n",
       "      <td>2.147484e+09</td>\n",
       "      <td>2.147484e+09</td>\n",
       "    </tr>\n",
       "  </tbody>\n",
       "</table>\n",
       "</div>"
      ],
      "text/plain": [
       "    Clusters     Noise    Silhouette       Halkidi  Halkidi-Filtered Noise  \\\n",
       "3          2  0.066667  2.852515e-01  1.016481e+00            5.598180e-01   \n",
       "4          0  1.000000  2.147484e+09  2.147484e+09            2.147484e+09   \n",
       "5          0  1.000000  2.147484e+09  2.147484e+09            2.147484e+09   \n",
       "6          0  1.000000  2.147484e+09  2.147484e+09            2.147484e+09   \n",
       "7          0  1.000000  2.147484e+09  2.147484e+09            2.147484e+09   \n",
       "8          0  1.000000  2.147484e+09  2.147484e+09            2.147484e+09   \n",
       "9          0  1.000000  2.147484e+09  2.147484e+09            2.147484e+09   \n",
       "10         0  1.000000  2.147484e+09  2.147484e+09            2.147484e+09   \n",
       "11         0  1.000000  2.147484e+09  2.147484e+09            2.147484e+09   \n",
       "12         0  1.000000  2.147484e+09  2.147484e+09            2.147484e+09   \n",
       "13         0  1.000000  2.147484e+09  2.147484e+09            2.147484e+09   \n",
       "14         0  1.000000  2.147484e+09  2.147484e+09            2.147484e+09   \n",
       "15         0  1.000000  2.147484e+09  2.147484e+09            2.147484e+09   \n",
       "16         0  1.000000  2.147484e+09  2.147484e+09            2.147484e+09   \n",
       "17         0  1.000000  2.147484e+09  2.147484e+09            2.147484e+09   \n",
       "18         0  1.000000  2.147484e+09  2.147484e+09            2.147484e+09   \n",
       "19         0  1.000000  2.147484e+09  2.147484e+09            2.147484e+09   \n",
       "\n",
       "    Halkidi-Bounded Noise  \n",
       "3            5.261967e-01  \n",
       "4            2.147484e+09  \n",
       "5            2.147484e+09  \n",
       "6            2.147484e+09  \n",
       "7            2.147484e+09  \n",
       "8            2.147484e+09  \n",
       "9            2.147484e+09  \n",
       "10           2.147484e+09  \n",
       "11           2.147484e+09  \n",
       "12           2.147484e+09  \n",
       "13           2.147484e+09  \n",
       "14           2.147484e+09  \n",
       "15           2.147484e+09  \n",
       "16           2.147484e+09  \n",
       "17           2.147484e+09  \n",
       "18           2.147484e+09  \n",
       "19           2.147484e+09  "
      ]
     },
     "execution_count": 105,
     "metadata": {},
     "output_type": "execute_result"
    }
   ],
   "source": [
    "min_cluster_sizes=range(3,20,1)\n",
    "pipeline.train_clusterer(class_label=0, min_cluster_sizes=min_cluster_sizes, plot=False)"
   ]
  },
  {
   "cell_type": "code",
   "execution_count": 106,
   "metadata": {},
   "outputs": [
    {
     "data": {
      "text/plain": [
       " 1    11\n",
       " 0     3\n",
       "-1     1\n",
       "dtype: int64"
      ]
     },
     "execution_count": 106,
     "metadata": {},
     "output_type": "execute_result"
    }
   ],
   "source": [
    "pd.Series(pipeline.clusterer.labels_).value_counts()"
   ]
  },
  {
   "cell_type": "code",
   "execution_count": 107,
   "metadata": {},
   "outputs": [
    {
     "name": "stdout",
     "output_type": "stream",
     "text": [
      "Loading LRP Analyzers...\n",
      "Done!\n"
     ]
    }
   ],
   "source": [
    "samples, cluster_labels = pipeline.get_validation_clusters()"
   ]
  },
  {
   "cell_type": "code",
   "execution_count": 108,
   "metadata": {},
   "outputs": [
    {
     "data": {
      "text/plain": [
       "-1    3\n",
       "dtype: int64"
      ]
     },
     "execution_count": 108,
     "metadata": {},
     "output_type": "execute_result"
    }
   ],
   "source": [
    "pd.Series(cluster_labels).value_counts()"
   ]
  },
  {
   "cell_type": "code",
   "execution_count": 17,
   "metadata": {},
   "outputs": [
    {
     "name": "stdout",
     "output_type": "stream",
     "text": [
      "SVM Accuracy: 0.667(+/- 0.045)\n",
      "\tSubcluster 0\n",
      "Size: 564\n",
      "SVM Accuracy: 0.764(+/- 0.063)\n",
      "\tSubcluster 1\n",
      "Size: 140\n",
      "SVM Accuracy: 1.000(+/- 0.000)\n",
      "\tSubcluster 2\n",
      "Size: 402\n",
      "SVM Accuracy: 0.843(+/- 0.096)\n",
      "\tSubcluster 3\n",
      "Size: 240\n",
      "SVM Accuracy: 0.842(+/- 0.122)\n",
      "----------------------\n",
      "Weighted Mean: 0.8260\n"
     ]
    }
   ],
   "source": [
    "#### if __name__ == \"__main__\":\n",
    "#     from sklearn.svm import LinearSVC\n",
    "#     from sklearn.model_selection import GridSearchCV\n",
    "#     from sklearn.model_selection import cross_val_score\n",
    "#     from sklearn.pipeline import Pipeline\n",
    "#     from sklearn.preprocessing import StandardScaler\n",
    "#     import numpy as np\n",
    "\n",
    "\n",
    "#     original_val_samples = pipeline.val_set.features[pipeline.val_pred_mask]\n",
    "#     original_val_labels = pipeline.val_set.labels[pipeline.val_pred_mask]\n",
    "\n",
    "#     svm_clf = Pipeline([\n",
    "#     (\"scaler\", StandardScaler()),\n",
    "#     (\"SVM\", LinearSVC(**{'C': 10, 'loss': 'hinge', 'max_iter': 10000000, 'tol': 0.0001}))\n",
    "#     ])\n",
    "#     _score = cross_val_score(svm_clf, X = original_val_samples, y=original_val_labels, cv=10)\n",
    "#     print(\"SVM Accuracy: {:0.3f}(+/- {:.3f})\".format(_score.mean(), _score.std()*2))\n",
    "    \n",
    "#     center_class = original_val_samples[original_val_labels == 1]\n",
    "#     target_class = original_val_samples[original_val_labels == 0]\n",
    "#     center_labels = [-1]* len(original_val_labels[original_val_labels == 1])\n",
    "\n",
    "#     # Separate training set for each class with\n",
    "#     # equal amounts of subcluster and center blob\n",
    "#     xtrain = {}\n",
    "#     start = 0\n",
    "#     for i in range(0,cluster_labels.max()+1):\n",
    "        \n",
    "#         _subclass = target_class[cluster_labels == i]\n",
    "#         _labels = cluster_labels[ cluster_labels == i]\n",
    "        \n",
    "#         end = start+len(_subclass)\n",
    "#         _xtrain = np.concatenate((center_class[start:end], _subclass))\n",
    "#         _ytrain = np.concatenate((center_labels[start:end], _labels))\n",
    "        \n",
    "#         xtrain[i] = (_xtrain, _ytrain)\n",
    "#         start += len(_subclass)\n",
    "#     # print(xtrain)\n",
    "#     scores = []\n",
    "#     sizes = [len(xtrain[i][1]) for i in xtrain]\n",
    "\n",
    "#     for i in xtrain:\n",
    "#         print(\"\\tSubcluster\",i)\n",
    "#         print(\"Size:\", sizes[i] )\n",
    "        \n",
    "#         _score = cross_val_score(svm_clf, X = xtrain[i][0], y=xtrain[i][1], cv=10)\n",
    "        \n",
    "#     #     %time svm_clf.fit(_xtrain, _ytrain)\n",
    "#         scores.append(_score)\n",
    "#         print(\"SVM Accuracy: {:0.3f}(+/- {:.3f})\".format(_score.mean(), _score.std()*2))\n",
    "        \n",
    "#     print(\"----------------------\")\n",
    "#     # subcluster_avg = np.mean([s.mean() for s in scores])\n",
    "#     # print(\"Mean Score: {:0.4f}\".format(subcluster_avg))\n",
    "\n",
    "#     # This is actually the \"true\" mean: sum(correctly classified) / (total samples)\n",
    "#     weighted_avg = sum([sz*sc.mean() for sz,sc in zip(sizes,scores)])/sum(sizes)\n",
    "#     print(\"Weighted Mean: {:0.4f}\".format(weighted_avg))\n"
   ]
  },
  {
   "cell_type": "code",
   "execution_count": null,
   "metadata": {},
   "outputs": [],
   "source": []
  }
 ],
 "metadata": {
  "file_extension": ".py",
  "kernelspec": {
   "display_name": "Python (condatensor)",
   "language": "python",
   "name": "condatensor"
  },
  "language_info": {
   "codemirror_mode": {
    "name": "ipython",
    "version": 3
   },
   "file_extension": ".py",
   "mimetype": "text/x-python",
   "name": "python",
   "nbconvert_exporter": "python",
   "pygments_lexer": "ipython3",
   "version": "3.6.8"
  },
  "mimetype": "text/x-python",
  "name": "python",
  "npconvert_exporter": "python",
  "pygments_lexer": "ipython3",
  "version": 3
 },
 "nbformat": 4,
 "nbformat_minor": 4
}
