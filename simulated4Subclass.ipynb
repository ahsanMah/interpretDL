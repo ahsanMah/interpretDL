{
 "cells": [
  {
   "cell_type": "markdown",
   "metadata": {},
   "source": [
    "# This notebooks generates 4 subclass blobs and recovers them in LRP space"
   ]
  },
  {
   "cell_type": "code",
   "execution_count": 1,
   "metadata": {},
   "outputs": [
    {
     "name": "stderr",
     "output_type": "stream",
     "text": [
      "Using TensorFlow backend.\n"
     ]
    },
    {
     "data": {
      "text/plain": [
       "'1.13.1'"
      ]
     },
     "execution_count": 1,
     "metadata": {},
     "output_type": "execute_result"
    }
   ],
   "source": [
    "import tensorflow as tf\n",
    "import numpy as np\n",
    "import pandas as pd\n",
    "import keras\n",
    "import umap\n",
    "\n",
    "from imblearn.over_sampling import SMOTE\n",
    "from sklearn.model_selection import StratifiedShuffleSplit\n",
    "# Converting labels to 1-Hot Vectors\n",
    "from sklearn.preprocessing import OneHotEncoder\n",
    "from mpl_toolkits.mplot3d import Axes3D\n",
    "\n",
    "\n",
    "import sys\n",
    "# sys.path.append(\"/Users/Work/Developer/interpretDL/interprettensor\")\n",
    "root_logdir = \"./tf_logs\"\n",
    "data_dir = \"data/\"\n",
    "figures_dir = \"data/figures/\"\n",
    "\n",
    "# To plot pretty figures\n",
    "%matplotlib widget\n",
    "import matplotlib\n",
    "import matplotlib.pyplot as plt\n",
    "plt.rcParams['axes.labelsize'] = 14\n",
    "plt.rcParams['xtick.labelsize'] = 12\n",
    "plt.rcParams['ytick.labelsize'] = 12\n",
    "\n",
    "# to make this notebook's output stable across runs\n",
    "def reset_graph(seed=42):\n",
    "    tf.reset_default_graph()\n",
    "    tf.set_random_seed(seed)\n",
    "    np.random.seed(seed)\n",
    "\n",
    "np.random.seed(seed=42) \n",
    "tf.__version__"
   ]
  },
  {
   "cell_type": "code",
   "execution_count": 2,
   "metadata": {},
   "outputs": [],
   "source": [
    "def get_split_index(features, labels):\n",
    "    features = np.array(features)\n",
    "    # The train set will have equal amounts of each target class\n",
    "    # Performing single split\n",
    "    split = StratifiedShuffleSplit(n_splits=1, test_size=0.2, random_state=42)\n",
    "    return [[train_index, test_index] for train_index,test_index in split.split(features, labels)]\n",
    "\n",
    "def split_valid(features, original_labels, training_labels):\n",
    "    train_index, validation_index = get_split_index(features, original_labels)[0]\n",
    "    \n",
    "    X_valid, y_valid, y_valid_original = features.iloc[validation_index],  training_labels.iloc[validation_index], original_labels.iloc[validation_index]\n",
    "    X_train, y_train, y_original = features.iloc[train_index], training_labels.iloc[train_index], original_labels.iloc[train_index]\n",
    "     \n",
    "    return X_train, y_train, y_original, X_valid, y_valid, y_valid_original\n",
    "\n",
    "def get_train_test_val(features, original_labels, training_labels):\n",
    "    \n",
    "    X, y, y_original, X_valid, y_valid, y_valid_original = split_valid(features,original_labels, training_labels)\n",
    "   \n",
    "    train_index, test_index = get_split_index(X, y_original)[0]\n",
    "    X_train = X.iloc[train_index]\n",
    "    y_train = y.iloc[train_index]\n",
    "    X_test = X.iloc[test_index]\n",
    "    y_test = y.iloc[test_index]\n",
    "\n",
    "    return X_train, y_train, X_test, y_test, y_original, X_valid, y_valid, y_valid_original\n",
    "\n",
    "def plot_history(history):\n",
    "    plt.close(\"History\")\n",
    "    fig, axs = plt.subplots(1, 2, figsize=(12,6),num=\"History\")\n",
    "\n",
    "    # Plot training & validation accuracy values\n",
    "    axs[0].grid(True)\n",
    "    axs[0].plot(history.history['binary_accuracy'])\n",
    "    axs[0].plot(history.history['val_binary_accuracy'])\n",
    "    axs[0].set(title='Model accuracy', ylabel='Accuracy', xlabel='Epoch')\n",
    "    axs[0].legend(['Train', 'Test'], loc='upper left')\n",
    "\n",
    "    # Plot training & validation loss values\n",
    "    axs[1].grid(True)\n",
    "    axs[1].plot(history.history['loss'])\n",
    "    axs[1].plot(history.history['val_loss'])\n",
    "    axs[1].set(title='Model loss',ylabel='Loss', xlabel='Epoch')\n",
    "    axs[1].legend(['Train', 'Test'], loc='upper left')\n",
    "\n",
    "    plt.show()"
   ]
  },
  {
   "cell_type": "markdown",
   "metadata": {},
   "source": [
    "## Making 4 blobs"
   ]
  },
  {
   "cell_type": "code",
   "execution_count": 3,
   "metadata": {},
   "outputs": [
    {
     "data": {
      "application/vnd.jupyter.widget-view+json": {
       "model_id": "e74f9d8923374460b9d0b79b41085e8e",
       "version_major": 2,
       "version_minor": 0
      },
      "text/plain": [
       "FigureCanvasNbAgg()"
      ]
     },
     "metadata": {},
     "output_type": "display_data"
    }
   ],
   "source": [
    "from sklearn.datasets.samples_generator import make_blobs\n",
    "# generate 2d classification dataset\n",
    "# X, y = make_circles(n_samples=100, noise=0)a\n",
    "class_size = 500\n",
    "centers = [(0,0),(1,0),(-1,0),(0,1),(0,-1)]\n",
    "n_samples = [class_size//(len(centers)-1)]*len(centers)\n",
    "n_samples[0] = class_size\n",
    "\n",
    "X, y = make_blobs(n_samples=n_samples, centers=centers, n_features=2, cluster_std=0.1, shuffle=False, random_state=42)\n",
    "\n",
    "plt.close(\"Original\")\n",
    "df = pd.DataFrame(dict(x=X[:,0], y=X[:,1], label=y))\n",
    "fig, ax = plt.subplots(num=\"Original\")\n",
    "colors = {0:'red', 1:'blue'}\n",
    "df.plot(ax=ax,kind=\"scatter\", x='x', y='y',c=\"label\", cmap= \"Paired\")\n",
    "# plt.colorbar()\n",
    "plt.show()\n",
    "\n",
    "original_labels = df[\"label\"].copy()\n",
    "modded_samples = df[[\"x\",\"y\"]].copy()\n",
    "training_labels = df[\"label\"].copy()\n",
    "training_labels[training_labels > 0] = 1"
   ]
  },
  {
   "cell_type": "markdown",
   "metadata": {},
   "source": [
    "## Seperate out train, test set"
   ]
  },
  {
   "cell_type": "code",
   "execution_count": 4,
   "metadata": {},
   "outputs": [
    {
     "name": "stdout",
     "output_type": "stream",
     "text": [
      "Train Size: (640, 2)\n",
      "Test Size: (160,)\n",
      "Categories: [array([0, 1])]\n"
     ]
    }
   ],
   "source": [
    "# train_index, test_index = get_split_index(modded_samples, modded_labels)[0]\n",
    "# features = modded_samples.copy()\n",
    "# X_train = features.iloc[train_index]\n",
    "# y_train = labels.iloc[train_index]\n",
    "# X_test = features.iloc[test_index]\n",
    "# y_test = labels.iloc[test_index]\n",
    "X_train, y_train, X_test, y_test, y_original, X_valid, y_valid, y_valid_original = get_train_test_val(modded_samples, original_labels, training_labels)\n",
    "\n",
    "print(\"Train Size:\", X_train.shape)\n",
    "print(\"Test Size:\", y_test.shape)\n",
    "\n",
    "\n",
    "hot_encoder = OneHotEncoder(categories=\"auto\", sparse=False)\n",
    "hot_encoder.fit(training_labels.values.reshape(-1,1)) # Since the function expects an array of \"features\" per sample\n",
    "print(\"Categories:\", hot_encoder.categories_)\n",
    "# X_test, y_test.values"
   ]
  },
  {
   "cell_type": "code",
   "execution_count": 5,
   "metadata": {},
   "outputs": [],
   "source": [
    "NUM_FEATURES = X_train.shape[1]\n",
    "NUM_LABELS = len(hot_encoder.categories_[0])"
   ]
  },
  {
   "cell_type": "markdown",
   "metadata": {},
   "source": [
    "### Train a DNN on the modified dataset"
   ]
  },
  {
   "cell_type": "code",
   "execution_count": 6,
   "metadata": {},
   "outputs": [],
   "source": [
    "from sklearn.preprocessing import StandardScaler\n",
    "\n",
    "def build_dnn(num_features, num_labels=3):\n",
    "\n",
    "#     reset_graph()\n",
    "    \n",
    "    keras.backend.clear_session()\n",
    "\n",
    "    nn = keras.models.Sequential()\n",
    "    Dense = keras.layers.Dense\n",
    "    \n",
    "    # Using He initialization\n",
    "    he_init = tf.keras.initializers.he_uniform()\n",
    "    \n",
    "    nn.add(Dense(units = 12, activation=\"elu\", input_dim=num_features,\n",
    "                kernel_initializer=he_init))\n",
    "    nn.add(Dense(units = 12, activation=\"elu\",\n",
    "                kernel_initializer=he_init))\n",
    "    nn.add(Dense(units=1, activation= \"sigmoid\",\n",
    "                kernel_initializer=he_init))\n",
    "\n",
    "#     BCE = tf.keras.losses.BinaryCrossentropy(from_logits=True)\n",
    "    \n",
    "    nn.compile(loss=\"binary_crossentropy\",\n",
    "                  optimizer='sgd',\n",
    "                  metrics=['binary_accuracy'])\n",
    "    \n",
    "    return nn\n",
    "\n",
    "def train_model(model, X, y, X_test=[], y_test=[], epochs=30, batch_size=20, verbose=1, plot=True):\n",
    "    \n",
    "    callback_list = []\n",
    "    \n",
    "    ZScaler = StandardScaler().fit(X)\n",
    "    \n",
    "    X_train = ZScaler.transform(X)\n",
    "    X_test = ZScaler.transform(X_test)\n",
    "    \n",
    "    y_train = y.values\n",
    "    y_test = y_test.values\n",
    "    \n",
    "    \n",
    "    history = model.fit(X_train, y_train, epochs=epochs, batch_size = batch_size,\n",
    "                        validation_data=(X_test, y_test), callbacks=callback_list, verbose=verbose)\n",
    "    \n",
    "#     if plot: plot_history(history)\n",
    "    \n",
    "    return history, ZScaler\n"
   ]
  },
  {
   "cell_type": "code",
   "execution_count": 7,
   "metadata": {},
   "outputs": [
    {
     "name": "stdout",
     "output_type": "stream",
     "text": [
      "WARNING:tensorflow:From /Users/Work/anaconda3/envs/condaflow/lib/python3.6/site-packages/tensorflow/python/framework/op_def_library.py:263: colocate_with (from tensorflow.python.framework.ops) is deprecated and will be removed in a future version.\n",
      "Instructions for updating:\n",
      "Colocations handled automatically by placer.\n",
      "WARNING:tensorflow:From /Users/Work/anaconda3/envs/condaflow/lib/python3.6/site-packages/tensorflow/python/ops/math_ops.py:3066: to_int32 (from tensorflow.python.ops.math_ops) is deprecated and will be removed in a future version.\n",
      "Instructions for updating:\n",
      "Use tf.cast instead.\n",
      "Train on 640 samples, validate on 160 samples\n",
      "Epoch 1/30\n",
      "640/640 [==============================] - 0s 333us/step - loss: 0.5591 - binary_accuracy: 0.7141 - val_loss: 0.5173 - val_binary_accuracy: 0.8750\n",
      "Epoch 2/30\n",
      "640/640 [==============================] - 0s 43us/step - loss: 0.4734 - binary_accuracy: 0.9266 - val_loss: 0.4505 - val_binary_accuracy: 0.9687\n",
      "Epoch 3/30\n",
      "640/640 [==============================] - 0s 46us/step - loss: 0.4131 - binary_accuracy: 0.9812 - val_loss: 0.3972 - val_binary_accuracy: 0.9937\n",
      "Epoch 4/30\n",
      "640/640 [==============================] - 0s 45us/step - loss: 0.3636 - binary_accuracy: 0.9969 - val_loss: 0.3515 - val_binary_accuracy: 1.0000\n",
      "Epoch 5/30\n",
      "640/640 [==============================] - 0s 45us/step - loss: 0.3208 - binary_accuracy: 0.9984 - val_loss: 0.3114 - val_binary_accuracy: 1.0000\n",
      "Epoch 6/30\n",
      "640/640 [==============================] - 0s 44us/step - loss: 0.2834 - binary_accuracy: 1.0000 - val_loss: 0.2761 - val_binary_accuracy: 1.0000\n",
      "Epoch 7/30\n",
      "640/640 [==============================] - 0s 46us/step - loss: 0.2502 - binary_accuracy: 1.0000 - val_loss: 0.2449 - val_binary_accuracy: 1.0000\n",
      "Epoch 8/30\n",
      "640/640 [==============================] - 0s 43us/step - loss: 0.2213 - binary_accuracy: 1.0000 - val_loss: 0.2177 - val_binary_accuracy: 1.0000\n",
      "Epoch 9/30\n",
      "640/640 [==============================] - 0s 43us/step - loss: 0.1961 - binary_accuracy: 1.0000 - val_loss: 0.1938 - val_binary_accuracy: 1.0000\n",
      "Epoch 10/30\n",
      "640/640 [==============================] - 0s 41us/step - loss: 0.1742 - binary_accuracy: 1.0000 - val_loss: 0.1731 - val_binary_accuracy: 1.0000\n",
      "Epoch 11/30\n",
      "640/640 [==============================] - 0s 39us/step - loss: 0.1552 - binary_accuracy: 1.0000 - val_loss: 0.1552 - val_binary_accuracy: 1.0000\n",
      "Epoch 12/30\n",
      "640/640 [==============================] - 0s 45us/step - loss: 0.1388 - binary_accuracy: 1.0000 - val_loss: 0.1397 - val_binary_accuracy: 1.0000\n",
      "Epoch 13/30\n",
      "640/640 [==============================] - 0s 48us/step - loss: 0.1247 - binary_accuracy: 1.0000 - val_loss: 0.1263 - val_binary_accuracy: 1.0000\n",
      "Epoch 14/30\n",
      "640/640 [==============================] - 0s 45us/step - loss: 0.1125 - binary_accuracy: 1.0000 - val_loss: 0.1147 - val_binary_accuracy: 1.0000\n",
      "Epoch 15/30\n",
      "640/640 [==============================] - 0s 47us/step - loss: 0.1019 - binary_accuracy: 1.0000 - val_loss: 0.1046 - val_binary_accuracy: 1.0000\n",
      "Epoch 16/30\n",
      "640/640 [==============================] - 0s 46us/step - loss: 0.0927 - binary_accuracy: 1.0000 - val_loss: 0.0958 - val_binary_accuracy: 1.0000\n",
      "Epoch 17/30\n",
      "640/640 [==============================] - 0s 48us/step - loss: 0.0847 - binary_accuracy: 1.0000 - val_loss: 0.0881 - val_binary_accuracy: 1.0000\n",
      "Epoch 18/30\n",
      "640/640 [==============================] - 0s 47us/step - loss: 0.0777 - binary_accuracy: 1.0000 - val_loss: 0.0813 - val_binary_accuracy: 1.0000\n",
      "Epoch 19/30\n",
      "640/640 [==============================] - 0s 40us/step - loss: 0.0716 - binary_accuracy: 1.0000 - val_loss: 0.0754 - val_binary_accuracy: 1.0000\n",
      "Epoch 20/30\n",
      "640/640 [==============================] - 0s 42us/step - loss: 0.0662 - binary_accuracy: 1.0000 - val_loss: 0.0701 - val_binary_accuracy: 1.0000\n",
      "Epoch 21/30\n",
      "640/640 [==============================] - 0s 44us/step - loss: 0.0614 - binary_accuracy: 1.0000 - val_loss: 0.0654 - val_binary_accuracy: 1.0000\n",
      "Epoch 22/30\n",
      "640/640 [==============================] - 0s 47us/step - loss: 0.0571 - binary_accuracy: 1.0000 - val_loss: 0.0612 - val_binary_accuracy: 1.0000\n",
      "Epoch 23/30\n",
      "640/640 [==============================] - 0s 49us/step - loss: 0.0533 - binary_accuracy: 1.0000 - val_loss: 0.0574 - val_binary_accuracy: 1.0000\n",
      "Epoch 24/30\n",
      "640/640 [==============================] - 0s 48us/step - loss: 0.0499 - binary_accuracy: 1.0000 - val_loss: 0.0540 - val_binary_accuracy: 1.0000\n",
      "Epoch 25/30\n",
      "640/640 [==============================] - 0s 46us/step - loss: 0.0469 - binary_accuracy: 1.0000 - val_loss: 0.0510 - val_binary_accuracy: 1.0000\n",
      "Epoch 26/30\n",
      "640/640 [==============================] - 0s 48us/step - loss: 0.0441 - binary_accuracy: 1.0000 - val_loss: 0.0482 - val_binary_accuracy: 1.0000\n",
      "Epoch 27/30\n",
      "640/640 [==============================] - 0s 48us/step - loss: 0.0416 - binary_accuracy: 1.0000 - val_loss: 0.0457 - val_binary_accuracy: 1.0000\n",
      "Epoch 28/30\n",
      "640/640 [==============================] - 0s 46us/step - loss: 0.0393 - binary_accuracy: 1.0000 - val_loss: 0.0434 - val_binary_accuracy: 1.0000\n",
      "Epoch 29/30\n",
      "640/640 [==============================] - 0s 48us/step - loss: 0.0372 - binary_accuracy: 1.0000 - val_loss: 0.0413 - val_binary_accuracy: 1.0000\n",
      "Epoch 30/30\n",
      "640/640 [==============================] - 0s 49us/step - loss: 0.0353 - binary_accuracy: 1.0000 - val_loss: 0.0394 - val_binary_accuracy: 1.0000\n",
      "CPU times: user 1.86 s, sys: 469 ms, total: 2.33 s\n",
      "Wall time: 1.23 s\n"
     ]
    }
   ],
   "source": [
    "nn = build_dnn(NUM_FEATURES)\n",
    "%time history, Zscaler = train_model(nn, X_train, y_train, X_test, y_test, epochs=30, batch_size=20)"
   ]
  },
  {
   "cell_type": "code",
   "execution_count": 8,
   "metadata": {},
   "outputs": [
    {
     "data": {
      "application/vnd.jupyter.widget-view+json": {
       "model_id": "b6e2d6ad5ae24a9abad18a41daa8c475",
       "version_major": 2,
       "version_minor": 0
      },
      "text/plain": [
       "FigureCanvasNbAgg()"
      ]
     },
     "metadata": {},
     "output_type": "display_data"
    }
   ],
   "source": [
    "# Plotting results from history\n",
    "plot_history(history)"
   ]
  },
  {
   "cell_type": "markdown",
   "metadata": {},
   "source": [
    "## Performing SVM on Modded Samples"
   ]
  },
  {
   "cell_type": "code",
   "execution_count": 14,
   "metadata": {},
   "outputs": [
    {
     "name": "stdout",
     "output_type": "stream",
     "text": [
      "CPU times: user 5.29 ms, sys: 1.65 ms, total: 6.95 ms\n",
      "Wall time: 5.35 ms\n",
      "Linear SVM Test Accuracy: 0.750\n"
     ]
    }
   ],
   "source": [
    "from sklearn.pipeline import Pipeline\n",
    "from sklearn.svm import LinearSVC\n",
    "\n",
    "svm_clf = Pipeline([\n",
    "    (\"scaler\", StandardScaler()),\n",
    "    (\"SVM\", LinearSVC(C=1, loss=\"hinge\", max_iter=1000 ))\n",
    "])\n",
    "\n",
    "%time svm_clf.fit(X_train, y_train)\n",
    "print(\"Linear SVM Test Accuracy: {:0.3f}\".format(svm_clf.score(X_test, y_test)))"
   ]
  },
  {
   "cell_type": "markdown",
   "metadata": {},
   "source": [
    "## Performing LRP"
   ]
  },
  {
   "cell_type": "code",
   "execution_count": 10,
   "metadata": {},
   "outputs": [
    {
     "name": "stdout",
     "output_type": "stream",
     "text": [
      "Validation Accuracy\n",
      "200/200 [==============================] - 0s 22us/step\n",
      "Scores on validation set: loss=0.032 accuracy=1.0000\n"
     ]
    }
   ],
   "source": [
    "model = nn\n",
    "scaled_samples = Zscaler.transform(X_valid)\n",
    "\n",
    "print(\"Validation Accuracy\")\n",
    "loss_and_metrics = model.evaluate(scaled_samples, y_valid)\n",
    "print(\"Scores on validation set: loss={:0.3f} accuracy={:.4f}\".format(*loss_and_metrics))\n",
    "\n",
    "predictions = model.predict(scaled_samples)\n",
    "preds = np.array([np.round(x[0]) for x in predictions])\n",
    "true_labels = [np.float(x) for x in y_valid]\n",
    "\n",
    "# For test population that was correctly classified\n",
    "correct = preds == true_labels\n",
    "\n",
    "# Get correctly predicted samples,labels along with their original labels\n",
    "correct_labels_original = y_valid_original[correct]\n",
    "correct_samples = scaled_samples[correct]\n",
    "correct_labels_training = y_valid[correct]\n",
    "\n"
   ]
  },
  {
   "cell_type": "code",
   "execution_count": 15,
   "metadata": {},
   "outputs": [
    {
     "name": "stdout",
     "output_type": "stream",
     "text": [
      "Class Distribution\n"
     ]
    },
    {
     "data": {
      "text/plain": [
       "0    100\n",
       "4     25\n",
       "3     25\n",
       "2     25\n",
       "1     25\n",
       "Name: label, dtype: int64"
      ]
     },
     "execution_count": 15,
     "metadata": {},
     "output_type": "execute_result"
    }
   ],
   "source": [
    "print(\"Class Distribution\")\n",
    "pd.Series(correct_labels_original).value_counts()"
   ]
  },
  {
   "cell_type": "code",
   "execution_count": 12,
   "metadata": {},
   "outputs": [
    {
     "name": "stdout",
     "output_type": "stream",
     "text": [
      "WARNING:tensorflow:From /Users/Work/anaconda3/envs/condaflow/lib/python3.6/site-packages/tensorflow/python/ops/math_grad.py:102: div (from tensorflow.python.ops.math_ops) is deprecated and will be removed in a future version.\n",
      "Instructions for updating:\n",
      "Deprecated in favor of operator or tf.math.divide.\n"
     ]
    }
   ],
   "source": [
    "import innvestigate\n",
    "import innvestigate.utils as iutils\n",
    "\n",
    "def perform_analysis(model, analyzer, data, labels=[]):\n",
    "    analysis = analyzer.analyze(data)\n",
    "    prediction = model.predict(data)\n",
    "    \n",
    "    df_anal = pd.DataFrame(analysis)\n",
    "    \n",
    "    return df_anal\n",
    "\n",
    "\n",
    "# Stripping the softmax activation from the model\n",
    "# model_wo_sm = iutils.keras.graph.model_wo_softmax(model)\n",
    "\n",
    "# Creating an analyzer\n",
    "lrp_E = innvestigate.analyzer.relevance_based.relevance_analyzer.LRPEpsilon(model=model, epsilon=1e-3)\n",
    "lrp_Z = innvestigate.analyzer.relevance_based.relevance_analyzer.LRPZPlus(model=model)\n",
    "lrp_AB   = innvestigate.analyzer.relevance_based.relevance_analyzer.LRPAlpha2Beta1(model=model)\n",
    "\n",
    "# Getting all the samples that can be correctly predicted\n",
    "test_idx = correct\n",
    "all_samples = scaled_samples[test_idx]\n",
    "\n",
    "\n",
    "# perform_analysis(nn,gradient_analyzer,flowers,types)\n",
    "all_lrp_AB = perform_analysis(model,lrp_AB, all_samples)\n",
    "all_lrp_E = perform_analysis(model,lrp_E, all_samples)\n",
    "all_lrp_Z = perform_analysis(model,lrp_Z, all_samples)"
   ]
  },
  {
   "cell_type": "code",
   "execution_count": 13,
   "metadata": {},
   "outputs": [
    {
     "data": {
      "application/vnd.jupyter.widget-view+json": {
       "model_id": "b82111cbdd604361892792b3cc609c98",
       "version_major": 2,
       "version_minor": 0
      },
      "text/plain": [
       "FigureCanvasNbAgg()"
      ]
     },
     "metadata": {},
     "output_type": "display_data"
    }
   ],
   "source": [
    "plt.close(\"Comparison\")\n",
    "fig, axs = plt.subplots(2,2, figsize=(12,10), num=\"Comparison\")\n",
    "_labels = correct_labels_original\n",
    "\n",
    "df.plot(ax=axs[0][0],kind=\"scatter\", x='x', y='y',c=\"label\", cmap= \"Paired\", title=\"Original Distribution\")\n",
    "all_lrp_E.plot(ax=axs[0][1],kind=\"scatter\", x=0, y=1, c=_labels, cmap=\"Paired\", s=20, alpha=0.75, title=\"LRP E\")\n",
    "\n",
    "all_lrp_AB.plot(ax=axs[1][0],kind=\"scatter\", x=0, y=1, c=_labels, cmap=\"Paired\", s=20, alpha=0.75, title=\"LRP AB\")\n",
    "all_lrp_Z.plot(ax=axs[1][1],kind=\"scatter\", x=0, y=1, c=_labels, cmap=\"Paired\", s=20, alpha=0.75, title=\"LRP Z\")\n",
    "\n",
    "# plt.tight_layout()\n",
    "plt.savefig(figures_dir+\"4_subclass_LRP.png\")\n",
    "plt.show()"
   ]
  }
 ],
 "metadata": {
  "kernelspec": {
   "display_name": "condaflow",
   "language": "python",
   "name": "condaflow"
  },
  "language_info": {
   "codemirror_mode": {
    "name": "ipython",
    "version": 3
   },
   "file_extension": ".py",
   "mimetype": "text/x-python",
   "name": "python",
   "nbconvert_exporter": "python",
   "pygments_lexer": "ipython3",
   "version": "3.6.8"
  }
 },
 "nbformat": 4,
 "nbformat_minor": 2
}
