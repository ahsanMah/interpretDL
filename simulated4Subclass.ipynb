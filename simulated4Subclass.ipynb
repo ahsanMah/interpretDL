{
 "cells": [
  {
   "cell_type": "markdown",
   "metadata": {},
   "source": [
    "# This notebooks generates 4 subclass blobs and recovers them in LRP space"
   ]
  },
  {
   "cell_type": "code",
   "execution_count": 35,
   "metadata": {},
   "outputs": [
    {
     "data": {
      "text/plain": [
       "'1.13.1'"
      ]
     },
     "execution_count": 35,
     "metadata": {},
     "output_type": "execute_result"
    }
   ],
   "source": [
    "import tensorflow as tf\n",
    "import numpy as np\n",
    "import pandas as pd\n",
    "import keras\n",
    "import umap\n",
    "\n",
    "from imblearn.over_sampling import SMOTE\n",
    "from sklearn.model_selection import StratifiedShuffleSplit\n",
    "# Converting labels to 1-Hot Vectors\n",
    "from sklearn.preprocessing import OneHotEncoder\n",
    "from mpl_toolkits.mplot3d import Axes3D\n",
    "\n",
    "\n",
    "import sys\n",
    "# sys.path.append(\"/Users/Work/Developer/interpretDL/interprettensor\")\n",
    "root_logdir = \"./tf_logs\"\n",
    "data_dir = \"data/\"\n",
    "figures_dir = \"data/figures/\"\n",
    "\n",
    "# To plot pretty figures\n",
    "%matplotlib widget\n",
    "import matplotlib\n",
    "import matplotlib.pyplot as plt\n",
    "plt.rcParams['axes.labelsize'] = 14\n",
    "plt.rcParams['xtick.labelsize'] = 12\n",
    "plt.rcParams['ytick.labelsize'] = 12\n",
    "\n",
    "# to make this notebook's output stable across runs\n",
    "def reset_graph(seed=42):\n",
    "    tf.reset_default_graph()\n",
    "    tf.set_random_seed(seed)\n",
    "    np.random.seed(seed)\n",
    "\n",
    "np.random.seed(seed=42) \n",
    "tf.__version__"
   ]
  },
  {
   "cell_type": "code",
   "execution_count": 5,
   "metadata": {},
   "outputs": [],
   "source": [
    "def get_split_index(features, labels):\n",
    "    features = np.array(features)\n",
    "    # The train set will have equal amounts of each target class\n",
    "    # Performing single split\n",
    "    split = StratifiedShuffleSplit(n_splits=1, test_size=0.2, random_state=42)\n",
    "    return [[train_index, test_index] for train_index,test_index in split.split(features, labels)]\n",
    "\n",
    "def plot_history(history):\n",
    "    plt.close(\"History\")\n",
    "    fig, axs = plt.subplots(1, 2, figsize=(12,6),num=\"History\")\n",
    "\n",
    "    # Plot training & validation accuracy values\n",
    "    axs[0].grid(True)\n",
    "    axs[0].plot(history.history['binary_accuracy'])\n",
    "    axs[0].plot(history.history['val_binary_accuracy'])\n",
    "    axs[0].set(title='Model accuracy', ylabel='Accuracy', xlabel='Epoch')\n",
    "    axs[0].legend(['Train', 'Test'], loc='upper left')\n",
    "\n",
    "    # Plot training & validation loss values\n",
    "    axs[1].grid(True)\n",
    "    axs[1].plot(history.history['loss'])\n",
    "    axs[1].plot(history.history['val_loss'])\n",
    "    axs[1].set(title='Model loss',ylabel='Loss', xlabel='Epoch')\n",
    "    axs[1].legend(['Train', 'Test'], loc='upper left')\n",
    "\n",
    "    plt.show()"
   ]
  },
  {
   "cell_type": "markdown",
   "metadata": {},
   "source": [
    "## Making 4 blobs"
   ]
  },
  {
   "cell_type": "code",
   "execution_count": 7,
   "metadata": {},
   "outputs": [
    {
     "data": {
      "application/vnd.jupyter.widget-view+json": {
       "model_id": "",
       "version_major": 2,
       "version_minor": 0
      },
      "text/plain": [
       "FigureCanvasNbAgg()"
      ]
     },
     "metadata": {},
     "output_type": "display_data"
    }
   ],
   "source": [
    "from sklearn.datasets.samples_generator import make_blobs\n",
    "# generate 2d classification dataset\n",
    "# X, y = make_circles(n_samples=100, noise=0)a\n",
    "class_size = 200\n",
    "centers = [(0,0),(1,0),(-1,0),(0,1),(0,-1)]\n",
    "n_samples = [class_size//(len(centers)-1)]*len(centers)\n",
    "n_samples[0] = class_size\n",
    "\n",
    "X, y = make_blobs(n_samples=n_samples, centers=centers, n_features=2, cluster_std=0.1, shuffle=False, random_state=42)\n",
    "\n",
    "plt.close(\"Original\")\n",
    "df = pd.DataFrame(dict(x=X[:,0], y=X[:,1], label=y))\n",
    "fig, ax = plt.subplots(num=\"Original\")\n",
    "colors = {0:'red', 1:'blue'}\n",
    "df.plot(ax=ax,kind=\"scatter\", x='x', y='y',c=\"label\", cmap= \"Paired\")\n",
    "# plt.colorbar()\n",
    "plt.show()\n",
    "\n",
    "modded_labels = y.copy()\n",
    "modded_samples = df[[\"x\",\"y\"]].copy()\n",
    "labels = df[\"label\"].copy()\n",
    "labels[labels > 0] = 1"
   ]
  },
  {
   "cell_type": "markdown",
   "metadata": {},
   "source": [
    "## Seperate out train, test set"
   ]
  },
  {
   "cell_type": "code",
   "execution_count": 8,
   "metadata": {},
   "outputs": [
    {
     "name": "stdout",
     "output_type": "stream",
     "text": [
      "Train Size: (320, 2)\n",
      "Test Size: (80,)\n",
      "Categories: [array([0, 1])]\n"
     ]
    }
   ],
   "source": [
    "train_index, test_index = get_split_index(modded_samples, modded_labels)[0]\n",
    "features = modded_samples.copy()\n",
    "X_train = features.iloc[train_index]\n",
    "y_train = labels.iloc[train_index]\n",
    "X_test = features.iloc[test_index]\n",
    "y_test = labels.iloc[test_index]\n",
    "\n",
    "\n",
    "print(\"Train Size:\", X_train.shape)\n",
    "print(\"Test Size:\", y_test.shape)\n",
    "\n",
    "\n",
    "hot_encoder = OneHotEncoder(categories=\"auto\", sparse=False)\n",
    "hot_encoder.fit(labels.values.reshape(-1,1)) # Since the function expects an array of \"features\" per sample\n",
    "print(\"Categories:\", hot_encoder.categories_)\n",
    "# X_test, y_test.values"
   ]
  },
  {
   "cell_type": "code",
   "execution_count": 9,
   "metadata": {},
   "outputs": [],
   "source": [
    "NUM_FEATURES = X_train.shape[1]\n",
    "NUM_LABELS = len(hot_encoder.categories_[0])"
   ]
  },
  {
   "cell_type": "markdown",
   "metadata": {},
   "source": [
    "### Train a DNN on the modified dataset\n",
    "> Does not use any normalization"
   ]
  },
  {
   "cell_type": "code",
   "execution_count": 38,
   "metadata": {},
   "outputs": [],
   "source": [
    "from sklearn.preprocessing import StandardScaler\n",
    "\n",
    "def build_dnn(num_features, num_labels=3):\n",
    "\n",
    "#     reset_graph()\n",
    "    \n",
    "    keras.backend.clear_session()\n",
    "\n",
    "    nn = keras.models.Sequential()\n",
    "    Dense = keras.layers.Dense\n",
    "    \n",
    "    # Using He initialization\n",
    "    he_init = tf.keras.initializers.he_uniform()\n",
    "    \n",
    "    nn.add(Dense(units = 12, activation=\"elu\", input_dim=num_features,\n",
    "                kernel_initializer=he_init))\n",
    "    nn.add(Dense(units = 12, activation=\"elu\",\n",
    "                kernel_initializer=he_init))\n",
    "    nn.add(Dense(units=1, activation= \"sigmoid\",\n",
    "                kernel_initializer=he_init))\n",
    "\n",
    "#     BCE = tf.keras.losses.BinaryCrossentropy(from_logits=True)\n",
    "    \n",
    "    nn.compile(loss=\"binary_crossentropy\",\n",
    "                  optimizer='sgd',\n",
    "                  metrics=['binary_accuracy'])\n",
    "    \n",
    "    return nn\n",
    "\n",
    "def train_model(model, X, y, X_test=[], y_test=[], epochs=30, batch_size=20, verbose=1, plot=True):\n",
    "    \n",
    "    callback_list = []\n",
    "    \n",
    "    ZScaler = StandardScaler().fit(X)\n",
    "    \n",
    "    X_train = ZScaler.transform(X)\n",
    "    X_test = ZScaler.transform(X_test)\n",
    "    \n",
    "    y_train = y.values\n",
    "    y_test = y_test.values\n",
    "    \n",
    "    \n",
    "    history = model.fit(X_train, y_train, epochs=epochs, batch_size = batch_size,\n",
    "                        validation_data=(X_test, y_test), callbacks=callback_list, verbose=verbose)\n",
    "    \n",
    "#     if plot: plot_history(history)\n",
    "    \n",
    "    return history, ZScaler\n"
   ]
  },
  {
   "cell_type": "code",
   "execution_count": 42,
   "metadata": {},
   "outputs": [
    {
     "name": "stdout",
     "output_type": "stream",
     "text": [
      "Train on 320 samples, validate on 80 samples\n",
      "Epoch 1/30\n",
      "320/320 [==============================] - 0s 609us/step - loss: 1.1248 - binary_accuracy: 0.4594 - val_loss: 1.0060 - val_binary_accuracy: 0.5250\n",
      "Epoch 2/30\n",
      "320/320 [==============================] - 0s 41us/step - loss: 0.8885 - binary_accuracy: 0.5531 - val_loss: 0.8053 - val_binary_accuracy: 0.6125\n",
      "Epoch 3/30\n",
      "320/320 [==============================] - 0s 43us/step - loss: 0.7227 - binary_accuracy: 0.6406 - val_loss: 0.6624 - val_binary_accuracy: 0.7375\n",
      "Epoch 4/30\n",
      "320/320 [==============================] - 0s 45us/step - loss: 0.6062 - binary_accuracy: 0.7031 - val_loss: 0.5640 - val_binary_accuracy: 0.7750\n",
      "Epoch 5/30\n",
      "320/320 [==============================] - 0s 47us/step - loss: 0.5262 - binary_accuracy: 0.7750 - val_loss: 0.4962 - val_binary_accuracy: 0.8375\n",
      "Epoch 6/30\n",
      "320/320 [==============================] - 0s 50us/step - loss: 0.4707 - binary_accuracy: 0.9125 - val_loss: 0.4477 - val_binary_accuracy: 0.9625\n",
      "Epoch 7/30\n",
      "320/320 [==============================] - 0s 51us/step - loss: 0.4294 - binary_accuracy: 0.9750 - val_loss: 0.4097 - val_binary_accuracy: 0.9750\n",
      "Epoch 8/30\n",
      "320/320 [==============================] - 0s 50us/step - loss: 0.3960 - binary_accuracy: 0.9875 - val_loss: 0.3776 - val_binary_accuracy: 0.9875\n",
      "Epoch 9/30\n",
      "320/320 [==============================] - 0s 53us/step - loss: 0.3671 - binary_accuracy: 0.9937 - val_loss: 0.3491 - val_binary_accuracy: 0.9875\n",
      "Epoch 10/30\n",
      "320/320 [==============================] - 0s 49us/step - loss: 0.3409 - binary_accuracy: 0.9969 - val_loss: 0.3232 - val_binary_accuracy: 1.0000\n",
      "Epoch 11/30\n",
      "320/320 [==============================] - 0s 49us/step - loss: 0.3168 - binary_accuracy: 0.9969 - val_loss: 0.2992 - val_binary_accuracy: 1.0000\n",
      "Epoch 12/30\n",
      "320/320 [==============================] - 0s 52us/step - loss: 0.2944 - binary_accuracy: 0.9969 - val_loss: 0.2768 - val_binary_accuracy: 1.0000\n",
      "Epoch 13/30\n",
      "320/320 [==============================] - 0s 51us/step - loss: 0.2736 - binary_accuracy: 1.0000 - val_loss: 0.2560 - val_binary_accuracy: 1.0000\n",
      "Epoch 14/30\n",
      "320/320 [==============================] - 0s 54us/step - loss: 0.2540 - binary_accuracy: 1.0000 - val_loss: 0.2367 - val_binary_accuracy: 1.0000\n",
      "Epoch 15/30\n",
      "320/320 [==============================] - 0s 55us/step - loss: 0.2360 - binary_accuracy: 1.0000 - val_loss: 0.2188 - val_binary_accuracy: 1.0000\n",
      "Epoch 16/30\n",
      "320/320 [==============================] - 0s 53us/step - loss: 0.2190 - binary_accuracy: 1.0000 - val_loss: 0.2023 - val_binary_accuracy: 1.0000\n",
      "Epoch 17/30\n",
      "320/320 [==============================] - 0s 54us/step - loss: 0.2034 - binary_accuracy: 1.0000 - val_loss: 0.1871 - val_binary_accuracy: 1.0000\n",
      "Epoch 18/30\n",
      "320/320 [==============================] - 0s 47us/step - loss: 0.1891 - binary_accuracy: 1.0000 - val_loss: 0.1732 - val_binary_accuracy: 1.0000\n",
      "Epoch 19/30\n",
      "320/320 [==============================] - 0s 45us/step - loss: 0.1758 - binary_accuracy: 1.0000 - val_loss: 0.1605 - val_binary_accuracy: 1.0000\n",
      "Epoch 20/30\n",
      "320/320 [==============================] - 0s 48us/step - loss: 0.1637 - binary_accuracy: 1.0000 - val_loss: 0.1489 - val_binary_accuracy: 1.0000\n",
      "Epoch 21/30\n",
      "320/320 [==============================] - 0s 45us/step - loss: 0.1525 - binary_accuracy: 1.0000 - val_loss: 0.1383 - val_binary_accuracy: 1.0000\n",
      "Epoch 22/30\n",
      "320/320 [==============================] - 0s 51us/step - loss: 0.1424 - binary_accuracy: 1.0000 - val_loss: 0.1286 - val_binary_accuracy: 1.0000\n",
      "Epoch 23/30\n",
      "320/320 [==============================] - 0s 50us/step - loss: 0.1331 - binary_accuracy: 1.0000 - val_loss: 0.1198 - val_binary_accuracy: 1.0000\n",
      "Epoch 24/30\n",
      "320/320 [==============================] - 0s 47us/step - loss: 0.1245 - binary_accuracy: 1.0000 - val_loss: 0.1118 - val_binary_accuracy: 1.0000\n",
      "Epoch 25/30\n",
      "320/320 [==============================] - 0s 44us/step - loss: 0.1168 - binary_accuracy: 1.0000 - val_loss: 0.1045 - val_binary_accuracy: 1.0000\n",
      "Epoch 26/30\n",
      "320/320 [==============================] - 0s 44us/step - loss: 0.1097 - binary_accuracy: 1.0000 - val_loss: 0.0979 - val_binary_accuracy: 1.0000\n",
      "Epoch 27/30\n",
      "320/320 [==============================] - 0s 43us/step - loss: 0.1031 - binary_accuracy: 1.0000 - val_loss: 0.0918 - val_binary_accuracy: 1.0000\n",
      "Epoch 28/30\n",
      "320/320 [==============================] - 0s 47us/step - loss: 0.0972 - binary_accuracy: 1.0000 - val_loss: 0.0863 - val_binary_accuracy: 1.0000\n",
      "Epoch 29/30\n",
      "320/320 [==============================] - 0s 42us/step - loss: 0.0917 - binary_accuracy: 1.0000 - val_loss: 0.0812 - val_binary_accuracy: 1.0000\n",
      "Epoch 30/30\n",
      "320/320 [==============================] - 0s 39us/step - loss: 0.0867 - binary_accuracy: 1.0000 - val_loss: 0.0765 - val_binary_accuracy: 1.0000\n",
      "CPU times: user 1.12 s, sys: 225 ms, total: 1.34 s\n",
      "Wall time: 812 ms\n"
     ]
    }
   ],
   "source": [
    "nn = build_dnn(NUM_FEATURES)\n",
    "%time history, Zscaler = train_model(nn, X_train, y_train, X_test, y_test, epochs=30, batch_size=20)"
   ]
  },
  {
   "cell_type": "code",
   "execution_count": 43,
   "metadata": {},
   "outputs": [
    {
     "data": {
      "application/vnd.jupyter.widget-view+json": {
       "model_id": "bbb4f156e17b4083aab5919059fa0659",
       "version_major": 2,
       "version_minor": 0
      },
      "text/plain": [
       "FigureCanvasNbAgg()"
      ]
     },
     "metadata": {},
     "output_type": "display_data"
    }
   ],
   "source": [
    "# Plotting results from history\n",
    "plot_history(history)"
   ]
  },
  {
   "cell_type": "markdown",
   "metadata": {},
   "source": [
    "## Performing SVM on Modded Samples"
   ]
  },
  {
   "cell_type": "code",
   "execution_count": 44,
   "metadata": {},
   "outputs": [
    {
     "name": "stdout",
     "output_type": "stream",
     "text": [
      "CPU times: user 2.21 ms, sys: 635 µs, total: 2.84 ms\n",
      "Wall time: 2.11 ms\n"
     ]
    },
    {
     "data": {
      "text/plain": [
       "1.0"
      ]
     },
     "execution_count": 44,
     "metadata": {},
     "output_type": "execute_result"
    }
   ],
   "source": [
    "from sklearn.svm import SVC\n",
    "from sklearn.pipeline import Pipeline\n",
    "\n",
    "svm_clf = Pipeline([\n",
    "#     (\"scaler\", StandardScaler()),\n",
    "    (\"SVM\", SVC(kernel= \"rbf\", gamma= \"scale\", C=1))\n",
    "])\n",
    "\n",
    "%time svm_clf.fit(X_train, y_train)\n",
    "svm_clf.score(X_test, y_test)"
   ]
  },
  {
   "cell_type": "markdown",
   "metadata": {},
   "source": [
    "## Performing LRP"
   ]
  },
  {
   "cell_type": "code",
   "execution_count": 45,
   "metadata": {},
   "outputs": [
    {
     "name": "stdout",
     "output_type": "stream",
     "text": [
      "SANITY CHECK\n",
      "80/80 [==============================] - 0s 32us/step\n",
      "Scores on test set: loss=0.077 accuracy=1.0000\n"
     ]
    }
   ],
   "source": [
    "model = nn\n",
    "scaled_samples = Zscaler.transform(X_test)\n",
    "_labels = y_test\n",
    "\n",
    "predictions = model.predict(scaled_samples)\n",
    "preds = np.array([np.round(x[0]) for x in predictions])\n",
    "true_labels = [np.float(x) for x in _labels]\n",
    "\n",
    "\n",
    "# For test population that was correctly classified\n",
    "correct = preds == true_labels\n",
    "\n",
    "# Get correctly predicted samples,labels along with their original labels\n",
    "original_labels = modded_labels[test_index][correct]\n",
    "correct_samples = scaled_samples[correct]\n",
    "correct_labels = _labels[correct]\n",
    "\n",
    "print(\"SANITY CHECK\")\n",
    "loss_and_metrics = model.evaluate(correct_samples, correct_labels)\n",
    "print(\"Scores on test set: loss={:0.3f} accuracy={:.4f}\".format(*loss_and_metrics))"
   ]
  },
  {
   "cell_type": "code",
   "execution_count": 46,
   "metadata": {},
   "outputs": [
    {
     "name": "stdout",
     "output_type": "stream",
     "text": [
      "Class Distribution\n"
     ]
    },
    {
     "data": {
      "text/plain": [
       "0    40\n",
       "4    10\n",
       "3    10\n",
       "2    10\n",
       "1    10\n",
       "dtype: int64"
      ]
     },
     "execution_count": 46,
     "metadata": {},
     "output_type": "execute_result"
    }
   ],
   "source": [
    "print(\"Class Distribution\")\n",
    "pd.Series(original_labels).value_counts()"
   ]
  },
  {
   "cell_type": "code",
   "execution_count": 47,
   "metadata": {},
   "outputs": [],
   "source": [
    "import innvestigate\n",
    "import innvestigate.utils as iutils\n",
    "\n",
    "def perform_analysis(model, analyzer, data, labels):\n",
    "    analysis = analyzer.analyze(data)\n",
    "    prediction = model.predict(data)\n",
    "    \n",
    "    df_anal = pd.DataFrame(analysis)\n",
    "    \n",
    "    return df_anal\n",
    "\n",
    "\n",
    "# Stripping the softmax activation from the model\n",
    "# model_wo_sm = iutils.keras.graph.model_wo_softmax(model)\n",
    "\n",
    "# Creating an analyzer\n",
    "lrp_E = innvestigate.analyzer.relevance_based.relevance_analyzer.LRPEpsilon(model=model, epsilon=1e-3)\n",
    "lrp_Z = innvestigate.analyzer.relevance_based.relevance_analyzer.LRPZPlus(model=model)\n",
    "lrp_AB   = innvestigate.analyzer.relevance_based.relevance_analyzer.LRPAlpha2Beta1(model=model)\n",
    "\n",
    "# Getting all the samples that can be correctly predicted\n",
    "test_idx = correct\n",
    "all_samples = scaled_samples[test_idx]\n",
    "all_labels = y_test[test_idx]\n",
    "\n",
    "\n",
    "# perform_analysis(nn,gradient_analyzer,flowers,types)\n",
    "all_lrp_AB = perform_analysis(model,lrp_AB, all_samples, all_labels)\n",
    "all_lrp_E = perform_analysis(model,lrp_E, all_samples, all_labels)\n",
    "all_lrp_Z = perform_analysis(model,lrp_Z, all_samples, all_labels)\n"
   ]
  },
  {
   "cell_type": "code",
   "execution_count": 48,
   "metadata": {},
   "outputs": [
    {
     "data": {
      "application/vnd.jupyter.widget-view+json": {
       "model_id": "226e769e40134c09abcd2125dbbb4bbe",
       "version_major": 2,
       "version_minor": 0
      },
      "text/plain": [
       "FigureCanvasNbAgg()"
      ]
     },
     "metadata": {},
     "output_type": "display_data"
    }
   ],
   "source": [
    "plt.close(\"Comparison\")\n",
    "fig, axs = plt.subplots(2,2, figsize=(12,10), num=\"Comparison\")\n",
    "_labels = original_labels\n",
    "\n",
    "df.plot(ax=axs[0][0],kind=\"scatter\", x='x', y='y',c=\"label\", cmap= \"Paired\", title=\"Original Distribution\")\n",
    "all_lrp_E.plot(ax=axs[0][1],kind=\"scatter\", x=0, y=1, c=_labels, cmap=\"Paired\", s=20, alpha=0.75, title=\"LRP E\")\n",
    "\n",
    "all_lrp_AB.plot(ax=axs[1][0],kind=\"scatter\", x=0, y=1, c=_labels, cmap=\"Paired\", s=20, alpha=0.75, title=\"LRP AB\")\n",
    "all_lrp_Z.plot(ax=axs[1][1],kind=\"scatter\", x=0, y=1, c=_labels, cmap=\"Paired\", s=20, alpha=0.75, title=\"LRP Z\")\n",
    "\n",
    "# plt.tight_layout()\n",
    "plt.savefig(figures_dir+\"4_subclass_LRP.png\")\n",
    "plt.show()"
   ]
  },
  {
   "cell_type": "code",
   "execution_count": null,
   "metadata": {},
   "outputs": [],
   "source": []
  },
  {
   "cell_type": "code",
   "execution_count": null,
   "metadata": {},
   "outputs": [],
   "source": []
  }
 ],
 "metadata": {
  "kernelspec": {
   "display_name": "condaflow",
   "language": "python",
   "name": "condaflow"
  },
  "language_info": {
   "codemirror_mode": {
    "name": "ipython",
    "version": 3
   },
   "file_extension": ".py",
   "mimetype": "text/x-python",
   "name": "python",
   "nbconvert_exporter": "python",
   "pygments_lexer": "ipython3",
   "version": "3.6.8"
  }
 },
 "nbformat": 4,
 "nbformat_minor": 2
}
