{
 "cells": [
  {
   "cell_type": "markdown",
   "metadata": {},
   "source": [
    "# This notebooks generates 4 subclass blobs and recovers them in LRP space"
   ]
  },
  {
   "cell_type": "code",
   "execution_count": 35,
   "metadata": {},
   "outputs": [
    {
     "data": {
      "text/plain": [
       "'1.13.1'"
      ]
     },
     "execution_count": 35,
     "metadata": {},
     "output_type": "execute_result"
    }
   ],
   "source": [
    "import tensorflow as tf\n",
    "import numpy as np\n",
    "import pandas as pd\n",
    "import keras\n",
    "import umap\n",
    "\n",
    "from imblearn.over_sampling import SMOTE\n",
    "from sklearn.model_selection import StratifiedShuffleSplit\n",
    "# Converting labels to 1-Hot Vectors\n",
    "from sklearn.preprocessing import OneHotEncoder\n",
    "from mpl_toolkits.mplot3d import Axes3D\n",
    "\n",
    "\n",
    "import sys\n",
    "# sys.path.append(\"/Users/Work/Developer/interpretDL/interprettensor\")\n",
    "root_logdir = \"./tf_logs\"\n",
    "data_dir = \"data/\"\n",
    "figures_dir = \"data/figures/\"\n",
    "\n",
    "# To plot pretty figures\n",
    "%matplotlib widget\n",
    "import matplotlib\n",
    "import matplotlib.pyplot as plt\n",
    "plt.rcParams['axes.labelsize'] = 14\n",
    "plt.rcParams['xtick.labelsize'] = 12\n",
    "plt.rcParams['ytick.labelsize'] = 12\n",
    "\n",
    "# to make this notebook's output stable across runs\n",
    "def reset_graph(seed=42):\n",
    "    tf.reset_default_graph()\n",
    "    tf.set_random_seed(seed)\n",
    "    np.random.seed(seed)\n",
    "\n",
    "np.random.seed(seed=42) \n",
    "tf.__version__"
   ]
  },
  {
   "cell_type": "code",
   "execution_count": 5,
   "metadata": {},
   "outputs": [],
   "source": [
    "def get_split_index(features, labels):\n",
    "    features = np.array(features)\n",
    "    # The train set will have equal amounts of each target class\n",
    "    # Performing single split\n",
    "    split = StratifiedShuffleSplit(n_splits=1, test_size=0.2, random_state=42)\n",
    "    return [[train_index, test_index] for train_index,test_index in split.split(features, labels)]\n",
    "\n",
    "def plot_history(history):\n",
    "    plt.close(\"History\")\n",
    "    fig, axs = plt.subplots(1, 2, figsize=(12,6),num=\"History\")\n",
    "\n",
    "    # Plot training & validation accuracy values\n",
    "    axs[0].grid(True)\n",
    "    axs[0].plot(history.history['binary_accuracy'])\n",
    "    axs[0].plot(history.history['val_binary_accuracy'])\n",
    "    axs[0].set(title='Model accuracy', ylabel='Accuracy', xlabel='Epoch')\n",
    "    axs[0].legend(['Train', 'Test'], loc='upper left')\n",
    "\n",
    "    # Plot training & validation loss values\n",
    "    axs[1].grid(True)\n",
    "    axs[1].plot(history.history['loss'])\n",
    "    axs[1].plot(history.history['val_loss'])\n",
    "    axs[1].set(title='Model loss',ylabel='Loss', xlabel='Epoch')\n",
    "    axs[1].legend(['Train', 'Test'], loc='upper left')\n",
    "\n",
    "    plt.show()"
   ]
  },
  {
   "cell_type": "markdown",
   "metadata": {},
   "source": [
    "## Making 4 blobs"
   ]
  },
  {
   "cell_type": "code",
   "execution_count": 7,
   "metadata": {},
   "outputs": [
    {
     "data": {
      "application/vnd.jupyter.widget-view+json": {
       "model_id": "",
       "version_major": 2,
       "version_minor": 0
      },
      "text/plain": [
       "FigureCanvasNbAgg()"
      ]
     },
     "metadata": {},
     "output_type": "display_data"
    }
   ],
   "source": [
    "from sklearn.datasets.samples_generator import make_blobs\n",
    "# generate 2d classification dataset\n",
    "# X, y = make_circles(n_samples=100, noise=0)a\n",
    "class_size = 200\n",
    "centers = [(0,0),(1,0),(-1,0),(0,1),(0,-1)]\n",
    "n_samples = [class_size//(len(centers)-1)]*len(centers)\n",
    "n_samples[0] = class_size\n",
    "\n",
    "X, y = make_blobs(n_samples=n_samples, centers=centers, n_features=2, cluster_std=0.1, shuffle=False, random_state=42)\n",
    "\n",
    "plt.close(\"Original\")\n",
    "df = pd.DataFrame(dict(x=X[:,0], y=X[:,1], label=y))\n",
    "fig, ax = plt.subplots(num=\"Original\")\n",
    "colors = {0:'red', 1:'blue'}\n",
    "df.plot(ax=ax,kind=\"scatter\", x='x', y='y',c=\"label\", cmap= \"Paired\")\n",
    "# plt.colorbar()\n",
    "plt.show()\n",
    "\n",
    "modded_labels = y.copy()\n",
    "modded_samples = df[[\"x\",\"y\"]].copy()\n",
    "labels = df[\"label\"].copy()\n",
    "labels[labels > 0] = 1"
   ]
  },
  {
   "cell_type": "markdown",
   "metadata": {},
   "source": [
    "## Seperate out train, test set"
   ]
  },
  {
   "cell_type": "code",
   "execution_count": 8,
   "metadata": {},
   "outputs": [
    {
     "name": "stdout",
     "output_type": "stream",
     "text": [
      "Train Size: (320, 2)\n",
      "Test Size: (80,)\n",
      "Categories: [array([0, 1])]\n"
     ]
    }
   ],
   "source": [
    "train_index, test_index = get_split_index(modded_samples, modded_labels)[0]\n",
    "features = modded_samples.copy()\n",
    "X_train = features.iloc[train_index]\n",
    "y_train = labels.iloc[train_index]\n",
    "X_test = features.iloc[test_index]\n",
    "y_test = labels.iloc[test_index]\n",
    "\n",
    "\n",
    "print(\"Train Size:\", X_train.shape)\n",
    "print(\"Test Size:\", y_test.shape)\n",
    "\n",
    "\n",
    "hot_encoder = OneHotEncoder(categories=\"auto\", sparse=False)\n",
    "hot_encoder.fit(labels.values.reshape(-1,1)) # Since the function expects an array of \"features\" per sample\n",
    "print(\"Categories:\", hot_encoder.categories_)\n",
    "# X_test, y_test.values"
   ]
  },
  {
   "cell_type": "code",
   "execution_count": 9,
   "metadata": {},
   "outputs": [],
   "source": [
    "NUM_FEATURES = X_train.shape[1]\n",
    "NUM_LABELS = len(hot_encoder.categories_[0])"
   ]
  },
  {
   "cell_type": "markdown",
   "metadata": {},
   "source": [
    "### Train a DNN on the modified dataset\n",
    "> Does not use any normalization"
   ]
  },
  {
   "cell_type": "code",
   "execution_count": 14,
   "metadata": {},
   "outputs": [],
   "source": [
    "def build_dnn(num_features, num_labels=3):\n",
    "\n",
    "#     reset_graph()\n",
    "    \n",
    "    keras.backend.clear_session()\n",
    "\n",
    "    nn = keras.models.Sequential()\n",
    "    Dense = keras.layers.Dense\n",
    "    \n",
    "    # Using He initialization\n",
    "    he_init = tf.keras.initializers.he_uniform()\n",
    "    \n",
    "    nn.add(Dense(units = 12, activation=\"elu\", input_dim=num_features,\n",
    "                kernel_initializer=he_init))\n",
    "    nn.add(Dense(units = 12, activation=\"elu\",\n",
    "                kernel_initializer=he_init))\n",
    "    nn.add(Dense(units=1, activation= \"sigmoid\",\n",
    "                kernel_initializer=he_init))\n",
    "\n",
    "#     BCE = tf.keras.losses.BinaryCrossentropy(from_logits=True)\n",
    "    \n",
    "    nn.compile(loss=\"binary_crossentropy\",\n",
    "                  optimizer='sgd',\n",
    "                  metrics=['binary_accuracy'])\n",
    "    \n",
    "    return nn\n",
    "\n",
    "def train_model(model, X, y, X_test=[], y_test=[], epochs=30, batch_size=20, verbose=1, plot=True):\n",
    "    \n",
    "    ZScaler = []\n",
    "    callback_list = []\n",
    "    \n",
    "    X_train = X\n",
    "    y_train = y.values\n",
    "    y_test = y_test.values\n",
    "    \n",
    "    \n",
    "    history = model.fit(X_train, y_train, epochs=epochs, batch_size = batch_size,\n",
    "                        validation_data=(X_test, y_test), callbacks=callback_list, verbose=verbose)\n",
    "    \n",
    "#     if plot: plot_history(history)\n",
    "    \n",
    "    return history, ZScaler\n"
   ]
  },
  {
   "cell_type": "code",
   "execution_count": 15,
   "metadata": {},
   "outputs": [
    {
     "name": "stdout",
     "output_type": "stream",
     "text": [
      "WARNING:tensorflow:From /Users/Work/anaconda3/envs/condaflow/lib/python3.6/site-packages/tensorflow/python/ops/math_ops.py:3066: to_int32 (from tensorflow.python.ops.math_ops) is deprecated and will be removed in a future version.\n",
      "Instructions for updating:\n",
      "Use tf.cast instead.\n",
      "Train on 320 samples, validate on 80 samples\n",
      "Epoch 1/50\n",
      "320/320 [==============================] - 0s 650us/step - loss: 0.8427 - binary_accuracy: 0.4094 - val_loss: 0.7724 - val_binary_accuracy: 0.5500\n",
      "Epoch 2/50\n",
      "320/320 [==============================] - 0s 48us/step - loss: 0.7642 - binary_accuracy: 0.4906 - val_loss: 0.7090 - val_binary_accuracy: 0.6250\n",
      "Epoch 3/50\n",
      "320/320 [==============================] - 0s 66us/step - loss: 0.7038 - binary_accuracy: 0.5563 - val_loss: 0.6610 - val_binary_accuracy: 0.6875\n",
      "Epoch 4/50\n",
      "320/320 [==============================] - 0s 62us/step - loss: 0.6568 - binary_accuracy: 0.6406 - val_loss: 0.6234 - val_binary_accuracy: 0.7500\n",
      "Epoch 5/50\n",
      "320/320 [==============================] - 0s 59us/step - loss: 0.6199 - binary_accuracy: 0.6906 - val_loss: 0.5929 - val_binary_accuracy: 0.7500\n",
      "Epoch 6/50\n",
      "320/320 [==============================] - 0s 52us/step - loss: 0.5896 - binary_accuracy: 0.8156 - val_loss: 0.5669 - val_binary_accuracy: 0.9125\n",
      "Epoch 7/50\n",
      "320/320 [==============================] - 0s 50us/step - loss: 0.5638 - binary_accuracy: 0.8781 - val_loss: 0.5436 - val_binary_accuracy: 0.9125\n",
      "Epoch 8/50\n",
      "320/320 [==============================] - 0s 58us/step - loss: 0.5406 - binary_accuracy: 0.9312 - val_loss: 0.5221 - val_binary_accuracy: 0.9375\n",
      "Epoch 9/50\n",
      "320/320 [==============================] - 0s 62us/step - loss: 0.5189 - binary_accuracy: 0.9656 - val_loss: 0.5016 - val_binary_accuracy: 0.9625\n",
      "Epoch 10/50\n",
      "320/320 [==============================] - 0s 58us/step - loss: 0.4983 - binary_accuracy: 0.9812 - val_loss: 0.4820 - val_binary_accuracy: 0.9875\n",
      "Epoch 11/50\n",
      "320/320 [==============================] - 0s 52us/step - loss: 0.4789 - binary_accuracy: 0.9906 - val_loss: 0.4630 - val_binary_accuracy: 1.0000\n",
      "Epoch 12/50\n",
      "320/320 [==============================] - 0s 47us/step - loss: 0.4600 - binary_accuracy: 0.9969 - val_loss: 0.4445 - val_binary_accuracy: 1.0000\n",
      "Epoch 13/50\n",
      "320/320 [==============================] - 0s 53us/step - loss: 0.4417 - binary_accuracy: 0.9969 - val_loss: 0.4264 - val_binary_accuracy: 1.0000\n",
      "Epoch 14/50\n",
      "320/320 [==============================] - 0s 60us/step - loss: 0.4239 - binary_accuracy: 1.0000 - val_loss: 0.4087 - val_binary_accuracy: 1.0000\n",
      "Epoch 15/50\n",
      "320/320 [==============================] - 0s 55us/step - loss: 0.4066 - binary_accuracy: 1.0000 - val_loss: 0.3916 - val_binary_accuracy: 1.0000\n",
      "Epoch 16/50\n",
      "320/320 [==============================] - 0s 51us/step - loss: 0.3897 - binary_accuracy: 1.0000 - val_loss: 0.3748 - val_binary_accuracy: 1.0000\n",
      "Epoch 17/50\n",
      "320/320 [==============================] - 0s 47us/step - loss: 0.3734 - binary_accuracy: 1.0000 - val_loss: 0.3586 - val_binary_accuracy: 1.0000\n",
      "Epoch 18/50\n",
      "320/320 [==============================] - 0s 54us/step - loss: 0.3574 - binary_accuracy: 1.0000 - val_loss: 0.3429 - val_binary_accuracy: 1.0000\n",
      "Epoch 19/50\n",
      "320/320 [==============================] - 0s 62us/step - loss: 0.3422 - binary_accuracy: 1.0000 - val_loss: 0.3277 - val_binary_accuracy: 1.0000\n",
      "Epoch 20/50\n",
      "320/320 [==============================] - 0s 56us/step - loss: 0.3273 - binary_accuracy: 1.0000 - val_loss: 0.3130 - val_binary_accuracy: 1.0000\n",
      "Epoch 21/50\n",
      "320/320 [==============================] - 0s 54us/step - loss: 0.3131 - binary_accuracy: 1.0000 - val_loss: 0.2989 - val_binary_accuracy: 1.0000\n",
      "Epoch 22/50\n",
      "320/320 [==============================] - 0s 49us/step - loss: 0.2994 - binary_accuracy: 1.0000 - val_loss: 0.2853 - val_binary_accuracy: 1.0000\n",
      "Epoch 23/50\n",
      "320/320 [==============================] - 0s 319us/step - loss: 0.2861 - binary_accuracy: 1.0000 - val_loss: 0.2723 - val_binary_accuracy: 1.0000\n",
      "Epoch 24/50\n",
      "320/320 [==============================] - 0s 54us/step - loss: 0.2736 - binary_accuracy: 1.0000 - val_loss: 0.2599 - val_binary_accuracy: 1.0000\n",
      "Epoch 25/50\n",
      "320/320 [==============================] - 0s 48us/step - loss: 0.2616 - binary_accuracy: 1.0000 - val_loss: 0.2481 - val_binary_accuracy: 1.0000\n",
      "Epoch 26/50\n",
      "320/320 [==============================] - 0s 46us/step - loss: 0.2501 - binary_accuracy: 1.0000 - val_loss: 0.2368 - val_binary_accuracy: 1.0000\n",
      "Epoch 27/50\n",
      "320/320 [==============================] - 0s 46us/step - loss: 0.2392 - binary_accuracy: 1.0000 - val_loss: 0.2261 - val_binary_accuracy: 1.0000\n",
      "Epoch 28/50\n",
      "320/320 [==============================] - 0s 45us/step - loss: 0.2287 - binary_accuracy: 1.0000 - val_loss: 0.2159 - val_binary_accuracy: 1.0000\n",
      "Epoch 29/50\n",
      "320/320 [==============================] - 0s 54us/step - loss: 0.2189 - binary_accuracy: 1.0000 - val_loss: 0.2062 - val_binary_accuracy: 1.0000\n",
      "Epoch 30/50\n",
      "320/320 [==============================] - 0s 51us/step - loss: 0.2095 - binary_accuracy: 1.0000 - val_loss: 0.1970 - val_binary_accuracy: 1.0000\n",
      "Epoch 31/50\n",
      "320/320 [==============================] - 0s 50us/step - loss: 0.2007 - binary_accuracy: 1.0000 - val_loss: 0.1884 - val_binary_accuracy: 1.0000\n",
      "Epoch 32/50\n",
      "320/320 [==============================] - 0s 46us/step - loss: 0.1923 - binary_accuracy: 1.0000 - val_loss: 0.1802 - val_binary_accuracy: 1.0000\n",
      "Epoch 33/50\n",
      "320/320 [==============================] - 0s 44us/step - loss: 0.1843 - binary_accuracy: 1.0000 - val_loss: 0.1724 - val_binary_accuracy: 1.0000\n",
      "Epoch 34/50\n",
      "320/320 [==============================] - 0s 56us/step - loss: 0.1768 - binary_accuracy: 1.0000 - val_loss: 0.1651 - val_binary_accuracy: 1.0000\n",
      "Epoch 35/50\n",
      "320/320 [==============================] - 0s 53us/step - loss: 0.1697 - binary_accuracy: 1.0000 - val_loss: 0.1581 - val_binary_accuracy: 1.0000\n",
      "Epoch 36/50\n",
      "320/320 [==============================] - 0s 53us/step - loss: 0.1629 - binary_accuracy: 1.0000 - val_loss: 0.1515 - val_binary_accuracy: 1.0000\n",
      "Epoch 37/50\n",
      "320/320 [==============================] - 0s 47us/step - loss: 0.1566 - binary_accuracy: 1.0000 - val_loss: 0.1453 - val_binary_accuracy: 1.0000\n",
      "Epoch 38/50\n",
      "320/320 [==============================] - 0s 46us/step - loss: 0.1506 - binary_accuracy: 1.0000 - val_loss: 0.1395 - val_binary_accuracy: 1.0000\n",
      "Epoch 39/50\n",
      "320/320 [==============================] - 0s 46us/step - loss: 0.1448 - binary_accuracy: 1.0000 - val_loss: 0.1339 - val_binary_accuracy: 1.0000\n",
      "Epoch 40/50\n",
      "320/320 [==============================] - 0s 53us/step - loss: 0.1394 - binary_accuracy: 1.0000 - val_loss: 0.1287 - val_binary_accuracy: 1.0000\n",
      "Epoch 41/50\n",
      "320/320 [==============================] - 0s 54us/step - loss: 0.1342 - binary_accuracy: 1.0000 - val_loss: 0.1238 - val_binary_accuracy: 1.0000\n",
      "Epoch 42/50\n",
      "320/320 [==============================] - 0s 48us/step - loss: 0.1295 - binary_accuracy: 1.0000 - val_loss: 0.1191 - val_binary_accuracy: 1.0000\n",
      "Epoch 43/50\n",
      "320/320 [==============================] - 0s 49us/step - loss: 0.1248 - binary_accuracy: 1.0000 - val_loss: 0.1146 - val_binary_accuracy: 1.0000\n",
      "Epoch 44/50\n",
      "320/320 [==============================] - 0s 47us/step - loss: 0.1205 - binary_accuracy: 1.0000 - val_loss: 0.1104 - val_binary_accuracy: 1.0000\n",
      "Epoch 45/50\n",
      "320/320 [==============================] - 0s 47us/step - loss: 0.1164 - binary_accuracy: 1.0000 - val_loss: 0.1064 - val_binary_accuracy: 1.0000\n",
      "Epoch 46/50\n",
      "320/320 [==============================] - 0s 50us/step - loss: 0.1124 - binary_accuracy: 1.0000 - val_loss: 0.1027 - val_binary_accuracy: 1.0000\n",
      "Epoch 47/50\n",
      "320/320 [==============================] - 0s 64us/step - loss: 0.1087 - binary_accuracy: 1.0000 - val_loss: 0.0991 - val_binary_accuracy: 1.0000\n",
      "Epoch 48/50\n",
      "320/320 [==============================] - 0s 52us/step - loss: 0.1052 - binary_accuracy: 1.0000 - val_loss: 0.0957 - val_binary_accuracy: 1.0000\n",
      "Epoch 49/50\n",
      "320/320 [==============================] - 0s 47us/step - loss: 0.1018 - binary_accuracy: 1.0000 - val_loss: 0.0925 - val_binary_accuracy: 1.0000\n",
      "Epoch 50/50\n",
      "320/320 [==============================] - 0s 44us/step - loss: 0.0987 - binary_accuracy: 1.0000 - val_loss: 0.0894 - val_binary_accuracy: 1.0000\n",
      "CPU times: user 1.91 s, sys: 436 ms, total: 2.35 s\n",
      "Wall time: 1.34 s\n"
     ]
    }
   ],
   "source": [
    "nn = build_dnn(NUM_FEATURES)\n",
    "%time history, Zscaler = train_model(nn, X_train, y_train, X_test, y_test, epochs=50, batch_size=20)"
   ]
  },
  {
   "cell_type": "code",
   "execution_count": 16,
   "metadata": {},
   "outputs": [
    {
     "data": {
      "application/vnd.jupyter.widget-view+json": {
       "model_id": "",
       "version_major": 2,
       "version_minor": 0
      },
      "text/plain": [
       "FigureCanvasNbAgg()"
      ]
     },
     "metadata": {},
     "output_type": "display_data"
    }
   ],
   "source": [
    "# Plotting results from history\n",
    "plot_history(history)"
   ]
  },
  {
   "cell_type": "code",
   "execution_count": 17,
   "metadata": {},
   "outputs": [
    {
     "name": "stdout",
     "output_type": "stream",
     "text": [
      "80/80 [==============================] - 0s 28us/step\n"
     ]
    },
    {
     "data": {
      "text/plain": [
       "[0.08940797597169876, 1.0]"
      ]
     },
     "execution_count": 17,
     "metadata": {},
     "output_type": "execute_result"
    }
   ],
   "source": [
    "nn.predict(X_test)\n",
    "_labels = [np.float(x) for x in y_test]\n",
    "nn.evaluate(X_test, y_test)"
   ]
  },
  {
   "cell_type": "code",
   "execution_count": 113,
   "metadata": {},
   "outputs": [],
   "source": [
    "# sess = tf.Session()\n",
    "# predictions = nn.predict(Zscaler.transform(modded_samples))\n",
    "# predictions = nn.predict(modded_samples)\n",
    "# _labels = [np.float(x) for x in labels]\n",
    "\n",
    "# sess.run(keras.metrics.binary_accuracy(_labels,predictions.flatten()))\n",
    "# # predictions[0][0]\n",
    "# # _labels\n",
    "# # nn.evaluate(Zscaler.transform(modded_samples),labels.values)\n",
    "# # nn.evaluate(modded_samples,labels.values)\n",
    "\n"
   ]
  },
  {
   "cell_type": "markdown",
   "metadata": {},
   "source": [
    "## Performing SVM on Modded Samples"
   ]
  },
  {
   "cell_type": "code",
   "execution_count": 19,
   "metadata": {},
   "outputs": [
    {
     "name": "stdout",
     "output_type": "stream",
     "text": [
      "CPU times: user 2.63 ms, sys: 151 µs, total: 2.79 ms\n",
      "Wall time: 2.72 ms\n"
     ]
    },
    {
     "data": {
      "text/plain": [
       "1.0"
      ]
     },
     "execution_count": 19,
     "metadata": {},
     "output_type": "execute_result"
    }
   ],
   "source": [
    "from sklearn.svm import SVC\n",
    "from sklearn.pipeline import Pipeline\n",
    "\n",
    "svm_clf = Pipeline([\n",
    "#     (\"scaler\", StandardScaler()),\n",
    "    (\"SVM\", SVC(kernel= \"rbf\", gamma= \"scale\", C=1))\n",
    "])\n",
    "\n",
    "%time svm_clf.fit(X_train, y_train)\n",
    "svm_clf.score(X_test, y_test)"
   ]
  },
  {
   "cell_type": "markdown",
   "metadata": {},
   "source": [
    "## Performing LRP"
   ]
  },
  {
   "cell_type": "code",
   "execution_count": 30,
   "metadata": {},
   "outputs": [
    {
     "name": "stdout",
     "output_type": "stream",
     "text": [
      "SANITY CHECK\n",
      "80/80 [==============================] - 0s 34us/step\n",
      "Scores on test set: loss=0.089 accuracy=1.0000\n"
     ]
    }
   ],
   "source": [
    "model = nn\n",
    "scaled_samples = X_test\n",
    "_labels = y_test\n",
    "\n",
    "predictions = model.predict(scaled_samples)\n",
    "preds = np.array([np.round(x[0]) for x in predictions])\n",
    "true_labels = [np.float(x) for x in _labels]\n",
    "\n",
    "\n",
    "# For test population that was correctly classified\n",
    "correct = preds == true_labels\n",
    "\n",
    "# Get correctly predicted samples,labels along with their original labels\n",
    "original_labels = modded_labels[test_index][correct]\n",
    "correct_samples = scaled_samples[correct]\n",
    "correct_labels = _labels[correct]\n",
    "\n",
    "print(\"SANITY CHECK\")\n",
    "loss_and_metrics = model.evaluate(correct_samples, correct_labels)\n",
    "print(\"Scores on test set: loss={:0.3f} accuracy={:.4f}\".format(*loss_and_metrics))"
   ]
  },
  {
   "cell_type": "code",
   "execution_count": 33,
   "metadata": {},
   "outputs": [
    {
     "name": "stdout",
     "output_type": "stream",
     "text": [
      "Class Distribution\n"
     ]
    },
    {
     "data": {
      "text/plain": [
       "0    40\n",
       "4    10\n",
       "3    10\n",
       "2    10\n",
       "1    10\n",
       "dtype: int64"
      ]
     },
     "execution_count": 33,
     "metadata": {},
     "output_type": "execute_result"
    }
   ],
   "source": [
    "print(\"Class Distribution\")\n",
    "pd.Series(original_labels).value_counts()"
   ]
  },
  {
   "cell_type": "code",
   "execution_count": 34,
   "metadata": {},
   "outputs": [],
   "source": [
    "import innvestigate\n",
    "import innvestigate.utils as iutils\n",
    "\n",
    "def perform_analysis(model, analyzer, data, labels):\n",
    "    analysis = analyzer.analyze(data)\n",
    "    prediction = model.predict(data)\n",
    "    \n",
    "    df_anal = pd.DataFrame(analysis)\n",
    "    \n",
    "    return df_anal\n",
    "\n",
    "\n",
    "# Stripping the softmax activation from the model\n",
    "# model_wo_sm = iutils.keras.graph.model_wo_softmax(model)\n",
    "\n",
    "# Creating an analyzer\n",
    "lrp_E = innvestigate.analyzer.relevance_based.relevance_analyzer.LRPEpsilon(model=model, epsilon=1e-3)\n",
    "lrp_Z = innvestigate.analyzer.relevance_based.relevance_analyzer.LRPZPlus(model=model)\n",
    "lrp_AB   = innvestigate.analyzer.relevance_based.relevance_analyzer.LRPAlpha2Beta1(model=model)\n",
    "\n",
    "# Getting all the samples that can be correctly predicted\n",
    "test_idx = correct\n",
    "all_samples = scaled_samples[test_idx]\n",
    "all_labels = y_test[test_idx]\n",
    "\n",
    "\n",
    "# perform_analysis(nn,gradient_analyzer,flowers,types)\n",
    "all_lrp_AB = perform_analysis(model,lrp_AB, all_samples, all_labels)\n",
    "all_lrp_E = perform_analysis(model,lrp_E, all_samples, all_labels)\n",
    "all_lrp_Z = perform_analysis(model,lrp_Z, all_samples, all_labels)\n"
   ]
  },
  {
   "cell_type": "code",
   "execution_count": 37,
   "metadata": {},
   "outputs": [
    {
     "data": {
      "application/vnd.jupyter.widget-view+json": {
       "model_id": "697502298f0043a4be6b06b1a16462af",
       "version_major": 2,
       "version_minor": 0
      },
      "text/plain": [
       "FigureCanvasNbAgg()"
      ]
     },
     "metadata": {},
     "output_type": "display_data"
    }
   ],
   "source": [
    "plt.close(\"Comparison\")\n",
    "fig, axs = plt.subplots(2,2, figsize=(12,10), num=\"Comparison\")\n",
    "_labels = original_labels\n",
    "\n",
    "df.plot(ax=axs[0][0],kind=\"scatter\", x='x', y='y',c=\"label\", cmap= \"Paired\", title=\"Original Distribution\")\n",
    "all_lrp_E.plot(ax=axs[0][1],kind=\"scatter\", x=0, y=1, c=_labels, cmap=\"Paired\", s=20, alpha=0.75, title=\"LRP E\")\n",
    "\n",
    "all_lrp_AB.plot(ax=axs[1][0],kind=\"scatter\", x=0, y=1, c=_labels, cmap=\"Paired\", s=20, alpha=0.75, title=\"LRP AB\")\n",
    "all_lrp_Z.plot(ax=axs[1][1],kind=\"scatter\", x=0, y=1, c=_labels, cmap=\"Paired\", s=20, alpha=0.75, title=\"LRP Z\")\n",
    "\n",
    "# plt.tight_layout()\n",
    "plt.savefig(figures_dir+\"4 subclass LRP.png\")\n",
    "plt.show()"
   ]
  },
  {
   "cell_type": "code",
   "execution_count": null,
   "metadata": {},
   "outputs": [],
   "source": []
  }
 ],
 "metadata": {
  "kernelspec": {
   "display_name": "condaflow",
   "language": "python",
   "name": "condaflow"
  },
  "language_info": {
   "codemirror_mode": {
    "name": "ipython",
    "version": 3
   },
   "file_extension": ".py",
   "mimetype": "text/x-python",
   "name": "python",
   "nbconvert_exporter": "python",
   "pygments_lexer": "ipython3",
   "version": "3.6.8"
  }
 },
 "nbformat": 4,
 "nbformat_minor": 2
}
